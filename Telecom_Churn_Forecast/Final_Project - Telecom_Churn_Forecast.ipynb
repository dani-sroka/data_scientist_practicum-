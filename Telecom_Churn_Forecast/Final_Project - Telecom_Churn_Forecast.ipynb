{
 "cells": [
  {
   "cell_type": "markdown",
   "metadata": {},
   "source": [
    "# Final Project - Churn forecast (churn risk estimation) "
   ]
  },
  {
   "cell_type": "markdown",
   "metadata": {},
   "source": [
    "Solution Code and Report submitted to the team leader: \n",
    "\n",
    "**Project Goal**:\n",
    "\n",
    "Develop a model for churn risk esimation, of customers of the telecom operator Interconnect, in order to enable the company to offer at-risk customers promotional codes and special plan options. The model's primary metric is AUC-ROC, it must be above 0.75, preferably above 0.88\n",
    "\n",
    "Please see below:\n",
    "\n",
    "   **Solution Code and Report** \n",
    "\n",
    "**Executive Summary**: A model was developed, following preprocessing, that performed (on test set) AUC-ROC of 0.9367"
   ]
  },
  {
   "cell_type": "markdown",
   "metadata": {},
   "source": [
    "## Data loading and initial pre-processing\n",
    "\n",
    "### Data Loading and inspection"
   ]
  },
  {
   "cell_type": "code",
   "execution_count": 2,
   "metadata": {},
   "outputs": [],
   "source": [
    "# Import libraries etc. \n",
    "import numpy as np\n",
    "import pandas as pd\n",
    "import matplotlib.pyplot as plt\n",
    "\n",
    "import seaborn as sns\n",
    "\n",
    "import sklearn.linear_model\n",
    "import sklearn.metrics\n",
    "import sklearn.neighbors\n",
    "import sklearn.preprocessing\n",
    "\n",
    "from sklearn.model_selection import train_test_split\n",
    "\n",
    "from IPython.display import display\n",
    "\n",
    "from sklearn.preprocessing import OrdinalEncoder, LabelEncoder\n",
    "from sklearn.metrics import mean_squared_error\n",
    "import warnings\n",
    "warnings.filterwarnings(\"ignore\")"
   ]
  },
  {
   "cell_type": "code",
   "execution_count": 3,
   "metadata": {},
   "outputs": [],
   "source": [
    "# load the contract data into a df\n",
    "contract = pd.read_csv('/datasets/final_provider/contract.csv')"
   ]
  },
  {
   "cell_type": "code",
   "execution_count": 4,
   "metadata": {},
   "outputs": [],
   "source": [
    "# load the personal data into a df\n",
    "personal = pd.read_csv('/datasets/final_provider/personal.csv')"
   ]
  },
  {
   "cell_type": "code",
   "execution_count": 5,
   "metadata": {},
   "outputs": [],
   "source": [
    "# load the internet data into a df\n",
    "internet = pd.read_csv('/datasets/final_provider/internet.csv')"
   ]
  },
  {
   "cell_type": "code",
   "execution_count": 6,
   "metadata": {},
   "outputs": [],
   "source": [
    "# load the phone data into a df\n",
    "phone = pd.read_csv('/datasets/final_provider/phone.csv')"
   ]
  },
  {
   "cell_type": "markdown",
   "metadata": {},
   "source": [
    "We will now look at the **general info** and **head** of each data file - assuring no missing values and no duplicates\n",
    "\n",
    "**contract**\n",
    "\n",
    "(The contract information is valid as of February 1, 2020) "
   ]
  },
  {
   "cell_type": "code",
   "execution_count": 7,
   "metadata": {
    "scrolled": true
   },
   "outputs": [
    {
     "name": "stdout",
     "output_type": "stream",
     "text": [
      "<class 'pandas.core.frame.DataFrame'>\n",
      "RangeIndex: 7043 entries, 0 to 7042\n",
      "Data columns (total 8 columns):\n",
      " #   Column            Non-Null Count  Dtype  \n",
      "---  ------            --------------  -----  \n",
      " 0   customerID        7043 non-null   object \n",
      " 1   BeginDate         7043 non-null   object \n",
      " 2   EndDate           7043 non-null   object \n",
      " 3   Type              7043 non-null   object \n",
      " 4   PaperlessBilling  7043 non-null   object \n",
      " 5   PaymentMethod     7043 non-null   object \n",
      " 6   MonthlyCharges    7043 non-null   float64\n",
      " 7   TotalCharges      7043 non-null   object \n",
      "dtypes: float64(1), object(7)\n",
      "memory usage: 440.3+ KB\n"
     ]
    }
   ],
   "source": [
    "contract.info()"
   ]
  },
  {
   "cell_type": "code",
   "execution_count": 8,
   "metadata": {
    "scrolled": false
   },
   "outputs": [
    {
     "data": {
      "text/html": [
       "<div>\n",
       "<style scoped>\n",
       "    .dataframe tbody tr th:only-of-type {\n",
       "        vertical-align: middle;\n",
       "    }\n",
       "\n",
       "    .dataframe tbody tr th {\n",
       "        vertical-align: top;\n",
       "    }\n",
       "\n",
       "    .dataframe thead th {\n",
       "        text-align: right;\n",
       "    }\n",
       "</style>\n",
       "<table border=\"1\" class=\"dataframe\">\n",
       "  <thead>\n",
       "    <tr style=\"text-align: right;\">\n",
       "      <th></th>\n",
       "      <th>customerID</th>\n",
       "      <th>BeginDate</th>\n",
       "      <th>EndDate</th>\n",
       "      <th>Type</th>\n",
       "      <th>PaperlessBilling</th>\n",
       "      <th>PaymentMethod</th>\n",
       "      <th>MonthlyCharges</th>\n",
       "      <th>TotalCharges</th>\n",
       "    </tr>\n",
       "  </thead>\n",
       "  <tbody>\n",
       "    <tr>\n",
       "      <th>0</th>\n",
       "      <td>7590-VHVEG</td>\n",
       "      <td>2020-01-01</td>\n",
       "      <td>No</td>\n",
       "      <td>Month-to-month</td>\n",
       "      <td>Yes</td>\n",
       "      <td>Electronic check</td>\n",
       "      <td>29.85</td>\n",
       "      <td>29.85</td>\n",
       "    </tr>\n",
       "    <tr>\n",
       "      <th>1</th>\n",
       "      <td>5575-GNVDE</td>\n",
       "      <td>2017-04-01</td>\n",
       "      <td>No</td>\n",
       "      <td>One year</td>\n",
       "      <td>No</td>\n",
       "      <td>Mailed check</td>\n",
       "      <td>56.95</td>\n",
       "      <td>1889.5</td>\n",
       "    </tr>\n",
       "    <tr>\n",
       "      <th>2</th>\n",
       "      <td>3668-QPYBK</td>\n",
       "      <td>2019-10-01</td>\n",
       "      <td>2019-12-01 00:00:00</td>\n",
       "      <td>Month-to-month</td>\n",
       "      <td>Yes</td>\n",
       "      <td>Mailed check</td>\n",
       "      <td>53.85</td>\n",
       "      <td>108.15</td>\n",
       "    </tr>\n",
       "    <tr>\n",
       "      <th>3</th>\n",
       "      <td>7795-CFOCW</td>\n",
       "      <td>2016-05-01</td>\n",
       "      <td>No</td>\n",
       "      <td>One year</td>\n",
       "      <td>No</td>\n",
       "      <td>Bank transfer (automatic)</td>\n",
       "      <td>42.30</td>\n",
       "      <td>1840.75</td>\n",
       "    </tr>\n",
       "    <tr>\n",
       "      <th>4</th>\n",
       "      <td>9237-HQITU</td>\n",
       "      <td>2019-09-01</td>\n",
       "      <td>2019-11-01 00:00:00</td>\n",
       "      <td>Month-to-month</td>\n",
       "      <td>Yes</td>\n",
       "      <td>Electronic check</td>\n",
       "      <td>70.70</td>\n",
       "      <td>151.65</td>\n",
       "    </tr>\n",
       "  </tbody>\n",
       "</table>\n",
       "</div>"
      ],
      "text/plain": [
       "   customerID   BeginDate              EndDate            Type  \\\n",
       "0  7590-VHVEG  2020-01-01                   No  Month-to-month   \n",
       "1  5575-GNVDE  2017-04-01                   No        One year   \n",
       "2  3668-QPYBK  2019-10-01  2019-12-01 00:00:00  Month-to-month   \n",
       "3  7795-CFOCW  2016-05-01                   No        One year   \n",
       "4  9237-HQITU  2019-09-01  2019-11-01 00:00:00  Month-to-month   \n",
       "\n",
       "  PaperlessBilling              PaymentMethod  MonthlyCharges TotalCharges  \n",
       "0              Yes           Electronic check           29.85        29.85  \n",
       "1               No               Mailed check           56.95       1889.5  \n",
       "2              Yes               Mailed check           53.85       108.15  \n",
       "3               No  Bank transfer (automatic)           42.30      1840.75  \n",
       "4              Yes           Electronic check           70.70       151.65  "
      ]
     },
     "execution_count": 8,
     "metadata": {},
     "output_type": "execute_result"
    }
   ],
   "source": [
    "contract.head()"
   ]
  },
  {
   "cell_type": "code",
   "execution_count": 9,
   "metadata": {
    "scrolled": true
   },
   "outputs": [
    {
     "data": {
      "text/html": [
       "<div>\n",
       "<style scoped>\n",
       "    .dataframe tbody tr th:only-of-type {\n",
       "        vertical-align: middle;\n",
       "    }\n",
       "\n",
       "    .dataframe tbody tr th {\n",
       "        vertical-align: top;\n",
       "    }\n",
       "\n",
       "    .dataframe thead th {\n",
       "        text-align: right;\n",
       "    }\n",
       "</style>\n",
       "<table border=\"1\" class=\"dataframe\">\n",
       "  <thead>\n",
       "    <tr style=\"text-align: right;\">\n",
       "      <th></th>\n",
       "      <th>customerID</th>\n",
       "      <th>BeginDate</th>\n",
       "      <th>EndDate</th>\n",
       "      <th>Type</th>\n",
       "      <th>PaperlessBilling</th>\n",
       "      <th>PaymentMethod</th>\n",
       "      <th>MonthlyCharges</th>\n",
       "      <th>TotalCharges</th>\n",
       "    </tr>\n",
       "  </thead>\n",
       "  <tbody>\n",
       "    <tr>\n",
       "      <th>488</th>\n",
       "      <td>4472-LVYGI</td>\n",
       "      <td>2020-02-01</td>\n",
       "      <td>No</td>\n",
       "      <td>Two year</td>\n",
       "      <td>Yes</td>\n",
       "      <td>Bank transfer (automatic)</td>\n",
       "      <td>52.55</td>\n",
       "      <td></td>\n",
       "    </tr>\n",
       "    <tr>\n",
       "      <th>753</th>\n",
       "      <td>3115-CZMZD</td>\n",
       "      <td>2020-02-01</td>\n",
       "      <td>No</td>\n",
       "      <td>Two year</td>\n",
       "      <td>No</td>\n",
       "      <td>Mailed check</td>\n",
       "      <td>20.25</td>\n",
       "      <td></td>\n",
       "    </tr>\n",
       "    <tr>\n",
       "      <th>936</th>\n",
       "      <td>5709-LVOEQ</td>\n",
       "      <td>2020-02-01</td>\n",
       "      <td>No</td>\n",
       "      <td>Two year</td>\n",
       "      <td>No</td>\n",
       "      <td>Mailed check</td>\n",
       "      <td>80.85</td>\n",
       "      <td></td>\n",
       "    </tr>\n",
       "    <tr>\n",
       "      <th>1082</th>\n",
       "      <td>4367-NUYAO</td>\n",
       "      <td>2020-02-01</td>\n",
       "      <td>No</td>\n",
       "      <td>Two year</td>\n",
       "      <td>No</td>\n",
       "      <td>Mailed check</td>\n",
       "      <td>25.75</td>\n",
       "      <td></td>\n",
       "    </tr>\n",
       "    <tr>\n",
       "      <th>1340</th>\n",
       "      <td>1371-DWPAZ</td>\n",
       "      <td>2020-02-01</td>\n",
       "      <td>No</td>\n",
       "      <td>Two year</td>\n",
       "      <td>No</td>\n",
       "      <td>Credit card (automatic)</td>\n",
       "      <td>56.05</td>\n",
       "      <td></td>\n",
       "    </tr>\n",
       "    <tr>\n",
       "      <th>3331</th>\n",
       "      <td>7644-OMVMY</td>\n",
       "      <td>2020-02-01</td>\n",
       "      <td>No</td>\n",
       "      <td>Two year</td>\n",
       "      <td>No</td>\n",
       "      <td>Mailed check</td>\n",
       "      <td>19.85</td>\n",
       "      <td></td>\n",
       "    </tr>\n",
       "    <tr>\n",
       "      <th>3826</th>\n",
       "      <td>3213-VVOLG</td>\n",
       "      <td>2020-02-01</td>\n",
       "      <td>No</td>\n",
       "      <td>Two year</td>\n",
       "      <td>No</td>\n",
       "      <td>Mailed check</td>\n",
       "      <td>25.35</td>\n",
       "      <td></td>\n",
       "    </tr>\n",
       "    <tr>\n",
       "      <th>4380</th>\n",
       "      <td>2520-SGTTA</td>\n",
       "      <td>2020-02-01</td>\n",
       "      <td>No</td>\n",
       "      <td>Two year</td>\n",
       "      <td>No</td>\n",
       "      <td>Mailed check</td>\n",
       "      <td>20.00</td>\n",
       "      <td></td>\n",
       "    </tr>\n",
       "    <tr>\n",
       "      <th>5218</th>\n",
       "      <td>2923-ARZLG</td>\n",
       "      <td>2020-02-01</td>\n",
       "      <td>No</td>\n",
       "      <td>One year</td>\n",
       "      <td>Yes</td>\n",
       "      <td>Mailed check</td>\n",
       "      <td>19.70</td>\n",
       "      <td></td>\n",
       "    </tr>\n",
       "    <tr>\n",
       "      <th>6670</th>\n",
       "      <td>4075-WKNIU</td>\n",
       "      <td>2020-02-01</td>\n",
       "      <td>No</td>\n",
       "      <td>Two year</td>\n",
       "      <td>No</td>\n",
       "      <td>Mailed check</td>\n",
       "      <td>73.35</td>\n",
       "      <td></td>\n",
       "    </tr>\n",
       "    <tr>\n",
       "      <th>6754</th>\n",
       "      <td>2775-SEFEE</td>\n",
       "      <td>2020-02-01</td>\n",
       "      <td>No</td>\n",
       "      <td>Two year</td>\n",
       "      <td>Yes</td>\n",
       "      <td>Bank transfer (automatic)</td>\n",
       "      <td>61.90</td>\n",
       "      <td></td>\n",
       "    </tr>\n",
       "  </tbody>\n",
       "</table>\n",
       "</div>"
      ],
      "text/plain": [
       "      customerID   BeginDate EndDate      Type PaperlessBilling  \\\n",
       "488   4472-LVYGI  2020-02-01      No  Two year              Yes   \n",
       "753   3115-CZMZD  2020-02-01      No  Two year               No   \n",
       "936   5709-LVOEQ  2020-02-01      No  Two year               No   \n",
       "1082  4367-NUYAO  2020-02-01      No  Two year               No   \n",
       "1340  1371-DWPAZ  2020-02-01      No  Two year               No   \n",
       "3331  7644-OMVMY  2020-02-01      No  Two year               No   \n",
       "3826  3213-VVOLG  2020-02-01      No  Two year               No   \n",
       "4380  2520-SGTTA  2020-02-01      No  Two year               No   \n",
       "5218  2923-ARZLG  2020-02-01      No  One year              Yes   \n",
       "6670  4075-WKNIU  2020-02-01      No  Two year               No   \n",
       "6754  2775-SEFEE  2020-02-01      No  Two year              Yes   \n",
       "\n",
       "                  PaymentMethod  MonthlyCharges TotalCharges  \n",
       "488   Bank transfer (automatic)           52.55               \n",
       "753                Mailed check           20.25               \n",
       "936                Mailed check           80.85               \n",
       "1082               Mailed check           25.75               \n",
       "1340    Credit card (automatic)           56.05               \n",
       "3331               Mailed check           19.85               \n",
       "3826               Mailed check           25.35               \n",
       "4380               Mailed check           20.00               \n",
       "5218               Mailed check           19.70               \n",
       "6670               Mailed check           73.35               \n",
       "6754  Bank transfer (automatic)           61.90               "
      ]
     },
     "execution_count": 9,
     "metadata": {},
     "output_type": "execute_result"
    }
   ],
   "source": [
    "# Since 'MonthlyCharges' are float (as expected of payment sum) - it is weird that 'TotalCharges' are a string, \n",
    "    # one reason might be that there are \"hidden\" missing values - let's look for them:\n",
    "contract[contract['TotalCharges'] == ' ']"
   ]
  },
  {
   "cell_type": "code",
   "execution_count": 10,
   "metadata": {},
   "outputs": [
    {
     "data": {
      "text/plain": [
       "7032"
      ]
     },
     "execution_count": 10,
     "metadata": {},
     "output_type": "execute_result"
    }
   ],
   "source": [
    "# We see 11 customers with no 'TotalCharges', that are better dropped, \n",
    "    #since they just started the same day the data was retrived (February 1, 2020), \n",
    "    #and therfore have no real relevance for the churn question (our target)\n",
    "contract = contract[contract['TotalCharges'] != ' ']\n",
    "len(contract)"
   ]
  },
  {
   "cell_type": "code",
   "execution_count": 11,
   "metadata": {},
   "outputs": [
    {
     "data": {
      "text/plain": [
       "0"
      ]
     },
     "execution_count": 11,
     "metadata": {},
     "output_type": "execute_result"
    }
   ],
   "source": [
    "# Checking for duplicates\n",
    "contract.duplicated().sum()"
   ]
  },
  {
   "cell_type": "markdown",
   "metadata": {},
   "source": [
    "**personal**"
   ]
  },
  {
   "cell_type": "code",
   "execution_count": 12,
   "metadata": {
    "scrolled": true
   },
   "outputs": [
    {
     "name": "stdout",
     "output_type": "stream",
     "text": [
      "<class 'pandas.core.frame.DataFrame'>\n",
      "RangeIndex: 7043 entries, 0 to 7042\n",
      "Data columns (total 5 columns):\n",
      " #   Column         Non-Null Count  Dtype \n",
      "---  ------         --------------  ----- \n",
      " 0   customerID     7043 non-null   object\n",
      " 1   gender         7043 non-null   object\n",
      " 2   SeniorCitizen  7043 non-null   int64 \n",
      " 3   Partner        7043 non-null   object\n",
      " 4   Dependents     7043 non-null   object\n",
      "dtypes: int64(1), object(4)\n",
      "memory usage: 275.2+ KB\n"
     ]
    }
   ],
   "source": [
    "personal.info()"
   ]
  },
  {
   "cell_type": "code",
   "execution_count": 13,
   "metadata": {
    "scrolled": false
   },
   "outputs": [
    {
     "data": {
      "text/html": [
       "<div>\n",
       "<style scoped>\n",
       "    .dataframe tbody tr th:only-of-type {\n",
       "        vertical-align: middle;\n",
       "    }\n",
       "\n",
       "    .dataframe tbody tr th {\n",
       "        vertical-align: top;\n",
       "    }\n",
       "\n",
       "    .dataframe thead th {\n",
       "        text-align: right;\n",
       "    }\n",
       "</style>\n",
       "<table border=\"1\" class=\"dataframe\">\n",
       "  <thead>\n",
       "    <tr style=\"text-align: right;\">\n",
       "      <th></th>\n",
       "      <th>customerID</th>\n",
       "      <th>gender</th>\n",
       "      <th>SeniorCitizen</th>\n",
       "      <th>Partner</th>\n",
       "      <th>Dependents</th>\n",
       "    </tr>\n",
       "  </thead>\n",
       "  <tbody>\n",
       "    <tr>\n",
       "      <th>0</th>\n",
       "      <td>7590-VHVEG</td>\n",
       "      <td>Female</td>\n",
       "      <td>0</td>\n",
       "      <td>Yes</td>\n",
       "      <td>No</td>\n",
       "    </tr>\n",
       "    <tr>\n",
       "      <th>1</th>\n",
       "      <td>5575-GNVDE</td>\n",
       "      <td>Male</td>\n",
       "      <td>0</td>\n",
       "      <td>No</td>\n",
       "      <td>No</td>\n",
       "    </tr>\n",
       "    <tr>\n",
       "      <th>2</th>\n",
       "      <td>3668-QPYBK</td>\n",
       "      <td>Male</td>\n",
       "      <td>0</td>\n",
       "      <td>No</td>\n",
       "      <td>No</td>\n",
       "    </tr>\n",
       "    <tr>\n",
       "      <th>3</th>\n",
       "      <td>7795-CFOCW</td>\n",
       "      <td>Male</td>\n",
       "      <td>0</td>\n",
       "      <td>No</td>\n",
       "      <td>No</td>\n",
       "    </tr>\n",
       "    <tr>\n",
       "      <th>4</th>\n",
       "      <td>9237-HQITU</td>\n",
       "      <td>Female</td>\n",
       "      <td>0</td>\n",
       "      <td>No</td>\n",
       "      <td>No</td>\n",
       "    </tr>\n",
       "  </tbody>\n",
       "</table>\n",
       "</div>"
      ],
      "text/plain": [
       "   customerID  gender  SeniorCitizen Partner Dependents\n",
       "0  7590-VHVEG  Female              0     Yes         No\n",
       "1  5575-GNVDE    Male              0      No         No\n",
       "2  3668-QPYBK    Male              0      No         No\n",
       "3  7795-CFOCW    Male              0      No         No\n",
       "4  9237-HQITU  Female              0      No         No"
      ]
     },
     "execution_count": 13,
     "metadata": {},
     "output_type": "execute_result"
    }
   ],
   "source": [
    "personal.head()"
   ]
  },
  {
   "cell_type": "code",
   "execution_count": 14,
   "metadata": {},
   "outputs": [
    {
     "data": {
      "text/plain": [
       "0"
      ]
     },
     "execution_count": 14,
     "metadata": {},
     "output_type": "execute_result"
    }
   ],
   "source": [
    "# Checking for duplicates\n",
    "personal.duplicated().sum()"
   ]
  },
  {
   "cell_type": "markdown",
   "metadata": {},
   "source": [
    "**internet**"
   ]
  },
  {
   "cell_type": "code",
   "execution_count": 15,
   "metadata": {
    "scrolled": true
   },
   "outputs": [
    {
     "name": "stdout",
     "output_type": "stream",
     "text": [
      "<class 'pandas.core.frame.DataFrame'>\n",
      "RangeIndex: 5517 entries, 0 to 5516\n",
      "Data columns (total 8 columns):\n",
      " #   Column            Non-Null Count  Dtype \n",
      "---  ------            --------------  ----- \n",
      " 0   customerID        5517 non-null   object\n",
      " 1   InternetService   5517 non-null   object\n",
      " 2   OnlineSecurity    5517 non-null   object\n",
      " 3   OnlineBackup      5517 non-null   object\n",
      " 4   DeviceProtection  5517 non-null   object\n",
      " 5   TechSupport       5517 non-null   object\n",
      " 6   StreamingTV       5517 non-null   object\n",
      " 7   StreamingMovies   5517 non-null   object\n",
      "dtypes: object(8)\n",
      "memory usage: 344.9+ KB\n"
     ]
    }
   ],
   "source": [
    "internet.info()"
   ]
  },
  {
   "cell_type": "code",
   "execution_count": 16,
   "metadata": {
    "scrolled": false
   },
   "outputs": [
    {
     "data": {
      "text/html": [
       "<div>\n",
       "<style scoped>\n",
       "    .dataframe tbody tr th:only-of-type {\n",
       "        vertical-align: middle;\n",
       "    }\n",
       "\n",
       "    .dataframe tbody tr th {\n",
       "        vertical-align: top;\n",
       "    }\n",
       "\n",
       "    .dataframe thead th {\n",
       "        text-align: right;\n",
       "    }\n",
       "</style>\n",
       "<table border=\"1\" class=\"dataframe\">\n",
       "  <thead>\n",
       "    <tr style=\"text-align: right;\">\n",
       "      <th></th>\n",
       "      <th>customerID</th>\n",
       "      <th>InternetService</th>\n",
       "      <th>OnlineSecurity</th>\n",
       "      <th>OnlineBackup</th>\n",
       "      <th>DeviceProtection</th>\n",
       "      <th>TechSupport</th>\n",
       "      <th>StreamingTV</th>\n",
       "      <th>StreamingMovies</th>\n",
       "    </tr>\n",
       "  </thead>\n",
       "  <tbody>\n",
       "    <tr>\n",
       "      <th>0</th>\n",
       "      <td>7590-VHVEG</td>\n",
       "      <td>DSL</td>\n",
       "      <td>No</td>\n",
       "      <td>Yes</td>\n",
       "      <td>No</td>\n",
       "      <td>No</td>\n",
       "      <td>No</td>\n",
       "      <td>No</td>\n",
       "    </tr>\n",
       "    <tr>\n",
       "      <th>1</th>\n",
       "      <td>5575-GNVDE</td>\n",
       "      <td>DSL</td>\n",
       "      <td>Yes</td>\n",
       "      <td>No</td>\n",
       "      <td>Yes</td>\n",
       "      <td>No</td>\n",
       "      <td>No</td>\n",
       "      <td>No</td>\n",
       "    </tr>\n",
       "    <tr>\n",
       "      <th>2</th>\n",
       "      <td>3668-QPYBK</td>\n",
       "      <td>DSL</td>\n",
       "      <td>Yes</td>\n",
       "      <td>Yes</td>\n",
       "      <td>No</td>\n",
       "      <td>No</td>\n",
       "      <td>No</td>\n",
       "      <td>No</td>\n",
       "    </tr>\n",
       "    <tr>\n",
       "      <th>3</th>\n",
       "      <td>7795-CFOCW</td>\n",
       "      <td>DSL</td>\n",
       "      <td>Yes</td>\n",
       "      <td>No</td>\n",
       "      <td>Yes</td>\n",
       "      <td>Yes</td>\n",
       "      <td>No</td>\n",
       "      <td>No</td>\n",
       "    </tr>\n",
       "    <tr>\n",
       "      <th>4</th>\n",
       "      <td>9237-HQITU</td>\n",
       "      <td>Fiber optic</td>\n",
       "      <td>No</td>\n",
       "      <td>No</td>\n",
       "      <td>No</td>\n",
       "      <td>No</td>\n",
       "      <td>No</td>\n",
       "      <td>No</td>\n",
       "    </tr>\n",
       "  </tbody>\n",
       "</table>\n",
       "</div>"
      ],
      "text/plain": [
       "   customerID InternetService OnlineSecurity OnlineBackup DeviceProtection  \\\n",
       "0  7590-VHVEG             DSL             No          Yes               No   \n",
       "1  5575-GNVDE             DSL            Yes           No              Yes   \n",
       "2  3668-QPYBK             DSL            Yes          Yes               No   \n",
       "3  7795-CFOCW             DSL            Yes           No              Yes   \n",
       "4  9237-HQITU     Fiber optic             No           No               No   \n",
       "\n",
       "  TechSupport StreamingTV StreamingMovies  \n",
       "0          No          No              No  \n",
       "1          No          No              No  \n",
       "2          No          No              No  \n",
       "3         Yes          No              No  \n",
       "4          No          No              No  "
      ]
     },
     "execution_count": 16,
     "metadata": {},
     "output_type": "execute_result"
    }
   ],
   "source": [
    "internet.head()"
   ]
  },
  {
   "cell_type": "code",
   "execution_count": 17,
   "metadata": {},
   "outputs": [
    {
     "data": {
      "text/plain": [
       "0"
      ]
     },
     "execution_count": 17,
     "metadata": {},
     "output_type": "execute_result"
    }
   ],
   "source": [
    "# Checking for duplicates:\n",
    "internet.duplicated().sum()"
   ]
  },
  {
   "cell_type": "markdown",
   "metadata": {},
   "source": [
    "**phone**"
   ]
  },
  {
   "cell_type": "code",
   "execution_count": 18,
   "metadata": {
    "scrolled": true
   },
   "outputs": [
    {
     "name": "stdout",
     "output_type": "stream",
     "text": [
      "<class 'pandas.core.frame.DataFrame'>\n",
      "RangeIndex: 6361 entries, 0 to 6360\n",
      "Data columns (total 2 columns):\n",
      " #   Column         Non-Null Count  Dtype \n",
      "---  ------         --------------  ----- \n",
      " 0   customerID     6361 non-null   object\n",
      " 1   MultipleLines  6361 non-null   object\n",
      "dtypes: object(2)\n",
      "memory usage: 99.5+ KB\n"
     ]
    }
   ],
   "source": [
    "phone.info()"
   ]
  },
  {
   "cell_type": "code",
   "execution_count": 19,
   "metadata": {
    "scrolled": true
   },
   "outputs": [
    {
     "data": {
      "text/html": [
       "<div>\n",
       "<style scoped>\n",
       "    .dataframe tbody tr th:only-of-type {\n",
       "        vertical-align: middle;\n",
       "    }\n",
       "\n",
       "    .dataframe tbody tr th {\n",
       "        vertical-align: top;\n",
       "    }\n",
       "\n",
       "    .dataframe thead th {\n",
       "        text-align: right;\n",
       "    }\n",
       "</style>\n",
       "<table border=\"1\" class=\"dataframe\">\n",
       "  <thead>\n",
       "    <tr style=\"text-align: right;\">\n",
       "      <th></th>\n",
       "      <th>customerID</th>\n",
       "      <th>MultipleLines</th>\n",
       "    </tr>\n",
       "  </thead>\n",
       "  <tbody>\n",
       "    <tr>\n",
       "      <th>0</th>\n",
       "      <td>5575-GNVDE</td>\n",
       "      <td>No</td>\n",
       "    </tr>\n",
       "    <tr>\n",
       "      <th>1</th>\n",
       "      <td>3668-QPYBK</td>\n",
       "      <td>No</td>\n",
       "    </tr>\n",
       "    <tr>\n",
       "      <th>2</th>\n",
       "      <td>9237-HQITU</td>\n",
       "      <td>No</td>\n",
       "    </tr>\n",
       "    <tr>\n",
       "      <th>3</th>\n",
       "      <td>9305-CDSKC</td>\n",
       "      <td>Yes</td>\n",
       "    </tr>\n",
       "    <tr>\n",
       "      <th>4</th>\n",
       "      <td>1452-KIOVK</td>\n",
       "      <td>Yes</td>\n",
       "    </tr>\n",
       "  </tbody>\n",
       "</table>\n",
       "</div>"
      ],
      "text/plain": [
       "   customerID MultipleLines\n",
       "0  5575-GNVDE            No\n",
       "1  3668-QPYBK            No\n",
       "2  9237-HQITU            No\n",
       "3  9305-CDSKC           Yes\n",
       "4  1452-KIOVK           Yes"
      ]
     },
     "execution_count": 19,
     "metadata": {},
     "output_type": "execute_result"
    }
   ],
   "source": [
    "phone.head()"
   ]
  },
  {
   "cell_type": "code",
   "execution_count": 20,
   "metadata": {},
   "outputs": [
    {
     "data": {
      "text/plain": [
       "0"
      ]
     },
     "execution_count": 20,
     "metadata": {},
     "output_type": "execute_result"
    }
   ],
   "source": [
    "# checking for duplicates:\n",
    "phone.duplicated().sum()"
   ]
  },
  {
   "cell_type": "markdown",
   "metadata": {},
   "source": [
    "Initial check of target (EndDate) class balance: "
   ]
  },
  {
   "cell_type": "code",
   "execution_count": 21,
   "metadata": {
    "scrolled": true
   },
   "outputs": [
    {
     "data": {
      "text/plain": [
       "0.7342150170648464"
      ]
     },
     "execution_count": 21,
     "metadata": {},
     "output_type": "execute_result"
    }
   ],
   "source": [
    "contract[contract['EndDate'] == 'No']['customerID'].count() / contract['customerID'].count()"
   ]
  },
  {
   "cell_type": "markdown",
   "metadata": {},
   "source": [
    "Target class is imbalanced in ratio 3:1 (retention: churn). We will take this into consideration later by upsampling to balance the classes, although it is not a very severe imbalance. \n",
    "\n",
    "\n",
    "### Merging the data\n",
    "\n",
    "We will first merge the 4 data files into one, and turn the 'customerID' into the index: "
   ]
  },
  {
   "cell_type": "code",
   "execution_count": 22,
   "metadata": {
    "scrolled": true
   },
   "outputs": [
    {
     "data": {
      "text/html": [
       "<div>\n",
       "<style scoped>\n",
       "    .dataframe tbody tr th:only-of-type {\n",
       "        vertical-align: middle;\n",
       "    }\n",
       "\n",
       "    .dataframe tbody tr th {\n",
       "        vertical-align: top;\n",
       "    }\n",
       "\n",
       "    .dataframe thead th {\n",
       "        text-align: right;\n",
       "    }\n",
       "</style>\n",
       "<table border=\"1\" class=\"dataframe\">\n",
       "  <thead>\n",
       "    <tr style=\"text-align: right;\">\n",
       "      <th></th>\n",
       "      <th>BeginDate</th>\n",
       "      <th>EndDate</th>\n",
       "      <th>Type</th>\n",
       "      <th>PaperlessBilling</th>\n",
       "      <th>PaymentMethod</th>\n",
       "      <th>MonthlyCharges</th>\n",
       "      <th>TotalCharges</th>\n",
       "      <th>gender</th>\n",
       "      <th>SeniorCitizen</th>\n",
       "      <th>Partner</th>\n",
       "      <th>Dependents</th>\n",
       "      <th>InternetService</th>\n",
       "      <th>OnlineSecurity</th>\n",
       "      <th>OnlineBackup</th>\n",
       "      <th>DeviceProtection</th>\n",
       "      <th>TechSupport</th>\n",
       "      <th>StreamingTV</th>\n",
       "      <th>StreamingMovies</th>\n",
       "      <th>MultipleLines</th>\n",
       "    </tr>\n",
       "    <tr>\n",
       "      <th>customerID</th>\n",
       "      <th></th>\n",
       "      <th></th>\n",
       "      <th></th>\n",
       "      <th></th>\n",
       "      <th></th>\n",
       "      <th></th>\n",
       "      <th></th>\n",
       "      <th></th>\n",
       "      <th></th>\n",
       "      <th></th>\n",
       "      <th></th>\n",
       "      <th></th>\n",
       "      <th></th>\n",
       "      <th></th>\n",
       "      <th></th>\n",
       "      <th></th>\n",
       "      <th></th>\n",
       "      <th></th>\n",
       "      <th></th>\n",
       "    </tr>\n",
       "  </thead>\n",
       "  <tbody>\n",
       "    <tr>\n",
       "      <th>7590-VHVEG</th>\n",
       "      <td>2020-01-01</td>\n",
       "      <td>No</td>\n",
       "      <td>Month-to-month</td>\n",
       "      <td>Yes</td>\n",
       "      <td>Electronic check</td>\n",
       "      <td>29.85</td>\n",
       "      <td>29.85</td>\n",
       "      <td>Female</td>\n",
       "      <td>0</td>\n",
       "      <td>Yes</td>\n",
       "      <td>No</td>\n",
       "      <td>DSL</td>\n",
       "      <td>No</td>\n",
       "      <td>Yes</td>\n",
       "      <td>No</td>\n",
       "      <td>No</td>\n",
       "      <td>No</td>\n",
       "      <td>No</td>\n",
       "      <td>NaN</td>\n",
       "    </tr>\n",
       "    <tr>\n",
       "      <th>5575-GNVDE</th>\n",
       "      <td>2017-04-01</td>\n",
       "      <td>No</td>\n",
       "      <td>One year</td>\n",
       "      <td>No</td>\n",
       "      <td>Mailed check</td>\n",
       "      <td>56.95</td>\n",
       "      <td>1889.5</td>\n",
       "      <td>Male</td>\n",
       "      <td>0</td>\n",
       "      <td>No</td>\n",
       "      <td>No</td>\n",
       "      <td>DSL</td>\n",
       "      <td>Yes</td>\n",
       "      <td>No</td>\n",
       "      <td>Yes</td>\n",
       "      <td>No</td>\n",
       "      <td>No</td>\n",
       "      <td>No</td>\n",
       "      <td>No</td>\n",
       "    </tr>\n",
       "    <tr>\n",
       "      <th>3668-QPYBK</th>\n",
       "      <td>2019-10-01</td>\n",
       "      <td>2019-12-01 00:00:00</td>\n",
       "      <td>Month-to-month</td>\n",
       "      <td>Yes</td>\n",
       "      <td>Mailed check</td>\n",
       "      <td>53.85</td>\n",
       "      <td>108.15</td>\n",
       "      <td>Male</td>\n",
       "      <td>0</td>\n",
       "      <td>No</td>\n",
       "      <td>No</td>\n",
       "      <td>DSL</td>\n",
       "      <td>Yes</td>\n",
       "      <td>Yes</td>\n",
       "      <td>No</td>\n",
       "      <td>No</td>\n",
       "      <td>No</td>\n",
       "      <td>No</td>\n",
       "      <td>No</td>\n",
       "    </tr>\n",
       "    <tr>\n",
       "      <th>7795-CFOCW</th>\n",
       "      <td>2016-05-01</td>\n",
       "      <td>No</td>\n",
       "      <td>One year</td>\n",
       "      <td>No</td>\n",
       "      <td>Bank transfer (automatic)</td>\n",
       "      <td>42.30</td>\n",
       "      <td>1840.75</td>\n",
       "      <td>Male</td>\n",
       "      <td>0</td>\n",
       "      <td>No</td>\n",
       "      <td>No</td>\n",
       "      <td>DSL</td>\n",
       "      <td>Yes</td>\n",
       "      <td>No</td>\n",
       "      <td>Yes</td>\n",
       "      <td>Yes</td>\n",
       "      <td>No</td>\n",
       "      <td>No</td>\n",
       "      <td>NaN</td>\n",
       "    </tr>\n",
       "    <tr>\n",
       "      <th>9237-HQITU</th>\n",
       "      <td>2019-09-01</td>\n",
       "      <td>2019-11-01 00:00:00</td>\n",
       "      <td>Month-to-month</td>\n",
       "      <td>Yes</td>\n",
       "      <td>Electronic check</td>\n",
       "      <td>70.70</td>\n",
       "      <td>151.65</td>\n",
       "      <td>Female</td>\n",
       "      <td>0</td>\n",
       "      <td>No</td>\n",
       "      <td>No</td>\n",
       "      <td>Fiber optic</td>\n",
       "      <td>No</td>\n",
       "      <td>No</td>\n",
       "      <td>No</td>\n",
       "      <td>No</td>\n",
       "      <td>No</td>\n",
       "      <td>No</td>\n",
       "      <td>No</td>\n",
       "    </tr>\n",
       "  </tbody>\n",
       "</table>\n",
       "</div>"
      ],
      "text/plain": [
       "             BeginDate              EndDate            Type PaperlessBilling  \\\n",
       "customerID                                                                     \n",
       "7590-VHVEG  2020-01-01                   No  Month-to-month              Yes   \n",
       "5575-GNVDE  2017-04-01                   No        One year               No   \n",
       "3668-QPYBK  2019-10-01  2019-12-01 00:00:00  Month-to-month              Yes   \n",
       "7795-CFOCW  2016-05-01                   No        One year               No   \n",
       "9237-HQITU  2019-09-01  2019-11-01 00:00:00  Month-to-month              Yes   \n",
       "\n",
       "                        PaymentMethod  MonthlyCharges TotalCharges  gender  \\\n",
       "customerID                                                                   \n",
       "7590-VHVEG           Electronic check           29.85        29.85  Female   \n",
       "5575-GNVDE               Mailed check           56.95       1889.5    Male   \n",
       "3668-QPYBK               Mailed check           53.85       108.15    Male   \n",
       "7795-CFOCW  Bank transfer (automatic)           42.30      1840.75    Male   \n",
       "9237-HQITU           Electronic check           70.70       151.65  Female   \n",
       "\n",
       "            SeniorCitizen Partner Dependents InternetService OnlineSecurity  \\\n",
       "customerID                                                                    \n",
       "7590-VHVEG              0     Yes         No             DSL             No   \n",
       "5575-GNVDE              0      No         No             DSL            Yes   \n",
       "3668-QPYBK              0      No         No             DSL            Yes   \n",
       "7795-CFOCW              0      No         No             DSL            Yes   \n",
       "9237-HQITU              0      No         No     Fiber optic             No   \n",
       "\n",
       "           OnlineBackup DeviceProtection TechSupport StreamingTV  \\\n",
       "customerID                                                         \n",
       "7590-VHVEG          Yes               No          No          No   \n",
       "5575-GNVDE           No              Yes          No          No   \n",
       "3668-QPYBK          Yes               No          No          No   \n",
       "7795-CFOCW           No              Yes         Yes          No   \n",
       "9237-HQITU           No               No          No          No   \n",
       "\n",
       "           StreamingMovies MultipleLines  \n",
       "customerID                                \n",
       "7590-VHVEG              No           NaN  \n",
       "5575-GNVDE              No            No  \n",
       "3668-QPYBK              No            No  \n",
       "7795-CFOCW              No           NaN  \n",
       "9237-HQITU              No            No  "
      ]
     },
     "execution_count": 22,
     "metadata": {},
     "output_type": "execute_result"
    }
   ],
   "source": [
    "# Merging the 4 files, and turning the customerID into the new index: \n",
    "df = contract.merge(personal, on='customerID', how='left')\n",
    "df = df.merge(internet, on='customerID', how='left')\n",
    "df = df.merge(phone, on='customerID', how='left').set_index('customerID', drop=True) \n",
    "df.head()"
   ]
  },
  {
   "cell_type": "code",
   "execution_count": 23,
   "metadata": {
    "scrolled": true
   },
   "outputs": [
    {
     "name": "stdout",
     "output_type": "stream",
     "text": [
      "<class 'pandas.core.frame.DataFrame'>\n",
      "Index: 7032 entries, 7590-VHVEG to 3186-AJIEK\n",
      "Data columns (total 19 columns):\n",
      " #   Column            Non-Null Count  Dtype  \n",
      "---  ------            --------------  -----  \n",
      " 0   BeginDate         7032 non-null   object \n",
      " 1   EndDate           7032 non-null   object \n",
      " 2   Type              7032 non-null   object \n",
      " 3   PaperlessBilling  7032 non-null   object \n",
      " 4   PaymentMethod     7032 non-null   object \n",
      " 5   MonthlyCharges    7032 non-null   float64\n",
      " 6   TotalCharges      7032 non-null   object \n",
      " 7   gender            7032 non-null   object \n",
      " 8   SeniorCitizen     7032 non-null   int64  \n",
      " 9   Partner           7032 non-null   object \n",
      " 10  Dependents        7032 non-null   object \n",
      " 11  InternetService   5512 non-null   object \n",
      " 12  OnlineSecurity    5512 non-null   object \n",
      " 13  OnlineBackup      5512 non-null   object \n",
      " 14  DeviceProtection  5512 non-null   object \n",
      " 15  TechSupport       5512 non-null   object \n",
      " 16  StreamingTV       5512 non-null   object \n",
      " 17  StreamingMovies   5512 non-null   object \n",
      " 18  MultipleLines     6352 non-null   object \n",
      "dtypes: float64(1), int64(1), object(17)\n",
      "memory usage: 1.1+ MB\n"
     ]
    }
   ],
   "source": [
    "# Checking general info of the unified df\n",
    "df.info()"
   ]
  },
  {
   "cell_type": "markdown",
   "metadata": {},
   "source": [
    "### Filling in missing values in the unified data"
   ]
  },
  {
   "cell_type": "code",
   "execution_count": 24,
   "metadata": {
    "scrolled": true
   },
   "outputs": [
    {
     "data": {
      "text/plain": [
       "BeginDate           0\n",
       "EndDate             0\n",
       "Type                0\n",
       "PaperlessBilling    0\n",
       "PaymentMethod       0\n",
       "MonthlyCharges      0\n",
       "TotalCharges        0\n",
       "gender              0\n",
       "SeniorCitizen       0\n",
       "Partner             0\n",
       "Dependents          0\n",
       "InternetService     0\n",
       "OnlineSecurity      0\n",
       "OnlineBackup        0\n",
       "DeviceProtection    0\n",
       "TechSupport         0\n",
       "StreamingTV         0\n",
       "StreamingMovies     0\n",
       "MultipleLines       0\n",
       "dtype: int64"
      ]
     },
     "execution_count": 24,
     "metadata": {},
     "output_type": "execute_result"
    }
   ],
   "source": [
    "# Filling in the NaNs (no phone or no internet) with 'No', and checking no NaNs are left\n",
    "df = df.fillna('No')\n",
    "df.isna().sum()"
   ]
  },
  {
   "cell_type": "markdown",
   "metadata": {},
   "source": [
    "### Converting data types "
   ]
  },
  {
   "cell_type": "code",
   "execution_count": 25,
   "metadata": {
    "scrolled": false
   },
   "outputs": [
    {
     "data": {
      "text/html": [
       "<div>\n",
       "<style scoped>\n",
       "    .dataframe tbody tr th:only-of-type {\n",
       "        vertical-align: middle;\n",
       "    }\n",
       "\n",
       "    .dataframe tbody tr th {\n",
       "        vertical-align: top;\n",
       "    }\n",
       "\n",
       "    .dataframe thead th {\n",
       "        text-align: right;\n",
       "    }\n",
       "</style>\n",
       "<table border=\"1\" class=\"dataframe\">\n",
       "  <thead>\n",
       "    <tr style=\"text-align: right;\">\n",
       "      <th></th>\n",
       "      <th>BeginDate</th>\n",
       "      <th>EndDate</th>\n",
       "      <th>Type</th>\n",
       "      <th>PaperlessBilling</th>\n",
       "      <th>PaymentMethod</th>\n",
       "      <th>MonthlyCharges</th>\n",
       "      <th>TotalCharges</th>\n",
       "      <th>gender</th>\n",
       "      <th>SeniorCitizen</th>\n",
       "      <th>Partner</th>\n",
       "      <th>Dependents</th>\n",
       "      <th>InternetService</th>\n",
       "      <th>OnlineSecurity</th>\n",
       "      <th>OnlineBackup</th>\n",
       "      <th>DeviceProtection</th>\n",
       "      <th>TechSupport</th>\n",
       "      <th>StreamingTV</th>\n",
       "      <th>StreamingMovies</th>\n",
       "      <th>MultipleLines</th>\n",
       "    </tr>\n",
       "    <tr>\n",
       "      <th>customerID</th>\n",
       "      <th></th>\n",
       "      <th></th>\n",
       "      <th></th>\n",
       "      <th></th>\n",
       "      <th></th>\n",
       "      <th></th>\n",
       "      <th></th>\n",
       "      <th></th>\n",
       "      <th></th>\n",
       "      <th></th>\n",
       "      <th></th>\n",
       "      <th></th>\n",
       "      <th></th>\n",
       "      <th></th>\n",
       "      <th></th>\n",
       "      <th></th>\n",
       "      <th></th>\n",
       "      <th></th>\n",
       "      <th></th>\n",
       "    </tr>\n",
       "  </thead>\n",
       "  <tbody>\n",
       "    <tr>\n",
       "      <th>7590-VHVEG</th>\n",
       "      <td>2020-01-01</td>\n",
       "      <td>No</td>\n",
       "      <td>Month-to-month</td>\n",
       "      <td>Yes</td>\n",
       "      <td>Electronic check</td>\n",
       "      <td>29.85</td>\n",
       "      <td>29.85</td>\n",
       "      <td>Female</td>\n",
       "      <td>0</td>\n",
       "      <td>Yes</td>\n",
       "      <td>No</td>\n",
       "      <td>DSL</td>\n",
       "      <td>No</td>\n",
       "      <td>Yes</td>\n",
       "      <td>No</td>\n",
       "      <td>No</td>\n",
       "      <td>No</td>\n",
       "      <td>No</td>\n",
       "      <td>No</td>\n",
       "    </tr>\n",
       "    <tr>\n",
       "      <th>5575-GNVDE</th>\n",
       "      <td>2017-04-01</td>\n",
       "      <td>No</td>\n",
       "      <td>One year</td>\n",
       "      <td>No</td>\n",
       "      <td>Mailed check</td>\n",
       "      <td>56.95</td>\n",
       "      <td>1889.5</td>\n",
       "      <td>Male</td>\n",
       "      <td>0</td>\n",
       "      <td>No</td>\n",
       "      <td>No</td>\n",
       "      <td>DSL</td>\n",
       "      <td>Yes</td>\n",
       "      <td>No</td>\n",
       "      <td>Yes</td>\n",
       "      <td>No</td>\n",
       "      <td>No</td>\n",
       "      <td>No</td>\n",
       "      <td>No</td>\n",
       "    </tr>\n",
       "    <tr>\n",
       "      <th>3668-QPYBK</th>\n",
       "      <td>2019-10-01</td>\n",
       "      <td>2019-12-01 00:00:00</td>\n",
       "      <td>Month-to-month</td>\n",
       "      <td>Yes</td>\n",
       "      <td>Mailed check</td>\n",
       "      <td>53.85</td>\n",
       "      <td>108.15</td>\n",
       "      <td>Male</td>\n",
       "      <td>0</td>\n",
       "      <td>No</td>\n",
       "      <td>No</td>\n",
       "      <td>DSL</td>\n",
       "      <td>Yes</td>\n",
       "      <td>Yes</td>\n",
       "      <td>No</td>\n",
       "      <td>No</td>\n",
       "      <td>No</td>\n",
       "      <td>No</td>\n",
       "      <td>No</td>\n",
       "    </tr>\n",
       "    <tr>\n",
       "      <th>7795-CFOCW</th>\n",
       "      <td>2016-05-01</td>\n",
       "      <td>No</td>\n",
       "      <td>One year</td>\n",
       "      <td>No</td>\n",
       "      <td>Bank transfer (automatic)</td>\n",
       "      <td>42.30</td>\n",
       "      <td>1840.75</td>\n",
       "      <td>Male</td>\n",
       "      <td>0</td>\n",
       "      <td>No</td>\n",
       "      <td>No</td>\n",
       "      <td>DSL</td>\n",
       "      <td>Yes</td>\n",
       "      <td>No</td>\n",
       "      <td>Yes</td>\n",
       "      <td>Yes</td>\n",
       "      <td>No</td>\n",
       "      <td>No</td>\n",
       "      <td>No</td>\n",
       "    </tr>\n",
       "    <tr>\n",
       "      <th>9237-HQITU</th>\n",
       "      <td>2019-09-01</td>\n",
       "      <td>2019-11-01 00:00:00</td>\n",
       "      <td>Month-to-month</td>\n",
       "      <td>Yes</td>\n",
       "      <td>Electronic check</td>\n",
       "      <td>70.70</td>\n",
       "      <td>151.65</td>\n",
       "      <td>Female</td>\n",
       "      <td>0</td>\n",
       "      <td>No</td>\n",
       "      <td>No</td>\n",
       "      <td>Fiber optic</td>\n",
       "      <td>No</td>\n",
       "      <td>No</td>\n",
       "      <td>No</td>\n",
       "      <td>No</td>\n",
       "      <td>No</td>\n",
       "      <td>No</td>\n",
       "      <td>No</td>\n",
       "    </tr>\n",
       "  </tbody>\n",
       "</table>\n",
       "</div>"
      ],
      "text/plain": [
       "            BeginDate              EndDate            Type PaperlessBilling  \\\n",
       "customerID                                                                    \n",
       "7590-VHVEG 2020-01-01                   No  Month-to-month              Yes   \n",
       "5575-GNVDE 2017-04-01                   No        One year               No   \n",
       "3668-QPYBK 2019-10-01  2019-12-01 00:00:00  Month-to-month              Yes   \n",
       "7795-CFOCW 2016-05-01                   No        One year               No   \n",
       "9237-HQITU 2019-09-01  2019-11-01 00:00:00  Month-to-month              Yes   \n",
       "\n",
       "                        PaymentMethod  MonthlyCharges TotalCharges  gender  \\\n",
       "customerID                                                                   \n",
       "7590-VHVEG           Electronic check           29.85        29.85  Female   \n",
       "5575-GNVDE               Mailed check           56.95       1889.5    Male   \n",
       "3668-QPYBK               Mailed check           53.85       108.15    Male   \n",
       "7795-CFOCW  Bank transfer (automatic)           42.30      1840.75    Male   \n",
       "9237-HQITU           Electronic check           70.70       151.65  Female   \n",
       "\n",
       "            SeniorCitizen Partner Dependents InternetService OnlineSecurity  \\\n",
       "customerID                                                                    \n",
       "7590-VHVEG              0     Yes         No             DSL             No   \n",
       "5575-GNVDE              0      No         No             DSL            Yes   \n",
       "3668-QPYBK              0      No         No             DSL            Yes   \n",
       "7795-CFOCW              0      No         No             DSL            Yes   \n",
       "9237-HQITU              0      No         No     Fiber optic             No   \n",
       "\n",
       "           OnlineBackup DeviceProtection TechSupport StreamingTV  \\\n",
       "customerID                                                         \n",
       "7590-VHVEG          Yes               No          No          No   \n",
       "5575-GNVDE           No              Yes          No          No   \n",
       "3668-QPYBK          Yes               No          No          No   \n",
       "7795-CFOCW           No              Yes         Yes          No   \n",
       "9237-HQITU           No               No          No          No   \n",
       "\n",
       "           StreamingMovies MultipleLines  \n",
       "customerID                                \n",
       "7590-VHVEG              No            No  \n",
       "5575-GNVDE              No            No  \n",
       "3668-QPYBK              No            No  \n",
       "7795-CFOCW              No            No  \n",
       "9237-HQITU              No            No  "
      ]
     },
     "execution_count": 25,
     "metadata": {},
     "output_type": "execute_result"
    }
   ],
   "source": [
    "#df.astype(int) \n",
    "#df['column'].to_numeric()\n",
    "df['BeginDate'] = pd.to_datetime(df['BeginDate'])\n",
    "df.head()\n"
   ]
  },
  {
   "cell_type": "code",
   "execution_count": 26,
   "metadata": {
    "scrolled": true
   },
   "outputs": [
    {
     "data": {
      "text/html": [
       "<div>\n",
       "<style scoped>\n",
       "    .dataframe tbody tr th:only-of-type {\n",
       "        vertical-align: middle;\n",
       "    }\n",
       "\n",
       "    .dataframe tbody tr th {\n",
       "        vertical-align: top;\n",
       "    }\n",
       "\n",
       "    .dataframe thead th {\n",
       "        text-align: right;\n",
       "    }\n",
       "</style>\n",
       "<table border=\"1\" class=\"dataframe\">\n",
       "  <thead>\n",
       "    <tr style=\"text-align: right;\">\n",
       "      <th></th>\n",
       "      <th>BeginDate</th>\n",
       "      <th>EndDate</th>\n",
       "      <th>Type</th>\n",
       "      <th>PaperlessBilling</th>\n",
       "      <th>PaymentMethod</th>\n",
       "      <th>MonthlyCharges</th>\n",
       "      <th>TotalCharges</th>\n",
       "      <th>gender</th>\n",
       "      <th>SeniorCitizen</th>\n",
       "      <th>Partner</th>\n",
       "      <th>Dependents</th>\n",
       "      <th>InternetService</th>\n",
       "      <th>OnlineSecurity</th>\n",
       "      <th>OnlineBackup</th>\n",
       "      <th>DeviceProtection</th>\n",
       "      <th>TechSupport</th>\n",
       "      <th>StreamingTV</th>\n",
       "      <th>StreamingMovies</th>\n",
       "      <th>MultipleLines</th>\n",
       "    </tr>\n",
       "    <tr>\n",
       "      <th>customerID</th>\n",
       "      <th></th>\n",
       "      <th></th>\n",
       "      <th></th>\n",
       "      <th></th>\n",
       "      <th></th>\n",
       "      <th></th>\n",
       "      <th></th>\n",
       "      <th></th>\n",
       "      <th></th>\n",
       "      <th></th>\n",
       "      <th></th>\n",
       "      <th></th>\n",
       "      <th></th>\n",
       "      <th></th>\n",
       "      <th></th>\n",
       "      <th></th>\n",
       "      <th></th>\n",
       "      <th></th>\n",
       "      <th></th>\n",
       "    </tr>\n",
       "  </thead>\n",
       "  <tbody>\n",
       "    <tr>\n",
       "      <th>7590-VHVEG</th>\n",
       "      <td>2020-01-01</td>\n",
       "      <td>No</td>\n",
       "      <td>Month-to-month</td>\n",
       "      <td>1</td>\n",
       "      <td>Electronic check</td>\n",
       "      <td>29.85</td>\n",
       "      <td>29.85</td>\n",
       "      <td>Female</td>\n",
       "      <td>0</td>\n",
       "      <td>1</td>\n",
       "      <td>0</td>\n",
       "      <td>DSL</td>\n",
       "      <td>0</td>\n",
       "      <td>1</td>\n",
       "      <td>0</td>\n",
       "      <td>0</td>\n",
       "      <td>0</td>\n",
       "      <td>0</td>\n",
       "      <td>0</td>\n",
       "    </tr>\n",
       "    <tr>\n",
       "      <th>5575-GNVDE</th>\n",
       "      <td>2017-04-01</td>\n",
       "      <td>No</td>\n",
       "      <td>One year</td>\n",
       "      <td>0</td>\n",
       "      <td>Mailed check</td>\n",
       "      <td>56.95</td>\n",
       "      <td>1889.5</td>\n",
       "      <td>Male</td>\n",
       "      <td>0</td>\n",
       "      <td>0</td>\n",
       "      <td>0</td>\n",
       "      <td>DSL</td>\n",
       "      <td>1</td>\n",
       "      <td>0</td>\n",
       "      <td>1</td>\n",
       "      <td>0</td>\n",
       "      <td>0</td>\n",
       "      <td>0</td>\n",
       "      <td>0</td>\n",
       "    </tr>\n",
       "    <tr>\n",
       "      <th>3668-QPYBK</th>\n",
       "      <td>2019-10-01</td>\n",
       "      <td>2019-12-01 00:00:00</td>\n",
       "      <td>Month-to-month</td>\n",
       "      <td>1</td>\n",
       "      <td>Mailed check</td>\n",
       "      <td>53.85</td>\n",
       "      <td>108.15</td>\n",
       "      <td>Male</td>\n",
       "      <td>0</td>\n",
       "      <td>0</td>\n",
       "      <td>0</td>\n",
       "      <td>DSL</td>\n",
       "      <td>1</td>\n",
       "      <td>1</td>\n",
       "      <td>0</td>\n",
       "      <td>0</td>\n",
       "      <td>0</td>\n",
       "      <td>0</td>\n",
       "      <td>0</td>\n",
       "    </tr>\n",
       "    <tr>\n",
       "      <th>7795-CFOCW</th>\n",
       "      <td>2016-05-01</td>\n",
       "      <td>No</td>\n",
       "      <td>One year</td>\n",
       "      <td>0</td>\n",
       "      <td>Bank transfer (automatic)</td>\n",
       "      <td>42.30</td>\n",
       "      <td>1840.75</td>\n",
       "      <td>Male</td>\n",
       "      <td>0</td>\n",
       "      <td>0</td>\n",
       "      <td>0</td>\n",
       "      <td>DSL</td>\n",
       "      <td>1</td>\n",
       "      <td>0</td>\n",
       "      <td>1</td>\n",
       "      <td>1</td>\n",
       "      <td>0</td>\n",
       "      <td>0</td>\n",
       "      <td>0</td>\n",
       "    </tr>\n",
       "    <tr>\n",
       "      <th>9237-HQITU</th>\n",
       "      <td>2019-09-01</td>\n",
       "      <td>2019-11-01 00:00:00</td>\n",
       "      <td>Month-to-month</td>\n",
       "      <td>1</td>\n",
       "      <td>Electronic check</td>\n",
       "      <td>70.70</td>\n",
       "      <td>151.65</td>\n",
       "      <td>Female</td>\n",
       "      <td>0</td>\n",
       "      <td>0</td>\n",
       "      <td>0</td>\n",
       "      <td>Fiber optic</td>\n",
       "      <td>0</td>\n",
       "      <td>0</td>\n",
       "      <td>0</td>\n",
       "      <td>0</td>\n",
       "      <td>0</td>\n",
       "      <td>0</td>\n",
       "      <td>0</td>\n",
       "    </tr>\n",
       "  </tbody>\n",
       "</table>\n",
       "</div>"
      ],
      "text/plain": [
       "            BeginDate              EndDate            Type  PaperlessBilling  \\\n",
       "customerID                                                                     \n",
       "7590-VHVEG 2020-01-01                   No  Month-to-month                 1   \n",
       "5575-GNVDE 2017-04-01                   No        One year                 0   \n",
       "3668-QPYBK 2019-10-01  2019-12-01 00:00:00  Month-to-month                 1   \n",
       "7795-CFOCW 2016-05-01                   No        One year                 0   \n",
       "9237-HQITU 2019-09-01  2019-11-01 00:00:00  Month-to-month                 1   \n",
       "\n",
       "                        PaymentMethod  MonthlyCharges TotalCharges  gender  \\\n",
       "customerID                                                                   \n",
       "7590-VHVEG           Electronic check           29.85        29.85  Female   \n",
       "5575-GNVDE               Mailed check           56.95       1889.5    Male   \n",
       "3668-QPYBK               Mailed check           53.85       108.15    Male   \n",
       "7795-CFOCW  Bank transfer (automatic)           42.30      1840.75    Male   \n",
       "9237-HQITU           Electronic check           70.70       151.65  Female   \n",
       "\n",
       "            SeniorCitizen  Partner  Dependents InternetService  \\\n",
       "customerID                                                       \n",
       "7590-VHVEG              0        1           0             DSL   \n",
       "5575-GNVDE              0        0           0             DSL   \n",
       "3668-QPYBK              0        0           0             DSL   \n",
       "7795-CFOCW              0        0           0             DSL   \n",
       "9237-HQITU              0        0           0     Fiber optic   \n",
       "\n",
       "            OnlineSecurity  OnlineBackup  DeviceProtection  TechSupport  \\\n",
       "customerID                                                                \n",
       "7590-VHVEG               0             1                 0            0   \n",
       "5575-GNVDE               1             0                 1            0   \n",
       "3668-QPYBK               1             1                 0            0   \n",
       "7795-CFOCW               1             0                 1            1   \n",
       "9237-HQITU               0             0                 0            0   \n",
       "\n",
       "            StreamingTV  StreamingMovies  MultipleLines  \n",
       "customerID                                               \n",
       "7590-VHVEG            0                0              0  \n",
       "5575-GNVDE            0                0              0  \n",
       "3668-QPYBK            0                0              0  \n",
       "7795-CFOCW            0                0              0  \n",
       "9237-HQITU            0                0              0  "
      ]
     },
     "execution_count": 26,
     "metadata": {},
     "output_type": "execute_result"
    }
   ],
   "source": [
    "# Change yes/no features into 0/1 \n",
    "columns = ['PaperlessBilling', 'Partner', 'Dependents', 'OnlineSecurity', 'OnlineBackup',\n",
    "          'DeviceProtection', 'TechSupport', 'StreamingTV', 'StreamingMovies', 'MultipleLines']\n",
    "for column in columns:\n",
    "    df[column] = df[column].replace({'Yes': 1, 'No': 0})\n",
    "df.head()"
   ]
  },
  {
   "cell_type": "code",
   "execution_count": 27,
   "metadata": {},
   "outputs": [],
   "source": [
    "# Convert 'TotalCharges' into float\n",
    "df['TotalCharges'] = df['TotalCharges'].astype(float)"
   ]
  },
  {
   "cell_type": "markdown",
   "metadata": {},
   "source": [
    "### Grouping churn customers' data\n",
    "\n",
    "Before we convert our target (EndDate) into a binary 0/1 column - and in order not to lose the data about how much time it took customers to leave (those that did leave) - we will create another df (df1) with this data:\n",
    "Later we will look at the distribution of the 'DaysToChurn'. It might be of value for the marketing team."
   ]
  },
  {
   "cell_type": "code",
   "execution_count": 28,
   "metadata": {
    "scrolled": false
   },
   "outputs": [
    {
     "data": {
      "text/html": [
       "<div>\n",
       "<style scoped>\n",
       "    .dataframe tbody tr th:only-of-type {\n",
       "        vertical-align: middle;\n",
       "    }\n",
       "\n",
       "    .dataframe tbody tr th {\n",
       "        vertical-align: top;\n",
       "    }\n",
       "\n",
       "    .dataframe thead th {\n",
       "        text-align: right;\n",
       "    }\n",
       "</style>\n",
       "<table border=\"1\" class=\"dataframe\">\n",
       "  <thead>\n",
       "    <tr style=\"text-align: right;\">\n",
       "      <th></th>\n",
       "      <th>BeginDate</th>\n",
       "      <th>EndDate</th>\n",
       "      <th>Type</th>\n",
       "      <th>PaperlessBilling</th>\n",
       "      <th>PaymentMethod</th>\n",
       "      <th>MonthlyCharges</th>\n",
       "      <th>TotalCharges</th>\n",
       "      <th>gender</th>\n",
       "      <th>SeniorCitizen</th>\n",
       "      <th>Partner</th>\n",
       "      <th>Dependents</th>\n",
       "      <th>InternetService</th>\n",
       "      <th>OnlineSecurity</th>\n",
       "      <th>OnlineBackup</th>\n",
       "      <th>DeviceProtection</th>\n",
       "      <th>TechSupport</th>\n",
       "      <th>StreamingTV</th>\n",
       "      <th>StreamingMovies</th>\n",
       "      <th>MultipleLines</th>\n",
       "      <th>DaysToChurn</th>\n",
       "    </tr>\n",
       "    <tr>\n",
       "      <th>customerID</th>\n",
       "      <th></th>\n",
       "      <th></th>\n",
       "      <th></th>\n",
       "      <th></th>\n",
       "      <th></th>\n",
       "      <th></th>\n",
       "      <th></th>\n",
       "      <th></th>\n",
       "      <th></th>\n",
       "      <th></th>\n",
       "      <th></th>\n",
       "      <th></th>\n",
       "      <th></th>\n",
       "      <th></th>\n",
       "      <th></th>\n",
       "      <th></th>\n",
       "      <th></th>\n",
       "      <th></th>\n",
       "      <th></th>\n",
       "      <th></th>\n",
       "    </tr>\n",
       "  </thead>\n",
       "  <tbody>\n",
       "    <tr>\n",
       "      <th>3668-QPYBK</th>\n",
       "      <td>2019-10-01</td>\n",
       "      <td>2019-12-01</td>\n",
       "      <td>Month-to-month</td>\n",
       "      <td>1</td>\n",
       "      <td>Mailed check</td>\n",
       "      <td>53.85</td>\n",
       "      <td>108.15</td>\n",
       "      <td>Male</td>\n",
       "      <td>0</td>\n",
       "      <td>0</td>\n",
       "      <td>0</td>\n",
       "      <td>DSL</td>\n",
       "      <td>1</td>\n",
       "      <td>1</td>\n",
       "      <td>0</td>\n",
       "      <td>0</td>\n",
       "      <td>0</td>\n",
       "      <td>0</td>\n",
       "      <td>0</td>\n",
       "      <td>61 days</td>\n",
       "    </tr>\n",
       "    <tr>\n",
       "      <th>9237-HQITU</th>\n",
       "      <td>2019-09-01</td>\n",
       "      <td>2019-11-01</td>\n",
       "      <td>Month-to-month</td>\n",
       "      <td>1</td>\n",
       "      <td>Electronic check</td>\n",
       "      <td>70.70</td>\n",
       "      <td>151.65</td>\n",
       "      <td>Female</td>\n",
       "      <td>0</td>\n",
       "      <td>0</td>\n",
       "      <td>0</td>\n",
       "      <td>Fiber optic</td>\n",
       "      <td>0</td>\n",
       "      <td>0</td>\n",
       "      <td>0</td>\n",
       "      <td>0</td>\n",
       "      <td>0</td>\n",
       "      <td>0</td>\n",
       "      <td>0</td>\n",
       "      <td>61 days</td>\n",
       "    </tr>\n",
       "    <tr>\n",
       "      <th>9305-CDSKC</th>\n",
       "      <td>2019-03-01</td>\n",
       "      <td>2019-11-01</td>\n",
       "      <td>Month-to-month</td>\n",
       "      <td>1</td>\n",
       "      <td>Electronic check</td>\n",
       "      <td>99.65</td>\n",
       "      <td>820.50</td>\n",
       "      <td>Female</td>\n",
       "      <td>0</td>\n",
       "      <td>0</td>\n",
       "      <td>0</td>\n",
       "      <td>Fiber optic</td>\n",
       "      <td>0</td>\n",
       "      <td>0</td>\n",
       "      <td>1</td>\n",
       "      <td>0</td>\n",
       "      <td>1</td>\n",
       "      <td>1</td>\n",
       "      <td>1</td>\n",
       "      <td>245 days</td>\n",
       "    </tr>\n",
       "    <tr>\n",
       "      <th>7892-POOKP</th>\n",
       "      <td>2017-07-01</td>\n",
       "      <td>2019-11-01</td>\n",
       "      <td>Month-to-month</td>\n",
       "      <td>1</td>\n",
       "      <td>Electronic check</td>\n",
       "      <td>104.80</td>\n",
       "      <td>3046.05</td>\n",
       "      <td>Female</td>\n",
       "      <td>0</td>\n",
       "      <td>1</td>\n",
       "      <td>0</td>\n",
       "      <td>Fiber optic</td>\n",
       "      <td>0</td>\n",
       "      <td>0</td>\n",
       "      <td>1</td>\n",
       "      <td>1</td>\n",
       "      <td>1</td>\n",
       "      <td>1</td>\n",
       "      <td>1</td>\n",
       "      <td>853 days</td>\n",
       "    </tr>\n",
       "    <tr>\n",
       "      <th>0280-XJGEX</th>\n",
       "      <td>2015-09-01</td>\n",
       "      <td>2019-10-01</td>\n",
       "      <td>Month-to-month</td>\n",
       "      <td>1</td>\n",
       "      <td>Bank transfer (automatic)</td>\n",
       "      <td>103.70</td>\n",
       "      <td>5036.30</td>\n",
       "      <td>Male</td>\n",
       "      <td>0</td>\n",
       "      <td>0</td>\n",
       "      <td>0</td>\n",
       "      <td>Fiber optic</td>\n",
       "      <td>0</td>\n",
       "      <td>1</td>\n",
       "      <td>1</td>\n",
       "      <td>0</td>\n",
       "      <td>1</td>\n",
       "      <td>1</td>\n",
       "      <td>1</td>\n",
       "      <td>1491 days</td>\n",
       "    </tr>\n",
       "  </tbody>\n",
       "</table>\n",
       "</div>"
      ],
      "text/plain": [
       "            BeginDate    EndDate            Type  PaperlessBilling  \\\n",
       "customerID                                                           \n",
       "3668-QPYBK 2019-10-01 2019-12-01  Month-to-month                 1   \n",
       "9237-HQITU 2019-09-01 2019-11-01  Month-to-month                 1   \n",
       "9305-CDSKC 2019-03-01 2019-11-01  Month-to-month                 1   \n",
       "7892-POOKP 2017-07-01 2019-11-01  Month-to-month                 1   \n",
       "0280-XJGEX 2015-09-01 2019-10-01  Month-to-month                 1   \n",
       "\n",
       "                        PaymentMethod  MonthlyCharges  TotalCharges  gender  \\\n",
       "customerID                                                                    \n",
       "3668-QPYBK               Mailed check           53.85        108.15    Male   \n",
       "9237-HQITU           Electronic check           70.70        151.65  Female   \n",
       "9305-CDSKC           Electronic check           99.65        820.50  Female   \n",
       "7892-POOKP           Electronic check          104.80       3046.05  Female   \n",
       "0280-XJGEX  Bank transfer (automatic)          103.70       5036.30    Male   \n",
       "\n",
       "            SeniorCitizen  Partner  Dependents InternetService  \\\n",
       "customerID                                                       \n",
       "3668-QPYBK              0        0           0             DSL   \n",
       "9237-HQITU              0        0           0     Fiber optic   \n",
       "9305-CDSKC              0        0           0     Fiber optic   \n",
       "7892-POOKP              0        1           0     Fiber optic   \n",
       "0280-XJGEX              0        0           0     Fiber optic   \n",
       "\n",
       "            OnlineSecurity  OnlineBackup  DeviceProtection  TechSupport  \\\n",
       "customerID                                                                \n",
       "3668-QPYBK               1             1                 0            0   \n",
       "9237-HQITU               0             0                 0            0   \n",
       "9305-CDSKC               0             0                 1            0   \n",
       "7892-POOKP               0             0                 1            1   \n",
       "0280-XJGEX               0             1                 1            0   \n",
       "\n",
       "            StreamingTV  StreamingMovies  MultipleLines DaysToChurn  \n",
       "customerID                                                           \n",
       "3668-QPYBK            0                0              0     61 days  \n",
       "9237-HQITU            0                0              0     61 days  \n",
       "9305-CDSKC            1                1              1    245 days  \n",
       "7892-POOKP            1                1              1    853 days  \n",
       "0280-XJGEX            1                1              1   1491 days  "
      ]
     },
     "execution_count": 28,
     "metadata": {},
     "output_type": "execute_result"
    }
   ],
   "source": [
    "# Creating another df, only of 'churn' customers, with the time it took them to leave:\n",
    "df1 = df[df['EndDate'] != 'No'] \n",
    "df1['EndDate'] = pd.to_datetime(df1['EndDate']) \n",
    "df1['DaysToChurn'] = df1['EndDate'] - df1['BeginDate']\n",
    "df1.head() "
   ]
  },
  {
   "cell_type": "code",
   "execution_count": 29,
   "metadata": {},
   "outputs": [
    {
     "data": {
      "text/html": [
       "<div>\n",
       "<style scoped>\n",
       "    .dataframe tbody tr th:only-of-type {\n",
       "        vertical-align: middle;\n",
       "    }\n",
       "\n",
       "    .dataframe tbody tr th {\n",
       "        vertical-align: top;\n",
       "    }\n",
       "\n",
       "    .dataframe thead th {\n",
       "        text-align: right;\n",
       "    }\n",
       "</style>\n",
       "<table border=\"1\" class=\"dataframe\">\n",
       "  <thead>\n",
       "    <tr style=\"text-align: right;\">\n",
       "      <th></th>\n",
       "      <th>BeginDate</th>\n",
       "      <th>EndDate</th>\n",
       "      <th>Type</th>\n",
       "      <th>PaperlessBilling</th>\n",
       "      <th>PaymentMethod</th>\n",
       "      <th>MonthlyCharges</th>\n",
       "      <th>TotalCharges</th>\n",
       "      <th>gender</th>\n",
       "      <th>SeniorCitizen</th>\n",
       "      <th>Partner</th>\n",
       "      <th>Dependents</th>\n",
       "      <th>InternetService</th>\n",
       "      <th>OnlineSecurity</th>\n",
       "      <th>OnlineBackup</th>\n",
       "      <th>DeviceProtection</th>\n",
       "      <th>TechSupport</th>\n",
       "      <th>StreamingTV</th>\n",
       "      <th>StreamingMovies</th>\n",
       "      <th>MultipleLines</th>\n",
       "    </tr>\n",
       "    <tr>\n",
       "      <th>customerID</th>\n",
       "      <th></th>\n",
       "      <th></th>\n",
       "      <th></th>\n",
       "      <th></th>\n",
       "      <th></th>\n",
       "      <th></th>\n",
       "      <th></th>\n",
       "      <th></th>\n",
       "      <th></th>\n",
       "      <th></th>\n",
       "      <th></th>\n",
       "      <th></th>\n",
       "      <th></th>\n",
       "      <th></th>\n",
       "      <th></th>\n",
       "      <th></th>\n",
       "      <th></th>\n",
       "      <th></th>\n",
       "      <th></th>\n",
       "    </tr>\n",
       "  </thead>\n",
       "  <tbody>\n",
       "    <tr>\n",
       "      <th>7590-VHVEG</th>\n",
       "      <td>2020-01-01</td>\n",
       "      <td>0</td>\n",
       "      <td>Month-to-month</td>\n",
       "      <td>1</td>\n",
       "      <td>Electronic check</td>\n",
       "      <td>29.85</td>\n",
       "      <td>29.85</td>\n",
       "      <td>Female</td>\n",
       "      <td>0</td>\n",
       "      <td>1</td>\n",
       "      <td>0</td>\n",
       "      <td>DSL</td>\n",
       "      <td>0</td>\n",
       "      <td>1</td>\n",
       "      <td>0</td>\n",
       "      <td>0</td>\n",
       "      <td>0</td>\n",
       "      <td>0</td>\n",
       "      <td>0</td>\n",
       "    </tr>\n",
       "    <tr>\n",
       "      <th>5575-GNVDE</th>\n",
       "      <td>2017-04-01</td>\n",
       "      <td>0</td>\n",
       "      <td>One year</td>\n",
       "      <td>0</td>\n",
       "      <td>Mailed check</td>\n",
       "      <td>56.95</td>\n",
       "      <td>1889.50</td>\n",
       "      <td>Male</td>\n",
       "      <td>0</td>\n",
       "      <td>0</td>\n",
       "      <td>0</td>\n",
       "      <td>DSL</td>\n",
       "      <td>1</td>\n",
       "      <td>0</td>\n",
       "      <td>1</td>\n",
       "      <td>0</td>\n",
       "      <td>0</td>\n",
       "      <td>0</td>\n",
       "      <td>0</td>\n",
       "    </tr>\n",
       "    <tr>\n",
       "      <th>3668-QPYBK</th>\n",
       "      <td>2019-10-01</td>\n",
       "      <td>1</td>\n",
       "      <td>Month-to-month</td>\n",
       "      <td>1</td>\n",
       "      <td>Mailed check</td>\n",
       "      <td>53.85</td>\n",
       "      <td>108.15</td>\n",
       "      <td>Male</td>\n",
       "      <td>0</td>\n",
       "      <td>0</td>\n",
       "      <td>0</td>\n",
       "      <td>DSL</td>\n",
       "      <td>1</td>\n",
       "      <td>1</td>\n",
       "      <td>0</td>\n",
       "      <td>0</td>\n",
       "      <td>0</td>\n",
       "      <td>0</td>\n",
       "      <td>0</td>\n",
       "    </tr>\n",
       "    <tr>\n",
       "      <th>7795-CFOCW</th>\n",
       "      <td>2016-05-01</td>\n",
       "      <td>0</td>\n",
       "      <td>One year</td>\n",
       "      <td>0</td>\n",
       "      <td>Bank transfer (automatic)</td>\n",
       "      <td>42.30</td>\n",
       "      <td>1840.75</td>\n",
       "      <td>Male</td>\n",
       "      <td>0</td>\n",
       "      <td>0</td>\n",
       "      <td>0</td>\n",
       "      <td>DSL</td>\n",
       "      <td>1</td>\n",
       "      <td>0</td>\n",
       "      <td>1</td>\n",
       "      <td>1</td>\n",
       "      <td>0</td>\n",
       "      <td>0</td>\n",
       "      <td>0</td>\n",
       "    </tr>\n",
       "    <tr>\n",
       "      <th>9237-HQITU</th>\n",
       "      <td>2019-09-01</td>\n",
       "      <td>1</td>\n",
       "      <td>Month-to-month</td>\n",
       "      <td>1</td>\n",
       "      <td>Electronic check</td>\n",
       "      <td>70.70</td>\n",
       "      <td>151.65</td>\n",
       "      <td>Female</td>\n",
       "      <td>0</td>\n",
       "      <td>0</td>\n",
       "      <td>0</td>\n",
       "      <td>Fiber optic</td>\n",
       "      <td>0</td>\n",
       "      <td>0</td>\n",
       "      <td>0</td>\n",
       "      <td>0</td>\n",
       "      <td>0</td>\n",
       "      <td>0</td>\n",
       "      <td>0</td>\n",
       "    </tr>\n",
       "  </tbody>\n",
       "</table>\n",
       "</div>"
      ],
      "text/plain": [
       "            BeginDate  EndDate            Type  PaperlessBilling  \\\n",
       "customerID                                                         \n",
       "7590-VHVEG 2020-01-01        0  Month-to-month                 1   \n",
       "5575-GNVDE 2017-04-01        0        One year                 0   \n",
       "3668-QPYBK 2019-10-01        1  Month-to-month                 1   \n",
       "7795-CFOCW 2016-05-01        0        One year                 0   \n",
       "9237-HQITU 2019-09-01        1  Month-to-month                 1   \n",
       "\n",
       "                        PaymentMethod  MonthlyCharges  TotalCharges  gender  \\\n",
       "customerID                                                                    \n",
       "7590-VHVEG           Electronic check           29.85         29.85  Female   \n",
       "5575-GNVDE               Mailed check           56.95       1889.50    Male   \n",
       "3668-QPYBK               Mailed check           53.85        108.15    Male   \n",
       "7795-CFOCW  Bank transfer (automatic)           42.30       1840.75    Male   \n",
       "9237-HQITU           Electronic check           70.70        151.65  Female   \n",
       "\n",
       "            SeniorCitizen  Partner  Dependents InternetService  \\\n",
       "customerID                                                       \n",
       "7590-VHVEG              0        1           0             DSL   \n",
       "5575-GNVDE              0        0           0             DSL   \n",
       "3668-QPYBK              0        0           0             DSL   \n",
       "7795-CFOCW              0        0           0             DSL   \n",
       "9237-HQITU              0        0           0     Fiber optic   \n",
       "\n",
       "            OnlineSecurity  OnlineBackup  DeviceProtection  TechSupport  \\\n",
       "customerID                                                                \n",
       "7590-VHVEG               0             1                 0            0   \n",
       "5575-GNVDE               1             0                 1            0   \n",
       "3668-QPYBK               1             1                 0            0   \n",
       "7795-CFOCW               1             0                 1            1   \n",
       "9237-HQITU               0             0                 0            0   \n",
       "\n",
       "            StreamingTV  StreamingMovies  MultipleLines  \n",
       "customerID                                               \n",
       "7590-VHVEG            0                0              0  \n",
       "5575-GNVDE            0                0              0  \n",
       "3668-QPYBK            0                0              0  \n",
       "7795-CFOCW            0                0              0  \n",
       "9237-HQITU            0                0              0  "
      ]
     },
     "execution_count": 29,
     "metadata": {},
     "output_type": "execute_result"
    }
   ],
   "source": [
    "# Turn 'EndDate' (our target) in df into a 0/1 column\n",
    "df.loc[(df['EndDate'] != 'No'), 'EndDate'] = 'Yes'\n",
    "df['EndDate'] = df['EndDate'].replace({'Yes': 1, 'No': 0})\n",
    "df.head()"
   ]
  },
  {
   "cell_type": "code",
   "execution_count": 30,
   "metadata": {},
   "outputs": [
    {
     "name": "stdout",
     "output_type": "stream",
     "text": [
      "<class 'pandas.core.frame.DataFrame'>\n",
      "Index: 7032 entries, 7590-VHVEG to 3186-AJIEK\n",
      "Data columns (total 19 columns):\n",
      " #   Column            Non-Null Count  Dtype         \n",
      "---  ------            --------------  -----         \n",
      " 0   BeginDate         7032 non-null   datetime64[ns]\n",
      " 1   EndDate           7032 non-null   int64         \n",
      " 2   Type              7032 non-null   object        \n",
      " 3   PaperlessBilling  7032 non-null   int64         \n",
      " 4   PaymentMethod     7032 non-null   object        \n",
      " 5   MonthlyCharges    7032 non-null   float64       \n",
      " 6   TotalCharges      7032 non-null   float64       \n",
      " 7   gender            7032 non-null   object        \n",
      " 8   SeniorCitizen     7032 non-null   int64         \n",
      " 9   Partner           7032 non-null   int64         \n",
      " 10  Dependents        7032 non-null   int64         \n",
      " 11  InternetService   7032 non-null   object        \n",
      " 12  OnlineSecurity    7032 non-null   int64         \n",
      " 13  OnlineBackup      7032 non-null   int64         \n",
      " 14  DeviceProtection  7032 non-null   int64         \n",
      " 15  TechSupport       7032 non-null   int64         \n",
      " 16  StreamingTV       7032 non-null   int64         \n",
      " 17  StreamingMovies   7032 non-null   int64         \n",
      " 18  MultipleLines     7032 non-null   int64         \n",
      "dtypes: datetime64[ns](1), float64(2), int64(12), object(4)\n",
      "memory usage: 1.1+ MB\n"
     ]
    }
   ],
   "source": [
    "# Checking all datatypes are OK to continue:\n",
    "df.info()"
   ]
  },
  {
   "cell_type": "markdown",
   "metadata": {},
   "source": [
    "## EDA\n",
    "\n",
    "### BeginDate and EndDate "
   ]
  },
  {
   "cell_type": "code",
   "execution_count": 31,
   "metadata": {
    "scrolled": false
   },
   "outputs": [
    {
     "data": {
      "text/plain": [
       "count                    7032\n",
       "unique                     76\n",
       "top       2014-02-01 00:00:00\n",
       "freq                      366\n",
       "first     2013-10-01 00:00:00\n",
       "last      2020-01-01 00:00:00\n",
       "Name: BeginDate, dtype: object"
      ]
     },
     "execution_count": 31,
     "metadata": {},
     "output_type": "execute_result"
    }
   ],
   "source": [
    "# Look at the timespan of BeginDate (after we removed the few customers with BeginDate in same day of data retrieval)\n",
    "df['BeginDate'].describe()"
   ]
  },
  {
   "cell_type": "code",
   "execution_count": 32,
   "metadata": {
    "scrolled": false
   },
   "outputs": [
    {
     "data": {
      "image/png": "[encoded data removed]",
      "text/plain": [
       "<Figure size 1080x576 with 1 Axes>"
      ]
     },
     "metadata": {
      "needs_background": "light"
     },
     "output_type": "display_data"
    }
   ],
   "source": [
    "# How many customers recruited every month (in the data)\n",
    "customers_per_BeginMonth = contract.pivot_table(index='BeginDate', values='customerID', aggfunc='count')\n",
    "customers_per_BeginMonth.plot(kind='bar', grid=True, figsize=(15, 8))\n",
    "plt.title('Number of customers recruited per month (in the data)')\n",
    "plt.ylabel('Number of customers recruited')\n",
    "plt.show;"
   ]
  },
  {
   "cell_type": "code",
   "execution_count": 33,
   "metadata": {
    "scrolled": true
   },
   "outputs": [
    {
     "data": {
      "image/png": "[encoded data removed]",
      "text/plain": [
       "<Figure size 1080x576 with 1 Axes>"
      ]
     },
     "metadata": {
      "needs_background": "light"
     },
     "output_type": "display_data"
    }
   ],
   "source": [
    "# Churn customers per their BeginMonth: \n",
    "contract_churn = contract[contract['EndDate'] != 'No']\n",
    "Churn_cust_per_BeginMonth = contract_churn.pivot_table(\n",
    "    index='BeginDate', values='customerID', aggfunc='count')\n",
    "Churn_cust_per_BeginMonth.plot(kind='bar', grid=True, figsize=(15, 8))\n",
    "plt.title('Churn customers per BeginMonth')\n",
    "plt.ylabel('Number of customers')\n",
    "plt.show;"
   ]
  },
  {
   "cell_type": "code",
   "execution_count": 34,
   "metadata": {},
   "outputs": [
    {
     "data": {
      "text/html": [
       "<div>\n",
       "<style scoped>\n",
       "    .dataframe tbody tr th:only-of-type {\n",
       "        vertical-align: middle;\n",
       "    }\n",
       "\n",
       "    .dataframe tbody tr th {\n",
       "        vertical-align: top;\n",
       "    }\n",
       "\n",
       "    .dataframe thead th {\n",
       "        text-align: right;\n",
       "    }\n",
       "</style>\n",
       "<table border=\"1\" class=\"dataframe\">\n",
       "  <thead>\n",
       "    <tr style=\"text-align: right;\">\n",
       "      <th></th>\n",
       "      <th>BeginDate</th>\n",
       "      <th>EndDate</th>\n",
       "      <th>Type</th>\n",
       "      <th>PaperlessBilling</th>\n",
       "      <th>PaymentMethod</th>\n",
       "      <th>MonthlyCharges</th>\n",
       "      <th>TotalCharges</th>\n",
       "      <th>gender</th>\n",
       "      <th>SeniorCitizen</th>\n",
       "      <th>Partner</th>\n",
       "      <th>...</th>\n",
       "      <th>InternetService</th>\n",
       "      <th>OnlineSecurity</th>\n",
       "      <th>OnlineBackup</th>\n",
       "      <th>DeviceProtection</th>\n",
       "      <th>TechSupport</th>\n",
       "      <th>StreamingTV</th>\n",
       "      <th>StreamingMovies</th>\n",
       "      <th>MultipleLines</th>\n",
       "      <th>MonthBegin</th>\n",
       "      <th>YearBegin</th>\n",
       "    </tr>\n",
       "    <tr>\n",
       "      <th>customerID</th>\n",
       "      <th></th>\n",
       "      <th></th>\n",
       "      <th></th>\n",
       "      <th></th>\n",
       "      <th></th>\n",
       "      <th></th>\n",
       "      <th></th>\n",
       "      <th></th>\n",
       "      <th></th>\n",
       "      <th></th>\n",
       "      <th></th>\n",
       "      <th></th>\n",
       "      <th></th>\n",
       "      <th></th>\n",
       "      <th></th>\n",
       "      <th></th>\n",
       "      <th></th>\n",
       "      <th></th>\n",
       "      <th></th>\n",
       "      <th></th>\n",
       "      <th></th>\n",
       "    </tr>\n",
       "  </thead>\n",
       "  <tbody>\n",
       "    <tr>\n",
       "      <th>7590-VHVEG</th>\n",
       "      <td>2020-01-01</td>\n",
       "      <td>0</td>\n",
       "      <td>Month-to-month</td>\n",
       "      <td>1</td>\n",
       "      <td>Electronic check</td>\n",
       "      <td>29.85</td>\n",
       "      <td>29.85</td>\n",
       "      <td>Female</td>\n",
       "      <td>0</td>\n",
       "      <td>1</td>\n",
       "      <td>...</td>\n",
       "      <td>DSL</td>\n",
       "      <td>0</td>\n",
       "      <td>1</td>\n",
       "      <td>0</td>\n",
       "      <td>0</td>\n",
       "      <td>0</td>\n",
       "      <td>0</td>\n",
       "      <td>0</td>\n",
       "      <td>1</td>\n",
       "      <td>2020</td>\n",
       "    </tr>\n",
       "    <tr>\n",
       "      <th>5575-GNVDE</th>\n",
       "      <td>2017-04-01</td>\n",
       "      <td>0</td>\n",
       "      <td>One year</td>\n",
       "      <td>0</td>\n",
       "      <td>Mailed check</td>\n",
       "      <td>56.95</td>\n",
       "      <td>1889.50</td>\n",
       "      <td>Male</td>\n",
       "      <td>0</td>\n",
       "      <td>0</td>\n",
       "      <td>...</td>\n",
       "      <td>DSL</td>\n",
       "      <td>1</td>\n",
       "      <td>0</td>\n",
       "      <td>1</td>\n",
       "      <td>0</td>\n",
       "      <td>0</td>\n",
       "      <td>0</td>\n",
       "      <td>0</td>\n",
       "      <td>4</td>\n",
       "      <td>2017</td>\n",
       "    </tr>\n",
       "    <tr>\n",
       "      <th>3668-QPYBK</th>\n",
       "      <td>2019-10-01</td>\n",
       "      <td>1</td>\n",
       "      <td>Month-to-month</td>\n",
       "      <td>1</td>\n",
       "      <td>Mailed check</td>\n",
       "      <td>53.85</td>\n",
       "      <td>108.15</td>\n",
       "      <td>Male</td>\n",
       "      <td>0</td>\n",
       "      <td>0</td>\n",
       "      <td>...</td>\n",
       "      <td>DSL</td>\n",
       "      <td>1</td>\n",
       "      <td>1</td>\n",
       "      <td>0</td>\n",
       "      <td>0</td>\n",
       "      <td>0</td>\n",
       "      <td>0</td>\n",
       "      <td>0</td>\n",
       "      <td>10</td>\n",
       "      <td>2019</td>\n",
       "    </tr>\n",
       "    <tr>\n",
       "      <th>7795-CFOCW</th>\n",
       "      <td>2016-05-01</td>\n",
       "      <td>0</td>\n",
       "      <td>One year</td>\n",
       "      <td>0</td>\n",
       "      <td>Bank transfer (automatic)</td>\n",
       "      <td>42.30</td>\n",
       "      <td>1840.75</td>\n",
       "      <td>Male</td>\n",
       "      <td>0</td>\n",
       "      <td>0</td>\n",
       "      <td>...</td>\n",
       "      <td>DSL</td>\n",
       "      <td>1</td>\n",
       "      <td>0</td>\n",
       "      <td>1</td>\n",
       "      <td>1</td>\n",
       "      <td>0</td>\n",
       "      <td>0</td>\n",
       "      <td>0</td>\n",
       "      <td>5</td>\n",
       "      <td>2016</td>\n",
       "    </tr>\n",
       "    <tr>\n",
       "      <th>9237-HQITU</th>\n",
       "      <td>2019-09-01</td>\n",
       "      <td>1</td>\n",
       "      <td>Month-to-month</td>\n",
       "      <td>1</td>\n",
       "      <td>Electronic check</td>\n",
       "      <td>70.70</td>\n",
       "      <td>151.65</td>\n",
       "      <td>Female</td>\n",
       "      <td>0</td>\n",
       "      <td>0</td>\n",
       "      <td>...</td>\n",
       "      <td>Fiber optic</td>\n",
       "      <td>0</td>\n",
       "      <td>0</td>\n",
       "      <td>0</td>\n",
       "      <td>0</td>\n",
       "      <td>0</td>\n",
       "      <td>0</td>\n",
       "      <td>0</td>\n",
       "      <td>9</td>\n",
       "      <td>2019</td>\n",
       "    </tr>\n",
       "  </tbody>\n",
       "</table>\n",
       "<p>5 rows × 21 columns</p>\n",
       "</div>"
      ],
      "text/plain": [
       "            BeginDate  EndDate            Type  PaperlessBilling  \\\n",
       "customerID                                                         \n",
       "7590-VHVEG 2020-01-01        0  Month-to-month                 1   \n",
       "5575-GNVDE 2017-04-01        0        One year                 0   \n",
       "3668-QPYBK 2019-10-01        1  Month-to-month                 1   \n",
       "7795-CFOCW 2016-05-01        0        One year                 0   \n",
       "9237-HQITU 2019-09-01        1  Month-to-month                 1   \n",
       "\n",
       "                        PaymentMethod  MonthlyCharges  TotalCharges  gender  \\\n",
       "customerID                                                                    \n",
       "7590-VHVEG           Electronic check           29.85         29.85  Female   \n",
       "5575-GNVDE               Mailed check           56.95       1889.50    Male   \n",
       "3668-QPYBK               Mailed check           53.85        108.15    Male   \n",
       "7795-CFOCW  Bank transfer (automatic)           42.30       1840.75    Male   \n",
       "9237-HQITU           Electronic check           70.70        151.65  Female   \n",
       "\n",
       "            SeniorCitizen  Partner  ...  InternetService OnlineSecurity  \\\n",
       "customerID                          ...                                   \n",
       "7590-VHVEG              0        1  ...              DSL              0   \n",
       "5575-GNVDE              0        0  ...              DSL              1   \n",
       "3668-QPYBK              0        0  ...              DSL              1   \n",
       "7795-CFOCW              0        0  ...              DSL              1   \n",
       "9237-HQITU              0        0  ...      Fiber optic              0   \n",
       "\n",
       "            OnlineBackup  DeviceProtection  TechSupport  StreamingTV  \\\n",
       "customerID                                                             \n",
       "7590-VHVEG             1                 0            0            0   \n",
       "5575-GNVDE             0                 1            0            0   \n",
       "3668-QPYBK             1                 0            0            0   \n",
       "7795-CFOCW             0                 1            1            0   \n",
       "9237-HQITU             0                 0            0            0   \n",
       "\n",
       "            StreamingMovies  MultipleLines  MonthBegin  YearBegin  \n",
       "customerID                                                         \n",
       "7590-VHVEG                0              0           1       2020  \n",
       "5575-GNVDE                0              0           4       2017  \n",
       "3668-QPYBK                0              0          10       2019  \n",
       "7795-CFOCW                0              0           5       2016  \n",
       "9237-HQITU                0              0           9       2019  \n",
       "\n",
       "[5 rows x 21 columns]"
      ]
     },
     "execution_count": 34,
     "metadata": {},
     "output_type": "execute_result"
    }
   ],
   "source": [
    "# Following the observations above - it is clear the month+year of BeginDate might carry an important signal for churn\n",
    "    #and therfore we will create 2 numeric features out of this data:\n",
    "df['MonthBegin'] = df['BeginDate'].dt.month\n",
    "df['YearBegin'] = df['BeginDate'].dt.year\n",
    "df.head()"
   ]
  },
  {
   "cell_type": "code",
   "execution_count": 35,
   "metadata": {
    "scrolled": true
   },
   "outputs": [
    {
     "data": {
      "text/plain": [
       "count                    1869\n",
       "unique                      4\n",
       "top       2019-11-01 00:00:00\n",
       "freq                      485\n",
       "first     2019-10-01 00:00:00\n",
       "last      2020-01-01 00:00:00\n",
       "Name: EndDate, dtype: object"
      ]
     },
     "execution_count": 35,
     "metadata": {},
     "output_type": "execute_result"
    }
   ],
   "source": [
    "# Look at the timespan of EndDate for those that left\n",
    "df1['EndDate'].describe()"
   ]
  },
  {
   "cell_type": "code",
   "execution_count": 36,
   "metadata": {
    "scrolled": true
   },
   "outputs": [
    {
     "data": {
      "text/plain": [
       "2019-11-01    485\n",
       "2019-12-01    466\n",
       "2020-01-01    460\n",
       "2019-10-01    458\n",
       "Name: EndDate, dtype: int64"
      ]
     },
     "execution_count": 36,
     "metadata": {},
     "output_type": "execute_result"
    }
   ],
   "source": [
    "# How many left in each date \n",
    "df1['EndDate'].value_counts()"
   ]
  },
  {
   "cell_type": "markdown",
   "metadata": {},
   "source": [
    "### Monthly Charges"
   ]
  },
  {
   "cell_type": "code",
   "execution_count": 37,
   "metadata": {},
   "outputs": [
    {
     "data": {
      "text/plain": [
       "count    7032.000000\n",
       "mean       64.798208\n",
       "std        30.085974\n",
       "min        18.250000\n",
       "25%        35.587500\n",
       "50%        70.350000\n",
       "75%        89.862500\n",
       "max       118.750000\n",
       "Name: MonthlyCharges, dtype: float64"
      ]
     },
     "execution_count": 37,
     "metadata": {},
     "output_type": "execute_result"
    }
   ],
   "source": [
    "# general statistics of monthly charges\n",
    "df['MonthlyCharges'].describe()"
   ]
  },
  {
   "cell_type": "code",
   "execution_count": 38,
   "metadata": {},
   "outputs": [
    {
     "data": {
      "image/png": "[encoded data removed]",
      "text/plain": [
       "<Figure size 864x432 with 1 Axes>"
      ]
     },
     "metadata": {
      "needs_background": "light"
     },
     "output_type": "display_data"
    }
   ],
   "source": [
    "# Histogram of MonthlyCharges distribution: \n",
    "plt.figure(figsize=(12, 6))\n",
    "df['MonthlyCharges'].hist(grid=True)\n",
    "plt.title('Monthly charges distribution')\n",
    "plt.xlabel('Monthly charge (USD)')\n",
    "plt.ylabel('# Customers')\n",
    "#plt.legend(['Feed', 'Rougher', 'Primary cleaner', 'Final'])\n",
    "plt.show;"
   ]
  },
  {
   "cell_type": "code",
   "execution_count": 39,
   "metadata": {
    "scrolled": true
   },
   "outputs": [
    {
     "data": {
      "image/png": "[encoded data removed]",
      "text/plain": [
       "<Figure size 864x432 with 1 Axes>"
      ]
     },
     "metadata": {
      "needs_background": "light"
     },
     "output_type": "display_data"
    }
   ],
   "source": [
    "# Histograms of monthly charges distributions by Churn/Retention: \n",
    "plt.figure(figsize=(12, 6))\n",
    "df[df['EndDate'] == 0]['MonthlyCharges'].hist(density=True, grid=True, alpha=0.7)\n",
    "df[df['EndDate'] == 1]['MonthlyCharges'].hist(density=True, alpha=0.7) \n",
    "plt.title('Monthly charges distributions Retention/Churn')\n",
    "plt.xlabel('Monthly charge (USD)')\n",
    "plt.ylabel('Customers Density')\n",
    "plt.legend(['Retention', 'Churn'])\n",
    "plt.show;"
   ]
  },
  {
   "cell_type": "markdown",
   "metadata": {},
   "source": [
    "The difference in distributions clearly shows that 'MonthlyCharges' might carry siganl about chance to churn.\n",
    "\n",
    "### In search of other trends / significant features "
   ]
  },
  {
   "cell_type": "code",
   "execution_count": 40,
   "metadata": {
    "scrolled": false
   },
   "outputs": [
    {
     "data": {
      "text/html": [
       "<div>\n",
       "<style scoped>\n",
       "    .dataframe tbody tr th:only-of-type {\n",
       "        vertical-align: middle;\n",
       "    }\n",
       "\n",
       "    .dataframe tbody tr th {\n",
       "        vertical-align: top;\n",
       "    }\n",
       "\n",
       "    .dataframe thead th {\n",
       "        text-align: right;\n",
       "    }\n",
       "</style>\n",
       "<table border=\"1\" class=\"dataframe\">\n",
       "  <thead>\n",
       "    <tr style=\"text-align: right;\">\n",
       "      <th></th>\n",
       "      <th>EndDate</th>\n",
       "      <th>PaperlessBilling</th>\n",
       "      <th>MonthlyCharges</th>\n",
       "      <th>TotalCharges</th>\n",
       "      <th>SeniorCitizen</th>\n",
       "      <th>Partner</th>\n",
       "      <th>Dependents</th>\n",
       "      <th>OnlineSecurity</th>\n",
       "      <th>OnlineBackup</th>\n",
       "      <th>DeviceProtection</th>\n",
       "      <th>TechSupport</th>\n",
       "      <th>StreamingTV</th>\n",
       "      <th>StreamingMovies</th>\n",
       "      <th>MultipleLines</th>\n",
       "      <th>MonthBegin</th>\n",
       "      <th>YearBegin</th>\n",
       "    </tr>\n",
       "  </thead>\n",
       "  <tbody>\n",
       "    <tr>\n",
       "      <th>EndDate</th>\n",
       "      <td>1.000000</td>\n",
       "      <td>0.191454</td>\n",
       "      <td>0.192858</td>\n",
       "      <td>-0.199484</td>\n",
       "      <td>0.150541</td>\n",
       "      <td>-0.149982</td>\n",
       "      <td>-0.163128</td>\n",
       "      <td>-0.171270</td>\n",
       "      <td>-0.082307</td>\n",
       "      <td>-0.066193</td>\n",
       "      <td>-0.164716</td>\n",
       "      <td>0.063254</td>\n",
       "      <td>0.060860</td>\n",
       "      <td>0.040033</td>\n",
       "      <td>0.180522</td>\n",
       "      <td>0.293770</td>\n",
       "    </tr>\n",
       "    <tr>\n",
       "      <th>PaperlessBilling</th>\n",
       "      <td>0.191454</td>\n",
       "      <td>1.000000</td>\n",
       "      <td>0.351930</td>\n",
       "      <td>0.157830</td>\n",
       "      <td>0.156258</td>\n",
       "      <td>-0.013957</td>\n",
       "      <td>-0.110131</td>\n",
       "      <td>-0.004051</td>\n",
       "      <td>0.127056</td>\n",
       "      <td>0.104079</td>\n",
       "      <td>0.037536</td>\n",
       "      <td>0.224241</td>\n",
       "      <td>0.211583</td>\n",
       "      <td>0.163746</td>\n",
       "      <td>0.022846</td>\n",
       "      <td>-0.017451</td>\n",
       "    </tr>\n",
       "    <tr>\n",
       "      <th>MonthlyCharges</th>\n",
       "      <td>0.192858</td>\n",
       "      <td>0.351930</td>\n",
       "      <td>1.000000</td>\n",
       "      <td>0.651065</td>\n",
       "      <td>0.219874</td>\n",
       "      <td>0.097825</td>\n",
       "      <td>-0.112343</td>\n",
       "      <td>0.296447</td>\n",
       "      <td>0.441529</td>\n",
       "      <td>0.482607</td>\n",
       "      <td>0.338301</td>\n",
       "      <td>0.629668</td>\n",
       "      <td>0.627235</td>\n",
       "      <td>0.490912</td>\n",
       "      <td>-0.019613</td>\n",
       "      <td>-0.263086</td>\n",
       "    </tr>\n",
       "    <tr>\n",
       "      <th>TotalCharges</th>\n",
       "      <td>-0.199484</td>\n",
       "      <td>0.157830</td>\n",
       "      <td>0.651065</td>\n",
       "      <td>1.000000</td>\n",
       "      <td>0.102411</td>\n",
       "      <td>0.319072</td>\n",
       "      <td>0.064653</td>\n",
       "      <td>0.412619</td>\n",
       "      <td>0.510100</td>\n",
       "      <td>0.522881</td>\n",
       "      <td>0.432868</td>\n",
       "      <td>0.515709</td>\n",
       "      <td>0.519867</td>\n",
       "      <td>0.469042</td>\n",
       "      <td>-0.196624</td>\n",
       "      <td>-0.819304</td>\n",
       "    </tr>\n",
       "    <tr>\n",
       "      <th>SeniorCitizen</th>\n",
       "      <td>0.150541</td>\n",
       "      <td>0.156258</td>\n",
       "      <td>0.219874</td>\n",
       "      <td>0.102411</td>\n",
       "      <td>1.000000</td>\n",
       "      <td>0.016957</td>\n",
       "      <td>-0.210550</td>\n",
       "      <td>-0.038576</td>\n",
       "      <td>0.066663</td>\n",
       "      <td>0.059514</td>\n",
       "      <td>-0.060577</td>\n",
       "      <td>0.105445</td>\n",
       "      <td>0.119842</td>\n",
       "      <td>0.142996</td>\n",
       "      <td>0.028569</td>\n",
       "      <td>-0.027386</td>\n",
       "    </tr>\n",
       "    <tr>\n",
       "      <th>Partner</th>\n",
       "      <td>-0.149982</td>\n",
       "      <td>-0.013957</td>\n",
       "      <td>0.097825</td>\n",
       "      <td>0.319072</td>\n",
       "      <td>0.016957</td>\n",
       "      <td>1.000000</td>\n",
       "      <td>0.452269</td>\n",
       "      <td>0.143346</td>\n",
       "      <td>0.141849</td>\n",
       "      <td>0.153556</td>\n",
       "      <td>0.120206</td>\n",
       "      <td>0.124483</td>\n",
       "      <td>0.118108</td>\n",
       "      <td>0.142561</td>\n",
       "      <td>-0.130636</td>\n",
       "      <td>-0.370110</td>\n",
       "    </tr>\n",
       "    <tr>\n",
       "      <th>Dependents</th>\n",
       "      <td>-0.163128</td>\n",
       "      <td>-0.110131</td>\n",
       "      <td>-0.112343</td>\n",
       "      <td>0.064653</td>\n",
       "      <td>-0.210550</td>\n",
       "      <td>0.452269</td>\n",
       "      <td>1.000000</td>\n",
       "      <td>0.080786</td>\n",
       "      <td>0.023639</td>\n",
       "      <td>0.013900</td>\n",
       "      <td>0.063053</td>\n",
       "      <td>-0.016499</td>\n",
       "      <td>-0.038375</td>\n",
       "      <td>-0.024307</td>\n",
       "      <td>-0.065231</td>\n",
       "      <td>-0.152367</td>\n",
       "    </tr>\n",
       "    <tr>\n",
       "      <th>OnlineSecurity</th>\n",
       "      <td>-0.171270</td>\n",
       "      <td>-0.004051</td>\n",
       "      <td>0.296447</td>\n",
       "      <td>0.412619</td>\n",
       "      <td>-0.038576</td>\n",
       "      <td>0.143346</td>\n",
       "      <td>0.080786</td>\n",
       "      <td>1.000000</td>\n",
       "      <td>0.283285</td>\n",
       "      <td>0.274875</td>\n",
       "      <td>0.354458</td>\n",
       "      <td>0.175514</td>\n",
       "      <td>0.187426</td>\n",
       "      <td>0.098592</td>\n",
       "      <td>-0.103832</td>\n",
       "      <td>-0.317782</td>\n",
       "    </tr>\n",
       "    <tr>\n",
       "      <th>OnlineBackup</th>\n",
       "      <td>-0.082307</td>\n",
       "      <td>0.127056</td>\n",
       "      <td>0.441529</td>\n",
       "      <td>0.510100</td>\n",
       "      <td>0.066663</td>\n",
       "      <td>0.141849</td>\n",
       "      <td>0.023639</td>\n",
       "      <td>0.283285</td>\n",
       "      <td>1.000000</td>\n",
       "      <td>0.303058</td>\n",
       "      <td>0.293705</td>\n",
       "      <td>0.281601</td>\n",
       "      <td>0.274523</td>\n",
       "      <td>0.202228</td>\n",
       "      <td>-0.073722</td>\n",
       "      <td>-0.360242</td>\n",
       "    </tr>\n",
       "    <tr>\n",
       "      <th>DeviceProtection</th>\n",
       "      <td>-0.066193</td>\n",
       "      <td>0.104079</td>\n",
       "      <td>0.482607</td>\n",
       "      <td>0.522881</td>\n",
       "      <td>0.059514</td>\n",
       "      <td>0.153556</td>\n",
       "      <td>0.013900</td>\n",
       "      <td>0.274875</td>\n",
       "      <td>0.303058</td>\n",
       "      <td>1.000000</td>\n",
       "      <td>0.332850</td>\n",
       "      <td>0.389924</td>\n",
       "      <td>0.402309</td>\n",
       "      <td>0.201733</td>\n",
       "      <td>-0.092690</td>\n",
       "      <td>-0.358494</td>\n",
       "    </tr>\n",
       "    <tr>\n",
       "      <th>TechSupport</th>\n",
       "      <td>-0.164716</td>\n",
       "      <td>0.037536</td>\n",
       "      <td>0.338301</td>\n",
       "      <td>0.432868</td>\n",
       "      <td>-0.060577</td>\n",
       "      <td>0.120206</td>\n",
       "      <td>0.063053</td>\n",
       "      <td>0.354458</td>\n",
       "      <td>0.293705</td>\n",
       "      <td>0.332850</td>\n",
       "      <td>1.000000</td>\n",
       "      <td>0.277549</td>\n",
       "      <td>0.280155</td>\n",
       "      <td>0.100421</td>\n",
       "      <td>-0.095541</td>\n",
       "      <td>-0.316116</td>\n",
       "    </tr>\n",
       "    <tr>\n",
       "      <th>StreamingTV</th>\n",
       "      <td>0.063254</td>\n",
       "      <td>0.224241</td>\n",
       "      <td>0.629668</td>\n",
       "      <td>0.515709</td>\n",
       "      <td>0.105445</td>\n",
       "      <td>0.124483</td>\n",
       "      <td>-0.016499</td>\n",
       "      <td>0.175514</td>\n",
       "      <td>0.281601</td>\n",
       "      <td>0.389924</td>\n",
       "      <td>0.277549</td>\n",
       "      <td>1.000000</td>\n",
       "      <td>0.533380</td>\n",
       "      <td>0.257804</td>\n",
       "      <td>-0.059697</td>\n",
       "      <td>-0.285588</td>\n",
       "    </tr>\n",
       "    <tr>\n",
       "      <th>StreamingMovies</th>\n",
       "      <td>0.060860</td>\n",
       "      <td>0.211583</td>\n",
       "      <td>0.627235</td>\n",
       "      <td>0.519867</td>\n",
       "      <td>0.119842</td>\n",
       "      <td>0.118108</td>\n",
       "      <td>-0.038375</td>\n",
       "      <td>0.187426</td>\n",
       "      <td>0.274523</td>\n",
       "      <td>0.402309</td>\n",
       "      <td>0.280155</td>\n",
       "      <td>0.533380</td>\n",
       "      <td>1.000000</td>\n",
       "      <td>0.259194</td>\n",
       "      <td>-0.070024</td>\n",
       "      <td>-0.288967</td>\n",
       "    </tr>\n",
       "    <tr>\n",
       "      <th>MultipleLines</th>\n",
       "      <td>0.040033</td>\n",
       "      <td>0.163746</td>\n",
       "      <td>0.490912</td>\n",
       "      <td>0.469042</td>\n",
       "      <td>0.142996</td>\n",
       "      <td>0.142561</td>\n",
       "      <td>-0.024307</td>\n",
       "      <td>0.098592</td>\n",
       "      <td>0.202228</td>\n",
       "      <td>0.201733</td>\n",
       "      <td>0.100421</td>\n",
       "      <td>0.257804</td>\n",
       "      <td>0.259194</td>\n",
       "      <td>1.000000</td>\n",
       "      <td>-0.077400</td>\n",
       "      <td>-0.336114</td>\n",
       "    </tr>\n",
       "    <tr>\n",
       "      <th>MonthBegin</th>\n",
       "      <td>0.180522</td>\n",
       "      <td>0.022846</td>\n",
       "      <td>-0.019613</td>\n",
       "      <td>-0.196624</td>\n",
       "      <td>0.028569</td>\n",
       "      <td>-0.130636</td>\n",
       "      <td>-0.065231</td>\n",
       "      <td>-0.103832</td>\n",
       "      <td>-0.073722</td>\n",
       "      <td>-0.092690</td>\n",
       "      <td>-0.095541</td>\n",
       "      <td>-0.059697</td>\n",
       "      <td>-0.070024</td>\n",
       "      <td>-0.077400</td>\n",
       "      <td>1.000000</td>\n",
       "      <td>0.084872</td>\n",
       "    </tr>\n",
       "    <tr>\n",
       "      <th>YearBegin</th>\n",
       "      <td>0.293770</td>\n",
       "      <td>-0.017451</td>\n",
       "      <td>-0.263086</td>\n",
       "      <td>-0.819304</td>\n",
       "      <td>-0.027386</td>\n",
       "      <td>-0.370110</td>\n",
       "      <td>-0.152367</td>\n",
       "      <td>-0.317782</td>\n",
       "      <td>-0.360242</td>\n",
       "      <td>-0.358494</td>\n",
       "      <td>-0.316116</td>\n",
       "      <td>-0.285588</td>\n",
       "      <td>-0.288967</td>\n",
       "      <td>-0.336114</td>\n",
       "      <td>0.084872</td>\n",
       "      <td>1.000000</td>\n",
       "    </tr>\n",
       "  </tbody>\n",
       "</table>\n",
       "</div>"
      ],
      "text/plain": [
       "                   EndDate  PaperlessBilling  MonthlyCharges  TotalCharges  \\\n",
       "EndDate           1.000000          0.191454        0.192858     -0.199484   \n",
       "PaperlessBilling  0.191454          1.000000        0.351930      0.157830   \n",
       "MonthlyCharges    0.192858          0.351930        1.000000      0.651065   \n",
       "TotalCharges     -0.199484          0.157830        0.651065      1.000000   \n",
       "SeniorCitizen     0.150541          0.156258        0.219874      0.102411   \n",
       "Partner          -0.149982         -0.013957        0.097825      0.319072   \n",
       "Dependents       -0.163128         -0.110131       -0.112343      0.064653   \n",
       "OnlineSecurity   -0.171270         -0.004051        0.296447      0.412619   \n",
       "OnlineBackup     -0.082307          0.127056        0.441529      0.510100   \n",
       "DeviceProtection -0.066193          0.104079        0.482607      0.522881   \n",
       "TechSupport      -0.164716          0.037536        0.338301      0.432868   \n",
       "StreamingTV       0.063254          0.224241        0.629668      0.515709   \n",
       "StreamingMovies   0.060860          0.211583        0.627235      0.519867   \n",
       "MultipleLines     0.040033          0.163746        0.490912      0.469042   \n",
       "MonthBegin        0.180522          0.022846       -0.019613     -0.196624   \n",
       "YearBegin         0.293770         -0.017451       -0.263086     -0.819304   \n",
       "\n",
       "                  SeniorCitizen   Partner  Dependents  OnlineSecurity  \\\n",
       "EndDate                0.150541 -0.149982   -0.163128       -0.171270   \n",
       "PaperlessBilling       0.156258 -0.013957   -0.110131       -0.004051   \n",
       "MonthlyCharges         0.219874  0.097825   -0.112343        0.296447   \n",
       "TotalCharges           0.102411  0.319072    0.064653        0.412619   \n",
       "SeniorCitizen          1.000000  0.016957   -0.210550       -0.038576   \n",
       "Partner                0.016957  1.000000    0.452269        0.143346   \n",
       "Dependents            -0.210550  0.452269    1.000000        0.080786   \n",
       "OnlineSecurity        -0.038576  0.143346    0.080786        1.000000   \n",
       "OnlineBackup           0.066663  0.141849    0.023639        0.283285   \n",
       "DeviceProtection       0.059514  0.153556    0.013900        0.274875   \n",
       "TechSupport           -0.060577  0.120206    0.063053        0.354458   \n",
       "StreamingTV            0.105445  0.124483   -0.016499        0.175514   \n",
       "StreamingMovies        0.119842  0.118108   -0.038375        0.187426   \n",
       "MultipleLines          0.142996  0.142561   -0.024307        0.098592   \n",
       "MonthBegin             0.028569 -0.130636   -0.065231       -0.103832   \n",
       "YearBegin             -0.027386 -0.370110   -0.152367       -0.317782   \n",
       "\n",
       "                  OnlineBackup  DeviceProtection  TechSupport  StreamingTV  \\\n",
       "EndDate              -0.082307         -0.066193    -0.164716     0.063254   \n",
       "PaperlessBilling      0.127056          0.104079     0.037536     0.224241   \n",
       "MonthlyCharges        0.441529          0.482607     0.338301     0.629668   \n",
       "TotalCharges          0.510100          0.522881     0.432868     0.515709   \n",
       "SeniorCitizen         0.066663          0.059514    -0.060577     0.105445   \n",
       "Partner               0.141849          0.153556     0.120206     0.124483   \n",
       "Dependents            0.023639          0.013900     0.063053    -0.016499   \n",
       "OnlineSecurity        0.283285          0.274875     0.354458     0.175514   \n",
       "OnlineBackup          1.000000          0.303058     0.293705     0.281601   \n",
       "DeviceProtection      0.303058          1.000000     0.332850     0.389924   \n",
       "TechSupport           0.293705          0.332850     1.000000     0.277549   \n",
       "StreamingTV           0.281601          0.389924     0.277549     1.000000   \n",
       "StreamingMovies       0.274523          0.402309     0.280155     0.533380   \n",
       "MultipleLines         0.202228          0.201733     0.100421     0.257804   \n",
       "MonthBegin           -0.073722         -0.092690    -0.095541    -0.059697   \n",
       "YearBegin            -0.360242         -0.358494    -0.316116    -0.285588   \n",
       "\n",
       "                  StreamingMovies  MultipleLines  MonthBegin  YearBegin  \n",
       "EndDate                  0.060860       0.040033    0.180522   0.293770  \n",
       "PaperlessBilling         0.211583       0.163746    0.022846  -0.017451  \n",
       "MonthlyCharges           0.627235       0.490912   -0.019613  -0.263086  \n",
       "TotalCharges             0.519867       0.469042   -0.196624  -0.819304  \n",
       "SeniorCitizen            0.119842       0.142996    0.028569  -0.027386  \n",
       "Partner                  0.118108       0.142561   -0.130636  -0.370110  \n",
       "Dependents              -0.038375      -0.024307   -0.065231  -0.152367  \n",
       "OnlineSecurity           0.187426       0.098592   -0.103832  -0.317782  \n",
       "OnlineBackup             0.274523       0.202228   -0.073722  -0.360242  \n",
       "DeviceProtection         0.402309       0.201733   -0.092690  -0.358494  \n",
       "TechSupport              0.280155       0.100421   -0.095541  -0.316116  \n",
       "StreamingTV              0.533380       0.257804   -0.059697  -0.285588  \n",
       "StreamingMovies          1.000000       0.259194   -0.070024  -0.288967  \n",
       "MultipleLines            0.259194       1.000000   -0.077400  -0.336114  \n",
       "MonthBegin              -0.070024      -0.077400    1.000000   0.084872  \n",
       "YearBegin               -0.288967      -0.336114    0.084872   1.000000  "
      ]
     },
     "execution_count": 40,
     "metadata": {},
     "output_type": "execute_result"
    }
   ],
   "source": [
    "# Looking for correlation between the numeric columns and the target\n",
    "df.corr()    "
   ]
  },
  {
   "cell_type": "code",
   "execution_count": 41,
   "metadata": {},
   "outputs": [],
   "source": [
    "# Combine YearBegin and MonthBegin into one string feature (to be encoded later)\n",
    "df['StrBegin'] = df['YearBegin'].astype(str) + df['MonthBegin'].astype(str)"
   ]
  },
  {
   "cell_type": "code",
   "execution_count": 42,
   "metadata": {
    "scrolled": false
   },
   "outputs": [
    {
     "data": {
      "text/html": [
       "<div>\n",
       "<style scoped>\n",
       "    .dataframe tbody tr th:only-of-type {\n",
       "        vertical-align: middle;\n",
       "    }\n",
       "\n",
       "    .dataframe tbody tr th {\n",
       "        vertical-align: top;\n",
       "    }\n",
       "\n",
       "    .dataframe thead th {\n",
       "        text-align: right;\n",
       "    }\n",
       "</style>\n",
       "<table border=\"1\" class=\"dataframe\">\n",
       "  <thead>\n",
       "    <tr style=\"text-align: right;\">\n",
       "      <th></th>\n",
       "      <th>EndDate</th>\n",
       "    </tr>\n",
       "    <tr>\n",
       "      <th>Type</th>\n",
       "      <th></th>\n",
       "    </tr>\n",
       "  </thead>\n",
       "  <tbody>\n",
       "    <tr>\n",
       "      <th>Month-to-month</th>\n",
       "      <td>0.427097</td>\n",
       "    </tr>\n",
       "    <tr>\n",
       "      <th>One year</th>\n",
       "      <td>0.112772</td>\n",
       "    </tr>\n",
       "    <tr>\n",
       "      <th>Two year</th>\n",
       "      <td>0.028487</td>\n",
       "    </tr>\n",
       "  </tbody>\n",
       "</table>\n",
       "</div>"
      ],
      "text/plain": [
       "                 EndDate\n",
       "Type                    \n",
       "Month-to-month  0.427097\n",
       "One year        0.112772\n",
       "Two year        0.028487"
      ]
     },
     "execution_count": 42,
     "metadata": {},
     "output_type": "execute_result"
    }
   ],
   "source": [
    "# Lookig for possible churn trends by 'Type' value\n",
    "df.pivot_table(index='Type', values='EndDate', aggfunc='mean')"
   ]
  },
  {
   "cell_type": "markdown",
   "metadata": {},
   "source": [
    "Month-to-Month has a higher chance for churn than the other Types "
   ]
  },
  {
   "cell_type": "code",
   "execution_count": 43,
   "metadata": {
    "scrolled": true
   },
   "outputs": [
    {
     "data": {
      "text/html": [
       "<div>\n",
       "<style scoped>\n",
       "    .dataframe tbody tr th:only-of-type {\n",
       "        vertical-align: middle;\n",
       "    }\n",
       "\n",
       "    .dataframe tbody tr th {\n",
       "        vertical-align: top;\n",
       "    }\n",
       "\n",
       "    .dataframe thead th {\n",
       "        text-align: right;\n",
       "    }\n",
       "</style>\n",
       "<table border=\"1\" class=\"dataframe\">\n",
       "  <thead>\n",
       "    <tr style=\"text-align: right;\">\n",
       "      <th></th>\n",
       "      <th>EndDate</th>\n",
       "    </tr>\n",
       "    <tr>\n",
       "      <th>PaymentMethod</th>\n",
       "      <th></th>\n",
       "    </tr>\n",
       "  </thead>\n",
       "  <tbody>\n",
       "    <tr>\n",
       "      <th>Bank transfer (automatic)</th>\n",
       "      <td>0.167315</td>\n",
       "    </tr>\n",
       "    <tr>\n",
       "      <th>Credit card (automatic)</th>\n",
       "      <td>0.152531</td>\n",
       "    </tr>\n",
       "    <tr>\n",
       "      <th>Electronic check</th>\n",
       "      <td>0.452854</td>\n",
       "    </tr>\n",
       "    <tr>\n",
       "      <th>Mailed check</th>\n",
       "      <td>0.192020</td>\n",
       "    </tr>\n",
       "  </tbody>\n",
       "</table>\n",
       "</div>"
      ],
      "text/plain": [
       "                            EndDate\n",
       "PaymentMethod                      \n",
       "Bank transfer (automatic)  0.167315\n",
       "Credit card (automatic)    0.152531\n",
       "Electronic check           0.452854\n",
       "Mailed check               0.192020"
      ]
     },
     "execution_count": 43,
     "metadata": {},
     "output_type": "execute_result"
    }
   ],
   "source": [
    "# Lookig for possible churn trends by 'PaymentMethod' value\n",
    "df.pivot_table(index='PaymentMethod', values='EndDate', aggfunc='mean')"
   ]
  },
  {
   "cell_type": "markdown",
   "metadata": {},
   "source": [
    "Electronic check has a higher chance to churn than the other Payment Methods"
   ]
  },
  {
   "cell_type": "code",
   "execution_count": 44,
   "metadata": {
    "scrolled": true
   },
   "outputs": [
    {
     "data": {
      "text/html": [
       "<div>\n",
       "<style scoped>\n",
       "    .dataframe tbody tr th:only-of-type {\n",
       "        vertical-align: middle;\n",
       "    }\n",
       "\n",
       "    .dataframe tbody tr th {\n",
       "        vertical-align: top;\n",
       "    }\n",
       "\n",
       "    .dataframe thead th {\n",
       "        text-align: right;\n",
       "    }\n",
       "</style>\n",
       "<table border=\"1\" class=\"dataframe\">\n",
       "  <thead>\n",
       "    <tr style=\"text-align: right;\">\n",
       "      <th></th>\n",
       "      <th>EndDate</th>\n",
       "    </tr>\n",
       "    <tr>\n",
       "      <th>gender</th>\n",
       "      <th></th>\n",
       "    </tr>\n",
       "  </thead>\n",
       "  <tbody>\n",
       "    <tr>\n",
       "      <th>Female</th>\n",
       "      <td>0.269595</td>\n",
       "    </tr>\n",
       "    <tr>\n",
       "      <th>Male</th>\n",
       "      <td>0.262046</td>\n",
       "    </tr>\n",
       "  </tbody>\n",
       "</table>\n",
       "</div>"
      ],
      "text/plain": [
       "         EndDate\n",
       "gender          \n",
       "Female  0.269595\n",
       "Male    0.262046"
      ]
     },
     "execution_count": 44,
     "metadata": {},
     "output_type": "execute_result"
    }
   ],
   "source": [
    "# Lookig for possible churn trends by 'gender' value\n",
    "df.pivot_table(index='gender', values='EndDate', aggfunc='mean')"
   ]
  },
  {
   "cell_type": "markdown",
   "metadata": {},
   "source": [
    "No observed gender difference in chance to churn. We will consider this observation for feature selection. "
   ]
  },
  {
   "cell_type": "code",
   "execution_count": 45,
   "metadata": {
    "scrolled": false
   },
   "outputs": [
    {
     "data": {
      "text/html": [
       "<div>\n",
       "<style scoped>\n",
       "    .dataframe tbody tr th:only-of-type {\n",
       "        vertical-align: middle;\n",
       "    }\n",
       "\n",
       "    .dataframe tbody tr th {\n",
       "        vertical-align: top;\n",
       "    }\n",
       "\n",
       "    .dataframe thead th {\n",
       "        text-align: right;\n",
       "    }\n",
       "</style>\n",
       "<table border=\"1\" class=\"dataframe\">\n",
       "  <thead>\n",
       "    <tr style=\"text-align: right;\">\n",
       "      <th></th>\n",
       "      <th>EndDate</th>\n",
       "    </tr>\n",
       "    <tr>\n",
       "      <th>InternetService</th>\n",
       "      <th></th>\n",
       "    </tr>\n",
       "  </thead>\n",
       "  <tbody>\n",
       "    <tr>\n",
       "      <th>DSL</th>\n",
       "      <td>0.189983</td>\n",
       "    </tr>\n",
       "    <tr>\n",
       "      <th>Fiber optic</th>\n",
       "      <td>0.418928</td>\n",
       "    </tr>\n",
       "    <tr>\n",
       "      <th>No</th>\n",
       "      <td>0.074342</td>\n",
       "    </tr>\n",
       "  </tbody>\n",
       "</table>\n",
       "</div>"
      ],
      "text/plain": [
       "                  EndDate\n",
       "InternetService          \n",
       "DSL              0.189983\n",
       "Fiber optic      0.418928\n",
       "No               0.074342"
      ]
     },
     "execution_count": 45,
     "metadata": {},
     "output_type": "execute_result"
    }
   ],
   "source": [
    "# Lookig for possible churn trends by 'InternetService' value\n",
    "df.pivot_table(index='InternetService', values='EndDate', aggfunc='mean')"
   ]
  },
  {
   "cell_type": "markdown",
   "metadata": {},
   "source": [
    "Fiber optic has higher chance to churn than DSL or no internet. Following the above observations about the 4 categorical features (that have no natural ordinal meaning)- we will prefer to use below some kind of target encoding. "
   ]
  },
  {
   "cell_type": "code",
   "execution_count": 46,
   "metadata": {},
   "outputs": [
    {
     "data": {
      "text/plain": [
       "Index(['BeginDate', 'EndDate', 'Type', 'PaperlessBilling', 'PaymentMethod',\n",
       "       'MonthlyCharges', 'TotalCharges', 'gender', 'SeniorCitizen', 'Partner',\n",
       "       'Dependents', 'InternetService', 'OnlineSecurity', 'OnlineBackup',\n",
       "       'DeviceProtection', 'TechSupport', 'StreamingTV', 'StreamingMovies',\n",
       "       'MultipleLines', 'MonthBegin', 'YearBegin', 'StrBegin'],\n",
       "      dtype='object')"
      ]
     },
     "execution_count": 46,
     "metadata": {},
     "output_type": "execute_result"
    }
   ],
   "source": [
    "# looking at the list of columns\n",
    "df.columns"
   ]
  },
  {
   "cell_type": "code",
   "execution_count": 47,
   "metadata": {
    "scrolled": true
   },
   "outputs": [
    {
     "name": "stdout",
     "output_type": "stream",
     "text": [
      "                   EndDate\n",
      "PaperlessBilling          \n",
      "0                 0.163757\n",
      "1                 0.335893\n",
      "\n",
      "                EndDate\n",
      "SeniorCitizen          \n",
      "0              0.236503\n",
      "1              0.416813\n",
      "\n",
      "          EndDate\n",
      "Partner          \n",
      "0        0.329761\n",
      "1        0.197171\n",
      "\n",
      "             EndDate\n",
      "Dependents          \n",
      "0           0.312791\n",
      "1           0.155312\n",
      "\n",
      "                 EndDate\n",
      "OnlineSecurity          \n",
      "0               0.313733\n",
      "1               0.146402\n",
      "\n",
      "               EndDate\n",
      "OnlineBackup          \n",
      "0             0.292164\n",
      "1             0.215670\n",
      "\n",
      "                   EndDate\n",
      "DeviceProtection          \n",
      "0                 0.286953\n",
      "1                 0.225393\n",
      "\n",
      "              EndDate\n",
      "TechSupport          \n",
      "0            0.312300\n",
      "1            0.151961\n",
      "\n",
      "              EndDate\n",
      "StreamingTV          \n",
      "0            0.243705\n",
      "1            0.301147\n",
      "\n",
      "                  EndDate\n",
      "StreamingMovies          \n",
      "0                0.244362\n",
      "1                0.299524\n",
      "\n",
      "                EndDate\n",
      "MultipleLines          \n",
      "0              0.250677\n",
      "1              0.286485\n",
      "\n"
     ]
    }
   ],
   "source": [
    "# Lookig for possible churn trends in the 0/1 features - to help with feature selection\n",
    "columns = ['PaperlessBilling', 'SeniorCitizen', 'Partner',\n",
    "       'Dependents', 'OnlineSecurity', 'OnlineBackup',\n",
    "       'DeviceProtection', 'TechSupport', 'StreamingTV',\n",
    "           'StreamingMovies', 'MultipleLines']\n",
    "for column in columns:\n",
    "    print(df.pivot_table(index=column, values='EndDate', aggfunc='mean'))\n",
    "    print()"
   ]
  },
  {
   "cell_type": "markdown",
   "metadata": {},
   "source": [
    "Some features seem to be with less difference (between their 0/1) in the chance for churn. We will consider droping these fetures during feature selection.\n",
    "These are: 'MultipleLines', 'StreamingMovies', 'StreamingTV', 'DeviceProtection', 'OnlineBackup'.\n",
    "\n",
    "The other 0/1 features have significant difference (between their 0/1) in the chance for churn, so they might be valueable for our model development.  "
   ]
  },
  {
   "cell_type": "markdown",
   "metadata": {},
   "source": [
    "### Statistics and distribution of time-to-churn (of churn customers)\n",
    "\n",
    "Before moving to feature preprocessing - we will finish EDA with a look into the statistics and distribution of the time it took customers to leave (for those that left). This analysis might be usefull for the marketing team. "
   ]
  },
  {
   "cell_type": "code",
   "execution_count": 48,
   "metadata": {},
   "outputs": [
    {
     "data": {
      "text/plain": [
       "count                           1869\n",
       "mean     547 days 08:26:57.977528088\n",
       "std      594 days 09:21:02.012639248\n",
       "min                 30 days 00:00:00\n",
       "25%                 61 days 00:00:00\n",
       "50%                304 days 00:00:00\n",
       "75%                883 days 00:00:00\n",
       "max               2191 days 00:00:00\n",
       "Name: DaysToChurn, dtype: object"
      ]
     },
     "execution_count": 48,
     "metadata": {},
     "output_type": "execute_result"
    }
   ],
   "source": [
    "# General statistics of DaysToChurn (among churn customers)\n",
    "df1['DaysToChurn'].describe()"
   ]
  },
  {
   "cell_type": "code",
   "execution_count": 49,
   "metadata": {
    "scrolled": false
   },
   "outputs": [
    {
     "data": {
      "image/png": "[encoded data removed]",
      "text/plain": [
       "<Figure size 864x432 with 1 Axes>"
      ]
     },
     "metadata": {
      "needs_background": "light"
     },
     "output_type": "display_data"
    }
   ],
   "source": [
    "# Months-to-Churn distribution (among churn customers)\n",
    "plt.figure(figsize=(12, 6))\n",
    "(df1['DaysToChurn'].astype('timedelta64[h]') / (24*30.5)).hist(grid=True)\n",
    "plt.title('Months-to-Churn distribution (among churn customers)')\n",
    "plt.xlabel('Months-to-Churn')\n",
    "plt.ylabel('# Customers')\n",
    "plt.show;"
   ]
  },
  {
   "cell_type": "markdown",
   "metadata": {},
   "source": [
    "## Feature Preprocessing"
   ]
  },
  {
   "cell_type": "code",
   "execution_count": 50,
   "metadata": {
    "scrolled": false
   },
   "outputs": [
    {
     "name": "stdout",
     "output_type": "stream",
     "text": [
      "Requirement already satisfied: category_encoders in /opt/conda/lib/python3.9/site-packages (2.5.0)\n",
      "Requirement already satisfied: numpy>=1.14.0 in /opt/conda/lib/python3.9/site-packages (from category_encoders) (1.21.1)\n",
      "Requirement already satisfied: statsmodels>=0.9.0 in /opt/conda/lib/python3.9/site-packages (from category_encoders) (0.13.2)\n",
      "Requirement already satisfied: pandas>=1.0.5 in /opt/conda/lib/python3.9/site-packages (from category_encoders) (1.2.4)\n",
      "Requirement already satisfied: patsy>=0.5.1 in /opt/conda/lib/python3.9/site-packages (from category_encoders) (0.5.2)\n",
      "Requirement already satisfied: scikit-learn>=0.20.0 in /opt/conda/lib/python3.9/site-packages (from category_encoders) (0.24.1)\n",
      "Requirement already satisfied: scipy>=1.0.0 in /opt/conda/lib/python3.9/site-packages (from category_encoders) (1.8.0)\n",
      "Requirement already satisfied: python-dateutil>=2.7.3 in /opt/conda/lib/python3.9/site-packages (from pandas>=1.0.5->category_encoders) (2.8.1)\n",
      "Requirement already satisfied: pytz>=2017.3 in /opt/conda/lib/python3.9/site-packages (from pandas>=1.0.5->category_encoders) (2021.1)\n",
      "Requirement already satisfied: six in /opt/conda/lib/python3.9/site-packages (from patsy>=0.5.1->category_encoders) (1.16.0)\n",
      "Requirement already satisfied: threadpoolctl>=2.0.0 in /opt/conda/lib/python3.9/site-packages (from scikit-learn>=0.20.0->category_encoders) (3.1.0)\n",
      "Requirement already satisfied: joblib>=0.11 in /opt/conda/lib/python3.9/site-packages (from scikit-learn>=0.20.0->category_encoders) (1.1.0)\n",
      "Requirement already satisfied: packaging>=21.3 in /opt/conda/lib/python3.9/site-packages (from statsmodels>=0.9.0->category_encoders) (21.3)\n",
      "Requirement already satisfied: pyparsing!=3.0.5,>=2.0.2 in /opt/conda/lib/python3.9/site-packages (from packaging>=21.3->statsmodels>=0.9.0->category_encoders) (2.4.7)\n"
     ]
    }
   ],
   "source": [
    "# Encoding the categorical features and standardizing all features, after splitting into train-valid-test sets and upsampling\n",
    "!pip install category_encoders\n",
    "from sklearn.utils import shuffle\n",
    "from category_encoders import CatBoostEncoder\n",
    "from sklearn.preprocessing import StandardScaler\n",
    "\n",
    "encoder = CatBoostEncoder()\n",
    "X = df.drop(['EndDate', 'BeginDate', 'gender', 'MultipleLines', 'StreamingMovies', 'StreamingTV',\n",
    "             'DeviceProtection', 'OnlineBackup'], axis=1)\n",
    "y = df['EndDate']\n",
    "\n",
    "# In the first step of splitting we will split the data into \"seen\" (to be split later to train and validation) and  test set\n",
    "X_seen, X_test, y_seen, y_test = train_test_split(X,y, train_size=0.8, random_state=12345)\n",
    "\n",
    "# Now since we want to split the \"seen\" set into train (60% of all data, 75% of the seen data) \n",
    "    # and validation set (20% of all data, 25% of the seen data)\n",
    "X_train, X_valid, y_train, y_valid = train_test_split(X_seen, y_seen, test_size=0.25, random_state=12345)\n",
    "\n",
    "def upsample(features, target, repeat):\n",
    "    features_zeros = features[target == 0]\n",
    "    features_ones = features[target == 1]\n",
    "    target_zeros = target[target == 0]\n",
    "    target_ones = target[target == 1]\n",
    "\n",
    "    features_upsampled = pd.concat([features_zeros] + [features_ones] * repeat)\n",
    "    target_upsampled = pd.concat([target_zeros] + [target_ones] * repeat)\n",
    "\n",
    "    features_upsampled, target_upsampled = shuffle(\n",
    "        features_upsampled, target_upsampled, random_state=12345\n",
    "    )\n",
    "\n",
    "    return features_upsampled, target_upsampled\n",
    "\n",
    "\n",
    "X_train, y_train = upsample(\n",
    "    X_train, y_train, 3\n",
    ")\n",
    "\n",
    "X_train = encoder.fit_transform(X_train, y_train)\n",
    "X_valid = encoder.transform(X_valid)\n",
    "X_test = encoder.transform(X_test)\n",
    "\n",
    "scaler = StandardScaler()\n",
    "X_train = scaler.fit_transform(X_train)\n",
    "X_valid = scaler.transform(X_valid)\n",
    "X_test = scaler.transform(X_test)\n"
   ]
  },
  {
   "cell_type": "markdown",
   "metadata": {},
   "source": [
    "## Model Training "
   ]
  },
  {
   "cell_type": "code",
   "execution_count": 51,
   "metadata": {},
   "outputs": [],
   "source": [
    "# Function to train, predict, and evaluate a model:\n",
    "import sklearn.metrics as metrics\n",
    "def model_TPE (X_train, y_train, X_eval, y_eval, model):\n",
    "    model.fit(X_train, y_train)\n",
    "    pred_eval = model.predict(X_eval)\n",
    "    pred_proba = model.predict_proba(X_eval)[:, 1]\n",
    "    print(model, 'AUC-ROC', metrics.roc_auc_score(y_eval, pred_proba))\n",
    "    print(model, 'F1', metrics.f1_score(y_eval, pred_eval))"
   ]
  },
  {
   "cell_type": "markdown",
   "metadata": {},
   "source": [
    "### Training on train set and evaluationg on validation set"
   ]
  },
  {
   "cell_type": "code",
   "execution_count": 52,
   "metadata": {},
   "outputs": [
    {
     "name": "stdout",
     "output_type": "stream",
     "text": [
      "DummyClassifier() AUC-ROC 0.5\n",
      "DummyClassifier() F1 0.42352941176470593\n"
     ]
    }
   ],
   "source": [
    "# Dummy model as baseline\n",
    "from sklearn.dummy import DummyClassifier\n",
    "model = DummyClassifier()\n",
    "model_TPE(X_train, y_train, X_valid, y_valid, model)"
   ]
  },
  {
   "cell_type": "code",
   "execution_count": 53,
   "metadata": {},
   "outputs": [
    {
     "name": "stdout",
     "output_type": "stream",
     "text": [
      "DecisionTreeClassifier() AUC-ROC 0.7637404168016413\n",
      "DecisionTreeClassifier() F1 0.647571606475716\n"
     ]
    }
   ],
   "source": [
    "# Decision tree classifier\n",
    "from sklearn.tree import DecisionTreeClassifier\n",
    "model = DecisionTreeClassifier()\n",
    "model_TPE(X_train, y_train, X_valid, y_valid, model)"
   ]
  },
  {
   "cell_type": "code",
   "execution_count": 54,
   "metadata": {},
   "outputs": [
    {
     "name": "stdout",
     "output_type": "stream",
     "text": [
      "LogisticRegression(random_state=12345, solver='liblinear') AUC-ROC 0.8589528025873994\n",
      "LogisticRegression(random_state=12345, solver='liblinear') F1 0.6475409836065573\n"
     ]
    }
   ],
   "source": [
    "# Logistic regression \n",
    "from sklearn.linear_model import LogisticRegression\n",
    "model = LogisticRegression(random_state=12345, solver='liblinear')\n",
    "model_TPE(X_train, y_train, X_valid, y_valid, model)"
   ]
  },
  {
   "cell_type": "code",
   "execution_count": 55,
   "metadata": {
    "scrolled": false
   },
   "outputs": [
    {
     "name": "stdout",
     "output_type": "stream",
     "text": [
      "On validation set:\n",
      "LGBMClassifier(max_depth=0, n_estimators=10, num_leaves=30) AUC-ROC 0.8829268668918815\n",
      "LGBMClassifier(max_depth=0, n_estimators=10, num_leaves=30) F1 0.6740088105726872\n",
      "\n",
      "LGBMClassifier(max_depth=0, n_estimators=50, num_leaves=30) AUC-ROC 0.9014325306842313\n",
      "LGBMClassifier(max_depth=0, n_estimators=50, num_leaves=30) F1 0.7093821510297483\n",
      "\n",
      "LGBMClassifier(max_depth=0, num_leaves=30) AUC-ROC 0.9118602845522183\n",
      "LGBMClassifier(max_depth=0, num_leaves=30) F1 0.7240143369175627\n",
      "\n",
      "LGBMClassifier(max_depth=5, n_estimators=10, num_leaves=30) AUC-ROC 0.8684807256235827\n",
      "LGBMClassifier(max_depth=5, n_estimators=10, num_leaves=30) F1 0.6520833333333333\n",
      "\n",
      "LGBMClassifier(max_depth=5, n_estimators=50, num_leaves=30) AUC-ROC 0.8905240100575378\n",
      "LGBMClassifier(max_depth=5, n_estimators=50, num_leaves=30) F1 0.6802575107296137\n",
      "\n",
      "LGBMClassifier(max_depth=5, num_leaves=30) AUC-ROC 0.9042310045711406\n",
      "LGBMClassifier(max_depth=5, num_leaves=30) F1 0.6998867497168744\n",
      "\n",
      "LGBMClassifier(max_depth=8, n_estimators=10, num_leaves=30) AUC-ROC 0.8809600937880822\n",
      "LGBMClassifier(max_depth=8, n_estimators=10, num_leaves=30) F1 0.679203539823009\n",
      "\n",
      "LGBMClassifier(max_depth=8, n_estimators=50, num_leaves=30) AUC-ROC 0.9031293545384896\n",
      "LGBMClassifier(max_depth=8, n_estimators=50, num_leaves=30) F1 0.7142857142857144\n",
      "\n",
      "LGBMClassifier(max_depth=8, num_leaves=30) AUC-ROC 0.9113846596839794\n",
      "LGBMClassifier(max_depth=8, num_leaves=30) F1 0.727705112960761\n",
      "\n",
      "LGBMClassifier(max_depth=0, n_estimators=10, num_leaves=50) AUC-ROC 0.8845529897522122\n",
      "LGBMClassifier(max_depth=0, n_estimators=10, num_leaves=50) F1 0.6824858757062148\n",
      "\n",
      "LGBMClassifier(max_depth=0, n_estimators=50, num_leaves=50) AUC-ROC 0.9054277795774394\n",
      "LGBMClassifier(max_depth=0, n_estimators=50, num_leaves=50) F1 0.7142857142857143\n",
      "\n",
      "LGBMClassifier(max_depth=0, num_leaves=50) AUC-ROC 0.9129118011528118\n",
      "LGBMClassifier(max_depth=0, num_leaves=50) F1 0.745679012345679\n",
      "\n",
      "LGBMClassifier(max_depth=5, n_estimators=10, num_leaves=50) AUC-ROC 0.8684807256235827\n",
      "LGBMClassifier(max_depth=5, n_estimators=10, num_leaves=50) F1 0.6520833333333333\n",
      "\n",
      "LGBMClassifier(max_depth=5, n_estimators=50, num_leaves=50) AUC-ROC 0.8905240100575378\n",
      "LGBMClassifier(max_depth=5, n_estimators=50, num_leaves=50) F1 0.6802575107296137\n",
      "\n",
      "LGBMClassifier(max_depth=5, num_leaves=50) AUC-ROC 0.9062491965796144\n",
      "LGBMClassifier(max_depth=5, num_leaves=50) F1 0.6983050847457627\n",
      "\n",
      "LGBMClassifier(max_depth=8, n_estimators=10, num_leaves=50) AUC-ROC 0.8815192743764173\n",
      "LGBMClassifier(max_depth=8, n_estimators=10, num_leaves=50) F1 0.6842684268426842\n",
      "\n",
      "LGBMClassifier(max_depth=8, n_estimators=50, num_leaves=50) AUC-ROC 0.9005288434345773\n",
      "LGBMClassifier(max_depth=8, n_estimators=50, num_leaves=50) F1 0.7124563445867287\n",
      "\n",
      "LGBMClassifier(max_depth=8, num_leaves=50) AUC-ROC 0.9086954509695034\n",
      "LGBMClassifier(max_depth=8, num_leaves=50) F1 0.7308641975308641\n",
      "\n",
      "LGBMClassifier(max_depth=0, n_estimators=10, num_leaves=100) AUC-ROC 0.883668584591811\n",
      "LGBMClassifier(max_depth=0, n_estimators=10, num_leaves=100) F1 0.6865671641791045\n",
      "\n",
      "LGBMClassifier(max_depth=0, n_estimators=50, num_leaves=100) AUC-ROC 0.9047876142142418\n",
      "LGBMClassifier(max_depth=0, n_estimators=50, num_leaves=100) F1 0.7220125786163524\n",
      "\n",
      "LGBMClassifier(max_depth=0, num_leaves=100) AUC-ROC 0.9094435960325172\n",
      "LGBMClassifier(max_depth=0, num_leaves=100) F1 0.736842105263158\n",
      "\n",
      "LGBMClassifier(max_depth=5, n_estimators=10, num_leaves=100) AUC-ROC 0.8684807256235827\n",
      "LGBMClassifier(max_depth=5, n_estimators=10, num_leaves=100) F1 0.6520833333333333\n",
      "\n",
      "LGBMClassifier(max_depth=5, n_estimators=50, num_leaves=100) AUC-ROC 0.8905240100575378\n",
      "LGBMClassifier(max_depth=5, n_estimators=50, num_leaves=100) F1 0.6802575107296137\n",
      "\n",
      "LGBMClassifier(max_depth=5, num_leaves=100) AUC-ROC 0.9062491965796144\n",
      "LGBMClassifier(max_depth=5, num_leaves=100) F1 0.6983050847457627\n",
      "\n",
      "LGBMClassifier(max_depth=8, n_estimators=10, num_leaves=100) AUC-ROC 0.8786411011872625\n",
      "LGBMClassifier(max_depth=8, n_estimators=10, num_leaves=100) F1 0.6837416481069043\n",
      "\n",
      "LGBMClassifier(max_depth=8, n_estimators=50, num_leaves=100) AUC-ROC 0.9025586046966028\n",
      "LGBMClassifier(max_depth=8, n_estimators=50, num_leaves=100) F1 0.7173396674584323\n",
      "\n",
      "LGBMClassifier(max_depth=8, num_leaves=100) AUC-ROC 0.9104616903450723\n",
      "LGBMClassifier(max_depth=8, num_leaves=100) F1 0.7265917602996256\n",
      "\n",
      "CPU times: user 1h 45min 50s, sys: 52.8 s, total: 1h 46min 43s\n",
      "Wall time: 1h 47min 41s\n"
     ]
    }
   ],
   "source": [
    "# LightGBM Classifier with hyperparameters tuning\n",
    "%%time\n",
    "import lightgbm as lgbm\n",
    "print('On validation set:')\n",
    "num_leaves_list = [30, 50, 100]\n",
    "max_depth_list = [0, 5, 8]\n",
    "n_estimators_list = [10, 50, 100]\n",
    "for n in num_leaves_list:\n",
    "    for m in max_depth_list:\n",
    "        for e in n_estimators_list:\n",
    "            model = lgbm.LGBMClassifier(num_leaves=n, max_depth=m, n_estimators=e)\n",
    "            model_TPE(X_train, y_train, X_valid, y_valid, model)\n",
    "            print()\n"
   ]
  },
  {
   "cell_type": "markdown",
   "metadata": {},
   "source": [
    "Best AUC-ROC from LGBMClassifier on valid set is 0.913, and it was achieved with LGBMClassifier(max_depth=0, num_leaves=50) and the default n_estimators=100. This model's F1_score on the valid set is 0.746"
   ]
  },
  {
   "cell_type": "code",
   "execution_count": 56,
   "metadata": {},
   "outputs": [
    {
     "name": "stdout",
     "output_type": "stream",
     "text": [
      "Learning rate set to 0.050188\n",
      "0:\ttest: 0.8464092\tbest: 0.8464092 (0)\ttotal: 53.2ms\tremaining: 53.2s\n",
      "100:\ttest: 0.8909919\tbest: 0.8910202 (99)\ttotal: 507ms\tremaining: 4.51s\n",
      "200:\ttest: 0.9020547\tbest: 0.9020984 (199)\ttotal: 959ms\tremaining: 3.81s\n",
      "300:\ttest: 0.9093716\tbest: 0.9093716 (300)\ttotal: 1.38s\tremaining: 3.19s\n",
      "400:\ttest: 0.9132794\tbest: 0.9132794 (400)\ttotal: 1.78s\tremaining: 2.66s\n",
      "500:\ttest: 0.9150920\tbest: 0.9153979 (482)\ttotal: 2.19s\tremaining: 2.18s\n",
      "600:\ttest: 0.9175318\tbest: 0.9179174 (592)\ttotal: 2.67s\tremaining: 1.77s\n",
      "700:\ttest: 0.9176269\tbest: 0.9181077 (683)\ttotal: 3.16s\tremaining: 1.35s\n",
      "800:\ttest: 0.9186630\tbest: 0.9187607 (774)\ttotal: 3.65s\tremaining: 908ms\n",
      "900:\ttest: 0.9195988\tbest: 0.9196194 (899)\ttotal: 4.16s\tremaining: 457ms\n",
      "999:\ttest: 0.9202827\tbest: 0.9202878 (995)\ttotal: 4.61s\tremaining: 0us\n",
      "\n",
      "bestTest = 0.920287843\n",
      "bestIteration = 995\n",
      "\n",
      "Shrink model to first 996 iterations.\n"
     ]
    },
    {
     "data": {
      "text/plain": [
       "<catboost.core.CatBoostClassifier at 0x7f5c8bc8ad60>"
      ]
     },
     "execution_count": 56,
     "metadata": {},
     "output_type": "execute_result"
    }
   ],
   "source": [
    "# CatBoost classifier\n",
    "from catboost import CatBoostClassifier\n",
    "\n",
    "model = CatBoostClassifier(eval_metric='AUC', verbose=100)\n",
    "model.fit(X_train, y_train,eval_set=(X_valid, y_valid), use_best_model=True)"
   ]
  },
  {
   "cell_type": "code",
   "execution_count": 57,
   "metadata": {
    "scrolled": false
   },
   "outputs": [
    {
     "name": "stdout",
     "output_type": "stream",
     "text": [
      "tree depth= 4 learning_rate= 0.01 l2_leaf_reg= 2\n",
      "0:\ttest: 0.8239455\tbest: 0.8239455 (0)\ttotal: 2.29ms\tremaining: 2.29s\n",
      "100:\ttest: 0.8596521\tbest: 0.8596932 (98)\ttotal: 257ms\tremaining: 2.28s\n",
      "200:\ttest: 0.8679125\tbest: 0.8679125 (200)\ttotal: 515ms\tremaining: 2.05s\n",
      "300:\ttest: 0.8748001\tbest: 0.8748001 (300)\ttotal: 788ms\tremaining: 1.83s\n",
      "400:\ttest: 0.8798032\tbest: 0.8798032 (400)\ttotal: 1.03s\tremaining: 1.54s\n",
      "500:\ttest: 0.8839475\tbest: 0.8839475 (500)\ttotal: 1.28s\tremaining: 1.27s\n",
      "600:\ttest: 0.8869195\tbest: 0.8869195 (600)\ttotal: 1.52s\tremaining: 1.01s\n",
      "700:\ttest: 0.8893825\tbest: 0.8893825 (700)\ttotal: 1.76s\tremaining: 750ms\n",
      "800:\ttest: 0.8914496\tbest: 0.8914521 (799)\ttotal: 2.01s\tremaining: 500ms\n",
      "900:\ttest: 0.8935474\tbest: 0.8935474 (900)\ttotal: 2.26s\tremaining: 248ms\n",
      "999:\ttest: 0.8951414\tbest: 0.8951414 (999)\ttotal: 2.53s\tremaining: 0us\n",
      "\n",
      "bestTest = 0.8951414277\n",
      "bestIteration = 999\n",
      "\n",
      "tree depth= 4 learning_rate= 0.01 l2_leaf_reg= 3\n",
      "0:\ttest: 0.8239455\tbest: 0.8239455 (0)\ttotal: 3.08ms\tremaining: 3.08s\n",
      "100:\ttest: 0.8604311\tbest: 0.8604311 (100)\ttotal: 246ms\tremaining: 2.19s\n",
      "200:\ttest: 0.8688805\tbest: 0.8688805 (200)\ttotal: 507ms\tremaining: 2.02s\n",
      "300:\ttest: 0.8751575\tbest: 0.8751575 (300)\ttotal: 771ms\tremaining: 1.79s\n",
      "400:\ttest: 0.8798109\tbest: 0.8798109 (400)\ttotal: 1.01s\tremaining: 1.52s\n",
      "500:\ttest: 0.8833768\tbest: 0.8833768 (500)\ttotal: 1.28s\tremaining: 1.27s\n",
      "600:\ttest: 0.8859914\tbest: 0.8859914 (599)\ttotal: 1.51s\tremaining: 1s\n",
      "700:\ttest: 0.8887115\tbest: 0.8887115 (700)\ttotal: 1.75s\tremaining: 748ms\n",
      "800:\ttest: 0.8908942\tbest: 0.8908942 (800)\ttotal: 2.01s\tremaining: 499ms\n",
      "900:\ttest: 0.8935269\tbest: 0.8935320 (899)\ttotal: 2.23s\tremaining: 245ms\n",
      "999:\ttest: 0.8954397\tbest: 0.8954397 (999)\ttotal: 2.48s\tremaining: 0us\n",
      "\n",
      "bestTest = 0.8954396573\n",
      "bestIteration = 999\n",
      "\n",
      "tree depth= 4 learning_rate= 0.01 l2_leaf_reg= 4\n",
      "0:\ttest: 0.8239455\tbest: 0.8239455 (0)\ttotal: 2.37ms\tremaining: 2.37s\n",
      "100:\ttest: 0.8592729\tbest: 0.8592729 (100)\ttotal: 257ms\tremaining: 2.28s\n",
      "200:\ttest: 0.8689949\tbest: 0.8689949 (200)\ttotal: 519ms\tremaining: 2.06s\n",
      "300:\ttest: 0.8758748\tbest: 0.8758748 (300)\ttotal: 790ms\tremaining: 1.83s\n",
      "400:\ttest: 0.8802479\tbest: 0.8802479 (400)\ttotal: 1.05s\tremaining: 1.56s\n",
      "500:\ttest: 0.8840581\tbest: 0.8840581 (500)\ttotal: 1.31s\tremaining: 1.31s\n",
      "600:\ttest: 0.8872332\tbest: 0.8872332 (600)\ttotal: 1.59s\tremaining: 1.05s\n",
      "700:\ttest: 0.8897733\tbest: 0.8897733 (700)\ttotal: 1.83s\tremaining: 780ms\n",
      "800:\ttest: 0.8920409\tbest: 0.8920409 (800)\ttotal: 2.07s\tremaining: 515ms\n",
      "900:\ttest: 0.8942853\tbest: 0.8942853 (900)\ttotal: 2.33s\tremaining: 256ms\n",
      "999:\ttest: 0.8956222\tbest: 0.8956222 (999)\ttotal: 2.58s\tremaining: 0us\n",
      "\n",
      "bestTest = 0.8956221945\n",
      "bestIteration = 999\n",
      "\n",
      "tree depth= 4 learning_rate= 0.05 l2_leaf_reg= 2\n",
      "0:\ttest: 0.8239455\tbest: 0.8239455 (0)\ttotal: 3.11ms\tremaining: 3.11s\n",
      "100:\ttest: 0.8838447\tbest: 0.8838447 (100)\ttotal: 253ms\tremaining: 2.25s\n",
      "200:\ttest: 0.8954757\tbest: 0.8955194 (198)\ttotal: 514ms\tremaining: 2.04s\n",
      "300:\ttest: 0.9030111\tbest: 0.9030831 (292)\ttotal: 778ms\tremaining: 1.81s\n",
      "400:\ttest: 0.9070783\tbest: 0.9072377 (398)\ttotal: 1s\tremaining: 1.5s\n",
      "500:\ttest: 0.9105645\tbest: 0.9107162 (499)\ttotal: 1.27s\tremaining: 1.26s\n",
      "600:\ttest: 0.9143233\tbest: 0.9143233 (600)\ttotal: 1.53s\tremaining: 1.02s\n",
      "700:\ttest: 0.9160381\tbest: 0.9160664 (689)\ttotal: 1.79s\tremaining: 762ms\n",
      "800:\ttest: 0.9177940\tbest: 0.9178557 (790)\ttotal: 2.05s\tremaining: 508ms\n",
      "900:\ttest: 0.9199819\tbest: 0.9201387 (898)\ttotal: 2.29s\tremaining: 252ms\n",
      "999:\ttest: 0.9207352\tbest: 0.9207969 (997)\ttotal: 2.54s\tremaining: 0us\n",
      "\n",
      "bestTest = 0.9207968902\n",
      "bestIteration = 997\n",
      "\n",
      "Shrink model to first 998 iterations.\n",
      "tree depth= 4 learning_rate= 0.05 l2_leaf_reg= 3\n",
      "0:\ttest: 0.8239455\tbest: 0.8239455 (0)\ttotal: 2.57ms\tremaining: 2.56s\n",
      "100:\ttest: 0.8829024\tbest: 0.8829024 (100)\ttotal: 284ms\tremaining: 2.53s\n",
      "200:\ttest: 0.8950052\tbest: 0.8951491 (195)\ttotal: 531ms\tremaining: 2.11s\n",
      "300:\ttest: 0.9023838\tbest: 0.9023838 (300)\ttotal: 786ms\tremaining: 1.83s\n",
      "400:\ttest: 0.9070578\tbest: 0.9070578 (397)\ttotal: 1.05s\tremaining: 1.56s\n",
      "500:\ttest: 0.9107008\tbest: 0.9108370 (497)\ttotal: 1.29s\tremaining: 1.28s\n",
      "600:\ttest: 0.9150585\tbest: 0.9151151 (598)\ttotal: 1.57s\tremaining: 1.04s\n",
      "700:\ttest: 0.9170176\tbest: 0.9171076 (697)\ttotal: 1.83s\tremaining: 779ms\n",
      "800:\ttest: 0.9191258\tbest: 0.9194034 (794)\ttotal: 2.07s\tremaining: 514ms\n",
      "900:\ttest: 0.9209974\tbest: 0.9211980 (890)\ttotal: 2.35s\tremaining: 259ms\n",
      "999:\ttest: 0.9234835\tbest: 0.9234912 (998)\ttotal: 2.63s\tremaining: 0us\n",
      "\n",
      "bestTest = 0.9234912408\n",
      "bestIteration = 998\n",
      "\n",
      "Shrink model to first 999 iterations.\n",
      "tree depth= 4 learning_rate= 0.05 l2_leaf_reg= 4\n",
      "0:\ttest: 0.8239455\tbest: 0.8239455 (0)\ttotal: 2.39ms\tremaining: 2.39s\n",
      "100:\ttest: 0.8832045\tbest: 0.8832045 (100)\ttotal: 291ms\tremaining: 2.59s\n",
      "200:\ttest: 0.8952931\tbest: 0.8952931 (200)\ttotal: 541ms\tremaining: 2.15s\n",
      "300:\ttest: 0.9009620\tbest: 0.9011034 (299)\ttotal: 800ms\tremaining: 1.86s\n",
      "400:\ttest: 0.9065873\tbest: 0.9065873 (400)\ttotal: 1.06s\tremaining: 1.59s\n",
      "500:\ttest: 0.9107933\tbest: 0.9107933 (500)\ttotal: 1.32s\tremaining: 1.31s\n",
      "600:\ttest: 0.9149531\tbest: 0.9149686 (592)\ttotal: 1.59s\tremaining: 1.05s\n",
      "700:\ttest: 0.9173390\tbest: 0.9173390 (700)\ttotal: 1.83s\tremaining: 779ms\n",
      "800:\ttest: 0.9201387\tbest: 0.9201901 (798)\ttotal: 2.05s\tremaining: 509ms\n",
      "900:\ttest: 0.9211054\tbest: 0.9211877 (898)\ttotal: 2.3s\tremaining: 253ms\n",
      "999:\ttest: 0.9228382\tbest: 0.9229796 (964)\ttotal: 2.53s\tremaining: 0us\n",
      "\n",
      "bestTest = 0.9229796227\n",
      "bestIteration = 964\n",
      "\n",
      "Shrink model to first 965 iterations.\n",
      "tree depth= 4 learning_rate= 0.08 l2_leaf_reg= 2\n",
      "0:\ttest: 0.8239455\tbest: 0.8239455 (0)\ttotal: 3.1ms\tremaining: 3.1s\n",
      "100:\ttest: 0.8915498\tbest: 0.8915498 (100)\ttotal: 265ms\tremaining: 2.36s\n",
      "200:\ttest: 0.9035793\tbest: 0.9035793 (200)\ttotal: 511ms\tremaining: 2.03s\n",
      "300:\ttest: 0.9090374\tbest: 0.9090374 (300)\ttotal: 755ms\tremaining: 1.75s\n",
      "400:\ttest: 0.9149223\tbest: 0.9149737 (395)\ttotal: 1s\tremaining: 1.5s\n",
      "500:\ttest: 0.9188301\tbest: 0.9188301 (500)\ttotal: 1.25s\tremaining: 1.25s\n",
      "600:\ttest: 0.9215605\tbest: 0.9216145 (599)\ttotal: 1.51s\tremaining: 1.01s\n",
      "700:\ttest: 0.9225888\tbest: 0.9226942 (664)\ttotal: 1.77s\tremaining: 756ms\n",
      "800:\ttest: 0.9236661\tbest: 0.9237072 (798)\ttotal: 2.05s\tremaining: 509ms\n",
      "900:\ttest: 0.9252575\tbest: 0.9252729 (899)\ttotal: 2.31s\tremaining: 254ms\n",
      "999:\ttest: 0.9259285\tbest: 0.9260339 (984)\ttotal: 2.57s\tremaining: 0us\n",
      "\n",
      "bestTest = 0.9260339056\n",
      "bestIteration = 984\n",
      "\n",
      "Shrink model to first 985 iterations.\n",
      "tree depth= 4 learning_rate= 0.08 l2_leaf_reg= 3\n",
      "0:\ttest: 0.8239455\tbest: 0.8239455 (0)\ttotal: 3.22ms\tremaining: 3.22s\n",
      "100:\ttest: 0.8909122\tbest: 0.8909122 (100)\ttotal: 272ms\tremaining: 2.42s\n",
      "200:\ttest: 0.9029134\tbest: 0.9030702 (197)\ttotal: 524ms\tremaining: 2.08s\n",
      "300:\ttest: 0.9100272\tbest: 0.9100272 (300)\ttotal: 771ms\tremaining: 1.79s\n",
      "400:\ttest: 0.9148606\tbest: 0.9148606 (400)\ttotal: 1.02s\tremaining: 1.52s\n",
      "500:\ttest: 0.9173261\tbest: 0.9175575 (490)\ttotal: 1.27s\tremaining: 1.27s\n",
      "600:\ttest: 0.9202390\tbest: 0.9202493 (599)\ttotal: 1.51s\tremaining: 1s\n",
      "700:\ttest: 0.9226454\tbest: 0.9226454 (700)\ttotal: 1.8s\tremaining: 770ms\n",
      "800:\ttest: 0.9237098\tbest: 0.9239077 (784)\ttotal: 2.06s\tremaining: 512ms\n",
      "900:\ttest: 0.9243988\tbest: 0.9248024 (832)\ttotal: 2.29s\tremaining: 252ms\n",
      "999:\ttest: 0.9251469\tbest: 0.9251726 (994)\ttotal: 2.53s\tremaining: 0us\n",
      "\n",
      "bestTest = 0.925172639\n",
      "bestIteration = 994\n",
      "\n",
      "Shrink model to first 995 iterations.\n",
      "tree depth= 4 learning_rate= 0.08 l2_leaf_reg= 4\n",
      "0:\ttest: 0.8239455\tbest: 0.8239455 (0)\ttotal: 2.92ms\tremaining: 2.92s\n",
      "100:\ttest: 0.8903003\tbest: 0.8903003 (100)\ttotal: 251ms\tremaining: 2.24s\n",
      "200:\ttest: 0.9021755\tbest: 0.9023709 (198)\ttotal: 512ms\tremaining: 2.04s\n",
      "300:\ttest: 0.9093048\tbest: 0.9093048 (300)\ttotal: 762ms\tremaining: 1.77s\n",
      "400:\ttest: 0.9144749\tbest: 0.9145803 (397)\ttotal: 1.03s\tremaining: 1.54s\n",
      "500:\ttest: 0.9171924\tbest: 0.9174727 (482)\ttotal: 1.28s\tremaining: 1.28s\n",
      "600:\ttest: 0.9205089\tbest: 0.9206323 (599)\ttotal: 1.55s\tremaining: 1.03s\n",
      "700:\ttest: 0.9210463\tbest: 0.9210463 (700)\ttotal: 1.8s\tremaining: 769ms\n",
      "800:\ttest: 0.9225169\tbest: 0.9226223 (784)\ttotal: 2.06s\tremaining: 512ms\n",
      "900:\ttest: 0.9235632\tbest: 0.9235915 (899)\ttotal: 2.31s\tremaining: 254ms\n",
      "999:\ttest: 0.9247330\tbest: 0.9248127 (976)\ttotal: 2.57s\tremaining: 0us\n",
      "\n",
      "bestTest = 0.9248127066\n",
      "bestIteration = 976\n",
      "\n",
      "Shrink model to first 977 iterations.\n",
      "tree depth= 6 learning_rate= 0.01 l2_leaf_reg= 2\n",
      "0:\ttest: 0.8464092\tbest: 0.8464092 (0)\ttotal: 5.49ms\tremaining: 5.49s\n",
      "100:\ttest: 0.8675603\tbest: 0.8675629 (99)\ttotal: 412ms\tremaining: 3.67s\n",
      "200:\ttest: 0.8786951\tbest: 0.8786951 (200)\ttotal: 806ms\tremaining: 3.2s\n",
      "300:\ttest: 0.8843049\tbest: 0.8843177 (299)\ttotal: 1.22s\tremaining: 2.84s\n",
      "400:\ttest: 0.8891280\tbest: 0.8891280 (400)\ttotal: 1.64s\tremaining: 2.45s\n",
      "500:\ttest: 0.8924471\tbest: 0.8924471 (500)\ttotal: 2.05s\tremaining: 2.04s\n",
      "600:\ttest: 0.8948792\tbest: 0.8948792 (600)\ttotal: 2.48s\tremaining: 1.64s\n",
      "700:\ttest: 0.8970234\tbest: 0.8970311 (695)\ttotal: 2.86s\tremaining: 1.22s\n",
      "800:\ttest: 0.8984914\tbest: 0.8985274 (798)\ttotal: 3.31s\tremaining: 822ms\n",
      "900:\ttest: 0.9007461\tbest: 0.9007641 (899)\ttotal: 3.72s\tremaining: 409ms\n",
      "999:\ttest: 0.9024661\tbest: 0.9024840 (998)\ttotal: 4.11s\tremaining: 0us\n",
      "\n",
      "bestTest = 0.9024840473\n",
      "bestIteration = 998\n",
      "\n",
      "Shrink model to first 999 iterations.\n",
      "tree depth= 6 learning_rate= 0.01 l2_leaf_reg= 3\n",
      "0:\ttest: 0.8464092\tbest: 0.8464092 (0)\ttotal: 3.88ms\tremaining: 3.88s\n",
      "100:\ttest: 0.8662491\tbest: 0.8662491 (100)\ttotal: 409ms\tremaining: 3.64s\n",
      "200:\ttest: 0.8768286\tbest: 0.8768286 (200)\ttotal: 823ms\tremaining: 3.27s\n",
      "300:\ttest: 0.8837110\tbest: 0.8837110 (300)\ttotal: 1.23s\tremaining: 2.85s\n",
      "400:\ttest: 0.8889275\tbest: 0.8889377 (399)\ttotal: 1.63s\tremaining: 2.44s\n",
      "500:\ttest: 0.8915447\tbest: 0.8916424 (499)\ttotal: 2.06s\tremaining: 2.05s\n",
      "600:\ttest: 0.8946298\tbest: 0.8946298 (600)\ttotal: 2.44s\tremaining: 1.62s\n",
      "700:\ttest: 0.8969437\tbest: 0.8969437 (700)\ttotal: 2.81s\tremaining: 1.2s\n",
      "800:\ttest: 0.8989310\tbest: 0.8989310 (800)\ttotal: 3.2s\tremaining: 795ms\n",
      "900:\ttest: 0.9004967\tbest: 0.9004967 (900)\ttotal: 3.62s\tremaining: 398ms\n",
      "999:\ttest: 0.9022270\tbest: 0.9022270 (999)\ttotal: 3.97s\tremaining: 0us\n",
      "\n",
      "bestTest = 0.9022269528\n",
      "bestIteration = 999\n",
      "\n",
      "tree depth= 6 learning_rate= 0.01 l2_leaf_reg= 4\n",
      "0:\ttest: 0.8464014\tbest: 0.8464014 (0)\ttotal: 3.12ms\tremaining: 3.12s\n",
      "100:\ttest: 0.8662697\tbest: 0.8662697 (100)\ttotal: 441ms\tremaining: 3.92s\n",
      "200:\ttest: 0.8766229\tbest: 0.8766229 (200)\ttotal: 883ms\tremaining: 3.51s\n",
      "300:\ttest: 0.8830914\tbest: 0.8830914 (300)\ttotal: 1.29s\tremaining: 3.01s\n",
      "400:\ttest: 0.8879968\tbest: 0.8879968 (400)\ttotal: 1.73s\tremaining: 2.58s\n",
      "500:\ttest: 0.8918660\tbest: 0.8918660 (500)\ttotal: 2.1s\tremaining: 2.1s\n",
      "600:\ttest: 0.8946555\tbest: 0.8946555 (600)\ttotal: 2.57s\tremaining: 1.71s\n",
      "700:\ttest: 0.8967894\tbest: 0.8967894 (700)\ttotal: 2.95s\tremaining: 1.26s\n",
      "800:\ttest: 0.8988307\tbest: 0.8988307 (800)\ttotal: 3.33s\tremaining: 826ms\n",
      "900:\ttest: 0.9000854\tbest: 0.9001059 (899)\ttotal: 3.74s\tremaining: 411ms\n",
      "999:\ttest: 0.9015457\tbest: 0.9016331 (989)\ttotal: 4.11s\tremaining: 0us\n",
      "\n",
      "bestTest = 0.9016330644\n",
      "bestIteration = 989\n",
      "\n",
      "Shrink model to first 990 iterations.\n",
      "tree depth= 6 learning_rate= 0.05 l2_leaf_reg= 2\n",
      "0:\ttest: 0.8464092\tbest: 0.8464092 (0)\ttotal: 3.06ms\tremaining: 3.06s\n",
      "100:\ttest: 0.8931001\tbest: 0.8931824 (99)\ttotal: 385ms\tremaining: 3.42s\n",
      "200:\ttest: 0.9036564\tbest: 0.9037310 (198)\ttotal: 805ms\tremaining: 3.2s\n",
      "300:\ttest: 0.9113230\tbest: 0.9114592 (299)\ttotal: 1.22s\tremaining: 2.84s\n",
      "400:\ttest: 0.9155907\tbest: 0.9155907 (400)\ttotal: 1.65s\tremaining: 2.46s\n",
      "500:\ttest: 0.9177195\tbest: 0.9185113 (447)\ttotal: 2.05s\tremaining: 2.04s\n",
      "600:\ttest: 0.9174829\tbest: 0.9185113 (447)\ttotal: 2.47s\tremaining: 1.64s\n",
      "700:\ttest: 0.9181154\tbest: 0.9185113 (447)\ttotal: 2.85s\tremaining: 1.22s\n",
      "800:\ttest: 0.9183391\tbest: 0.9188173 (794)\ttotal: 3.25s\tremaining: 807ms\n",
      "900:\ttest: 0.9195705\tbest: 0.9195911 (898)\ttotal: 3.67s\tremaining: 403ms\n",
      "999:\ttest: 0.9201722\tbest: 0.9203418 (976)\ttotal: 4.08s\tremaining: 0us\n",
      "\n",
      "bestTest = 0.9203418329\n",
      "bestIteration = 976\n",
      "\n",
      "Shrink model to first 977 iterations.\n",
      "tree depth= 6 learning_rate= 0.05 l2_leaf_reg= 3\n",
      "0:\ttest: 0.8464092\tbest: 0.8464092 (0)\ttotal: 3.28ms\tremaining: 3.27s\n",
      "100:\ttest: 0.8917786\tbest: 0.8918763 (98)\ttotal: 387ms\tremaining: 3.45s\n",
      "200:\ttest: 0.9017668\tbest: 0.9017668 (200)\ttotal: 758ms\tremaining: 3.01s\n",
      "300:\ttest: 0.9083329\tbest: 0.9084178 (299)\ttotal: 1.16s\tremaining: 2.69s\n",
      "400:\ttest: 0.9135468\tbest: 0.9135468 (400)\ttotal: 1.59s\tremaining: 2.38s\n",
      "500:\ttest: 0.9156139\tbest: 0.9156807 (482)\ttotal: 2s\tremaining: 1.99s\n",
      "600:\ttest: 0.9170767\tbest: 0.9173518 (582)\ttotal: 2.41s\tremaining: 1.6s\n",
      "700:\ttest: 0.9189895\tbest: 0.9190409 (699)\ttotal: 2.83s\tremaining: 1.21s\n",
      "800:\ttest: 0.9203033\tbest: 0.9203418 (799)\ttotal: 3.25s\tremaining: 808ms\n",
      "900:\ttest: 0.9209486\tbest: 0.9209486 (900)\ttotal: 3.66s\tremaining: 402ms\n",
      "999:\ttest: 0.9208689\tbest: 0.9211902 (908)\ttotal: 4.07s\tremaining: 0us\n",
      "\n",
      "bestTest = 0.9211902448\n",
      "bestIteration = 908\n",
      "\n",
      "Shrink model to first 909 iterations.\n",
      "tree depth= 6 learning_rate= 0.05 l2_leaf_reg= 4\n",
      "0:\ttest: 0.8464014\tbest: 0.8464014 (0)\ttotal: 5.33ms\tremaining: 5.33s\n",
      "100:\ttest: 0.8926219\tbest: 0.8926887 (99)\ttotal: 405ms\tremaining: 3.61s\n",
      "200:\ttest: 0.9032605\tbest: 0.9032605 (200)\ttotal: 819ms\tremaining: 3.26s\n",
      "300:\ttest: 0.9096827\tbest: 0.9098935 (299)\ttotal: 1.22s\tremaining: 2.84s\n",
      "400:\ttest: 0.9134774\tbest: 0.9137037 (396)\ttotal: 1.64s\tremaining: 2.44s\n",
      "500:\ttest: 0.9166808\tbest: 0.9167477 (499)\ttotal: 2.02s\tremaining: 2.01s\n",
      "600:\ttest: 0.9181745\tbest: 0.9181900 (599)\ttotal: 2.44s\tremaining: 1.62s\n",
      "700:\ttest: 0.9192569\tbest: 0.9192569 (700)\ttotal: 2.84s\tremaining: 1.21s\n",
      "800:\ttest: 0.9188173\tbest: 0.9193340 (701)\ttotal: 3.26s\tremaining: 810ms\n",
      "900:\ttest: 0.9192132\tbest: 0.9194857 (895)\ttotal: 3.69s\tremaining: 406ms\n",
      "999:\ttest: 0.9187221\tbest: 0.9194857 (895)\ttotal: 4.13s\tremaining: 0us\n",
      "\n",
      "bestTest = 0.9194857081\n",
      "bestIteration = 895\n",
      "\n",
      "Shrink model to first 896 iterations.\n",
      "tree depth= 6 learning_rate= 0.08 l2_leaf_reg= 2\n",
      "0:\ttest: 0.8464092\tbest: 0.8464092 (0)\ttotal: 3.27ms\tremaining: 3.27s\n",
      "100:\ttest: 0.8978409\tbest: 0.8979669 (99)\ttotal: 385ms\tremaining: 3.43s\n",
      "200:\ttest: 0.9092533\tbest: 0.9103743 (185)\ttotal: 824ms\tremaining: 3.27s\n",
      "300:\ttest: 0.9142975\tbest: 0.9142975 (300)\ttotal: 1.25s\tremaining: 2.91s\n",
      "400:\ttest: 0.9144647\tbest: 0.9148143 (382)\ttotal: 1.68s\tremaining: 2.5s\n",
      "500:\ttest: 0.9157938\tbest: 0.9158401 (499)\ttotal: 2.11s\tremaining: 2.1s\n",
      "600:\ttest: 0.9175524\tbest: 0.9176346 (587)\ttotal: 2.55s\tremaining: 1.69s\n",
      "700:\ttest: 0.9190795\tbest: 0.9190795 (700)\ttotal: 2.98s\tremaining: 1.27s\n",
      "800:\ttest: 0.9191463\tbest: 0.9201567 (774)\ttotal: 3.41s\tremaining: 846ms\n",
      "900:\ttest: 0.9193752\tbest: 0.9201567 (774)\ttotal: 3.81s\tremaining: 418ms\n",
      "999:\ttest: 0.9189175\tbest: 0.9201567 (774)\ttotal: 4.22s\tremaining: 0us\n",
      "\n",
      "bestTest = 0.9201567248\n",
      "bestIteration = 774\n",
      "\n",
      "Shrink model to first 775 iterations.\n",
      "tree depth= 6 learning_rate= 0.08 l2_leaf_reg= 3\n",
      "0:\ttest: 0.8464092\tbest: 0.8464092 (0)\ttotal: 2.88ms\tremaining: 2.88s\n",
      "100:\ttest: 0.8974167\tbest: 0.8974167 (100)\ttotal: 394ms\tremaining: 3.5s\n",
      "200:\ttest: 0.9101352\tbest: 0.9101352 (200)\ttotal: 788ms\tremaining: 3.13s\n",
      "300:\ttest: 0.9137576\tbest: 0.9142667 (291)\ttotal: 1.21s\tremaining: 2.81s\n",
      "400:\ttest: 0.9165600\tbest: 0.9167888 (394)\ttotal: 1.63s\tremaining: 2.43s\n",
      "500:\ttest: 0.9189021\tbest: 0.9189664 (499)\ttotal: 2.04s\tremaining: 2.03s\n",
      "600:\ttest: 0.9203110\tbest: 0.9203110 (600)\ttotal: 2.43s\tremaining: 1.61s\n",
      "700:\ttest: 0.9209666\tbest: 0.9210360 (675)\ttotal: 2.84s\tremaining: 1.21s\n",
      "800:\ttest: 0.9222649\tbest: 0.9222649 (800)\ttotal: 3.29s\tremaining: 817ms\n",
      "900:\ttest: 0.9223112\tbest: 0.9223729 (812)\ttotal: 3.7s\tremaining: 407ms\n",
      "999:\ttest: 0.9221364\tbest: 0.9224603 (902)\ttotal: 4.13s\tremaining: 0us\n",
      "\n",
      "bestTest = 0.9224602918\n",
      "bestIteration = 902\n",
      "\n",
      "Shrink model to first 903 iterations.\n",
      "tree depth= 6 learning_rate= 0.08 l2_leaf_reg= 4\n",
      "0:\ttest: 0.8464014\tbest: 0.8464014 (0)\ttotal: 5.18ms\tremaining: 5.18s\n",
      "100:\ttest: 0.8981340\tbest: 0.8981340 (100)\ttotal: 421ms\tremaining: 3.75s\n",
      "200:\ttest: 0.9089654\tbest: 0.9089654 (200)\ttotal: 841ms\tremaining: 3.34s\n",
      "300:\ttest: 0.9172670\tbest: 0.9172670 (300)\ttotal: 1.26s\tremaining: 2.93s\n",
      "400:\ttest: 0.9184548\tbest: 0.9189869 (347)\ttotal: 1.65s\tremaining: 2.46s\n",
      "500:\ttest: 0.9194394\tbest: 0.9195577 (484)\ttotal: 2.05s\tremaining: 2.04s\n",
      "600:\ttest: 0.9204061\tbest: 0.9207995 (587)\ttotal: 2.43s\tremaining: 1.61s\n",
      "700:\ttest: 0.9205449\tbest: 0.9207995 (587)\ttotal: 2.85s\tremaining: 1.21s\n",
      "800:\ttest: 0.9210103\tbest: 0.9210694 (775)\ttotal: 3.25s\tremaining: 808ms\n",
      "900:\ttest: 0.9210360\tbest: 0.9213754 (891)\ttotal: 3.65s\tremaining: 401ms\n",
      "999:\ttest: 0.9213496\tbest: 0.9214036 (998)\ttotal: 4.06s\tremaining: 0us\n",
      "\n",
      "bestTest = 0.9214036333\n",
      "bestIteration = 998\n",
      "\n",
      "Shrink model to first 999 iterations.\n",
      "tree depth= 8 learning_rate= 0.01 l2_leaf_reg= 2\n",
      "0:\ttest: 0.8513248\tbest: 0.8513248 (0)\ttotal: 16.1ms\tremaining: 16.1s\n",
      "100:\ttest: 0.8745224\tbest: 0.8745224 (100)\ttotal: 971ms\tremaining: 8.64s\n",
      "200:\ttest: 0.8828523\tbest: 0.8828523 (200)\ttotal: 1.89s\tremaining: 7.51s\n",
      "300:\ttest: 0.8898144\tbest: 0.8898144 (300)\ttotal: 2.74s\tremaining: 6.37s\n",
      "400:\ttest: 0.8937685\tbest: 0.8938842 (399)\ttotal: 3.64s\tremaining: 5.44s\n",
      "500:\ttest: 0.8969128\tbest: 0.8969128 (500)\ttotal: 4.54s\tremaining: 4.52s\n",
      "600:\ttest: 0.8980569\tbest: 0.8980595 (597)\ttotal: 5.42s\tremaining: 3.6s\n",
      "700:\ttest: 0.8998900\tbest: 0.8998900 (700)\ttotal: 6.28s\tremaining: 2.68s\n",
      "800:\ttest: 0.9009543\tbest: 0.9011009 (797)\ttotal: 7.22s\tremaining: 1.79s\n",
      "900:\ttest: 0.9028491\tbest: 0.9028491 (900)\ttotal: 8.09s\tremaining: 889ms\n",
      "999:\ttest: 0.9044328\tbest: 0.9044328 (999)\ttotal: 9s\tremaining: 0us\n",
      "\n",
      "bestTest = 0.9044328238\n",
      "bestIteration = 999\n",
      "\n",
      "tree depth= 8 learning_rate= 0.01 l2_leaf_reg= 3\n",
      "0:\ttest: 0.8510240\tbest: 0.8510240 (0)\ttotal: 12.7ms\tremaining: 12.7s\n",
      "100:\ttest: 0.8731958\tbest: 0.8731958 (100)\ttotal: 925ms\tremaining: 8.24s\n",
      "200:\ttest: 0.8824461\tbest: 0.8824461 (200)\ttotal: 1.83s\tremaining: 7.26s\n",
      "300:\ttest: 0.8890226\tbest: 0.8890226 (300)\ttotal: 2.78s\tremaining: 6.45s\n",
      "400:\ttest: 0.8928507\tbest: 0.8928739 (396)\ttotal: 3.64s\tremaining: 5.43s\n",
      "500:\ttest: 0.8954782\tbest: 0.8954885 (499)\ttotal: 4.54s\tremaining: 4.52s\n",
      "600:\ttest: 0.8971828\tbest: 0.8971828 (600)\ttotal: 5.44s\tremaining: 3.61s\n",
      "700:\ttest: 0.8991470\tbest: 0.8991470 (700)\ttotal: 6.34s\tremaining: 2.71s\n",
      "800:\ttest: 0.9009903\tbest: 0.9009903 (800)\ttotal: 7.28s\tremaining: 1.81s\n",
      "900:\ttest: 0.9025432\tbest: 0.9025715 (897)\ttotal: 8.14s\tremaining: 894ms\n",
      "999:\ttest: 0.9041963\tbest: 0.9042349 (998)\ttotal: 9.07s\tremaining: 0us\n",
      "\n",
      "bestTest = 0.904234861\n",
      "bestIteration = 998\n",
      "\n",
      "Shrink model to first 999 iterations.\n",
      "tree depth= 8 learning_rate= 0.01 l2_leaf_reg= 4\n",
      "0:\ttest: 0.8509572\tbest: 0.8509572 (0)\ttotal: 7.16ms\tremaining: 7.15s\n",
      "100:\ttest: 0.8726302\tbest: 0.8726302 (100)\ttotal: 914ms\tremaining: 8.13s\n",
      "200:\ttest: 0.8828780\tbest: 0.8828780 (200)\ttotal: 1.82s\tremaining: 7.25s\n",
      "300:\ttest: 0.8883516\tbest: 0.8883927 (298)\ttotal: 2.78s\tremaining: 6.46s\n",
      "400:\ttest: 0.8918660\tbest: 0.8918660 (400)\ttotal: 3.77s\tremaining: 5.63s\n",
      "500:\ttest: 0.8944961\tbest: 0.8945193 (499)\ttotal: 4.71s\tremaining: 4.69s\n",
      "600:\ttest: 0.8968537\tbest: 0.8968537 (600)\ttotal: 5.6s\tremaining: 3.72s\n",
      "700:\ttest: 0.8981314\tbest: 0.8981880 (697)\ttotal: 6.49s\tremaining: 2.77s\n",
      "800:\ttest: 0.8997177\tbest: 0.8997486 (794)\ttotal: 7.44s\tremaining: 1.85s\n",
      "900:\ttest: 0.9009338\tbest: 0.9009338 (900)\ttotal: 8.32s\tremaining: 914ms\n",
      "999:\ttest: 0.9028748\tbest: 0.9028980 (998)\ttotal: 9.23s\tremaining: 0us\n",
      "\n",
      "bestTest = 0.9028979695\n",
      "bestIteration = 998\n",
      "\n",
      "Shrink model to first 999 iterations.\n",
      "tree depth= 8 learning_rate= 0.05 l2_leaf_reg= 2\n",
      "0:\ttest: 0.8513248\tbest: 0.8513248 (0)\ttotal: 10.6ms\tremaining: 10.6s\n",
      "100:\ttest: 0.8967277\tbest: 0.8968640 (99)\ttotal: 931ms\tremaining: 8.29s\n",
      "200:\ttest: 0.9042683\tbest: 0.9042683 (200)\ttotal: 1.8s\tremaining: 7.15s\n",
      "300:\ttest: 0.9101737\tbest: 0.9102226 (292)\ttotal: 2.71s\tremaining: 6.29s\n",
      "400:\ttest: 0.9116880\tbest: 0.9118474 (395)\ttotal: 3.65s\tremaining: 5.46s\n",
      "500:\ttest: 0.9127601\tbest: 0.9127601 (500)\ttotal: 4.55s\tremaining: 4.53s\n",
      "600:\ttest: 0.9130429\tbest: 0.9136034 (579)\ttotal: 5.55s\tremaining: 3.68s\n",
      "700:\ttest: 0.9134054\tbest: 0.9138348 (648)\ttotal: 6.52s\tremaining: 2.78s\n",
      "800:\ttest: 0.9137808\tbest: 0.9144441 (772)\ttotal: 7.43s\tremaining: 1.85s\n",
      "900:\ttest: 0.9131149\tbest: 0.9144441 (772)\ttotal: 8.31s\tremaining: 914ms\n",
      "999:\ttest: 0.9125596\tbest: 0.9144441 (772)\ttotal: 9.22s\tremaining: 0us\n",
      "\n",
      "bestTest = 0.9144440845\n",
      "bestIteration = 772\n",
      "\n",
      "Shrink model to first 773 iterations.\n",
      "tree depth= 8 learning_rate= 0.05 l2_leaf_reg= 3\n",
      "0:\ttest: 0.8510240\tbest: 0.8510240 (0)\ttotal: 11.1ms\tremaining: 11.1s\n",
      "100:\ttest: 0.8976995\tbest: 0.8978821 (99)\ttotal: 963ms\tremaining: 8.57s\n",
      "200:\ttest: 0.9063919\tbest: 0.9065101 (174)\ttotal: 1.8s\tremaining: 7.18s\n",
      "300:\ttest: 0.9119040\tbest: 0.9121637 (298)\ttotal: 2.75s\tremaining: 6.38s\n",
      "400:\ttest: 0.9136959\tbest: 0.9136959 (400)\ttotal: 3.66s\tremaining: 5.46s\n",
      "500:\ttest: 0.9156396\tbest: 0.9156396 (500)\ttotal: 4.57s\tremaining: 4.55s\n",
      "600:\ttest: 0.9161409\tbest: 0.9165060 (550)\ttotal: 5.45s\tremaining: 3.62s\n",
      "700:\ttest: 0.9154416\tbest: 0.9165060 (550)\ttotal: 6.31s\tremaining: 2.69s\n",
      "800:\ttest: 0.9147526\tbest: 0.9165060 (550)\ttotal: 7.22s\tremaining: 1.79s\n",
      "900:\ttest: 0.9150637\tbest: 0.9165060 (550)\ttotal: 8.11s\tremaining: 892ms\n",
      "999:\ttest: 0.9140970\tbest: 0.9165060 (550)\ttotal: 9.07s\tremaining: 0us\n",
      "\n",
      "bestTest = 0.9165059826\n",
      "bestIteration = 550\n",
      "\n",
      "Shrink model to first 551 iterations.\n",
      "tree depth= 8 learning_rate= 0.05 l2_leaf_reg= 4\n",
      "0:\ttest: 0.8509572\tbest: 0.8509572 (0)\ttotal: 11.6ms\tremaining: 11.5s\n",
      "100:\ttest: 0.8946221\tbest: 0.8950386 (96)\ttotal: 912ms\tremaining: 8.12s\n",
      "200:\ttest: 0.9015662\tbest: 0.9021267 (192)\ttotal: 1.78s\tremaining: 7.08s\n",
      "300:\ttest: 0.9060885\tbest: 0.9061888 (295)\ttotal: 2.56s\tremaining: 5.94s\n",
      "400:\ttest: 0.9080810\tbest: 0.9081967 (397)\ttotal: 3.41s\tremaining: 5.09s\n",
      "500:\ttest: 0.9090168\tbest: 0.9092122 (498)\ttotal: 4.28s\tremaining: 4.26s\n",
      "600:\ttest: 0.9096698\tbest: 0.9097573 (580)\ttotal: 5.15s\tremaining: 3.42s\n",
      "700:\ttest: 0.9101917\tbest: 0.9101917 (700)\ttotal: 6.1s\tremaining: 2.6s\n",
      "800:\ttest: 0.9103691\tbest: 0.9104077 (733)\ttotal: 6.99s\tremaining: 1.74s\n",
      "900:\ttest: 0.9105954\tbest: 0.9106082 (886)\ttotal: 7.83s\tremaining: 861ms\n",
      "999:\ttest: 0.9108936\tbest: 0.9110736 (969)\ttotal: 8.77s\tremaining: 0us\n",
      "\n",
      "bestTest = 0.9110735753\n",
      "bestIteration = 969\n",
      "\n",
      "Shrink model to first 970 iterations.\n",
      "tree depth= 8 learning_rate= 0.08 l2_leaf_reg= 2\n",
      "0:\ttest: 0.8513248\tbest: 0.8513248 (0)\ttotal: 11.6ms\tremaining: 11.6s\n",
      "100:\ttest: 0.9002190\tbest: 0.9003399 (99)\ttotal: 853ms\tremaining: 7.59s\n",
      "200:\ttest: 0.9059188\tbest: 0.9061965 (186)\ttotal: 1.72s\tremaining: 6.85s\n",
      "300:\ttest: 0.9080861\tbest: 0.9082892 (299)\ttotal: 2.64s\tremaining: 6.12s\n",
      "400:\ttest: 0.9077828\tbest: 0.9087032 (310)\ttotal: 3.54s\tremaining: 5.28s\n",
      "500:\ttest: 0.9069626\tbest: 0.9087032 (310)\ttotal: 4.39s\tremaining: 4.37s\n",
      "600:\ttest: 0.9068315\tbest: 0.9087032 (310)\ttotal: 5.26s\tremaining: 3.49s\n",
      "700:\ttest: 0.9063842\tbest: 0.9087032 (310)\ttotal: 6.22s\tremaining: 2.65s\n",
      "800:\ttest: 0.9058623\tbest: 0.9087032 (310)\ttotal: 7.12s\tremaining: 1.77s\n",
      "900:\ttest: 0.9058931\tbest: 0.9087032 (310)\ttotal: 8.03s\tremaining: 882ms\n",
      "999:\ttest: 0.9059394\tbest: 0.9087032 (310)\ttotal: 8.91s\tremaining: 0us\n",
      "\n",
      "bestTest = 0.9087031638\n",
      "bestIteration = 310\n",
      "\n",
      "Shrink model to first 311 iterations.\n",
      "tree depth= 8 learning_rate= 0.08 l2_leaf_reg= 3\n",
      "0:\ttest: 0.8510240\tbest: 0.8510240 (0)\ttotal: 7.56ms\tremaining: 7.55s\n",
      "100:\ttest: 0.9030702\tbest: 0.9031422 (95)\ttotal: 1.05s\tremaining: 9.4s\n",
      "200:\ttest: 0.9101172\tbest: 0.9101532 (197)\ttotal: 2.12s\tremaining: 8.45s\n",
      "300:\ttest: 0.9125596\tbest: 0.9128732 (272)\ttotal: 3.02s\tremaining: 7.01s\n",
      "400:\ttest: 0.9126933\tbest: 0.9133900 (334)\ttotal: 3.98s\tremaining: 5.94s\n",
      "500:\ttest: 0.9129041\tbest: 0.9133900 (334)\ttotal: 5.04s\tremaining: 5.01s\n",
      "600:\ttest: 0.9127293\tbest: 0.9134877 (545)\ttotal: 5.99s\tremaining: 3.98s\n",
      "700:\ttest: 0.9124927\tbest: 0.9134877 (545)\ttotal: 6.87s\tremaining: 2.93s\n",
      "800:\ttest: 0.9130121\tbest: 0.9134877 (545)\ttotal: 7.79s\tremaining: 1.94s\n",
      "900:\ttest: 0.9129555\tbest: 0.9134877 (545)\ttotal: 8.68s\tremaining: 954ms\n",
      "999:\ttest: 0.9129992\tbest: 0.9134877 (545)\ttotal: 9.56s\tremaining: 0us\n",
      "\n",
      "bestTest = 0.9134876929\n",
      "bestIteration = 545\n",
      "\n",
      "Shrink model to first 546 iterations.\n",
      "tree depth= 8 learning_rate= 0.08 l2_leaf_reg= 4\n",
      "0:\ttest: 0.8509572\tbest: 0.8509572 (0)\ttotal: 6.78ms\tremaining: 6.78s\n",
      "100:\ttest: 0.9002268\tbest: 0.9004556 (89)\ttotal: 858ms\tremaining: 7.64s\n",
      "200:\ttest: 0.9069395\tbest: 0.9069395 (200)\ttotal: 1.79s\tremaining: 7.13s\n",
      "300:\ttest: 0.9089577\tbest: 0.9094590 (292)\ttotal: 2.68s\tremaining: 6.23s\n",
      "400:\ttest: 0.9086723\tbest: 0.9094590 (292)\ttotal: 3.59s\tremaining: 5.37s\n",
      "500:\ttest: 0.9084486\tbest: 0.9094590 (292)\ttotal: 4.47s\tremaining: 4.45s\n",
      "600:\ttest: 0.9089937\tbest: 0.9094590 (292)\ttotal: 5.33s\tremaining: 3.54s\n",
      "700:\ttest: 0.9087134\tbest: 0.9094590 (292)\ttotal: 6.24s\tremaining: 2.66s\n",
      "800:\ttest: 0.9090991\tbest: 0.9094590 (292)\ttotal: 7.15s\tremaining: 1.78s\n",
      "900:\ttest: 0.9091814\tbest: 0.9094590 (292)\ttotal: 8.02s\tremaining: 882ms\n",
      "999:\ttest: 0.9087983\tbest: 0.9094590 (292)\ttotal: 8.91s\tremaining: 0us\n",
      "\n",
      "bestTest = 0.9094590217\n",
      "bestIteration = 292\n",
      "\n",
      "Shrink model to first 293 iterations.\n",
      "tree depth= 10 learning_rate= 0.01 l2_leaf_reg= 2\n",
      "0:\ttest: 0.8433613\tbest: 0.8433613 (0)\ttotal: 34.1ms\tremaining: 34.1s\n",
      "100:\ttest: 0.8757539\tbest: 0.8757539 (100)\ttotal: 2.53s\tremaining: 22.5s\n",
      "200:\ttest: 0.8859143\tbest: 0.8859143 (200)\ttotal: 5.2s\tremaining: 20.7s\n",
      "300:\ttest: 0.8900690\tbest: 0.8901692 (293)\ttotal: 7.67s\tremaining: 17.8s\n",
      "400:\ttest: 0.8938277\tbest: 0.8938380 (394)\ttotal: 9.99s\tremaining: 14.9s\n",
      "500:\ttest: 0.8954165\tbest: 0.8955939 (490)\ttotal: 12.6s\tremaining: 12.5s\n",
      "600:\ttest: 0.8963883\tbest: 0.8965272 (594)\ttotal: 15.1s\tremaining: 9.99s\n",
      "700:\ttest: 0.8974656\tbest: 0.8976172 (683)\ttotal: 17.4s\tremaining: 7.43s\n",
      "800:\ttest: 0.8985762\tbest: 0.8985968 (796)\ttotal: 19.8s\tremaining: 4.93s\n",
      "900:\ttest: 0.8993655\tbest: 0.8993963 (888)\ttotal: 22.5s\tremaining: 2.47s\n",
      "999:\ttest: 0.9004556\tbest: 0.9004581 (997)\ttotal: 24.9s\tremaining: 0us\n",
      "\n",
      "bestTest = 0.9004581424\n",
      "bestIteration = 997\n",
      "\n",
      "Shrink model to first 998 iterations.\n",
      "tree depth= 10 learning_rate= 0.01 l2_leaf_reg= 3\n",
      "0:\ttest: 0.8432739\tbest: 0.8432739 (0)\ttotal: 30.7ms\tremaining: 30.7s\n",
      "100:\ttest: 0.8758028\tbest: 0.8758285 (99)\ttotal: 2.41s\tremaining: 21.5s\n",
      "200:\ttest: 0.8867036\tbest: 0.8867036 (200)\ttotal: 5.04s\tremaining: 20s\n",
      "300:\ttest: 0.8903723\tbest: 0.8903723 (300)\ttotal: 7.6s\tremaining: 17.7s\n",
      "400:\ttest: 0.8935243\tbest: 0.8936400 (397)\ttotal: 10s\tremaining: 15s\n",
      "500:\ttest: 0.8956710\tbest: 0.8957765 (494)\ttotal: 12.6s\tremaining: 12.5s\n",
      "600:\ttest: 0.8963575\tbest: 0.8963575 (600)\ttotal: 15s\tremaining: 9.99s\n",
      "700:\ttest: 0.8975453\tbest: 0.8976944 (688)\ttotal: 17.6s\tremaining: 7.52s\n",
      "800:\ttest: 0.8989053\tbest: 0.8989439 (792)\ttotal: 20s\tremaining: 4.98s\n",
      "900:\ttest: 0.8998308\tbest: 0.8998308 (900)\ttotal: 22.4s\tremaining: 2.46s\n",
      "999:\ttest: 0.9016459\tbest: 0.9016459 (999)\ttotal: 24.9s\tremaining: 0us\n",
      "\n",
      "bestTest = 0.9016459191\n",
      "bestIteration = 999\n",
      "\n",
      "tree depth= 10 learning_rate= 0.01 l2_leaf_reg= 4\n",
      "0:\ttest: 0.8431351\tbest: 0.8431351 (0)\ttotal: 29.4ms\tremaining: 29.3s\n",
      "100:\ttest: 0.8746818\tbest: 0.8746818 (100)\ttotal: 2.41s\tremaining: 21.5s\n",
      "200:\ttest: 0.8856572\tbest: 0.8856572 (200)\ttotal: 4.84s\tremaining: 19.3s\n",
      "300:\ttest: 0.8896139\tbest: 0.8896139 (300)\ttotal: 7.36s\tremaining: 17.1s\n",
      "400:\ttest: 0.8924111\tbest: 0.8925448 (397)\ttotal: 9.84s\tremaining: 14.7s\n",
      "500:\ttest: 0.8953548\tbest: 0.8953548 (500)\ttotal: 12.2s\tremaining: 12.2s\n",
      "600:\ttest: 0.8971570\tbest: 0.8972162 (590)\ttotal: 14.8s\tremaining: 9.79s\n",
      "700:\ttest: 0.8978589\tbest: 0.8978872 (678)\ttotal: 17.3s\tremaining: 7.38s\n",
      "800:\ttest: 0.8984785\tbest: 0.8986739 (752)\ttotal: 19.8s\tremaining: 4.91s\n",
      "900:\ttest: 0.8997588\tbest: 0.8997768 (898)\ttotal: 22.3s\tremaining: 2.44s\n",
      "999:\ttest: 0.9006895\tbest: 0.9006947 (994)\ttotal: 24.7s\tremaining: 0us\n",
      "\n",
      "bestTest = 0.9006946694\n",
      "bestIteration = 994\n",
      "\n",
      "Shrink model to first 995 iterations.\n",
      "tree depth= 10 learning_rate= 0.05 l2_leaf_reg= 2\n",
      "0:\ttest: 0.8433613\tbest: 0.8433613 (0)\ttotal: 26.3ms\tremaining: 26.2s\n",
      "100:\ttest: 0.8918043\tbest: 0.8924368 (96)\ttotal: 2.48s\tremaining: 22.1s\n",
      "200:\ttest: 0.8977844\tbest: 0.8978615 (199)\ttotal: 4.89s\tremaining: 19.4s\n",
      "300:\ttest: 0.9004042\tbest: 0.9007847 (290)\ttotal: 7.42s\tremaining: 17.2s\n",
      "400:\ttest: 0.9009852\tbest: 0.9010160 (399)\ttotal: 9.79s\tremaining: 14.6s\n",
      "500:\ttest: 0.9009312\tbest: 0.9013348 (429)\ttotal: 12.3s\tremaining: 12.2s\n",
      "600:\ttest: 0.9013014\tbest: 0.9014248 (582)\ttotal: 14.6s\tremaining: 9.67s\n",
      "700:\ttest: 0.9015508\tbest: 0.9018439 (676)\ttotal: 16.9s\tremaining: 7.23s\n",
      "800:\ttest: 0.9016305\tbest: 0.9018439 (676)\ttotal: 19.3s\tremaining: 4.79s\n",
      "900:\ttest: 0.9018027\tbest: 0.9018979 (854)\ttotal: 21.7s\tremaining: 2.38s\n",
      "999:\ttest: 0.9017565\tbest: 0.9020213 (979)\ttotal: 24.1s\tremaining: 0us\n",
      "\n",
      "bestTest = 0.9020212771\n",
      "bestIteration = 979\n",
      "\n",
      "Shrink model to first 980 iterations.\n",
      "tree depth= 10 learning_rate= 0.05 l2_leaf_reg= 3\n",
      "0:\ttest: 0.8432739\tbest: 0.8432739 (0)\ttotal: 31.2ms\tremaining: 31.2s\n",
      "100:\ttest: 0.8932004\tbest: 0.8944267 (92)\ttotal: 2.44s\tremaining: 21.7s\n",
      "200:\ttest: 0.9012808\tbest: 0.9012834 (198)\ttotal: 4.94s\tremaining: 19.6s\n",
      "300:\ttest: 0.9035793\tbest: 0.9036076 (298)\ttotal: 7.39s\tremaining: 17.2s\n",
      "400:\ttest: 0.9049856\tbest: 0.9049856 (400)\ttotal: 9.76s\tremaining: 14.6s\n",
      "500:\ttest: 0.9050267\tbest: 0.9052015 (443)\ttotal: 12.3s\tremaining: 12.3s\n",
      "600:\ttest: 0.9051373\tbest: 0.9053352 (533)\ttotal: 14.7s\tremaining: 9.73s\n",
      "700:\ttest: 0.9041552\tbest: 0.9053352 (533)\ttotal: 17.1s\tremaining: 7.3s\n",
      "800:\ttest: 0.9044045\tbest: 0.9053352 (533)\ttotal: 19.7s\tremaining: 4.9s\n",
      "900:\ttest: 0.9044457\tbest: 0.9053352 (533)\ttotal: 22.2s\tremaining: 2.44s\n",
      "999:\ttest: 0.9036564\tbest: 0.9053352 (533)\ttotal: 24.8s\tremaining: 0us\n",
      "\n",
      "bestTest = 0.9053352255\n",
      "bestIteration = 533\n",
      "\n",
      "Shrink model to first 534 iterations.\n",
      "tree depth= 10 learning_rate= 0.05 l2_leaf_reg= 4\n",
      "0:\ttest: 0.8431351\tbest: 0.8431351 (0)\ttotal: 22.4ms\tremaining: 22.4s\n",
      "100:\ttest: 0.8965966\tbest: 0.8967097 (97)\ttotal: 2.53s\tremaining: 22.6s\n",
      "200:\ttest: 0.9023478\tbest: 0.9023478 (200)\ttotal: 4.96s\tremaining: 19.7s\n",
      "300:\ttest: 0.9028311\tbest: 0.9035201 (229)\ttotal: 7.34s\tremaining: 17s\n",
      "400:\ttest: 0.9041500\tbest: 0.9041552 (372)\ttotal: 9.71s\tremaining: 14.5s\n",
      "500:\ttest: 0.9037258\tbest: 0.9046976 (472)\ttotal: 12.1s\tremaining: 12s\n",
      "600:\ttest: 0.9041757\tbest: 0.9046976 (472)\ttotal: 14.5s\tremaining: 9.61s\n",
      "700:\ttest: 0.9039135\tbest: 0.9047491 (614)\ttotal: 17s\tremaining: 7.23s\n",
      "800:\ttest: 0.9044611\tbest: 0.9047491 (614)\ttotal: 19.4s\tremaining: 4.83s\n",
      "900:\ttest: 0.9041217\tbest: 0.9047491 (614)\ttotal: 21.9s\tremaining: 2.41s\n",
      "999:\ttest: 0.9044662\tbest: 0.9047491 (614)\ttotal: 24.6s\tremaining: 0us\n",
      "\n",
      "bestTest = 0.90474905\n",
      "bestIteration = 614\n",
      "\n",
      "Shrink model to first 615 iterations.\n",
      "tree depth= 10 learning_rate= 0.08 l2_leaf_reg= 2\n",
      "0:\ttest: 0.8433613\tbest: 0.8433613 (0)\ttotal: 18.8ms\tremaining: 18.8s\n",
      "100:\ttest: 0.8959898\tbest: 0.8961312 (97)\ttotal: 2.45s\tremaining: 21.8s\n",
      "200:\ttest: 0.9036693\tbest: 0.9039469 (198)\ttotal: 5.01s\tremaining: 19.9s\n",
      "300:\ttest: 0.9027900\tbest: 0.9041552 (217)\ttotal: 7.36s\tremaining: 17.1s\n",
      "400:\ttest: 0.9027951\tbest: 0.9041552 (217)\ttotal: 9.64s\tremaining: 14.4s\n",
      "500:\ttest: 0.9027720\tbest: 0.9041552 (217)\ttotal: 12s\tremaining: 11.9s\n",
      "600:\ttest: 0.9035638\tbest: 0.9041552 (217)\ttotal: 14.4s\tremaining: 9.57s\n",
      "700:\ttest: 0.9033813\tbest: 0.9041552 (217)\ttotal: 16.8s\tremaining: 7.17s\n",
      "800:\ttest: 0.9031705\tbest: 0.9041552 (217)\ttotal: 19.2s\tremaining: 4.78s\n",
      "900:\ttest: 0.9034250\tbest: 0.9041552 (217)\ttotal: 21.6s\tremaining: 2.37s\n",
      "999:\ttest: 0.9033864\tbest: 0.9041552 (217)\ttotal: 24s\tremaining: 0us\n",
      "\n",
      "bestTest = 0.9041551617\n",
      "bestIteration = 217\n",
      "\n",
      "Shrink model to first 218 iterations.\n",
      "tree depth= 10 learning_rate= 0.08 l2_leaf_reg= 3\n",
      "0:\ttest: 0.8432739\tbest: 0.8432739 (0)\ttotal: 31.4ms\tremaining: 31.3s\n",
      "100:\ttest: 0.8926013\tbest: 0.8932801 (97)\ttotal: 2.44s\tremaining: 21.7s\n",
      "200:\ttest: 0.8985402\tbest: 0.8992935 (167)\ttotal: 4.84s\tremaining: 19.2s\n",
      "300:\ttest: 0.9018053\tbest: 0.9018824 (297)\ttotal: 7.39s\tremaining: 17.2s\n",
      "400:\ttest: 0.9022115\tbest: 0.9023092 (388)\ttotal: 9.89s\tremaining: 14.8s\n",
      "500:\ttest: 0.9015791\tbest: 0.9023092 (388)\ttotal: 12.5s\tremaining: 12.5s\n",
      "600:\ttest: 0.9022424\tbest: 0.9023092 (388)\ttotal: 15s\tremaining: 9.97s\n",
      "700:\ttest: 0.9017668\tbest: 0.9024378 (608)\ttotal: 17.5s\tremaining: 7.46s\n",
      "800:\ttest: 0.9021344\tbest: 0.9024378 (608)\ttotal: 19.9s\tremaining: 4.95s\n",
      "900:\ttest: 0.9021215\tbest: 0.9024378 (608)\ttotal: 22.4s\tremaining: 2.46s\n",
      "999:\ttest: 0.9023092\tbest: 0.9024840 (970)\ttotal: 24.8s\tremaining: 0us\n",
      "\n",
      "bestTest = 0.9024840473\n",
      "bestIteration = 970\n",
      "\n",
      "Shrink model to first 971 iterations.\n",
      "tree depth= 10 learning_rate= 0.08 l2_leaf_reg= 4\n",
      "0:\ttest: 0.8431351\tbest: 0.8431351 (0)\ttotal: 17.7ms\tremaining: 17.7s\n",
      "100:\ttest: 0.8953111\tbest: 0.8953111 (100)\ttotal: 2.53s\tremaining: 22.6s\n",
      "200:\ttest: 0.8992164\tbest: 0.8994452 (190)\ttotal: 4.99s\tremaining: 19.8s\n",
      "300:\ttest: 0.9009029\tbest: 0.9014634 (282)\ttotal: 7.29s\tremaining: 16.9s\n",
      "400:\ttest: 0.8999620\tbest: 0.9014634 (282)\ttotal: 9.69s\tremaining: 14.5s\n",
      "500:\ttest: 0.8999979\tbest: 0.9014634 (282)\ttotal: 12.3s\tremaining: 12.2s\n",
      "600:\ttest: 0.9006767\tbest: 0.9014634 (282)\ttotal: 14.7s\tremaining: 9.79s\n",
      "700:\ttest: 0.9000082\tbest: 0.9014634 (282)\ttotal: 17.2s\tremaining: 7.34s\n",
      "800:\ttest: 0.9000468\tbest: 0.9014634 (282)\ttotal: 19.6s\tremaining: 4.88s\n",
      "900:\ttest: 0.9000314\tbest: 0.9014634 (282)\ttotal: 22s\tremaining: 2.42s\n",
      "999:\ttest: 0.8996303\tbest: 0.9014634 (282)\ttotal: 24.5s\tremaining: 0us\n",
      "\n",
      "bestTest = 0.901463382\n",
      "bestIteration = 282\n",
      "\n",
      "Shrink model to first 283 iterations.\n"
     ]
    }
   ],
   "source": [
    "# CatBoost classifier with hyperparameter tuning\n",
    "depth_list = [4, 6, 8, 10]\n",
    "lr_list = [0.01, 0.05, 0.08]\n",
    "leaf_reg_list = [2, 3, 4]\n",
    "for d in depth_list:\n",
    "    for lr in lr_list:\n",
    "        for l in leaf_reg_list:\n",
    "            print('tree depth=', d, 'learning_rate=', lr, 'l2_leaf_reg=', l) \n",
    "            model = CatBoostClassifier(depth=d, learning_rate=lr, l2_leaf_reg=l, eval_metric='AUC', verbose=100)\n",
    "            model.fit(X_train, y_train,eval_set=(X_valid, y_valid), use_best_model=True)"
   ]
  },
  {
   "cell_type": "markdown",
   "metadata": {},
   "source": [
    "Best CatBoostClassifier AUC-ROC on the valid set is 0.926, with depth= 4, learning_rate= 0.08, l2_leaf_reg= 2, and with the first 985 iterations"
   ]
  },
  {
   "cell_type": "markdown",
   "metadata": {},
   "source": [
    "### Final model training on train+valid sets\n",
    "\n",
    "The 2 models we will prepare for testing are the 2 best ones (by AUC-ROC) - one of each boosting algorithm"
   ]
  },
  {
   "cell_type": "code",
   "execution_count": 58,
   "metadata": {},
   "outputs": [],
   "source": [
    "# Upsampling, Encoding and standardizing for train+valid (the \"seen\" data)\n",
    "\n",
    "def upsample(features, target, repeat):\n",
    "    features_zeros = features[target == 0]\n",
    "    features_ones = features[target == 1]\n",
    "    target_zeros = target[target == 0]\n",
    "    target_ones = target[target == 1]\n",
    "\n",
    "    features_upsampled = pd.concat([features_zeros] + [features_ones] * repeat)\n",
    "    target_upsampled = pd.concat([target_zeros] + [target_ones] * repeat)\n",
    "\n",
    "    features_upsampled, target_upsampled = shuffle(\n",
    "        features_upsampled, target_upsampled, random_state=12345\n",
    "    )\n",
    "\n",
    "    return features_upsampled, target_upsampled\n",
    "\n",
    "\n",
    "X_seen, y_seen = upsample(\n",
    "    X_seen, y_seen, 3\n",
    ")\n",
    "\n",
    "\n",
    "#encoder = CatBoostEncoder()\n",
    "X_seen = encoder.transform(X_seen, y_seen)\n",
    "#X_test = encoder.transform(X_test)\n",
    "\n",
    "#scaler = StandardScaler()\n",
    "X_seen = scaler.transform(X_seen)\n",
    "#X_test = scaler.transform(X_test)\n"
   ]
  },
  {
   "cell_type": "markdown",
   "metadata": {},
   "source": [
    "## Model Testing"
   ]
  },
  {
   "cell_type": "code",
   "execution_count": 59,
   "metadata": {},
   "outputs": [
    {
     "name": "stdout",
     "output_type": "stream",
     "text": [
      "LGBMClassifier(max_depth=0, num_leaves=50) AUC-ROC 0.9226322821475197\n",
      "LGBMClassifier(max_depth=0, num_leaves=50) F1 0.742561448900388\n"
     ]
    }
   ],
   "source": [
    "# The best LGBMClassifier\n",
    "model = lgbm.LGBMClassifier(max_depth=0, num_leaves=50)\n",
    "model_TPE(X_seen, y_seen, X_test, y_test, model)\n"
   ]
  },
  {
   "cell_type": "code",
   "execution_count": 61,
   "metadata": {},
   "outputs": [
    {
     "data": {
      "image/png": "[encoded data removed]",
      "text/plain": [
       "<Figure size 432x288 with 1 Axes>"
      ]
     },
     "metadata": {
      "needs_background": "light"
     },
     "output_type": "display_data"
    }
   ],
   "source": [
    "# For the testing we will add the ROC curve\n",
    "from sklearn.metrics import roc_curve\n",
    "fpr, tpr, thresholds = roc_curve(y_test, model.predict_proba(X_test)[:, 1])\n",
    "plt.figure()\n",
    "plt.plot(fpr, tpr)\n",
    "plt.xlim([0.0, 1.0])\n",
    "plt.ylim([0.0, 1.0])\n",
    "plt.xlabel('False Positive Rate')\n",
    "plt.ylabel('True Positive Rate')\n",
    "plt.title('ROC curve')\n",
    "plt.show()"
   ]
  },
  {
   "cell_type": "code",
   "execution_count": 62,
   "metadata": {},
   "outputs": [
    {
     "name": "stdout",
     "output_type": "stream",
     "text": [
      "0:\ttotal: 3.65ms\tremaining: 3.59s\n",
      "100:\ttotal: 289ms\tremaining: 2.52s\n",
      "200:\ttotal: 569ms\tremaining: 2.22s\n",
      "300:\ttotal: 846ms\tremaining: 1.92s\n",
      "400:\ttotal: 1.14s\tremaining: 1.65s\n",
      "500:\ttotal: 1.44s\tremaining: 1.39s\n",
      "600:\ttotal: 1.72s\tremaining: 1.1s\n",
      "700:\ttotal: 1.98s\tremaining: 803ms\n",
      "800:\ttotal: 2.24s\tremaining: 515ms\n",
      "900:\ttotal: 2.49s\tremaining: 232ms\n",
      "984:\ttotal: 2.73s\tremaining: 0us\n",
      "<catboost.core.CatBoostClassifier object at 0x7f5c466ca400> AUC-ROC 0.9366534758485638\n",
      "<catboost.core.CatBoostClassifier object at 0x7f5c466ca400> F1 0.7744360902255638\n"
     ]
    }
   ],
   "source": [
    "# The best CatBoostClassifier\n",
    "model = CatBoostClassifier(depth=4, learning_rate= 0.08, l2_leaf_reg= 2, iterations=985, eval_metric='AUC', verbose=100)\n",
    "model_TPE(X_seen, y_seen, X_test, y_test, model)"
   ]
  },
  {
   "cell_type": "code",
   "execution_count": 63,
   "metadata": {},
   "outputs": [
    {
     "data": {
      "image/png": "[encoded data removed]",
      "text/plain": [
       "<Figure size 432x288 with 1 Axes>"
      ]
     },
     "metadata": {
      "needs_background": "light"
     },
     "output_type": "display_data"
    }
   ],
   "source": [
    "# ROC curve \n",
    "fpr, tpr, thresholds = roc_curve(y_test, model.predict_proba(X_test)[:, 1])\n",
    "plt.figure()\n",
    "plt.plot(fpr, tpr)\n",
    "plt.xlim([0.0, 1.0])\n",
    "plt.ylim([0.0, 1.0])\n",
    "plt.xlabel('False Positive Rate')\n",
    "plt.ylabel('True Positive Rate')\n",
    "plt.title('ROC curve')\n",
    "plt.show()"
   ]
  },
  {
   "cell_type": "markdown",
   "metadata": {},
   "source": [
    "## Conclusions\n",
    "\n",
    "Both LightGBM Classifier and CatBoostClassifier models have performed with AUC-ROC above 0.92 (high quality by assesment criteria) on the test set. Best AUC-ROC is 0.93665, with F1 score of 0.77, and it was achieved by the following model:  CatBoostClassifier(depth=4, learning_rate= 0.08, l2_leaf_reg= 2, iterations=985, eval_metric='AUC', verbose=100). "
   ]
  },
  {
   "cell_type": "markdown",
   "metadata": {},
   "source": [
    "## Report \n",
    "\n",
    "This report includes answers to four defined questions:\n",
    "\n",
    "### What steps of the plan were performed and what steps were skipped (explain why)?\n",
    "\n",
    "All steps of the plan were performed, and some steps were added to the approved plan (like final training of the 2 final best models, after hyperparameters tuning, on the combined train+valid dataset (all \"seen\" data) before testing them on the test set). Some feature creation steps were included in the EDA - following the findings.\n",
    "\n",
    "Since the 2 boosting algorithms performed much better than the simpler models, the hyperparameters tuning and final testing focused on these two algorithms.\n",
    "\n",
    "Following the team-lead's instruction for a more rounded evaluation and another metric in addition to AUC-ROC, F1 was calculated as well, and for the final testing of the 2 best models (one of each boosting algorithm that was used) - the ROC curve was plotted. The final upgraded structure was:  \n",
    "\n",
    "1. Data Initial Preparation\n",
    "    - Data loading, inspection and merging\n",
    "    - Fill in nans \n",
    "    - Check for duplicates\n",
    "    - Convert datatypes\n",
    "    \n",
    "    \n",
    "2. EDA \n",
    "    - Check for impossible (mistake) values\n",
    "    - Try to identify trends\n",
    "    - Some feature creation (according to findings)\n",
    "    \n",
    "    \n",
    "3. Feature Preprocessing\n",
    "    - Train-valid-test split (60:20:20)\n",
    "    - Feature selection (trying to select highest-signal features)\n",
    "    - Dealing with class imbalance \n",
    "    - Encoding categorical features\n",
    "    - Scaling-normalizing all features (now all numerical)\n",
    "   \n",
    "   \n",
    "4. Model Training\n",
    "    - Try a few classification algorithms, with hyperparameters tuning\n",
    "    - Choose from each of the 2 best algorithms (by AUC-ROC) the best option, while cheking F1 score as well\n",
    "    - Final training of the 2 best models (one from each boosting algorithm) on the combined train+valid data set (after upsampling, encoding and scaling it) \n",
    "    \n",
    "    \n",
    "5. Model Testing\n",
    "    - Test the best model of each of the 2 top algorithms on the test set (+checking F1 score as well, and plotting ROC curve) \n",
    "    - Find the best model (by AUC-ROC) \n",
    "    \n",
    "    \n",
    "6. Conclusions \n",
    "\n",
    "\n",
    "### What difficulties did you encounter and how did you manage to solve them?\n",
    "\n",
    "1. When I wanted to turn the target ('EndDate') into a binary 0/1 column, I didn't want to lose the data (important for EDA in my eyes) about the date of churn, for those that left the company. My solution was to first create another df, only of churn customers (so there the cloumn can be turned into DateTime), and analyze their 'TimeToChurn', and only than to convert 'EndDate' in the main df (for the model) to 0/1 binary target. \n",
    "\n",
    "\n",
    "2. When I found out that the month and year of BeginDate carry important signal about chances to churn, I wanted to keep this signal in one feature (and not just in dt.month and dt.year, which carry much less signal separately). After consulting with tutors, I eventually created a string feature of the month and year together, and encoded it with the same target encoder that I chose for all the categorical features. Results improved following this change. \n",
    "\n",
    "\n",
    "3. When I tried first to upsample the train data after the encoding and scaling, It gave an error bacause I used \"concat\" and now it was np.array. My solution was to upsample in the same way, just before the encoding and the scaling.\n",
    "\n",
    "\n",
    "\n",
    "### What were some of the key steps to solving the task?\n",
    "\n",
    "1. I belive the feature creation and selection, based on findings of the EDA and signal-searching, was an important key.\n",
    "\n",
    "\n",
    "2. All the steps mentioned in the former question were keys for improvement.\n",
    "\n",
    "\n",
    "3. The consultation with team-lead, and other tutors, was very helpful and productive.\n",
    "\n",
    "\n",
    "\n",
    "### What is your final model and what quality score does it have?\n",
    "\n",
    "My final model (after feature selection, upsampling, encoding and scaling) is:\n",
    "CatBoostClassifier(depth=4, learning_rate= 0.08, l2_leaf_reg= 2, iterations=985, eval_metric='AUC', verbose=100). \n",
    "On the test set it's AUC-ROC is 0.9367, and the F1 score is 0.77 "
   ]
  }
 ],
 "metadata": {
  "ExecuteTimeLog": [
   {
    "duration": 1573,
    "start_time": "2022-06-08T20:40:57.335Z"
   },
   {
    "duration": 122,
    "start_time": "2022-06-08T20:41:00.628Z"
   },
   {
    "duration": 126,
    "start_time": "2022-06-08T20:41:05.100Z"
   },
   {
    "duration": 75,
    "start_time": "2022-06-08T20:41:07.282Z"
   },
   {
    "duration": 111,
    "start_time": "2022-06-08T20:41:09.139Z"
   },
   {
    "duration": 18,
    "start_time": "2022-06-08T20:41:40.671Z"
   },
   {
    "duration": 18,
    "start_time": "2022-06-08T20:42:19.779Z"
   },
   {
    "duration": 20,
    "start_time": "2022-06-08T20:42:41.861Z"
   },
   {
    "duration": 12,
    "start_time": "2022-06-08T20:43:04.024Z"
   },
   {
    "duration": 12,
    "start_time": "2022-06-08T20:43:28.738Z"
   },
   {
    "duration": 10,
    "start_time": "2022-06-08T20:43:47.552Z"
   },
   {
    "duration": 7,
    "start_time": "2022-06-09T05:03:39.049Z"
   },
   {
    "duration": 41,
    "start_time": "2022-06-09T05:04:07.912Z"
   },
   {
    "duration": 1557,
    "start_time": "2022-06-09T05:04:19.486Z"
   },
   {
    "duration": 115,
    "start_time": "2022-06-09T05:04:21.045Z"
   },
   {
    "duration": 88,
    "start_time": "2022-06-09T05:04:21.162Z"
   },
   {
    "duration": 43,
    "start_time": "2022-06-09T05:04:21.252Z"
   },
   {
    "duration": 47,
    "start_time": "2022-06-09T05:04:21.298Z"
   },
   {
    "duration": 2,
    "start_time": "2022-06-09T05:04:21.347Z"
   },
   {
    "duration": 21,
    "start_time": "2022-06-09T05:04:21.351Z"
   },
   {
    "duration": 12,
    "start_time": "2022-06-09T05:06:14.212Z"
   },
   {
    "duration": 46,
    "start_time": "2022-06-09T17:55:09.760Z"
   },
   {
    "duration": 1376,
    "start_time": "2022-06-09T17:55:27.047Z"
   },
   {
    "duration": 139,
    "start_time": "2022-06-09T17:55:28.425Z"
   },
   {
    "duration": 50,
    "start_time": "2022-06-09T17:55:28.565Z"
   },
   {
    "duration": 93,
    "start_time": "2022-06-09T17:55:28.617Z"
   },
   {
    "duration": 45,
    "start_time": "2022-06-09T17:55:28.712Z"
   },
   {
    "duration": 12,
    "start_time": "2022-06-09T17:55:28.759Z"
   },
   {
    "duration": 14,
    "start_time": "2022-06-09T17:55:28.772Z"
   },
   {
    "duration": 16,
    "start_time": "2022-06-09T17:55:28.787Z"
   },
   {
    "duration": 13,
    "start_time": "2022-06-09T17:55:28.805Z"
   },
   {
    "duration": 9,
    "start_time": "2022-06-09T17:56:54.711Z"
   },
   {
    "duration": 6,
    "start_time": "2022-06-09T17:57:27.462Z"
   },
   {
    "duration": 10,
    "start_time": "2022-06-09T18:11:22.018Z"
   },
   {
    "duration": 6,
    "start_time": "2022-06-09T18:12:27.426Z"
   },
   {
    "duration": 7,
    "start_time": "2022-06-09T18:16:42.312Z"
   },
   {
    "duration": 1463,
    "start_time": "2022-06-10T02:05:11.852Z"
   },
   {
    "duration": 106,
    "start_time": "2022-06-10T02:05:13.317Z"
   },
   {
    "duration": 83,
    "start_time": "2022-06-10T02:05:13.425Z"
   },
   {
    "duration": 42,
    "start_time": "2022-06-10T02:05:13.510Z"
   },
   {
    "duration": 45,
    "start_time": "2022-06-10T02:05:13.554Z"
   },
   {
    "duration": 14,
    "start_time": "2022-06-10T02:05:13.600Z"
   },
   {
    "duration": 14,
    "start_time": "2022-06-10T02:05:13.616Z"
   },
   {
    "duration": 11,
    "start_time": "2022-06-10T02:05:13.631Z"
   },
   {
    "duration": 11,
    "start_time": "2022-06-10T02:05:13.643Z"
   },
   {
    "duration": 11,
    "start_time": "2022-06-10T02:05:13.657Z"
   },
   {
    "duration": 14,
    "start_time": "2022-06-10T02:05:13.669Z"
   },
   {
    "duration": 18,
    "start_time": "2022-06-10T02:05:13.684Z"
   },
   {
    "duration": 25,
    "start_time": "2022-06-10T02:05:13.704Z"
   },
   {
    "duration": 9,
    "start_time": "2022-06-10T02:05:13.731Z"
   },
   {
    "duration": 102,
    "start_time": "2022-06-10T02:24:31.295Z"
   },
   {
    "duration": 39,
    "start_time": "2022-06-10T02:34:37.270Z"
   },
   {
    "duration": 43,
    "start_time": "2022-06-10T02:38:44.271Z"
   },
   {
    "duration": 35,
    "start_time": "2022-06-10T02:39:36.825Z"
   },
   {
    "duration": 44,
    "start_time": "2022-06-10T04:02:42.458Z"
   },
   {
    "duration": 1237,
    "start_time": "2022-06-10T04:02:49.161Z"
   },
   {
    "duration": 53,
    "start_time": "2022-06-10T04:02:50.400Z"
   },
   {
    "duration": 18,
    "start_time": "2022-06-10T04:02:50.455Z"
   },
   {
    "duration": 20,
    "start_time": "2022-06-10T04:02:50.475Z"
   },
   {
    "duration": 16,
    "start_time": "2022-06-10T04:02:50.497Z"
   },
   {
    "duration": 12,
    "start_time": "2022-06-10T04:02:50.515Z"
   },
   {
    "duration": 14,
    "start_time": "2022-06-10T04:02:50.528Z"
   },
   {
    "duration": 10,
    "start_time": "2022-06-10T04:02:50.543Z"
   },
   {
    "duration": 11,
    "start_time": "2022-06-10T04:02:50.555Z"
   },
   {
    "duration": 15,
    "start_time": "2022-06-10T04:02:50.568Z"
   },
   {
    "duration": 15,
    "start_time": "2022-06-10T04:02:50.585Z"
   },
   {
    "duration": 31,
    "start_time": "2022-06-10T04:02:50.602Z"
   },
   {
    "duration": 17,
    "start_time": "2022-06-10T04:02:50.635Z"
   },
   {
    "duration": 9,
    "start_time": "2022-06-10T04:02:50.653Z"
   },
   {
    "duration": 41,
    "start_time": "2022-06-10T04:02:50.663Z"
   },
   {
    "duration": 32,
    "start_time": "2022-06-10T04:02:50.706Z"
   },
   {
    "duration": 67,
    "start_time": "2022-06-10T04:07:55.617Z"
   },
   {
    "duration": 22,
    "start_time": "2022-06-10T04:12:54.890Z"
   },
   {
    "duration": 14,
    "start_time": "2022-06-10T04:14:37.790Z"
   },
   {
    "duration": 14,
    "start_time": "2022-06-10T04:16:20.239Z"
   },
   {
    "duration": 11,
    "start_time": "2022-06-10T04:16:58.030Z"
   },
   {
    "duration": 8,
    "start_time": "2022-06-10T04:17:06.064Z"
   },
   {
    "duration": 11,
    "start_time": "2022-06-10T04:51:21.089Z"
   },
   {
    "duration": 19,
    "start_time": "2022-06-10T04:51:51.322Z"
   },
   {
    "duration": 20,
    "start_time": "2022-06-10T04:52:32.012Z"
   },
   {
    "duration": 1745,
    "start_time": "2022-06-10T15:49:50.314Z"
   },
   {
    "duration": 195,
    "start_time": "2022-06-10T15:49:52.070Z"
   },
   {
    "duration": 170,
    "start_time": "2022-06-10T15:49:52.267Z"
   },
   {
    "duration": 50,
    "start_time": "2022-06-10T15:49:52.440Z"
   },
   {
    "duration": 93,
    "start_time": "2022-06-10T15:49:52.493Z"
   },
   {
    "duration": 27,
    "start_time": "2022-06-10T15:49:52.587Z"
   },
   {
    "duration": 21,
    "start_time": "2022-06-10T15:49:52.616Z"
   },
   {
    "duration": 13,
    "start_time": "2022-06-10T15:49:52.638Z"
   },
   {
    "duration": 20,
    "start_time": "2022-06-10T15:49:52.653Z"
   },
   {
    "duration": 33,
    "start_time": "2022-06-10T15:49:52.676Z"
   },
   {
    "duration": 15,
    "start_time": "2022-06-10T15:49:52.711Z"
   },
   {
    "duration": 15,
    "start_time": "2022-06-10T15:49:52.728Z"
   },
   {
    "duration": 17,
    "start_time": "2022-06-10T15:49:52.745Z"
   },
   {
    "duration": 15,
    "start_time": "2022-06-10T15:49:52.764Z"
   },
   {
    "duration": 10,
    "start_time": "2022-06-10T15:49:52.781Z"
   },
   {
    "duration": 31,
    "start_time": "2022-06-10T15:49:52.793Z"
   },
   {
    "duration": 52,
    "start_time": "2022-06-10T15:49:52.827Z"
   },
   {
    "duration": 21,
    "start_time": "2022-06-10T15:49:52.881Z"
   },
   {
    "duration": 28,
    "start_time": "2022-06-10T15:49:52.908Z"
   },
   {
    "duration": 21,
    "start_time": "2022-06-10T15:49:52.937Z"
   },
   {
    "duration": 16,
    "start_time": "2022-06-10T15:49:52.960Z"
   },
   {
    "duration": 203,
    "start_time": "2022-06-10T16:00:51.348Z"
   },
   {
    "duration": 43,
    "start_time": "2022-06-10T16:01:27.304Z"
   },
   {
    "duration": 28,
    "start_time": "2022-06-10T16:07:05.701Z"
   },
   {
    "duration": 45,
    "start_time": "2022-06-10T16:14:08.564Z"
   },
   {
    "duration": 9,
    "start_time": "2022-06-10T16:23:37.839Z"
   },
   {
    "duration": 221,
    "start_time": "2022-06-10T16:24:09.048Z"
   },
   {
    "duration": 1384,
    "start_time": "2022-06-11T02:16:09.816Z"
   },
   {
    "duration": 112,
    "start_time": "2022-06-11T02:16:11.202Z"
   },
   {
    "duration": 85,
    "start_time": "2022-06-11T02:16:11.316Z"
   },
   {
    "duration": 45,
    "start_time": "2022-06-11T02:16:11.403Z"
   },
   {
    "duration": 45,
    "start_time": "2022-06-11T02:16:11.450Z"
   },
   {
    "duration": 12,
    "start_time": "2022-06-11T02:16:11.497Z"
   },
   {
    "duration": 17,
    "start_time": "2022-06-11T02:16:11.511Z"
   },
   {
    "duration": 8,
    "start_time": "2022-06-11T02:16:11.530Z"
   },
   {
    "duration": 9,
    "start_time": "2022-06-11T02:16:11.540Z"
   },
   {
    "duration": 10,
    "start_time": "2022-06-11T02:16:11.551Z"
   },
   {
    "duration": 10,
    "start_time": "2022-06-11T02:16:11.562Z"
   },
   {
    "duration": 10,
    "start_time": "2022-06-11T02:16:11.573Z"
   },
   {
    "duration": 11,
    "start_time": "2022-06-11T02:16:11.584Z"
   },
   {
    "duration": 10,
    "start_time": "2022-06-11T02:16:11.597Z"
   },
   {
    "duration": 9,
    "start_time": "2022-06-11T02:16:11.609Z"
   },
   {
    "duration": 8,
    "start_time": "2022-06-11T02:16:11.620Z"
   },
   {
    "duration": 56,
    "start_time": "2022-06-11T02:16:11.630Z"
   },
   {
    "duration": 13,
    "start_time": "2022-06-11T02:16:11.688Z"
   },
   {
    "duration": 19,
    "start_time": "2022-06-11T02:16:11.703Z"
   },
   {
    "duration": 39,
    "start_time": "2022-06-11T02:16:11.723Z"
   },
   {
    "duration": 15,
    "start_time": "2022-06-11T02:16:11.763Z"
   },
   {
    "duration": 33,
    "start_time": "2022-06-11T02:16:11.779Z"
   },
   {
    "duration": 8,
    "start_time": "2022-06-11T02:16:11.813Z"
   },
   {
    "duration": 102,
    "start_time": "2022-06-11T02:16:17.227Z"
   },
   {
    "duration": 4,
    "start_time": "2022-06-11T02:16:38.655Z"
   },
   {
    "duration": 15,
    "start_time": "2022-06-11T02:22:42.152Z"
   },
   {
    "duration": 148,
    "start_time": "2022-06-11T02:23:03.464Z"
   },
   {
    "duration": 111,
    "start_time": "2022-06-11T02:24:57.837Z"
   },
   {
    "duration": 116,
    "start_time": "2022-06-11T02:26:21.514Z"
   },
   {
    "duration": 106,
    "start_time": "2022-06-11T02:28:25.728Z"
   },
   {
    "duration": 165,
    "start_time": "2022-06-11T02:29:12.927Z"
   },
   {
    "duration": 38,
    "start_time": "2022-06-11T02:49:35.908Z"
   },
   {
    "duration": 44,
    "start_time": "2022-06-11T02:50:30.472Z"
   },
   {
    "duration": 13,
    "start_time": "2022-06-11T02:52:18.999Z"
   },
   {
    "duration": 108,
    "start_time": "2022-06-11T02:55:46.844Z"
   },
   {
    "duration": 110,
    "start_time": "2022-06-11T02:56:00.271Z"
   },
   {
    "duration": 6,
    "start_time": "2022-06-11T03:00:47.945Z"
   },
   {
    "duration": 6,
    "start_time": "2022-06-11T03:01:32.796Z"
   },
   {
    "duration": 11,
    "start_time": "2022-06-11T03:05:49.625Z"
   },
   {
    "duration": 162,
    "start_time": "2022-06-11T03:05:59.609Z"
   },
   {
    "duration": 14,
    "start_time": "2022-06-11T03:09:24.550Z"
   },
   {
    "duration": 4,
    "start_time": "2022-06-11T03:14:16.389Z"
   },
   {
    "duration": 4,
    "start_time": "2022-06-11T03:14:25.825Z"
   },
   {
    "duration": 4,
    "start_time": "2022-06-11T03:14:32.054Z"
   },
   {
    "duration": 5,
    "start_time": "2022-06-11T03:14:38.599Z"
   },
   {
    "duration": 6,
    "start_time": "2022-06-11T03:15:53.573Z"
   },
   {
    "duration": 13,
    "start_time": "2022-06-11T03:16:27.421Z"
   },
   {
    "duration": 51,
    "start_time": "2022-06-11T14:10:46.305Z"
   },
   {
    "duration": 1538,
    "start_time": "2022-06-11T14:10:57.893Z"
   },
   {
    "duration": 233,
    "start_time": "2022-06-11T14:10:59.433Z"
   },
   {
    "duration": 44,
    "start_time": "2022-06-11T14:10:59.668Z"
   },
   {
    "duration": 93,
    "start_time": "2022-06-11T14:10:59.714Z"
   },
   {
    "duration": 41,
    "start_time": "2022-06-11T14:10:59.809Z"
   },
   {
    "duration": 15,
    "start_time": "2022-06-11T14:10:59.851Z"
   },
   {
    "duration": 20,
    "start_time": "2022-06-11T14:10:59.867Z"
   },
   {
    "duration": 13,
    "start_time": "2022-06-11T14:10:59.888Z"
   },
   {
    "duration": 6,
    "start_time": "2022-06-11T14:11:04.769Z"
   },
   {
    "duration": 7,
    "start_time": "2022-06-11T14:11:34.609Z"
   },
   {
    "duration": 10,
    "start_time": "2022-06-11T14:16:10.468Z"
   },
   {
    "duration": 78,
    "start_time": "2022-06-11T14:17:16.643Z"
   },
   {
    "duration": 8,
    "start_time": "2022-06-11T14:17:28.640Z"
   },
   {
    "duration": 50,
    "start_time": "2022-06-11T14:19:03.439Z"
   },
   {
    "duration": 9,
    "start_time": "2022-06-11T14:19:27.137Z"
   },
   {
    "duration": 4,
    "start_time": "2022-06-11T14:19:32.674Z"
   },
   {
    "duration": 17,
    "start_time": "2022-06-11T14:20:44.174Z"
   },
   {
    "duration": 22,
    "start_time": "2022-06-11T14:22:05.779Z"
   },
   {
    "duration": 26,
    "start_time": "2022-06-11T14:26:07.854Z"
   },
   {
    "duration": 28,
    "start_time": "2022-06-11T14:26:56.266Z"
   },
   {
    "duration": 44,
    "start_time": "2022-06-11T14:28:37.792Z"
   },
   {
    "duration": 10,
    "start_time": "2022-06-11T14:30:05.291Z"
   },
   {
    "duration": 52,
    "start_time": "2022-06-11T14:43:31.910Z"
   },
   {
    "duration": 27,
    "start_time": "2022-06-11T14:43:56.492Z"
   },
   {
    "duration": 33,
    "start_time": "2022-06-11T14:55:12.600Z"
   },
   {
    "duration": 430,
    "start_time": "2022-06-11T14:55:23.811Z"
   },
   {
    "duration": 51,
    "start_time": "2022-06-11T14:57:14.806Z"
   },
   {
    "duration": 428,
    "start_time": "2022-06-11T14:57:32.951Z"
   },
   {
    "duration": 216,
    "start_time": "2022-06-11T14:58:05.102Z"
   },
   {
    "duration": 27,
    "start_time": "2022-06-11T15:02:49.813Z"
   },
   {
    "duration": 38,
    "start_time": "2022-06-11T15:04:07.338Z"
   },
   {
    "duration": 34,
    "start_time": "2022-06-11T15:05:27.107Z"
   },
   {
    "duration": 49,
    "start_time": "2022-06-11T15:09:27.806Z"
   },
   {
    "duration": 1872,
    "start_time": "2022-06-11T15:10:45.924Z"
   },
   {
    "duration": 59,
    "start_time": "2022-06-11T15:10:47.800Z"
   },
   {
    "duration": 35,
    "start_time": "2022-06-11T15:10:47.870Z"
   },
   {
    "duration": 25,
    "start_time": "2022-06-11T15:10:47.911Z"
   },
   {
    "duration": 22,
    "start_time": "2022-06-11T15:10:47.938Z"
   },
   {
    "duration": 30,
    "start_time": "2022-06-11T15:10:47.965Z"
   },
   {
    "duration": 30,
    "start_time": "2022-06-11T15:10:48.000Z"
   },
   {
    "duration": 15,
    "start_time": "2022-06-11T15:10:48.032Z"
   },
   {
    "duration": 8,
    "start_time": "2022-06-11T15:10:48.049Z"
   },
   {
    "duration": 53,
    "start_time": "2022-06-11T15:10:48.066Z"
   },
   {
    "duration": 13,
    "start_time": "2022-06-11T15:10:48.121Z"
   },
   {
    "duration": 14,
    "start_time": "2022-06-11T15:10:48.136Z"
   },
   {
    "duration": 53,
    "start_time": "2022-06-11T15:10:48.151Z"
   },
   {
    "duration": 17,
    "start_time": "2022-06-11T15:10:48.206Z"
   },
   {
    "duration": 16,
    "start_time": "2022-06-11T15:10:48.225Z"
   },
   {
    "duration": 12,
    "start_time": "2022-06-11T15:10:48.243Z"
   },
   {
    "duration": 34,
    "start_time": "2022-06-11T15:10:48.260Z"
   },
   {
    "duration": 27,
    "start_time": "2022-06-11T15:10:48.296Z"
   },
   {
    "duration": 13,
    "start_time": "2022-06-11T15:10:48.326Z"
   },
   {
    "duration": 8,
    "start_time": "2022-06-11T15:10:48.341Z"
   },
   {
    "duration": 112,
    "start_time": "2022-06-11T15:10:48.351Z"
   },
   {
    "duration": 42,
    "start_time": "2022-06-11T15:10:48.475Z"
   },
   {
    "duration": 38,
    "start_time": "2022-06-11T15:10:48.519Z"
   },
   {
    "duration": 35,
    "start_time": "2022-06-11T15:10:48.570Z"
   },
   {
    "duration": 72,
    "start_time": "2022-06-11T15:10:48.607Z"
   },
   {
    "duration": 7,
    "start_time": "2022-06-11T15:10:48.680Z"
   },
   {
    "duration": 30,
    "start_time": "2022-06-11T15:10:48.689Z"
   },
   {
    "duration": 33,
    "start_time": "2022-06-11T15:12:18.673Z"
   },
   {
    "duration": 21,
    "start_time": "2022-06-11T15:12:45.135Z"
   },
   {
    "duration": 357,
    "start_time": "2022-06-11T15:25:49.185Z"
   },
   {
    "duration": 14,
    "start_time": "2022-06-11T15:27:08.065Z"
   },
   {
    "duration": 425,
    "start_time": "2022-06-11T15:30:53.350Z"
   },
   {
    "duration": 317,
    "start_time": "2022-06-11T15:31:42.010Z"
   },
   {
    "duration": 497,
    "start_time": "2022-06-11T15:32:46.903Z"
   },
   {
    "duration": 258,
    "start_time": "2022-06-11T15:33:21.794Z"
   },
   {
    "duration": 205,
    "start_time": "2022-06-11T15:34:40.102Z"
   },
   {
    "duration": 234,
    "start_time": "2022-06-11T16:12:19.369Z"
   },
   {
    "duration": 1361,
    "start_time": "2022-06-12T01:05:33.557Z"
   },
   {
    "duration": 115,
    "start_time": "2022-06-12T01:05:34.920Z"
   },
   {
    "duration": 90,
    "start_time": "2022-06-12T01:05:35.036Z"
   },
   {
    "duration": 52,
    "start_time": "2022-06-12T01:05:35.128Z"
   },
   {
    "duration": 52,
    "start_time": "2022-06-12T01:05:35.182Z"
   },
   {
    "duration": 18,
    "start_time": "2022-06-12T01:05:35.236Z"
   },
   {
    "duration": 36,
    "start_time": "2022-06-12T01:05:35.256Z"
   },
   {
    "duration": 29,
    "start_time": "2022-06-12T01:05:35.295Z"
   },
   {
    "duration": 31,
    "start_time": "2022-06-12T01:05:35.326Z"
   },
   {
    "duration": 15,
    "start_time": "2022-06-12T01:05:35.360Z"
   },
   {
    "duration": 11,
    "start_time": "2022-06-12T01:05:35.377Z"
   },
   {
    "duration": 12,
    "start_time": "2022-06-12T01:05:35.390Z"
   },
   {
    "duration": 14,
    "start_time": "2022-06-12T01:05:35.404Z"
   },
   {
    "duration": 10,
    "start_time": "2022-06-12T01:05:35.420Z"
   },
   {
    "duration": 33,
    "start_time": "2022-06-12T01:05:35.432Z"
   },
   {
    "duration": 13,
    "start_time": "2022-06-12T01:05:35.467Z"
   },
   {
    "duration": 9,
    "start_time": "2022-06-12T01:05:35.482Z"
   },
   {
    "duration": 15,
    "start_time": "2022-06-12T01:05:35.492Z"
   },
   {
    "duration": 16,
    "start_time": "2022-06-12T01:05:35.508Z"
   },
   {
    "duration": 11,
    "start_time": "2022-06-12T01:05:35.526Z"
   },
   {
    "duration": 43,
    "start_time": "2022-06-12T01:05:35.538Z"
   },
   {
    "duration": 15,
    "start_time": "2022-06-12T01:05:35.583Z"
   },
   {
    "duration": 22,
    "start_time": "2022-06-12T01:05:35.599Z"
   },
   {
    "duration": 37,
    "start_time": "2022-06-12T01:05:35.622Z"
   },
   {
    "duration": 36,
    "start_time": "2022-06-12T01:05:35.661Z"
   },
   {
    "duration": 3,
    "start_time": "2022-06-12T01:05:35.699Z"
   },
   {
    "duration": 28,
    "start_time": "2022-06-12T01:05:35.704Z"
   },
   {
    "duration": 18,
    "start_time": "2022-06-12T01:05:35.752Z"
   },
   {
    "duration": 13,
    "start_time": "2022-06-12T01:05:35.772Z"
   },
   {
    "duration": 7,
    "start_time": "2022-06-12T01:05:35.787Z"
   },
   {
    "duration": 189,
    "start_time": "2022-06-12T01:05:35.795Z"
   },
   {
    "duration": 201,
    "start_time": "2022-06-12T01:05:35.986Z"
   },
   {
    "duration": 3,
    "start_time": "2022-06-12T01:05:36.188Z"
   },
   {
    "duration": 11,
    "start_time": "2022-06-12T01:05:36.192Z"
   },
   {
    "duration": 158,
    "start_time": "2022-06-12T01:05:36.205Z"
   },
   {
    "duration": 34,
    "start_time": "2022-06-12T01:09:25.101Z"
   },
   {
    "duration": 107,
    "start_time": "2022-06-12T01:21:04.749Z"
   },
   {
    "duration": 13,
    "start_time": "2022-06-12T01:22:51.744Z"
   },
   {
    "duration": 13,
    "start_time": "2022-06-12T01:26:41.795Z"
   },
   {
    "duration": 13,
    "start_time": "2022-06-12T01:27:38.780Z"
   },
   {
    "duration": 13,
    "start_time": "2022-06-12T01:27:45.882Z"
   },
   {
    "duration": 13,
    "start_time": "2022-06-12T01:30:47.093Z"
   },
   {
    "duration": 10,
    "start_time": "2022-06-12T01:33:41.300Z"
   },
   {
    "duration": 8,
    "start_time": "2022-06-12T01:36:42.314Z"
   },
   {
    "duration": 6,
    "start_time": "2022-06-12T01:39:50.152Z"
   },
   {
    "duration": 42,
    "start_time": "2022-06-12T01:45:21.426Z"
   },
   {
    "duration": 50,
    "start_time": "2022-06-12T01:50:44.543Z"
   },
   {
    "duration": 18,
    "start_time": "2022-06-12T01:51:42.935Z"
   },
   {
    "duration": 18,
    "start_time": "2022-06-12T01:52:16.662Z"
   },
   {
    "duration": 9,
    "start_time": "2022-06-12T02:08:47.032Z"
   },
   {
    "duration": 15,
    "start_time": "2022-06-12T02:09:00.209Z"
   },
   {
    "duration": 1311,
    "start_time": "2022-06-12T02:11:43.617Z"
   },
   {
    "duration": 1199,
    "start_time": "2022-06-12T02:12:11.240Z"
   },
   {
    "duration": 12,
    "start_time": "2022-06-12T02:20:54.814Z"
   },
   {
    "duration": 50,
    "start_time": "2022-06-12T02:21:41.697Z"
   },
   {
    "duration": 26,
    "start_time": "2022-06-12T02:30:31.214Z"
   },
   {
    "duration": 19,
    "start_time": "2022-06-12T02:30:59.435Z"
   },
   {
    "duration": 23,
    "start_time": "2022-06-12T02:31:26.271Z"
   },
   {
    "duration": 21,
    "start_time": "2022-06-12T02:31:56.704Z"
   },
   {
    "duration": 20,
    "start_time": "2022-06-12T02:32:04.642Z"
   },
   {
    "duration": 29,
    "start_time": "2022-06-12T02:32:09.122Z"
   },
   {
    "duration": 326,
    "start_time": "2022-06-12T02:33:03.791Z"
   },
   {
    "duration": 9,
    "start_time": "2022-06-12T02:37:36.068Z"
   },
   {
    "duration": 4,
    "start_time": "2022-06-12T02:40:22.301Z"
   },
   {
    "duration": 33,
    "start_time": "2022-06-12T02:40:39.634Z"
   },
   {
    "duration": 23,
    "start_time": "2022-06-12T02:42:18.893Z"
   },
   {
    "duration": 23,
    "start_time": "2022-06-12T02:43:32.257Z"
   },
   {
    "duration": 314,
    "start_time": "2022-06-12T02:57:09.853Z"
   },
   {
    "duration": 351,
    "start_time": "2022-06-12T03:00:09.751Z"
   },
   {
    "duration": 2392,
    "start_time": "2022-06-12T03:01:03.152Z"
   },
   {
    "duration": 2425,
    "start_time": "2022-06-12T03:02:33.822Z"
   },
   {
    "duration": 3,
    "start_time": "2022-06-12T03:03:23.639Z"
   },
   {
    "duration": 17,
    "start_time": "2022-06-12T03:03:33.426Z"
   },
   {
    "duration": 2477,
    "start_time": "2022-06-12T03:04:40.304Z"
   },
   {
    "duration": 1331,
    "start_time": "2022-06-12T03:06:02.948Z"
   },
   {
    "duration": 21,
    "start_time": "2022-06-12T05:58:40.420Z"
   },
   {
    "duration": 36,
    "start_time": "2022-06-12T06:02:12.730Z"
   },
   {
    "duration": 34,
    "start_time": "2022-06-12T06:02:27.785Z"
   },
   {
    "duration": 4,
    "start_time": "2022-06-12T06:41:53.857Z"
   },
   {
    "duration": 24,
    "start_time": "2022-06-12T06:43:08.250Z"
   },
   {
    "duration": 9,
    "start_time": "2022-06-12T06:45:36.013Z"
   },
   {
    "duration": 15,
    "start_time": "2022-06-12T06:51:08.649Z"
   },
   {
    "duration": 132,
    "start_time": "2022-06-12T06:51:26.125Z"
   },
   {
    "duration": 36,
    "start_time": "2022-06-12T07:01:41.811Z"
   },
   {
    "duration": 70,
    "start_time": "2022-06-12T07:01:51.714Z"
   },
   {
    "duration": 75,
    "start_time": "2022-06-12T07:02:04.800Z"
   },
   {
    "duration": 32,
    "start_time": "2022-06-12T08:54:28.289Z"
   },
   {
    "duration": 2577,
    "start_time": "2022-06-12T08:54:43.659Z"
   },
   {
    "duration": 4,
    "start_time": "2022-06-12T09:32:57.098Z"
   },
   {
    "duration": 69997,
    "start_time": "2022-06-12T09:33:01.488Z"
   },
   {
    "duration": 18,
    "start_time": "2022-06-12T10:06:31.989Z"
   },
   {
    "duration": 20,
    "start_time": "2022-06-12T10:08:09.017Z"
   },
   {
    "duration": 4,
    "start_time": "2022-06-12T10:08:19.980Z"
   },
   {
    "duration": 9,
    "start_time": "2022-06-12T10:10:43.407Z"
   },
   {
    "duration": 16,
    "start_time": "2022-06-12T10:14:09.535Z"
   },
   {
    "duration": 3506,
    "start_time": "2022-06-12T12:23:06.558Z"
   },
   {
    "duration": 459,
    "start_time": "2022-06-12T12:23:53.651Z"
   },
   {
    "duration": 116,
    "start_time": "2022-06-12T12:23:54.112Z"
   },
   {
    "duration": 98,
    "start_time": "2022-06-12T12:23:54.230Z"
   },
   {
    "duration": 50,
    "start_time": "2022-06-12T12:23:54.330Z"
   },
   {
    "duration": 51,
    "start_time": "2022-06-12T12:23:54.382Z"
   },
   {
    "duration": 13,
    "start_time": "2022-06-12T12:23:54.435Z"
   },
   {
    "duration": 18,
    "start_time": "2022-06-12T12:23:54.450Z"
   },
   {
    "duration": 12,
    "start_time": "2022-06-12T12:23:54.469Z"
   },
   {
    "duration": 10,
    "start_time": "2022-06-12T12:23:54.482Z"
   },
   {
    "duration": 14,
    "start_time": "2022-06-12T12:23:54.493Z"
   },
   {
    "duration": 23,
    "start_time": "2022-06-12T12:23:54.508Z"
   },
   {
    "duration": 11,
    "start_time": "2022-06-12T12:23:54.533Z"
   },
   {
    "duration": 9,
    "start_time": "2022-06-12T12:23:54.546Z"
   },
   {
    "duration": 10,
    "start_time": "2022-06-12T12:23:54.559Z"
   },
   {
    "duration": 11,
    "start_time": "2022-06-12T12:23:54.571Z"
   },
   {
    "duration": 9,
    "start_time": "2022-06-12T12:23:54.583Z"
   },
   {
    "duration": 40,
    "start_time": "2022-06-12T12:23:54.594Z"
   },
   {
    "duration": 6,
    "start_time": "2022-06-12T12:23:54.636Z"
   },
   {
    "duration": 13,
    "start_time": "2022-06-12T12:23:54.643Z"
   },
   {
    "duration": 8,
    "start_time": "2022-06-12T12:23:54.657Z"
   },
   {
    "duration": 40,
    "start_time": "2022-06-12T12:23:54.667Z"
   },
   {
    "duration": 16,
    "start_time": "2022-06-12T12:23:54.727Z"
   },
   {
    "duration": 19,
    "start_time": "2022-06-12T12:23:54.745Z"
   },
   {
    "duration": 23,
    "start_time": "2022-06-12T12:23:54.766Z"
   },
   {
    "duration": 75,
    "start_time": "2022-06-12T12:23:54.791Z"
   },
   {
    "duration": 3,
    "start_time": "2022-06-12T12:23:54.868Z"
   },
   {
    "duration": 35,
    "start_time": "2022-06-12T12:23:54.872Z"
   },
   {
    "duration": 27,
    "start_time": "2022-06-12T12:23:54.908Z"
   },
   {
    "duration": 19,
    "start_time": "2022-06-12T12:23:54.936Z"
   },
   {
    "duration": 8,
    "start_time": "2022-06-12T12:23:54.957Z"
   },
   {
    "duration": 1307,
    "start_time": "2022-06-12T12:23:54.966Z"
   },
   {
    "duration": 1212,
    "start_time": "2022-06-12T12:23:56.275Z"
   },
   {
    "duration": 21,
    "start_time": "2022-06-12T12:23:57.489Z"
   },
   {
    "duration": 19,
    "start_time": "2022-06-12T12:23:57.511Z"
   },
   {
    "duration": 13,
    "start_time": "2022-06-12T12:23:57.531Z"
   },
   {
    "duration": 10,
    "start_time": "2022-06-12T12:23:57.545Z"
   },
   {
    "duration": 154,
    "start_time": "2022-06-12T12:23:57.557Z"
   },
   {
    "duration": 191,
    "start_time": "2022-06-12T12:23:57.712Z"
   },
   {
    "duration": 32,
    "start_time": "2022-06-12T12:23:57.904Z"
   },
   {
    "duration": 13,
    "start_time": "2022-06-12T12:23:57.937Z"
   },
   {
    "duration": 12,
    "start_time": "2022-06-12T12:23:57.954Z"
   },
   {
    "duration": 12,
    "start_time": "2022-06-12T12:23:57.968Z"
   },
   {
    "duration": 47,
    "start_time": "2022-06-12T12:23:57.981Z"
   },
   {
    "duration": 7,
    "start_time": "2022-06-12T12:23:58.029Z"
   },
   {
    "duration": 67,
    "start_time": "2022-06-12T12:23:58.037Z"
   },
   {
    "duration": 23,
    "start_time": "2022-06-12T12:23:58.105Z"
   },
   {
    "duration": 142,
    "start_time": "2022-06-12T12:23:58.129Z"
   },
   {
    "duration": 2046,
    "start_time": "2022-06-12T12:23:58.272Z"
   },
   {
    "duration": 5,
    "start_time": "2022-06-12T12:28:41.224Z"
   },
   {
    "duration": 13,
    "start_time": "2022-06-12T12:28:46.044Z"
   },
   {
    "duration": 35,
    "start_time": "2022-06-12T12:28:54.344Z"
   },
   {
    "duration": 67,
    "start_time": "2022-06-12T12:29:02.163Z"
   },
   {
    "duration": 1544,
    "start_time": "2022-06-12T16:52:27.347Z"
   },
   {
    "duration": 147,
    "start_time": "2022-06-12T16:52:28.897Z"
   },
   {
    "duration": 116,
    "start_time": "2022-06-12T16:52:29.046Z"
   },
   {
    "duration": 52,
    "start_time": "2022-06-12T16:52:29.165Z"
   },
   {
    "duration": 57,
    "start_time": "2022-06-12T16:52:29.219Z"
   },
   {
    "duration": 16,
    "start_time": "2022-06-12T16:52:29.278Z"
   },
   {
    "duration": 16,
    "start_time": "2022-06-12T16:52:29.297Z"
   },
   {
    "duration": 14,
    "start_time": "2022-06-12T16:52:29.315Z"
   },
   {
    "duration": 8,
    "start_time": "2022-06-12T16:52:29.331Z"
   },
   {
    "duration": 38,
    "start_time": "2022-06-12T16:52:29.342Z"
   },
   {
    "duration": 14,
    "start_time": "2022-06-12T16:52:29.382Z"
   },
   {
    "duration": 12,
    "start_time": "2022-06-12T16:52:29.398Z"
   },
   {
    "duration": 10,
    "start_time": "2022-06-12T16:52:29.412Z"
   },
   {
    "duration": 12,
    "start_time": "2022-06-12T16:52:29.424Z"
   },
   {
    "duration": 16,
    "start_time": "2022-06-12T16:52:29.466Z"
   },
   {
    "duration": 12,
    "start_time": "2022-06-12T16:52:29.484Z"
   },
   {
    "duration": 10,
    "start_time": "2022-06-12T16:52:29.498Z"
   },
   {
    "duration": 10,
    "start_time": "2022-06-12T16:52:29.510Z"
   },
   {
    "duration": 10,
    "start_time": "2022-06-12T16:52:29.522Z"
   },
   {
    "duration": 35,
    "start_time": "2022-06-12T16:52:29.534Z"
   },
   {
    "duration": 64,
    "start_time": "2022-06-12T16:52:29.571Z"
   },
   {
    "duration": 17,
    "start_time": "2022-06-12T16:52:29.637Z"
   },
   {
    "duration": 43,
    "start_time": "2022-06-12T16:52:29.655Z"
   },
   {
    "duration": 21,
    "start_time": "2022-06-12T16:52:29.700Z"
   },
   {
    "duration": 68,
    "start_time": "2022-06-12T16:52:29.723Z"
   },
   {
    "duration": 4,
    "start_time": "2022-06-12T16:52:29.793Z"
   },
   {
    "duration": 26,
    "start_time": "2022-06-12T16:52:29.799Z"
   },
   {
    "duration": 37,
    "start_time": "2022-06-12T16:52:29.829Z"
   },
   {
    "duration": 16,
    "start_time": "2022-06-12T16:52:29.877Z"
   },
   {
    "duration": 13,
    "start_time": "2022-06-12T16:52:29.894Z"
   },
   {
    "duration": 1412,
    "start_time": "2022-06-12T16:52:29.909Z"
   },
   {
    "duration": 1430,
    "start_time": "2022-06-12T16:52:31.323Z"
   },
   {
    "duration": 28,
    "start_time": "2022-06-12T16:52:32.755Z"
   },
   {
    "duration": 10,
    "start_time": "2022-06-12T16:52:32.785Z"
   },
   {
    "duration": 10,
    "start_time": "2022-06-12T16:52:32.797Z"
   },
   {
    "duration": 10,
    "start_time": "2022-06-12T16:52:32.809Z"
   },
   {
    "duration": 196,
    "start_time": "2022-06-12T16:52:32.820Z"
   },
   {
    "duration": 222,
    "start_time": "2022-06-12T16:52:33.018Z"
   },
   {
    "duration": 50,
    "start_time": "2022-06-12T16:52:33.242Z"
   },
   {
    "duration": 17,
    "start_time": "2022-06-12T16:52:33.295Z"
   },
   {
    "duration": 13,
    "start_time": "2022-06-12T16:52:33.314Z"
   },
   {
    "duration": 13,
    "start_time": "2022-06-12T16:52:33.329Z"
   },
   {
    "duration": 26,
    "start_time": "2022-06-12T16:52:33.365Z"
   },
   {
    "duration": 11,
    "start_time": "2022-06-12T16:52:33.393Z"
   },
   {
    "duration": 91,
    "start_time": "2022-06-12T16:52:33.406Z"
   },
   {
    "duration": 12,
    "start_time": "2022-06-12T16:52:33.499Z"
   },
   {
    "duration": 239,
    "start_time": "2022-06-12T16:52:33.513Z"
   },
   {
    "duration": 2900,
    "start_time": "2022-06-12T16:52:33.755Z"
   },
   {
    "duration": 4,
    "start_time": "2022-06-12T16:52:36.657Z"
   },
   {
    "duration": 27,
    "start_time": "2022-06-12T16:52:36.664Z"
   },
   {
    "duration": 37,
    "start_time": "2022-06-12T16:52:36.693Z"
   },
   {
    "duration": 137,
    "start_time": "2022-06-12T16:52:36.732Z"
   },
   {
    "duration": 1916418,
    "start_time": "2022-06-12T16:52:36.871Z"
   },
   {
    "duration": 4092,
    "start_time": "2022-06-12T18:12:54.688Z"
   },
   {
    "duration": 32790,
    "start_time": "2022-06-12T18:25:54.244Z"
   },
   {
    "duration": 44,
    "start_time": "2022-06-12T20:53:24.026Z"
   },
   {
    "duration": 1301,
    "start_time": "2022-06-12T20:53:50.155Z"
   },
   {
    "duration": 50,
    "start_time": "2022-06-12T20:53:51.458Z"
   },
   {
    "duration": 21,
    "start_time": "2022-06-12T20:53:51.510Z"
   },
   {
    "duration": 22,
    "start_time": "2022-06-12T20:53:51.532Z"
   },
   {
    "duration": 18,
    "start_time": "2022-06-12T20:53:51.556Z"
   },
   {
    "duration": 13,
    "start_time": "2022-06-12T20:53:51.575Z"
   },
   {
    "duration": 17,
    "start_time": "2022-06-12T20:53:51.590Z"
   },
   {
    "duration": 12,
    "start_time": "2022-06-12T20:53:51.608Z"
   },
   {
    "duration": 7,
    "start_time": "2022-06-12T20:53:51.621Z"
   },
   {
    "duration": 10,
    "start_time": "2022-06-12T20:53:51.631Z"
   },
   {
    "duration": 10,
    "start_time": "2022-06-12T20:53:51.642Z"
   },
   {
    "duration": 7,
    "start_time": "2022-06-12T20:53:51.654Z"
   },
   {
    "duration": 8,
    "start_time": "2022-06-12T20:53:51.664Z"
   },
   {
    "duration": 10,
    "start_time": "2022-06-12T20:53:51.673Z"
   },
   {
    "duration": 11,
    "start_time": "2022-06-12T20:53:51.685Z"
   },
   {
    "duration": 9,
    "start_time": "2022-06-12T20:53:51.698Z"
   },
   {
    "duration": 9,
    "start_time": "2022-06-12T20:53:51.709Z"
   },
   {
    "duration": 7,
    "start_time": "2022-06-12T20:53:51.765Z"
   },
   {
    "duration": 9,
    "start_time": "2022-06-12T20:53:51.773Z"
   },
   {
    "duration": 10,
    "start_time": "2022-06-12T20:53:51.783Z"
   },
   {
    "duration": 82,
    "start_time": "2022-06-12T20:53:51.795Z"
   },
   {
    "duration": 16,
    "start_time": "2022-06-12T20:53:51.878Z"
   },
   {
    "duration": 21,
    "start_time": "2022-06-12T20:53:51.895Z"
   },
   {
    "duration": 20,
    "start_time": "2022-06-12T20:53:51.917Z"
   },
   {
    "duration": 65,
    "start_time": "2022-06-12T20:53:51.938Z"
   },
   {
    "duration": 3,
    "start_time": "2022-06-12T20:53:52.005Z"
   },
   {
    "duration": 28,
    "start_time": "2022-06-12T20:53:52.010Z"
   },
   {
    "duration": 34,
    "start_time": "2022-06-12T20:53:52.041Z"
   },
   {
    "duration": 15,
    "start_time": "2022-06-12T20:53:52.076Z"
   },
   {
    "duration": 9,
    "start_time": "2022-06-12T20:53:52.092Z"
   },
   {
    "duration": 1315,
    "start_time": "2022-06-12T20:53:52.103Z"
   },
   {
    "duration": 1383,
    "start_time": "2022-06-12T20:53:53.420Z"
   },
   {
    "duration": 23,
    "start_time": "2022-06-12T20:53:54.804Z"
   },
   {
    "duration": 8,
    "start_time": "2022-06-12T20:53:54.829Z"
   },
   {
    "duration": 27,
    "start_time": "2022-06-12T20:53:54.839Z"
   },
   {
    "duration": 10,
    "start_time": "2022-06-12T20:53:54.867Z"
   },
   {
    "duration": 173,
    "start_time": "2022-06-12T20:53:54.879Z"
   },
   {
    "duration": 200,
    "start_time": "2022-06-12T20:53:55.053Z"
   },
   {
    "duration": 34,
    "start_time": "2022-06-12T20:53:55.254Z"
   },
   {
    "duration": 13,
    "start_time": "2022-06-12T20:53:55.290Z"
   },
   {
    "duration": 13,
    "start_time": "2022-06-12T20:53:55.304Z"
   },
   {
    "duration": 13,
    "start_time": "2022-06-12T20:53:55.318Z"
   },
   {
    "duration": 42,
    "start_time": "2022-06-12T20:53:55.332Z"
   },
   {
    "duration": 3,
    "start_time": "2022-06-12T20:53:55.376Z"
   },
   {
    "duration": 87,
    "start_time": "2022-06-12T20:53:55.381Z"
   },
   {
    "duration": 8,
    "start_time": "2022-06-12T20:53:55.470Z"
   },
   {
    "duration": 168,
    "start_time": "2022-06-12T20:53:55.479Z"
   },
   {
    "duration": 2269,
    "start_time": "2022-06-12T20:53:55.649Z"
   },
   {
    "duration": 3,
    "start_time": "2022-06-12T20:53:57.920Z"
   },
   {
    "duration": 17,
    "start_time": "2022-06-12T20:53:57.925Z"
   },
   {
    "duration": 39,
    "start_time": "2022-06-12T20:53:57.944Z"
   },
   {
    "duration": 84,
    "start_time": "2022-06-12T20:53:57.985Z"
   },
   {
    "duration": 95,
    "start_time": "2022-06-12T20:53:58.071Z"
   },
   {
    "duration": 0,
    "start_time": "2022-06-12T20:53:58.167Z"
   },
   {
    "duration": 0,
    "start_time": "2022-06-12T20:53:58.168Z"
   },
   {
    "duration": 24085,
    "start_time": "2022-06-12T20:55:03.391Z"
   },
   {
    "duration": 3553,
    "start_time": "2022-06-12T20:56:27.229Z"
   },
   {
    "duration": 28247,
    "start_time": "2022-06-12T20:56:44.539Z"
   },
   {
    "duration": 131,
    "start_time": "2022-06-12T20:57:43.680Z"
   },
   {
    "duration": 1207,
    "start_time": "2022-06-12T21:05:04.417Z"
   },
   {
    "duration": 51,
    "start_time": "2022-06-12T21:05:05.626Z"
   },
   {
    "duration": 21,
    "start_time": "2022-06-12T21:05:05.678Z"
   },
   {
    "duration": 21,
    "start_time": "2022-06-12T21:05:05.702Z"
   },
   {
    "duration": 18,
    "start_time": "2022-06-12T21:05:05.725Z"
   },
   {
    "duration": 20,
    "start_time": "2022-06-12T21:05:05.744Z"
   },
   {
    "duration": 30,
    "start_time": "2022-06-12T21:05:05.765Z"
   },
   {
    "duration": 18,
    "start_time": "2022-06-12T21:05:05.796Z"
   },
   {
    "duration": 21,
    "start_time": "2022-06-12T21:05:05.815Z"
   },
   {
    "duration": 26,
    "start_time": "2022-06-12T21:05:05.840Z"
   },
   {
    "duration": 18,
    "start_time": "2022-06-12T21:05:05.867Z"
   },
   {
    "duration": 26,
    "start_time": "2022-06-12T21:05:05.887Z"
   },
   {
    "duration": 22,
    "start_time": "2022-06-12T21:05:05.914Z"
   },
   {
    "duration": 21,
    "start_time": "2022-06-12T21:05:05.937Z"
   },
   {
    "duration": 25,
    "start_time": "2022-06-12T21:05:05.959Z"
   },
   {
    "duration": 18,
    "start_time": "2022-06-12T21:05:05.985Z"
   },
   {
    "duration": 24,
    "start_time": "2022-06-12T21:05:06.004Z"
   },
   {
    "duration": 19,
    "start_time": "2022-06-12T21:05:06.030Z"
   },
   {
    "duration": 21,
    "start_time": "2022-06-12T21:05:06.051Z"
   },
   {
    "duration": 15,
    "start_time": "2022-06-12T21:05:06.073Z"
   },
   {
    "duration": 43,
    "start_time": "2022-06-12T21:05:06.090Z"
   },
   {
    "duration": 15,
    "start_time": "2022-06-12T21:05:06.135Z"
   },
   {
    "duration": 34,
    "start_time": "2022-06-12T21:05:06.151Z"
   },
   {
    "duration": 18,
    "start_time": "2022-06-12T21:05:06.187Z"
   },
   {
    "duration": 43,
    "start_time": "2022-06-12T21:05:06.207Z"
   },
   {
    "duration": 14,
    "start_time": "2022-06-12T21:05:06.252Z"
   },
   {
    "duration": 35,
    "start_time": "2022-06-12T21:05:06.267Z"
   },
   {
    "duration": 17,
    "start_time": "2022-06-12T21:05:06.306Z"
   },
   {
    "duration": 12,
    "start_time": "2022-06-12T21:05:06.324Z"
   },
   {
    "duration": 16,
    "start_time": "2022-06-12T21:05:06.337Z"
   },
   {
    "duration": 1226,
    "start_time": "2022-06-12T21:05:06.355Z"
   },
   {
    "duration": 1257,
    "start_time": "2022-06-12T21:05:07.583Z"
   },
   {
    "duration": 27,
    "start_time": "2022-06-12T21:05:08.858Z"
   },
   {
    "duration": 9,
    "start_time": "2022-06-12T21:05:08.888Z"
   },
   {
    "duration": 15,
    "start_time": "2022-06-12T21:05:08.899Z"
   },
   {
    "duration": 17,
    "start_time": "2022-06-12T21:05:08.916Z"
   },
   {
    "duration": 180,
    "start_time": "2022-06-12T21:05:08.935Z"
   },
   {
    "duration": 193,
    "start_time": "2022-06-12T21:05:09.117Z"
   },
   {
    "duration": 25,
    "start_time": "2022-06-12T21:05:09.311Z"
   },
   {
    "duration": 28,
    "start_time": "2022-06-12T21:05:09.338Z"
   },
   {
    "duration": 13,
    "start_time": "2022-06-12T21:05:09.368Z"
   },
   {
    "duration": 12,
    "start_time": "2022-06-12T21:05:09.382Z"
   },
   {
    "duration": 11,
    "start_time": "2022-06-12T21:05:09.395Z"
   },
   {
    "duration": 4,
    "start_time": "2022-06-12T21:05:09.407Z"
   },
   {
    "duration": 99,
    "start_time": "2022-06-12T21:05:09.412Z"
   },
   {
    "duration": 9,
    "start_time": "2022-06-12T21:05:09.512Z"
   },
   {
    "duration": 160,
    "start_time": "2022-06-12T21:05:09.523Z"
   },
   {
    "duration": 2119,
    "start_time": "2022-06-12T21:05:09.685Z"
   },
   {
    "duration": 4,
    "start_time": "2022-06-12T21:05:11.806Z"
   },
   {
    "duration": 22,
    "start_time": "2022-06-12T21:05:11.811Z"
   },
   {
    "duration": 35,
    "start_time": "2022-06-12T21:05:11.835Z"
   },
   {
    "duration": 93,
    "start_time": "2022-06-12T21:05:11.872Z"
   },
   {
    "duration": 21905,
    "start_time": "2022-06-12T21:05:11.968Z"
   },
   {
    "duration": 3372,
    "start_time": "2022-06-12T21:05:33.875Z"
   },
   {
    "duration": 28334,
    "start_time": "2022-06-12T21:05:37.249Z"
   },
   {
    "duration": 174,
    "start_time": "2022-06-12T21:06:14.534Z"
   },
   {
    "duration": 1272,
    "start_time": "2022-06-12T21:12:54.614Z"
   },
   {
    "duration": 56,
    "start_time": "2022-06-12T21:12:55.888Z"
   },
   {
    "duration": 23,
    "start_time": "2022-06-12T21:12:55.946Z"
   },
   {
    "duration": 21,
    "start_time": "2022-06-12T21:12:55.972Z"
   },
   {
    "duration": 18,
    "start_time": "2022-06-12T21:12:55.995Z"
   },
   {
    "duration": 13,
    "start_time": "2022-06-12T21:12:56.014Z"
   },
   {
    "duration": 19,
    "start_time": "2022-06-12T21:12:56.029Z"
   },
   {
    "duration": 16,
    "start_time": "2022-06-12T21:12:56.049Z"
   },
   {
    "duration": 9,
    "start_time": "2022-06-12T21:12:56.066Z"
   },
   {
    "duration": 15,
    "start_time": "2022-06-12T21:12:56.078Z"
   },
   {
    "duration": 11,
    "start_time": "2022-06-12T21:12:56.095Z"
   },
   {
    "duration": 9,
    "start_time": "2022-06-12T21:12:56.107Z"
   },
   {
    "duration": 8,
    "start_time": "2022-06-12T21:12:56.118Z"
   },
   {
    "duration": 38,
    "start_time": "2022-06-12T21:12:56.128Z"
   },
   {
    "duration": 12,
    "start_time": "2022-06-12T21:12:56.168Z"
   },
   {
    "duration": 11,
    "start_time": "2022-06-12T21:12:56.181Z"
   },
   {
    "duration": 9,
    "start_time": "2022-06-12T21:12:56.194Z"
   },
   {
    "duration": 9,
    "start_time": "2022-06-12T21:12:56.204Z"
   },
   {
    "duration": 14,
    "start_time": "2022-06-12T21:12:56.214Z"
   },
   {
    "duration": 6,
    "start_time": "2022-06-12T21:12:56.229Z"
   },
   {
    "duration": 57,
    "start_time": "2022-06-12T21:12:56.237Z"
   },
   {
    "duration": 15,
    "start_time": "2022-06-12T21:12:56.296Z"
   },
   {
    "duration": 18,
    "start_time": "2022-06-12T21:12:56.313Z"
   },
   {
    "duration": 38,
    "start_time": "2022-06-12T21:12:56.332Z"
   },
   {
    "duration": 42,
    "start_time": "2022-06-12T21:12:56.372Z"
   },
   {
    "duration": 3,
    "start_time": "2022-06-12T21:12:56.416Z"
   },
   {
    "duration": 27,
    "start_time": "2022-06-12T21:12:56.421Z"
   },
   {
    "duration": 19,
    "start_time": "2022-06-12T21:12:56.466Z"
   },
   {
    "duration": 12,
    "start_time": "2022-06-12T21:12:56.486Z"
   },
   {
    "duration": 9,
    "start_time": "2022-06-12T21:12:56.499Z"
   },
   {
    "duration": 1269,
    "start_time": "2022-06-12T21:12:56.509Z"
   },
   {
    "duration": 1357,
    "start_time": "2022-06-12T21:12:57.780Z"
   },
   {
    "duration": 34,
    "start_time": "2022-06-12T21:12:59.139Z"
   },
   {
    "duration": 6,
    "start_time": "2022-06-12T21:12:59.175Z"
   },
   {
    "duration": 7,
    "start_time": "2022-06-12T21:12:59.183Z"
   },
   {
    "duration": 8,
    "start_time": "2022-06-12T21:12:59.191Z"
   },
   {
    "duration": 168,
    "start_time": "2022-06-12T21:12:59.201Z"
   },
   {
    "duration": 193,
    "start_time": "2022-06-12T21:12:59.371Z"
   },
   {
    "duration": 24,
    "start_time": "2022-06-12T21:12:59.566Z"
   },
   {
    "duration": 12,
    "start_time": "2022-06-12T21:12:59.591Z"
   },
   {
    "duration": 12,
    "start_time": "2022-06-12T21:12:59.604Z"
   },
   {
    "duration": 12,
    "start_time": "2022-06-12T21:12:59.617Z"
   },
   {
    "duration": 42,
    "start_time": "2022-06-12T21:12:59.631Z"
   },
   {
    "duration": 8,
    "start_time": "2022-06-12T21:12:59.675Z"
   },
   {
    "duration": 80,
    "start_time": "2022-06-12T21:12:59.685Z"
   },
   {
    "duration": 8,
    "start_time": "2022-06-12T21:12:59.767Z"
   },
   {
    "duration": 165,
    "start_time": "2022-06-12T21:12:59.777Z"
   },
   {
    "duration": 2180,
    "start_time": "2022-06-12T21:12:59.944Z"
   },
   {
    "duration": 4,
    "start_time": "2022-06-12T21:13:02.126Z"
   },
   {
    "duration": 19,
    "start_time": "2022-06-12T21:13:02.131Z"
   },
   {
    "duration": 43,
    "start_time": "2022-06-12T21:13:02.151Z"
   },
   {
    "duration": 70,
    "start_time": "2022-06-12T21:13:02.196Z"
   },
   {
    "duration": 24899,
    "start_time": "2022-06-12T21:13:02.273Z"
   },
   {
    "duration": 3581,
    "start_time": "2022-06-12T21:13:27.174Z"
   },
   {
    "duration": 29721,
    "start_time": "2022-06-12T21:13:30.757Z"
   },
   {
    "duration": 28,
    "start_time": "2022-06-12T21:29:21.120Z"
   },
   {
    "duration": 1603,
    "start_time": "2022-06-12T21:29:42.170Z"
   },
   {
    "duration": 120,
    "start_time": "2022-06-12T21:30:30.764Z"
   },
   {
    "duration": 2052,
    "start_time": "2022-06-12T21:31:02.906Z"
   },
   {
    "duration": 2223,
    "start_time": "2022-06-12T21:31:25.118Z"
   },
   {
    "duration": 22,
    "start_time": "2022-06-12T21:44:43.542Z"
   },
   {
    "duration": 1416,
    "start_time": "2022-06-13T17:37:58.831Z"
   },
   {
    "duration": 119,
    "start_time": "2022-06-13T17:38:00.249Z"
   },
   {
    "duration": 162,
    "start_time": "2022-06-13T17:38:00.370Z"
   },
   {
    "duration": 46,
    "start_time": "2022-06-13T17:38:00.534Z"
   },
   {
    "duration": 79,
    "start_time": "2022-06-13T17:38:00.582Z"
   },
   {
    "duration": 15,
    "start_time": "2022-06-13T17:38:00.663Z"
   },
   {
    "duration": 19,
    "start_time": "2022-06-13T17:38:00.679Z"
   },
   {
    "duration": 16,
    "start_time": "2022-06-13T17:38:00.699Z"
   },
   {
    "duration": 10,
    "start_time": "2022-06-13T17:38:00.717Z"
   },
   {
    "duration": 30,
    "start_time": "2022-06-13T17:38:00.730Z"
   },
   {
    "duration": 20,
    "start_time": "2022-06-13T17:38:00.762Z"
   },
   {
    "duration": 12,
    "start_time": "2022-06-13T17:38:00.784Z"
   },
   {
    "duration": 16,
    "start_time": "2022-06-13T17:38:00.798Z"
   },
   {
    "duration": 10,
    "start_time": "2022-06-13T17:38:00.816Z"
   },
   {
    "duration": 16,
    "start_time": "2022-06-13T17:38:00.828Z"
   },
   {
    "duration": 17,
    "start_time": "2022-06-13T17:38:00.846Z"
   },
   {
    "duration": 10,
    "start_time": "2022-06-13T17:38:00.865Z"
   },
   {
    "duration": 33,
    "start_time": "2022-06-13T17:38:00.877Z"
   },
   {
    "duration": 14,
    "start_time": "2022-06-13T17:38:00.912Z"
   },
   {
    "duration": 11,
    "start_time": "2022-06-13T17:38:00.928Z"
   },
   {
    "duration": 42,
    "start_time": "2022-06-13T17:38:00.940Z"
   },
   {
    "duration": 15,
    "start_time": "2022-06-13T17:38:00.984Z"
   },
   {
    "duration": 40,
    "start_time": "2022-06-13T17:38:01.001Z"
   },
   {
    "duration": 18,
    "start_time": "2022-06-13T17:38:01.044Z"
   },
   {
    "duration": 47,
    "start_time": "2022-06-13T17:38:01.063Z"
   },
   {
    "duration": 4,
    "start_time": "2022-06-13T17:38:01.112Z"
   },
   {
    "duration": 26,
    "start_time": "2022-06-13T17:38:01.118Z"
   },
   {
    "duration": 19,
    "start_time": "2022-06-13T17:38:01.159Z"
   },
   {
    "duration": 12,
    "start_time": "2022-06-13T17:38:01.180Z"
   },
   {
    "duration": 28,
    "start_time": "2022-06-13T17:38:01.194Z"
   },
   {
    "duration": 1293,
    "start_time": "2022-06-13T17:38:01.223Z"
   },
   {
    "duration": 1375,
    "start_time": "2022-06-13T17:38:02.518Z"
   },
   {
    "duration": 22,
    "start_time": "2022-06-13T17:38:03.895Z"
   },
   {
    "duration": 18,
    "start_time": "2022-06-13T17:38:03.918Z"
   },
   {
    "duration": 24,
    "start_time": "2022-06-13T17:38:03.937Z"
   },
   {
    "duration": 17,
    "start_time": "2022-06-13T17:38:03.962Z"
   },
   {
    "duration": 164,
    "start_time": "2022-06-13T17:38:03.981Z"
   },
   {
    "duration": 190,
    "start_time": "2022-06-13T17:38:04.146Z"
   },
   {
    "duration": 32,
    "start_time": "2022-06-13T17:38:04.338Z"
   },
   {
    "duration": 13,
    "start_time": "2022-06-13T17:38:04.372Z"
   },
   {
    "duration": 33,
    "start_time": "2022-06-13T17:38:04.386Z"
   },
   {
    "duration": 12,
    "start_time": "2022-06-13T17:38:04.421Z"
   },
   {
    "duration": 25,
    "start_time": "2022-06-13T17:38:04.434Z"
   },
   {
    "duration": 4,
    "start_time": "2022-06-13T17:38:04.461Z"
   },
   {
    "duration": 68,
    "start_time": "2022-06-13T17:38:04.467Z"
   },
   {
    "duration": 26,
    "start_time": "2022-06-13T17:38:04.537Z"
   },
   {
    "duration": 154,
    "start_time": "2022-06-13T17:38:04.564Z"
   },
   {
    "duration": 3015,
    "start_time": "2022-06-13T17:38:04.719Z"
   },
   {
    "duration": 0,
    "start_time": "2022-06-13T17:38:07.737Z"
   },
   {
    "duration": 0,
    "start_time": "2022-06-13T17:38:07.738Z"
   },
   {
    "duration": 0,
    "start_time": "2022-06-13T17:38:07.739Z"
   },
   {
    "duration": 2406,
    "start_time": "2022-06-13T17:39:06.378Z"
   },
   {
    "duration": 5,
    "start_time": "2022-06-13T17:39:14.531Z"
   },
   {
    "duration": 12,
    "start_time": "2022-06-13T17:39:16.760Z"
   },
   {
    "duration": 52,
    "start_time": "2022-06-13T17:39:31.035Z"
   },
   {
    "duration": 64,
    "start_time": "2022-06-13T17:39:42.296Z"
   },
   {
    "duration": 6160036,
    "start_time": "2022-06-13T17:40:07.925Z"
   },
   {
    "duration": 4858,
    "start_time": "2022-06-13T19:25:22.022Z"
   },
   {
    "duration": 35114,
    "start_time": "2022-06-13T19:25:43.277Z"
   },
   {
    "duration": 45,
    "start_time": "2022-06-13T19:29:15.137Z"
   },
   {
    "duration": 1170891,
    "start_time": "2022-06-13T19:31:28.378Z"
   },
   {
    "duration": 3501,
    "start_time": "2022-06-13T20:40:07.664Z"
   },
   {
    "duration": 1412,
    "start_time": "2022-06-13T21:38:15.968Z"
   },
   {
    "duration": 4,
    "start_time": "2022-06-13T21:39:16.565Z"
   },
   {
    "duration": 73,
    "start_time": "2022-06-13T21:39:16.571Z"
   },
   {
    "duration": 23,
    "start_time": "2022-06-13T21:39:16.646Z"
   },
   {
    "duration": 24,
    "start_time": "2022-06-13T21:39:16.671Z"
   },
   {
    "duration": 18,
    "start_time": "2022-06-13T21:39:16.698Z"
   },
   {
    "duration": 18,
    "start_time": "2022-06-13T21:39:16.719Z"
   },
   {
    "duration": 31,
    "start_time": "2022-06-13T21:39:16.743Z"
   },
   {
    "duration": 24,
    "start_time": "2022-06-13T21:39:16.776Z"
   },
   {
    "duration": 17,
    "start_time": "2022-06-13T21:39:16.802Z"
   },
   {
    "duration": 18,
    "start_time": "2022-06-13T21:39:16.820Z"
   },
   {
    "duration": 26,
    "start_time": "2022-06-13T21:39:16.841Z"
   },
   {
    "duration": 13,
    "start_time": "2022-06-13T21:39:16.870Z"
   },
   {
    "duration": 24,
    "start_time": "2022-06-13T21:39:16.886Z"
   },
   {
    "duration": 19,
    "start_time": "2022-06-13T21:39:16.912Z"
   },
   {
    "duration": 44,
    "start_time": "2022-06-13T21:39:16.933Z"
   },
   {
    "duration": 19,
    "start_time": "2022-06-13T21:39:16.979Z"
   },
   {
    "duration": 19,
    "start_time": "2022-06-13T21:39:17.001Z"
   },
   {
    "duration": 23,
    "start_time": "2022-06-13T21:39:17.022Z"
   },
   {
    "duration": 22,
    "start_time": "2022-06-13T21:39:17.047Z"
   },
   {
    "duration": 8,
    "start_time": "2022-06-13T21:39:17.071Z"
   },
   {
    "duration": 61,
    "start_time": "2022-06-13T21:39:17.081Z"
   },
   {
    "duration": 27,
    "start_time": "2022-06-13T21:39:17.159Z"
   },
   {
    "duration": 55,
    "start_time": "2022-06-13T21:39:17.188Z"
   },
   {
    "duration": 55,
    "start_time": "2022-06-13T21:39:17.246Z"
   },
   {
    "duration": 75,
    "start_time": "2022-06-13T21:39:17.304Z"
   },
   {
    "duration": 5,
    "start_time": "2022-06-13T21:39:17.381Z"
   },
   {
    "duration": 80,
    "start_time": "2022-06-13T21:39:17.389Z"
   },
   {
    "duration": 55,
    "start_time": "2022-06-13T21:39:17.471Z"
   },
   {
    "duration": 20,
    "start_time": "2022-06-13T21:39:17.531Z"
   },
   {
    "duration": 75,
    "start_time": "2022-06-13T21:39:17.554Z"
   },
   {
    "duration": 1458,
    "start_time": "2022-06-13T21:39:17.632Z"
   },
   {
    "duration": 1425,
    "start_time": "2022-06-13T21:39:19.092Z"
   },
   {
    "duration": 41,
    "start_time": "2022-06-13T21:39:20.519Z"
   },
   {
    "duration": 9,
    "start_time": "2022-06-13T21:39:20.562Z"
   },
   {
    "duration": 12,
    "start_time": "2022-06-13T21:39:20.573Z"
   },
   {
    "duration": 14,
    "start_time": "2022-06-13T21:39:20.587Z"
   },
   {
    "duration": 203,
    "start_time": "2022-06-13T21:39:20.603Z"
   },
   {
    "duration": 212,
    "start_time": "2022-06-13T21:39:20.808Z"
   },
   {
    "duration": 38,
    "start_time": "2022-06-13T21:39:21.022Z"
   },
   {
    "duration": 14,
    "start_time": "2022-06-13T21:39:21.061Z"
   },
   {
    "duration": 21,
    "start_time": "2022-06-13T21:39:21.077Z"
   },
   {
    "duration": 23,
    "start_time": "2022-06-13T21:39:21.100Z"
   },
   {
    "duration": 27,
    "start_time": "2022-06-13T21:39:21.125Z"
   },
   {
    "duration": 28,
    "start_time": "2022-06-13T21:39:21.153Z"
   },
   {
    "duration": 10,
    "start_time": "2022-06-13T21:39:21.183Z"
   },
   {
    "duration": 95,
    "start_time": "2022-06-13T21:39:21.194Z"
   },
   {
    "duration": 10,
    "start_time": "2022-06-13T21:39:21.291Z"
   },
   {
    "duration": 191,
    "start_time": "2022-06-13T21:39:21.302Z"
   },
   {
    "duration": 2575,
    "start_time": "2022-06-13T21:39:21.495Z"
   },
   {
    "duration": 5,
    "start_time": "2022-06-13T21:39:32.790Z"
   },
   {
    "duration": 11,
    "start_time": "2022-06-13T21:39:35.103Z"
   },
   {
    "duration": 62,
    "start_time": "2022-06-13T21:39:40.546Z"
   },
   {
    "duration": 94,
    "start_time": "2022-06-13T21:39:48.568Z"
   },
   {
    "duration": 6461406,
    "start_time": "2022-06-13T21:40:00.365Z"
   },
   {
    "duration": 6303,
    "start_time": "2022-06-13T23:37:18.721Z"
   },
   {
    "duration": 421191,
    "start_time": "2022-06-13T23:47:17.197Z"
   },
   {
    "duration": 84,
    "start_time": "2022-06-14T00:03:36.342Z"
   },
   {
    "duration": 525491,
    "start_time": "2022-06-14T00:03:59.069Z"
   },
   {
    "duration": 139,
    "start_time": "2022-06-14T00:13:57.188Z"
   },
   {
    "duration": 155,
    "start_time": "2022-06-14T00:15:03.221Z"
   },
   {
    "duration": 3837,
    "start_time": "2022-06-14T00:16:45.872Z"
   },
   {
    "duration": 115,
    "start_time": "2022-06-14T00:18:17.422Z"
   }
  ],
  "kernelspec": {
   "display_name": "Python 3 (ipykernel)",
   "language": "python",
   "name": "python3"
  },
  "language_info": {
   "codemirror_mode": {
    "name": "ipython",
    "version": 3
   },
   "file_extension": ".py",
   "mimetype": "text/x-python",
   "name": "python",
   "nbconvert_exporter": "python",
   "pygments_lexer": "ipython3",
   "version": "3.9.5"
  },
  "toc": {
   "base_numbering": 1,
   "nav_menu": {},
   "number_sections": true,
   "sideBar": true,
   "skip_h1_title": true,
   "title_cell": "Table of Contents",
   "title_sidebar": "Contents",
   "toc_cell": false,
   "toc_position": {},
   "toc_section_display": true,
   "toc_window_display": true
  }
 },
 "nbformat": 4,
 "nbformat_minor": 2
}
