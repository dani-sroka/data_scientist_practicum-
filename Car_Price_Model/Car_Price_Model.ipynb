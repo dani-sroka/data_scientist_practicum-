{
 "cells": [
  {
   "cell_type": "markdown",
   "metadata": {},
   "source": [
    "# ML Model to determine used car value\n",
    "\n",
    "Rusty Bargain used car sales service is developing an app to attract new customers. In that app, you can quickly find out the market value of your car. You have access to historical data: technical specifications, trim versions, and prices. You need to build the model to determine the value. \n",
    "\n",
    "Rusty Bargain is interested in:\n",
    "\n",
    "- the quality of the prediction;\n",
    "- the speed of the prediction;\n",
    "- the time required for training\n",
    "\n",
    "\n",
    "\n",
    "**Executive Summary**:\n",
    "\n",
    "**CatBoost regressor** has achieved best quality, out of a few models that were trained and evaluated. It's performance on the unseen test set: \n",
    "- the quality of the prediction: RMSE 1578.5 Euro  (a bit better than LightGBM)\n",
    "- the speed of the prediction: 87.8 ms\n",
    "- the time required for training: 24.7 s (a bit slower than LightGBM)"
   ]
  },
  {
   "cell_type": "markdown",
   "metadata": {},
   "source": [
    "## Data preparation"
   ]
  },
  {
   "cell_type": "markdown",
   "metadata": {},
   "source": [
    "### Loading and looking into the data"
   ]
  },
  {
   "cell_type": "code",
   "execution_count": 1,
   "metadata": {},
   "outputs": [],
   "source": [
    "import numpy as np\n",
    "import pandas as pd\n",
    "import matplotlib.pyplot as plt\n",
    "\n",
    "import seaborn as sns\n",
    "\n",
    "import sklearn.linear_model\n",
    "import sklearn.metrics\n",
    "import sklearn.neighbors\n",
    "import sklearn.preprocessing\n",
    "\n",
    "from sklearn.model_selection import train_test_split\n",
    "\n",
    "from IPython.display import display\n",
    "\n",
    "from sklearn.preprocessing import OrdinalEncoder, LabelEncoder\n",
    "from sklearn.metrics import mean_squared_error\n",
    "import warnings\n",
    "warnings.filterwarnings(\"ignore\")"
   ]
  },
  {
   "cell_type": "code",
   "execution_count": 2,
   "metadata": {},
   "outputs": [],
   "source": [
    "# load the data into a df\n",
    "df = pd.read_csv('/datasets/car_data.csv')"
   ]
  },
  {
   "cell_type": "code",
   "execution_count": 3,
   "metadata": {
    "scrolled": false
   },
   "outputs": [
    {
     "data": {
      "text/html": [
       "<div>\n",
       "<style scoped>\n",
       "    .dataframe tbody tr th:only-of-type {\n",
       "        vertical-align: middle;\n",
       "    }\n",
       "\n",
       "    .dataframe tbody tr th {\n",
       "        vertical-align: top;\n",
       "    }\n",
       "\n",
       "    .dataframe thead th {\n",
       "        text-align: right;\n",
       "    }\n",
       "</style>\n",
       "<table border=\"1\" class=\"dataframe\">\n",
       "  <thead>\n",
       "    <tr style=\"text-align: right;\">\n",
       "      <th></th>\n",
       "      <th>DateCrawled</th>\n",
       "      <th>Price</th>\n",
       "      <th>VehicleType</th>\n",
       "      <th>RegistrationYear</th>\n",
       "      <th>Gearbox</th>\n",
       "      <th>Power</th>\n",
       "      <th>Model</th>\n",
       "      <th>Mileage</th>\n",
       "      <th>RegistrationMonth</th>\n",
       "      <th>FuelType</th>\n",
       "      <th>Brand</th>\n",
       "      <th>NotRepaired</th>\n",
       "      <th>DateCreated</th>\n",
       "      <th>NumberOfPictures</th>\n",
       "      <th>PostalCode</th>\n",
       "      <th>LastSeen</th>\n",
       "    </tr>\n",
       "  </thead>\n",
       "  <tbody>\n",
       "    <tr>\n",
       "      <th>9403</th>\n",
       "      <td>13/03/2016 13:42</td>\n",
       "      <td>4750</td>\n",
       "      <td>NaN</td>\n",
       "      <td>2017</td>\n",
       "      <td>manual</td>\n",
       "      <td>65</td>\n",
       "      <td>micra</td>\n",
       "      <td>80000</td>\n",
       "      <td>8</td>\n",
       "      <td>petrol</td>\n",
       "      <td>nissan</td>\n",
       "      <td>NaN</td>\n",
       "      <td>13/03/2016 00:00</td>\n",
       "      <td>0</td>\n",
       "      <td>48167</td>\n",
       "      <td>19/03/2016 12:18</td>\n",
       "    </tr>\n",
       "    <tr>\n",
       "      <th>215915</th>\n",
       "      <td>31/03/2016 14:56</td>\n",
       "      <td>475</td>\n",
       "      <td>small</td>\n",
       "      <td>1991</td>\n",
       "      <td>manual</td>\n",
       "      <td>45</td>\n",
       "      <td>polo</td>\n",
       "      <td>150000</td>\n",
       "      <td>11</td>\n",
       "      <td>petrol</td>\n",
       "      <td>volkswagen</td>\n",
       "      <td>NaN</td>\n",
       "      <td>31/03/2016 00:00</td>\n",
       "      <td>0</td>\n",
       "      <td>49090</td>\n",
       "      <td>02/04/2016 10:45</td>\n",
       "    </tr>\n",
       "    <tr>\n",
       "      <th>332115</th>\n",
       "      <td>02/04/2016 00:57</td>\n",
       "      <td>6900</td>\n",
       "      <td>NaN</td>\n",
       "      <td>2017</td>\n",
       "      <td>manual</td>\n",
       "      <td>0</td>\n",
       "      <td>sharan</td>\n",
       "      <td>150000</td>\n",
       "      <td>4</td>\n",
       "      <td>gasoline</td>\n",
       "      <td>volkswagen</td>\n",
       "      <td>NaN</td>\n",
       "      <td>01/04/2016 00:00</td>\n",
       "      <td>0</td>\n",
       "      <td>42289</td>\n",
       "      <td>06/04/2016 06:15</td>\n",
       "    </tr>\n",
       "    <tr>\n",
       "      <th>186623</th>\n",
       "      <td>20/03/2016 13:54</td>\n",
       "      <td>4999</td>\n",
       "      <td>sedan</td>\n",
       "      <td>2007</td>\n",
       "      <td>auto</td>\n",
       "      <td>105</td>\n",
       "      <td>astra</td>\n",
       "      <td>90000</td>\n",
       "      <td>7</td>\n",
       "      <td>petrol</td>\n",
       "      <td>opel</td>\n",
       "      <td>NaN</td>\n",
       "      <td>20/03/2016 00:00</td>\n",
       "      <td>0</td>\n",
       "      <td>58511</td>\n",
       "      <td>06/04/2016 15:45</td>\n",
       "    </tr>\n",
       "    <tr>\n",
       "      <th>184042</th>\n",
       "      <td>04/04/2016 10:47</td>\n",
       "      <td>3680</td>\n",
       "      <td>wagon</td>\n",
       "      <td>2004</td>\n",
       "      <td>auto</td>\n",
       "      <td>115</td>\n",
       "      <td>touran</td>\n",
       "      <td>150000</td>\n",
       "      <td>3</td>\n",
       "      <td>NaN</td>\n",
       "      <td>volkswagen</td>\n",
       "      <td>NaN</td>\n",
       "      <td>04/04/2016 00:00</td>\n",
       "      <td>0</td>\n",
       "      <td>33729</td>\n",
       "      <td>06/04/2016 11:46</td>\n",
       "    </tr>\n",
       "    <tr>\n",
       "      <th>284220</th>\n",
       "      <td>21/03/2016 15:58</td>\n",
       "      <td>2200</td>\n",
       "      <td>small</td>\n",
       "      <td>2002</td>\n",
       "      <td>manual</td>\n",
       "      <td>37</td>\n",
       "      <td>lupo</td>\n",
       "      <td>150000</td>\n",
       "      <td>2</td>\n",
       "      <td>petrol</td>\n",
       "      <td>volkswagen</td>\n",
       "      <td>no</td>\n",
       "      <td>21/03/2016 00:00</td>\n",
       "      <td>0</td>\n",
       "      <td>23896</td>\n",
       "      <td>21/03/2016 16:43</td>\n",
       "    </tr>\n",
       "    <tr>\n",
       "      <th>332930</th>\n",
       "      <td>27/03/2016 23:37</td>\n",
       "      <td>650</td>\n",
       "      <td>sedan</td>\n",
       "      <td>1998</td>\n",
       "      <td>manual</td>\n",
       "      <td>125</td>\n",
       "      <td>vectra</td>\n",
       "      <td>150000</td>\n",
       "      <td>6</td>\n",
       "      <td>NaN</td>\n",
       "      <td>opel</td>\n",
       "      <td>yes</td>\n",
       "      <td>27/03/2016 00:00</td>\n",
       "      <td>0</td>\n",
       "      <td>4626</td>\n",
       "      <td>06/04/2016 06:17</td>\n",
       "    </tr>\n",
       "    <tr>\n",
       "      <th>209162</th>\n",
       "      <td>29/03/2016 19:53</td>\n",
       "      <td>2500</td>\n",
       "      <td>sedan</td>\n",
       "      <td>2008</td>\n",
       "      <td>NaN</td>\n",
       "      <td>0</td>\n",
       "      <td>polo</td>\n",
       "      <td>150000</td>\n",
       "      <td>11</td>\n",
       "      <td>gasoline</td>\n",
       "      <td>volkswagen</td>\n",
       "      <td>no</td>\n",
       "      <td>29/03/2016 00:00</td>\n",
       "      <td>0</td>\n",
       "      <td>26131</td>\n",
       "      <td>29/03/2016 19:53</td>\n",
       "    </tr>\n",
       "    <tr>\n",
       "      <th>81981</th>\n",
       "      <td>11/03/2016 21:54</td>\n",
       "      <td>2800</td>\n",
       "      <td>wagon</td>\n",
       "      <td>2005</td>\n",
       "      <td>manual</td>\n",
       "      <td>109</td>\n",
       "      <td>3_reihe</td>\n",
       "      <td>150000</td>\n",
       "      <td>9</td>\n",
       "      <td>gasoline</td>\n",
       "      <td>peugeot</td>\n",
       "      <td>no</td>\n",
       "      <td>11/03/2016 00:00</td>\n",
       "      <td>0</td>\n",
       "      <td>52538</td>\n",
       "      <td>04/04/2016 07:49</td>\n",
       "    </tr>\n",
       "    <tr>\n",
       "      <th>306918</th>\n",
       "      <td>02/04/2016 11:39</td>\n",
       "      <td>2990</td>\n",
       "      <td>wagon</td>\n",
       "      <td>2004</td>\n",
       "      <td>manual</td>\n",
       "      <td>120</td>\n",
       "      <td>3_reihe</td>\n",
       "      <td>150000</td>\n",
       "      <td>7</td>\n",
       "      <td>gasoline</td>\n",
       "      <td>peugeot</td>\n",
       "      <td>no</td>\n",
       "      <td>02/04/2016 00:00</td>\n",
       "      <td>0</td>\n",
       "      <td>25436</td>\n",
       "      <td>02/04/2016 11:39</td>\n",
       "    </tr>\n",
       "  </tbody>\n",
       "</table>\n",
       "</div>"
      ],
      "text/plain": [
       "             DateCrawled  Price VehicleType  RegistrationYear Gearbox  Power  \\\n",
       "9403    13/03/2016 13:42   4750         NaN              2017  manual     65   \n",
       "215915  31/03/2016 14:56    475       small              1991  manual     45   \n",
       "332115  02/04/2016 00:57   6900         NaN              2017  manual      0   \n",
       "186623  20/03/2016 13:54   4999       sedan              2007    auto    105   \n",
       "184042  04/04/2016 10:47   3680       wagon              2004    auto    115   \n",
       "284220  21/03/2016 15:58   2200       small              2002  manual     37   \n",
       "332930  27/03/2016 23:37    650       sedan              1998  manual    125   \n",
       "209162  29/03/2016 19:53   2500       sedan              2008     NaN      0   \n",
       "81981   11/03/2016 21:54   2800       wagon              2005  manual    109   \n",
       "306918  02/04/2016 11:39   2990       wagon              2004  manual    120   \n",
       "\n",
       "          Model  Mileage  RegistrationMonth  FuelType       Brand NotRepaired  \\\n",
       "9403      micra    80000                  8    petrol      nissan         NaN   \n",
       "215915     polo   150000                 11    petrol  volkswagen         NaN   \n",
       "332115   sharan   150000                  4  gasoline  volkswagen         NaN   \n",
       "186623    astra    90000                  7    petrol        opel         NaN   \n",
       "184042   touran   150000                  3       NaN  volkswagen         NaN   \n",
       "284220     lupo   150000                  2    petrol  volkswagen          no   \n",
       "332930   vectra   150000                  6       NaN        opel         yes   \n",
       "209162     polo   150000                 11  gasoline  volkswagen          no   \n",
       "81981   3_reihe   150000                  9  gasoline     peugeot          no   \n",
       "306918  3_reihe   150000                  7  gasoline     peugeot          no   \n",
       "\n",
       "             DateCreated  NumberOfPictures  PostalCode          LastSeen  \n",
       "9403    13/03/2016 00:00                 0       48167  19/03/2016 12:18  \n",
       "215915  31/03/2016 00:00                 0       49090  02/04/2016 10:45  \n",
       "332115  01/04/2016 00:00                 0       42289  06/04/2016 06:15  \n",
       "186623  20/03/2016 00:00                 0       58511  06/04/2016 15:45  \n",
       "184042  04/04/2016 00:00                 0       33729  06/04/2016 11:46  \n",
       "284220  21/03/2016 00:00                 0       23896  21/03/2016 16:43  \n",
       "332930  27/03/2016 00:00                 0        4626  06/04/2016 06:17  \n",
       "209162  29/03/2016 00:00                 0       26131  29/03/2016 19:53  \n",
       "81981   11/03/2016 00:00                 0       52538  04/04/2016 07:49  \n",
       "306918  02/04/2016 00:00                 0       25436  02/04/2016 11:39  "
      ]
     },
     "execution_count": 3,
     "metadata": {},
     "output_type": "execute_result"
    }
   ],
   "source": [
    "# looking at a sample of the data\n",
    "df.sample(10)"
   ]
  },
  {
   "cell_type": "code",
   "execution_count": 4,
   "metadata": {
    "scrolled": true
   },
   "outputs": [
    {
     "name": "stdout",
     "output_type": "stream",
     "text": [
      "<class 'pandas.core.frame.DataFrame'>\n",
      "RangeIndex: 354369 entries, 0 to 354368\n",
      "Data columns (total 16 columns):\n",
      " #   Column             Non-Null Count   Dtype \n",
      "---  ------             --------------   ----- \n",
      " 0   DateCrawled        354369 non-null  object\n",
      " 1   Price              354369 non-null  int64 \n",
      " 2   VehicleType        316879 non-null  object\n",
      " 3   RegistrationYear   354369 non-null  int64 \n",
      " 4   Gearbox            334536 non-null  object\n",
      " 5   Power              354369 non-null  int64 \n",
      " 6   Model              334664 non-null  object\n",
      " 7   Mileage            354369 non-null  int64 \n",
      " 8   RegistrationMonth  354369 non-null  int64 \n",
      " 9   FuelType           321474 non-null  object\n",
      " 10  Brand              354369 non-null  object\n",
      " 11  NotRepaired        283215 non-null  object\n",
      " 12  DateCreated        354369 non-null  object\n",
      " 13  NumberOfPictures   354369 non-null  int64 \n",
      " 14  PostalCode         354369 non-null  int64 \n",
      " 15  LastSeen           354369 non-null  object\n",
      "dtypes: int64(7), object(9)\n",
      "memory usage: 43.3+ MB\n"
     ]
    }
   ],
   "source": [
    "# General info of the data\n",
    "df.info()"
   ]
  },
  {
   "cell_type": "code",
   "execution_count": 5,
   "metadata": {},
   "outputs": [
    {
     "data": {
      "text/plain": [
       "DateCrawled              0\n",
       "Price                    0\n",
       "VehicleType          37490\n",
       "RegistrationYear         0\n",
       "Gearbox              19833\n",
       "Power                    0\n",
       "Model                19705\n",
       "Mileage                  0\n",
       "RegistrationMonth        0\n",
       "FuelType             32895\n",
       "Brand                    0\n",
       "NotRepaired          71154\n",
       "DateCreated              0\n",
       "NumberOfPictures         0\n",
       "PostalCode               0\n",
       "LastSeen                 0\n",
       "dtype: int64"
      ]
     },
     "execution_count": 5,
     "metadata": {},
     "output_type": "execute_result"
    }
   ],
   "source": [
    "# Missing values\n",
    "df.isna().sum()"
   ]
  },
  {
   "cell_type": "code",
   "execution_count": 6,
   "metadata": {
    "scrolled": true
   },
   "outputs": [
    {
     "data": {
      "text/html": [
       "<div>\n",
       "<style scoped>\n",
       "    .dataframe tbody tr th:only-of-type {\n",
       "        vertical-align: middle;\n",
       "    }\n",
       "\n",
       "    .dataframe tbody tr th {\n",
       "        vertical-align: top;\n",
       "    }\n",
       "\n",
       "    .dataframe thead th {\n",
       "        text-align: right;\n",
       "    }\n",
       "</style>\n",
       "<table border=\"1\" class=\"dataframe\">\n",
       "  <thead>\n",
       "    <tr style=\"text-align: right;\">\n",
       "      <th></th>\n",
       "      <th>Price</th>\n",
       "      <th>RegistrationYear</th>\n",
       "      <th>Power</th>\n",
       "      <th>Mileage</th>\n",
       "      <th>RegistrationMonth</th>\n",
       "      <th>NumberOfPictures</th>\n",
       "      <th>PostalCode</th>\n",
       "    </tr>\n",
       "  </thead>\n",
       "  <tbody>\n",
       "    <tr>\n",
       "      <th>count</th>\n",
       "      <td>354369.000000</td>\n",
       "      <td>354369.000000</td>\n",
       "      <td>354369.000000</td>\n",
       "      <td>354369.000000</td>\n",
       "      <td>354369.000000</td>\n",
       "      <td>354369.0</td>\n",
       "      <td>354369.000000</td>\n",
       "    </tr>\n",
       "    <tr>\n",
       "      <th>mean</th>\n",
       "      <td>4416.656776</td>\n",
       "      <td>2004.234448</td>\n",
       "      <td>110.094337</td>\n",
       "      <td>128211.172535</td>\n",
       "      <td>5.714645</td>\n",
       "      <td>0.0</td>\n",
       "      <td>50508.689087</td>\n",
       "    </tr>\n",
       "    <tr>\n",
       "      <th>std</th>\n",
       "      <td>4514.158514</td>\n",
       "      <td>90.227958</td>\n",
       "      <td>189.850405</td>\n",
       "      <td>37905.341530</td>\n",
       "      <td>3.726421</td>\n",
       "      <td>0.0</td>\n",
       "      <td>25783.096248</td>\n",
       "    </tr>\n",
       "    <tr>\n",
       "      <th>min</th>\n",
       "      <td>0.000000</td>\n",
       "      <td>1000.000000</td>\n",
       "      <td>0.000000</td>\n",
       "      <td>5000.000000</td>\n",
       "      <td>0.000000</td>\n",
       "      <td>0.0</td>\n",
       "      <td>1067.000000</td>\n",
       "    </tr>\n",
       "    <tr>\n",
       "      <th>25%</th>\n",
       "      <td>1050.000000</td>\n",
       "      <td>1999.000000</td>\n",
       "      <td>69.000000</td>\n",
       "      <td>125000.000000</td>\n",
       "      <td>3.000000</td>\n",
       "      <td>0.0</td>\n",
       "      <td>30165.000000</td>\n",
       "    </tr>\n",
       "    <tr>\n",
       "      <th>50%</th>\n",
       "      <td>2700.000000</td>\n",
       "      <td>2003.000000</td>\n",
       "      <td>105.000000</td>\n",
       "      <td>150000.000000</td>\n",
       "      <td>6.000000</td>\n",
       "      <td>0.0</td>\n",
       "      <td>49413.000000</td>\n",
       "    </tr>\n",
       "    <tr>\n",
       "      <th>75%</th>\n",
       "      <td>6400.000000</td>\n",
       "      <td>2008.000000</td>\n",
       "      <td>143.000000</td>\n",
       "      <td>150000.000000</td>\n",
       "      <td>9.000000</td>\n",
       "      <td>0.0</td>\n",
       "      <td>71083.000000</td>\n",
       "    </tr>\n",
       "    <tr>\n",
       "      <th>max</th>\n",
       "      <td>20000.000000</td>\n",
       "      <td>9999.000000</td>\n",
       "      <td>20000.000000</td>\n",
       "      <td>150000.000000</td>\n",
       "      <td>12.000000</td>\n",
       "      <td>0.0</td>\n",
       "      <td>99998.000000</td>\n",
       "    </tr>\n",
       "  </tbody>\n",
       "</table>\n",
       "</div>"
      ],
      "text/plain": [
       "               Price  RegistrationYear          Power        Mileage  \\\n",
       "count  354369.000000     354369.000000  354369.000000  354369.000000   \n",
       "mean     4416.656776       2004.234448     110.094337  128211.172535   \n",
       "std      4514.158514         90.227958     189.850405   37905.341530   \n",
       "min         0.000000       1000.000000       0.000000    5000.000000   \n",
       "25%      1050.000000       1999.000000      69.000000  125000.000000   \n",
       "50%      2700.000000       2003.000000     105.000000  150000.000000   \n",
       "75%      6400.000000       2008.000000     143.000000  150000.000000   \n",
       "max     20000.000000       9999.000000   20000.000000  150000.000000   \n",
       "\n",
       "       RegistrationMonth  NumberOfPictures     PostalCode  \n",
       "count      354369.000000          354369.0  354369.000000  \n",
       "mean            5.714645               0.0   50508.689087  \n",
       "std             3.726421               0.0   25783.096248  \n",
       "min             0.000000               0.0    1067.000000  \n",
       "25%             3.000000               0.0   30165.000000  \n",
       "50%             6.000000               0.0   49413.000000  \n",
       "75%             9.000000               0.0   71083.000000  \n",
       "max            12.000000               0.0   99998.000000  "
      ]
     },
     "execution_count": 6,
     "metadata": {},
     "output_type": "execute_result"
    }
   ],
   "source": [
    "# General statistics of the data\n",
    "df.describe()"
   ]
  },
  {
   "cell_type": "markdown",
   "metadata": {},
   "source": [
    "After an initial view of the data, these are the steps we will take in the preparation stage:\n",
    "1. Adding the vehicle's age on the time of publishing \n",
    "2. Deleting columns that seem not relevant for impact on price\n",
    "3. Dealing with missing values\n",
    "4. Dealing with errors in data (like price=zero, or RegostrationYear=1000, or power=0, etc.) \n",
    "5. Encoding categorical features and standardizing all features"
   ]
  },
  {
   "cell_type": "markdown",
   "metadata": {},
   "source": [
    "### Adding vehicle's age "
   ]
  },
  {
   "cell_type": "code",
   "execution_count": 7,
   "metadata": {},
   "outputs": [
    {
     "data": {
      "text/html": [
       "<div>\n",
       "<style scoped>\n",
       "    .dataframe tbody tr th:only-of-type {\n",
       "        vertical-align: middle;\n",
       "    }\n",
       "\n",
       "    .dataframe tbody tr th {\n",
       "        vertical-align: top;\n",
       "    }\n",
       "\n",
       "    .dataframe thead th {\n",
       "        text-align: right;\n",
       "    }\n",
       "</style>\n",
       "<table border=\"1\" class=\"dataframe\">\n",
       "  <thead>\n",
       "    <tr style=\"text-align: right;\">\n",
       "      <th></th>\n",
       "      <th>DateCrawled</th>\n",
       "      <th>Price</th>\n",
       "      <th>VehicleType</th>\n",
       "      <th>RegistrationYear</th>\n",
       "      <th>Gearbox</th>\n",
       "      <th>Power</th>\n",
       "      <th>Model</th>\n",
       "      <th>Mileage</th>\n",
       "      <th>RegistrationMonth</th>\n",
       "      <th>FuelType</th>\n",
       "      <th>Brand</th>\n",
       "      <th>NotRepaired</th>\n",
       "      <th>DateCreated</th>\n",
       "      <th>NumberOfPictures</th>\n",
       "      <th>PostalCode</th>\n",
       "      <th>LastSeen</th>\n",
       "      <th>year_published</th>\n",
       "      <th>AgeAtPublish</th>\n",
       "    </tr>\n",
       "  </thead>\n",
       "  <tbody>\n",
       "    <tr>\n",
       "      <th>0</th>\n",
       "      <td>24/03/2016 11:52</td>\n",
       "      <td>480</td>\n",
       "      <td>NaN</td>\n",
       "      <td>1993</td>\n",
       "      <td>manual</td>\n",
       "      <td>0</td>\n",
       "      <td>golf</td>\n",
       "      <td>150000</td>\n",
       "      <td>0</td>\n",
       "      <td>petrol</td>\n",
       "      <td>volkswagen</td>\n",
       "      <td>NaN</td>\n",
       "      <td>2016-03-24</td>\n",
       "      <td>0</td>\n",
       "      <td>70435</td>\n",
       "      <td>07/04/2016 03:16</td>\n",
       "      <td>2016</td>\n",
       "      <td>23</td>\n",
       "    </tr>\n",
       "    <tr>\n",
       "      <th>1</th>\n",
       "      <td>24/03/2016 10:58</td>\n",
       "      <td>18300</td>\n",
       "      <td>coupe</td>\n",
       "      <td>2011</td>\n",
       "      <td>manual</td>\n",
       "      <td>190</td>\n",
       "      <td>NaN</td>\n",
       "      <td>125000</td>\n",
       "      <td>5</td>\n",
       "      <td>gasoline</td>\n",
       "      <td>audi</td>\n",
       "      <td>yes</td>\n",
       "      <td>2016-03-24</td>\n",
       "      <td>0</td>\n",
       "      <td>66954</td>\n",
       "      <td>07/04/2016 01:46</td>\n",
       "      <td>2016</td>\n",
       "      <td>5</td>\n",
       "    </tr>\n",
       "    <tr>\n",
       "      <th>2</th>\n",
       "      <td>14/03/2016 12:52</td>\n",
       "      <td>9800</td>\n",
       "      <td>suv</td>\n",
       "      <td>2004</td>\n",
       "      <td>auto</td>\n",
       "      <td>163</td>\n",
       "      <td>grand</td>\n",
       "      <td>125000</td>\n",
       "      <td>8</td>\n",
       "      <td>gasoline</td>\n",
       "      <td>jeep</td>\n",
       "      <td>NaN</td>\n",
       "      <td>2016-03-14</td>\n",
       "      <td>0</td>\n",
       "      <td>90480</td>\n",
       "      <td>05/04/2016 12:47</td>\n",
       "      <td>2016</td>\n",
       "      <td>12</td>\n",
       "    </tr>\n",
       "    <tr>\n",
       "      <th>3</th>\n",
       "      <td>17/03/2016 16:54</td>\n",
       "      <td>1500</td>\n",
       "      <td>small</td>\n",
       "      <td>2001</td>\n",
       "      <td>manual</td>\n",
       "      <td>75</td>\n",
       "      <td>golf</td>\n",
       "      <td>150000</td>\n",
       "      <td>6</td>\n",
       "      <td>petrol</td>\n",
       "      <td>volkswagen</td>\n",
       "      <td>no</td>\n",
       "      <td>2016-03-17</td>\n",
       "      <td>0</td>\n",
       "      <td>91074</td>\n",
       "      <td>17/03/2016 17:40</td>\n",
       "      <td>2016</td>\n",
       "      <td>15</td>\n",
       "    </tr>\n",
       "    <tr>\n",
       "      <th>4</th>\n",
       "      <td>31/03/2016 17:25</td>\n",
       "      <td>3600</td>\n",
       "      <td>small</td>\n",
       "      <td>2008</td>\n",
       "      <td>manual</td>\n",
       "      <td>69</td>\n",
       "      <td>fabia</td>\n",
       "      <td>90000</td>\n",
       "      <td>7</td>\n",
       "      <td>gasoline</td>\n",
       "      <td>skoda</td>\n",
       "      <td>no</td>\n",
       "      <td>2016-03-31</td>\n",
       "      <td>0</td>\n",
       "      <td>60437</td>\n",
       "      <td>06/04/2016 10:17</td>\n",
       "      <td>2016</td>\n",
       "      <td>8</td>\n",
       "    </tr>\n",
       "  </tbody>\n",
       "</table>\n",
       "</div>"
      ],
      "text/plain": [
       "        DateCrawled  Price VehicleType  RegistrationYear Gearbox  Power  \\\n",
       "0  24/03/2016 11:52    480         NaN              1993  manual      0   \n",
       "1  24/03/2016 10:58  18300       coupe              2011  manual    190   \n",
       "2  14/03/2016 12:52   9800         suv              2004    auto    163   \n",
       "3  17/03/2016 16:54   1500       small              2001  manual     75   \n",
       "4  31/03/2016 17:25   3600       small              2008  manual     69   \n",
       "\n",
       "   Model  Mileage  RegistrationMonth  FuelType       Brand NotRepaired  \\\n",
       "0   golf   150000                  0    petrol  volkswagen         NaN   \n",
       "1    NaN   125000                  5  gasoline        audi         yes   \n",
       "2  grand   125000                  8  gasoline        jeep         NaN   \n",
       "3   golf   150000                  6    petrol  volkswagen          no   \n",
       "4  fabia    90000                  7  gasoline       skoda          no   \n",
       "\n",
       "  DateCreated  NumberOfPictures  PostalCode          LastSeen  year_published  \\\n",
       "0  2016-03-24                 0       70435  07/04/2016 03:16            2016   \n",
       "1  2016-03-24                 0       66954  07/04/2016 01:46            2016   \n",
       "2  2016-03-14                 0       90480  05/04/2016 12:47            2016   \n",
       "3  2016-03-17                 0       91074  17/03/2016 17:40            2016   \n",
       "4  2016-03-31                 0       60437  06/04/2016 10:17            2016   \n",
       "\n",
       "   AgeAtPublish  \n",
       "0            23  \n",
       "1             5  \n",
       "2            12  \n",
       "3            15  \n",
       "4             8  "
      ]
     },
     "execution_count": 7,
     "metadata": {},
     "output_type": "execute_result"
    }
   ],
   "source": [
    "# Adding the vehicle's age when published\n",
    "df['DateCreated'] = pd.to_datetime(df['DateCreated'], format='%d/%m/%Y %H:%M')\n",
    "df['year_published'] = pd.DatetimeIndex(df['DateCreated']).year\n",
    "df['AgeAtPublish'] = df['year_published'] - df['RegistrationYear']\n",
    "df.head()"
   ]
  },
  {
   "cell_type": "markdown",
   "metadata": {},
   "source": [
    "### Deleting less-relevant columns "
   ]
  },
  {
   "cell_type": "code",
   "execution_count": 8,
   "metadata": {
    "scrolled": true
   },
   "outputs": [
    {
     "data": {
      "text/html": [
       "<div>\n",
       "<style scoped>\n",
       "    .dataframe tbody tr th:only-of-type {\n",
       "        vertical-align: middle;\n",
       "    }\n",
       "\n",
       "    .dataframe tbody tr th {\n",
       "        vertical-align: top;\n",
       "    }\n",
       "\n",
       "    .dataframe thead th {\n",
       "        text-align: right;\n",
       "    }\n",
       "</style>\n",
       "<table border=\"1\" class=\"dataframe\">\n",
       "  <thead>\n",
       "    <tr style=\"text-align: right;\">\n",
       "      <th></th>\n",
       "      <th>Price</th>\n",
       "      <th>VehicleType</th>\n",
       "      <th>RegistrationYear</th>\n",
       "      <th>Gearbox</th>\n",
       "      <th>Power</th>\n",
       "      <th>Model</th>\n",
       "      <th>Mileage</th>\n",
       "      <th>FuelType</th>\n",
       "      <th>Brand</th>\n",
       "      <th>NotRepaired</th>\n",
       "      <th>AgeAtPublish</th>\n",
       "    </tr>\n",
       "  </thead>\n",
       "  <tbody>\n",
       "    <tr>\n",
       "      <th>0</th>\n",
       "      <td>480</td>\n",
       "      <td>NaN</td>\n",
       "      <td>1993</td>\n",
       "      <td>manual</td>\n",
       "      <td>0</td>\n",
       "      <td>golf</td>\n",
       "      <td>150000</td>\n",
       "      <td>petrol</td>\n",
       "      <td>volkswagen</td>\n",
       "      <td>NaN</td>\n",
       "      <td>23</td>\n",
       "    </tr>\n",
       "    <tr>\n",
       "      <th>1</th>\n",
       "      <td>18300</td>\n",
       "      <td>coupe</td>\n",
       "      <td>2011</td>\n",
       "      <td>manual</td>\n",
       "      <td>190</td>\n",
       "      <td>NaN</td>\n",
       "      <td>125000</td>\n",
       "      <td>gasoline</td>\n",
       "      <td>audi</td>\n",
       "      <td>yes</td>\n",
       "      <td>5</td>\n",
       "    </tr>\n",
       "    <tr>\n",
       "      <th>2</th>\n",
       "      <td>9800</td>\n",
       "      <td>suv</td>\n",
       "      <td>2004</td>\n",
       "      <td>auto</td>\n",
       "      <td>163</td>\n",
       "      <td>grand</td>\n",
       "      <td>125000</td>\n",
       "      <td>gasoline</td>\n",
       "      <td>jeep</td>\n",
       "      <td>NaN</td>\n",
       "      <td>12</td>\n",
       "    </tr>\n",
       "    <tr>\n",
       "      <th>3</th>\n",
       "      <td>1500</td>\n",
       "      <td>small</td>\n",
       "      <td>2001</td>\n",
       "      <td>manual</td>\n",
       "      <td>75</td>\n",
       "      <td>golf</td>\n",
       "      <td>150000</td>\n",
       "      <td>petrol</td>\n",
       "      <td>volkswagen</td>\n",
       "      <td>no</td>\n",
       "      <td>15</td>\n",
       "    </tr>\n",
       "    <tr>\n",
       "      <th>4</th>\n",
       "      <td>3600</td>\n",
       "      <td>small</td>\n",
       "      <td>2008</td>\n",
       "      <td>manual</td>\n",
       "      <td>69</td>\n",
       "      <td>fabia</td>\n",
       "      <td>90000</td>\n",
       "      <td>gasoline</td>\n",
       "      <td>skoda</td>\n",
       "      <td>no</td>\n",
       "      <td>8</td>\n",
       "    </tr>\n",
       "  </tbody>\n",
       "</table>\n",
       "</div>"
      ],
      "text/plain": [
       "   Price VehicleType  RegistrationYear Gearbox  Power  Model  Mileage  \\\n",
       "0    480         NaN              1993  manual      0   golf   150000   \n",
       "1  18300       coupe              2011  manual    190    NaN   125000   \n",
       "2   9800         suv              2004    auto    163  grand   125000   \n",
       "3   1500       small              2001  manual     75   golf   150000   \n",
       "4   3600       small              2008  manual     69  fabia    90000   \n",
       "\n",
       "   FuelType       Brand NotRepaired  AgeAtPublish  \n",
       "0    petrol  volkswagen         NaN            23  \n",
       "1  gasoline        audi         yes             5  \n",
       "2  gasoline        jeep         NaN            12  \n",
       "3    petrol  volkswagen          no            15  \n",
       "4  gasoline       skoda          no             8  "
      ]
     },
     "execution_count": 8,
     "metadata": {},
     "output_type": "execute_result"
    }
   ],
   "source": [
    "# Deleting columns that seem not relevant for impact on price:\n",
    "df = df.drop(columns=['DateCrawled', 'RegistrationMonth', 'DateCreated', 'NumberOfPictures',\n",
    "                      'PostalCode', 'LastSeen', 'year_published'])\n",
    "df.head()"
   ]
  },
  {
   "cell_type": "markdown",
   "metadata": {},
   "source": [
    "### Dealing with missing values"
   ]
  },
  {
   "cell_type": "code",
   "execution_count": 9,
   "metadata": {},
   "outputs": [
    {
     "name": "stdout",
     "output_type": "stream",
     "text": [
      "0.6936667710776055\n",
      "245814\n"
     ]
    }
   ],
   "source": [
    "# Check the share of data left if we drop data with missing values, and it's size:\n",
    "print(len(df.dropna()) / len(df))\n",
    "print(len(df.dropna()))"
   ]
  },
  {
   "cell_type": "markdown",
   "metadata": {},
   "source": [
    "Since we remain with ~70% of the data, and almost 250K entries with full relevant data, we will move to dropping the data with missing values."
   ]
  },
  {
   "cell_type": "code",
   "execution_count": 10,
   "metadata": {},
   "outputs": [
    {
     "data": {
      "text/plain": [
       "245814"
      ]
     },
     "execution_count": 10,
     "metadata": {},
     "output_type": "execute_result"
    }
   ],
   "source": [
    "# Dropping the data with missing values\n",
    "df = df.dropna()\n",
    "len(df)"
   ]
  },
  {
   "cell_type": "markdown",
   "metadata": {},
   "source": [
    "### Dealing with errors in data"
   ]
  },
  {
   "cell_type": "code",
   "execution_count": 11,
   "metadata": {
    "scrolled": false
   },
   "outputs": [
    {
     "data": {
      "text/html": [
       "<div>\n",
       "<style scoped>\n",
       "    .dataframe tbody tr th:only-of-type {\n",
       "        vertical-align: middle;\n",
       "    }\n",
       "\n",
       "    .dataframe tbody tr th {\n",
       "        vertical-align: top;\n",
       "    }\n",
       "\n",
       "    .dataframe thead th {\n",
       "        text-align: right;\n",
       "    }\n",
       "</style>\n",
       "<table border=\"1\" class=\"dataframe\">\n",
       "  <thead>\n",
       "    <tr style=\"text-align: right;\">\n",
       "      <th></th>\n",
       "      <th>Price</th>\n",
       "      <th>VehicleType</th>\n",
       "      <th>RegistrationYear</th>\n",
       "      <th>Gearbox</th>\n",
       "      <th>Power</th>\n",
       "      <th>Model</th>\n",
       "      <th>Mileage</th>\n",
       "      <th>FuelType</th>\n",
       "      <th>Brand</th>\n",
       "      <th>NotRepaired</th>\n",
       "      <th>AgeAtPublish</th>\n",
       "    </tr>\n",
       "  </thead>\n",
       "  <tbody>\n",
       "    <tr>\n",
       "      <th>7</th>\n",
       "      <td>0</td>\n",
       "      <td>sedan</td>\n",
       "      <td>1980</td>\n",
       "      <td>manual</td>\n",
       "      <td>50</td>\n",
       "      <td>other</td>\n",
       "      <td>40000</td>\n",
       "      <td>petrol</td>\n",
       "      <td>volkswagen</td>\n",
       "      <td>no</td>\n",
       "      <td>36</td>\n",
       "    </tr>\n",
       "    <tr>\n",
       "      <th>152</th>\n",
       "      <td>0</td>\n",
       "      <td>bus</td>\n",
       "      <td>2004</td>\n",
       "      <td>manual</td>\n",
       "      <td>101</td>\n",
       "      <td>meriva</td>\n",
       "      <td>150000</td>\n",
       "      <td>lpg</td>\n",
       "      <td>opel</td>\n",
       "      <td>yes</td>\n",
       "      <td>12</td>\n",
       "    </tr>\n",
       "    <tr>\n",
       "      <th>579</th>\n",
       "      <td>0</td>\n",
       "      <td>sedan</td>\n",
       "      <td>1996</td>\n",
       "      <td>manual</td>\n",
       "      <td>170</td>\n",
       "      <td>5er</td>\n",
       "      <td>150000</td>\n",
       "      <td>petrol</td>\n",
       "      <td>bmw</td>\n",
       "      <td>no</td>\n",
       "      <td>20</td>\n",
       "    </tr>\n",
       "    <tr>\n",
       "      <th>615</th>\n",
       "      <td>0</td>\n",
       "      <td>sedan</td>\n",
       "      <td>1998</td>\n",
       "      <td>manual</td>\n",
       "      <td>75</td>\n",
       "      <td>polo</td>\n",
       "      <td>150000</td>\n",
       "      <td>petrol</td>\n",
       "      <td>volkswagen</td>\n",
       "      <td>yes</td>\n",
       "      <td>18</td>\n",
       "    </tr>\n",
       "    <tr>\n",
       "      <th>859</th>\n",
       "      <td>0</td>\n",
       "      <td>wagon</td>\n",
       "      <td>2009</td>\n",
       "      <td>manual</td>\n",
       "      <td>170</td>\n",
       "      <td>a6</td>\n",
       "      <td>150000</td>\n",
       "      <td>gasoline</td>\n",
       "      <td>audi</td>\n",
       "      <td>yes</td>\n",
       "      <td>7</td>\n",
       "    </tr>\n",
       "    <tr>\n",
       "      <th>...</th>\n",
       "      <td>...</td>\n",
       "      <td>...</td>\n",
       "      <td>...</td>\n",
       "      <td>...</td>\n",
       "      <td>...</td>\n",
       "      <td>...</td>\n",
       "      <td>...</td>\n",
       "      <td>...</td>\n",
       "      <td>...</td>\n",
       "      <td>...</td>\n",
       "      <td>...</td>\n",
       "    </tr>\n",
       "    <tr>\n",
       "      <th>353882</th>\n",
       "      <td>0</td>\n",
       "      <td>small</td>\n",
       "      <td>1996</td>\n",
       "      <td>manual</td>\n",
       "      <td>45</td>\n",
       "      <td>polo</td>\n",
       "      <td>150000</td>\n",
       "      <td>petrol</td>\n",
       "      <td>volkswagen</td>\n",
       "      <td>yes</td>\n",
       "      <td>20</td>\n",
       "    </tr>\n",
       "    <tr>\n",
       "      <th>353943</th>\n",
       "      <td>0</td>\n",
       "      <td>sedan</td>\n",
       "      <td>1999</td>\n",
       "      <td>manual</td>\n",
       "      <td>150</td>\n",
       "      <td>golf</td>\n",
       "      <td>125000</td>\n",
       "      <td>petrol</td>\n",
       "      <td>volkswagen</td>\n",
       "      <td>no</td>\n",
       "      <td>17</td>\n",
       "    </tr>\n",
       "    <tr>\n",
       "      <th>353995</th>\n",
       "      <td>0</td>\n",
       "      <td>sedan</td>\n",
       "      <td>1991</td>\n",
       "      <td>manual</td>\n",
       "      <td>133</td>\n",
       "      <td>100</td>\n",
       "      <td>150000</td>\n",
       "      <td>petrol</td>\n",
       "      <td>audi</td>\n",
       "      <td>no</td>\n",
       "      <td>25</td>\n",
       "    </tr>\n",
       "    <tr>\n",
       "      <th>354124</th>\n",
       "      <td>0</td>\n",
       "      <td>small</td>\n",
       "      <td>2004</td>\n",
       "      <td>manual</td>\n",
       "      <td>200</td>\n",
       "      <td>golf</td>\n",
       "      <td>150000</td>\n",
       "      <td>petrol</td>\n",
       "      <td>volkswagen</td>\n",
       "      <td>no</td>\n",
       "      <td>12</td>\n",
       "    </tr>\n",
       "    <tr>\n",
       "      <th>354277</th>\n",
       "      <td>0</td>\n",
       "      <td>small</td>\n",
       "      <td>1999</td>\n",
       "      <td>manual</td>\n",
       "      <td>37</td>\n",
       "      <td>arosa</td>\n",
       "      <td>150000</td>\n",
       "      <td>petrol</td>\n",
       "      <td>seat</td>\n",
       "      <td>yes</td>\n",
       "      <td>17</td>\n",
       "    </tr>\n",
       "  </tbody>\n",
       "</table>\n",
       "<p>3386 rows × 11 columns</p>\n",
       "</div>"
      ],
      "text/plain": [
       "        Price VehicleType  RegistrationYear Gearbox  Power   Model  Mileage  \\\n",
       "7           0       sedan              1980  manual     50   other    40000   \n",
       "152         0         bus              2004  manual    101  meriva   150000   \n",
       "579         0       sedan              1996  manual    170     5er   150000   \n",
       "615         0       sedan              1998  manual     75    polo   150000   \n",
       "859         0       wagon              2009  manual    170      a6   150000   \n",
       "...       ...         ...               ...     ...    ...     ...      ...   \n",
       "353882      0       small              1996  manual     45    polo   150000   \n",
       "353943      0       sedan              1999  manual    150    golf   125000   \n",
       "353995      0       sedan              1991  manual    133     100   150000   \n",
       "354124      0       small              2004  manual    200    golf   150000   \n",
       "354277      0       small              1999  manual     37   arosa   150000   \n",
       "\n",
       "        FuelType       Brand NotRepaired  AgeAtPublish  \n",
       "7         petrol  volkswagen          no            36  \n",
       "152          lpg        opel         yes            12  \n",
       "579       petrol         bmw          no            20  \n",
       "615       petrol  volkswagen         yes            18  \n",
       "859     gasoline        audi         yes             7  \n",
       "...          ...         ...         ...           ...  \n",
       "353882    petrol  volkswagen         yes            20  \n",
       "353943    petrol  volkswagen          no            17  \n",
       "353995    petrol        audi          no            25  \n",
       "354124    petrol  volkswagen          no            12  \n",
       "354277    petrol        seat         yes            17  \n",
       "\n",
       "[3386 rows x 11 columns]"
      ]
     },
     "execution_count": 11,
     "metadata": {},
     "output_type": "execute_result"
    }
   ],
   "source": [
    "# Checking entries with Price = zero\n",
    "df[df['Price'] == 0] "
   ]
  },
  {
   "cell_type": "code",
   "execution_count": 12,
   "metadata": {},
   "outputs": [
    {
     "data": {
      "text/plain": [
       "242428"
      ]
     },
     "execution_count": 12,
     "metadata": {},
     "output_type": "execute_result"
    }
   ],
   "source": [
    "# Leaving only vehicles with price < 0\n",
    "df = df[df['Price'] > 0]\n",
    "len(df)"
   ]
  },
  {
   "cell_type": "code",
   "execution_count": 13,
   "metadata": {},
   "outputs": [
    {
     "name": "stdout",
     "output_type": "stream",
     "text": [
      "0\n",
      "0\n"
     ]
    }
   ],
   "source": [
    "# Checking for errors left in registration year\n",
    "print(len(df[df['RegistrationYear'] < 1900]))\n",
    "print(len(df[df['RegistrationYear'] > 2018]))"
   ]
  },
  {
   "cell_type": "code",
   "execution_count": 14,
   "metadata": {
    "scrolled": true
   },
   "outputs": [
    {
     "data": {
      "text/html": [
       "<div>\n",
       "<style scoped>\n",
       "    .dataframe tbody tr th:only-of-type {\n",
       "        vertical-align: middle;\n",
       "    }\n",
       "\n",
       "    .dataframe tbody tr th {\n",
       "        vertical-align: top;\n",
       "    }\n",
       "\n",
       "    .dataframe thead th {\n",
       "        text-align: right;\n",
       "    }\n",
       "</style>\n",
       "<table border=\"1\" class=\"dataframe\">\n",
       "  <thead>\n",
       "    <tr style=\"text-align: right;\">\n",
       "      <th></th>\n",
       "      <th>Price</th>\n",
       "      <th>VehicleType</th>\n",
       "      <th>RegistrationYear</th>\n",
       "      <th>Gearbox</th>\n",
       "      <th>Power</th>\n",
       "      <th>Model</th>\n",
       "      <th>Mileage</th>\n",
       "      <th>FuelType</th>\n",
       "      <th>Brand</th>\n",
       "      <th>NotRepaired</th>\n",
       "      <th>AgeAtPublish</th>\n",
       "    </tr>\n",
       "  </thead>\n",
       "  <tbody>\n",
       "    <tr>\n",
       "      <th>55</th>\n",
       "      <td>550</td>\n",
       "      <td>wagon</td>\n",
       "      <td>1999</td>\n",
       "      <td>manual</td>\n",
       "      <td>0</td>\n",
       "      <td>astra</td>\n",
       "      <td>150000</td>\n",
       "      <td>gasoline</td>\n",
       "      <td>opel</td>\n",
       "      <td>yes</td>\n",
       "      <td>17</td>\n",
       "    </tr>\n",
       "    <tr>\n",
       "      <th>70</th>\n",
       "      <td>800</td>\n",
       "      <td>small</td>\n",
       "      <td>1993</td>\n",
       "      <td>manual</td>\n",
       "      <td>0</td>\n",
       "      <td>polo</td>\n",
       "      <td>150000</td>\n",
       "      <td>petrol</td>\n",
       "      <td>volkswagen</td>\n",
       "      <td>no</td>\n",
       "      <td>23</td>\n",
       "    </tr>\n",
       "    <tr>\n",
       "      <th>98</th>\n",
       "      <td>4290</td>\n",
       "      <td>bus</td>\n",
       "      <td>2008</td>\n",
       "      <td>manual</td>\n",
       "      <td>0</td>\n",
       "      <td>combo</td>\n",
       "      <td>150000</td>\n",
       "      <td>gasoline</td>\n",
       "      <td>opel</td>\n",
       "      <td>no</td>\n",
       "      <td>8</td>\n",
       "    </tr>\n",
       "    <tr>\n",
       "      <th>158</th>\n",
       "      <td>800</td>\n",
       "      <td>sedan</td>\n",
       "      <td>1993</td>\n",
       "      <td>manual</td>\n",
       "      <td>0</td>\n",
       "      <td>golf</td>\n",
       "      <td>10000</td>\n",
       "      <td>petrol</td>\n",
       "      <td>volkswagen</td>\n",
       "      <td>yes</td>\n",
       "      <td>23</td>\n",
       "    </tr>\n",
       "    <tr>\n",
       "      <th>166</th>\n",
       "      <td>300</td>\n",
       "      <td>wagon</td>\n",
       "      <td>1998</td>\n",
       "      <td>manual</td>\n",
       "      <td>0</td>\n",
       "      <td>v40</td>\n",
       "      <td>150000</td>\n",
       "      <td>petrol</td>\n",
       "      <td>volvo</td>\n",
       "      <td>no</td>\n",
       "      <td>18</td>\n",
       "    </tr>\n",
       "    <tr>\n",
       "      <th>...</th>\n",
       "      <td>...</td>\n",
       "      <td>...</td>\n",
       "      <td>...</td>\n",
       "      <td>...</td>\n",
       "      <td>...</td>\n",
       "      <td>...</td>\n",
       "      <td>...</td>\n",
       "      <td>...</td>\n",
       "      <td>...</td>\n",
       "      <td>...</td>\n",
       "      <td>...</td>\n",
       "    </tr>\n",
       "    <tr>\n",
       "      <th>354220</th>\n",
       "      <td>2200</td>\n",
       "      <td>convertible</td>\n",
       "      <td>1988</td>\n",
       "      <td>manual</td>\n",
       "      <td>0</td>\n",
       "      <td>golf</td>\n",
       "      <td>150000</td>\n",
       "      <td>petrol</td>\n",
       "      <td>volkswagen</td>\n",
       "      <td>no</td>\n",
       "      <td>28</td>\n",
       "    </tr>\n",
       "    <tr>\n",
       "      <th>354263</th>\n",
       "      <td>1800</td>\n",
       "      <td>coupe</td>\n",
       "      <td>2000</td>\n",
       "      <td>manual</td>\n",
       "      <td>0</td>\n",
       "      <td>clk</td>\n",
       "      <td>150000</td>\n",
       "      <td>petrol</td>\n",
       "      <td>mercedes_benz</td>\n",
       "      <td>no</td>\n",
       "      <td>16</td>\n",
       "    </tr>\n",
       "    <tr>\n",
       "      <th>354332</th>\n",
       "      <td>7900</td>\n",
       "      <td>bus</td>\n",
       "      <td>2007</td>\n",
       "      <td>manual</td>\n",
       "      <td>0</td>\n",
       "      <td>b_klasse</td>\n",
       "      <td>125000</td>\n",
       "      <td>petrol</td>\n",
       "      <td>mercedes_benz</td>\n",
       "      <td>no</td>\n",
       "      <td>9</td>\n",
       "    </tr>\n",
       "    <tr>\n",
       "      <th>354335</th>\n",
       "      <td>390</td>\n",
       "      <td>small</td>\n",
       "      <td>1997</td>\n",
       "      <td>auto</td>\n",
       "      <td>0</td>\n",
       "      <td>corsa</td>\n",
       "      <td>100000</td>\n",
       "      <td>petrol</td>\n",
       "      <td>opel</td>\n",
       "      <td>yes</td>\n",
       "      <td>19</td>\n",
       "    </tr>\n",
       "    <tr>\n",
       "      <th>354363</th>\n",
       "      <td>1150</td>\n",
       "      <td>bus</td>\n",
       "      <td>2000</td>\n",
       "      <td>manual</td>\n",
       "      <td>0</td>\n",
       "      <td>zafira</td>\n",
       "      <td>150000</td>\n",
       "      <td>petrol</td>\n",
       "      <td>opel</td>\n",
       "      <td>no</td>\n",
       "      <td>16</td>\n",
       "    </tr>\n",
       "  </tbody>\n",
       "</table>\n",
       "<p>9153 rows × 11 columns</p>\n",
       "</div>"
      ],
      "text/plain": [
       "        Price  VehicleType  RegistrationYear Gearbox  Power     Model  \\\n",
       "55        550        wagon              1999  manual      0     astra   \n",
       "70        800        small              1993  manual      0      polo   \n",
       "98       4290          bus              2008  manual      0     combo   \n",
       "158       800        sedan              1993  manual      0      golf   \n",
       "166       300        wagon              1998  manual      0       v40   \n",
       "...       ...          ...               ...     ...    ...       ...   \n",
       "354220   2200  convertible              1988  manual      0      golf   \n",
       "354263   1800        coupe              2000  manual      0       clk   \n",
       "354332   7900          bus              2007  manual      0  b_klasse   \n",
       "354335    390        small              1997    auto      0     corsa   \n",
       "354363   1150          bus              2000  manual      0    zafira   \n",
       "\n",
       "        Mileage  FuelType          Brand NotRepaired  AgeAtPublish  \n",
       "55       150000  gasoline           opel         yes            17  \n",
       "70       150000    petrol     volkswagen          no            23  \n",
       "98       150000  gasoline           opel          no             8  \n",
       "158       10000    petrol     volkswagen         yes            23  \n",
       "166      150000    petrol          volvo          no            18  \n",
       "...         ...       ...            ...         ...           ...  \n",
       "354220   150000    petrol     volkswagen          no            28  \n",
       "354263   150000    petrol  mercedes_benz          no            16  \n",
       "354332   125000    petrol  mercedes_benz          no             9  \n",
       "354335   100000    petrol           opel         yes            19  \n",
       "354363   150000    petrol           opel          no            16  \n",
       "\n",
       "[9153 rows x 11 columns]"
      ]
     },
     "execution_count": 14,
     "metadata": {},
     "output_type": "execute_result"
    }
   ],
   "source": [
    "# Checking for errors left in Power\n",
    "df[df['Power'] == 0]"
   ]
  },
  {
   "cell_type": "code",
   "execution_count": 15,
   "metadata": {},
   "outputs": [
    {
     "data": {
      "text/plain": [
       "233275"
      ]
     },
     "execution_count": 15,
     "metadata": {},
     "output_type": "execute_result"
    }
   ],
   "source": [
    "# Leaving only vehicles with Power > 0\n",
    "df = df[df['Power'] > 0].reset_index(drop=True)\n",
    "len(df)"
   ]
  },
  {
   "cell_type": "markdown",
   "metadata": {},
   "source": [
    "We have now 233,275 entries (each with 10 relevant features and one target), that are free of obvious errors and have no missing values. We can move to encoding categorical features.  "
   ]
  },
  {
   "cell_type": "markdown",
   "metadata": {},
   "source": [
    "### Encoding categorical features and standardizing all features"
   ]
  },
  {
   "cell_type": "code",
   "execution_count": 16,
   "metadata": {
    "scrolled": false
   },
   "outputs": [
    {
     "data": {
      "text/html": [
       "<div>\n",
       "<style scoped>\n",
       "    .dataframe tbody tr th:only-of-type {\n",
       "        vertical-align: middle;\n",
       "    }\n",
       "\n",
       "    .dataframe tbody tr th {\n",
       "        vertical-align: top;\n",
       "    }\n",
       "\n",
       "    .dataframe thead th {\n",
       "        text-align: right;\n",
       "    }\n",
       "</style>\n",
       "<table border=\"1\" class=\"dataframe\">\n",
       "  <thead>\n",
       "    <tr style=\"text-align: right;\">\n",
       "      <th></th>\n",
       "      <th>Price</th>\n",
       "      <th>VehicleType</th>\n",
       "      <th>RegistrationYear</th>\n",
       "      <th>Gearbox</th>\n",
       "      <th>Power</th>\n",
       "      <th>Model</th>\n",
       "      <th>Mileage</th>\n",
       "      <th>FuelType</th>\n",
       "      <th>Brand</th>\n",
       "      <th>NotRepaired</th>\n",
       "      <th>AgeAtPublish</th>\n",
       "    </tr>\n",
       "  </thead>\n",
       "  <tbody>\n",
       "    <tr>\n",
       "      <th>0</th>\n",
       "      <td>1500</td>\n",
       "      <td>small</td>\n",
       "      <td>2001</td>\n",
       "      <td>0</td>\n",
       "      <td>75</td>\n",
       "      <td>golf</td>\n",
       "      <td>150000</td>\n",
       "      <td>petrol</td>\n",
       "      <td>volkswagen</td>\n",
       "      <td>0</td>\n",
       "      <td>15</td>\n",
       "    </tr>\n",
       "    <tr>\n",
       "      <th>1</th>\n",
       "      <td>3600</td>\n",
       "      <td>small</td>\n",
       "      <td>2008</td>\n",
       "      <td>0</td>\n",
       "      <td>69</td>\n",
       "      <td>fabia</td>\n",
       "      <td>90000</td>\n",
       "      <td>gasoline</td>\n",
       "      <td>skoda</td>\n",
       "      <td>0</td>\n",
       "      <td>8</td>\n",
       "    </tr>\n",
       "    <tr>\n",
       "      <th>2</th>\n",
       "      <td>650</td>\n",
       "      <td>sedan</td>\n",
       "      <td>1995</td>\n",
       "      <td>0</td>\n",
       "      <td>102</td>\n",
       "      <td>3er</td>\n",
       "      <td>150000</td>\n",
       "      <td>petrol</td>\n",
       "      <td>bmw</td>\n",
       "      <td>1</td>\n",
       "      <td>21</td>\n",
       "    </tr>\n",
       "    <tr>\n",
       "      <th>3</th>\n",
       "      <td>2200</td>\n",
       "      <td>convertible</td>\n",
       "      <td>2004</td>\n",
       "      <td>0</td>\n",
       "      <td>109</td>\n",
       "      <td>2_reihe</td>\n",
       "      <td>150000</td>\n",
       "      <td>petrol</td>\n",
       "      <td>peugeot</td>\n",
       "      <td>0</td>\n",
       "      <td>12</td>\n",
       "    </tr>\n",
       "    <tr>\n",
       "      <th>4</th>\n",
       "      <td>2000</td>\n",
       "      <td>sedan</td>\n",
       "      <td>2004</td>\n",
       "      <td>0</td>\n",
       "      <td>105</td>\n",
       "      <td>3_reihe</td>\n",
       "      <td>150000</td>\n",
       "      <td>petrol</td>\n",
       "      <td>mazda</td>\n",
       "      <td>0</td>\n",
       "      <td>12</td>\n",
       "    </tr>\n",
       "  </tbody>\n",
       "</table>\n",
       "</div>"
      ],
      "text/plain": [
       "   Price  VehicleType  RegistrationYear  Gearbox  Power    Model  Mileage  \\\n",
       "0   1500        small              2001        0     75     golf   150000   \n",
       "1   3600        small              2008        0     69    fabia    90000   \n",
       "2    650        sedan              1995        0    102      3er   150000   \n",
       "3   2200  convertible              2004        0    109  2_reihe   150000   \n",
       "4   2000        sedan              2004        0    105  3_reihe   150000   \n",
       "\n",
       "   FuelType       Brand  NotRepaired  AgeAtPublish  \n",
       "0    petrol  volkswagen            0            15  \n",
       "1  gasoline       skoda            0             8  \n",
       "2    petrol         bmw            1            21  \n",
       "3    petrol     peugeot            0            12  \n",
       "4    petrol       mazda            0            12  "
      ]
     },
     "execution_count": 16,
     "metadata": {},
     "output_type": "execute_result"
    }
   ],
   "source": [
    "# Turning the two binari columns from object type to 0 and 1:\n",
    "df['Gearbox'] = df['Gearbox'].replace(['auto', 'manual'], [1, 0])\n",
    "df['NotRepaired'] = df['NotRepaired'].replace(['yes', 'no'], [1, 0])\n",
    "df.head()"
   ]
  },
  {
   "cell_type": "markdown",
   "metadata": {},
   "source": [
    "'FuelType' petrol and gasoline are the same - we will fix this before encoding:"
   ]
  },
  {
   "cell_type": "code",
   "execution_count": 17,
   "metadata": {},
   "outputs": [
    {
     "data": {
      "text/html": [
       "<div>\n",
       "<style scoped>\n",
       "    .dataframe tbody tr th:only-of-type {\n",
       "        vertical-align: middle;\n",
       "    }\n",
       "\n",
       "    .dataframe tbody tr th {\n",
       "        vertical-align: top;\n",
       "    }\n",
       "\n",
       "    .dataframe thead th {\n",
       "        text-align: right;\n",
       "    }\n",
       "</style>\n",
       "<table border=\"1\" class=\"dataframe\">\n",
       "  <thead>\n",
       "    <tr style=\"text-align: right;\">\n",
       "      <th></th>\n",
       "      <th>Price</th>\n",
       "      <th>VehicleType</th>\n",
       "      <th>RegistrationYear</th>\n",
       "      <th>Gearbox</th>\n",
       "      <th>Power</th>\n",
       "      <th>Model</th>\n",
       "      <th>Mileage</th>\n",
       "      <th>FuelType</th>\n",
       "      <th>Brand</th>\n",
       "      <th>NotRepaired</th>\n",
       "      <th>AgeAtPublish</th>\n",
       "    </tr>\n",
       "  </thead>\n",
       "  <tbody>\n",
       "    <tr>\n",
       "      <th>0</th>\n",
       "      <td>1500</td>\n",
       "      <td>small</td>\n",
       "      <td>2001</td>\n",
       "      <td>0</td>\n",
       "      <td>75</td>\n",
       "      <td>golf</td>\n",
       "      <td>150000</td>\n",
       "      <td>gasoline</td>\n",
       "      <td>volkswagen</td>\n",
       "      <td>0</td>\n",
       "      <td>15</td>\n",
       "    </tr>\n",
       "    <tr>\n",
       "      <th>1</th>\n",
       "      <td>3600</td>\n",
       "      <td>small</td>\n",
       "      <td>2008</td>\n",
       "      <td>0</td>\n",
       "      <td>69</td>\n",
       "      <td>fabia</td>\n",
       "      <td>90000</td>\n",
       "      <td>gasoline</td>\n",
       "      <td>skoda</td>\n",
       "      <td>0</td>\n",
       "      <td>8</td>\n",
       "    </tr>\n",
       "    <tr>\n",
       "      <th>2</th>\n",
       "      <td>650</td>\n",
       "      <td>sedan</td>\n",
       "      <td>1995</td>\n",
       "      <td>0</td>\n",
       "      <td>102</td>\n",
       "      <td>3er</td>\n",
       "      <td>150000</td>\n",
       "      <td>gasoline</td>\n",
       "      <td>bmw</td>\n",
       "      <td>1</td>\n",
       "      <td>21</td>\n",
       "    </tr>\n",
       "    <tr>\n",
       "      <th>3</th>\n",
       "      <td>2200</td>\n",
       "      <td>convertible</td>\n",
       "      <td>2004</td>\n",
       "      <td>0</td>\n",
       "      <td>109</td>\n",
       "      <td>2_reihe</td>\n",
       "      <td>150000</td>\n",
       "      <td>gasoline</td>\n",
       "      <td>peugeot</td>\n",
       "      <td>0</td>\n",
       "      <td>12</td>\n",
       "    </tr>\n",
       "    <tr>\n",
       "      <th>4</th>\n",
       "      <td>2000</td>\n",
       "      <td>sedan</td>\n",
       "      <td>2004</td>\n",
       "      <td>0</td>\n",
       "      <td>105</td>\n",
       "      <td>3_reihe</td>\n",
       "      <td>150000</td>\n",
       "      <td>gasoline</td>\n",
       "      <td>mazda</td>\n",
       "      <td>0</td>\n",
       "      <td>12</td>\n",
       "    </tr>\n",
       "  </tbody>\n",
       "</table>\n",
       "</div>"
      ],
      "text/plain": [
       "   Price  VehicleType  RegistrationYear  Gearbox  Power    Model  Mileage  \\\n",
       "0   1500        small              2001        0     75     golf   150000   \n",
       "1   3600        small              2008        0     69    fabia    90000   \n",
       "2    650        sedan              1995        0    102      3er   150000   \n",
       "3   2200  convertible              2004        0    109  2_reihe   150000   \n",
       "4   2000        sedan              2004        0    105  3_reihe   150000   \n",
       "\n",
       "   FuelType       Brand  NotRepaired  AgeAtPublish  \n",
       "0  gasoline  volkswagen            0            15  \n",
       "1  gasoline       skoda            0             8  \n",
       "2  gasoline         bmw            1            21  \n",
       "3  gasoline     peugeot            0            12  \n",
       "4  gasoline       mazda            0            12  "
      ]
     },
     "execution_count": 17,
     "metadata": {},
     "output_type": "execute_result"
    }
   ],
   "source": [
    "# Renaming 'petrol' as 'gasoline':\n",
    "df['FuelType'] = df['FuelType'].replace(['petrol'], 'gasoline')\n",
    "df.head()"
   ]
  },
  {
   "cell_type": "code",
   "execution_count": 18,
   "metadata": {
    "scrolled": true
   },
   "outputs": [
    {
     "name": "stdout",
     "output_type": "stream",
     "text": [
      "sedan          68961\n",
      "small          55004\n",
      "wagon          48783\n",
      "bus            22563\n",
      "convertible    15681\n",
      "coupe          11585\n",
      "suv             9216\n",
      "other           1482\n",
      "Name: VehicleType, dtype: int64\n",
      "\n",
      "golf                  19382\n",
      "other                 17225\n",
      "3er                   14263\n",
      "polo                   8251\n",
      "corsa                  7675\n",
      "                      ...  \n",
      "elefantino                4\n",
      "serie_3                   3\n",
      "samara                    2\n",
      "range_rover_evoque        2\n",
      "rangerover                1\n",
      "Name: Model, Length: 249, dtype: int64\n",
      "\n",
      "gasoline    228894\n",
      "lpg           3687\n",
      "cng            424\n",
      "hybrid         167\n",
      "other           54\n",
      "electric        49\n",
      "Name: FuelType, dtype: int64\n",
      "\n",
      "volkswagen       49484\n",
      "bmw              26224\n",
      "opel             24514\n",
      "mercedes_benz    22673\n",
      "audi             20779\n",
      "ford             16035\n",
      "renault          10665\n",
      "peugeot           7440\n",
      "fiat              5925\n",
      "seat              4696\n",
      "skoda             4262\n",
      "mazda             3771\n",
      "toyota            3461\n",
      "citroen           3457\n",
      "nissan            3247\n",
      "smart             3199\n",
      "mini              2643\n",
      "hyundai           2619\n",
      "volvo             2370\n",
      "mitsubishi        1911\n",
      "honda             1832\n",
      "kia               1762\n",
      "alfa_romeo        1602\n",
      "suzuki            1597\n",
      "chevrolet         1198\n",
      "chrysler           936\n",
      "dacia              690\n",
      "porsche            527\n",
      "subaru             506\n",
      "jeep               478\n",
      "daihatsu           473\n",
      "saab               403\n",
      "land_rover         395\n",
      "jaguar             370\n",
      "daewoo             303\n",
      "lancia             292\n",
      "rover              241\n",
      "trabant            167\n",
      "lada               128\n",
      "Name: Brand, dtype: int64\n"
     ]
    }
   ],
   "source": [
    "# Checking the values of the categorical features\n",
    "print(df['VehicleType'].value_counts())\n",
    "print()\n",
    "print(df['Model'].value_counts())\n",
    "print()\n",
    "print(df['FuelType'].value_counts())\n",
    "print()\n",
    "print(df['Brand'].value_counts())"
   ]
  },
  {
   "cell_type": "markdown",
   "metadata": {},
   "source": [
    "Since we have a large amount of values in some of the features (especially model and brand), that might have impact on price, and yet have no clear-cut order, and in the same time we are interested in speed of prediction and training - we will avoid OHE or ordinal encoding, and choose CatBoostEncoder (regardless of the different prediction models we will train later). Following the encoding, we will standardize all features (that will be all nmeric, after the encoding). \n",
    "\n",
    "We will also start checking the time of cell execution. "
   ]
  },
  {
   "cell_type": "code",
   "execution_count": 19,
   "metadata": {
    "scrolled": false
   },
   "outputs": [
    {
     "name": "stdout",
     "output_type": "stream",
     "text": [
      "Requirement already satisfied: category_encoders in /opt/conda/lib/python3.9/site-packages (2.4.1)\n",
      "Requirement already satisfied: pandas>=0.21.1 in /opt/conda/lib/python3.9/site-packages (from category_encoders) (1.2.4)\n",
      "Requirement already satisfied: statsmodels>=0.9.0 in /opt/conda/lib/python3.9/site-packages (from category_encoders) (0.13.2)\n",
      "Requirement already satisfied: scipy>=1.0.0 in /opt/conda/lib/python3.9/site-packages (from category_encoders) (1.8.0)\n",
      "Requirement already satisfied: scikit-learn>=0.20.0 in /opt/conda/lib/python3.9/site-packages (from category_encoders) (0.24.1)\n",
      "Requirement already satisfied: patsy>=0.5.1 in /opt/conda/lib/python3.9/site-packages (from category_encoders) (0.5.2)\n",
      "Requirement already satisfied: numpy>=1.14.0 in /opt/conda/lib/python3.9/site-packages (from category_encoders) (1.22.3)\n",
      "Requirement already satisfied: python-dateutil>=2.7.3 in /opt/conda/lib/python3.9/site-packages (from pandas>=0.21.1->category_encoders) (2.8.2)\n",
      "Requirement already satisfied: pytz>=2017.3 in /opt/conda/lib/python3.9/site-packages (from pandas>=0.21.1->category_encoders) (2021.3)\n",
      "Requirement already satisfied: six in /opt/conda/lib/python3.9/site-packages (from patsy>=0.5.1->category_encoders) (1.16.0)\n",
      "Requirement already satisfied: joblib>=0.11 in /opt/conda/lib/python3.9/site-packages (from scikit-learn>=0.20.0->category_encoders) (1.1.0)\n",
      "Requirement already satisfied: threadpoolctl>=2.0.0 in /opt/conda/lib/python3.9/site-packages (from scikit-learn>=0.20.0->category_encoders) (3.1.0)\n",
      "Requirement already satisfied: packaging>=21.3 in /opt/conda/lib/python3.9/site-packages (from statsmodels>=0.9.0->category_encoders) (21.3)\n",
      "Requirement already satisfied: pyparsing!=3.0.5,>=2.0.2 in /opt/conda/lib/python3.9/site-packages (from packaging>=21.3->statsmodels>=0.9.0->category_encoders) (3.0.6)\n",
      "CPU times: user 734 ms, sys: 75.6 ms, total: 809 ms\n",
      "Wall time: 2.92 s\n"
     ]
    }
   ],
   "source": [
    "%%time\n",
    "# Encoding the categorical features and standardizing all features, after splitting into train-valid-test sets\n",
    "!pip install category_encoders\n",
    "from category_encoders import CatBoostEncoder\n",
    "from sklearn.preprocessing import StandardScaler\n",
    "\n",
    "encoder = CatBoostEncoder()\n",
    "X = df.drop('Price', axis=1)\n",
    "y = df['Price']\n",
    "\n",
    "# In the first step of splitting we will split the data into \"seen\" (to be split later to train and validation) and  test set\n",
    "X_seen, X_test, y_seen, y_test = train_test_split(X,y, train_size=0.8, random_state=12345)\n",
    "\n",
    "# Now since we want to split the \"seen\" set into train (60% of all data, 75% of the seen data) \n",
    "    # and validation set (20% of all data, 25% of the seen data)\n",
    "X_train, X_valid, y_train, y_valid = train_test_split(X_seen, y_seen, test_size=0.25, random_state=12345)\n",
    "\n",
    "X_train = encoder.fit_transform(X_train, y_train)\n",
    "X_valid = encoder.transform(X_valid)\n",
    "X_test = encoder.transform(X_test)\n",
    "\n",
    "scaler = StandardScaler()\n",
    "X_train = scaler.fit_transform(X_train)\n",
    "X_valid = scaler.transform(X_valid)\n",
    "X_test = scaler.transform(X_test)"
   ]
  },
  {
   "cell_type": "markdown",
   "metadata": {},
   "source": [
    "We are ready now for model training."
   ]
  },
  {
   "cell_type": "markdown",
   "metadata": {},
   "source": [
    "## Model training"
   ]
  },
  {
   "cell_type": "code",
   "execution_count": 20,
   "metadata": {},
   "outputs": [],
   "source": [
    "# Function to calculate rmse (for models that it is not their default)\n",
    "def rmse(y, pred_y):\n",
    "    return mean_squared_error(y, pred_y)**0.5"
   ]
  },
  {
   "cell_type": "code",
   "execution_count": 21,
   "metadata": {},
   "outputs": [],
   "source": [
    "# Function to train, predict, and evaluate a model:\n",
    "def model_TPE (X_train, y_train, X_eval, y_eval, model):\n",
    "    model.fit(X_train, y_train)\n",
    "    pred_eval = model.predict(X_eval)\n",
    "    print(model, 'RMSE', rmse(y_eval, pred_eval))"
   ]
  },
  {
   "cell_type": "markdown",
   "metadata": {},
   "source": [
    "### Dummy model as a baseline"
   ]
  },
  {
   "cell_type": "code",
   "execution_count": 22,
   "metadata": {
    "scrolled": true
   },
   "outputs": [
    {
     "name": "stdout",
     "output_type": "stream",
     "text": [
      "4737.931311869403\n"
     ]
    }
   ],
   "source": [
    "# Dummy model (as a baseline) rmse on the test set\n",
    "pred_mean = np.ones(y_test.shape) * y_test.mean()\n",
    "print(rmse(y_test, pred_mean))"
   ]
  },
  {
   "cell_type": "markdown",
   "metadata": {},
   "source": [
    "### Linear regression (for a sanity check)"
   ]
  },
  {
   "cell_type": "code",
   "execution_count": 23,
   "metadata": {},
   "outputs": [
    {
     "name": "stdout",
     "output_type": "stream",
     "text": [
      "On validation set:\n",
      "LinearRegression() RMSE 2939.3387479349512\n",
      "CPU times: user 70.9 ms, sys: 82.9 ms, total: 154 ms\n",
      "Wall time: 137 ms\n"
     ]
    }
   ],
   "source": [
    "%%time\n",
    "from sklearn.linear_model import LinearRegression\n",
    "model = LinearRegression()\n",
    "print('On validation set:')\n",
    "model_TPE(X_train, y_train, X_valid, y_valid, model)"
   ]
  },
  {
   "cell_type": "markdown",
   "metadata": {},
   "source": [
    "### Random forest "
   ]
  },
  {
   "cell_type": "code",
   "execution_count": 24,
   "metadata": {
    "scrolled": true
   },
   "outputs": [
    {
     "name": "stdout",
     "output_type": "stream",
     "text": [
      "On validation set:\n",
      "RandomForestRegressor(n_estimators=10) RMSE 1684.1482836348393\n",
      "\n",
      "RandomForestRegressor(n_estimators=40) RMSE 1625.0498524087536\n",
      "\n",
      "RandomForestRegressor(n_estimators=70) RMSE 1609.8192526243854\n",
      "\n",
      "CPU times: user 1min 52s, sys: 1.09 s, total: 1min 53s\n",
      "Wall time: 1min 53s\n"
     ]
    }
   ],
   "source": [
    "%%time\n",
    "from sklearn.ensemble import RandomForestRegressor\n",
    "print('On validation set:')\n",
    "n_estimators_list = [10, 40, 70]\n",
    "for n in n_estimators_list:\n",
    "    model = RandomForestRegressor(n_estimators=n)\n",
    "    model_TPE(X_train, y_train, X_valid, y_valid, model)\n",
    "    print()"
   ]
  },
  {
   "cell_type": "markdown",
   "metadata": {},
   "source": [
    "Our best quality here is with 70 trees. On validation set - RFR results are much better than both dummy model and linear regression. "
   ]
  },
  {
   "cell_type": "markdown",
   "metadata": {},
   "source": [
    "### LightGBM"
   ]
  },
  {
   "cell_type": "code",
   "execution_count": 25,
   "metadata": {
    "scrolled": false
   },
   "outputs": [
    {
     "name": "stdout",
     "output_type": "stream",
     "text": [
      "On validation set:\n",
      "LGBMRegressor(max_depth=0, n_estimators=10, num_leaves=30) RMSE 2599.028628882116\n",
      "\n",
      "LGBMRegressor(max_depth=0, n_estimators=50, num_leaves=30) RMSE 1727.8445822412777\n",
      "\n",
      "LGBMRegressor(max_depth=0, n_estimators=80, num_leaves=30) RMSE 1683.8205428652525\n",
      "\n",
      "LGBMRegressor(max_depth=5, n_estimators=10, num_leaves=30) RMSE 2621.1969644649757\n",
      "\n",
      "LGBMRegressor(max_depth=5, n_estimators=50, num_leaves=30) RMSE 1771.0211670958586\n",
      "\n",
      "LGBMRegressor(max_depth=5, n_estimators=80, num_leaves=30) RMSE 1725.6784043832026\n",
      "\n",
      "LGBMRegressor(max_depth=8, n_estimators=10, num_leaves=30) RMSE 2599.028628882116\n",
      "\n",
      "LGBMRegressor(max_depth=8, n_estimators=50, num_leaves=30) RMSE 1737.9102080845805\n",
      "\n",
      "LGBMRegressor(max_depth=8, n_estimators=80, num_leaves=30) RMSE 1692.321718403323\n",
      "\n",
      "LGBMRegressor(max_depth=0, n_estimators=10, num_leaves=50) RMSE 2531.5464988105423\n",
      "\n",
      "LGBMRegressor(max_depth=0, n_estimators=50, num_leaves=50) RMSE 1687.478146224637\n",
      "\n",
      "LGBMRegressor(max_depth=0, n_estimators=80, num_leaves=50) RMSE 1645.7274559699483\n",
      "\n",
      "LGBMRegressor(max_depth=5, n_estimators=10, num_leaves=50) RMSE 2616.2983996710072\n",
      "\n",
      "LGBMRegressor(max_depth=5, n_estimators=50, num_leaves=50) RMSE 1781.5592989310423\n",
      "\n",
      "LGBMRegressor(max_depth=5, n_estimators=80, num_leaves=50) RMSE 1732.814117004333\n",
      "\n",
      "LGBMRegressor(max_depth=8, n_estimators=10, num_leaves=50) RMSE 2534.1529804472343\n",
      "\n",
      "LGBMRegressor(max_depth=8, n_estimators=50, num_leaves=50) RMSE 1701.7724950493996\n",
      "\n",
      "LGBMRegressor(max_depth=8, n_estimators=80, num_leaves=50) RMSE 1659.4571587637836\n",
      "\n",
      "LGBMRegressor(max_depth=0, n_estimators=10, num_leaves=100) RMSE 2460.744674054828\n",
      "\n",
      "LGBMRegressor(max_depth=0, n_estimators=50, num_leaves=100) RMSE 1634.5873431441748\n",
      "\n",
      "LGBMRegressor(max_depth=0, n_estimators=80, num_leaves=100) RMSE 1598.4332588586362\n",
      "\n",
      "LGBMRegressor(max_depth=5, n_estimators=10, num_leaves=100) RMSE 2616.2983996710072\n",
      "\n",
      "LGBMRegressor(max_depth=5, n_estimators=50, num_leaves=100) RMSE 1781.5592989310423\n",
      "\n",
      "LGBMRegressor(max_depth=5, n_estimators=80, num_leaves=100) RMSE 1732.814117004333\n",
      "\n",
      "LGBMRegressor(max_depth=8, n_estimators=10, num_leaves=100) RMSE 2462.8679855561836\n",
      "\n",
      "LGBMRegressor(max_depth=8, n_estimators=50, num_leaves=100) RMSE 1663.6115101747682\n",
      "\n",
      "LGBMRegressor(max_depth=8, n_estimators=80, num_leaves=100) RMSE 1630.0160572350198\n",
      "\n",
      "CPU times: user 3min 34s, sys: 1.41 s, total: 3min 36s\n",
      "Wall time: 3min 38s\n"
     ]
    }
   ],
   "source": [
    "%%time\n",
    "import lightgbm as lgbm\n",
    "print('On validation set:')\n",
    "num_leaves_list = [30, 50, 100]\n",
    "max_depth_list = [0, 5, 8]\n",
    "n_estimators_list = [10, 50, 80]\n",
    "for n in num_leaves_list:\n",
    "    for m in max_depth_list:\n",
    "        for e in n_estimators_list:\n",
    "            model = lgbm.LGBMRegressor(num_leaves=n, max_depth=m, n_estimators=e)\n",
    "            model_TPE(X_train, y_train, X_valid, y_valid, model)\n",
    "            print()"
   ]
  },
  {
   "cell_type": "markdown",
   "metadata": {},
   "source": [
    "Our best (lowest) RMSE here on the validation set is 1598, a little better than the above RFR model. We will check it later with the test set. The parameters are: LGBMRegressor(max_depth=0, n_estimators=80, num_leaves=100). Since total time of all options was about 3 minutes and a half - this one option does not seem to have a significant time problem (for now).  "
   ]
  },
  {
   "cell_type": "markdown",
   "metadata": {},
   "source": [
    "### CatBoost"
   ]
  },
  {
   "cell_type": "markdown",
   "metadata": {},
   "source": [
    "RMSE is the default score of CatBoostRegressor, so we will not use our function from above, but the CBR way of evaluating on the validation set. First we will see the iterations in steps of 50 (on the next step we will tune hyperparameters).   "
   ]
  },
  {
   "cell_type": "code",
   "execution_count": 26,
   "metadata": {
    "scrolled": false
   },
   "outputs": [
    {
     "name": "stdout",
     "output_type": "stream",
     "text": [
      "Learning rate set to 0.16883\n",
      "0:\tlearn: 4186.5372282\ttest: 4186.6472411\tbest: 4186.6472411 (0)\ttotal: 74.7ms\tremaining: 37.3s\n",
      "50:\tlearn: 1793.6431062\ttest: 1786.4421273\tbest: 1786.4421273 (50)\ttotal: 1.01s\tremaining: 8.93s\n",
      "100:\tlearn: 1722.8088529\ttest: 1718.8226401\tbest: 1718.8226401 (100)\ttotal: 2.03s\tremaining: 8.04s\n",
      "150:\tlearn: 1682.3614232\ttest: 1679.6664926\tbest: 1679.6664926 (150)\ttotal: 3.04s\tremaining: 7.03s\n",
      "200:\tlearn: 1652.0595726\ttest: 1656.4813009\tbest: 1656.4813009 (200)\ttotal: 4s\tremaining: 5.96s\n",
      "250:\tlearn: 1629.4528608\ttest: 1643.1101196\tbest: 1643.1101196 (250)\ttotal: 4.94s\tremaining: 4.9s\n",
      "300:\tlearn: 1608.4677937\ttest: 1630.5671552\tbest: 1630.5671552 (300)\ttotal: 5.88s\tremaining: 3.89s\n",
      "350:\tlearn: 1592.7342180\ttest: 1624.0694705\tbest: 1624.0694705 (350)\ttotal: 6.83s\tremaining: 2.9s\n",
      "400:\tlearn: 1577.4243718\ttest: 1616.0387432\tbest: 1616.0387432 (400)\ttotal: 7.82s\tremaining: 1.93s\n",
      "450:\tlearn: 1565.2674585\ttest: 1610.7638409\tbest: 1610.7638409 (450)\ttotal: 8.76s\tremaining: 952ms\n",
      "499:\tlearn: 1554.0266474\ttest: 1605.6490326\tbest: 1605.6490326 (499)\ttotal: 9.68s\tremaining: 0us\n",
      "\n",
      "bestTest = 1605.649033\n",
      "bestIteration = 499\n",
      "\n",
      "CPU times: user 9.75 s, sys: 125 ms, total: 9.87 s\n",
      "Wall time: 10.4 s\n"
     ]
    },
    {
     "data": {
      "text/plain": [
       "<catboost.core.CatBoostRegressor at 0x7fd9ae6d16a0>"
      ]
     },
     "execution_count": 26,
     "metadata": {},
     "output_type": "execute_result"
    }
   ],
   "source": [
    "%%time\n",
    "\n",
    "from catboost import CatBoostRegressor\n",
    "\n",
    "model = CatBoostRegressor(iterations=500,\n",
    "                          metric_period=50, random_state=12)\n",
    "model.fit(X_train, y_train, \n",
    "          eval_set=(X_valid, y_valid))"
   ]
  },
  {
   "cell_type": "markdown",
   "metadata": {},
   "source": [
    "We will now tune few hyperparameters: "
   ]
  },
  {
   "cell_type": "code",
   "execution_count": 27,
   "metadata": {
    "scrolled": false
   },
   "outputs": [
    {
     "name": "stdout",
     "output_type": "stream",
     "text": [
      "10 iterations, 6 tree depth\n",
      "Learning rate set to 0.5\n",
      "0:\tlearn: 3263.2806709\ttest: 3262.5034161\tbest: 3262.5034161 (0)\ttotal: 25.2ms\tremaining: 227ms\n",
      "1:\tlearn: 2569.8559597\ttest: 2558.3316693\tbest: 2558.3316693 (1)\ttotal: 45.9ms\tremaining: 184ms\n",
      "2:\tlearn: 2267.1193352\ttest: 2255.5418832\tbest: 2255.5418832 (2)\ttotal: 65.2ms\tremaining: 152ms\n",
      "3:\tlearn: 2123.5136523\ttest: 2113.5759289\tbest: 2113.5759289 (3)\ttotal: 83.5ms\tremaining: 125ms\n",
      "4:\tlearn: 2051.6821146\ttest: 2040.4105399\tbest: 2040.4105399 (4)\ttotal: 102ms\tremaining: 102ms\n",
      "5:\tlearn: 2005.2492269\ttest: 1995.8160999\tbest: 1995.8160999 (5)\ttotal: 120ms\tremaining: 80ms\n",
      "6:\tlearn: 1975.0541635\ttest: 1963.0063505\tbest: 1963.0063505 (6)\ttotal: 139ms\tremaining: 59.4ms\n",
      "7:\tlearn: 1947.3790973\ttest: 1931.8267980\tbest: 1931.8267980 (7)\ttotal: 157ms\tremaining: 39.1ms\n",
      "8:\tlearn: 1932.4319453\ttest: 1916.4701758\tbest: 1916.4701758 (8)\ttotal: 174ms\tremaining: 19.4ms\n",
      "9:\tlearn: 1912.6529520\ttest: 1896.9260001\tbest: 1896.9260001 (9)\ttotal: 194ms\tremaining: 0us\n",
      "\n",
      "bestTest = 1896.926\n",
      "bestIteration = 9\n",
      "\n",
      "100 iterations, 6 tree depth\n",
      "Learning rate set to 0.450631\n",
      "0:\tlearn: 3384.9065398\ttest: 3384.5111449\tbest: 3384.5111449 (0)\ttotal: 21.3ms\tremaining: 2.11s\n",
      "10:\tlearn: 1911.2230100\ttest: 1895.3201645\tbest: 1895.3201645 (10)\ttotal: 208ms\tremaining: 1.68s\n",
      "20:\tlearn: 1815.0498284\ttest: 1798.3616684\tbest: 1798.3616684 (20)\ttotal: 394ms\tremaining: 1.48s\n",
      "30:\tlearn: 1770.5728992\ttest: 1754.0042406\tbest: 1754.0042406 (30)\ttotal: 593ms\tremaining: 1.32s\n",
      "40:\tlearn: 1739.3967315\ttest: 1722.7562924\tbest: 1722.7562924 (40)\ttotal: 782ms\tremaining: 1.13s\n",
      "50:\tlearn: 1716.5518983\ttest: 1705.3191891\tbest: 1705.3191891 (50)\ttotal: 998ms\tremaining: 959ms\n",
      "60:\tlearn: 1696.8992122\ttest: 1691.6711828\tbest: 1691.6711828 (60)\ttotal: 1.22s\tremaining: 780ms\n",
      "70:\tlearn: 1678.5945931\ttest: 1677.9316231\tbest: 1677.9316231 (70)\ttotal: 1.45s\tremaining: 591ms\n",
      "80:\tlearn: 1665.4381460\ttest: 1669.2034343\tbest: 1669.2034343 (80)\ttotal: 1.65s\tremaining: 386ms\n",
      "90:\tlearn: 1650.9790653\ttest: 1660.3206228\tbest: 1660.3206228 (90)\ttotal: 1.85s\tremaining: 183ms\n",
      "99:\tlearn: 1639.7510062\ttest: 1652.7915217\tbest: 1652.7915217 (99)\ttotal: 2.02s\tremaining: 0us\n",
      "\n",
      "bestTest = 1652.791522\n",
      "bestIteration = 99\n",
      "\n",
      "500 iterations, 6 tree depth\n",
      "Learning rate set to 0.16883\n",
      "0:\tlearn: 4186.5372282\ttest: 4186.6472411\tbest: 4186.6472411 (0)\ttotal: 19.9ms\tremaining: 9.93s\n",
      "50:\tlearn: 1793.6431062\ttest: 1786.4421273\tbest: 1786.4421273 (50)\ttotal: 1.04s\tremaining: 9.15s\n",
      "100:\tlearn: 1722.8088529\ttest: 1718.8226401\tbest: 1718.8226401 (100)\ttotal: 1.97s\tremaining: 7.78s\n",
      "150:\tlearn: 1682.3614232\ttest: 1679.6664926\tbest: 1679.6664926 (150)\ttotal: 2.92s\tremaining: 6.75s\n",
      "200:\tlearn: 1652.0595726\ttest: 1656.4813009\tbest: 1656.4813009 (200)\ttotal: 3.84s\tremaining: 5.72s\n",
      "250:\tlearn: 1629.4528608\ttest: 1643.1101196\tbest: 1643.1101196 (250)\ttotal: 4.76s\tremaining: 4.72s\n",
      "300:\tlearn: 1608.4677937\ttest: 1630.5671552\tbest: 1630.5671552 (300)\ttotal: 5.71s\tremaining: 3.78s\n",
      "350:\tlearn: 1592.7342180\ttest: 1624.0694705\tbest: 1624.0694705 (350)\ttotal: 6.63s\tremaining: 2.81s\n",
      "400:\tlearn: 1577.4243718\ttest: 1616.0387432\tbest: 1616.0387432 (400)\ttotal: 7.57s\tremaining: 1.87s\n",
      "450:\tlearn: 1565.2674585\ttest: 1610.7638409\tbest: 1610.7638409 (450)\ttotal: 8.54s\tremaining: 928ms\n",
      "499:\tlearn: 1554.0266474\ttest: 1605.6490326\tbest: 1605.6490326 (499)\ttotal: 9.54s\tremaining: 0us\n",
      "\n",
      "bestTest = 1605.649033\n",
      "bestIteration = 499\n",
      "\n",
      "10 iterations, 8 tree depth\n",
      "Learning rate set to 0.5\n",
      "0:\tlearn: 3182.2875559\ttest: 3178.9612418\tbest: 3178.9612418 (0)\ttotal: 52.6ms\tremaining: 473ms\n",
      "1:\tlearn: 2461.9638088\ttest: 2447.2508188\tbest: 2447.2508188 (1)\ttotal: 98.6ms\tremaining: 395ms\n",
      "2:\tlearn: 2152.2169390\ttest: 2135.3017865\tbest: 2135.3017865 (2)\ttotal: 127ms\tremaining: 296ms\n",
      "3:\tlearn: 2030.2424864\ttest: 2012.8546194\tbest: 2012.8546194 (3)\ttotal: 154ms\tremaining: 231ms\n",
      "4:\tlearn: 1958.1445385\ttest: 1941.4665871\tbest: 1941.4665871 (4)\ttotal: 179ms\tremaining: 179ms\n",
      "5:\tlearn: 1927.9440580\ttest: 1907.2429839\tbest: 1907.2429839 (5)\ttotal: 204ms\tremaining: 136ms\n",
      "6:\tlearn: 1894.5705062\ttest: 1872.0129789\tbest: 1872.0129789 (6)\ttotal: 229ms\tremaining: 98ms\n",
      "7:\tlearn: 1874.9453201\ttest: 1853.7613656\tbest: 1853.7613656 (7)\ttotal: 253ms\tremaining: 63.1ms\n",
      "8:\tlearn: 1858.6168337\ttest: 1837.4956143\tbest: 1837.4956143 (8)\ttotal: 278ms\tremaining: 30.9ms\n",
      "9:\tlearn: 1841.2121214\ttest: 1821.9190078\tbest: 1821.9190078 (9)\ttotal: 304ms\tremaining: 0us\n",
      "\n",
      "bestTest = 1821.919008\n",
      "bestIteration = 9\n",
      "\n",
      "100 iterations, 8 tree depth\n",
      "Learning rate set to 0.450631\n",
      "0:\tlearn: 3312.4158354\ttest: 3309.6660575\tbest: 3309.6660575 (0)\ttotal: 27.7ms\tremaining: 2.74s\n",
      "10:\tlearn: 1826.2927056\ttest: 1810.9011283\tbest: 1810.9011283 (10)\ttotal: 279ms\tremaining: 2.26s\n",
      "20:\tlearn: 1753.0475055\ttest: 1744.2579090\tbest: 1744.2579090 (20)\ttotal: 539ms\tremaining: 2.02s\n",
      "30:\tlearn: 1704.4237807\ttest: 1701.3491603\tbest: 1701.3491603 (30)\ttotal: 787ms\tremaining: 1.75s\n",
      "40:\tlearn: 1669.5108746\ttest: 1673.7069848\tbest: 1673.7069848 (40)\ttotal: 1.03s\tremaining: 1.48s\n",
      "50:\tlearn: 1642.8322756\ttest: 1654.6684961\tbest: 1654.6684961 (50)\ttotal: 1.27s\tremaining: 1.22s\n",
      "60:\tlearn: 1621.7417320\ttest: 1646.3101463\tbest: 1646.3101463 (60)\ttotal: 1.52s\tremaining: 975ms\n",
      "70:\tlearn: 1599.7897754\ttest: 1631.9006516\tbest: 1631.9006516 (70)\ttotal: 1.77s\tremaining: 725ms\n",
      "80:\tlearn: 1585.0418521\ttest: 1626.5718592\tbest: 1626.5718592 (80)\ttotal: 2.02s\tremaining: 474ms\n",
      "90:\tlearn: 1570.4958217\ttest: 1620.5142425\tbest: 1620.5142425 (90)\ttotal: 2.26s\tremaining: 224ms\n",
      "99:\tlearn: 1559.2390282\ttest: 1615.4244596\tbest: 1615.4244596 (99)\ttotal: 2.48s\tremaining: 0us\n",
      "\n",
      "bestTest = 1615.42446\n",
      "bestIteration = 99\n",
      "\n",
      "500 iterations, 8 tree depth\n",
      "Learning rate set to 0.16883\n",
      "0:\tlearn: 4160.9061390\ttest: 4160.0517952\tbest: 4160.0517952 (0)\ttotal: 25.9ms\tremaining: 12.9s\n",
      "50:\tlearn: 1733.8497662\ttest: 1726.1418918\tbest: 1726.1418918 (50)\ttotal: 1.28s\tremaining: 11.3s\n",
      "100:\tlearn: 1659.6721015\ttest: 1667.5769484\tbest: 1667.5769484 (100)\ttotal: 2.53s\tremaining: 9.99s\n",
      "150:\tlearn: 1610.7815465\ttest: 1635.3282713\tbest: 1635.3282713 (150)\ttotal: 3.79s\tremaining: 8.75s\n",
      "200:\tlearn: 1573.6862052\ttest: 1613.9717906\tbest: 1613.9717906 (200)\ttotal: 5.16s\tremaining: 7.68s\n",
      "250:\tlearn: 1545.3463675\ttest: 1603.2480245\tbest: 1603.2480245 (250)\ttotal: 6.57s\tremaining: 6.51s\n",
      "300:\tlearn: 1519.9417221\ttest: 1593.7228172\tbest: 1593.7228172 (300)\ttotal: 7.81s\tremaining: 5.16s\n",
      "350:\tlearn: 1496.8867919\ttest: 1585.7050305\tbest: 1585.7050305 (350)\ttotal: 9.08s\tremaining: 3.86s\n",
      "400:\tlearn: 1476.5366295\ttest: 1577.1929312\tbest: 1577.1929312 (400)\ttotal: 10.4s\tremaining: 2.56s\n",
      "450:\tlearn: 1459.8969143\ttest: 1572.6465877\tbest: 1572.6465877 (450)\ttotal: 11.7s\tremaining: 1.27s\n",
      "499:\tlearn: 1442.9980866\ttest: 1568.5909039\tbest: 1568.5909039 (499)\ttotal: 12.9s\tremaining: 0us\n",
      "\n",
      "bestTest = 1568.590904\n",
      "bestIteration = 499\n",
      "\n",
      "10 iterations, 10 tree depth\n",
      "Learning rate set to 0.5\n",
      "0:\tlearn: 3123.0136317\ttest: 3119.2964868\tbest: 3119.2964868 (0)\ttotal: 52.9ms\tremaining: 476ms\n",
      "1:\tlearn: 2397.3609261\ttest: 2387.7906925\tbest: 2387.7906925 (1)\ttotal: 102ms\tremaining: 409ms\n",
      "2:\tlearn: 2077.7409412\ttest: 2070.5957984\tbest: 2070.5957984 (2)\ttotal: 151ms\tremaining: 353ms\n",
      "3:\tlearn: 1946.5355030\ttest: 1932.1371429\tbest: 1932.1371429 (3)\ttotal: 198ms\tremaining: 298ms\n",
      "4:\tlearn: 1887.8098037\ttest: 1873.9143156\tbest: 1873.9143156 (4)\ttotal: 247ms\tremaining: 247ms\n",
      "5:\tlearn: 1860.9980206\ttest: 1849.0643404\tbest: 1849.0643404 (5)\ttotal: 296ms\tremaining: 197ms\n",
      "6:\tlearn: 1840.7908561\ttest: 1831.0343215\tbest: 1831.0343215 (6)\ttotal: 345ms\tremaining: 148ms\n",
      "7:\tlearn: 1821.2945513\ttest: 1810.2133547\tbest: 1810.2133547 (7)\ttotal: 392ms\tremaining: 97.9ms\n",
      "8:\tlearn: 1802.2812923\ttest: 1793.0539763\tbest: 1793.0539763 (8)\ttotal: 439ms\tremaining: 48.8ms\n",
      "9:\tlearn: 1787.1834481\ttest: 1780.7922712\tbest: 1780.7922712 (9)\ttotal: 488ms\tremaining: 0us\n",
      "\n",
      "bestTest = 1780.792271\n",
      "bestIteration = 9\n",
      "\n",
      "100 iterations, 10 tree depth\n",
      "Learning rate set to 0.450631\n",
      "0:\tlearn: 3259.6409345\ttest: 3256.5482381\tbest: 3256.5482381 (0)\ttotal: 48.2ms\tremaining: 4.77s\n",
      "10:\tlearn: 1768.1196291\ttest: 1769.2872699\tbest: 1769.2872699 (10)\ttotal: 532ms\tremaining: 4.3s\n",
      "20:\tlearn: 1689.4819157\ttest: 1706.0850784\tbest: 1706.0850784 (20)\ttotal: 1.07s\tremaining: 4.04s\n",
      "30:\tlearn: 1638.5200737\ttest: 1669.7613354\tbest: 1669.7613354 (30)\ttotal: 1.58s\tremaining: 3.51s\n",
      "40:\tlearn: 1589.1266925\ttest: 1641.0757920\tbest: 1641.0757920 (40)\ttotal: 2.09s\tremaining: 3s\n",
      "50:\tlearn: 1557.6194361\ttest: 1626.7836909\tbest: 1626.7836909 (50)\ttotal: 2.59s\tremaining: 2.49s\n",
      "60:\tlearn: 1527.7533197\ttest: 1614.0643693\tbest: 1614.0643693 (60)\ttotal: 3.09s\tremaining: 1.98s\n",
      "70:\tlearn: 1504.5029464\ttest: 1606.5546168\tbest: 1606.5546168 (70)\ttotal: 3.55s\tremaining: 1.45s\n",
      "80:\tlearn: 1483.2764681\ttest: 1601.7392173\tbest: 1601.7392173 (80)\ttotal: 4.02s\tremaining: 944ms\n",
      "90:\tlearn: 1467.2072045\ttest: 1598.2561993\tbest: 1598.2561993 (90)\ttotal: 4.5s\tremaining: 445ms\n",
      "99:\tlearn: 1447.6344987\ttest: 1592.6825236\tbest: 1592.6825236 (99)\ttotal: 4.92s\tremaining: 0us\n",
      "\n",
      "bestTest = 1592.682524\n",
      "bestIteration = 99\n",
      "\n",
      "500 iterations, 10 tree depth\n",
      "Learning rate set to 0.16883\n",
      "0:\tlearn: 4142.6809973\ttest: 4141.7088969\tbest: 4141.7088969 (0)\ttotal: 47.7ms\tremaining: 23.8s\n",
      "50:\tlearn: 1677.2315872\ttest: 1685.1368280\tbest: 1685.1368280 (50)\ttotal: 2.46s\tremaining: 21.7s\n",
      "100:\tlearn: 1595.2829108\ttest: 1632.1337305\tbest: 1632.1337305 (100)\ttotal: 4.85s\tremaining: 19.1s\n",
      "150:\tlearn: 1534.4966680\ttest: 1603.7217256\tbest: 1603.7217256 (150)\ttotal: 7.45s\tremaining: 17.2s\n",
      "200:\tlearn: 1484.6437001\ttest: 1588.6992504\tbest: 1588.6992504 (200)\ttotal: 9.95s\tremaining: 14.8s\n",
      "250:\tlearn: 1446.7095588\ttest: 1576.0991804\tbest: 1576.0991804 (250)\ttotal: 12.5s\tremaining: 12.4s\n",
      "300:\tlearn: 1413.6091187\ttest: 1566.8954044\tbest: 1566.8954044 (300)\ttotal: 14.9s\tremaining: 9.84s\n",
      "350:\tlearn: 1385.1018600\ttest: 1562.2672186\tbest: 1562.2672186 (350)\ttotal: 17.5s\tremaining: 7.41s\n",
      "400:\tlearn: 1358.9253460\ttest: 1558.1441595\tbest: 1558.1441595 (400)\ttotal: 19.8s\tremaining: 4.89s\n",
      "450:\tlearn: 1337.1420773\ttest: 1556.4449455\tbest: 1556.4449455 (450)\ttotal: 22.2s\tremaining: 2.42s\n",
      "499:\tlearn: 1316.1009606\ttest: 1554.0620659\tbest: 1554.0620659 (499)\ttotal: 24.5s\tremaining: 0us\n",
      "\n",
      "bestTest = 1554.062066\n",
      "bestIteration = 499\n",
      "\n",
      "CPU times: user 58.6 s, sys: 446 ms, total: 59.1 s\n",
      "Wall time: 1min 1s\n"
     ]
    }
   ],
   "source": [
    "%%time\n",
    "depth_list = [6, 8, 10]\n",
    "iterations_list = [10, 100, 500]\n",
    "for d in depth_list:\n",
    "    for i in iterations_list:\n",
    "        print(i, 'iterations,', d, 'tree depth')\n",
    "        model = CatBoostRegressor(depth=d, iterations=i,\n",
    "                          metric_period=int(i/10), random_state=12)\n",
    "        model.fit(X_train, y_train, \n",
    "          eval_set=(X_valid, y_valid))"
   ]
  },
  {
   "cell_type": "markdown",
   "metadata": {},
   "source": [
    "Our best RMSE on the validation set is 1554, a bit better than with lightGBM. The chosen parameters are: 500 iterations, 10 tree depth. Training time for this option was less than a minute. "
   ]
  },
  {
   "cell_type": "markdown",
   "metadata": {},
   "source": [
    "## Model analysis"
   ]
  },
  {
   "cell_type": "markdown",
   "metadata": {},
   "source": [
    "We will now evaluate the best model from each kind on the test set - quality (RMSE) and speed. First we will train each chosen model (with tuned parameters) on the whole \"seen\" dataset - both train and valid sets, by this adding another allowed 33% to our initial training data, and allowing us to measure training time as well prediction time (and first we will 'fit_transform' for this whole data on the scaler and the encoder). \n",
    "\n",
    "In order to enable time measurements - each model last training and prediction will be done on a separate code cell. "
   ]
  },
  {
   "cell_type": "code",
   "execution_count": 28,
   "metadata": {},
   "outputs": [
    {
     "name": "stdout",
     "output_type": "stream",
     "text": [
      "CPU times: user 54.7 ms, sys: 55 µs, total: 54.7 ms\n",
      "Wall time: 33.7 ms\n"
     ]
    },
    {
     "data": {
      "text/plain": [
       "LinearRegression()"
      ]
     },
     "execution_count": 28,
     "metadata": {},
     "output_type": "execute_result"
    }
   ],
   "source": [
    "%%time\n",
    "# final training on train data\n",
    "model = LinearRegression()\n",
    "model.fit(X_train, y_train)"
   ]
  },
  {
   "cell_type": "code",
   "execution_count": 29,
   "metadata": {},
   "outputs": [
    {
     "name": "stdout",
     "output_type": "stream",
     "text": [
      "CPU times: user 12.5 ms, sys: 84 µs, total: 12.6 ms\n",
      "Wall time: 2.38 ms\n"
     ]
    },
    {
     "data": {
      "text/plain": [
       "2913.800990448321"
      ]
     },
     "execution_count": 29,
     "metadata": {},
     "output_type": "execute_result"
    }
   ],
   "source": [
    "%%time\n",
    "# Prediction (and evaluation) on the unseen test set\n",
    "y_pred = model.predict(X_test)\n",
    "rmse(y_test, y_pred)"
   ]
  },
  {
   "cell_type": "markdown",
   "metadata": {},
   "source": [
    "**Linear regression** performance on the unseen test set: \n",
    "- the quality of the prediction: RMSE 2913.8 Euro (much better than dummy model, see above 2.1)\n",
    "- the speed of the prediction: 2.38 ms\n",
    "- the time required for training: 33.7 ms"
   ]
  },
  {
   "cell_type": "markdown",
   "metadata": {},
   "source": [
    "### Random forest "
   ]
  },
  {
   "cell_type": "code",
   "execution_count": 30,
   "metadata": {},
   "outputs": [
    {
     "name": "stdout",
     "output_type": "stream",
     "text": [
      "CPU times: user 1min 4s, sys: 684 ms, total: 1min 5s\n",
      "Wall time: 1min 5s\n"
     ]
    },
    {
     "data": {
      "text/plain": [
       "RandomForestRegressor(n_estimators=70)"
      ]
     },
     "execution_count": 30,
     "metadata": {},
     "output_type": "execute_result"
    }
   ],
   "source": [
    "%%time\n",
    "# final training on train data\n",
    "model = RandomForestRegressor(n_estimators=70)\n",
    "model.fit(X_train, y_train)"
   ]
  },
  {
   "cell_type": "code",
   "execution_count": 31,
   "metadata": {},
   "outputs": [
    {
     "name": "stdout",
     "output_type": "stream",
     "text": [
      "CPU times: user 1.39 s, sys: 7.83 ms, total: 1.4 s\n",
      "Wall time: 1.39 s\n"
     ]
    },
    {
     "data": {
      "text/plain": [
       "1628.4172446783853"
      ]
     },
     "execution_count": 31,
     "metadata": {},
     "output_type": "execute_result"
    }
   ],
   "source": [
    "%%time\n",
    "# Prediction (and evaluation) on the unseen test set\n",
    "y_pred = model.predict(X_test)\n",
    "rmse(y_test, y_pred)"
   ]
  },
  {
   "cell_type": "markdown",
   "metadata": {},
   "source": [
    "**Random forest regressor** performance on the unseen test set: \n",
    "- the quality of the prediction: RMSE 1628.4 Euro (much better than linear regression) \n",
    "- the speed of the prediction: 1.39 s \n",
    "- the time required for training: 1min 5s (much slower than linear regression)"
   ]
  },
  {
   "cell_type": "markdown",
   "metadata": {},
   "source": [
    "### LightGBM "
   ]
  },
  {
   "cell_type": "code",
   "execution_count": 32,
   "metadata": {},
   "outputs": [
    {
     "name": "stdout",
     "output_type": "stream",
     "text": [
      "CPU times: user 5.3 s, sys: 20.3 ms, total: 5.32 s\n",
      "Wall time: 5.34 s\n"
     ]
    },
    {
     "data": {
      "text/plain": [
       "LGBMRegressor(max_depth=0, n_estimators=80, num_leaves=100)"
      ]
     },
     "execution_count": 32,
     "metadata": {},
     "output_type": "execute_result"
    }
   ],
   "source": [
    "%%time\n",
    "# final training on train data\n",
    "model = lgbm.LGBMRegressor(max_depth=0, n_estimators=80, num_leaves=100)\n",
    "model.fit(X_train, y_train)"
   ]
  },
  {
   "cell_type": "code",
   "execution_count": 33,
   "metadata": {},
   "outputs": [
    {
     "name": "stdout",
     "output_type": "stream",
     "text": [
      "CPU times: user 384 ms, sys: 7.62 ms, total: 392 ms\n",
      "Wall time: 361 ms\n"
     ]
    },
    {
     "data": {
      "text/plain": [
       "1617.811593940994"
      ]
     },
     "execution_count": 33,
     "metadata": {},
     "output_type": "execute_result"
    }
   ],
   "source": [
    "%%time\n",
    "# Prediction (and evaluation) on the unseen test set\n",
    "y_pred = model.predict(X_test)\n",
    "rmse(y_test, y_pred)"
   ]
  },
  {
   "cell_type": "markdown",
   "metadata": {},
   "source": [
    "**Light GBM regressor** performance on the unseen test set: \n",
    "- the quality of the prediction: RMSE 1617.8 Euro  (a bit better than Random Forest)\n",
    "- the speed of the prediction: 361 ms\n",
    "- the time required for training: 5.34 s (much faster than Random Forest)"
   ]
  },
  {
   "cell_type": "markdown",
   "metadata": {},
   "source": [
    "### CatBoost "
   ]
  },
  {
   "cell_type": "code",
   "execution_count": 34,
   "metadata": {},
   "outputs": [
    {
     "name": "stdout",
     "output_type": "stream",
     "text": [
      "Learning rate set to 0.157032\n",
      "0:\tlearn: 4182.5025972\ttotal: 50.2ms\tremaining: 25s\n",
      "50:\tlearn: 1685.7652000\ttotal: 2.45s\tremaining: 21.6s\n",
      "100:\tlearn: 1596.5844314\ttotal: 4.76s\tremaining: 18.8s\n",
      "150:\tlearn: 1532.4975332\ttotal: 7.12s\tremaining: 16.5s\n",
      "200:\tlearn: 1492.7976608\ttotal: 9.55s\tremaining: 14.2s\n",
      "250:\tlearn: 1452.2930468\ttotal: 12.2s\tremaining: 12.1s\n",
      "300:\tlearn: 1422.1037104\ttotal: 14.5s\tremaining: 9.59s\n",
      "350:\tlearn: 1395.0213813\ttotal: 16.9s\tremaining: 7.17s\n",
      "400:\tlearn: 1369.2508786\ttotal: 19.3s\tremaining: 4.78s\n",
      "450:\tlearn: 1347.0320761\ttotal: 21.8s\tremaining: 2.37s\n",
      "499:\tlearn: 1327.3413622\ttotal: 24.1s\tremaining: 0us\n",
      "CPU times: user 24 s, sys: 138 ms, total: 24.2 s\n",
      "Wall time: 24.7 s\n"
     ]
    },
    {
     "data": {
      "text/plain": [
       "<catboost.core.CatBoostRegressor at 0x7fd9ae75fdc0>"
      ]
     },
     "execution_count": 34,
     "metadata": {},
     "output_type": "execute_result"
    }
   ],
   "source": [
    "%%time\n",
    "# final training on train data\n",
    "model = CatBoostRegressor(depth=10, iterations=500,\n",
    "                          metric_period=50, random_state=12)\n",
    "model.fit(X_train, y_train)"
   ]
  },
  {
   "cell_type": "code",
   "execution_count": 35,
   "metadata": {},
   "outputs": [
    {
     "name": "stdout",
     "output_type": "stream",
     "text": [
      "CPU times: user 85.6 ms, sys: 4.08 ms, total: 89.6 ms\n",
      "Wall time: 87.8 ms\n"
     ]
    },
    {
     "data": {
      "text/plain": [
       "1578.5209569917765"
      ]
     },
     "execution_count": 35,
     "metadata": {},
     "output_type": "execute_result"
    }
   ],
   "source": [
    "%%time\n",
    "# Prediction (and evaluation) on the unseen test set\n",
    "y_pred = model.predict(X_test)\n",
    "rmse(y_test, y_pred)"
   ]
  },
  {
   "cell_type": "markdown",
   "metadata": {},
   "source": [
    "**CatBoost regressor** performance on the unseen test set: \n",
    "- the quality of the prediction: RMSE 1578.5 Euro  (a bit better than LightGBM)\n",
    "- the speed of the prediction: 87.8 ms\n",
    "- the time required for training: 24.7 s (a bit slower than LightGBM)"
   ]
  },
  {
   "cell_type": "markdown",
   "metadata": {},
   "source": [
    "## Conclusion"
   ]
  },
  {
   "cell_type": "markdown",
   "metadata": {},
   "source": [
    "Our best quality (RMSE 1578.5 Euro) was achieved with a **CatBoost regressor**, with fast prediction (less than a second), and a bit less than half a minute for training.\n",
    "\n",
    "**LightGBM regressor** achieved a bit lower quality, but with faster training time (~5 seconds). \n",
    "\n",
    "**Random Forest regressor** performed almost the same quality, but with much slower training time (more than a minute). "
   ]
  }
 ],
 "metadata": {
  "ExecuteTimeLog": [
   {
    "duration": 2499,
    "start_time": "2022-05-16T19:12:38.911Z"
   },
   {
    "duration": 5927,
    "start_time": "2022-05-16T19:12:44.404Z"
   },
   {
    "duration": 43,
    "start_time": "2022-05-16T19:13:37.481Z"
   },
   {
    "duration": 183,
    "start_time": "2022-05-16T19:27:12.046Z"
   },
   {
    "duration": 156,
    "start_time": "2022-05-16T19:27:32.676Z"
   },
   {
    "duration": 158,
    "start_time": "2022-05-16T19:29:42.331Z"
   },
   {
    "duration": 168,
    "start_time": "2022-05-16T19:30:07.177Z"
   },
   {
    "duration": 1595,
    "start_time": "2022-05-18T14:57:57.998Z"
   },
   {
    "duration": 2639,
    "start_time": "2022-05-18T14:57:59.595Z"
   },
   {
    "duration": 33,
    "start_time": "2022-05-18T14:58:02.236Z"
   },
   {
    "duration": 134,
    "start_time": "2022-05-18T14:58:02.271Z"
   },
   {
    "duration": 145,
    "start_time": "2022-05-18T14:58:02.408Z"
   },
   {
    "duration": 102,
    "start_time": "2022-05-18T14:58:02.554Z"
   },
   {
    "duration": 52,
    "start_time": "2022-05-18T14:58:21.702Z"
   },
   {
    "duration": 3,
    "start_time": "2022-05-18T15:03:23.502Z"
   },
   {
    "duration": 742,
    "start_time": "2022-05-18T15:03:23.507Z"
   },
   {
    "duration": 29,
    "start_time": "2022-05-18T15:03:24.252Z"
   },
   {
    "duration": 155,
    "start_time": "2022-05-18T15:03:24.284Z"
   },
   {
    "duration": 146,
    "start_time": "2022-05-18T15:03:24.441Z"
   },
   {
    "duration": 116,
    "start_time": "2022-05-18T15:03:24.589Z"
   },
   {
    "duration": 137,
    "start_time": "2022-05-18T15:03:47.096Z"
   },
   {
    "duration": 448,
    "start_time": "2022-05-18T15:08:58.906Z"
   },
   {
    "duration": 337,
    "start_time": "2022-05-18T15:09:51.922Z"
   },
   {
    "duration": 70,
    "start_time": "2022-05-18T15:11:03.410Z"
   },
   {
    "duration": 32,
    "start_time": "2022-05-18T15:16:02.953Z"
   },
   {
    "duration": 565,
    "start_time": "2022-05-18T15:16:28.968Z"
   },
   {
    "duration": 35,
    "start_time": "2022-05-18T15:17:32.759Z"
   },
   {
    "duration": 53,
    "start_time": "2022-05-18T18:51:10.415Z"
   },
   {
    "duration": 1851,
    "start_time": "2022-05-18T18:51:17.076Z"
   },
   {
    "duration": 863,
    "start_time": "2022-05-18T18:51:18.929Z"
   },
   {
    "duration": 27,
    "start_time": "2022-05-18T18:51:19.794Z"
   },
   {
    "duration": 120,
    "start_time": "2022-05-18T18:51:19.823Z"
   },
   {
    "duration": 112,
    "start_time": "2022-05-18T18:51:19.945Z"
   },
   {
    "duration": 99,
    "start_time": "2022-05-18T18:51:20.059Z"
   },
   {
    "duration": 134,
    "start_time": "2022-05-18T18:51:20.160Z"
   },
   {
    "duration": 61,
    "start_time": "2022-05-18T18:51:20.295Z"
   },
   {
    "duration": 29,
    "start_time": "2022-05-18T18:51:28.849Z"
   },
   {
    "duration": 120,
    "start_time": "2022-05-18T18:58:21.258Z"
   },
   {
    "duration": 178,
    "start_time": "2022-05-18T19:00:51.846Z"
   },
   {
    "duration": 101,
    "start_time": "2022-05-18T19:03:44.236Z"
   },
   {
    "duration": 1102,
    "start_time": "2022-05-18T19:09:02.898Z"
   },
   {
    "duration": 19,
    "start_time": "2022-05-18T19:09:17.976Z"
   },
   {
    "duration": 19,
    "start_time": "2022-05-18T19:24:48.315Z"
   },
   {
    "duration": 458,
    "start_time": "2022-05-18T19:42:48.747Z"
   },
   {
    "duration": 25,
    "start_time": "2022-05-18T19:42:56.871Z"
   },
   {
    "duration": 10,
    "start_time": "2022-05-18T19:43:09.759Z"
   },
   {
    "duration": 20,
    "start_time": "2022-05-18T19:43:46.098Z"
   },
   {
    "duration": 10,
    "start_time": "2022-05-18T19:45:08.007Z"
   },
   {
    "duration": 5,
    "start_time": "2022-05-18T19:45:19.873Z"
   },
   {
    "duration": 22,
    "start_time": "2022-05-18T19:46:56.638Z"
   },
   {
    "duration": 14,
    "start_time": "2022-05-18T19:48:18.773Z"
   },
   {
    "duration": 102,
    "start_time": "2022-05-18T19:59:57.404Z"
   },
   {
    "duration": 107,
    "start_time": "2022-05-18T20:02:49.291Z"
   },
   {
    "duration": 106,
    "start_time": "2022-05-18T20:03:26.814Z"
   },
   {
    "duration": 229,
    "start_time": "2022-05-18T20:52:57.549Z"
   },
   {
    "duration": 119,
    "start_time": "2022-05-18T20:57:38.722Z"
   },
   {
    "duration": 14,
    "start_time": "2022-05-18T21:46:03.656Z"
   },
   {
    "duration": 6,
    "start_time": "2022-05-18T21:46:14.309Z"
   },
   {
    "duration": 6,
    "start_time": "2022-05-18T21:46:28.069Z"
   },
   {
    "duration": 55,
    "start_time": "2022-05-19T05:11:05.258Z"
   },
   {
    "duration": 2357,
    "start_time": "2022-05-19T05:11:10.666Z"
   },
   {
    "duration": 2762,
    "start_time": "2022-05-19T05:11:13.025Z"
   },
   {
    "duration": 36,
    "start_time": "2022-05-19T05:11:15.789Z"
   },
   {
    "duration": 160,
    "start_time": "2022-05-19T05:11:15.827Z"
   },
   {
    "duration": 136,
    "start_time": "2022-05-19T05:11:15.990Z"
   },
   {
    "duration": 127,
    "start_time": "2022-05-19T05:11:16.128Z"
   },
   {
    "duration": 164,
    "start_time": "2022-05-19T05:11:16.257Z"
   },
   {
    "duration": 58,
    "start_time": "2022-05-19T05:11:16.423Z"
   },
   {
    "duration": 237,
    "start_time": "2022-05-19T05:11:16.483Z"
   },
   {
    "duration": 108,
    "start_time": "2022-05-19T05:11:16.722Z"
   },
   {
    "duration": 37,
    "start_time": "2022-05-19T05:11:16.832Z"
   },
   {
    "duration": 29,
    "start_time": "2022-05-19T05:11:16.873Z"
   },
   {
    "duration": 33,
    "start_time": "2022-05-19T05:11:16.904Z"
   },
   {
    "duration": 44,
    "start_time": "2022-05-19T05:11:16.940Z"
   },
   {
    "duration": 41,
    "start_time": "2022-05-19T05:11:21.529Z"
   },
   {
    "duration": 4,
    "start_time": "2022-05-19T05:14:19.462Z"
   },
   {
    "duration": 748,
    "start_time": "2022-05-19T05:14:19.469Z"
   },
   {
    "duration": 27,
    "start_time": "2022-05-19T05:14:20.218Z"
   },
   {
    "duration": 152,
    "start_time": "2022-05-19T05:14:20.252Z"
   },
   {
    "duration": 144,
    "start_time": "2022-05-19T05:14:20.410Z"
   },
   {
    "duration": 100,
    "start_time": "2022-05-19T05:14:20.559Z"
   },
   {
    "duration": 115,
    "start_time": "2022-05-19T05:14:20.660Z"
   },
   {
    "duration": 37,
    "start_time": "2022-05-19T05:14:20.777Z"
   },
   {
    "duration": 240,
    "start_time": "2022-05-19T05:14:20.817Z"
   },
   {
    "duration": 120,
    "start_time": "2022-05-19T05:14:21.063Z"
   },
   {
    "duration": 28,
    "start_time": "2022-05-19T05:14:21.185Z"
   },
   {
    "duration": 41,
    "start_time": "2022-05-19T05:14:21.215Z"
   },
   {
    "duration": 6,
    "start_time": "2022-05-19T05:14:21.263Z"
   },
   {
    "duration": 24,
    "start_time": "2022-05-19T05:14:21.271Z"
   },
   {
    "duration": 69,
    "start_time": "2022-05-19T05:14:21.296Z"
   },
   {
    "duration": 164,
    "start_time": "2022-05-19T05:14:25.807Z"
   },
   {
    "duration": 59,
    "start_time": "2022-05-19T05:38:30.040Z"
   },
   {
    "duration": 111,
    "start_time": "2022-05-19T05:39:56.418Z"
   },
   {
    "duration": 685,
    "start_time": "2022-05-19T06:11:58.871Z"
   },
   {
    "duration": 4448,
    "start_time": "2022-05-19T06:15:17.321Z"
   },
   {
    "duration": 3085,
    "start_time": "2022-05-19T06:26:44.691Z"
   },
   {
    "duration": 3259,
    "start_time": "2022-05-19T06:27:35.614Z"
   },
   {
    "duration": 3209,
    "start_time": "2022-05-19T06:28:23.470Z"
   },
   {
    "duration": 1930,
    "start_time": "2022-05-22T06:40:02.910Z"
   },
   {
    "duration": 964,
    "start_time": "2022-05-22T06:40:04.843Z"
   },
   {
    "duration": 28,
    "start_time": "2022-05-22T06:40:05.809Z"
   },
   {
    "duration": 134,
    "start_time": "2022-05-22T06:40:05.840Z"
   },
   {
    "duration": 134,
    "start_time": "2022-05-22T06:40:05.977Z"
   },
   {
    "duration": 100,
    "start_time": "2022-05-22T06:40:06.124Z"
   },
   {
    "duration": 146,
    "start_time": "2022-05-22T06:40:06.225Z"
   },
   {
    "duration": 55,
    "start_time": "2022-05-22T06:40:06.372Z"
   },
   {
    "duration": 200,
    "start_time": "2022-05-22T06:40:06.429Z"
   },
   {
    "duration": 101,
    "start_time": "2022-05-22T06:40:06.631Z"
   },
   {
    "duration": 19,
    "start_time": "2022-05-22T06:40:06.734Z"
   },
   {
    "duration": 23,
    "start_time": "2022-05-22T06:40:06.754Z"
   },
   {
    "duration": 5,
    "start_time": "2022-05-22T06:40:06.778Z"
   },
   {
    "duration": 44,
    "start_time": "2022-05-22T06:40:06.785Z"
   },
   {
    "duration": 40,
    "start_time": "2022-05-22T06:40:06.830Z"
   },
   {
    "duration": 160,
    "start_time": "2022-05-22T06:40:06.871Z"
   },
   {
    "duration": 29,
    "start_time": "2022-05-22T06:40:07.033Z"
   },
   {
    "duration": 100,
    "start_time": "2022-05-22T06:40:07.063Z"
   },
   {
    "duration": 3612,
    "start_time": "2022-05-22T06:40:19.794Z"
   },
   {
    "duration": 2,
    "start_time": "2022-05-22T06:40:33.947Z"
   },
   {
    "duration": 4,
    "start_time": "2022-05-22T06:40:36.445Z"
   },
   {
    "duration": 5,
    "start_time": "2022-05-22T08:10:20.996Z"
   },
   {
    "duration": 3,
    "start_time": "2022-05-22T08:10:34.158Z"
   },
   {
    "duration": 4,
    "start_time": "2022-05-22T08:11:01.400Z"
   },
   {
    "duration": 4,
    "start_time": "2022-05-22T08:12:30.890Z"
   },
   {
    "duration": 417,
    "start_time": "2022-05-22T08:12:33.296Z"
   },
   {
    "duration": 4,
    "start_time": "2022-05-22T08:13:57.717Z"
   },
   {
    "duration": 43,
    "start_time": "2022-05-22T08:14:02.586Z"
   },
   {
    "duration": 91,
    "start_time": "2022-05-22T08:17:56.636Z"
   },
   {
    "duration": 19,
    "start_time": "2022-05-22T08:18:38.251Z"
   },
   {
    "duration": 118380,
    "start_time": "2022-05-22T08:19:12.237Z"
   },
   {
    "duration": 360860,
    "start_time": "2022-05-22T09:28:29.278Z"
   },
   {
    "duration": 11946,
    "start_time": "2022-05-22T09:56:04.975Z"
   },
   {
    "duration": 47,
    "start_time": "2022-05-22T10:13:48.667Z"
   },
   {
    "duration": 62071,
    "start_time": "2022-05-22T10:14:10.817Z"
   },
   {
    "duration": 61168,
    "start_time": "2022-05-22T10:16:39.215Z"
   },
   {
    "duration": 2879,
    "start_time": "2022-05-22T10:38:19.295Z"
   },
   {
    "duration": 3,
    "start_time": "2022-05-22T10:38:28.520Z"
   },
   {
    "duration": 3,
    "start_time": "2022-05-22T10:38:30.684Z"
   },
   {
    "duration": 5,
    "start_time": "2022-05-22T10:38:48.418Z"
   },
   {
    "duration": 57,
    "start_time": "2022-05-22T10:38:58.078Z"
   },
   {
    "duration": 115016,
    "start_time": "2022-05-22T10:40:01.390Z"
   },
   {
    "duration": 90718,
    "start_time": "2022-05-22T10:44:34.517Z"
   },
   {
    "duration": 10637,
    "start_time": "2022-05-22T10:52:09.607Z"
   },
   {
    "duration": 63666,
    "start_time": "2022-05-22T10:54:10.789Z"
   },
   {
    "duration": 639,
    "start_time": "2022-05-22T12:01:12.011Z"
   },
   {
    "duration": 483,
    "start_time": "2022-05-22T12:04:48.476Z"
   },
   {
    "duration": 488,
    "start_time": "2022-05-22T12:05:59.912Z"
   },
   {
    "duration": 88,
    "start_time": "2022-05-22T12:07:59.489Z"
   },
   {
    "duration": 50,
    "start_time": "2022-05-22T12:17:38.412Z"
   },
   {
    "duration": 13,
    "start_time": "2022-05-22T12:21:47.669Z"
   },
   {
    "duration": 45,
    "start_time": "2022-05-22T12:28:58.217Z"
   },
   {
    "duration": 9,
    "start_time": "2022-05-22T12:29:02.073Z"
   },
   {
    "duration": 1346,
    "start_time": "2022-05-22T12:39:31.098Z"
   },
   {
    "duration": 765,
    "start_time": "2022-05-22T12:39:32.445Z"
   },
   {
    "duration": 30,
    "start_time": "2022-05-22T12:39:33.212Z"
   },
   {
    "duration": 134,
    "start_time": "2022-05-22T12:39:33.244Z"
   },
   {
    "duration": 129,
    "start_time": "2022-05-22T12:39:33.380Z"
   },
   {
    "duration": 102,
    "start_time": "2022-05-22T12:39:33.510Z"
   },
   {
    "duration": 122,
    "start_time": "2022-05-22T12:39:33.614Z"
   },
   {
    "duration": 54,
    "start_time": "2022-05-22T12:39:33.738Z"
   },
   {
    "duration": 207,
    "start_time": "2022-05-22T12:39:33.794Z"
   },
   {
    "duration": 97,
    "start_time": "2022-05-22T12:39:34.004Z"
   },
   {
    "duration": 29,
    "start_time": "2022-05-22T12:39:34.103Z"
   },
   {
    "duration": 23,
    "start_time": "2022-05-22T12:39:34.133Z"
   },
   {
    "duration": 7,
    "start_time": "2022-05-22T12:39:34.158Z"
   },
   {
    "duration": 29,
    "start_time": "2022-05-22T12:39:34.167Z"
   },
   {
    "duration": 62,
    "start_time": "2022-05-22T12:39:34.198Z"
   },
   {
    "duration": 151,
    "start_time": "2022-05-22T12:39:34.262Z"
   },
   {
    "duration": 28,
    "start_time": "2022-05-22T12:39:34.415Z"
   },
   {
    "duration": 92,
    "start_time": "2022-05-22T12:39:34.445Z"
   },
   {
    "duration": 2923,
    "start_time": "2022-05-22T12:39:34.539Z"
   },
   {
    "duration": 4,
    "start_time": "2022-05-22T12:39:37.463Z"
   },
   {
    "duration": 8,
    "start_time": "2022-05-22T12:39:37.468Z"
   },
   {
    "duration": 7,
    "start_time": "2022-05-22T12:39:37.477Z"
   },
   {
    "duration": 143,
    "start_time": "2022-05-22T12:39:37.486Z"
   },
   {
    "duration": 113667,
    "start_time": "2022-05-22T12:39:37.631Z"
   },
   {
    "duration": 218836,
    "start_time": "2022-05-22T12:41:31.300Z"
   },
   {
    "duration": 10392,
    "start_time": "2022-05-22T12:45:10.224Z"
   },
   {
    "duration": 61384,
    "start_time": "2022-05-22T12:45:20.618Z"
   },
   {
    "duration": 41,
    "start_time": "2022-05-22T12:47:28.922Z"
   },
   {
    "duration": 9,
    "start_time": "2022-05-22T12:47:36.396Z"
   },
   {
    "duration": 65663,
    "start_time": "2022-05-22T12:57:40.198Z"
   },
   {
    "duration": 1399,
    "start_time": "2022-05-22T12:59:15.576Z"
   },
   {
    "duration": 5345,
    "start_time": "2022-05-22T13:05:04.786Z"
   },
   {
    "duration": 367,
    "start_time": "2022-05-22T13:05:18.660Z"
   },
   {
    "duration": 24741,
    "start_time": "2022-05-22T13:14:11.870Z"
   },
   {
    "duration": 92,
    "start_time": "2022-05-22T13:15:34.450Z"
   }
  ],
  "kernelspec": {
   "display_name": "Python 3 (ipykernel)",
   "language": "python",
   "name": "python3"
  },
  "language_info": {
   "codemirror_mode": {
    "name": "ipython",
    "version": 3
   },
   "file_extension": ".py",
   "mimetype": "text/x-python",
   "name": "python",
   "nbconvert_exporter": "python",
   "pygments_lexer": "ipython3",
   "version": "3.9.5"
  },
  "toc": {
   "base_numbering": 1,
   "nav_menu": {},
   "number_sections": true,
   "sideBar": true,
   "skip_h1_title": true,
   "title_cell": "Table of Contents",
   "title_sidebar": "Contents",
   "toc_cell": false,
   "toc_position": {},
   "toc_section_display": true,
   "toc_window_display": false
  }
 },
 "nbformat": 4,
 "nbformat_minor": 2
}
