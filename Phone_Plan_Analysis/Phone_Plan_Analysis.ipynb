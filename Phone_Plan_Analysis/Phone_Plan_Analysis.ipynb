{
 "cells": [
  {
   "cell_type": "markdown",
   "metadata": {},
   "source": [
    "# Comparing phone plans\n",
    "\n",
    "We work as analysts for the telecom operator Megaline. The company offers its clients two prepaid plans, Surf and Ultimate. The commercial department wants to know which of the plans brings in more revenue in order to adjust the advertising budget.\n",
    "\n",
    "We are going to carry out a preliminary analysis of the plans based on a relatively small client selection. We'll have the data on 500 Megaline clients: who the clients are, where they're from, which plan they use, and the number of calls they made and text messages they sent in 2018. Our job is to analyze the clients' behavior and determine which prepaid plan brings in more revenue."
   ]
  },
  {
   "cell_type": "markdown",
   "metadata": {},
   "source": [
    "**The purpose of the project:**\n",
    "\n",
    "To determine which prepaid plan brings in more revenue.\n",
    "\n",
    "Another request from the commercial department is to check if clients from NY-NJ area bring more, equal or less revenue than clients from other regions.\n"
   ]
  },
  {
   "cell_type": "markdown",
   "metadata": {},
   "source": [
    "## Initialization"
   ]
  },
  {
   "cell_type": "markdown",
   "metadata": {},
   "source": [
    "First we will load libraries we might need, and limit our data to 3 decimals for clarity and focus. "
   ]
  },
  {
   "cell_type": "code",
   "execution_count": 1,
   "metadata": {},
   "outputs": [],
   "source": [
    "# Loading all the libraries\n",
    "from scipy import stats as st\n",
    "import numpy as np\n",
    "import pandas as pd\n",
    "import matplotlib.pyplot as plt\n",
    "import math\n",
    "import warnings\n",
    "warnings.filterwarnings(\"ignore\")\n",
    "# pd.options.display.float_format = '{:.3f}'.format"
   ]
  },
  {
   "cell_type": "markdown",
   "metadata": {},
   "source": [
    "## Load data"
   ]
  },
  {
   "cell_type": "markdown",
   "metadata": {},
   "source": [
    "Now we will load the data files on the 500 Megaline clients:"
   ]
  },
  {
   "cell_type": "code",
   "execution_count": 2,
   "metadata": {},
   "outputs": [],
   "source": [
    "# Load the data files into different DataFrames\n",
    "plans = pd.read_csv('/datasets/megaline_plans.csv')\n",
    "users = pd.read_csv('/datasets/megaline_users.csv')\n",
    "calls = pd.read_csv('/datasets/megaline_calls.csv') \n",
    "messages = pd.read_csv('/datasets/megaline_messages.csv') \n",
    "internet = pd.read_csv('/datasets/megaline_internet.csv') "
   ]
  },
  {
   "cell_type": "markdown",
   "metadata": {},
   "source": [
    "## Prepare the data"
   ]
  },
  {
   "cell_type": "markdown",
   "metadata": {},
   "source": [
    "Next we will explore each one of the data tables, to get an initial understanding of the data. we will make necessary corrections to each table if necessary."
   ]
  },
  {
   "cell_type": "markdown",
   "metadata": {},
   "source": [
    "### Plans"
   ]
  },
  {
   "cell_type": "code",
   "execution_count": 3,
   "metadata": {
    "scrolled": true
   },
   "outputs": [
    {
     "name": "stdout",
     "output_type": "stream",
     "text": [
      "<class 'pandas.core.frame.DataFrame'>\n",
      "RangeIndex: 2 entries, 0 to 1\n",
      "Data columns (total 8 columns):\n",
      "messages_included        2 non-null int64\n",
      "mb_per_month_included    2 non-null int64\n",
      "minutes_included         2 non-null int64\n",
      "usd_monthly_pay          2 non-null int64\n",
      "usd_per_gb               2 non-null int64\n",
      "usd_per_message          2 non-null float64\n",
      "usd_per_minute           2 non-null float64\n",
      "plan_name                2 non-null object\n",
      "dtypes: float64(2), int64(5), object(1)\n",
      "memory usage: 256.0+ bytes\n"
     ]
    }
   ],
   "source": [
    "# Print the general/summary information about the plans' DataFrame\n",
    "plans.info()"
   ]
  },
  {
   "cell_type": "markdown",
   "metadata": {},
   "source": [
    "Above we can see this table has 2 rows - one for each plan, specifying it's conditions. Datatypes look ok and there are no missing vallues. Let's take a look at the data itself:"
   ]
  },
  {
   "cell_type": "code",
   "execution_count": 4,
   "metadata": {},
   "outputs": [
    {
     "data": {
      "text/html": [
       "<div>\n",
       "<style scoped>\n",
       "    .dataframe tbody tr th:only-of-type {\n",
       "        vertical-align: middle;\n",
       "    }\n",
       "\n",
       "    .dataframe tbody tr th {\n",
       "        vertical-align: top;\n",
       "    }\n",
       "\n",
       "    .dataframe thead th {\n",
       "        text-align: right;\n",
       "    }\n",
       "</style>\n",
       "<table border=\"1\" class=\"dataframe\">\n",
       "  <thead>\n",
       "    <tr style=\"text-align: right;\">\n",
       "      <th></th>\n",
       "      <th>messages_included</th>\n",
       "      <th>mb_per_month_included</th>\n",
       "      <th>minutes_included</th>\n",
       "      <th>usd_monthly_pay</th>\n",
       "      <th>usd_per_gb</th>\n",
       "      <th>usd_per_message</th>\n",
       "      <th>usd_per_minute</th>\n",
       "      <th>plan_name</th>\n",
       "    </tr>\n",
       "  </thead>\n",
       "  <tbody>\n",
       "    <tr>\n",
       "      <td>0</td>\n",
       "      <td>50</td>\n",
       "      <td>15360</td>\n",
       "      <td>500</td>\n",
       "      <td>20</td>\n",
       "      <td>10</td>\n",
       "      <td>0.03</td>\n",
       "      <td>0.03</td>\n",
       "      <td>surf</td>\n",
       "    </tr>\n",
       "    <tr>\n",
       "      <td>1</td>\n",
       "      <td>1000</td>\n",
       "      <td>30720</td>\n",
       "      <td>3000</td>\n",
       "      <td>70</td>\n",
       "      <td>7</td>\n",
       "      <td>0.01</td>\n",
       "      <td>0.01</td>\n",
       "      <td>ultimate</td>\n",
       "    </tr>\n",
       "  </tbody>\n",
       "</table>\n",
       "</div>"
      ],
      "text/plain": [
       "   messages_included  mb_per_month_included  minutes_included  \\\n",
       "0                 50                  15360               500   \n",
       "1               1000                  30720              3000   \n",
       "\n",
       "   usd_monthly_pay  usd_per_gb  usd_per_message  usd_per_minute plan_name  \n",
       "0               20          10             0.03            0.03      surf  \n",
       "1               70           7             0.01            0.01  ultimate  "
      ]
     },
     "execution_count": 4,
     "metadata": {},
     "output_type": "execute_result"
    }
   ],
   "source": [
    "# Print a sample of data (which is all the data) for plans\n",
    "plans.head()"
   ]
  },
  {
   "cell_type": "markdown",
   "metadata": {},
   "source": [
    "Plans conditions look clear. We will study it in detail below (see section 1.4). "
   ]
  },
  {
   "cell_type": "markdown",
   "metadata": {},
   "source": [
    "#### Fix data"
   ]
  },
  {
   "cell_type": "markdown",
   "metadata": {},
   "source": [
    "For now, no fixes seem needed."
   ]
  },
  {
   "cell_type": "markdown",
   "metadata": {},
   "source": [
    "#### Enrich data"
   ]
  },
  {
   "cell_type": "markdown",
   "metadata": {},
   "source": [
    "Since Megaline policy is rounding up MB to GB (monthly) and charging by GB, we will add to 'mb_per_month_included' also 'gb_per_month_included' (dividing by 1024):"
   ]
  },
  {
   "cell_type": "code",
   "execution_count": 5,
   "metadata": {},
   "outputs": [
    {
     "data": {
      "text/html": [
       "<div>\n",
       "<style scoped>\n",
       "    .dataframe tbody tr th:only-of-type {\n",
       "        vertical-align: middle;\n",
       "    }\n",
       "\n",
       "    .dataframe tbody tr th {\n",
       "        vertical-align: top;\n",
       "    }\n",
       "\n",
       "    .dataframe thead th {\n",
       "        text-align: right;\n",
       "    }\n",
       "</style>\n",
       "<table border=\"1\" class=\"dataframe\">\n",
       "  <thead>\n",
       "    <tr style=\"text-align: right;\">\n",
       "      <th></th>\n",
       "      <th>messages_included</th>\n",
       "      <th>mb_per_month_included</th>\n",
       "      <th>minutes_included</th>\n",
       "      <th>usd_monthly_pay</th>\n",
       "      <th>usd_per_gb</th>\n",
       "      <th>usd_per_message</th>\n",
       "      <th>usd_per_minute</th>\n",
       "      <th>plan_name</th>\n",
       "      <th>gb_per_month_included</th>\n",
       "    </tr>\n",
       "  </thead>\n",
       "  <tbody>\n",
       "    <tr>\n",
       "      <td>0</td>\n",
       "      <td>50</td>\n",
       "      <td>15360</td>\n",
       "      <td>500</td>\n",
       "      <td>20</td>\n",
       "      <td>10</td>\n",
       "      <td>0.03</td>\n",
       "      <td>0.03</td>\n",
       "      <td>surf</td>\n",
       "      <td>15.0</td>\n",
       "    </tr>\n",
       "    <tr>\n",
       "      <td>1</td>\n",
       "      <td>1000</td>\n",
       "      <td>30720</td>\n",
       "      <td>3000</td>\n",
       "      <td>70</td>\n",
       "      <td>7</td>\n",
       "      <td>0.01</td>\n",
       "      <td>0.01</td>\n",
       "      <td>ultimate</td>\n",
       "      <td>30.0</td>\n",
       "    </tr>\n",
       "  </tbody>\n",
       "</table>\n",
       "</div>"
      ],
      "text/plain": [
       "   messages_included  mb_per_month_included  minutes_included  \\\n",
       "0                 50                  15360               500   \n",
       "1               1000                  30720              3000   \n",
       "\n",
       "   usd_monthly_pay  usd_per_gb  usd_per_message  usd_per_minute plan_name  \\\n",
       "0               20          10             0.03            0.03      surf   \n",
       "1               70           7             0.01            0.01  ultimate   \n",
       "\n",
       "   gb_per_month_included  \n",
       "0                   15.0  \n",
       "1                   30.0  "
      ]
     },
     "execution_count": 5,
     "metadata": {},
     "output_type": "execute_result"
    }
   ],
   "source": [
    "# adding a column with the gb_included_per_month: \n",
    "plans['gb_per_month_included'] = plans['mb_per_month_included'] / 1024\n",
    "plans"
   ]
  },
  {
   "cell_type": "markdown",
   "metadata": {},
   "source": [
    "### Users"
   ]
  },
  {
   "cell_type": "code",
   "execution_count": 6,
   "metadata": {},
   "outputs": [
    {
     "name": "stdout",
     "output_type": "stream",
     "text": [
      "<class 'pandas.core.frame.DataFrame'>\n",
      "RangeIndex: 500 entries, 0 to 499\n",
      "Data columns (total 8 columns):\n",
      "user_id       500 non-null int64\n",
      "first_name    500 non-null object\n",
      "last_name     500 non-null object\n",
      "age           500 non-null int64\n",
      "city          500 non-null object\n",
      "reg_date      500 non-null object\n",
      "plan          500 non-null object\n",
      "churn_date    34 non-null object\n",
      "dtypes: int64(2), object(6)\n",
      "memory usage: 31.4+ KB\n"
     ]
    }
   ],
   "source": [
    "# Print the general/summary information about the users' DataFrame\n",
    "users.info()"
   ]
  },
  {
   "cell_type": "code",
   "execution_count": 7,
   "metadata": {},
   "outputs": [
    {
     "data": {
      "text/html": [
       "<div>\n",
       "<style scoped>\n",
       "    .dataframe tbody tr th:only-of-type {\n",
       "        vertical-align: middle;\n",
       "    }\n",
       "\n",
       "    .dataframe tbody tr th {\n",
       "        vertical-align: top;\n",
       "    }\n",
       "\n",
       "    .dataframe thead th {\n",
       "        text-align: right;\n",
       "    }\n",
       "</style>\n",
       "<table border=\"1\" class=\"dataframe\">\n",
       "  <thead>\n",
       "    <tr style=\"text-align: right;\">\n",
       "      <th></th>\n",
       "      <th>user_id</th>\n",
       "      <th>first_name</th>\n",
       "      <th>last_name</th>\n",
       "      <th>age</th>\n",
       "      <th>city</th>\n",
       "      <th>reg_date</th>\n",
       "      <th>plan</th>\n",
       "      <th>churn_date</th>\n",
       "    </tr>\n",
       "  </thead>\n",
       "  <tbody>\n",
       "    <tr>\n",
       "      <td>0</td>\n",
       "      <td>1000</td>\n",
       "      <td>Anamaria</td>\n",
       "      <td>Bauer</td>\n",
       "      <td>45</td>\n",
       "      <td>Atlanta-Sandy Springs-Roswell, GA MSA</td>\n",
       "      <td>2018-12-24</td>\n",
       "      <td>ultimate</td>\n",
       "      <td>NaN</td>\n",
       "    </tr>\n",
       "    <tr>\n",
       "      <td>1</td>\n",
       "      <td>1001</td>\n",
       "      <td>Mickey</td>\n",
       "      <td>Wilkerson</td>\n",
       "      <td>28</td>\n",
       "      <td>Seattle-Tacoma-Bellevue, WA MSA</td>\n",
       "      <td>2018-08-13</td>\n",
       "      <td>surf</td>\n",
       "      <td>NaN</td>\n",
       "    </tr>\n",
       "    <tr>\n",
       "      <td>2</td>\n",
       "      <td>1002</td>\n",
       "      <td>Carlee</td>\n",
       "      <td>Hoffman</td>\n",
       "      <td>36</td>\n",
       "      <td>Las Vegas-Henderson-Paradise, NV MSA</td>\n",
       "      <td>2018-10-21</td>\n",
       "      <td>surf</td>\n",
       "      <td>NaN</td>\n",
       "    </tr>\n",
       "    <tr>\n",
       "      <td>3</td>\n",
       "      <td>1003</td>\n",
       "      <td>Reynaldo</td>\n",
       "      <td>Jenkins</td>\n",
       "      <td>52</td>\n",
       "      <td>Tulsa, OK MSA</td>\n",
       "      <td>2018-01-28</td>\n",
       "      <td>surf</td>\n",
       "      <td>NaN</td>\n",
       "    </tr>\n",
       "    <tr>\n",
       "      <td>4</td>\n",
       "      <td>1004</td>\n",
       "      <td>Leonila</td>\n",
       "      <td>Thompson</td>\n",
       "      <td>40</td>\n",
       "      <td>Seattle-Tacoma-Bellevue, WA MSA</td>\n",
       "      <td>2018-05-23</td>\n",
       "      <td>surf</td>\n",
       "      <td>NaN</td>\n",
       "    </tr>\n",
       "  </tbody>\n",
       "</table>\n",
       "</div>"
      ],
      "text/plain": [
       "   user_id first_name  last_name  age                                   city  \\\n",
       "0     1000   Anamaria      Bauer   45  Atlanta-Sandy Springs-Roswell, GA MSA   \n",
       "1     1001     Mickey  Wilkerson   28        Seattle-Tacoma-Bellevue, WA MSA   \n",
       "2     1002     Carlee    Hoffman   36   Las Vegas-Henderson-Paradise, NV MSA   \n",
       "3     1003   Reynaldo    Jenkins   52                          Tulsa, OK MSA   \n",
       "4     1004    Leonila   Thompson   40        Seattle-Tacoma-Bellevue, WA MSA   \n",
       "\n",
       "     reg_date      plan churn_date  \n",
       "0  2018-12-24  ultimate        NaN  \n",
       "1  2018-08-13      surf        NaN  \n",
       "2  2018-10-21      surf        NaN  \n",
       "3  2018-01-28      surf        NaN  \n",
       "4  2018-05-23      surf        NaN  "
      ]
     },
     "execution_count": 7,
     "metadata": {},
     "output_type": "execute_result"
    }
   ],
   "source": [
    "# Print a sample of data for users\n",
    "users.head()"
   ]
  },
  {
   "cell_type": "markdown",
   "metadata": {},
   "source": [
    "We can see we have full data on all 500 clients, while churn date is relevan only for 34 of them, and the rest are still active clients at the end of 2018, when the data was taken. \n",
    "\n",
    "We will:\n",
    "1. Check for duplicates (and if there are - remove them)\n",
    "2. Change the data type of 'reg_date' and 'churn_date' into 'datetime'\n",
    "3. Check how many cients in the data are in each prepaid plan\n",
    "4. Add a column clasifying client if they are from NY-NJ area or not (following the request to check if there is a difference in revenue between this area and the other regions) "
   ]
  },
  {
   "cell_type": "markdown",
   "metadata": {},
   "source": [
    "#### Fix Data"
   ]
  },
  {
   "cell_type": "code",
   "execution_count": 8,
   "metadata": {},
   "outputs": [
    {
     "data": {
      "text/plain": [
       "0"
      ]
     },
     "execution_count": 8,
     "metadata": {},
     "output_type": "execute_result"
    }
   ],
   "source": [
    "# checking for duplicates: \n",
    "users.duplicated().sum()"
   ]
  },
  {
   "cell_type": "code",
   "execution_count": 9,
   "metadata": {},
   "outputs": [
    {
     "name": "stdout",
     "output_type": "stream",
     "text": [
      "<class 'pandas.core.frame.DataFrame'>\n",
      "RangeIndex: 500 entries, 0 to 499\n",
      "Data columns (total 8 columns):\n",
      "user_id       500 non-null int64\n",
      "first_name    500 non-null object\n",
      "last_name     500 non-null object\n",
      "age           500 non-null int64\n",
      "city          500 non-null object\n",
      "reg_date      500 non-null datetime64[ns]\n",
      "plan          500 non-null object\n",
      "churn_date    34 non-null datetime64[ns]\n",
      "dtypes: datetime64[ns](2), int64(2), object(4)\n",
      "memory usage: 31.4+ KB\n"
     ]
    }
   ],
   "source": [
    "# change the data type of 'reg_date' and 'churn_date' into 'datetime':\n",
    "users['reg_date'] = pd.to_datetime(users['reg_date'], format='%Y-%m-%d')\n",
    "users['churn_date'] = pd.to_datetime(users['churn_date'], format='%Y-%m-%d')\n",
    "users.info()"
   ]
  },
  {
   "cell_type": "code",
   "execution_count": 10,
   "metadata": {},
   "outputs": [
    {
     "data": {
      "text/plain": [
       "surf        339\n",
       "ultimate    161\n",
       "Name: plan, dtype: int64"
      ]
     },
     "execution_count": 10,
     "metadata": {},
     "output_type": "execute_result"
    }
   ],
   "source": [
    "users['plan'].value_counts()"
   ]
  },
  {
   "cell_type": "markdown",
   "metadata": {},
   "source": [
    "So our datatypes are ok now, and we see we have 339 clients on Surf and 161 clients on Ultimate. "
   ]
  },
  {
   "cell_type": "markdown",
   "metadata": {},
   "source": [
    "#### Enrich Data"
   ]
  },
  {
   "cell_type": "code",
   "execution_count": 11,
   "metadata": {},
   "outputs": [
    {
     "data": {
      "text/plain": [
       "14     New York-Newark-Jersey City, NY-NJ-PA MSA\n",
       "22     New York-Newark-Jersey City, NY-NJ-PA MSA\n",
       "24     New York-Newark-Jersey City, NY-NJ-PA MSA\n",
       "27     New York-Newark-Jersey City, NY-NJ-PA MSA\n",
       "31     New York-Newark-Jersey City, NY-NJ-PA MSA\n",
       "                         ...                    \n",
       "469    New York-Newark-Jersey City, NY-NJ-PA MSA\n",
       "482    New York-Newark-Jersey City, NY-NJ-PA MSA\n",
       "494    New York-Newark-Jersey City, NY-NJ-PA MSA\n",
       "495    New York-Newark-Jersey City, NY-NJ-PA MSA\n",
       "498    New York-Newark-Jersey City, NY-NJ-PA MSA\n",
       "Name: city, Length: 80, dtype: object"
      ]
     },
     "execution_count": 11,
     "metadata": {},
     "output_type": "execute_result"
    }
   ],
   "source": [
    "# searching for the way NY-NJ area is written:\n",
    "users['city'][users['city'].str.contains('NY-NJ')]"
   ]
  },
  {
   "cell_type": "code",
   "execution_count": 12,
   "metadata": {
    "scrolled": true
   },
   "outputs": [
    {
     "name": "stdout",
     "output_type": "stream",
     "text": [
      "<class 'pandas.core.frame.DataFrame'>\n",
      "RangeIndex: 500 entries, 0 to 499\n",
      "Data columns (total 9 columns):\n",
      "user_id       500 non-null int64\n",
      "first_name    500 non-null object\n",
      "last_name     500 non-null object\n",
      "age           500 non-null int64\n",
      "city          500 non-null object\n",
      "reg_date      500 non-null datetime64[ns]\n",
      "plan          500 non-null object\n",
      "churn_date    34 non-null datetime64[ns]\n",
      "NY_NJ         500 non-null bool\n",
      "dtypes: bool(1), datetime64[ns](2), int64(2), object(4)\n",
      "memory usage: 31.9+ KB\n"
     ]
    }
   ],
   "source": [
    "# creating a bool column for NY-NJ area: \n",
    "users['NY_NJ'] = users['city'].str.contains('NY-NJ')\n",
    "users.info()"
   ]
  },
  {
   "cell_type": "code",
   "execution_count": 13,
   "metadata": {},
   "outputs": [
    {
     "data": {
      "text/plain": [
       "False    420\n",
       "True      80\n",
       "Name: NY_NJ, dtype: int64"
      ]
     },
     "execution_count": 13,
     "metadata": {},
     "output_type": "execute_result"
    }
   ],
   "source": [
    "# checking how many NY-NJ users are in the dataset: \n",
    "users['NY_NJ'].value_counts()"
   ]
  },
  {
   "cell_type": "markdown",
   "metadata": {},
   "source": [
    "So we see we have 80 clients from NY-NJ area, and the rest 420 are from other regions. We will return to this point below, when we come to test statistical hypotheses "
   ]
  },
  {
   "cell_type": "markdown",
   "metadata": {},
   "source": [
    "### Calls"
   ]
  },
  {
   "cell_type": "code",
   "execution_count": 14,
   "metadata": {},
   "outputs": [
    {
     "name": "stdout",
     "output_type": "stream",
     "text": [
      "<class 'pandas.core.frame.DataFrame'>\n",
      "RangeIndex: 137735 entries, 0 to 137734\n",
      "Data columns (total 4 columns):\n",
      "id           137735 non-null object\n",
      "user_id      137735 non-null int64\n",
      "call_date    137735 non-null object\n",
      "duration     137735 non-null float64\n",
      "dtypes: float64(1), int64(1), object(2)\n",
      "memory usage: 4.2+ MB\n"
     ]
    }
   ],
   "source": [
    "# Print the general/summary information about the calls' DataFrame\n",
    "calls.info()"
   ]
  },
  {
   "cell_type": "code",
   "execution_count": 15,
   "metadata": {},
   "outputs": [
    {
     "data": {
      "text/html": [
       "<div>\n",
       "<style scoped>\n",
       "    .dataframe tbody tr th:only-of-type {\n",
       "        vertical-align: middle;\n",
       "    }\n",
       "\n",
       "    .dataframe tbody tr th {\n",
       "        vertical-align: top;\n",
       "    }\n",
       "\n",
       "    .dataframe thead th {\n",
       "        text-align: right;\n",
       "    }\n",
       "</style>\n",
       "<table border=\"1\" class=\"dataframe\">\n",
       "  <thead>\n",
       "    <tr style=\"text-align: right;\">\n",
       "      <th></th>\n",
       "      <th>id</th>\n",
       "      <th>user_id</th>\n",
       "      <th>call_date</th>\n",
       "      <th>duration</th>\n",
       "    </tr>\n",
       "  </thead>\n",
       "  <tbody>\n",
       "    <tr>\n",
       "      <td>0</td>\n",
       "      <td>1000_93</td>\n",
       "      <td>1000</td>\n",
       "      <td>2018-12-27</td>\n",
       "      <td>8.52</td>\n",
       "    </tr>\n",
       "    <tr>\n",
       "      <td>1</td>\n",
       "      <td>1000_145</td>\n",
       "      <td>1000</td>\n",
       "      <td>2018-12-27</td>\n",
       "      <td>13.66</td>\n",
       "    </tr>\n",
       "    <tr>\n",
       "      <td>2</td>\n",
       "      <td>1000_247</td>\n",
       "      <td>1000</td>\n",
       "      <td>2018-12-27</td>\n",
       "      <td>14.48</td>\n",
       "    </tr>\n",
       "    <tr>\n",
       "      <td>3</td>\n",
       "      <td>1000_309</td>\n",
       "      <td>1000</td>\n",
       "      <td>2018-12-28</td>\n",
       "      <td>5.76</td>\n",
       "    </tr>\n",
       "    <tr>\n",
       "      <td>4</td>\n",
       "      <td>1000_380</td>\n",
       "      <td>1000</td>\n",
       "      <td>2018-12-30</td>\n",
       "      <td>4.22</td>\n",
       "    </tr>\n",
       "  </tbody>\n",
       "</table>\n",
       "</div>"
      ],
      "text/plain": [
       "         id  user_id   call_date  duration\n",
       "0   1000_93     1000  2018-12-27      8.52\n",
       "1  1000_145     1000  2018-12-27     13.66\n",
       "2  1000_247     1000  2018-12-27     14.48\n",
       "3  1000_309     1000  2018-12-28      5.76\n",
       "4  1000_380     1000  2018-12-30      4.22"
      ]
     },
     "execution_count": 15,
     "metadata": {},
     "output_type": "execute_result"
    }
   ],
   "source": [
    "# Print a sample of data for calls\n",
    "calls.head()"
   ]
  },
  {
   "cell_type": "markdown",
   "metadata": {},
   "source": [
    "We can see we have full data on all 137,735 calls\n",
    "\n",
    "We will:\n",
    "1. Check for duplicates (and if there are - remove them)\n",
    "2. Change the data type of 'call_date' into 'datetime'\n",
    "3. round up the duration (following Megaline policy that each individual call is rounded up to the minute) \n",
    "4. Add a 'month' column (for easier analysis) "
   ]
  },
  {
   "cell_type": "markdown",
   "metadata": {},
   "source": [
    "#### Fix data"
   ]
  },
  {
   "cell_type": "code",
   "execution_count": 16,
   "metadata": {},
   "outputs": [
    {
     "data": {
      "text/plain": [
       "0"
      ]
     },
     "execution_count": 16,
     "metadata": {},
     "output_type": "execute_result"
    }
   ],
   "source": [
    "# checking for duplicates: \n",
    "calls.duplicated().sum()"
   ]
  },
  {
   "cell_type": "code",
   "execution_count": 17,
   "metadata": {
    "scrolled": true
   },
   "outputs": [
    {
     "name": "stdout",
     "output_type": "stream",
     "text": [
      "<class 'pandas.core.frame.DataFrame'>\n",
      "RangeIndex: 137735 entries, 0 to 137734\n",
      "Data columns (total 4 columns):\n",
      "id           137735 non-null object\n",
      "user_id      137735 non-null int64\n",
      "call_date    137735 non-null datetime64[ns]\n",
      "duration     137735 non-null float64\n",
      "dtypes: datetime64[ns](1), float64(1), int64(1), object(1)\n",
      "memory usage: 4.2+ MB\n"
     ]
    }
   ],
   "source": [
    "# change the data type of 'call_date' into 'datetime':\n",
    "calls['call_date'] = pd.to_datetime(calls['call_date'], format='%Y-%m-%d')\n",
    "calls.info()"
   ]
  },
  {
   "cell_type": "code",
   "execution_count": 18,
   "metadata": {},
   "outputs": [
    {
     "data": {
      "text/html": [
       "<div>\n",
       "<style scoped>\n",
       "    .dataframe tbody tr th:only-of-type {\n",
       "        vertical-align: middle;\n",
       "    }\n",
       "\n",
       "    .dataframe tbody tr th {\n",
       "        vertical-align: top;\n",
       "    }\n",
       "\n",
       "    .dataframe thead th {\n",
       "        text-align: right;\n",
       "    }\n",
       "</style>\n",
       "<table border=\"1\" class=\"dataframe\">\n",
       "  <thead>\n",
       "    <tr style=\"text-align: right;\">\n",
       "      <th></th>\n",
       "      <th>id</th>\n",
       "      <th>user_id</th>\n",
       "      <th>call_date</th>\n",
       "      <th>duration</th>\n",
       "    </tr>\n",
       "  </thead>\n",
       "  <tbody>\n",
       "    <tr>\n",
       "      <td>0</td>\n",
       "      <td>1000_93</td>\n",
       "      <td>1000</td>\n",
       "      <td>2018-12-27</td>\n",
       "      <td>9</td>\n",
       "    </tr>\n",
       "    <tr>\n",
       "      <td>1</td>\n",
       "      <td>1000_145</td>\n",
       "      <td>1000</td>\n",
       "      <td>2018-12-27</td>\n",
       "      <td>14</td>\n",
       "    </tr>\n",
       "    <tr>\n",
       "      <td>2</td>\n",
       "      <td>1000_247</td>\n",
       "      <td>1000</td>\n",
       "      <td>2018-12-27</td>\n",
       "      <td>15</td>\n",
       "    </tr>\n",
       "    <tr>\n",
       "      <td>3</td>\n",
       "      <td>1000_309</td>\n",
       "      <td>1000</td>\n",
       "      <td>2018-12-28</td>\n",
       "      <td>6</td>\n",
       "    </tr>\n",
       "    <tr>\n",
       "      <td>4</td>\n",
       "      <td>1000_380</td>\n",
       "      <td>1000</td>\n",
       "      <td>2018-12-30</td>\n",
       "      <td>5</td>\n",
       "    </tr>\n",
       "  </tbody>\n",
       "</table>\n",
       "</div>"
      ],
      "text/plain": [
       "         id  user_id  call_date  duration\n",
       "0   1000_93     1000 2018-12-27         9\n",
       "1  1000_145     1000 2018-12-27        14\n",
       "2  1000_247     1000 2018-12-27        15\n",
       "3  1000_309     1000 2018-12-28         6\n",
       "4  1000_380     1000 2018-12-30         5"
      ]
     },
     "execution_count": 18,
     "metadata": {},
     "output_type": "execute_result"
    }
   ],
   "source": [
    "# round up the duration (following Megaline policy) and check it worked: \n",
    "calls['duration'] = np.ceil(calls['duration']).astype('int')\n",
    "calls.head()"
   ]
  },
  {
   "cell_type": "markdown",
   "metadata": {},
   "source": [
    "Now datatypes are ok, and the duration is according to the way Megaline calculates it."
   ]
  },
  {
   "cell_type": "markdown",
   "metadata": {},
   "source": [
    "#### Enrich data"
   ]
  },
  {
   "cell_type": "code",
   "execution_count": 19,
   "metadata": {},
   "outputs": [
    {
     "data": {
      "text/html": [
       "<div>\n",
       "<style scoped>\n",
       "    .dataframe tbody tr th:only-of-type {\n",
       "        vertical-align: middle;\n",
       "    }\n",
       "\n",
       "    .dataframe tbody tr th {\n",
       "        vertical-align: top;\n",
       "    }\n",
       "\n",
       "    .dataframe thead th {\n",
       "        text-align: right;\n",
       "    }\n",
       "</style>\n",
       "<table border=\"1\" class=\"dataframe\">\n",
       "  <thead>\n",
       "    <tr style=\"text-align: right;\">\n",
       "      <th></th>\n",
       "      <th>id</th>\n",
       "      <th>user_id</th>\n",
       "      <th>call_date</th>\n",
       "      <th>duration</th>\n",
       "      <th>month</th>\n",
       "    </tr>\n",
       "  </thead>\n",
       "  <tbody>\n",
       "    <tr>\n",
       "      <td>0</td>\n",
       "      <td>1000_93</td>\n",
       "      <td>1000</td>\n",
       "      <td>2018-12-27</td>\n",
       "      <td>9</td>\n",
       "      <td>12</td>\n",
       "    </tr>\n",
       "    <tr>\n",
       "      <td>1</td>\n",
       "      <td>1000_145</td>\n",
       "      <td>1000</td>\n",
       "      <td>2018-12-27</td>\n",
       "      <td>14</td>\n",
       "      <td>12</td>\n",
       "    </tr>\n",
       "    <tr>\n",
       "      <td>2</td>\n",
       "      <td>1000_247</td>\n",
       "      <td>1000</td>\n",
       "      <td>2018-12-27</td>\n",
       "      <td>15</td>\n",
       "      <td>12</td>\n",
       "    </tr>\n",
       "    <tr>\n",
       "      <td>3</td>\n",
       "      <td>1000_309</td>\n",
       "      <td>1000</td>\n",
       "      <td>2018-12-28</td>\n",
       "      <td>6</td>\n",
       "      <td>12</td>\n",
       "    </tr>\n",
       "    <tr>\n",
       "      <td>4</td>\n",
       "      <td>1000_380</td>\n",
       "      <td>1000</td>\n",
       "      <td>2018-12-30</td>\n",
       "      <td>5</td>\n",
       "      <td>12</td>\n",
       "    </tr>\n",
       "  </tbody>\n",
       "</table>\n",
       "</div>"
      ],
      "text/plain": [
       "         id  user_id  call_date  duration  month\n",
       "0   1000_93     1000 2018-12-27         9     12\n",
       "1  1000_145     1000 2018-12-27        14     12\n",
       "2  1000_247     1000 2018-12-27        15     12\n",
       "3  1000_309     1000 2018-12-28         6     12\n",
       "4  1000_380     1000 2018-12-30         5     12"
      ]
     },
     "execution_count": 19,
     "metadata": {},
     "output_type": "execute_result"
    }
   ],
   "source": [
    "# add a 'month' column and check it worked:\n",
    "calls['month'] = calls['call_date'].dt.month\n",
    "calls.head()"
   ]
  },
  {
   "cell_type": "markdown",
   "metadata": {},
   "source": [
    "Now we have the month of each call in a separate easy-to-use column. "
   ]
  },
  {
   "cell_type": "markdown",
   "metadata": {},
   "source": [
    "### Messages"
   ]
  },
  {
   "cell_type": "code",
   "execution_count": 20,
   "metadata": {},
   "outputs": [
    {
     "name": "stdout",
     "output_type": "stream",
     "text": [
      "<class 'pandas.core.frame.DataFrame'>\n",
      "RangeIndex: 76051 entries, 0 to 76050\n",
      "Data columns (total 3 columns):\n",
      "id              76051 non-null object\n",
      "user_id         76051 non-null int64\n",
      "message_date    76051 non-null object\n",
      "dtypes: int64(1), object(2)\n",
      "memory usage: 1.7+ MB\n"
     ]
    }
   ],
   "source": [
    "# Print the general/summary information about the messages' DataFrame\n",
    "messages.info()"
   ]
  },
  {
   "cell_type": "code",
   "execution_count": 21,
   "metadata": {},
   "outputs": [
    {
     "data": {
      "text/html": [
       "<div>\n",
       "<style scoped>\n",
       "    .dataframe tbody tr th:only-of-type {\n",
       "        vertical-align: middle;\n",
       "    }\n",
       "\n",
       "    .dataframe tbody tr th {\n",
       "        vertical-align: top;\n",
       "    }\n",
       "\n",
       "    .dataframe thead th {\n",
       "        text-align: right;\n",
       "    }\n",
       "</style>\n",
       "<table border=\"1\" class=\"dataframe\">\n",
       "  <thead>\n",
       "    <tr style=\"text-align: right;\">\n",
       "      <th></th>\n",
       "      <th>id</th>\n",
       "      <th>user_id</th>\n",
       "      <th>message_date</th>\n",
       "    </tr>\n",
       "  </thead>\n",
       "  <tbody>\n",
       "    <tr>\n",
       "      <td>0</td>\n",
       "      <td>1000_125</td>\n",
       "      <td>1000</td>\n",
       "      <td>2018-12-27</td>\n",
       "    </tr>\n",
       "    <tr>\n",
       "      <td>1</td>\n",
       "      <td>1000_160</td>\n",
       "      <td>1000</td>\n",
       "      <td>2018-12-31</td>\n",
       "    </tr>\n",
       "    <tr>\n",
       "      <td>2</td>\n",
       "      <td>1000_223</td>\n",
       "      <td>1000</td>\n",
       "      <td>2018-12-31</td>\n",
       "    </tr>\n",
       "    <tr>\n",
       "      <td>3</td>\n",
       "      <td>1000_251</td>\n",
       "      <td>1000</td>\n",
       "      <td>2018-12-27</td>\n",
       "    </tr>\n",
       "    <tr>\n",
       "      <td>4</td>\n",
       "      <td>1000_255</td>\n",
       "      <td>1000</td>\n",
       "      <td>2018-12-26</td>\n",
       "    </tr>\n",
       "  </tbody>\n",
       "</table>\n",
       "</div>"
      ],
      "text/plain": [
       "         id  user_id message_date\n",
       "0  1000_125     1000   2018-12-27\n",
       "1  1000_160     1000   2018-12-31\n",
       "2  1000_223     1000   2018-12-31\n",
       "3  1000_251     1000   2018-12-27\n",
       "4  1000_255     1000   2018-12-26"
      ]
     },
     "execution_count": 21,
     "metadata": {},
     "output_type": "execute_result"
    }
   ],
   "source": [
    "# Print a sample of data for messages\n",
    "messages.head()"
   ]
  },
  {
   "cell_type": "markdown",
   "metadata": {},
   "source": [
    "We can see we have full data on all 76,051 messages.\n",
    "\n",
    "We will:\n",
    "1. Check for duplicates (and if there are - remove them)\n",
    "2. Change the data type of 'message_date' into 'datetime'\n",
    "3. Add a 'month' column (for easier analysis)\n",
    "4. Rename 'id' column into 'message_id' (for clarity for later data aggregation, when individual messages will be counted)"
   ]
  },
  {
   "cell_type": "markdown",
   "metadata": {},
   "source": [
    "#### Fix data"
   ]
  },
  {
   "cell_type": "code",
   "execution_count": 22,
   "metadata": {},
   "outputs": [
    {
     "data": {
      "text/plain": [
       "0"
      ]
     },
     "execution_count": 22,
     "metadata": {},
     "output_type": "execute_result"
    }
   ],
   "source": [
    "# checking for duplicates: \n",
    "messages.duplicated().sum()"
   ]
  },
  {
   "cell_type": "code",
   "execution_count": 23,
   "metadata": {
    "scrolled": true
   },
   "outputs": [
    {
     "name": "stdout",
     "output_type": "stream",
     "text": [
      "<class 'pandas.core.frame.DataFrame'>\n",
      "RangeIndex: 76051 entries, 0 to 76050\n",
      "Data columns (total 3 columns):\n",
      "id              76051 non-null object\n",
      "user_id         76051 non-null int64\n",
      "message_date    76051 non-null datetime64[ns]\n",
      "dtypes: datetime64[ns](1), int64(1), object(1)\n",
      "memory usage: 1.7+ MB\n"
     ]
    }
   ],
   "source": [
    "# change the data type of 'message_date' into 'datetime':\n",
    "messages['message_date'] = pd.to_datetime(messages['message_date'], format='%Y-%m-%d')\n",
    "messages.info()"
   ]
  },
  {
   "cell_type": "markdown",
   "metadata": {},
   "source": [
    "Now datatypes are ok."
   ]
  },
  {
   "cell_type": "markdown",
   "metadata": {},
   "source": [
    "#### Enrich data"
   ]
  },
  {
   "cell_type": "code",
   "execution_count": 24,
   "metadata": {
    "scrolled": true
   },
   "outputs": [
    {
     "data": {
      "text/html": [
       "<div>\n",
       "<style scoped>\n",
       "    .dataframe tbody tr th:only-of-type {\n",
       "        vertical-align: middle;\n",
       "    }\n",
       "\n",
       "    .dataframe tbody tr th {\n",
       "        vertical-align: top;\n",
       "    }\n",
       "\n",
       "    .dataframe thead th {\n",
       "        text-align: right;\n",
       "    }\n",
       "</style>\n",
       "<table border=\"1\" class=\"dataframe\">\n",
       "  <thead>\n",
       "    <tr style=\"text-align: right;\">\n",
       "      <th></th>\n",
       "      <th>id</th>\n",
       "      <th>user_id</th>\n",
       "      <th>message_date</th>\n",
       "      <th>month</th>\n",
       "    </tr>\n",
       "  </thead>\n",
       "  <tbody>\n",
       "    <tr>\n",
       "      <td>0</td>\n",
       "      <td>1000_125</td>\n",
       "      <td>1000</td>\n",
       "      <td>2018-12-27</td>\n",
       "      <td>12</td>\n",
       "    </tr>\n",
       "    <tr>\n",
       "      <td>1</td>\n",
       "      <td>1000_160</td>\n",
       "      <td>1000</td>\n",
       "      <td>2018-12-31</td>\n",
       "      <td>12</td>\n",
       "    </tr>\n",
       "    <tr>\n",
       "      <td>2</td>\n",
       "      <td>1000_223</td>\n",
       "      <td>1000</td>\n",
       "      <td>2018-12-31</td>\n",
       "      <td>12</td>\n",
       "    </tr>\n",
       "    <tr>\n",
       "      <td>3</td>\n",
       "      <td>1000_251</td>\n",
       "      <td>1000</td>\n",
       "      <td>2018-12-27</td>\n",
       "      <td>12</td>\n",
       "    </tr>\n",
       "    <tr>\n",
       "      <td>4</td>\n",
       "      <td>1000_255</td>\n",
       "      <td>1000</td>\n",
       "      <td>2018-12-26</td>\n",
       "      <td>12</td>\n",
       "    </tr>\n",
       "  </tbody>\n",
       "</table>\n",
       "</div>"
      ],
      "text/plain": [
       "         id  user_id message_date  month\n",
       "0  1000_125     1000   2018-12-27     12\n",
       "1  1000_160     1000   2018-12-31     12\n",
       "2  1000_223     1000   2018-12-31     12\n",
       "3  1000_251     1000   2018-12-27     12\n",
       "4  1000_255     1000   2018-12-26     12"
      ]
     },
     "execution_count": 24,
     "metadata": {},
     "output_type": "execute_result"
    }
   ],
   "source": [
    "# add a 'month' column:\n",
    "messages['month'] = messages['message_date'].dt.month\n",
    "messages.head()"
   ]
  },
  {
   "cell_type": "code",
   "execution_count": 25,
   "metadata": {},
   "outputs": [
    {
     "data": {
      "text/html": [
       "<div>\n",
       "<style scoped>\n",
       "    .dataframe tbody tr th:only-of-type {\n",
       "        vertical-align: middle;\n",
       "    }\n",
       "\n",
       "    .dataframe tbody tr th {\n",
       "        vertical-align: top;\n",
       "    }\n",
       "\n",
       "    .dataframe thead th {\n",
       "        text-align: right;\n",
       "    }\n",
       "</style>\n",
       "<table border=\"1\" class=\"dataframe\">\n",
       "  <thead>\n",
       "    <tr style=\"text-align: right;\">\n",
       "      <th></th>\n",
       "      <th>message_id</th>\n",
       "      <th>user_id</th>\n",
       "      <th>message_date</th>\n",
       "      <th>month</th>\n",
       "    </tr>\n",
       "  </thead>\n",
       "  <tbody>\n",
       "    <tr>\n",
       "      <td>0</td>\n",
       "      <td>1000_125</td>\n",
       "      <td>1000</td>\n",
       "      <td>2018-12-27</td>\n",
       "      <td>12</td>\n",
       "    </tr>\n",
       "    <tr>\n",
       "      <td>1</td>\n",
       "      <td>1000_160</td>\n",
       "      <td>1000</td>\n",
       "      <td>2018-12-31</td>\n",
       "      <td>12</td>\n",
       "    </tr>\n",
       "    <tr>\n",
       "      <td>2</td>\n",
       "      <td>1000_223</td>\n",
       "      <td>1000</td>\n",
       "      <td>2018-12-31</td>\n",
       "      <td>12</td>\n",
       "    </tr>\n",
       "    <tr>\n",
       "      <td>3</td>\n",
       "      <td>1000_251</td>\n",
       "      <td>1000</td>\n",
       "      <td>2018-12-27</td>\n",
       "      <td>12</td>\n",
       "    </tr>\n",
       "    <tr>\n",
       "      <td>4</td>\n",
       "      <td>1000_255</td>\n",
       "      <td>1000</td>\n",
       "      <td>2018-12-26</td>\n",
       "      <td>12</td>\n",
       "    </tr>\n",
       "  </tbody>\n",
       "</table>\n",
       "</div>"
      ],
      "text/plain": [
       "  message_id  user_id message_date  month\n",
       "0   1000_125     1000   2018-12-27     12\n",
       "1   1000_160     1000   2018-12-31     12\n",
       "2   1000_223     1000   2018-12-31     12\n",
       "3   1000_251     1000   2018-12-27     12\n",
       "4   1000_255     1000   2018-12-26     12"
      ]
     },
     "execution_count": 25,
     "metadata": {},
     "output_type": "execute_result"
    }
   ],
   "source": [
    "# change 'id' column name into 'message_id' (for later data aggregation):\n",
    "messages.rename(columns={'id': 'message_id'}, inplace=True)\n",
    "messages.head()"
   ]
  },
  {
   "cell_type": "markdown",
   "metadata": {},
   "source": [
    "Now we have the month of each message in a separate easy-to-use column, and all columns names are ready for analysis.  "
   ]
  },
  {
   "cell_type": "markdown",
   "metadata": {},
   "source": [
    "### Internet"
   ]
  },
  {
   "cell_type": "code",
   "execution_count": 26,
   "metadata": {},
   "outputs": [
    {
     "name": "stdout",
     "output_type": "stream",
     "text": [
      "<class 'pandas.core.frame.DataFrame'>\n",
      "RangeIndex: 104825 entries, 0 to 104824\n",
      "Data columns (total 4 columns):\n",
      "id              104825 non-null object\n",
      "user_id         104825 non-null int64\n",
      "session_date    104825 non-null object\n",
      "mb_used         104825 non-null float64\n",
      "dtypes: float64(1), int64(1), object(2)\n",
      "memory usage: 3.2+ MB\n"
     ]
    }
   ],
   "source": [
    "# Print the general/summary information about the internet DataFrame\n",
    "internet.info()"
   ]
  },
  {
   "cell_type": "code",
   "execution_count": 27,
   "metadata": {},
   "outputs": [
    {
     "data": {
      "text/html": [
       "<div>\n",
       "<style scoped>\n",
       "    .dataframe tbody tr th:only-of-type {\n",
       "        vertical-align: middle;\n",
       "    }\n",
       "\n",
       "    .dataframe tbody tr th {\n",
       "        vertical-align: top;\n",
       "    }\n",
       "\n",
       "    .dataframe thead th {\n",
       "        text-align: right;\n",
       "    }\n",
       "</style>\n",
       "<table border=\"1\" class=\"dataframe\">\n",
       "  <thead>\n",
       "    <tr style=\"text-align: right;\">\n",
       "      <th></th>\n",
       "      <th>id</th>\n",
       "      <th>user_id</th>\n",
       "      <th>session_date</th>\n",
       "      <th>mb_used</th>\n",
       "    </tr>\n",
       "  </thead>\n",
       "  <tbody>\n",
       "    <tr>\n",
       "      <td>0</td>\n",
       "      <td>1000_13</td>\n",
       "      <td>1000</td>\n",
       "      <td>2018-12-29</td>\n",
       "      <td>89.86</td>\n",
       "    </tr>\n",
       "    <tr>\n",
       "      <td>1</td>\n",
       "      <td>1000_204</td>\n",
       "      <td>1000</td>\n",
       "      <td>2018-12-31</td>\n",
       "      <td>0.00</td>\n",
       "    </tr>\n",
       "    <tr>\n",
       "      <td>2</td>\n",
       "      <td>1000_379</td>\n",
       "      <td>1000</td>\n",
       "      <td>2018-12-28</td>\n",
       "      <td>660.40</td>\n",
       "    </tr>\n",
       "    <tr>\n",
       "      <td>3</td>\n",
       "      <td>1000_413</td>\n",
       "      <td>1000</td>\n",
       "      <td>2018-12-26</td>\n",
       "      <td>270.99</td>\n",
       "    </tr>\n",
       "    <tr>\n",
       "      <td>4</td>\n",
       "      <td>1000_442</td>\n",
       "      <td>1000</td>\n",
       "      <td>2018-12-27</td>\n",
       "      <td>880.22</td>\n",
       "    </tr>\n",
       "  </tbody>\n",
       "</table>\n",
       "</div>"
      ],
      "text/plain": [
       "         id  user_id session_date  mb_used\n",
       "0   1000_13     1000   2018-12-29    89.86\n",
       "1  1000_204     1000   2018-12-31     0.00\n",
       "2  1000_379     1000   2018-12-28   660.40\n",
       "3  1000_413     1000   2018-12-26   270.99\n",
       "4  1000_442     1000   2018-12-27   880.22"
      ]
     },
     "execution_count": 27,
     "metadata": {},
     "output_type": "execute_result"
    }
   ],
   "source": [
    "# Print a sample of data for the internet traffic\n",
    "internet.head()"
   ]
  },
  {
   "cell_type": "markdown",
   "metadata": {},
   "source": [
    "We can see we have full data on all 104,825 internet sessions.\n",
    "\n",
    "We will:\n",
    "1. Check for duplicates (and if there are - remove them)\n",
    "2. Change the data type of 'session_date' into 'datetime'\n",
    "3. Add a 'month' column (for easier analysis)\n",
    "4. Check the zero value we see in the mb_used column \n",
    "\n",
    "Unlike with call duration, here we will not round up yet, following Megaline policy: \n",
    "\"For web traffic, individual web sessions are not rounded up. Instead, the total for the month is rounded up. If someone uses 1025 megabytes this month, they will be charged for 2 gigabytes.\" So we will return to this issue soon, when we aggregate data per user. "
   ]
  },
  {
   "cell_type": "markdown",
   "metadata": {},
   "source": [
    "#### Fix data"
   ]
  },
  {
   "cell_type": "code",
   "execution_count": 28,
   "metadata": {},
   "outputs": [
    {
     "data": {
      "text/plain": [
       "0"
      ]
     },
     "execution_count": 28,
     "metadata": {},
     "output_type": "execute_result"
    }
   ],
   "source": [
    "# checking for duplicates: \n",
    "internet.duplicated().sum()"
   ]
  },
  {
   "cell_type": "code",
   "execution_count": 29,
   "metadata": {
    "scrolled": true
   },
   "outputs": [
    {
     "name": "stdout",
     "output_type": "stream",
     "text": [
      "<class 'pandas.core.frame.DataFrame'>\n",
      "RangeIndex: 104825 entries, 0 to 104824\n",
      "Data columns (total 4 columns):\n",
      "id              104825 non-null object\n",
      "user_id         104825 non-null int64\n",
      "session_date    104825 non-null datetime64[ns]\n",
      "mb_used         104825 non-null float64\n",
      "dtypes: datetime64[ns](1), float64(1), int64(1), object(1)\n",
      "memory usage: 3.2+ MB\n"
     ]
    }
   ],
   "source": [
    "# change the data type of 'session_date' into 'datetime':\n",
    "internet['session_date'] = pd.to_datetime(internet['session_date'], format='%Y-%m-%d')\n",
    "internet.info()"
   ]
  },
  {
   "cell_type": "markdown",
   "metadata": {},
   "source": [
    "Now datatypes are ok."
   ]
  },
  {
   "cell_type": "markdown",
   "metadata": {},
   "source": [
    "#### Enrich data"
   ]
  },
  {
   "cell_type": "code",
   "execution_count": 30,
   "metadata": {
    "scrolled": true
   },
   "outputs": [
    {
     "data": {
      "text/html": [
       "<div>\n",
       "<style scoped>\n",
       "    .dataframe tbody tr th:only-of-type {\n",
       "        vertical-align: middle;\n",
       "    }\n",
       "\n",
       "    .dataframe tbody tr th {\n",
       "        vertical-align: top;\n",
       "    }\n",
       "\n",
       "    .dataframe thead th {\n",
       "        text-align: right;\n",
       "    }\n",
       "</style>\n",
       "<table border=\"1\" class=\"dataframe\">\n",
       "  <thead>\n",
       "    <tr style=\"text-align: right;\">\n",
       "      <th></th>\n",
       "      <th>id</th>\n",
       "      <th>user_id</th>\n",
       "      <th>session_date</th>\n",
       "      <th>mb_used</th>\n",
       "      <th>month</th>\n",
       "    </tr>\n",
       "  </thead>\n",
       "  <tbody>\n",
       "    <tr>\n",
       "      <td>0</td>\n",
       "      <td>1000_13</td>\n",
       "      <td>1000</td>\n",
       "      <td>2018-12-29</td>\n",
       "      <td>89.86</td>\n",
       "      <td>12</td>\n",
       "    </tr>\n",
       "    <tr>\n",
       "      <td>1</td>\n",
       "      <td>1000_204</td>\n",
       "      <td>1000</td>\n",
       "      <td>2018-12-31</td>\n",
       "      <td>0.00</td>\n",
       "      <td>12</td>\n",
       "    </tr>\n",
       "    <tr>\n",
       "      <td>2</td>\n",
       "      <td>1000_379</td>\n",
       "      <td>1000</td>\n",
       "      <td>2018-12-28</td>\n",
       "      <td>660.40</td>\n",
       "      <td>12</td>\n",
       "    </tr>\n",
       "    <tr>\n",
       "      <td>3</td>\n",
       "      <td>1000_413</td>\n",
       "      <td>1000</td>\n",
       "      <td>2018-12-26</td>\n",
       "      <td>270.99</td>\n",
       "      <td>12</td>\n",
       "    </tr>\n",
       "    <tr>\n",
       "      <td>4</td>\n",
       "      <td>1000_442</td>\n",
       "      <td>1000</td>\n",
       "      <td>2018-12-27</td>\n",
       "      <td>880.22</td>\n",
       "      <td>12</td>\n",
       "    </tr>\n",
       "  </tbody>\n",
       "</table>\n",
       "</div>"
      ],
      "text/plain": [
       "         id  user_id session_date  mb_used  month\n",
       "0   1000_13     1000   2018-12-29    89.86     12\n",
       "1  1000_204     1000   2018-12-31     0.00     12\n",
       "2  1000_379     1000   2018-12-28   660.40     12\n",
       "3  1000_413     1000   2018-12-26   270.99     12\n",
       "4  1000_442     1000   2018-12-27   880.22     12"
      ]
     },
     "execution_count": 30,
     "metadata": {},
     "output_type": "execute_result"
    }
   ],
   "source": [
    "# add a 'month' column:\n",
    "internet['month'] = internet['session_date'].dt.month\n",
    "internet.head()"
   ]
  },
  {
   "cell_type": "markdown",
   "metadata": {},
   "source": [
    "Now we have the month of each internet session in a separate easy-to-use column.\n",
    "\n",
    "#### Check zero value(s)\n",
    "\n",
    "Since we see a zero value in the mb_used column, let's first check if there are more such cases:"
   ]
  },
  {
   "cell_type": "code",
   "execution_count": 31,
   "metadata": {
    "scrolled": false
   },
   "outputs": [
    {
     "data": {
      "text/html": [
       "<div>\n",
       "<style scoped>\n",
       "    .dataframe tbody tr th:only-of-type {\n",
       "        vertical-align: middle;\n",
       "    }\n",
       "\n",
       "    .dataframe tbody tr th {\n",
       "        vertical-align: top;\n",
       "    }\n",
       "\n",
       "    .dataframe thead th {\n",
       "        text-align: right;\n",
       "    }\n",
       "</style>\n",
       "<table border=\"1\" class=\"dataframe\">\n",
       "  <thead>\n",
       "    <tr style=\"text-align: right;\">\n",
       "      <th></th>\n",
       "      <th>id</th>\n",
       "      <th>user_id</th>\n",
       "      <th>session_date</th>\n",
       "      <th>mb_used</th>\n",
       "      <th>month</th>\n",
       "    </tr>\n",
       "  </thead>\n",
       "  <tbody>\n",
       "    <tr>\n",
       "      <td>1</td>\n",
       "      <td>1000_204</td>\n",
       "      <td>1000</td>\n",
       "      <td>2018-12-31</td>\n",
       "      <td>0.0</td>\n",
       "      <td>12</td>\n",
       "    </tr>\n",
       "    <tr>\n",
       "      <td>14</td>\n",
       "      <td>1001_26</td>\n",
       "      <td>1001</td>\n",
       "      <td>2018-09-17</td>\n",
       "      <td>0.0</td>\n",
       "      <td>9</td>\n",
       "    </tr>\n",
       "    <tr>\n",
       "      <td>16</td>\n",
       "      <td>1001_28</td>\n",
       "      <td>1001</td>\n",
       "      <td>2018-10-17</td>\n",
       "      <td>0.0</td>\n",
       "      <td>10</td>\n",
       "    </tr>\n",
       "    <tr>\n",
       "      <td>34</td>\n",
       "      <td>1001_54</td>\n",
       "      <td>1001</td>\n",
       "      <td>2018-09-02</td>\n",
       "      <td>0.0</td>\n",
       "      <td>9</td>\n",
       "    </tr>\n",
       "    <tr>\n",
       "      <td>43</td>\n",
       "      <td>1001_77</td>\n",
       "      <td>1001</td>\n",
       "      <td>2018-10-31</td>\n",
       "      <td>0.0</td>\n",
       "      <td>10</td>\n",
       "    </tr>\n",
       "    <tr>\n",
       "      <td>...</td>\n",
       "      <td>...</td>\n",
       "      <td>...</td>\n",
       "      <td>...</td>\n",
       "      <td>...</td>\n",
       "      <td>...</td>\n",
       "    </tr>\n",
       "    <tr>\n",
       "      <td>104797</td>\n",
       "      <td>1499_192</td>\n",
       "      <td>1499</td>\n",
       "      <td>2018-09-19</td>\n",
       "      <td>0.0</td>\n",
       "      <td>9</td>\n",
       "    </tr>\n",
       "    <tr>\n",
       "      <td>104804</td>\n",
       "      <td>1499_199</td>\n",
       "      <td>1499</td>\n",
       "      <td>2018-12-09</td>\n",
       "      <td>0.0</td>\n",
       "      <td>12</td>\n",
       "    </tr>\n",
       "    <tr>\n",
       "      <td>104816</td>\n",
       "      <td>1499_211</td>\n",
       "      <td>1499</td>\n",
       "      <td>2018-09-26</td>\n",
       "      <td>0.0</td>\n",
       "      <td>9</td>\n",
       "    </tr>\n",
       "    <tr>\n",
       "      <td>104817</td>\n",
       "      <td>1499_212</td>\n",
       "      <td>1499</td>\n",
       "      <td>2018-09-11</td>\n",
       "      <td>0.0</td>\n",
       "      <td>9</td>\n",
       "    </tr>\n",
       "    <tr>\n",
       "      <td>104823</td>\n",
       "      <td>1499_218</td>\n",
       "      <td>1499</td>\n",
       "      <td>2018-12-07</td>\n",
       "      <td>0.0</td>\n",
       "      <td>12</td>\n",
       "    </tr>\n",
       "  </tbody>\n",
       "</table>\n",
       "<p>13747 rows × 5 columns</p>\n",
       "</div>"
      ],
      "text/plain": [
       "              id  user_id session_date  mb_used  month\n",
       "1       1000_204     1000   2018-12-31      0.0     12\n",
       "14       1001_26     1001   2018-09-17      0.0      9\n",
       "16       1001_28     1001   2018-10-17      0.0     10\n",
       "34       1001_54     1001   2018-09-02      0.0      9\n",
       "43       1001_77     1001   2018-10-31      0.0     10\n",
       "...          ...      ...          ...      ...    ...\n",
       "104797  1499_192     1499   2018-09-19      0.0      9\n",
       "104804  1499_199     1499   2018-12-09      0.0     12\n",
       "104816  1499_211     1499   2018-09-26      0.0      9\n",
       "104817  1499_212     1499   2018-09-11      0.0      9\n",
       "104823  1499_218     1499   2018-12-07      0.0     12\n",
       "\n",
       "[13747 rows x 5 columns]"
      ]
     },
     "execution_count": 31,
     "metadata": {},
     "output_type": "execute_result"
    }
   ],
   "source": [
    "# Check how many zero values are there in the mb_used column:\n",
    "internet.query('mb_used == 0.00')  "
   ]
  },
  {
   "cell_type": "markdown",
   "metadata": {},
   "source": [
    "We have 13,747 cases of internet sessions that used zero MB. How can that be? probably these are sessions that started - to be registered - but ended immediately for some reason. In any case it is of no importance since later we will aggregate monthly usage. Obviously we can and we will remove these rows (so we should be left with 91,078 rows), but even if we wouldn't do it - such zero values will not impact the aggregated monthly usage, which will be our base for analysis. "
   ]
  },
  {
   "cell_type": "code",
   "execution_count": 32,
   "metadata": {},
   "outputs": [
    {
     "data": {
      "text/html": [
       "<div>\n",
       "<style scoped>\n",
       "    .dataframe tbody tr th:only-of-type {\n",
       "        vertical-align: middle;\n",
       "    }\n",
       "\n",
       "    .dataframe tbody tr th {\n",
       "        vertical-align: top;\n",
       "    }\n",
       "\n",
       "    .dataframe thead th {\n",
       "        text-align: right;\n",
       "    }\n",
       "</style>\n",
       "<table border=\"1\" class=\"dataframe\">\n",
       "  <thead>\n",
       "    <tr style=\"text-align: right;\">\n",
       "      <th></th>\n",
       "      <th>id</th>\n",
       "      <th>user_id</th>\n",
       "      <th>session_date</th>\n",
       "      <th>mb_used</th>\n",
       "      <th>month</th>\n",
       "    </tr>\n",
       "  </thead>\n",
       "  <tbody>\n",
       "    <tr>\n",
       "      <td>0</td>\n",
       "      <td>1000_13</td>\n",
       "      <td>1000</td>\n",
       "      <td>2018-12-29</td>\n",
       "      <td>89.86</td>\n",
       "      <td>12</td>\n",
       "    </tr>\n",
       "    <tr>\n",
       "      <td>2</td>\n",
       "      <td>1000_379</td>\n",
       "      <td>1000</td>\n",
       "      <td>2018-12-28</td>\n",
       "      <td>660.40</td>\n",
       "      <td>12</td>\n",
       "    </tr>\n",
       "    <tr>\n",
       "      <td>3</td>\n",
       "      <td>1000_413</td>\n",
       "      <td>1000</td>\n",
       "      <td>2018-12-26</td>\n",
       "      <td>270.99</td>\n",
       "      <td>12</td>\n",
       "    </tr>\n",
       "    <tr>\n",
       "      <td>4</td>\n",
       "      <td>1000_442</td>\n",
       "      <td>1000</td>\n",
       "      <td>2018-12-27</td>\n",
       "      <td>880.22</td>\n",
       "      <td>12</td>\n",
       "    </tr>\n",
       "    <tr>\n",
       "      <td>5</td>\n",
       "      <td>1001_0</td>\n",
       "      <td>1001</td>\n",
       "      <td>2018-08-24</td>\n",
       "      <td>284.68</td>\n",
       "      <td>8</td>\n",
       "    </tr>\n",
       "    <tr>\n",
       "      <td>...</td>\n",
       "      <td>...</td>\n",
       "      <td>...</td>\n",
       "      <td>...</td>\n",
       "      <td>...</td>\n",
       "      <td>...</td>\n",
       "    </tr>\n",
       "    <tr>\n",
       "      <td>104819</td>\n",
       "      <td>1499_214</td>\n",
       "      <td>1499</td>\n",
       "      <td>2018-10-18</td>\n",
       "      <td>261.13</td>\n",
       "      <td>10</td>\n",
       "    </tr>\n",
       "    <tr>\n",
       "      <td>104820</td>\n",
       "      <td>1499_215</td>\n",
       "      <td>1499</td>\n",
       "      <td>2018-10-20</td>\n",
       "      <td>218.06</td>\n",
       "      <td>10</td>\n",
       "    </tr>\n",
       "    <tr>\n",
       "      <td>104821</td>\n",
       "      <td>1499_216</td>\n",
       "      <td>1499</td>\n",
       "      <td>2018-12-30</td>\n",
       "      <td>304.72</td>\n",
       "      <td>12</td>\n",
       "    </tr>\n",
       "    <tr>\n",
       "      <td>104822</td>\n",
       "      <td>1499_217</td>\n",
       "      <td>1499</td>\n",
       "      <td>2018-09-22</td>\n",
       "      <td>292.75</td>\n",
       "      <td>9</td>\n",
       "    </tr>\n",
       "    <tr>\n",
       "      <td>104824</td>\n",
       "      <td>1499_219</td>\n",
       "      <td>1499</td>\n",
       "      <td>2018-12-24</td>\n",
       "      <td>758.31</td>\n",
       "      <td>12</td>\n",
       "    </tr>\n",
       "  </tbody>\n",
       "</table>\n",
       "<p>91078 rows × 5 columns</p>\n",
       "</div>"
      ],
      "text/plain": [
       "              id  user_id session_date  mb_used  month\n",
       "0        1000_13     1000   2018-12-29    89.86     12\n",
       "2       1000_379     1000   2018-12-28   660.40     12\n",
       "3       1000_413     1000   2018-12-26   270.99     12\n",
       "4       1000_442     1000   2018-12-27   880.22     12\n",
       "5         1001_0     1001   2018-08-24   284.68      8\n",
       "...          ...      ...          ...      ...    ...\n",
       "104819  1499_214     1499   2018-10-18   261.13     10\n",
       "104820  1499_215     1499   2018-10-20   218.06     10\n",
       "104821  1499_216     1499   2018-12-30   304.72     12\n",
       "104822  1499_217     1499   2018-09-22   292.75      9\n",
       "104824  1499_219     1499   2018-12-24   758.31     12\n",
       "\n",
       "[91078 rows x 5 columns]"
      ]
     },
     "execution_count": 32,
     "metadata": {},
     "output_type": "execute_result"
    }
   ],
   "source": [
    "# removing the rows with internet sessions with zero mb_used:\n",
    "internet = internet.query('mb_used != 0.00')\n",
    "internet"
   ]
  },
  {
   "cell_type": "markdown",
   "metadata": {},
   "source": [
    "As expected, 91,078 entries of internet sessions without the zero values. "
   ]
  },
  {
   "cell_type": "markdown",
   "metadata": {},
   "source": [
    "## Study plan conditions"
   ]
  },
  {
   "cell_type": "markdown",
   "metadata": {},
   "source": [
    "Since for our analysis it is critical to understand how the plans work, how users are charged based on their plan subscription, we will now again print out the plan information to view their conditions once again."
   ]
  },
  {
   "cell_type": "code",
   "execution_count": 33,
   "metadata": {
    "scrolled": true
   },
   "outputs": [
    {
     "data": {
      "text/html": [
       "<div>\n",
       "<style scoped>\n",
       "    .dataframe tbody tr th:only-of-type {\n",
       "        vertical-align: middle;\n",
       "    }\n",
       "\n",
       "    .dataframe tbody tr th {\n",
       "        vertical-align: top;\n",
       "    }\n",
       "\n",
       "    .dataframe thead th {\n",
       "        text-align: right;\n",
       "    }\n",
       "</style>\n",
       "<table border=\"1\" class=\"dataframe\">\n",
       "  <thead>\n",
       "    <tr style=\"text-align: right;\">\n",
       "      <th></th>\n",
       "      <th>messages_included</th>\n",
       "      <th>mb_per_month_included</th>\n",
       "      <th>minutes_included</th>\n",
       "      <th>usd_monthly_pay</th>\n",
       "      <th>usd_per_gb</th>\n",
       "      <th>usd_per_message</th>\n",
       "      <th>usd_per_minute</th>\n",
       "      <th>plan_name</th>\n",
       "      <th>gb_per_month_included</th>\n",
       "    </tr>\n",
       "  </thead>\n",
       "  <tbody>\n",
       "    <tr>\n",
       "      <td>0</td>\n",
       "      <td>50</td>\n",
       "      <td>15360</td>\n",
       "      <td>500</td>\n",
       "      <td>20</td>\n",
       "      <td>10</td>\n",
       "      <td>0.03</td>\n",
       "      <td>0.03</td>\n",
       "      <td>surf</td>\n",
       "      <td>15.0</td>\n",
       "    </tr>\n",
       "    <tr>\n",
       "      <td>1</td>\n",
       "      <td>1000</td>\n",
       "      <td>30720</td>\n",
       "      <td>3000</td>\n",
       "      <td>70</td>\n",
       "      <td>7</td>\n",
       "      <td>0.01</td>\n",
       "      <td>0.01</td>\n",
       "      <td>ultimate</td>\n",
       "      <td>30.0</td>\n",
       "    </tr>\n",
       "  </tbody>\n",
       "</table>\n",
       "</div>"
      ],
      "text/plain": [
       "   messages_included  mb_per_month_included  minutes_included  \\\n",
       "0                 50                  15360               500   \n",
       "1               1000                  30720              3000   \n",
       "\n",
       "   usd_monthly_pay  usd_per_gb  usd_per_message  usd_per_minute plan_name  \\\n",
       "0               20          10             0.03            0.03      surf   \n",
       "1               70           7             0.01            0.01  ultimate   \n",
       "\n",
       "   gb_per_month_included  \n",
       "0                   15.0  \n",
       "1                   30.0  "
      ]
     },
     "execution_count": 33,
     "metadata": {},
     "output_type": "execute_result"
    }
   ],
   "source": [
    "# Re-print out the plan conditions \n",
    "plans.head()"
   ]
  },
  {
   "cell_type": "markdown",
   "metadata": {},
   "source": [
    "So these are the conditions of each plan:\n",
    "\n",
    "\n",
    "**Surf**\n",
    "1. Monthly charge: 20 usd \n",
    "2. 500 monthly minutes, 50 texts, and 15 GB of data (gb is 1024 mb)\n",
    "3. After exceeding the package limits:\n",
    "\n",
    "    a. 1 minute: 3 cents.\n",
    "    b. 1 text message: 3 cents.\n",
    "    c. 1 GB of data: 10 usd. \n",
    "**Ultimate**\n",
    "1. Monthly charge: 70 usd\n",
    "2. 3000 monthly minutes, 1000 text messages, and 30 GB of data\n",
    "3. After exceeding the package limits:\n",
    "\n",
    "    a. 1 minute: 1 cent.\n",
    "    b. 1 text message: 1 cent.\n",
    "    c. 1 GB of data: 7 usd. \n",
    "    \n",
    "As mentioned above - for calls each call duration is rounded up to minutes (was done above), and for web trafic the monthly mb total is rounded up to gb (will be done below). "
   ]
  },
  {
   "cell_type": "markdown",
   "metadata": {},
   "source": [
    "## Aggregate data per user\n",
    "\n",
    "Now we are ready to aggregate data per user per month in order to have just one record per user per month (which is the paymnet time unit). This will form the base for the further analysis. "
   ]
  },
  {
   "cell_type": "markdown",
   "metadata": {},
   "source": [
    "### Calls "
   ]
  },
  {
   "cell_type": "code",
   "execution_count": 34,
   "metadata": {
    "scrolled": true
   },
   "outputs": [
    {
     "data": {
      "text/html": [
       "<div>\n",
       "<style scoped>\n",
       "    .dataframe tbody tr th:only-of-type {\n",
       "        vertical-align: middle;\n",
       "    }\n",
       "\n",
       "    .dataframe tbody tr th {\n",
       "        vertical-align: top;\n",
       "    }\n",
       "\n",
       "    .dataframe thead tr th {\n",
       "        text-align: left;\n",
       "    }\n",
       "\n",
       "    .dataframe thead tr:last-of-type th {\n",
       "        text-align: right;\n",
       "    }\n",
       "</style>\n",
       "<table border=\"1\" class=\"dataframe\">\n",
       "  <thead>\n",
       "    <tr>\n",
       "      <th></th>\n",
       "      <th></th>\n",
       "      <th>count</th>\n",
       "      <th>sum</th>\n",
       "    </tr>\n",
       "    <tr>\n",
       "      <th></th>\n",
       "      <th></th>\n",
       "      <th>duration</th>\n",
       "      <th>duration</th>\n",
       "    </tr>\n",
       "    <tr>\n",
       "      <th>user_id</th>\n",
       "      <th>month</th>\n",
       "      <th></th>\n",
       "      <th></th>\n",
       "    </tr>\n",
       "  </thead>\n",
       "  <tbody>\n",
       "    <tr>\n",
       "      <td>1000</td>\n",
       "      <td>12</td>\n",
       "      <td>16</td>\n",
       "      <td>124</td>\n",
       "    </tr>\n",
       "    <tr>\n",
       "      <td rowspan=\"4\" valign=\"top\">1001</td>\n",
       "      <td>8</td>\n",
       "      <td>27</td>\n",
       "      <td>182</td>\n",
       "    </tr>\n",
       "    <tr>\n",
       "      <td>9</td>\n",
       "      <td>49</td>\n",
       "      <td>315</td>\n",
       "    </tr>\n",
       "    <tr>\n",
       "      <td>10</td>\n",
       "      <td>65</td>\n",
       "      <td>393</td>\n",
       "    </tr>\n",
       "    <tr>\n",
       "      <td>11</td>\n",
       "      <td>64</td>\n",
       "      <td>426</td>\n",
       "    </tr>\n",
       "  </tbody>\n",
       "</table>\n",
       "</div>"
      ],
      "text/plain": [
       "                 count      sum\n",
       "              duration duration\n",
       "user_id month                  \n",
       "1000    12          16      124\n",
       "1001    8           27      182\n",
       "        9           49      315\n",
       "        10          65      393\n",
       "        11          64      426"
      ]
     },
     "execution_count": 34,
     "metadata": {},
     "output_type": "execute_result"
    }
   ],
   "source": [
    "# The number of calls made and the amount of minutes spent\n",
    "    # by each user per month:\n",
    "calls_pivot = calls.pivot_table(index=['user_id', 'month'], \n",
    "                                values='duration', aggfunc=['count', 'sum'])\n",
    "calls_pivot.head()"
   ]
  },
  {
   "cell_type": "markdown",
   "metadata": {},
   "source": [
    "### Messages "
   ]
  },
  {
   "cell_type": "code",
   "execution_count": 35,
   "metadata": {},
   "outputs": [
    {
     "data": {
      "text/html": [
       "<div>\n",
       "<style scoped>\n",
       "    .dataframe tbody tr th:only-of-type {\n",
       "        vertical-align: middle;\n",
       "    }\n",
       "\n",
       "    .dataframe tbody tr th {\n",
       "        vertical-align: top;\n",
       "    }\n",
       "\n",
       "    .dataframe thead th {\n",
       "        text-align: right;\n",
       "    }\n",
       "</style>\n",
       "<table border=\"1\" class=\"dataframe\">\n",
       "  <thead>\n",
       "    <tr style=\"text-align: right;\">\n",
       "      <th></th>\n",
       "      <th></th>\n",
       "      <th>message_id</th>\n",
       "    </tr>\n",
       "    <tr>\n",
       "      <th>user_id</th>\n",
       "      <th>month</th>\n",
       "      <th></th>\n",
       "    </tr>\n",
       "  </thead>\n",
       "  <tbody>\n",
       "    <tr>\n",
       "      <td>1000</td>\n",
       "      <td>12</td>\n",
       "      <td>11</td>\n",
       "    </tr>\n",
       "    <tr>\n",
       "      <td rowspan=\"4\" valign=\"top\">1001</td>\n",
       "      <td>8</td>\n",
       "      <td>30</td>\n",
       "    </tr>\n",
       "    <tr>\n",
       "      <td>9</td>\n",
       "      <td>44</td>\n",
       "    </tr>\n",
       "    <tr>\n",
       "      <td>10</td>\n",
       "      <td>53</td>\n",
       "    </tr>\n",
       "    <tr>\n",
       "      <td>11</td>\n",
       "      <td>36</td>\n",
       "    </tr>\n",
       "  </tbody>\n",
       "</table>\n",
       "</div>"
      ],
      "text/plain": [
       "               message_id\n",
       "user_id month            \n",
       "1000    12             11\n",
       "1001    8              30\n",
       "        9              44\n",
       "        10             53\n",
       "        11             36"
      ]
     },
     "execution_count": 35,
     "metadata": {},
     "output_type": "execute_result"
    }
   ],
   "source": [
    "# The number of messages sent by each user per month. Save the result.\n",
    "messages_pivot = messages.pivot_table(index=['user_id', 'month'], \n",
    "                                      values='message_id', aggfunc='count')\n",
    "messages_pivot.head()"
   ]
  },
  {
   "cell_type": "markdown",
   "metadata": {},
   "source": [
    "### Internet "
   ]
  },
  {
   "cell_type": "code",
   "execution_count": 36,
   "metadata": {},
   "outputs": [
    {
     "data": {
      "text/html": [
       "<div>\n",
       "<style scoped>\n",
       "    .dataframe tbody tr th:only-of-type {\n",
       "        vertical-align: middle;\n",
       "    }\n",
       "\n",
       "    .dataframe tbody tr th {\n",
       "        vertical-align: top;\n",
       "    }\n",
       "\n",
       "    .dataframe thead th {\n",
       "        text-align: right;\n",
       "    }\n",
       "</style>\n",
       "<table border=\"1\" class=\"dataframe\">\n",
       "  <thead>\n",
       "    <tr style=\"text-align: right;\">\n",
       "      <th></th>\n",
       "      <th></th>\n",
       "      <th>mb_used</th>\n",
       "    </tr>\n",
       "    <tr>\n",
       "      <th>user_id</th>\n",
       "      <th>month</th>\n",
       "      <th></th>\n",
       "    </tr>\n",
       "  </thead>\n",
       "  <tbody>\n",
       "    <tr>\n",
       "      <td>1000</td>\n",
       "      <td>12</td>\n",
       "      <td>1901.47</td>\n",
       "    </tr>\n",
       "    <tr>\n",
       "      <td rowspan=\"4\" valign=\"top\">1001</td>\n",
       "      <td>8</td>\n",
       "      <td>6919.15</td>\n",
       "    </tr>\n",
       "    <tr>\n",
       "      <td>9</td>\n",
       "      <td>13314.82</td>\n",
       "    </tr>\n",
       "    <tr>\n",
       "      <td>10</td>\n",
       "      <td>22330.49</td>\n",
       "    </tr>\n",
       "    <tr>\n",
       "      <td>11</td>\n",
       "      <td>18504.30</td>\n",
       "    </tr>\n",
       "  </tbody>\n",
       "</table>\n",
       "</div>"
      ],
      "text/plain": [
       "                mb_used\n",
       "user_id month          \n",
       "1000    12      1901.47\n",
       "1001    8       6919.15\n",
       "        9      13314.82\n",
       "        10     22330.49\n",
       "        11     18504.30"
      ]
     },
     "execution_count": 36,
     "metadata": {},
     "output_type": "execute_result"
    }
   ],
   "source": [
    "# Calculate the volume of internet traffic used by each user per month. Save the result.\n",
    "internet_pivot = internet.pivot_table(index=['user_id', 'month'], \n",
    "                                      values='mb_used', aggfunc='sum')\n",
    "internet_pivot.head()"
   ]
  },
  {
   "cell_type": "markdown",
   "metadata": {},
   "source": [
    "### Calls + Messages + Internet \n",
    "We will now put the aggregate data together into one DataFrame so that one record in it would represent what an unique user consumed in a given month. \n",
    "Then we will rename columns for simplicity and clarity, and add GB charged (according to Megaline policy of rounding up monthly web usage)."
   ]
  },
  {
   "cell_type": "code",
   "execution_count": 37,
   "metadata": {
    "scrolled": true
   },
   "outputs": [
    {
     "data": {
      "text/html": [
       "<div>\n",
       "<style scoped>\n",
       "    .dataframe tbody tr th:only-of-type {\n",
       "        vertical-align: middle;\n",
       "    }\n",
       "\n",
       "    .dataframe tbody tr th {\n",
       "        vertical-align: top;\n",
       "    }\n",
       "\n",
       "    .dataframe thead th {\n",
       "        text-align: right;\n",
       "    }\n",
       "</style>\n",
       "<table border=\"1\" class=\"dataframe\">\n",
       "  <thead>\n",
       "    <tr style=\"text-align: right;\">\n",
       "      <th></th>\n",
       "      <th>user_id</th>\n",
       "      <th>month</th>\n",
       "      <th>(count, duration)</th>\n",
       "      <th>(sum, duration)</th>\n",
       "      <th>message_id</th>\n",
       "      <th>mb_used</th>\n",
       "    </tr>\n",
       "  </thead>\n",
       "  <tbody>\n",
       "    <tr>\n",
       "      <td>0</td>\n",
       "      <td>1000</td>\n",
       "      <td>12</td>\n",
       "      <td>16.0</td>\n",
       "      <td>124.0</td>\n",
       "      <td>11.0</td>\n",
       "      <td>1901.47</td>\n",
       "    </tr>\n",
       "    <tr>\n",
       "      <td>1</td>\n",
       "      <td>1001</td>\n",
       "      <td>8</td>\n",
       "      <td>27.0</td>\n",
       "      <td>182.0</td>\n",
       "      <td>30.0</td>\n",
       "      <td>6919.15</td>\n",
       "    </tr>\n",
       "    <tr>\n",
       "      <td>2</td>\n",
       "      <td>1001</td>\n",
       "      <td>9</td>\n",
       "      <td>49.0</td>\n",
       "      <td>315.0</td>\n",
       "      <td>44.0</td>\n",
       "      <td>13314.82</td>\n",
       "    </tr>\n",
       "    <tr>\n",
       "      <td>3</td>\n",
       "      <td>1001</td>\n",
       "      <td>10</td>\n",
       "      <td>65.0</td>\n",
       "      <td>393.0</td>\n",
       "      <td>53.0</td>\n",
       "      <td>22330.49</td>\n",
       "    </tr>\n",
       "    <tr>\n",
       "      <td>4</td>\n",
       "      <td>1001</td>\n",
       "      <td>11</td>\n",
       "      <td>64.0</td>\n",
       "      <td>426.0</td>\n",
       "      <td>36.0</td>\n",
       "      <td>18504.30</td>\n",
       "    </tr>\n",
       "    <tr>\n",
       "      <td>...</td>\n",
       "      <td>...</td>\n",
       "      <td>...</td>\n",
       "      <td>...</td>\n",
       "      <td>...</td>\n",
       "      <td>...</td>\n",
       "      <td>...</td>\n",
       "    </tr>\n",
       "    <tr>\n",
       "      <td>2288</td>\n",
       "      <td>1349</td>\n",
       "      <td>12</td>\n",
       "      <td>NaN</td>\n",
       "      <td>NaN</td>\n",
       "      <td>61.0</td>\n",
       "      <td>13039.91</td>\n",
       "    </tr>\n",
       "    <tr>\n",
       "      <td>2289</td>\n",
       "      <td>1361</td>\n",
       "      <td>5</td>\n",
       "      <td>NaN</td>\n",
       "      <td>NaN</td>\n",
       "      <td>2.0</td>\n",
       "      <td>1519.69</td>\n",
       "    </tr>\n",
       "    <tr>\n",
       "      <td>2290</td>\n",
       "      <td>1482</td>\n",
       "      <td>10</td>\n",
       "      <td>NaN</td>\n",
       "      <td>NaN</td>\n",
       "      <td>2.0</td>\n",
       "      <td>NaN</td>\n",
       "    </tr>\n",
       "    <tr>\n",
       "      <td>2291</td>\n",
       "      <td>1108</td>\n",
       "      <td>12</td>\n",
       "      <td>NaN</td>\n",
       "      <td>NaN</td>\n",
       "      <td>NaN</td>\n",
       "      <td>233.17</td>\n",
       "    </tr>\n",
       "    <tr>\n",
       "      <td>2292</td>\n",
       "      <td>1311</td>\n",
       "      <td>6</td>\n",
       "      <td>NaN</td>\n",
       "      <td>NaN</td>\n",
       "      <td>NaN</td>\n",
       "      <td>1498.83</td>\n",
       "    </tr>\n",
       "  </tbody>\n",
       "</table>\n",
       "<p>2293 rows × 6 columns</p>\n",
       "</div>"
      ],
      "text/plain": [
       "      user_id  month  (count, duration)  (sum, duration)  message_id   mb_used\n",
       "0        1000     12               16.0            124.0        11.0   1901.47\n",
       "1        1001      8               27.0            182.0        30.0   6919.15\n",
       "2        1001      9               49.0            315.0        44.0  13314.82\n",
       "3        1001     10               65.0            393.0        53.0  22330.49\n",
       "4        1001     11               64.0            426.0        36.0  18504.30\n",
       "...       ...    ...                ...              ...         ...       ...\n",
       "2288     1349     12                NaN              NaN        61.0  13039.91\n",
       "2289     1361      5                NaN              NaN         2.0   1519.69\n",
       "2290     1482     10                NaN              NaN         2.0       NaN\n",
       "2291     1108     12                NaN              NaN         NaN    233.17\n",
       "2292     1311      6                NaN              NaN         NaN   1498.83\n",
       "\n",
       "[2293 rows x 6 columns]"
      ]
     },
     "execution_count": 37,
     "metadata": {},
     "output_type": "execute_result"
    }
   ],
   "source": [
    "# Merge the data for calls, minutes, messages, internet - based on user_id and month:\n",
    "cm_pivot = calls_pivot.merge(messages_pivot, on=['user_id', 'month'], how='outer')\n",
    "user_pivot = cm_pivot.merge(internet_pivot, on=['user_id', 'month'], how='outer').reset_index() \n",
    "user_pivot"
   ]
  },
  {
   "cell_type": "markdown",
   "metadata": {},
   "source": [
    "Since we see null values, that appear in all cases in which a user, in a specific month, used only 1 or 2 out of the 3 services (calls, messages, internet) - we will fill them with 0 (zero usage), in order not to distort later analysis. "
   ]
  },
  {
   "cell_type": "code",
   "execution_count": 38,
   "metadata": {},
   "outputs": [
    {
     "data": {
      "text/html": [
       "<div>\n",
       "<style scoped>\n",
       "    .dataframe tbody tr th:only-of-type {\n",
       "        vertical-align: middle;\n",
       "    }\n",
       "\n",
       "    .dataframe tbody tr th {\n",
       "        vertical-align: top;\n",
       "    }\n",
       "\n",
       "    .dataframe thead th {\n",
       "        text-align: right;\n",
       "    }\n",
       "</style>\n",
       "<table border=\"1\" class=\"dataframe\">\n",
       "  <thead>\n",
       "    <tr style=\"text-align: right;\">\n",
       "      <th></th>\n",
       "      <th>user_id</th>\n",
       "      <th>month</th>\n",
       "      <th>(count, duration)</th>\n",
       "      <th>(sum, duration)</th>\n",
       "      <th>message_id</th>\n",
       "      <th>mb_used</th>\n",
       "    </tr>\n",
       "  </thead>\n",
       "  <tbody>\n",
       "    <tr>\n",
       "      <td>0</td>\n",
       "      <td>1000</td>\n",
       "      <td>12</td>\n",
       "      <td>16.0</td>\n",
       "      <td>124.0</td>\n",
       "      <td>11.0</td>\n",
       "      <td>1901.47</td>\n",
       "    </tr>\n",
       "    <tr>\n",
       "      <td>1</td>\n",
       "      <td>1001</td>\n",
       "      <td>8</td>\n",
       "      <td>27.0</td>\n",
       "      <td>182.0</td>\n",
       "      <td>30.0</td>\n",
       "      <td>6919.15</td>\n",
       "    </tr>\n",
       "    <tr>\n",
       "      <td>2</td>\n",
       "      <td>1001</td>\n",
       "      <td>9</td>\n",
       "      <td>49.0</td>\n",
       "      <td>315.0</td>\n",
       "      <td>44.0</td>\n",
       "      <td>13314.82</td>\n",
       "    </tr>\n",
       "    <tr>\n",
       "      <td>3</td>\n",
       "      <td>1001</td>\n",
       "      <td>10</td>\n",
       "      <td>65.0</td>\n",
       "      <td>393.0</td>\n",
       "      <td>53.0</td>\n",
       "      <td>22330.49</td>\n",
       "    </tr>\n",
       "    <tr>\n",
       "      <td>4</td>\n",
       "      <td>1001</td>\n",
       "      <td>11</td>\n",
       "      <td>64.0</td>\n",
       "      <td>426.0</td>\n",
       "      <td>36.0</td>\n",
       "      <td>18504.30</td>\n",
       "    </tr>\n",
       "    <tr>\n",
       "      <td>...</td>\n",
       "      <td>...</td>\n",
       "      <td>...</td>\n",
       "      <td>...</td>\n",
       "      <td>...</td>\n",
       "      <td>...</td>\n",
       "      <td>...</td>\n",
       "    </tr>\n",
       "    <tr>\n",
       "      <td>2288</td>\n",
       "      <td>1349</td>\n",
       "      <td>12</td>\n",
       "      <td>0.0</td>\n",
       "      <td>0.0</td>\n",
       "      <td>61.0</td>\n",
       "      <td>13039.91</td>\n",
       "    </tr>\n",
       "    <tr>\n",
       "      <td>2289</td>\n",
       "      <td>1361</td>\n",
       "      <td>5</td>\n",
       "      <td>0.0</td>\n",
       "      <td>0.0</td>\n",
       "      <td>2.0</td>\n",
       "      <td>1519.69</td>\n",
       "    </tr>\n",
       "    <tr>\n",
       "      <td>2290</td>\n",
       "      <td>1482</td>\n",
       "      <td>10</td>\n",
       "      <td>0.0</td>\n",
       "      <td>0.0</td>\n",
       "      <td>2.0</td>\n",
       "      <td>0.00</td>\n",
       "    </tr>\n",
       "    <tr>\n",
       "      <td>2291</td>\n",
       "      <td>1108</td>\n",
       "      <td>12</td>\n",
       "      <td>0.0</td>\n",
       "      <td>0.0</td>\n",
       "      <td>0.0</td>\n",
       "      <td>233.17</td>\n",
       "    </tr>\n",
       "    <tr>\n",
       "      <td>2292</td>\n",
       "      <td>1311</td>\n",
       "      <td>6</td>\n",
       "      <td>0.0</td>\n",
       "      <td>0.0</td>\n",
       "      <td>0.0</td>\n",
       "      <td>1498.83</td>\n",
       "    </tr>\n",
       "  </tbody>\n",
       "</table>\n",
       "<p>2293 rows × 6 columns</p>\n",
       "</div>"
      ],
      "text/plain": [
       "      user_id  month  (count, duration)  (sum, duration)  message_id   mb_used\n",
       "0        1000     12               16.0            124.0        11.0   1901.47\n",
       "1        1001      8               27.0            182.0        30.0   6919.15\n",
       "2        1001      9               49.0            315.0        44.0  13314.82\n",
       "3        1001     10               65.0            393.0        53.0  22330.49\n",
       "4        1001     11               64.0            426.0        36.0  18504.30\n",
       "...       ...    ...                ...              ...         ...       ...\n",
       "2288     1349     12                0.0              0.0        61.0  13039.91\n",
       "2289     1361      5                0.0              0.0         2.0   1519.69\n",
       "2290     1482     10                0.0              0.0         2.0      0.00\n",
       "2291     1108     12                0.0              0.0         0.0    233.17\n",
       "2292     1311      6                0.0              0.0         0.0   1498.83\n",
       "\n",
       "[2293 rows x 6 columns]"
      ]
     },
     "execution_count": 38,
     "metadata": {},
     "output_type": "execute_result"
    }
   ],
   "source": [
    "# filling null values with 0: \n",
    "user_pivot = user_pivot.fillna(0)\n",
    "user_pivot"
   ]
  },
  {
   "cell_type": "code",
   "execution_count": 39,
   "metadata": {},
   "outputs": [
    {
     "data": {
      "text/plain": [
       "Index([            'user_id',               'month', ('count', 'duration'),\n",
       "         ('sum', 'duration'),          'message_id',             'mb_used'],\n",
       "      dtype='object')"
      ]
     },
     "execution_count": 39,
     "metadata": {},
     "output_type": "execute_result"
    }
   ],
   "source": [
    "# Cheking exact columns names (before renaming for simplicity): \n",
    "user_pivot.columns"
   ]
  },
  {
   "cell_type": "code",
   "execution_count": 40,
   "metadata": {
    "scrolled": true
   },
   "outputs": [
    {
     "data": {
      "text/html": [
       "<div>\n",
       "<style scoped>\n",
       "    .dataframe tbody tr th:only-of-type {\n",
       "        vertical-align: middle;\n",
       "    }\n",
       "\n",
       "    .dataframe tbody tr th {\n",
       "        vertical-align: top;\n",
       "    }\n",
       "\n",
       "    .dataframe thead th {\n",
       "        text-align: right;\n",
       "    }\n",
       "</style>\n",
       "<table border=\"1\" class=\"dataframe\">\n",
       "  <thead>\n",
       "    <tr style=\"text-align: right;\">\n",
       "      <th></th>\n",
       "      <th>user_id</th>\n",
       "      <th>month</th>\n",
       "      <th>calls</th>\n",
       "      <th>minutes</th>\n",
       "      <th>messages</th>\n",
       "      <th>mb_used</th>\n",
       "    </tr>\n",
       "  </thead>\n",
       "  <tbody>\n",
       "    <tr>\n",
       "      <td>0</td>\n",
       "      <td>1000</td>\n",
       "      <td>12</td>\n",
       "      <td>16.0</td>\n",
       "      <td>124.0</td>\n",
       "      <td>11.0</td>\n",
       "      <td>1901.47</td>\n",
       "    </tr>\n",
       "    <tr>\n",
       "      <td>1</td>\n",
       "      <td>1001</td>\n",
       "      <td>8</td>\n",
       "      <td>27.0</td>\n",
       "      <td>182.0</td>\n",
       "      <td>30.0</td>\n",
       "      <td>6919.15</td>\n",
       "    </tr>\n",
       "    <tr>\n",
       "      <td>2</td>\n",
       "      <td>1001</td>\n",
       "      <td>9</td>\n",
       "      <td>49.0</td>\n",
       "      <td>315.0</td>\n",
       "      <td>44.0</td>\n",
       "      <td>13314.82</td>\n",
       "    </tr>\n",
       "    <tr>\n",
       "      <td>3</td>\n",
       "      <td>1001</td>\n",
       "      <td>10</td>\n",
       "      <td>65.0</td>\n",
       "      <td>393.0</td>\n",
       "      <td>53.0</td>\n",
       "      <td>22330.49</td>\n",
       "    </tr>\n",
       "    <tr>\n",
       "      <td>4</td>\n",
       "      <td>1001</td>\n",
       "      <td>11</td>\n",
       "      <td>64.0</td>\n",
       "      <td>426.0</td>\n",
       "      <td>36.0</td>\n",
       "      <td>18504.30</td>\n",
       "    </tr>\n",
       "    <tr>\n",
       "      <td>...</td>\n",
       "      <td>...</td>\n",
       "      <td>...</td>\n",
       "      <td>...</td>\n",
       "      <td>...</td>\n",
       "      <td>...</td>\n",
       "      <td>...</td>\n",
       "    </tr>\n",
       "    <tr>\n",
       "      <td>2288</td>\n",
       "      <td>1349</td>\n",
       "      <td>12</td>\n",
       "      <td>0.0</td>\n",
       "      <td>0.0</td>\n",
       "      <td>61.0</td>\n",
       "      <td>13039.91</td>\n",
       "    </tr>\n",
       "    <tr>\n",
       "      <td>2289</td>\n",
       "      <td>1361</td>\n",
       "      <td>5</td>\n",
       "      <td>0.0</td>\n",
       "      <td>0.0</td>\n",
       "      <td>2.0</td>\n",
       "      <td>1519.69</td>\n",
       "    </tr>\n",
       "    <tr>\n",
       "      <td>2290</td>\n",
       "      <td>1482</td>\n",
       "      <td>10</td>\n",
       "      <td>0.0</td>\n",
       "      <td>0.0</td>\n",
       "      <td>2.0</td>\n",
       "      <td>0.00</td>\n",
       "    </tr>\n",
       "    <tr>\n",
       "      <td>2291</td>\n",
       "      <td>1108</td>\n",
       "      <td>12</td>\n",
       "      <td>0.0</td>\n",
       "      <td>0.0</td>\n",
       "      <td>0.0</td>\n",
       "      <td>233.17</td>\n",
       "    </tr>\n",
       "    <tr>\n",
       "      <td>2292</td>\n",
       "      <td>1311</td>\n",
       "      <td>6</td>\n",
       "      <td>0.0</td>\n",
       "      <td>0.0</td>\n",
       "      <td>0.0</td>\n",
       "      <td>1498.83</td>\n",
       "    </tr>\n",
       "  </tbody>\n",
       "</table>\n",
       "<p>2293 rows × 6 columns</p>\n",
       "</div>"
      ],
      "text/plain": [
       "      user_id  month  calls  minutes  messages   mb_used\n",
       "0        1000     12   16.0    124.0      11.0   1901.47\n",
       "1        1001      8   27.0    182.0      30.0   6919.15\n",
       "2        1001      9   49.0    315.0      44.0  13314.82\n",
       "3        1001     10   65.0    393.0      53.0  22330.49\n",
       "4        1001     11   64.0    426.0      36.0  18504.30\n",
       "...       ...    ...    ...      ...       ...       ...\n",
       "2288     1349     12    0.0      0.0      61.0  13039.91\n",
       "2289     1361      5    0.0      0.0       2.0   1519.69\n",
       "2290     1482     10    0.0      0.0       2.0      0.00\n",
       "2291     1108     12    0.0      0.0       0.0    233.17\n",
       "2292     1311      6    0.0      0.0       0.0   1498.83\n",
       "\n",
       "[2293 rows x 6 columns]"
      ]
     },
     "execution_count": 40,
     "metadata": {},
     "output_type": "execute_result"
    }
   ],
   "source": [
    "# renaming columns names for simplicity: \n",
    "user_pivot.rename(columns={('count', 'duration'): 'calls', ('sum', 'duration'): 'minutes',\n",
    "                          'message_id': 'messages'}, inplace=True)\n",
    "user_pivot"
   ]
  },
  {
   "cell_type": "markdown",
   "metadata": {},
   "source": [
    "Before we enrich this aggregated user_pivot table - we will check that data was not lost, and all the telecom usage that was documented in the original data files - is here in our user_pivot table. "
   ]
  },
  {
   "cell_type": "code",
   "execution_count": 41,
   "metadata": {
    "scrolled": true
   },
   "outputs": [
    {
     "name": "stdout",
     "output_type": "stream",
     "text": [
      "The original total number of calls was 137735 , and in user_pivot we have 137735.0\n",
      "The original total rounded duration was 984347 minutes, and in user_pivot we have 984347.0\n",
      "The original total number of messages was 76051 , and in user_pivot we have 76051.0\n",
      "The original total internet usage was 38440763.71  MB, and in user_pivot we have 38440763.71\n"
     ]
    }
   ],
   "source": [
    "# compare total numbers of calls, duration, messages and web usage:\n",
    "print('The original total number of calls was', calls['id'].count(),\n",
    "      ', and in user_pivot we have', user_pivot['calls'].sum())\n",
    "print('The original total rounded duration was', calls['duration'].sum(),\n",
    "      'minutes, and in user_pivot we have', user_pivot['minutes'].sum())\n",
    "print('The original total number of messages was', messages['message_id'].count(),\n",
    "      ', and in user_pivot we have', user_pivot['messages'].sum())\n",
    "print('The original total internet usage was', internet['mb_used'].sum(),\n",
    "      ' MB, and in user_pivot we have', user_pivot['mb_used'].sum())"
   ]
  },
  {
   "cell_type": "markdown",
   "metadata": {},
   "source": [
    "All the data is here, nothing lost, we can continue to enrich our aggregated user-month usage table: "
   ]
  },
  {
   "cell_type": "code",
   "execution_count": 42,
   "metadata": {
    "scrolled": true
   },
   "outputs": [
    {
     "data": {
      "text/html": [
       "<div>\n",
       "<style scoped>\n",
       "    .dataframe tbody tr th:only-of-type {\n",
       "        vertical-align: middle;\n",
       "    }\n",
       "\n",
       "    .dataframe tbody tr th {\n",
       "        vertical-align: top;\n",
       "    }\n",
       "\n",
       "    .dataframe thead th {\n",
       "        text-align: right;\n",
       "    }\n",
       "</style>\n",
       "<table border=\"1\" class=\"dataframe\">\n",
       "  <thead>\n",
       "    <tr style=\"text-align: right;\">\n",
       "      <th></th>\n",
       "      <th>user_id</th>\n",
       "      <th>month</th>\n",
       "      <th>calls</th>\n",
       "      <th>minutes</th>\n",
       "      <th>messages</th>\n",
       "      <th>mb_used</th>\n",
       "      <th>gb_charged</th>\n",
       "    </tr>\n",
       "  </thead>\n",
       "  <tbody>\n",
       "    <tr>\n",
       "      <td>0</td>\n",
       "      <td>1000</td>\n",
       "      <td>12</td>\n",
       "      <td>16.0</td>\n",
       "      <td>124.0</td>\n",
       "      <td>11.0</td>\n",
       "      <td>1901.47</td>\n",
       "      <td>2</td>\n",
       "    </tr>\n",
       "    <tr>\n",
       "      <td>1</td>\n",
       "      <td>1001</td>\n",
       "      <td>8</td>\n",
       "      <td>27.0</td>\n",
       "      <td>182.0</td>\n",
       "      <td>30.0</td>\n",
       "      <td>6919.15</td>\n",
       "      <td>7</td>\n",
       "    </tr>\n",
       "    <tr>\n",
       "      <td>2</td>\n",
       "      <td>1001</td>\n",
       "      <td>9</td>\n",
       "      <td>49.0</td>\n",
       "      <td>315.0</td>\n",
       "      <td>44.0</td>\n",
       "      <td>13314.82</td>\n",
       "      <td>14</td>\n",
       "    </tr>\n",
       "    <tr>\n",
       "      <td>3</td>\n",
       "      <td>1001</td>\n",
       "      <td>10</td>\n",
       "      <td>65.0</td>\n",
       "      <td>393.0</td>\n",
       "      <td>53.0</td>\n",
       "      <td>22330.49</td>\n",
       "      <td>22</td>\n",
       "    </tr>\n",
       "    <tr>\n",
       "      <td>4</td>\n",
       "      <td>1001</td>\n",
       "      <td>11</td>\n",
       "      <td>64.0</td>\n",
       "      <td>426.0</td>\n",
       "      <td>36.0</td>\n",
       "      <td>18504.30</td>\n",
       "      <td>19</td>\n",
       "    </tr>\n",
       "    <tr>\n",
       "      <td>...</td>\n",
       "      <td>...</td>\n",
       "      <td>...</td>\n",
       "      <td>...</td>\n",
       "      <td>...</td>\n",
       "      <td>...</td>\n",
       "      <td>...</td>\n",
       "      <td>...</td>\n",
       "    </tr>\n",
       "    <tr>\n",
       "      <td>2288</td>\n",
       "      <td>1349</td>\n",
       "      <td>12</td>\n",
       "      <td>0.0</td>\n",
       "      <td>0.0</td>\n",
       "      <td>61.0</td>\n",
       "      <td>13039.91</td>\n",
       "      <td>13</td>\n",
       "    </tr>\n",
       "    <tr>\n",
       "      <td>2289</td>\n",
       "      <td>1361</td>\n",
       "      <td>5</td>\n",
       "      <td>0.0</td>\n",
       "      <td>0.0</td>\n",
       "      <td>2.0</td>\n",
       "      <td>1519.69</td>\n",
       "      <td>2</td>\n",
       "    </tr>\n",
       "    <tr>\n",
       "      <td>2290</td>\n",
       "      <td>1482</td>\n",
       "      <td>10</td>\n",
       "      <td>0.0</td>\n",
       "      <td>0.0</td>\n",
       "      <td>2.0</td>\n",
       "      <td>0.00</td>\n",
       "      <td>0</td>\n",
       "    </tr>\n",
       "    <tr>\n",
       "      <td>2291</td>\n",
       "      <td>1108</td>\n",
       "      <td>12</td>\n",
       "      <td>0.0</td>\n",
       "      <td>0.0</td>\n",
       "      <td>0.0</td>\n",
       "      <td>233.17</td>\n",
       "      <td>1</td>\n",
       "    </tr>\n",
       "    <tr>\n",
       "      <td>2292</td>\n",
       "      <td>1311</td>\n",
       "      <td>6</td>\n",
       "      <td>0.0</td>\n",
       "      <td>0.0</td>\n",
       "      <td>0.0</td>\n",
       "      <td>1498.83</td>\n",
       "      <td>2</td>\n",
       "    </tr>\n",
       "  </tbody>\n",
       "</table>\n",
       "<p>2293 rows × 7 columns</p>\n",
       "</div>"
      ],
      "text/plain": [
       "      user_id  month  calls  minutes  messages   mb_used  gb_charged\n",
       "0        1000     12   16.0    124.0      11.0   1901.47           2\n",
       "1        1001      8   27.0    182.0      30.0   6919.15           7\n",
       "2        1001      9   49.0    315.0      44.0  13314.82          14\n",
       "3        1001     10   65.0    393.0      53.0  22330.49          22\n",
       "4        1001     11   64.0    426.0      36.0  18504.30          19\n",
       "...       ...    ...    ...      ...       ...       ...         ...\n",
       "2288     1349     12    0.0      0.0      61.0  13039.91          13\n",
       "2289     1361      5    0.0      0.0       2.0   1519.69           2\n",
       "2290     1482     10    0.0      0.0       2.0      0.00           0\n",
       "2291     1108     12    0.0      0.0       0.0    233.17           1\n",
       "2292     1311      6    0.0      0.0       0.0   1498.83           2\n",
       "\n",
       "[2293 rows x 7 columns]"
      ]
     },
     "execution_count": 42,
     "metadata": {},
     "output_type": "execute_result"
    }
   ],
   "source": [
    "# add a column with the GB_charged, according to Megaline policy: \n",
    "user_pivot['gb_charged'] = user_pivot['mb_used'] / 1024\n",
    "user_pivot['gb_charged'] = np.ceil(user_pivot['gb_charged']).astype('int')\n",
    "user_pivot"
   ]
  },
  {
   "cell_type": "markdown",
   "metadata": {},
   "source": [
    "### Adding plan and region information"
   ]
  },
  {
   "cell_type": "code",
   "execution_count": 43,
   "metadata": {
    "scrolled": false
   },
   "outputs": [
    {
     "data": {
      "text/html": [
       "<div>\n",
       "<style scoped>\n",
       "    .dataframe tbody tr th:only-of-type {\n",
       "        vertical-align: middle;\n",
       "    }\n",
       "\n",
       "    .dataframe tbody tr th {\n",
       "        vertical-align: top;\n",
       "    }\n",
       "\n",
       "    .dataframe thead th {\n",
       "        text-align: right;\n",
       "    }\n",
       "</style>\n",
       "<table border=\"1\" class=\"dataframe\">\n",
       "  <thead>\n",
       "    <tr style=\"text-align: right;\">\n",
       "      <th></th>\n",
       "      <th>user_id</th>\n",
       "      <th>month</th>\n",
       "      <th>calls</th>\n",
       "      <th>minutes</th>\n",
       "      <th>messages</th>\n",
       "      <th>mb_used</th>\n",
       "      <th>gb_charged</th>\n",
       "      <th>plan</th>\n",
       "      <th>NY_NJ</th>\n",
       "    </tr>\n",
       "  </thead>\n",
       "  <tbody>\n",
       "    <tr>\n",
       "      <td>0</td>\n",
       "      <td>1000</td>\n",
       "      <td>12</td>\n",
       "      <td>16.0</td>\n",
       "      <td>124.0</td>\n",
       "      <td>11.0</td>\n",
       "      <td>1901.47</td>\n",
       "      <td>2</td>\n",
       "      <td>ultimate</td>\n",
       "      <td>False</td>\n",
       "    </tr>\n",
       "    <tr>\n",
       "      <td>1</td>\n",
       "      <td>1001</td>\n",
       "      <td>8</td>\n",
       "      <td>27.0</td>\n",
       "      <td>182.0</td>\n",
       "      <td>30.0</td>\n",
       "      <td>6919.15</td>\n",
       "      <td>7</td>\n",
       "      <td>surf</td>\n",
       "      <td>False</td>\n",
       "    </tr>\n",
       "    <tr>\n",
       "      <td>2</td>\n",
       "      <td>1001</td>\n",
       "      <td>9</td>\n",
       "      <td>49.0</td>\n",
       "      <td>315.0</td>\n",
       "      <td>44.0</td>\n",
       "      <td>13314.82</td>\n",
       "      <td>14</td>\n",
       "      <td>surf</td>\n",
       "      <td>False</td>\n",
       "    </tr>\n",
       "    <tr>\n",
       "      <td>3</td>\n",
       "      <td>1001</td>\n",
       "      <td>10</td>\n",
       "      <td>65.0</td>\n",
       "      <td>393.0</td>\n",
       "      <td>53.0</td>\n",
       "      <td>22330.49</td>\n",
       "      <td>22</td>\n",
       "      <td>surf</td>\n",
       "      <td>False</td>\n",
       "    </tr>\n",
       "    <tr>\n",
       "      <td>4</td>\n",
       "      <td>1001</td>\n",
       "      <td>11</td>\n",
       "      <td>64.0</td>\n",
       "      <td>426.0</td>\n",
       "      <td>36.0</td>\n",
       "      <td>18504.30</td>\n",
       "      <td>19</td>\n",
       "      <td>surf</td>\n",
       "      <td>False</td>\n",
       "    </tr>\n",
       "    <tr>\n",
       "      <td>...</td>\n",
       "      <td>...</td>\n",
       "      <td>...</td>\n",
       "      <td>...</td>\n",
       "      <td>...</td>\n",
       "      <td>...</td>\n",
       "      <td>...</td>\n",
       "      <td>...</td>\n",
       "      <td>...</td>\n",
       "      <td>...</td>\n",
       "    </tr>\n",
       "    <tr>\n",
       "      <td>2288</td>\n",
       "      <td>1349</td>\n",
       "      <td>12</td>\n",
       "      <td>0.0</td>\n",
       "      <td>0.0</td>\n",
       "      <td>61.0</td>\n",
       "      <td>13039.91</td>\n",
       "      <td>13</td>\n",
       "      <td>surf</td>\n",
       "      <td>False</td>\n",
       "    </tr>\n",
       "    <tr>\n",
       "      <td>2289</td>\n",
       "      <td>1361</td>\n",
       "      <td>5</td>\n",
       "      <td>0.0</td>\n",
       "      <td>0.0</td>\n",
       "      <td>2.0</td>\n",
       "      <td>1519.69</td>\n",
       "      <td>2</td>\n",
       "      <td>surf</td>\n",
       "      <td>False</td>\n",
       "    </tr>\n",
       "    <tr>\n",
       "      <td>2290</td>\n",
       "      <td>1482</td>\n",
       "      <td>10</td>\n",
       "      <td>0.0</td>\n",
       "      <td>0.0</td>\n",
       "      <td>2.0</td>\n",
       "      <td>0.00</td>\n",
       "      <td>0</td>\n",
       "      <td>ultimate</td>\n",
       "      <td>True</td>\n",
       "    </tr>\n",
       "    <tr>\n",
       "      <td>2291</td>\n",
       "      <td>1108</td>\n",
       "      <td>12</td>\n",
       "      <td>0.0</td>\n",
       "      <td>0.0</td>\n",
       "      <td>0.0</td>\n",
       "      <td>233.17</td>\n",
       "      <td>1</td>\n",
       "      <td>ultimate</td>\n",
       "      <td>False</td>\n",
       "    </tr>\n",
       "    <tr>\n",
       "      <td>2292</td>\n",
       "      <td>1311</td>\n",
       "      <td>6</td>\n",
       "      <td>0.0</td>\n",
       "      <td>0.0</td>\n",
       "      <td>0.0</td>\n",
       "      <td>1498.83</td>\n",
       "      <td>2</td>\n",
       "      <td>ultimate</td>\n",
       "      <td>False</td>\n",
       "    </tr>\n",
       "  </tbody>\n",
       "</table>\n",
       "<p>2293 rows × 9 columns</p>\n",
       "</div>"
      ],
      "text/plain": [
       "      user_id  month  calls  minutes  messages   mb_used  gb_charged  \\\n",
       "0        1000     12   16.0    124.0      11.0   1901.47           2   \n",
       "1        1001      8   27.0    182.0      30.0   6919.15           7   \n",
       "2        1001      9   49.0    315.0      44.0  13314.82          14   \n",
       "3        1001     10   65.0    393.0      53.0  22330.49          22   \n",
       "4        1001     11   64.0    426.0      36.0  18504.30          19   \n",
       "...       ...    ...    ...      ...       ...       ...         ...   \n",
       "2288     1349     12    0.0      0.0      61.0  13039.91          13   \n",
       "2289     1361      5    0.0      0.0       2.0   1519.69           2   \n",
       "2290     1482     10    0.0      0.0       2.0      0.00           0   \n",
       "2291     1108     12    0.0      0.0       0.0    233.17           1   \n",
       "2292     1311      6    0.0      0.0       0.0   1498.83           2   \n",
       "\n",
       "          plan  NY_NJ  \n",
       "0     ultimate  False  \n",
       "1         surf  False  \n",
       "2         surf  False  \n",
       "3         surf  False  \n",
       "4         surf  False  \n",
       "...        ...    ...  \n",
       "2288      surf  False  \n",
       "2289      surf  False  \n",
       "2290  ultimate   True  \n",
       "2291  ultimate  False  \n",
       "2292  ultimate  False  \n",
       "\n",
       "[2293 rows x 9 columns]"
      ]
     },
     "execution_count": 43,
     "metadata": {},
     "output_type": "execute_result"
    }
   ],
   "source": [
    "# Add the plan and region information\n",
    "user_plan = users[['user_id', 'plan', 'NY_NJ']]\n",
    "user_pivot = user_pivot.merge(user_plan, on='user_id', how='left')\n",
    "user_pivot"
   ]
  },
  {
   "cell_type": "code",
   "execution_count": 45,
   "metadata": {},
   "outputs": [
    {
     "data": {
      "text/plain": [
       "False    1916\n",
       "True      377\n",
       "Name: NY_NJ, dtype: int64"
      ]
     },
     "execution_count": 45,
     "metadata": {},
     "output_type": "execute_result"
    }
   ],
   "source": [
    "# checking how many entries (paid months) there are from each region option:  \n",
    "user_pivot['NY_NJ'].value_counts()"
   ]
  },
  {
   "cell_type": "markdown",
   "metadata": {},
   "source": [
    "### Calculating monthly revenues "
   ]
  },
  {
   "cell_type": "markdown",
   "metadata": {},
   "source": [
    "We will now calculate the monthly revenue from each user (subtract the free package limit from the total number of calls, text messages, and data; multiply the result by the calling plan value; add the monthly charge depending on the calling plan)."
   ]
  },
  {
   "cell_type": "code",
   "execution_count": 46,
   "metadata": {
    "scrolled": true
   },
   "outputs": [
    {
     "data": {
      "text/html": [
       "<div>\n",
       "<style scoped>\n",
       "    .dataframe tbody tr th:only-of-type {\n",
       "        vertical-align: middle;\n",
       "    }\n",
       "\n",
       "    .dataframe tbody tr th {\n",
       "        vertical-align: top;\n",
       "    }\n",
       "\n",
       "    .dataframe thead th {\n",
       "        text-align: right;\n",
       "    }\n",
       "</style>\n",
       "<table border=\"1\" class=\"dataframe\">\n",
       "  <thead>\n",
       "    <tr style=\"text-align: right;\">\n",
       "      <th></th>\n",
       "      <th>user_id</th>\n",
       "      <th>month</th>\n",
       "      <th>calls</th>\n",
       "      <th>minutes</th>\n",
       "      <th>messages</th>\n",
       "      <th>mb_used</th>\n",
       "      <th>gb_charged</th>\n",
       "      <th>plan</th>\n",
       "      <th>NY_NJ</th>\n",
       "      <th>revenue</th>\n",
       "    </tr>\n",
       "  </thead>\n",
       "  <tbody>\n",
       "    <tr>\n",
       "      <td>0</td>\n",
       "      <td>1000</td>\n",
       "      <td>12</td>\n",
       "      <td>16.0</td>\n",
       "      <td>124.0</td>\n",
       "      <td>11.0</td>\n",
       "      <td>1901.47</td>\n",
       "      <td>2</td>\n",
       "      <td>ultimate</td>\n",
       "      <td>False</td>\n",
       "      <td>70.00</td>\n",
       "    </tr>\n",
       "    <tr>\n",
       "      <td>1</td>\n",
       "      <td>1001</td>\n",
       "      <td>8</td>\n",
       "      <td>27.0</td>\n",
       "      <td>182.0</td>\n",
       "      <td>30.0</td>\n",
       "      <td>6919.15</td>\n",
       "      <td>7</td>\n",
       "      <td>surf</td>\n",
       "      <td>False</td>\n",
       "      <td>20.00</td>\n",
       "    </tr>\n",
       "    <tr>\n",
       "      <td>2</td>\n",
       "      <td>1001</td>\n",
       "      <td>9</td>\n",
       "      <td>49.0</td>\n",
       "      <td>315.0</td>\n",
       "      <td>44.0</td>\n",
       "      <td>13314.82</td>\n",
       "      <td>14</td>\n",
       "      <td>surf</td>\n",
       "      <td>False</td>\n",
       "      <td>20.00</td>\n",
       "    </tr>\n",
       "    <tr>\n",
       "      <td>3</td>\n",
       "      <td>1001</td>\n",
       "      <td>10</td>\n",
       "      <td>65.0</td>\n",
       "      <td>393.0</td>\n",
       "      <td>53.0</td>\n",
       "      <td>22330.49</td>\n",
       "      <td>22</td>\n",
       "      <td>surf</td>\n",
       "      <td>False</td>\n",
       "      <td>90.09</td>\n",
       "    </tr>\n",
       "    <tr>\n",
       "      <td>4</td>\n",
       "      <td>1001</td>\n",
       "      <td>11</td>\n",
       "      <td>64.0</td>\n",
       "      <td>426.0</td>\n",
       "      <td>36.0</td>\n",
       "      <td>18504.30</td>\n",
       "      <td>19</td>\n",
       "      <td>surf</td>\n",
       "      <td>False</td>\n",
       "      <td>60.00</td>\n",
       "    </tr>\n",
       "    <tr>\n",
       "      <td>...</td>\n",
       "      <td>...</td>\n",
       "      <td>...</td>\n",
       "      <td>...</td>\n",
       "      <td>...</td>\n",
       "      <td>...</td>\n",
       "      <td>...</td>\n",
       "      <td>...</td>\n",
       "      <td>...</td>\n",
       "      <td>...</td>\n",
       "      <td>...</td>\n",
       "    </tr>\n",
       "    <tr>\n",
       "      <td>2288</td>\n",
       "      <td>1349</td>\n",
       "      <td>12</td>\n",
       "      <td>0.0</td>\n",
       "      <td>0.0</td>\n",
       "      <td>61.0</td>\n",
       "      <td>13039.91</td>\n",
       "      <td>13</td>\n",
       "      <td>surf</td>\n",
       "      <td>False</td>\n",
       "      <td>20.33</td>\n",
       "    </tr>\n",
       "    <tr>\n",
       "      <td>2289</td>\n",
       "      <td>1361</td>\n",
       "      <td>5</td>\n",
       "      <td>0.0</td>\n",
       "      <td>0.0</td>\n",
       "      <td>2.0</td>\n",
       "      <td>1519.69</td>\n",
       "      <td>2</td>\n",
       "      <td>surf</td>\n",
       "      <td>False</td>\n",
       "      <td>20.00</td>\n",
       "    </tr>\n",
       "    <tr>\n",
       "      <td>2290</td>\n",
       "      <td>1482</td>\n",
       "      <td>10</td>\n",
       "      <td>0.0</td>\n",
       "      <td>0.0</td>\n",
       "      <td>2.0</td>\n",
       "      <td>0.00</td>\n",
       "      <td>0</td>\n",
       "      <td>ultimate</td>\n",
       "      <td>True</td>\n",
       "      <td>70.00</td>\n",
       "    </tr>\n",
       "    <tr>\n",
       "      <td>2291</td>\n",
       "      <td>1108</td>\n",
       "      <td>12</td>\n",
       "      <td>0.0</td>\n",
       "      <td>0.0</td>\n",
       "      <td>0.0</td>\n",
       "      <td>233.17</td>\n",
       "      <td>1</td>\n",
       "      <td>ultimate</td>\n",
       "      <td>False</td>\n",
       "      <td>70.00</td>\n",
       "    </tr>\n",
       "    <tr>\n",
       "      <td>2292</td>\n",
       "      <td>1311</td>\n",
       "      <td>6</td>\n",
       "      <td>0.0</td>\n",
       "      <td>0.0</td>\n",
       "      <td>0.0</td>\n",
       "      <td>1498.83</td>\n",
       "      <td>2</td>\n",
       "      <td>ultimate</td>\n",
       "      <td>False</td>\n",
       "      <td>70.00</td>\n",
       "    </tr>\n",
       "  </tbody>\n",
       "</table>\n",
       "<p>2293 rows × 10 columns</p>\n",
       "</div>"
      ],
      "text/plain": [
       "      user_id  month  calls  minutes  messages   mb_used  gb_charged  \\\n",
       "0        1000     12   16.0    124.0      11.0   1901.47           2   \n",
       "1        1001      8   27.0    182.0      30.0   6919.15           7   \n",
       "2        1001      9   49.0    315.0      44.0  13314.82          14   \n",
       "3        1001     10   65.0    393.0      53.0  22330.49          22   \n",
       "4        1001     11   64.0    426.0      36.0  18504.30          19   \n",
       "...       ...    ...    ...      ...       ...       ...         ...   \n",
       "2288     1349     12    0.0      0.0      61.0  13039.91          13   \n",
       "2289     1361      5    0.0      0.0       2.0   1519.69           2   \n",
       "2290     1482     10    0.0      0.0       2.0      0.00           0   \n",
       "2291     1108     12    0.0      0.0       0.0    233.17           1   \n",
       "2292     1311      6    0.0      0.0       0.0   1498.83           2   \n",
       "\n",
       "          plan  NY_NJ  revenue  \n",
       "0     ultimate  False    70.00  \n",
       "1         surf  False    20.00  \n",
       "2         surf  False    20.00  \n",
       "3         surf  False    90.09  \n",
       "4         surf  False    60.00  \n",
       "...        ...    ...      ...  \n",
       "2288      surf  False    20.33  \n",
       "2289      surf  False    20.00  \n",
       "2290  ultimate   True    70.00  \n",
       "2291  ultimate  False    70.00  \n",
       "2292  ultimate  False    70.00  \n",
       "\n",
       "[2293 rows x 10 columns]"
      ]
     },
     "execution_count": 46,
     "metadata": {},
     "output_type": "execute_result"
    }
   ],
   "source": [
    "# Calculate the monthly revenues for each user\n",
    "def monthly_revenue(user_pivot):\n",
    "    \n",
    "    if user_pivot['plan'] == 'surf':\n",
    "        plan = plans.query('plan_name == \"surf\"')\n",
    "    if user_pivot['plan'] == 'ultimate':\n",
    "        plan = plans.query('plan_name == \"ultimate\"')\n",
    "        \n",
    "    user_pivot['revenue'] = plan['usd_monthly_pay'].values[0]\n",
    "    if user_pivot['minutes'] > plan['minutes_included'].values[0]:\n",
    "        user_pivot['revenue'] += (\n",
    "            (plan['usd_per_minute'].values[0])*\n",
    "            (user_pivot['minutes'] - plan['minutes_included'].values[0]))\n",
    "    if user_pivot['messages'] > plan['messages_included'].values[0]:\n",
    "        user_pivot['revenue'] += (\n",
    "            (plan['usd_per_message'].values[0])*\n",
    "            (user_pivot['messages'] - plan['messages_included'].values[0]))\n",
    "    if user_pivot['gb_charged'] > plan['gb_per_month_included'].values[0]:\n",
    "        user_pivot['revenue'] += (\n",
    "            (plan['usd_per_gb'].values[0])*\n",
    "            (user_pivot['gb_charged'] - plan['gb_per_month_included'].values[0]))\n",
    "        \n",
    "    return user_pivot['revenue']\n",
    "\n",
    "user_pivot['revenue'] = user_pivot.apply(monthly_revenue, axis=1)            \n",
    "user_pivot  "
   ]
  },
  {
   "cell_type": "code",
   "execution_count": null,
   "metadata": {},
   "outputs": [],
   "source": [
    "def monthly_revenue_review(row):\n",
    "\n",
    "    money = 0\n",
    "    \n",
    "    plan = row['plan']\n",
    "    calls_sum = row['calls']\n",
    "    messages_count = row['messages']\n",
    "    gb_sum_internet = row['gb_charged']\n",
    "    \n",
    "    # Here we calculate difference between real usage and included in the plan\n",
    "    difference_calls = calls_sum - float(plans[plans['plan_name'] == plan]['minutes_included'])\n",
    "    difference_messages = messages_count - float(plans[plans['plan_name'] == plan]['messages_included'])\n",
    "    difference_internet = gb_sum_internet - float(plans[plans['plan_name'] == plan]['gb_per_month_included'])\n",
    "    \n",
    "    \n",
    "    # If the user went beyond the plan, calculate additional fee\n",
    "    if (difference_calls > 0):\n",
    "        money += difference_calls * float(plans[plans['plan_name'] == plan]['usd_per_minute'])\n",
    "    if difference_messages > 0:\n",
    "        money += difference_messages * float(plans[plans['plan_name'] == plan]['usd_per_message'])\n",
    "    if difference_internet > 0:\n",
    "        money += difference_internet * float(plans[plans['plan_name'] == plan]['usd_per_gb'])\n",
    "    \n",
    "    # add monthly fees\n",
    "    money += float(plans[plans['plan_name'] == plan]['usd_monthly_pay'])\n",
    "    \n",
    "    return money\n"
   ]
  },
  {
   "cell_type": "markdown",
   "metadata": {},
   "source": [
    "## Study user behaviour"
   ]
  },
  {
   "cell_type": "markdown",
   "metadata": {},
   "source": [
    "We will now analyse user behavior and calculate some descriptive statistics. Given that the main task is to compare the plans and decide on which one is more profitable, the main aim of this section is to compare user behavior between the two plans.\n"
   ]
  },
  {
   "cell_type": "markdown",
   "metadata": {},
   "source": [
    "### Calls\n",
    "\n",
    "#### Average duration of an individual call "
   ]
  },
  {
   "cell_type": "code",
   "execution_count": 47,
   "metadata": {
    "scrolled": false
   },
   "outputs": [
    {
     "data": {
      "text/html": [
       "<div>\n",
       "<style scoped>\n",
       "    .dataframe tbody tr th:only-of-type {\n",
       "        vertical-align: middle;\n",
       "    }\n",
       "\n",
       "    .dataframe tbody tr th {\n",
       "        vertical-align: top;\n",
       "    }\n",
       "\n",
       "    .dataframe thead th {\n",
       "        text-align: right;\n",
       "    }\n",
       "</style>\n",
       "<table border=\"1\" class=\"dataframe\">\n",
       "  <thead>\n",
       "    <tr style=\"text-align: right;\">\n",
       "      <th></th>\n",
       "      <th>user_id</th>\n",
       "      <th>month</th>\n",
       "      <th>calls</th>\n",
       "      <th>minutes</th>\n",
       "      <th>messages</th>\n",
       "      <th>mb_used</th>\n",
       "      <th>gb_charged</th>\n",
       "      <th>plan</th>\n",
       "      <th>NY_NJ</th>\n",
       "      <th>revenue</th>\n",
       "      <th>av_call</th>\n",
       "    </tr>\n",
       "  </thead>\n",
       "  <tbody>\n",
       "    <tr>\n",
       "      <td>0</td>\n",
       "      <td>1000</td>\n",
       "      <td>12</td>\n",
       "      <td>16.0</td>\n",
       "      <td>124.0</td>\n",
       "      <td>11.0</td>\n",
       "      <td>1901.47</td>\n",
       "      <td>2</td>\n",
       "      <td>ultimate</td>\n",
       "      <td>False</td>\n",
       "      <td>70.00</td>\n",
       "      <td>7.750000</td>\n",
       "    </tr>\n",
       "    <tr>\n",
       "      <td>1</td>\n",
       "      <td>1001</td>\n",
       "      <td>8</td>\n",
       "      <td>27.0</td>\n",
       "      <td>182.0</td>\n",
       "      <td>30.0</td>\n",
       "      <td>6919.15</td>\n",
       "      <td>7</td>\n",
       "      <td>surf</td>\n",
       "      <td>False</td>\n",
       "      <td>20.00</td>\n",
       "      <td>6.740741</td>\n",
       "    </tr>\n",
       "    <tr>\n",
       "      <td>2</td>\n",
       "      <td>1001</td>\n",
       "      <td>9</td>\n",
       "      <td>49.0</td>\n",
       "      <td>315.0</td>\n",
       "      <td>44.0</td>\n",
       "      <td>13314.82</td>\n",
       "      <td>14</td>\n",
       "      <td>surf</td>\n",
       "      <td>False</td>\n",
       "      <td>20.00</td>\n",
       "      <td>6.428571</td>\n",
       "    </tr>\n",
       "    <tr>\n",
       "      <td>3</td>\n",
       "      <td>1001</td>\n",
       "      <td>10</td>\n",
       "      <td>65.0</td>\n",
       "      <td>393.0</td>\n",
       "      <td>53.0</td>\n",
       "      <td>22330.49</td>\n",
       "      <td>22</td>\n",
       "      <td>surf</td>\n",
       "      <td>False</td>\n",
       "      <td>90.09</td>\n",
       "      <td>6.046154</td>\n",
       "    </tr>\n",
       "    <tr>\n",
       "      <td>4</td>\n",
       "      <td>1001</td>\n",
       "      <td>11</td>\n",
       "      <td>64.0</td>\n",
       "      <td>426.0</td>\n",
       "      <td>36.0</td>\n",
       "      <td>18504.30</td>\n",
       "      <td>19</td>\n",
       "      <td>surf</td>\n",
       "      <td>False</td>\n",
       "      <td>60.00</td>\n",
       "      <td>6.656250</td>\n",
       "    </tr>\n",
       "    <tr>\n",
       "      <td>...</td>\n",
       "      <td>...</td>\n",
       "      <td>...</td>\n",
       "      <td>...</td>\n",
       "      <td>...</td>\n",
       "      <td>...</td>\n",
       "      <td>...</td>\n",
       "      <td>...</td>\n",
       "      <td>...</td>\n",
       "      <td>...</td>\n",
       "      <td>...</td>\n",
       "      <td>...</td>\n",
       "    </tr>\n",
       "    <tr>\n",
       "      <td>2288</td>\n",
       "      <td>1349</td>\n",
       "      <td>12</td>\n",
       "      <td>0.0</td>\n",
       "      <td>0.0</td>\n",
       "      <td>61.0</td>\n",
       "      <td>13039.91</td>\n",
       "      <td>13</td>\n",
       "      <td>surf</td>\n",
       "      <td>False</td>\n",
       "      <td>20.33</td>\n",
       "      <td>NaN</td>\n",
       "    </tr>\n",
       "    <tr>\n",
       "      <td>2289</td>\n",
       "      <td>1361</td>\n",
       "      <td>5</td>\n",
       "      <td>0.0</td>\n",
       "      <td>0.0</td>\n",
       "      <td>2.0</td>\n",
       "      <td>1519.69</td>\n",
       "      <td>2</td>\n",
       "      <td>surf</td>\n",
       "      <td>False</td>\n",
       "      <td>20.00</td>\n",
       "      <td>NaN</td>\n",
       "    </tr>\n",
       "    <tr>\n",
       "      <td>2290</td>\n",
       "      <td>1482</td>\n",
       "      <td>10</td>\n",
       "      <td>0.0</td>\n",
       "      <td>0.0</td>\n",
       "      <td>2.0</td>\n",
       "      <td>0.00</td>\n",
       "      <td>0</td>\n",
       "      <td>ultimate</td>\n",
       "      <td>True</td>\n",
       "      <td>70.00</td>\n",
       "      <td>NaN</td>\n",
       "    </tr>\n",
       "    <tr>\n",
       "      <td>2291</td>\n",
       "      <td>1108</td>\n",
       "      <td>12</td>\n",
       "      <td>0.0</td>\n",
       "      <td>0.0</td>\n",
       "      <td>0.0</td>\n",
       "      <td>233.17</td>\n",
       "      <td>1</td>\n",
       "      <td>ultimate</td>\n",
       "      <td>False</td>\n",
       "      <td>70.00</td>\n",
       "      <td>NaN</td>\n",
       "    </tr>\n",
       "    <tr>\n",
       "      <td>2292</td>\n",
       "      <td>1311</td>\n",
       "      <td>6</td>\n",
       "      <td>0.0</td>\n",
       "      <td>0.0</td>\n",
       "      <td>0.0</td>\n",
       "      <td>1498.83</td>\n",
       "      <td>2</td>\n",
       "      <td>ultimate</td>\n",
       "      <td>False</td>\n",
       "      <td>70.00</td>\n",
       "      <td>NaN</td>\n",
       "    </tr>\n",
       "  </tbody>\n",
       "</table>\n",
       "<p>2293 rows × 11 columns</p>\n",
       "</div>"
      ],
      "text/plain": [
       "      user_id  month  calls  minutes  messages   mb_used  gb_charged  \\\n",
       "0        1000     12   16.0    124.0      11.0   1901.47           2   \n",
       "1        1001      8   27.0    182.0      30.0   6919.15           7   \n",
       "2        1001      9   49.0    315.0      44.0  13314.82          14   \n",
       "3        1001     10   65.0    393.0      53.0  22330.49          22   \n",
       "4        1001     11   64.0    426.0      36.0  18504.30          19   \n",
       "...       ...    ...    ...      ...       ...       ...         ...   \n",
       "2288     1349     12    0.0      0.0      61.0  13039.91          13   \n",
       "2289     1361      5    0.0      0.0       2.0   1519.69           2   \n",
       "2290     1482     10    0.0      0.0       2.0      0.00           0   \n",
       "2291     1108     12    0.0      0.0       0.0    233.17           1   \n",
       "2292     1311      6    0.0      0.0       0.0   1498.83           2   \n",
       "\n",
       "          plan  NY_NJ  revenue   av_call  \n",
       "0     ultimate  False    70.00  7.750000  \n",
       "1         surf  False    20.00  6.740741  \n",
       "2         surf  False    20.00  6.428571  \n",
       "3         surf  False    90.09  6.046154  \n",
       "4         surf  False    60.00  6.656250  \n",
       "...        ...    ...      ...       ...  \n",
       "2288      surf  False    20.33       NaN  \n",
       "2289      surf  False    20.00       NaN  \n",
       "2290  ultimate   True    70.00       NaN  \n",
       "2291  ultimate  False    70.00       NaN  \n",
       "2292  ultimate  False    70.00       NaN  \n",
       "\n",
       "[2293 rows x 11 columns]"
      ]
     },
     "execution_count": 47,
     "metadata": {},
     "output_type": "execute_result"
    }
   ],
   "source": [
    "# Calaulate average duration of calls per each plan per each distinct month:\n",
    "user_pivot['av_call'] = user_pivot['minutes'] / user_pivot['calls'] \n",
    "user_pivot"
   ]
  },
  {
   "cell_type": "code",
   "execution_count": 48,
   "metadata": {},
   "outputs": [],
   "source": [
    "# fill the NaN average values with 0:\n",
    "user_pivot = user_pivot.fillna(0)"
   ]
  },
  {
   "cell_type": "code",
   "execution_count": 49,
   "metadata": {
    "scrolled": true
   },
   "outputs": [
    {
     "data": {
      "text/html": [
       "<div>\n",
       "<style scoped>\n",
       "    .dataframe tbody tr th:only-of-type {\n",
       "        vertical-align: middle;\n",
       "    }\n",
       "\n",
       "    .dataframe tbody tr th {\n",
       "        vertical-align: top;\n",
       "    }\n",
       "\n",
       "    .dataframe thead th {\n",
       "        text-align: right;\n",
       "    }\n",
       "</style>\n",
       "<table border=\"1\" class=\"dataframe\">\n",
       "  <thead>\n",
       "    <tr style=\"text-align: right;\">\n",
       "      <th>plan</th>\n",
       "      <th>surf</th>\n",
       "      <th>ultimate</th>\n",
       "    </tr>\n",
       "    <tr>\n",
       "      <th>month</th>\n",
       "      <th></th>\n",
       "      <th></th>\n",
       "    </tr>\n",
       "  </thead>\n",
       "  <tbody>\n",
       "    <tr>\n",
       "      <td>1</td>\n",
       "      <td>6.642857</td>\n",
       "      <td>6.201915</td>\n",
       "    </tr>\n",
       "    <tr>\n",
       "      <td>2</td>\n",
       "      <td>6.814628</td>\n",
       "      <td>6.053403</td>\n",
       "    </tr>\n",
       "    <tr>\n",
       "      <td>3</td>\n",
       "      <td>7.199957</td>\n",
       "      <td>6.393757</td>\n",
       "    </tr>\n",
       "    <tr>\n",
       "      <td>4</td>\n",
       "      <td>7.040349</td>\n",
       "      <td>7.215266</td>\n",
       "    </tr>\n",
       "    <tr>\n",
       "      <td>5</td>\n",
       "      <td>6.996065</td>\n",
       "      <td>7.121973</td>\n",
       "    </tr>\n",
       "    <tr>\n",
       "      <td>6</td>\n",
       "      <td>7.141114</td>\n",
       "      <td>6.807941</td>\n",
       "    </tr>\n",
       "    <tr>\n",
       "      <td>7</td>\n",
       "      <td>6.969665</td>\n",
       "      <td>7.324718</td>\n",
       "    </tr>\n",
       "    <tr>\n",
       "      <td>8</td>\n",
       "      <td>6.995927</td>\n",
       "      <td>7.018966</td>\n",
       "    </tr>\n",
       "    <tr>\n",
       "      <td>9</td>\n",
       "      <td>7.017420</td>\n",
       "      <td>7.117788</td>\n",
       "    </tr>\n",
       "    <tr>\n",
       "      <td>10</td>\n",
       "      <td>6.953572</td>\n",
       "      <td>7.024169</td>\n",
       "    </tr>\n",
       "    <tr>\n",
       "      <td>11</td>\n",
       "      <td>7.083883</td>\n",
       "      <td>6.969518</td>\n",
       "    </tr>\n",
       "    <tr>\n",
       "      <td>12</td>\n",
       "      <td>7.059456</td>\n",
       "      <td>6.971843</td>\n",
       "    </tr>\n",
       "  </tbody>\n",
       "</table>\n",
       "</div>"
      ],
      "text/plain": [
       "plan       surf  ultimate\n",
       "month                    \n",
       "1      6.642857  6.201915\n",
       "2      6.814628  6.053403\n",
       "3      7.199957  6.393757\n",
       "4      7.040349  7.215266\n",
       "5      6.996065  7.121973\n",
       "6      7.141114  6.807941\n",
       "7      6.969665  7.324718\n",
       "8      6.995927  7.018966\n",
       "9      7.017420  7.117788\n",
       "10     6.953572  7.024169\n",
       "11     7.083883  6.969518\n",
       "12     7.059456  6.971843"
      ]
     },
     "execution_count": 49,
     "metadata": {},
     "output_type": "execute_result"
    }
   ],
   "source": [
    "# Compare average duration of call (per month) between the plans  \n",
    "comp_av_call = user_pivot.pivot_table(index='month', columns='plan', values='av_call', aggfunc='mean')\n",
    "comp_av_call"
   ]
  },
  {
   "cell_type": "code",
   "execution_count": 50,
   "metadata": {
    "scrolled": true
   },
   "outputs": [
    {
     "data": {
      "image/png": "[encoded data removed]",
      "text/plain": [
       "<Figure size 432x288 with 1 Axes>"
      ]
     },
     "metadata": {
      "needs_background": "light"
     },
     "output_type": "display_data"
    }
   ],
   "source": [
    "# a bar plot to visualize the average call time:\n",
    "comp_av_call.plot(kind='bar', grid=True)\n",
    "plt.title('Average call time(min.) per month')\n",
    "plt.ylabel('min.')\n",
    "plt.show;"
   ]
  },
  {
   "cell_type": "markdown",
   "metadata": {},
   "source": [
    "**Conclusions:**\n",
    "\n",
    "Generally speaking, average call duration (after rounding up each call) is similar between the plans, and is between 6 - 7.3 minutes per call. \n",
    "\n",
    "In some months (Jan-Mar) we can see Surf users with a bit higher average call duration than Ultimate, and in some others ( April, Jul) Ultimate users have a bit higher average call duration then Surf (but to a much smaller extnt). But the overall general picture is similar user behavior. "
   ]
  },
  {
   "cell_type": "markdown",
   "metadata": {},
   "source": [
    "#### Monthly minutes "
   ]
  },
  {
   "cell_type": "code",
   "execution_count": 51,
   "metadata": {
    "scrolled": true
   },
   "outputs": [
    {
     "data": {
      "text/plain": [
       "count    1573.000000\n",
       "mean      428.749523\n",
       "std       234.453150\n",
       "min         0.000000\n",
       "25%       272.000000\n",
       "50%       425.000000\n",
       "75%       576.000000\n",
       "max      1510.000000\n",
       "Name: minutes, dtype: float64"
      ]
     },
     "execution_count": 51,
     "metadata": {},
     "output_type": "execute_result"
    }
   ],
   "source": [
    "# stats for monthly minutes per plan - first Surf:\n",
    "user_pivot.query('plan == \"surf\"')['minutes'].describe()"
   ]
  },
  {
   "cell_type": "code",
   "execution_count": 52,
   "metadata": {
    "scrolled": true
   },
   "outputs": [
    {
     "data": {
      "text/plain": [
       "count     720.000000\n",
       "mean      430.450000\n",
       "std       240.508762\n",
       "min         0.000000\n",
       "25%       260.000000\n",
       "50%       424.000000\n",
       "75%       565.250000\n",
       "max      1369.000000\n",
       "Name: minutes, dtype: float64"
      ]
     },
     "execution_count": 52,
     "metadata": {},
     "output_type": "execute_result"
    }
   ],
   "source": [
    "# stats for monthly minutes per plan - now Ultimate:\n",
    "user_pivot.query('plan == \"ultimate\"')['minutes'].describe() "
   ]
  },
  {
   "cell_type": "markdown",
   "metadata": {},
   "source": [
    "When we check the monthly minutes (which is the relevant number for payment) - we see **very close means**: 428.75 for Surf, and 430.45 for Ultimate. Standard deviations are also similar (234.45 vs. 240.51). **Medians are also similar**: 425 for Surf, and 424 for Ultimate. The whole IQR is generally speaking close between the plans, with slight higher numbers in Surf (272-576) vs. Ultimate (260-565). The max monthly minutes of Surf (1510) is also higher than Ultimate (1369).\n",
    "\n",
    "Thinking about the plans conditions: it is noteworthy that no client was even close to reach the minutes included in Ultimate (3000), while for Surf the minutes included (500) are somewhere in the middle of third quartile of paid months, meaning way more than a qarter of the Surf months had extra payment for minutes. \n",
    "\n",
    "Remembering we have 1573 Surf months and only 720 Ultimate months in our minutes data, We will now visualise the distributions of monthly minutes in each plan:  "
   ]
  },
  {
   "cell_type": "code",
   "execution_count": 53,
   "metadata": {
    "scrolled": false
   },
   "outputs": [
    {
     "data": {
      "image/png": "[encoded data removed]",
      "text/plain": [
       "<Figure size 432x288 with 1 Axes>"
      ]
     },
     "metadata": {
      "needs_background": "light"
     },
     "output_type": "display_data"
    }
   ],
   "source": [
    "# a histogram of monthly minutes distributions of both plans: \n",
    "user_pivot.query('plan == \"surf\"')['minutes'].hist(grid=True)\n",
    "user_pivot.query('plan == \"ultimate\"')['minutes'].hist()\n",
    "plt.title('Monthly minutes distribution per plan')\n",
    "plt.xlabel('Monthly minutes')\n",
    "plt.ylabel('Entries')\n",
    "plt.legend(['Surf', 'Ultimate'])\n",
    "plt.show;"
   ]
  },
  {
   "cell_type": "markdown",
   "metadata": {},
   "source": [
    "Blue is Surf (1573 entries) and orange is Ultimate (720 entries). While the general distribution seems similar (as the numbers above suggested) - we can see here that Surf has highest frequesncy months with ~300-450 monthly calls, and ~450-600 is still very high but a little lower, while Ultimate has it's highest frequency with ~450-550 monthly calls, and the ~300-450 calls has much lower amount of months. \n",
    "\n",
    "Still, for our comparisment the similarity seems for now more powerfull than the differences. We will compare again mean and variance - which are the most important for statistical comparisment:"
   ]
  },
  {
   "cell_type": "code",
   "execution_count": 54,
   "metadata": {
    "scrolled": true
   },
   "outputs": [
    {
     "data": {
      "text/html": [
       "<div>\n",
       "<style scoped>\n",
       "    .dataframe tbody tr th:only-of-type {\n",
       "        vertical-align: middle;\n",
       "    }\n",
       "\n",
       "    .dataframe tbody tr th {\n",
       "        vertical-align: top;\n",
       "    }\n",
       "\n",
       "    .dataframe thead tr th {\n",
       "        text-align: left;\n",
       "    }\n",
       "\n",
       "    .dataframe thead tr:last-of-type th {\n",
       "        text-align: right;\n",
       "    }\n",
       "</style>\n",
       "<table border=\"1\" class=\"dataframe\">\n",
       "  <thead>\n",
       "    <tr>\n",
       "      <th></th>\n",
       "      <th>mean</th>\n",
       "      <th>var</th>\n",
       "    </tr>\n",
       "    <tr>\n",
       "      <th></th>\n",
       "      <th>minutes</th>\n",
       "      <th>minutes</th>\n",
       "    </tr>\n",
       "    <tr>\n",
       "      <th>plan</th>\n",
       "      <th></th>\n",
       "      <th></th>\n",
       "    </tr>\n",
       "  </thead>\n",
       "  <tbody>\n",
       "    <tr>\n",
       "      <td>surf</td>\n",
       "      <td>428.749523</td>\n",
       "      <td>54968.279461</td>\n",
       "    </tr>\n",
       "    <tr>\n",
       "      <td>ultimate</td>\n",
       "      <td>430.450000</td>\n",
       "      <td>57844.464812</td>\n",
       "    </tr>\n",
       "  </tbody>\n",
       "</table>\n",
       "</div>"
      ],
      "text/plain": [
       "                mean           var\n",
       "             minutes       minutes\n",
       "plan                              \n",
       "surf      428.749523  54968.279461\n",
       "ultimate  430.450000  57844.464812"
      ]
     },
     "execution_count": 54,
     "metadata": {},
     "output_type": "execute_result"
    }
   ],
   "source": [
    "# Compare the mean and the variance of the monthly call duration\n",
    "comp_min_stats = user_pivot.pivot_table(index='plan', values='minutes', aggfunc=['mean', 'var'])\n",
    "comp_min_stats"
   ]
  },
  {
   "cell_type": "markdown",
   "metadata": {},
   "source": [
    "Both mean and variance of monthly minutes are clearly similar between the plans. Let's visualize it in a boxplot: "
   ]
  },
  {
   "cell_type": "code",
   "execution_count": 59,
   "metadata": {
    "scrolled": false
   },
   "outputs": [
    {
     "data": {
      "image/png": "[encoded data removed]",
      "text/plain": [
       "<Figure size 720x432 with 1 Axes>"
      ]
     },
     "metadata": {
      "needs_background": "light"
     },
     "output_type": "display_data"
    }
   ],
   "source": [
    "# Plot a boxplot to visualize the distribution of the monthly call duration\n",
    "fig, ax = plt.subplots(figsize=(10,6))    \n",
    "user_pivot.boxplot('minutes', by='plan', ax = ax)\n",
    "plt.ylabel('Monthly minutes')\n",
    "plt.show()  "
   ]
  },
  {
   "cell_type": "markdown",
   "metadata": {},
   "source": [
    "The similarity of the whole IQR between the plans is shown clearly in the boxplot.\n",
    "\n",
    "\n",
    "**General Conclusion:**\n",
    "\n",
    "User behavior about calls is similar between the two plans. "
   ]
  },
  {
   "cell_type": "markdown",
   "metadata": {},
   "source": [
    "### Messages"
   ]
  },
  {
   "cell_type": "code",
   "execution_count": 60,
   "metadata": {
    "scrolled": true
   },
   "outputs": [
    {
     "data": {
      "image/png": "[encoded data removed]",
      "text/plain": [
       "<Figure size 432x288 with 1 Axes>"
      ]
     },
     "metadata": {
      "needs_background": "light"
     },
     "output_type": "display_data"
    }
   ],
   "source": [
    "# Compare the number of messages users of each plan tend to send each month\n",
    "user_pivot.pivot_table(index='month', columns='plan', values='messages',\n",
    "                       aggfunc='mean').plot(kind='bar', grid=True)\n",
    "plt.title('Average messages per month')\n",
    "plt.ylabel('messages')\n",
    "plt.show;"
   ]
  },
  {
   "cell_type": "markdown",
   "metadata": {},
   "source": [
    "Here the picture seems more diversed: in almost all months Ultimate clients tend to send more messages than Surf clients. In some months (e.g. Feb, May and more) we see what seems like a meaningful difference. Let's check and compare the numbers:  "
   ]
  },
  {
   "cell_type": "code",
   "execution_count": 61,
   "metadata": {},
   "outputs": [
    {
     "data": {
      "text/plain": [
       "count    1573.000000\n",
       "mean       31.159568\n",
       "std        33.566717\n",
       "min         0.000000\n",
       "25%         3.000000\n",
       "50%        24.000000\n",
       "75%        47.000000\n",
       "max       266.000000\n",
       "Name: messages, dtype: float64"
      ]
     },
     "execution_count": 61,
     "metadata": {},
     "output_type": "execute_result"
    }
   ],
   "source": [
    "# stats for monthly messages per plan - first Surf:\n",
    "user_pivot.query('plan == \"surf\"')['messages'].describe()"
   ]
  },
  {
   "cell_type": "code",
   "execution_count": 62,
   "metadata": {},
   "outputs": [
    {
     "data": {
      "text/plain": [
       "count    720.000000\n",
       "mean      37.551389\n",
       "std       34.767179\n",
       "min        0.000000\n",
       "25%        7.000000\n",
       "50%       30.000000\n",
       "75%       61.000000\n",
       "max      166.000000\n",
       "Name: messages, dtype: float64"
      ]
     },
     "execution_count": 62,
     "metadata": {},
     "output_type": "execute_result"
    }
   ],
   "source": [
    "# stats for monthly messages per plan - now Ultimate:\n",
    "user_pivot.query('plan == \"ultimate\"')['messages'].describe()"
   ]
  },
  {
   "cell_type": "markdown",
   "metadata": {},
   "source": [
    "Ultimate have higher numbers for almost all stats: mean 37.55 messages (Surf 31.16), median 30 (Surf 24), IQR 7-61 (Surf 3-47). Standard deviation is similar (~33-34 both plans). Max monthly messages of Surf (266) is higher than Ultimate (166).\n",
    "\n",
    "Payment wise - again no Ultimate user is even close to reach the monthly messages included (1000), while almost a quarter of Surf paid months had extra payment (above 50 messages). \n",
    "\n",
    "Remembering that Surf has here (again) 1573 entries and Ultimae only 720 - let's visualize the monthly messages distributions in each plan with a histograms graph: "
   ]
  },
  {
   "cell_type": "code",
   "execution_count": 63,
   "metadata": {},
   "outputs": [
    {
     "data": {
      "image/png": "[encoded data removed]",
      "text/plain": [
       "<Figure size 432x288 with 1 Axes>"
      ]
     },
     "metadata": {
      "needs_background": "light"
     },
     "output_type": "display_data"
    }
   ],
   "source": [
    "# a histogram of monthly messages distributions of both plans: \n",
    "user_pivot.query('plan == \"surf\"')['messages'].hist(grid=True)\n",
    "user_pivot.query('plan == \"ultimate\"')['messages'].hist()\n",
    "plt.title('Monthly messages distribution per plan')\n",
    "plt.xlabel('Monthly messages')\n",
    "plt.ylabel('Entries')\n",
    "plt.legend(['Surf', 'Ultimate'])\n",
    "plt.show;"
   ]
  },
  {
   "cell_type": "markdown",
   "metadata": {},
   "source": [
    "The comparisment shows clearly how in Surf - unlike Ultimate - the lower numbers of messages (0-50) have picks of large amounts of entries (more than 1200 out of all 1573), while in Ultimate the amount of entries with higher numbers of messages are more substantial, and the histogram is more \"shallow\". That fits the higher monthly messages stats of Ultimate we saw above.\n",
    "\n",
    "We will now summerize the comparisment of mean and variance of monthly messages between the plans: "
   ]
  },
  {
   "cell_type": "code",
   "execution_count": 64,
   "metadata": {
    "scrolled": true
   },
   "outputs": [
    {
     "data": {
      "text/html": [
       "<div>\n",
       "<style scoped>\n",
       "    .dataframe tbody tr th:only-of-type {\n",
       "        vertical-align: middle;\n",
       "    }\n",
       "\n",
       "    .dataframe tbody tr th {\n",
       "        vertical-align: top;\n",
       "    }\n",
       "\n",
       "    .dataframe thead tr th {\n",
       "        text-align: left;\n",
       "    }\n",
       "\n",
       "    .dataframe thead tr:last-of-type th {\n",
       "        text-align: right;\n",
       "    }\n",
       "</style>\n",
       "<table border=\"1\" class=\"dataframe\">\n",
       "  <thead>\n",
       "    <tr>\n",
       "      <th></th>\n",
       "      <th>mean</th>\n",
       "      <th>var</th>\n",
       "    </tr>\n",
       "    <tr>\n",
       "      <th></th>\n",
       "      <th>messages</th>\n",
       "      <th>messages</th>\n",
       "    </tr>\n",
       "    <tr>\n",
       "      <th>plan</th>\n",
       "      <th></th>\n",
       "      <th></th>\n",
       "    </tr>\n",
       "  </thead>\n",
       "  <tbody>\n",
       "    <tr>\n",
       "      <td>surf</td>\n",
       "      <td>31.159568</td>\n",
       "      <td>1126.724522</td>\n",
       "    </tr>\n",
       "    <tr>\n",
       "      <td>ultimate</td>\n",
       "      <td>37.551389</td>\n",
       "      <td>1208.756744</td>\n",
       "    </tr>\n",
       "  </tbody>\n",
       "</table>\n",
       "</div>"
      ],
      "text/plain": [
       "               mean          var\n",
       "           messages     messages\n",
       "plan                            \n",
       "surf      31.159568  1126.724522\n",
       "ultimate  37.551389  1208.756744"
      ]
     },
     "execution_count": 64,
     "metadata": {},
     "output_type": "execute_result"
    }
   ],
   "source": [
    "# Compare the mean and the variance of the monthly messages\n",
    "comp_mes_stats = user_pivot.pivot_table(index='plan', values='messages', aggfunc=['mean', 'var'])\n",
    "comp_mes_stats"
   ]
  },
  {
   "cell_type": "markdown",
   "metadata": {},
   "source": [
    "Note that the Ultimate mean monthly messages number is more than 20% higher than that of Surf. Variance is similar as mentioned above. Let's visualize the distribution with a boxplot:  "
   ]
  },
  {
   "cell_type": "code",
   "execution_count": 67,
   "metadata": {},
   "outputs": [
    {
     "data": {
      "image/png": "[encoded data removed]",
      "text/plain": [
       "<Figure size 720x432 with 1 Axes>"
      ]
     },
     "metadata": {
      "needs_background": "light"
     },
     "output_type": "display_data"
    }
   ],
   "source": [
    "# Plot a boxplot to visualize the distribution of the monthly messages\n",
    "fig, ax = plt.subplots(figsize=(10,6))    \n",
    "user_pivot.boxplot('messages', by='plan', ax = ax)\n",
    "plt.ylabel('Monthly messages')\n",
    "plt.ylim(0, 150)\n",
    "plt.show()  "
   ]
  },
  {
   "cell_type": "markdown",
   "metadata": {},
   "source": [
    "**General conclusion** \n",
    "\n",
    "Ultimate users tend to send more text messages per month (mean ~15% more) than Surf users.  "
   ]
  },
  {
   "cell_type": "markdown",
   "metadata": {},
   "source": [
    "### Internet\n",
    "\n",
    "Since we are comparing now user behavior - we will use here 'mb_used' and not 'gb_charged' (later we will compare revenue). "
   ]
  },
  {
   "cell_type": "code",
   "execution_count": 69,
   "metadata": {
    "scrolled": true
   },
   "outputs": [
    {
     "data": {
      "image/png": "[encoded data removed]",
      "text/plain": [
       "<Figure size 432x288 with 1 Axes>"
      ]
     },
     "metadata": {
      "needs_background": "light"
     },
     "output_type": "display_data"
    }
   ],
   "source": [
    "# Compare the amount of internet traffic consumed by users per plan per month\n",
    "user_pivot.pivot_table(index='month', columns='plan', values='mb_used',\n",
    "                       aggfunc='mean').plot(kind='bar', grid=True)\n",
    "plt.title('Average internet per month')\n",
    "plt.ylabel('mb_used')\n",
    "plt.legend(loc = 'lower right')\n",
    "plt.show;"
   ]
  },
  {
   "cell_type": "markdown",
   "metadata": {},
   "source": [
    "We see here a mixed picture - some months are very similar between plans (Jun-Dec), while Jan-May show consistent higher internet consumption of Ultimate users compared to Surf users. Let's check the stats: "
   ]
  },
  {
   "cell_type": "code",
   "execution_count": 70,
   "metadata": {},
   "outputs": [
    {
     "data": {
      "text/plain": [
       "count     1573.000000\n",
       "mean     16558.283490\n",
       "std       8013.513327\n",
       "min          0.000000\n",
       "25%      11986.520000\n",
       "50%      16829.310000\n",
       "75%      20999.610000\n",
       "max      70931.590000\n",
       "Name: mb_used, dtype: float64"
      ]
     },
     "execution_count": 70,
     "metadata": {},
     "output_type": "execute_result"
    }
   ],
   "source": [
    "# stats for monthly internet consumption - first Surf:\n",
    "user_pivot.query('plan == \"surf\"')['mb_used'].describe()"
   ]
  },
  {
   "cell_type": "code",
   "execution_count": 71,
   "metadata": {
    "scrolled": true
   },
   "outputs": [
    {
     "data": {
      "text/plain": [
       "count      720.000000\n",
       "mean     17214.699694\n",
       "std       7851.897435\n",
       "min          0.000000\n",
       "25%      12666.955000\n",
       "50%      16858.340000\n",
       "75%      21014.527500\n",
       "max      46595.330000\n",
       "Name: mb_used, dtype: float64"
      ]
     },
     "execution_count": 71,
     "metadata": {},
     "output_type": "execute_result"
    }
   ],
   "source": [
    "# stats for monthly internet consumption - now Ultimate:\n",
    "user_pivot.query('plan == \"ultimate\"')['mb_used'].describe()"
   ]
  },
  {
   "cell_type": "markdown",
   "metadata": {},
   "source": [
    "Generally speaking - we see similarity between the plans on all 3 quartiles, and the difference in mean seems not very meaningful. Standard deviation is also similar (8013.51 for Surf, 7851.9 for Ultimate). \n",
    "For payment - the difference is there: here for the first time we find some Ultimate paid months with extra payment (above 30 GB) - but far less than quarter of the paid months (3rd quartile only ~21 GB), while more than Half(!) of all Surf paid months had extra payment (above 15GB, the median paid for 17GB)."
   ]
  },
  {
   "cell_type": "markdown",
   "metadata": {},
   "source": [
    "Remembering that Surf has here (again) 1573 entries and Ultimae only 720 - let's visualize the monthly internet distributions in each plan with a histograms graph: "
   ]
  },
  {
   "cell_type": "code",
   "execution_count": 72,
   "metadata": {
    "scrolled": true
   },
   "outputs": [
    {
     "data": {
      "image/png": "[encoded data removed]",
      "text/plain": [
       "<Figure size 432x288 with 1 Axes>"
      ]
     },
     "metadata": {
      "needs_background": "light"
     },
     "output_type": "display_data"
    }
   ],
   "source": [
    "# a histogram of monthly internet distributions of both plans: \n",
    "user_pivot.query('plan == \"surf\"')['mb_used'].hist(grid=True)\n",
    "user_pivot.query('plan == \"ultimate\"')['mb_used'].hist()\n",
    "plt.title('Monthly Internet distribution per plan')\n",
    "plt.xlabel('Monthly internet (MB)')\n",
    "plt.ylabel('Entries')\n",
    "plt.legend(['Surf', 'Ultimate'])\n",
    "plt.show;"
   ]
  },
  {
   "cell_type": "markdown",
   "metadata": {},
   "source": [
    "The similarity in distribution identified above - seems clear also in the histograms graph.\n",
    "\n",
    "Staying for now with usage comparismant: let's concentrate on the comparisment of mean and variance of 'mb_used':"
   ]
  },
  {
   "cell_type": "code",
   "execution_count": 73,
   "metadata": {
    "scrolled": true
   },
   "outputs": [
    {
     "data": {
      "text/html": [
       "<div>\n",
       "<style scoped>\n",
       "    .dataframe tbody tr th:only-of-type {\n",
       "        vertical-align: middle;\n",
       "    }\n",
       "\n",
       "    .dataframe tbody tr th {\n",
       "        vertical-align: top;\n",
       "    }\n",
       "\n",
       "    .dataframe thead tr th {\n",
       "        text-align: left;\n",
       "    }\n",
       "\n",
       "    .dataframe thead tr:last-of-type th {\n",
       "        text-align: right;\n",
       "    }\n",
       "</style>\n",
       "<table border=\"1\" class=\"dataframe\">\n",
       "  <thead>\n",
       "    <tr>\n",
       "      <th></th>\n",
       "      <th>mean</th>\n",
       "      <th>var</th>\n",
       "    </tr>\n",
       "    <tr>\n",
       "      <th></th>\n",
       "      <th>mb_used</th>\n",
       "      <th>mb_used</th>\n",
       "    </tr>\n",
       "    <tr>\n",
       "      <th>plan</th>\n",
       "      <th></th>\n",
       "      <th></th>\n",
       "    </tr>\n",
       "  </thead>\n",
       "  <tbody>\n",
       "    <tr>\n",
       "      <td>surf</td>\n",
       "      <td>16558.283490</td>\n",
       "      <td>6.421640e+07</td>\n",
       "    </tr>\n",
       "    <tr>\n",
       "      <td>ultimate</td>\n",
       "      <td>17214.699694</td>\n",
       "      <td>6.165229e+07</td>\n",
       "    </tr>\n",
       "  </tbody>\n",
       "</table>\n",
       "</div>"
      ],
      "text/plain": [
       "                  mean           var\n",
       "               mb_used       mb_used\n",
       "plan                                \n",
       "surf      16558.283490  6.421640e+07\n",
       "ultimate  17214.699694  6.165229e+07"
      ]
     },
     "execution_count": 73,
     "metadata": {},
     "output_type": "execute_result"
    }
   ],
   "source": [
    "# Compare the mean and the variance of the monthly internet\n",
    "comp_int_stats = user_pivot.pivot_table(index='plan', values='mb_used', aggfunc=['mean', 'var'])\n",
    "comp_int_stats"
   ]
  },
  {
   "cell_type": "markdown",
   "metadata": {},
   "source": [
    "The mean internet monthly usage of Ultimate users is a slightly higher than that of Surf users (~4% more), with similar variance. Let's visualize once again the distributions with a boxplot:   "
   ]
  },
  {
   "cell_type": "code",
   "execution_count": 74,
   "metadata": {},
   "outputs": [
    {
     "data": {
      "image/png": "[encoded data removed]",
      "text/plain": [
       "<Figure size 720x432 with 1 Axes>"
      ]
     },
     "metadata": {
      "needs_background": "light"
     },
     "output_type": "display_data"
    }
   ],
   "source": [
    "# Plot a boxplot to visualize the distribution of the monthly internet\n",
    "fig, ax = plt.subplots(figsize=(10,6))    \n",
    "user_pivot.boxplot('mb_used', by='plan', ax = ax)\n",
    "plt.ylabel('Monthly internet (MB)')\n",
    "plt.show()  "
   ]
  },
  {
   "cell_type": "markdown",
   "metadata": {},
   "source": [
    "**General Conclusion** \n",
    "\n",
    "Ultimate and Surf users tend to consume the internet traffic similarly. No meaningful difference in user behavior is identified. "
   ]
  },
  {
   "cell_type": "markdown",
   "metadata": {},
   "source": [
    "## Revenue"
   ]
  },
  {
   "cell_type": "markdown",
   "metadata": {},
   "source": [
    "After studying the user behaviour - we reach the main question : comparing the revenue between the plans."
   ]
  },
  {
   "cell_type": "code",
   "execution_count": 76,
   "metadata": {
    "scrolled": false
   },
   "outputs": [
    {
     "data": {
      "image/png": "[encoded data removed]",
      "text/plain": [
       "<Figure size 432x288 with 1 Axes>"
      ]
     },
     "metadata": {
      "needs_background": "light"
     },
     "output_type": "display_data"
    }
   ],
   "source": [
    "# Compare the revenue users of each plan tend to pay each month\n",
    "user_pivot.pivot_table(index='month', columns='plan', values='revenue',\n",
    "                       aggfunc='mean').plot(kind='bar', grid=True)\n",
    "plt.title('Average revenue per month')\n",
    "plt.ylabel('USD')\n",
    "plt.legend(loc = 'lower right')\n",
    "plt.show;"
   ]
  },
  {
   "cell_type": "markdown",
   "metadata": {},
   "source": [
    "We can see a **clear and consistent higher average monthly revenue from Ultimate plan users** - stronger in Jan-Jun ( around twice as high in the first year quarter, Jan-Mar), but existing in all months in this level or another. \n",
    "\n",
    "We can see there is large diversity in the Surf average monthly revenues (20-70 USD), and almost uniformity in the Ultimate revenues (at or a bit above 70 USD), matching the picture we saw above about extra payments exixsitng or not.\n",
    "\n",
    "Let's check the stats of all data revenues:  "
   ]
  },
  {
   "cell_type": "code",
   "execution_count": 77,
   "metadata": {},
   "outputs": [
    {
     "data": {
      "text/plain": [
       "count    1573.000000\n",
       "mean       60.706408\n",
       "std        55.388042\n",
       "min        20.000000\n",
       "25%        20.000000\n",
       "50%        40.360000\n",
       "75%        80.360000\n",
       "max       590.370000\n",
       "Name: revenue, dtype: float64"
      ]
     },
     "execution_count": 77,
     "metadata": {},
     "output_type": "execute_result"
    }
   ],
   "source": [
    "# stats of monthly revenue per plan - first Surf: \n",
    "user_pivot.query('plan == \"surf\"')['revenue'].describe()"
   ]
  },
  {
   "cell_type": "code",
   "execution_count": 78,
   "metadata": {
    "scrolled": true
   },
   "outputs": [
    {
     "data": {
      "text/plain": [
       "count    720.000000\n",
       "mean      72.313889\n",
       "std       11.395108\n",
       "min       70.000000\n",
       "25%       70.000000\n",
       "50%       70.000000\n",
       "75%       70.000000\n",
       "max      182.000000\n",
       "Name: revenue, dtype: float64"
      ]
     },
     "execution_count": 78,
     "metadata": {},
     "output_type": "execute_result"
    }
   ],
   "source": [
    "# stats of monthly revenue per plan - now Ultimate: \n",
    "user_pivot.query('plan == \"ultimate\"')['revenue'].describe()"
   ]
  },
  {
   "cell_type": "markdown",
   "metadata": {},
   "source": [
    "We can see that while almost all Ultimate users pay each month the base monthly 70 USD, with relatively little impact of the extra (a small group, only on internet, as we saw above), and a mean of 72.3 USD with small std of 11.4 - the picture for Surf is totally different: \n",
    "large diversity, std 5 times bigger (!) than in Ultimate, IQR ranging 20-80 USD (while it's all 70 USD for Ultimate), and also the max payment (590 USD) is more than 3 times bigger than the max of Ultimate (182 USD). \n",
    "\n",
    "Remembering that Surf has here 1573 entries and Ultimae only 720 - let's visualize the monthly internet distributions in each plan with a histograms graph: "
   ]
  },
  {
   "cell_type": "code",
   "execution_count": 79,
   "metadata": {},
   "outputs": [
    {
     "data": {
      "image/png": "[encoded data removed]",
      "text/plain": [
       "<Figure size 432x288 with 1 Axes>"
      ]
     },
     "metadata": {
      "needs_background": "light"
     },
     "output_type": "display_data"
    }
   ],
   "source": [
    "# a histogram of monthly revenue distributions of both plans: \n",
    "user_pivot.query('plan == \"surf\"')['revenue'].hist(bins=(\n",
    "    0, 20, 40, 60, 80, 100, 120, 140, 160, 180, 200, 600), grid=True)\n",
    "user_pivot.query('plan == \"ultimate\"')['revenue'].hist()\n",
    "plt.title('Monthly Revenue per plan')\n",
    "plt.xlabel('Monthly revenue (USD)')\n",
    "plt.ylabel('Entries')\n",
    "plt.legend(['Surf', 'Ultimate'])\n",
    "plt.xlim(0, 200)\n",
    "plt.show;"
   ]
  },
  {
   "cell_type": "markdown",
   "metadata": {},
   "source": [
    "The huge difference in distributions, that we identified above, is very clearly seen in the compared histograms - almost all Ultimate entries are around 70 USD, while Surf is very diversed with about half of paid months not passing 40 USD, and another ~15% below 60 USD. \n",
    "\n",
    "Let's focus next on comparing the statistical mean and variance:  "
   ]
  },
  {
   "cell_type": "code",
   "execution_count": 80,
   "metadata": {
    "scrolled": true
   },
   "outputs": [
    {
     "data": {
      "text/html": [
       "<div>\n",
       "<style scoped>\n",
       "    .dataframe tbody tr th:only-of-type {\n",
       "        vertical-align: middle;\n",
       "    }\n",
       "\n",
       "    .dataframe tbody tr th {\n",
       "        vertical-align: top;\n",
       "    }\n",
       "\n",
       "    .dataframe thead tr th {\n",
       "        text-align: left;\n",
       "    }\n",
       "\n",
       "    .dataframe thead tr:last-of-type th {\n",
       "        text-align: right;\n",
       "    }\n",
       "</style>\n",
       "<table border=\"1\" class=\"dataframe\">\n",
       "  <thead>\n",
       "    <tr>\n",
       "      <th></th>\n",
       "      <th>mean</th>\n",
       "      <th>var</th>\n",
       "    </tr>\n",
       "    <tr>\n",
       "      <th></th>\n",
       "      <th>revenue</th>\n",
       "      <th>revenue</th>\n",
       "    </tr>\n",
       "    <tr>\n",
       "      <th>plan</th>\n",
       "      <th></th>\n",
       "      <th></th>\n",
       "    </tr>\n",
       "  </thead>\n",
       "  <tbody>\n",
       "    <tr>\n",
       "      <td>surf</td>\n",
       "      <td>60.706408</td>\n",
       "      <td>3067.835152</td>\n",
       "    </tr>\n",
       "    <tr>\n",
       "      <td>ultimate</td>\n",
       "      <td>72.313889</td>\n",
       "      <td>129.848486</td>\n",
       "    </tr>\n",
       "  </tbody>\n",
       "</table>\n",
       "</div>"
      ],
      "text/plain": [
       "               mean          var\n",
       "            revenue      revenue\n",
       "plan                            \n",
       "surf      60.706408  3067.835152\n",
       "ultimate  72.313889   129.848486"
      ]
     },
     "execution_count": 80,
     "metadata": {},
     "output_type": "execute_result"
    }
   ],
   "source": [
    "# Compare the mean and the variance of the monthly revenue\n",
    "comp_rev_stats = user_pivot.pivot_table(index='plan', values='revenue', aggfunc=['mean', 'var'])\n",
    "comp_rev_stats"
   ]
  },
  {
   "cell_type": "markdown",
   "metadata": {},
   "source": [
    "We can see that Ultimate mean monthly revenue (72.31 USD) is almost 20% higher than that of Surf (60.71 USD), we will soon test the relevant statistiacal hypothesis. We note the difference in variance between the plans is huge (3067.84 vs. 129.85). Let's visualize the monthly revenues distributions of each plan:  "
   ]
  },
  {
   "cell_type": "code",
   "execution_count": 81,
   "metadata": {},
   "outputs": [
    {
     "data": {
      "image/png": "[encoded data removed]",
      "text/plain": [
       "<Figure size 720x432 with 1 Axes>"
      ]
     },
     "metadata": {
      "needs_background": "light"
     },
     "output_type": "display_data"
    }
   ],
   "source": [
    "# Plot a boxplot to visualize the distribution of the monthly revenue (we will limit the graph to 200$):\n",
    "fig, ax = plt.subplots(figsize=(10,6))    \n",
    "user_pivot.boxplot('revenue', by='plan', ax = ax)\n",
    "plt.ylabel('Monthly revenue (USD)')\n",
    "plt.ylim(0, 200)\n",
    "plt.show() "
   ]
  },
  {
   "cell_type": "markdown",
   "metadata": {},
   "source": [
    "We can see the big difference - a totally different distribution.\n",
    "\n",
    "**General Conclusion**\n",
    "\n",
    "1. The big majority of Surf monthly revenues are lower than the typical Ultimate monthly revenue.\n",
    "\n",
    "2. The monthly revenue of Surf is much more varied, up and down, while Ultimate is very consistent.\n",
    "\n",
    "3. The Ultimate mean monthly revenue is almost 20% higher than that of Surf. "
   ]
  },
  {
   "cell_type": "markdown",
   "metadata": {},
   "source": [
    "## Test statistical hypotheses"
   ]
  },
  {
   "cell_type": "markdown",
   "metadata": {},
   "source": [
    "### Test: The average revenue from users of the Ultimate and Surf calling plans differs"
   ]
  },
  {
   "cell_type": "markdown",
   "metadata": {},
   "source": [
    "We will use a test for hypothesis on the equality of two independant population means.\n",
    "\n",
    "Our null hypothesis to test will be: \n",
    "\n",
    "**The average monthly revenues of users of the Ultimate and Surf plans are equal**\n",
    "\n",
    "The alternative hypothesis is:\n",
    "\n",
    "**The average monthly revenues from users of the Ultimate and Surf plans are not equal**\n",
    "\n",
    "Following the very different variances of the monthly revenue distriblution between the plans calculated above, we will set 'equal_var' on 'False' "
   ]
  },
  {
   "cell_type": "code",
   "execution_count": 82,
   "metadata": {},
   "outputs": [
    {
     "name": "stdout",
     "output_type": "stream",
     "text": [
      "p-value:  3.17039054811355e-15\n",
      "We reject the null hypothesis\n"
     ]
    }
   ],
   "source": [
    "# Test the hypothesis about mean equality:\n",
    "from scipy import stats as st\n",
    "\n",
    "ultimate = user_pivot.query('plan == \"ultimate\"')['revenue'] \n",
    "surf = user_pivot.query('plan == \"surf\"')['revenue']\n",
    "\n",
    "alpha = 0.05\n",
    "\n",
    "results = st.ttest_ind(\n",
    "    ultimate,\n",
    "    surf,\n",
    "    equal_var = False)\n",
    "print('p-value: ', results.pvalue)\n",
    "\n",
    "if (results.pvalue < alpha):\n",
    "    print(\n",
    "        \"We reject the null hypothesis\"\n",
    "    )\n",
    "else:\n",
    "    print(\n",
    "        \"We can't reject the null hypothesis\"\n",
    "    )"
   ]
  },
  {
   "cell_type": "markdown",
   "metadata": {},
   "source": [
    "Our statistical test shows that the probabillity that the difference between the means is random - is very low - therefore **we reject the hypothsis that the means are equal.**  \n",
    "\n",
    "\n",
    "### Test: The average revenue from users in the NY-NJ area differs from other regions\n",
    "\n",
    "The second request was to check a hypothesis about difference in revenue between users in the NY-NJ area and other regions. First we will calculate and compare the mean and variance of the monthly revenues for these two populations (NY-NJ and other regions), than we will conduct the test for the statistical hypothesis."
   ]
  },
  {
   "cell_type": "code",
   "execution_count": 83,
   "metadata": {
    "scrolled": true
   },
   "outputs": [
    {
     "data": {
      "text/html": [
       "<div>\n",
       "<style scoped>\n",
       "    .dataframe tbody tr th:only-of-type {\n",
       "        vertical-align: middle;\n",
       "    }\n",
       "\n",
       "    .dataframe tbody tr th {\n",
       "        vertical-align: top;\n",
       "    }\n",
       "\n",
       "    .dataframe thead tr th {\n",
       "        text-align: left;\n",
       "    }\n",
       "\n",
       "    .dataframe thead tr:last-of-type th {\n",
       "        text-align: right;\n",
       "    }\n",
       "</style>\n",
       "<table border=\"1\" class=\"dataframe\">\n",
       "  <thead>\n",
       "    <tr>\n",
       "      <th></th>\n",
       "      <th>mean</th>\n",
       "      <th>var</th>\n",
       "    </tr>\n",
       "    <tr>\n",
       "      <th></th>\n",
       "      <th>revenue</th>\n",
       "      <th>revenue</th>\n",
       "    </tr>\n",
       "    <tr>\n",
       "      <th>NY_NJ</th>\n",
       "      <th></th>\n",
       "      <th></th>\n",
       "    </tr>\n",
       "  </thead>\n",
       "  <tbody>\n",
       "    <tr>\n",
       "      <td>False</td>\n",
       "      <td>65.222771</td>\n",
       "      <td>2225.047994</td>\n",
       "    </tr>\n",
       "    <tr>\n",
       "      <td>True</td>\n",
       "      <td>59.921353</td>\n",
       "      <td>1895.545690</td>\n",
       "    </tr>\n",
       "  </tbody>\n",
       "</table>\n",
       "</div>"
      ],
      "text/plain": [
       "            mean          var\n",
       "         revenue      revenue\n",
       "NY_NJ                        \n",
       "False  65.222771  2225.047994\n",
       "True   59.921353  1895.545690"
      ]
     },
     "execution_count": 83,
     "metadata": {},
     "output_type": "execute_result"
    }
   ],
   "source": [
    "# Compare the mean and the variance of the monthly revenue\n",
    "comp_reg_stats = user_pivot.pivot_table(index='NY_NJ', values='revenue', aggfunc=['mean', 'var'])\n",
    "comp_reg_stats"
   ]
  },
  {
   "cell_type": "markdown",
   "metadata": {},
   "source": [
    "We can see that the \"Non NY-NJ\" mean monthly revenue (65.22 USD) is ~8.8% higher than that of NY-NJ users (59.92 USD). The variance is relatively similar.  \n",
    "\n",
    "Our null hypothesis to test will be: \n",
    "\n",
    "**The average monthly revenues from users in the NY-NJ area are equal to that from users in other regions**\n",
    "\n",
    "The alternative hypothesis is:\n",
    "\n",
    "**The average monthly revenues from users in the NY-NJ area are not equal to that from users in other regions**\n",
    "\n",
    "This time we will leave 'equal_var' on it's default True value, since it is reasonable that the variance will be similar between the regions, and the variance results found above in the dataset are close (2225, 1895)   "
   ]
  },
  {
   "cell_type": "code",
   "execution_count": 84,
   "metadata": {},
   "outputs": [
    {
     "name": "stdout",
     "output_type": "stream",
     "text": [
      "p-value:  0.043557431621342436\n",
      "We reject the null hypothesis\n"
     ]
    }
   ],
   "source": [
    "# Test the hypotheses\n",
    "from scipy import stats as st\n",
    "NY_NJ = user_pivot.query('NY_NJ == True')['revenue'] \n",
    "other_regions = user_pivot.query('NY_NJ == False')['revenue']\n",
    "\n",
    "alpha = 0.05\n",
    "\n",
    "results = st.ttest_ind(\n",
    "    NY_NJ,\n",
    "    other_regions)\n",
    "\n",
    "print('p-value: ', results.pvalue)\n",
    "\n",
    "if (results.pvalue < alpha):\n",
    "    print(\n",
    "        \"We reject the null hypothesis\"\n",
    "    )\n",
    "else:\n",
    "    print(\n",
    "        \"We can't reject the null hypothesis\"\n",
    "    )"
   ]
  },
  {
   "cell_type": "markdown",
   "metadata": {},
   "source": [
    "Our statistical test shows that the probabillity that the difference between the means is random - is (very) slightly lower than our defined alpha - therefore **we reject the hypothsis that the means are equal.** \n",
    "\n",
    "Comparing p-values between the two tests - it is clear that the difference between the mean revenue of the two plans is much stronger statistically than the difference between the regions. "
   ]
  },
  {
   "cell_type": "markdown",
   "metadata": {},
   "source": [
    "## General conclusion\n",
    "\n",
    "\n",
    "1. **The purpose of the project:** to determine which prepaid plan, Surf or Ultimate, brings in more revenue.\n",
    "    - Another request is to check if clients from NY-NJ area bring more, equal or less revenue than clients from other regions.\n",
    "    \n",
    "    \n",
    "2. The data includes 500 users' peronal details and consumption data during 2018, including details of 137,735 calls, 76,051 text messages, and 104,825 internet sessions.\n",
    "\n",
    "3. Out of the 500 users, 339 were on Surf plan, and the remaining 161 were on Ultimate plan.\n",
    "\n",
    "4. Out of the 500 users, 80 are from NY-NJ area and the remaining 420 are from other regions.\n",
    "\n",
    "\n",
    "5. **Preprocessing**:\n",
    "    - 5.1. Datatype of all dates was changed into 'datetime'\n",
    "    - 5.2. An aggregated data table was created - one entry per user per month (since the payment plans are monthly)\n",
    "    - 5.3. Monthly revenue per user per month was calculated, based on each user's plan (including rounding up seconds to minutes and MB to GB), and added to the aggregated table - this table (user_pivot) is the basis for further analysis\n",
    "    - 5.4. 13,747 internet sessions were found with zero value for mb_used. They were removed, leaving 91,078 internet sessions. \n",
    "    \n",
    "    \n",
    "6. **User behavior comparisment between plans**:\n",
    "    - 6.1. **Average call duration** (after rounding up each call) is similar between the plans, and is between 6 - 7.3 minutes per call. \n",
    "    - 6.2. When we check the **monthly minutes** (which is the relevant number for payment) - we see **very close means**: 428.75 for Surf, and 430.45 for Ultimate. Standard deviations are also similar (234.45 vs. 240.51). **Medians are also similar**: 425 for Surf, and 424 for Ultimate. The whole IQR is generally speaking close between the plans, with slight higher numbers in Surf (272-576) vs. Ultimate (260-565). The max monthly minutes of Surf (1510) is also higher than Ultimate (1369).\n",
    "    - 6.3. Thinking about the plans conditions: it is noteworthy that no client was even close to reach the **minutes included** in Ultimate (3000), while for Surf the minutes included (500) are somewhere in the middle of third quartile of paid months, meaning way more than a qarter of the Surf months had **extra payment for minutes**. \n",
    "    - 6.4. **General Calls Conclusion**: User behavior about calls is similar between the two plans.\n",
    "    - 6.5. Monthly **messages**: Ultimate have higher numbers for almost all stats: mean 37.55 messages (Surf 31.16), median 30 (Surf 24), IQR 7-61 (Surf 3-47). Standard deviation is similar (~33-34 both plans). Max monthly messages of Surf (266) is higher than Ultimate (166).\n",
    "    - 6.6. Payment wise - again no Ultimate user is even close to reach the **monthly messages included** (1000), while almost a quarter of Surf paid months had **extra payment** (above 50 messages).\n",
    "    - 6.7. **General Messages conclusion**: Ultimate users tend to send more text messages per month (mean ~20% more) than Surf users.\n",
    "    - 6.8. Monthly **Internet** usage: there is similarity between the plans on all 3 quartiles, and the difference in mean seems not very meaningful.\n",
    "    - 6.9. For payment - the difference is there: here for the first time we find some Ultimate paid months with extra payment (above 30 GB) - but far less than quarter of the paid months (3rd quartile only ~21 GB), while more than Half(!) of all Surf paid months had extra payment (above 15GB, the median paid for 17GB). \n",
    "    - 6.10. **General Internet conclusion**: Ultimate and Surf users tend to consume the internet traffic similarly. No meaningful difference in user behavior is identified (Ultimate mean only ~4% higher).\n",
    "    \n",
    "    \n",
    "7. **Revenue comparisment between plans**:\n",
    "    - 7.1. There is large diversity in the Surf average monthly revenues (20-70 USD), and almost uniformity in the Ultimate revenues (at or a bit above 70 USD), matching the picture we saw above about extra payments exixsitng or not.\n",
    "    - 7.2. While almost all Ultimate users pay each month the base monthly 70 USD, with relatively little impact of the extra (a small group, only on internet, as we saw above), and a mean of 72.3 USD with small std of 11.4 - the picture for Surf is totally different: large diversity, std 5 times bigger (!) than in Ultimate, IQR ranging 20-80 USD (while it's all 70 USD for Ultimate), and also the max payment (590 USD) is more than 3 times bigger than the max of Ultimate (182 USD).\n",
    "    - 7.3. **Ultimate mean monthly revenue (72.31 USD) is almost 20% higher than that of Surf (60.71 USD)**, and the difference in variance between the plans is huge (3067.84 vs. 129.85).\n",
    " \n",
    "    \n",
    "8. **Testing statistical hypotheses**:\n",
    "    - 8.1. **Plans**: our null hypothesis is: The average monthly revenues of users of the Ultimate and Surf plans are equal. Statistical test (alpha = 0.05) results are: Our statistical test shows that the probabillity that the difference between the means is random - is very low - therefore **we reject the hypothsis that the means are equal.**\n",
    "    - 8.2. **Regions**: The \"Non NY-NJ\" mean monthly revenue (65.22 USD) is ~8.8% higher than that of NY-NJ users (59.95 USD). The variance is relatively similar.   Our null hypothesis is: The average monthly revenues from users in the NY-NJ area are equal to that from users in other regions. Statistical test (alpha = 0.05) results are: Our statistical test shows that the probabillity that the difference between the means is random - is (very) slightly lower than our defined alpha - therefore **we reject the hypothsis that the means are equal.**\n",
    "    - 8.3. Comparing p-values between the two tests - it is clear that **the difference between the mean revenue of the two plans is much stronger statistically than the difference between the regions.**\n",
    "    \n",
    "    \n",
    "9. **Overall conclusion**: Ultimate plan brings in more revenue per user per month than Surf plan. NY-NJ area users bring in less revenue per user per month than other regions, but to a lesser degree than the revenue difference between the plans.  \n",
    "\n",
    "\n",
    "\n"
   ]
  }
 ],
 "metadata": {
  "ExecuteTimeLog": [
   {
    "duration": 828,
    "start_time": "2021-11-16T09:21:11.304Z"
   },
   {
    "duration": 893,
    "start_time": "2021-11-16T09:21:17.728Z"
   },
   {
    "duration": 1150,
    "start_time": "2021-11-16T09:21:29.568Z"
   },
   {
    "duration": 3,
    "start_time": "2021-11-16T09:24:14.495Z"
   },
   {
    "duration": 120,
    "start_time": "2021-11-16T09:24:46.630Z"
   },
   {
    "duration": 3,
    "start_time": "2021-11-16T09:28:27.882Z"
   },
   {
    "duration": 4,
    "start_time": "2021-11-16T09:29:54.281Z"
   },
   {
    "duration": 3,
    "start_time": "2021-11-16T09:30:45.936Z"
   },
   {
    "duration": 4,
    "start_time": "2021-11-16T09:31:06.300Z"
   },
   {
    "duration": 113,
    "start_time": "2021-11-16T09:31:37.208Z"
   },
   {
    "duration": 143,
    "start_time": "2021-11-16T09:31:48.656Z"
   },
   {
    "duration": 98,
    "start_time": "2021-11-16T09:31:55.678Z"
   },
   {
    "duration": 3,
    "start_time": "2021-11-16T09:32:08.535Z"
   },
   {
    "duration": 111,
    "start_time": "2021-11-16T09:32:10.120Z"
   },
   {
    "duration": 3,
    "start_time": "2021-11-16T09:32:15.732Z"
   },
   {
    "duration": 4,
    "start_time": "2021-11-16T09:32:29.423Z"
   },
   {
    "duration": 3,
    "start_time": "2021-11-16T10:03:03.074Z"
   },
   {
    "duration": 3,
    "start_time": "2021-11-16T10:10:01.288Z"
   },
   {
    "duration": 3,
    "start_time": "2021-11-16T10:10:46.923Z"
   },
   {
    "duration": 121,
    "start_time": "2021-11-16T10:37:46.494Z"
   },
   {
    "duration": 125,
    "start_time": "2021-11-16T10:38:20.632Z"
   },
   {
    "duration": 112,
    "start_time": "2021-11-16T10:46:53.001Z"
   },
   {
    "duration": 110,
    "start_time": "2021-11-16T10:48:25.775Z"
   },
   {
    "duration": 3,
    "start_time": "2021-11-16T10:50:18.720Z"
   },
   {
    "duration": 4,
    "start_time": "2021-11-16T10:50:37.649Z"
   },
   {
    "duration": 2,
    "start_time": "2021-11-16T10:50:51.884Z"
   },
   {
    "duration": 3,
    "start_time": "2021-11-16T10:51:56.237Z"
   },
   {
    "duration": 101,
    "start_time": "2021-11-16T10:53:13.791Z"
   },
   {
    "duration": 3,
    "start_time": "2021-11-16T10:55:59.186Z"
   },
   {
    "duration": 3,
    "start_time": "2021-11-16T10:56:10.751Z"
   },
   {
    "duration": 3,
    "start_time": "2021-11-16T10:56:49.038Z"
   },
   {
    "duration": 3,
    "start_time": "2021-11-16T10:56:49.174Z"
   },
   {
    "duration": 4,
    "start_time": "2021-11-16T10:56:49.414Z"
   },
   {
    "duration": 3,
    "start_time": "2021-11-16T10:56:49.680Z"
   },
   {
    "duration": 3,
    "start_time": "2021-11-16T10:56:50.370Z"
   },
   {
    "duration": 114,
    "start_time": "2021-11-16T10:59:34.518Z"
   },
   {
    "duration": 3,
    "start_time": "2021-11-16T11:01:41.201Z"
   },
   {
    "duration": 116,
    "start_time": "2021-11-16T11:01:48.754Z"
   },
   {
    "duration": 3,
    "start_time": "2021-11-16T11:02:16.685Z"
   },
   {
    "duration": 3,
    "start_time": "2021-11-16T11:02:19.479Z"
   },
   {
    "duration": 3,
    "start_time": "2021-11-16T11:02:47.067Z"
   },
   {
    "duration": 3,
    "start_time": "2021-11-16T11:02:49.353Z"
   },
   {
    "duration": 3,
    "start_time": "2021-11-16T11:03:07.835Z"
   },
   {
    "duration": 3,
    "start_time": "2021-11-16T11:03:07.953Z"
   },
   {
    "duration": 112,
    "start_time": "2021-11-16T11:07:52.072Z"
   },
   {
    "duration": 187,
    "start_time": "2021-11-16T11:09:23.468Z"
   },
   {
    "duration": 4,
    "start_time": "2021-11-16T11:10:01.455Z"
   },
   {
    "duration": 3,
    "start_time": "2021-11-16T11:10:05.069Z"
   },
   {
    "duration": 4,
    "start_time": "2021-11-16T11:10:13.376Z"
   },
   {
    "duration": 3,
    "start_time": "2021-11-16T11:10:14.434Z"
   },
   {
    "duration": 3,
    "start_time": "2021-11-16T11:10:22.853Z"
   },
   {
    "duration": 4,
    "start_time": "2021-11-16T11:27:29.279Z"
   },
   {
    "duration": 4,
    "start_time": "2021-11-16T11:29:08.919Z"
   },
   {
    "duration": 118,
    "start_time": "2021-11-16T11:29:46.703Z"
   },
   {
    "duration": 437,
    "start_time": "2021-11-16T11:36:02.181Z"
   },
   {
    "duration": 157,
    "start_time": "2021-11-16T11:36:14.388Z"
   },
   {
    "duration": 207,
    "start_time": "2021-11-16T11:47:15.898Z"
   },
   {
    "duration": 3,
    "start_time": "2021-11-16T11:53:52.092Z"
   },
   {
    "duration": 3,
    "start_time": "2021-11-16T11:53:52.236Z"
   },
   {
    "duration": 3,
    "start_time": "2021-11-16T11:59:12.005Z"
   },
   {
    "duration": 112,
    "start_time": "2021-11-16T12:00:33.446Z"
   },
   {
    "duration": 3,
    "start_time": "2021-11-16T12:02:14.453Z"
   },
   {
    "duration": 3,
    "start_time": "2021-11-16T12:02:39.512Z"
   },
   {
    "duration": 106,
    "start_time": "2021-11-16T12:03:03.460Z"
   },
   {
    "duration": 3,
    "start_time": "2021-11-17T20:37:21.139Z"
   },
   {
    "duration": 3,
    "start_time": "2021-11-17T20:37:22.229Z"
   },
   {
    "duration": 3,
    "start_time": "2021-11-17T20:38:38.806Z"
   },
   {
    "duration": 3,
    "start_time": "2021-11-17T20:38:41.958Z"
   },
   {
    "duration": 3,
    "start_time": "2021-11-17T20:43:46.551Z"
   },
   {
    "duration": 4,
    "start_time": "2021-11-17T20:58:21.835Z"
   },
   {
    "duration": 3,
    "start_time": "2021-11-17T20:59:21.872Z"
   },
   {
    "duration": 4,
    "start_time": "2021-11-17T20:59:45.352Z"
   },
   {
    "duration": 4,
    "start_time": "2021-11-17T20:59:49.646Z"
   },
   {
    "duration": 159,
    "start_time": "2021-11-17T21:02:26.949Z"
   },
   {
    "duration": 3,
    "start_time": "2021-11-17T21:03:53.461Z"
   },
   {
    "duration": 3,
    "start_time": "2021-11-17T21:03:53.694Z"
   },
   {
    "duration": 3,
    "start_time": "2021-11-17T21:05:28.145Z"
   },
   {
    "duration": 116,
    "start_time": "2021-11-17T21:05:57.787Z"
   },
   {
    "duration": 3,
    "start_time": "2021-11-17T21:06:37.993Z"
   },
   {
    "duration": 3,
    "start_time": "2021-11-17T21:06:38.261Z"
   },
   {
    "duration": 3,
    "start_time": "2021-11-17T21:11:54.358Z"
   },
   {
    "duration": 3,
    "start_time": "2021-11-17T21:12:43.846Z"
   },
   {
    "duration": 4,
    "start_time": "2021-11-17T21:13:08.773Z"
   },
   {
    "duration": 3,
    "start_time": "2021-11-17T21:14:44.441Z"
   },
   {
    "duration": 3,
    "start_time": "2021-11-17T21:15:42.059Z"
   },
   {
    "duration": 4,
    "start_time": "2021-11-17T21:15:51.995Z"
   },
   {
    "duration": 3,
    "start_time": "2021-11-17T21:15:53.923Z"
   },
   {
    "duration": 3,
    "start_time": "2021-11-17T21:15:55.282Z"
   },
   {
    "duration": 3,
    "start_time": "2021-11-17T21:16:28.492Z"
   },
   {
    "duration": 3,
    "start_time": "2021-11-17T21:16:32.603Z"
   },
   {
    "duration": 3,
    "start_time": "2021-11-17T21:17:06.941Z"
   },
   {
    "duration": 98,
    "start_time": "2021-11-17T21:18:05.733Z"
   },
   {
    "duration": 4,
    "start_time": "2021-11-17T21:21:35.255Z"
   },
   {
    "duration": 3,
    "start_time": "2021-11-17T21:21:37.804Z"
   },
   {
    "duration": 4,
    "start_time": "2021-11-17T21:23:06.071Z"
   },
   {
    "duration": 3,
    "start_time": "2021-11-17T21:23:24.799Z"
   },
   {
    "duration": 3,
    "start_time": "2021-11-17T21:23:32.591Z"
   },
   {
    "duration": 98,
    "start_time": "2021-11-17T21:28:31.559Z"
   },
   {
    "duration": 3,
    "start_time": "2021-11-17T21:28:45.448Z"
   },
   {
    "duration": 3,
    "start_time": "2021-11-17T21:29:17.303Z"
   },
   {
    "duration": 3,
    "start_time": "2021-11-17T21:29:29.617Z"
   },
   {
    "duration": 3,
    "start_time": "2021-11-17T21:29:32.681Z"
   },
   {
    "duration": 3,
    "start_time": "2021-11-17T21:36:11.474Z"
   },
   {
    "duration": 3,
    "start_time": "2021-11-17T21:36:14.791Z"
   },
   {
    "duration": 3,
    "start_time": "2021-11-17T21:36:53.943Z"
   },
   {
    "duration": 3,
    "start_time": "2021-11-17T21:36:56.165Z"
   },
   {
    "duration": 4,
    "start_time": "2021-11-17T21:37:16.590Z"
   },
   {
    "duration": 3,
    "start_time": "2021-11-17T21:37:22.702Z"
   },
   {
    "duration": 4,
    "start_time": "2021-11-17T21:38:03.479Z"
   },
   {
    "duration": 3,
    "start_time": "2021-11-17T21:38:08.601Z"
   },
   {
    "duration": 3,
    "start_time": "2021-11-17T21:38:12.928Z"
   },
   {
    "duration": 3,
    "start_time": "2021-11-17T21:38:48.896Z"
   },
   {
    "duration": 2,
    "start_time": "2021-11-17T21:38:49.171Z"
   },
   {
    "duration": 4,
    "start_time": "2021-11-17T21:39:57.889Z"
   },
   {
    "duration": 3,
    "start_time": "2021-11-17T21:39:58.057Z"
   },
   {
    "duration": 3,
    "start_time": "2021-11-17T21:41:20.108Z"
   },
   {
    "duration": 3,
    "start_time": "2021-11-17T21:41:20.629Z"
   },
   {
    "duration": 3,
    "start_time": "2021-11-17T21:42:49.136Z"
   },
   {
    "duration": 3,
    "start_time": "2021-11-17T21:43:15.137Z"
   },
   {
    "duration": 4,
    "start_time": "2021-11-17T21:43:16.766Z"
   },
   {
    "duration": 4,
    "start_time": "2021-11-17T21:43:31.711Z"
   },
   {
    "duration": 3,
    "start_time": "2021-11-17T21:43:36.312Z"
   },
   {
    "duration": 4,
    "start_time": "2021-11-17T21:45:08.825Z"
   },
   {
    "duration": 4,
    "start_time": "2021-11-17T21:45:10.119Z"
   },
   {
    "duration": 4,
    "start_time": "2021-11-17T21:45:13.748Z"
   },
   {
    "duration": 3,
    "start_time": "2021-11-17T21:45:22.219Z"
   },
   {
    "duration": 3,
    "start_time": "2021-11-17T21:45:33.412Z"
   },
   {
    "duration": 2,
    "start_time": "2021-11-17T21:46:01.885Z"
   },
   {
    "duration": 3,
    "start_time": "2021-11-17T21:46:03.628Z"
   },
   {
    "duration": 107,
    "start_time": "2021-11-17T21:47:32.512Z"
   },
   {
    "duration": 103,
    "start_time": "2021-11-17T21:50:36.243Z"
   },
   {
    "duration": 3,
    "start_time": "2021-11-18T06:28:31.440Z"
   },
   {
    "duration": 3,
    "start_time": "2021-11-18T06:29:00.168Z"
   },
   {
    "duration": 3,
    "start_time": "2021-11-18T06:31:27.008Z"
   },
   {
    "duration": 2,
    "start_time": "2021-11-18T06:35:34.288Z"
   },
   {
    "duration": 2,
    "start_time": "2021-11-18T06:38:04.527Z"
   },
   {
    "duration": 869,
    "start_time": "2022-02-07T12:50:08.484Z"
   },
   {
    "duration": 17,
    "start_time": "2022-02-07T13:27:34.732Z"
   },
   {
    "duration": 105,
    "start_time": "2022-02-07T13:34:06.235Z"
   },
   {
    "duration": 282,
    "start_time": "2022-02-07T13:45:53.113Z"
   },
   {
    "duration": 7,
    "start_time": "2022-02-07T13:51:20.210Z"
   },
   {
    "duration": 11,
    "start_time": "2022-02-07T13:51:50.757Z"
   },
   {
    "duration": 5,
    "start_time": "2022-02-07T14:09:01.772Z"
   },
   {
    "duration": 8,
    "start_time": "2022-02-07T14:11:48.471Z"
   },
   {
    "duration": 14,
    "start_time": "2022-02-07T14:12:27.084Z"
   },
   {
    "duration": 8,
    "start_time": "2022-02-07T14:14:03.340Z"
   },
   {
    "duration": 10,
    "start_time": "2022-02-07T14:15:12.698Z"
   },
   {
    "duration": 407,
    "start_time": "2022-02-07T14:16:03.276Z"
   },
   {
    "duration": 7,
    "start_time": "2022-02-07T14:16:12.619Z"
   },
   {
    "duration": 14,
    "start_time": "2022-02-07T14:16:58.816Z"
   },
   {
    "duration": 7,
    "start_time": "2022-02-07T14:17:50.666Z"
   },
   {
    "duration": 9,
    "start_time": "2022-02-07T15:06:07.844Z"
   },
   {
    "duration": 9,
    "start_time": "2022-02-07T15:06:50.831Z"
   },
   {
    "duration": 9,
    "start_time": "2022-02-07T15:07:06.765Z"
   },
   {
    "duration": 309,
    "start_time": "2022-02-07T15:12:28.606Z"
   },
   {
    "duration": 7,
    "start_time": "2022-02-07T15:12:46.929Z"
   },
   {
    "duration": 12,
    "start_time": "2022-02-07T15:15:06.605Z"
   },
   {
    "duration": 7,
    "start_time": "2022-02-07T15:20:59.620Z"
   },
   {
    "duration": 12,
    "start_time": "2022-02-07T15:21:08.845Z"
   },
   {
    "duration": 5,
    "start_time": "2022-02-07T15:35:26.879Z"
   },
   {
    "duration": 12,
    "start_time": "2022-02-07T15:35:41.371Z"
   },
   {
    "duration": 9,
    "start_time": "2022-02-07T15:38:01.261Z"
   },
   {
    "duration": 12,
    "start_time": "2022-02-07T15:38:13.738Z"
   },
   {
    "duration": 7,
    "start_time": "2022-02-07T15:39:11.211Z"
   },
   {
    "duration": 5,
    "start_time": "2022-02-07T15:43:51.727Z"
   },
   {
    "duration": 7,
    "start_time": "2022-02-07T15:44:54.819Z"
   },
   {
    "duration": 9,
    "start_time": "2022-02-07T15:50:17.779Z"
   },
   {
    "duration": 11,
    "start_time": "2022-02-07T15:50:30.672Z"
   },
   {
    "duration": 6,
    "start_time": "2022-02-07T15:51:15.206Z"
   },
   {
    "duration": 6,
    "start_time": "2022-02-07T15:51:38.511Z"
   },
   {
    "duration": 7,
    "start_time": "2022-02-07T15:52:30.552Z"
   },
   {
    "duration": 6,
    "start_time": "2022-02-07T15:52:59.649Z"
   },
   {
    "duration": 27,
    "start_time": "2022-02-07T16:32:37.912Z"
   },
   {
    "duration": 327,
    "start_time": "2022-02-07T16:41:11.643Z"
   },
   {
    "duration": 3,
    "start_time": "2022-02-07T16:41:21.618Z"
   },
   {
    "duration": 320,
    "start_time": "2022-02-07T16:41:31.114Z"
   },
   {
    "duration": 9,
    "start_time": "2022-02-07T16:45:56.059Z"
   },
   {
    "duration": 325,
    "start_time": "2022-02-07T16:46:12.660Z"
   },
   {
    "duration": 9,
    "start_time": "2022-02-07T16:46:24.622Z"
   },
   {
    "duration": 10,
    "start_time": "2022-02-07T16:48:10.309Z"
   },
   {
    "duration": 383,
    "start_time": "2022-02-07T16:49:23.945Z"
   },
   {
    "duration": 10,
    "start_time": "2022-02-07T16:49:44.740Z"
   },
   {
    "duration": 24,
    "start_time": "2022-02-07T17:14:14.689Z"
   },
   {
    "duration": 23,
    "start_time": "2022-02-07T17:27:00.453Z"
   },
   {
    "duration": 344,
    "start_time": "2022-02-07T17:29:53.233Z"
   },
   {
    "duration": 3,
    "start_time": "2022-02-07T17:30:02.631Z"
   },
   {
    "duration": 282,
    "start_time": "2022-02-07T17:30:02.637Z"
   },
   {
    "duration": 7,
    "start_time": "2022-02-07T17:30:02.921Z"
   },
   {
    "duration": 10,
    "start_time": "2022-02-07T17:30:02.929Z"
   },
   {
    "duration": 7,
    "start_time": "2022-02-07T17:30:02.940Z"
   },
   {
    "duration": 37,
    "start_time": "2022-02-07T17:30:02.948Z"
   },
   {
    "duration": 12,
    "start_time": "2022-02-07T17:30:02.987Z"
   },
   {
    "duration": 7,
    "start_time": "2022-02-07T17:30:03.001Z"
   },
   {
    "duration": 8,
    "start_time": "2022-02-07T17:30:03.011Z"
   },
   {
    "duration": 6,
    "start_time": "2022-02-07T17:30:03.021Z"
   },
   {
    "duration": 17,
    "start_time": "2022-02-07T17:30:03.028Z"
   },
   {
    "duration": 40,
    "start_time": "2022-02-07T17:30:03.047Z"
   },
   {
    "duration": 29,
    "start_time": "2022-02-07T17:30:03.088Z"
   },
   {
    "duration": 10,
    "start_time": "2022-02-07T17:30:03.119Z"
   },
   {
    "duration": 9,
    "start_time": "2022-02-07T17:30:03.131Z"
   },
   {
    "duration": 7,
    "start_time": "2022-02-07T17:30:03.141Z"
   },
   {
    "duration": 25,
    "start_time": "2022-02-07T17:30:03.172Z"
   },
   {
    "duration": 12,
    "start_time": "2022-02-07T17:30:03.198Z"
   },
   {
    "duration": 7,
    "start_time": "2022-02-07T17:30:03.212Z"
   },
   {
    "duration": 24,
    "start_time": "2022-02-07T17:30:03.220Z"
   },
   {
    "duration": 344,
    "start_time": "2022-02-07T17:30:10.180Z"
   },
   {
    "duration": 8,
    "start_time": "2022-02-07T17:30:15.360Z"
   },
   {
    "duration": 1011,
    "start_time": "2022-02-08T01:22:59.158Z"
   },
   {
    "duration": 278,
    "start_time": "2022-02-08T01:23:00.171Z"
   },
   {
    "duration": 6,
    "start_time": "2022-02-08T01:23:00.451Z"
   },
   {
    "duration": 21,
    "start_time": "2022-02-08T01:23:00.458Z"
   },
   {
    "duration": 13,
    "start_time": "2022-02-08T01:23:00.481Z"
   },
   {
    "duration": 23,
    "start_time": "2022-02-08T01:23:00.496Z"
   },
   {
    "duration": 7,
    "start_time": "2022-02-08T01:23:04.690Z"
   },
   {
    "duration": 11,
    "start_time": "2022-02-08T01:24:07.966Z"
   },
   {
    "duration": 7,
    "start_time": "2022-02-08T01:24:14.453Z"
   },
   {
    "duration": 8,
    "start_time": "2022-02-08T01:24:19.149Z"
   },
   {
    "duration": 5,
    "start_time": "2022-02-08T01:24:22.306Z"
   },
   {
    "duration": 16,
    "start_time": "2022-02-08T01:24:30.339Z"
   },
   {
    "duration": 8,
    "start_time": "2022-02-08T01:24:32.791Z"
   },
   {
    "duration": 44,
    "start_time": "2022-02-08T01:25:04.891Z"
   },
   {
    "duration": 32,
    "start_time": "2022-02-08T01:26:55.847Z"
   },
   {
    "duration": 12,
    "start_time": "2022-02-08T01:27:13.847Z"
   },
   {
    "duration": 12,
    "start_time": "2022-02-08T01:27:24.660Z"
   },
   {
    "duration": 7,
    "start_time": "2022-02-08T01:27:28.884Z"
   },
   {
    "duration": 20,
    "start_time": "2022-02-08T01:27:57.356Z"
   },
   {
    "duration": 19,
    "start_time": "2022-02-08T01:28:05.567Z"
   },
   {
    "duration": 13,
    "start_time": "2022-02-08T01:30:54.923Z"
   },
   {
    "duration": 8,
    "start_time": "2022-02-08T01:31:05.554Z"
   },
   {
    "duration": 49,
    "start_time": "2022-02-08T01:35:12.703Z"
   },
   {
    "duration": 24,
    "start_time": "2022-02-08T01:35:18.852Z"
   },
   {
    "duration": 10,
    "start_time": "2022-02-08T01:35:47.988Z"
   },
   {
    "duration": 294,
    "start_time": "2022-02-08T01:43:31.102Z"
   },
   {
    "duration": 22,
    "start_time": "2022-02-08T01:48:04.541Z"
   },
   {
    "duration": 16,
    "start_time": "2022-02-08T01:49:20.981Z"
   },
   {
    "duration": 19,
    "start_time": "2022-02-08T01:50:53.164Z"
   },
   {
    "duration": 3551,
    "start_time": "2022-02-08T01:58:12.138Z"
   },
   {
    "duration": 47,
    "start_time": "2022-02-08T01:59:53.870Z"
   },
   {
    "duration": 45,
    "start_time": "2022-02-08T02:00:57.335Z"
   },
   {
    "duration": 45,
    "start_time": "2022-02-08T02:01:14.173Z"
   },
   {
    "duration": 26,
    "start_time": "2022-02-08T02:06:05.428Z"
   },
   {
    "duration": 23,
    "start_time": "2022-02-08T02:07:08.241Z"
   },
   {
    "duration": 24,
    "start_time": "2022-02-08T02:10:26.636Z"
   },
   {
    "duration": 19,
    "start_time": "2022-02-08T02:10:47.337Z"
   },
   {
    "duration": 194,
    "start_time": "2022-02-08T02:31:22.860Z"
   },
   {
    "duration": 11,
    "start_time": "2022-02-08T02:31:36.522Z"
   },
   {
    "duration": 9,
    "start_time": "2022-02-08T02:31:58.741Z"
   },
   {
    "duration": 22,
    "start_time": "2022-02-08T02:32:38.068Z"
   },
   {
    "duration": 195,
    "start_time": "2022-02-08T03:10:10.160Z"
   },
   {
    "duration": 22,
    "start_time": "2022-02-08T03:10:18.460Z"
   },
   {
    "duration": 19,
    "start_time": "2022-02-08T03:14:50.193Z"
   },
   {
    "duration": 22,
    "start_time": "2022-02-08T03:15:20.937Z"
   },
   {
    "duration": 29,
    "start_time": "2022-02-08T03:16:00.217Z"
   },
   {
    "duration": 22,
    "start_time": "2022-02-08T03:22:13.955Z"
   },
   {
    "duration": 191,
    "start_time": "2022-02-08T03:27:03.440Z"
   },
   {
    "duration": 192,
    "start_time": "2022-02-08T03:27:39.596Z"
   },
   {
    "duration": 4649,
    "start_time": "2022-02-08T03:30:30.091Z"
   },
   {
    "duration": 188,
    "start_time": "2022-02-08T03:31:10.588Z"
   },
   {
    "duration": 59,
    "start_time": "2022-02-08T03:31:27.181Z"
   },
   {
    "duration": 73,
    "start_time": "2022-02-08T03:31:51.638Z"
   },
   {
    "duration": 19,
    "start_time": "2022-02-08T03:33:59.423Z"
   },
   {
    "duration": 9,
    "start_time": "2022-02-08T03:37:05.341Z"
   },
   {
    "duration": 20,
    "start_time": "2022-02-08T03:39:36.290Z"
   },
   {
    "duration": 190,
    "start_time": "2022-02-08T03:44:32.857Z"
   },
   {
    "duration": 24,
    "start_time": "2022-02-08T03:44:43.583Z"
   },
   {
    "duration": 22,
    "start_time": "2022-02-08T03:46:33.231Z"
   },
   {
    "duration": 972,
    "start_time": "2022-02-08T03:50:54.805Z"
   },
   {
    "duration": 288,
    "start_time": "2022-02-08T03:50:55.779Z"
   },
   {
    "duration": 6,
    "start_time": "2022-02-08T03:50:56.069Z"
   },
   {
    "duration": 11,
    "start_time": "2022-02-08T03:50:56.077Z"
   },
   {
    "duration": 23,
    "start_time": "2022-02-08T03:50:56.090Z"
   },
   {
    "duration": 11,
    "start_time": "2022-02-08T03:50:56.114Z"
   },
   {
    "duration": 7,
    "start_time": "2022-02-08T03:50:56.126Z"
   },
   {
    "duration": 8,
    "start_time": "2022-02-08T03:50:56.135Z"
   },
   {
    "duration": 6,
    "start_time": "2022-02-08T03:50:56.145Z"
   },
   {
    "duration": 8,
    "start_time": "2022-02-08T03:50:56.153Z"
   },
   {
    "duration": 6,
    "start_time": "2022-02-08T03:50:56.163Z"
   },
   {
    "duration": 47,
    "start_time": "2022-02-08T03:50:56.170Z"
   },
   {
    "duration": 7,
    "start_time": "2022-02-08T03:50:56.219Z"
   },
   {
    "duration": 46,
    "start_time": "2022-02-08T03:50:56.227Z"
   },
   {
    "duration": 44,
    "start_time": "2022-02-08T03:50:56.274Z"
   },
   {
    "duration": 13,
    "start_time": "2022-02-08T03:50:56.320Z"
   },
   {
    "duration": 26,
    "start_time": "2022-02-08T03:50:56.335Z"
   },
   {
    "duration": 16,
    "start_time": "2022-02-08T03:50:56.363Z"
   },
   {
    "duration": 32,
    "start_time": "2022-02-08T03:50:56.381Z"
   },
   {
    "duration": 20,
    "start_time": "2022-02-08T03:50:56.415Z"
   },
   {
    "duration": 16,
    "start_time": "2022-02-08T03:50:56.437Z"
   },
   {
    "duration": 14,
    "start_time": "2022-02-08T03:50:56.455Z"
   },
   {
    "duration": 9,
    "start_time": "2022-02-08T03:50:56.471Z"
   },
   {
    "duration": 41,
    "start_time": "2022-02-08T03:50:56.482Z"
   },
   {
    "duration": 7,
    "start_time": "2022-02-08T03:50:56.524Z"
   },
   {
    "duration": 47,
    "start_time": "2022-02-08T03:50:56.532Z"
   },
   {
    "duration": 47,
    "start_time": "2022-02-08T03:50:56.581Z"
   },
   {
    "duration": 18,
    "start_time": "2022-02-08T03:50:56.630Z"
   },
   {
    "duration": 7,
    "start_time": "2022-02-08T03:50:56.649Z"
   },
   {
    "duration": 70,
    "start_time": "2022-02-08T03:50:56.657Z"
   },
   {
    "duration": 2,
    "start_time": "2022-02-08T03:50:56.728Z"
   },
   {
    "duration": 25,
    "start_time": "2022-02-08T03:50:56.731Z"
   },
   {
    "duration": 20,
    "start_time": "2022-02-08T03:50:56.758Z"
   },
   {
    "duration": 51,
    "start_time": "2022-02-08T03:50:56.779Z"
   },
   {
    "duration": 27,
    "start_time": "2022-02-08T03:51:10.502Z"
   },
   {
    "duration": 17,
    "start_time": "2022-02-08T03:51:33.762Z"
   },
   {
    "duration": 14,
    "start_time": "2022-02-08T04:10:35.977Z"
   },
   {
    "duration": 1093,
    "start_time": "2022-02-08T04:11:22.809Z"
   },
   {
    "duration": 314,
    "start_time": "2022-02-08T04:11:23.904Z"
   },
   {
    "duration": 7,
    "start_time": "2022-02-08T04:11:24.220Z"
   },
   {
    "duration": 13,
    "start_time": "2022-02-08T04:11:24.229Z"
   },
   {
    "duration": 7,
    "start_time": "2022-02-08T04:11:24.243Z"
   },
   {
    "duration": 12,
    "start_time": "2022-02-08T04:11:24.251Z"
   },
   {
    "duration": 7,
    "start_time": "2022-02-08T04:11:24.265Z"
   },
   {
    "duration": 10,
    "start_time": "2022-02-08T04:11:24.312Z"
   },
   {
    "duration": 9,
    "start_time": "2022-02-08T04:11:24.325Z"
   },
   {
    "duration": 8,
    "start_time": "2022-02-08T04:11:24.336Z"
   },
   {
    "duration": 7,
    "start_time": "2022-02-08T04:11:24.346Z"
   },
   {
    "duration": 16,
    "start_time": "2022-02-08T04:11:24.355Z"
   },
   {
    "duration": 46,
    "start_time": "2022-02-08T04:11:24.374Z"
   },
   {
    "duration": 52,
    "start_time": "2022-02-08T04:11:24.422Z"
   },
   {
    "duration": 48,
    "start_time": "2022-02-08T04:11:24.475Z"
   },
   {
    "duration": 11,
    "start_time": "2022-02-08T04:11:24.524Z"
   },
   {
    "duration": 22,
    "start_time": "2022-02-08T04:11:24.536Z"
   },
   {
    "duration": 11,
    "start_time": "2022-02-08T04:11:24.560Z"
   },
   {
    "duration": 7,
    "start_time": "2022-02-08T04:11:24.573Z"
   },
   {
    "duration": 20,
    "start_time": "2022-02-08T04:11:24.613Z"
   },
   {
    "duration": 20,
    "start_time": "2022-02-08T04:11:24.635Z"
   },
   {
    "duration": 16,
    "start_time": "2022-02-08T04:11:24.657Z"
   },
   {
    "duration": 43,
    "start_time": "2022-02-08T04:11:24.677Z"
   },
   {
    "duration": 15,
    "start_time": "2022-02-08T04:11:24.722Z"
   },
   {
    "duration": 8,
    "start_time": "2022-02-08T04:11:24.739Z"
   },
   {
    "duration": 80,
    "start_time": "2022-02-08T04:11:24.749Z"
   },
   {
    "duration": 27,
    "start_time": "2022-02-08T04:11:24.831Z"
   },
   {
    "duration": 20,
    "start_time": "2022-02-08T04:11:24.860Z"
   },
   {
    "duration": 32,
    "start_time": "2022-02-08T04:11:24.882Z"
   },
   {
    "duration": 55,
    "start_time": "2022-02-08T04:11:24.917Z"
   },
   {
    "duration": 3,
    "start_time": "2022-02-08T04:11:24.974Z"
   },
   {
    "duration": 55,
    "start_time": "2022-02-08T04:11:24.979Z"
   },
   {
    "duration": 24,
    "start_time": "2022-02-08T04:11:25.036Z"
   },
   {
    "duration": 52,
    "start_time": "2022-02-08T04:11:25.062Z"
   },
   {
    "duration": 28,
    "start_time": "2022-02-08T04:11:28.561Z"
   },
   {
    "duration": 308,
    "start_time": "2022-02-08T04:18:51.289Z"
   },
   {
    "duration": 19,
    "start_time": "2022-02-08T04:19:53.107Z"
   },
   {
    "duration": 205,
    "start_time": "2022-02-08T04:21:13.096Z"
   },
   {
    "duration": 195,
    "start_time": "2022-02-08T04:21:54.136Z"
   },
   {
    "duration": 219,
    "start_time": "2022-02-08T04:22:32.629Z"
   },
   {
    "duration": 21,
    "start_time": "2022-02-08T04:23:01.626Z"
   },
   {
    "duration": 611,
    "start_time": "2022-02-08T07:44:11.262Z"
   },
   {
    "duration": 1391,
    "start_time": "2022-02-08T07:44:22.641Z"
   },
   {
    "duration": 1061,
    "start_time": "2022-02-08T07:44:24.035Z"
   },
   {
    "duration": 9,
    "start_time": "2022-02-08T07:44:25.099Z"
   },
   {
    "duration": 17,
    "start_time": "2022-02-08T07:44:25.111Z"
   },
   {
    "duration": 28,
    "start_time": "2022-02-08T07:44:25.131Z"
   },
   {
    "duration": 15,
    "start_time": "2022-02-08T07:44:25.162Z"
   },
   {
    "duration": 11,
    "start_time": "2022-02-08T07:44:25.180Z"
   },
   {
    "duration": 15,
    "start_time": "2022-02-08T07:44:25.197Z"
   },
   {
    "duration": 49,
    "start_time": "2022-02-08T07:44:25.216Z"
   },
   {
    "duration": 11,
    "start_time": "2022-02-08T07:44:25.268Z"
   },
   {
    "duration": 7,
    "start_time": "2022-02-08T07:44:25.281Z"
   },
   {
    "duration": 20,
    "start_time": "2022-02-08T07:44:25.291Z"
   },
   {
    "duration": 49,
    "start_time": "2022-02-08T07:44:25.313Z"
   },
   {
    "duration": 97,
    "start_time": "2022-02-08T07:44:25.366Z"
   },
   {
    "duration": 40,
    "start_time": "2022-02-08T07:44:25.466Z"
   },
   {
    "duration": 15,
    "start_time": "2022-02-08T07:44:25.508Z"
   },
   {
    "duration": 59,
    "start_time": "2022-02-08T07:44:25.525Z"
   },
   {
    "duration": 14,
    "start_time": "2022-02-08T07:44:25.586Z"
   },
   {
    "duration": 10,
    "start_time": "2022-02-08T07:44:25.602Z"
   },
   {
    "duration": 62,
    "start_time": "2022-02-08T07:44:25.614Z"
   },
   {
    "duration": 25,
    "start_time": "2022-02-08T07:44:25.678Z"
   },
   {
    "duration": 29,
    "start_time": "2022-02-08T07:44:25.705Z"
   },
   {
    "duration": 14,
    "start_time": "2022-02-08T07:44:25.762Z"
   },
   {
    "duration": 19,
    "start_time": "2022-02-08T07:44:25.779Z"
   },
   {
    "duration": 11,
    "start_time": "2022-02-08T07:44:25.800Z"
   },
   {
    "duration": 97,
    "start_time": "2022-02-08T07:44:25.813Z"
   },
   {
    "duration": 50,
    "start_time": "2022-02-08T07:44:25.913Z"
   },
   {
    "duration": 27,
    "start_time": "2022-02-08T07:44:25.965Z"
   },
   {
    "duration": 12,
    "start_time": "2022-02-08T07:44:25.994Z"
   },
   {
    "duration": 99,
    "start_time": "2022-02-08T07:44:26.008Z"
   },
   {
    "duration": 3,
    "start_time": "2022-02-08T07:44:26.109Z"
   },
   {
    "duration": 65,
    "start_time": "2022-02-08T07:44:26.115Z"
   },
   {
    "duration": 42,
    "start_time": "2022-02-08T07:44:26.183Z"
   },
   {
    "duration": 43,
    "start_time": "2022-02-08T07:44:33.501Z"
   },
   {
    "duration": 40,
    "start_time": "2022-02-08T07:44:38.791Z"
   },
   {
    "duration": 1195,
    "start_time": "2022-02-08T09:03:15.680Z"
   },
   {
    "duration": 315,
    "start_time": "2022-02-08T09:03:16.876Z"
   },
   {
    "duration": 8,
    "start_time": "2022-02-08T09:03:17.193Z"
   },
   {
    "duration": 15,
    "start_time": "2022-02-08T09:03:17.203Z"
   },
   {
    "duration": 7,
    "start_time": "2022-02-08T09:03:17.220Z"
   },
   {
    "duration": 12,
    "start_time": "2022-02-08T09:03:17.229Z"
   },
   {
    "duration": 12,
    "start_time": "2022-02-08T09:03:17.242Z"
   },
   {
    "duration": 11,
    "start_time": "2022-02-08T09:03:17.257Z"
   },
   {
    "duration": 34,
    "start_time": "2022-02-08T09:03:17.270Z"
   },
   {
    "duration": 11,
    "start_time": "2022-02-08T09:03:17.306Z"
   },
   {
    "duration": 8,
    "start_time": "2022-02-08T09:03:17.319Z"
   },
   {
    "duration": 23,
    "start_time": "2022-02-08T09:03:17.329Z"
   },
   {
    "duration": 9,
    "start_time": "2022-02-08T09:03:17.354Z"
   },
   {
    "duration": 78,
    "start_time": "2022-02-08T09:03:17.364Z"
   },
   {
    "duration": 33,
    "start_time": "2022-02-08T09:03:17.444Z"
   },
   {
    "duration": 27,
    "start_time": "2022-02-08T09:03:17.479Z"
   },
   {
    "duration": 25,
    "start_time": "2022-02-08T09:03:17.507Z"
   },
   {
    "duration": 13,
    "start_time": "2022-02-08T09:03:17.534Z"
   },
   {
    "duration": 9,
    "start_time": "2022-02-08T09:03:17.550Z"
   },
   {
    "duration": 57,
    "start_time": "2022-02-08T09:03:17.561Z"
   },
   {
    "duration": 20,
    "start_time": "2022-02-08T09:03:17.621Z"
   },
   {
    "duration": 18,
    "start_time": "2022-02-08T09:03:17.643Z"
   },
   {
    "duration": 41,
    "start_time": "2022-02-08T09:03:17.664Z"
   },
   {
    "duration": 14,
    "start_time": "2022-02-08T09:03:17.707Z"
   },
   {
    "duration": 10,
    "start_time": "2022-02-08T09:03:17.723Z"
   },
   {
    "duration": 79,
    "start_time": "2022-02-08T09:03:17.735Z"
   },
   {
    "duration": 28,
    "start_time": "2022-02-08T09:03:17.816Z"
   },
   {
    "duration": 22,
    "start_time": "2022-02-08T09:03:17.847Z"
   },
   {
    "duration": 33,
    "start_time": "2022-02-08T09:03:17.871Z"
   },
   {
    "duration": 64,
    "start_time": "2022-02-08T09:03:17.906Z"
   },
   {
    "duration": 3,
    "start_time": "2022-02-08T09:03:17.971Z"
   },
   {
    "duration": 44,
    "start_time": "2022-02-08T09:03:17.975Z"
   },
   {
    "duration": 24,
    "start_time": "2022-02-08T09:03:18.020Z"
   },
   {
    "duration": 33,
    "start_time": "2022-02-08T09:03:18.045Z"
   },
   {
    "duration": 29,
    "start_time": "2022-02-08T09:03:28.758Z"
   },
   {
    "duration": 17,
    "start_time": "2022-02-08T09:03:52.018Z"
   },
   {
    "duration": 17,
    "start_time": "2022-02-08T09:10:13.140Z"
   },
   {
    "duration": 15,
    "start_time": "2022-02-08T09:10:50.519Z"
   },
   {
    "duration": 22,
    "start_time": "2022-02-08T09:13:36.971Z"
   },
   {
    "duration": 16,
    "start_time": "2022-02-08T09:13:50.187Z"
   },
   {
    "duration": 4,
    "start_time": "2022-02-08T09:49:12.943Z"
   },
   {
    "duration": 15,
    "start_time": "2022-02-08T09:50:16.221Z"
   },
   {
    "duration": 16,
    "start_time": "2022-02-08T09:57:19.768Z"
   },
   {
    "duration": 1633,
    "start_time": "2022-02-08T10:35:12.725Z"
   },
   {
    "duration": 19,
    "start_time": "2022-02-08T10:36:33.161Z"
   },
   {
    "duration": 18,
    "start_time": "2022-02-08T10:38:34.287Z"
   },
   {
    "duration": 18,
    "start_time": "2022-02-08T10:39:50.029Z"
   },
   {
    "duration": 266,
    "start_time": "2022-02-08T10:45:00.958Z"
   },
   {
    "duration": 6,
    "start_time": "2022-02-08T10:45:14.752Z"
   },
   {
    "duration": 350,
    "start_time": "2022-02-08T14:54:45.635Z"
   },
   {
    "duration": 1542,
    "start_time": "2022-02-08T14:55:01.140Z"
   },
   {
    "duration": 845,
    "start_time": "2022-02-08T14:55:02.685Z"
   },
   {
    "duration": 10,
    "start_time": "2022-02-08T14:55:03.534Z"
   },
   {
    "duration": 38,
    "start_time": "2022-02-08T14:55:03.547Z"
   },
   {
    "duration": 9,
    "start_time": "2022-02-08T14:55:03.588Z"
   },
   {
    "duration": 20,
    "start_time": "2022-02-08T14:55:03.600Z"
   },
   {
    "duration": 13,
    "start_time": "2022-02-08T14:55:03.623Z"
   },
   {
    "duration": 16,
    "start_time": "2022-02-08T14:55:03.670Z"
   },
   {
    "duration": 13,
    "start_time": "2022-02-08T14:55:03.689Z"
   },
   {
    "duration": 14,
    "start_time": "2022-02-08T14:55:03.704Z"
   },
   {
    "duration": 19,
    "start_time": "2022-02-08T14:55:03.721Z"
   },
   {
    "duration": 33,
    "start_time": "2022-02-08T14:55:03.743Z"
   },
   {
    "duration": 28,
    "start_time": "2022-02-08T14:55:03.779Z"
   },
   {
    "duration": 35,
    "start_time": "2022-02-08T14:55:03.810Z"
   },
   {
    "duration": 87,
    "start_time": "2022-02-08T14:55:03.848Z"
   },
   {
    "duration": 48,
    "start_time": "2022-02-08T14:55:03.937Z"
   },
   {
    "duration": 16,
    "start_time": "2022-02-08T14:55:03.988Z"
   },
   {
    "duration": 34,
    "start_time": "2022-02-08T14:55:04.006Z"
   },
   {
    "duration": 40,
    "start_time": "2022-02-08T14:55:04.042Z"
   },
   {
    "duration": 24,
    "start_time": "2022-02-08T14:55:04.085Z"
   },
   {
    "duration": 32,
    "start_time": "2022-02-08T14:55:04.112Z"
   },
   {
    "duration": 46,
    "start_time": "2022-02-08T14:55:04.146Z"
   },
   {
    "duration": 23,
    "start_time": "2022-02-08T14:55:04.197Z"
   },
   {
    "duration": 47,
    "start_time": "2022-02-08T14:55:04.223Z"
   },
   {
    "duration": 18,
    "start_time": "2022-02-08T14:55:04.273Z"
   },
   {
    "duration": 16,
    "start_time": "2022-02-08T14:55:04.293Z"
   },
   {
    "duration": 99,
    "start_time": "2022-02-08T14:55:04.311Z"
   },
   {
    "duration": 34,
    "start_time": "2022-02-08T14:55:04.412Z"
   },
   {
    "duration": 43,
    "start_time": "2022-02-08T14:55:04.448Z"
   },
   {
    "duration": 12,
    "start_time": "2022-02-08T14:55:04.493Z"
   },
   {
    "duration": 98,
    "start_time": "2022-02-08T14:55:04.507Z"
   },
   {
    "duration": 3,
    "start_time": "2022-02-08T14:55:04.607Z"
   },
   {
    "duration": 35,
    "start_time": "2022-02-08T14:55:04.612Z"
   },
   {
    "duration": 48,
    "start_time": "2022-02-08T14:55:04.649Z"
   },
   {
    "duration": 43,
    "start_time": "2022-02-08T14:55:04.700Z"
   },
   {
    "duration": 27,
    "start_time": "2022-02-08T14:55:04.745Z"
   },
   {
    "duration": 21,
    "start_time": "2022-02-08T14:55:07.912Z"
   },
   {
    "duration": 48,
    "start_time": "2022-02-08T14:57:14.482Z"
   },
   {
    "duration": 13,
    "start_time": "2022-02-08T14:59:40.648Z"
   },
   {
    "duration": 31,
    "start_time": "2022-02-08T14:59:54.478Z"
   },
   {
    "duration": 339,
    "start_time": "2022-02-08T15:00:59.429Z"
   },
   {
    "duration": 259,
    "start_time": "2022-02-08T15:02:05.272Z"
   },
   {
    "duration": 285,
    "start_time": "2022-02-08T15:03:40.798Z"
   },
   {
    "duration": 294,
    "start_time": "2022-02-08T15:03:50.959Z"
   },
   {
    "duration": 35,
    "start_time": "2022-02-08T15:04:13.165Z"
   },
   {
    "duration": 35,
    "start_time": "2022-02-08T15:04:25.606Z"
   },
   {
    "duration": 1524,
    "start_time": "2022-02-08T15:04:57.417Z"
   },
   {
    "duration": 364,
    "start_time": "2022-02-08T15:04:58.944Z"
   },
   {
    "duration": 10,
    "start_time": "2022-02-08T15:04:59.311Z"
   },
   {
    "duration": 20,
    "start_time": "2022-02-08T15:04:59.324Z"
   },
   {
    "duration": 30,
    "start_time": "2022-02-08T15:04:59.346Z"
   },
   {
    "duration": 19,
    "start_time": "2022-02-08T15:04:59.378Z"
   },
   {
    "duration": 12,
    "start_time": "2022-02-08T15:04:59.400Z"
   },
   {
    "duration": 54,
    "start_time": "2022-02-08T15:04:59.417Z"
   },
   {
    "duration": 40,
    "start_time": "2022-02-08T15:04:59.474Z"
   },
   {
    "duration": 51,
    "start_time": "2022-02-08T15:04:59.516Z"
   },
   {
    "duration": 20,
    "start_time": "2022-02-08T15:04:59.569Z"
   },
   {
    "duration": 18,
    "start_time": "2022-02-08T15:04:59.592Z"
   },
   {
    "duration": 58,
    "start_time": "2022-02-08T15:04:59.612Z"
   },
   {
    "duration": 19,
    "start_time": "2022-02-08T15:04:59.672Z"
   },
   {
    "duration": 89,
    "start_time": "2022-02-08T15:04:59.693Z"
   },
   {
    "duration": 48,
    "start_time": "2022-02-08T15:04:59.785Z"
   },
   {
    "duration": 38,
    "start_time": "2022-02-08T15:04:59.836Z"
   },
   {
    "duration": 34,
    "start_time": "2022-02-08T15:04:59.877Z"
   },
   {
    "duration": 15,
    "start_time": "2022-02-08T15:04:59.913Z"
   },
   {
    "duration": 45,
    "start_time": "2022-02-08T15:04:59.930Z"
   },
   {
    "duration": 36,
    "start_time": "2022-02-08T15:04:59.978Z"
   },
   {
    "duration": 26,
    "start_time": "2022-02-08T15:05:00.016Z"
   },
   {
    "duration": 23,
    "start_time": "2022-02-08T15:05:00.071Z"
   },
   {
    "duration": 16,
    "start_time": "2022-02-08T15:05:00.098Z"
   },
   {
    "duration": 52,
    "start_time": "2022-02-08T15:05:00.117Z"
   },
   {
    "duration": 12,
    "start_time": "2022-02-08T15:05:00.173Z"
   },
   {
    "duration": 101,
    "start_time": "2022-02-08T15:05:00.189Z"
   },
   {
    "duration": 37,
    "start_time": "2022-02-08T15:05:00.293Z"
   },
   {
    "duration": 51,
    "start_time": "2022-02-08T15:05:00.333Z"
   },
   {
    "duration": 13,
    "start_time": "2022-02-08T15:05:00.386Z"
   },
   {
    "duration": 95,
    "start_time": "2022-02-08T15:05:00.401Z"
   },
   {
    "duration": 2,
    "start_time": "2022-02-08T15:05:00.499Z"
   },
   {
    "duration": 52,
    "start_time": "2022-02-08T15:05:00.503Z"
   },
   {
    "duration": 45,
    "start_time": "2022-02-08T15:05:00.557Z"
   },
   {
    "duration": 64,
    "start_time": "2022-02-08T15:05:00.605Z"
   },
   {
    "duration": 5,
    "start_time": "2022-02-08T15:05:00.672Z"
   },
   {
    "duration": 22,
    "start_time": "2022-02-08T15:05:00.680Z"
   },
   {
    "duration": 29,
    "start_time": "2022-02-08T15:05:19.058Z"
   },
   {
    "duration": 31,
    "start_time": "2022-02-08T15:06:11.109Z"
   },
   {
    "duration": 2966,
    "start_time": "2022-02-08T15:48:51.070Z"
   },
   {
    "duration": 577,
    "start_time": "2022-02-08T15:52:29.046Z"
   },
   {
    "duration": 3709,
    "start_time": "2022-02-08T15:53:57.337Z"
   },
   {
    "duration": 1381,
    "start_time": "2022-02-08T15:59:18.410Z"
   },
   {
    "duration": 382,
    "start_time": "2022-02-08T15:59:19.794Z"
   },
   {
    "duration": 10,
    "start_time": "2022-02-08T15:59:20.179Z"
   },
   {
    "duration": 33,
    "start_time": "2022-02-08T15:59:20.192Z"
   },
   {
    "duration": 12,
    "start_time": "2022-02-08T15:59:20.228Z"
   },
   {
    "duration": 37,
    "start_time": "2022-02-08T15:59:20.243Z"
   },
   {
    "duration": 9,
    "start_time": "2022-02-08T15:59:20.283Z"
   },
   {
    "duration": 31,
    "start_time": "2022-02-08T15:59:20.295Z"
   },
   {
    "duration": 27,
    "start_time": "2022-02-08T15:59:20.329Z"
   },
   {
    "duration": 22,
    "start_time": "2022-02-08T15:59:20.358Z"
   },
   {
    "duration": 16,
    "start_time": "2022-02-08T15:59:20.383Z"
   },
   {
    "duration": 11,
    "start_time": "2022-02-08T15:59:20.402Z"
   },
   {
    "duration": 34,
    "start_time": "2022-02-08T15:59:20.415Z"
   },
   {
    "duration": 13,
    "start_time": "2022-02-08T15:59:20.469Z"
   },
   {
    "duration": 87,
    "start_time": "2022-02-08T15:59:20.485Z"
   },
   {
    "duration": 45,
    "start_time": "2022-02-08T15:59:20.575Z"
   },
   {
    "duration": 48,
    "start_time": "2022-02-08T15:59:20.623Z"
   },
   {
    "duration": 35,
    "start_time": "2022-02-08T15:59:20.674Z"
   },
   {
    "duration": 15,
    "start_time": "2022-02-08T15:59:20.712Z"
   },
   {
    "duration": 47,
    "start_time": "2022-02-08T15:59:20.730Z"
   },
   {
    "duration": 35,
    "start_time": "2022-02-08T15:59:20.780Z"
   },
   {
    "duration": 53,
    "start_time": "2022-02-08T15:59:20.818Z"
   },
   {
    "duration": 24,
    "start_time": "2022-02-08T15:59:20.876Z"
   },
   {
    "duration": 17,
    "start_time": "2022-02-08T15:59:20.903Z"
   },
   {
    "duration": 50,
    "start_time": "2022-02-08T15:59:20.922Z"
   },
   {
    "duration": 13,
    "start_time": "2022-02-08T15:59:20.974Z"
   },
   {
    "duration": 109,
    "start_time": "2022-02-08T15:59:20.990Z"
   },
   {
    "duration": 36,
    "start_time": "2022-02-08T15:59:21.101Z"
   },
   {
    "duration": 49,
    "start_time": "2022-02-08T15:59:21.140Z"
   },
   {
    "duration": 14,
    "start_time": "2022-02-08T15:59:21.191Z"
   },
   {
    "duration": 114,
    "start_time": "2022-02-08T15:59:21.208Z"
   },
   {
    "duration": 4,
    "start_time": "2022-02-08T15:59:21.326Z"
   },
   {
    "duration": 59,
    "start_time": "2022-02-08T15:59:21.333Z"
   },
   {
    "duration": 36,
    "start_time": "2022-02-08T15:59:21.395Z"
   },
   {
    "duration": 73,
    "start_time": "2022-02-08T15:59:21.435Z"
   },
   {
    "duration": 16,
    "start_time": "2022-02-08T15:59:21.511Z"
   },
   {
    "duration": 47,
    "start_time": "2022-02-08T15:59:21.531Z"
   },
   {
    "duration": 30,
    "start_time": "2022-02-08T15:59:21.580Z"
   },
   {
    "duration": 32,
    "start_time": "2022-02-08T15:59:21.613Z"
   },
   {
    "duration": 2887,
    "start_time": "2022-02-08T15:59:35.710Z"
   },
   {
    "duration": 25,
    "start_time": "2022-02-08T16:00:19.108Z"
   },
   {
    "duration": 400,
    "start_time": "2022-02-08T16:01:37.132Z"
   },
   {
    "duration": 279,
    "start_time": "2022-02-08T16:05:44.342Z"
   },
   {
    "duration": 277,
    "start_time": "2022-02-08T16:06:19.620Z"
   },
   {
    "duration": 323,
    "start_time": "2022-02-08T16:06:31.288Z"
   },
   {
    "duration": 6,
    "start_time": "2022-02-08T16:18:02.564Z"
   },
   {
    "duration": 29,
    "start_time": "2022-02-08T16:18:14.511Z"
   },
   {
    "duration": 414,
    "start_time": "2022-02-08T21:01:05.747Z"
   },
   {
    "duration": 1350,
    "start_time": "2022-02-08T21:01:17.955Z"
   },
   {
    "duration": 339,
    "start_time": "2022-02-08T21:01:19.307Z"
   },
   {
    "duration": 10,
    "start_time": "2022-02-08T21:01:19.649Z"
   },
   {
    "duration": 21,
    "start_time": "2022-02-08T21:01:19.663Z"
   },
   {
    "duration": 37,
    "start_time": "2022-02-08T21:01:19.687Z"
   },
   {
    "duration": 14,
    "start_time": "2022-02-08T21:01:19.726Z"
   },
   {
    "duration": 9,
    "start_time": "2022-02-08T21:01:19.743Z"
   },
   {
    "duration": 14,
    "start_time": "2022-02-08T21:01:19.756Z"
   },
   {
    "duration": 9,
    "start_time": "2022-02-08T21:01:19.773Z"
   },
   {
    "duration": 48,
    "start_time": "2022-02-08T21:01:19.784Z"
   },
   {
    "duration": 10,
    "start_time": "2022-02-08T21:01:19.835Z"
   },
   {
    "duration": 11,
    "start_time": "2022-02-08T21:01:19.848Z"
   },
   {
    "duration": 76,
    "start_time": "2022-02-08T21:01:19.862Z"
   },
   {
    "duration": 16,
    "start_time": "2022-02-08T21:01:19.942Z"
   },
   {
    "duration": 110,
    "start_time": "2022-02-08T21:01:19.961Z"
   },
   {
    "duration": 77,
    "start_time": "2022-02-08T21:01:20.074Z"
   },
   {
    "duration": 14,
    "start_time": "2022-02-08T21:01:20.154Z"
   },
   {
    "duration": 60,
    "start_time": "2022-02-08T21:01:20.170Z"
   },
   {
    "duration": 15,
    "start_time": "2022-02-08T21:01:20.233Z"
   },
   {
    "duration": 12,
    "start_time": "2022-02-08T21:01:20.250Z"
   },
   {
    "duration": 67,
    "start_time": "2022-02-08T21:01:20.264Z"
   },
   {
    "duration": 26,
    "start_time": "2022-02-08T21:01:20.333Z"
   },
   {
    "duration": 23,
    "start_time": "2022-02-08T21:01:20.363Z"
   },
   {
    "duration": 49,
    "start_time": "2022-02-08T21:01:20.389Z"
   },
   {
    "duration": 18,
    "start_time": "2022-02-08T21:01:20.441Z"
   },
   {
    "duration": 12,
    "start_time": "2022-02-08T21:01:20.462Z"
   },
   {
    "duration": 105,
    "start_time": "2022-02-08T21:01:20.477Z"
   },
   {
    "duration": 45,
    "start_time": "2022-02-08T21:01:20.584Z"
   },
   {
    "duration": 27,
    "start_time": "2022-02-08T21:01:20.632Z"
   },
   {
    "duration": 12,
    "start_time": "2022-02-08T21:01:20.662Z"
   },
   {
    "duration": 105,
    "start_time": "2022-02-08T21:01:20.677Z"
   },
   {
    "duration": 3,
    "start_time": "2022-02-08T21:01:20.785Z"
   },
   {
    "duration": 48,
    "start_time": "2022-02-08T21:01:20.790Z"
   },
   {
    "duration": 45,
    "start_time": "2022-02-08T21:01:20.841Z"
   },
   {
    "duration": 62,
    "start_time": "2022-02-08T21:01:24.316Z"
   },
   {
    "duration": 64,
    "start_time": "2022-02-08T21:01:29.339Z"
   },
   {
    "duration": 8,
    "start_time": "2022-02-08T21:01:35.270Z"
   },
   {
    "duration": 31,
    "start_time": "2022-02-08T21:01:38.989Z"
   },
   {
    "duration": 25,
    "start_time": "2022-02-08T21:02:29.858Z"
   },
   {
    "duration": 30,
    "start_time": "2022-02-08T21:03:01.105Z"
   },
   {
    "duration": 2787,
    "start_time": "2022-02-08T21:03:23.552Z"
   },
   {
    "duration": 25,
    "start_time": "2022-02-08T21:03:33.742Z"
   },
   {
    "duration": 986,
    "start_time": "2022-02-09T07:48:05.257Z"
   },
   {
    "duration": 269,
    "start_time": "2022-02-09T07:48:06.245Z"
   },
   {
    "duration": 6,
    "start_time": "2022-02-09T07:48:06.516Z"
   },
   {
    "duration": 12,
    "start_time": "2022-02-09T07:48:06.524Z"
   },
   {
    "duration": 6,
    "start_time": "2022-02-09T07:48:06.537Z"
   },
   {
    "duration": 9,
    "start_time": "2022-02-09T07:48:06.545Z"
   },
   {
    "duration": 6,
    "start_time": "2022-02-09T07:48:06.556Z"
   },
   {
    "duration": 9,
    "start_time": "2022-02-09T07:48:06.565Z"
   },
   {
    "duration": 5,
    "start_time": "2022-02-09T07:48:06.576Z"
   },
   {
    "duration": 8,
    "start_time": "2022-02-09T07:48:06.583Z"
   },
   {
    "duration": 38,
    "start_time": "2022-02-09T07:48:06.592Z"
   },
   {
    "duration": 4,
    "start_time": "2022-02-09T07:48:06.632Z"
   },
   {
    "duration": 16,
    "start_time": "2022-02-09T07:48:06.637Z"
   },
   {
    "duration": 6,
    "start_time": "2022-02-09T07:48:06.655Z"
   },
   {
    "duration": 39,
    "start_time": "2022-02-09T07:48:06.662Z"
   },
   {
    "duration": 49,
    "start_time": "2022-02-09T07:48:06.703Z"
   },
   {
    "duration": 10,
    "start_time": "2022-02-09T07:48:06.753Z"
   },
   {
    "duration": 19,
    "start_time": "2022-02-09T07:48:06.765Z"
   },
   {
    "duration": 10,
    "start_time": "2022-02-09T07:48:06.785Z"
   },
   {
    "duration": 34,
    "start_time": "2022-02-09T07:48:06.796Z"
   },
   {
    "duration": 18,
    "start_time": "2022-02-09T07:48:06.832Z"
   },
   {
    "duration": 15,
    "start_time": "2022-02-09T07:48:06.852Z"
   },
   {
    "duration": 13,
    "start_time": "2022-02-09T07:48:06.870Z"
   },
   {
    "duration": 9,
    "start_time": "2022-02-09T07:48:06.884Z"
   },
   {
    "duration": 40,
    "start_time": "2022-02-09T07:48:06.894Z"
   },
   {
    "duration": 6,
    "start_time": "2022-02-09T07:48:06.947Z"
   },
   {
    "duration": 88,
    "start_time": "2022-02-09T07:48:06.955Z"
   },
   {
    "duration": 79,
    "start_time": "2022-02-09T07:48:07.059Z"
   },
   {
    "duration": 69,
    "start_time": "2022-02-09T07:48:07.151Z"
   },
   {
    "duration": 86,
    "start_time": "2022-02-09T07:48:07.222Z"
   },
   {
    "duration": 139,
    "start_time": "2022-02-09T07:48:07.310Z"
   },
   {
    "duration": 2,
    "start_time": "2022-02-09T07:48:07.451Z"
   },
   {
    "duration": 22,
    "start_time": "2022-02-09T07:48:07.455Z"
   },
   {
    "duration": 19,
    "start_time": "2022-02-09T07:48:07.479Z"
   },
   {
    "duration": 44,
    "start_time": "2022-02-09T07:48:07.500Z"
   },
   {
    "duration": 3,
    "start_time": "2022-02-09T07:48:07.545Z"
   },
   {
    "duration": 12,
    "start_time": "2022-02-09T07:48:07.550Z"
   },
   {
    "duration": 15,
    "start_time": "2022-02-09T07:48:07.563Z"
   },
   {
    "duration": 16,
    "start_time": "2022-02-09T07:48:07.579Z"
   },
   {
    "duration": 1419,
    "start_time": "2022-02-09T07:48:11.109Z"
   },
   {
    "duration": 23,
    "start_time": "2022-02-09T08:07:12.535Z"
   },
   {
    "duration": 382,
    "start_time": "2022-02-09T08:13:59.513Z"
   },
   {
    "duration": 8236,
    "start_time": "2022-02-09T08:15:38.026Z"
   },
   {
    "duration": 8294,
    "start_time": "2022-02-09T08:17:35.393Z"
   },
   {
    "duration": 9206,
    "start_time": "2022-02-09T10:48:44.860Z"
   },
   {
    "duration": 4,
    "start_time": "2022-02-09T13:50:58.088Z"
   },
   {
    "duration": 1230,
    "start_time": "2022-02-11T05:15:43.191Z"
   },
   {
    "duration": 289,
    "start_time": "2022-02-11T05:15:44.423Z"
   },
   {
    "duration": 7,
    "start_time": "2022-02-11T05:15:44.714Z"
   },
   {
    "duration": 16,
    "start_time": "2022-02-11T05:15:44.723Z"
   },
   {
    "duration": 7,
    "start_time": "2022-02-11T05:15:44.742Z"
   },
   {
    "duration": 12,
    "start_time": "2022-02-11T05:15:44.751Z"
   },
   {
    "duration": 12,
    "start_time": "2022-02-11T05:15:44.765Z"
   },
   {
    "duration": 11,
    "start_time": "2022-02-11T05:15:44.808Z"
   },
   {
    "duration": 8,
    "start_time": "2022-02-11T05:15:44.822Z"
   },
   {
    "duration": 11,
    "start_time": "2022-02-11T05:15:44.831Z"
   },
   {
    "duration": 11,
    "start_time": "2022-02-11T05:15:44.844Z"
   },
   {
    "duration": 9,
    "start_time": "2022-02-11T05:15:44.857Z"
   },
   {
    "duration": 45,
    "start_time": "2022-02-11T05:15:44.868Z"
   },
   {
    "duration": 8,
    "start_time": "2022-02-11T05:15:44.915Z"
   },
   {
    "duration": 48,
    "start_time": "2022-02-11T05:15:44.925Z"
   },
   {
    "duration": 55,
    "start_time": "2022-02-11T05:15:44.975Z"
   },
   {
    "duration": 13,
    "start_time": "2022-02-11T05:15:45.032Z"
   },
   {
    "duration": 26,
    "start_time": "2022-02-11T05:15:45.047Z"
   },
   {
    "duration": 40,
    "start_time": "2022-02-11T05:15:45.075Z"
   },
   {
    "duration": 11,
    "start_time": "2022-02-11T05:15:45.117Z"
   },
   {
    "duration": 23,
    "start_time": "2022-02-11T05:15:45.130Z"
   },
   {
    "duration": 19,
    "start_time": "2022-02-11T05:15:45.155Z"
   },
   {
    "duration": 41,
    "start_time": "2022-02-11T05:15:45.178Z"
   },
   {
    "duration": 12,
    "start_time": "2022-02-11T05:15:45.221Z"
   },
   {
    "duration": 15,
    "start_time": "2022-02-11T05:15:45.234Z"
   },
   {
    "duration": 9,
    "start_time": "2022-02-11T05:15:45.251Z"
   },
   {
    "duration": 88,
    "start_time": "2022-02-11T05:15:45.262Z"
   },
   {
    "duration": 25,
    "start_time": "2022-02-11T05:15:45.352Z"
   },
   {
    "duration": 37,
    "start_time": "2022-02-11T05:15:45.379Z"
   },
   {
    "duration": 9,
    "start_time": "2022-02-11T05:15:45.417Z"
   },
   {
    "duration": 59,
    "start_time": "2022-02-11T05:15:45.428Z"
   },
   {
    "duration": 19,
    "start_time": "2022-02-11T05:15:45.489Z"
   },
   {
    "duration": 34,
    "start_time": "2022-02-11T05:15:45.510Z"
   },
   {
    "duration": 24,
    "start_time": "2022-02-11T05:15:45.546Z"
   },
   {
    "duration": 46,
    "start_time": "2022-02-11T05:15:45.572Z"
   },
   {
    "duration": 4,
    "start_time": "2022-02-11T05:15:45.620Z"
   },
   {
    "duration": 27,
    "start_time": "2022-02-11T05:15:45.626Z"
   },
   {
    "duration": 331,
    "start_time": "2022-02-11T05:15:45.655Z"
   },
   {
    "duration": 868,
    "start_time": "2022-02-11T05:15:45.120Z"
   },
   {
    "duration": 865,
    "start_time": "2022-02-11T05:15:45.124Z"
   },
   {
    "duration": 241,
    "start_time": "2022-02-11T05:18:20.447Z"
   },
   {
    "duration": 29,
    "start_time": "2022-02-11T05:19:31.678Z"
   },
   {
    "duration": 5,
    "start_time": "2022-02-11T05:19:50.101Z"
   },
   {
    "duration": 261,
    "start_time": "2022-02-11T05:20:05.518Z"
   },
   {
    "duration": 246,
    "start_time": "2022-02-11T05:20:18.296Z"
   },
   {
    "duration": 287,
    "start_time": "2022-02-11T05:38:21.443Z"
   },
   {
    "duration": 1175,
    "start_time": "2022-02-11T07:22:39.490Z"
   },
   {
    "duration": 291,
    "start_time": "2022-02-11T07:22:40.667Z"
   },
   {
    "duration": 9,
    "start_time": "2022-02-11T07:22:40.961Z"
   },
   {
    "duration": 30,
    "start_time": "2022-02-11T07:22:40.972Z"
   },
   {
    "duration": 18,
    "start_time": "2022-02-11T07:22:41.005Z"
   },
   {
    "duration": 19,
    "start_time": "2022-02-11T07:22:41.025Z"
   },
   {
    "duration": 14,
    "start_time": "2022-02-11T07:22:41.046Z"
   },
   {
    "duration": 12,
    "start_time": "2022-02-11T07:22:41.063Z"
   },
   {
    "duration": 12,
    "start_time": "2022-02-11T07:22:41.077Z"
   },
   {
    "duration": 20,
    "start_time": "2022-02-11T07:22:41.091Z"
   },
   {
    "duration": 10,
    "start_time": "2022-02-11T07:22:41.113Z"
   },
   {
    "duration": 12,
    "start_time": "2022-02-11T07:22:41.125Z"
   },
   {
    "duration": 19,
    "start_time": "2022-02-11T07:22:41.139Z"
   },
   {
    "duration": 10,
    "start_time": "2022-02-11T07:22:41.160Z"
   },
   {
    "duration": 79,
    "start_time": "2022-02-11T07:22:41.172Z"
   },
   {
    "duration": 54,
    "start_time": "2022-02-11T07:22:41.253Z"
   },
   {
    "duration": 15,
    "start_time": "2022-02-11T07:22:41.309Z"
   },
   {
    "duration": 25,
    "start_time": "2022-02-11T07:22:41.327Z"
   },
   {
    "duration": 14,
    "start_time": "2022-02-11T07:22:41.354Z"
   },
   {
    "duration": 9,
    "start_time": "2022-02-11T07:22:41.407Z"
   },
   {
    "duration": 24,
    "start_time": "2022-02-11T07:22:41.418Z"
   },
   {
    "duration": 20,
    "start_time": "2022-02-11T07:22:41.445Z"
   },
   {
    "duration": 46,
    "start_time": "2022-02-11T07:22:41.469Z"
   },
   {
    "duration": 11,
    "start_time": "2022-02-11T07:22:41.517Z"
   },
   {
    "duration": 14,
    "start_time": "2022-02-11T07:22:41.530Z"
   },
   {
    "duration": 9,
    "start_time": "2022-02-11T07:22:41.546Z"
   },
   {
    "duration": 90,
    "start_time": "2022-02-11T07:22:41.556Z"
   },
   {
    "duration": 26,
    "start_time": "2022-02-11T07:22:41.648Z"
   },
   {
    "duration": 37,
    "start_time": "2022-02-11T07:22:41.676Z"
   },
   {
    "duration": 9,
    "start_time": "2022-02-11T07:22:41.715Z"
   },
   {
    "duration": 61,
    "start_time": "2022-02-11T07:22:41.726Z"
   },
   {
    "duration": 3,
    "start_time": "2022-02-11T07:22:41.807Z"
   },
   {
    "duration": 31,
    "start_time": "2022-02-11T07:22:41.811Z"
   },
   {
    "duration": 23,
    "start_time": "2022-02-11T07:22:41.844Z"
   },
   {
    "duration": 51,
    "start_time": "2022-02-11T07:22:41.869Z"
   },
   {
    "duration": 5,
    "start_time": "2022-02-11T07:22:41.922Z"
   },
   {
    "duration": 20,
    "start_time": "2022-02-11T07:22:41.929Z"
   },
   {
    "duration": 21,
    "start_time": "2022-02-11T07:22:41.951Z"
   },
   {
    "duration": 46,
    "start_time": "2022-02-11T07:22:41.974Z"
   },
   {
    "duration": 1701,
    "start_time": "2022-02-11T07:22:42.022Z"
   },
   {
    "duration": 4,
    "start_time": "2022-02-11T07:22:43.725Z"
   },
   {
    "duration": 19,
    "start_time": "2022-02-11T07:23:18.034Z"
   },
   {
    "duration": 19,
    "start_time": "2022-02-11T07:36:50.428Z"
   },
   {
    "duration": 287,
    "start_time": "2022-02-11T07:38:09.631Z"
   },
   {
    "duration": 613,
    "start_time": "2022-02-11T07:40:13.967Z"
   },
   {
    "duration": 548,
    "start_time": "2022-02-11T07:41:21.831Z"
   },
   {
    "duration": 285,
    "start_time": "2022-02-11T07:41:47.501Z"
   },
   {
    "duration": 274,
    "start_time": "2022-02-11T07:42:05.061Z"
   },
   {
    "duration": 1009,
    "start_time": "2022-02-11T14:39:31.751Z"
   },
   {
    "duration": 268,
    "start_time": "2022-02-11T14:39:32.761Z"
   },
   {
    "duration": 7,
    "start_time": "2022-02-11T14:39:33.031Z"
   },
   {
    "duration": 27,
    "start_time": "2022-02-11T14:39:33.040Z"
   },
   {
    "duration": 27,
    "start_time": "2022-02-11T14:39:33.069Z"
   },
   {
    "duration": 21,
    "start_time": "2022-02-11T14:39:33.097Z"
   },
   {
    "duration": 13,
    "start_time": "2022-02-11T14:39:33.120Z"
   },
   {
    "duration": 15,
    "start_time": "2022-02-11T14:39:33.136Z"
   },
   {
    "duration": 35,
    "start_time": "2022-02-11T14:39:33.153Z"
   },
   {
    "duration": 12,
    "start_time": "2022-02-11T14:39:33.189Z"
   },
   {
    "duration": 17,
    "start_time": "2022-02-11T14:39:33.203Z"
   },
   {
    "duration": 24,
    "start_time": "2022-02-11T14:39:33.222Z"
   },
   {
    "duration": 27,
    "start_time": "2022-02-11T14:39:33.248Z"
   },
   {
    "duration": 9,
    "start_time": "2022-02-11T14:39:33.276Z"
   },
   {
    "duration": 45,
    "start_time": "2022-02-11T14:39:33.287Z"
   },
   {
    "duration": 27,
    "start_time": "2022-02-11T14:39:33.333Z"
   },
   {
    "duration": 9,
    "start_time": "2022-02-11T14:39:33.372Z"
   },
   {
    "duration": 44,
    "start_time": "2022-02-11T14:39:33.383Z"
   },
   {
    "duration": 9,
    "start_time": "2022-02-11T14:39:33.428Z"
   },
   {
    "duration": 27,
    "start_time": "2022-02-11T14:39:33.439Z"
   },
   {
    "duration": 31,
    "start_time": "2022-02-11T14:39:33.467Z"
   },
   {
    "duration": 15,
    "start_time": "2022-02-11T14:39:33.500Z"
   },
   {
    "duration": 17,
    "start_time": "2022-02-11T14:39:33.518Z"
   },
   {
    "duration": 8,
    "start_time": "2022-02-11T14:39:33.537Z"
   },
   {
    "duration": 19,
    "start_time": "2022-02-11T14:39:33.546Z"
   },
   {
    "duration": 17,
    "start_time": "2022-02-11T14:39:33.567Z"
   },
   {
    "duration": 44,
    "start_time": "2022-02-11T14:39:33.585Z"
   },
   {
    "duration": 22,
    "start_time": "2022-02-11T14:39:33.631Z"
   },
   {
    "duration": 25,
    "start_time": "2022-02-11T14:39:33.654Z"
   },
   {
    "duration": 11,
    "start_time": "2022-02-11T14:39:33.680Z"
   },
   {
    "duration": 45,
    "start_time": "2022-02-11T14:39:33.693Z"
   },
   {
    "duration": 2,
    "start_time": "2022-02-11T14:39:33.739Z"
   },
   {
    "duration": 33,
    "start_time": "2022-02-11T14:39:33.742Z"
   },
   {
    "duration": 18,
    "start_time": "2022-02-11T14:39:33.777Z"
   },
   {
    "duration": 23,
    "start_time": "2022-02-11T14:39:33.796Z"
   },
   {
    "duration": 3,
    "start_time": "2022-02-11T14:39:33.820Z"
   },
   {
    "duration": 21,
    "start_time": "2022-02-11T14:39:33.825Z"
   },
   {
    "duration": 28,
    "start_time": "2022-02-11T14:39:33.847Z"
   },
   {
    "duration": 20,
    "start_time": "2022-02-11T14:39:33.876Z"
   },
   {
    "duration": 1575,
    "start_time": "2022-02-11T14:39:33.898Z"
   },
   {
    "duration": 3,
    "start_time": "2022-02-11T14:39:35.474Z"
   },
   {
    "duration": 28,
    "start_time": "2022-02-11T14:39:35.479Z"
   },
   {
    "duration": 34,
    "start_time": "2022-02-11T14:39:35.508Z"
   },
   {
    "duration": 208,
    "start_time": "2022-02-11T14:39:35.544Z"
   },
   {
    "duration": 22,
    "start_time": "2022-02-11T14:39:42.752Z"
   },
   {
    "duration": 382,
    "start_time": "2022-02-11T14:40:41.732Z"
   },
   {
    "duration": 211,
    "start_time": "2022-02-11T14:42:46.339Z"
   },
   {
    "duration": 292,
    "start_time": "2022-02-11T14:45:06.967Z"
   },
   {
    "duration": 23,
    "start_time": "2022-02-11T15:50:53.144Z"
   },
   {
    "duration": 362,
    "start_time": "2022-02-12T04:16:35.679Z"
   },
   {
    "duration": 1410,
    "start_time": "2022-02-12T04:16:44.705Z"
   },
   {
    "duration": 347,
    "start_time": "2022-02-12T04:16:46.117Z"
   },
   {
    "duration": 10,
    "start_time": "2022-02-12T04:16:46.467Z"
   },
   {
    "duration": 17,
    "start_time": "2022-02-12T04:16:46.480Z"
   },
   {
    "duration": 24,
    "start_time": "2022-02-12T04:16:46.500Z"
   },
   {
    "duration": 14,
    "start_time": "2022-02-12T04:16:46.527Z"
   },
   {
    "duration": 9,
    "start_time": "2022-02-12T04:16:46.543Z"
   },
   {
    "duration": 14,
    "start_time": "2022-02-12T04:16:46.555Z"
   },
   {
    "duration": 52,
    "start_time": "2022-02-12T04:16:46.572Z"
   },
   {
    "duration": 10,
    "start_time": "2022-02-12T04:16:46.626Z"
   },
   {
    "duration": 12,
    "start_time": "2022-02-12T04:16:46.638Z"
   },
   {
    "duration": 9,
    "start_time": "2022-02-12T04:16:46.652Z"
   },
   {
    "duration": 22,
    "start_time": "2022-02-12T04:16:46.663Z"
   },
   {
    "duration": 12,
    "start_time": "2022-02-12T04:16:46.725Z"
   },
   {
    "duration": 62,
    "start_time": "2022-02-12T04:16:46.739Z"
   },
   {
    "duration": 41,
    "start_time": "2022-02-12T04:16:46.824Z"
   },
   {
    "duration": 15,
    "start_time": "2022-02-12T04:16:46.868Z"
   },
   {
    "duration": 61,
    "start_time": "2022-02-12T04:16:46.885Z"
   },
   {
    "duration": 15,
    "start_time": "2022-02-12T04:16:46.948Z"
   },
   {
    "duration": 9,
    "start_time": "2022-02-12T04:16:46.966Z"
   },
   {
    "duration": 70,
    "start_time": "2022-02-12T04:16:46.977Z"
   },
   {
    "duration": 26,
    "start_time": "2022-02-12T04:16:47.050Z"
   },
   {
    "duration": 54,
    "start_time": "2022-02-12T04:16:47.081Z"
   },
   {
    "duration": 16,
    "start_time": "2022-02-12T04:16:47.138Z"
   },
   {
    "duration": 18,
    "start_time": "2022-02-12T04:16:47.156Z"
   },
   {
    "duration": 47,
    "start_time": "2022-02-12T04:16:47.176Z"
   },
   {
    "duration": 76,
    "start_time": "2022-02-12T04:16:47.225Z"
   },
   {
    "duration": 50,
    "start_time": "2022-02-12T04:16:47.303Z"
   },
   {
    "duration": 29,
    "start_time": "2022-02-12T04:16:47.356Z"
   },
   {
    "duration": 13,
    "start_time": "2022-02-12T04:16:47.387Z"
   },
   {
    "duration": 113,
    "start_time": "2022-02-12T04:16:47.425Z"
   },
   {
    "duration": 3,
    "start_time": "2022-02-12T04:16:47.541Z"
   },
   {
    "duration": 46,
    "start_time": "2022-02-12T04:16:47.547Z"
   },
   {
    "duration": 62,
    "start_time": "2022-02-12T04:16:47.596Z"
   },
   {
    "duration": 70,
    "start_time": "2022-02-12T04:16:47.661Z"
   },
   {
    "duration": 6,
    "start_time": "2022-02-12T04:16:47.734Z"
   },
   {
    "duration": 24,
    "start_time": "2022-02-12T04:16:47.743Z"
   },
   {
    "duration": 61,
    "start_time": "2022-02-12T04:16:47.770Z"
   },
   {
    "duration": 38,
    "start_time": "2022-02-12T04:16:47.834Z"
   },
   {
    "duration": 3805,
    "start_time": "2022-02-12T04:16:47.875Z"
   },
   {
    "duration": 6,
    "start_time": "2022-02-12T04:16:51.683Z"
   },
   {
    "duration": 52,
    "start_time": "2022-02-12T04:16:51.692Z"
   },
   {
    "duration": 28,
    "start_time": "2022-02-12T04:16:51.747Z"
   },
   {
    "duration": 725,
    "start_time": "2022-02-12T04:16:51.778Z"
   },
   {
    "duration": 384,
    "start_time": "2022-02-12T04:16:57.741Z"
   },
   {
    "duration": 540,
    "start_time": "2022-02-12T04:17:54.459Z"
   },
   {
    "duration": 654,
    "start_time": "2022-02-12T04:18:27.123Z"
   },
   {
    "duration": 612,
    "start_time": "2022-02-12T04:19:28.065Z"
   },
   {
    "duration": 348,
    "start_time": "2022-02-12T04:41:46.105Z"
   },
   {
    "duration": 350,
    "start_time": "2022-02-12T04:43:56.417Z"
   },
   {
    "duration": 341,
    "start_time": "2022-02-12T04:44:29.532Z"
   },
   {
    "duration": 1207,
    "start_time": "2022-02-13T07:20:54.056Z"
   },
   {
    "duration": 290,
    "start_time": "2022-02-13T07:20:55.265Z"
   },
   {
    "duration": 8,
    "start_time": "2022-02-13T07:20:55.557Z"
   },
   {
    "duration": 23,
    "start_time": "2022-02-13T07:20:55.568Z"
   },
   {
    "duration": 31,
    "start_time": "2022-02-13T07:20:55.593Z"
   },
   {
    "duration": 14,
    "start_time": "2022-02-13T07:20:55.626Z"
   },
   {
    "duration": 13,
    "start_time": "2022-02-13T07:20:55.642Z"
   },
   {
    "duration": 13,
    "start_time": "2022-02-13T07:20:55.658Z"
   },
   {
    "duration": 9,
    "start_time": "2022-02-13T07:20:55.674Z"
   },
   {
    "duration": 9,
    "start_time": "2022-02-13T07:20:55.708Z"
   },
   {
    "duration": 15,
    "start_time": "2022-02-13T07:20:55.720Z"
   },
   {
    "duration": 13,
    "start_time": "2022-02-13T07:20:55.737Z"
   },
   {
    "duration": 20,
    "start_time": "2022-02-13T07:20:55.752Z"
   },
   {
    "duration": 10,
    "start_time": "2022-02-13T07:20:55.807Z"
   },
   {
    "duration": 48,
    "start_time": "2022-02-13T07:20:55.819Z"
   },
   {
    "duration": 58,
    "start_time": "2022-02-13T07:20:55.869Z"
   },
   {
    "duration": 13,
    "start_time": "2022-02-13T07:20:55.929Z"
   },
   {
    "duration": 25,
    "start_time": "2022-02-13T07:20:55.944Z"
   },
   {
    "duration": 37,
    "start_time": "2022-02-13T07:20:55.971Z"
   },
   {
    "duration": 8,
    "start_time": "2022-02-13T07:20:56.010Z"
   },
   {
    "duration": 34,
    "start_time": "2022-02-13T07:20:56.020Z"
   },
   {
    "duration": 23,
    "start_time": "2022-02-13T07:20:56.056Z"
   },
   {
    "duration": 20,
    "start_time": "2022-02-13T07:20:56.110Z"
   },
   {
    "duration": 13,
    "start_time": "2022-02-13T07:20:56.132Z"
   },
   {
    "duration": 14,
    "start_time": "2022-02-13T07:20:56.147Z"
   },
   {
    "duration": 53,
    "start_time": "2022-02-13T07:20:56.164Z"
   },
   {
    "duration": 89,
    "start_time": "2022-02-13T07:20:56.220Z"
   },
   {
    "duration": 26,
    "start_time": "2022-02-13T07:20:56.311Z"
   },
   {
    "duration": 20,
    "start_time": "2022-02-13T07:20:56.339Z"
   },
   {
    "duration": 10,
    "start_time": "2022-02-13T07:20:56.361Z"
   },
   {
    "duration": 84,
    "start_time": "2022-02-13T07:20:56.373Z"
   },
   {
    "duration": 2,
    "start_time": "2022-02-13T07:20:56.459Z"
   },
   {
    "duration": 45,
    "start_time": "2022-02-13T07:20:56.463Z"
   },
   {
    "duration": 25,
    "start_time": "2022-02-13T07:20:56.511Z"
   },
   {
    "duration": 30,
    "start_time": "2022-02-13T07:20:56.538Z"
   },
   {
    "duration": 4,
    "start_time": "2022-02-13T07:20:56.570Z"
   },
   {
    "duration": 40,
    "start_time": "2022-02-13T07:20:56.576Z"
   },
   {
    "duration": 31,
    "start_time": "2022-02-13T07:20:56.618Z"
   },
   {
    "duration": 21,
    "start_time": "2022-02-13T07:20:56.651Z"
   },
   {
    "duration": 1811,
    "start_time": "2022-02-13T07:20:56.674Z"
   },
   {
    "duration": 5,
    "start_time": "2022-02-13T07:20:58.487Z"
   },
   {
    "duration": 35,
    "start_time": "2022-02-13T07:20:58.493Z"
   },
   {
    "duration": 41,
    "start_time": "2022-02-13T07:20:58.530Z"
   },
   {
    "duration": 277,
    "start_time": "2022-02-13T07:20:58.573Z"
   },
   {
    "duration": 241,
    "start_time": "2022-02-13T07:30:24.612Z"
   },
   {
    "duration": 31,
    "start_time": "2022-02-13T07:38:24.304Z"
   },
   {
    "duration": 29,
    "start_time": "2022-02-13T07:38:27.108Z"
   },
   {
    "duration": 356,
    "start_time": "2022-02-13T07:39:07.320Z"
   },
   {
    "duration": 1187,
    "start_time": "2022-02-13T07:40:10.561Z"
   },
   {
    "duration": 312,
    "start_time": "2022-02-13T07:40:11.750Z"
   },
   {
    "duration": 7,
    "start_time": "2022-02-13T07:40:12.065Z"
   },
   {
    "duration": 46,
    "start_time": "2022-02-13T07:40:12.075Z"
   },
   {
    "duration": 14,
    "start_time": "2022-02-13T07:40:12.123Z"
   },
   {
    "duration": 33,
    "start_time": "2022-02-13T07:40:12.139Z"
   },
   {
    "duration": 20,
    "start_time": "2022-02-13T07:40:12.174Z"
   },
   {
    "duration": 33,
    "start_time": "2022-02-13T07:40:12.197Z"
   },
   {
    "duration": 23,
    "start_time": "2022-02-13T07:40:12.233Z"
   },
   {
    "duration": 30,
    "start_time": "2022-02-13T07:40:12.258Z"
   },
   {
    "duration": 42,
    "start_time": "2022-02-13T07:40:12.290Z"
   },
   {
    "duration": 26,
    "start_time": "2022-02-13T07:40:12.334Z"
   },
   {
    "duration": 35,
    "start_time": "2022-02-13T07:40:12.362Z"
   },
   {
    "duration": 24,
    "start_time": "2022-02-13T07:40:12.399Z"
   },
   {
    "duration": 66,
    "start_time": "2022-02-13T07:40:12.425Z"
   },
   {
    "duration": 36,
    "start_time": "2022-02-13T07:40:12.492Z"
   },
   {
    "duration": 13,
    "start_time": "2022-02-13T07:40:12.530Z"
   },
   {
    "duration": 34,
    "start_time": "2022-02-13T07:40:12.545Z"
   },
   {
    "duration": 31,
    "start_time": "2022-02-13T07:40:12.581Z"
   },
   {
    "duration": 8,
    "start_time": "2022-02-13T07:40:12.619Z"
   },
   {
    "duration": 30,
    "start_time": "2022-02-13T07:40:12.629Z"
   },
   {
    "duration": 30,
    "start_time": "2022-02-13T07:40:12.661Z"
   },
   {
    "duration": 22,
    "start_time": "2022-02-13T07:40:12.708Z"
   },
   {
    "duration": 18,
    "start_time": "2022-02-13T07:40:12.733Z"
   },
   {
    "duration": 17,
    "start_time": "2022-02-13T07:40:12.753Z"
   },
   {
    "duration": 25,
    "start_time": "2022-02-13T07:40:12.772Z"
   },
   {
    "duration": 67,
    "start_time": "2022-02-13T07:40:12.807Z"
   },
   {
    "duration": 38,
    "start_time": "2022-02-13T07:40:12.876Z"
   },
   {
    "duration": 22,
    "start_time": "2022-02-13T07:40:12.917Z"
   },
   {
    "duration": 11,
    "start_time": "2022-02-13T07:40:12.942Z"
   },
   {
    "duration": 89,
    "start_time": "2022-02-13T07:40:12.955Z"
   },
   {
    "duration": 2,
    "start_time": "2022-02-13T07:40:13.047Z"
   },
   {
    "duration": 32,
    "start_time": "2022-02-13T07:40:13.052Z"
   },
   {
    "duration": 39,
    "start_time": "2022-02-13T07:40:13.086Z"
   },
   {
    "duration": 39,
    "start_time": "2022-02-13T07:40:13.127Z"
   },
   {
    "duration": 8,
    "start_time": "2022-02-13T07:40:13.173Z"
   },
   {
    "duration": 119,
    "start_time": "2022-02-13T07:40:13.183Z"
   },
   {
    "duration": 154,
    "start_time": "2022-02-13T07:40:13.304Z"
   },
   {
    "duration": 69,
    "start_time": "2022-02-13T07:40:13.461Z"
   },
   {
    "duration": 1895,
    "start_time": "2022-02-13T07:40:13.533Z"
   },
   {
    "duration": 4,
    "start_time": "2022-02-13T07:40:15.430Z"
   },
   {
    "duration": 21,
    "start_time": "2022-02-13T07:40:15.436Z"
   },
   {
    "duration": 20,
    "start_time": "2022-02-13T07:40:15.460Z"
   },
   {
    "duration": 316,
    "start_time": "2022-02-13T07:40:15.482Z"
   },
   {
    "duration": 266,
    "start_time": "2022-02-13T07:40:15.800Z"
   },
   {
    "duration": 26,
    "start_time": "2022-02-13T07:40:19.196Z"
   },
   {
    "duration": 13,
    "start_time": "2022-02-13T07:44:38.972Z"
   },
   {
    "duration": 12,
    "start_time": "2022-02-13T07:45:25.585Z"
   },
   {
    "duration": 20,
    "start_time": "2022-02-13T07:50:45.405Z"
   },
   {
    "duration": 13,
    "start_time": "2022-02-13T07:51:29.373Z"
   },
   {
    "duration": 198,
    "start_time": "2022-02-13T08:02:46.599Z"
   },
   {
    "duration": 213,
    "start_time": "2022-02-13T08:08:50.954Z"
   },
   {
    "duration": 269,
    "start_time": "2022-02-13T08:16:56.789Z"
   },
   {
    "duration": 246,
    "start_time": "2022-02-13T08:18:58.643Z"
   },
   {
    "duration": 24,
    "start_time": "2022-02-13T08:21:36.590Z"
   },
   {
    "duration": 170,
    "start_time": "2022-02-13T08:22:49.536Z"
   },
   {
    "duration": 347,
    "start_time": "2022-02-13T08:26:28.218Z"
   },
   {
    "duration": 24,
    "start_time": "2022-02-13T08:27:50.323Z"
   },
   {
    "duration": 339,
    "start_time": "2022-02-13T08:28:03.634Z"
   },
   {
    "duration": 22,
    "start_time": "2022-02-13T08:28:17.656Z"
   },
   {
    "duration": 182,
    "start_time": "2022-02-13T08:29:44.681Z"
   },
   {
    "duration": 273,
    "start_time": "2022-02-13T08:40:10.876Z"
   },
   {
    "duration": 252,
    "start_time": "2022-02-13T08:43:24.571Z"
   },
   {
    "duration": 21,
    "start_time": "2022-02-13T08:45:43.485Z"
   },
   {
    "duration": 176,
    "start_time": "2022-02-13T08:46:46.300Z"
   },
   {
    "duration": 255,
    "start_time": "2022-02-13T08:48:18.073Z"
   },
   {
    "duration": 407,
    "start_time": "2022-02-13T08:48:24.381Z"
   },
   {
    "duration": 412,
    "start_time": "2022-02-13T08:50:18.478Z"
   },
   {
    "duration": 184,
    "start_time": "2022-02-13T08:51:35.583Z"
   },
   {
    "duration": 165,
    "start_time": "2022-02-13T08:52:18.921Z"
   },
   {
    "duration": 11,
    "start_time": "2022-02-13T08:53:50.369Z"
   },
   {
    "duration": 13,
    "start_time": "2022-02-13T08:54:40.334Z"
   },
   {
    "duration": 11,
    "start_time": "2022-02-13T09:01:14.359Z"
   },
   {
    "duration": 12,
    "start_time": "2022-02-13T09:02:06.272Z"
   },
   {
    "duration": 12,
    "start_time": "2022-02-13T09:02:14.101Z"
   },
   {
    "duration": 11,
    "start_time": "2022-02-13T09:04:35.525Z"
   },
   {
    "duration": 11,
    "start_time": "2022-02-13T09:04:43.174Z"
   },
   {
    "duration": 183,
    "start_time": "2022-02-13T09:06:19.407Z"
   },
   {
    "duration": 14,
    "start_time": "2022-02-13T10:03:40.340Z"
   },
   {
    "duration": 14,
    "start_time": "2022-02-13T10:05:15.631Z"
   },
   {
    "duration": 12,
    "start_time": "2022-02-13T10:16:05.623Z"
   },
   {
    "duration": 28,
    "start_time": "2022-02-13T10:32:59.311Z"
   },
   {
    "duration": 1204,
    "start_time": "2022-02-13T10:33:59.089Z"
   },
   {
    "duration": 299,
    "start_time": "2022-02-13T10:34:00.296Z"
   },
   {
    "duration": 10,
    "start_time": "2022-02-13T10:34:00.597Z"
   },
   {
    "duration": 23,
    "start_time": "2022-02-13T10:34:00.610Z"
   },
   {
    "duration": 29,
    "start_time": "2022-02-13T10:34:00.636Z"
   },
   {
    "duration": 17,
    "start_time": "2022-02-13T10:34:00.667Z"
   },
   {
    "duration": 12,
    "start_time": "2022-02-13T10:34:00.687Z"
   },
   {
    "duration": 19,
    "start_time": "2022-02-13T10:34:00.703Z"
   },
   {
    "duration": 28,
    "start_time": "2022-02-13T10:34:00.724Z"
   },
   {
    "duration": 81,
    "start_time": "2022-02-13T10:34:00.754Z"
   },
   {
    "duration": 21,
    "start_time": "2022-02-13T10:34:00.837Z"
   },
   {
    "duration": 16,
    "start_time": "2022-02-13T10:34:00.860Z"
   },
   {
    "duration": 25,
    "start_time": "2022-02-13T10:34:00.878Z"
   },
   {
    "duration": 17,
    "start_time": "2022-02-13T10:34:00.905Z"
   },
   {
    "duration": 70,
    "start_time": "2022-02-13T10:34:00.925Z"
   },
   {
    "duration": 51,
    "start_time": "2022-02-13T10:34:00.998Z"
   },
   {
    "duration": 18,
    "start_time": "2022-02-13T10:34:01.052Z"
   },
   {
    "duration": 49,
    "start_time": "2022-02-13T10:34:01.072Z"
   },
   {
    "duration": 14,
    "start_time": "2022-02-13T10:34:01.124Z"
   },
   {
    "duration": 19,
    "start_time": "2022-02-13T10:34:01.140Z"
   },
   {
    "duration": 47,
    "start_time": "2022-02-13T10:34:01.161Z"
   },
   {
    "duration": 22,
    "start_time": "2022-02-13T10:34:01.211Z"
   },
   {
    "duration": 18,
    "start_time": "2022-02-13T10:34:01.237Z"
   },
   {
    "duration": 12,
    "start_time": "2022-02-13T10:34:01.258Z"
   },
   {
    "duration": 43,
    "start_time": "2022-02-13T10:34:01.272Z"
   },
   {
    "duration": 30,
    "start_time": "2022-02-13T10:34:01.316Z"
   },
   {
    "duration": 81,
    "start_time": "2022-02-13T10:34:01.348Z"
   },
   {
    "duration": 107,
    "start_time": "2022-02-13T10:34:01.431Z"
   },
   {
    "duration": 23,
    "start_time": "2022-02-13T10:34:01.540Z"
   },
   {
    "duration": 50,
    "start_time": "2022-02-13T10:34:01.565Z"
   },
   {
    "duration": 114,
    "start_time": "2022-02-13T10:34:01.617Z"
   },
   {
    "duration": 3,
    "start_time": "2022-02-13T10:34:01.733Z"
   },
   {
    "duration": 44,
    "start_time": "2022-02-13T10:34:01.738Z"
   },
   {
    "duration": 25,
    "start_time": "2022-02-13T10:34:01.784Z"
   },
   {
    "duration": 32,
    "start_time": "2022-02-13T10:34:01.810Z"
   },
   {
    "duration": 5,
    "start_time": "2022-02-13T10:34:01.844Z"
   },
   {
    "duration": 33,
    "start_time": "2022-02-13T10:34:01.851Z"
   },
   {
    "duration": 56,
    "start_time": "2022-02-13T10:34:01.886Z"
   },
   {
    "duration": 31,
    "start_time": "2022-02-13T10:34:18.855Z"
   },
   {
    "duration": 3,
    "start_time": "2022-02-13T10:35:02.453Z"
   },
   {
    "duration": 428,
    "start_time": "2022-02-13T10:35:02.459Z"
   },
   {
    "duration": 7,
    "start_time": "2022-02-13T10:35:02.890Z"
   },
   {
    "duration": 38,
    "start_time": "2022-02-13T10:35:02.899Z"
   },
   {
    "duration": 30,
    "start_time": "2022-02-13T10:35:02.938Z"
   },
   {
    "duration": 27,
    "start_time": "2022-02-13T10:35:02.969Z"
   },
   {
    "duration": 56,
    "start_time": "2022-02-13T10:35:02.998Z"
   },
   {
    "duration": 56,
    "start_time": "2022-02-13T10:35:03.056Z"
   },
   {
    "duration": 36,
    "start_time": "2022-02-13T10:35:03.114Z"
   },
   {
    "duration": 40,
    "start_time": "2022-02-13T10:35:03.152Z"
   },
   {
    "duration": 24,
    "start_time": "2022-02-13T10:35:03.194Z"
   },
   {
    "duration": 36,
    "start_time": "2022-02-13T10:35:03.221Z"
   },
   {
    "duration": 43,
    "start_time": "2022-02-13T10:35:03.260Z"
   },
   {
    "duration": 12,
    "start_time": "2022-02-13T10:35:03.305Z"
   },
   {
    "duration": 90,
    "start_time": "2022-02-13T10:35:03.319Z"
   },
   {
    "duration": 46,
    "start_time": "2022-02-13T10:35:03.411Z"
   },
   {
    "duration": 16,
    "start_time": "2022-02-13T10:35:03.460Z"
   },
   {
    "duration": 52,
    "start_time": "2022-02-13T10:35:03.478Z"
   },
   {
    "duration": 19,
    "start_time": "2022-02-13T10:35:03.536Z"
   },
   {
    "duration": 55,
    "start_time": "2022-02-13T10:35:03.559Z"
   },
   {
    "duration": 57,
    "start_time": "2022-02-13T10:35:03.617Z"
   },
   {
    "duration": 30,
    "start_time": "2022-02-13T10:35:03.676Z"
   },
   {
    "duration": 23,
    "start_time": "2022-02-13T10:35:03.708Z"
   },
   {
    "duration": 22,
    "start_time": "2022-02-13T10:35:03.733Z"
   },
   {
    "duration": 36,
    "start_time": "2022-02-13T10:35:03.757Z"
   },
   {
    "duration": 68,
    "start_time": "2022-02-13T10:35:03.795Z"
   },
   {
    "duration": 88,
    "start_time": "2022-02-13T10:35:03.865Z"
   },
   {
    "duration": 25,
    "start_time": "2022-02-13T10:35:03.955Z"
   },
   {
    "duration": 38,
    "start_time": "2022-02-13T10:35:03.982Z"
   },
   {
    "duration": 9,
    "start_time": "2022-02-13T10:35:04.023Z"
   },
   {
    "duration": 73,
    "start_time": "2022-02-13T10:35:04.034Z"
   },
   {
    "duration": 3,
    "start_time": "2022-02-13T10:35:04.109Z"
   },
   {
    "duration": 40,
    "start_time": "2022-02-13T10:35:04.114Z"
   },
   {
    "duration": 25,
    "start_time": "2022-02-13T10:35:04.156Z"
   },
   {
    "duration": 57,
    "start_time": "2022-02-13T10:35:04.183Z"
   },
   {
    "duration": 5,
    "start_time": "2022-02-13T10:35:04.242Z"
   },
   {
    "duration": 32,
    "start_time": "2022-02-13T10:35:04.248Z"
   },
   {
    "duration": 30,
    "start_time": "2022-02-13T10:35:04.282Z"
   },
   {
    "duration": 46,
    "start_time": "2022-02-13T10:35:04.314Z"
   },
   {
    "duration": 1919,
    "start_time": "2022-02-13T10:35:04.362Z"
   },
   {
    "duration": 5,
    "start_time": "2022-02-13T10:35:06.283Z"
   },
   {
    "duration": 32,
    "start_time": "2022-02-13T10:35:06.290Z"
   },
   {
    "duration": 27,
    "start_time": "2022-02-13T10:35:06.325Z"
   },
   {
    "duration": 315,
    "start_time": "2022-02-13T10:35:06.355Z"
   },
   {
    "duration": 14,
    "start_time": "2022-02-13T10:35:06.672Z"
   },
   {
    "duration": 13,
    "start_time": "2022-02-13T10:35:06.708Z"
   },
   {
    "duration": 268,
    "start_time": "2022-02-13T10:35:06.724Z"
   },
   {
    "duration": 35,
    "start_time": "2022-02-13T10:35:06.995Z"
   },
   {
    "duration": 207,
    "start_time": "2022-02-13T10:35:07.032Z"
   },
   {
    "duration": 275,
    "start_time": "2022-02-13T10:35:07.241Z"
   },
   {
    "duration": 11,
    "start_time": "2022-02-13T10:35:07.518Z"
   },
   {
    "duration": 14,
    "start_time": "2022-02-13T10:35:07.531Z"
   },
   {
    "duration": 21,
    "start_time": "2022-02-13T10:35:07.547Z"
   },
   {
    "duration": 223,
    "start_time": "2022-02-13T10:35:07.570Z"
   },
   {
    "duration": 398,
    "start_time": "2022-02-13T10:35:07.798Z"
   },
   {
    "duration": 15,
    "start_time": "2022-02-13T10:35:08.199Z"
   },
   {
    "duration": 21,
    "start_time": "2022-02-13T10:35:08.216Z"
   },
   {
    "duration": 25,
    "start_time": "2022-02-13T10:35:08.239Z"
   },
   {
    "duration": 210,
    "start_time": "2022-02-13T10:35:08.266Z"
   },
   {
    "duration": 359,
    "start_time": "2022-02-13T10:35:08.478Z"
   },
   {
    "duration": 12,
    "start_time": "2022-02-13T10:35:08.839Z"
   },
   {
    "duration": 25,
    "start_time": "2022-02-13T10:35:08.853Z"
   },
   {
    "duration": 41,
    "start_time": "2022-02-13T10:35:08.880Z"
   },
   {
    "duration": 214,
    "start_time": "2022-02-13T10:35:08.923Z"
   },
   {
    "duration": 12,
    "start_time": "2022-02-13T10:35:09.139Z"
   },
   {
    "duration": 24,
    "start_time": "2022-02-13T10:39:41.693Z"
   },
   {
    "duration": 678,
    "start_time": "2022-02-13T10:41:38.712Z"
   },
   {
    "duration": 8,
    "start_time": "2022-02-13T11:20:43.870Z"
   },
   {
    "duration": 826,
    "start_time": "2022-02-13T12:03:27.648Z"
   },
   {
    "duration": 358,
    "start_time": "2022-02-13T12:37:32.801Z"
   },
   {
    "duration": 275,
    "start_time": "2022-02-13T12:39:26.074Z"
   },
   {
    "duration": 1197,
    "start_time": "2022-02-13T12:40:00.527Z"
   },
   {
    "duration": 303,
    "start_time": "2022-02-13T12:40:01.726Z"
   },
   {
    "duration": 9,
    "start_time": "2022-02-13T12:40:02.031Z"
   },
   {
    "duration": 44,
    "start_time": "2022-02-13T12:40:02.042Z"
   },
   {
    "duration": 22,
    "start_time": "2022-02-13T12:40:02.088Z"
   },
   {
    "duration": 43,
    "start_time": "2022-02-13T12:40:02.113Z"
   },
   {
    "duration": 17,
    "start_time": "2022-02-13T12:40:02.159Z"
   },
   {
    "duration": 40,
    "start_time": "2022-02-13T12:40:02.179Z"
   },
   {
    "duration": 36,
    "start_time": "2022-02-13T12:40:02.221Z"
   },
   {
    "duration": 36,
    "start_time": "2022-02-13T12:40:02.259Z"
   },
   {
    "duration": 40,
    "start_time": "2022-02-13T12:40:02.297Z"
   },
   {
    "duration": 38,
    "start_time": "2022-02-13T12:40:02.339Z"
   },
   {
    "duration": 75,
    "start_time": "2022-02-13T12:40:02.379Z"
   },
   {
    "duration": 19,
    "start_time": "2022-02-13T12:40:02.456Z"
   },
   {
    "duration": 68,
    "start_time": "2022-02-13T12:40:02.477Z"
   },
   {
    "duration": 33,
    "start_time": "2022-02-13T12:40:02.548Z"
   },
   {
    "duration": 30,
    "start_time": "2022-02-13T12:40:02.583Z"
   },
   {
    "duration": 25,
    "start_time": "2022-02-13T12:40:02.615Z"
   },
   {
    "duration": 18,
    "start_time": "2022-02-13T12:40:02.642Z"
   },
   {
    "duration": 30,
    "start_time": "2022-02-13T12:40:02.662Z"
   },
   {
    "duration": 40,
    "start_time": "2022-02-13T12:40:02.693Z"
   },
   {
    "duration": 32,
    "start_time": "2022-02-13T12:40:02.735Z"
   },
   {
    "duration": 18,
    "start_time": "2022-02-13T12:40:02.771Z"
   },
   {
    "duration": 23,
    "start_time": "2022-02-13T12:40:02.792Z"
   },
   {
    "duration": 43,
    "start_time": "2022-02-13T12:40:02.817Z"
   },
   {
    "duration": 27,
    "start_time": "2022-02-13T12:40:02.863Z"
   },
   {
    "duration": 79,
    "start_time": "2022-02-13T12:40:02.893Z"
   },
   {
    "duration": 27,
    "start_time": "2022-02-13T12:40:02.974Z"
   },
   {
    "duration": 21,
    "start_time": "2022-02-13T12:40:03.003Z"
   },
   {
    "duration": 10,
    "start_time": "2022-02-13T12:40:03.025Z"
   },
   {
    "duration": 84,
    "start_time": "2022-02-13T12:40:03.037Z"
   },
   {
    "duration": 2,
    "start_time": "2022-02-13T12:40:03.123Z"
   },
   {
    "duration": 43,
    "start_time": "2022-02-13T12:40:03.127Z"
   },
   {
    "duration": 25,
    "start_time": "2022-02-13T12:40:03.172Z"
   },
   {
    "duration": 38,
    "start_time": "2022-02-13T12:40:03.199Z"
   },
   {
    "duration": 4,
    "start_time": "2022-02-13T12:40:03.239Z"
   },
   {
    "duration": 33,
    "start_time": "2022-02-13T12:40:03.245Z"
   },
   {
    "duration": 35,
    "start_time": "2022-02-13T12:40:03.280Z"
   },
   {
    "duration": 23,
    "start_time": "2022-02-13T12:40:03.317Z"
   },
   {
    "duration": 30,
    "start_time": "2022-02-13T12:40:03.342Z"
   },
   {
    "duration": 1739,
    "start_time": "2022-02-13T12:40:03.374Z"
   },
   {
    "duration": 5,
    "start_time": "2022-02-13T12:40:05.114Z"
   },
   {
    "duration": 31,
    "start_time": "2022-02-13T12:40:05.121Z"
   },
   {
    "duration": 49,
    "start_time": "2022-02-13T12:40:05.154Z"
   },
   {
    "duration": 278,
    "start_time": "2022-02-13T12:40:05.204Z"
   },
   {
    "duration": 24,
    "start_time": "2022-02-13T12:40:05.485Z"
   },
   {
    "duration": 11,
    "start_time": "2022-02-13T12:40:05.511Z"
   },
   {
    "duration": 256,
    "start_time": "2022-02-13T12:40:05.524Z"
   },
   {
    "duration": 32,
    "start_time": "2022-02-13T12:40:05.782Z"
   },
   {
    "duration": 264,
    "start_time": "2022-02-13T12:40:05.816Z"
   },
   {
    "duration": 272,
    "start_time": "2022-02-13T12:40:06.083Z"
   },
   {
    "duration": 11,
    "start_time": "2022-02-13T12:40:06.357Z"
   },
   {
    "duration": 74,
    "start_time": "2022-02-13T12:40:06.370Z"
   },
   {
    "duration": 23,
    "start_time": "2022-02-13T12:40:06.446Z"
   },
   {
    "duration": 180,
    "start_time": "2022-02-13T12:40:06.472Z"
   },
   {
    "duration": 290,
    "start_time": "2022-02-13T12:40:06.655Z"
   },
   {
    "duration": 11,
    "start_time": "2022-02-13T12:40:06.947Z"
   },
   {
    "duration": 20,
    "start_time": "2022-02-13T12:40:06.960Z"
   },
   {
    "duration": 40,
    "start_time": "2022-02-13T12:40:06.982Z"
   },
   {
    "duration": 201,
    "start_time": "2022-02-13T12:40:07.024Z"
   },
   {
    "duration": 331,
    "start_time": "2022-02-13T12:40:07.227Z"
   },
   {
    "duration": 10,
    "start_time": "2022-02-13T12:40:07.560Z"
   },
   {
    "duration": 11,
    "start_time": "2022-02-13T12:40:07.572Z"
   },
   {
    "duration": 39,
    "start_time": "2022-02-13T12:40:07.585Z"
   },
   {
    "duration": 205,
    "start_time": "2022-02-13T12:40:07.625Z"
   },
   {
    "duration": 12,
    "start_time": "2022-02-13T12:40:07.832Z"
   },
   {
    "duration": 23,
    "start_time": "2022-02-13T12:40:07.845Z"
   },
   {
    "duration": 366,
    "start_time": "2022-02-13T12:40:26.187Z"
   },
   {
    "duration": 11,
    "start_time": "2022-02-13T12:44:38.021Z"
   },
   {
    "duration": 1272,
    "start_time": "2022-02-13T12:50:01.273Z"
   },
   {
    "duration": 318,
    "start_time": "2022-02-13T12:50:02.547Z"
   },
   {
    "duration": 10,
    "start_time": "2022-02-13T12:50:02.868Z"
   },
   {
    "duration": 29,
    "start_time": "2022-02-13T12:50:02.880Z"
   },
   {
    "duration": 23,
    "start_time": "2022-02-13T12:50:02.912Z"
   },
   {
    "duration": 15,
    "start_time": "2022-02-13T12:50:02.937Z"
   },
   {
    "duration": 14,
    "start_time": "2022-02-13T12:50:02.954Z"
   },
   {
    "duration": 12,
    "start_time": "2022-02-13T12:50:02.971Z"
   },
   {
    "duration": 26,
    "start_time": "2022-02-13T12:50:02.985Z"
   },
   {
    "duration": 20,
    "start_time": "2022-02-13T12:50:03.014Z"
   },
   {
    "duration": 19,
    "start_time": "2022-02-13T12:50:03.036Z"
   },
   {
    "duration": 4,
    "start_time": "2022-02-13T12:51:54.133Z"
   },
   {
    "duration": 308,
    "start_time": "2022-02-13T12:51:54.139Z"
   },
   {
    "duration": 6,
    "start_time": "2022-02-13T12:51:54.450Z"
   },
   {
    "duration": 12,
    "start_time": "2022-02-13T12:51:54.458Z"
   },
   {
    "duration": 10,
    "start_time": "2022-02-13T12:51:54.472Z"
   },
   {
    "duration": 29,
    "start_time": "2022-02-13T12:51:54.484Z"
   },
   {
    "duration": 12,
    "start_time": "2022-02-13T12:51:54.516Z"
   },
   {
    "duration": 11,
    "start_time": "2022-02-13T12:51:54.531Z"
   },
   {
    "duration": 7,
    "start_time": "2022-02-13T12:51:54.544Z"
   },
   {
    "duration": 9,
    "start_time": "2022-02-13T12:51:54.553Z"
   },
   {
    "duration": 12,
    "start_time": "2022-02-13T12:51:54.564Z"
   },
   {
    "duration": 6,
    "start_time": "2022-02-13T12:51:54.608Z"
   },
   {
    "duration": 23,
    "start_time": "2022-02-13T12:51:54.616Z"
   },
   {
    "duration": 8,
    "start_time": "2022-02-13T12:51:54.641Z"
   },
   {
    "duration": 61,
    "start_time": "2022-02-13T12:51:54.651Z"
   },
   {
    "duration": 29,
    "start_time": "2022-02-13T12:51:54.714Z"
   },
   {
    "duration": 11,
    "start_time": "2022-02-13T12:51:54.745Z"
   },
   {
    "duration": 50,
    "start_time": "2022-02-13T12:51:54.758Z"
   },
   {
    "duration": 13,
    "start_time": "2022-02-13T12:51:54.812Z"
   },
   {
    "duration": 10,
    "start_time": "2022-02-13T12:51:54.828Z"
   },
   {
    "duration": 23,
    "start_time": "2022-02-13T12:51:54.840Z"
   },
   {
    "duration": 44,
    "start_time": "2022-02-13T12:51:54.865Z"
   },
   {
    "duration": 18,
    "start_time": "2022-02-13T12:51:54.911Z"
   },
   {
    "duration": 11,
    "start_time": "2022-02-13T12:51:54.931Z"
   },
   {
    "duration": 26,
    "start_time": "2022-02-13T12:51:54.944Z"
   },
   {
    "duration": 8,
    "start_time": "2022-02-13T12:51:54.972Z"
   },
   {
    "duration": 74,
    "start_time": "2022-02-13T12:51:54.982Z"
   },
   {
    "duration": 49,
    "start_time": "2022-02-13T12:51:55.058Z"
   },
   {
    "duration": 21,
    "start_time": "2022-02-13T12:51:55.110Z"
   },
   {
    "duration": 9,
    "start_time": "2022-02-13T12:51:55.133Z"
   },
   {
    "duration": 76,
    "start_time": "2022-02-13T12:51:55.144Z"
   },
   {
    "duration": 3,
    "start_time": "2022-02-13T12:51:55.222Z"
   },
   {
    "duration": 31,
    "start_time": "2022-02-13T12:51:55.226Z"
   },
   {
    "duration": 23,
    "start_time": "2022-02-13T12:51:55.259Z"
   },
   {
    "duration": 51,
    "start_time": "2022-02-13T12:51:55.284Z"
   },
   {
    "duration": 4,
    "start_time": "2022-02-13T12:51:55.337Z"
   },
   {
    "duration": 15,
    "start_time": "2022-02-13T12:51:55.343Z"
   },
   {
    "duration": 19,
    "start_time": "2022-02-13T12:51:55.360Z"
   },
   {
    "duration": 46,
    "start_time": "2022-02-13T12:51:55.381Z"
   },
   {
    "duration": 7,
    "start_time": "2022-02-13T12:51:55.429Z"
   },
   {
    "duration": 1692,
    "start_time": "2022-02-13T12:51:55.437Z"
   },
   {
    "duration": 5,
    "start_time": "2022-02-13T12:51:57.132Z"
   },
   {
    "duration": 24,
    "start_time": "2022-02-13T12:51:57.139Z"
   },
   {
    "duration": 45,
    "start_time": "2022-02-13T12:51:57.165Z"
   },
   {
    "duration": 282,
    "start_time": "2022-02-13T12:51:57.212Z"
   },
   {
    "duration": 16,
    "start_time": "2022-02-13T12:51:57.497Z"
   },
   {
    "duration": 13,
    "start_time": "2022-02-13T12:51:57.515Z"
   },
   {
    "duration": 275,
    "start_time": "2022-02-13T12:51:57.530Z"
   },
   {
    "duration": 24,
    "start_time": "2022-02-13T12:51:57.807Z"
   },
   {
    "duration": 213,
    "start_time": "2022-02-13T12:51:57.833Z"
   },
   {
    "duration": 284,
    "start_time": "2022-02-13T12:51:58.048Z"
   },
   {
    "duration": 17,
    "start_time": "2022-02-13T12:51:58.334Z"
   },
   {
    "duration": 15,
    "start_time": "2022-02-13T12:51:58.353Z"
   },
   {
    "duration": 36,
    "start_time": "2022-02-13T12:51:58.371Z"
   },
   {
    "duration": 198,
    "start_time": "2022-02-13T12:51:58.412Z"
   },
   {
    "duration": 300,
    "start_time": "2022-02-13T12:51:58.612Z"
   },
   {
    "duration": 12,
    "start_time": "2022-02-13T12:51:58.915Z"
   },
   {
    "duration": 13,
    "start_time": "2022-02-13T12:51:58.930Z"
   },
   {
    "duration": 23,
    "start_time": "2022-02-13T12:51:58.946Z"
   },
   {
    "duration": 227,
    "start_time": "2022-02-13T12:51:58.971Z"
   },
   {
    "duration": 363,
    "start_time": "2022-02-13T12:51:59.200Z"
   },
   {
    "duration": 11,
    "start_time": "2022-02-13T12:51:59.565Z"
   },
   {
    "duration": 13,
    "start_time": "2022-02-13T12:51:59.578Z"
   },
   {
    "duration": 28,
    "start_time": "2022-02-13T12:51:59.608Z"
   },
   {
    "duration": 199,
    "start_time": "2022-02-13T12:51:59.638Z"
   },
   {
    "duration": 12,
    "start_time": "2022-02-13T12:51:59.839Z"
   },
   {
    "duration": 24,
    "start_time": "2022-02-13T12:51:59.853Z"
   },
   {
    "duration": 10,
    "start_time": "2022-02-13T12:52:13.787Z"
   },
   {
    "duration": 10,
    "start_time": "2022-02-13T12:53:24.627Z"
   },
   {
    "duration": 1857,
    "start_time": "2022-02-13T17:01:46.450Z"
   },
   {
    "duration": 358,
    "start_time": "2022-02-13T17:01:48.310Z"
   },
   {
    "duration": 11,
    "start_time": "2022-02-13T17:01:48.670Z"
   },
   {
    "duration": 21,
    "start_time": "2022-02-13T17:01:48.684Z"
   },
   {
    "duration": 9,
    "start_time": "2022-02-13T17:01:48.707Z"
   },
   {
    "duration": 40,
    "start_time": "2022-02-13T17:01:48.719Z"
   },
   {
    "duration": 11,
    "start_time": "2022-02-13T17:01:48.761Z"
   },
   {
    "duration": 15,
    "start_time": "2022-02-13T17:01:48.776Z"
   },
   {
    "duration": 10,
    "start_time": "2022-02-13T17:01:48.794Z"
   },
   {
    "duration": 15,
    "start_time": "2022-02-13T17:01:48.849Z"
   },
   {
    "duration": 30,
    "start_time": "2022-02-13T17:01:48.867Z"
   },
   {
    "duration": 10,
    "start_time": "2022-02-13T17:01:48.910Z"
   },
   {
    "duration": 45,
    "start_time": "2022-02-13T17:01:48.923Z"
   },
   {
    "duration": 12,
    "start_time": "2022-02-13T17:01:48.970Z"
   },
   {
    "duration": 113,
    "start_time": "2022-02-13T17:01:48.985Z"
   },
   {
    "duration": 75,
    "start_time": "2022-02-13T17:01:49.101Z"
   },
   {
    "duration": 21,
    "start_time": "2022-02-13T17:01:49.180Z"
   },
   {
    "duration": 60,
    "start_time": "2022-02-13T17:01:49.204Z"
   },
   {
    "duration": 15,
    "start_time": "2022-02-13T17:01:49.266Z"
   },
   {
    "duration": 12,
    "start_time": "2022-02-13T17:01:49.284Z"
   },
   {
    "duration": 64,
    "start_time": "2022-02-13T17:01:49.299Z"
   },
   {
    "duration": 28,
    "start_time": "2022-02-13T17:01:49.366Z"
   },
   {
    "duration": 52,
    "start_time": "2022-02-13T17:01:49.402Z"
   },
   {
    "duration": 18,
    "start_time": "2022-02-13T17:01:49.459Z"
   },
   {
    "duration": 19,
    "start_time": "2022-02-13T17:01:49.479Z"
   },
   {
    "duration": 48,
    "start_time": "2022-02-13T17:01:49.501Z"
   },
   {
    "duration": 105,
    "start_time": "2022-02-13T17:01:49.552Z"
   },
   {
    "duration": 47,
    "start_time": "2022-02-13T17:01:49.660Z"
   },
   {
    "duration": 50,
    "start_time": "2022-02-13T17:01:49.710Z"
   },
   {
    "duration": 12,
    "start_time": "2022-02-13T17:01:49.762Z"
   },
   {
    "duration": 98,
    "start_time": "2022-02-13T17:01:49.777Z"
   },
   {
    "duration": 5,
    "start_time": "2022-02-13T17:01:49.878Z"
   },
   {
    "duration": 48,
    "start_time": "2022-02-13T17:01:49.886Z"
   },
   {
    "duration": 44,
    "start_time": "2022-02-13T17:01:49.936Z"
   },
   {
    "duration": 80,
    "start_time": "2022-02-13T17:01:49.982Z"
   },
   {
    "duration": 7,
    "start_time": "2022-02-13T17:01:50.066Z"
   },
   {
    "duration": 27,
    "start_time": "2022-02-13T17:01:50.075Z"
   },
   {
    "duration": 150,
    "start_time": "2022-02-13T17:01:50.105Z"
   },
   {
    "duration": 41,
    "start_time": "2022-02-13T17:01:50.258Z"
   },
   {
    "duration": 12,
    "start_time": "2022-02-13T17:01:50.302Z"
   },
   {
    "duration": 3291,
    "start_time": "2022-02-13T17:01:50.317Z"
   },
   {
    "duration": 7,
    "start_time": "2022-02-13T17:01:53.611Z"
   },
   {
    "duration": 53,
    "start_time": "2022-02-13T17:01:53.621Z"
   },
   {
    "duration": 43,
    "start_time": "2022-02-13T17:01:53.678Z"
   },
   {
    "duration": 652,
    "start_time": "2022-02-13T17:01:53.724Z"
   },
   {
    "duration": 21,
    "start_time": "2022-02-13T17:01:54.380Z"
   },
   {
    "duration": 22,
    "start_time": "2022-02-13T17:01:54.404Z"
   },
   {
    "duration": 391,
    "start_time": "2022-02-13T17:01:54.449Z"
   },
   {
    "duration": 33,
    "start_time": "2022-02-13T17:01:54.843Z"
   },
   {
    "duration": 358,
    "start_time": "2022-02-13T17:01:54.878Z"
   },
   {
    "duration": 426,
    "start_time": "2022-02-13T17:01:55.239Z"
   },
   {
    "duration": 16,
    "start_time": "2022-02-13T17:01:55.668Z"
   },
   {
    "duration": 14,
    "start_time": "2022-02-13T17:01:55.687Z"
   },
   {
    "duration": 62,
    "start_time": "2022-02-13T17:01:55.703Z"
   },
   {
    "duration": 292,
    "start_time": "2022-02-13T17:01:55.767Z"
   },
   {
    "duration": 425,
    "start_time": "2022-02-13T17:01:56.062Z"
   },
   {
    "duration": 17,
    "start_time": "2022-02-13T17:01:56.490Z"
   },
   {
    "duration": 48,
    "start_time": "2022-02-13T17:01:56.510Z"
   },
   {
    "duration": 44,
    "start_time": "2022-02-13T17:01:56.562Z"
   },
   {
    "duration": 360,
    "start_time": "2022-02-13T17:01:56.609Z"
   },
   {
    "duration": 548,
    "start_time": "2022-02-13T17:01:56.972Z"
   },
   {
    "duration": 27,
    "start_time": "2022-02-13T17:01:57.523Z"
   },
   {
    "duration": 25,
    "start_time": "2022-02-13T17:01:57.553Z"
   },
   {
    "duration": 60,
    "start_time": "2022-02-13T17:01:57.581Z"
   },
   {
    "duration": 336,
    "start_time": "2022-02-13T17:01:57.648Z"
   },
   {
    "duration": 20,
    "start_time": "2022-02-13T17:01:57.987Z"
   },
   {
    "duration": 57,
    "start_time": "2022-02-13T17:01:58.010Z"
   },
   {
    "duration": 18,
    "start_time": "2022-02-13T17:01:58.078Z"
   },
   {
    "duration": 8,
    "start_time": "2022-02-13T17:02:32.400Z"
   },
   {
    "duration": 976,
    "start_time": "2022-02-14T00:26:57.657Z"
   },
   {
    "duration": 629,
    "start_time": "2022-02-14T00:26:58.635Z"
   },
   {
    "duration": 8,
    "start_time": "2022-02-14T00:26:59.266Z"
   },
   {
    "duration": 14,
    "start_time": "2022-02-14T00:26:59.276Z"
   },
   {
    "duration": 7,
    "start_time": "2022-02-14T00:26:59.292Z"
   },
   {
    "duration": 32,
    "start_time": "2022-02-14T00:26:59.301Z"
   },
   {
    "duration": 8,
    "start_time": "2022-02-14T00:26:59.335Z"
   },
   {
    "duration": 11,
    "start_time": "2022-02-14T00:26:59.346Z"
   },
   {
    "duration": 6,
    "start_time": "2022-02-14T00:26:59.360Z"
   },
   {
    "duration": 7,
    "start_time": "2022-02-14T00:26:59.368Z"
   },
   {
    "duration": 7,
    "start_time": "2022-02-14T00:26:59.377Z"
   },
   {
    "duration": 46,
    "start_time": "2022-02-14T00:26:59.386Z"
   },
   {
    "duration": 16,
    "start_time": "2022-02-14T00:26:59.434Z"
   },
   {
    "duration": 8,
    "start_time": "2022-02-14T00:26:59.451Z"
   },
   {
    "duration": 46,
    "start_time": "2022-02-14T00:26:59.460Z"
   },
   {
    "duration": 49,
    "start_time": "2022-02-14T00:26:59.508Z"
   },
   {
    "duration": 11,
    "start_time": "2022-02-14T00:26:59.559Z"
   },
   {
    "duration": 22,
    "start_time": "2022-02-14T00:26:59.571Z"
   },
   {
    "duration": 10,
    "start_time": "2022-02-14T00:26:59.594Z"
   },
   {
    "duration": 29,
    "start_time": "2022-02-14T00:26:59.606Z"
   },
   {
    "duration": 22,
    "start_time": "2022-02-14T00:26:59.637Z"
   },
   {
    "duration": 17,
    "start_time": "2022-02-14T00:26:59.660Z"
   },
   {
    "duration": 15,
    "start_time": "2022-02-14T00:26:59.680Z"
   },
   {
    "duration": 10,
    "start_time": "2022-02-14T00:26:59.729Z"
   },
   {
    "duration": 14,
    "start_time": "2022-02-14T00:26:59.741Z"
   },
   {
    "duration": 7,
    "start_time": "2022-02-14T00:26:59.756Z"
   },
   {
    "duration": 68,
    "start_time": "2022-02-14T00:26:59.765Z"
   },
   {
    "duration": 23,
    "start_time": "2022-02-14T00:26:59.835Z"
   },
   {
    "duration": 17,
    "start_time": "2022-02-14T00:26:59.860Z"
   },
   {
    "duration": 8,
    "start_time": "2022-02-14T00:26:59.878Z"
   },
   {
    "duration": 82,
    "start_time": "2022-02-14T00:26:59.887Z"
   },
   {
    "duration": 2,
    "start_time": "2022-02-14T00:26:59.971Z"
   },
   {
    "duration": 29,
    "start_time": "2022-02-14T00:26:59.974Z"
   },
   {
    "duration": 36,
    "start_time": "2022-02-14T00:27:00.005Z"
   },
   {
    "duration": 26,
    "start_time": "2022-02-14T00:27:00.043Z"
   },
   {
    "duration": 4,
    "start_time": "2022-02-14T00:27:00.070Z"
   },
   {
    "duration": 16,
    "start_time": "2022-02-14T00:27:00.075Z"
   },
   {
    "duration": 39,
    "start_time": "2022-02-14T00:27:00.092Z"
   },
   {
    "duration": 19,
    "start_time": "2022-02-14T00:27:00.132Z"
   },
   {
    "duration": 5,
    "start_time": "2022-02-14T00:27:00.152Z"
   },
   {
    "duration": 1502,
    "start_time": "2022-02-14T00:27:00.158Z"
   },
   {
    "duration": 3,
    "start_time": "2022-02-14T00:27:01.661Z"
   },
   {
    "duration": 21,
    "start_time": "2022-02-14T00:27:01.666Z"
   },
   {
    "duration": 16,
    "start_time": "2022-02-14T00:27:01.689Z"
   },
   {
    "duration": 242,
    "start_time": "2022-02-14T00:27:01.707Z"
   },
   {
    "duration": 9,
    "start_time": "2022-02-14T00:27:01.951Z"
   },
   {
    "duration": 12,
    "start_time": "2022-02-14T00:27:01.961Z"
   },
   {
    "duration": 211,
    "start_time": "2022-02-14T00:27:01.975Z"
   },
   {
    "duration": 18,
    "start_time": "2022-02-14T00:27:02.188Z"
   },
   {
    "duration": 171,
    "start_time": "2022-02-14T00:27:02.208Z"
   },
   {
    "duration": 224,
    "start_time": "2022-02-14T00:27:02.381Z"
   },
   {
    "duration": 10,
    "start_time": "2022-02-14T00:27:02.607Z"
   },
   {
    "duration": 9,
    "start_time": "2022-02-14T00:27:02.630Z"
   },
   {
    "duration": 18,
    "start_time": "2022-02-14T00:27:02.641Z"
   },
   {
    "duration": 170,
    "start_time": "2022-02-14T00:27:02.660Z"
   },
   {
    "duration": 235,
    "start_time": "2022-02-14T00:27:02.831Z"
   },
   {
    "duration": 10,
    "start_time": "2022-02-14T00:27:03.068Z"
   },
   {
    "duration": 12,
    "start_time": "2022-02-14T00:27:03.080Z"
   },
   {
    "duration": 36,
    "start_time": "2022-02-14T00:27:03.094Z"
   },
   {
    "duration": 162,
    "start_time": "2022-02-14T00:27:03.131Z"
   },
   {
    "duration": 288,
    "start_time": "2022-02-14T00:27:03.294Z"
   },
   {
    "duration": 9,
    "start_time": "2022-02-14T00:27:03.584Z"
   },
   {
    "duration": 8,
    "start_time": "2022-02-14T00:27:03.594Z"
   },
   {
    "duration": 39,
    "start_time": "2022-02-14T00:27:03.604Z"
   },
   {
    "duration": 165,
    "start_time": "2022-02-14T00:27:03.645Z"
   },
   {
    "duration": 9,
    "start_time": "2022-02-14T00:27:03.812Z"
   },
   {
    "duration": 18,
    "start_time": "2022-02-14T00:27:03.830Z"
   },
   {
    "duration": 8,
    "start_time": "2022-02-14T00:27:03.853Z"
   },
   {
    "duration": 7,
    "start_time": "2022-02-14T00:27:03.862Z"
   },
   {
    "duration": 7,
    "start_time": "2022-02-14T00:27:09.727Z"
   },
   {
    "duration": 7,
    "start_time": "2022-02-14T00:27:32.229Z"
   },
   {
    "duration": 255,
    "start_time": "2022-02-14T00:28:04.459Z"
   },
   {
    "duration": 6,
    "start_time": "2022-02-14T00:28:30.512Z"
   },
   {
    "duration": 7,
    "start_time": "2022-02-14T00:28:56.713Z"
   },
   {
    "duration": 9,
    "start_time": "2022-02-14T01:48:22.866Z"
   },
   {
    "duration": 6,
    "start_time": "2022-02-14T01:52:55.802Z"
   },
   {
    "duration": 7,
    "start_time": "2022-02-14T01:53:07.535Z"
   },
   {
    "duration": 26,
    "start_time": "2022-02-14T02:13:33.642Z"
   },
   {
    "duration": 4,
    "start_time": "2022-02-14T02:13:35.599Z"
   },
   {
    "duration": 25,
    "start_time": "2022-02-14T02:13:46.310Z"
   },
   {
    "duration": 192,
    "start_time": "2022-02-14T03:13:20.686Z"
   },
   {
    "duration": 4,
    "start_time": "2022-02-14T03:13:45.036Z"
   },
   {
    "duration": 274,
    "start_time": "2022-02-14T03:13:45.042Z"
   },
   {
    "duration": 13,
    "start_time": "2022-02-14T03:13:45.319Z"
   },
   {
    "duration": 12,
    "start_time": "2022-02-14T03:13:45.334Z"
   },
   {
    "duration": 7,
    "start_time": "2022-02-14T03:13:45.348Z"
   },
   {
    "duration": 12,
    "start_time": "2022-02-14T03:13:45.357Z"
   },
   {
    "duration": 6,
    "start_time": "2022-02-14T03:13:45.372Z"
   },
   {
    "duration": 10,
    "start_time": "2022-02-14T03:13:45.380Z"
   },
   {
    "duration": 8,
    "start_time": "2022-02-14T03:13:45.392Z"
   },
   {
    "duration": 7,
    "start_time": "2022-02-14T03:13:45.431Z"
   },
   {
    "duration": 11,
    "start_time": "2022-02-14T03:13:45.439Z"
   },
   {
    "duration": 6,
    "start_time": "2022-02-14T03:13:45.452Z"
   },
   {
    "duration": 17,
    "start_time": "2022-02-14T03:13:45.460Z"
   },
   {
    "duration": 7,
    "start_time": "2022-02-14T03:13:45.479Z"
   },
   {
    "duration": 69,
    "start_time": "2022-02-14T03:13:45.488Z"
   },
   {
    "duration": 26,
    "start_time": "2022-02-14T03:13:45.558Z"
   },
   {
    "duration": 10,
    "start_time": "2022-02-14T03:13:45.585Z"
   },
   {
    "duration": 45,
    "start_time": "2022-02-14T03:13:45.596Z"
   },
   {
    "duration": 10,
    "start_time": "2022-02-14T03:13:45.644Z"
   },
   {
    "duration": 6,
    "start_time": "2022-02-14T03:13:45.655Z"
   },
   {
    "duration": 17,
    "start_time": "2022-02-14T03:13:45.663Z"
   },
   {
    "duration": 53,
    "start_time": "2022-02-14T03:13:45.681Z"
   },
   {
    "duration": 14,
    "start_time": "2022-02-14T03:13:45.736Z"
   },
   {
    "duration": 9,
    "start_time": "2022-02-14T03:13:45.751Z"
   },
   {
    "duration": 12,
    "start_time": "2022-02-14T03:13:45.762Z"
   },
   {
    "duration": 7,
    "start_time": "2022-02-14T03:13:45.775Z"
   },
   {
    "duration": 79,
    "start_time": "2022-02-14T03:13:45.783Z"
   },
   {
    "duration": 20,
    "start_time": "2022-02-14T03:13:45.864Z"
   },
   {
    "duration": 17,
    "start_time": "2022-02-14T03:13:45.886Z"
   },
   {
    "duration": 28,
    "start_time": "2022-02-14T03:13:45.905Z"
   },
   {
    "duration": 45,
    "start_time": "2022-02-14T03:13:45.934Z"
   },
   {
    "duration": 20,
    "start_time": "2022-02-14T03:13:45.981Z"
   },
   {
    "duration": 46,
    "start_time": "2022-02-14T03:13:46.003Z"
   },
   {
    "duration": 25,
    "start_time": "2022-02-14T03:13:46.051Z"
   },
   {
    "duration": 3,
    "start_time": "2022-02-14T03:13:46.078Z"
   },
   {
    "duration": 47,
    "start_time": "2022-02-14T03:13:46.083Z"
   },
   {
    "duration": 13,
    "start_time": "2022-02-14T03:13:46.132Z"
   },
   {
    "duration": 19,
    "start_time": "2022-02-14T03:13:46.147Z"
   },
   {
    "duration": 5,
    "start_time": "2022-02-14T03:13:46.168Z"
   },
   {
    "duration": 1561,
    "start_time": "2022-02-14T03:13:46.175Z"
   },
   {
    "duration": 17,
    "start_time": "2022-02-14T03:13:47.737Z"
   },
   {
    "duration": 16,
    "start_time": "2022-02-14T03:13:47.756Z"
   },
   {
    "duration": 261,
    "start_time": "2022-02-14T03:13:47.773Z"
   },
   {
    "duration": 10,
    "start_time": "2022-02-14T03:13:48.036Z"
   },
   {
    "duration": 8,
    "start_time": "2022-02-14T03:13:48.048Z"
   },
   {
    "duration": 242,
    "start_time": "2022-02-14T03:13:48.058Z"
   },
   {
    "duration": 29,
    "start_time": "2022-02-14T03:13:48.302Z"
   },
   {
    "duration": 152,
    "start_time": "2022-02-14T03:13:57.564Z"
   },
   {
    "duration": 160,
    "start_time": "2022-02-14T03:14:00.704Z"
   },
   {
    "duration": 88,
    "start_time": "2022-02-14T13:00:05.180Z"
   },
   {
    "duration": 73,
    "start_time": "2022-02-14T13:05:51.341Z"
   },
   {
    "duration": 966,
    "start_time": "2022-02-14T13:06:01.800Z"
   },
   {
    "duration": 1151,
    "start_time": "2022-02-14T13:06:02.768Z"
   },
   {
    "duration": 5,
    "start_time": "2022-02-14T13:06:03.921Z"
   },
   {
    "duration": 12,
    "start_time": "2022-02-14T13:06:03.928Z"
   },
   {
    "duration": 6,
    "start_time": "2022-02-14T13:06:03.941Z"
   },
   {
    "duration": 9,
    "start_time": "2022-02-14T13:06:03.949Z"
   },
   {
    "duration": 6,
    "start_time": "2022-02-14T13:06:03.959Z"
   },
   {
    "duration": 9,
    "start_time": "2022-02-14T13:06:03.968Z"
   },
   {
    "duration": 7,
    "start_time": "2022-02-14T13:06:03.979Z"
   },
   {
    "duration": 9,
    "start_time": "2022-02-14T13:06:03.988Z"
   },
   {
    "duration": 29,
    "start_time": "2022-02-14T13:06:03.998Z"
   },
   {
    "duration": 10,
    "start_time": "2022-02-14T13:06:04.029Z"
   },
   {
    "duration": 29,
    "start_time": "2022-02-14T13:06:04.040Z"
   },
   {
    "duration": 8,
    "start_time": "2022-02-14T13:06:04.071Z"
   },
   {
    "duration": 52,
    "start_time": "2022-02-14T13:06:04.080Z"
   },
   {
    "duration": 26,
    "start_time": "2022-02-14T13:06:04.133Z"
   },
   {
    "duration": 10,
    "start_time": "2022-02-14T13:06:04.160Z"
   },
   {
    "duration": 19,
    "start_time": "2022-02-14T13:06:04.172Z"
   },
   {
    "duration": 9,
    "start_time": "2022-02-14T13:06:04.192Z"
   },
   {
    "duration": 28,
    "start_time": "2022-02-14T13:06:04.203Z"
   },
   {
    "duration": 19,
    "start_time": "2022-02-14T13:06:04.233Z"
   },
   {
    "duration": 17,
    "start_time": "2022-02-14T13:06:04.254Z"
   },
   {
    "duration": 14,
    "start_time": "2022-02-14T13:06:04.274Z"
   },
   {
    "duration": 8,
    "start_time": "2022-02-14T13:06:04.290Z"
   },
   {
    "duration": 11,
    "start_time": "2022-02-14T13:06:04.327Z"
   },
   {
    "duration": 6,
    "start_time": "2022-02-14T13:06:04.339Z"
   },
   {
    "duration": 41,
    "start_time": "2022-02-14T13:06:04.347Z"
   },
   {
    "duration": 41,
    "start_time": "2022-02-14T13:06:04.390Z"
   },
   {
    "duration": 17,
    "start_time": "2022-02-14T13:06:04.432Z"
   },
   {
    "duration": 7,
    "start_time": "2022-02-14T13:06:04.450Z"
   },
   {
    "duration": 44,
    "start_time": "2022-02-14T13:06:04.459Z"
   },
   {
    "duration": 42,
    "start_time": "2022-02-14T13:06:04.505Z"
   },
   {
    "duration": 17,
    "start_time": "2022-02-14T13:06:04.549Z"
   },
   {
    "duration": 23,
    "start_time": "2022-02-14T13:06:04.568Z"
   },
   {
    "duration": 3,
    "start_time": "2022-02-14T13:06:04.593Z"
   },
   {
    "duration": 34,
    "start_time": "2022-02-14T13:06:04.597Z"
   },
   {
    "duration": 16,
    "start_time": "2022-02-14T13:06:04.633Z"
   },
   {
    "duration": 17,
    "start_time": "2022-02-14T13:06:04.650Z"
   },
   {
    "duration": 5,
    "start_time": "2022-02-14T13:06:04.668Z"
   },
   {
    "duration": 1542,
    "start_time": "2022-02-14T13:06:04.674Z"
   },
   {
    "duration": 21,
    "start_time": "2022-02-14T13:06:06.217Z"
   },
   {
    "duration": 15,
    "start_time": "2022-02-14T13:06:06.240Z"
   },
   {
    "duration": 215,
    "start_time": "2022-02-14T13:06:06.257Z"
   },
   {
    "duration": 9,
    "start_time": "2022-02-14T13:06:06.474Z"
   },
   {
    "duration": 7,
    "start_time": "2022-02-14T13:06:06.484Z"
   },
   {
    "duration": 208,
    "start_time": "2022-02-14T13:06:06.493Z"
   },
   {
    "duration": 24,
    "start_time": "2022-02-14T13:06:06.703Z"
   },
   {
    "duration": 155,
    "start_time": "2022-02-14T13:06:06.728Z"
   },
   {
    "duration": 211,
    "start_time": "2022-02-14T13:06:06.884Z"
   },
   {
    "duration": 8,
    "start_time": "2022-02-14T13:06:07.096Z"
   },
   {
    "duration": 7,
    "start_time": "2022-02-14T13:06:07.106Z"
   },
   {
    "duration": 16,
    "start_time": "2022-02-14T13:06:07.127Z"
   },
   {
    "duration": 147,
    "start_time": "2022-02-14T13:06:07.144Z"
   },
   {
    "duration": 220,
    "start_time": "2022-02-14T13:06:07.292Z"
   },
   {
    "duration": 17,
    "start_time": "2022-02-14T13:06:07.514Z"
   },
   {
    "duration": 7,
    "start_time": "2022-02-14T13:06:07.532Z"
   },
   {
    "duration": 16,
    "start_time": "2022-02-14T13:06:07.541Z"
   },
   {
    "duration": 160,
    "start_time": "2022-02-14T13:06:07.558Z"
   },
   {
    "duration": 265,
    "start_time": "2022-02-14T13:06:07.719Z"
   },
   {
    "duration": 8,
    "start_time": "2022-02-14T13:06:07.985Z"
   },
   {
    "duration": 9,
    "start_time": "2022-02-14T13:06:07.995Z"
   },
   {
    "duration": 30,
    "start_time": "2022-02-14T13:06:08.005Z"
   },
   {
    "duration": 152,
    "start_time": "2022-02-14T13:06:08.036Z"
   },
   {
    "duration": 9,
    "start_time": "2022-02-14T13:06:08.189Z"
   },
   {
    "duration": 29,
    "start_time": "2022-02-14T13:06:08.199Z"
   },
   {
    "duration": 7,
    "start_time": "2022-02-14T13:06:08.229Z"
   },
   {
    "duration": 79,
    "start_time": "2022-02-14T13:06:32.657Z"
   },
   {
    "duration": 74,
    "start_time": "2022-02-14T13:09:46.976Z"
   },
   {
    "duration": 199,
    "start_time": "2022-02-14T13:21:30.613Z"
   },
   {
    "duration": 22,
    "start_time": "2022-02-14T13:41:01.218Z"
   },
   {
    "duration": 23,
    "start_time": "2022-02-14T13:41:05.538Z"
   },
   {
    "duration": 12,
    "start_time": "2022-02-14T14:00:02.109Z"
   },
   {
    "duration": 4,
    "start_time": "2022-02-14T14:00:12.965Z"
   },
   {
    "duration": 314,
    "start_time": "2022-02-14T14:00:30.022Z"
   },
   {
    "duration": 4,
    "start_time": "2022-02-14T14:00:37.098Z"
   },
   {
    "duration": 4,
    "start_time": "2022-02-14T14:00:49.623Z"
   },
   {
    "duration": 4,
    "start_time": "2022-02-14T14:00:52.095Z"
   },
   {
    "duration": 4,
    "start_time": "2022-02-14T14:01:09.080Z"
   },
   {
    "duration": 241,
    "start_time": "2022-02-14T14:01:10.943Z"
   },
   {
    "duration": 4,
    "start_time": "2022-02-14T14:01:18.689Z"
   },
   {
    "duration": 895,
    "start_time": "2022-02-14T14:33:30.969Z"
   },
   {
    "duration": 276,
    "start_time": "2022-02-14T14:33:31.866Z"
   },
   {
    "duration": 6,
    "start_time": "2022-02-14T14:33:32.144Z"
   },
   {
    "duration": 12,
    "start_time": "2022-02-14T14:33:32.152Z"
   },
   {
    "duration": 5,
    "start_time": "2022-02-14T14:33:32.165Z"
   },
   {
    "duration": 9,
    "start_time": "2022-02-14T14:33:32.172Z"
   },
   {
    "duration": 7,
    "start_time": "2022-02-14T14:33:32.182Z"
   },
   {
    "duration": 8,
    "start_time": "2022-02-14T14:33:32.191Z"
   },
   {
    "duration": 28,
    "start_time": "2022-02-14T14:33:32.201Z"
   },
   {
    "duration": 5,
    "start_time": "2022-02-14T14:33:32.230Z"
   },
   {
    "duration": 8,
    "start_time": "2022-02-14T14:33:32.236Z"
   },
   {
    "duration": 10,
    "start_time": "2022-02-14T14:33:32.245Z"
   },
   {
    "duration": 15,
    "start_time": "2022-02-14T14:33:32.256Z"
   },
   {
    "duration": 6,
    "start_time": "2022-02-14T14:33:32.272Z"
   },
   {
    "duration": 53,
    "start_time": "2022-02-14T14:33:32.280Z"
   },
   {
    "duration": 24,
    "start_time": "2022-02-14T14:33:32.335Z"
   },
   {
    "duration": 9,
    "start_time": "2022-02-14T14:33:32.361Z"
   },
   {
    "duration": 19,
    "start_time": "2022-02-14T14:33:32.371Z"
   },
   {
    "duration": 9,
    "start_time": "2022-02-14T14:33:32.391Z"
   },
   {
    "duration": 34,
    "start_time": "2022-02-14T14:33:32.401Z"
   },
   {
    "duration": 21,
    "start_time": "2022-02-14T14:33:32.436Z"
   },
   {
    "duration": 15,
    "start_time": "2022-02-14T14:33:32.458Z"
   },
   {
    "duration": 13,
    "start_time": "2022-02-14T14:33:32.477Z"
   },
   {
    "duration": 9,
    "start_time": "2022-02-14T14:33:32.492Z"
   },
   {
    "duration": 31,
    "start_time": "2022-02-14T14:33:32.503Z"
   },
   {
    "duration": 16,
    "start_time": "2022-02-14T14:33:32.536Z"
   },
   {
    "duration": 43,
    "start_time": "2022-02-14T14:33:32.554Z"
   },
   {
    "duration": 33,
    "start_time": "2022-02-14T14:33:32.599Z"
   },
   {
    "duration": 16,
    "start_time": "2022-02-14T14:33:32.633Z"
   },
   {
    "duration": 6,
    "start_time": "2022-02-14T14:33:32.651Z"
   },
   {
    "duration": 48,
    "start_time": "2022-02-14T14:33:32.659Z"
   },
   {
    "duration": 36,
    "start_time": "2022-02-14T14:33:32.708Z"
   },
   {
    "duration": 17,
    "start_time": "2022-02-14T14:33:32.746Z"
   },
   {
    "duration": 22,
    "start_time": "2022-02-14T14:33:32.765Z"
   },
   {
    "duration": 4,
    "start_time": "2022-02-14T14:33:32.788Z"
   },
   {
    "duration": 35,
    "start_time": "2022-02-14T14:33:32.793Z"
   },
   {
    "duration": 17,
    "start_time": "2022-02-14T14:33:32.829Z"
   },
   {
    "duration": 17,
    "start_time": "2022-02-14T14:33:32.847Z"
   },
   {
    "duration": 4,
    "start_time": "2022-02-14T14:33:32.866Z"
   },
   {
    "duration": 1452,
    "start_time": "2022-02-14T14:33:32.871Z"
   },
   {
    "duration": 18,
    "start_time": "2022-02-14T14:33:34.327Z"
   },
   {
    "duration": 26,
    "start_time": "2022-02-14T14:33:34.347Z"
   },
   {
    "duration": 232,
    "start_time": "2022-02-14T14:33:34.374Z"
   },
   {
    "duration": 10,
    "start_time": "2022-02-14T14:33:34.607Z"
   },
   {
    "duration": 14,
    "start_time": "2022-02-14T14:33:34.618Z"
   },
   {
    "duration": 215,
    "start_time": "2022-02-14T14:33:34.633Z"
   },
   {
    "duration": 18,
    "start_time": "2022-02-14T14:33:34.850Z"
   },
   {
    "duration": 162,
    "start_time": "2022-02-14T14:33:34.870Z"
   },
   {
    "duration": 218,
    "start_time": "2022-02-14T14:33:35.033Z"
   },
   {
    "duration": 8,
    "start_time": "2022-02-14T14:33:35.252Z"
   },
   {
    "duration": 23,
    "start_time": "2022-02-14T14:33:35.262Z"
   },
   {
    "duration": 25,
    "start_time": "2022-02-14T14:33:35.286Z"
   },
   {
    "duration": 149,
    "start_time": "2022-02-14T14:33:35.312Z"
   },
   {
    "duration": 221,
    "start_time": "2022-02-14T14:33:35.463Z"
   },
   {
    "duration": 9,
    "start_time": "2022-02-14T14:33:35.685Z"
   },
   {
    "duration": 8,
    "start_time": "2022-02-14T14:33:35.695Z"
   },
   {
    "duration": 34,
    "start_time": "2022-02-14T14:33:35.705Z"
   },
   {
    "duration": 160,
    "start_time": "2022-02-14T14:33:35.741Z"
   },
   {
    "duration": 273,
    "start_time": "2022-02-14T14:33:35.903Z"
   },
   {
    "duration": 9,
    "start_time": "2022-02-14T14:33:36.178Z"
   },
   {
    "duration": 9,
    "start_time": "2022-02-14T14:33:36.188Z"
   },
   {
    "duration": 34,
    "start_time": "2022-02-14T14:33:36.199Z"
   },
   {
    "duration": 203,
    "start_time": "2022-02-14T14:33:36.235Z"
   },
   {
    "duration": 10,
    "start_time": "2022-02-14T14:33:36.440Z"
   },
   {
    "duration": 18,
    "start_time": "2022-02-14T14:33:36.451Z"
   },
   {
    "duration": 63,
    "start_time": "2022-02-14T14:33:36.470Z"
   },
   {
    "duration": 199,
    "start_time": "2022-02-14T14:56:43.390Z"
   },
   {
    "duration": 233,
    "start_time": "2022-02-14T14:56:46.272Z"
   },
   {
    "duration": 8,
    "start_time": "2022-02-14T15:04:32.867Z"
   },
   {
    "duration": 17,
    "start_time": "2022-02-14T15:20:49.133Z"
   },
   {
    "duration": 20,
    "start_time": "2022-02-14T15:28:33.606Z"
   },
   {
    "duration": 20,
    "start_time": "2022-02-14T15:28:36.913Z"
   },
   {
    "duration": 1066,
    "start_time": "2022-02-14T22:59:36.880Z"
   },
   {
    "duration": 292,
    "start_time": "2022-02-14T22:59:59.189Z"
   },
   {
    "duration": 3,
    "start_time": "2022-02-14T23:03:26.325Z"
   },
   {
    "duration": 277,
    "start_time": "2022-02-14T23:03:26.331Z"
   },
   {
    "duration": 6,
    "start_time": "2022-02-14T23:03:26.610Z"
   },
   {
    "duration": 11,
    "start_time": "2022-02-14T23:03:26.618Z"
   },
   {
    "duration": 5,
    "start_time": "2022-02-14T23:03:26.631Z"
   },
   {
    "duration": 8,
    "start_time": "2022-02-14T23:03:26.638Z"
   },
   {
    "duration": 6,
    "start_time": "2022-02-14T23:03:26.647Z"
   },
   {
    "duration": 8,
    "start_time": "2022-02-14T23:03:26.655Z"
   },
   {
    "duration": 4,
    "start_time": "2022-02-14T23:03:26.665Z"
   },
   {
    "duration": 6,
    "start_time": "2022-02-14T23:03:26.671Z"
   },
   {
    "duration": 7,
    "start_time": "2022-02-14T23:03:26.678Z"
   },
   {
    "duration": 43,
    "start_time": "2022-02-14T23:03:26.687Z"
   },
   {
    "duration": 16,
    "start_time": "2022-02-14T23:03:26.731Z"
   },
   {
    "duration": 6,
    "start_time": "2022-02-14T23:03:26.749Z"
   },
   {
    "duration": 32,
    "start_time": "2022-02-14T23:03:26.756Z"
   },
   {
    "duration": 40,
    "start_time": "2022-02-14T23:03:26.789Z"
   },
   {
    "duration": 376,
    "start_time": "2022-02-14T23:05:44.203Z"
   },
   {
    "duration": 104,
    "start_time": "2022-02-14T23:07:20.618Z"
   },
   {
    "duration": 8,
    "start_time": "2022-02-14T23:07:28.267Z"
   },
   {
    "duration": 17,
    "start_time": "2022-02-14T23:22:57.841Z"
   },
   {
    "duration": 1319,
    "start_time": "2022-02-15T06:05:39.372Z"
   },
   {
    "duration": 354,
    "start_time": "2022-02-15T06:05:40.695Z"
   },
   {
    "duration": 11,
    "start_time": "2022-02-15T06:05:41.052Z"
   },
   {
    "duration": 21,
    "start_time": "2022-02-15T06:05:41.066Z"
   },
   {
    "duration": 10,
    "start_time": "2022-02-15T06:05:41.089Z"
   },
   {
    "duration": 54,
    "start_time": "2022-02-15T06:05:41.101Z"
   },
   {
    "duration": 10,
    "start_time": "2022-02-15T06:05:41.158Z"
   },
   {
    "duration": 14,
    "start_time": "2022-02-15T06:05:41.172Z"
   },
   {
    "duration": 10,
    "start_time": "2022-02-15T06:05:41.189Z"
   },
   {
    "duration": 10,
    "start_time": "2022-02-15T06:05:41.201Z"
   },
   {
    "duration": 50,
    "start_time": "2022-02-15T06:05:41.214Z"
   },
   {
    "duration": 10,
    "start_time": "2022-02-15T06:05:41.267Z"
   },
   {
    "duration": 38,
    "start_time": "2022-02-15T06:05:41.279Z"
   },
   {
    "duration": 13,
    "start_time": "2022-02-15T06:05:41.320Z"
   },
   {
    "duration": 85,
    "start_time": "2022-02-15T06:05:41.335Z"
   },
   {
    "duration": 49,
    "start_time": "2022-02-15T06:05:41.423Z"
   },
   {
    "duration": 14,
    "start_time": "2022-02-15T06:05:41.474Z"
   },
   {
    "duration": 30,
    "start_time": "2022-02-15T06:05:41.491Z"
   },
   {
    "duration": 22,
    "start_time": "2022-02-15T06:05:41.548Z"
   },
   {
    "duration": 9,
    "start_time": "2022-02-15T06:05:41.573Z"
   },
   {
    "duration": 33,
    "start_time": "2022-02-15T06:05:41.585Z"
   },
   {
    "duration": 60,
    "start_time": "2022-02-15T06:05:41.620Z"
   },
   {
    "duration": 21,
    "start_time": "2022-02-15T06:05:41.684Z"
   },
   {
    "duration": 43,
    "start_time": "2022-02-15T06:05:41.709Z"
   },
   {
    "duration": 23,
    "start_time": "2022-02-15T06:05:41.755Z"
   },
   {
    "duration": 13,
    "start_time": "2022-02-15T06:05:41.781Z"
   },
   {
    "duration": 112,
    "start_time": "2022-02-15T06:05:41.797Z"
   },
   {
    "duration": 52,
    "start_time": "2022-02-15T06:05:41.912Z"
   },
   {
    "duration": 26,
    "start_time": "2022-02-15T06:05:41.967Z"
   },
   {
    "duration": 52,
    "start_time": "2022-02-15T06:05:41.996Z"
   },
   {
    "duration": 31,
    "start_time": "2022-02-15T06:05:51.321Z"
   },
   {
    "duration": 4,
    "start_time": "2022-02-15T06:21:28.971Z"
   },
   {
    "duration": 351,
    "start_time": "2022-02-15T06:21:28.981Z"
   },
   {
    "duration": 14,
    "start_time": "2022-02-15T06:21:29.335Z"
   },
   {
    "duration": 32,
    "start_time": "2022-02-15T06:21:29.352Z"
   },
   {
    "duration": 24,
    "start_time": "2022-02-15T06:21:29.387Z"
   },
   {
    "duration": 33,
    "start_time": "2022-02-15T06:21:29.413Z"
   },
   {
    "duration": 17,
    "start_time": "2022-02-15T06:21:29.448Z"
   },
   {
    "duration": 37,
    "start_time": "2022-02-15T06:21:29.467Z"
   },
   {
    "duration": 28,
    "start_time": "2022-02-15T06:21:29.507Z"
   },
   {
    "duration": 26,
    "start_time": "2022-02-15T06:21:29.538Z"
   },
   {
    "duration": 26,
    "start_time": "2022-02-15T06:21:29.566Z"
   },
   {
    "duration": 28,
    "start_time": "2022-02-15T06:21:29.594Z"
   },
   {
    "duration": 35,
    "start_time": "2022-02-15T06:21:29.624Z"
   },
   {
    "duration": 18,
    "start_time": "2022-02-15T06:21:29.661Z"
   },
   {
    "duration": 76,
    "start_time": "2022-02-15T06:21:29.681Z"
   },
   {
    "duration": 37,
    "start_time": "2022-02-15T06:21:29.760Z"
   },
   {
    "duration": 12,
    "start_time": "2022-02-15T06:21:29.800Z"
   },
   {
    "duration": 54,
    "start_time": "2022-02-15T06:21:29.815Z"
   },
   {
    "duration": 14,
    "start_time": "2022-02-15T06:21:29.872Z"
   },
   {
    "duration": 10,
    "start_time": "2022-02-15T06:21:29.888Z"
   },
   {
    "duration": 64,
    "start_time": "2022-02-15T06:21:29.901Z"
   },
   {
    "duration": 26,
    "start_time": "2022-02-15T06:21:29.967Z"
   },
   {
    "duration": 25,
    "start_time": "2022-02-15T06:21:29.996Z"
   },
   {
    "duration": 15,
    "start_time": "2022-02-15T06:21:30.050Z"
   },
   {
    "duration": 32,
    "start_time": "2022-02-15T06:21:30.068Z"
   },
   {
    "duration": 32,
    "start_time": "2022-02-15T06:21:30.102Z"
   },
   {
    "duration": 96,
    "start_time": "2022-02-15T06:21:30.136Z"
   },
   {
    "duration": 33,
    "start_time": "2022-02-15T06:21:30.235Z"
   },
   {
    "duration": 27,
    "start_time": "2022-02-15T06:21:30.271Z"
   },
   {
    "duration": 51,
    "start_time": "2022-02-15T06:21:30.301Z"
   },
   {
    "duration": 34,
    "start_time": "2022-02-15T06:21:30.355Z"
   },
   {
    "duration": 17,
    "start_time": "2022-02-15T06:21:30.392Z"
   },
   {
    "duration": 99,
    "start_time": "2022-02-15T06:21:30.412Z"
   },
   {
    "duration": 48,
    "start_time": "2022-02-15T06:21:30.514Z"
   },
   {
    "duration": 28,
    "start_time": "2022-02-15T06:21:30.565Z"
   },
   {
    "duration": 58,
    "start_time": "2022-02-15T06:21:30.595Z"
   },
   {
    "duration": 6,
    "start_time": "2022-02-15T08:51:08.486Z"
   },
   {
    "duration": 7798,
    "start_time": "2022-02-15T08:51:55.138Z"
   },
   {
    "duration": 5,
    "start_time": "2022-02-15T08:52:22.326Z"
   },
   {
    "duration": 368,
    "start_time": "2022-02-15T08:52:22.334Z"
   },
   {
    "duration": 9,
    "start_time": "2022-02-15T08:52:22.705Z"
   },
   {
    "duration": 34,
    "start_time": "2022-02-15T08:52:22.717Z"
   },
   {
    "duration": 25,
    "start_time": "2022-02-15T08:52:22.754Z"
   },
   {
    "duration": 41,
    "start_time": "2022-02-15T08:52:22.782Z"
   },
   {
    "duration": 25,
    "start_time": "2022-02-15T08:52:22.827Z"
   },
   {
    "duration": 33,
    "start_time": "2022-02-15T08:52:22.856Z"
   },
   {
    "duration": 25,
    "start_time": "2022-02-15T08:52:22.892Z"
   },
   {
    "duration": 16,
    "start_time": "2022-02-15T08:52:22.920Z"
   },
   {
    "duration": 13,
    "start_time": "2022-02-15T08:52:22.939Z"
   },
   {
    "duration": 18,
    "start_time": "2022-02-15T08:52:22.955Z"
   },
   {
    "duration": 41,
    "start_time": "2022-02-15T08:52:22.975Z"
   },
   {
    "duration": 30,
    "start_time": "2022-02-15T08:52:23.019Z"
   },
   {
    "duration": 74,
    "start_time": "2022-02-15T08:52:23.052Z"
   },
   {
    "duration": 43,
    "start_time": "2022-02-15T08:52:23.129Z"
   },
   {
    "duration": 13,
    "start_time": "2022-02-15T08:52:23.174Z"
   },
   {
    "duration": 50,
    "start_time": "2022-02-15T08:52:23.190Z"
   },
   {
    "duration": 15,
    "start_time": "2022-02-15T08:52:23.250Z"
   },
   {
    "duration": 18,
    "start_time": "2022-02-15T08:52:23.268Z"
   },
   {
    "duration": 59,
    "start_time": "2022-02-15T08:52:23.288Z"
   },
   {
    "duration": 25,
    "start_time": "2022-02-15T08:52:23.350Z"
   },
   {
    "duration": 28,
    "start_time": "2022-02-15T08:52:23.377Z"
   },
   {
    "duration": 49,
    "start_time": "2022-02-15T08:52:23.407Z"
   },
   {
    "duration": 28,
    "start_time": "2022-02-15T08:52:23.460Z"
   },
   {
    "duration": 28,
    "start_time": "2022-02-15T08:52:23.490Z"
   },
   {
    "duration": 78,
    "start_time": "2022-02-15T08:52:23.520Z"
   },
   {
    "duration": 33,
    "start_time": "2022-02-15T08:52:23.600Z"
   },
   {
    "duration": 36,
    "start_time": "2022-02-15T08:52:23.635Z"
   },
   {
    "duration": 41,
    "start_time": "2022-02-15T08:52:23.674Z"
   },
   {
    "duration": 36,
    "start_time": "2022-02-15T08:52:23.717Z"
   },
   {
    "duration": 12,
    "start_time": "2022-02-15T08:52:23.755Z"
   },
   {
    "duration": 96,
    "start_time": "2022-02-15T08:52:23.770Z"
   },
   {
    "duration": 32,
    "start_time": "2022-02-15T08:52:23.868Z"
   },
   {
    "duration": 58,
    "start_time": "2022-02-15T08:52:23.903Z"
   },
   {
    "duration": 38,
    "start_time": "2022-02-15T08:52:23.963Z"
   },
   {
    "duration": 6,
    "start_time": "2022-02-15T08:52:24.003Z"
   },
   {
    "duration": 46,
    "start_time": "2022-02-15T08:52:24.011Z"
   },
   {
    "duration": 7,
    "start_time": "2022-02-15T08:52:27.444Z"
   },
   {
    "duration": 5,
    "start_time": "2022-02-15T08:58:45.817Z"
   },
   {
    "duration": 7690,
    "start_time": "2022-02-15T09:06:31.217Z"
   },
   {
    "duration": 22,
    "start_time": "2022-02-15T09:08:26.893Z"
   },
   {
    "duration": 21,
    "start_time": "2022-02-15T09:12:50.366Z"
   },
   {
    "duration": 461,
    "start_time": "2022-02-15T09:13:23.936Z"
   },
   {
    "duration": 19,
    "start_time": "2022-02-15T09:13:54.847Z"
   },
   {
    "duration": 1314,
    "start_time": "2022-02-15T09:18:39.853Z"
   },
   {
    "duration": 340,
    "start_time": "2022-02-15T09:18:41.170Z"
   },
   {
    "duration": 9,
    "start_time": "2022-02-15T09:18:41.513Z"
   },
   {
    "duration": 29,
    "start_time": "2022-02-15T09:18:41.525Z"
   },
   {
    "duration": 12,
    "start_time": "2022-02-15T09:18:41.556Z"
   },
   {
    "duration": 21,
    "start_time": "2022-02-15T09:18:41.570Z"
   },
   {
    "duration": 12,
    "start_time": "2022-02-15T09:18:41.593Z"
   },
   {
    "duration": 42,
    "start_time": "2022-02-15T09:18:41.608Z"
   },
   {
    "duration": 8,
    "start_time": "2022-02-15T09:18:41.653Z"
   },
   {
    "duration": 12,
    "start_time": "2022-02-15T09:18:41.664Z"
   },
   {
    "duration": 14,
    "start_time": "2022-02-15T09:18:41.678Z"
   },
   {
    "duration": 10,
    "start_time": "2022-02-15T09:18:41.694Z"
   },
   {
    "duration": 56,
    "start_time": "2022-02-15T09:18:41.706Z"
   },
   {
    "duration": 12,
    "start_time": "2022-02-15T09:18:41.765Z"
   },
   {
    "duration": 84,
    "start_time": "2022-02-15T09:18:41.780Z"
   },
   {
    "duration": 39,
    "start_time": "2022-02-15T09:18:41.866Z"
   },
   {
    "duration": 14,
    "start_time": "2022-02-15T09:18:41.907Z"
   },
   {
    "duration": 56,
    "start_time": "2022-02-15T09:18:41.923Z"
   },
   {
    "duration": 14,
    "start_time": "2022-02-15T09:18:41.981Z"
   },
   {
    "duration": 22,
    "start_time": "2022-02-15T09:18:41.997Z"
   },
   {
    "duration": 52,
    "start_time": "2022-02-15T09:18:42.022Z"
   },
   {
    "duration": 26,
    "start_time": "2022-02-15T09:18:42.076Z"
   },
   {
    "duration": 48,
    "start_time": "2022-02-15T09:18:42.107Z"
   },
   {
    "duration": 18,
    "start_time": "2022-02-15T09:18:42.159Z"
   },
   {
    "duration": 19,
    "start_time": "2022-02-15T09:18:42.179Z"
   },
   {
    "duration": 48,
    "start_time": "2022-02-15T09:18:42.201Z"
   },
   {
    "duration": 67,
    "start_time": "2022-02-15T09:18:42.252Z"
   },
   {
    "duration": 57,
    "start_time": "2022-02-15T09:18:42.321Z"
   },
   {
    "duration": 27,
    "start_time": "2022-02-15T09:18:42.381Z"
   },
   {
    "duration": 65,
    "start_time": "2022-02-15T09:18:42.411Z"
   },
   {
    "duration": 29,
    "start_time": "2022-02-15T09:18:42.479Z"
   },
   {
    "duration": 14,
    "start_time": "2022-02-15T09:18:42.511Z"
   },
   {
    "duration": 89,
    "start_time": "2022-02-15T09:18:42.527Z"
   },
   {
    "duration": 55,
    "start_time": "2022-02-15T09:18:42.619Z"
   },
   {
    "duration": 27,
    "start_time": "2022-02-15T09:18:42.677Z"
   },
   {
    "duration": 72,
    "start_time": "2022-02-15T09:18:42.707Z"
   },
   {
    "duration": 5,
    "start_time": "2022-02-15T09:18:42.781Z"
   },
   {
    "duration": 22,
    "start_time": "2022-02-15T09:18:42.788Z"
   },
   {
    "duration": 41,
    "start_time": "2022-02-15T09:18:42.813Z"
   },
   {
    "duration": 25,
    "start_time": "2022-02-15T09:19:00.410Z"
   },
   {
    "duration": 33,
    "start_time": "2022-02-15T09:22:02.527Z"
   },
   {
    "duration": 2837,
    "start_time": "2022-02-15T09:33:35.702Z"
   },
   {
    "duration": 9,
    "start_time": "2022-02-15T09:33:46.029Z"
   },
   {
    "duration": 1427,
    "start_time": "2022-02-15T09:39:36.802Z"
   },
   {
    "duration": 379,
    "start_time": "2022-02-15T09:39:38.232Z"
   },
   {
    "duration": 9,
    "start_time": "2022-02-15T09:39:38.614Z"
   },
   {
    "duration": 42,
    "start_time": "2022-02-15T09:39:38.626Z"
   },
   {
    "duration": 9,
    "start_time": "2022-02-15T09:39:38.670Z"
   },
   {
    "duration": 27,
    "start_time": "2022-02-15T09:39:38.682Z"
   },
   {
    "duration": 39,
    "start_time": "2022-02-15T09:39:38.711Z"
   },
   {
    "duration": 19,
    "start_time": "2022-02-15T09:39:38.756Z"
   },
   {
    "duration": 11,
    "start_time": "2022-02-15T09:39:38.778Z"
   },
   {
    "duration": 11,
    "start_time": "2022-02-15T09:39:38.792Z"
   },
   {
    "duration": 55,
    "start_time": "2022-02-15T09:39:38.806Z"
   },
   {
    "duration": 14,
    "start_time": "2022-02-15T09:39:38.864Z"
   },
   {
    "duration": 25,
    "start_time": "2022-02-15T09:39:38.881Z"
   },
   {
    "duration": 13,
    "start_time": "2022-02-15T09:39:38.908Z"
   },
   {
    "duration": 89,
    "start_time": "2022-02-15T09:39:38.924Z"
   },
   {
    "duration": 68,
    "start_time": "2022-02-15T09:39:39.015Z"
   },
   {
    "duration": 13,
    "start_time": "2022-02-15T09:39:39.086Z"
   },
   {
    "duration": 68,
    "start_time": "2022-02-15T09:39:39.102Z"
   },
   {
    "duration": 15,
    "start_time": "2022-02-15T09:39:39.173Z"
   },
   {
    "duration": 10,
    "start_time": "2022-02-15T09:39:39.192Z"
   },
   {
    "duration": 75,
    "start_time": "2022-02-15T09:39:39.204Z"
   },
   {
    "duration": 26,
    "start_time": "2022-02-15T09:39:39.282Z"
   },
   {
    "duration": 48,
    "start_time": "2022-02-15T09:39:39.313Z"
   },
   {
    "duration": 15,
    "start_time": "2022-02-15T09:39:39.364Z"
   },
   {
    "duration": 19,
    "start_time": "2022-02-15T09:39:39.382Z"
   },
   {
    "duration": 58,
    "start_time": "2022-02-15T09:39:39.404Z"
   },
   {
    "duration": 100,
    "start_time": "2022-02-15T09:39:39.465Z"
   },
   {
    "duration": 33,
    "start_time": "2022-02-15T09:39:39.567Z"
   },
   {
    "duration": 26,
    "start_time": "2022-02-15T09:39:39.603Z"
   },
   {
    "duration": 38,
    "start_time": "2022-02-15T09:39:39.650Z"
   },
   {
    "duration": 40,
    "start_time": "2022-02-15T09:39:39.690Z"
   },
   {
    "duration": 32,
    "start_time": "2022-02-15T09:39:39.732Z"
   },
   {
    "duration": 98,
    "start_time": "2022-02-15T09:39:39.767Z"
   },
   {
    "duration": 32,
    "start_time": "2022-02-15T09:39:39.867Z"
   },
   {
    "duration": 53,
    "start_time": "2022-02-15T09:39:39.902Z"
   },
   {
    "duration": 41,
    "start_time": "2022-02-15T09:39:39.959Z"
   },
   {
    "duration": 5,
    "start_time": "2022-02-15T09:39:40.003Z"
   },
   {
    "duration": 51,
    "start_time": "2022-02-15T09:39:40.010Z"
   },
   {
    "duration": 22,
    "start_time": "2022-02-15T09:39:40.064Z"
   },
   {
    "duration": 22,
    "start_time": "2022-02-15T09:39:40.089Z"
   },
   {
    "duration": 44,
    "start_time": "2022-02-15T09:40:03.958Z"
   },
   {
    "duration": 8,
    "start_time": "2022-02-15T09:47:06.813Z"
   },
   {
    "duration": 114,
    "start_time": "2022-02-15T10:45:05.105Z"
   },
   {
    "duration": 9,
    "start_time": "2022-02-15T10:45:11.449Z"
   },
   {
    "duration": 9,
    "start_time": "2022-02-15T10:46:07.983Z"
   },
   {
    "duration": 10,
    "start_time": "2022-02-15T10:46:36.930Z"
   },
   {
    "duration": 471,
    "start_time": "2022-02-15T10:55:36.128Z"
   },
   {
    "duration": 8,
    "start_time": "2022-02-15T10:55:48.036Z"
   },
   {
    "duration": 7,
    "start_time": "2022-02-15T10:56:03.290Z"
   },
   {
    "duration": 9,
    "start_time": "2022-02-15T10:59:36.550Z"
   },
   {
    "duration": 9,
    "start_time": "2022-02-15T10:59:50.044Z"
   },
   {
    "duration": 9,
    "start_time": "2022-02-15T11:00:04.878Z"
   },
   {
    "duration": 9,
    "start_time": "2022-02-15T11:00:12.465Z"
   },
   {
    "duration": 12,
    "start_time": "2022-02-15T11:13:33.658Z"
   },
   {
    "duration": 16,
    "start_time": "2022-02-15T11:46:05.014Z"
   },
   {
    "duration": 8842,
    "start_time": "2022-02-15T12:09:31.622Z"
   },
   {
    "duration": 29,
    "start_time": "2022-02-15T12:22:33.552Z"
   },
   {
    "duration": 27,
    "start_time": "2022-02-15T12:23:16.998Z"
   },
   {
    "duration": 397,
    "start_time": "2022-02-15T12:23:46.769Z"
   },
   {
    "duration": 383,
    "start_time": "2022-02-15T12:26:08.143Z"
   },
   {
    "duration": 369,
    "start_time": "2022-02-15T12:26:19.785Z"
   },
   {
    "duration": 402,
    "start_time": "2022-02-15T12:26:33.200Z"
   },
   {
    "duration": 372,
    "start_time": "2022-02-15T12:26:45.047Z"
   },
   {
    "duration": 388,
    "start_time": "2022-02-15T12:27:13.360Z"
   },
   {
    "duration": 17,
    "start_time": "2022-02-15T12:27:40.869Z"
   },
   {
    "duration": 1337,
    "start_time": "2022-02-15T19:13:41.035Z"
   },
   {
    "duration": 621,
    "start_time": "2022-02-15T19:13:42.375Z"
   },
   {
    "duration": 11,
    "start_time": "2022-02-15T19:13:42.998Z"
   },
   {
    "duration": 23,
    "start_time": "2022-02-15T19:13:43.011Z"
   },
   {
    "duration": 15,
    "start_time": "2022-02-15T19:13:43.036Z"
   },
   {
    "duration": 8,
    "start_time": "2022-02-15T19:13:43.054Z"
   },
   {
    "duration": 17,
    "start_time": "2022-02-15T19:13:43.064Z"
   },
   {
    "duration": 9,
    "start_time": "2022-02-15T19:13:43.122Z"
   },
   {
    "duration": 16,
    "start_time": "2022-02-15T19:13:43.134Z"
   },
   {
    "duration": 8,
    "start_time": "2022-02-15T19:13:43.153Z"
   },
   {
    "duration": 21,
    "start_time": "2022-02-15T19:13:43.163Z"
   },
   {
    "duration": 45,
    "start_time": "2022-02-15T19:13:43.187Z"
   },
   {
    "duration": 15,
    "start_time": "2022-02-15T19:13:43.234Z"
   },
   {
    "duration": 39,
    "start_time": "2022-02-15T19:13:43.252Z"
   },
   {
    "duration": 15,
    "start_time": "2022-02-15T19:13:43.293Z"
   },
   {
    "duration": 74,
    "start_time": "2022-02-15T19:13:43.311Z"
   },
   {
    "duration": 53,
    "start_time": "2022-02-15T19:13:43.388Z"
   },
   {
    "duration": 15,
    "start_time": "2022-02-15T19:13:43.443Z"
   },
   {
    "duration": 31,
    "start_time": "2022-02-15T19:13:43.461Z"
   },
   {
    "duration": 38,
    "start_time": "2022-02-15T19:13:43.495Z"
   },
   {
    "duration": 10,
    "start_time": "2022-02-15T19:13:43.536Z"
   },
   {
    "duration": 30,
    "start_time": "2022-02-15T19:13:43.548Z"
   },
   {
    "duration": 61,
    "start_time": "2022-02-15T19:13:43.583Z"
   },
   {
    "duration": 21,
    "start_time": "2022-02-15T19:13:43.647Z"
   },
   {
    "duration": 14,
    "start_time": "2022-02-15T19:13:43.670Z"
   },
   {
    "duration": 43,
    "start_time": "2022-02-15T19:13:43.686Z"
   },
   {
    "duration": 10,
    "start_time": "2022-02-15T19:13:43.731Z"
   },
   {
    "duration": 86,
    "start_time": "2022-02-15T19:13:43.743Z"
   },
   {
    "duration": 31,
    "start_time": "2022-02-15T19:13:43.831Z"
   },
   {
    "duration": 26,
    "start_time": "2022-02-15T19:13:43.864Z"
   },
   {
    "duration": 50,
    "start_time": "2022-02-15T19:13:43.892Z"
   },
   {
    "duration": 26,
    "start_time": "2022-02-15T19:13:43.944Z"
   },
   {
    "duration": 13,
    "start_time": "2022-02-15T19:13:43.973Z"
   },
   {
    "duration": 97,
    "start_time": "2022-02-15T19:13:43.988Z"
   },
   {
    "duration": 51,
    "start_time": "2022-02-15T19:13:44.087Z"
   },
   {
    "duration": 28,
    "start_time": "2022-02-15T19:13:44.141Z"
   },
   {
    "duration": 64,
    "start_time": "2022-02-15T19:13:44.171Z"
   },
   {
    "duration": 7,
    "start_time": "2022-02-15T19:13:44.237Z"
   },
   {
    "duration": 19,
    "start_time": "2022-02-15T19:13:44.246Z"
   },
   {
    "duration": 27,
    "start_time": "2022-02-15T19:13:44.267Z"
   },
   {
    "duration": 23,
    "start_time": "2022-02-15T19:13:44.324Z"
   },
   {
    "duration": 29,
    "start_time": "2022-02-15T19:13:44.350Z"
   },
   {
    "duration": 8,
    "start_time": "2022-02-15T19:13:44.381Z"
   },
   {
    "duration": 8656,
    "start_time": "2022-02-15T19:13:44.391Z"
   },
   {
    "duration": 30,
    "start_time": "2022-02-15T19:13:53.049Z"
   },
   {
    "duration": 51,
    "start_time": "2022-02-15T19:13:53.081Z"
   },
   {
    "duration": 572,
    "start_time": "2022-02-15T19:13:53.136Z"
   },
   {
    "duration": 22,
    "start_time": "2022-02-15T19:13:53.710Z"
   },
   {
    "duration": 14,
    "start_time": "2022-02-15T20:09:10.971Z"
   },
   {
    "duration": 355,
    "start_time": "2022-02-15T20:12:04.468Z"
   },
   {
    "duration": 396,
    "start_time": "2022-02-15T20:16:05.094Z"
   },
   {
    "duration": 361,
    "start_time": "2022-02-15T20:17:27.256Z"
   },
   {
    "duration": 368,
    "start_time": "2022-02-15T20:17:45.613Z"
   },
   {
    "duration": 385,
    "start_time": "2022-02-15T20:26:14.096Z"
   },
   {
    "duration": 446,
    "start_time": "2022-02-15T21:02:43.715Z"
   },
   {
    "duration": 582,
    "start_time": "2022-02-15T21:03:38.937Z"
   },
   {
    "duration": 412,
    "start_time": "2022-02-15T21:05:41.281Z"
   },
   {
    "duration": 417,
    "start_time": "2022-02-15T21:11:31.225Z"
   },
   {
    "duration": 32,
    "start_time": "2022-02-15T21:25:07.060Z"
   },
   {
    "duration": 253,
    "start_time": "2022-02-15T21:34:04.254Z"
   },
   {
    "duration": 291,
    "start_time": "2022-02-15T21:36:11.102Z"
   },
   {
    "duration": 280,
    "start_time": "2022-02-15T21:36:35.358Z"
   },
   {
    "duration": 369,
    "start_time": "2022-02-16T06:21:06.338Z"
   },
   {
    "duration": 949,
    "start_time": "2022-02-16T06:21:13.978Z"
   },
   {
    "duration": 283,
    "start_time": "2022-02-16T06:21:14.929Z"
   },
   {
    "duration": 6,
    "start_time": "2022-02-16T06:21:15.214Z"
   },
   {
    "duration": 12,
    "start_time": "2022-02-16T06:21:15.222Z"
   },
   {
    "duration": 23,
    "start_time": "2022-02-16T06:21:15.235Z"
   },
   {
    "duration": 7,
    "start_time": "2022-02-16T06:21:15.259Z"
   },
   {
    "duration": 10,
    "start_time": "2022-02-16T06:21:15.267Z"
   },
   {
    "duration": 6,
    "start_time": "2022-02-16T06:21:15.280Z"
   },
   {
    "duration": 9,
    "start_time": "2022-02-16T06:21:15.288Z"
   },
   {
    "duration": 8,
    "start_time": "2022-02-16T06:21:15.299Z"
   },
   {
    "duration": 9,
    "start_time": "2022-02-16T06:21:15.308Z"
   },
   {
    "duration": 6,
    "start_time": "2022-02-16T06:21:15.346Z"
   },
   {
    "duration": 4,
    "start_time": "2022-02-16T06:21:15.354Z"
   },
   {
    "duration": 16,
    "start_time": "2022-02-16T06:21:15.360Z"
   },
   {
    "duration": 6,
    "start_time": "2022-02-16T06:21:15.378Z"
   },
   {
    "duration": 41,
    "start_time": "2022-02-16T06:21:15.385Z"
   },
   {
    "duration": 43,
    "start_time": "2022-02-16T06:21:15.427Z"
   },
   {
    "duration": 8,
    "start_time": "2022-02-16T06:21:15.471Z"
   },
   {
    "duration": 18,
    "start_time": "2022-02-16T06:21:15.481Z"
   },
   {
    "duration": 9,
    "start_time": "2022-02-16T06:21:15.500Z"
   },
   {
    "duration": 36,
    "start_time": "2022-02-16T06:21:15.510Z"
   },
   {
    "duration": 16,
    "start_time": "2022-02-16T06:21:15.547Z"
   },
   {
    "duration": 15,
    "start_time": "2022-02-16T06:21:15.566Z"
   },
   {
    "duration": 13,
    "start_time": "2022-02-16T06:21:15.583Z"
   },
   {
    "duration": 8,
    "start_time": "2022-02-16T06:21:15.597Z"
   },
   {
    "duration": 11,
    "start_time": "2022-02-16T06:21:15.607Z"
   },
   {
    "duration": 6,
    "start_time": "2022-02-16T06:21:15.646Z"
   },
   {
    "duration": 44,
    "start_time": "2022-02-16T06:21:15.654Z"
   },
   {
    "duration": 22,
    "start_time": "2022-02-16T06:21:15.699Z"
   },
   {
    "duration": 34,
    "start_time": "2022-02-16T06:21:15.723Z"
   },
   {
    "duration": 17,
    "start_time": "2022-02-16T06:21:15.758Z"
   },
   {
    "duration": 17,
    "start_time": "2022-02-16T06:21:15.777Z"
   },
   {
    "duration": 9,
    "start_time": "2022-02-16T06:21:15.796Z"
   },
   {
    "duration": 79,
    "start_time": "2022-02-16T06:21:15.807Z"
   },
   {
    "duration": 21,
    "start_time": "2022-02-16T06:21:15.888Z"
   },
   {
    "duration": 38,
    "start_time": "2022-02-16T06:21:15.911Z"
   },
   {
    "duration": 24,
    "start_time": "2022-02-16T06:21:15.951Z"
   },
   {
    "duration": 5,
    "start_time": "2022-02-16T06:21:15.976Z"
   },
   {
    "duration": 12,
    "start_time": "2022-02-16T06:21:15.982Z"
   },
   {
    "duration": 14,
    "start_time": "2022-02-16T06:21:15.996Z"
   },
   {
    "duration": 45,
    "start_time": "2022-02-16T06:21:16.011Z"
   },
   {
    "duration": 16,
    "start_time": "2022-02-16T06:21:16.057Z"
   },
   {
    "duration": 4,
    "start_time": "2022-02-16T06:21:16.075Z"
   },
   {
    "duration": 4571,
    "start_time": "2022-02-16T06:21:16.080Z"
   },
   {
    "duration": 15,
    "start_time": "2022-02-16T06:21:20.653Z"
   },
   {
    "duration": 14,
    "start_time": "2022-02-16T06:21:20.669Z"
   },
   {
    "duration": 219,
    "start_time": "2022-02-16T06:21:20.684Z"
   },
   {
    "duration": 9,
    "start_time": "2022-02-16T06:21:20.905Z"
   },
   {
    "duration": 8,
    "start_time": "2022-02-16T06:21:20.915Z"
   },
   {
    "duration": 234,
    "start_time": "2022-02-16T06:21:20.925Z"
   },
   {
    "duration": 17,
    "start_time": "2022-02-16T06:21:21.161Z"
   },
   {
    "duration": 142,
    "start_time": "2022-02-16T06:21:23.894Z"
   },
   {
    "duration": 139,
    "start_time": "2022-02-16T06:21:34.103Z"
   },
   {
    "duration": 385,
    "start_time": "2022-02-16T06:22:52.864Z"
   },
   {
    "duration": 330,
    "start_time": "2022-02-16T06:24:53.045Z"
   },
   {
    "duration": 151,
    "start_time": "2022-02-16T06:25:38.172Z"
   },
   {
    "duration": 234,
    "start_time": "2022-02-16T06:30:13.045Z"
   },
   {
    "duration": 10,
    "start_time": "2022-02-16T06:31:07.860Z"
   },
   {
    "duration": 9,
    "start_time": "2022-02-16T06:31:10.826Z"
   },
   {
    "duration": 18,
    "start_time": "2022-02-16T06:52:30.561Z"
   },
   {
    "duration": 136,
    "start_time": "2022-02-16T06:52:53.522Z"
   },
   {
    "duration": 193,
    "start_time": "2022-02-16T06:53:43.344Z"
   },
   {
    "duration": 141,
    "start_time": "2022-02-16T06:54:33.527Z"
   },
   {
    "duration": 210,
    "start_time": "2022-02-16T06:54:44.596Z"
   },
   {
    "duration": 134,
    "start_time": "2022-02-16T06:54:56.475Z"
   },
   {
    "duration": 496,
    "start_time": "2022-02-16T06:55:29.211Z"
   },
   {
    "duration": 139,
    "start_time": "2022-02-16T06:55:38.624Z"
   },
   {
    "duration": 213,
    "start_time": "2022-02-16T06:56:46.843Z"
   },
   {
    "duration": 204,
    "start_time": "2022-02-16T06:56:51.270Z"
   },
   {
    "duration": 915,
    "start_time": "2022-02-16T06:57:28.652Z"
   },
   {
    "duration": 959,
    "start_time": "2022-02-16T06:58:19.659Z"
   },
   {
    "duration": 198,
    "start_time": "2022-02-16T06:58:35.574Z"
   },
   {
    "duration": 311,
    "start_time": "2022-02-16T06:59:32.541Z"
   },
   {
    "duration": 206,
    "start_time": "2022-02-16T07:00:33.889Z"
   },
   {
    "duration": 314,
    "start_time": "2022-02-16T07:00:47.837Z"
   },
   {
    "duration": 11,
    "start_time": "2022-02-16T07:12:40.559Z"
   },
   {
    "duration": 9,
    "start_time": "2022-02-16T07:27:40.945Z"
   },
   {
    "duration": 18,
    "start_time": "2022-02-16T07:45:41.325Z"
   },
   {
    "duration": 145,
    "start_time": "2022-02-16T07:47:47.477Z"
   },
   {
    "duration": 146,
    "start_time": "2022-02-16T07:48:14.329Z"
   },
   {
    "duration": 214,
    "start_time": "2022-02-16T07:53:41.173Z"
   },
   {
    "duration": 10,
    "start_time": "2022-02-16T07:54:35.384Z"
   },
   {
    "duration": 10,
    "start_time": "2022-02-16T07:54:40.090Z"
   },
   {
    "duration": 19,
    "start_time": "2022-02-16T07:55:18.292Z"
   },
   {
    "duration": 149,
    "start_time": "2022-02-16T07:56:07.332Z"
   },
   {
    "duration": 143,
    "start_time": "2022-02-16T07:56:45.732Z"
   },
   {
    "duration": 209,
    "start_time": "2022-02-16T08:28:58.282Z"
   },
   {
    "duration": 205,
    "start_time": "2022-02-16T08:29:20.203Z"
   },
   {
    "duration": 209,
    "start_time": "2022-02-16T08:30:05.742Z"
   },
   {
    "duration": 196,
    "start_time": "2022-02-16T08:48:19.503Z"
   },
   {
    "duration": 231,
    "start_time": "2022-02-16T09:22:06.609Z"
   },
   {
    "duration": 282,
    "start_time": "2022-02-16T09:33:03.129Z"
   },
   {
    "duration": 354,
    "start_time": "2022-02-16T09:35:58.117Z"
   },
   {
    "duration": 284,
    "start_time": "2022-02-16T09:36:06.696Z"
   },
   {
    "duration": 292,
    "start_time": "2022-02-16T09:37:07.296Z"
   },
   {
    "duration": 285,
    "start_time": "2022-02-16T09:37:17.693Z"
   },
   {
    "duration": 204,
    "start_time": "2022-02-16T09:37:37.645Z"
   },
   {
    "duration": 210,
    "start_time": "2022-02-16T09:41:14.627Z"
   },
   {
    "duration": 316,
    "start_time": "2022-02-16T09:43:02.646Z"
   },
   {
    "duration": 24,
    "start_time": "2022-02-16T09:46:40.842Z"
   },
   {
    "duration": 157,
    "start_time": "2022-02-16T09:46:53.387Z"
   },
   {
    "duration": 9,
    "start_time": "2022-02-16T09:51:41.216Z"
   },
   {
    "duration": 18,
    "start_time": "2022-02-16T09:51:55.723Z"
   },
   {
    "duration": 9,
    "start_time": "2022-02-16T09:52:03.535Z"
   },
   {
    "duration": 65,
    "start_time": "2022-02-16T14:43:27.370Z"
   },
   {
    "duration": 966,
    "start_time": "2022-02-16T15:50:20.759Z"
   },
   {
    "duration": 270,
    "start_time": "2022-02-16T15:50:21.727Z"
   },
   {
    "duration": 6,
    "start_time": "2022-02-16T15:50:21.999Z"
   },
   {
    "duration": 24,
    "start_time": "2022-02-16T15:50:22.007Z"
   },
   {
    "duration": 11,
    "start_time": "2022-02-16T15:50:22.033Z"
   },
   {
    "duration": 5,
    "start_time": "2022-02-16T15:50:22.046Z"
   },
   {
    "duration": 16,
    "start_time": "2022-02-16T15:50:22.053Z"
   },
   {
    "duration": 9,
    "start_time": "2022-02-16T15:50:22.072Z"
   },
   {
    "duration": 10,
    "start_time": "2022-02-16T15:50:22.083Z"
   },
   {
    "duration": 37,
    "start_time": "2022-02-16T15:50:22.094Z"
   },
   {
    "duration": 9,
    "start_time": "2022-02-16T15:50:22.133Z"
   },
   {
    "duration": 8,
    "start_time": "2022-02-16T15:50:22.144Z"
   },
   {
    "duration": 7,
    "start_time": "2022-02-16T15:50:22.154Z"
   },
   {
    "duration": 20,
    "start_time": "2022-02-16T15:50:22.163Z"
   },
   {
    "duration": 8,
    "start_time": "2022-02-16T15:50:22.185Z"
   },
   {
    "duration": 75,
    "start_time": "2022-02-16T15:50:22.194Z"
   },
   {
    "duration": 29,
    "start_time": "2022-02-16T15:50:22.270Z"
   },
   {
    "duration": 9,
    "start_time": "2022-02-16T15:50:22.301Z"
   },
   {
    "duration": 22,
    "start_time": "2022-02-16T15:50:22.331Z"
   },
   {
    "duration": 11,
    "start_time": "2022-02-16T15:50:22.355Z"
   },
   {
    "duration": 6,
    "start_time": "2022-02-16T15:50:22.368Z"
   },
   {
    "duration": 20,
    "start_time": "2022-02-16T15:50:22.376Z"
   },
   {
    "duration": 47,
    "start_time": "2022-02-16T15:50:22.400Z"
   },
   {
    "duration": 16,
    "start_time": "2022-02-16T15:50:22.450Z"
   },
   {
    "duration": 10,
    "start_time": "2022-02-16T15:50:22.468Z"
   },
   {
    "duration": 13,
    "start_time": "2022-02-16T15:50:22.480Z"
   },
   {
    "duration": 38,
    "start_time": "2022-02-16T15:50:22.495Z"
   },
   {
    "duration": 57,
    "start_time": "2022-02-16T15:50:22.535Z"
   },
   {
    "duration": 46,
    "start_time": "2022-02-16T15:50:22.594Z"
   },
   {
    "duration": 22,
    "start_time": "2022-02-16T15:50:22.642Z"
   },
   {
    "duration": 19,
    "start_time": "2022-02-16T15:50:22.666Z"
   },
   {
    "duration": 49,
    "start_time": "2022-02-16T15:50:22.687Z"
   },
   {
    "duration": 9,
    "start_time": "2022-02-16T15:50:22.738Z"
   },
   {
    "duration": 54,
    "start_time": "2022-02-16T15:50:22.749Z"
   },
   {
    "duration": 44,
    "start_time": "2022-02-16T15:50:22.805Z"
   },
   {
    "duration": 19,
    "start_time": "2022-02-16T15:50:22.851Z"
   },
   {
    "duration": 26,
    "start_time": "2022-02-16T15:50:22.872Z"
   },
   {
    "duration": 3,
    "start_time": "2022-02-16T15:50:22.900Z"
   },
   {
    "duration": 33,
    "start_time": "2022-02-16T15:50:22.905Z"
   },
   {
    "duration": 18,
    "start_time": "2022-02-16T15:50:22.940Z"
   },
   {
    "duration": 14,
    "start_time": "2022-02-16T15:50:22.959Z"
   },
   {
    "duration": 18,
    "start_time": "2022-02-16T15:50:22.975Z"
   },
   {
    "duration": 35,
    "start_time": "2022-02-16T15:50:22.995Z"
   },
   {
    "duration": 5084,
    "start_time": "2022-02-16T15:50:23.032Z"
   },
   {
    "duration": 26,
    "start_time": "2022-02-16T15:50:28.118Z"
   },
   {
    "duration": 17,
    "start_time": "2022-02-16T15:50:28.146Z"
   },
   {
    "duration": 245,
    "start_time": "2022-02-16T15:50:28.165Z"
   },
   {
    "duration": 9,
    "start_time": "2022-02-16T15:50:28.412Z"
   },
   {
    "duration": 12,
    "start_time": "2022-02-16T15:50:28.430Z"
   },
   {
    "duration": 240,
    "start_time": "2022-02-16T15:50:28.444Z"
   },
   {
    "duration": 19,
    "start_time": "2022-02-16T15:50:28.686Z"
   },
   {
    "duration": 181,
    "start_time": "2022-02-16T15:50:28.707Z"
   },
   {
    "duration": 249,
    "start_time": "2022-02-16T15:50:28.889Z"
   },
   {
    "duration": 9,
    "start_time": "2022-02-16T15:50:29.140Z"
   },
   {
    "duration": 9,
    "start_time": "2022-02-16T15:50:29.151Z"
   },
   {
    "duration": 253,
    "start_time": "2022-02-16T15:50:29.162Z"
   },
   {
    "duration": 25,
    "start_time": "2022-02-16T15:50:29.417Z"
   },
   {
    "duration": 173,
    "start_time": "2022-02-16T15:50:29.443Z"
   },
   {
    "duration": 245,
    "start_time": "2022-02-16T15:50:29.618Z"
   },
   {
    "duration": 9,
    "start_time": "2022-02-16T15:50:29.865Z"
   },
   {
    "duration": 9,
    "start_time": "2022-02-16T15:50:29.875Z"
   },
   {
    "duration": 325,
    "start_time": "2022-02-16T15:50:29.885Z"
   },
   {
    "duration": 29,
    "start_time": "2022-02-16T15:50:30.211Z"
   },
   {
    "duration": 170,
    "start_time": "2022-02-16T15:50:30.242Z"
   },
   {
    "duration": 249,
    "start_time": "2022-02-16T15:50:30.414Z"
   },
   {
    "duration": 10,
    "start_time": "2022-02-16T15:50:30.665Z"
   },
   {
    "duration": 18,
    "start_time": "2022-02-16T15:50:30.677Z"
   },
   {
    "duration": 243,
    "start_time": "2022-02-16T15:50:30.699Z"
   },
   {
    "duration": 20,
    "start_time": "2022-02-16T15:50:30.944Z"
   },
   {
    "duration": 184,
    "start_time": "2022-02-16T15:50:30.965Z"
   },
   {
    "duration": 10,
    "start_time": "2022-02-16T15:50:31.151Z"
   },
   {
    "duration": 26,
    "start_time": "2022-02-16T15:50:31.163Z"
   },
   {
    "duration": 15,
    "start_time": "2022-02-16T15:50:31.191Z"
   },
   {
    "duration": 22,
    "start_time": "2022-02-16T15:57:26.441Z"
   },
   {
    "duration": 12,
    "start_time": "2022-02-16T15:57:31.673Z"
   },
   {
    "duration": 59,
    "start_time": "2022-02-16T16:02:39.088Z"
   },
   {
    "duration": 12,
    "start_time": "2022-02-16T16:11:57.936Z"
   },
   {
    "duration": 5,
    "start_time": "2022-02-16T16:12:02.520Z"
   },
   {
    "duration": 257,
    "start_time": "2022-02-16T16:12:14.850Z"
   },
   {
    "duration": 25,
    "start_time": "2022-02-16T16:17:57.221Z"
   },
   {
    "duration": 54,
    "start_time": "2022-02-16T16:18:07.923Z"
   },
   {
    "duration": 27,
    "start_time": "2022-02-16T16:18:10.699Z"
   },
   {
    "duration": 20,
    "start_time": "2022-02-16T16:18:21.681Z"
   },
   {
    "duration": 22,
    "start_time": "2022-02-16T16:21:09.339Z"
   },
   {
    "duration": 4255,
    "start_time": "2022-02-16T16:21:14.610Z"
   },
   {
    "duration": 5,
    "start_time": "2022-02-16T16:30:56.765Z"
   },
   {
    "duration": 6,
    "start_time": "2022-02-16T16:31:07.476Z"
   },
   {
    "duration": 6,
    "start_time": "2022-02-16T16:31:19.824Z"
   },
   {
    "duration": 57,
    "start_time": "2022-02-16T17:06:33.787Z"
   },
   {
    "duration": 54,
    "start_time": "2022-02-16T17:06:38.632Z"
   },
   {
    "duration": 165,
    "start_time": "2022-02-16T17:06:46.332Z"
   },
   {
    "duration": 9,
    "start_time": "2022-02-16T17:06:51.673Z"
   },
   {
    "duration": 7,
    "start_time": "2022-02-16T17:06:55.845Z"
   },
   {
    "duration": 9,
    "start_time": "2022-02-16T17:07:06.737Z"
   },
   {
    "duration": 6,
    "start_time": "2022-02-16T17:24:15.089Z"
   },
   {
    "duration": 4,
    "start_time": "2022-02-16T17:24:20.851Z"
   },
   {
    "duration": 5,
    "start_time": "2022-02-16T17:24:32.764Z"
   },
   {
    "duration": 5,
    "start_time": "2022-02-16T17:24:35.910Z"
   },
   {
    "duration": 5,
    "start_time": "2022-02-16T17:24:44.835Z"
   },
   {
    "duration": 6,
    "start_time": "2022-02-16T17:24:57.427Z"
   },
   {
    "duration": 5,
    "start_time": "2022-02-16T17:25:00.608Z"
   },
   {
    "duration": 8,
    "start_time": "2022-02-16T17:25:29.821Z"
   },
   {
    "duration": 8,
    "start_time": "2022-02-16T17:27:12.183Z"
   },
   {
    "duration": 6,
    "start_time": "2022-02-16T17:28:48.022Z"
   },
   {
    "duration": 5,
    "start_time": "2022-02-16T17:48:06.504Z"
   },
   {
    "duration": 5464,
    "start_time": "2022-02-16T17:48:41.614Z"
   },
   {
    "duration": 5,
    "start_time": "2022-02-16T17:49:07.215Z"
   },
   {
    "duration": 439,
    "start_time": "2022-02-16T17:49:09.082Z"
   },
   {
    "duration": 161,
    "start_time": "2022-02-16T17:49:18.246Z"
   },
   {
    "duration": 9,
    "start_time": "2022-02-16T17:49:20.158Z"
   },
   {
    "duration": 7,
    "start_time": "2022-02-16T17:50:02.263Z"
   },
   {
    "duration": 4304,
    "start_time": "2022-02-16T17:50:10.391Z"
   },
   {
    "duration": 18,
    "start_time": "2022-02-16T17:50:46.466Z"
   },
   {
    "duration": 6,
    "start_time": "2022-02-16T17:52:09.686Z"
   },
   {
    "duration": 4322,
    "start_time": "2022-02-16T17:52:12.568Z"
   },
   {
    "duration": 4,
    "start_time": "2022-02-16T17:52:30.842Z"
   },
   {
    "duration": 340,
    "start_time": "2022-02-16T17:52:31.467Z"
   },
   {
    "duration": 5,
    "start_time": "2022-02-16T17:52:57.125Z"
   },
   {
    "duration": 361,
    "start_time": "2022-02-16T17:52:57.656Z"
   },
   {
    "duration": 18,
    "start_time": "2022-02-16T17:53:05.312Z"
   },
   {
    "duration": 347,
    "start_time": "2022-02-16T17:53:10.011Z"
   },
   {
    "duration": 6,
    "start_time": "2022-02-16T17:54:40.264Z"
   },
   {
    "duration": 1918,
    "start_time": "2022-02-16T17:54:40.777Z"
   },
   {
    "duration": 9,
    "start_time": "2022-02-16T17:56:19.914Z"
   },
   {
    "duration": 2329,
    "start_time": "2022-02-16T17:56:56.126Z"
   },
   {
    "duration": 392,
    "start_time": "2022-02-16T17:57:06.178Z"
   },
   {
    "duration": 5,
    "start_time": "2022-02-16T17:57:31.428Z"
   },
   {
    "duration": 426,
    "start_time": "2022-02-16T17:57:32.195Z"
   },
   {
    "duration": 5,
    "start_time": "2022-02-16T17:58:46.637Z"
   },
   {
    "duration": 360,
    "start_time": "2022-02-16T17:58:47.211Z"
   },
   {
    "duration": 5,
    "start_time": "2022-02-16T17:59:10.971Z"
   },
   {
    "duration": 460,
    "start_time": "2022-02-16T17:59:11.556Z"
   },
   {
    "duration": 8910,
    "start_time": "2022-02-16T17:59:34.974Z"
   },
   {
    "duration": 6,
    "start_time": "2022-02-16T18:00:05.914Z"
   },
   {
    "duration": 343,
    "start_time": "2022-02-16T18:00:07.433Z"
   },
   {
    "duration": 5,
    "start_time": "2022-02-16T18:08:54.795Z"
   },
   {
    "duration": 6909,
    "start_time": "2022-02-16T18:08:55.472Z"
   },
   {
    "duration": 290,
    "start_time": "2022-02-16T18:11:24.162Z"
   },
   {
    "duration": 239,
    "start_time": "2022-02-16T18:11:29.309Z"
   },
   {
    "duration": 357,
    "start_time": "2022-02-16T18:14:34.070Z"
   },
   {
    "duration": 348,
    "start_time": "2022-02-16T18:14:43.011Z"
   },
   {
    "duration": 239,
    "start_time": "2022-02-16T18:15:34.251Z"
   },
   {
    "duration": 1042,
    "start_time": "2022-02-16T18:18:29.912Z"
   },
   {
    "duration": 283,
    "start_time": "2022-02-16T18:18:30.956Z"
   },
   {
    "duration": 6,
    "start_time": "2022-02-16T18:18:31.241Z"
   },
   {
    "duration": 15,
    "start_time": "2022-02-16T18:18:31.249Z"
   },
   {
    "duration": 13,
    "start_time": "2022-02-16T18:18:31.265Z"
   },
   {
    "duration": 6,
    "start_time": "2022-02-16T18:18:31.279Z"
   },
   {
    "duration": 14,
    "start_time": "2022-02-16T18:18:31.287Z"
   },
   {
    "duration": 10,
    "start_time": "2022-02-16T18:18:31.302Z"
   },
   {
    "duration": 10,
    "start_time": "2022-02-16T18:18:31.331Z"
   },
   {
    "duration": 8,
    "start_time": "2022-02-16T18:18:31.343Z"
   },
   {
    "duration": 9,
    "start_time": "2022-02-16T18:18:31.352Z"
   },
   {
    "duration": 10,
    "start_time": "2022-02-16T18:18:31.362Z"
   },
   {
    "duration": 9,
    "start_time": "2022-02-16T18:18:31.373Z"
   },
   {
    "duration": 17,
    "start_time": "2022-02-16T18:18:31.383Z"
   },
   {
    "duration": 29,
    "start_time": "2022-02-16T18:18:31.402Z"
   },
   {
    "duration": 44,
    "start_time": "2022-02-16T18:18:31.433Z"
   },
   {
    "duration": 30,
    "start_time": "2022-02-16T18:18:31.479Z"
   },
   {
    "duration": 10,
    "start_time": "2022-02-16T18:18:31.530Z"
   },
   {
    "duration": 22,
    "start_time": "2022-02-16T18:18:31.542Z"
   },
   {
    "duration": 11,
    "start_time": "2022-02-16T18:18:31.566Z"
   },
   {
    "duration": 7,
    "start_time": "2022-02-16T18:18:31.578Z"
   },
   {
    "duration": 49,
    "start_time": "2022-02-16T18:18:31.587Z"
   },
   {
    "duration": 17,
    "start_time": "2022-02-16T18:18:31.637Z"
   },
   {
    "duration": 14,
    "start_time": "2022-02-16T18:18:31.656Z"
   },
   {
    "duration": 10,
    "start_time": "2022-02-16T18:18:31.671Z"
   },
   {
    "duration": 12,
    "start_time": "2022-02-16T18:18:31.682Z"
   },
   {
    "duration": 38,
    "start_time": "2022-02-16T18:18:31.698Z"
   },
   {
    "duration": 55,
    "start_time": "2022-02-16T18:18:31.739Z"
   },
   {
    "duration": 37,
    "start_time": "2022-02-16T18:18:31.796Z"
   },
   {
    "duration": 19,
    "start_time": "2022-02-16T18:18:31.835Z"
   },
   {
    "duration": 20,
    "start_time": "2022-02-16T18:18:31.856Z"
   },
   {
    "duration": 20,
    "start_time": "2022-02-16T18:18:31.878Z"
   },
   {
    "duration": 39,
    "start_time": "2022-02-16T18:18:31.900Z"
   },
   {
    "duration": 50,
    "start_time": "2022-02-16T18:18:31.940Z"
   },
   {
    "duration": 50,
    "start_time": "2022-02-16T18:18:31.991Z"
   },
   {
    "duration": 20,
    "start_time": "2022-02-16T18:18:32.043Z"
   },
   {
    "duration": 27,
    "start_time": "2022-02-16T18:18:32.065Z"
   },
   {
    "duration": 3,
    "start_time": "2022-02-16T18:18:32.094Z"
   },
   {
    "duration": 41,
    "start_time": "2022-02-16T18:18:32.099Z"
   },
   {
    "duration": 16,
    "start_time": "2022-02-16T18:18:32.142Z"
   },
   {
    "duration": 14,
    "start_time": "2022-02-16T18:18:32.160Z"
   },
   {
    "duration": 19,
    "start_time": "2022-02-16T18:18:32.176Z"
   },
   {
    "duration": 33,
    "start_time": "2022-02-16T18:18:32.197Z"
   },
   {
    "duration": 6,
    "start_time": "2022-02-16T18:18:32.232Z"
   },
   {
    "duration": 5059,
    "start_time": "2022-02-16T18:18:32.240Z"
   },
   {
    "duration": 5,
    "start_time": "2022-02-16T18:18:37.302Z"
   },
   {
    "duration": 35,
    "start_time": "2022-02-16T18:18:37.309Z"
   },
   {
    "duration": 18,
    "start_time": "2022-02-16T18:18:37.345Z"
   },
   {
    "duration": 265,
    "start_time": "2022-02-16T18:18:37.365Z"
   },
   {
    "duration": 16,
    "start_time": "2022-02-16T18:18:37.632Z"
   },
   {
    "duration": 14,
    "start_time": "2022-02-16T18:18:37.650Z"
   },
   {
    "duration": 297,
    "start_time": "2022-02-16T18:18:37.666Z"
   },
   {
    "duration": 21,
    "start_time": "2022-02-16T18:18:37.965Z"
   },
   {
    "duration": 184,
    "start_time": "2022-02-16T18:18:37.988Z"
   },
   {
    "duration": 236,
    "start_time": "2022-02-16T18:18:38.174Z"
   },
   {
    "duration": 22,
    "start_time": "2022-02-16T18:18:38.412Z"
   },
   {
    "duration": 11,
    "start_time": "2022-02-16T18:18:38.436Z"
   },
   {
    "duration": 234,
    "start_time": "2022-02-16T18:18:38.450Z"
   },
   {
    "duration": 19,
    "start_time": "2022-02-16T18:18:38.686Z"
   },
   {
    "duration": 168,
    "start_time": "2022-02-16T18:18:38.707Z"
   },
   {
    "duration": 256,
    "start_time": "2022-02-16T18:18:38.876Z"
   },
   {
    "duration": 10,
    "start_time": "2022-02-16T18:18:39.133Z"
   },
   {
    "duration": 8,
    "start_time": "2022-02-16T18:18:39.145Z"
   },
   {
    "duration": 357,
    "start_time": "2022-02-16T18:18:39.155Z"
   },
   {
    "duration": 28,
    "start_time": "2022-02-16T18:18:39.514Z"
   },
   {
    "duration": 173,
    "start_time": "2022-02-16T18:18:39.543Z"
   },
   {
    "duration": 263,
    "start_time": "2022-02-16T18:18:39.718Z"
   },
   {
    "duration": 11,
    "start_time": "2022-02-16T18:18:39.982Z"
   },
   {
    "duration": 9,
    "start_time": "2022-02-16T18:18:39.994Z"
   },
   {
    "duration": 272,
    "start_time": "2022-02-16T18:18:40.005Z"
   },
   {
    "duration": 19,
    "start_time": "2022-02-16T18:18:40.279Z"
   },
   {
    "duration": 173,
    "start_time": "2022-02-16T18:18:40.300Z"
   },
   {
    "duration": 10,
    "start_time": "2022-02-16T18:18:40.475Z"
   },
   {
    "duration": 20,
    "start_time": "2022-02-16T18:18:40.486Z"
   },
   {
    "duration": 29,
    "start_time": "2022-02-16T18:18:40.507Z"
   },
   {
    "duration": 7,
    "start_time": "2022-02-16T19:51:30.060Z"
   },
   {
    "duration": 7,
    "start_time": "2022-02-16T19:51:37.547Z"
   },
   {
    "duration": 7,
    "start_time": "2022-02-16T20:03:03.829Z"
   },
   {
    "duration": 7,
    "start_time": "2022-02-16T20:03:09.092Z"
   },
   {
    "duration": 9,
    "start_time": "2022-02-16T20:03:13.344Z"
   },
   {
    "duration": 7,
    "start_time": "2022-02-16T20:03:18.885Z"
   },
   {
    "duration": 6679,
    "start_time": "2022-02-16T20:05:07.483Z"
   },
   {
    "duration": 6740,
    "start_time": "2022-02-16T20:07:27.344Z"
   },
   {
    "duration": 6523,
    "start_time": "2022-02-16T20:08:05.788Z"
   },
   {
    "duration": 6765,
    "start_time": "2022-02-16T20:08:31.236Z"
   },
   {
    "duration": 6683,
    "start_time": "2022-02-16T20:13:09.576Z"
   },
   {
    "duration": 6520,
    "start_time": "2022-02-16T20:15:22.663Z"
   },
   {
    "duration": 6978,
    "start_time": "2022-02-16T20:17:12.575Z"
   },
   {
    "duration": 161,
    "start_time": "2022-02-16T20:20:55.460Z"
   },
   {
    "duration": 187,
    "start_time": "2022-02-16T20:26:23.969Z"
   },
   {
    "duration": 206,
    "start_time": "2022-02-16T20:26:37.813Z"
   },
   {
    "duration": 209,
    "start_time": "2022-02-16T20:26:51.986Z"
   },
   {
    "duration": 352,
    "start_time": "2022-02-16T20:27:05.314Z"
   },
   {
    "duration": 310,
    "start_time": "2022-02-16T20:51:13.387Z"
   },
   {
    "duration": 249,
    "start_time": "2022-02-16T20:51:23.337Z"
   },
   {
    "duration": 245,
    "start_time": "2022-02-16T20:51:33.049Z"
   },
   {
    "duration": 234,
    "start_time": "2022-02-16T20:54:43.751Z"
   },
   {
    "duration": 261,
    "start_time": "2022-02-16T21:06:03.863Z"
   },
   {
    "duration": 243,
    "start_time": "2022-02-16T21:06:08.061Z"
   },
   {
    "duration": 159,
    "start_time": "2022-02-16T21:09:10.241Z"
   },
   {
    "duration": 157,
    "start_time": "2022-02-16T21:10:53.249Z"
   },
   {
    "duration": 167,
    "start_time": "2022-02-16T21:11:29.668Z"
   },
   {
    "duration": 202,
    "start_time": "2022-02-16T21:13:22.290Z"
   },
   {
    "duration": 166,
    "start_time": "2022-02-16T21:13:36.412Z"
   },
   {
    "duration": 12,
    "start_time": "2022-02-16T21:14:36.058Z"
   },
   {
    "duration": 222,
    "start_time": "2022-02-16T21:14:44.174Z"
   },
   {
    "duration": 231,
    "start_time": "2022-02-16T21:20:37.985Z"
   },
   {
    "duration": 262,
    "start_time": "2022-02-16T21:20:41.425Z"
   },
   {
    "duration": 59,
    "start_time": "2022-02-16T21:21:30.105Z"
   },
   {
    "duration": 150,
    "start_time": "2022-02-16T21:23:09.796Z"
   },
   {
    "duration": 152,
    "start_time": "2022-02-16T21:23:21.403Z"
   },
   {
    "duration": 390,
    "start_time": "2022-02-16T21:23:48.794Z"
   },
   {
    "duration": 157,
    "start_time": "2022-02-16T21:23:56.867Z"
   },
   {
    "duration": 153,
    "start_time": "2022-02-16T21:24:05.064Z"
   },
   {
    "duration": 159,
    "start_time": "2022-02-16T21:25:48.509Z"
   },
   {
    "duration": 336,
    "start_time": "2022-02-16T21:25:58.700Z"
   },
   {
    "duration": 148,
    "start_time": "2022-02-16T21:26:15.499Z"
   },
   {
    "duration": 234,
    "start_time": "2022-02-16T21:26:35.169Z"
   },
   {
    "duration": 152,
    "start_time": "2022-02-16T21:26:38.939Z"
   },
   {
    "duration": 329,
    "start_time": "2022-02-16T21:27:12.714Z"
   },
   {
    "duration": 157,
    "start_time": "2022-02-16T21:27:31.289Z"
   },
   {
    "duration": 162,
    "start_time": "2022-02-16T21:27:36.921Z"
   },
   {
    "duration": 149,
    "start_time": "2022-02-16T21:28:13.223Z"
   },
   {
    "duration": 138,
    "start_time": "2022-02-16T21:28:17.501Z"
   },
   {
    "duration": 157,
    "start_time": "2022-02-16T21:28:24.813Z"
   },
   {
    "duration": 5,
    "start_time": "2022-02-16T21:31:03.319Z"
   },
   {
    "duration": 5,
    "start_time": "2022-02-16T21:31:05.198Z"
   },
   {
    "duration": 152,
    "start_time": "2022-02-16T21:31:13.506Z"
   },
   {
    "duration": 134,
    "start_time": "2022-02-16T21:33:50.833Z"
   },
   {
    "duration": 122,
    "start_time": "2022-02-16T21:34:18.976Z"
   },
   {
    "duration": 309,
    "start_time": "2022-02-16T21:35:11.493Z"
   },
   {
    "duration": 5,
    "start_time": "2022-02-16T21:35:26.241Z"
   },
   {
    "duration": 5,
    "start_time": "2022-02-16T21:35:34.582Z"
   },
   {
    "duration": 374,
    "start_time": "2022-02-16T21:35:40.783Z"
   },
   {
    "duration": 285,
    "start_time": "2022-02-16T21:40:32.845Z"
   },
   {
    "duration": 987,
    "start_time": "2022-02-16T22:08:21.467Z"
   },
   {
    "duration": 326,
    "start_time": "2022-02-16T22:08:22.456Z"
   },
   {
    "duration": 8,
    "start_time": "2022-02-16T22:08:22.784Z"
   },
   {
    "duration": 13,
    "start_time": "2022-02-16T22:08:22.794Z"
   },
   {
    "duration": 30,
    "start_time": "2022-02-16T22:08:22.809Z"
   },
   {
    "duration": 7,
    "start_time": "2022-02-16T22:08:22.841Z"
   },
   {
    "duration": 11,
    "start_time": "2022-02-16T22:08:22.850Z"
   },
   {
    "duration": 6,
    "start_time": "2022-02-16T22:08:22.862Z"
   },
   {
    "duration": 10,
    "start_time": "2022-02-16T22:08:22.871Z"
   },
   {
    "duration": 9,
    "start_time": "2022-02-16T22:08:22.883Z"
   },
   {
    "duration": 42,
    "start_time": "2022-02-16T22:08:22.893Z"
   },
   {
    "duration": 12,
    "start_time": "2022-02-16T22:08:22.937Z"
   },
   {
    "duration": 9,
    "start_time": "2022-02-16T22:08:22.950Z"
   },
   {
    "duration": 17,
    "start_time": "2022-02-16T22:08:22.960Z"
   },
   {
    "duration": 7,
    "start_time": "2022-02-16T22:08:22.978Z"
   },
   {
    "duration": 66,
    "start_time": "2022-02-16T22:08:22.987Z"
   },
   {
    "duration": 30,
    "start_time": "2022-02-16T22:08:23.055Z"
   },
   {
    "duration": 10,
    "start_time": "2022-02-16T22:08:23.086Z"
   },
   {
    "duration": 42,
    "start_time": "2022-02-16T22:08:23.098Z"
   },
   {
    "duration": 11,
    "start_time": "2022-02-16T22:08:23.142Z"
   },
   {
    "duration": 7,
    "start_time": "2022-02-16T22:08:23.155Z"
   },
   {
    "duration": 20,
    "start_time": "2022-02-16T22:08:23.163Z"
   },
   {
    "duration": 45,
    "start_time": "2022-02-16T22:08:23.185Z"
   },
   {
    "duration": 15,
    "start_time": "2022-02-16T22:08:23.232Z"
   },
   {
    "duration": 10,
    "start_time": "2022-02-16T22:08:23.249Z"
   },
   {
    "duration": 13,
    "start_time": "2022-02-16T22:08:23.260Z"
   },
   {
    "duration": 8,
    "start_time": "2022-02-16T22:08:23.277Z"
   },
   {
    "duration": 84,
    "start_time": "2022-02-16T22:08:23.288Z"
   },
   {
    "duration": 23,
    "start_time": "2022-02-16T22:08:23.373Z"
   },
   {
    "duration": 33,
    "start_time": "2022-02-16T22:08:23.398Z"
   },
   {
    "duration": 20,
    "start_time": "2022-02-16T22:08:23.433Z"
   },
   {
    "duration": 18,
    "start_time": "2022-02-16T22:08:23.455Z"
   },
   {
    "duration": 8,
    "start_time": "2022-02-16T22:08:23.474Z"
   },
   {
    "duration": 83,
    "start_time": "2022-02-16T22:08:23.484Z"
   },
   {
    "duration": 23,
    "start_time": "2022-02-16T22:08:23.568Z"
   },
   {
    "duration": 38,
    "start_time": "2022-02-16T22:08:23.593Z"
   },
   {
    "duration": 25,
    "start_time": "2022-02-16T22:08:23.633Z"
   },
   {
    "duration": 4,
    "start_time": "2022-02-16T22:08:23.660Z"
   },
   {
    "duration": 13,
    "start_time": "2022-02-16T22:08:23.666Z"
   },
   {
    "duration": 17,
    "start_time": "2022-02-16T22:08:23.680Z"
   },
   {
    "duration": 44,
    "start_time": "2022-02-16T22:08:23.698Z"
   },
   {
    "duration": 17,
    "start_time": "2022-02-16T22:08:23.744Z"
   },
   {
    "duration": 5,
    "start_time": "2022-02-16T22:08:23.763Z"
   },
   {
    "duration": 6,
    "start_time": "2022-02-16T22:08:23.769Z"
   },
   {
    "duration": 5063,
    "start_time": "2022-02-16T22:08:23.777Z"
   },
   {
    "duration": 6,
    "start_time": "2022-02-16T22:08:28.841Z"
   },
   {
    "duration": 25,
    "start_time": "2022-02-16T22:08:28.848Z"
   },
   {
    "duration": 17,
    "start_time": "2022-02-16T22:08:28.875Z"
   },
   {
    "duration": 250,
    "start_time": "2022-02-16T22:08:28.894Z"
   },
   {
    "duration": 10,
    "start_time": "2022-02-16T22:08:29.146Z"
   },
   {
    "duration": 9,
    "start_time": "2022-02-16T22:08:29.158Z"
   },
   {
    "duration": 269,
    "start_time": "2022-02-16T22:08:29.169Z"
   },
   {
    "duration": 20,
    "start_time": "2022-02-16T22:08:29.440Z"
   },
   {
    "duration": 183,
    "start_time": "2022-02-16T22:08:29.462Z"
   },
   {
    "duration": 238,
    "start_time": "2022-02-16T22:08:29.646Z"
   },
   {
    "duration": 10,
    "start_time": "2022-02-16T22:08:29.885Z"
   },
   {
    "duration": 9,
    "start_time": "2022-02-16T22:08:29.897Z"
   },
   {
    "duration": 250,
    "start_time": "2022-02-16T22:08:29.908Z"
   },
   {
    "duration": 21,
    "start_time": "2022-02-16T22:08:30.160Z"
   },
   {
    "duration": 170,
    "start_time": "2022-02-16T22:08:30.182Z"
   },
   {
    "duration": 249,
    "start_time": "2022-02-16T22:08:30.354Z"
   },
   {
    "duration": 11,
    "start_time": "2022-02-16T22:08:30.604Z"
   },
   {
    "duration": 29,
    "start_time": "2022-02-16T22:08:30.616Z"
   },
   {
    "duration": 295,
    "start_time": "2022-02-16T22:08:30.647Z"
   },
   {
    "duration": 19,
    "start_time": "2022-02-16T22:08:30.943Z"
   },
   {
    "duration": 180,
    "start_time": "2022-02-16T22:08:30.963Z"
   },
   {
    "duration": 236,
    "start_time": "2022-02-16T22:08:31.144Z"
   },
   {
    "duration": 9,
    "start_time": "2022-02-16T22:08:31.382Z"
   },
   {
    "duration": 11,
    "start_time": "2022-02-16T22:08:31.393Z"
   },
   {
    "duration": 238,
    "start_time": "2022-02-16T22:08:31.405Z"
   },
   {
    "duration": 18,
    "start_time": "2022-02-16T22:08:31.644Z"
   },
   {
    "duration": 168,
    "start_time": "2022-02-16T22:08:31.664Z"
   },
   {
    "duration": 11,
    "start_time": "2022-02-16T22:08:31.833Z"
   },
   {
    "duration": 18,
    "start_time": "2022-02-16T22:08:31.845Z"
   },
   {
    "duration": 8,
    "start_time": "2022-02-16T22:08:31.865Z"
   },
   {
    "duration": 432,
    "start_time": "2022-02-17T04:12:23.301Z"
   },
   {
    "duration": 1438,
    "start_time": "2022-02-17T04:12:28.761Z"
   },
   {
    "duration": 401,
    "start_time": "2022-02-17T04:12:30.202Z"
   },
   {
    "duration": 11,
    "start_time": "2022-02-17T04:12:30.606Z"
   },
   {
    "duration": 28,
    "start_time": "2022-02-17T04:12:30.620Z"
   },
   {
    "duration": 21,
    "start_time": "2022-02-17T04:12:30.650Z"
   },
   {
    "duration": 9,
    "start_time": "2022-02-17T04:12:30.673Z"
   },
   {
    "duration": 37,
    "start_time": "2022-02-17T04:12:30.684Z"
   },
   {
    "duration": 13,
    "start_time": "2022-02-17T04:12:30.725Z"
   },
   {
    "duration": 14,
    "start_time": "2022-02-17T04:12:30.741Z"
   },
   {
    "duration": 10,
    "start_time": "2022-02-17T04:12:30.758Z"
   },
   {
    "duration": 10,
    "start_time": "2022-02-17T04:12:30.812Z"
   },
   {
    "duration": 14,
    "start_time": "2022-02-17T04:12:30.825Z"
   },
   {
    "duration": 10,
    "start_time": "2022-02-17T04:12:30.841Z"
   },
   {
    "duration": 22,
    "start_time": "2022-02-17T04:12:30.853Z"
   },
   {
    "duration": 11,
    "start_time": "2022-02-17T04:12:30.912Z"
   },
   {
    "duration": 69,
    "start_time": "2022-02-17T04:12:30.925Z"
   },
   {
    "duration": 41,
    "start_time": "2022-02-17T04:12:31.010Z"
   },
   {
    "duration": 14,
    "start_time": "2022-02-17T04:12:31.053Z"
   },
   {
    "duration": 59,
    "start_time": "2022-02-17T04:12:31.070Z"
   },
   {
    "duration": 16,
    "start_time": "2022-02-17T04:12:31.132Z"
   },
   {
    "duration": 11,
    "start_time": "2022-02-17T04:12:31.151Z"
   },
   {
    "duration": 62,
    "start_time": "2022-02-17T04:12:31.165Z"
   },
   {
    "duration": 26,
    "start_time": "2022-02-17T04:12:31.232Z"
   },
   {
    "duration": 22,
    "start_time": "2022-02-17T04:12:31.261Z"
   },
   {
    "duration": 17,
    "start_time": "2022-02-17T04:12:31.311Z"
   },
   {
    "duration": 23,
    "start_time": "2022-02-17T04:12:31.330Z"
   },
   {
    "duration": 12,
    "start_time": "2022-02-17T04:12:31.355Z"
   },
   {
    "duration": 110,
    "start_time": "2022-02-17T04:12:31.370Z"
   },
   {
    "duration": 45,
    "start_time": "2022-02-17T04:12:31.483Z"
   },
   {
    "duration": 27,
    "start_time": "2022-02-17T04:12:31.530Z"
   },
   {
    "duration": 28,
    "start_time": "2022-02-17T04:12:31.559Z"
   },
   {
    "duration": 29,
    "start_time": "2022-02-17T04:12:31.610Z"
   },
   {
    "duration": 13,
    "start_time": "2022-02-17T04:12:31.641Z"
   },
   {
    "duration": 77,
    "start_time": "2022-02-17T04:12:37.644Z"
   },
   {
    "duration": 34,
    "start_time": "2022-02-17T04:12:56.486Z"
   },
   {
    "duration": 30,
    "start_time": "2022-02-17T04:13:07.673Z"
   },
   {
    "duration": 1087,
    "start_time": "2022-02-17T07:08:56.127Z"
   },
   {
    "duration": 287,
    "start_time": "2022-02-17T07:08:57.216Z"
   },
   {
    "duration": 8,
    "start_time": "2022-02-17T07:08:57.506Z"
   },
   {
    "duration": 15,
    "start_time": "2022-02-17T07:08:57.516Z"
   },
   {
    "duration": 27,
    "start_time": "2022-02-17T07:08:57.533Z"
   },
   {
    "duration": 7,
    "start_time": "2022-02-17T07:08:57.562Z"
   },
   {
    "duration": 18,
    "start_time": "2022-02-17T07:08:57.571Z"
   },
   {
    "duration": 9,
    "start_time": "2022-02-17T07:08:57.591Z"
   },
   {
    "duration": 11,
    "start_time": "2022-02-17T07:08:57.602Z"
   },
   {
    "duration": 11,
    "start_time": "2022-02-17T07:08:57.615Z"
   },
   {
    "duration": 7,
    "start_time": "2022-02-17T07:08:57.628Z"
   },
   {
    "duration": 9,
    "start_time": "2022-02-17T07:08:57.659Z"
   },
   {
    "duration": 8,
    "start_time": "2022-02-17T07:08:57.669Z"
   },
   {
    "duration": 18,
    "start_time": "2022-02-17T07:08:57.679Z"
   },
   {
    "duration": 8,
    "start_time": "2022-02-17T07:08:57.699Z"
   },
   {
    "duration": 69,
    "start_time": "2022-02-17T07:08:57.709Z"
   },
   {
    "duration": 29,
    "start_time": "2022-02-17T07:08:57.780Z"
   },
   {
    "duration": 11,
    "start_time": "2022-02-17T07:08:57.811Z"
   },
   {
    "duration": 45,
    "start_time": "2022-02-17T07:08:57.823Z"
   },
   {
    "duration": 11,
    "start_time": "2022-02-17T07:08:57.870Z"
   },
   {
    "duration": 21,
    "start_time": "2022-02-17T07:08:57.883Z"
   },
   {
    "duration": 28,
    "start_time": "2022-02-17T07:08:57.905Z"
   },
   {
    "duration": 23,
    "start_time": "2022-02-17T07:08:57.936Z"
   },
   {
    "duration": 16,
    "start_time": "2022-02-17T07:08:57.960Z"
   },
   {
    "duration": 19,
    "start_time": "2022-02-17T07:08:57.977Z"
   },
   {
    "duration": 22,
    "start_time": "2022-02-17T07:08:57.997Z"
   },
   {
    "duration": 15,
    "start_time": "2022-02-17T07:08:58.021Z"
   },
   {
    "duration": 70,
    "start_time": "2022-02-17T07:08:58.038Z"
   },
   {
    "duration": 24,
    "start_time": "2022-02-17T07:08:58.110Z"
   },
   {
    "duration": 32,
    "start_time": "2022-02-17T07:08:58.137Z"
   },
   {
    "duration": 21,
    "start_time": "2022-02-17T07:08:58.171Z"
   },
   {
    "duration": 20,
    "start_time": "2022-02-17T07:08:58.193Z"
   },
   {
    "duration": 43,
    "start_time": "2022-02-17T07:08:58.216Z"
   },
   {
    "duration": 57,
    "start_time": "2022-02-17T07:08:58.261Z"
   },
   {
    "duration": 49,
    "start_time": "2022-02-17T07:08:58.320Z"
   },
   {
    "duration": 23,
    "start_time": "2022-02-17T07:08:58.371Z"
   },
   {
    "duration": 29,
    "start_time": "2022-02-17T07:08:58.396Z"
   },
   {
    "duration": 15,
    "start_time": "2022-02-17T07:17:02.047Z"
   },
   {
    "duration": 16,
    "start_time": "2022-02-17T07:20:10.904Z"
   },
   {
    "duration": 1039,
    "start_time": "2022-02-17T07:20:55.854Z"
   },
   {
    "duration": 278,
    "start_time": "2022-02-17T07:20:56.895Z"
   },
   {
    "duration": 6,
    "start_time": "2022-02-17T07:20:57.175Z"
   },
   {
    "duration": 19,
    "start_time": "2022-02-17T07:20:57.183Z"
   },
   {
    "duration": 14,
    "start_time": "2022-02-17T07:20:57.204Z"
   },
   {
    "duration": 6,
    "start_time": "2022-02-17T07:20:57.220Z"
   },
   {
    "duration": 11,
    "start_time": "2022-02-17T07:20:57.227Z"
   },
   {
    "duration": 19,
    "start_time": "2022-02-17T07:20:57.241Z"
   },
   {
    "duration": 11,
    "start_time": "2022-02-17T07:20:57.262Z"
   },
   {
    "duration": 7,
    "start_time": "2022-02-17T07:20:57.274Z"
   },
   {
    "duration": 8,
    "start_time": "2022-02-17T07:20:57.283Z"
   },
   {
    "duration": 8,
    "start_time": "2022-02-17T07:20:57.293Z"
   },
   {
    "duration": 8,
    "start_time": "2022-02-17T07:20:57.303Z"
   },
   {
    "duration": 46,
    "start_time": "2022-02-17T07:20:57.313Z"
   },
   {
    "duration": 9,
    "start_time": "2022-02-17T07:20:57.361Z"
   },
   {
    "duration": 51,
    "start_time": "2022-02-17T07:20:57.371Z"
   },
   {
    "duration": 52,
    "start_time": "2022-02-17T07:20:57.424Z"
   },
   {
    "duration": 10,
    "start_time": "2022-02-17T07:20:57.477Z"
   },
   {
    "duration": 23,
    "start_time": "2022-02-17T07:20:57.489Z"
   },
   {
    "duration": 12,
    "start_time": "2022-02-17T07:20:57.513Z"
   },
   {
    "duration": 33,
    "start_time": "2022-02-17T07:20:57.527Z"
   },
   {
    "duration": 20,
    "start_time": "2022-02-17T07:20:57.562Z"
   },
   {
    "duration": 18,
    "start_time": "2022-02-17T07:20:57.585Z"
   },
   {
    "duration": 16,
    "start_time": "2022-02-17T07:20:57.605Z"
   },
   {
    "duration": 44,
    "start_time": "2022-02-17T07:20:57.623Z"
   },
   {
    "duration": 14,
    "start_time": "2022-02-17T07:20:57.668Z"
   },
   {
    "duration": 8,
    "start_time": "2022-02-17T07:20:57.683Z"
   },
   {
    "duration": 71,
    "start_time": "2022-02-17T07:20:57.693Z"
   },
   {
    "duration": 26,
    "start_time": "2022-02-17T07:20:57.766Z"
   },
   {
    "duration": 19,
    "start_time": "2022-02-17T07:20:57.793Z"
   },
   {
    "duration": 19,
    "start_time": "2022-02-17T07:20:57.814Z"
   },
   {
    "duration": 41,
    "start_time": "2022-02-17T07:20:57.835Z"
   },
   {
    "duration": 9,
    "start_time": "2022-02-17T07:20:57.878Z"
   },
   {
    "duration": 81,
    "start_time": "2022-02-17T07:20:57.889Z"
   },
   {
    "duration": 26,
    "start_time": "2022-02-17T07:20:57.972Z"
   },
   {
    "duration": 21,
    "start_time": "2022-02-17T07:20:58.000Z"
   },
   {
    "duration": 51,
    "start_time": "2022-02-17T07:20:58.022Z"
   },
   {
    "duration": 16,
    "start_time": "2022-02-17T07:20:58.075Z"
   },
   {
    "duration": 17,
    "start_time": "2022-02-17T07:22:42.182Z"
   },
   {
    "duration": 6,
    "start_time": "2022-02-17T07:26:49.644Z"
   },
   {
    "duration": 17,
    "start_time": "2022-02-17T07:26:55.388Z"
   },
   {
    "duration": 45,
    "start_time": "2022-02-17T07:27:38.416Z"
   },
   {
    "duration": 19,
    "start_time": "2022-02-17T07:27:46.276Z"
   },
   {
    "duration": 24,
    "start_time": "2022-02-17T07:30:36.110Z"
   },
   {
    "duration": 7,
    "start_time": "2022-02-17T07:35:48.830Z"
   },
   {
    "duration": 6,
    "start_time": "2022-02-17T07:35:57.503Z"
   },
   {
    "duration": 5136,
    "start_time": "2022-02-17T07:37:07.322Z"
   },
   {
    "duration": 22,
    "start_time": "2022-02-17T07:41:35.720Z"
   },
   {
    "duration": 1047,
    "start_time": "2022-02-17T07:43:32.534Z"
   },
   {
    "duration": 272,
    "start_time": "2022-02-17T07:43:33.583Z"
   },
   {
    "duration": 7,
    "start_time": "2022-02-17T07:43:33.857Z"
   },
   {
    "duration": 15,
    "start_time": "2022-02-17T07:43:33.866Z"
   },
   {
    "duration": 11,
    "start_time": "2022-02-17T07:43:33.883Z"
   },
   {
    "duration": 6,
    "start_time": "2022-02-17T07:43:33.895Z"
   },
   {
    "duration": 11,
    "start_time": "2022-02-17T07:43:33.902Z"
   },
   {
    "duration": 8,
    "start_time": "2022-02-17T07:43:33.915Z"
   },
   {
    "duration": 43,
    "start_time": "2022-02-17T07:43:33.925Z"
   },
   {
    "duration": 12,
    "start_time": "2022-02-17T07:43:33.970Z"
   },
   {
    "duration": 8,
    "start_time": "2022-02-17T07:43:33.984Z"
   },
   {
    "duration": 13,
    "start_time": "2022-02-17T07:43:33.994Z"
   },
   {
    "duration": 8,
    "start_time": "2022-02-17T07:43:34.009Z"
   },
   {
    "duration": 23,
    "start_time": "2022-02-17T07:43:34.018Z"
   },
   {
    "duration": 8,
    "start_time": "2022-02-17T07:43:34.059Z"
   },
   {
    "duration": 53,
    "start_time": "2022-02-17T07:43:34.069Z"
   },
   {
    "duration": 49,
    "start_time": "2022-02-17T07:43:34.124Z"
   },
   {
    "duration": 10,
    "start_time": "2022-02-17T07:43:34.174Z"
   },
   {
    "duration": 21,
    "start_time": "2022-02-17T07:43:34.186Z"
   },
   {
    "duration": 11,
    "start_time": "2022-02-17T07:43:34.209Z"
   },
   {
    "duration": 11,
    "start_time": "2022-02-17T07:43:34.221Z"
   },
   {
    "duration": 20,
    "start_time": "2022-02-17T07:43:34.259Z"
   },
   {
    "duration": 18,
    "start_time": "2022-02-17T07:43:34.282Z"
   },
   {
    "duration": 15,
    "start_time": "2022-02-17T07:43:34.302Z"
   },
   {
    "duration": 11,
    "start_time": "2022-02-17T07:43:34.318Z"
   },
   {
    "duration": 41,
    "start_time": "2022-02-17T07:43:34.330Z"
   },
   {
    "duration": 7,
    "start_time": "2022-02-17T07:43:34.373Z"
   },
   {
    "duration": 51,
    "start_time": "2022-02-17T07:43:34.381Z"
   },
   {
    "duration": 45,
    "start_time": "2022-02-17T07:43:34.434Z"
   },
   {
    "duration": 18,
    "start_time": "2022-02-17T07:43:34.481Z"
   },
   {
    "duration": 18,
    "start_time": "2022-02-17T07:43:34.500Z"
   },
   {
    "duration": 44,
    "start_time": "2022-02-17T07:43:34.520Z"
   },
   {
    "duration": 8,
    "start_time": "2022-02-17T07:43:34.566Z"
   },
   {
    "duration": 55,
    "start_time": "2022-02-17T07:43:34.576Z"
   },
   {
    "duration": 39,
    "start_time": "2022-02-17T07:43:34.633Z"
   },
   {
    "duration": 21,
    "start_time": "2022-02-17T07:43:34.673Z"
   },
   {
    "duration": 25,
    "start_time": "2022-02-17T07:43:34.696Z"
   },
   {
    "duration": 41,
    "start_time": "2022-02-17T07:43:34.723Z"
   },
   {
    "duration": 11,
    "start_time": "2022-02-17T07:43:34.766Z"
   },
   {
    "duration": 4,
    "start_time": "2022-02-17T07:43:34.778Z"
   },
   {
    "duration": 12,
    "start_time": "2022-02-17T07:43:34.784Z"
   },
   {
    "duration": 18,
    "start_time": "2022-02-17T07:43:34.798Z"
   },
   {
    "duration": 46,
    "start_time": "2022-02-17T07:43:34.818Z"
   },
   {
    "duration": 19,
    "start_time": "2022-02-17T07:43:34.865Z"
   },
   {
    "duration": 6,
    "start_time": "2022-02-17T07:43:34.885Z"
   },
   {
    "duration": 7,
    "start_time": "2022-02-17T07:43:34.892Z"
   },
   {
    "duration": 4995,
    "start_time": "2022-02-17T07:43:34.901Z"
   },
   {
    "duration": 5,
    "start_time": "2022-02-17T07:43:39.898Z"
   },
   {
    "duration": 47,
    "start_time": "2022-02-17T07:46:43.537Z"
   },
   {
    "duration": 25,
    "start_time": "2022-02-17T07:46:53.046Z"
   },
   {
    "duration": 21,
    "start_time": "2022-02-17T07:47:02.476Z"
   },
   {
    "duration": 28,
    "start_time": "2022-02-17T07:47:11.056Z"
   },
   {
    "duration": 11,
    "start_time": "2022-02-17T07:47:38.868Z"
   },
   {
    "duration": 4,
    "start_time": "2022-02-17T07:47:45.601Z"
   },
   {
    "duration": 12,
    "start_time": "2022-02-17T07:49:52.504Z"
   },
   {
    "duration": 16,
    "start_time": "2022-02-17T07:50:47.872Z"
   },
   {
    "duration": 13,
    "start_time": "2022-02-17T07:50:57.266Z"
   },
   {
    "duration": 14,
    "start_time": "2022-02-17T07:51:39.311Z"
   },
   {
    "duration": 19,
    "start_time": "2022-02-17T07:52:37.892Z"
   },
   {
    "duration": 4728,
    "start_time": "2022-02-17T07:58:29.208Z"
   },
   {
    "duration": 6,
    "start_time": "2022-02-17T07:59:11.907Z"
   },
   {
    "duration": 941,
    "start_time": "2022-02-17T08:00:47.912Z"
   },
   {
    "duration": 270,
    "start_time": "2022-02-17T08:00:48.855Z"
   },
   {
    "duration": 7,
    "start_time": "2022-02-17T08:00:49.127Z"
   },
   {
    "duration": 16,
    "start_time": "2022-02-17T08:00:49.136Z"
   },
   {
    "duration": 15,
    "start_time": "2022-02-17T08:00:49.158Z"
   },
   {
    "duration": 10,
    "start_time": "2022-02-17T08:00:49.175Z"
   },
   {
    "duration": 16,
    "start_time": "2022-02-17T08:00:49.187Z"
   },
   {
    "duration": 13,
    "start_time": "2022-02-17T08:00:49.205Z"
   },
   {
    "duration": 10,
    "start_time": "2022-02-17T08:00:49.220Z"
   },
   {
    "duration": 11,
    "start_time": "2022-02-17T08:00:49.231Z"
   },
   {
    "duration": 8,
    "start_time": "2022-02-17T08:00:49.260Z"
   },
   {
    "duration": 10,
    "start_time": "2022-02-17T08:00:49.269Z"
   },
   {
    "duration": 8,
    "start_time": "2022-02-17T08:00:49.281Z"
   },
   {
    "duration": 22,
    "start_time": "2022-02-17T08:00:49.290Z"
   },
   {
    "duration": 8,
    "start_time": "2022-02-17T08:00:49.314Z"
   },
   {
    "duration": 77,
    "start_time": "2022-02-17T08:00:49.324Z"
   },
   {
    "duration": 30,
    "start_time": "2022-02-17T08:00:49.403Z"
   },
   {
    "duration": 31,
    "start_time": "2022-02-17T08:00:49.435Z"
   },
   {
    "duration": 22,
    "start_time": "2022-02-17T08:00:49.468Z"
   },
   {
    "duration": 10,
    "start_time": "2022-02-17T08:00:49.491Z"
   },
   {
    "duration": 15,
    "start_time": "2022-02-17T08:00:49.503Z"
   },
   {
    "duration": 24,
    "start_time": "2022-02-17T08:00:49.519Z"
   },
   {
    "duration": 18,
    "start_time": "2022-02-17T08:00:49.561Z"
   },
   {
    "duration": 15,
    "start_time": "2022-02-17T08:00:49.580Z"
   },
   {
    "duration": 9,
    "start_time": "2022-02-17T08:00:49.597Z"
   },
   {
    "duration": 19,
    "start_time": "2022-02-17T08:00:49.607Z"
   },
   {
    "duration": 31,
    "start_time": "2022-02-17T08:00:49.628Z"
   },
   {
    "duration": 55,
    "start_time": "2022-02-17T08:00:49.661Z"
   },
   {
    "duration": 25,
    "start_time": "2022-02-17T08:00:49.717Z"
   },
   {
    "duration": 18,
    "start_time": "2022-02-17T08:00:49.759Z"
   },
   {
    "duration": 18,
    "start_time": "2022-02-17T08:00:49.779Z"
   },
   {
    "duration": 19,
    "start_time": "2022-02-17T08:00:49.799Z"
   },
   {
    "duration": 39,
    "start_time": "2022-02-17T08:00:49.820Z"
   },
   {
    "duration": 55,
    "start_time": "2022-02-17T08:00:49.861Z"
   },
   {
    "duration": 24,
    "start_time": "2022-02-17T08:00:49.917Z"
   },
   {
    "duration": 19,
    "start_time": "2022-02-17T08:00:49.960Z"
   },
   {
    "duration": 34,
    "start_time": "2022-02-17T08:00:49.981Z"
   },
   {
    "duration": 13,
    "start_time": "2022-02-17T08:00:50.016Z"
   },
   {
    "duration": 12,
    "start_time": "2022-02-17T08:00:50.030Z"
   },
   {
    "duration": 14,
    "start_time": "2022-02-17T08:00:50.059Z"
   },
   {
    "duration": 21,
    "start_time": "2022-02-17T08:00:50.074Z"
   },
   {
    "duration": 19,
    "start_time": "2022-02-17T08:00:50.097Z"
   },
   {
    "duration": 19,
    "start_time": "2022-02-17T08:00:50.117Z"
   },
   {
    "duration": 6,
    "start_time": "2022-02-17T08:00:50.160Z"
   },
   {
    "duration": 48,
    "start_time": "2022-02-17T08:00:50.167Z"
   },
   {
    "duration": 4949,
    "start_time": "2022-02-17T08:00:54.217Z"
   },
   {
    "duration": 21,
    "start_time": "2022-02-17T08:01:43.509Z"
   },
   {
    "duration": 5,
    "start_time": "2022-02-17T08:04:43.089Z"
   },
   {
    "duration": 19,
    "start_time": "2022-02-17T08:04:47.848Z"
   },
   {
    "duration": 237,
    "start_time": "2022-02-17T08:09:02.280Z"
   },
   {
    "duration": 11,
    "start_time": "2022-02-17T08:12:33.252Z"
   },
   {
    "duration": 11,
    "start_time": "2022-02-17T08:12:39.091Z"
   },
   {
    "duration": 233,
    "start_time": "2022-02-17T08:20:47.216Z"
   },
   {
    "duration": 20,
    "start_time": "2022-02-17T08:24:55.239Z"
   },
   {
    "duration": 167,
    "start_time": "2022-02-17T08:25:20.608Z"
   },
   {
    "duration": 52,
    "start_time": "2022-02-17T08:27:15.372Z"
   },
   {
    "duration": 58,
    "start_time": "2022-02-17T08:27:21.968Z"
   },
   {
    "duration": 199,
    "start_time": "2022-02-17T08:27:27.849Z"
   },
   {
    "duration": 209,
    "start_time": "2022-02-17T08:28:03.936Z"
   },
   {
    "duration": 256,
    "start_time": "2022-02-17T08:29:54.084Z"
   },
   {
    "duration": 11,
    "start_time": "2022-02-17T08:31:50.752Z"
   },
   {
    "duration": 11,
    "start_time": "2022-02-17T08:31:54.624Z"
   },
   {
    "duration": 250,
    "start_time": "2022-02-17T08:38:20.116Z"
   },
   {
    "duration": 21,
    "start_time": "2022-02-17T08:40:34.524Z"
   },
   {
    "duration": 271,
    "start_time": "2022-02-17T08:44:10.798Z"
   },
   {
    "duration": 206,
    "start_time": "2022-02-17T08:44:57.359Z"
   },
   {
    "duration": 201,
    "start_time": "2022-02-17T08:45:36.754Z"
   },
   {
    "duration": 266,
    "start_time": "2022-02-17T08:46:38.015Z"
   },
   {
    "duration": 235,
    "start_time": "2022-02-17T08:47:41.027Z"
   },
   {
    "duration": 11,
    "start_time": "2022-02-17T09:04:23.686Z"
   },
   {
    "duration": 11,
    "start_time": "2022-02-17T09:04:31.537Z"
   },
   {
    "duration": 255,
    "start_time": "2022-02-17T09:08:29.922Z"
   },
   {
    "duration": 20,
    "start_time": "2022-02-17T09:08:47.577Z"
   },
   {
    "duration": 206,
    "start_time": "2022-02-17T09:12:11.230Z"
   },
   {
    "duration": 246,
    "start_time": "2022-02-17T09:12:57.869Z"
   },
   {
    "duration": 242,
    "start_time": "2022-02-17T09:13:22.397Z"
   },
   {
    "duration": 11,
    "start_time": "2022-02-17T09:14:34.369Z"
   },
   {
    "duration": 12,
    "start_time": "2022-02-17T09:14:40.332Z"
   },
   {
    "duration": 258,
    "start_time": "2022-02-17T09:17:27.462Z"
   },
   {
    "duration": 22,
    "start_time": "2022-02-17T09:18:52.231Z"
   },
   {
    "duration": 209,
    "start_time": "2022-02-17T09:24:31.283Z"
   },
   {
    "duration": 11,
    "start_time": "2022-02-17T09:27:18.256Z"
   },
   {
    "duration": 22,
    "start_time": "2022-02-17T09:27:36.600Z"
   },
   {
    "duration": 11,
    "start_time": "2022-02-17T09:32:20.831Z"
   }
  ],
  "kernelspec": {
   "display_name": "Python 3 (ipykernel)",
   "language": "python",
   "name": "python3"
  },
  "language_info": {
   "codemirror_mode": {
    "name": "ipython",
    "version": 3
   },
   "file_extension": ".py",
   "mimetype": "text/x-python",
   "name": "python",
   "nbconvert_exporter": "python",
   "pygments_lexer": "ipython3",
   "version": "3.9.5"
  },
  "toc": {
   "base_numbering": 1,
   "nav_menu": {},
   "number_sections": true,
   "sideBar": true,
   "skip_h1_title": false,
   "title_cell": "Table of Contents",
   "title_sidebar": "Contents",
   "toc_cell": false,
   "toc_position": {
    "height": "calc(100% - 180px)",
    "left": "10px",
    "top": "150px",
    "width": "266px"
   },
   "toc_section_display": true,
   "toc_window_display": true
  }
 },
 "nbformat": 4,
 "nbformat_minor": 2
}
