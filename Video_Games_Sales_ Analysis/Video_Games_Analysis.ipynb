{
 "cells": [
  {
   "cell_type": "markdown",
   "metadata": {},
   "source": [
    "# Video games sales   "
   ]
  },
  {
   "cell_type": "markdown",
   "metadata": {},
   "source": [
    "We work for the online store Ice, which sells video games all over the world. User and expert reviews, genres, platforms (e.g. Xbox or PlayStation), and historical data on game sales are available from open sources. We need to identify patterns that determine success in sales, in order to identify potential big winners. This will allow the team to spot potential big winners and plan advertising campaigns.\n",
    "In front of us is data going back to 2016, to support planning for 2017.\n",
    "Data for 2016 may be incomplete.\n",
    "\n",
    "Project goal:\n",
    "\n",
    "**To identify patterns that determine success in sales, in order to identify potential big winners and plan accordingly** "
   ]
  },
  {
   "cell_type": "markdown",
   "metadata": {},
   "source": [
    "## Initialization and loading data "
   ]
  },
  {
   "cell_type": "code",
   "execution_count": 37,
   "metadata": {},
   "outputs": [],
   "source": [
    "# Loading all the libraries\n",
    "from scipy import stats as st\n",
    "import numpy as np\n",
    "import pandas as pd\n",
    "import matplotlib.pyplot as plt\n",
    "import math\n",
    "import warnings\n",
    "warnings.filterwarnings(\"ignore\")\n",
    "# pd.options.display.float_format = '{:.3f}'.format\n",
    "import seaborn as sns "
   ]
  },
  {
   "cell_type": "code",
   "execution_count": 38,
   "metadata": {},
   "outputs": [],
   "source": [
    "# Load the data file into a DataFrames\n",
    "games = pd.read_csv('/datasets/games.csv')"
   ]
  },
  {
   "cell_type": "markdown",
   "metadata": {},
   "source": [
    "## Preparing data "
   ]
  },
  {
   "cell_type": "code",
   "execution_count": 39,
   "metadata": {
    "scrolled": false
   },
   "outputs": [
    {
     "data": {
      "text/html": [
       "<div>\n",
       "<style scoped>\n",
       "    .dataframe tbody tr th:only-of-type {\n",
       "        vertical-align: middle;\n",
       "    }\n",
       "\n",
       "    .dataframe tbody tr th {\n",
       "        vertical-align: top;\n",
       "    }\n",
       "\n",
       "    .dataframe thead th {\n",
       "        text-align: right;\n",
       "    }\n",
       "</style>\n",
       "<table border=\"1\" class=\"dataframe\">\n",
       "  <thead>\n",
       "    <tr style=\"text-align: right;\">\n",
       "      <th></th>\n",
       "      <th>Name</th>\n",
       "      <th>Platform</th>\n",
       "      <th>Year_of_Release</th>\n",
       "      <th>Genre</th>\n",
       "      <th>NA_sales</th>\n",
       "      <th>EU_sales</th>\n",
       "      <th>JP_sales</th>\n",
       "      <th>Other_sales</th>\n",
       "      <th>Critic_Score</th>\n",
       "      <th>User_Score</th>\n",
       "      <th>Rating</th>\n",
       "    </tr>\n",
       "  </thead>\n",
       "  <tbody>\n",
       "    <tr>\n",
       "      <td>0</td>\n",
       "      <td>Wii Sports</td>\n",
       "      <td>Wii</td>\n",
       "      <td>2006.0</td>\n",
       "      <td>Sports</td>\n",
       "      <td>41.36</td>\n",
       "      <td>28.96</td>\n",
       "      <td>3.77</td>\n",
       "      <td>8.45</td>\n",
       "      <td>76.0</td>\n",
       "      <td>8</td>\n",
       "      <td>E</td>\n",
       "    </tr>\n",
       "    <tr>\n",
       "      <td>1</td>\n",
       "      <td>Super Mario Bros.</td>\n",
       "      <td>NES</td>\n",
       "      <td>1985.0</td>\n",
       "      <td>Platform</td>\n",
       "      <td>29.08</td>\n",
       "      <td>3.58</td>\n",
       "      <td>6.81</td>\n",
       "      <td>0.77</td>\n",
       "      <td>NaN</td>\n",
       "      <td>NaN</td>\n",
       "      <td>NaN</td>\n",
       "    </tr>\n",
       "    <tr>\n",
       "      <td>2</td>\n",
       "      <td>Mario Kart Wii</td>\n",
       "      <td>Wii</td>\n",
       "      <td>2008.0</td>\n",
       "      <td>Racing</td>\n",
       "      <td>15.68</td>\n",
       "      <td>12.76</td>\n",
       "      <td>3.79</td>\n",
       "      <td>3.29</td>\n",
       "      <td>82.0</td>\n",
       "      <td>8.3</td>\n",
       "      <td>E</td>\n",
       "    </tr>\n",
       "    <tr>\n",
       "      <td>3</td>\n",
       "      <td>Wii Sports Resort</td>\n",
       "      <td>Wii</td>\n",
       "      <td>2009.0</td>\n",
       "      <td>Sports</td>\n",
       "      <td>15.61</td>\n",
       "      <td>10.93</td>\n",
       "      <td>3.28</td>\n",
       "      <td>2.95</td>\n",
       "      <td>80.0</td>\n",
       "      <td>8</td>\n",
       "      <td>E</td>\n",
       "    </tr>\n",
       "    <tr>\n",
       "      <td>4</td>\n",
       "      <td>Pokemon Red/Pokemon Blue</td>\n",
       "      <td>GB</td>\n",
       "      <td>1996.0</td>\n",
       "      <td>Role-Playing</td>\n",
       "      <td>11.27</td>\n",
       "      <td>8.89</td>\n",
       "      <td>10.22</td>\n",
       "      <td>1.00</td>\n",
       "      <td>NaN</td>\n",
       "      <td>NaN</td>\n",
       "      <td>NaN</td>\n",
       "    </tr>\n",
       "  </tbody>\n",
       "</table>\n",
       "</div>"
      ],
      "text/plain": [
       "                       Name Platform  Year_of_Release         Genre  NA_sales  \\\n",
       "0                Wii Sports      Wii           2006.0        Sports     41.36   \n",
       "1         Super Mario Bros.      NES           1985.0      Platform     29.08   \n",
       "2            Mario Kart Wii      Wii           2008.0        Racing     15.68   \n",
       "3         Wii Sports Resort      Wii           2009.0        Sports     15.61   \n",
       "4  Pokemon Red/Pokemon Blue       GB           1996.0  Role-Playing     11.27   \n",
       "\n",
       "   EU_sales  JP_sales  Other_sales  Critic_Score User_Score Rating  \n",
       "0     28.96      3.77         8.45          76.0          8      E  \n",
       "1      3.58      6.81         0.77           NaN        NaN    NaN  \n",
       "2     12.76      3.79         3.29          82.0        8.3      E  \n",
       "3     10.93      3.28         2.95          80.0          8      E  \n",
       "4      8.89     10.22         1.00           NaN        NaN    NaN  "
      ]
     },
     "execution_count": 39,
     "metadata": {},
     "output_type": "execute_result"
    }
   ],
   "source": [
    "# view a sample of the data:\n",
    "games.head()"
   ]
  },
  {
   "cell_type": "code",
   "execution_count": 40,
   "metadata": {
    "scrolled": true
   },
   "outputs": [
    {
     "name": "stdout",
     "output_type": "stream",
     "text": [
      "<class 'pandas.core.frame.DataFrame'>\n",
      "RangeIndex: 16715 entries, 0 to 16714\n",
      "Data columns (total 11 columns):\n",
      "Name               16713 non-null object\n",
      "Platform           16715 non-null object\n",
      "Year_of_Release    16446 non-null float64\n",
      "Genre              16713 non-null object\n",
      "NA_sales           16715 non-null float64\n",
      "EU_sales           16715 non-null float64\n",
      "JP_sales           16715 non-null float64\n",
      "Other_sales        16715 non-null float64\n",
      "Critic_Score       8137 non-null float64\n",
      "User_Score         10014 non-null object\n",
      "Rating             9949 non-null object\n",
      "dtypes: float64(6), object(5)\n",
      "memory usage: 1.4+ MB\n"
     ]
    }
   ],
   "source": [
    "# general onfo of the data:\n",
    "games.info()"
   ]
  },
  {
   "cell_type": "code",
   "execution_count": 41,
   "metadata": {},
   "outputs": [
    {
     "data": {
      "text/plain": [
       "0"
      ]
     },
     "execution_count": 41,
     "metadata": {},
     "output_type": "execute_result"
    }
   ],
   "source": [
    "# checking for explicit duplicates: \n",
    "games.duplicated().sum()"
   ]
  },
  {
   "cell_type": "code",
   "execution_count": 42,
   "metadata": {},
   "outputs": [
    {
     "data": {
      "text/plain": [
       "Name                0.011965\n",
       "Platform            0.000000\n",
       "Year_of_Release     1.609333\n",
       "Genre               0.011965\n",
       "NA_sales            0.000000\n",
       "EU_sales            0.000000\n",
       "JP_sales            0.000000\n",
       "Other_sales         0.000000\n",
       "Critic_Score       51.319174\n",
       "User_Score         40.089740\n",
       "Rating             40.478612\n",
       "dtype: float64"
      ]
     },
     "execution_count": 42,
     "metadata": {},
     "output_type": "execute_result"
    }
   ],
   "source": [
    "# checking total share of values missing:\n",
    "games.isnull().sum()/ games.shape[0] * 100"
   ]
  },
  {
   "cell_type": "markdown",
   "metadata": {},
   "source": [
    "We have in total 11 columns and 16715 entries: totally full for Platform and all 4 sales columns (regions), 2 missing values for Name and Genre, and missing more values in other columns (especially reviews - more than half missing, and ESRB rating - 40% missing). Column names include upper case, and two columns (year_of_release and user_score ) need to change data type (into datetime and float). No explicit duplicates. "
   ]
  },
  {
   "cell_type": "markdown",
   "metadata": {},
   "source": [
    "\n",
    "### Replacing column names "
   ]
  },
  {
   "cell_type": "code",
   "execution_count": 43,
   "metadata": {},
   "outputs": [
    {
     "data": {
      "text/plain": [
       "Index(['name', 'platform', 'year_of_release', 'genre', 'na_sales', 'eu_sales',\n",
       "       'jp_sales', 'other_sales', 'critic_score', 'user_score', 'rating'],\n",
       "      dtype='object')"
      ]
     },
     "execution_count": 43,
     "metadata": {},
     "output_type": "execute_result"
    }
   ],
   "source": [
    "# replacing column names into lowercase:\n",
    "games.columns = games.columns.str.lower()\n",
    "games.columns"
   ]
  },
  {
   "cell_type": "markdown",
   "metadata": {},
   "source": [
    "### Converting data types"
   ]
  },
  {
   "cell_type": "markdown",
   "metadata": {},
   "source": [
    "While trying to covert 'user_score' into 'float' - we found that some of it's values are 'tbd' (to be decided). This prevented converting into float, and probably caused the column to be 'object' type. Let's check how many of these 'tbd' are there, and if there are other problematic values in this column: "
   ]
  },
  {
   "cell_type": "code",
   "execution_count": 44,
   "metadata": {
    "scrolled": true
   },
   "outputs": [
    {
     "data": {
      "text/plain": [
       "tbd    2424\n",
       "7.8     324\n",
       "8       290\n",
       "8.2     282\n",
       "8.3     254\n",
       "       ... \n",
       "0.7       2\n",
       "0.6       2\n",
       "1.5       2\n",
       "0         1\n",
       "9.7       1\n",
       "Name: user_score, Length: 96, dtype: int64"
      ]
     },
     "execution_count": 44,
     "metadata": {},
     "output_type": "execute_result"
    }
   ],
   "source": [
    "games['user_score'].value_counts()"
   ]
  },
  {
   "cell_type": "markdown",
   "metadata": {},
   "source": [
    "2424 'tbd' values in user_score. No other problematic values. We will turn them into NaN, which will allow converting the column into 'float' and make calculations. "
   ]
  },
  {
   "cell_type": "code",
   "execution_count": 45,
   "metadata": {
    "scrolled": true
   },
   "outputs": [
    {
     "data": {
      "text/plain": [
       "7.8    324\n",
       "8      290\n",
       "8.2    282\n",
       "8.3    254\n",
       "8.5    253\n",
       "      ... \n",
       "0.7      2\n",
       "0.6      2\n",
       "1.5      2\n",
       "0        1\n",
       "9.7      1\n",
       "Name: user_score, Length: 95, dtype: int64"
      ]
     },
     "execution_count": 45,
     "metadata": {},
     "output_type": "execute_result"
    }
   ],
   "source": [
    "# turning 'tbd' values into 'NaN:\n",
    "games['user_score'].replace({'tbd': np.nan}, inplace=True)\n",
    "games['user_score'].value_counts()"
   ]
  },
  {
   "cell_type": "markdown",
   "metadata": {},
   "source": [
    "Now we are ready to change the data types: "
   ]
  },
  {
   "cell_type": "code",
   "execution_count": 46,
   "metadata": {},
   "outputs": [
    {
     "name": "stdout",
     "output_type": "stream",
     "text": [
      "<class 'pandas.core.frame.DataFrame'>\n",
      "RangeIndex: 16715 entries, 0 to 16714\n",
      "Data columns (total 11 columns):\n",
      "name               16713 non-null object\n",
      "platform           16715 non-null object\n",
      "year_of_release    16446 non-null datetime64[ns]\n",
      "genre              16713 non-null object\n",
      "na_sales           16715 non-null float64\n",
      "eu_sales           16715 non-null float64\n",
      "jp_sales           16715 non-null float64\n",
      "other_sales        16715 non-null float64\n",
      "critic_score       8137 non-null float64\n",
      "user_score         7590 non-null float64\n",
      "rating             9949 non-null object\n",
      "dtypes: datetime64[ns](1), float64(6), object(4)\n",
      "memory usage: 1.4+ MB\n"
     ]
    }
   ],
   "source": [
    "# change the data type of 'year_of_release' into 'datetime', and of 'user_score' into 'float':\n",
    "games['year_of_release'] = pd.to_datetime(games['year_of_release'], format='%Y')\n",
    "games['user_score'] = games['user_score'].astype('float')\n",
    "games.info()"
   ]
  },
  {
   "cell_type": "markdown",
   "metadata": {},
   "source": [
    "### Missing values "
   ]
  },
  {
   "cell_type": "code",
   "execution_count": 47,
   "metadata": {
    "scrolled": true
   },
   "outputs": [
    {
     "data": {
      "text/plain": [
       "name                  2\n",
       "platform              0\n",
       "year_of_release     269\n",
       "genre                 2\n",
       "na_sales              0\n",
       "eu_sales              0\n",
       "jp_sales              0\n",
       "other_sales           0\n",
       "critic_score       8578\n",
       "user_score         9125\n",
       "rating             6766\n",
       "dtype: int64"
      ]
     },
     "execution_count": 47,
     "metadata": {},
     "output_type": "execute_result"
    }
   ],
   "source": [
    "# number of missing values in each column: \n",
    "games.isnull().sum()"
   ]
  },
  {
   "cell_type": "markdown",
   "metadata": {},
   "source": [
    "We have missing values in 5 columns, first we will check the 2 games with no name (and no genre, if they are the same 2): "
   ]
  },
  {
   "cell_type": "code",
   "execution_count": 48,
   "metadata": {
    "scrolled": true
   },
   "outputs": [
    {
     "data": {
      "text/html": [
       "<div>\n",
       "<style scoped>\n",
       "    .dataframe tbody tr th:only-of-type {\n",
       "        vertical-align: middle;\n",
       "    }\n",
       "\n",
       "    .dataframe tbody tr th {\n",
       "        vertical-align: top;\n",
       "    }\n",
       "\n",
       "    .dataframe thead th {\n",
       "        text-align: right;\n",
       "    }\n",
       "</style>\n",
       "<table border=\"1\" class=\"dataframe\">\n",
       "  <thead>\n",
       "    <tr style=\"text-align: right;\">\n",
       "      <th></th>\n",
       "      <th>name</th>\n",
       "      <th>platform</th>\n",
       "      <th>year_of_release</th>\n",
       "      <th>genre</th>\n",
       "      <th>na_sales</th>\n",
       "      <th>eu_sales</th>\n",
       "      <th>jp_sales</th>\n",
       "      <th>other_sales</th>\n",
       "      <th>critic_score</th>\n",
       "      <th>user_score</th>\n",
       "      <th>rating</th>\n",
       "    </tr>\n",
       "  </thead>\n",
       "  <tbody>\n",
       "    <tr>\n",
       "      <td>659</td>\n",
       "      <td>NaN</td>\n",
       "      <td>GEN</td>\n",
       "      <td>1993-01-01</td>\n",
       "      <td>NaN</td>\n",
       "      <td>1.78</td>\n",
       "      <td>0.53</td>\n",
       "      <td>0.00</td>\n",
       "      <td>0.08</td>\n",
       "      <td>NaN</td>\n",
       "      <td>NaN</td>\n",
       "      <td>NaN</td>\n",
       "    </tr>\n",
       "    <tr>\n",
       "      <td>14244</td>\n",
       "      <td>NaN</td>\n",
       "      <td>GEN</td>\n",
       "      <td>1993-01-01</td>\n",
       "      <td>NaN</td>\n",
       "      <td>0.00</td>\n",
       "      <td>0.00</td>\n",
       "      <td>0.03</td>\n",
       "      <td>0.00</td>\n",
       "      <td>NaN</td>\n",
       "      <td>NaN</td>\n",
       "      <td>NaN</td>\n",
       "    </tr>\n",
       "  </tbody>\n",
       "</table>\n",
       "</div>"
      ],
      "text/plain": [
       "      name platform year_of_release genre  na_sales  eu_sales  jp_sales  \\\n",
       "659    NaN      GEN      1993-01-01   NaN      1.78      0.53      0.00   \n",
       "14244  NaN      GEN      1993-01-01   NaN      0.00      0.00      0.03   \n",
       "\n",
       "       other_sales  critic_score  user_score rating  \n",
       "659           0.08           NaN         NaN    NaN  \n",
       "14244         0.00           NaN         NaN    NaN  "
      ]
     },
     "execution_count": 48,
     "metadata": {},
     "output_type": "execute_result"
    }
   ],
   "source": [
    "# checking the 2 games with missing name: \n",
    "games[games['name'].isnull() == True]"
   ]
  },
  {
   "cell_type": "markdown",
   "metadata": {},
   "source": [
    "Yes, it's the same two games without a name or a genre. They are both from 1993, which is quite a long time ago, so we feel safe to drop them from our data."
   ]
  },
  {
   "cell_type": "code",
   "execution_count": 49,
   "metadata": {
    "scrolled": true
   },
   "outputs": [
    {
     "name": "stdout",
     "output_type": "stream",
     "text": [
      "<class 'pandas.core.frame.DataFrame'>\n",
      "Int64Index: 16713 entries, 0 to 16714\n",
      "Data columns (total 11 columns):\n",
      "name               16713 non-null object\n",
      "platform           16713 non-null object\n",
      "year_of_release    16444 non-null datetime64[ns]\n",
      "genre              16713 non-null object\n",
      "na_sales           16713 non-null float64\n",
      "eu_sales           16713 non-null float64\n",
      "jp_sales           16713 non-null float64\n",
      "other_sales        16713 non-null float64\n",
      "critic_score       8137 non-null float64\n",
      "user_score         7590 non-null float64\n",
      "rating             9949 non-null object\n",
      "dtypes: datetime64[ns](1), float64(6), object(4)\n",
      "memory usage: 1.5+ MB\n"
     ]
    }
   ],
   "source": [
    "# drop the 2 rows with no name and genre, and checking we are down to 16713 entries: \n",
    "games = games[games['name'].isnull() == False]\n",
    "games.info()"
   ]
  },
  {
   "cell_type": "markdown",
   "metadata": {},
   "source": [
    "For the other columns with missing values:\n",
    "These rows do contain data that might be usefull - so we don't drop them here, but we will pay close attention in the analysis to their implications. See below. "
   ]
  },
  {
   "cell_type": "markdown",
   "metadata": {},
   "source": [
    "###  Calculating total sales "
   ]
  },
  {
   "cell_type": "code",
   "execution_count": 50,
   "metadata": {},
   "outputs": [
    {
     "data": {
      "text/html": [
       "<div>\n",
       "<style scoped>\n",
       "    .dataframe tbody tr th:only-of-type {\n",
       "        vertical-align: middle;\n",
       "    }\n",
       "\n",
       "    .dataframe tbody tr th {\n",
       "        vertical-align: top;\n",
       "    }\n",
       "\n",
       "    .dataframe thead th {\n",
       "        text-align: right;\n",
       "    }\n",
       "</style>\n",
       "<table border=\"1\" class=\"dataframe\">\n",
       "  <thead>\n",
       "    <tr style=\"text-align: right;\">\n",
       "      <th></th>\n",
       "      <th>name</th>\n",
       "      <th>platform</th>\n",
       "      <th>year_of_release</th>\n",
       "      <th>genre</th>\n",
       "      <th>na_sales</th>\n",
       "      <th>eu_sales</th>\n",
       "      <th>jp_sales</th>\n",
       "      <th>other_sales</th>\n",
       "      <th>critic_score</th>\n",
       "      <th>user_score</th>\n",
       "      <th>rating</th>\n",
       "      <th>total_sales</th>\n",
       "    </tr>\n",
       "  </thead>\n",
       "  <tbody>\n",
       "    <tr>\n",
       "      <td>0</td>\n",
       "      <td>Wii Sports</td>\n",
       "      <td>Wii</td>\n",
       "      <td>2006-01-01</td>\n",
       "      <td>Sports</td>\n",
       "      <td>41.36</td>\n",
       "      <td>28.96</td>\n",
       "      <td>3.77</td>\n",
       "      <td>8.45</td>\n",
       "      <td>76.0</td>\n",
       "      <td>8.0</td>\n",
       "      <td>E</td>\n",
       "      <td>82.54</td>\n",
       "    </tr>\n",
       "    <tr>\n",
       "      <td>1</td>\n",
       "      <td>Super Mario Bros.</td>\n",
       "      <td>NES</td>\n",
       "      <td>1985-01-01</td>\n",
       "      <td>Platform</td>\n",
       "      <td>29.08</td>\n",
       "      <td>3.58</td>\n",
       "      <td>6.81</td>\n",
       "      <td>0.77</td>\n",
       "      <td>NaN</td>\n",
       "      <td>NaN</td>\n",
       "      <td>NaN</td>\n",
       "      <td>40.24</td>\n",
       "    </tr>\n",
       "    <tr>\n",
       "      <td>2</td>\n",
       "      <td>Mario Kart Wii</td>\n",
       "      <td>Wii</td>\n",
       "      <td>2008-01-01</td>\n",
       "      <td>Racing</td>\n",
       "      <td>15.68</td>\n",
       "      <td>12.76</td>\n",
       "      <td>3.79</td>\n",
       "      <td>3.29</td>\n",
       "      <td>82.0</td>\n",
       "      <td>8.3</td>\n",
       "      <td>E</td>\n",
       "      <td>35.52</td>\n",
       "    </tr>\n",
       "    <tr>\n",
       "      <td>3</td>\n",
       "      <td>Wii Sports Resort</td>\n",
       "      <td>Wii</td>\n",
       "      <td>2009-01-01</td>\n",
       "      <td>Sports</td>\n",
       "      <td>15.61</td>\n",
       "      <td>10.93</td>\n",
       "      <td>3.28</td>\n",
       "      <td>2.95</td>\n",
       "      <td>80.0</td>\n",
       "      <td>8.0</td>\n",
       "      <td>E</td>\n",
       "      <td>32.77</td>\n",
       "    </tr>\n",
       "    <tr>\n",
       "      <td>4</td>\n",
       "      <td>Pokemon Red/Pokemon Blue</td>\n",
       "      <td>GB</td>\n",
       "      <td>1996-01-01</td>\n",
       "      <td>Role-Playing</td>\n",
       "      <td>11.27</td>\n",
       "      <td>8.89</td>\n",
       "      <td>10.22</td>\n",
       "      <td>1.00</td>\n",
       "      <td>NaN</td>\n",
       "      <td>NaN</td>\n",
       "      <td>NaN</td>\n",
       "      <td>31.38</td>\n",
       "    </tr>\n",
       "  </tbody>\n",
       "</table>\n",
       "</div>"
      ],
      "text/plain": [
       "                       name platform year_of_release         genre  na_sales  \\\n",
       "0                Wii Sports      Wii      2006-01-01        Sports     41.36   \n",
       "1         Super Mario Bros.      NES      1985-01-01      Platform     29.08   \n",
       "2            Mario Kart Wii      Wii      2008-01-01        Racing     15.68   \n",
       "3         Wii Sports Resort      Wii      2009-01-01        Sports     15.61   \n",
       "4  Pokemon Red/Pokemon Blue       GB      1996-01-01  Role-Playing     11.27   \n",
       "\n",
       "   eu_sales  jp_sales  other_sales  critic_score  user_score rating  \\\n",
       "0     28.96      3.77         8.45          76.0         8.0      E   \n",
       "1      3.58      6.81         0.77           NaN         NaN    NaN   \n",
       "2     12.76      3.79         3.29          82.0         8.3      E   \n",
       "3     10.93      3.28         2.95          80.0         8.0      E   \n",
       "4      8.89     10.22         1.00           NaN         NaN    NaN   \n",
       "\n",
       "   total_sales  \n",
       "0        82.54  \n",
       "1        40.24  \n",
       "2        35.52  \n",
       "3        32.77  \n",
       "4        31.38  "
      ]
     },
     "execution_count": 50,
     "metadata": {},
     "output_type": "execute_result"
    }
   ],
   "source": [
    "# adding a column with total sales:\n",
    "games['total_sales'] = games[['na_sales','eu_sales','jp_sales','other_sales']].sum(axis=1)\n",
    "games.head()"
   ]
  },
  {
   "cell_type": "markdown",
   "metadata": {},
   "source": [
    "Now we have the global sales of each game in a dedicated column"
   ]
  },
  {
   "cell_type": "markdown",
   "metadata": {},
   "source": [
    "## Analysis of data"
   ]
  },
  {
   "cell_type": "markdown",
   "metadata": {},
   "source": [
    "### Amount of games released every year "
   ]
  },
  {
   "cell_type": "markdown",
   "metadata": {},
   "source": [
    "As mentioned above - we will use here (and later whenever needed) only the data of games that do include the year. "
   ]
  },
  {
   "cell_type": "code",
   "execution_count": 51,
   "metadata": {},
   "outputs": [
    {
     "data": {
      "text/html": [
       "<div>\n",
       "<style scoped>\n",
       "    .dataframe tbody tr th:only-of-type {\n",
       "        vertical-align: middle;\n",
       "    }\n",
       "\n",
       "    .dataframe tbody tr th {\n",
       "        vertical-align: top;\n",
       "    }\n",
       "\n",
       "    .dataframe thead th {\n",
       "        text-align: right;\n",
       "    }\n",
       "</style>\n",
       "<table border=\"1\" class=\"dataframe\">\n",
       "  <thead>\n",
       "    <tr style=\"text-align: right;\">\n",
       "      <th></th>\n",
       "      <th>name</th>\n",
       "    </tr>\n",
       "    <tr>\n",
       "      <th>year_of_release</th>\n",
       "      <th></th>\n",
       "    </tr>\n",
       "  </thead>\n",
       "  <tbody>\n",
       "    <tr>\n",
       "      <td>1980</td>\n",
       "      <td>9</td>\n",
       "    </tr>\n",
       "    <tr>\n",
       "      <td>1981</td>\n",
       "      <td>46</td>\n",
       "    </tr>\n",
       "    <tr>\n",
       "      <td>1982</td>\n",
       "      <td>36</td>\n",
       "    </tr>\n",
       "    <tr>\n",
       "      <td>1983</td>\n",
       "      <td>17</td>\n",
       "    </tr>\n",
       "    <tr>\n",
       "      <td>1984</td>\n",
       "      <td>14</td>\n",
       "    </tr>\n",
       "    <tr>\n",
       "      <td>1985</td>\n",
       "      <td>14</td>\n",
       "    </tr>\n",
       "    <tr>\n",
       "      <td>1986</td>\n",
       "      <td>21</td>\n",
       "    </tr>\n",
       "    <tr>\n",
       "      <td>1987</td>\n",
       "      <td>16</td>\n",
       "    </tr>\n",
       "    <tr>\n",
       "      <td>1988</td>\n",
       "      <td>15</td>\n",
       "    </tr>\n",
       "    <tr>\n",
       "      <td>1989</td>\n",
       "      <td>17</td>\n",
       "    </tr>\n",
       "    <tr>\n",
       "      <td>1990</td>\n",
       "      <td>16</td>\n",
       "    </tr>\n",
       "    <tr>\n",
       "      <td>1991</td>\n",
       "      <td>41</td>\n",
       "    </tr>\n",
       "    <tr>\n",
       "      <td>1992</td>\n",
       "      <td>43</td>\n",
       "    </tr>\n",
       "    <tr>\n",
       "      <td>1993</td>\n",
       "      <td>60</td>\n",
       "    </tr>\n",
       "    <tr>\n",
       "      <td>1994</td>\n",
       "      <td>121</td>\n",
       "    </tr>\n",
       "    <tr>\n",
       "      <td>1995</td>\n",
       "      <td>219</td>\n",
       "    </tr>\n",
       "    <tr>\n",
       "      <td>1996</td>\n",
       "      <td>263</td>\n",
       "    </tr>\n",
       "    <tr>\n",
       "      <td>1997</td>\n",
       "      <td>289</td>\n",
       "    </tr>\n",
       "    <tr>\n",
       "      <td>1998</td>\n",
       "      <td>379</td>\n",
       "    </tr>\n",
       "    <tr>\n",
       "      <td>1999</td>\n",
       "      <td>338</td>\n",
       "    </tr>\n",
       "    <tr>\n",
       "      <td>2000</td>\n",
       "      <td>350</td>\n",
       "    </tr>\n",
       "    <tr>\n",
       "      <td>2001</td>\n",
       "      <td>482</td>\n",
       "    </tr>\n",
       "    <tr>\n",
       "      <td>2002</td>\n",
       "      <td>829</td>\n",
       "    </tr>\n",
       "    <tr>\n",
       "      <td>2003</td>\n",
       "      <td>775</td>\n",
       "    </tr>\n",
       "    <tr>\n",
       "      <td>2004</td>\n",
       "      <td>762</td>\n",
       "    </tr>\n",
       "    <tr>\n",
       "      <td>2005</td>\n",
       "      <td>939</td>\n",
       "    </tr>\n",
       "    <tr>\n",
       "      <td>2006</td>\n",
       "      <td>1006</td>\n",
       "    </tr>\n",
       "    <tr>\n",
       "      <td>2007</td>\n",
       "      <td>1197</td>\n",
       "    </tr>\n",
       "    <tr>\n",
       "      <td>2008</td>\n",
       "      <td>1427</td>\n",
       "    </tr>\n",
       "    <tr>\n",
       "      <td>2009</td>\n",
       "      <td>1426</td>\n",
       "    </tr>\n",
       "    <tr>\n",
       "      <td>2010</td>\n",
       "      <td>1255</td>\n",
       "    </tr>\n",
       "    <tr>\n",
       "      <td>2011</td>\n",
       "      <td>1136</td>\n",
       "    </tr>\n",
       "    <tr>\n",
       "      <td>2012</td>\n",
       "      <td>653</td>\n",
       "    </tr>\n",
       "    <tr>\n",
       "      <td>2013</td>\n",
       "      <td>544</td>\n",
       "    </tr>\n",
       "    <tr>\n",
       "      <td>2014</td>\n",
       "      <td>581</td>\n",
       "    </tr>\n",
       "    <tr>\n",
       "      <td>2015</td>\n",
       "      <td>606</td>\n",
       "    </tr>\n",
       "    <tr>\n",
       "      <td>2016</td>\n",
       "      <td>502</td>\n",
       "    </tr>\n",
       "  </tbody>\n",
       "</table>\n",
       "</div>"
      ],
      "text/plain": [
       "                 name\n",
       "year_of_release      \n",
       "1980                9\n",
       "1981               46\n",
       "1982               36\n",
       "1983               17\n",
       "1984               14\n",
       "1985               14\n",
       "1986               21\n",
       "1987               16\n",
       "1988               15\n",
       "1989               17\n",
       "1990               16\n",
       "1991               41\n",
       "1992               43\n",
       "1993               60\n",
       "1994              121\n",
       "1995              219\n",
       "1996              263\n",
       "1997              289\n",
       "1998              379\n",
       "1999              338\n",
       "2000              350\n",
       "2001              482\n",
       "2002              829\n",
       "2003              775\n",
       "2004              762\n",
       "2005              939\n",
       "2006             1006\n",
       "2007             1197\n",
       "2008             1427\n",
       "2009             1426\n",
       "2010             1255\n",
       "2011             1136\n",
       "2012              653\n",
       "2013              544\n",
       "2014              581\n",
       "2015              606\n",
       "2016              502"
      ]
     },
     "execution_count": 51,
     "metadata": {},
     "output_type": "execute_result"
    }
   ],
   "source": [
    "# how many games were released in different years:\n",
    "games_with_year = games[games['year_of_release'].isnull() == False]\n",
    "games_with_year['year_of_release'] = games_with_year['year_of_release'].dt.year\n",
    "games_per_year = games_with_year.pivot_table(index='year_of_release', values='name', aggfunc='count')\n",
    "games_per_year"
   ]
  },
  {
   "cell_type": "code",
   "execution_count": 52,
   "metadata": {
    "scrolled": false
   },
   "outputs": [
    {
     "data": {
      "image/png": "[encoded data removed]",
      "text/plain": [
       "<Figure size 864x576 with 1 Axes>"
      ]
     },
     "metadata": {
      "needs_background": "light"
     },
     "output_type": "display_data"
    }
   ],
   "source": [
    "# a graph:\n",
    "games_per_year.plot(kind='bar', grid=True, figsize=(12, 8))\n",
    "plt.title('Number of games released per year')\n",
    "plt.ylabel('Number of games released')\n",
    "plt.legend(['games'])\n",
    "plt.show;"
   ]
  },
  {
   "cell_type": "markdown",
   "metadata": {},
   "source": [
    "We see a very dynamic picture: the 80' are almost all below 22 games released each year (with two local peaks that dont continue, in '81-'82). The 90' have a gradual rise, with a peak of 379 in '98 and solid ~350 at the end of the dacade. The 2000' first dacade had a gradual steep jump to a peak of 1400+ in 2008-2009. Then comes a steep decline to 653 games released in 2012, and since numbers remain in the ~550-650 area (the 502 games in 2016 may be incomplete data)  "
   ]
  },
  {
   "cell_type": "markdown",
   "metadata": {},
   "source": [
    "### Total sales along the years "
   ]
  },
  {
   "cell_type": "code",
   "execution_count": 53,
   "metadata": {
    "scrolled": true
   },
   "outputs": [
    {
     "data": {
      "image/png": "[encoded data removed]",
      "text/plain": [
       "<Figure size 864x576 with 1 Axes>"
      ]
     },
     "metadata": {
      "needs_background": "light"
     },
     "output_type": "display_data"
    }
   ],
   "source": [
    "games_with_year.pivot_table(index='year_of_release', values='total_sales', aggfunc='sum').plot(\n",
    "    kind='bar', grid=True, figsize=(12, 8))\n",
    "plt.title('Total sales per year')\n",
    "plt.ylabel('Total sales (M$)')\n",
    "plt.legend(['sales'])\n",
    "plt.show;"
   ]
  },
  {
   "cell_type": "markdown",
   "metadata": {},
   "source": [
    "Global sales in milion USD show generally a similar dynamic to the one that was obderved in the number of games released each year. Dramatic peak in 2008-2009 (above 650M USD a year), then steep decline to 2012 (~350M USD), another decline 2013-2015 (2015 - ~270M USD), and 2016 may be misleading because of incomplete data. For 2016 situation - the trend seems to be less sales every year.   "
   ]
  },
  {
   "cell_type": "markdown",
   "metadata": {},
   "source": [
    "### Winning platforms & platform sales dynamics "
   ]
  },
  {
   "cell_type": "markdown",
   "metadata": {},
   "source": [
    "First let's look at total sales per platform for the whole period:"
   ]
  },
  {
   "cell_type": "code",
   "execution_count": 54,
   "metadata": {
    "scrolled": false
   },
   "outputs": [
    {
     "data": {
      "text/html": [
       "<div>\n",
       "<style scoped>\n",
       "    .dataframe tbody tr th:only-of-type {\n",
       "        vertical-align: middle;\n",
       "    }\n",
       "\n",
       "    .dataframe tbody tr th {\n",
       "        vertical-align: top;\n",
       "    }\n",
       "\n",
       "    .dataframe thead th {\n",
       "        text-align: right;\n",
       "    }\n",
       "</style>\n",
       "<table border=\"1\" class=\"dataframe\">\n",
       "  <thead>\n",
       "    <tr style=\"text-align: right;\">\n",
       "      <th></th>\n",
       "      <th>platform</th>\n",
       "      <th>total_sales</th>\n",
       "    </tr>\n",
       "  </thead>\n",
       "  <tbody>\n",
       "    <tr>\n",
       "      <td>0</td>\n",
       "      <td>PS2</td>\n",
       "      <td>1255.77</td>\n",
       "    </tr>\n",
       "    <tr>\n",
       "      <td>1</td>\n",
       "      <td>X360</td>\n",
       "      <td>971.42</td>\n",
       "    </tr>\n",
       "    <tr>\n",
       "      <td>2</td>\n",
       "      <td>PS3</td>\n",
       "      <td>939.65</td>\n",
       "    </tr>\n",
       "    <tr>\n",
       "      <td>3</td>\n",
       "      <td>Wii</td>\n",
       "      <td>907.51</td>\n",
       "    </tr>\n",
       "    <tr>\n",
       "      <td>4</td>\n",
       "      <td>DS</td>\n",
       "      <td>806.12</td>\n",
       "    </tr>\n",
       "    <tr>\n",
       "      <td>5</td>\n",
       "      <td>PS</td>\n",
       "      <td>730.86</td>\n",
       "    </tr>\n",
       "    <tr>\n",
       "      <td>6</td>\n",
       "      <td>GBA</td>\n",
       "      <td>317.85</td>\n",
       "    </tr>\n",
       "    <tr>\n",
       "      <td>7</td>\n",
       "      <td>PS4</td>\n",
       "      <td>314.14</td>\n",
       "    </tr>\n",
       "    <tr>\n",
       "      <td>8</td>\n",
       "      <td>PSP</td>\n",
       "      <td>294.05</td>\n",
       "    </tr>\n",
       "    <tr>\n",
       "      <td>9</td>\n",
       "      <td>PC</td>\n",
       "      <td>259.52</td>\n",
       "    </tr>\n",
       "    <tr>\n",
       "      <td>10</td>\n",
       "      <td>3DS</td>\n",
       "      <td>259.00</td>\n",
       "    </tr>\n",
       "    <tr>\n",
       "      <td>11</td>\n",
       "      <td>XB</td>\n",
       "      <td>257.74</td>\n",
       "    </tr>\n",
       "    <tr>\n",
       "      <td>12</td>\n",
       "      <td>GB</td>\n",
       "      <td>255.46</td>\n",
       "    </tr>\n",
       "    <tr>\n",
       "      <td>13</td>\n",
       "      <td>NES</td>\n",
       "      <td>251.05</td>\n",
       "    </tr>\n",
       "    <tr>\n",
       "      <td>14</td>\n",
       "      <td>N64</td>\n",
       "      <td>218.68</td>\n",
       "    </tr>\n",
       "    <tr>\n",
       "      <td>15</td>\n",
       "      <td>SNES</td>\n",
       "      <td>200.04</td>\n",
       "    </tr>\n",
       "    <tr>\n",
       "      <td>16</td>\n",
       "      <td>GC</td>\n",
       "      <td>198.93</td>\n",
       "    </tr>\n",
       "    <tr>\n",
       "      <td>17</td>\n",
       "      <td>XOne</td>\n",
       "      <td>159.32</td>\n",
       "    </tr>\n",
       "    <tr>\n",
       "      <td>18</td>\n",
       "      <td>2600</td>\n",
       "      <td>96.98</td>\n",
       "    </tr>\n",
       "    <tr>\n",
       "      <td>19</td>\n",
       "      <td>WiiU</td>\n",
       "      <td>82.19</td>\n",
       "    </tr>\n",
       "    <tr>\n",
       "      <td>20</td>\n",
       "      <td>PSV</td>\n",
       "      <td>54.07</td>\n",
       "    </tr>\n",
       "    <tr>\n",
       "      <td>21</td>\n",
       "      <td>SAT</td>\n",
       "      <td>33.59</td>\n",
       "    </tr>\n",
       "    <tr>\n",
       "      <td>22</td>\n",
       "      <td>GEN</td>\n",
       "      <td>28.35</td>\n",
       "    </tr>\n",
       "    <tr>\n",
       "      <td>23</td>\n",
       "      <td>DC</td>\n",
       "      <td>15.95</td>\n",
       "    </tr>\n",
       "    <tr>\n",
       "      <td>24</td>\n",
       "      <td>SCD</td>\n",
       "      <td>1.86</td>\n",
       "    </tr>\n",
       "    <tr>\n",
       "      <td>25</td>\n",
       "      <td>NG</td>\n",
       "      <td>1.44</td>\n",
       "    </tr>\n",
       "    <tr>\n",
       "      <td>26</td>\n",
       "      <td>WS</td>\n",
       "      <td>1.42</td>\n",
       "    </tr>\n",
       "    <tr>\n",
       "      <td>27</td>\n",
       "      <td>TG16</td>\n",
       "      <td>0.16</td>\n",
       "    </tr>\n",
       "    <tr>\n",
       "      <td>28</td>\n",
       "      <td>3DO</td>\n",
       "      <td>0.10</td>\n",
       "    </tr>\n",
       "    <tr>\n",
       "      <td>29</td>\n",
       "      <td>GG</td>\n",
       "      <td>0.04</td>\n",
       "    </tr>\n",
       "    <tr>\n",
       "      <td>30</td>\n",
       "      <td>PCFX</td>\n",
       "      <td>0.03</td>\n",
       "    </tr>\n",
       "  </tbody>\n",
       "</table>\n",
       "</div>"
      ],
      "text/plain": [
       "   platform  total_sales\n",
       "0       PS2      1255.77\n",
       "1      X360       971.42\n",
       "2       PS3       939.65\n",
       "3       Wii       907.51\n",
       "4        DS       806.12\n",
       "5        PS       730.86\n",
       "6       GBA       317.85\n",
       "7       PS4       314.14\n",
       "8       PSP       294.05\n",
       "9        PC       259.52\n",
       "10      3DS       259.00\n",
       "11       XB       257.74\n",
       "12       GB       255.46\n",
       "13      NES       251.05\n",
       "14      N64       218.68\n",
       "15     SNES       200.04\n",
       "16       GC       198.93\n",
       "17     XOne       159.32\n",
       "18     2600        96.98\n",
       "19     WiiU        82.19\n",
       "20      PSV        54.07\n",
       "21      SAT        33.59\n",
       "22      GEN        28.35\n",
       "23       DC        15.95\n",
       "24      SCD         1.86\n",
       "25       NG         1.44\n",
       "26       WS         1.42\n",
       "27     TG16         0.16\n",
       "28      3DO         0.10\n",
       "29       GG         0.04\n",
       "30     PCFX         0.03"
      ]
     },
     "execution_count": 54,
     "metadata": {},
     "output_type": "execute_result"
    }
   ],
   "source": [
    "# total sales per platform:\n",
    "platform_sales = games.pivot_table(index='platform', values='total_sales',\n",
    "                                   aggfunc='sum').sort_values(by='total_sales', ascending=False).reset_index()\n",
    "platform_sales"
   ]
  },
  {
   "cell_type": "markdown",
   "metadata": {},
   "source": [
    "For the whole period - 6 platforms have much higher total sales (730-1255 M USD each), while all the rest have less than 320 M USD. \n",
    "\n",
    "But does these platforms popularity remain the same along time ? \n",
    "Let's check for the top 6 here how high were their sales for each year:"
   ]
  },
  {
   "cell_type": "code",
   "execution_count": 55,
   "metadata": {
    "scrolled": true
   },
   "outputs": [
    {
     "data": {
      "text/html": [
       "<div>\n",
       "<style scoped>\n",
       "    .dataframe tbody tr th:only-of-type {\n",
       "        vertical-align: middle;\n",
       "    }\n",
       "\n",
       "    .dataframe tbody tr th {\n",
       "        vertical-align: top;\n",
       "    }\n",
       "\n",
       "    .dataframe thead th {\n",
       "        text-align: right;\n",
       "    }\n",
       "</style>\n",
       "<table border=\"1\" class=\"dataframe\">\n",
       "  <thead>\n",
       "    <tr style=\"text-align: right;\">\n",
       "      <th>year_of_release</th>\n",
       "      <th>1985</th>\n",
       "      <th>1994</th>\n",
       "      <th>1995</th>\n",
       "      <th>1996</th>\n",
       "      <th>1997</th>\n",
       "      <th>1998</th>\n",
       "      <th>1999</th>\n",
       "      <th>2000</th>\n",
       "      <th>2001</th>\n",
       "      <th>2002</th>\n",
       "      <th>...</th>\n",
       "      <th>2007</th>\n",
       "      <th>2008</th>\n",
       "      <th>2009</th>\n",
       "      <th>2010</th>\n",
       "      <th>2011</th>\n",
       "      <th>2012</th>\n",
       "      <th>2013</th>\n",
       "      <th>2014</th>\n",
       "      <th>2015</th>\n",
       "      <th>2016</th>\n",
       "    </tr>\n",
       "    <tr>\n",
       "      <th>platform</th>\n",
       "      <th></th>\n",
       "      <th></th>\n",
       "      <th></th>\n",
       "      <th></th>\n",
       "      <th></th>\n",
       "      <th></th>\n",
       "      <th></th>\n",
       "      <th></th>\n",
       "      <th></th>\n",
       "      <th></th>\n",
       "      <th></th>\n",
       "      <th></th>\n",
       "      <th></th>\n",
       "      <th></th>\n",
       "      <th></th>\n",
       "      <th></th>\n",
       "      <th></th>\n",
       "      <th></th>\n",
       "      <th></th>\n",
       "      <th></th>\n",
       "      <th></th>\n",
       "    </tr>\n",
       "  </thead>\n",
       "  <tbody>\n",
       "    <tr>\n",
       "      <td>DS</td>\n",
       "      <td>0.02</td>\n",
       "      <td>NaN</td>\n",
       "      <td>NaN</td>\n",
       "      <td>NaN</td>\n",
       "      <td>NaN</td>\n",
       "      <td>NaN</td>\n",
       "      <td>NaN</td>\n",
       "      <td>NaN</td>\n",
       "      <td>NaN</td>\n",
       "      <td>NaN</td>\n",
       "      <td>...</td>\n",
       "      <td>146.94</td>\n",
       "      <td>145.31</td>\n",
       "      <td>119.54</td>\n",
       "      <td>85.02</td>\n",
       "      <td>26.18</td>\n",
       "      <td>11.01</td>\n",
       "      <td>1.54</td>\n",
       "      <td>NaN</td>\n",
       "      <td>NaN</td>\n",
       "      <td>NaN</td>\n",
       "    </tr>\n",
       "    <tr>\n",
       "      <td>PS</td>\n",
       "      <td>NaN</td>\n",
       "      <td>6.03</td>\n",
       "      <td>35.96</td>\n",
       "      <td>94.7</td>\n",
       "      <td>136.17</td>\n",
       "      <td>169.49</td>\n",
       "      <td>144.53</td>\n",
       "      <td>96.37</td>\n",
       "      <td>35.59</td>\n",
       "      <td>6.67</td>\n",
       "      <td>...</td>\n",
       "      <td>NaN</td>\n",
       "      <td>NaN</td>\n",
       "      <td>NaN</td>\n",
       "      <td>NaN</td>\n",
       "      <td>NaN</td>\n",
       "      <td>NaN</td>\n",
       "      <td>NaN</td>\n",
       "      <td>NaN</td>\n",
       "      <td>NaN</td>\n",
       "      <td>NaN</td>\n",
       "    </tr>\n",
       "    <tr>\n",
       "      <td>PS2</td>\n",
       "      <td>NaN</td>\n",
       "      <td>NaN</td>\n",
       "      <td>NaN</td>\n",
       "      <td>NaN</td>\n",
       "      <td>NaN</td>\n",
       "      <td>NaN</td>\n",
       "      <td>NaN</td>\n",
       "      <td>39.17</td>\n",
       "      <td>166.43</td>\n",
       "      <td>205.38</td>\n",
       "      <td>...</td>\n",
       "      <td>75.99</td>\n",
       "      <td>53.90</td>\n",
       "      <td>26.40</td>\n",
       "      <td>5.64</td>\n",
       "      <td>0.45</td>\n",
       "      <td>NaN</td>\n",
       "      <td>NaN</td>\n",
       "      <td>NaN</td>\n",
       "      <td>NaN</td>\n",
       "      <td>NaN</td>\n",
       "    </tr>\n",
       "    <tr>\n",
       "      <td>PS3</td>\n",
       "      <td>NaN</td>\n",
       "      <td>NaN</td>\n",
       "      <td>NaN</td>\n",
       "      <td>NaN</td>\n",
       "      <td>NaN</td>\n",
       "      <td>NaN</td>\n",
       "      <td>NaN</td>\n",
       "      <td>NaN</td>\n",
       "      <td>NaN</td>\n",
       "      <td>NaN</td>\n",
       "      <td>...</td>\n",
       "      <td>73.19</td>\n",
       "      <td>118.52</td>\n",
       "      <td>130.93</td>\n",
       "      <td>142.17</td>\n",
       "      <td>156.78</td>\n",
       "      <td>107.36</td>\n",
       "      <td>113.25</td>\n",
       "      <td>47.76</td>\n",
       "      <td>16.82</td>\n",
       "      <td>3.60</td>\n",
       "    </tr>\n",
       "    <tr>\n",
       "      <td>Wii</td>\n",
       "      <td>NaN</td>\n",
       "      <td>NaN</td>\n",
       "      <td>NaN</td>\n",
       "      <td>NaN</td>\n",
       "      <td>NaN</td>\n",
       "      <td>NaN</td>\n",
       "      <td>NaN</td>\n",
       "      <td>NaN</td>\n",
       "      <td>NaN</td>\n",
       "      <td>NaN</td>\n",
       "      <td>...</td>\n",
       "      <td>152.77</td>\n",
       "      <td>171.32</td>\n",
       "      <td>206.97</td>\n",
       "      <td>127.95</td>\n",
       "      <td>59.65</td>\n",
       "      <td>21.71</td>\n",
       "      <td>8.59</td>\n",
       "      <td>3.75</td>\n",
       "      <td>1.14</td>\n",
       "      <td>0.18</td>\n",
       "    </tr>\n",
       "    <tr>\n",
       "      <td>X360</td>\n",
       "      <td>NaN</td>\n",
       "      <td>NaN</td>\n",
       "      <td>NaN</td>\n",
       "      <td>NaN</td>\n",
       "      <td>NaN</td>\n",
       "      <td>NaN</td>\n",
       "      <td>NaN</td>\n",
       "      <td>NaN</td>\n",
       "      <td>NaN</td>\n",
       "      <td>NaN</td>\n",
       "      <td>...</td>\n",
       "      <td>95.41</td>\n",
       "      <td>135.26</td>\n",
       "      <td>120.29</td>\n",
       "      <td>170.03</td>\n",
       "      <td>143.84</td>\n",
       "      <td>99.74</td>\n",
       "      <td>88.58</td>\n",
       "      <td>34.74</td>\n",
       "      <td>11.96</td>\n",
       "      <td>1.52</td>\n",
       "    </tr>\n",
       "  </tbody>\n",
       "</table>\n",
       "<p>6 rows × 24 columns</p>\n",
       "</div>"
      ],
      "text/plain": [
       "year_of_release  1985  1994   1995  1996    1997    1998    1999   2000  \\\n",
       "platform                                                                  \n",
       "DS               0.02   NaN    NaN   NaN     NaN     NaN     NaN    NaN   \n",
       "PS                NaN  6.03  35.96  94.7  136.17  169.49  144.53  96.37   \n",
       "PS2               NaN   NaN    NaN   NaN     NaN     NaN     NaN  39.17   \n",
       "PS3               NaN   NaN    NaN   NaN     NaN     NaN     NaN    NaN   \n",
       "Wii               NaN   NaN    NaN   NaN     NaN     NaN     NaN    NaN   \n",
       "X360              NaN   NaN    NaN   NaN     NaN     NaN     NaN    NaN   \n",
       "\n",
       "year_of_release    2001    2002  ...    2007    2008    2009    2010    2011  \\\n",
       "platform                         ...                                           \n",
       "DS                  NaN     NaN  ...  146.94  145.31  119.54   85.02   26.18   \n",
       "PS                35.59    6.67  ...     NaN     NaN     NaN     NaN     NaN   \n",
       "PS2              166.43  205.38  ...   75.99   53.90   26.40    5.64    0.45   \n",
       "PS3                 NaN     NaN  ...   73.19  118.52  130.93  142.17  156.78   \n",
       "Wii                 NaN     NaN  ...  152.77  171.32  206.97  127.95   59.65   \n",
       "X360                NaN     NaN  ...   95.41  135.26  120.29  170.03  143.84   \n",
       "\n",
       "year_of_release    2012    2013   2014   2015  2016  \n",
       "platform                                             \n",
       "DS                11.01    1.54    NaN    NaN   NaN  \n",
       "PS                  NaN     NaN    NaN    NaN   NaN  \n",
       "PS2                 NaN     NaN    NaN    NaN   NaN  \n",
       "PS3              107.36  113.25  47.76  16.82  3.60  \n",
       "Wii               21.71    8.59   3.75   1.14  0.18  \n",
       "X360              99.74   88.58  34.74  11.96  1.52  \n",
       "\n",
       "[6 rows x 24 columns]"
      ]
     },
     "execution_count": 55,
     "metadata": {},
     "output_type": "execute_result"
    }
   ],
   "source": [
    "# sales per year_of_release of the 6 best-selling platforms (above 700M$ sales)\n",
    "win_platforms = ['PS2', 'X360', 'PS3', 'Wii', 'DS', 'PS']\n",
    "games_win_platforms = games_with_year.query('platform in @win_platforms')\n",
    "sales_by_rel_year = games_win_platforms.pivot_table(index='platform', columns='year_of_release',\n",
    "                                                    values='total_sales', aggfunc='sum')\n",
    "sales_by_rel_year"
   ]
  },
  {
   "cell_type": "markdown",
   "metadata": {},
   "source": [
    "Again we see very dynamic data: \n",
    "\n",
    "Some platforms used to be very popular but now have zero sales (e.g. DS, PS, PS2). When we watch the timeline for these platforms - it seems it is around 10 years between when they appear and when they fade (e.g. PS2: 2000-2011).\n",
    "\n",
    "Obviously the 6 top platforms we took are no longer the most leading ones. Since we are most interested with the present situation and trend - we will check now 2015-2016 sales per platform (since 2016 data may be incomplete). "
   ]
  },
  {
   "cell_type": "code",
   "execution_count": 56,
   "metadata": {
    "scrolled": true
   },
   "outputs": [
    {
     "data": {
      "text/html": [
       "<div>\n",
       "<style scoped>\n",
       "    .dataframe tbody tr th:only-of-type {\n",
       "        vertical-align: middle;\n",
       "    }\n",
       "\n",
       "    .dataframe tbody tr th {\n",
       "        vertical-align: top;\n",
       "    }\n",
       "\n",
       "    .dataframe thead th {\n",
       "        text-align: right;\n",
       "    }\n",
       "</style>\n",
       "<table border=\"1\" class=\"dataframe\">\n",
       "  <thead>\n",
       "    <tr style=\"text-align: right;\">\n",
       "      <th></th>\n",
       "      <th>platform</th>\n",
       "      <th>total_sales</th>\n",
       "    </tr>\n",
       "  </thead>\n",
       "  <tbody>\n",
       "    <tr>\n",
       "      <td>0</td>\n",
       "      <td>PS4</td>\n",
       "      <td>188.15</td>\n",
       "    </tr>\n",
       "    <tr>\n",
       "      <td>1</td>\n",
       "      <td>XOne</td>\n",
       "      <td>86.29</td>\n",
       "    </tr>\n",
       "    <tr>\n",
       "      <td>2</td>\n",
       "      <td>3DS</td>\n",
       "      <td>42.92</td>\n",
       "    </tr>\n",
       "    <tr>\n",
       "      <td>3</td>\n",
       "      <td>WiiU</td>\n",
       "      <td>20.95</td>\n",
       "    </tr>\n",
       "    <tr>\n",
       "      <td>4</td>\n",
       "      <td>PS3</td>\n",
       "      <td>20.42</td>\n",
       "    </tr>\n",
       "    <tr>\n",
       "      <td>5</td>\n",
       "      <td>PC</td>\n",
       "      <td>13.77</td>\n",
       "    </tr>\n",
       "    <tr>\n",
       "      <td>6</td>\n",
       "      <td>X360</td>\n",
       "      <td>13.48</td>\n",
       "    </tr>\n",
       "    <tr>\n",
       "      <td>7</td>\n",
       "      <td>PSV</td>\n",
       "      <td>10.50</td>\n",
       "    </tr>\n",
       "    <tr>\n",
       "      <td>8</td>\n",
       "      <td>Wii</td>\n",
       "      <td>1.32</td>\n",
       "    </tr>\n",
       "    <tr>\n",
       "      <td>9</td>\n",
       "      <td>PSP</td>\n",
       "      <td>0.12</td>\n",
       "    </tr>\n",
       "  </tbody>\n",
       "</table>\n",
       "</div>"
      ],
      "text/plain": [
       "  platform  total_sales\n",
       "0      PS4       188.15\n",
       "1     XOne        86.29\n",
       "2      3DS        42.92\n",
       "3     WiiU        20.95\n",
       "4      PS3        20.42\n",
       "5       PC        13.77\n",
       "6     X360        13.48\n",
       "7      PSV        10.50\n",
       "8      Wii         1.32\n",
       "9      PSP         0.12"
      ]
     },
     "execution_count": 56,
     "metadata": {},
     "output_type": "execute_result"
    }
   ],
   "source": [
    "# 2015-2016 total sales per platform:\n",
    "platform_sales_now = games.query(\n",
    "    'year_of_release >= 2015').pivot_table(\n",
    "    index='platform', values='total_sales', aggfunc='sum').sort_values(\n",
    "    by='total_sales', ascending=False).reset_index()\n",
    "platform_sales_now"
   ]
  },
  {
   "cell_type": "markdown",
   "metadata": {},
   "source": [
    "Here we can see the leading platforms as of the present situation. But seeing the trend of each of those is also important - do their sales grow, remain stable, or decline each year? We will look at the last 5 years - following the picture we saw above - that 2012 and on presents a time unit with some resemblance (after the steep drop from 2009).   "
   ]
  },
  {
   "cell_type": "code",
   "execution_count": 57,
   "metadata": {
    "scrolled": true
   },
   "outputs": [
    {
     "data": {
      "text/html": [
       "<div>\n",
       "<style scoped>\n",
       "    .dataframe tbody tr th:only-of-type {\n",
       "        vertical-align: middle;\n",
       "    }\n",
       "\n",
       "    .dataframe tbody tr th {\n",
       "        vertical-align: top;\n",
       "    }\n",
       "\n",
       "    .dataframe thead th {\n",
       "        text-align: right;\n",
       "    }\n",
       "</style>\n",
       "<table border=\"1\" class=\"dataframe\">\n",
       "  <thead>\n",
       "    <tr style=\"text-align: right;\">\n",
       "      <th>year_of_release</th>\n",
       "      <th>2012</th>\n",
       "      <th>2013</th>\n",
       "      <th>2014</th>\n",
       "      <th>2015</th>\n",
       "      <th>2016</th>\n",
       "    </tr>\n",
       "    <tr>\n",
       "      <th>platform</th>\n",
       "      <th></th>\n",
       "      <th></th>\n",
       "      <th></th>\n",
       "      <th></th>\n",
       "      <th></th>\n",
       "    </tr>\n",
       "  </thead>\n",
       "  <tbody>\n",
       "    <tr>\n",
       "      <td>PS4</td>\n",
       "      <td>NaN</td>\n",
       "      <td>25.99</td>\n",
       "      <td>100.00</td>\n",
       "      <td>118.90</td>\n",
       "      <td>69.25</td>\n",
       "    </tr>\n",
       "    <tr>\n",
       "      <td>XOne</td>\n",
       "      <td>NaN</td>\n",
       "      <td>18.96</td>\n",
       "      <td>54.07</td>\n",
       "      <td>60.14</td>\n",
       "      <td>26.15</td>\n",
       "    </tr>\n",
       "    <tr>\n",
       "      <td>3DS</td>\n",
       "      <td>51.36</td>\n",
       "      <td>56.57</td>\n",
       "      <td>43.76</td>\n",
       "      <td>27.78</td>\n",
       "      <td>15.14</td>\n",
       "    </tr>\n",
       "    <tr>\n",
       "      <td>PC</td>\n",
       "      <td>23.22</td>\n",
       "      <td>12.38</td>\n",
       "      <td>13.28</td>\n",
       "      <td>8.52</td>\n",
       "      <td>5.25</td>\n",
       "    </tr>\n",
       "    <tr>\n",
       "      <td>WiiU</td>\n",
       "      <td>17.56</td>\n",
       "      <td>21.65</td>\n",
       "      <td>22.03</td>\n",
       "      <td>16.35</td>\n",
       "      <td>4.60</td>\n",
       "    </tr>\n",
       "    <tr>\n",
       "      <td>PSV</td>\n",
       "      <td>16.19</td>\n",
       "      <td>10.59</td>\n",
       "      <td>11.90</td>\n",
       "      <td>6.25</td>\n",
       "      <td>4.25</td>\n",
       "    </tr>\n",
       "    <tr>\n",
       "      <td>PS3</td>\n",
       "      <td>107.36</td>\n",
       "      <td>113.25</td>\n",
       "      <td>47.76</td>\n",
       "      <td>16.82</td>\n",
       "      <td>3.60</td>\n",
       "    </tr>\n",
       "    <tr>\n",
       "      <td>X360</td>\n",
       "      <td>99.74</td>\n",
       "      <td>88.58</td>\n",
       "      <td>34.74</td>\n",
       "      <td>11.96</td>\n",
       "      <td>1.52</td>\n",
       "    </tr>\n",
       "    <tr>\n",
       "      <td>Wii</td>\n",
       "      <td>21.71</td>\n",
       "      <td>8.59</td>\n",
       "      <td>3.75</td>\n",
       "      <td>1.14</td>\n",
       "      <td>0.18</td>\n",
       "    </tr>\n",
       "    <tr>\n",
       "      <td>DS</td>\n",
       "      <td>11.01</td>\n",
       "      <td>1.54</td>\n",
       "      <td>NaN</td>\n",
       "      <td>NaN</td>\n",
       "      <td>NaN</td>\n",
       "    </tr>\n",
       "    <tr>\n",
       "      <td>PSP</td>\n",
       "      <td>7.69</td>\n",
       "      <td>3.14</td>\n",
       "      <td>0.24</td>\n",
       "      <td>0.12</td>\n",
       "      <td>NaN</td>\n",
       "    </tr>\n",
       "  </tbody>\n",
       "</table>\n",
       "</div>"
      ],
      "text/plain": [
       "year_of_release    2012    2013    2014    2015   2016\n",
       "platform                                              \n",
       "PS4                 NaN   25.99  100.00  118.90  69.25\n",
       "XOne                NaN   18.96   54.07   60.14  26.15\n",
       "3DS               51.36   56.57   43.76   27.78  15.14\n",
       "PC                23.22   12.38   13.28    8.52   5.25\n",
       "WiiU              17.56   21.65   22.03   16.35   4.60\n",
       "PSV               16.19   10.59   11.90    6.25   4.25\n",
       "PS3              107.36  113.25   47.76   16.82   3.60\n",
       "X360              99.74   88.58   34.74   11.96   1.52\n",
       "Wii               21.71    8.59    3.75    1.14   0.18\n",
       "DS                11.01    1.54     NaN     NaN    NaN\n",
       "PSP                7.69    3.14    0.24    0.12    NaN"
      ]
     },
     "execution_count": 57,
     "metadata": {},
     "output_type": "execute_result"
    }
   ],
   "source": [
    "# 5Y sales per platform for each year:\n",
    "platform_sales_5y = games_with_year.query(\n",
    "    'year_of_release >= 2012').pivot_table(\n",
    "    index='platform', columns='year_of_release', values='total_sales', aggfunc='sum').sort_values(\n",
    "    by= 2016, ascending=False)\n",
    "platform_sales_5y"
   ]
  },
  {
   "cell_type": "markdown",
   "metadata": {},
   "source": [
    "Both top current leaders (PS4 and XOne) only appeared in 2013. PS4 leads constantly since 2014, and both are with growth untill 2015, much more dramatic in 2014 and much less in 2015 (2016 data may be incomplete). 3DS grew untill 2013, and since then is declining. These three platforms make together the big majority of 2015-1016 sales, all the rest showing much lower numbers in the last two years. Steep decline is seen for PS3 (replaced by PS4) and X360 (replaced by XOne) - both were the top leader platforms in 2012. Wii lost almost all it's sales during these years, and currently even WiiU (it's replacement) is on a decline trend. \n"
   ]
  },
  {
   "cell_type": "markdown",
   "metadata": {},
   "source": [
    "### Choosing time-span for analyzing reviews and genres (in relation with sales)   "
   ]
  },
  {
   "cell_type": "markdown",
   "metadata": {},
   "source": [
    "Before we analyze the relation between sales on the one hand and reviews and genres on the other hand - we need to choose for what time span to make the analysis. Between the consideration of \"more data - more reliable results\" and the need to be \"as relevant as possible\" - we will choose for this analysis to start with 2008: showing the highest peak of games sales and therfore maybe interesting in it's contribution to sales-reviews and sales-genre relations. \n",
    "\n",
    "First let's see the platforms picture for this time-span (in the middle between the whole period and the last 5Y)"
   ]
  },
  {
   "cell_type": "code",
   "execution_count": 58,
   "metadata": {},
   "outputs": [
    {
     "data": {
      "text/html": [
       "<div>\n",
       "<style scoped>\n",
       "    .dataframe tbody tr th:only-of-type {\n",
       "        vertical-align: middle;\n",
       "    }\n",
       "\n",
       "    .dataframe tbody tr th {\n",
       "        vertical-align: top;\n",
       "    }\n",
       "\n",
       "    .dataframe thead th {\n",
       "        text-align: right;\n",
       "    }\n",
       "</style>\n",
       "<table border=\"1\" class=\"dataframe\">\n",
       "  <thead>\n",
       "    <tr style=\"text-align: right;\">\n",
       "      <th></th>\n",
       "      <th>platform</th>\n",
       "      <th>total_sales</th>\n",
       "    </tr>\n",
       "  </thead>\n",
       "  <tbody>\n",
       "    <tr>\n",
       "      <td>0</td>\n",
       "      <td>PS3</td>\n",
       "      <td>837.19</td>\n",
       "    </tr>\n",
       "    <tr>\n",
       "      <td>1</td>\n",
       "      <td>X360</td>\n",
       "      <td>805.96</td>\n",
       "    </tr>\n",
       "    <tr>\n",
       "      <td>2</td>\n",
       "      <td>Wii</td>\n",
       "      <td>601.26</td>\n",
       "    </tr>\n",
       "    <tr>\n",
       "      <td>3</td>\n",
       "      <td>DS</td>\n",
       "      <td>388.60</td>\n",
       "    </tr>\n",
       "    <tr>\n",
       "      <td>4</td>\n",
       "      <td>PS4</td>\n",
       "      <td>314.14</td>\n",
       "    </tr>\n",
       "    <tr>\n",
       "      <td>5</td>\n",
       "      <td>3DS</td>\n",
       "      <td>257.81</td>\n",
       "    </tr>\n",
       "    <tr>\n",
       "      <td>6</td>\n",
       "      <td>XOne</td>\n",
       "      <td>159.32</td>\n",
       "    </tr>\n",
       "    <tr>\n",
       "      <td>7</td>\n",
       "      <td>PC</td>\n",
       "      <td>151.29</td>\n",
       "    </tr>\n",
       "    <tr>\n",
       "      <td>8</td>\n",
       "      <td>PSP</td>\n",
       "      <td>136.38</td>\n",
       "    </tr>\n",
       "    <tr>\n",
       "      <td>9</td>\n",
       "      <td>PS2</td>\n",
       "      <td>86.39</td>\n",
       "    </tr>\n",
       "    <tr>\n",
       "      <td>10</td>\n",
       "      <td>WiiU</td>\n",
       "      <td>82.19</td>\n",
       "    </tr>\n",
       "    <tr>\n",
       "      <td>11</td>\n",
       "      <td>PSV</td>\n",
       "      <td>53.81</td>\n",
       "    </tr>\n",
       "    <tr>\n",
       "      <td>12</td>\n",
       "      <td>XB</td>\n",
       "      <td>0.18</td>\n",
       "    </tr>\n",
       "    <tr>\n",
       "      <td>13</td>\n",
       "      <td>DC</td>\n",
       "      <td>0.04</td>\n",
       "    </tr>\n",
       "  </tbody>\n",
       "</table>\n",
       "</div>"
      ],
      "text/plain": [
       "   platform  total_sales\n",
       "0       PS3       837.19\n",
       "1      X360       805.96\n",
       "2       Wii       601.26\n",
       "3        DS       388.60\n",
       "4       PS4       314.14\n",
       "5       3DS       257.81\n",
       "6      XOne       159.32\n",
       "7        PC       151.29\n",
       "8       PSP       136.38\n",
       "9       PS2        86.39\n",
       "10     WiiU        82.19\n",
       "11      PSV        53.81\n",
       "12       XB         0.18\n",
       "13       DC         0.04"
      ]
     },
     "execution_count": 58,
     "metadata": {},
     "output_type": "execute_result"
    }
   ],
   "source": [
    "# slicing only from 2008 and on, and checking who are the leading platforms:\n",
    "games_since_2008 = games_with_year.query('year_of_release > 2007')\n",
    "platform_sales = games_since_2008.pivot_table(index='platform', values='total_sales',\n",
    "                                   aggfunc='sum').sort_values(by='total_sales', ascending=False).reset_index()\n",
    "platform_sales"
   ]
  },
  {
   "cell_type": "code",
   "execution_count": 59,
   "metadata": {
    "scrolled": true
   },
   "outputs": [
    {
     "data": {
      "image/png": "[encoded data removed]",
      "text/plain": [
       "<Figure size 864x576 with 1 Axes>"
      ]
     },
     "metadata": {
      "needs_background": "light"
     },
     "output_type": "display_data"
    }
   ],
   "source": [
    "# will choose the top 8 - above 150M$ since 2008 - boxplot of all games global sales \n",
    "win_platforms = ['PS4', 'X360', 'PS3', 'Wii', 'DS', '3DS', 'XOne', 'PC']\n",
    "games_win_platforms = games_since_2008.query('platform in @win_platforms')\n",
    "fig, ax = plt.subplots(figsize=(12, 8))    \n",
    "games_win_platforms.boxplot('total_sales', by='platform', ax = ax)\n",
    "plt.ylabel('Global sales (M$)')\n",
    "plt.ylim(0, 2)\n",
    "plt.show()  "
   ]
  },
  {
   "cell_type": "markdown",
   "metadata": {},
   "source": [
    "The graph shows clearly the leading position of the 5 platforms on the right - both in the median annual sales, and in the Q3 annual sales. "
   ]
  },
  {
   "cell_type": "markdown",
   "metadata": {},
   "source": [
    "### Reviews correlation with sales "
   ]
  },
  {
   "cell_type": "markdown",
   "metadata": {},
   "source": [
    "Can we find correlation between user and critic reviews on the one hand and sales on the other? for this analysis we will choose **X360** platform - one of the top leading platforms.  "
   ]
  },
  {
   "cell_type": "code",
   "execution_count": 60,
   "metadata": {},
   "outputs": [
    {
     "data": {
      "image/png": "[encoded data removed]",
      "text/plain": [
       "<Figure size 720x432 with 1 Axes>"
      ]
     },
     "metadata": {
      "needs_background": "light"
     },
     "output_type": "display_data"
    }
   ],
   "source": [
    "# correlation with user review \n",
    "X360 = games_since_2008.query('platform == \"X360\"')\n",
    "X360.plot(x='user_score', y='total_sales', kind='scatter', figsize=(10, 6), grid=True)\n",
    "plt.title('X360 game sales vs. user review')\n",
    "plt.show()"
   ]
  },
  {
   "cell_type": "code",
   "execution_count": 61,
   "metadata": {
    "scrolled": true
   },
   "outputs": [
    {
     "data": {
      "image/png": "[encoded data removed]",
      "text/plain": [
       "<Figure size 720x432 with 1 Axes>"
      ]
     },
     "metadata": {
      "needs_background": "light"
     },
     "output_type": "display_data"
    }
   ],
   "source": [
    "X360.plot(x='critic_score', y='total_sales', kind='scatter', figsize=(10, 6), grid=True)\n",
    "plt.title('X360 game sales vs. critic review')\n",
    "plt.show()"
   ]
  },
  {
   "cell_type": "markdown",
   "metadata": {},
   "source": [
    "While we do see some high sales with high scores - in both graphs we don't really see linear correlation. Let's check the corr numbers (Pearson coefficient):"
   ]
  },
  {
   "cell_type": "code",
   "execution_count": 62,
   "metadata": {
    "scrolled": true
   },
   "outputs": [
    {
     "data": {
      "text/html": [
       "<div>\n",
       "<style scoped>\n",
       "    .dataframe tbody tr th:only-of-type {\n",
       "        vertical-align: middle;\n",
       "    }\n",
       "\n",
       "    .dataframe tbody tr th {\n",
       "        vertical-align: top;\n",
       "    }\n",
       "\n",
       "    .dataframe thead th {\n",
       "        text-align: right;\n",
       "    }\n",
       "</style>\n",
       "<table border=\"1\" class=\"dataframe\">\n",
       "  <thead>\n",
       "    <tr style=\"text-align: right;\">\n",
       "      <th></th>\n",
       "      <th>total_sales</th>\n",
       "      <th>user_score</th>\n",
       "      <th>critic_score</th>\n",
       "    </tr>\n",
       "  </thead>\n",
       "  <tbody>\n",
       "    <tr>\n",
       "      <td>total_sales</td>\n",
       "      <td>1.000000</td>\n",
       "      <td>0.101101</td>\n",
       "      <td>0.388653</td>\n",
       "    </tr>\n",
       "    <tr>\n",
       "      <td>user_score</td>\n",
       "      <td>0.101101</td>\n",
       "      <td>1.000000</td>\n",
       "      <td>0.616848</td>\n",
       "    </tr>\n",
       "    <tr>\n",
       "      <td>critic_score</td>\n",
       "      <td>0.388653</td>\n",
       "      <td>0.616848</td>\n",
       "      <td>1.000000</td>\n",
       "    </tr>\n",
       "  </tbody>\n",
       "</table>\n",
       "</div>"
      ],
      "text/plain": [
       "              total_sales  user_score  critic_score\n",
       "total_sales      1.000000    0.101101      0.388653\n",
       "user_score       0.101101    1.000000      0.616848\n",
       "critic_score     0.388653    0.616848      1.000000"
      ]
     },
     "execution_count": 62,
     "metadata": {},
     "output_type": "execute_result"
    }
   ],
   "source": [
    "X360[['total_sales', 'user_score', 'critic_score']].corr()"
   ]
  },
  {
   "cell_type": "markdown",
   "metadata": {},
   "source": [
    "No meaningful linear correlation between score and sales. It is noteworthy that the difference does show that the weak correlation between critic scores and sales (corr 0.39) is almost 4 times bigger than the much weaker correlation between user scores and sales (corr only 0.1 - very weak). The correlation (0.62) between critic and user scores is interesting - but didn't translate to sales.\n",
    "\n",
    "Will the correlation picture look different when we look at the whole \"since 2008\" data?  "
   ]
  },
  {
   "cell_type": "code",
   "execution_count": 63,
   "metadata": {
    "scrolled": false
   },
   "outputs": [
    {
     "data": {
      "text/html": [
       "<div>\n",
       "<style scoped>\n",
       "    .dataframe tbody tr th:only-of-type {\n",
       "        vertical-align: middle;\n",
       "    }\n",
       "\n",
       "    .dataframe tbody tr th {\n",
       "        vertical-align: top;\n",
       "    }\n",
       "\n",
       "    .dataframe thead th {\n",
       "        text-align: right;\n",
       "    }\n",
       "</style>\n",
       "<table border=\"1\" class=\"dataframe\">\n",
       "  <thead>\n",
       "    <tr style=\"text-align: right;\">\n",
       "      <th></th>\n",
       "      <th>total_sales</th>\n",
       "      <th>user_score</th>\n",
       "      <th>critic_score</th>\n",
       "    </tr>\n",
       "  </thead>\n",
       "  <tbody>\n",
       "    <tr>\n",
       "      <td>total_sales</td>\n",
       "      <td>1.000000</td>\n",
       "      <td>0.084752</td>\n",
       "      <td>0.294131</td>\n",
       "    </tr>\n",
       "    <tr>\n",
       "      <td>user_score</td>\n",
       "      <td>0.084752</td>\n",
       "      <td>1.000000</td>\n",
       "      <td>0.569836</td>\n",
       "    </tr>\n",
       "    <tr>\n",
       "      <td>critic_score</td>\n",
       "      <td>0.294131</td>\n",
       "      <td>0.569836</td>\n",
       "      <td>1.000000</td>\n",
       "    </tr>\n",
       "  </tbody>\n",
       "</table>\n",
       "</div>"
      ],
      "text/plain": [
       "              total_sales  user_score  critic_score\n",
       "total_sales      1.000000    0.084752      0.294131\n",
       "user_score       0.084752    1.000000      0.569836\n",
       "critic_score     0.294131    0.569836      1.000000"
      ]
     },
     "execution_count": 63,
     "metadata": {},
     "output_type": "execute_result"
    }
   ],
   "source": [
    "games_since_2008[['total_sales', 'user_score', 'critic_score']].corr()"
   ]
  },
  {
   "cell_type": "markdown",
   "metadata": {},
   "source": [
    "No, same picture. No linear correlation between reviews and sales. "
   ]
  },
  {
   "cell_type": "markdown",
   "metadata": {},
   "source": [
    "### Profitable genres"
   ]
  },
  {
   "cell_type": "markdown",
   "metadata": {},
   "source": [
    "Which genres are most profitable? "
   ]
  },
  {
   "cell_type": "code",
   "execution_count": 64,
   "metadata": {
    "scrolled": true
   },
   "outputs": [
    {
     "data": {
      "text/html": [
       "<div>\n",
       "<style scoped>\n",
       "    .dataframe tbody tr th:only-of-type {\n",
       "        vertical-align: middle;\n",
       "    }\n",
       "\n",
       "    .dataframe tbody tr th {\n",
       "        vertical-align: top;\n",
       "    }\n",
       "\n",
       "    .dataframe thead th {\n",
       "        text-align: right;\n",
       "    }\n",
       "</style>\n",
       "<table border=\"1\" class=\"dataframe\">\n",
       "  <thead>\n",
       "    <tr style=\"text-align: right;\">\n",
       "      <th></th>\n",
       "      <th>count</th>\n",
       "      <th>mean</th>\n",
       "      <th>sum</th>\n",
       "    </tr>\n",
       "    <tr>\n",
       "      <th>genre</th>\n",
       "      <th></th>\n",
       "      <th></th>\n",
       "      <th></th>\n",
       "    </tr>\n",
       "  </thead>\n",
       "  <tbody>\n",
       "    <tr>\n",
       "      <td>Action</td>\n",
       "      <td>1988</td>\n",
       "      <td>0.475724</td>\n",
       "      <td>945.74</td>\n",
       "    </tr>\n",
       "    <tr>\n",
       "      <td>Shooter</td>\n",
       "      <td>583</td>\n",
       "      <td>1.043208</td>\n",
       "      <td>608.19</td>\n",
       "    </tr>\n",
       "    <tr>\n",
       "      <td>Sports</td>\n",
       "      <td>958</td>\n",
       "      <td>0.584906</td>\n",
       "      <td>560.34</td>\n",
       "    </tr>\n",
       "    <tr>\n",
       "      <td>Role-Playing</td>\n",
       "      <td>783</td>\n",
       "      <td>0.538404</td>\n",
       "      <td>421.57</td>\n",
       "    </tr>\n",
       "    <tr>\n",
       "      <td>Misc</td>\n",
       "      <td>994</td>\n",
       "      <td>0.398823</td>\n",
       "      <td>396.43</td>\n",
       "    </tr>\n",
       "    <tr>\n",
       "      <td>Racing</td>\n",
       "      <td>403</td>\n",
       "      <td>0.561811</td>\n",
       "      <td>226.41</td>\n",
       "    </tr>\n",
       "    <tr>\n",
       "      <td>Platform</td>\n",
       "      <td>244</td>\n",
       "      <td>0.800738</td>\n",
       "      <td>195.38</td>\n",
       "    </tr>\n",
       "    <tr>\n",
       "      <td>Simulation</td>\n",
       "      <td>459</td>\n",
       "      <td>0.328497</td>\n",
       "      <td>150.78</td>\n",
       "    </tr>\n",
       "    <tr>\n",
       "      <td>Fighting</td>\n",
       "      <td>308</td>\n",
       "      <td>0.482175</td>\n",
       "      <td>148.51</td>\n",
       "    </tr>\n",
       "    <tr>\n",
       "      <td>Adventure</td>\n",
       "      <td>869</td>\n",
       "      <td>0.121818</td>\n",
       "      <td>105.86</td>\n",
       "    </tr>\n",
       "    <tr>\n",
       "      <td>Strategy</td>\n",
       "      <td>284</td>\n",
       "      <td>0.210317</td>\n",
       "      <td>59.73</td>\n",
       "    </tr>\n",
       "    <tr>\n",
       "      <td>Puzzle</td>\n",
       "      <td>257</td>\n",
       "      <td>0.216420</td>\n",
       "      <td>55.62</td>\n",
       "    </tr>\n",
       "  </tbody>\n",
       "</table>\n",
       "</div>"
      ],
      "text/plain": [
       "              count      mean     sum\n",
       "genre                                \n",
       "Action         1988  0.475724  945.74\n",
       "Shooter         583  1.043208  608.19\n",
       "Sports          958  0.584906  560.34\n",
       "Role-Playing    783  0.538404  421.57\n",
       "Misc            994  0.398823  396.43\n",
       "Racing          403  0.561811  226.41\n",
       "Platform        244  0.800738  195.38\n",
       "Simulation      459  0.328497  150.78\n",
       "Fighting        308  0.482175  148.51\n",
       "Adventure       869  0.121818  105.86\n",
       "Strategy        284  0.210317   59.73\n",
       "Puzzle          257  0.216420   55.62"
      ]
     },
     "execution_count": 64,
     "metadata": {},
     "output_type": "execute_result"
    }
   ],
   "source": [
    "genre_table = games_since_2008.pivot_table(\n",
    "    index='genre', values='total_sales', aggfunc=(\n",
    "        'count', 'sum', 'mean')).sort_values(by='sum', ascending=False)\n",
    "genre_table"
   ]
  },
  {
   "cell_type": "markdown",
   "metadata": {},
   "source": [
    "Looking since 2008, clearly 4 genres (Action, Shooter, Sports and Role-Playing) bring most of the sales. The total highest sales come from Action (more than 55% more than the socond one, Shooter), but it's mean sales-per-game is less than half (!) of Shooter, and it's very high sales come also from the biggest number of games (more than 3 times the Shotter number of games).\n",
    "\n",
    "Again, let's check the changes over time - to see the trends: "
   ]
  },
  {
   "cell_type": "code",
   "execution_count": 65,
   "metadata": {
    "scrolled": true
   },
   "outputs": [
    {
     "data": {
      "text/html": [
       "<div>\n",
       "<style scoped>\n",
       "    .dataframe tbody tr th:only-of-type {\n",
       "        vertical-align: middle;\n",
       "    }\n",
       "\n",
       "    .dataframe tbody tr th {\n",
       "        vertical-align: top;\n",
       "    }\n",
       "\n",
       "    .dataframe thead th {\n",
       "        text-align: right;\n",
       "    }\n",
       "</style>\n",
       "<table border=\"1\" class=\"dataframe\">\n",
       "  <thead>\n",
       "    <tr style=\"text-align: right;\">\n",
       "      <th>year_of_release</th>\n",
       "      <th>2008</th>\n",
       "      <th>2009</th>\n",
       "      <th>2010</th>\n",
       "      <th>2011</th>\n",
       "      <th>2012</th>\n",
       "      <th>2013</th>\n",
       "      <th>2014</th>\n",
       "      <th>2015</th>\n",
       "      <th>2016</th>\n",
       "    </tr>\n",
       "    <tr>\n",
       "      <th>genre</th>\n",
       "      <th></th>\n",
       "      <th></th>\n",
       "      <th></th>\n",
       "      <th></th>\n",
       "      <th></th>\n",
       "      <th></th>\n",
       "      <th></th>\n",
       "      <th></th>\n",
       "      <th></th>\n",
       "    </tr>\n",
       "  </thead>\n",
       "  <tbody>\n",
       "    <tr>\n",
       "      <td>Shooter</td>\n",
       "      <td>59.16</td>\n",
       "      <td>69.29</td>\n",
       "      <td>76.83</td>\n",
       "      <td>98.18</td>\n",
       "      <td>71.75</td>\n",
       "      <td>62.04</td>\n",
       "      <td>65.21</td>\n",
       "      <td>67.51</td>\n",
       "      <td>38.22</td>\n",
       "    </tr>\n",
       "    <tr>\n",
       "      <td>Action</td>\n",
       "      <td>134.96</td>\n",
       "      <td>137.69</td>\n",
       "      <td>115.29</td>\n",
       "      <td>116.68</td>\n",
       "      <td>119.25</td>\n",
       "      <td>122.51</td>\n",
       "      <td>97.23</td>\n",
       "      <td>72.02</td>\n",
       "      <td>30.11</td>\n",
       "    </tr>\n",
       "    <tr>\n",
       "      <td>Sports</td>\n",
       "      <td>94.58</td>\n",
       "      <td>137.37</td>\n",
       "      <td>91.24</td>\n",
       "      <td>56.08</td>\n",
       "      <td>30.42</td>\n",
       "      <td>41.17</td>\n",
       "      <td>45.15</td>\n",
       "      <td>40.84</td>\n",
       "      <td>23.49</td>\n",
       "    </tr>\n",
       "    <tr>\n",
       "      <td>Role-Playing</td>\n",
       "      <td>58.98</td>\n",
       "      <td>47.31</td>\n",
       "      <td>69.65</td>\n",
       "      <td>52.83</td>\n",
       "      <td>46.91</td>\n",
       "      <td>44.45</td>\n",
       "      <td>45.62</td>\n",
       "      <td>37.64</td>\n",
       "      <td>18.18</td>\n",
       "    </tr>\n",
       "    <tr>\n",
       "      <td>Fighting</td>\n",
       "      <td>35.02</td>\n",
       "      <td>31.90</td>\n",
       "      <td>14.69</td>\n",
       "      <td>22.41</td>\n",
       "      <td>9.18</td>\n",
       "      <td>7.09</td>\n",
       "      <td>15.85</td>\n",
       "      <td>7.90</td>\n",
       "      <td>4.47</td>\n",
       "    </tr>\n",
       "    <tr>\n",
       "      <td>Adventure</td>\n",
       "      <td>24.63</td>\n",
       "      <td>20.23</td>\n",
       "      <td>15.96</td>\n",
       "      <td>15.61</td>\n",
       "      <td>5.79</td>\n",
       "      <td>6.09</td>\n",
       "      <td>5.57</td>\n",
       "      <td>8.16</td>\n",
       "      <td>3.82</td>\n",
       "    </tr>\n",
       "    <tr>\n",
       "      <td>Platform</td>\n",
       "      <td>35.13</td>\n",
       "      <td>40.53</td>\n",
       "      <td>31.04</td>\n",
       "      <td>27.68</td>\n",
       "      <td>18.37</td>\n",
       "      <td>24.54</td>\n",
       "      <td>8.81</td>\n",
       "      <td>6.05</td>\n",
       "      <td>3.23</td>\n",
       "    </tr>\n",
       "    <tr>\n",
       "      <td>Racing</td>\n",
       "      <td>70.04</td>\n",
       "      <td>33.69</td>\n",
       "      <td>34.37</td>\n",
       "      <td>34.81</td>\n",
       "      <td>13.61</td>\n",
       "      <td>12.37</td>\n",
       "      <td>16.66</td>\n",
       "      <td>8.07</td>\n",
       "      <td>2.79</td>\n",
       "    </tr>\n",
       "    <tr>\n",
       "      <td>Misc</td>\n",
       "      <td>86.06</td>\n",
       "      <td>75.81</td>\n",
       "      <td>95.14</td>\n",
       "      <td>54.38</td>\n",
       "      <td>22.22</td>\n",
       "      <td>25.27</td>\n",
       "      <td>23.38</td>\n",
       "      <td>11.57</td>\n",
       "      <td>2.60</td>\n",
       "    </tr>\n",
       "    <tr>\n",
       "      <td>Simulation</td>\n",
       "      <td>46.11</td>\n",
       "      <td>32.92</td>\n",
       "      <td>21.49</td>\n",
       "      <td>15.14</td>\n",
       "      <td>13.36</td>\n",
       "      <td>8.63</td>\n",
       "      <td>5.58</td>\n",
       "      <td>5.66</td>\n",
       "      <td>1.89</td>\n",
       "    </tr>\n",
       "    <tr>\n",
       "      <td>Strategy</td>\n",
       "      <td>11.60</td>\n",
       "      <td>12.29</td>\n",
       "      <td>13.68</td>\n",
       "      <td>8.82</td>\n",
       "      <td>3.26</td>\n",
       "      <td>6.12</td>\n",
       "      <td>0.98</td>\n",
       "      <td>1.85</td>\n",
       "      <td>1.13</td>\n",
       "    </tr>\n",
       "    <tr>\n",
       "      <td>Puzzle</td>\n",
       "      <td>15.23</td>\n",
       "      <td>19.79</td>\n",
       "      <td>10.75</td>\n",
       "      <td>4.96</td>\n",
       "      <td>1.72</td>\n",
       "      <td>0.96</td>\n",
       "      <td>1.49</td>\n",
       "      <td>0.71</td>\n",
       "      <td>0.01</td>\n",
       "    </tr>\n",
       "  </tbody>\n",
       "</table>\n",
       "</div>"
      ],
      "text/plain": [
       "year_of_release    2008    2009    2010    2011    2012    2013   2014   2015  \\\n",
       "genre                                                                           \n",
       "Shooter           59.16   69.29   76.83   98.18   71.75   62.04  65.21  67.51   \n",
       "Action           134.96  137.69  115.29  116.68  119.25  122.51  97.23  72.02   \n",
       "Sports            94.58  137.37   91.24   56.08   30.42   41.17  45.15  40.84   \n",
       "Role-Playing      58.98   47.31   69.65   52.83   46.91   44.45  45.62  37.64   \n",
       "Fighting          35.02   31.90   14.69   22.41    9.18    7.09  15.85   7.90   \n",
       "Adventure         24.63   20.23   15.96   15.61    5.79    6.09   5.57   8.16   \n",
       "Platform          35.13   40.53   31.04   27.68   18.37   24.54   8.81   6.05   \n",
       "Racing            70.04   33.69   34.37   34.81   13.61   12.37  16.66   8.07   \n",
       "Misc              86.06   75.81   95.14   54.38   22.22   25.27  23.38  11.57   \n",
       "Simulation        46.11   32.92   21.49   15.14   13.36    8.63   5.58   5.66   \n",
       "Strategy          11.60   12.29   13.68    8.82    3.26    6.12   0.98   1.85   \n",
       "Puzzle            15.23   19.79   10.75    4.96    1.72    0.96   1.49   0.71   \n",
       "\n",
       "year_of_release   2016  \n",
       "genre                   \n",
       "Shooter          38.22  \n",
       "Action           30.11  \n",
       "Sports           23.49  \n",
       "Role-Playing     18.18  \n",
       "Fighting          4.47  \n",
       "Adventure         3.82  \n",
       "Platform          3.23  \n",
       "Racing            2.79  \n",
       "Misc              2.60  \n",
       "Simulation        1.89  \n",
       "Strategy          1.13  \n",
       "Puzzle            0.01  "
      ]
     },
     "execution_count": 65,
     "metadata": {},
     "output_type": "execute_result"
    }
   ],
   "source": [
    "genre_sales_per_year = games_since_2008.pivot_table(\n",
    "    index='genre', columns='year_of_release', values='total_sales',\n",
    "    aggfunc='sum').sort_values(by=2016, ascending=False)\n",
    "genre_sales_per_year"
   ]
  },
  {
   "cell_type": "markdown",
   "metadata": {},
   "source": [
    "We can see that the dominance of the above-mentioned 4 genres is pretty continuous, and **still in place in 2015-2016**. Action lost a lot of it's very prominent leading position (see 2008-2014), and Shooter seems to take the lead in 2015-2016. Let's visualize it in a graph:  "
   ]
  },
  {
   "cell_type": "code",
   "execution_count": 66,
   "metadata": {
    "scrolled": false
   },
   "outputs": [
    {
     "data": {
      "image/png": "[encoded data removed]",
      "text/plain": [
       "<Figure size 864x432 with 1 Axes>"
      ]
     },
     "metadata": {
      "needs_background": "light"
     },
     "output_type": "display_data"
    }
   ],
   "source": [
    "genre_sales_per_year.plot(kind='bar', grid=True, figsize=(12, 6))\n",
    "plt.title('Sales of genres per year')\n",
    "plt.ylabel('Sales')\n",
    "plt.show;"
   ]
  },
  {
   "cell_type": "markdown",
   "metadata": {},
   "source": [
    "The picture is clear: the 4 leading genres make together the big majority of all games sales. Some genres that were quite popular with pretty high sales in 2008 (e.g. Racing, Simulation) - became almost negligible later. "
   ]
  },
  {
   "cell_type": "markdown",
   "metadata": {},
   "source": [
    "## User profile for each region "
   ]
  },
  {
   "cell_type": "markdown",
   "metadata": {},
   "source": [
    "To understand the current preferences of users in each region, we will first compare - between the 3 regions - the distribution of each of the following:\n",
    "1. Platforms market shares\n",
    "2. Genres market shares\n",
    "3. ESRB ratings vs. sales (market shares)  \n",
    "\n",
    "Then we will join the user profile of each region, refering to top platforms, genres and ESRB ratings\n",
    "\n",
    "**Since we are most interested with the current situation, and since we saw the big changes along time, we will analize this part using 2015-2016 data**. At the end of this section (see 4.7 below) we will also view changes in sales along time - per region. "
   ]
  },
  {
   "cell_type": "markdown",
   "metadata": {},
   "source": [
    "### Platforms market share in each region  "
   ]
  },
  {
   "cell_type": "code",
   "execution_count": 67,
   "metadata": {
    "scrolled": true
   },
   "outputs": [
    {
     "data": {
      "text/html": [
       "<div>\n",
       "<style scoped>\n",
       "    .dataframe tbody tr th:only-of-type {\n",
       "        vertical-align: middle;\n",
       "    }\n",
       "\n",
       "    .dataframe tbody tr th {\n",
       "        vertical-align: top;\n",
       "    }\n",
       "\n",
       "    .dataframe thead th {\n",
       "        text-align: right;\n",
       "    }\n",
       "</style>\n",
       "<table border=\"1\" class=\"dataframe\">\n",
       "  <thead>\n",
       "    <tr style=\"text-align: right;\">\n",
       "      <th></th>\n",
       "      <th>eu_sales</th>\n",
       "      <th>jp_sales</th>\n",
       "      <th>na_sales</th>\n",
       "    </tr>\n",
       "    <tr>\n",
       "      <th>platform</th>\n",
       "      <th></th>\n",
       "      <th></th>\n",
       "      <th></th>\n",
       "    </tr>\n",
       "  </thead>\n",
       "  <tbody>\n",
       "    <tr>\n",
       "      <td>PS4</td>\n",
       "      <td>83.54</td>\n",
       "      <td>12.05</td>\n",
       "      <td>63.86</td>\n",
       "    </tr>\n",
       "    <tr>\n",
       "      <td>XOne</td>\n",
       "      <td>28.10</td>\n",
       "      <td>0.18</td>\n",
       "      <td>50.30</td>\n",
       "    </tr>\n",
       "    <tr>\n",
       "      <td>3DS</td>\n",
       "      <td>7.39</td>\n",
       "      <td>23.55</td>\n",
       "      <td>10.31</td>\n",
       "    </tr>\n",
       "    <tr>\n",
       "      <td>WiiU</td>\n",
       "      <td>6.49</td>\n",
       "      <td>4.12</td>\n",
       "      <td>8.86</td>\n",
       "    </tr>\n",
       "    <tr>\n",
       "      <td>X360</td>\n",
       "      <td>4.21</td>\n",
       "      <td>0.00</td>\n",
       "      <td>8.05</td>\n",
       "    </tr>\n",
       "    <tr>\n",
       "      <td>PS3</td>\n",
       "      <td>7.30</td>\n",
       "      <td>4.97</td>\n",
       "      <td>5.66</td>\n",
       "    </tr>\n",
       "    <tr>\n",
       "      <td>PC</td>\n",
       "      <td>9.10</td>\n",
       "      <td>0.00</td>\n",
       "      <td>3.72</td>\n",
       "    </tr>\n",
       "    <tr>\n",
       "      <td>PSV</td>\n",
       "      <td>1.08</td>\n",
       "      <td>8.41</td>\n",
       "      <td>0.54</td>\n",
       "    </tr>\n",
       "    <tr>\n",
       "      <td>Wii</td>\n",
       "      <td>0.73</td>\n",
       "      <td>0.00</td>\n",
       "      <td>0.49</td>\n",
       "    </tr>\n",
       "    <tr>\n",
       "      <td>PSP</td>\n",
       "      <td>0.00</td>\n",
       "      <td>0.12</td>\n",
       "      <td>0.00</td>\n",
       "    </tr>\n",
       "  </tbody>\n",
       "</table>\n",
       "</div>"
      ],
      "text/plain": [
       "          eu_sales  jp_sales  na_sales\n",
       "platform                              \n",
       "PS4          83.54     12.05     63.86\n",
       "XOne         28.10      0.18     50.30\n",
       "3DS           7.39     23.55     10.31\n",
       "WiiU          6.49      4.12      8.86\n",
       "X360          4.21      0.00      8.05\n",
       "PS3           7.30      4.97      5.66\n",
       "PC            9.10      0.00      3.72\n",
       "PSV           1.08      8.41      0.54\n",
       "Wii           0.73      0.00      0.49\n",
       "PSP           0.00      0.12      0.00"
      ]
     },
     "execution_count": 67,
     "metadata": {},
     "output_type": "execute_result"
    }
   ],
   "source": [
    "# comparing the regions for platforms sales in 2015-2016: \n",
    "comp_plat_by_regions_2y = games_with_year.query('year_of_release >= 2015').pivot_table(\n",
    "    index='platform', values=['na_sales', 'eu_sales', 'jp_sales'], aggfunc='sum').sort_values(\n",
    "    by='na_sales', ascending=False)\n",
    "comp_plat_by_regions_2y"
   ]
  },
  {
   "cell_type": "markdown",
   "metadata": {},
   "source": [
    "Some large differences are clear: Of the top selling platforms, EU is leading the sales of PS4 (83.54 M USD, in NA 63.8 M USD), and JP is leading the sales of 3DS (23.55 M USD, vs. only 10.31 in NA and 7.39 in EU). For XOne NA leadership is very clear (50.3 M USD, vs. only 28.1 in EU and 0.18 in JP). "
   ]
  },
  {
   "cell_type": "code",
   "execution_count": 68,
   "metadata": {},
   "outputs": [
    {
     "data": {
      "image/png": "[encoded data removed]",
      "text/plain": [
       "<Figure size 720x432 with 1 Axes>"
      ]
     },
     "metadata": {},
     "output_type": "display_data"
    },
    {
     "data": {
      "image/png": "[encoded data removed]",
      "text/plain": [
       "<Figure size 720x432 with 1 Axes>"
      ]
     },
     "metadata": {},
     "output_type": "display_data"
    },
    {
     "data": {
      "image/png": "[encoded data removed]",
      "text/plain": [
       "<Figure size 720x432 with 1 Axes>"
      ]
     },
     "metadata": {},
     "output_type": "display_data"
    }
   ],
   "source": [
    "# pies charts to see platforms market shares in each region: \n",
    "regions = ['na_sales', 'eu_sales', 'jp_sales']\n",
    "plt.title('2015-2016 Platforms market share per region')\n",
    "for r in regions:\n",
    "    comp_plat_by_regions_2y[r].plot(kind='pie', autopct='%1.1f%%', figsize=(10, 6))\n",
    "    plt.show()  "
   ]
  },
  {
   "cell_type": "markdown",
   "metadata": {},
   "source": [
    "In both NA and EU - PS4 and XOne provide together 3/4 of all sales (with EU having over a half(!) of all sales coming from PS4). The remaining 1/4 of the market both in NA and in EU - is divided mainly between 5 other platforms, though not in the same order. \n",
    "\n",
    "JP shows different users preferences: 3DS has almost half of the market, and most of the rest is divided between only 4 more platforms, of which PSV (15.7%, third in JP) has only very minor share in both NA and EU.   \n",
    "\n",
    "Top 5 platforms per region:\n",
    "\n",
    "**NA**: PS4, XOne, 3DS, WiiU, X360. \n",
    "\n",
    "**EU**: PS4, XOne, PC, 3DS, PS3.\n",
    "\n",
    "**JP**: 3DS, PS4, PSV, PS3, WiiU."
   ]
  },
  {
   "cell_type": "markdown",
   "metadata": {},
   "source": [
    "### Genres market share in each region "
   ]
  },
  {
   "cell_type": "code",
   "execution_count": 69,
   "metadata": {
    "scrolled": true
   },
   "outputs": [
    {
     "data": {
      "text/html": [
       "<div>\n",
       "<style scoped>\n",
       "    .dataframe tbody tr th:only-of-type {\n",
       "        vertical-align: middle;\n",
       "    }\n",
       "\n",
       "    .dataframe tbody tr th {\n",
       "        vertical-align: top;\n",
       "    }\n",
       "\n",
       "    .dataframe thead th {\n",
       "        text-align: right;\n",
       "    }\n",
       "</style>\n",
       "<table border=\"1\" class=\"dataframe\">\n",
       "  <thead>\n",
       "    <tr style=\"text-align: right;\">\n",
       "      <th></th>\n",
       "      <th>eu_sales</th>\n",
       "      <th>jp_sales</th>\n",
       "      <th>na_sales</th>\n",
       "    </tr>\n",
       "    <tr>\n",
       "      <th>genre</th>\n",
       "      <th></th>\n",
       "      <th></th>\n",
       "      <th></th>\n",
       "    </tr>\n",
       "  </thead>\n",
       "  <tbody>\n",
       "    <tr>\n",
       "      <td>Shooter</td>\n",
       "      <td>40.28</td>\n",
       "      <td>3.79</td>\n",
       "      <td>48.18</td>\n",
       "    </tr>\n",
       "    <tr>\n",
       "      <td>Action</td>\n",
       "      <td>34.82</td>\n",
       "      <td>23.05</td>\n",
       "      <td>33.68</td>\n",
       "    </tr>\n",
       "    <tr>\n",
       "      <td>Sports</td>\n",
       "      <td>27.82</td>\n",
       "      <td>1.65</td>\n",
       "      <td>26.31</td>\n",
       "    </tr>\n",
       "    <tr>\n",
       "      <td>Role-Playing</td>\n",
       "      <td>17.21</td>\n",
       "      <td>13.41</td>\n",
       "      <td>19.82</td>\n",
       "    </tr>\n",
       "    <tr>\n",
       "      <td>Misc</td>\n",
       "      <td>4.26</td>\n",
       "      <td>3.19</td>\n",
       "      <td>5.58</td>\n",
       "    </tr>\n",
       "    <tr>\n",
       "      <td>Fighting</td>\n",
       "      <td>3.72</td>\n",
       "      <td>1.54</td>\n",
       "      <td>5.54</td>\n",
       "    </tr>\n",
       "    <tr>\n",
       "      <td>Adventure</td>\n",
       "      <td>4.67</td>\n",
       "      <td>2.22</td>\n",
       "      <td>3.84</td>\n",
       "    </tr>\n",
       "    <tr>\n",
       "      <td>Platform</td>\n",
       "      <td>3.20</td>\n",
       "      <td>1.42</td>\n",
       "      <td>3.78</td>\n",
       "    </tr>\n",
       "    <tr>\n",
       "      <td>Racing</td>\n",
       "      <td>6.52</td>\n",
       "      <td>0.29</td>\n",
       "      <td>2.82</td>\n",
       "    </tr>\n",
       "    <tr>\n",
       "      <td>Simulation</td>\n",
       "      <td>3.74</td>\n",
       "      <td>1.93</td>\n",
       "      <td>1.36</td>\n",
       "    </tr>\n",
       "    <tr>\n",
       "      <td>Strategy</td>\n",
       "      <td>1.57</td>\n",
       "      <td>0.39</td>\n",
       "      <td>0.82</td>\n",
       "    </tr>\n",
       "    <tr>\n",
       "      <td>Puzzle</td>\n",
       "      <td>0.13</td>\n",
       "      <td>0.52</td>\n",
       "      <td>0.06</td>\n",
       "    </tr>\n",
       "  </tbody>\n",
       "</table>\n",
       "</div>"
      ],
      "text/plain": [
       "              eu_sales  jp_sales  na_sales\n",
       "genre                                     \n",
       "Shooter          40.28      3.79     48.18\n",
       "Action           34.82     23.05     33.68\n",
       "Sports           27.82      1.65     26.31\n",
       "Role-Playing     17.21     13.41     19.82\n",
       "Misc              4.26      3.19      5.58\n",
       "Fighting          3.72      1.54      5.54\n",
       "Adventure         4.67      2.22      3.84\n",
       "Platform          3.20      1.42      3.78\n",
       "Racing            6.52      0.29      2.82\n",
       "Simulation        3.74      1.93      1.36\n",
       "Strategy          1.57      0.39      0.82\n",
       "Puzzle            0.13      0.52      0.06"
      ]
     },
     "execution_count": 69,
     "metadata": {},
     "output_type": "execute_result"
    }
   ],
   "source": [
    "# comparing the regions for genres sales in 2015-2016: \n",
    "comp_genres_by_regions_2y = games_with_year.query('year_of_release >= 2015').pivot_table(\n",
    "    index='genre', values=['na_sales', 'eu_sales', 'jp_sales'], aggfunc='sum').sort_values(\n",
    "    by='na_sales', ascending=False)\n",
    "comp_genres_by_regions_2y"
   ]
  },
  {
   "cell_type": "markdown",
   "metadata": {},
   "source": [
    "NA is leading Shooter sales (48.18 M USD) with EU close (40.28) but JP far behind (only 3.79), while in Action JP is much more dominant (23.05 vs. 34.82 in EU and 33.68 in NA). Sports is also mainly divided between EU (27.82) and NA (26.31) with only 1.65 in JP (where it is not one of the top 4 genres we saw so dominant on the global picture). Role-Playing again sees JP giving a higher part of sales (13.41) relative to NA (19.82) and EU (17.21). "
   ]
  },
  {
   "cell_type": "code",
   "execution_count": 70,
   "metadata": {
    "scrolled": false
   },
   "outputs": [
    {
     "data": {
      "image/png": "[encoded data removed]",
      "text/plain": [
       "<Figure size 720x432 with 1 Axes>"
      ]
     },
     "metadata": {},
     "output_type": "display_data"
    },
    {
     "data": {
      "image/png": "[encoded data removed]",
      "text/plain": [
       "<Figure size 720x432 with 1 Axes>"
      ]
     },
     "metadata": {},
     "output_type": "display_data"
    },
    {
     "data": {
      "image/png": "[encoded data removed]",
      "text/plain": [
       "<Figure size 720x432 with 1 Axes>"
      ]
     },
     "metadata": {},
     "output_type": "display_data"
    }
   ],
   "source": [
    "# pies charts to see genres market shares in each region: \n",
    "regions = ['na_sales', 'eu_sales', 'jp_sales']\n",
    "plt.title('2015-2016 Genres market share per region')\n",
    "for r in regions:\n",
    "    comp_genres_by_regions_2y[r].plot(kind='pie', autopct='%1.1f%%', figsize=(10, 6))\n",
    "    plt.show()"
   ]
  },
  {
   "cell_type": "markdown",
   "metadata": {},
   "source": [
    "In both NA and EU - the 4 global leading genres (Shooter, Action, Sports, Role-Playing) make together more than 80% of the whole market, and in the same order in the two regions. In each region the remainig 20% are mainly divided between 5 genres (not exactly in the same order).  \n",
    "\n",
    "JP again shows different users preferences: both Action (43.2%) and Role-Playing (25.1%) hold a much bigger market share than they do in NA or EU, and together they make almost 70% of JP games market. Sports is not even in top 5 genres. \n",
    "\n",
    "Top 5 Genres per region:\n",
    "\n",
    "**NA**: Shooter, Action, Sports, Role-Playing, Fighting.  \n",
    "\n",
    "**EU**: Shooter, Action, Sports, Role-Playing, Racing. \n",
    "\n",
    "**JP**: Action, Role-Playing, Shooter, Adventure, Simulation.  "
   ]
  },
  {
   "cell_type": "markdown",
   "metadata": {},
   "source": [
    "### ESRB ratings vs. sales in each region "
   ]
  },
  {
   "cell_type": "markdown",
   "metadata": {},
   "source": [
    "Since we had in 'rating' column quite a few missing values, and in order not to ignore them and get a distorted ESRB ratings market shares - we will first turn them into 'unknown' to see the correct shares in each region. "
   ]
  },
  {
   "cell_type": "code",
   "execution_count": 71,
   "metadata": {
    "scrolled": false
   },
   "outputs": [
    {
     "data": {
      "text/html": [
       "<div>\n",
       "<style scoped>\n",
       "    .dataframe tbody tr th:only-of-type {\n",
       "        vertical-align: middle;\n",
       "    }\n",
       "\n",
       "    .dataframe tbody tr th {\n",
       "        vertical-align: top;\n",
       "    }\n",
       "\n",
       "    .dataframe thead th {\n",
       "        text-align: right;\n",
       "    }\n",
       "</style>\n",
       "<table border=\"1\" class=\"dataframe\">\n",
       "  <thead>\n",
       "    <tr style=\"text-align: right;\">\n",
       "      <th></th>\n",
       "      <th>eu_sales</th>\n",
       "      <th>jp_sales</th>\n",
       "      <th>na_sales</th>\n",
       "    </tr>\n",
       "    <tr>\n",
       "      <th>rating</th>\n",
       "      <th></th>\n",
       "      <th></th>\n",
       "      <th></th>\n",
       "    </tr>\n",
       "  </thead>\n",
       "  <tbody>\n",
       "    <tr>\n",
       "      <td>M</td>\n",
       "      <td>45.54</td>\n",
       "      <td>4.29</td>\n",
       "      <td>47.03</td>\n",
       "    </tr>\n",
       "    <tr>\n",
       "      <td>unknown</td>\n",
       "      <td>35.71</td>\n",
       "      <td>32.89</td>\n",
       "      <td>37.44</td>\n",
       "    </tr>\n",
       "    <tr>\n",
       "      <td>E</td>\n",
       "      <td>34.83</td>\n",
       "      <td>5.25</td>\n",
       "      <td>26.59</td>\n",
       "    </tr>\n",
       "    <tr>\n",
       "      <td>T</td>\n",
       "      <td>20.32</td>\n",
       "      <td>7.70</td>\n",
       "      <td>22.86</td>\n",
       "    </tr>\n",
       "    <tr>\n",
       "      <td>E10+</td>\n",
       "      <td>11.54</td>\n",
       "      <td>3.27</td>\n",
       "      <td>17.87</td>\n",
       "    </tr>\n",
       "  </tbody>\n",
       "</table>\n",
       "</div>"
      ],
      "text/plain": [
       "         eu_sales  jp_sales  na_sales\n",
       "rating                               \n",
       "M           45.54      4.29     47.03\n",
       "unknown     35.71     32.89     37.44\n",
       "E           34.83      5.25     26.59\n",
       "T           20.32      7.70     22.86\n",
       "E10+        11.54      3.27     17.87"
      ]
     },
     "execution_count": 71,
     "metadata": {},
     "output_type": "execute_result"
    }
   ],
   "source": [
    "# comparing the regions for ESRB ratings sales in 2015-2016:\n",
    "games_with_year['rating'] = games_with_year['rating'].fillna('unknown')\n",
    "comp_esrb_by_regions_2y = games_with_year.query('year_of_release >= 2015').pivot_table(\n",
    "    index='rating', values=['na_sales', 'eu_sales', 'jp_sales'], aggfunc='sum').sort_values(\n",
    "    by='na_sales', ascending=False)\n",
    "comp_esrb_by_regions_2y"
   ]
  },
  {
   "cell_type": "markdown",
   "metadata": {},
   "source": [
    "First of all - we see that in all regions, games with missing rating make a large part of all current (2015-2016) sales: in NA and EU they make ~1/4 of all sales, and in JP more than 60%(!) of all sales. Out of the ESRB rated games, in both NA and EU the \"Mature\" games bring the highest share of sales, then \"Everyone\", then \"Teen\" (age 13+), and then E10+ (age 10+). In JP, differently, after the biggest group of missing rating, \"Teen\" games bring the highest total sales out of the rated games, then \"Everyone\", only then \"Mature\", and E10+ here is last as well. Let's visualize it:    "
   ]
  },
  {
   "cell_type": "code",
   "execution_count": 72,
   "metadata": {},
   "outputs": [
    {
     "data": {
      "image/png": "[encoded data removed]",
      "text/plain": [
       "<Figure size 720x432 with 1 Axes>"
      ]
     },
     "metadata": {},
     "output_type": "display_data"
    },
    {
     "data": {
      "image/png": "[encoded data removed]",
      "text/plain": [
       "<Figure size 720x432 with 1 Axes>"
      ]
     },
     "metadata": {},
     "output_type": "display_data"
    },
    {
     "data": {
      "image/png": "[encoded data removed]",
      "text/plain": [
       "<Figure size 720x432 with 1 Axes>"
      ]
     },
     "metadata": {},
     "output_type": "display_data"
    }
   ],
   "source": [
    "# pies charts to see ESRB ratings market shares in each region: \n",
    "regions = ['na_sales', 'eu_sales', 'jp_sales']\n",
    "plt.title('2015-2016 ESRB ratings market share per region')\n",
    "for r in regions:\n",
    "    comp_esrb_by_regions_2y[r].plot(kind='pie', autopct='%1.1f%%', figsize=(10, 6))\n",
    "    plt.show()"
   ]
  },
  {
   "cell_type": "markdown",
   "metadata": {},
   "source": [
    "The large part of unknown rating is clear in all, and much more in JP. Out of rated games- The different JP market picture is very clear (strong leadership of \"Teen\" rating) - and maybe is related to the JP region unique user preferences we saw about platform and genre.  "
   ]
  },
  {
   "cell_type": "markdown",
   "metadata": {},
   "source": [
    "### NA User profile"
   ]
  },
  {
   "cell_type": "markdown",
   "metadata": {},
   "source": [
    "Top 5 platforms: \n",
    "PS4, XOne, 3DS, WiiU, X360 (first 2 bring 3/4 of all sales).\n",
    "\n",
    "Top 5 Genres:\n",
    "Shooter, Action, Sports, Role-Playing, Fighting (first 4 bring more than 80% of all sales). \n",
    "\n",
    "ESRB ratings: \n",
    "About 1/4 missing rating, \"Mature\" games bring the highest share of sales (31%), then \"Everyone\", then \"Teen\" (age 13+), and then E10+ (age 10+)"
   ]
  },
  {
   "cell_type": "markdown",
   "metadata": {},
   "source": [
    "### EU User profile"
   ]
  },
  {
   "cell_type": "markdown",
   "metadata": {},
   "source": [
    "Top 5 platforms: \n",
    "PS4, XOne, PC, 3DS, PS3 (first 2 bring 3/4 of all sales, and PS4 alone brings 56.5% of sales).\n",
    "\n",
    "Top 5 Genres:\n",
    "Shooter, Action, Sports, Role-Playing, Racing (first 4 bring more than 80% of all sales). \n",
    "\n",
    "ESRB ratings: \n",
    "About 1/4 missing rating, \"Mature\" games bring the highest share of sales (~31%), then \"Everyone\", then \"Teen\" (age 13+), and then E10+ (age 10+)"
   ]
  },
  {
   "cell_type": "markdown",
   "metadata": {},
   "source": [
    "### JP User profile"
   ]
  },
  {
   "cell_type": "markdown",
   "metadata": {},
   "source": [
    "Top 5 platforms: \n",
    "3DS, PS4, PSV, PS3, WiiU (3DS alone brings almost half the market).\n",
    "\n",
    "Top 5 Genres:\n",
    "Action, Role-Playing, Shooter, Adventure, Simulation (Action (43.2%) and Role-Playing (25.1%) make together almost 70% of JP games market). \n",
    "\n",
    "ESRB ratings: \n",
    "60%+ of all sales come from games with missing rating. Out of the rated games, \"Teen\" games bring the highest total sales, then \"Everyone\", then \"Mature\", and E10+ is last. "
   ]
  },
  {
   "cell_type": "markdown",
   "metadata": {},
   "source": [
    "### Sales changes over the years - per region"
   ]
  },
  {
   "cell_type": "markdown",
   "metadata": {},
   "source": [
    "As promised above - we will view now the salse changes over the years - per region, to get the idea of the global and regional dynamic. "
   ]
  },
  {
   "cell_type": "code",
   "execution_count": 73,
   "metadata": {
    "scrolled": false
   },
   "outputs": [
    {
     "data": {
      "image/png": "[encoded data removed]",
      "text/plain": [
       "<Figure size 864x576 with 1 Axes>"
      ]
     },
     "metadata": {
      "needs_background": "light"
     },
     "output_type": "display_data"
    }
   ],
   "source": [
    "games_with_year.pivot_table(index='year_of_release', values=regions, aggfunc='sum').plot(\n",
    "    kind='bar', grid=True, figsize=(12, 8))\n",
    "plt.title('Region sales per year')\n",
    "plt.ylabel('Region sales (M$)')\n",
    "plt.show;"
   ]
  },
  {
   "cell_type": "markdown",
   "metadata": {},
   "source": [
    "While the general global sales per year, and it's trends, was already discussed above (see 3.2) - some points are noteworthy in this analysis:\n",
    "\n",
    "NA had clear leadership of the sales, but from 2012 and on it's advantage is much lower than before, and in 2015-2016 it might have even been lost to EU (2016 data may be incomplete). \n",
    "JP part of the global sales was much smaller, and is much larger since the 2012 change (and growing since).      "
   ]
  },
  {
   "cell_type": "markdown",
   "metadata": {},
   "source": [
    "## Testing statistical hypotheses"
   ]
  },
  {
   "cell_type": "markdown",
   "metadata": {},
   "source": [
    "### Average user ratings of the Xbox One and PC platforms are the same"
   ]
  },
  {
   "cell_type": "markdown",
   "metadata": {},
   "source": [
    "We will use a test for hypothesis on the equality of two independant population means.\n",
    "\n",
    "Our null hypothesis to test will be:\n",
    "\n",
    "**The average user rating of the Xbox One and PC platforms are equal**\n",
    "\n",
    "The alternative hypothesis is:\n",
    "\n",
    "The average user rating of the Xbox One and PC platforms are not equal\n",
    "\n",
    "first we will check th mean and variance of the user_score between the two platforms:"
   ]
  },
  {
   "cell_type": "code",
   "execution_count": 74,
   "metadata": {},
   "outputs": [
    {
     "data": {
      "text/html": [
       "<div>\n",
       "<style scoped>\n",
       "    .dataframe tbody tr th:only-of-type {\n",
       "        vertical-align: middle;\n",
       "    }\n",
       "\n",
       "    .dataframe tbody tr th {\n",
       "        vertical-align: top;\n",
       "    }\n",
       "\n",
       "    .dataframe thead tr th {\n",
       "        text-align: left;\n",
       "    }\n",
       "\n",
       "    .dataframe thead tr:last-of-type th {\n",
       "        text-align: right;\n",
       "    }\n",
       "</style>\n",
       "<table border=\"1\" class=\"dataframe\">\n",
       "  <thead>\n",
       "    <tr>\n",
       "      <th></th>\n",
       "      <th>mean</th>\n",
       "      <th>var</th>\n",
       "    </tr>\n",
       "    <tr>\n",
       "      <th></th>\n",
       "      <th>user_score</th>\n",
       "      <th>user_score</th>\n",
       "    </tr>\n",
       "    <tr>\n",
       "      <th>platform</th>\n",
       "      <th></th>\n",
       "      <th></th>\n",
       "    </tr>\n",
       "  </thead>\n",
       "  <tbody>\n",
       "    <tr>\n",
       "      <td>PC</td>\n",
       "      <td>7.062468</td>\n",
       "      <td>2.340787</td>\n",
       "    </tr>\n",
       "    <tr>\n",
       "      <td>XOne</td>\n",
       "      <td>6.521429</td>\n",
       "      <td>1.906997</td>\n",
       "    </tr>\n",
       "  </tbody>\n",
       "</table>\n",
       "</div>"
      ],
      "text/plain": [
       "               mean        var\n",
       "         user_score user_score\n",
       "platform                      \n",
       "PC         7.062468   2.340787\n",
       "XOne       6.521429   1.906997"
      ]
     },
     "execution_count": 74,
     "metadata": {},
     "output_type": "execute_result"
    }
   ],
   "source": [
    "# Compare the mean and the variance of the user_score between the 2 platforms:\n",
    "x1pc_data = games.query('platform == \"XOne\" or platform == \"PC\"')\n",
    "comp_plat_scores_stats = x1pc_data.pivot_table(index='platform', values='user_score', aggfunc=['mean', 'var'])\n",
    "comp_plat_scores_stats"
   ]
  },
  {
   "cell_type": "markdown",
   "metadata": {},
   "source": [
    "We can see the mean user rating of PC (7.06) is ~8% higher than that of XOne (6.52). The question is wether this difference can be random - and for this we will run the statistical test.\n",
    "Since the variance is close enough - we will keep 'equal_var' in the statistical test on it's default True value. We will set significance level on 0.05, as common, since there is no special reason to set a different level. Unlike the mean and var methods, the statistical test can't include null values - so we will drop them before the test.  "
   ]
  },
  {
   "cell_type": "code",
   "execution_count": 75,
   "metadata": {},
   "outputs": [
    {
     "name": "stdout",
     "output_type": "stream",
     "text": [
      "p-value:  2.4909638124872165e-05\n",
      "We reject the null hypothesis\n"
     ]
    }
   ],
   "source": [
    "# Test the hypothesis about mean equality:\n",
    "games1 = games.dropna()\n",
    "xone = games1.query('platform == \"XOne\"')['user_score'] \n",
    "pc = games1.query('platform == \"PC\"')['user_score']\n",
    "\n",
    "alpha = 0.05\n",
    "\n",
    "results = st.ttest_ind(\n",
    "    xone,\n",
    "    pc)\n",
    "print('p-value: ', results.pvalue)\n",
    "\n",
    "if (results.pvalue < alpha):\n",
    "    print(\n",
    "        \"We reject the null hypothesis\"\n",
    "    )\n",
    "else:\n",
    "    print(\n",
    "        \"We can't reject the null hypothesis\"\n",
    "    )"
   ]
  },
  {
   "cell_type": "markdown",
   "metadata": {},
   "source": [
    "We can see that the p-value is very small, and smaller than our set significance level alpha, which means that\n",
    "our statistical test shows that the probabillity that the difference between the means is random - is very low, therefore **we reject the hypothsis that the means are equal.**  "
   ]
  },
  {
   "cell_type": "markdown",
   "metadata": {},
   "source": [
    "### Average user ratings for the Action and Sports genres are different"
   ]
  },
  {
   "cell_type": "markdown",
   "metadata": {},
   "source": [
    "Again, we will use a test for hypothesis on the equality of two independant population means.\n",
    "\n",
    "Our null hypothesis to test will be:\n",
    "\n",
    "**The average user rating of the Action and Sports genres are equal**\n",
    "\n",
    "The alternative hypothesis is:\n",
    "\n",
    "The average user rating of the Action and Sports genres are not equal\n",
    "\n",
    "first we will check th mean and variance of the user_score between the two genres:"
   ]
  },
  {
   "cell_type": "code",
   "execution_count": 76,
   "metadata": {},
   "outputs": [
    {
     "data": {
      "text/html": [
       "<div>\n",
       "<style scoped>\n",
       "    .dataframe tbody tr th:only-of-type {\n",
       "        vertical-align: middle;\n",
       "    }\n",
       "\n",
       "    .dataframe tbody tr th {\n",
       "        vertical-align: top;\n",
       "    }\n",
       "\n",
       "    .dataframe thead tr th {\n",
       "        text-align: left;\n",
       "    }\n",
       "\n",
       "    .dataframe thead tr:last-of-type th {\n",
       "        text-align: right;\n",
       "    }\n",
       "</style>\n",
       "<table border=\"1\" class=\"dataframe\">\n",
       "  <thead>\n",
       "    <tr>\n",
       "      <th></th>\n",
       "      <th>mean</th>\n",
       "      <th>var</th>\n",
       "    </tr>\n",
       "    <tr>\n",
       "      <th></th>\n",
       "      <th>user_score</th>\n",
       "      <th>user_score</th>\n",
       "    </tr>\n",
       "    <tr>\n",
       "      <th>genre</th>\n",
       "      <th></th>\n",
       "      <th></th>\n",
       "    </tr>\n",
       "  </thead>\n",
       "  <tbody>\n",
       "    <tr>\n",
       "      <td>Action</td>\n",
       "      <td>7.054044</td>\n",
       "      <td>2.031747</td>\n",
       "    </tr>\n",
       "    <tr>\n",
       "      <td>Sports</td>\n",
       "      <td>6.961197</td>\n",
       "      <td>2.596515</td>\n",
       "    </tr>\n",
       "  </tbody>\n",
       "</table>\n",
       "</div>"
      ],
      "text/plain": [
       "             mean        var\n",
       "       user_score user_score\n",
       "genre                       \n",
       "Action   7.054044   2.031747\n",
       "Sports   6.961197   2.596515"
      ]
     },
     "execution_count": 76,
     "metadata": {},
     "output_type": "execute_result"
    }
   ],
   "source": [
    "# Compare the mean and the variance of the user_score between the 2 genres:\n",
    "ac_sp_data = games.query('genre == \"Action\" or genre == \"Sports\"')\n",
    "comp_genre_scores_stats = ac_sp_data.pivot_table(index='genre', values='user_score', aggfunc=['mean', 'var'])\n",
    "comp_genre_scores_stats"
   ]
  },
  {
   "cell_type": "markdown",
   "metadata": {},
   "source": [
    "We can see the mean user rating of Action (7.05) is only ~1% higher than that of Sports (6.96). The question is wether this tiny difference can be random - and for this we will run the statistical test.\n",
    "Since the variance is close enough - we will again keep 'equal_var' in the statistical test on it's default True value. Again we will set significance level on 0.05, as common, since there is no special reason to set a different level. Again we will use here the data without the null values."
   ]
  },
  {
   "cell_type": "code",
   "execution_count": 77,
   "metadata": {},
   "outputs": [
    {
     "name": "stdout",
     "output_type": "stream",
     "text": [
      "p-value:  0.7959786214567501\n",
      "We can't reject the null hypothesis\n"
     ]
    }
   ],
   "source": [
    "# Test the hypothesis about mean equality:\n",
    "action = games1.query('genre == \"Action\"')['user_score'] \n",
    "sports = games1.query('genre == \"Sports\"')['user_score']\n",
    "\n",
    "alpha = 0.05\n",
    "\n",
    "results = st.ttest_ind(\n",
    "    action,\n",
    "    sports)\n",
    "print('p-value: ', results.pvalue)\n",
    "\n",
    "if (results.pvalue < alpha):\n",
    "    print(\n",
    "        \"We reject the null hypothesis\"\n",
    "    )\n",
    "else:\n",
    "    print(\n",
    "        \"We can't reject the null hypothesis\"\n",
    "    )"
   ]
  },
  {
   "cell_type": "markdown",
   "metadata": {},
   "source": [
    "Not surprisingly, we can see that the p-value is higher than our set significance level alpha, which means that\n",
    "our statistical test shows that the probabillity that the tiny difference between the means is random - is quite high - therefore **we can't reject the hypothsis that the means are equal.**  "
   ]
  },
  {
   "cell_type": "markdown",
   "metadata": {},
   "source": [
    "## General conclusion"
   ]
  },
  {
   "cell_type": "markdown",
   "metadata": {},
   "source": [
    "1. **Project goal**: to identify patterns that determine success in sales, in order to identify potential big winners   \n",
    "\n",
    "2. Initial data included 16715 entries from 1980 to 2016 (2016 data may be incomplete).\n",
    "\n",
    "3. **Preparing data**: 2 entries with missing game name (and genre) were dropped. Other missing values were sliced-out when needed but without dropping more data from the general dataset, due to it's value. Total(global) sales column was calculated and added. few data types were converted, and column names were changed to lower case. \n",
    "\n",
    "4. **Number of games released every year**: a very dynamic picture: the 80' are almost all below 22 games released each year (with two local peaks that dont continue, in '81-'82). The 90' have a gradual rise, with a peak of 379 in '98 and solid ~350 at the end of the dacade. The 2000' first dacade had a gradual steep jump to a peak of 1400+ in 2008-2009. Then comes a teep decline to 653 games released in 2012, and since then numbers remain in the ~550-650 area (the 502 games in 2016 may be incomplete data). \n",
    "\n",
    "5. **Global sales along the years**: Global sales in milion USD show generally a similar dynamic to the one that was obderved in the number of games released each year. Dramatic **peak** in 2008-2009 (above 650M USD a year), then steep **decline** to 2012 (~350M USD), another decline 2013-2015 (2015 - ~270M USD), and 2016 may be misleading because of incomplete data. For 2016 situation - the trend seems to be less sales every year. \n",
    "\n",
    "6. **Winning platforms**: Some platforms used to be very popular but now have zero sales (e.g. DS, PS, PS2). When we watch the timeline for these platforms - it seems it is around 10 years between when they appear and when they fade (e.g. PS2: 2000-2011). Both top **current leaders** (PS4 and XOne) only appeared in 2013. PS4 leads constantly since 2014, and both are with growth untill 2015, much more dramatic in 2014 and much less in 2015 (2016 data may be incomplete). 3DS grew untill 2013, and since then is declining. **These three platforms make together the big majority of 2015-1016 sales**, all the rest showing much lower numbers in the last two years. Steep decline is seen for PS3 (replaced by PS4) and X360 (replaced by XOne) - both were the top leader platforms in 2012. Wii lost almost all it's sales during these years, and currently even WiiU (it's replacement) is on a decline trend. Following this dynamic picture - Our user profiles for each region (see below) are based on the most reliable current data (2015-2016, since 2016 data may be incomplete). \n",
    "\n",
    "7. **Reviews correlation with sales**: checked for X360 platform: No meaningful linear correlation between score and sales. It is noteworthy that the weak correlation between critic scores and sales (corr 0.39) is almost 4 times bigger than the much weaker correlation between user scores and sales (corr only 0.1 - very weak). The correlation (0.62) between critic and user scores is interesting - but didn't translate to sales. When checked for a much larger data (all platforms since 2008) - still no linear correlation between scores (user or critic) and sales. \n",
    "\n",
    "8. **Profitable genres**: Looking since 2008, 4 genres (Action, Shooter, Sports and Role-Playing) bring most of the sales. The total highest sales come from Action (more than 55% more than the socond one, Shooter), but it's mean sales-per-game is less than half (!) of Shooter, and it's very high sales come also from the biggest number of games (more than 3 times the Shotter number of games). On the time-line, the dominance of the above-mentioned 4 genres is pretty continuous, and still in place in 2015-2016. Action lost a lot of it's very prominent leading position (especially in 2008-2014), and Shooter seems to take the lead in 2015-2016. the 4 leading genres make together the big majority of all games sales. Some genres that were quite popular with pretty high sales in 2008 (e.g. Racing, Simulation) - became almost negligible later. \n",
    "\n",
    "\n",
    "9. **NA user profile**:\n",
    "- Top 5 platforms: PS4, XOne, 3DS, WiiU, X360 (first 2 bring 3/4 of all sales).\n",
    "\n",
    "- Top 5 Genres: Shooter, Action, Sports, Role-Playing, Fighting (first 4 bring more than 80% of all sales). \n",
    "\n",
    "- ESRB ratings: About 1/4 missing rating, \"Mature\" games bring the highest share of sales (31%), then \"Everyone\", then \"Teen\" (age 13+), and then E10+ (age 10+)\n",
    "\n",
    "10. **EU user profile**: \n",
    "- Top 5 platforms: PS4, XOne, PC, 3DS, PS3 (first 2 bring 3/4 of all sales, and PS4 alone brings 56.5% of sales).\n",
    "\n",
    "- Top 5 Genres: Shooter, Action, Sports, Role-Playing, Racing (first 4 bring more than 80% of all sales). \n",
    "\n",
    "- ESRB ratings: About 1/4 missing rating, \"Mature\" games bring the highest share of sales (~31%), then \"Everyone\", then \"Teen\" (age 13+), and then E10+ (age 10+)\n",
    "\n",
    "11. **JP user profile**:\n",
    "- Top 5 platforms: 3DS, PS4, PSV, PS3, WiiU (3DS alone brings almost half the market).\n",
    "\n",
    "- Top 5 Genres: Action, Role-Playing, Shooter, Adventure, Simulation (Action (43.2%) and Role-Playing (25.1%) make together almost 70% of JP games market). \n",
    "\n",
    "- ESRB ratings: 60%+ of all sales come from games with missing rating. Out of the rated games, \"Teen\" games bring the highest total sales, then \"Everyone\", then \"Mature\", and E10+ is last. \n",
    "\n",
    "12. **Sales changes over the years - per region**: NA had clear leadership of the sales, but from 2012 and on it's advantage is much lower than before, and in 2015-2016 it might have even been lost to EU (2016 data may be incomplete). JP part of the global sales was much smaller, and is much larger since the 2012 change (and growing since).\n",
    "\n",
    "13. **Testing statistical hypothesis 1**: Average user ratings of the Xbox One and PC platforms are the same.\n",
    "- Our null hypothesis to test was: The average user rating of the Xbox One and PC platforms are equal. the mean user rating of PC (7.06) is ~8% higher than that of XOne (6.52). Our statistical test showed that the probabillity that the difference between the means is random - is very low (and way smaller than our alpha), therefore we reject the hypothsis that the means are equal. \n",
    "\n",
    "14. **Testing statistical hypothesis 2**: Average user ratings for the Action and Sports genres are different. \n",
    "- Our null hypothesis to test was: The average user rating of the Action and Sports genres are equal. the mean user rating of Action (7.05) is only ~1% higher than that of Sports (6.96). Our statistical test showed that the probabillity that the tiny difference between the means is random - is quite high (and higher than our alpha) - therefore we can't reject the hypothsis that the means are equal.\n",
    "\n",
    "15. **Overall conclusion**: Actual Period's Sales success patterns, and the potential big winners by platform, genre and ESRB, were identified per region - and planning (campaigns etc.) should take these into account (but ESRB much less, due to large share of missing rating). There should be equal focus on NA and EU, and also focus on JP due to it's growing share of the global sales. "
   ]
  }
 ],
 "metadata": {
  "ExecuteTimeLog": [
   {
    "duration": 1453,
    "start_time": "2022-02-17T19:44:59.558Z"
   },
   {
    "duration": 49,
    "start_time": "2022-02-17T19:45:07.933Z"
   },
   {
    "duration": 33,
    "start_time": "2022-02-17T19:51:30.146Z"
   },
   {
    "duration": 20,
    "start_time": "2022-02-17T19:56:00.599Z"
   },
   {
    "duration": 18,
    "start_time": "2022-02-17T19:56:32.397Z"
   },
   {
    "duration": 15,
    "start_time": "2022-02-17T19:56:40.810Z"
   },
   {
    "duration": 584,
    "start_time": "2022-02-17T20:11:05.102Z"
   },
   {
    "duration": 13584,
    "start_time": "2022-02-17T20:11:21.780Z"
   },
   {
    "duration": 429,
    "start_time": "2022-02-17T20:12:14.003Z"
   },
   {
    "duration": 6,
    "start_time": "2022-02-17T20:13:01.615Z"
   },
   {
    "duration": 52,
    "start_time": "2022-02-17T20:13:01.624Z"
   },
   {
    "duration": 18,
    "start_time": "2022-02-17T20:13:01.678Z"
   },
   {
    "duration": 23,
    "start_time": "2022-02-17T20:13:01.699Z"
   },
   {
    "duration": 400,
    "start_time": "2022-02-17T20:13:05.282Z"
   },
   {
    "duration": 17,
    "start_time": "2022-02-17T20:14:26.635Z"
   },
   {
    "duration": 370,
    "start_time": "2022-02-17T20:16:04.188Z"
   },
   {
    "duration": 9,
    "start_time": "2022-02-17T20:16:13.328Z"
   },
   {
    "duration": 20,
    "start_time": "2022-02-17T20:17:28.255Z"
   },
   {
    "duration": 6,
    "start_time": "2022-02-17T20:40:48.133Z"
   },
   {
    "duration": 19,
    "start_time": "2022-02-17T20:50:21.713Z"
   },
   {
    "duration": 27,
    "start_time": "2022-02-17T20:52:24.152Z"
   },
   {
    "duration": 13,
    "start_time": "2022-02-17T21:29:04.581Z"
   },
   {
    "duration": 11030,
    "start_time": "2022-02-17T21:29:07.006Z"
   },
   {
    "duration": 20,
    "start_time": "2022-02-17T21:29:27.031Z"
   },
   {
    "duration": 24,
    "start_time": "2022-02-17T21:31:29.848Z"
   },
   {
    "duration": 20,
    "start_time": "2022-02-17T21:33:04.176Z"
   },
   {
    "duration": 18,
    "start_time": "2022-02-17T21:33:58.025Z"
   },
   {
    "duration": 590,
    "start_time": "2022-02-17T21:48:06.608Z"
   },
   {
    "duration": 11,
    "start_time": "2022-02-17T21:50:44.048Z"
   },
   {
    "duration": 13,
    "start_time": "2022-02-17T22:00:24.076Z"
   },
   {
    "duration": 19,
    "start_time": "2022-02-17T22:01:17.379Z"
   },
   {
    "duration": 12,
    "start_time": "2022-02-17T22:03:03.129Z"
   },
   {
    "duration": 16,
    "start_time": "2022-02-17T22:13:45.561Z"
   },
   {
    "duration": 16,
    "start_time": "2022-02-17T22:14:47.150Z"
   },
   {
    "duration": 11418,
    "start_time": "2022-02-17T22:29:01.519Z"
   },
   {
    "duration": 28,
    "start_time": "2022-02-17T22:30:00.184Z"
   },
   {
    "duration": 30,
    "start_time": "2022-02-17T22:30:23.718Z"
   },
   {
    "duration": 606,
    "start_time": "2022-02-17T22:38:03.742Z"
   },
   {
    "duration": 384,
    "start_time": "2022-02-17T22:41:07.086Z"
   },
   {
    "duration": 710,
    "start_time": "2022-02-17T22:41:43.538Z"
   },
   {
    "duration": 22,
    "start_time": "2022-02-17T23:03:06.666Z"
   },
   {
    "duration": 604,
    "start_time": "2022-02-17T23:03:57.794Z"
   },
   {
    "duration": 22,
    "start_time": "2022-02-17T23:04:55.745Z"
   },
   {
    "duration": 23,
    "start_time": "2022-02-17T23:05:27.813Z"
   },
   {
    "duration": 24,
    "start_time": "2022-02-17T23:11:06.303Z"
   },
   {
    "duration": 128,
    "start_time": "2022-02-17T23:27:35.579Z"
   },
   {
    "duration": 37,
    "start_time": "2022-02-17T23:28:34.344Z"
   },
   {
    "duration": 520,
    "start_time": "2022-02-17T23:40:35.849Z"
   },
   {
    "duration": 51,
    "start_time": "2022-02-17T23:40:50.926Z"
   },
   {
    "duration": 41,
    "start_time": "2022-02-17T23:47:52.560Z"
   },
   {
    "duration": 50,
    "start_time": "2022-02-17T23:50:12.598Z"
   },
   {
    "duration": 4412,
    "start_time": "2022-02-17T23:56:38.003Z"
   },
   {
    "duration": 27,
    "start_time": "2022-02-18T00:20:27.413Z"
   },
   {
    "duration": 459,
    "start_time": "2022-02-18T00:30:06.415Z"
   },
   {
    "duration": 560,
    "start_time": "2022-02-18T00:33:00.769Z"
   },
   {
    "duration": 456,
    "start_time": "2022-02-18T00:33:35.899Z"
   },
   {
    "duration": 519,
    "start_time": "2022-02-18T00:34:46.373Z"
   },
   {
    "duration": 518,
    "start_time": "2022-02-18T00:35:11.484Z"
   },
   {
    "duration": 442,
    "start_time": "2022-02-18T00:37:44.681Z"
   },
   {
    "duration": 477,
    "start_time": "2022-02-18T00:38:03.144Z"
   },
   {
    "duration": 375,
    "start_time": "2022-02-18T00:52:11.892Z"
   },
   {
    "duration": 379,
    "start_time": "2022-02-18T00:52:47.564Z"
   },
   {
    "duration": 459,
    "start_time": "2022-02-18T00:56:50.666Z"
   },
   {
    "duration": 496,
    "start_time": "2022-02-18T00:58:42.874Z"
   },
   {
    "duration": 489,
    "start_time": "2022-02-18T00:59:22.062Z"
   },
   {
    "duration": 14,
    "start_time": "2022-02-18T01:03:00.595Z"
   },
   {
    "duration": 353,
    "start_time": "2022-02-18T01:06:39.264Z"
   },
   {
    "duration": 125,
    "start_time": "2022-02-18T01:07:14.994Z"
   },
   {
    "duration": 4029,
    "start_time": "2022-02-18T01:07:23.326Z"
   },
   {
    "duration": 11,
    "start_time": "2022-02-18T01:10:41.866Z"
   },
   {
    "duration": 403,
    "start_time": "2022-02-18T01:18:17.875Z"
   },
   {
    "duration": 40,
    "start_time": "2022-02-18T01:19:34.465Z"
   },
   {
    "duration": 18,
    "start_time": "2022-02-18T01:22:19.544Z"
   },
   {
    "duration": 387,
    "start_time": "2022-02-18T01:25:15.492Z"
   },
   {
    "duration": 411,
    "start_time": "2022-02-18T01:27:37.855Z"
   },
   {
    "duration": 1008,
    "start_time": "2022-02-18T07:27:42.086Z"
   },
   {
    "duration": 38,
    "start_time": "2022-02-18T07:27:43.096Z"
   },
   {
    "duration": 16,
    "start_time": "2022-02-18T07:27:43.136Z"
   },
   {
    "duration": 11,
    "start_time": "2022-02-18T07:27:43.154Z"
   },
   {
    "duration": 14,
    "start_time": "2022-02-18T07:27:43.167Z"
   },
   {
    "duration": 5,
    "start_time": "2022-02-18T07:27:43.182Z"
   },
   {
    "duration": 8,
    "start_time": "2022-02-18T07:27:43.188Z"
   },
   {
    "duration": 33,
    "start_time": "2022-02-18T07:27:43.199Z"
   },
   {
    "duration": 16,
    "start_time": "2022-02-18T07:27:43.234Z"
   },
   {
    "duration": 8,
    "start_time": "2022-02-18T07:27:43.252Z"
   },
   {
    "duration": 12,
    "start_time": "2022-02-18T07:27:43.261Z"
   },
   {
    "duration": 17,
    "start_time": "2022-02-18T07:27:43.275Z"
   },
   {
    "duration": 49,
    "start_time": "2022-02-18T07:27:43.293Z"
   },
   {
    "duration": 438,
    "start_time": "2022-02-18T07:27:43.344Z"
   },
   {
    "duration": 17,
    "start_time": "2022-02-18T07:27:43.784Z"
   },
   {
    "duration": 52,
    "start_time": "2022-02-18T07:27:43.803Z"
   },
   {
    "duration": 3,
    "start_time": "2022-02-18T07:27:43.856Z"
   },
   {
    "duration": 24,
    "start_time": "2022-02-18T07:27:43.860Z"
   },
   {
    "duration": 291,
    "start_time": "2022-02-18T07:27:43.886Z"
   },
   {
    "duration": 294,
    "start_time": "2022-02-18T07:27:44.179Z"
   },
   {
    "duration": 313,
    "start_time": "2022-02-18T07:27:44.474Z"
   },
   {
    "duration": 2299,
    "start_time": "2022-02-18T07:27:44.789Z"
   },
   {
    "duration": 8,
    "start_time": "2022-02-18T07:27:47.091Z"
   },
   {
    "duration": 43,
    "start_time": "2022-02-18T07:27:47.101Z"
   },
   {
    "duration": 13,
    "start_time": "2022-02-18T07:27:47.146Z"
   },
   {
    "duration": 15,
    "start_time": "2022-02-18T07:27:54.973Z"
   },
   {
    "duration": 19,
    "start_time": "2022-02-18T07:28:07.917Z"
   },
   {
    "duration": 19,
    "start_time": "2022-02-18T07:30:43.140Z"
   },
   {
    "duration": 348,
    "start_time": "2022-02-18T21:54:49.233Z"
   },
   {
    "duration": 1201,
    "start_time": "2022-02-18T21:54:56.865Z"
   },
   {
    "duration": 40,
    "start_time": "2022-02-18T21:54:58.068Z"
   },
   {
    "duration": 18,
    "start_time": "2022-02-18T21:54:58.110Z"
   },
   {
    "duration": 16,
    "start_time": "2022-02-18T21:54:58.130Z"
   },
   {
    "duration": 18,
    "start_time": "2022-02-18T21:54:58.148Z"
   },
   {
    "duration": 5,
    "start_time": "2022-02-18T21:54:58.168Z"
   },
   {
    "duration": 37,
    "start_time": "2022-02-18T21:54:58.175Z"
   },
   {
    "duration": 11,
    "start_time": "2022-02-18T21:54:58.215Z"
   },
   {
    "duration": 20,
    "start_time": "2022-02-18T21:54:58.229Z"
   },
   {
    "duration": 8,
    "start_time": "2022-02-18T21:54:58.252Z"
   },
   {
    "duration": 45,
    "start_time": "2022-02-18T21:54:58.262Z"
   },
   {
    "duration": 20,
    "start_time": "2022-02-18T21:54:58.309Z"
   },
   {
    "duration": 23,
    "start_time": "2022-02-18T21:54:58.331Z"
   },
   {
    "duration": 484,
    "start_time": "2022-02-18T21:54:58.356Z"
   },
   {
    "duration": 18,
    "start_time": "2022-02-18T21:54:58.842Z"
   },
   {
    "duration": 56,
    "start_time": "2022-02-18T21:54:58.861Z"
   },
   {
    "duration": 4,
    "start_time": "2022-02-18T21:54:58.919Z"
   },
   {
    "duration": 22,
    "start_time": "2022-02-18T21:54:58.925Z"
   },
   {
    "duration": 360,
    "start_time": "2022-02-18T21:54:58.950Z"
   },
   {
    "duration": 358,
    "start_time": "2022-02-18T21:54:59.312Z"
   },
   {
    "duration": 381,
    "start_time": "2022-02-18T21:54:59.672Z"
   },
   {
    "duration": 2705,
    "start_time": "2022-02-18T21:55:00.056Z"
   },
   {
    "duration": 11,
    "start_time": "2022-02-18T21:55:02.764Z"
   },
   {
    "duration": 52,
    "start_time": "2022-02-18T21:55:02.777Z"
   },
   {
    "duration": 14,
    "start_time": "2022-02-18T21:55:02.832Z"
   },
   {
    "duration": 31,
    "start_time": "2022-02-18T21:55:02.848Z"
   },
   {
    "duration": 53,
    "start_time": "2022-02-18T21:55:06.753Z"
   },
   {
    "duration": 51,
    "start_time": "2022-02-18T21:56:26.186Z"
   },
   {
    "duration": 574,
    "start_time": "2022-02-18T22:01:11.688Z"
   },
   {
    "duration": 339,
    "start_time": "2022-02-18T22:02:20.592Z"
   },
   {
    "duration": 26,
    "start_time": "2022-02-18T22:02:38.789Z"
   },
   {
    "duration": 5,
    "start_time": "2022-02-18T22:03:35.887Z"
   },
   {
    "duration": 27,
    "start_time": "2022-02-18T22:04:13.481Z"
   },
   {
    "duration": 552,
    "start_time": "2022-02-18T22:04:43.812Z"
   },
   {
    "duration": 651,
    "start_time": "2022-02-18T22:05:19.677Z"
   },
   {
    "duration": 570,
    "start_time": "2022-02-18T22:05:41.055Z"
   },
   {
    "duration": 620,
    "start_time": "2022-02-18T22:08:15.004Z"
   },
   {
    "duration": 614,
    "start_time": "2022-02-18T22:08:39.659Z"
   },
   {
    "duration": 445,
    "start_time": "2022-02-18T22:17:49.241Z"
   },
   {
    "duration": 624,
    "start_time": "2022-02-18T22:18:31.745Z"
   },
   {
    "duration": 506,
    "start_time": "2022-02-18T22:19:03.546Z"
   },
   {
    "duration": 487,
    "start_time": "2022-02-18T22:19:22.181Z"
   },
   {
    "duration": 20,
    "start_time": "2022-02-18T22:40:05.019Z"
   },
   {
    "duration": 502,
    "start_time": "2022-02-18T22:41:54.725Z"
   },
   {
    "duration": 333,
    "start_time": "2022-02-20T04:30:46.374Z"
   },
   {
    "duration": 1454,
    "start_time": "2022-02-20T04:30:51.809Z"
   },
   {
    "duration": 49,
    "start_time": "2022-02-20T04:30:53.266Z"
   },
   {
    "duration": 22,
    "start_time": "2022-02-20T04:30:53.318Z"
   },
   {
    "duration": 26,
    "start_time": "2022-02-20T04:30:53.342Z"
   },
   {
    "duration": 20,
    "start_time": "2022-02-20T04:30:53.371Z"
   },
   {
    "duration": 6,
    "start_time": "2022-02-20T04:30:53.394Z"
   },
   {
    "duration": 11,
    "start_time": "2022-02-20T04:30:53.402Z"
   },
   {
    "duration": 49,
    "start_time": "2022-02-20T04:30:53.416Z"
   },
   {
    "duration": 21,
    "start_time": "2022-02-20T04:30:53.469Z"
   },
   {
    "duration": 11,
    "start_time": "2022-02-20T04:30:53.493Z"
   },
   {
    "duration": 54,
    "start_time": "2022-02-20T04:30:53.506Z"
   },
   {
    "duration": 24,
    "start_time": "2022-02-20T04:30:53.563Z"
   },
   {
    "duration": 28,
    "start_time": "2022-02-20T04:30:53.589Z"
   },
   {
    "duration": 760,
    "start_time": "2022-02-20T04:30:53.619Z"
   },
   {
    "duration": 719,
    "start_time": "2022-02-20T04:30:54.382Z"
   },
   {
    "duration": 24,
    "start_time": "2022-02-20T04:30:55.103Z"
   },
   {
    "duration": 70,
    "start_time": "2022-02-20T04:30:55.129Z"
   },
   {
    "duration": 28,
    "start_time": "2022-02-20T04:30:55.202Z"
   },
   {
    "duration": 56,
    "start_time": "2022-02-20T04:30:55.232Z"
   },
   {
    "duration": 509,
    "start_time": "2022-02-20T04:30:55.295Z"
   },
   {
    "duration": 523,
    "start_time": "2022-02-20T04:30:55.807Z"
   },
   {
    "duration": 531,
    "start_time": "2022-02-20T04:30:56.333Z"
   },
   {
    "duration": 4181,
    "start_time": "2022-02-20T04:30:56.866Z"
   },
   {
    "duration": 21,
    "start_time": "2022-02-20T04:31:01.050Z"
   },
   {
    "duration": 49,
    "start_time": "2022-02-20T04:31:01.073Z"
   },
   {
    "duration": 38,
    "start_time": "2022-02-20T04:31:01.124Z"
   },
   {
    "duration": 8,
    "start_time": "2022-02-20T04:31:07.506Z"
   },
   {
    "duration": 22,
    "start_time": "2022-02-20T04:31:44.934Z"
   },
   {
    "duration": 36,
    "start_time": "2022-02-20T04:34:12.601Z"
   },
   {
    "duration": 853,
    "start_time": "2022-02-20T04:35:22.870Z"
   },
   {
    "duration": 787,
    "start_time": "2022-02-20T07:54:05.459Z"
   },
   {
    "duration": 1880,
    "start_time": "2022-02-20T07:54:19.815Z"
   },
   {
    "duration": 61,
    "start_time": "2022-02-20T07:54:21.698Z"
   },
   {
    "duration": 23,
    "start_time": "2022-02-20T07:54:21.763Z"
   },
   {
    "duration": 22,
    "start_time": "2022-02-20T07:54:21.789Z"
   },
   {
    "duration": 24,
    "start_time": "2022-02-20T07:54:21.814Z"
   },
   {
    "duration": 6,
    "start_time": "2022-02-20T07:54:21.841Z"
   },
   {
    "duration": 13,
    "start_time": "2022-02-20T07:54:21.849Z"
   },
   {
    "duration": 54,
    "start_time": "2022-02-20T07:54:21.866Z"
   },
   {
    "duration": 26,
    "start_time": "2022-02-20T07:54:21.924Z"
   },
   {
    "duration": 11,
    "start_time": "2022-02-20T07:54:21.953Z"
   },
   {
    "duration": 55,
    "start_time": "2022-02-20T07:54:21.969Z"
   },
   {
    "duration": 26,
    "start_time": "2022-02-20T07:54:22.027Z"
   },
   {
    "duration": 54,
    "start_time": "2022-02-20T07:54:22.058Z"
   },
   {
    "duration": 745,
    "start_time": "2022-02-20T07:54:22.114Z"
   },
   {
    "duration": 1008,
    "start_time": "2022-02-20T07:54:22.861Z"
   },
   {
    "duration": 43,
    "start_time": "2022-02-20T07:54:23.872Z"
   },
   {
    "duration": 55,
    "start_time": "2022-02-20T07:54:23.917Z"
   },
   {
    "duration": 51,
    "start_time": "2022-02-20T07:54:23.975Z"
   },
   {
    "duration": 751,
    "start_time": "2022-02-20T07:54:26.825Z"
   },
   {
    "duration": 450,
    "start_time": "2022-02-20T07:55:04.300Z"
   },
   {
    "duration": 40,
    "start_time": "2022-02-20T07:55:20.508Z"
   },
   {
    "duration": 1743,
    "start_time": "2022-02-20T07:56:26.023Z"
   },
   {
    "duration": 50,
    "start_time": "2022-02-20T07:56:27.769Z"
   },
   {
    "duration": 24,
    "start_time": "2022-02-20T07:56:27.822Z"
   },
   {
    "duration": 15,
    "start_time": "2022-02-20T07:56:27.848Z"
   },
   {
    "duration": 52,
    "start_time": "2022-02-20T07:56:27.865Z"
   },
   {
    "duration": 6,
    "start_time": "2022-02-20T07:56:27.919Z"
   },
   {
    "duration": 13,
    "start_time": "2022-02-20T07:56:27.928Z"
   },
   {
    "duration": 13,
    "start_time": "2022-02-20T07:56:27.945Z"
   },
   {
    "duration": 66,
    "start_time": "2022-02-20T07:56:27.961Z"
   },
   {
    "duration": 12,
    "start_time": "2022-02-20T07:56:28.029Z"
   },
   {
    "duration": 21,
    "start_time": "2022-02-20T07:56:28.044Z"
   },
   {
    "duration": 59,
    "start_time": "2022-02-20T07:56:28.067Z"
   },
   {
    "duration": 30,
    "start_time": "2022-02-20T07:56:28.128Z"
   },
   {
    "duration": 873,
    "start_time": "2022-02-20T07:56:28.160Z"
   },
   {
    "duration": 932,
    "start_time": "2022-02-20T07:56:29.036Z"
   },
   {
    "duration": 40,
    "start_time": "2022-02-20T07:56:29.970Z"
   },
   {
    "duration": 55,
    "start_time": "2022-02-20T07:56:30.013Z"
   },
   {
    "duration": 47,
    "start_time": "2022-02-20T07:56:30.071Z"
   },
   {
    "duration": 41,
    "start_time": "2022-02-20T07:56:37.278Z"
   },
   {
    "duration": 34,
    "start_time": "2022-02-20T07:57:06.878Z"
   },
   {
    "duration": 4,
    "start_time": "2022-02-20T08:02:43.311Z"
   },
   {
    "duration": 82,
    "start_time": "2022-02-20T08:02:43.319Z"
   },
   {
    "duration": 27,
    "start_time": "2022-02-20T08:02:43.405Z"
   },
   {
    "duration": 22,
    "start_time": "2022-02-20T08:02:43.436Z"
   },
   {
    "duration": 57,
    "start_time": "2022-02-20T08:02:43.461Z"
   },
   {
    "duration": 6,
    "start_time": "2022-02-20T08:02:43.521Z"
   },
   {
    "duration": 12,
    "start_time": "2022-02-20T08:02:43.530Z"
   },
   {
    "duration": 12,
    "start_time": "2022-02-20T08:02:43.546Z"
   },
   {
    "duration": 60,
    "start_time": "2022-02-20T08:02:43.561Z"
   },
   {
    "duration": 13,
    "start_time": "2022-02-20T08:02:43.625Z"
   },
   {
    "duration": 20,
    "start_time": "2022-02-20T08:02:43.640Z"
   },
   {
    "duration": 64,
    "start_time": "2022-02-20T08:02:43.662Z"
   },
   {
    "duration": 31,
    "start_time": "2022-02-20T08:02:43.728Z"
   },
   {
    "duration": 852,
    "start_time": "2022-02-20T08:02:43.761Z"
   },
   {
    "duration": 826,
    "start_time": "2022-02-20T08:02:44.616Z"
   },
   {
    "duration": 27,
    "start_time": "2022-02-20T08:02:45.444Z"
   },
   {
    "duration": 96,
    "start_time": "2022-02-20T08:02:45.474Z"
   },
   {
    "duration": 45,
    "start_time": "2022-02-20T08:02:45.572Z"
   },
   {
    "duration": 44,
    "start_time": "2022-02-20T08:02:45.620Z"
   },
   {
    "duration": 52,
    "start_time": "2022-02-20T08:02:45.666Z"
   },
   {
    "duration": 650,
    "start_time": "2022-02-20T08:02:45.721Z"
   },
   {
    "duration": 531,
    "start_time": "2022-02-20T08:02:46.374Z"
   },
   {
    "duration": 624,
    "start_time": "2022-02-20T08:02:46.914Z"
   },
   {
    "duration": 3877,
    "start_time": "2022-02-20T08:02:47.542Z"
   },
   {
    "duration": 17,
    "start_time": "2022-02-20T08:02:51.423Z"
   },
   {
    "duration": 77,
    "start_time": "2022-02-20T08:02:51.443Z"
   },
   {
    "duration": 22,
    "start_time": "2022-02-20T08:02:51.523Z"
   },
   {
    "duration": 135,
    "start_time": "2022-02-20T08:02:51.548Z"
   },
   {
    "duration": 62,
    "start_time": "2022-02-20T08:02:51.686Z"
   },
   {
    "duration": 959,
    "start_time": "2022-02-20T08:02:51.751Z"
   },
   {
    "duration": 33,
    "start_time": "2022-02-20T08:05:24.513Z"
   },
   {
    "duration": 147,
    "start_time": "2022-02-20T08:29:56.694Z"
   },
   {
    "duration": 35,
    "start_time": "2022-02-20T08:30:03.680Z"
   },
   {
    "duration": 29,
    "start_time": "2022-02-20T08:31:29.949Z"
   },
   {
    "duration": 30,
    "start_time": "2022-02-20T08:35:33.032Z"
   },
   {
    "duration": 1606,
    "start_time": "2022-02-20T08:40:19.546Z"
   },
   {
    "duration": 28,
    "start_time": "2022-02-20T08:41:27.708Z"
   },
   {
    "duration": 131,
    "start_time": "2022-02-20T08:41:58.262Z"
   },
   {
    "duration": 544,
    "start_time": "2022-02-20T08:42:14.358Z"
   },
   {
    "duration": 520,
    "start_time": "2022-02-20T08:42:56.862Z"
   },
   {
    "duration": 509,
    "start_time": "2022-02-20T08:46:40.216Z"
   },
   {
    "duration": 27,
    "start_time": "2022-02-20T08:53:36.896Z"
   },
   {
    "duration": 28,
    "start_time": "2022-02-20T08:54:17.724Z"
   },
   {
    "duration": 473,
    "start_time": "2022-02-20T08:56:56.831Z"
   },
   {
    "duration": 641,
    "start_time": "2022-02-20T08:57:41.494Z"
   },
   {
    "duration": 29,
    "start_time": "2022-02-20T09:04:00.835Z"
   },
   {
    "duration": 824,
    "start_time": "2022-02-20T09:05:56.772Z"
   },
   {
    "duration": 48,
    "start_time": "2022-02-20T09:12:56.916Z"
   },
   {
    "duration": 25,
    "start_time": "2022-02-20T09:14:30.440Z"
   },
   {
    "duration": 26,
    "start_time": "2022-02-20T09:14:46.676Z"
   },
   {
    "duration": 706,
    "start_time": "2022-02-20T09:15:15.540Z"
   },
   {
    "duration": 1075,
    "start_time": "2022-02-20T09:34:33.338Z"
   },
   {
    "duration": 701,
    "start_time": "2022-02-20T09:36:57.129Z"
   },
   {
    "duration": 1087,
    "start_time": "2022-02-20T09:37:28.168Z"
   },
   {
    "duration": 55,
    "start_time": "2022-02-20T09:51:50.423Z"
   },
   {
    "duration": 44,
    "start_time": "2022-02-20T09:53:02.934Z"
   },
   {
    "duration": 17,
    "start_time": "2022-02-20T10:00:28.958Z"
   },
   {
    "duration": 122,
    "start_time": "2022-02-20T10:04:51.512Z"
   },
   {
    "duration": 34,
    "start_time": "2022-02-20T10:18:12.017Z"
   },
   {
    "duration": 17,
    "start_time": "2022-02-20T10:23:49.135Z"
   },
   {
    "duration": 5,
    "start_time": "2022-02-20T10:44:22.281Z"
   },
   {
    "duration": 23,
    "start_time": "2022-02-20T10:57:17.972Z"
   },
   {
    "duration": 676,
    "start_time": "2022-02-20T13:24:51.685Z"
   },
   {
    "duration": 555,
    "start_time": "2022-02-20T13:25:28.831Z"
   },
   {
    "duration": 1526,
    "start_time": "2022-02-20T13:45:05.784Z"
   },
   {
    "duration": 50,
    "start_time": "2022-02-20T13:45:07.313Z"
   },
   {
    "duration": 24,
    "start_time": "2022-02-20T13:45:07.365Z"
   },
   {
    "duration": 29,
    "start_time": "2022-02-20T13:45:07.392Z"
   },
   {
    "duration": 23,
    "start_time": "2022-02-20T13:45:07.423Z"
   },
   {
    "duration": 6,
    "start_time": "2022-02-20T13:45:07.448Z"
   },
   {
    "duration": 11,
    "start_time": "2022-02-20T13:45:07.457Z"
   },
   {
    "duration": 46,
    "start_time": "2022-02-20T13:45:07.472Z"
   },
   {
    "duration": 23,
    "start_time": "2022-02-20T13:45:07.522Z"
   },
   {
    "duration": 11,
    "start_time": "2022-02-20T13:45:07.547Z"
   },
   {
    "duration": 57,
    "start_time": "2022-02-20T13:45:07.560Z"
   },
   {
    "duration": 18,
    "start_time": "2022-02-20T13:45:07.620Z"
   },
   {
    "duration": 25,
    "start_time": "2022-02-20T13:45:07.640Z"
   },
   {
    "duration": 65,
    "start_time": "2022-02-20T13:45:07.668Z"
   },
   {
    "duration": 874,
    "start_time": "2022-02-20T13:45:07.737Z"
   },
   {
    "duration": 733,
    "start_time": "2022-02-20T13:45:08.613Z"
   },
   {
    "duration": 25,
    "start_time": "2022-02-20T13:45:09.348Z"
   },
   {
    "duration": 77,
    "start_time": "2022-02-20T13:45:09.375Z"
   },
   {
    "duration": 24,
    "start_time": "2022-02-20T13:45:09.455Z"
   },
   {
    "duration": 53,
    "start_time": "2022-02-20T13:45:09.482Z"
   },
   {
    "duration": 26,
    "start_time": "2022-02-20T13:45:09.538Z"
   },
   {
    "duration": 614,
    "start_time": "2022-02-20T13:45:09.566Z"
   },
   {
    "duration": 539,
    "start_time": "2022-02-20T13:45:10.183Z"
   },
   {
    "duration": 486,
    "start_time": "2022-02-20T13:45:10.724Z"
   },
   {
    "duration": 12,
    "start_time": "2022-02-20T13:45:11.213Z"
   },
   {
    "duration": 19,
    "start_time": "2022-02-20T13:45:26.754Z"
   },
   {
    "duration": 14,
    "start_time": "2022-02-20T13:47:08.257Z"
   },
   {
    "duration": 32,
    "start_time": "2022-02-20T13:48:59.860Z"
   },
   {
    "duration": 40,
    "start_time": "2022-02-20T13:57:51.910Z"
   },
   {
    "duration": 861,
    "start_time": "2022-02-20T14:05:06.212Z"
   },
   {
    "duration": 38,
    "start_time": "2022-02-20T14:28:50.723Z"
   },
   {
    "duration": 892,
    "start_time": "2022-02-20T14:40:01.018Z"
   },
   {
    "duration": 28,
    "start_time": "2022-02-20T15:03:00.462Z"
   },
   {
    "duration": 725,
    "start_time": "2022-02-20T15:10:29.147Z"
   },
   {
    "duration": 27,
    "start_time": "2022-02-20T15:28:02.650Z"
   },
   {
    "duration": 603,
    "start_time": "2022-02-20T15:41:23.238Z"
   },
   {
    "duration": 25,
    "start_time": "2022-02-20T15:44:55.801Z"
   },
   {
    "duration": 1182,
    "start_time": "2022-02-20T16:05:06.395Z"
   },
   {
    "duration": 45,
    "start_time": "2022-02-20T16:16:14.747Z"
   },
   {
    "duration": 30,
    "start_time": "2022-02-20T16:16:38.140Z"
   },
   {
    "duration": 38,
    "start_time": "2022-02-20T16:16:46.750Z"
   },
   {
    "duration": 16,
    "start_time": "2022-02-20T16:16:53.578Z"
   },
   {
    "duration": 106,
    "start_time": "2022-02-21T04:27:30.972Z"
   },
   {
    "duration": 1477,
    "start_time": "2022-02-21T07:30:18.847Z"
   },
   {
    "duration": 46,
    "start_time": "2022-02-21T07:30:20.327Z"
   },
   {
    "duration": 24,
    "start_time": "2022-02-21T07:30:20.376Z"
   },
   {
    "duration": 25,
    "start_time": "2022-02-21T07:30:20.403Z"
   },
   {
    "duration": 40,
    "start_time": "2022-02-21T07:30:20.430Z"
   },
   {
    "duration": 16,
    "start_time": "2022-02-21T07:30:20.473Z"
   },
   {
    "duration": 30,
    "start_time": "2022-02-21T07:30:20.492Z"
   },
   {
    "duration": 38,
    "start_time": "2022-02-21T07:30:20.525Z"
   },
   {
    "duration": 23,
    "start_time": "2022-02-21T07:30:20.566Z"
   },
   {
    "duration": 23,
    "start_time": "2022-02-21T07:30:20.591Z"
   },
   {
    "duration": 39,
    "start_time": "2022-02-21T07:30:20.617Z"
   },
   {
    "duration": 44,
    "start_time": "2022-02-21T07:30:20.659Z"
   },
   {
    "duration": 25,
    "start_time": "2022-02-21T07:30:29.659Z"
   },
   {
    "duration": 5,
    "start_time": "2022-02-21T07:49:44.636Z"
   },
   {
    "duration": 47,
    "start_time": "2022-02-21T07:49:44.644Z"
   },
   {
    "duration": 19,
    "start_time": "2022-02-21T07:49:44.694Z"
   },
   {
    "duration": 33,
    "start_time": "2022-02-21T07:49:44.717Z"
   },
   {
    "duration": 23,
    "start_time": "2022-02-21T07:49:44.752Z"
   },
   {
    "duration": 8,
    "start_time": "2022-02-21T07:49:44.778Z"
   },
   {
    "duration": 17,
    "start_time": "2022-02-21T07:49:44.788Z"
   },
   {
    "duration": 48,
    "start_time": "2022-02-21T07:49:44.807Z"
   },
   {
    "duration": 22,
    "start_time": "2022-02-21T07:49:44.860Z"
   },
   {
    "duration": 11,
    "start_time": "2022-02-21T07:49:44.886Z"
   },
   {
    "duration": 56,
    "start_time": "2022-02-21T07:49:44.899Z"
   },
   {
    "duration": 25,
    "start_time": "2022-02-21T07:49:44.958Z"
   },
   {
    "duration": 35,
    "start_time": "2022-02-21T07:49:44.986Z"
   },
   {
    "duration": 30,
    "start_time": "2022-02-21T07:49:45.048Z"
   },
   {
    "duration": 748,
    "start_time": "2022-02-21T07:49:45.081Z"
   },
   {
    "duration": 836,
    "start_time": "2022-02-21T07:49:45.832Z"
   },
   {
    "duration": 25,
    "start_time": "2022-02-21T07:49:46.670Z"
   },
   {
    "duration": 78,
    "start_time": "2022-02-21T07:49:46.697Z"
   },
   {
    "duration": 26,
    "start_time": "2022-02-21T07:49:46.778Z"
   },
   {
    "duration": 56,
    "start_time": "2022-02-21T07:49:46.806Z"
   },
   {
    "duration": 26,
    "start_time": "2022-02-21T07:49:46.865Z"
   },
   {
    "duration": 661,
    "start_time": "2022-02-21T07:49:46.893Z"
   },
   {
    "duration": 557,
    "start_time": "2022-02-21T07:49:47.557Z"
   },
   {
    "duration": 539,
    "start_time": "2022-02-21T07:49:48.117Z"
   },
   {
    "duration": 32,
    "start_time": "2022-02-21T07:49:48.658Z"
   },
   {
    "duration": 25,
    "start_time": "2022-02-21T07:49:48.693Z"
   },
   {
    "duration": 49,
    "start_time": "2022-02-21T07:49:48.723Z"
   },
   {
    "duration": 40,
    "start_time": "2022-02-21T07:49:48.775Z"
   },
   {
    "duration": 901,
    "start_time": "2022-02-21T07:49:48.818Z"
   },
   {
    "duration": 46,
    "start_time": "2022-02-21T07:49:49.722Z"
   },
   {
    "duration": 658,
    "start_time": "2022-02-21T07:49:49.770Z"
   },
   {
    "duration": 37,
    "start_time": "2022-02-21T07:49:50.431Z"
   },
   {
    "duration": 748,
    "start_time": "2022-02-21T07:49:50.471Z"
   },
   {
    "duration": 40,
    "start_time": "2022-02-21T07:49:51.221Z"
   },
   {
    "duration": 20,
    "start_time": "2022-02-21T07:49:55.151Z"
   },
   {
    "duration": 5,
    "start_time": "2022-02-21T08:02:10.916Z"
   },
   {
    "duration": 66,
    "start_time": "2022-02-21T08:02:10.925Z"
   },
   {
    "duration": 20,
    "start_time": "2022-02-21T08:02:10.996Z"
   },
   {
    "duration": 39,
    "start_time": "2022-02-21T08:02:11.019Z"
   },
   {
    "duration": 24,
    "start_time": "2022-02-21T08:02:11.062Z"
   },
   {
    "duration": 8,
    "start_time": "2022-02-21T08:02:11.088Z"
   },
   {
    "duration": 52,
    "start_time": "2022-02-21T08:02:11.098Z"
   },
   {
    "duration": 18,
    "start_time": "2022-02-21T08:02:11.152Z"
   },
   {
    "duration": 26,
    "start_time": "2022-02-21T08:02:11.175Z"
   },
   {
    "duration": 12,
    "start_time": "2022-02-21T08:02:11.204Z"
   },
   {
    "duration": 25,
    "start_time": "2022-02-21T08:02:11.248Z"
   },
   {
    "duration": 41,
    "start_time": "2022-02-21T08:02:11.276Z"
   },
   {
    "duration": 33,
    "start_time": "2022-02-21T08:02:11.320Z"
   },
   {
    "duration": 29,
    "start_time": "2022-02-21T08:02:11.356Z"
   },
   {
    "duration": 850,
    "start_time": "2022-02-21T08:02:11.387Z"
   },
   {
    "duration": 732,
    "start_time": "2022-02-21T08:02:12.239Z"
   },
   {
    "duration": 26,
    "start_time": "2022-02-21T08:02:12.973Z"
   },
   {
    "duration": 78,
    "start_time": "2022-02-21T08:02:13.001Z"
   },
   {
    "duration": 26,
    "start_time": "2022-02-21T08:02:13.082Z"
   },
   {
    "duration": 58,
    "start_time": "2022-02-21T08:02:13.111Z"
   },
   {
    "duration": 27,
    "start_time": "2022-02-21T08:02:13.172Z"
   },
   {
    "duration": 601,
    "start_time": "2022-02-21T08:02:13.201Z"
   },
   {
    "duration": 485,
    "start_time": "2022-02-21T08:02:13.805Z"
   },
   {
    "duration": 486,
    "start_time": "2022-02-21T08:02:14.295Z"
   },
   {
    "duration": 13,
    "start_time": "2022-02-21T08:02:14.784Z"
   },
   {
    "duration": 17,
    "start_time": "2022-02-21T08:02:14.800Z"
   },
   {
    "duration": 53,
    "start_time": "2022-02-21T08:02:14.819Z"
   },
   {
    "duration": 38,
    "start_time": "2022-02-21T08:02:14.875Z"
   },
   {
    "duration": 860,
    "start_time": "2022-02-21T08:02:14.916Z"
   },
   {
    "duration": 27,
    "start_time": "2022-02-21T08:02:15.779Z"
   },
   {
    "duration": 744,
    "start_time": "2022-02-21T08:02:15.809Z"
   },
   {
    "duration": 27,
    "start_time": "2022-02-21T08:02:16.555Z"
   },
   {
    "duration": 751,
    "start_time": "2022-02-21T08:02:16.585Z"
   },
   {
    "duration": 30,
    "start_time": "2022-02-21T08:02:23.692Z"
   },
   {
    "duration": 533,
    "start_time": "2022-02-21T08:07:17.323Z"
   },
   {
    "duration": 13,
    "start_time": "2022-02-21T08:52:10.282Z"
   },
   {
    "duration": 28,
    "start_time": "2022-02-21T08:59:05.786Z"
   },
   {
    "duration": 1621,
    "start_time": "2022-02-21T08:59:42.450Z"
   },
   {
    "duration": 43,
    "start_time": "2022-02-21T08:59:44.075Z"
   },
   {
    "duration": 36,
    "start_time": "2022-02-21T08:59:44.123Z"
   },
   {
    "duration": 16,
    "start_time": "2022-02-21T08:59:44.163Z"
   },
   {
    "duration": 23,
    "start_time": "2022-02-21T08:59:44.182Z"
   },
   {
    "duration": 51,
    "start_time": "2022-02-21T08:59:44.207Z"
   },
   {
    "duration": 6,
    "start_time": "2022-02-21T08:59:44.261Z"
   },
   {
    "duration": 10,
    "start_time": "2022-02-21T08:59:44.271Z"
   },
   {
    "duration": 12,
    "start_time": "2022-02-21T08:59:44.284Z"
   },
   {
    "duration": 67,
    "start_time": "2022-02-21T08:59:44.298Z"
   },
   {
    "duration": 13,
    "start_time": "2022-02-21T08:59:44.368Z"
   },
   {
    "duration": 19,
    "start_time": "2022-02-21T08:59:44.384Z"
   },
   {
    "duration": 52,
    "start_time": "2022-02-21T08:59:44.406Z"
   },
   {
    "duration": 24,
    "start_time": "2022-02-21T08:59:44.460Z"
   },
   {
    "duration": 29,
    "start_time": "2022-02-21T08:59:44.487Z"
   },
   {
    "duration": 760,
    "start_time": "2022-02-21T08:59:44.519Z"
   },
   {
    "duration": 791,
    "start_time": "2022-02-21T08:59:45.281Z"
   },
   {
    "duration": 25,
    "start_time": "2022-02-21T08:59:46.075Z"
   },
   {
    "duration": 74,
    "start_time": "2022-02-21T08:59:46.102Z"
   },
   {
    "duration": 24,
    "start_time": "2022-02-21T08:59:46.179Z"
   },
   {
    "duration": 55,
    "start_time": "2022-02-21T08:59:46.205Z"
   },
   {
    "duration": 26,
    "start_time": "2022-02-21T08:59:46.262Z"
   },
   {
    "duration": 605,
    "start_time": "2022-02-21T08:59:46.292Z"
   },
   {
    "duration": 536,
    "start_time": "2022-02-21T08:59:46.901Z"
   },
   {
    "duration": 491,
    "start_time": "2022-02-21T08:59:47.440Z"
   },
   {
    "duration": 21,
    "start_time": "2022-02-21T08:59:47.934Z"
   },
   {
    "duration": 15,
    "start_time": "2022-02-21T08:59:47.958Z"
   },
   {
    "duration": 29,
    "start_time": "2022-02-21T08:59:47.976Z"
   },
   {
    "duration": 62,
    "start_time": "2022-02-21T08:59:48.008Z"
   },
   {
    "duration": 876,
    "start_time": "2022-02-21T08:59:48.072Z"
   },
   {
    "duration": 27,
    "start_time": "2022-02-21T08:59:48.951Z"
   },
   {
    "duration": 635,
    "start_time": "2022-02-21T08:59:48.980Z"
   },
   {
    "duration": 41,
    "start_time": "2022-02-21T08:59:49.617Z"
   },
   {
    "duration": 736,
    "start_time": "2022-02-21T08:59:49.660Z"
   },
   {
    "duration": 28,
    "start_time": "2022-02-21T08:59:53.851Z"
   },
   {
    "duration": 623,
    "start_time": "2022-02-21T09:00:00.417Z"
   },
   {
    "duration": 5,
    "start_time": "2022-02-21T09:00:18.626Z"
   },
   {
    "duration": 51,
    "start_time": "2022-02-21T09:00:18.636Z"
   },
   {
    "duration": 18,
    "start_time": "2022-02-21T09:00:18.690Z"
   },
   {
    "duration": 39,
    "start_time": "2022-02-21T09:00:18.711Z"
   },
   {
    "duration": 30,
    "start_time": "2022-02-21T09:00:18.753Z"
   },
   {
    "duration": 12,
    "start_time": "2022-02-21T09:00:18.786Z"
   },
   {
    "duration": 6,
    "start_time": "2022-02-21T09:00:18.801Z"
   },
   {
    "duration": 10,
    "start_time": "2022-02-21T09:00:18.850Z"
   },
   {
    "duration": 14,
    "start_time": "2022-02-21T09:00:18.865Z"
   },
   {
    "duration": 23,
    "start_time": "2022-02-21T09:00:18.882Z"
   },
   {
    "duration": 51,
    "start_time": "2022-02-21T09:00:18.908Z"
   },
   {
    "duration": 21,
    "start_time": "2022-02-21T09:00:18.962Z"
   },
   {
    "duration": 20,
    "start_time": "2022-02-21T09:00:18.986Z"
   },
   {
    "duration": 55,
    "start_time": "2022-02-21T09:00:19.009Z"
   },
   {
    "duration": 27,
    "start_time": "2022-02-21T09:00:19.067Z"
   },
   {
    "duration": 723,
    "start_time": "2022-02-21T09:00:19.097Z"
   },
   {
    "duration": 728,
    "start_time": "2022-02-21T09:00:19.823Z"
   },
   {
    "duration": 24,
    "start_time": "2022-02-21T09:00:20.553Z"
   },
   {
    "duration": 77,
    "start_time": "2022-02-21T09:00:20.579Z"
   },
   {
    "duration": 27,
    "start_time": "2022-02-21T09:00:20.658Z"
   },
   {
    "duration": 62,
    "start_time": "2022-02-21T09:00:20.688Z"
   },
   {
    "duration": 29,
    "start_time": "2022-02-21T09:00:20.753Z"
   },
   {
    "duration": 595,
    "start_time": "2022-02-21T09:00:20.784Z"
   },
   {
    "duration": 449,
    "start_time": "2022-02-21T09:00:21.384Z"
   },
   {
    "duration": 501,
    "start_time": "2022-02-21T09:00:21.837Z"
   },
   {
    "duration": 18,
    "start_time": "2022-02-21T09:00:22.341Z"
   },
   {
    "duration": 15,
    "start_time": "2022-02-21T09:00:22.362Z"
   },
   {
    "duration": 32,
    "start_time": "2022-02-21T09:00:22.379Z"
   },
   {
    "duration": 38,
    "start_time": "2022-02-21T09:00:22.449Z"
   },
   {
    "duration": 930,
    "start_time": "2022-02-21T09:00:22.490Z"
   },
   {
    "duration": 41,
    "start_time": "2022-02-21T09:00:23.423Z"
   },
   {
    "duration": 615,
    "start_time": "2022-02-21T09:00:23.466Z"
   },
   {
    "duration": 27,
    "start_time": "2022-02-21T09:00:24.084Z"
   },
   {
    "duration": 712,
    "start_time": "2022-02-21T09:00:24.113Z"
   },
   {
    "duration": 40,
    "start_time": "2022-02-21T09:00:24.828Z"
   },
   {
    "duration": 543,
    "start_time": "2022-02-21T09:00:24.871Z"
   },
   {
    "duration": 1125,
    "start_time": "2022-02-21T09:00:25.417Z"
   },
   {
    "duration": 39,
    "start_time": "2022-02-21T09:00:26.549Z"
   },
   {
    "duration": 23,
    "start_time": "2022-02-21T09:00:26.591Z"
   },
   {
    "duration": 41,
    "start_time": "2022-02-21T09:00:26.649Z"
   },
   {
    "duration": 15,
    "start_time": "2022-02-21T09:00:26.693Z"
   },
   {
    "duration": 65,
    "start_time": "2022-02-21T11:45:23.753Z"
   },
   {
    "duration": 64,
    "start_time": "2022-02-21T11:55:50.741Z"
   }
  ],
  "kernelspec": {
   "display_name": "Python 3 (ipykernel)",
   "language": "python",
   "name": "python3"
  },
  "language_info": {
   "codemirror_mode": {
    "name": "ipython",
    "version": 3
   },
   "file_extension": ".py",
   "mimetype": "text/x-python",
   "name": "python",
   "nbconvert_exporter": "python",
   "pygments_lexer": "ipython3",
   "version": "3.9.5"
  },
  "toc": {
   "base_numbering": 1,
   "nav_menu": {},
   "number_sections": true,
   "sideBar": true,
   "skip_h1_title": true,
   "title_cell": "Table of Contents",
   "title_sidebar": "Contents",
   "toc_cell": false,
   "toc_position": {
    "height": "calc(100% - 180px)",
    "left": "10px",
    "top": "150px",
    "width": "178px"
   },
   "toc_section_display": true,
   "toc_window_display": true
  }
 },
 "nbformat": 4,
 "nbformat_minor": 2
}
