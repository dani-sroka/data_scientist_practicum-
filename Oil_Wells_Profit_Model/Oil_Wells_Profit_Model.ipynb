{
 "cells": [
  {
   "cell_type": "markdown",
   "metadata": {},
   "source": [
    "# Best region for oil well development"
   ]
  },
  {
   "cell_type": "markdown",
   "metadata": {},
   "source": [
    "We work for the OilyGiant mining company. Our task is to find the best place for a new well.\n",
    "\n",
    "\n",
    "Steps to choose the location:\n",
    "- Collect the oil well parameters in the selected region: oil quality and volume of reserves;\n",
    "- Build a model for predicting the volume of reserves in the new wells;\n",
    "- Pick the oil wells with the highest estimated values;\n",
    "- Pick the region with the highest total profit for the selected oil wells.\n",
    "\n",
    "\n",
    "We have data on oil samples from three regions. Parameters of each oil well in the region are already known. We will build a model that will help to pick the region with the highest profit margin. We will analyze potential profit and risks using the Bootstrapping technique.\n",
    "\n",
    "**Project goal**: To find the best region for a well development, based on profit and risk analysis of three regions, and provide a model to choose top 200 wells from 500 wells samples. "
   ]
  },
  {
   "cell_type": "markdown",
   "metadata": {},
   "source": [
    "## Loading and viewing data"
   ]
  },
  {
   "cell_type": "code",
   "execution_count": 51,
   "metadata": {},
   "outputs": [],
   "source": [
    "# Loading libraries\n",
    "from scipy import stats as st\n",
    "import numpy as np\n",
    "import pandas as pd\n",
    "import matplotlib.pyplot as plt\n",
    "import math\n",
    "import warnings\n",
    "warnings.filterwarnings(\"ignore\")\n",
    "# pd.options.display.float_format = '{:.3f}'.format"
   ]
  },
  {
   "cell_type": "code",
   "execution_count": 52,
   "metadata": {},
   "outputs": [],
   "source": [
    "# load the data into DataFrames: \n",
    "df0 = pd.read_csv('/datasets/geo_data_0.csv')\n",
    "df1 = pd.read_csv('/datasets/geo_data_1.csv')\n",
    "df2 = pd.read_csv('/datasets/geo_data_2.csv')"
   ]
  },
  {
   "cell_type": "code",
   "execution_count": 53,
   "metadata": {},
   "outputs": [
    {
     "data": {
      "text/html": [
       "<div>\n",
       "<style scoped>\n",
       "    .dataframe tbody tr th:only-of-type {\n",
       "        vertical-align: middle;\n",
       "    }\n",
       "\n",
       "    .dataframe tbody tr th {\n",
       "        vertical-align: top;\n",
       "    }\n",
       "\n",
       "    .dataframe thead th {\n",
       "        text-align: right;\n",
       "    }\n",
       "</style>\n",
       "<table border=\"1\" class=\"dataframe\">\n",
       "  <thead>\n",
       "    <tr style=\"text-align: right;\">\n",
       "      <th></th>\n",
       "      <th>id</th>\n",
       "      <th>f0</th>\n",
       "      <th>f1</th>\n",
       "      <th>f2</th>\n",
       "      <th>product</th>\n",
       "    </tr>\n",
       "  </thead>\n",
       "  <tbody>\n",
       "    <tr>\n",
       "      <th>0</th>\n",
       "      <td>txEyH</td>\n",
       "      <td>0.705745</td>\n",
       "      <td>-0.497823</td>\n",
       "      <td>1.221170</td>\n",
       "      <td>105.280062</td>\n",
       "    </tr>\n",
       "    <tr>\n",
       "      <th>1</th>\n",
       "      <td>2acmU</td>\n",
       "      <td>1.334711</td>\n",
       "      <td>-0.340164</td>\n",
       "      <td>4.365080</td>\n",
       "      <td>73.037750</td>\n",
       "    </tr>\n",
       "    <tr>\n",
       "      <th>2</th>\n",
       "      <td>409Wp</td>\n",
       "      <td>1.022732</td>\n",
       "      <td>0.151990</td>\n",
       "      <td>1.419926</td>\n",
       "      <td>85.265647</td>\n",
       "    </tr>\n",
       "    <tr>\n",
       "      <th>3</th>\n",
       "      <td>iJLyR</td>\n",
       "      <td>-0.032172</td>\n",
       "      <td>0.139033</td>\n",
       "      <td>2.978566</td>\n",
       "      <td>168.620776</td>\n",
       "    </tr>\n",
       "    <tr>\n",
       "      <th>4</th>\n",
       "      <td>Xdl7t</td>\n",
       "      <td>1.988431</td>\n",
       "      <td>0.155413</td>\n",
       "      <td>4.751769</td>\n",
       "      <td>154.036647</td>\n",
       "    </tr>\n",
       "    <tr>\n",
       "      <th>...</th>\n",
       "      <td>...</td>\n",
       "      <td>...</td>\n",
       "      <td>...</td>\n",
       "      <td>...</td>\n",
       "      <td>...</td>\n",
       "    </tr>\n",
       "    <tr>\n",
       "      <th>99995</th>\n",
       "      <td>DLsed</td>\n",
       "      <td>0.971957</td>\n",
       "      <td>0.370953</td>\n",
       "      <td>6.075346</td>\n",
       "      <td>110.744026</td>\n",
       "    </tr>\n",
       "    <tr>\n",
       "      <th>99996</th>\n",
       "      <td>QKivN</td>\n",
       "      <td>1.392429</td>\n",
       "      <td>-0.382606</td>\n",
       "      <td>1.273912</td>\n",
       "      <td>122.346843</td>\n",
       "    </tr>\n",
       "    <tr>\n",
       "      <th>99997</th>\n",
       "      <td>3rnvd</td>\n",
       "      <td>1.029585</td>\n",
       "      <td>0.018787</td>\n",
       "      <td>-1.348308</td>\n",
       "      <td>64.375443</td>\n",
       "    </tr>\n",
       "    <tr>\n",
       "      <th>99998</th>\n",
       "      <td>7kl59</td>\n",
       "      <td>0.998163</td>\n",
       "      <td>-0.528582</td>\n",
       "      <td>1.583869</td>\n",
       "      <td>74.040764</td>\n",
       "    </tr>\n",
       "    <tr>\n",
       "      <th>99999</th>\n",
       "      <td>1CWhH</td>\n",
       "      <td>1.764754</td>\n",
       "      <td>-0.266417</td>\n",
       "      <td>5.722849</td>\n",
       "      <td>149.633246</td>\n",
       "    </tr>\n",
       "  </tbody>\n",
       "</table>\n",
       "<p>100000 rows × 5 columns</p>\n",
       "</div>"
      ],
      "text/plain": [
       "          id        f0        f1        f2     product\n",
       "0      txEyH  0.705745 -0.497823  1.221170  105.280062\n",
       "1      2acmU  1.334711 -0.340164  4.365080   73.037750\n",
       "2      409Wp  1.022732  0.151990  1.419926   85.265647\n",
       "3      iJLyR -0.032172  0.139033  2.978566  168.620776\n",
       "4      Xdl7t  1.988431  0.155413  4.751769  154.036647\n",
       "...      ...       ...       ...       ...         ...\n",
       "99995  DLsed  0.971957  0.370953  6.075346  110.744026\n",
       "99996  QKivN  1.392429 -0.382606  1.273912  122.346843\n",
       "99997  3rnvd  1.029585  0.018787 -1.348308   64.375443\n",
       "99998  7kl59  0.998163 -0.528582  1.583869   74.040764\n",
       "99999  1CWhH  1.764754 -0.266417  5.722849  149.633246\n",
       "\n",
       "[100000 rows x 5 columns]"
      ]
     },
     "execution_count": 53,
     "metadata": {},
     "output_type": "execute_result"
    }
   ],
   "source": [
    "# Look at region 0\n",
    "df0"
   ]
  },
  {
   "cell_type": "code",
   "execution_count": 54,
   "metadata": {
    "scrolled": true
   },
   "outputs": [
    {
     "data": {
      "text/html": [
       "<div>\n",
       "<style scoped>\n",
       "    .dataframe tbody tr th:only-of-type {\n",
       "        vertical-align: middle;\n",
       "    }\n",
       "\n",
       "    .dataframe tbody tr th {\n",
       "        vertical-align: top;\n",
       "    }\n",
       "\n",
       "    .dataframe thead th {\n",
       "        text-align: right;\n",
       "    }\n",
       "</style>\n",
       "<table border=\"1\" class=\"dataframe\">\n",
       "  <thead>\n",
       "    <tr style=\"text-align: right;\">\n",
       "      <th></th>\n",
       "      <th>id</th>\n",
       "      <th>f0</th>\n",
       "      <th>f1</th>\n",
       "      <th>f2</th>\n",
       "      <th>product</th>\n",
       "    </tr>\n",
       "  </thead>\n",
       "  <tbody>\n",
       "    <tr>\n",
       "      <th>0</th>\n",
       "      <td>kBEdx</td>\n",
       "      <td>-15.001348</td>\n",
       "      <td>-8.276000</td>\n",
       "      <td>-0.005876</td>\n",
       "      <td>3.179103</td>\n",
       "    </tr>\n",
       "    <tr>\n",
       "      <th>1</th>\n",
       "      <td>62mP7</td>\n",
       "      <td>14.272088</td>\n",
       "      <td>-3.475083</td>\n",
       "      <td>0.999183</td>\n",
       "      <td>26.953261</td>\n",
       "    </tr>\n",
       "    <tr>\n",
       "      <th>2</th>\n",
       "      <td>vyE1P</td>\n",
       "      <td>6.263187</td>\n",
       "      <td>-5.948386</td>\n",
       "      <td>5.001160</td>\n",
       "      <td>134.766305</td>\n",
       "    </tr>\n",
       "    <tr>\n",
       "      <th>3</th>\n",
       "      <td>KcrkZ</td>\n",
       "      <td>-13.081196</td>\n",
       "      <td>-11.506057</td>\n",
       "      <td>4.999415</td>\n",
       "      <td>137.945408</td>\n",
       "    </tr>\n",
       "    <tr>\n",
       "      <th>4</th>\n",
       "      <td>AHL4O</td>\n",
       "      <td>12.702195</td>\n",
       "      <td>-8.147433</td>\n",
       "      <td>5.004363</td>\n",
       "      <td>134.766305</td>\n",
       "    </tr>\n",
       "    <tr>\n",
       "      <th>...</th>\n",
       "      <td>...</td>\n",
       "      <td>...</td>\n",
       "      <td>...</td>\n",
       "      <td>...</td>\n",
       "      <td>...</td>\n",
       "    </tr>\n",
       "    <tr>\n",
       "      <th>99995</th>\n",
       "      <td>QywKC</td>\n",
       "      <td>9.535637</td>\n",
       "      <td>-6.878139</td>\n",
       "      <td>1.998296</td>\n",
       "      <td>53.906522</td>\n",
       "    </tr>\n",
       "    <tr>\n",
       "      <th>99996</th>\n",
       "      <td>ptvty</td>\n",
       "      <td>-10.160631</td>\n",
       "      <td>-12.558096</td>\n",
       "      <td>5.005581</td>\n",
       "      <td>137.945408</td>\n",
       "    </tr>\n",
       "    <tr>\n",
       "      <th>99997</th>\n",
       "      <td>09gWa</td>\n",
       "      <td>-7.378891</td>\n",
       "      <td>-3.084104</td>\n",
       "      <td>4.998651</td>\n",
       "      <td>137.945408</td>\n",
       "    </tr>\n",
       "    <tr>\n",
       "      <th>99998</th>\n",
       "      <td>rqwUm</td>\n",
       "      <td>0.665714</td>\n",
       "      <td>-6.152593</td>\n",
       "      <td>1.000146</td>\n",
       "      <td>30.132364</td>\n",
       "    </tr>\n",
       "    <tr>\n",
       "      <th>99999</th>\n",
       "      <td>relB0</td>\n",
       "      <td>-3.426139</td>\n",
       "      <td>-7.794274</td>\n",
       "      <td>-0.003299</td>\n",
       "      <td>3.179103</td>\n",
       "    </tr>\n",
       "  </tbody>\n",
       "</table>\n",
       "<p>100000 rows × 5 columns</p>\n",
       "</div>"
      ],
      "text/plain": [
       "          id         f0         f1        f2     product\n",
       "0      kBEdx -15.001348  -8.276000 -0.005876    3.179103\n",
       "1      62mP7  14.272088  -3.475083  0.999183   26.953261\n",
       "2      vyE1P   6.263187  -5.948386  5.001160  134.766305\n",
       "3      KcrkZ -13.081196 -11.506057  4.999415  137.945408\n",
       "4      AHL4O  12.702195  -8.147433  5.004363  134.766305\n",
       "...      ...        ...        ...       ...         ...\n",
       "99995  QywKC   9.535637  -6.878139  1.998296   53.906522\n",
       "99996  ptvty -10.160631 -12.558096  5.005581  137.945408\n",
       "99997  09gWa  -7.378891  -3.084104  4.998651  137.945408\n",
       "99998  rqwUm   0.665714  -6.152593  1.000146   30.132364\n",
       "99999  relB0  -3.426139  -7.794274 -0.003299    3.179103\n",
       "\n",
       "[100000 rows x 5 columns]"
      ]
     },
     "execution_count": 54,
     "metadata": {},
     "output_type": "execute_result"
    }
   ],
   "source": [
    "# Look at region 1\n",
    "df1"
   ]
  },
  {
   "cell_type": "code",
   "execution_count": 55,
   "metadata": {
    "scrolled": false
   },
   "outputs": [
    {
     "data": {
      "text/html": [
       "<div>\n",
       "<style scoped>\n",
       "    .dataframe tbody tr th:only-of-type {\n",
       "        vertical-align: middle;\n",
       "    }\n",
       "\n",
       "    .dataframe tbody tr th {\n",
       "        vertical-align: top;\n",
       "    }\n",
       "\n",
       "    .dataframe thead th {\n",
       "        text-align: right;\n",
       "    }\n",
       "</style>\n",
       "<table border=\"1\" class=\"dataframe\">\n",
       "  <thead>\n",
       "    <tr style=\"text-align: right;\">\n",
       "      <th></th>\n",
       "      <th>id</th>\n",
       "      <th>f0</th>\n",
       "      <th>f1</th>\n",
       "      <th>f2</th>\n",
       "      <th>product</th>\n",
       "    </tr>\n",
       "  </thead>\n",
       "  <tbody>\n",
       "    <tr>\n",
       "      <th>0</th>\n",
       "      <td>fwXo0</td>\n",
       "      <td>-1.146987</td>\n",
       "      <td>0.963328</td>\n",
       "      <td>-0.828965</td>\n",
       "      <td>27.758673</td>\n",
       "    </tr>\n",
       "    <tr>\n",
       "      <th>1</th>\n",
       "      <td>WJtFt</td>\n",
       "      <td>0.262778</td>\n",
       "      <td>0.269839</td>\n",
       "      <td>-2.530187</td>\n",
       "      <td>56.069697</td>\n",
       "    </tr>\n",
       "    <tr>\n",
       "      <th>2</th>\n",
       "      <td>ovLUW</td>\n",
       "      <td>0.194587</td>\n",
       "      <td>0.289035</td>\n",
       "      <td>-5.586433</td>\n",
       "      <td>62.871910</td>\n",
       "    </tr>\n",
       "    <tr>\n",
       "      <th>3</th>\n",
       "      <td>q6cA6</td>\n",
       "      <td>2.236060</td>\n",
       "      <td>-0.553760</td>\n",
       "      <td>0.930038</td>\n",
       "      <td>114.572842</td>\n",
       "    </tr>\n",
       "    <tr>\n",
       "      <th>4</th>\n",
       "      <td>WPMUX</td>\n",
       "      <td>-0.515993</td>\n",
       "      <td>1.716266</td>\n",
       "      <td>5.899011</td>\n",
       "      <td>149.600746</td>\n",
       "    </tr>\n",
       "    <tr>\n",
       "      <th>...</th>\n",
       "      <td>...</td>\n",
       "      <td>...</td>\n",
       "      <td>...</td>\n",
       "      <td>...</td>\n",
       "      <td>...</td>\n",
       "    </tr>\n",
       "    <tr>\n",
       "      <th>99995</th>\n",
       "      <td>4GxBu</td>\n",
       "      <td>-1.777037</td>\n",
       "      <td>1.125220</td>\n",
       "      <td>6.263374</td>\n",
       "      <td>172.327046</td>\n",
       "    </tr>\n",
       "    <tr>\n",
       "      <th>99996</th>\n",
       "      <td>YKFjq</td>\n",
       "      <td>-1.261523</td>\n",
       "      <td>-0.894828</td>\n",
       "      <td>2.524545</td>\n",
       "      <td>138.748846</td>\n",
       "    </tr>\n",
       "    <tr>\n",
       "      <th>99997</th>\n",
       "      <td>tKPY3</td>\n",
       "      <td>-1.199934</td>\n",
       "      <td>-2.957637</td>\n",
       "      <td>5.219411</td>\n",
       "      <td>157.080080</td>\n",
       "    </tr>\n",
       "    <tr>\n",
       "      <th>99998</th>\n",
       "      <td>nmxp2</td>\n",
       "      <td>-2.419896</td>\n",
       "      <td>2.417221</td>\n",
       "      <td>-5.548444</td>\n",
       "      <td>51.795253</td>\n",
       "    </tr>\n",
       "    <tr>\n",
       "      <th>99999</th>\n",
       "      <td>V9kWn</td>\n",
       "      <td>-2.551421</td>\n",
       "      <td>-2.025625</td>\n",
       "      <td>6.090891</td>\n",
       "      <td>102.775767</td>\n",
       "    </tr>\n",
       "  </tbody>\n",
       "</table>\n",
       "<p>100000 rows × 5 columns</p>\n",
       "</div>"
      ],
      "text/plain": [
       "          id        f0        f1        f2     product\n",
       "0      fwXo0 -1.146987  0.963328 -0.828965   27.758673\n",
       "1      WJtFt  0.262778  0.269839 -2.530187   56.069697\n",
       "2      ovLUW  0.194587  0.289035 -5.586433   62.871910\n",
       "3      q6cA6  2.236060 -0.553760  0.930038  114.572842\n",
       "4      WPMUX -0.515993  1.716266  5.899011  149.600746\n",
       "...      ...       ...       ...       ...         ...\n",
       "99995  4GxBu -1.777037  1.125220  6.263374  172.327046\n",
       "99996  YKFjq -1.261523 -0.894828  2.524545  138.748846\n",
       "99997  tKPY3 -1.199934 -2.957637  5.219411  157.080080\n",
       "99998  nmxp2 -2.419896  2.417221 -5.548444   51.795253\n",
       "99999  V9kWn -2.551421 -2.025625  6.090891  102.775767\n",
       "\n",
       "[100000 rows x 5 columns]"
      ]
     },
     "execution_count": 55,
     "metadata": {},
     "output_type": "execute_result"
    }
   ],
   "source": [
    "# Look at region 2\n",
    "df2"
   ]
  },
  {
   "cell_type": "code",
   "execution_count": 56,
   "metadata": {
    "scrolled": false
   },
   "outputs": [
    {
     "name": "stdout",
     "output_type": "stream",
     "text": [
      "<class 'pandas.core.frame.DataFrame'>\n",
      "RangeIndex: 100000 entries, 0 to 99999\n",
      "Data columns (total 5 columns):\n",
      " #   Column   Non-Null Count   Dtype  \n",
      "---  ------   --------------   -----  \n",
      " 0   id       100000 non-null  object \n",
      " 1   f0       100000 non-null  float64\n",
      " 2   f1       100000 non-null  float64\n",
      " 3   f2       100000 non-null  float64\n",
      " 4   product  100000 non-null  float64\n",
      "dtypes: float64(4), object(1)\n",
      "memory usage: 3.8+ MB\n"
     ]
    }
   ],
   "source": [
    "# Genaral info of region 0 \n",
    "df0.info()"
   ]
  },
  {
   "cell_type": "code",
   "execution_count": 57,
   "metadata": {
    "scrolled": true
   },
   "outputs": [
    {
     "name": "stdout",
     "output_type": "stream",
     "text": [
      "<class 'pandas.core.frame.DataFrame'>\n",
      "RangeIndex: 100000 entries, 0 to 99999\n",
      "Data columns (total 5 columns):\n",
      " #   Column   Non-Null Count   Dtype  \n",
      "---  ------   --------------   -----  \n",
      " 0   id       100000 non-null  object \n",
      " 1   f0       100000 non-null  float64\n",
      " 2   f1       100000 non-null  float64\n",
      " 3   f2       100000 non-null  float64\n",
      " 4   product  100000 non-null  float64\n",
      "dtypes: float64(4), object(1)\n",
      "memory usage: 3.8+ MB\n"
     ]
    }
   ],
   "source": [
    "# Genaral info of region 1\n",
    "df1.info()"
   ]
  },
  {
   "cell_type": "code",
   "execution_count": 58,
   "metadata": {
    "scrolled": false
   },
   "outputs": [
    {
     "name": "stdout",
     "output_type": "stream",
     "text": [
      "<class 'pandas.core.frame.DataFrame'>\n",
      "RangeIndex: 100000 entries, 0 to 99999\n",
      "Data columns (total 5 columns):\n",
      " #   Column   Non-Null Count   Dtype  \n",
      "---  ------   --------------   -----  \n",
      " 0   id       100000 non-null  object \n",
      " 1   f0       100000 non-null  float64\n",
      " 2   f1       100000 non-null  float64\n",
      " 3   f2       100000 non-null  float64\n",
      " 4   product  100000 non-null  float64\n",
      "dtypes: float64(4), object(1)\n",
      "memory usage: 3.8+ MB\n"
     ]
    }
   ],
   "source": [
    "# Genaral info of region 2\n",
    "df2.info()"
   ]
  },
  {
   "cell_type": "markdown",
   "metadata": {},
   "source": [
    "Each region has full 100K entries, each with 5 columns: well id, 3 point features (marked f0, f1, f2), and the target - the product (volume of oil reserves, in thousand barrels). We will make the following **preparations** (for each region): \n",
    "\n",
    "1. Define features(X) and target(y): features will be the three features ('id' has no relevance for predicting oil volume), target will be the product.\n",
    "2. Split the data into a training set and validation set at a ratio of 75:25.\n",
    "3. Standardize the 3 features (scale, all 3 are numeric)\n",
    "\n",
    "These preparations will be included in a unified function, that will also include training a linear regression model, and predicting a well's volume of oil reserves (based on it's 3 features).  "
   ]
  },
  {
   "cell_type": "markdown",
   "metadata": {},
   "source": [
    "## Train and test the model for each region:\n",
    "\n",
    "### Split the data into training and validation sets, train the model and make predictions for the validation set - preparation "
   ]
  },
  {
   "cell_type": "code",
   "execution_count": 59,
   "metadata": {},
   "outputs": [],
   "source": [
    "# A unified function to split, scale, train on linear regression, and predict (later to be applied on each region=df) \n",
    "from sklearn.model_selection import train_test_split\n",
    "from sklearn.preprocessing import StandardScaler\n",
    "from sklearn.linear_model import LinearRegression\n",
    "\n",
    "def split_scale_train_predict (df):\n",
    "    # We want to split the data in 75:25 for train:valid dataset\n",
    "    train_size=0.75\n",
    "    \n",
    "    # For convenience we will symbol 'features' as 'X', and 'target' as 'y'\n",
    "    X = df.drop(['id', 'product'], axis=1)\n",
    "    y = df['product']\n",
    "\n",
    "    # We will split the data in training and validation datasets\n",
    "    X_train, X_valid, y_train, y_valid = train_test_split(X,y, train_size=0.75, random_state=12345)\n",
    "    \n",
    "    # Standardize the numeric features:\n",
    "    # Create an instance of the StandardScaler() class and tune it using the training data.\n",
    "    scaler = StandardScaler()\n",
    "    scaler.fit(X_train)\n",
    "    # Transform train and validation data: \n",
    "    X_train = scaler.transform(X_train)\n",
    "    X_valid = scaler.transform(X_valid)\n",
    "    \n",
    "    # Define the model\n",
    "    model = LinearRegression() \n",
    "    # Train the model on the training set:\n",
    "    model.fit(X_train, y_train)\n",
    "    # Predict on validation set: \n",
    "    predicted_valid = model.predict(X_valid)\n",
    "    \n",
    "    # the return values of the function:\n",
    "    return predicted_valid, y_valid  "
   ]
  },
  {
   "cell_type": "markdown",
   "metadata": {},
   "source": [
    "### Apply and save the predictions and correct answers for the validation set, and print the average volume of predicted reserves and model RMSE"
   ]
  },
  {
   "cell_type": "code",
   "execution_count": 60,
   "metadata": {},
   "outputs": [
    {
     "name": "stdout",
     "output_type": "stream",
     "text": [
      "Average volume of predicted reserves Region 0 = 92.59256778438035\n",
      "RMSE of Region 0 = 37.5794217150813\n"
     ]
    }
   ],
   "source": [
    "# Apply the function to region 0, save predictions and correct answers (validation set)\n",
    "# and calculate average volume of predicted reserves and model RMSE:\n",
    "from sklearn.metrics import mean_squared_error\n",
    "\n",
    "predictions_region_0, correct_answers_region_0 = split_scale_train_predict (df0)\n",
    "\n",
    "# Calculate average volume of predicted reserves:\n",
    "av_pred_0 = predictions_region_0.mean()\n",
    "# Calculate RMSE:\n",
    "rmse_0 = mean_squared_error(correct_answers_region_0, predictions_region_0) ** 0.5  \n",
    "\n",
    "print('Average volume of predicted reserves Region 0 =', av_pred_0)\n",
    "print('RMSE of Region 0 =', rmse_0)"
   ]
  },
  {
   "cell_type": "code",
   "execution_count": 61,
   "metadata": {},
   "outputs": [
    {
     "name": "stdout",
     "output_type": "stream",
     "text": [
      "Average volume of predicted reserves Region 1 = 68.728546895446\n",
      "RMSE of Region 1 = 0.893099286775617\n"
     ]
    }
   ],
   "source": [
    "# Apply the function to region 1, save predictions and correct answers (validation set)\n",
    "# and calculate average volume of predicted reserves and model RMSE:\n",
    "from sklearn.metrics import mean_squared_error\n",
    "\n",
    "predictions_region_1, correct_answers_region_1 = split_scale_train_predict (df1)\n",
    "\n",
    "# Calculate average volume of predicted reserves:\n",
    "av_pred_1 = predictions_region_1.mean()\n",
    "# Calculate RMSE:\n",
    "rmse_1 = mean_squared_error(correct_answers_region_1, predictions_region_1) ** 0.5  \n",
    "\n",
    "print('Average volume of predicted reserves Region 1 =', av_pred_1)\n",
    "print('RMSE of Region 1 =', rmse_1)"
   ]
  },
  {
   "cell_type": "code",
   "execution_count": 62,
   "metadata": {},
   "outputs": [
    {
     "name": "stdout",
     "output_type": "stream",
     "text": [
      "Average volume of predicted reserves Region 2 = 94.96504596800489\n",
      "RMSE of Region 2 = 40.02970873393434\n"
     ]
    }
   ],
   "source": [
    "# Apply the function to region 2, save predictions and correct answers (validation set)\n",
    "# and calculate average volume of predicted reserves and model RMSE:\n",
    "from sklearn.metrics import mean_squared_error\n",
    "\n",
    "predictions_region_2, correct_answers_region_2 = split_scale_train_predict (df2)\n",
    "\n",
    "# Calculate average volume of predicted reserves:\n",
    "av_pred_2 = predictions_region_2.mean()\n",
    "# Calculate RMSE:\n",
    "rmse_2 = mean_squared_error(correct_answers_region_2, predictions_region_2) ** 0.5  \n",
    "\n",
    "print('Average volume of predicted reserves Region 2 =', av_pred_2)\n",
    "print('RMSE of Region 2 =', rmse_2)"
   ]
  },
  {
   "cell_type": "markdown",
   "metadata": {},
   "source": [
    "### Analyze the results\n",
    "\n",
    "When checked on the validation sets (each with 25000 wells) - out of the three regions, two have higher average volume of predicted reserves - region 0 (92.59 product units), and region 2 (94.97 product units), but these regions' RMSEs are pretty high too (37.58 for region 0, 40.03 for region 2). The third region, region 1, has much lower average volume of predicted reserves, only 68.73 product units, but also a very small RMSE (only 0.89). We will compare these results to our results in the following stages, in order to understand their meaning for region choice.     "
   ]
  },
  {
   "cell_type": "markdown",
   "metadata": {},
   "source": [
    "## Prepare for profit calculation:\n",
    "\n",
    "We will store all key values for calculations in separate variables. Then we will calculate the volume of reserves sufficient for developing a new well without losses (and the same for all 200 wells). Then we wil compare the obtained value with the average volume of reserves in each region, as we found above."
   ]
  },
  {
   "cell_type": "code",
   "execution_count": 63,
   "metadata": {},
   "outputs": [
    {
     "name": "stdout",
     "output_type": "stream",
     "text": [
      "The volume of reserves sufficient for developing a new well without losses: 111.11111111111111 product units\n",
      "The volume of reserves sufficient for developing 200 new wells without losses: 22222.222222222223 product units\n"
     ]
    }
   ],
   "source": [
    "# Store all key values for calculations in separate variables\n",
    "wells_budget = 100000000 \n",
    "wells_count = 200\n",
    "revenue_of_unit_product = 4500\n",
    "new_well_cost = wells_budget / wells_count \n",
    "\n",
    "# Calculate the volume of reserves sufficient for developing a new well without losses\n",
    "break_even_well_volume = new_well_cost / revenue_of_unit_product \n",
    "print('The volume of reserves sufficient for developing a new well without losses:', break_even_well_volume, 'product units')\n",
    "print('The volume of reserves sufficient for developing 200 new wells without losses:',\n",
    "     break_even_well_volume * wells_count, 'product units')"
   ]
  },
  {
   "cell_type": "markdown",
   "metadata": {},
   "source": [
    "As we can see - the volume of reserves sufficient for developing a new well without losses is more than 111 product units, which is more than 15% higher than the average volume of predicted reserves in regions 0 and 2 (~92-95), and more than 60% (!) higher than the average volume of predicted reserves in region 1 (about 69) we will now try to see what happens when we don't look at total average but only at the selected wells with highest values of predictions.  "
   ]
  },
  {
   "cell_type": "markdown",
   "metadata": {},
   "source": [
    "## Write a function to calculate profit from a set of selected oil wells and model predictions:\n",
    "\n",
    "We will pick the wells with the highest values of predictions, then summarize the target volume of reserves in accordance with these predictions. Then we will provide the findings: suggest a region for oil wells' development and justify the choice. And finally calculate the profit for the obtained volume of reserves."
   ]
  },
  {
   "cell_type": "code",
   "execution_count": 64,
   "metadata": {
    "scrolled": true
   },
   "outputs": [],
   "source": [
    "# A function to calculate volume from a set of selected oil wells and model predictions\n",
    "def volume (predictions, answers, count):\n",
    "    predictions = pd.Series(predictions, index=answers.index)\n",
    "    pred_sorted = predictions.sort_values(ascending=False)\n",
    "    selected = answers[pred_sorted.index][:count]\n",
    "    return selected.sum()\n",
    "\n",
    "sum_target_volume_0 = volume (predictions_region_0, correct_answers_region_0, wells_count)"
   ]
  },
  {
   "cell_type": "code",
   "execution_count": 65,
   "metadata": {},
   "outputs": [
    {
     "name": "stdout",
     "output_type": "stream",
     "text": [
      "The sum target volume of 200 highest-predicted wells in region 0 = 29601.83565142189 product units\n",
      "The sum target volume of 200 highest-predicted wells in region 1 = 27589.081548181137 product units\n",
      "The sum target volume of 200 highest-predicted wells in region 2 = 28245.22214133296 product units\n"
     ]
    }
   ],
   "source": [
    "# Apply the function to each region:\n",
    "sum_target_volume_0 = volume (predictions_region_0, correct_answers_region_0, wells_count)\n",
    "sum_target_volume_1 = volume (predictions_region_1, correct_answers_region_1, wells_count)\n",
    "sum_target_volume_2 = volume (predictions_region_2, correct_answers_region_2, wells_count)\n",
    "print(\"The sum target volume of 200 highest-predicted wells in region 0 =\", sum_target_volume_0, 'product units')\n",
    "print(\"The sum target volume of 200 highest-predicted wells in region 1 =\", sum_target_volume_1, 'product units')\n",
    "print(\"The sum target volume of 200 highest-predicted wells in region 2 =\", sum_target_volume_2, 'product units')"
   ]
  },
  {
   "cell_type": "markdown",
   "metadata": {},
   "source": [
    "As we can see - region 0 has the highest sum target volume of the top 200 highest-predicted volume wells (almost 29602 product units), although all three regions provide volumes way above the 'break-even' threshold of 22222.22 product units (that was calculated above). Now we will calculate the profit for the obtained volume of reserves, for the case of region 0. "
   ]
  },
  {
   "cell_type": "code",
   "execution_count": 66,
   "metadata": {},
   "outputs": [
    {
     "data": {
      "text/plain": [
       "33208260.43139851"
      ]
     },
     "execution_count": 66,
     "metadata": {},
     "output_type": "execute_result"
    }
   ],
   "source": [
    "# Calculate the profit for the obtained volume of reserves in region 0:\n",
    "profit_region_0 = (sum_target_volume_0 * revenue_of_unit_product) - wells_budget \n",
    "profit_region_0"
   ]
  },
  {
   "cell_type": "markdown",
   "metadata": {},
   "source": [
    "The profit for the obtained volume of reserves (region 0, 200 top-predicted wells) is 33,208,260 USD. We will move now to risks calculation, also to see if it might change our region's preference.  "
   ]
  },
  {
   "cell_type": "markdown",
   "metadata": {},
   "source": [
    "## Calculate risks and profit for each region:\n",
    "Since in reality only 500 wells will be chosen randomly in the chosen region (and the 200 top-predicted wells will be chosen only from these random 500 wells), we will use the bootstrapping technique with 1000 samples to find the distribution of profit in each region, as a critical factor for region choice. \n",
    "We will find average profit, 95% confidence interval and risk of losses. Loss is negative profit, we will calculate it as a probability and then express it as a percentage. Management defined that risk of losses must be lower than 2.5%.\n",
    "\n",
    "### Calculations\n",
    "\n",
    "First we will define functions to calculate profit and bootstrap for distribution of profit: average, 95% confidence level and risk of losses, and then we will apply it to each region and check and compare results. "
   ]
  },
  {
   "cell_type": "code",
   "execution_count": 67,
   "metadata": {},
   "outputs": [],
   "source": [
    "# Functions to calculate profit and bootstrap for distribution of profit: average, 95% confidence level and risk of losses: \n",
    "def profit (predictions, answers, count, revenue, budget): \n",
    "    profit = (revenue * volume(predictions, answers, count)) - budget \n",
    "    return profit \n",
    "\n",
    "\n",
    "def bootstrap (predictions, answers):\n",
    "    state = np.random.RandomState(12345)\n",
    "    \n",
    "    profits = []\n",
    "    for i in range(1000):\n",
    "        predictions = pd.Series(predictions, index=answers.index)\n",
    "        target_subsample = answers.sample(n=500, replace=True, random_state=state)\n",
    "        preds_subsample = predictions[target_subsample.index]\n",
    "        \n",
    "        profits.append(profit(preds_subsample, target_subsample, wells_count, revenue_of_unit_product, wells_budget)) \n",
    "\n",
    "    profits = pd.Series(profits)\n",
    "    mean = profits.mean()\n",
    "    lower = profits.quantile(0.025)\n",
    "    upper = profits.quantile(0.975) \n",
    "    loss = len(profits[profits.values < 0]) / len(profits)\n",
    "    \n",
    "    return mean, lower, upper, loss "
   ]
  },
  {
   "cell_type": "code",
   "execution_count": 68,
   "metadata": {},
   "outputs": [
    {
     "name": "stdout",
     "output_type": "stream",
     "text": [
      "Region 0:\n",
      "Average profit: 4259385.269105923\n",
      "95% confidence interval: between -1020900.9483793724 and 9479763.533583675\n",
      "Risk of losses: 6.0 %\n"
     ]
    }
   ],
   "source": [
    "# Apply to region 0:\n",
    "region_0_average_profit, region_0_lower, region_0_upper, region_0_loss = bootstrap(\n",
    "    predictions_region_0, correct_answers_region_0)\n",
    "print('Region 0:')\n",
    "print('Average profit:', region_0_average_profit)\n",
    "print('95% confidence interval: between', region_0_lower, 'and', region_0_upper)\n",
    "print('Risk of losses:', region_0_loss * 100, '%')"
   ]
  },
  {
   "cell_type": "code",
   "execution_count": 69,
   "metadata": {},
   "outputs": [
    {
     "name": "stdout",
     "output_type": "stream",
     "text": [
      "Region 1:\n",
      "Average profit: 5152227.734432898\n",
      "95% confidence interval: between 688732.2537050088 and 9315475.912570495\n",
      "Risk of losses: 1.0 %\n"
     ]
    }
   ],
   "source": [
    "# Apply to region 1:\n",
    "region_1_average_profit, region_1_lower, region_1_upper, region_1_loss = bootstrap(\n",
    "    predictions_region_1, correct_answers_region_1)\n",
    "print('Region 1:')\n",
    "print('Average profit:', region_1_average_profit)\n",
    "print('95% confidence interval: between', region_1_lower, 'and', region_1_upper)\n",
    "print('Risk of losses:', region_1_loss * 100, '%')"
   ]
  },
  {
   "cell_type": "code",
   "execution_count": 70,
   "metadata": {},
   "outputs": [
    {
     "name": "stdout",
     "output_type": "stream",
     "text": [
      "Region 2:\n",
      "Average profit: 4350083.627827557\n",
      "95% confidence interval: between -1288805.473297878 and 9697069.541802654\n",
      "Risk of losses: 6.4 %\n"
     ]
    }
   ],
   "source": [
    "# Apply to region 2:\n",
    "region_2_average_profit, region_2_lower, region_2_upper, region_2_loss = bootstrap(\n",
    "    predictions_region_2, correct_answers_region_2)\n",
    "print('Region 2:')\n",
    "print('Average profit:', region_2_average_profit)\n",
    "print('95% confidence interval: between', region_2_lower, 'and', region_2_upper)\n",
    "print('Risk of losses:', region_2_loss * 100, '%')"
   ]
  },
  {
   "cell_type": "markdown",
   "metadata": {},
   "source": [
    "### Conclusion\n",
    "\n",
    "Analysis shows that both region 0 and region 2 have 6% (or more) risk of losses, and this fact disqualify these two regions from being chosen for well development. **Region 1** has only 1% risk of losses, which meets management demand for risk lower than 2.5%, so **it is our suggestion for well development**. This low risk for losses fits the low RMSE that was found for the prediction model above, to be used with the samples of the random 500 wells in this region, in order to choose best 200 wells out of the 500 based on their 3 features.\n",
    "\n",
    "The average profit from 200 wells (out of random 500 wells) in region 1 is 5,152,227.73 USD, and we have confidence of 95% that profit will be in the range between 688,732 USD and 9,315,476 USD.   "
   ]
  }
 ],
 "metadata": {
  "ExecuteTimeLog": [
   {
    "duration": 1031,
    "start_time": "2022-03-13T00:16:39.591Z"
   },
   {
    "duration": 2246,
    "start_time": "2022-03-13T00:16:42.116Z"
   },
   {
    "duration": 146,
    "start_time": "2022-03-13T00:17:10.159Z"
   },
   {
    "duration": 11,
    "start_time": "2022-03-13T00:17:14.226Z"
   },
   {
    "duration": 210,
    "start_time": "2022-03-13T14:55:18.515Z"
   },
   {
    "duration": 167,
    "start_time": "2022-03-13T14:55:28.203Z"
   },
   {
    "duration": 961,
    "start_time": "2022-03-13T14:55:54.964Z"
   },
   {
    "duration": 343,
    "start_time": "2022-03-13T14:55:58.564Z"
   },
   {
    "duration": 13,
    "start_time": "2022-03-13T14:56:02.144Z"
   },
   {
    "duration": 8,
    "start_time": "2022-03-13T14:56:08.298Z"
   },
   {
    "duration": 9,
    "start_time": "2022-03-13T14:56:16.485Z"
   },
   {
    "duration": 11,
    "start_time": "2022-03-13T14:57:38.306Z"
   },
   {
    "duration": 10,
    "start_time": "2022-03-13T14:57:58.031Z"
   },
   {
    "duration": 11,
    "start_time": "2022-03-13T14:58:38.806Z"
   },
   {
    "duration": 250,
    "start_time": "2022-03-13T15:20:44.254Z"
   },
   {
    "duration": 4192,
    "start_time": "2022-03-13T15:21:28.524Z"
   },
   {
    "duration": 4369,
    "start_time": "2022-03-13T15:27:12.766Z"
   },
   {
    "duration": 175,
    "start_time": "2022-03-13T15:28:08.776Z"
   },
   {
    "duration": 15,
    "start_time": "2022-03-13T15:29:43.025Z"
   },
   {
    "duration": 17,
    "start_time": "2022-03-13T15:30:06.848Z"
   },
   {
    "duration": 17,
    "start_time": "2022-03-13T15:30:12.719Z"
   },
   {
    "duration": 1209,
    "start_time": "2022-03-13T21:43:30.021Z"
   },
   {
    "duration": 354,
    "start_time": "2022-03-13T21:43:31.232Z"
   },
   {
    "duration": 12,
    "start_time": "2022-03-13T21:43:31.588Z"
   },
   {
    "duration": 14,
    "start_time": "2022-03-13T21:43:31.602Z"
   },
   {
    "duration": 17,
    "start_time": "2022-03-13T21:43:31.617Z"
   },
   {
    "duration": 16,
    "start_time": "2022-03-13T21:43:31.636Z"
   },
   {
    "duration": 11,
    "start_time": "2022-03-13T21:43:31.654Z"
   },
   {
    "duration": 9,
    "start_time": "2022-03-13T21:43:31.667Z"
   },
   {
    "duration": 15,
    "start_time": "2022-03-13T21:43:31.679Z"
   },
   {
    "duration": 40,
    "start_time": "2022-03-13T21:43:37.223Z"
   },
   {
    "duration": 38,
    "start_time": "2022-03-13T21:43:47.671Z"
   },
   {
    "duration": 40,
    "start_time": "2022-03-13T21:43:54.122Z"
   },
   {
    "duration": 265,
    "start_time": "2022-03-16T03:05:42.257Z"
   },
   {
    "duration": 1435,
    "start_time": "2022-03-16T03:05:51.743Z"
   },
   {
    "duration": 436,
    "start_time": "2022-03-16T03:05:53.181Z"
   },
   {
    "duration": 31,
    "start_time": "2022-03-16T03:05:53.620Z"
   },
   {
    "duration": 17,
    "start_time": "2022-03-16T03:07:46.546Z"
   },
   {
    "duration": 16,
    "start_time": "2022-03-16T03:08:09.471Z"
   },
   {
    "duration": 14,
    "start_time": "2022-03-16T03:08:40.539Z"
   },
   {
    "duration": 14,
    "start_time": "2022-03-16T03:09:00.729Z"
   },
   {
    "duration": 15,
    "start_time": "2022-03-16T03:09:12.121Z"
   },
   {
    "duration": 331,
    "start_time": "2022-03-16T04:21:16.521Z"
   },
   {
    "duration": 69,
    "start_time": "2022-03-16T04:23:05.815Z"
   },
   {
    "duration": 64,
    "start_time": "2022-03-16T04:24:22.523Z"
   },
   {
    "duration": 71,
    "start_time": "2022-03-16T04:24:34.981Z"
   },
   {
    "duration": 1329,
    "start_time": "2022-03-16T06:30:01.289Z"
   },
   {
    "duration": 443,
    "start_time": "2022-03-16T06:30:02.621Z"
   },
   {
    "duration": 22,
    "start_time": "2022-03-16T06:30:03.067Z"
   },
   {
    "duration": 15,
    "start_time": "2022-03-16T06:30:03.091Z"
   },
   {
    "duration": 47,
    "start_time": "2022-03-16T06:30:03.109Z"
   },
   {
    "duration": 13,
    "start_time": "2022-03-16T06:30:03.158Z"
   },
   {
    "duration": 16,
    "start_time": "2022-03-16T06:30:03.174Z"
   },
   {
    "duration": 13,
    "start_time": "2022-03-16T06:30:03.192Z"
   },
   {
    "duration": 97,
    "start_time": "2022-03-16T06:30:28.133Z"
   },
   {
    "duration": 501,
    "start_time": "2022-03-16T06:31:15.727Z"
   },
   {
    "duration": 81,
    "start_time": "2022-03-16T06:33:17.676Z"
   },
   {
    "duration": 109,
    "start_time": "2022-03-16T06:50:29.143Z"
   },
   {
    "duration": 37,
    "start_time": "2022-03-16T06:52:59.046Z"
   },
   {
    "duration": 38,
    "start_time": "2022-03-16T06:58:37.691Z"
   },
   {
    "duration": 38,
    "start_time": "2022-03-16T06:58:47.600Z"
   },
   {
    "duration": 34,
    "start_time": "2022-03-16T06:58:55.831Z"
   },
   {
    "duration": 48,
    "start_time": "2022-03-16T07:04:22.139Z"
   },
   {
    "duration": 34,
    "start_time": "2022-03-16T07:04:39.071Z"
   },
   {
    "duration": 116,
    "start_time": "2022-03-16T22:37:06.124Z"
   },
   {
    "duration": 4,
    "start_time": "2022-03-16T22:37:40.339Z"
   },
   {
    "duration": 4,
    "start_time": "2022-03-16T22:42:46.293Z"
   },
   {
    "duration": 4,
    "start_time": "2022-03-16T23:05:49.581Z"
   },
   {
    "duration": 4,
    "start_time": "2022-03-16T23:28:08.079Z"
   },
   {
    "duration": 4,
    "start_time": "2022-03-16T23:31:01.743Z"
   },
   {
    "duration": 109,
    "start_time": "2022-03-16T23:31:44.143Z"
   },
   {
    "duration": 3,
    "start_time": "2022-03-16T23:31:53.160Z"
   },
   {
    "duration": 348,
    "start_time": "2022-03-16T23:32:00.524Z"
   },
   {
    "duration": 674,
    "start_time": "2022-03-16T23:32:27.727Z"
   },
   {
    "duration": 335,
    "start_time": "2022-03-16T23:32:42.098Z"
   },
   {
    "duration": 438,
    "start_time": "2022-03-16T23:32:56.105Z"
   },
   {
    "duration": 320,
    "start_time": "2022-03-16T23:32:56.545Z"
   },
   {
    "duration": 12,
    "start_time": "2022-03-16T23:32:56.867Z"
   },
   {
    "duration": 9,
    "start_time": "2022-03-16T23:32:56.881Z"
   },
   {
    "duration": 9,
    "start_time": "2022-03-16T23:32:56.901Z"
   },
   {
    "duration": 8,
    "start_time": "2022-03-16T23:32:56.912Z"
   },
   {
    "duration": 8,
    "start_time": "2022-03-16T23:32:56.922Z"
   },
   {
    "duration": 8,
    "start_time": "2022-03-16T23:32:56.932Z"
   },
   {
    "duration": 4,
    "start_time": "2022-03-16T23:33:07.487Z"
   },
   {
    "duration": 53,
    "start_time": "2022-03-16T23:33:13.248Z"
   },
   {
    "duration": 31,
    "start_time": "2022-03-16T23:33:17.495Z"
   },
   {
    "duration": 30,
    "start_time": "2022-03-16T23:33:27.915Z"
   },
   {
    "duration": 4,
    "start_time": "2022-03-16T23:33:37.552Z"
   },
   {
    "duration": 3,
    "start_time": "2022-03-16T23:33:46.294Z"
   },
   {
    "duration": 620,
    "start_time": "2022-03-16T23:33:48.975Z"
   },
   {
    "duration": 3,
    "start_time": "2022-03-16T23:39:08.789Z"
   },
   {
    "duration": 664,
    "start_time": "2022-03-16T23:39:15.236Z"
   },
   {
    "duration": 3,
    "start_time": "2022-03-16T23:39:58.601Z"
   },
   {
    "duration": 22,
    "start_time": "2022-03-16T23:40:02.654Z"
   },
   {
    "duration": 30,
    "start_time": "2022-03-17T01:17:15.665Z"
   },
   {
    "duration": 30,
    "start_time": "2022-03-17T01:17:33.866Z"
   },
   {
    "duration": 12,
    "start_time": "2022-03-17T01:25:03.169Z"
   },
   {
    "duration": 11,
    "start_time": "2022-03-17T01:26:28.720Z"
   },
   {
    "duration": 116,
    "start_time": "2022-03-17T11:58:04.469Z"
   },
   {
    "duration": 1841,
    "start_time": "2022-03-17T11:59:25.038Z"
   },
   {
    "duration": 4650,
    "start_time": "2022-03-17T11:59:26.882Z"
   },
   {
    "duration": 31,
    "start_time": "2022-03-17T11:59:31.535Z"
   },
   {
    "duration": 21,
    "start_time": "2022-03-17T11:59:31.569Z"
   },
   {
    "duration": 25,
    "start_time": "2022-03-17T11:59:31.592Z"
   },
   {
    "duration": 39,
    "start_time": "2022-03-17T11:59:31.642Z"
   },
   {
    "duration": 21,
    "start_time": "2022-03-17T11:59:31.683Z"
   },
   {
    "duration": 51,
    "start_time": "2022-03-17T11:59:31.706Z"
   },
   {
    "duration": 778,
    "start_time": "2022-03-17T11:59:31.762Z"
   },
   {
    "duration": 204,
    "start_time": "2022-03-17T11:59:32.545Z"
   },
   {
    "duration": 116,
    "start_time": "2022-03-17T11:59:32.753Z"
   },
   {
    "duration": 139,
    "start_time": "2022-03-17T11:59:32.943Z"
   },
   {
    "duration": 69,
    "start_time": "2022-03-17T11:59:33.084Z"
   },
   {
    "duration": 20,
    "start_time": "2022-03-17T11:59:42.385Z"
   },
   {
    "duration": 12,
    "start_time": "2022-03-17T12:02:13.284Z"
   },
   {
    "duration": 27,
    "start_time": "2022-03-17T12:02:18.660Z"
   },
   {
    "duration": 46,
    "start_time": "2022-03-18T01:08:19.290Z"
   },
   {
    "duration": 1242,
    "start_time": "2022-03-18T01:09:20.015Z"
   },
   {
    "duration": 447,
    "start_time": "2022-03-18T01:09:21.259Z"
   },
   {
    "duration": 15,
    "start_time": "2022-03-18T01:09:21.708Z"
   },
   {
    "duration": 11,
    "start_time": "2022-03-18T01:09:21.724Z"
   },
   {
    "duration": 10,
    "start_time": "2022-03-18T01:09:21.737Z"
   },
   {
    "duration": 34,
    "start_time": "2022-03-18T01:09:21.748Z"
   },
   {
    "duration": 15,
    "start_time": "2022-03-18T01:09:21.785Z"
   },
   {
    "duration": 17,
    "start_time": "2022-03-18T01:09:21.801Z"
   },
   {
    "duration": 477,
    "start_time": "2022-03-18T01:09:21.819Z"
   },
   {
    "duration": 102,
    "start_time": "2022-03-18T01:09:22.297Z"
   },
   {
    "duration": 133,
    "start_time": "2022-03-18T01:09:22.481Z"
   },
   {
    "duration": 186,
    "start_time": "2022-03-18T01:09:22.616Z"
   },
   {
    "duration": 8,
    "start_time": "2022-03-18T01:09:22.804Z"
   },
   {
    "duration": 103,
    "start_time": "2022-03-18T01:09:22.887Z"
   },
   {
    "duration": 33,
    "start_time": "2022-03-18T01:09:22.994Z"
   },
   {
    "duration": 5,
    "start_time": "2022-03-18T01:09:44.298Z"
   },
   {
    "duration": 4,
    "start_time": "2022-03-18T01:16:26.436Z"
   },
   {
    "duration": 4,
    "start_time": "2022-03-18T02:33:12.891Z"
   },
   {
    "duration": 369,
    "start_time": "2022-03-18T02:33:12.898Z"
   },
   {
    "duration": 25,
    "start_time": "2022-03-18T02:33:13.269Z"
   },
   {
    "duration": 12,
    "start_time": "2022-03-18T02:33:13.296Z"
   },
   {
    "duration": 13,
    "start_time": "2022-03-18T02:33:13.310Z"
   },
   {
    "duration": 16,
    "start_time": "2022-03-18T02:33:13.325Z"
   },
   {
    "duration": 13,
    "start_time": "2022-03-18T02:33:13.342Z"
   },
   {
    "duration": 40,
    "start_time": "2022-03-18T02:33:13.356Z"
   },
   {
    "duration": 4,
    "start_time": "2022-03-18T02:33:13.397Z"
   },
   {
    "duration": 78,
    "start_time": "2022-03-18T02:33:13.403Z"
   },
   {
    "duration": 112,
    "start_time": "2022-03-18T02:33:13.492Z"
   },
   {
    "duration": 184,
    "start_time": "2022-03-18T02:33:13.606Z"
   },
   {
    "duration": 4,
    "start_time": "2022-03-18T02:33:13.791Z"
   },
   {
    "duration": 207,
    "start_time": "2022-03-18T02:33:13.797Z"
   },
   {
    "duration": 17,
    "start_time": "2022-03-18T02:33:14.006Z"
   },
   {
    "duration": 3,
    "start_time": "2022-03-18T02:33:14.024Z"
   },
   {
    "duration": 204,
    "start_time": "2022-03-18T03:29:45.346Z"
   },
   {
    "duration": 214,
    "start_time": "2022-03-18T03:30:36.651Z"
   },
   {
    "duration": 5,
    "start_time": "2022-03-18T03:32:11.038Z"
   },
   {
    "duration": 61,
    "start_time": "2022-03-18T03:32:21.200Z"
   },
   {
    "duration": 5,
    "start_time": "2022-03-18T03:37:11.642Z"
   },
   {
    "duration": 14,
    "start_time": "2022-03-18T03:37:16.658Z"
   },
   {
    "duration": 5,
    "start_time": "2022-03-18T03:37:51.565Z"
   },
   {
    "duration": 1245,
    "start_time": "2022-03-18T03:37:54.090Z"
   },
   {
    "duration": 4,
    "start_time": "2022-03-18T03:38:33.896Z"
   },
   {
    "duration": 1358,
    "start_time": "2022-03-18T03:38:36.529Z"
   },
   {
    "duration": 5,
    "start_time": "2022-03-18T03:39:08.430Z"
   },
   {
    "duration": 4,
    "start_time": "2022-03-18T03:44:18.989Z"
   },
   {
    "duration": 1192,
    "start_time": "2022-03-18T03:44:23.680Z"
   },
   {
    "duration": 1269,
    "start_time": "2022-03-18T03:45:11.813Z"
   },
   {
    "duration": 1291,
    "start_time": "2022-03-18T03:49:36.791Z"
   },
   {
    "duration": 1183,
    "start_time": "2022-03-18T03:49:52.114Z"
   },
   {
    "duration": 3,
    "start_time": "2022-03-18T03:52:42.174Z"
   },
   {
    "duration": 345,
    "start_time": "2022-03-18T03:52:42.178Z"
   },
   {
    "duration": 11,
    "start_time": "2022-03-18T03:52:42.524Z"
   },
   {
    "duration": 11,
    "start_time": "2022-03-18T03:52:42.536Z"
   },
   {
    "duration": 11,
    "start_time": "2022-03-18T03:52:42.549Z"
   },
   {
    "duration": 13,
    "start_time": "2022-03-18T03:52:42.580Z"
   },
   {
    "duration": 14,
    "start_time": "2022-03-18T03:52:42.594Z"
   },
   {
    "duration": 12,
    "start_time": "2022-03-18T03:52:42.610Z"
   },
   {
    "duration": 6,
    "start_time": "2022-03-18T03:52:42.624Z"
   },
   {
    "duration": 149,
    "start_time": "2022-03-18T03:52:42.631Z"
   },
   {
    "duration": 123,
    "start_time": "2022-03-18T03:52:42.784Z"
   },
   {
    "duration": 184,
    "start_time": "2022-03-18T03:52:42.909Z"
   },
   {
    "duration": 4,
    "start_time": "2022-03-18T03:52:43.095Z"
   },
   {
    "duration": 93,
    "start_time": "2022-03-18T03:52:43.101Z"
   },
   {
    "duration": 111,
    "start_time": "2022-03-18T03:52:43.195Z"
   },
   {
    "duration": 4,
    "start_time": "2022-03-18T03:52:43.308Z"
   },
   {
    "duration": 5,
    "start_time": "2022-03-18T03:52:43.314Z"
   },
   {
    "duration": 1247,
    "start_time": "2022-03-18T03:52:43.320Z"
   },
   {
    "duration": 1209,
    "start_time": "2022-03-18T03:52:44.569Z"
   },
   {
    "duration": 1269,
    "start_time": "2022-03-18T03:52:45.781Z"
   }
  ],
  "kernelspec": {
   "display_name": "Python 3 (ipykernel)",
   "language": "python",
   "name": "python3"
  },
  "language_info": {
   "codemirror_mode": {
    "name": "ipython",
    "version": 3
   },
   "file_extension": ".py",
   "mimetype": "text/x-python",
   "name": "python",
   "nbconvert_exporter": "python",
   "pygments_lexer": "ipython3",
   "version": "3.9.5"
  },
  "toc": {
   "base_numbering": 1,
   "nav_menu": {},
   "number_sections": true,
   "sideBar": true,
   "skip_h1_title": true,
   "title_cell": "Table of Contents",
   "title_sidebar": "Contents",
   "toc_cell": false,
   "toc_position": {},
   "toc_section_display": true,
   "toc_window_display": false
  }
 },
 "nbformat": 4,
 "nbformat_minor": 2
}
