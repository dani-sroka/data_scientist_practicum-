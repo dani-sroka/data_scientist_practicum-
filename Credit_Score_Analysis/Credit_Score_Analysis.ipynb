{
 "cells": [
  {
   "cell_type": "markdown",
   "metadata": {},
   "source": [
    "# Analyzing borrowers’ risk of defaulting\n",
    "\n",
    "Our project is to prepare a report for a bank’s loan division. We’ll need to find out if a customer’s marital status and number of children has an impact on whether they will default on a loan. The bank already has some data on customers’ credit worthiness.\n",
    "\n",
    "Our report will be considered when building the **credit score** of a potential customer. The **credit score** is used to evaluate the ability of a potential borrower to repay their loan.\n",
    "\n",
    "\n",
    "**the purposes of the project**:\n",
    "\n",
    "The main purpose is finding out if a customer’s marital status and number of children have corelation with default on a loan, in order to decide wether to consider these data when building the **credit score** of a potential customer. The corelation of income level and of loan purpose with default rate will also be checked. Overall, the 4 questions we will answer will be the following:\n",
    "1. Is there a connection between having kids and repaying a loan on time?\n",
    "2. Is there a connection between marital status and repaying a loan on time?\n",
    "3. Is there a connection between income level and repaying a loan on time?\n",
    "4. How do different loan purposes affect on-time loan repayment?"
   ]
  },
  {
   "cell_type": "markdown",
   "metadata": {},
   "source": [
    "## Openning and loading the data file "
   ]
  },
  {
   "cell_type": "code",
   "execution_count": 1,
   "metadata": {},
   "outputs": [],
   "source": [
    "# Loading library\n",
    "import pandas as pd \n",
    "\n",
    "# Load the data\n",
    "data = pd.read_csv('/datasets/credit_scoring_eng.csv')"
   ]
  },
  {
   "cell_type": "markdown",
   "metadata": {},
   "source": [
    "## Data exploration\n",
    "\n",
    "**Description of the data**\n",
    "- `children` - the number of children in the family\n",
    "- `days_employed` - work experience in days\n",
    "- `dob_years` - client's age in years\n",
    "- `education` - client's education\n",
    "- `education_id` - education identifier\n",
    "- `family_status` - marital status\n",
    "- `family_status_id` - marital status identifier\n",
    "- `gender` - gender of the client\n",
    "- `income_type` - type of employment\n",
    "- `debt` - was there any debt on loan repayment\n",
    "- `total_income` - monthly income\n",
    "- `purpose` - the purpose of obtaining a loan\n",
    "\n",
    "Now we will explore our data. We will see how many columns and rows it has, and look at a few rows to check for potential issues with the data."
   ]
  },
  {
   "cell_type": "code",
   "execution_count": 2,
   "metadata": {},
   "outputs": [
    {
     "data": {
      "text/plain": [
       "(21525, 12)"
      ]
     },
     "execution_count": 2,
     "metadata": {},
     "output_type": "execute_result"
    }
   ],
   "source": [
    "# Let's see how many rows and columns our dataset has\n",
    "data.shape  "
   ]
  },
  {
   "cell_type": "code",
   "execution_count": 3,
   "metadata": {
    "scrolled": true
   },
   "outputs": [
    {
     "data": {
      "text/html": [
       "<div>\n",
       "<style scoped>\n",
       "    .dataframe tbody tr th:only-of-type {\n",
       "        vertical-align: middle;\n",
       "    }\n",
       "\n",
       "    .dataframe tbody tr th {\n",
       "        vertical-align: top;\n",
       "    }\n",
       "\n",
       "    .dataframe thead th {\n",
       "        text-align: right;\n",
       "    }\n",
       "</style>\n",
       "<table border=\"1\" class=\"dataframe\">\n",
       "  <thead>\n",
       "    <tr style=\"text-align: right;\">\n",
       "      <th></th>\n",
       "      <th>children</th>\n",
       "      <th>days_employed</th>\n",
       "      <th>dob_years</th>\n",
       "      <th>education</th>\n",
       "      <th>education_id</th>\n",
       "      <th>family_status</th>\n",
       "      <th>family_status_id</th>\n",
       "      <th>gender</th>\n",
       "      <th>income_type</th>\n",
       "      <th>debt</th>\n",
       "      <th>total_income</th>\n",
       "      <th>purpose</th>\n",
       "    </tr>\n",
       "  </thead>\n",
       "  <tbody>\n",
       "    <tr>\n",
       "      <td>0</td>\n",
       "      <td>1</td>\n",
       "      <td>-8437.673028</td>\n",
       "      <td>42</td>\n",
       "      <td>bachelor's degree</td>\n",
       "      <td>0</td>\n",
       "      <td>married</td>\n",
       "      <td>0</td>\n",
       "      <td>F</td>\n",
       "      <td>employee</td>\n",
       "      <td>0</td>\n",
       "      <td>40620.102</td>\n",
       "      <td>purchase of the house</td>\n",
       "    </tr>\n",
       "    <tr>\n",
       "      <td>1</td>\n",
       "      <td>1</td>\n",
       "      <td>-4024.803754</td>\n",
       "      <td>36</td>\n",
       "      <td>secondary education</td>\n",
       "      <td>1</td>\n",
       "      <td>married</td>\n",
       "      <td>0</td>\n",
       "      <td>F</td>\n",
       "      <td>employee</td>\n",
       "      <td>0</td>\n",
       "      <td>17932.802</td>\n",
       "      <td>car purchase</td>\n",
       "    </tr>\n",
       "    <tr>\n",
       "      <td>2</td>\n",
       "      <td>0</td>\n",
       "      <td>-5623.422610</td>\n",
       "      <td>33</td>\n",
       "      <td>Secondary Education</td>\n",
       "      <td>1</td>\n",
       "      <td>married</td>\n",
       "      <td>0</td>\n",
       "      <td>M</td>\n",
       "      <td>employee</td>\n",
       "      <td>0</td>\n",
       "      <td>23341.752</td>\n",
       "      <td>purchase of the house</td>\n",
       "    </tr>\n",
       "    <tr>\n",
       "      <td>3</td>\n",
       "      <td>3</td>\n",
       "      <td>-4124.747207</td>\n",
       "      <td>32</td>\n",
       "      <td>secondary education</td>\n",
       "      <td>1</td>\n",
       "      <td>married</td>\n",
       "      <td>0</td>\n",
       "      <td>M</td>\n",
       "      <td>employee</td>\n",
       "      <td>0</td>\n",
       "      <td>42820.568</td>\n",
       "      <td>supplementary education</td>\n",
       "    </tr>\n",
       "    <tr>\n",
       "      <td>4</td>\n",
       "      <td>0</td>\n",
       "      <td>340266.072047</td>\n",
       "      <td>53</td>\n",
       "      <td>secondary education</td>\n",
       "      <td>1</td>\n",
       "      <td>civil partnership</td>\n",
       "      <td>1</td>\n",
       "      <td>F</td>\n",
       "      <td>retiree</td>\n",
       "      <td>0</td>\n",
       "      <td>25378.572</td>\n",
       "      <td>to have a wedding</td>\n",
       "    </tr>\n",
       "    <tr>\n",
       "      <td>5</td>\n",
       "      <td>0</td>\n",
       "      <td>-926.185831</td>\n",
       "      <td>27</td>\n",
       "      <td>bachelor's degree</td>\n",
       "      <td>0</td>\n",
       "      <td>civil partnership</td>\n",
       "      <td>1</td>\n",
       "      <td>M</td>\n",
       "      <td>business</td>\n",
       "      <td>0</td>\n",
       "      <td>40922.170</td>\n",
       "      <td>purchase of the house</td>\n",
       "    </tr>\n",
       "    <tr>\n",
       "      <td>6</td>\n",
       "      <td>0</td>\n",
       "      <td>-2879.202052</td>\n",
       "      <td>43</td>\n",
       "      <td>bachelor's degree</td>\n",
       "      <td>0</td>\n",
       "      <td>married</td>\n",
       "      <td>0</td>\n",
       "      <td>F</td>\n",
       "      <td>business</td>\n",
       "      <td>0</td>\n",
       "      <td>38484.156</td>\n",
       "      <td>housing transactions</td>\n",
       "    </tr>\n",
       "    <tr>\n",
       "      <td>7</td>\n",
       "      <td>0</td>\n",
       "      <td>-152.779569</td>\n",
       "      <td>50</td>\n",
       "      <td>SECONDARY EDUCATION</td>\n",
       "      <td>1</td>\n",
       "      <td>married</td>\n",
       "      <td>0</td>\n",
       "      <td>M</td>\n",
       "      <td>employee</td>\n",
       "      <td>0</td>\n",
       "      <td>21731.829</td>\n",
       "      <td>education</td>\n",
       "    </tr>\n",
       "    <tr>\n",
       "      <td>8</td>\n",
       "      <td>2</td>\n",
       "      <td>-6929.865299</td>\n",
       "      <td>35</td>\n",
       "      <td>BACHELOR'S DEGREE</td>\n",
       "      <td>0</td>\n",
       "      <td>civil partnership</td>\n",
       "      <td>1</td>\n",
       "      <td>F</td>\n",
       "      <td>employee</td>\n",
       "      <td>0</td>\n",
       "      <td>15337.093</td>\n",
       "      <td>having a wedding</td>\n",
       "    </tr>\n",
       "    <tr>\n",
       "      <td>9</td>\n",
       "      <td>0</td>\n",
       "      <td>-2188.756445</td>\n",
       "      <td>41</td>\n",
       "      <td>secondary education</td>\n",
       "      <td>1</td>\n",
       "      <td>married</td>\n",
       "      <td>0</td>\n",
       "      <td>M</td>\n",
       "      <td>employee</td>\n",
       "      <td>0</td>\n",
       "      <td>23108.150</td>\n",
       "      <td>purchase of the house for my family</td>\n",
       "    </tr>\n",
       "    <tr>\n",
       "      <td>10</td>\n",
       "      <td>2</td>\n",
       "      <td>-4171.483647</td>\n",
       "      <td>36</td>\n",
       "      <td>bachelor's degree</td>\n",
       "      <td>0</td>\n",
       "      <td>married</td>\n",
       "      <td>0</td>\n",
       "      <td>M</td>\n",
       "      <td>business</td>\n",
       "      <td>0</td>\n",
       "      <td>18230.959</td>\n",
       "      <td>buy real estate</td>\n",
       "    </tr>\n",
       "    <tr>\n",
       "      <td>11</td>\n",
       "      <td>0</td>\n",
       "      <td>-792.701887</td>\n",
       "      <td>40</td>\n",
       "      <td>secondary education</td>\n",
       "      <td>1</td>\n",
       "      <td>married</td>\n",
       "      <td>0</td>\n",
       "      <td>F</td>\n",
       "      <td>employee</td>\n",
       "      <td>0</td>\n",
       "      <td>12331.077</td>\n",
       "      <td>buy commercial real estate</td>\n",
       "    </tr>\n",
       "    <tr>\n",
       "      <td>12</td>\n",
       "      <td>0</td>\n",
       "      <td>NaN</td>\n",
       "      <td>65</td>\n",
       "      <td>secondary education</td>\n",
       "      <td>1</td>\n",
       "      <td>civil partnership</td>\n",
       "      <td>1</td>\n",
       "      <td>M</td>\n",
       "      <td>retiree</td>\n",
       "      <td>0</td>\n",
       "      <td>NaN</td>\n",
       "      <td>to have a wedding</td>\n",
       "    </tr>\n",
       "    <tr>\n",
       "      <td>13</td>\n",
       "      <td>0</td>\n",
       "      <td>-1846.641941</td>\n",
       "      <td>54</td>\n",
       "      <td>some college</td>\n",
       "      <td>2</td>\n",
       "      <td>married</td>\n",
       "      <td>0</td>\n",
       "      <td>F</td>\n",
       "      <td>employee</td>\n",
       "      <td>0</td>\n",
       "      <td>20873.317</td>\n",
       "      <td>car purchase</td>\n",
       "    </tr>\n",
       "    <tr>\n",
       "      <td>14</td>\n",
       "      <td>0</td>\n",
       "      <td>-1844.956182</td>\n",
       "      <td>56</td>\n",
       "      <td>bachelor's degree</td>\n",
       "      <td>0</td>\n",
       "      <td>civil partnership</td>\n",
       "      <td>1</td>\n",
       "      <td>F</td>\n",
       "      <td>business</td>\n",
       "      <td>1</td>\n",
       "      <td>26420.466</td>\n",
       "      <td>buy residential real estate</td>\n",
       "    </tr>\n",
       "  </tbody>\n",
       "</table>\n",
       "</div>"
      ],
      "text/plain": [
       "    children  days_employed  dob_years            education  education_id  \\\n",
       "0          1   -8437.673028         42    bachelor's degree             0   \n",
       "1          1   -4024.803754         36  secondary education             1   \n",
       "2          0   -5623.422610         33  Secondary Education             1   \n",
       "3          3   -4124.747207         32  secondary education             1   \n",
       "4          0  340266.072047         53  secondary education             1   \n",
       "5          0    -926.185831         27    bachelor's degree             0   \n",
       "6          0   -2879.202052         43    bachelor's degree             0   \n",
       "7          0    -152.779569         50  SECONDARY EDUCATION             1   \n",
       "8          2   -6929.865299         35    BACHELOR'S DEGREE             0   \n",
       "9          0   -2188.756445         41  secondary education             1   \n",
       "10         2   -4171.483647         36    bachelor's degree             0   \n",
       "11         0    -792.701887         40  secondary education             1   \n",
       "12         0            NaN         65  secondary education             1   \n",
       "13         0   -1846.641941         54         some college             2   \n",
       "14         0   -1844.956182         56    bachelor's degree             0   \n",
       "\n",
       "        family_status  family_status_id gender income_type  debt  \\\n",
       "0             married                 0      F    employee     0   \n",
       "1             married                 0      F    employee     0   \n",
       "2             married                 0      M    employee     0   \n",
       "3             married                 0      M    employee     0   \n",
       "4   civil partnership                 1      F     retiree     0   \n",
       "5   civil partnership                 1      M    business     0   \n",
       "6             married                 0      F    business     0   \n",
       "7             married                 0      M    employee     0   \n",
       "8   civil partnership                 1      F    employee     0   \n",
       "9             married                 0      M    employee     0   \n",
       "10            married                 0      M    business     0   \n",
       "11            married                 0      F    employee     0   \n",
       "12  civil partnership                 1      M     retiree     0   \n",
       "13            married                 0      F    employee     0   \n",
       "14  civil partnership                 1      F    business     1   \n",
       "\n",
       "    total_income                              purpose  \n",
       "0      40620.102                purchase of the house  \n",
       "1      17932.802                         car purchase  \n",
       "2      23341.752                purchase of the house  \n",
       "3      42820.568              supplementary education  \n",
       "4      25378.572                    to have a wedding  \n",
       "5      40922.170                purchase of the house  \n",
       "6      38484.156                 housing transactions  \n",
       "7      21731.829                            education  \n",
       "8      15337.093                     having a wedding  \n",
       "9      23108.150  purchase of the house for my family  \n",
       "10     18230.959                      buy real estate  \n",
       "11     12331.077           buy commercial real estate  \n",
       "12           NaN                    to have a wedding  \n",
       "13     20873.317                         car purchase  \n",
       "14     26420.466          buy residential real estate  "
      ]
     },
     "execution_count": 3,
     "metadata": {},
     "output_type": "execute_result"
    }
   ],
   "source": [
    "# let's print the first 15 rows\n",
    "data.head(15)"
   ]
  },
  {
   "cell_type": "markdown",
   "metadata": {},
   "source": [
    "We already can see in the printed data sample a few issues that will need further investigation and changes:\n",
    "1. Missing values (for now seen only in 'income' and 'work experience' columns).\n",
    "2. Values that will need to be consolidated to fewer unique values - in 'education' and 'purpose' columns.\n",
    "3. Negative values in 'work experience' column.\n",
    "4. The one positive value in 'work experience' column (in this sample) is an error (340266, i.e. more than 932 years...).\n",
    "5. Values in 'income' and 'work experience' columns could be rounded (more convenient and doesn't seem critical).\n",
    "\n",
    "We will look now into the general info to get the full picture of missing values and data types:"
   ]
  },
  {
   "cell_type": "code",
   "execution_count": 4,
   "metadata": {
    "scrolled": false
   },
   "outputs": [
    {
     "name": "stdout",
     "output_type": "stream",
     "text": [
      "<class 'pandas.core.frame.DataFrame'>\n",
      "RangeIndex: 21525 entries, 0 to 21524\n",
      "Data columns (total 12 columns):\n",
      "children            21525 non-null int64\n",
      "days_employed       19351 non-null float64\n",
      "dob_years           21525 non-null int64\n",
      "education           21525 non-null object\n",
      "education_id        21525 non-null int64\n",
      "family_status       21525 non-null object\n",
      "family_status_id    21525 non-null int64\n",
      "gender              21525 non-null object\n",
      "income_type         21525 non-null object\n",
      "debt                21525 non-null int64\n",
      "total_income        19351 non-null float64\n",
      "purpose             21525 non-null object\n",
      "dtypes: float64(2), int64(5), object(5)\n",
      "memory usage: 2.0+ MB\n"
     ]
    }
   ],
   "source": [
    "# Get info on data\n",
    "data.info()"
   ]
  },
  {
   "cell_type": "markdown",
   "metadata": {},
   "source": [
    "Data types seem ok (later we will round the float values).\n",
    "There are missing values only in 2 columns: 'days_employed' and 'total_income'. The number of missing values in these 2 columns is the same (which might hint that when one of these values is missing - the other is missing as well, which is logical since both relate to income). Let's see:  "
   ]
  },
  {
   "cell_type": "code",
   "execution_count": 5,
   "metadata": {
    "scrolled": true
   },
   "outputs": [
    {
     "data": {
      "text/plain": [
       "children               0\n",
       "days_employed       2174\n",
       "dob_years              0\n",
       "education              0\n",
       "education_id           0\n",
       "family_status          0\n",
       "family_status_id       0\n",
       "gender                 0\n",
       "income_type            0\n",
       "debt                   0\n",
       "total_income        2174\n",
       "purpose                0\n",
       "dtype: int64"
      ]
     },
     "execution_count": 5,
     "metadata": {},
     "output_type": "execute_result"
    }
   ],
   "source": [
    "# Let's look at the number of missing values in each column\n",
    "data.isnull().sum() "
   ]
  },
  {
   "cell_type": "markdown",
   "metadata": {},
   "source": [
    "The missing values seem symmetric between the 2 columns, but we will need to validate that. "
   ]
  },
  {
   "cell_type": "code",
   "execution_count": 6,
   "metadata": {},
   "outputs": [
    {
     "data": {
      "text/plain": [
       "(2174, 12)"
      ]
     },
     "execution_count": 6,
     "metadata": {},
     "output_type": "execute_result"
    }
   ],
   "source": [
    "# Let's apply multiple conditions for filtering data and look at the number of rows in the filtered table.\n",
    "filtered_data = data[(data['days_employed'].isnull() == True) & (data['total_income'].isnull() == True)]  \n",
    "filtered_data.shape"
   ]
  },
  {
   "cell_type": "markdown",
   "metadata": {},
   "source": [
    "**Intermediate conclusion**\n",
    "\n",
    "The number of rows in the filtered table match the number of missing values. We can conclude that the same 2174 clients are missing data on both 'days_employed' and 'total_income'.\n",
    "\n",
    "These 2174 clients are a bit more than 10% of our 21525 clients in the whole dataset, which is a large enough portion for us to keep them (especially for conclusions about corelations of default, marital status, children, and loan purpose - where all these 2174 clients have full data). WE will first try to check whether the missing data could be due to the specific client characteristic, such as employment type or something else. Later we will fill the missing values with the most representative values.  \n",
    "\n",
    "So maybe cases with missing data on work experience and income - whould be with a matching value in 'income_type', and 'debt' columns, therefore we will investigate this now. "
   ]
  },
  {
   "cell_type": "code",
   "execution_count": 7,
   "metadata": {},
   "outputs": [
    {
     "data": {
      "text/plain": [
       "employee         1105\n",
       "business          508\n",
       "retiree           413\n",
       "civil servant     147\n",
       "entrepreneur        1\n",
       "Name: income_type, dtype: int64"
      ]
     },
     "execution_count": 7,
     "metadata": {},
     "output_type": "execute_result"
    }
   ],
   "source": [
    "# Let's investigate the income type of the clients witht the missing data \n",
    "filtered_data['income_type'].value_counts() "
   ]
  },
  {
   "cell_type": "markdown",
   "metadata": {},
   "source": [
    "We see the clients with missing data come from different income types, and no clear reason is seen here."
   ]
  },
  {
   "cell_type": "code",
   "execution_count": 8,
   "metadata": {},
   "outputs": [
    {
     "data": {
      "text/plain": [
       "0    2004\n",
       "1     170\n",
       "Name: debt, dtype: int64"
      ]
     },
     "execution_count": 8,
     "metadata": {},
     "output_type": "execute_result"
    }
   ],
   "source": [
    "# let's see if there is any connection between the missing data clients and default on a loan:\n",
    "filtered_data['debt'].value_counts() "
   ]
  },
  {
   "cell_type": "markdown",
   "metadata": {},
   "source": [
    "Again, missing values exist for both defaut and non-default clients, it still seems random. Maybe the default rate of the missing values group is significantly different than the whole datadet? let's see: "
   ]
  },
  {
   "cell_type": "code",
   "execution_count": 9,
   "metadata": {},
   "outputs": [
    {
     "data": {
      "text/plain": [
       "0    19784\n",
       "1     1741\n",
       "Name: debt, dtype: int64"
      ]
     },
     "execution_count": 9,
     "metadata": {},
     "output_type": "execute_result"
    }
   ],
   "source": [
    "# Checking the debt distribution in the whole dataset\n",
    "data['debt'].value_counts() "
   ]
  },
  {
   "cell_type": "markdown",
   "metadata": {},
   "source": [
    "**Intermediate conclusion**\n",
    "\n",
    "The debt distribution in the original dataset (around 8%) is similar to the debt distribution of the filtered table (the missing values group), and this further supports the counclusion that the missing work & income values are accidental and random. \n",
    "\n",
    "But before we conclude it, we will try to check if the missing data on work & income can be related to specific loan purpose(s):"
   ]
  },
  {
   "cell_type": "code",
   "execution_count": 10,
   "metadata": {},
   "outputs": [
    {
     "data": {
      "text/plain": [
       "having a wedding                            92\n",
       "to have a wedding                           81\n",
       "wedding ceremony                            76\n",
       "construction of own property                75\n",
       "housing transactions                        74\n",
       "buy real estate                             72\n",
       "purchase of the house for my family         71\n",
       "transactions with my real estate            71\n",
       "housing renovation                          70\n",
       "transactions with commercial real estate    70\n",
       "buy commercial real estate                  67\n",
       "buying property for renting out             65\n",
       "property                                    62\n",
       "real estate transactions                    61\n",
       "buy residential real estate                 61\n",
       "housing                                     60\n",
       "building a property                         59\n",
       "cars                                        57\n",
       "going to university                         56\n",
       "to become educated                          55\n",
       "second-hand car purchase                    54\n",
       "buying my own car                           53\n",
       "to own a car                                52\n",
       "purchase of the house                       52\n",
       "to get a supplementary education            51\n",
       "getting an education                        50\n",
       "supplementary education                     48\n",
       "profile education                           47\n",
       "building a real estate                      46\n",
       "purchase of my own house                    46\n",
       "purchase of a car                           46\n",
       "car purchase                                43\n",
       "buying a second-hand car                    42\n",
       "education                                   42\n",
       "car                                         41\n",
       "university education                        40\n",
       "getting higher education                    36\n",
       "to buy a car                                30\n",
       "Name: purpose, dtype: int64"
      ]
     },
     "execution_count": 10,
     "metadata": {},
     "output_type": "execute_result"
    }
   ],
   "source": [
    "# Check for relation between loan purpose and missing values\n",
    "filtered_data['purpose'].value_counts() "
   ]
  },
  {
   "cell_type": "markdown",
   "metadata": {},
   "source": [
    "\n",
    "**Intermediate conclusion**\n",
    "\n",
    "Again - it seems all loan purposes take part in the group of clients with missing work & income data, no clear reason or pattern is observed. A differnet issue we see here is that there are many different names for similar loan purposes - we will deal with this issue a bit later."
   ]
  },
  {
   "cell_type": "markdown",
   "metadata": {},
   "source": [
    "**Conclusions**\n",
    "\n",
    "We did not find any patterns, and it seems that the missing values are not easily explained by an identifier characteristic. \n",
    "\n",
    "Our approach for the missing values will be later on to fill them with the most appropriate typical values (mean/median of relevant groupings), as will be explained below. Yet, when making project conclusions about income_level - results will be validated by checking the results also without the filled missing income values.  \n",
    "\n",
    "Our next steps will be transforming data: we will address different types of issues, some of which we have detected above: duplicates, different registers, incorrect artifacts, and missing values."
   ]
  },
  {
   "cell_type": "markdown",
   "metadata": {},
   "source": [
    "## Data transformation\n",
    "\n",
    "### Problematic values, column by column \n",
    "\n",
    "We will go through each column to see what issues we may have in them, starting with **education**."
   ]
  },
  {
   "cell_type": "code",
   "execution_count": 11,
   "metadata": {},
   "outputs": [
    {
     "data": {
      "text/plain": [
       "array([\"bachelor's degree\", 'secondary education', 'Secondary Education',\n",
       "       'SECONDARY EDUCATION', \"BACHELOR'S DEGREE\", 'some college',\n",
       "       'primary education', \"Bachelor's Degree\", 'SOME COLLEGE',\n",
       "       'Some College', 'PRIMARY EDUCATION', 'Primary Education',\n",
       "       'Graduate Degree', 'GRADUATE DEGREE', 'graduate degree'],\n",
       "      dtype=object)"
      ]
     },
     "execution_count": 11,
     "metadata": {},
     "output_type": "execute_result"
    }
   ],
   "source": [
    "# Let's see all values in education column to check if and what spellings will need to be fixed\n",
    "data['education'].unique() "
   ]
  },
  {
   "cell_type": "markdown",
   "metadata": {},
   "source": [
    "It seems that changing all registers to lower key spelling will consolidate the implicit duplicates:"
   ]
  },
  {
   "cell_type": "code",
   "execution_count": 12,
   "metadata": {
    "scrolled": true
   },
   "outputs": [],
   "source": [
    "# Fix the registers if required\n",
    "data['education'] = data['education'].str.lower() "
   ]
  },
  {
   "cell_type": "code",
   "execution_count": 13,
   "metadata": {},
   "outputs": [
    {
     "data": {
      "text/plain": [
       "array([\"bachelor's degree\", 'secondary education', 'some college',\n",
       "       'primary education', 'graduate degree'], dtype=object)"
      ]
     },
     "execution_count": 13,
     "metadata": {},
     "output_type": "execute_result"
    }
   ],
   "source": [
    "# Checking all the values in the column to make sure we fixed them\n",
    "data['education'].unique() "
   ]
  },
  {
   "cell_type": "markdown",
   "metadata": {},
   "source": [
    "'Education' looks ok now. We will move now to **children** column:"
   ]
  },
  {
   "cell_type": "code",
   "execution_count": 14,
   "metadata": {},
   "outputs": [
    {
     "data": {
      "text/plain": [
       " 0     14149\n",
       " 1      4818\n",
       " 2      2055\n",
       " 3       330\n",
       " 20       76\n",
       "-1        47\n",
       " 4        41\n",
       " 5         9\n",
       "Name: children, dtype: int64"
      ]
     },
     "execution_count": 14,
     "metadata": {},
     "output_type": "execute_result"
    }
   ],
   "source": [
    "# Let's see the distribution of values in the `children` column\n",
    "data['children'].value_counts() "
   ]
  },
  {
   "cell_type": "markdown",
   "metadata": {},
   "source": [
    "2 problems we can see: 76 cases of 20 children, and 47 cases of -1 child. Both are definately errors. The percentage of problematic data is not high (about half a percent of the dataset).\n",
    "\n",
    "Since the number of children (and it's corelation with default on a loan) is one of the main focused purposes of this project, and since the percentage of this problematic data is so low - we will delete these 123 rows from our dataset. It could be argued that the -1 are maybe all actually 1 child, or that we could fill the wrong values with mean/median - but following the 2 reasons mentioned above - we think it will be more reliable for the purpose of this project, and still allowing to use almost all the data, to delete these rows. "
   ]
  },
  {
   "cell_type": "code",
   "execution_count": 15,
   "metadata": {},
   "outputs": [],
   "source": [
    "# fixing the data based on our decision: \n",
    "data = data[data['children'] != 20] \n",
    "data = data[data['children'] != -1]"
   ]
  },
  {
   "cell_type": "code",
   "execution_count": 16,
   "metadata": {},
   "outputs": [
    {
     "data": {
      "text/plain": [
       "0    14149\n",
       "1     4818\n",
       "2     2055\n",
       "3      330\n",
       "4       41\n",
       "5        9\n",
       "Name: children, dtype: int64"
      ]
     },
     "execution_count": 16,
     "metadata": {},
     "output_type": "execute_result"
    }
   ],
   "source": [
    "# Checking the `children` column again to make sure it's all fixed\n",
    "data['children'].value_counts() "
   ]
  },
  {
   "cell_type": "markdown",
   "metadata": {},
   "source": [
    "Next, we will check the data in the **days_employed** (work experience) column.\n",
    "\n",
    "We have noticed above 2 problems with the existing values in this column: 1. That there are negative values in this column. 2. Values of very high number (above 300000).\n",
    "\n",
    "We will start with the negative values, let's see what is the amount of this problematic data:  "
   ]
  },
  {
   "cell_type": "code",
   "execution_count": 17,
   "metadata": {},
   "outputs": [
    {
     "data": {
      "text/plain": [
       "0.7386692832445566"
      ]
     },
     "execution_count": 17,
     "metadata": {},
     "output_type": "execute_result"
    }
   ],
   "source": [
    "# count the negative values in `days_employed`, and calculate the percentage\n",
    "neg_emp = data[data['days_employed'] < 0] \n",
    "neg_emp['days_employed'].count() / len(data) "
   ]
  },
  {
   "cell_type": "markdown",
   "metadata": {},
   "source": [
    "We see the amount of problematic data here is very high (almost 74% (!) of all the clients). It could've been due to some technical error. We want to propose the most obvious reason why it could've happened: An error in the minus sign. We have no other data to suggest the values themselves (absolute values) are wrong, so we belive the correct data is probably the absolute values. In any case the variable of work experience is not a focus of this project, so we don't need to worry about reaching wrong conclusions because of uncertain values. As we can't drop these problematic rows (that do have important data about debt, family status and children) -  we will transform all 'days_employed' values to their absolute value (and round them for simplicity and convenience). For now we will keep them as float (in order to enable working with NaN values), and after we fill all NaN values later - we will change them to integers. "
   ]
  },
  {
   "cell_type": "code",
   "execution_count": 18,
   "metadata": {},
   "outputs": [],
   "source": [
    "# Round values and change them to their absolute value\n",
    "data['days_employed'] = data['days_employed'].round()\n",
    "data['days_employed'] = data['days_employed'].abs() "
   ]
  },
  {
   "cell_type": "code",
   "execution_count": 19,
   "metadata": {},
   "outputs": [
    {
     "name": "stdout",
     "output_type": "stream",
     "text": [
      "0      8438.0\n",
      "1      4025.0\n",
      "2      5623.0\n",
      "3      4125.0\n",
      "4    340266.0\n",
      "Name: days_employed, dtype: float64\n"
     ]
    }
   ],
   "source": [
    "# Check the result - make sure it's fixed - first we will check first 5 rows to see the change:\n",
    "print(data['days_employed'][:5])"
   ]
  },
  {
   "cell_type": "code",
   "execution_count": 20,
   "metadata": {},
   "outputs": [
    {
     "data": {
      "text/plain": [
       "0"
      ]
     },
     "execution_count": 20,
     "metadata": {},
     "output_type": "execute_result"
    }
   ],
   "source": [
    "# Now we will make sure no more negative values appear:\n",
    "neg_emp = data[data['days_employed'] < 0] \n",
    "neg_emp['days_employed'].count() "
   ]
  },
  {
   "cell_type": "markdown",
   "metadata": {},
   "source": [
    "No more negative values, but row number 4 above (340266 days, more than 932 years...) reminds us of the second problem: error of extremely high values. We will explore now this problem. As the most extreme allowed max we will take 20000 days (around 55 years of work experience, seems a safe max that any number above it is probably an error).  "
   ]
  },
  {
   "cell_type": "code",
   "execution_count": 21,
   "metadata": {},
   "outputs": [
    {
     "data": {
      "text/plain": [
       "count      3431.0\n",
       "mean     365026.0\n",
       "std       21087.0\n",
       "min      328729.0\n",
       "25%      346649.0\n",
       "50%      365287.0\n",
       "75%      383293.0\n",
       "max      401755.0\n",
       "Name: days_employed, dtype: float64"
      ]
     },
     "execution_count": 21,
     "metadata": {},
     "output_type": "execute_result"
    }
   ],
   "source": [
    "# exploring the data with too high values for 'days_employed'\n",
    "err_data = data[data['days_employed'] > 20000]\n",
    "err_data['days_employed'].describe().round() "
   ]
  },
  {
   "cell_type": "markdown",
   "metadata": {},
   "source": [
    "So all these values are above 328000 days (definatelly errors, almost 900 years and more!). \n",
    "Are all of them, like the first one we have detected in the sample above, retirees?"
   ]
  },
  {
   "cell_type": "code",
   "execution_count": 22,
   "metadata": {},
   "outputs": [
    {
     "data": {
      "text/plain": [
       "retiree       3429\n",
       "unemployed       2\n",
       "Name: income_type, dtype: int64"
      ]
     },
     "execution_count": 22,
     "metadata": {},
     "output_type": "execute_result"
    }
   ],
   "source": [
    "# Check 'income_type' values of the borrowers with huge \"day_employed' values\n",
    "err_data['income_type'].value_counts() "
   ]
  },
  {
   "cell_type": "markdown",
   "metadata": {},
   "source": [
    "What is the percentage of this problem (out of all borrowers data)?"
   ]
  },
  {
   "cell_type": "code",
   "execution_count": 23,
   "metadata": {},
   "outputs": [
    {
     "data": {
      "text/plain": [
       "0.16031212036258294"
      ]
     },
     "execution_count": 23,
     "metadata": {},
     "output_type": "execute_result"
    }
   ],
   "source": [
    "# Percentage of the too high values\n",
    "err_data['days_employed'].count() / len(data) "
   ]
  },
  {
   "cell_type": "markdown",
   "metadata": {},
   "source": [
    "16% is quite a large part of the borrowers in the data, on which we do have data on debt, family status, children and more - so we would not want to remove these rows. But we dont have any reliable clue about the correct values for 'days_employed' for these rows. Therfore we shall replace them with NaN. Another option could have been to remove the whole column, since it is problematic in it's reliability and not needed for the questions of the current project, but for now turning them into NaN is the option we choose since it is valid and keeps as much data as possible. "
   ]
  },
  {
   "cell_type": "code",
   "execution_count": 24,
   "metadata": {},
   "outputs": [
    {
     "data": {
      "text/plain": [
       "18389.0"
      ]
     },
     "execution_count": 24,
     "metadata": {},
     "output_type": "execute_result"
    }
   ],
   "source": [
    "# replacing the too-high values in 'days_employed' with NaN, and checking it worked\n",
    "import numpy as np\n",
    "\n",
    "data.loc[data['days_employed'] > 20000, 'days_employed'] = np.nan\n",
    "data['days_employed'].max()  "
   ]
  },
  {
   "cell_type": "markdown",
   "metadata": {},
   "source": [
    "Now we have no more huge (error) values in 'days_employed' column. Later, after we fill in all missing values, we will cast the velues in this column to an integer type.    "
   ]
  },
  {
   "cell_type": "markdown",
   "metadata": {},
   "source": [
    "Let's now look at the **client's age** ('dob_years' column) and whether there are any issues there."
   ]
  },
  {
   "cell_type": "code",
   "execution_count": 25,
   "metadata": {
    "scrolled": true
   },
   "outputs": [
    {
     "data": {
      "text/plain": [
       "35    614\n",
       "40    603\n",
       "41    603\n",
       "34    597\n",
       "38    595\n",
       "42    592\n",
       "33    577\n",
       "39    572\n",
       "31    556\n",
       "36    553\n",
       "29    543\n",
       "44    543\n",
       "30    536\n",
       "48    536\n",
       "37    531\n",
       "43    510\n",
       "50    509\n",
       "32    506\n",
       "49    505\n",
       "28    501\n",
       "45    494\n",
       "27    490\n",
       "52    483\n",
       "56    482\n",
       "47    480\n",
       "54    476\n",
       "46    469\n",
       "58    461\n",
       "57    457\n",
       "53    457\n",
       "51    446\n",
       "55    441\n",
       "59    441\n",
       "26    406\n",
       "60    376\n",
       "25    356\n",
       "61    353\n",
       "62    351\n",
       "63    268\n",
       "64    263\n",
       "24    263\n",
       "23    252\n",
       "65    194\n",
       "66    183\n",
       "22    183\n",
       "67    167\n",
       "21    110\n",
       "0     100\n",
       "68     99\n",
       "69     83\n",
       "70     65\n",
       "71     58\n",
       "20     51\n",
       "72     33\n",
       "19     14\n",
       "73      8\n",
       "74      6\n",
       "75      1\n",
       "Name: dob_years, dtype: int64"
      ]
     },
     "execution_count": 25,
     "metadata": {},
     "output_type": "execute_result"
    }
   ],
   "source": [
    "# Check the `dob_years` for suspicious values and their amount \n",
    "data['dob_years'].value_counts()   "
   ]
  },
  {
   "cell_type": "markdown",
   "metadata": {},
   "source": [
    "The problematic value here is the age 0, that appears 100 times. This is only around half a percent of the dataset, but since the age is not a main focus of this research, and since these 100 rows do have important data on debt, family status and children, it feels safe enough to transform the age 0 into the mean age of the whole dataset. In any case because it is so small amount of rows - the average exact choice is not critical. "
   ]
  },
  {
   "cell_type": "code",
   "execution_count": 26,
   "metadata": {},
   "outputs": [],
   "source": [
    "# Change the problematic age with the mean age\n",
    "data.loc[data['dob_years'] == 0, 'dob_years'] = data['dob_years'].mean() "
   ]
  },
  {
   "cell_type": "code",
   "execution_count": 27,
   "metadata": {},
   "outputs": [
    {
     "data": {
      "text/plain": [
       "0"
      ]
     },
     "execution_count": 27,
     "metadata": {},
     "output_type": "execute_result"
    }
   ],
   "source": [
    "# Check the result - make sure no more ages 0 appear\n",
    "(data['dob_years'] == 0).sum()  "
   ]
  },
  {
   "cell_type": "markdown",
   "metadata": {},
   "source": [
    "But another outcome of turning the '0' values into the mean - is that the whole column might change it's dtype from int to float. Let's check if it happened here:"
   ]
  },
  {
   "cell_type": "code",
   "execution_count": 28,
   "metadata": {},
   "outputs": [
    {
     "name": "stdout",
     "output_type": "stream",
     "text": [
      "<class 'pandas.core.frame.DataFrame'>\n",
      "Int64Index: 21402 entries, 0 to 21524\n",
      "Data columns (total 12 columns):\n",
      "children            21402 non-null int64\n",
      "days_employed       15809 non-null float64\n",
      "dob_years           21402 non-null float64\n",
      "education           21402 non-null object\n",
      "education_id        21402 non-null int64\n",
      "family_status       21402 non-null object\n",
      "family_status_id    21402 non-null int64\n",
      "gender              21402 non-null object\n",
      "income_type         21402 non-null object\n",
      "debt                21402 non-null int64\n",
      "total_income        19240 non-null float64\n",
      "purpose             21402 non-null object\n",
      "dtypes: float64(3), int64(4), object(5)\n",
      "memory usage: 2.1+ MB\n"
     ]
    }
   ],
   "source": [
    "data.info()"
   ]
  },
  {
   "cell_type": "markdown",
   "metadata": {},
   "source": [
    "Yes it did. So now we will turn this column back to int type, and check it worked."
   ]
  },
  {
   "cell_type": "code",
   "execution_count": 29,
   "metadata": {},
   "outputs": [
    {
     "name": "stdout",
     "output_type": "stream",
     "text": [
      "<class 'pandas.core.frame.DataFrame'>\n",
      "Int64Index: 21402 entries, 0 to 21524\n",
      "Data columns (total 12 columns):\n",
      "children            21402 non-null int64\n",
      "days_employed       15809 non-null float64\n",
      "dob_years           21402 non-null int64\n",
      "education           21402 non-null object\n",
      "education_id        21402 non-null int64\n",
      "family_status       21402 non-null object\n",
      "family_status_id    21402 non-null int64\n",
      "gender              21402 non-null object\n",
      "income_type         21402 non-null object\n",
      "debt                21402 non-null int64\n",
      "total_income        19240 non-null float64\n",
      "purpose             21402 non-null object\n",
      "dtypes: float64(2), int64(5), object(5)\n",
      "memory usage: 2.1+ MB\n"
     ]
    }
   ],
   "source": [
    "# convert 'dob_years' into integers and checking it worked\n",
    "data['dob_years'] = data['dob_years'].astype('int') \n",
    "data.info() "
   ]
  },
  {
   "cell_type": "markdown",
   "metadata": {},
   "source": [
    "Let's now look at the **client's age** ('dob_years' column) and whether there are any issues there.\n",
    "Now let's check the **family_status** column. We will check what kind of values there are, and if there are issues to adress."
   ]
  },
  {
   "cell_type": "code",
   "execution_count": 30,
   "metadata": {},
   "outputs": [
    {
     "data": {
      "text/plain": [
       "married              12302\n",
       "civil partnership     4160\n",
       "unmarried             2799\n",
       "divorced              1189\n",
       "widow / widower        952\n",
       "Name: family_status, dtype: int64"
      ]
     },
     "execution_count": 30,
     "metadata": {},
     "output_type": "execute_result"
    }
   ],
   "source": [
    "# Let's see the values for the column\n",
    "data['family_status'].value_counts()  "
   ]
  },
  {
   "cell_type": "markdown",
   "metadata": {},
   "source": [
    "No problems are seen here. \n",
    "\n",
    "We will move to the **gender** column, to see what kind of values there are and wether there are problems we may need to address."
   ]
  },
  {
   "cell_type": "code",
   "execution_count": 31,
   "metadata": {},
   "outputs": [
    {
     "data": {
      "text/plain": [
       "F      14154\n",
       "M       7247\n",
       "XNA        1\n",
       "Name: gender, dtype: int64"
      ]
     },
     "execution_count": 31,
     "metadata": {},
     "output_type": "execute_result"
    }
   ],
   "source": [
    "# Let's see the values in the column\n",
    "data['gender'].value_counts()"
   ]
  },
  {
   "cell_type": "markdown",
   "metadata": {},
   "source": [
    "Again, No problems are seen here. It is optional to drop the row with the only XNA - but we don't have to do it.   \n",
    "\n",
    "We will move now to the **income_type** column, to see what kind of values there are and wether there are problems we may need to address. "
   ]
  },
  {
   "cell_type": "code",
   "execution_count": 32,
   "metadata": {},
   "outputs": [
    {
     "data": {
      "text/plain": [
       "array(['employee', 'retiree', 'business', 'civil servant', 'unemployed',\n",
       "       'entrepreneur', 'student', 'paternity / maternity leave'],\n",
       "      dtype=object)"
      ]
     },
     "execution_count": 32,
     "metadata": {},
     "output_type": "execute_result"
    }
   ],
   "source": [
    "data['income_type'].unique()"
   ]
  },
  {
   "cell_type": "markdown",
   "metadata": {},
   "source": [
    "Here too, no problems are seen. \n",
    "\n",
    "let's move to the **loan purpose** column (that we have already mentioned above that will need registers' consolidation).\n",
    "first let's see what are all the values in the column: "
   ]
  },
  {
   "cell_type": "code",
   "execution_count": 33,
   "metadata": {},
   "outputs": [
    {
     "data": {
      "text/plain": [
       "array(['purchase of the house', 'car purchase', 'supplementary education',\n",
       "       'to have a wedding', 'housing transactions', 'education',\n",
       "       'having a wedding', 'purchase of the house for my family',\n",
       "       'buy real estate', 'buy commercial real estate',\n",
       "       'buy residential real estate', 'construction of own property',\n",
       "       'property', 'building a property', 'buying a second-hand car',\n",
       "       'buying my own car', 'transactions with commercial real estate',\n",
       "       'building a real estate', 'housing',\n",
       "       'transactions with my real estate', 'cars', 'to become educated',\n",
       "       'second-hand car purchase', 'getting an education', 'car',\n",
       "       'wedding ceremony', 'to get a supplementary education',\n",
       "       'purchase of my own house', 'real estate transactions',\n",
       "       'getting higher education', 'to own a car', 'purchase of a car',\n",
       "       'profile education', 'university education',\n",
       "       'buying property for renting out', 'to buy a car',\n",
       "       'housing renovation', 'going to university'], dtype=object)"
      ]
     },
     "execution_count": 33,
     "metadata": {},
     "output_type": "execute_result"
    }
   ],
   "source": [
    "# Let's see the values in the column\n",
    "data['purpose'].unique() "
   ]
  },
  {
   "cell_type": "markdown",
   "metadata": {},
   "source": [
    "As wee can see when looking through the unique values - we can group together the loan purposes under 4 purpose groups:\n",
    "1. Housing / real estate\n",
    "2. Car\n",
    "3. education\n",
    "4. Wedding\n",
    "\n",
    "We will now transform the **purpose** values to this simple limited amount of unique values, and then check it's changed. \n"
   ]
  },
  {
   "cell_type": "code",
   "execution_count": 34,
   "metadata": {},
   "outputs": [],
   "source": [
    "# replacing loan purpose to the simpler and more generalized purpose \n",
    "data = data.replace(\n",
    "    ['purchase of the house', 'housing transactions', 'purchase of the house for my family', 'buy real estate',\n",
    "     'buy commercial real estate','buy residential real estate', 'construction of own property', 'property',\n",
    "     'building a property', 'transactions with commercial real estate', 'building a real estate', 'housing',\n",
    "     'transactions with my real estate', 'purchase of my own house', 'real estate transactions', \n",
    "     'buying property for renting out', 'housing renovation'], 'housing / real estate')\n",
    "data = data.replace(\n",
    "    ['car purchase', 'buying a second-hand car', 'buying my own car', 'cars', 'second-hand car purchase', 'car', 'to own a car',\n",
    "     'purchase of a car', 'to buy a car'], 'car')\n",
    "data = data.replace(\n",
    "    ['supplementary education', 'education', 'to become educated', 'getting an education', 'to get a supplementary education',\n",
    "     'getting higher education', 'profile education', 'university education', 'going to university'], 'education')\n",
    "data = data.replace(\n",
    "    ['to have a wedding', 'having a wedding', 'wedding ceremony'], 'wedding')   "
   ]
  },
  {
   "cell_type": "code",
   "execution_count": 35,
   "metadata": {},
   "outputs": [
    {
     "data": {
      "text/plain": [
       "array(['housing / real estate', 'car', 'education', 'wedding'],\n",
       "      dtype=object)"
      ]
     },
     "execution_count": 35,
     "metadata": {},
     "output_type": "execute_result"
    }
   ],
   "source": [
    "# Check the result - make sure it's changed\n",
    "data['purpose'].unique() "
   ]
  },
  {
   "cell_type": "markdown",
   "metadata": {},
   "source": [
    "### Duplicates\n",
    "we will check for duplicates in our data and address them/"
   ]
  },
  {
   "cell_type": "code",
   "execution_count": 36,
   "metadata": {},
   "outputs": [
    {
     "data": {
      "text/plain": [
       "408"
      ]
     },
     "execution_count": 36,
     "metadata": {},
     "output_type": "execute_result"
    }
   ],
   "source": [
    "# Checking duplicates\n",
    "data.duplicated().sum()"
   ]
  },
  {
   "cell_type": "markdown",
   "metadata": {},
   "source": [
    "These are totally identical rows, which is obviously an error, so they need to be dropped, and no-duplicates state validated.  "
   ]
  },
  {
   "cell_type": "code",
   "execution_count": 37,
   "metadata": {},
   "outputs": [],
   "source": [
    "# Drop the duplicates\n",
    "data = data.drop_duplicates().reset_index(drop\n",
    "= True)"
   ]
  },
  {
   "cell_type": "code",
   "execution_count": 38,
   "metadata": {},
   "outputs": [
    {
     "data": {
      "text/plain": [
       "0"
      ]
     },
     "execution_count": 38,
     "metadata": {},
     "output_type": "execute_result"
    }
   ],
   "source": [
    "# Last check whether we have any duplicates\n",
    "data.duplicated().sum()"
   ]
  },
  {
   "cell_type": "code",
   "execution_count": 39,
   "metadata": {},
   "outputs": [
    {
     "data": {
      "text/plain": [
       "(20994, 12)"
      ]
     },
     "execution_count": 39,
     "metadata": {},
     "output_type": "execute_result"
    }
   ],
   "source": [
    "# let's check the new size of the dataset that we now have after our first manipulations with it\n",
    "data.shape"
   ]
  },
  {
   "cell_type": "markdown",
   "metadata": {},
   "source": [
    "Before we move to filling the missing values, let's describe our **new dataset**:\n",
    "\n",
    "We have now 20994 rows, after the following changes:\n",
    "1. 408 duplicated rows were removed.\n",
    "2. 123 rows with error on number of children were removed (because it is a main analysis target of this project). \n",
    "3. Problematic values were changed into:\n",
    "\n",
    "    3.1 Column mean (age 0)\n",
    "    \n",
    "    3.2 Absolut value (negative number of days work experience)\n",
    "    \n",
    "    3.3 NaN (huge numbers of days work experience) \n",
    "    \n",
    "    3.4 Consolidated into groups / same spelling (loan purpose and education, respectively) \n",
    "\n",
    "Total drops so far were less than 2.5% of original dataset.\n",
    "\n",
    "The age mean change was for only half a percent of the data.\n",
    "\n",
    "The absolut value change for number of days experience was for almost 3/4 of the data rows, and the huge values turned into NaN are another 16% of the data rows - but we will not make conclusions about this variable. "
   ]
  },
  {
   "cell_type": "markdown",
   "metadata": {},
   "source": [
    "### Working with missing values"
   ]
  },
  {
   "cell_type": "markdown",
   "metadata": {},
   "source": [
    "Althogh 2 columns provide IDs for values in other columns (education_id and family_status_id), and act as simplifying dictionaries, we will prefer continue working with the full value columns for higher clarity of meaning. \n",
    "\n",
    "We recall the two columns having missing values are **total_income** and **days_employed**.\n",
    "\n",
    "We will analyze which variables have high impact on each of these columns (when data exists), and choose a fitting mean/median to fill these quantitative missing values. "
   ]
  },
  {
   "cell_type": "markdown",
   "metadata": {},
   "source": [
    "####  Restoring missing values in `total_income`"
   ]
  },
  {
   "cell_type": "markdown",
   "metadata": {},
   "source": [
    "We will start with addressing **total income** missing values.\n",
    "\n",
    "In order to enable comfortable checking of  age impact, first we will create **age categories** for clients (youngest age being 19). we will create a new column with the age category. This strategy might help with calculating values for the total income.\n"
   ]
  },
  {
   "cell_type": "code",
   "execution_count": 40,
   "metadata": {},
   "outputs": [],
   "source": [
    "# a function that calculates the age category\n",
    "def age_category(age):\n",
    "    if 19 <= age <= 29:\n",
    "        return '19-29'\n",
    "    if 30 <= age <= 39:\n",
    "        return '30-39'\n",
    "    if 40 <= age <= 49:\n",
    "        return '40-49'\n",
    "    if 50 <= age <= 59:\n",
    "        return '50-59'\n",
    "    if 60 <= age <= 69:\n",
    "        return '60-69'\n",
    "    if 70 <= age:\n",
    "        return '70+'   "
   ]
  },
  {
   "cell_type": "code",
   "execution_count": 41,
   "metadata": {},
   "outputs": [
    {
     "name": "stdout",
     "output_type": "stream",
     "text": [
      "19-29\n",
      "30-39\n",
      "40-49\n",
      "50-59\n",
      "60-69\n",
      "70+\n"
     ]
    }
   ],
   "source": [
    "# a test if the function works\n",
    "print(age_category(26))\n",
    "print(age_category(30))\n",
    "print(age_category(47))\n",
    "print(age_category(51))\n",
    "print(age_category(69))\n",
    "print(age_category(70))"
   ]
  },
  {
   "cell_type": "code",
   "execution_count": 42,
   "metadata": {},
   "outputs": [],
   "source": [
    "# Creating new column based on the function\n",
    "data['age_category'] = data['dob_years'].apply(age_category)"
   ]
  },
  {
   "cell_type": "code",
   "execution_count": 43,
   "metadata": {},
   "outputs": [
    {
     "data": {
      "text/plain": [
       "30-39    5566\n",
       "40-49    5323\n",
       "50-59    4535\n",
       "19-29    3137\n",
       "60-69    2265\n",
       "70+       168\n",
       "Name: age_category, dtype: int64"
      ]
     },
     "execution_count": 43,
     "metadata": {},
     "output_type": "execute_result"
    }
   ],
   "source": [
    "# Checking how many values for each age_cetegory in the new column, to see the distribution is reasonable \n",
    "data['age_category'].value_counts()"
   ]
  },
  {
   "cell_type": "markdown",
   "metadata": {},
   "source": [
    "Soon we will check income correlation with these age categories, and other factors, in order to decide how to fill the missing income values. \n",
    "\n",
    "**Factors on which income might depend**\n",
    "\n",
    "1. In addition to **age**, other factors that might impact income can be **education, income type (employment type), and gender**. \n",
    "2. **Loan purpose** might also have significant correlation with income, and might be significant for grouping\n",
    "3. We will also need to decide whether to use **mean or median** values for replacing missing values, regardless of the charecteristic grouping that we will use. To make this decision we will look at the distribution of the factors we have identified as potentially impacting one's income."
   ]
  },
  {
   "cell_type": "code",
   "execution_count": 44,
   "metadata": {},
   "outputs": [],
   "source": [
    "#first we will round the 'total_income' values\n",
    "data['total_income'] = data['total_income'].round()"
   ]
  },
  {
   "cell_type": "markdown",
   "metadata": {},
   "source": [
    "For the purpose of filling / restoring the missing 'total_income' values - we will create a table that only has data that includes 'total_income' values. For this - before we 'dropna()' - we will first drop the 'days_employed' column (because we have created there more than 3000 NaN values instead of the error, and we want to use these rows, that did have 'total_income' values, for the total_income statistics). "
   ]
  },
  {
   "cell_type": "code",
   "execution_count": 45,
   "metadata": {},
   "outputs": [
    {
     "data": {
      "text/html": [
       "<div>\n",
       "<style scoped>\n",
       "    .dataframe tbody tr th:only-of-type {\n",
       "        vertical-align: middle;\n",
       "    }\n",
       "\n",
       "    .dataframe tbody tr th {\n",
       "        vertical-align: top;\n",
       "    }\n",
       "\n",
       "    .dataframe thead th {\n",
       "        text-align: right;\n",
       "    }\n",
       "</style>\n",
       "<table border=\"1\" class=\"dataframe\">\n",
       "  <thead>\n",
       "    <tr style=\"text-align: right;\">\n",
       "      <th></th>\n",
       "      <th>children</th>\n",
       "      <th>dob_years</th>\n",
       "      <th>education</th>\n",
       "      <th>education_id</th>\n",
       "      <th>family_status</th>\n",
       "      <th>family_status_id</th>\n",
       "      <th>gender</th>\n",
       "      <th>income_type</th>\n",
       "      <th>debt</th>\n",
       "      <th>total_income</th>\n",
       "      <th>purpose</th>\n",
       "      <th>age_category</th>\n",
       "    </tr>\n",
       "  </thead>\n",
       "  <tbody>\n",
       "    <tr>\n",
       "      <td>0</td>\n",
       "      <td>1</td>\n",
       "      <td>42</td>\n",
       "      <td>bachelor's degree</td>\n",
       "      <td>0</td>\n",
       "      <td>married</td>\n",
       "      <td>0</td>\n",
       "      <td>F</td>\n",
       "      <td>employee</td>\n",
       "      <td>0</td>\n",
       "      <td>40620.0</td>\n",
       "      <td>housing / real estate</td>\n",
       "      <td>40-49</td>\n",
       "    </tr>\n",
       "    <tr>\n",
       "      <td>1</td>\n",
       "      <td>1</td>\n",
       "      <td>36</td>\n",
       "      <td>secondary education</td>\n",
       "      <td>1</td>\n",
       "      <td>married</td>\n",
       "      <td>0</td>\n",
       "      <td>F</td>\n",
       "      <td>employee</td>\n",
       "      <td>0</td>\n",
       "      <td>17933.0</td>\n",
       "      <td>car</td>\n",
       "      <td>30-39</td>\n",
       "    </tr>\n",
       "    <tr>\n",
       "      <td>2</td>\n",
       "      <td>0</td>\n",
       "      <td>33</td>\n",
       "      <td>secondary education</td>\n",
       "      <td>1</td>\n",
       "      <td>married</td>\n",
       "      <td>0</td>\n",
       "      <td>M</td>\n",
       "      <td>employee</td>\n",
       "      <td>0</td>\n",
       "      <td>23342.0</td>\n",
       "      <td>housing / real estate</td>\n",
       "      <td>30-39</td>\n",
       "    </tr>\n",
       "    <tr>\n",
       "      <td>3</td>\n",
       "      <td>3</td>\n",
       "      <td>32</td>\n",
       "      <td>secondary education</td>\n",
       "      <td>1</td>\n",
       "      <td>married</td>\n",
       "      <td>0</td>\n",
       "      <td>M</td>\n",
       "      <td>employee</td>\n",
       "      <td>0</td>\n",
       "      <td>42821.0</td>\n",
       "      <td>education</td>\n",
       "      <td>30-39</td>\n",
       "    </tr>\n",
       "    <tr>\n",
       "      <td>4</td>\n",
       "      <td>0</td>\n",
       "      <td>53</td>\n",
       "      <td>secondary education</td>\n",
       "      <td>1</td>\n",
       "      <td>civil partnership</td>\n",
       "      <td>1</td>\n",
       "      <td>F</td>\n",
       "      <td>retiree</td>\n",
       "      <td>0</td>\n",
       "      <td>25379.0</td>\n",
       "      <td>wedding</td>\n",
       "      <td>50-59</td>\n",
       "    </tr>\n",
       "    <tr>\n",
       "      <td>5</td>\n",
       "      <td>0</td>\n",
       "      <td>27</td>\n",
       "      <td>bachelor's degree</td>\n",
       "      <td>0</td>\n",
       "      <td>civil partnership</td>\n",
       "      <td>1</td>\n",
       "      <td>M</td>\n",
       "      <td>business</td>\n",
       "      <td>0</td>\n",
       "      <td>40922.0</td>\n",
       "      <td>housing / real estate</td>\n",
       "      <td>19-29</td>\n",
       "    </tr>\n",
       "    <tr>\n",
       "      <td>6</td>\n",
       "      <td>0</td>\n",
       "      <td>43</td>\n",
       "      <td>bachelor's degree</td>\n",
       "      <td>0</td>\n",
       "      <td>married</td>\n",
       "      <td>0</td>\n",
       "      <td>F</td>\n",
       "      <td>business</td>\n",
       "      <td>0</td>\n",
       "      <td>38484.0</td>\n",
       "      <td>housing / real estate</td>\n",
       "      <td>40-49</td>\n",
       "    </tr>\n",
       "    <tr>\n",
       "      <td>7</td>\n",
       "      <td>0</td>\n",
       "      <td>50</td>\n",
       "      <td>secondary education</td>\n",
       "      <td>1</td>\n",
       "      <td>married</td>\n",
       "      <td>0</td>\n",
       "      <td>M</td>\n",
       "      <td>employee</td>\n",
       "      <td>0</td>\n",
       "      <td>21732.0</td>\n",
       "      <td>education</td>\n",
       "      <td>50-59</td>\n",
       "    </tr>\n",
       "    <tr>\n",
       "      <td>8</td>\n",
       "      <td>2</td>\n",
       "      <td>35</td>\n",
       "      <td>bachelor's degree</td>\n",
       "      <td>0</td>\n",
       "      <td>civil partnership</td>\n",
       "      <td>1</td>\n",
       "      <td>F</td>\n",
       "      <td>employee</td>\n",
       "      <td>0</td>\n",
       "      <td>15337.0</td>\n",
       "      <td>wedding</td>\n",
       "      <td>30-39</td>\n",
       "    </tr>\n",
       "    <tr>\n",
       "      <td>9</td>\n",
       "      <td>0</td>\n",
       "      <td>41</td>\n",
       "      <td>secondary education</td>\n",
       "      <td>1</td>\n",
       "      <td>married</td>\n",
       "      <td>0</td>\n",
       "      <td>M</td>\n",
       "      <td>employee</td>\n",
       "      <td>0</td>\n",
       "      <td>23108.0</td>\n",
       "      <td>housing / real estate</td>\n",
       "      <td>40-49</td>\n",
       "    </tr>\n",
       "    <tr>\n",
       "      <td>10</td>\n",
       "      <td>2</td>\n",
       "      <td>36</td>\n",
       "      <td>bachelor's degree</td>\n",
       "      <td>0</td>\n",
       "      <td>married</td>\n",
       "      <td>0</td>\n",
       "      <td>M</td>\n",
       "      <td>business</td>\n",
       "      <td>0</td>\n",
       "      <td>18231.0</td>\n",
       "      <td>housing / real estate</td>\n",
       "      <td>30-39</td>\n",
       "    </tr>\n",
       "    <tr>\n",
       "      <td>11</td>\n",
       "      <td>0</td>\n",
       "      <td>40</td>\n",
       "      <td>secondary education</td>\n",
       "      <td>1</td>\n",
       "      <td>married</td>\n",
       "      <td>0</td>\n",
       "      <td>F</td>\n",
       "      <td>employee</td>\n",
       "      <td>0</td>\n",
       "      <td>12331.0</td>\n",
       "      <td>housing / real estate</td>\n",
       "      <td>40-49</td>\n",
       "    </tr>\n",
       "    <tr>\n",
       "      <td>13</td>\n",
       "      <td>0</td>\n",
       "      <td>54</td>\n",
       "      <td>some college</td>\n",
       "      <td>2</td>\n",
       "      <td>married</td>\n",
       "      <td>0</td>\n",
       "      <td>F</td>\n",
       "      <td>employee</td>\n",
       "      <td>0</td>\n",
       "      <td>20873.0</td>\n",
       "      <td>car</td>\n",
       "      <td>50-59</td>\n",
       "    </tr>\n",
       "    <tr>\n",
       "      <td>14</td>\n",
       "      <td>0</td>\n",
       "      <td>56</td>\n",
       "      <td>bachelor's degree</td>\n",
       "      <td>0</td>\n",
       "      <td>civil partnership</td>\n",
       "      <td>1</td>\n",
       "      <td>F</td>\n",
       "      <td>business</td>\n",
       "      <td>1</td>\n",
       "      <td>26420.0</td>\n",
       "      <td>housing / real estate</td>\n",
       "      <td>50-59</td>\n",
       "    </tr>\n",
       "    <tr>\n",
       "      <td>15</td>\n",
       "      <td>1</td>\n",
       "      <td>26</td>\n",
       "      <td>secondary education</td>\n",
       "      <td>1</td>\n",
       "      <td>married</td>\n",
       "      <td>0</td>\n",
       "      <td>F</td>\n",
       "      <td>employee</td>\n",
       "      <td>0</td>\n",
       "      <td>18691.0</td>\n",
       "      <td>housing / real estate</td>\n",
       "      <td>19-29</td>\n",
       "    </tr>\n",
       "  </tbody>\n",
       "</table>\n",
       "</div>"
      ],
      "text/plain": [
       "    children  dob_years            education  education_id      family_status  \\\n",
       "0          1         42    bachelor's degree             0            married   \n",
       "1          1         36  secondary education             1            married   \n",
       "2          0         33  secondary education             1            married   \n",
       "3          3         32  secondary education             1            married   \n",
       "4          0         53  secondary education             1  civil partnership   \n",
       "5          0         27    bachelor's degree             0  civil partnership   \n",
       "6          0         43    bachelor's degree             0            married   \n",
       "7          0         50  secondary education             1            married   \n",
       "8          2         35    bachelor's degree             0  civil partnership   \n",
       "9          0         41  secondary education             1            married   \n",
       "10         2         36    bachelor's degree             0            married   \n",
       "11         0         40  secondary education             1            married   \n",
       "13         0         54         some college             2            married   \n",
       "14         0         56    bachelor's degree             0  civil partnership   \n",
       "15         1         26  secondary education             1            married   \n",
       "\n",
       "    family_status_id gender income_type  debt  total_income  \\\n",
       "0                  0      F    employee     0       40620.0   \n",
       "1                  0      F    employee     0       17933.0   \n",
       "2                  0      M    employee     0       23342.0   \n",
       "3                  0      M    employee     0       42821.0   \n",
       "4                  1      F     retiree     0       25379.0   \n",
       "5                  1      M    business     0       40922.0   \n",
       "6                  0      F    business     0       38484.0   \n",
       "7                  0      M    employee     0       21732.0   \n",
       "8                  1      F    employee     0       15337.0   \n",
       "9                  0      M    employee     0       23108.0   \n",
       "10                 0      M    business     0       18231.0   \n",
       "11                 0      F    employee     0       12331.0   \n",
       "13                 0      F    employee     0       20873.0   \n",
       "14                 1      F    business     1       26420.0   \n",
       "15                 0      F    employee     0       18691.0   \n",
       "\n",
       "                  purpose age_category  \n",
       "0   housing / real estate        40-49  \n",
       "1                     car        30-39  \n",
       "2   housing / real estate        30-39  \n",
       "3               education        30-39  \n",
       "4                 wedding        50-59  \n",
       "5   housing / real estate        19-29  \n",
       "6   housing / real estate        40-49  \n",
       "7               education        50-59  \n",
       "8                 wedding        30-39  \n",
       "9   housing / real estate        40-49  \n",
       "10  housing / real estate        30-39  \n",
       "11  housing / real estate        40-49  \n",
       "13                    car        50-59  \n",
       "14  housing / real estate        50-59  \n",
       "15  housing / real estate        19-29  "
      ]
     },
     "execution_count": 45,
     "metadata": {},
     "output_type": "execute_result"
    }
   ],
   "source": [
    "# Create a table without 'days_employed' and then - without missing values \n",
    "# and print a few of its rows to make sure it looks fine. We will not change index.\n",
    "data_no_de = data.drop('days_employed', axis=1)\n",
    "data_nona = data_no_de.dropna() \n",
    "data_nona.head(15)"
   ]
  },
  {
   "cell_type": "markdown",
   "metadata": {},
   "source": [
    "We can see in this sample that row number 12 (with the NaN values as seen above) was dropped.\n",
    "\n",
    "Now we shall check mean and median values for income - grouped by age categories: "
   ]
  },
  {
   "cell_type": "code",
   "execution_count": 46,
   "metadata": {},
   "outputs": [
    {
     "data": {
      "text/plain": [
       "age_category\n",
       "19-29    25547.0\n",
       "30-39    28315.0\n",
       "40-49    28514.0\n",
       "50-59    25808.0\n",
       "60-69    23237.0\n",
       "70+      20126.0\n",
       "Name: total_income, dtype: float64"
      ]
     },
     "execution_count": 46,
     "metadata": {},
     "output_type": "execute_result"
    }
   ],
   "source": [
    "# Look at the rounded mean values for income based on your identified factors\n",
    "data_nona.groupby('age_category')['total_income'].mean().round() "
   ]
  },
  {
   "cell_type": "markdown",
   "metadata": {},
   "source": [
    "Before checking median, we will check if we really need to use for these calculations the \"no-null-data\" or we can actually use our full dataset, since both 'mean' and 'median' methods in pandas have a parameter of 'skipna' (whose defalt value is True) that calculates mean and median while skipping all the null values. Let's see that we get the same results as above when we use the full dataset:  "
   ]
  },
  {
   "cell_type": "code",
   "execution_count": 47,
   "metadata": {},
   "outputs": [
    {
     "data": {
      "text/plain": [
       "age_category\n",
       "19-29    25547.0\n",
       "30-39    28315.0\n",
       "40-49    28514.0\n",
       "50-59    25808.0\n",
       "60-69    23237.0\n",
       "70+      20126.0\n",
       "Name: total_income, dtype: float64"
      ]
     },
     "execution_count": 47,
     "metadata": {},
     "output_type": "execute_result"
    }
   ],
   "source": [
    "data.groupby('age_category')['total_income'].mean().round() "
   ]
  },
  {
   "cell_type": "markdown",
   "metadata": {},
   "source": [
    "We can see these are the exact same results, so we can continue for now witht the 'data' df (we will return to 'data_nona' later on below).\n",
    "\n",
    "Now we shall check median income, grouped by age category: "
   ]
  },
  {
   "cell_type": "code",
   "execution_count": 48,
   "metadata": {
    "scrolled": true
   },
   "outputs": [
    {
     "data": {
      "text/plain": [
       "age_category\n",
       "19-29    22781.0\n",
       "30-39    24700.0\n",
       "40-49    24770.0\n",
       "50-59    22196.0\n",
       "60-69    19811.0\n",
       "70+      18752.0\n",
       "Name: total_income, dtype: float64"
      ]
     },
     "execution_count": 48,
     "metadata": {},
     "output_type": "execute_result"
    }
   ],
   "source": [
    "# Look at the rounded median values for income based on age category\n",
    "data.groupby('age_category')['total_income'].median().round()  "
   ]
  },
  {
   "cell_type": "markdown",
   "metadata": {},
   "source": [
    "Since all groups median values are notably smaller than their respective mean values - it means the income distribution is right-skewed (and not balanced). In such cases we prefer to use **median** values as a better representative for the typical case. \n",
    "\n",
    "But is the age category the most impactful factor? lets look at the mean & median income grouped by the other factors we have identified above:\n",
    "\n",
    "starting with **education** "
   ]
  },
  {
   "cell_type": "code",
   "execution_count": 49,
   "metadata": {},
   "outputs": [
    {
     "data": {
      "text/plain": [
       "education\n",
       "bachelor's degree      33167.0\n",
       "graduate degree        27960.0\n",
       "primary education      21145.0\n",
       "secondary education    24588.0\n",
       "some college           29039.0\n",
       "Name: total_income, dtype: float64"
      ]
     },
     "execution_count": 49,
     "metadata": {},
     "output_type": "execute_result"
    }
   ],
   "source": [
    "# first mean income\n",
    "data.groupby('education')['total_income'].mean().round()"
   ]
  },
  {
   "cell_type": "code",
   "execution_count": 50,
   "metadata": {},
   "outputs": [
    {
     "data": {
      "text/plain": [
       "education\n",
       "bachelor's degree      28086.0\n",
       "graduate degree        25162.0\n",
       "primary education      18742.0\n",
       "secondary education    21829.0\n",
       "some college           25664.0\n",
       "Name: total_income, dtype: float64"
      ]
     },
     "execution_count": 50,
     "metadata": {},
     "output_type": "execute_result"
    }
   ],
   "source": [
    "# and now median income\n",
    "data.groupby('education')['total_income'].median().round()  "
   ]
  },
  {
   "cell_type": "markdown",
   "metadata": {},
   "source": [
    "**Education conclusions** \n",
    "1. Again a right-skewed distribution, making the **median** a better typical value to use for filling missing values.\n",
    "2. The differences show that **education** seems more impactful on income than **age category**\n",
    "\n",
    "Next we will check if **loan purpose** has notable corelation with **income** "
   ]
  },
  {
   "cell_type": "code",
   "execution_count": 51,
   "metadata": {},
   "outputs": [
    {
     "data": {
      "text/plain": [
       "purpose\n",
       "car                      26762.0\n",
       "education                26312.0\n",
       "housing / real estate    27035.0\n",
       "wedding                  26537.0\n",
       "Name: total_income, dtype: float64"
      ]
     },
     "execution_count": 51,
     "metadata": {},
     "output_type": "execute_result"
    }
   ],
   "source": [
    "data.groupby('purpose')['total_income'].mean().round()  "
   ]
  },
  {
   "cell_type": "markdown",
   "metadata": {},
   "source": [
    "**Loan_purpose conclusion**  \n",
    "Interesting to see - no notable differences in mean income, when the data is grouped by loan purpose. We will not use this grouping for filling the missing values. \n",
    "\n",
    "Next we will check the impact of **income type** on **income**"
   ]
  },
  {
   "cell_type": "code",
   "execution_count": 52,
   "metadata": {},
   "outputs": [
    {
     "data": {
      "text/plain": [
       "income_type\n",
       "business                       32414.0\n",
       "civil servant                  27319.0\n",
       "employee                       25818.0\n",
       "entrepreneur                   79866.0\n",
       "paternity / maternity leave     8613.0\n",
       "retiree                        21952.0\n",
       "student                        15712.0\n",
       "unemployed                     21014.0\n",
       "Name: total_income, dtype: float64"
      ]
     },
     "execution_count": 52,
     "metadata": {},
     "output_type": "execute_result"
    }
   ],
   "source": [
    "# first mean income\n",
    "data.groupby('income_type')['total_income'].mean().round()"
   ]
  },
  {
   "cell_type": "code",
   "execution_count": 53,
   "metadata": {},
   "outputs": [
    {
     "data": {
      "text/plain": [
       "income_type\n",
       "business                       27603.0\n",
       "civil servant                  24067.0\n",
       "employee                       22814.0\n",
       "entrepreneur                   79866.0\n",
       "paternity / maternity leave     8613.0\n",
       "retiree                        18957.0\n",
       "student                        15712.0\n",
       "unemployed                     21014.0\n",
       "Name: total_income, dtype: float64"
      ]
     },
     "execution_count": 53,
     "metadata": {},
     "output_type": "execute_result"
    }
   ],
   "source": [
    "# and now median income\n",
    "data.groupby('income_type')['total_income'].median().round()"
   ]
  },
  {
   "cell_type": "markdown",
   "metadata": {},
   "source": [
    "**Income_type observations**\n",
    "1. Usually again a right-skewed distribution (median smaller than mean), making the **median** a better typical value to use for filling missing values. The groups where median=mean probably have only 1-2 clients (we will check this point now).\n",
    "2. The differences show that **income_type** seems significantly impactful on income. \n",
    "\n",
    "Before we move on - let's check how many clients are there in each income_type group - to better understand the numbers we got above."
   ]
  },
  {
   "cell_type": "code",
   "execution_count": 54,
   "metadata": {},
   "outputs": [
    {
     "data": {
      "text/plain": [
       "employee                       10829\n",
       "business                        5000\n",
       "retiree                         3715\n",
       "civil servant                   1444\n",
       "unemployed                         2\n",
       "entrepreneur                       2\n",
       "paternity / maternity leave        1\n",
       "student                            1\n",
       "Name: income_type, dtype: int64"
      ]
     },
     "execution_count": 54,
     "metadata": {},
     "output_type": "execute_result"
    }
   ],
   "source": [
    "# for the whole dataset\n",
    "data['income_type'].value_counts() "
   ]
  },
  {
   "cell_type": "markdown",
   "metadata": {},
   "source": [
    "As we thought - groups with mean=median income have only 1-2 clients. Now let's see what are the income_types of the clients with the missing income values: "
   ]
  },
  {
   "cell_type": "code",
   "execution_count": 55,
   "metadata": {},
   "outputs": [
    {
     "data": {
      "text/plain": [
       "employee         880\n",
       "business         450\n",
       "retiree          286\n",
       "civil servant    137\n",
       "entrepreneur       1\n",
       "Name: income_type, dtype: int64"
      ]
     },
     "execution_count": 55,
     "metadata": {},
     "output_type": "execute_result"
    }
   ],
   "source": [
    "# only among the clients with missing income values - the values we want to fill\n",
    "filtered_data = data[(data['days_employed'].isnull() == True) & (data['total_income'].isnull() == True)]\n",
    "filtered_data['income_type'].value_counts() "
   ]
  },
  {
   "cell_type": "markdown",
   "metadata": {},
   "source": [
    "**Income_type conclusion**\n",
    "1. Grouping by income_type is important for filing typical income when income is a missing value (with 1 exception - the 1 entrepeneur with income missing value, whom it will be a bit unreliable to fill based only on the 1 other entrepeneur, that earns a relatively high amount). \n",
    "2. **Median** income is a better typical value than mean, based on the 'income_type' grouping as well. \n",
    "\n",
    "\n",
    "**Multiple factors grouping**\n",
    "\n",
    "Following our findings so far - we will now try to find income medians when the data is grouped_by 3 columns: education, income type, and gender (which we haven't checked yet separately but we will see here if as suspected it has notable impact on income as well)"
   ]
  },
  {
   "cell_type": "code",
   "execution_count": 56,
   "metadata": {},
   "outputs": [
    {
     "data": {
      "text/plain": [
       "gender  income_type                  education          \n",
       "F       business                     bachelor's degree      30420.0\n",
       "                                     primary education      21442.0\n",
       "                                     secondary education    23177.0\n",
       "                                     some college           27318.0\n",
       "        civil servant                bachelor's degree      25255.0\n",
       "                                     graduate degree        17823.0\n",
       "                                     primary education      14339.0\n",
       "                                     secondary education    20104.0\n",
       "                                     some college           21856.0\n",
       "        employee                     bachelor's degree      24603.0\n",
       "                                     primary education      18963.0\n",
       "                                     secondary education    19812.0\n",
       "                                     some college           21588.0\n",
       "        entrepreneur                 bachelor's degree      79866.0\n",
       "        paternity / maternity leave  secondary education     8613.0\n",
       "        retiree                      bachelor's degree      22770.0\n",
       "                                     graduate degree        40868.0\n",
       "                                     primary education      16189.0\n",
       "                                     secondary education    18025.0\n",
       "                                     some college           18655.0\n",
       "        unemployed                   bachelor's degree      32436.0\n",
       "M       business                     bachelor's degree      37400.0\n",
       "                                     primary education      24016.0\n",
       "                                     secondary education    29133.0\n",
       "                                     some college           30607.0\n",
       "        civil servant                bachelor's degree      34220.0\n",
       "                                     primary education      30554.0\n",
       "                                     secondary education    26992.0\n",
       "                                     some college           28372.0\n",
       "        employee                     bachelor's degree      30894.0\n",
       "                                     graduate degree        31771.0\n",
       "                                     primary education      22662.0\n",
       "                                     secondary education    25010.0\n",
       "                                     some college           30252.0\n",
       "        entrepreneur                 bachelor's degree          NaN\n",
       "        retiree                      bachelor's degree      25193.0\n",
       "                                     graduate degree        15800.0\n",
       "                                     primary education      18100.0\n",
       "                                     secondary education    19927.0\n",
       "                                     some college           19947.0\n",
       "        student                      bachelor's degree      15712.0\n",
       "        unemployed                   secondary education     9593.0\n",
       "XNA     business                     some college           32625.0\n",
       "Name: total_income, dtype: float64"
      ]
     },
     "execution_count": 56,
     "metadata": {},
     "output_type": "execute_result"
    }
   ],
   "source": [
    "# median income of groups grouped by 3 factors that seem notably impactful on income: \n",
    "data.groupby(['gender', 'income_type', 'education'])['total_income'].median().round()"
   ]
  },
  {
   "cell_type": "markdown",
   "metadata": {},
   "source": [
    "The internal differences in median income between the different subgroups above - seem to confirm our strategy that a combination of these three factors defines most the typical income value to fill for the clients with missing data on total_income. These factors show higher income differentiation than did age_category so we will not use age here. For the entrepeneur we will use only the other 2 identifier factors: education and gender. \n",
    "\n",
    "**Filling the missing 'total_income' values** "
   ]
  },
  {
   "cell_type": "code",
   "execution_count": 57,
   "metadata": {},
   "outputs": [
    {
     "data": {
      "text/plain": [
       "1"
      ]
     },
     "execution_count": 57,
     "metadata": {},
     "output_type": "execute_result"
    }
   ],
   "source": [
    "# filling in missing total_income values based on the medians in the multiple groupby chosen, \n",
    "# and checking how many are still null \n",
    "\n",
    "data['total_income'].fillna(data.groupby(['gender', 'income_type', 'education'])['total_income']\n",
    "                            .transform('median'), inplace=True)\n",
    "data['total_income'].isna().sum() "
   ]
  },
  {
   "cell_type": "markdown",
   "metadata": {},
   "source": [
    "The 1 left is the entrepeneur, so as mentioned above we will repeat the method, but this time without 'income_type' in the groupby method"
   ]
  },
  {
   "cell_type": "code",
   "execution_count": 58,
   "metadata": {},
   "outputs": [],
   "source": [
    "data['total_income'].fillna(data.groupby(['gender', 'education'])['total_income']\n",
    "                            .transform('median'), inplace=True)"
   ]
  },
  {
   "cell_type": "code",
   "execution_count": 59,
   "metadata": {},
   "outputs": [
    {
     "data": {
      "text/plain": [
       "0"
      ]
     },
     "execution_count": 59,
     "metadata": {},
     "output_type": "execute_result"
    }
   ],
   "source": [
    "# Check that it worked\n",
    "data['total_income'].isna().sum() "
   ]
  },
  {
   "cell_type": "markdown",
   "metadata": {},
   "source": [
    "No more missing values for 'total_income'. Let's check that our method worked and didn't fill the same median to all the missing cases:"
   ]
  },
  {
   "cell_type": "code",
   "execution_count": 60,
   "metadata": {},
   "outputs": [
    {
     "data": {
      "text/plain": [
       "19812.5    382\n",
       "25010.0    242\n",
       "18025.0    186\n",
       "23177.0    157\n",
       "24603.0    132\n",
       "30420.5    116\n",
       "29133.0    100\n",
       "30893.5     75\n",
       "37400.0     59\n",
       "20104.0     54\n",
       "25255.0     46\n",
       "19927.0     45\n",
       "22769.5     41\n",
       "21588.0     23\n",
       "26991.5     16\n",
       "Name: total_income, dtype: int64"
      ]
     },
     "execution_count": 60,
     "metadata": {},
     "output_type": "execute_result"
    }
   ],
   "source": [
    "# check sample of 15 highest_count total_income values - which logically should be all different medians\n",
    "# that were created by the 'transform('median')' method with 'groupby' above: \n",
    "data['total_income'].value_counts().head(15) "
   ]
  },
  {
   "cell_type": "markdown",
   "metadata": {},
   "source": [
    "As last check after finishing with `total_income`, we will check that the total number of values in this column matches the number of values in other ones - which is in the clean dataset, as we recall, 20994. "
   ]
  },
  {
   "cell_type": "code",
   "execution_count": 61,
   "metadata": {},
   "outputs": [
    {
     "data": {
      "text/plain": [
       "20994"
      ]
     },
     "execution_count": 61,
     "metadata": {},
     "output_type": "execute_result"
    }
   ],
   "source": [
    "# Checking the number of entries in the columns\n",
    "data['total_income'].count() "
   ]
  },
  {
   "cell_type": "markdown",
   "metadata": {},
   "source": [
    "All ok here. Let's move to the second column with missing values: 'days_employed'. "
   ]
  },
  {
   "cell_type": "markdown",
   "metadata": {},
   "source": [
    "####  Restoring missing values in `days_employed`"
   ]
  },
  {
   "cell_type": "markdown",
   "metadata": {},
   "source": [
    "We will conduct here a research similar (but shorter) to the one we've done when restoring the data in 'total_income' column. Main factors that logically impact 'days_employed' work experience - might be: age category, income_type (employment type), education.  "
   ]
  },
  {
   "cell_type": "code",
   "execution_count": 62,
   "metadata": {
    "pycharm": {
     "name": "#%%\n"
    }
   },
   "outputs": [
    {
     "data": {
      "text/plain": [
       "age_category\n",
       "19-29    1209.0\n",
       "30-39    2026.0\n",
       "40-49    2726.0\n",
       "50-59    3267.0\n",
       "60-69    3829.0\n",
       "70+      4227.0\n",
       "Name: days_employed, dtype: float64"
      ]
     },
     "execution_count": 62,
     "metadata": {},
     "output_type": "execute_result"
    }
   ],
   "source": [
    "# Distribution of `days_employed` means based on age-category\n",
    "data.groupby('age_category')['days_employed'].mean().round() "
   ]
  },
  {
   "cell_type": "code",
   "execution_count": 63,
   "metadata": {},
   "outputs": [
    {
     "data": {
      "text/plain": [
       "age_category\n",
       "19-29     997.0\n",
       "30-39    1593.0\n",
       "40-49    2012.0\n",
       "50-59    2266.0\n",
       "60-69    2663.0\n",
       "70+      2680.0\n",
       "Name: days_employed, dtype: float64"
      ]
     },
     "execution_count": 63,
     "metadata": {},
     "output_type": "execute_result"
    }
   ],
   "source": [
    "# Distribution of `days_employed` medians based on age_category \n",
    "data.groupby('age_category')['days_employed'].median().round()"
   ]
  },
  {
   "cell_type": "markdown",
   "metadata": {},
   "source": [
    "**Age_category conclusions**\n",
    "1. Age_category is definatelly a major identifier factor for days_employed, differences between groups being so significant. Due to it's large (expected) impact on days_employed - it seems that 1 more identifier should be enough.  \n",
    "2. **Median** seems more typical, due to the big differences between mean and median Next we will check in each group.\n",
    "\n",
    "Next we will check 'days_employed' grouped by 'income_type':"
   ]
  },
  {
   "cell_type": "code",
   "execution_count": 64,
   "metadata": {},
   "outputs": [
    {
     "data": {
      "text/plain": [
       "income_type\n",
       "business                       2118.0\n",
       "civil servant                  3404.0\n",
       "employee                       2324.0\n",
       "entrepreneur                    521.0\n",
       "paternity / maternity leave    3297.0\n",
       "retiree                           NaN\n",
       "student                         579.0\n",
       "unemployed                        NaN\n",
       "Name: days_employed, dtype: float64"
      ]
     },
     "execution_count": 64,
     "metadata": {},
     "output_type": "execute_result"
    }
   ],
   "source": [
    "# Distribution of `days_employed` means based on income_type\n",
    "data.groupby('income_type')['days_employed'].mean().round() "
   ]
  },
  {
   "cell_type": "code",
   "execution_count": 65,
   "metadata": {},
   "outputs": [
    {
     "data": {
      "text/plain": [
       "income_type\n",
       "business                       1556.0\n",
       "civil servant                  2689.0\n",
       "employee                       1572.0\n",
       "entrepreneur                    521.0\n",
       "paternity / maternity leave    3297.0\n",
       "retiree                           NaN\n",
       "student                         579.0\n",
       "unemployed                        NaN\n",
       "Name: days_employed, dtype: float64"
      ]
     },
     "execution_count": 65,
     "metadata": {},
     "output_type": "execute_result"
    }
   ],
   "source": [
    "# Distribution of `days_employed` medians based on age-category\n",
    "data.groupby('income_type')['days_employed'].median().round() "
   ]
  },
  {
   "cell_type": "markdown",
   "metadata": {},
   "source": [
    "**Income_type conclusions**\n",
    "1. Income_type groups do show significant differences in 'days_employed' means and medians, and can be one of the important predictors of 'days_employed' - except the cases of retiree (3429 rows, see above) and unemployed (2 rows), which had error huge 'days_employed' values, and we have changed into NaN. \n",
    "2. **Median** more typical than mean, due to big differences with mean in some of the groups (in most of the groups that are relevant for the clients with the missing values). \n",
    "\n",
    "**Multiple factors grouping** \n",
    "\n",
    "Before we combine the impact of income_type, we will check 'days_employed' grouped by both 'age_category' and 'education' (using median as we see that the income distribution is skewed in most cases) "
   ]
  },
  {
   "cell_type": "code",
   "execution_count": 66,
   "metadata": {},
   "outputs": [
    {
     "data": {
      "text/plain": [
       "age_category  education          \n",
       "19-29         bachelor's degree      1006.0\n",
       "              primary education      1030.0\n",
       "              secondary education    1014.0\n",
       "              some college            886.0\n",
       "30-39         bachelor's degree      1598.0\n",
       "              graduate degree        4160.0\n",
       "              primary education      1090.0\n",
       "              secondary education    1626.0\n",
       "              some college           1222.0\n",
       "40-49         bachelor's degree      2020.0\n",
       "              graduate degree         409.0\n",
       "              primary education      1040.0\n",
       "              secondary education    2022.0\n",
       "              some college           1996.0\n",
       "50-59         bachelor's degree      2376.0\n",
       "              graduate degree        5352.0\n",
       "              primary education      2266.0\n",
       "              secondary education    2244.0\n",
       "              some college           1898.0\n",
       "60-69         bachelor's degree      3000.0\n",
       "              graduate degree           NaN\n",
       "              primary education      4016.0\n",
       "              secondary education    2424.0\n",
       "              some college           1044.0\n",
       "70+           bachelor's degree      9355.0\n",
       "              primary education         NaN\n",
       "              secondary education    1814.0\n",
       "              some college              NaN\n",
       "Name: days_employed, dtype: float64"
      ]
     },
     "execution_count": 66,
     "metadata": {},
     "output_type": "execute_result"
    }
   ],
   "source": [
    "data.groupby(['age_category', 'education'])['days_employed'].median().round()"
   ]
  },
  {
   "cell_type": "markdown",
   "metadata": {},
   "source": [
    "**Conclusions about 'education' and 'age_category' together**\n",
    "\n",
    "Even inside quite a few of the age groups - education matters to 'days_employed' median. This supports our strategy of filling the missing values with multiple factors groupby, so each client with missing value will be asigned a median that matches his charecteristics in a few influencial identifiers. We will need to solve the \"missing medians\" for all cases were the error huge values of all retirees (that we have changed into NaN) left us with little reliable data about the 'days_employed' that could be typical to some of the borrowers. This limitation of accuracy is less critical for this project since we are not going to answer research questions that involve 'days_employed' (work experience).  \n",
    "\n",
    "**Filling the missing values in 'days_employed'**\n",
    "\n",
    "Following all of the above - we will now fill the missing values in 'days_employed' with the median based on 3 factors: age_category, education, and income_type. We will use the same methods (transform and groupby) as we did it above with 'total_income'"
   ]
  },
  {
   "cell_type": "code",
   "execution_count": 67,
   "metadata": {},
   "outputs": [
    {
     "data": {
      "text/plain": [
       "3720"
      ]
     },
     "execution_count": 67,
     "metadata": {},
     "output_type": "execute_result"
    }
   ],
   "source": [
    "# filling in missing 'days_employed' values based on the medians in the multiple groupby chosen, \n",
    "# and checking how many are still null \n",
    "\n",
    "data['days_employed'].fillna(data.groupby(['age_category', 'education', 'income_type'])['days_employed']\n",
    "                            .transform('median'), inplace=True)\n",
    "data['days_employed'].isna().sum() "
   ]
  },
  {
   "cell_type": "markdown",
   "metadata": {},
   "source": [
    "These are mainly the retirees, as discussed above. Since groupby 'income_type' cannot help here - we will first fill the missing values using median based on groupby of only the other 2 variables - 'age_category' and 'education'. Then we will again check how many are still null."
   ]
  },
  {
   "cell_type": "code",
   "execution_count": 68,
   "metadata": {},
   "outputs": [
    {
     "data": {
      "text/plain": [
       "13"
      ]
     },
     "execution_count": 68,
     "metadata": {},
     "output_type": "execute_result"
    }
   ],
   "source": [
    "data['days_employed'].fillna(data.groupby(['age_category', 'education'])['days_employed']\n",
    "                            .transform('median'), inplace=True)\n",
    "data['days_employed'].isna().sum() "
   ]
  },
  {
   "cell_type": "markdown",
   "metadata": {},
   "source": [
    "For the last 13 cases - our solution will be to use the median 'days_employed' groupby (only) the age_category, which seems like the highest impact factor on days_employed (both by the evidence above and logically).  "
   ]
  },
  {
   "cell_type": "code",
   "execution_count": 69,
   "metadata": {},
   "outputs": [
    {
     "data": {
      "text/plain": [
       "0"
      ]
     },
     "execution_count": 69,
     "metadata": {},
     "output_type": "execute_result"
    }
   ],
   "source": [
    "# filling in last 13 missing 'days_employed' values based on the medians of age_category alone, \n",
    "# and checking how many are still null \n",
    "\n",
    "data['days_employed'].fillna(data.groupby('age_category')['days_employed']\n",
    "                            .transform('median'), inplace=True)\n",
    "data['days_employed'].isna().sum() "
   ]
  },
  {
   "cell_type": "markdown",
   "metadata": {},
   "source": [
    "No more missing values for 'days_employed'. Let's check that our method worked and didn't fill the same median to all the missing cases:"
   ]
  },
  {
   "cell_type": "code",
   "execution_count": 70,
   "metadata": {},
   "outputs": [
    {
     "data": {
      "text/plain": [
       "2462.5    1439\n",
       "2119.0    1420\n",
       "1913.5     307\n",
       "3059.5     263\n",
       "2490.0     256\n",
       "1571.0     244\n",
       "1899.0     131\n",
       "1016.0     119\n",
       "1647.5      84\n",
       "1898.0      78\n",
       "1877.0      75\n",
       "1497.0      74\n",
       "1428.0      73\n",
       "1855.5      62\n",
       "4016.0      61\n",
       "Name: days_employed, dtype: int64"
      ]
     },
     "execution_count": 70,
     "metadata": {},
     "output_type": "execute_result"
    }
   ],
   "source": [
    "# check sample of 15 highest_count days_employed values - which logically should be all different medians\n",
    "# that were created by the 'transform('median')' method with 'groupby' above: \n",
    "data['days_employed'].value_counts().head(15) "
   ]
  },
  {
   "cell_type": "markdown",
   "metadata": {},
   "source": [
    "As last check after finishing with 'days_employed', we will check that the total number of values in this column matches the number of values in other ones - which is in the clean dataset, as we recall, 20994."
   ]
  },
  {
   "cell_type": "code",
   "execution_count": 71,
   "metadata": {},
   "outputs": [
    {
     "data": {
      "text/plain": [
       "20994"
      ]
     },
     "execution_count": 71,
     "metadata": {},
     "output_type": "execute_result"
    }
   ],
   "source": [
    "data['days_employed'].count() "
   ]
  },
  {
   "cell_type": "code",
   "execution_count": 72,
   "metadata": {},
   "outputs": [
    {
     "name": "stdout",
     "output_type": "stream",
     "text": [
      "<class 'pandas.core.frame.DataFrame'>\n",
      "RangeIndex: 20994 entries, 0 to 20993\n",
      "Data columns (total 13 columns):\n",
      "children            20994 non-null int64\n",
      "days_employed       20994 non-null float64\n",
      "dob_years           20994 non-null int64\n",
      "education           20994 non-null object\n",
      "education_id        20994 non-null int64\n",
      "family_status       20994 non-null object\n",
      "family_status_id    20994 non-null int64\n",
      "gender              20994 non-null object\n",
      "income_type         20994 non-null object\n",
      "debt                20994 non-null int64\n",
      "total_income        20994 non-null float64\n",
      "purpose             20994 non-null object\n",
      "age_category        20994 non-null object\n",
      "dtypes: float64(2), int64(5), object(6)\n",
      "memory usage: 2.1+ MB\n"
     ]
    }
   ],
   "source": [
    "# Checking the entries in all columns - making sure we fixed all missing values\n",
    "data.info() "
   ]
  },
  {
   "cell_type": "markdown",
   "metadata": {},
   "source": [
    "Now that all 'days_employed' null values are filled - it's time to convert the values from float to integer:"
   ]
  },
  {
   "cell_type": "code",
   "execution_count": 73,
   "metadata": {},
   "outputs": [
    {
     "name": "stdout",
     "output_type": "stream",
     "text": [
      "<class 'pandas.core.frame.DataFrame'>\n",
      "RangeIndex: 20994 entries, 0 to 20993\n",
      "Data columns (total 13 columns):\n",
      "children            20994 non-null int64\n",
      "days_employed       20994 non-null int64\n",
      "dob_years           20994 non-null int64\n",
      "education           20994 non-null object\n",
      "education_id        20994 non-null int64\n",
      "family_status       20994 non-null object\n",
      "family_status_id    20994 non-null int64\n",
      "gender              20994 non-null object\n",
      "income_type         20994 non-null object\n",
      "debt                20994 non-null int64\n",
      "total_income        20994 non-null float64\n",
      "purpose             20994 non-null object\n",
      "age_category        20994 non-null object\n",
      "dtypes: float64(1), int64(6), object(6)\n",
      "memory usage: 2.1+ MB\n"
     ]
    }
   ],
   "source": [
    "# convert 'days_employed' into integers and checking it worked\n",
    "data['days_employed'] = data['days_employed'].astype('int') \n",
    "data.info() "
   ]
  },
  {
   "cell_type": "markdown",
   "metadata": {},
   "source": [
    "We can see 'days_employed' is now int type. "
   ]
  },
  {
   "cell_type": "markdown",
   "metadata": {},
   "source": [
    "## Categorization of data (continued) \n",
    "\n",
    "Before we can see which further categorization we might need, let's look again at the 4 questions we need to answer:\n",
    "1. Is there a connection between having kids and repaying a loan on time?\n",
    "2. Is there a connection between marital status and repaying a loan on time?\n",
    "3. Is there a connection between income level and repaying a loan on time?\n",
    "4. How do different loan purposes affect on-time loan repayment?\n",
    "\n",
    "We have already created categorization for age_category and simplified the loan purposes into 4 main purposes.\n",
    "\n",
    "With number of children and marital status (the main focus of this project) we will work with the values as they are, since there are not too many unique values in each of these factors, and clarity and accuracy will be better without creating new categories there.\n",
    "\n",
    "We do need to create now categories for 'income_level', to enable answering the third question.  "
   ]
  },
  {
   "cell_type": "code",
   "execution_count": 74,
   "metadata": {},
   "outputs": [
    {
     "data": {
      "text/plain": [
       "count     20994.0\n",
       "mean      26555.0\n",
       "std       15873.0\n",
       "min        3307.0\n",
       "25%       17066.0\n",
       "50%       23177.0\n",
       "75%       31667.0\n",
       "max      362497.0\n",
       "Name: total_income, dtype: float64"
      ]
     },
     "execution_count": 74,
     "metadata": {},
     "output_type": "execute_result"
    }
   ],
   "source": [
    "# Getting summary statistics for 'total_column' column\n",
    "data['total_income'].describe().round() \n"
   ]
  },
  {
   "cell_type": "markdown",
   "metadata": {},
   "source": [
    "Following the above statistics, we will create 4 'income level' categories, close to the 4 quartiles: "
   ]
  },
  {
   "cell_type": "code",
   "execution_count": 75,
   "metadata": {},
   "outputs": [],
   "source": [
    "# Creating function for categorizing into different numerical groups based on ranges\n",
    "def income_level(income):\n",
    "    if income <= 17000:\n",
    "        return 'up to 17K'\n",
    "    if 17000 < income <= 23000:\n",
    "        return '17K-23K'\n",
    "    if 23000 < income <= 32000:\n",
    "        return '23K-32K'\n",
    "    if 32000 < income:\n",
    "        return '32K+'"
   ]
  },
  {
   "cell_type": "code",
   "execution_count": 76,
   "metadata": {},
   "outputs": [],
   "source": [
    "# Creating column with categories\n",
    "data['income_level'] = data['total_income'].apply(income_level)"
   ]
  },
  {
   "cell_type": "code",
   "execution_count": 77,
   "metadata": {
    "scrolled": true
   },
   "outputs": [
    {
     "data": {
      "text/plain": [
       "23K-32K      5666\n",
       "up to 17K    5201\n",
       "32K+         5112\n",
       "17K-23K      5015\n",
       "Name: income_level, dtype: int64"
      ]
     },
     "execution_count": 77,
     "metadata": {},
     "output_type": "execute_result"
    }
   ],
   "source": [
    "# Count each categories values to see the distribution\n",
    "data['income_level'].value_counts() "
   ]
  },
  {
   "cell_type": "markdown",
   "metadata": {},
   "source": [
    "## Answering the questions "
   ]
  },
  {
   "cell_type": "markdown",
   "metadata": {},
   "source": [
    "### Is there a correlation between having children and paying back on time?"
   ]
  },
  {
   "cell_type": "code",
   "execution_count": 78,
   "metadata": {},
   "outputs": [
    {
     "data": {
      "text/plain": [
       "0.08240449652281605"
      ]
     },
     "execution_count": 78,
     "metadata": {},
     "output_type": "execute_result"
    }
   ],
   "source": [
    "# first let's see what is the overall default rate in the whole dataset - as benchmark\n",
    "# since 'debt' gets a '0' for paying on time and '1' for not paying back on time - it's mean value represents the defoult rate \n",
    "data['debt'].mean()"
   ]
  },
  {
   "cell_type": "markdown",
   "metadata": {},
   "source": [
    "So the general default rate for loans in the whole dataset is 8.24%. All following reults for the different factors will be compared to this result. "
   ]
  },
  {
   "cell_type": "code",
   "execution_count": 79,
   "metadata": {},
   "outputs": [
    {
     "data": {
      "text/plain": [
       "children\n",
       "0    0.076734\n",
       "1    0.093474\n",
       "2    0.095145\n",
       "3    0.082067\n",
       "4    0.100000\n",
       "5    0.000000\n",
       "Name: debt, dtype: float64"
      ]
     },
     "execution_count": 79,
     "metadata": {},
     "output_type": "execute_result"
    }
   ],
   "source": [
    "# Calculating default-rate based on the number of children\n",
    "data.groupby('children')['debt'].mean() "
   ]
  },
  {
   "cell_type": "code",
   "execution_count": 80,
   "metadata": {},
   "outputs": [
    {
     "data": {
      "text/plain": [
       "0    13827\n",
       "1     4750\n",
       "2     2039\n",
       "3      329\n",
       "4       40\n",
       "5        9\n",
       "Name: children, dtype: int64"
      ]
     },
     "execution_count": 80,
     "metadata": {},
     "output_type": "execute_result"
    }
   ],
   "source": [
    "# Before we draw the conclusions - lets' look again at the amount of clients in each group:\n",
    "data['children'].value_counts()"
   ]
  },
  {
   "cell_type": "markdown",
   "metadata": {},
   "source": [
    "**Conclusions**\n",
    "\n",
    "1. Clients with 3 kids have a default rate similar to the overall general rate (8.21%). \n",
    "\n",
    "2. Clients without kids (the biggest group) have the lowest default rate (7.67%).\n",
    "\n",
    "3. Clients with 1-2 kids (the big majority of all clients with kids) have significantly higher default rate (9.35%, 9.51%).\n",
    "\n",
    "4. Clients with 4 kids have the highest default rate (10%) but this is a much smaller group in the dataset, so this result should be taken as not statistically solid.\n",
    "(The data about clients with 5 children is too small to be based on)\n",
    "\n",
    "5. **Overall** - having children is correlated with higher default rates on loans than clients without children."
   ]
  },
  {
   "cell_type": "markdown",
   "metadata": {},
   "source": [
    "### Is there a correlation between family status and paying back on time?"
   ]
  },
  {
   "cell_type": "code",
   "execution_count": 81,
   "metadata": {},
   "outputs": [
    {
     "data": {
      "text/plain": [
       "family_status\n",
       "civil partnership    0.093765\n",
       "divorced             0.070767\n",
       "married              0.077109\n",
       "unmarried            0.098556\n",
       "widow / widower      0.067380\n",
       "Name: debt, dtype: float64"
      ]
     },
     "execution_count": 81,
     "metadata": {},
     "output_type": "execute_result"
    }
   ],
   "source": [
    "# Calculating default-rate based on family status\n",
    "data.groupby('family_status')['debt'].mean() "
   ]
  },
  {
   "cell_type": "code",
   "execution_count": 82,
   "metadata": {},
   "outputs": [
    {
     "data": {
      "text/plain": [
       "married              11996\n",
       "civil partnership     4106\n",
       "unmarried             2770\n",
       "divorced              1187\n",
       "widow / widower        935\n",
       "Name: family_status, dtype: int64"
      ]
     },
     "execution_count": 82,
     "metadata": {},
     "output_type": "execute_result"
    }
   ],
   "source": [
    "# Before we draw the conclusions - lets' look at the amount of clients in each group:\n",
    "data['family_status'].value_counts()"
   ]
  },
  {
   "cell_type": "markdown",
   "metadata": {},
   "source": [
    "**Conclusions**\n",
    "\n",
    "1. Widow / widower clients have the lowest default rate (6.74%).  \n",
    "2. Divorced clients have slightly higher default rate (7.08%).\n",
    "3. Married clients (the biggest group, more than half of the dataset) have higher default rate (7.71%), but still lower than the general default rate of 8.24%.\n",
    "4. Civil partnership clients have significantly higher default rate (9.38%)\n",
    "5. Unmarried clients have the highest default rate (9.86%)\n",
    "6. **Overall** - marital status of widow/er, divorced and married are related to lower default rates, while civil partnership and unmarried clients have significantly higher default rates. "
   ]
  },
  {
   "cell_type": "markdown",
   "metadata": {},
   "source": [
    "### Family status & number of children  - Shared relation to paying back on time\n",
    "\n",
    "For credit score purposes it will be beneficial to look at both factors - marital status and number of children - in their shared relation to paying back on time. For this we will create and present a pivot table, and clarify it's conclusions."
   ]
  },
  {
   "cell_type": "code",
   "execution_count": 83,
   "metadata": {},
   "outputs": [
    {
     "data": {
      "text/html": [
       "<div>\n",
       "<style scoped>\n",
       "    .dataframe tbody tr th:only-of-type {\n",
       "        vertical-align: middle;\n",
       "    }\n",
       "\n",
       "    .dataframe tbody tr th {\n",
       "        vertical-align: top;\n",
       "    }\n",
       "\n",
       "    .dataframe thead th {\n",
       "        text-align: right;\n",
       "    }\n",
       "</style>\n",
       "<table border=\"1\" class=\"dataframe\">\n",
       "  <thead>\n",
       "    <tr style=\"text-align: right;\">\n",
       "      <th>children</th>\n",
       "      <th>0</th>\n",
       "      <th>1</th>\n",
       "      <th>2</th>\n",
       "      <th>3</th>\n",
       "      <th>4</th>\n",
       "      <th>5</th>\n",
       "      <th>All</th>\n",
       "    </tr>\n",
       "    <tr>\n",
       "      <th>family_status</th>\n",
       "      <th></th>\n",
       "      <th></th>\n",
       "      <th></th>\n",
       "      <th></th>\n",
       "      <th></th>\n",
       "      <th></th>\n",
       "      <th></th>\n",
       "    </tr>\n",
       "  </thead>\n",
       "  <tbody>\n",
       "    <tr>\n",
       "      <td>civil partnership</td>\n",
       "      <td>0.084564</td>\n",
       "      <td>0.119192</td>\n",
       "      <td>0.087719</td>\n",
       "      <td>0.142857</td>\n",
       "      <td>0.000000</td>\n",
       "      <td>0.0</td>\n",
       "      <td>0.093765</td>\n",
       "    </tr>\n",
       "    <tr>\n",
       "      <td>divorced</td>\n",
       "      <td>0.070332</td>\n",
       "      <td>0.067308</td>\n",
       "      <td>0.086420</td>\n",
       "      <td>0.090909</td>\n",
       "      <td>0.000000</td>\n",
       "      <td>NaN</td>\n",
       "      <td>0.070767</td>\n",
       "    </tr>\n",
       "    <tr>\n",
       "      <td>married</td>\n",
       "      <td>0.070702</td>\n",
       "      <td>0.084189</td>\n",
       "      <td>0.095332</td>\n",
       "      <td>0.068548</td>\n",
       "      <td>0.107143</td>\n",
       "      <td>0.0</td>\n",
       "      <td>0.077109</td>\n",
       "    </tr>\n",
       "    <tr>\n",
       "      <td>unmarried</td>\n",
       "      <td>0.093918</td>\n",
       "      <td>0.115813</td>\n",
       "      <td>0.120000</td>\n",
       "      <td>0.125000</td>\n",
       "      <td>0.500000</td>\n",
       "      <td>NaN</td>\n",
       "      <td>0.098556</td>\n",
       "    </tr>\n",
       "    <tr>\n",
       "      <td>widow / widower</td>\n",
       "      <td>0.063779</td>\n",
       "      <td>0.090909</td>\n",
       "      <td>0.150000</td>\n",
       "      <td>0.000000</td>\n",
       "      <td>0.000000</td>\n",
       "      <td>NaN</td>\n",
       "      <td>0.067380</td>\n",
       "    </tr>\n",
       "    <tr>\n",
       "      <td>All</td>\n",
       "      <td>0.076734</td>\n",
       "      <td>0.093474</td>\n",
       "      <td>0.095145</td>\n",
       "      <td>0.082067</td>\n",
       "      <td>0.100000</td>\n",
       "      <td>0.0</td>\n",
       "      <td>0.082404</td>\n",
       "    </tr>\n",
       "  </tbody>\n",
       "</table>\n",
       "</div>"
      ],
      "text/plain": [
       "children                  0         1         2         3         4    5  \\\n",
       "family_status                                                              \n",
       "civil partnership  0.084564  0.119192  0.087719  0.142857  0.000000  0.0   \n",
       "divorced           0.070332  0.067308  0.086420  0.090909  0.000000  NaN   \n",
       "married            0.070702  0.084189  0.095332  0.068548  0.107143  0.0   \n",
       "unmarried          0.093918  0.115813  0.120000  0.125000  0.500000  NaN   \n",
       "widow / widower    0.063779  0.090909  0.150000  0.000000  0.000000  NaN   \n",
       "All                0.076734  0.093474  0.095145  0.082067  0.100000  0.0   \n",
       "\n",
       "children                All  \n",
       "family_status                \n",
       "civil partnership  0.093765  \n",
       "divorced           0.070767  \n",
       "married            0.077109  \n",
       "unmarried          0.098556  \n",
       "widow / widower    0.067380  \n",
       "All                0.082404  "
      ]
     },
     "execution_count": 83,
     "metadata": {},
     "output_type": "execute_result"
    }
   ],
   "source": [
    "# a pivot table for default rate based on family status and number of children \n",
    "data_pivot = data.pivot_table(index=['family_status'], columns='children',\n",
    "values='debt', aggfunc='mean' , margins=True)\n",
    "data_pivot "
   ]
  },
  {
   "cell_type": "code",
   "execution_count": 84,
   "metadata": {},
   "outputs": [
    {
     "data": {
      "text/html": [
       "<div>\n",
       "<style scoped>\n",
       "    .dataframe tbody tr th:only-of-type {\n",
       "        vertical-align: middle;\n",
       "    }\n",
       "\n",
       "    .dataframe tbody tr th {\n",
       "        vertical-align: top;\n",
       "    }\n",
       "\n",
       "    .dataframe thead th {\n",
       "        text-align: right;\n",
       "    }\n",
       "</style>\n",
       "<table border=\"1\" class=\"dataframe\">\n",
       "  <thead>\n",
       "    <tr style=\"text-align: right;\">\n",
       "      <th>children</th>\n",
       "      <th>0</th>\n",
       "      <th>1</th>\n",
       "      <th>2</th>\n",
       "      <th>3</th>\n",
       "      <th>4</th>\n",
       "      <th>5</th>\n",
       "      <th>All</th>\n",
       "    </tr>\n",
       "    <tr>\n",
       "      <th>family_status</th>\n",
       "      <th></th>\n",
       "      <th></th>\n",
       "      <th></th>\n",
       "      <th></th>\n",
       "      <th></th>\n",
       "      <th></th>\n",
       "      <th></th>\n",
       "    </tr>\n",
       "  </thead>\n",
       "  <tbody>\n",
       "    <tr>\n",
       "      <td>civil partnership</td>\n",
       "      <td>2708.0</td>\n",
       "      <td>990.0</td>\n",
       "      <td>342.0</td>\n",
       "      <td>56.0</td>\n",
       "      <td>8.0</td>\n",
       "      <td>2.0</td>\n",
       "      <td>4106</td>\n",
       "    </tr>\n",
       "    <tr>\n",
       "      <td>divorced</td>\n",
       "      <td>782.0</td>\n",
       "      <td>312.0</td>\n",
       "      <td>81.0</td>\n",
       "      <td>11.0</td>\n",
       "      <td>1.0</td>\n",
       "      <td>NaN</td>\n",
       "      <td>1187</td>\n",
       "    </tr>\n",
       "    <tr>\n",
       "      <td>married</td>\n",
       "      <td>7270.0</td>\n",
       "      <td>2922.0</td>\n",
       "      <td>1521.0</td>\n",
       "      <td>248.0</td>\n",
       "      <td>28.0</td>\n",
       "      <td>7.0</td>\n",
       "      <td>11996</td>\n",
       "    </tr>\n",
       "    <tr>\n",
       "      <td>unmarried</td>\n",
       "      <td>2236.0</td>\n",
       "      <td>449.0</td>\n",
       "      <td>75.0</td>\n",
       "      <td>8.0</td>\n",
       "      <td>2.0</td>\n",
       "      <td>NaN</td>\n",
       "      <td>2770</td>\n",
       "    </tr>\n",
       "    <tr>\n",
       "      <td>widow / widower</td>\n",
       "      <td>831.0</td>\n",
       "      <td>77.0</td>\n",
       "      <td>20.0</td>\n",
       "      <td>6.0</td>\n",
       "      <td>1.0</td>\n",
       "      <td>NaN</td>\n",
       "      <td>935</td>\n",
       "    </tr>\n",
       "    <tr>\n",
       "      <td>All</td>\n",
       "      <td>13827.0</td>\n",
       "      <td>4750.0</td>\n",
       "      <td>2039.0</td>\n",
       "      <td>329.0</td>\n",
       "      <td>40.0</td>\n",
       "      <td>9.0</td>\n",
       "      <td>20994</td>\n",
       "    </tr>\n",
       "  </tbody>\n",
       "</table>\n",
       "</div>"
      ],
      "text/plain": [
       "children                 0       1       2      3     4    5    All\n",
       "family_status                                                      \n",
       "civil partnership   2708.0   990.0   342.0   56.0   8.0  2.0   4106\n",
       "divorced             782.0   312.0    81.0   11.0   1.0  NaN   1187\n",
       "married             7270.0  2922.0  1521.0  248.0  28.0  7.0  11996\n",
       "unmarried           2236.0   449.0    75.0    8.0   2.0  NaN   2770\n",
       "widow / widower      831.0    77.0    20.0    6.0   1.0  NaN    935\n",
       "All                13827.0  4750.0  2039.0  329.0  40.0  9.0  20994"
      ]
     },
     "execution_count": 84,
     "metadata": {},
     "output_type": "execute_result"
    }
   ],
   "source": [
    "# Before we draw the conclusions - lets' look at the amount of clients in each group:\n",
    "data_pivot2 = data.pivot_table(index=['family_status'], columns='children',\n",
    "values='debt', aggfunc='count', margins=True)\n",
    "data_pivot2"
   ]
  },
  {
   "cell_type": "markdown",
   "metadata": {},
   "source": [
    "**Conclusions**\n",
    "\n",
    "1. The upper table provides the shared default rate - for both factors (family_status & number of children). Example results can be the high default rate of civil partnership with 1 child (11.92%) on one hand, and the low default rate of widow/er without children (6.38%) on the other hand. This shows that the dual factor can double(!) the default rate. \n",
    "2. The statistical representativeness of each cell is dependant on the size of the sample (seen in the lower table), and therefore is limited in some cases.\n",
    "3. **Overall** it is recomended to consider both family-children factors when defining a borrower's credit score. "
   ]
  },
  {
   "cell_type": "markdown",
   "metadata": {},
   "source": [
    "### Is there a correlation between income level and paying back on time?"
   ]
  },
  {
   "cell_type": "code",
   "execution_count": 85,
   "metadata": {},
   "outputs": [
    {
     "data": {
      "text/plain": [
       "income_level\n",
       "17K-23K      0.091924\n",
       "23K-32K      0.088422\n",
       "32K+         0.070227\n",
       "up to 17K    0.078639\n",
       "Name: debt, dtype: float64"
      ]
     },
     "execution_count": 85,
     "metadata": {},
     "output_type": "execute_result"
    }
   ],
   "source": [
    "# Calculating default-rate based on income level \n",
    "data.groupby('income_level')['debt'].mean() "
   ]
  },
  {
   "cell_type": "markdown",
   "metadata": {},
   "source": [
    "**Conclusions**\n",
    "\n",
    "1. Highest income_level borrowers have the lowest default rate (7.02%).\n",
    "2. lowest income_level borrowers have higher default rate (7.86%), but still lower than the overall default rate (8.24%). \n",
    "3. 2nd and 3rd income quartiles have the highest default rates (9.19%, 8.84%)\n",
    "\n",
    "**Reliability check**\n",
    "\n",
    "Since we have filled more than 2000 missing total_income values - it is important to check that these filled values havn't changed dramatically our income-impact conclusions. Therfore we will redo the defoult-rate based on income_level for the data without the initial missing income values (created above as 'data_nona'). "
   ]
  },
  {
   "cell_type": "code",
   "execution_count": 88,
   "metadata": {},
   "outputs": [
    {
     "data": {
      "text/plain": [
       "income_level\n",
       "17K-23K      0.088972\n",
       "23K-32K      0.088012\n",
       "32K+         0.070677\n",
       "up to 17K    0.078745\n",
       "Name: debt, dtype: float64"
      ]
     },
     "execution_count": 88,
     "metadata": {},
     "output_type": "execute_result"
    }
   ],
   "source": [
    "# first creating the income_level column for the data_nona (without the originally missing income values)\n",
    "data_nona['income_level'] = data_nona['total_income'].apply(income_level)\n",
    "\n",
    "# Calculating default-rate based on income level (without the originally missing income values)\n",
    "data_nona.groupby('income_level')['debt'].mean() "
   ]
  },
  {
   "cell_type": "markdown",
   "metadata": {},
   "source": [
    "We can see the differences from above are not big, and our conclusions about income_level vs. default rate are validated. "
   ]
  },
  {
   "cell_type": "markdown",
   "metadata": {},
   "source": [
    "### How does credit purpose affect the default rate?"
   ]
  },
  {
   "cell_type": "code",
   "execution_count": 89,
   "metadata": {},
   "outputs": [
    {
     "data": {
      "text/plain": [
       "purpose\n",
       "car                      0.093993\n",
       "education                0.093679\n",
       "housing / real estate    0.074085\n",
       "wedding                  0.079739\n",
       "Name: debt, dtype: float64"
      ]
     },
     "execution_count": 89,
     "metadata": {},
     "output_type": "execute_result"
    }
   ],
   "source": [
    "# Check the percentages for default rate for each credit purpose and analyze them\n",
    "data.groupby('purpose')['debt'].mean() "
   ]
  },
  {
   "cell_type": "markdown",
   "metadata": {},
   "source": [
    "**Conclusion**\n",
    "\n",
    "1. Loans for **housing / real estate** have the lowest default rate (7.41%).\n",
    "2. Loans for **wedding** have a bit higher default rate (7.97%), but still lower than the overall rate (8.24%).\n",
    "3. Loans for **car or education** have both significantly higher default rate (9.4%, 9.37%)\n",
    "\n"
   ]
  },
  {
   "cell_type": "markdown",
   "metadata": {},
   "source": [
    "## General Conclusion \n",
    "\n",
    "### Data preprocessing \n",
    "1. Original dataset of 21525 rows (loans) was analyzed, and 2174 rows with missing values (on income and work experience) were detected. No patterns were found for the missing values.\n",
    "\n",
    "2. 408 duplicated rows were removed.\n",
    "\n",
    "3. 123 rows with error on number of children were removed (because it is a main analysis target of this project).\n",
    "\n",
    "4. The new dataset includes 20994 reliable rows.\n",
    "\n",
    "5. Problematic values were changed to:\n",
    "\n",
    "    5.1. Column mean (age 0)\n",
    "    \n",
    "    5.2. Absolute value (negative number of days work experience)\n",
    "    \n",
    "    5.3 NaN (huge numbers of days work experience) \n",
    "    \n",
    "    5.4 Consolidated into groups / same spelling (loan purpose and education, respectively) \n",
    "    \n",
    "6. Total_income missing values were filled using the median income, grouped by gender, income_type, and education.\n",
    "\n",
    "7. Days_employed missing values were filled using the median income, grouped by age_category, education, and income_type. \n",
    "       \n",
    "8. Percentage of changes:\n",
    "\n",
    "    8.1. Total drops were less than 2.5% of original dataset.\n",
    "    \n",
    "    8.2. The age mean change was for only half a percent of the data.\n",
    "    \n",
    "    8.3. The absolut value change for number of days experience was for almost 3/4 of the data rows, and the huge values turned into NaN are another 16% of the data rows - but no project conclusions are based on this variable. \n",
    "    \n",
    "    8.4. Filled missing values (total_income & days_employed) are for around 10% of the rows, but reliability test for the income results includes also a caculation without the filled missing values. \n",
    "    \n",
    "    \n",
    "9. Categorization was created for age_category, loan_purpose, and income_level.\n",
    "\n",
    "### Answering the Analysis Questions\n",
    "\n",
    "**General Conclusion**: All 4 factors (number of children, marital status, income level, loan purpose) should be considered when defining credit score for a potential borrower, since differences in all 4 factors are correlated with differences in loan default rate.  \n",
    "\n",
    "1. **Is there a connection between having kids and repaying a loan on time?**\n",
    "\n",
    "    1. Clients with 3 kids have a default rate similar to the overall general rate (8.21%). \n",
    "    2. Clients without kids (the biggest group) have the lowest default rate (7.67%).\n",
    "    3. Clients with 1-2 kids (the big majority of all clients with kids) have significantly higher default rate (9.35%, 9.51%).\n",
    "    4. Clients with 4 kids have the highest default rate (10%) but this is a much smaller group in the dataset, so this result should be taken as not statistically solid.\n",
    "(The data about clients with 5 children is too small to be based on)\n",
    "    5. **Overall** - having children is correlated with higher default rates on loans than clients without children.\n",
    "\n",
    "\n",
    "2. **Is there a connection between marital status and repaying a loan on time?**\n",
    "\n",
    "    1. Widow / widower clients have the lowest default rate (6.74%).  \n",
    "    2. Divorced clients have slightly higher default rate (7.08%).\n",
    "    3. Married clients (the biggest group, more than half of the dataset) have higher default rate (7.71%), but still lower than the general default rate of 8.24%.\n",
    "    4. Civil partnership clients have significantly higher default rate (9.38%)\n",
    "    5. Unmarried clients have the highest default rate (9.86%)\n",
    "    6. **Overall** - marital status of widow/er, divorced and married are related to lower default rates, while civil partnership and unmarried clients have significantly higher default rates. \n",
    "    7. A pivot table is provided above, that calculates and provides the default rate, based both on marital status and on number of children. \n",
    "\n",
    "\n",
    "3. **Is there a connection between income level and repaying a loan on time?**\n",
    "\n",
    "    1. Highest income_level borrowers have the lowest default rate (7.02%).\n",
    "    2. lowest income_level borrowers have higher default rate (7.86%), but still lower than the overall default rate (8.24%). \n",
    "    3. 2nd and 3rd income quartiles have the highest default rates (9.19%, 8.84%)\n",
    "    4. These conclusions are validated when calculated also without the filled missing income values. \n",
    "\n",
    "\n",
    "4. **How do different loan purposes affect on-time loan repayment?**\n",
    "\n",
    "    1. Loans for **housing / real estate** have the lowest default rate (7.41%).\n",
    "    2. Loans for **wedding** have a bit higher default rate (7.97%), but still lower than the overall rate (8.24%).\n",
    "    3. Loans for **car or education** have both significantly higher default rate (9.4%, 9.37%)"
   ]
  }
 ],
 "metadata": {
  "ExecuteTimeLog": [
   {
    "duration": 2741,
    "start_time": "2021-10-21T01:08:49.480Z"
   },
   {
    "duration": 52,
    "start_time": "2021-10-21T01:08:53.315Z"
   },
   {
    "duration": 49,
    "start_time": "2021-10-21T01:08:57.432Z"
   },
   {
    "duration": 70,
    "start_time": "2021-10-21T01:09:07.706Z"
   },
   {
    "duration": 900,
    "start_time": "2021-11-22T12:46:33.313Z"
   },
   {
    "duration": 18,
    "start_time": "2021-11-22T12:46:55.514Z"
   },
   {
    "duration": 14,
    "start_time": "2021-11-22T12:57:19.783Z"
   },
   {
    "duration": 314,
    "start_time": "2021-11-22T21:37:20.487Z"
   },
   {
    "duration": 864,
    "start_time": "2021-11-22T21:37:34.801Z"
   },
   {
    "duration": 13,
    "start_time": "2021-11-22T21:37:35.667Z"
   },
   {
    "duration": 37,
    "start_time": "2021-11-22T21:37:35.683Z"
   },
   {
    "duration": 7,
    "start_time": "2021-11-22T21:37:35.723Z"
   },
   {
    "duration": 13,
    "start_time": "2021-11-22T21:37:35.733Z"
   },
   {
    "duration": 11,
    "start_time": "2021-11-22T21:37:35.748Z"
   },
   {
    "duration": 17,
    "start_time": "2021-11-22T21:37:35.761Z"
   },
   {
    "duration": 16,
    "start_time": "2021-11-22T21:37:35.781Z"
   },
   {
    "duration": 7,
    "start_time": "2021-11-22T21:37:35.800Z"
   },
   {
    "duration": 14,
    "start_time": "2021-11-22T21:37:35.809Z"
   },
   {
    "duration": 20,
    "start_time": "2021-11-22T21:37:35.826Z"
   },
   {
    "duration": 17,
    "start_time": "2021-11-22T21:37:35.848Z"
   },
   {
    "duration": 19,
    "start_time": "2021-11-22T21:37:35.868Z"
   },
   {
    "duration": 8,
    "start_time": "2021-11-22T21:37:35.889Z"
   },
   {
    "duration": 25,
    "start_time": "2021-11-22T21:37:35.899Z"
   },
   {
    "duration": 28,
    "start_time": "2021-11-22T21:37:35.926Z"
   },
   {
    "duration": 18,
    "start_time": "2021-11-22T21:37:35.956Z"
   },
   {
    "duration": 23,
    "start_time": "2021-11-22T21:37:35.977Z"
   },
   {
    "duration": 36,
    "start_time": "2021-11-22T21:37:36.002Z"
   },
   {
    "duration": 30,
    "start_time": "2021-11-22T21:37:36.040Z"
   },
   {
    "duration": 18,
    "start_time": "2021-11-22T21:37:36.072Z"
   },
   {
    "duration": 21,
    "start_time": "2021-11-22T21:37:36.093Z"
   },
   {
    "duration": 13,
    "start_time": "2021-11-22T21:37:36.120Z"
   },
   {
    "duration": 19,
    "start_time": "2021-11-22T21:37:36.137Z"
   },
   {
    "duration": 22,
    "start_time": "2021-11-22T21:37:36.158Z"
   },
   {
    "duration": 14,
    "start_time": "2021-11-22T21:37:36.182Z"
   },
   {
    "duration": 27,
    "start_time": "2021-11-22T21:37:36.198Z"
   },
   {
    "duration": 21,
    "start_time": "2021-11-22T21:37:36.227Z"
   },
   {
    "duration": 22,
    "start_time": "2021-11-22T21:37:36.250Z"
   },
   {
    "duration": 20,
    "start_time": "2021-11-22T21:37:36.274Z"
   },
   {
    "duration": 28,
    "start_time": "2021-11-22T21:37:36.297Z"
   },
   {
    "duration": 15,
    "start_time": "2021-11-22T21:37:36.327Z"
   },
   {
    "duration": 30,
    "start_time": "2021-11-22T21:37:36.344Z"
   },
   {
    "duration": 20,
    "start_time": "2021-11-22T21:37:36.376Z"
   },
   {
    "duration": 17,
    "start_time": "2021-11-22T21:37:36.398Z"
   },
   {
    "duration": 14,
    "start_time": "2021-11-22T21:37:36.418Z"
   },
   {
    "duration": 19,
    "start_time": "2021-11-22T21:37:36.434Z"
   },
   {
    "duration": 18,
    "start_time": "2021-11-22T21:37:36.455Z"
   },
   {
    "duration": 8,
    "start_time": "2021-11-22T21:37:36.475Z"
   },
   {
    "duration": 7,
    "start_time": "2021-11-22T21:37:36.485Z"
   },
   {
    "duration": 4,
    "start_time": "2021-11-22T21:37:36.494Z"
   },
   {
    "duration": 5,
    "start_time": "2021-11-22T21:37:36.501Z"
   },
   {
    "duration": 5,
    "start_time": "2021-11-22T21:37:36.508Z"
   },
   {
    "duration": 9,
    "start_time": "2021-11-22T21:37:36.515Z"
   },
   {
    "duration": 8,
    "start_time": "2021-11-22T21:37:36.526Z"
   },
   {
    "duration": 6,
    "start_time": "2021-11-22T21:37:36.536Z"
   },
   {
    "duration": 9,
    "start_time": "2021-11-22T21:37:36.544Z"
   },
   {
    "duration": 8,
    "start_time": "2021-11-22T21:37:36.555Z"
   },
   {
    "duration": 5,
    "start_time": "2021-11-22T21:37:36.566Z"
   },
   {
    "duration": 5,
    "start_time": "2021-11-22T21:37:36.573Z"
   },
   {
    "duration": 5,
    "start_time": "2021-11-22T21:37:36.581Z"
   },
   {
    "duration": 6,
    "start_time": "2021-11-22T21:37:36.588Z"
   },
   {
    "duration": 9,
    "start_time": "2021-11-22T21:37:36.597Z"
   },
   {
    "duration": 3,
    "start_time": "2021-11-22T21:37:36.629Z"
   },
   {
    "duration": 6,
    "start_time": "2021-11-22T21:37:36.634Z"
   },
   {
    "duration": 11,
    "start_time": "2021-11-22T21:37:36.642Z"
   },
   {
    "duration": 7,
    "start_time": "2021-11-22T21:37:36.655Z"
   },
   {
    "duration": 5,
    "start_time": "2021-11-22T21:37:36.664Z"
   },
   {
    "duration": 5,
    "start_time": "2021-11-22T21:37:36.672Z"
   },
   {
    "duration": 5,
    "start_time": "2021-11-22T21:37:36.679Z"
   },
   {
    "duration": 6,
    "start_time": "2021-11-22T21:37:36.686Z"
   },
   {
    "duration": 34,
    "start_time": "2021-11-22T21:37:36.695Z"
   },
   {
    "duration": 6,
    "start_time": "2021-11-22T21:37:36.732Z"
   },
   {
    "duration": 8,
    "start_time": "2021-11-22T21:37:36.740Z"
   },
   {
    "duration": 5,
    "start_time": "2021-11-22T21:37:36.750Z"
   },
   {
    "duration": 7,
    "start_time": "2021-11-22T21:37:36.757Z"
   },
   {
    "duration": 7,
    "start_time": "2021-11-22T21:37:36.766Z"
   },
   {
    "duration": 5,
    "start_time": "2021-11-22T21:37:36.780Z"
   },
   {
    "duration": 6,
    "start_time": "2021-11-22T21:37:36.787Z"
   },
   {
    "duration": 36,
    "start_time": "2021-11-22T21:37:36.795Z"
   },
   {
    "duration": 10,
    "start_time": "2021-11-22T21:37:36.833Z"
   },
   {
    "duration": 801,
    "start_time": "2021-11-23T07:21:48.617Z"
   },
   {
    "duration": 13,
    "start_time": "2021-11-23T07:22:26.475Z"
   },
   {
    "duration": 24,
    "start_time": "2021-11-23T07:23:26.650Z"
   },
   {
    "duration": 17,
    "start_time": "2021-11-23T07:34:32.310Z"
   },
   {
    "duration": 27,
    "start_time": "2021-11-23T08:20:16.860Z"
   },
   {
    "duration": 28,
    "start_time": "2021-11-23T08:21:17.077Z"
   },
   {
    "duration": 68,
    "start_time": "2021-11-23T08:22:23.441Z"
   },
   {
    "duration": 812,
    "start_time": "2021-11-23T08:28:06.211Z"
   },
   {
    "duration": 12,
    "start_time": "2021-11-23T08:28:14.273Z"
   },
   {
    "duration": 23,
    "start_time": "2021-11-23T08:28:19.740Z"
   },
   {
    "duration": 15,
    "start_time": "2021-11-23T08:28:29.064Z"
   },
   {
    "duration": 13,
    "start_time": "2021-11-23T08:28:58.629Z"
   },
   {
    "duration": 11,
    "start_time": "2021-11-23T08:46:27.332Z"
   },
   {
    "duration": 8,
    "start_time": "2021-11-23T08:58:05.651Z"
   },
   {
    "duration": 10,
    "start_time": "2021-11-23T09:06:18.937Z"
   },
   {
    "duration": 511,
    "start_time": "2021-11-23T09:16:01.085Z"
   },
   {
    "duration": 8976,
    "start_time": "2021-11-23T09:17:56.543Z"
   },
   {
    "duration": 7,
    "start_time": "2021-11-23T09:18:43.348Z"
   },
   {
    "duration": 13,
    "start_time": "2021-11-23T09:35:11.681Z"
   },
   {
    "duration": 9,
    "start_time": "2021-11-23T09:36:10.193Z"
   },
   {
    "duration": 12,
    "start_time": "2021-11-23T09:36:40.931Z"
   },
   {
    "duration": 9,
    "start_time": "2021-11-23T09:36:55.512Z"
   },
   {
    "duration": 9,
    "start_time": "2021-11-23T10:33:37.556Z"
   },
   {
    "duration": 7,
    "start_time": "2021-11-23T10:39:26.203Z"
   },
   {
    "duration": 438,
    "start_time": "2021-11-24T15:39:16.445Z"
   },
   {
    "duration": 820,
    "start_time": "2021-11-24T15:39:34.703Z"
   },
   {
    "duration": 13,
    "start_time": "2021-11-24T15:39:35.526Z"
   },
   {
    "duration": 24,
    "start_time": "2021-11-24T15:39:35.542Z"
   },
   {
    "duration": 14,
    "start_time": "2021-11-24T15:39:35.569Z"
   },
   {
    "duration": 50,
    "start_time": "2021-11-24T15:39:35.587Z"
   },
   {
    "duration": 9,
    "start_time": "2021-11-24T15:39:35.639Z"
   },
   {
    "duration": 7,
    "start_time": "2021-11-24T15:39:35.651Z"
   },
   {
    "duration": 17,
    "start_time": "2021-11-24T15:39:35.661Z"
   },
   {
    "duration": 9,
    "start_time": "2021-11-24T15:39:35.681Z"
   },
   {
    "duration": 44,
    "start_time": "2021-11-24T15:39:35.692Z"
   },
   {
    "duration": 8,
    "start_time": "2021-11-24T15:39:35.738Z"
   },
   {
    "duration": 13,
    "start_time": "2021-11-24T15:39:35.748Z"
   },
   {
    "duration": 7,
    "start_time": "2021-11-24T15:40:54.498Z"
   },
   {
    "duration": 53,
    "start_time": "2021-11-24T15:41:17.850Z"
   },
   {
    "duration": 5,
    "start_time": "2021-11-24T15:41:17.905Z"
   },
   {
    "duration": 30,
    "start_time": "2021-11-24T15:41:17.913Z"
   },
   {
    "duration": 15,
    "start_time": "2021-11-24T15:41:17.946Z"
   },
   {
    "duration": 11,
    "start_time": "2021-11-24T15:41:17.963Z"
   },
   {
    "duration": 54,
    "start_time": "2021-11-24T15:41:17.977Z"
   },
   {
    "duration": 13,
    "start_time": "2021-11-24T15:41:18.033Z"
   },
   {
    "duration": 8,
    "start_time": "2021-11-24T15:41:18.049Z"
   },
   {
    "duration": 7,
    "start_time": "2021-11-24T15:41:18.059Z"
   },
   {
    "duration": 66,
    "start_time": "2021-11-24T15:41:18.069Z"
   },
   {
    "duration": 6,
    "start_time": "2021-11-24T15:41:18.137Z"
   },
   {
    "duration": 14,
    "start_time": "2021-11-24T15:41:18.145Z"
   },
   {
    "duration": 303,
    "start_time": "2021-11-24T15:41:18.161Z"
   },
   {
    "duration": 579,
    "start_time": "2021-11-24T15:41:17.890Z"
   },
   {
    "duration": 577,
    "start_time": "2021-11-24T15:41:17.894Z"
   },
   {
    "duration": 573,
    "start_time": "2021-11-24T15:41:17.899Z"
   },
   {
    "duration": 571,
    "start_time": "2021-11-24T15:41:17.903Z"
   },
   {
    "duration": 568,
    "start_time": "2021-11-24T15:41:17.907Z"
   },
   {
    "duration": 568,
    "start_time": "2021-11-24T15:41:17.910Z"
   },
   {
    "duration": 558,
    "start_time": "2021-11-24T15:41:17.922Z"
   },
   {
    "duration": 556,
    "start_time": "2021-11-24T15:41:17.926Z"
   },
   {
    "duration": 552,
    "start_time": "2021-11-24T15:41:17.931Z"
   },
   {
    "duration": 551,
    "start_time": "2021-11-24T15:41:17.934Z"
   },
   {
    "duration": 547,
    "start_time": "2021-11-24T15:41:17.939Z"
   },
   {
    "duration": 545,
    "start_time": "2021-11-24T15:41:17.943Z"
   },
   {
    "duration": 543,
    "start_time": "2021-11-24T15:41:17.946Z"
   },
   {
    "duration": 541,
    "start_time": "2021-11-24T15:41:17.950Z"
   },
   {
    "duration": 538,
    "start_time": "2021-11-24T15:41:17.954Z"
   },
   {
    "duration": 536,
    "start_time": "2021-11-24T15:41:17.957Z"
   },
   {
    "duration": 534,
    "start_time": "2021-11-24T15:41:17.960Z"
   },
   {
    "duration": 532,
    "start_time": "2021-11-24T15:41:17.964Z"
   },
   {
    "duration": 530,
    "start_time": "2021-11-24T15:41:17.967Z"
   },
   {
    "duration": 528,
    "start_time": "2021-11-24T15:41:17.971Z"
   },
   {
    "duration": 526,
    "start_time": "2021-11-24T15:41:17.974Z"
   },
   {
    "duration": 523,
    "start_time": "2021-11-24T15:41:17.978Z"
   },
   {
    "duration": 522,
    "start_time": "2021-11-24T15:41:17.981Z"
   },
   {
    "duration": 520,
    "start_time": "2021-11-24T15:41:17.984Z"
   },
   {
    "duration": 297,
    "start_time": "2021-11-24T15:41:18.231Z"
   },
   {
    "duration": 205,
    "start_time": "2021-11-24T15:41:18.325Z"
   },
   {
    "duration": 203,
    "start_time": "2021-11-24T15:41:18.328Z"
   },
   {
    "duration": 200,
    "start_time": "2021-11-24T15:41:18.333Z"
   },
   {
    "duration": 198,
    "start_time": "2021-11-24T15:41:18.336Z"
   },
   {
    "duration": 197,
    "start_time": "2021-11-24T15:41:18.339Z"
   },
   {
    "duration": 193,
    "start_time": "2021-11-24T15:41:18.344Z"
   },
   {
    "duration": 189,
    "start_time": "2021-11-24T15:41:18.349Z"
   },
   {
    "duration": 186,
    "start_time": "2021-11-24T15:41:18.353Z"
   },
   {
    "duration": 185,
    "start_time": "2021-11-24T15:41:18.356Z"
   },
   {
    "duration": 182,
    "start_time": "2021-11-24T15:41:18.360Z"
   },
   {
    "duration": 179,
    "start_time": "2021-11-24T15:41:18.364Z"
   },
   {
    "duration": 176,
    "start_time": "2021-11-24T15:41:18.369Z"
   },
   {
    "duration": 173,
    "start_time": "2021-11-24T15:41:18.373Z"
   },
   {
    "duration": 170,
    "start_time": "2021-11-24T15:41:18.377Z"
   },
   {
    "duration": 168,
    "start_time": "2021-11-24T15:41:18.381Z"
   },
   {
    "duration": 166,
    "start_time": "2021-11-24T15:41:18.384Z"
   },
   {
    "duration": 161,
    "start_time": "2021-11-24T15:41:18.391Z"
   },
   {
    "duration": 158,
    "start_time": "2021-11-24T15:41:18.395Z"
   },
   {
    "duration": 145,
    "start_time": "2021-11-24T15:41:18.409Z"
   },
   {
    "duration": 143,
    "start_time": "2021-11-24T15:41:18.413Z"
   },
   {
    "duration": 138,
    "start_time": "2021-11-24T15:41:18.419Z"
   },
   {
    "duration": 99,
    "start_time": "2021-11-24T15:41:18.459Z"
   },
   {
    "duration": 93,
    "start_time": "2021-11-24T15:41:18.467Z"
   },
   {
    "duration": 90,
    "start_time": "2021-11-24T15:41:18.471Z"
   },
   {
    "duration": 87,
    "start_time": "2021-11-24T15:41:18.475Z"
   },
   {
    "duration": 85,
    "start_time": "2021-11-24T15:41:18.479Z"
   },
   {
    "duration": 145,
    "start_time": "2021-11-24T15:41:18.483Z"
   },
   {
    "duration": 142,
    "start_time": "2021-11-24T15:41:18.488Z"
   },
   {
    "duration": 139,
    "start_time": "2021-11-24T15:41:18.492Z"
   },
   {
    "duration": 138,
    "start_time": "2021-11-24T15:41:18.495Z"
   },
   {
    "duration": 135,
    "start_time": "2021-11-24T15:41:18.499Z"
   },
   {
    "duration": 132,
    "start_time": "2021-11-24T15:41:18.504Z"
   },
   {
    "duration": 121,
    "start_time": "2021-11-24T15:41:18.517Z"
   },
   {
    "duration": 14,
    "start_time": "2021-11-24T15:42:50.728Z"
   },
   {
    "duration": 7,
    "start_time": "2021-11-24T15:42:58.094Z"
   },
   {
    "duration": 9,
    "start_time": "2021-11-24T15:44:19.417Z"
   },
   {
    "duration": 268,
    "start_time": "2021-11-24T17:53:15.913Z"
   },
   {
    "duration": 568,
    "start_time": "2021-11-24T17:53:30.333Z"
   },
   {
    "duration": 7,
    "start_time": "2021-11-24T17:53:30.903Z"
   },
   {
    "duration": 22,
    "start_time": "2021-11-24T17:53:30.911Z"
   },
   {
    "duration": 10,
    "start_time": "2021-11-24T17:53:30.934Z"
   },
   {
    "duration": 15,
    "start_time": "2021-11-24T17:53:30.946Z"
   },
   {
    "duration": 14,
    "start_time": "2021-11-24T17:53:30.963Z"
   },
   {
    "duration": 9,
    "start_time": "2021-11-24T17:53:30.979Z"
   },
   {
    "duration": 17,
    "start_time": "2021-11-24T17:53:30.989Z"
   },
   {
    "duration": 7,
    "start_time": "2021-11-24T17:53:31.008Z"
   },
   {
    "duration": 10,
    "start_time": "2021-11-24T17:53:31.017Z"
   },
   {
    "duration": 20,
    "start_time": "2021-11-24T17:53:31.028Z"
   },
   {
    "duration": 9,
    "start_time": "2021-11-24T17:53:31.049Z"
   },
   {
    "duration": 13,
    "start_time": "2021-11-24T17:53:31.060Z"
   },
   {
    "duration": 13,
    "start_time": "2021-11-24T17:53:31.074Z"
   },
   {
    "duration": 8,
    "start_time": "2021-11-24T17:53:31.089Z"
   },
   {
    "duration": 271,
    "start_time": "2021-11-24T17:53:31.098Z"
   },
   {
    "duration": 288,
    "start_time": "2021-11-24T17:53:31.084Z"
   },
   {
    "duration": 285,
    "start_time": "2021-11-24T17:53:31.088Z"
   },
   {
    "duration": 281,
    "start_time": "2021-11-24T17:53:31.092Z"
   },
   {
    "duration": 276,
    "start_time": "2021-11-24T17:53:31.098Z"
   },
   {
    "duration": 274,
    "start_time": "2021-11-24T17:53:31.101Z"
   },
   {
    "duration": 272,
    "start_time": "2021-11-24T17:53:31.104Z"
   },
   {
    "duration": 269,
    "start_time": "2021-11-24T17:53:31.108Z"
   },
   {
    "duration": 266,
    "start_time": "2021-11-24T17:53:31.112Z"
   },
   {
    "duration": 262,
    "start_time": "2021-11-24T17:53:31.117Z"
   },
   {
    "duration": 108,
    "start_time": "2021-11-24T17:53:31.272Z"
   },
   {
    "duration": -47,
    "start_time": "2021-11-24T17:53:31.428Z"
   },
   {
    "duration": -149,
    "start_time": "2021-11-24T17:53:31.531Z"
   },
   {
    "duration": -153,
    "start_time": "2021-11-24T17:53:31.535Z"
   },
   {
    "duration": -163,
    "start_time": "2021-11-24T17:53:31.546Z"
   },
   {
    "duration": -167,
    "start_time": "2021-11-24T17:53:31.551Z"
   },
   {
    "duration": -170,
    "start_time": "2021-11-24T17:53:31.555Z"
   },
   {
    "duration": -173,
    "start_time": "2021-11-24T17:53:31.559Z"
   },
   {
    "duration": -175,
    "start_time": "2021-11-24T17:53:31.562Z"
   },
   {
    "duration": -178,
    "start_time": "2021-11-24T17:53:31.566Z"
   },
   {
    "duration": -180,
    "start_time": "2021-11-24T17:53:31.569Z"
   },
   {
    "duration": -184,
    "start_time": "2021-11-24T17:53:31.573Z"
   },
   {
    "duration": -185,
    "start_time": "2021-11-24T17:53:31.575Z"
   },
   {
    "duration": -189,
    "start_time": "2021-11-24T17:53:31.580Z"
   },
   {
    "duration": -191,
    "start_time": "2021-11-24T17:53:31.583Z"
   },
   {
    "duration": -194,
    "start_time": "2021-11-24T17:53:31.587Z"
   },
   {
    "duration": -197,
    "start_time": "2021-11-24T17:53:31.590Z"
   },
   {
    "duration": -200,
    "start_time": "2021-11-24T17:53:31.594Z"
   },
   {
    "duration": -203,
    "start_time": "2021-11-24T17:53:31.598Z"
   },
   {
    "duration": -206,
    "start_time": "2021-11-24T17:53:31.602Z"
   },
   {
    "duration": -209,
    "start_time": "2021-11-24T17:53:31.606Z"
   },
   {
    "duration": -212,
    "start_time": "2021-11-24T17:53:31.610Z"
   },
   {
    "duration": -215,
    "start_time": "2021-11-24T17:53:31.614Z"
   },
   {
    "duration": -219,
    "start_time": "2021-11-24T17:53:31.618Z"
   },
   {
    "duration": -221,
    "start_time": "2021-11-24T17:53:31.621Z"
   },
   {
    "duration": -223,
    "start_time": "2021-11-24T17:53:31.624Z"
   },
   {
    "duration": -227,
    "start_time": "2021-11-24T17:53:31.629Z"
   },
   {
    "duration": -229,
    "start_time": "2021-11-24T17:53:31.632Z"
   },
   {
    "duration": -231,
    "start_time": "2021-11-24T17:53:31.635Z"
   },
   {
    "duration": -233,
    "start_time": "2021-11-24T17:53:31.638Z"
   },
   {
    "duration": -236,
    "start_time": "2021-11-24T17:53:31.642Z"
   },
   {
    "duration": -250,
    "start_time": "2021-11-24T17:53:31.656Z"
   },
   {
    "duration": -254,
    "start_time": "2021-11-24T17:53:31.661Z"
   },
   {
    "duration": -256,
    "start_time": "2021-11-24T17:53:31.664Z"
   },
   {
    "duration": -258,
    "start_time": "2021-11-24T17:53:31.667Z"
   },
   {
    "duration": -261,
    "start_time": "2021-11-24T17:53:31.671Z"
   },
   {
    "duration": -265,
    "start_time": "2021-11-24T17:53:31.676Z"
   },
   {
    "duration": -269,
    "start_time": "2021-11-24T17:53:31.680Z"
   },
   {
    "duration": -271,
    "start_time": "2021-11-24T17:53:31.683Z"
   },
   {
    "duration": -274,
    "start_time": "2021-11-24T17:53:31.687Z"
   },
   {
    "duration": -277,
    "start_time": "2021-11-24T17:53:31.691Z"
   },
   {
    "duration": -279,
    "start_time": "2021-11-24T17:53:31.694Z"
   },
   {
    "duration": -281,
    "start_time": "2021-11-24T17:53:31.697Z"
   },
   {
    "duration": -284,
    "start_time": "2021-11-24T17:53:31.700Z"
   },
   {
    "duration": -287,
    "start_time": "2021-11-24T17:53:31.704Z"
   },
   {
    "duration": -290,
    "start_time": "2021-11-24T17:53:31.708Z"
   },
   {
    "duration": 275,
    "start_time": "2021-11-24T18:39:32.539Z"
   },
   {
    "duration": 250,
    "start_time": "2021-11-24T18:40:27.997Z"
   },
   {
    "duration": 6,
    "start_time": "2021-11-24T18:44:54.764Z"
   },
   {
    "duration": 6,
    "start_time": "2021-11-24T18:45:01.277Z"
   },
   {
    "duration": 8,
    "start_time": "2021-11-24T18:45:45.802Z"
   },
   {
    "duration": 5,
    "start_time": "2021-11-24T18:45:49.279Z"
   },
   {
    "duration": 12,
    "start_time": "2021-11-24T19:03:56.189Z"
   },
   {
    "duration": 7,
    "start_time": "2021-11-24T19:05:10.348Z"
   },
   {
    "duration": 12,
    "start_time": "2021-11-24T19:09:00.025Z"
   },
   {
    "duration": 267,
    "start_time": "2021-11-24T19:10:42.251Z"
   },
   {
    "duration": 245,
    "start_time": "2021-11-24T19:12:04.397Z"
   },
   {
    "duration": 3,
    "start_time": "2021-11-24T19:21:45.014Z"
   },
   {
    "duration": 6,
    "start_time": "2021-11-24T19:22:11.053Z"
   },
   {
    "duration": 5,
    "start_time": "2021-11-24T19:33:47.196Z"
   },
   {
    "duration": 6,
    "start_time": "2021-11-24T19:33:51.267Z"
   },
   {
    "duration": 9,
    "start_time": "2021-11-24T19:35:11.635Z"
   },
   {
    "duration": 363,
    "start_time": "2021-11-24T19:36:05.804Z"
   },
   {
    "duration": 315,
    "start_time": "2021-11-24T19:36:46.993Z"
   },
   {
    "duration": 8,
    "start_time": "2021-11-24T19:37:06.447Z"
   },
   {
    "duration": 6,
    "start_time": "2021-11-24T19:39:25.033Z"
   },
   {
    "duration": 6,
    "start_time": "2021-11-24T19:39:43.239Z"
   },
   {
    "duration": 5,
    "start_time": "2021-11-24T19:39:50.276Z"
   },
   {
    "duration": 6,
    "start_time": "2021-11-24T19:40:04.008Z"
   },
   {
    "duration": 6,
    "start_time": "2021-11-24T19:40:10.241Z"
   },
   {
    "duration": 5,
    "start_time": "2021-11-24T19:40:19.591Z"
   },
   {
    "duration": 7,
    "start_time": "2021-11-24T19:40:36.420Z"
   },
   {
    "duration": 6,
    "start_time": "2021-11-24T19:41:27.726Z"
   },
   {
    "duration": 6,
    "start_time": "2021-11-24T19:44:07.932Z"
   },
   {
    "duration": 476,
    "start_time": "2021-11-24T19:44:57.597Z"
   },
   {
    "duration": 6,
    "start_time": "2021-11-24T19:45:14.978Z"
   },
   {
    "duration": 262,
    "start_time": "2021-11-24T19:45:35.553Z"
   },
   {
    "duration": 238,
    "start_time": "2021-11-24T19:45:45.004Z"
   },
   {
    "duration": 5,
    "start_time": "2021-11-24T19:45:53.316Z"
   },
   {
    "duration": 22,
    "start_time": "2021-11-24T19:54:32.494Z"
   },
   {
    "duration": 5,
    "start_time": "2021-11-24T19:55:03.590Z"
   },
   {
    "duration": 229,
    "start_time": "2021-11-24T19:55:30.728Z"
   },
   {
    "duration": 241,
    "start_time": "2021-11-24T19:55:58.755Z"
   },
   {
    "duration": 237,
    "start_time": "2021-11-24T20:00:18.142Z"
   },
   {
    "duration": 607,
    "start_time": "2021-11-24T20:03:28.050Z"
   },
   {
    "duration": 5,
    "start_time": "2021-11-24T20:03:53.407Z"
   },
   {
    "duration": 5,
    "start_time": "2021-11-24T20:05:02.934Z"
   },
   {
    "duration": 252,
    "start_time": "2021-11-24T20:05:57.976Z"
   },
   {
    "duration": 85,
    "start_time": "2021-11-24T20:06:06.149Z"
   },
   {
    "duration": 6,
    "start_time": "2021-11-24T20:06:40.635Z"
   },
   {
    "duration": 7,
    "start_time": "2021-11-24T20:07:23.803Z"
   },
   {
    "duration": 5,
    "start_time": "2021-11-24T20:08:36.522Z"
   },
   {
    "duration": 79,
    "start_time": "2021-11-24T20:09:21.506Z"
   },
   {
    "duration": 76,
    "start_time": "2021-11-24T20:09:32.167Z"
   },
   {
    "duration": 4,
    "start_time": "2021-11-24T20:10:18.692Z"
   },
   {
    "duration": 4,
    "start_time": "2021-11-24T20:11:21.979Z"
   },
   {
    "duration": 6,
    "start_time": "2021-11-24T20:12:18.200Z"
   },
   {
    "duration": 6,
    "start_time": "2021-11-24T20:14:09.788Z"
   },
   {
    "duration": 6,
    "start_time": "2021-11-24T20:23:09.544Z"
   },
   {
    "duration": 14,
    "start_time": "2021-11-24T20:26:00.187Z"
   },
   {
    "duration": 31,
    "start_time": "2021-11-24T20:27:04.776Z"
   },
   {
    "duration": 17,
    "start_time": "2021-11-24T20:27:20.803Z"
   },
   {
    "duration": 13,
    "start_time": "2021-11-24T20:27:32.509Z"
   },
   {
    "duration": 3,
    "start_time": "2021-11-24T20:27:46.980Z"
   },
   {
    "duration": 5,
    "start_time": "2021-11-24T21:34:57.570Z"
   },
   {
    "duration": 232,
    "start_time": "2021-11-24T21:53:25.473Z"
   },
   {
    "duration": 244,
    "start_time": "2021-11-24T21:59:54.483Z"
   },
   {
    "duration": 262,
    "start_time": "2021-11-24T22:01:02.109Z"
   },
   {
    "duration": 253,
    "start_time": "2021-11-24T22:28:25.439Z"
   },
   {
    "duration": 246,
    "start_time": "2021-11-24T22:30:41.737Z"
   },
   {
    "duration": 237,
    "start_time": "2021-11-24T22:33:25.257Z"
   },
   {
    "duration": 254,
    "start_time": "2021-11-24T22:37:29.935Z"
   },
   {
    "duration": 76,
    "start_time": "2021-11-24T23:04:26.709Z"
   },
   {
    "duration": 83,
    "start_time": "2021-11-24T23:05:10.775Z"
   },
   {
    "duration": 8,
    "start_time": "2021-11-24T23:05:28.796Z"
   },
   {
    "duration": 2,
    "start_time": "2021-11-24T23:05:51.198Z"
   },
   {
    "duration": 3152,
    "start_time": "2021-11-24T23:07:23.546Z"
   },
   {
    "duration": 17,
    "start_time": "2021-11-24T23:12:42.645Z"
   },
   {
    "duration": 4475,
    "start_time": "2021-11-24T23:13:17.467Z"
   },
   {
    "duration": 161,
    "start_time": "2021-11-24T23:14:31.132Z"
   },
   {
    "duration": 3,
    "start_time": "2021-11-24T23:14:31.295Z"
   },
   {
    "duration": 16,
    "start_time": "2021-11-24T23:14:31.300Z"
   },
   {
    "duration": 16,
    "start_time": "2021-11-24T23:14:31.318Z"
   },
   {
    "duration": 10,
    "start_time": "2021-11-24T23:14:31.336Z"
   },
   {
    "duration": 7,
    "start_time": "2021-11-24T23:14:31.347Z"
   },
   {
    "duration": 7,
    "start_time": "2021-11-24T23:14:31.356Z"
   },
   {
    "duration": 5,
    "start_time": "2021-11-24T23:14:31.389Z"
   },
   {
    "duration": 6,
    "start_time": "2021-11-24T23:14:31.396Z"
   },
   {
    "duration": 20,
    "start_time": "2021-11-24T23:14:31.403Z"
   },
   {
    "duration": 5,
    "start_time": "2021-11-24T23:14:31.424Z"
   },
   {
    "duration": 8,
    "start_time": "2021-11-24T23:14:31.430Z"
   },
   {
    "duration": 17,
    "start_time": "2021-11-24T23:14:31.440Z"
   },
   {
    "duration": 10,
    "start_time": "2021-11-24T23:14:31.458Z"
   },
   {
    "duration": 14,
    "start_time": "2021-11-24T23:14:31.469Z"
   },
   {
    "duration": 11,
    "start_time": "2021-11-24T23:14:31.484Z"
   },
   {
    "duration": 4,
    "start_time": "2021-11-24T23:14:31.497Z"
   },
   {
    "duration": 12,
    "start_time": "2021-11-24T23:14:31.503Z"
   },
   {
    "duration": 7,
    "start_time": "2021-11-24T23:14:31.516Z"
   },
   {
    "duration": 9,
    "start_time": "2021-11-24T23:14:31.524Z"
   },
   {
    "duration": 11,
    "start_time": "2021-11-24T23:14:31.535Z"
   },
   {
    "duration": 7,
    "start_time": "2021-11-24T23:14:31.547Z"
   },
   {
    "duration": 4,
    "start_time": "2021-11-24T23:14:31.557Z"
   },
   {
    "duration": 9,
    "start_time": "2021-11-24T23:14:31.563Z"
   },
   {
    "duration": 1,
    "start_time": "2021-11-24T23:14:31.588Z"
   },
   {
    "duration": 5,
    "start_time": "2021-11-24T23:14:31.591Z"
   },
   {
    "duration": 9,
    "start_time": "2021-11-24T23:14:31.598Z"
   },
   {
    "duration": 7,
    "start_time": "2021-11-24T23:14:31.608Z"
   },
   {
    "duration": 7,
    "start_time": "2021-11-24T23:14:31.616Z"
   },
   {
    "duration": 11,
    "start_time": "2021-11-24T23:14:31.625Z"
   },
   {
    "duration": 274,
    "start_time": "2021-11-24T23:14:31.637Z"
   },
   {
    "duration": 4,
    "start_time": "2021-11-24T23:14:31.913Z"
   },
   {
    "duration": 19,
    "start_time": "2021-11-24T23:14:31.918Z"
   },
   {
    "duration": 13,
    "start_time": "2021-11-24T23:14:31.939Z"
   },
   {
    "duration": 35,
    "start_time": "2021-11-24T23:14:31.954Z"
   },
   {
    "duration": 3,
    "start_time": "2021-11-24T23:14:31.991Z"
   },
   {
    "duration": 20,
    "start_time": "2021-11-24T23:14:31.995Z"
   },
   {
    "duration": 5,
    "start_time": "2021-11-24T23:14:32.017Z"
   },
   {
    "duration": 7,
    "start_time": "2021-11-24T23:14:32.024Z"
   },
   {
    "duration": 17,
    "start_time": "2021-11-24T23:14:32.032Z"
   },
   {
    "duration": 4,
    "start_time": "2021-11-24T23:14:32.051Z"
   },
   {
    "duration": 26,
    "start_time": "2021-11-24T23:14:32.057Z"
   },
   {
    "duration": 14,
    "start_time": "2021-11-24T23:14:32.085Z"
   },
   {
    "duration": 21,
    "start_time": "2021-11-24T23:14:32.100Z"
   },
   {
    "duration": 22,
    "start_time": "2021-11-24T23:14:32.122Z"
   },
   {
    "duration": 9,
    "start_time": "2021-11-24T23:14:32.145Z"
   },
   {
    "duration": 25,
    "start_time": "2021-11-24T23:14:32.156Z"
   },
   {
    "duration": 21,
    "start_time": "2021-11-24T23:14:32.182Z"
   },
   {
    "duration": 8,
    "start_time": "2021-11-24T23:14:32.205Z"
   },
   {
    "duration": 10,
    "start_time": "2021-11-24T23:14:32.214Z"
   },
   {
    "duration": 20,
    "start_time": "2021-11-24T23:14:32.225Z"
   },
   {
    "duration": 18,
    "start_time": "2021-11-24T23:14:32.246Z"
   },
   {
    "duration": 20,
    "start_time": "2021-11-24T23:14:32.266Z"
   },
   {
    "duration": 6,
    "start_time": "2021-11-24T23:14:32.288Z"
   },
   {
    "duration": 5,
    "start_time": "2021-11-24T23:14:32.296Z"
   },
   {
    "duration": 4,
    "start_time": "2021-11-24T23:14:32.303Z"
   },
   {
    "duration": 5,
    "start_time": "2021-11-24T23:14:32.308Z"
   },
   {
    "duration": 6,
    "start_time": "2021-11-24T23:14:32.315Z"
   },
   {
    "duration": 5,
    "start_time": "2021-11-24T23:14:32.322Z"
   },
   {
    "duration": 7,
    "start_time": "2021-11-24T23:14:32.329Z"
   },
   {
    "duration": 8,
    "start_time": "2021-11-24T23:14:32.337Z"
   },
   {
    "duration": 4,
    "start_time": "2021-11-24T23:14:32.347Z"
   },
   {
    "duration": 6,
    "start_time": "2021-11-24T23:14:32.353Z"
   },
   {
    "duration": 5,
    "start_time": "2021-11-24T23:14:32.360Z"
   },
   {
    "duration": 7,
    "start_time": "2021-11-24T23:14:32.367Z"
   },
   {
    "duration": 5,
    "start_time": "2021-11-24T23:14:32.375Z"
   },
   {
    "duration": 5,
    "start_time": "2021-11-24T23:14:32.381Z"
   },
   {
    "duration": 1,
    "start_time": "2021-11-24T23:14:32.390Z"
   },
   {
    "duration": 7,
    "start_time": "2021-11-24T23:14:32.393Z"
   },
   {
    "duration": 8,
    "start_time": "2021-11-24T23:14:32.402Z"
   },
   {
    "duration": 6,
    "start_time": "2021-11-24T23:14:32.411Z"
   },
   {
    "duration": 14,
    "start_time": "2021-11-24T23:16:11.251Z"
   },
   {
    "duration": 405,
    "start_time": "2021-11-25T04:57:06.318Z"
   },
   {
    "duration": 6,
    "start_time": "2021-11-25T04:57:18.572Z"
   },
   {
    "duration": 7,
    "start_time": "2021-11-25T04:57:20.681Z"
   },
   {
    "duration": 413,
    "start_time": "2021-11-25T11:14:51.171Z"
   },
   {
    "duration": 896,
    "start_time": "2021-11-25T11:15:02.602Z"
   },
   {
    "duration": 9,
    "start_time": "2021-11-25T11:15:03.500Z"
   },
   {
    "duration": 20,
    "start_time": "2021-11-25T11:15:03.511Z"
   },
   {
    "duration": 11,
    "start_time": "2021-11-25T11:15:03.533Z"
   },
   {
    "duration": 11,
    "start_time": "2021-11-25T11:15:03.546Z"
   },
   {
    "duration": 20,
    "start_time": "2021-11-25T11:15:03.559Z"
   },
   {
    "duration": 46,
    "start_time": "2021-11-25T11:15:03.581Z"
   },
   {
    "duration": 67,
    "start_time": "2021-11-25T11:15:03.630Z"
   },
   {
    "duration": 12,
    "start_time": "2021-11-25T11:15:03.699Z"
   },
   {
    "duration": 15,
    "start_time": "2021-11-25T11:15:03.714Z"
   },
   {
    "duration": 8,
    "start_time": "2021-11-25T11:15:03.731Z"
   },
   {
    "duration": 10,
    "start_time": "2021-11-25T11:15:03.741Z"
   },
   {
    "duration": 14,
    "start_time": "2021-11-25T11:15:03.753Z"
   },
   {
    "duration": 32,
    "start_time": "2021-11-25T11:15:03.769Z"
   },
   {
    "duration": 26,
    "start_time": "2021-11-25T11:15:03.802Z"
   },
   {
    "duration": 55,
    "start_time": "2021-11-25T11:15:03.830Z"
   },
   {
    "duration": 21,
    "start_time": "2021-11-25T11:15:03.888Z"
   },
   {
    "duration": 29,
    "start_time": "2021-11-25T11:15:03.912Z"
   },
   {
    "duration": 18,
    "start_time": "2021-11-25T11:15:03.943Z"
   },
   {
    "duration": 12,
    "start_time": "2021-11-25T11:15:03.963Z"
   },
   {
    "duration": 19,
    "start_time": "2021-11-25T11:15:03.977Z"
   },
   {
    "duration": 9,
    "start_time": "2021-11-25T11:15:03.999Z"
   },
   {
    "duration": 6,
    "start_time": "2021-11-25T11:15:04.015Z"
   },
   {
    "duration": 18,
    "start_time": "2021-11-25T11:15:04.025Z"
   },
   {
    "duration": 14,
    "start_time": "2021-11-25T11:15:04.046Z"
   },
   {
    "duration": 11,
    "start_time": "2021-11-25T11:15:04.063Z"
   },
   {
    "duration": 30,
    "start_time": "2021-11-25T11:15:04.076Z"
   },
   {
    "duration": 3,
    "start_time": "2021-11-25T11:15:04.109Z"
   },
   {
    "duration": 14,
    "start_time": "2021-11-25T11:15:04.114Z"
   },
   {
    "duration": 14,
    "start_time": "2021-11-25T11:15:04.129Z"
   },
   {
    "duration": 537,
    "start_time": "2021-11-25T11:15:04.144Z"
   },
   {
    "duration": 6,
    "start_time": "2021-11-25T11:15:04.683Z"
   },
   {
    "duration": 21,
    "start_time": "2021-11-25T11:15:04.707Z"
   },
   {
    "duration": 25,
    "start_time": "2021-11-25T11:15:04.731Z"
   },
   {
    "duration": 24,
    "start_time": "2021-11-25T11:15:04.758Z"
   },
   {
    "duration": 5,
    "start_time": "2021-11-25T11:15:04.808Z"
   },
   {
    "duration": 12,
    "start_time": "2021-11-25T11:15:04.815Z"
   },
   {
    "duration": 8,
    "start_time": "2021-11-25T11:15:04.830Z"
   },
   {
    "duration": 11,
    "start_time": "2021-11-25T11:15:04.840Z"
   },
   {
    "duration": 34,
    "start_time": "2021-11-25T11:15:04.853Z"
   },
   {
    "duration": 19,
    "start_time": "2021-11-25T11:15:04.890Z"
   },
   {
    "duration": 5,
    "start_time": "2021-11-25T11:15:04.911Z"
   },
   {
    "duration": 10,
    "start_time": "2021-11-25T11:15:04.918Z"
   },
   {
    "duration": 5,
    "start_time": "2021-11-25T11:15:04.930Z"
   },
   {
    "duration": 8,
    "start_time": "2021-11-25T11:15:04.937Z"
   },
   {
    "duration": 7,
    "start_time": "2021-11-25T11:15:04.947Z"
   },
   {
    "duration": 19,
    "start_time": "2021-11-25T11:15:04.956Z"
   },
   {
    "duration": 5,
    "start_time": "2021-11-25T11:15:04.978Z"
   },
   {
    "duration": 10,
    "start_time": "2021-11-25T11:15:04.985Z"
   },
   {
    "duration": 8,
    "start_time": "2021-11-25T11:15:04.998Z"
   },
   {
    "duration": 5,
    "start_time": "2021-11-25T11:15:05.009Z"
   },
   {
    "duration": 12,
    "start_time": "2021-11-25T11:15:05.017Z"
   },
   {
    "duration": 21,
    "start_time": "2021-11-25T11:15:05.032Z"
   },
   {
    "duration": 15,
    "start_time": "2021-11-25T11:15:05.055Z"
   },
   {
    "duration": 10,
    "start_time": "2021-11-25T11:15:05.073Z"
   },
   {
    "duration": 13,
    "start_time": "2021-11-25T11:15:05.086Z"
   },
   {
    "duration": 14,
    "start_time": "2021-11-25T11:15:05.101Z"
   },
   {
    "duration": 24,
    "start_time": "2021-11-25T11:15:05.117Z"
   },
   {
    "duration": 86,
    "start_time": "2021-11-25T11:15:05.144Z"
   },
   {
    "duration": 63,
    "start_time": "2021-11-25T11:15:05.233Z"
   },
   {
    "duration": 47,
    "start_time": "2021-11-25T11:15:05.298Z"
   },
   {
    "duration": 16,
    "start_time": "2021-11-25T11:15:05.347Z"
   },
   {
    "duration": 17,
    "start_time": "2021-11-25T11:15:05.366Z"
   },
   {
    "duration": 36,
    "start_time": "2021-11-25T11:15:05.386Z"
   },
   {
    "duration": 35,
    "start_time": "2021-11-25T11:15:05.424Z"
   },
   {
    "duration": 39,
    "start_time": "2021-11-25T11:15:05.461Z"
   },
   {
    "duration": 29,
    "start_time": "2021-11-25T11:15:05.502Z"
   },
   {
    "duration": 15,
    "start_time": "2021-11-25T11:15:05.536Z"
   },
   {
    "duration": 56,
    "start_time": "2021-11-25T11:15:05.553Z"
   },
   {
    "duration": 32,
    "start_time": "2021-11-25T11:15:05.611Z"
   },
   {
    "duration": 34,
    "start_time": "2021-11-25T11:15:05.645Z"
   },
   {
    "duration": 8,
    "start_time": "2021-11-25T11:15:52.181Z"
   },
   {
    "duration": 8,
    "start_time": "2021-11-25T11:16:02.748Z"
   },
   {
    "duration": 376,
    "start_time": "2021-11-25T11:22:40.400Z"
   },
   {
    "duration": 20,
    "start_time": "2021-11-25T11:22:50.534Z"
   },
   {
    "duration": 24,
    "start_time": "2021-11-25T11:24:50.063Z"
   },
   {
    "duration": 7,
    "start_time": "2021-11-25T12:10:40.067Z"
   },
   {
    "duration": 7,
    "start_time": "2021-11-25T12:11:46.919Z"
   },
   {
    "duration": 7,
    "start_time": "2021-11-25T12:13:14.548Z"
   },
   {
    "duration": 8,
    "start_time": "2021-11-25T12:14:01.289Z"
   },
   {
    "duration": 7,
    "start_time": "2021-11-25T12:17:21.286Z"
   },
   {
    "duration": 8,
    "start_time": "2021-11-25T12:19:39.143Z"
   },
   {
    "duration": 7,
    "start_time": "2021-11-25T13:27:27.236Z"
   },
   {
    "duration": 225,
    "start_time": "2021-11-25T15:40:11.419Z"
   },
   {
    "duration": 563,
    "start_time": "2021-11-25T15:40:25.048Z"
   },
   {
    "duration": 9,
    "start_time": "2021-11-25T15:40:25.613Z"
   },
   {
    "duration": 17,
    "start_time": "2021-11-25T15:40:25.624Z"
   },
   {
    "duration": 10,
    "start_time": "2021-11-25T15:40:25.643Z"
   },
   {
    "duration": 9,
    "start_time": "2021-11-25T15:40:25.655Z"
   },
   {
    "duration": 31,
    "start_time": "2021-11-25T15:40:25.665Z"
   },
   {
    "duration": 5,
    "start_time": "2021-11-25T15:40:25.698Z"
   },
   {
    "duration": 6,
    "start_time": "2021-11-25T15:40:25.705Z"
   },
   {
    "duration": 11,
    "start_time": "2021-11-25T15:40:25.712Z"
   },
   {
    "duration": 7,
    "start_time": "2021-11-25T15:40:25.725Z"
   },
   {
    "duration": 5,
    "start_time": "2021-11-25T15:40:25.733Z"
   },
   {
    "duration": 6,
    "start_time": "2021-11-25T15:40:25.740Z"
   },
   {
    "duration": 10,
    "start_time": "2021-11-25T15:40:25.748Z"
   },
   {
    "duration": 36,
    "start_time": "2021-11-25T15:40:25.759Z"
   },
   {
    "duration": 6,
    "start_time": "2021-11-25T15:40:25.796Z"
   },
   {
    "duration": 9,
    "start_time": "2021-11-25T15:40:25.804Z"
   },
   {
    "duration": 4,
    "start_time": "2021-11-25T15:40:25.815Z"
   },
   {
    "duration": 7,
    "start_time": "2021-11-25T15:40:25.821Z"
   },
   {
    "duration": 43,
    "start_time": "2021-11-25T15:40:31.762Z"
   },
   {
    "duration": 4,
    "start_time": "2021-11-25T15:40:31.807Z"
   },
   {
    "duration": 19,
    "start_time": "2021-11-25T15:40:31.813Z"
   },
   {
    "duration": 11,
    "start_time": "2021-11-25T15:40:31.835Z"
   },
   {
    "duration": 45,
    "start_time": "2021-11-25T15:40:31.848Z"
   },
   {
    "duration": 9,
    "start_time": "2021-11-25T15:40:31.895Z"
   },
   {
    "duration": 8,
    "start_time": "2021-11-25T15:40:31.905Z"
   },
   {
    "duration": 7,
    "start_time": "2021-11-25T15:40:31.915Z"
   },
   {
    "duration": 8,
    "start_time": "2021-11-25T15:40:31.924Z"
   },
   {
    "duration": 10,
    "start_time": "2021-11-25T15:40:31.934Z"
   },
   {
    "duration": 13,
    "start_time": "2021-11-25T15:40:31.946Z"
   },
   {
    "duration": 34,
    "start_time": "2021-11-25T15:40:31.961Z"
   },
   {
    "duration": 15,
    "start_time": "2021-11-25T15:40:31.997Z"
   },
   {
    "duration": 13,
    "start_time": "2021-11-25T15:40:32.014Z"
   },
   {
    "duration": 10,
    "start_time": "2021-11-25T15:40:32.028Z"
   },
   {
    "duration": 9,
    "start_time": "2021-11-25T15:40:32.039Z"
   },
   {
    "duration": 8,
    "start_time": "2021-11-25T15:40:32.049Z"
   },
   {
    "duration": 9,
    "start_time": "2021-11-25T15:40:32.059Z"
   },
   {
    "duration": 211,
    "start_time": "2021-11-25T15:40:32.070Z"
   },
   {
    "duration": 134,
    "start_time": "2021-11-25T15:40:32.151Z"
   },
   {
    "duration": 127,
    "start_time": "2021-11-25T15:40:32.159Z"
   },
   {
    "duration": 123,
    "start_time": "2021-11-25T15:40:32.164Z"
   },
   {
    "duration": 119,
    "start_time": "2021-11-25T15:40:32.169Z"
   },
   {
    "duration": 116,
    "start_time": "2021-11-25T15:40:32.173Z"
   },
   {
    "duration": 114,
    "start_time": "2021-11-25T15:40:32.176Z"
   },
   {
    "duration": 111,
    "start_time": "2021-11-25T15:40:32.180Z"
   },
   {
    "duration": 108,
    "start_time": "2021-11-25T15:40:32.184Z"
   },
   {
    "duration": 105,
    "start_time": "2021-11-25T15:40:32.188Z"
   },
   {
    "duration": 102,
    "start_time": "2021-11-25T15:40:32.192Z"
   },
   {
    "duration": 100,
    "start_time": "2021-11-25T15:40:32.195Z"
   },
   {
    "duration": 96,
    "start_time": "2021-11-25T15:40:32.200Z"
   },
   {
    "duration": 94,
    "start_time": "2021-11-25T15:40:32.203Z"
   },
   {
    "duration": 91,
    "start_time": "2021-11-25T15:40:32.207Z"
   },
   {
    "duration": 90,
    "start_time": "2021-11-25T15:40:32.209Z"
   },
   {
    "duration": 87,
    "start_time": "2021-11-25T15:40:32.213Z"
   },
   {
    "duration": 85,
    "start_time": "2021-11-25T15:40:32.216Z"
   },
   {
    "duration": 82,
    "start_time": "2021-11-25T15:40:32.220Z"
   },
   {
    "duration": 79,
    "start_time": "2021-11-25T15:40:32.224Z"
   },
   {
    "duration": 77,
    "start_time": "2021-11-25T15:40:32.227Z"
   },
   {
    "duration": 75,
    "start_time": "2021-11-25T15:40:32.230Z"
   },
   {
    "duration": 72,
    "start_time": "2021-11-25T15:40:32.234Z"
   },
   {
    "duration": 69,
    "start_time": "2021-11-25T15:40:32.238Z"
   },
   {
    "duration": 67,
    "start_time": "2021-11-25T15:40:32.241Z"
   },
   {
    "duration": 65,
    "start_time": "2021-11-25T15:40:32.244Z"
   },
   {
    "duration": 52,
    "start_time": "2021-11-25T15:40:32.258Z"
   },
   {
    "duration": 49,
    "start_time": "2021-11-25T15:40:32.262Z"
   },
   {
    "duration": 45,
    "start_time": "2021-11-25T15:40:32.267Z"
   },
   {
    "duration": 42,
    "start_time": "2021-11-25T15:40:32.271Z"
   },
   {
    "duration": 40,
    "start_time": "2021-11-25T15:40:32.274Z"
   },
   {
    "duration": 38,
    "start_time": "2021-11-25T15:40:32.277Z"
   },
   {
    "duration": 34,
    "start_time": "2021-11-25T15:40:32.282Z"
   },
   {
    "duration": 31,
    "start_time": "2021-11-25T15:40:32.287Z"
   },
   {
    "duration": 20,
    "start_time": "2021-11-25T15:40:32.299Z"
   },
   {
    "duration": 18,
    "start_time": "2021-11-25T15:40:32.303Z"
   },
   {
    "duration": 15,
    "start_time": "2021-11-25T15:40:32.307Z"
   },
   {
    "duration": 13,
    "start_time": "2021-11-25T15:40:32.310Z"
   },
   {
    "duration": 11,
    "start_time": "2021-11-25T15:40:32.314Z"
   },
   {
    "duration": 8,
    "start_time": "2021-11-25T15:40:32.318Z"
   },
   {
    "duration": 7,
    "start_time": "2021-11-25T15:40:32.321Z"
   },
   {
    "duration": 5,
    "start_time": "2021-11-25T15:40:32.324Z"
   },
   {
    "duration": 3,
    "start_time": "2021-11-25T15:40:32.328Z"
   },
   {
    "duration": 1,
    "start_time": "2021-11-25T15:40:32.331Z"
   },
   {
    "duration": 57,
    "start_time": "2021-11-25T15:40:32.335Z"
   },
   {
    "duration": 54,
    "start_time": "2021-11-25T15:40:32.339Z"
   },
   {
    "duration": 52,
    "start_time": "2021-11-25T15:40:32.343Z"
   },
   {
    "duration": 49,
    "start_time": "2021-11-25T15:40:32.347Z"
   },
   {
    "duration": 46,
    "start_time": "2021-11-25T15:40:32.351Z"
   },
   {
    "duration": 45,
    "start_time": "2021-11-25T15:40:32.354Z"
   },
   {
    "duration": 35,
    "start_time": "2021-11-25T15:40:32.365Z"
   },
   {
    "duration": 33,
    "start_time": "2021-11-25T15:40:32.368Z"
   },
   {
    "duration": 30,
    "start_time": "2021-11-25T15:40:32.372Z"
   },
   {
    "duration": 28,
    "start_time": "2021-11-25T15:40:32.375Z"
   },
   {
    "duration": 25,
    "start_time": "2021-11-25T15:40:32.379Z"
   },
   {
    "duration": 22,
    "start_time": "2021-11-25T15:40:32.383Z"
   },
   {
    "duration": 4,
    "start_time": "2021-11-25T15:41:07.959Z"
   },
   {
    "duration": 8,
    "start_time": "2021-11-25T15:41:13.382Z"
   },
   {
    "duration": 6,
    "start_time": "2021-11-25T15:41:28.656Z"
   },
   {
    "duration": 6,
    "start_time": "2021-11-25T15:41:57.692Z"
   },
   {
    "duration": 5,
    "start_time": "2021-11-25T15:42:01.492Z"
   },
   {
    "duration": 7,
    "start_time": "2021-11-25T15:42:26.609Z"
   },
   {
    "duration": 8,
    "start_time": "2021-11-25T15:42:47.113Z"
   },
   {
    "duration": 7,
    "start_time": "2021-11-25T15:43:02.332Z"
   },
   {
    "duration": 5,
    "start_time": "2021-11-25T15:44:07.453Z"
   },
   {
    "duration": 254,
    "start_time": "2021-11-25T15:44:54.348Z"
   },
   {
    "duration": 5,
    "start_time": "2021-11-25T15:44:57.693Z"
   },
   {
    "duration": 15,
    "start_time": "2021-11-25T15:45:06.534Z"
   },
   {
    "duration": 15,
    "start_time": "2021-11-25T15:45:10.575Z"
   },
   {
    "duration": 15,
    "start_time": "2021-11-25T15:45:17.431Z"
   },
   {
    "duration": 3,
    "start_time": "2021-11-25T15:45:21.584Z"
   },
   {
    "duration": 3,
    "start_time": "2021-11-25T15:46:56.101Z"
   },
   {
    "duration": 4,
    "start_time": "2021-11-25T15:46:58.324Z"
   },
   {
    "duration": 12,
    "start_time": "2021-11-25T15:47:04.274Z"
   },
   {
    "duration": 7,
    "start_time": "2021-11-25T15:47:09.598Z"
   },
   {
    "duration": 24,
    "start_time": "2021-11-25T15:47:32.262Z"
   },
   {
    "duration": 7,
    "start_time": "2021-11-25T15:47:47.150Z"
   },
   {
    "duration": 3,
    "start_time": "2021-11-25T15:52:09.798Z"
   },
   {
    "duration": 26,
    "start_time": "2021-11-25T15:52:17.706Z"
   },
   {
    "duration": 7,
    "start_time": "2021-11-25T15:52:39.747Z"
   },
   {
    "duration": 8,
    "start_time": "2021-11-25T15:53:00.062Z"
   },
   {
    "duration": 8,
    "start_time": "2021-11-25T15:53:44.911Z"
   },
   {
    "duration": 8,
    "start_time": "2021-11-25T15:55:00.359Z"
   },
   {
    "duration": 8,
    "start_time": "2021-11-25T15:55:16.975Z"
   },
   {
    "duration": 7,
    "start_time": "2021-11-25T15:55:43.769Z"
   },
   {
    "duration": 7,
    "start_time": "2021-11-25T15:56:59.997Z"
   },
   {
    "duration": 7,
    "start_time": "2021-11-25T15:57:51.873Z"
   },
   {
    "duration": 7,
    "start_time": "2021-11-25T16:04:48.719Z"
   },
   {
    "duration": 9,
    "start_time": "2021-11-25T16:16:45.427Z"
   },
   {
    "duration": 8,
    "start_time": "2021-11-25T16:17:23.996Z"
   },
   {
    "duration": 7,
    "start_time": "2021-11-25T16:17:44.851Z"
   },
   {
    "duration": 279,
    "start_time": "2021-11-25T18:31:16.530Z"
   },
   {
    "duration": 655,
    "start_time": "2021-11-25T18:31:25.405Z"
   },
   {
    "duration": 7,
    "start_time": "2021-11-25T18:31:26.062Z"
   },
   {
    "duration": 16,
    "start_time": "2021-11-25T18:31:26.070Z"
   },
   {
    "duration": 10,
    "start_time": "2021-11-25T18:31:26.088Z"
   },
   {
    "duration": 10,
    "start_time": "2021-11-25T18:31:26.099Z"
   },
   {
    "duration": 5,
    "start_time": "2021-11-25T18:31:26.110Z"
   },
   {
    "duration": 5,
    "start_time": "2021-11-25T18:31:26.116Z"
   },
   {
    "duration": 8,
    "start_time": "2021-11-25T18:31:26.123Z"
   },
   {
    "duration": 7,
    "start_time": "2021-11-25T18:31:26.133Z"
   },
   {
    "duration": 5,
    "start_time": "2021-11-25T18:31:26.142Z"
   },
   {
    "duration": 38,
    "start_time": "2021-11-25T18:31:26.149Z"
   },
   {
    "duration": 4,
    "start_time": "2021-11-25T18:31:26.189Z"
   },
   {
    "duration": 11,
    "start_time": "2021-11-25T18:31:26.195Z"
   },
   {
    "duration": 10,
    "start_time": "2021-11-25T18:31:26.208Z"
   },
   {
    "duration": 7,
    "start_time": "2021-11-25T18:31:26.220Z"
   },
   {
    "duration": 7,
    "start_time": "2021-11-25T18:31:26.229Z"
   },
   {
    "duration": 4,
    "start_time": "2021-11-25T18:31:26.238Z"
   },
   {
    "duration": 7,
    "start_time": "2021-11-25T18:31:26.244Z"
   },
   {
    "duration": 4,
    "start_time": "2021-11-25T18:31:26.252Z"
   },
   {
    "duration": 35,
    "start_time": "2021-11-25T18:31:26.257Z"
   },
   {
    "duration": 4,
    "start_time": "2021-11-25T18:31:26.294Z"
   },
   {
    "duration": 6,
    "start_time": "2021-11-25T18:31:26.299Z"
   },
   {
    "duration": 8,
    "start_time": "2021-11-25T18:31:26.308Z"
   },
   {
    "duration": 10,
    "start_time": "2021-11-25T18:31:26.318Z"
   },
   {
    "duration": 4,
    "start_time": "2021-11-25T18:31:26.329Z"
   },
   {
    "duration": 5,
    "start_time": "2021-11-25T18:31:26.334Z"
   },
   {
    "duration": 9,
    "start_time": "2021-11-25T18:31:26.341Z"
   },
   {
    "duration": 4,
    "start_time": "2021-11-25T18:31:26.352Z"
   },
   {
    "duration": 4,
    "start_time": "2021-11-25T18:31:26.358Z"
   },
   {
    "duration": 25,
    "start_time": "2021-11-25T18:31:26.363Z"
   },
   {
    "duration": 6,
    "start_time": "2021-11-25T18:31:26.390Z"
   },
   {
    "duration": 254,
    "start_time": "2021-11-25T18:31:26.398Z"
   },
   {
    "duration": 5,
    "start_time": "2021-11-25T18:31:26.653Z"
   },
   {
    "duration": 14,
    "start_time": "2021-11-25T18:31:26.659Z"
   },
   {
    "duration": 26,
    "start_time": "2021-11-25T18:31:26.674Z"
   },
   {
    "duration": 12,
    "start_time": "2021-11-25T18:31:26.702Z"
   },
   {
    "duration": 4,
    "start_time": "2021-11-25T18:31:26.716Z"
   },
   {
    "duration": 4,
    "start_time": "2021-11-25T18:31:26.722Z"
   },
   {
    "duration": 5,
    "start_time": "2021-11-25T18:31:26.727Z"
   },
   {
    "duration": 6,
    "start_time": "2021-11-25T18:31:26.733Z"
   },
   {
    "duration": 15,
    "start_time": "2021-11-25T18:31:26.740Z"
   },
   {
    "duration": 36,
    "start_time": "2021-11-25T18:31:26.756Z"
   },
   {
    "duration": 4,
    "start_time": "2021-11-25T18:31:26.794Z"
   },
   {
    "duration": 23,
    "start_time": "2021-11-25T18:31:26.800Z"
   },
   {
    "duration": 7,
    "start_time": "2021-11-25T18:31:26.825Z"
   },
   {
    "duration": 9,
    "start_time": "2021-11-25T18:31:26.833Z"
   },
   {
    "duration": 9,
    "start_time": "2021-11-25T18:31:26.844Z"
   },
   {
    "duration": 37,
    "start_time": "2021-11-25T18:31:26.854Z"
   },
   {
    "duration": 6,
    "start_time": "2021-11-25T18:31:26.892Z"
   },
   {
    "duration": 6,
    "start_time": "2021-11-25T18:31:26.899Z"
   },
   {
    "duration": 5,
    "start_time": "2021-11-25T18:31:26.907Z"
   },
   {
    "duration": 5,
    "start_time": "2021-11-25T18:31:26.914Z"
   },
   {
    "duration": 7,
    "start_time": "2021-11-25T18:31:26.921Z"
   },
   {
    "duration": 8,
    "start_time": "2021-11-25T18:31:26.929Z"
   },
   {
    "duration": 2,
    "start_time": "2021-11-25T18:31:26.938Z"
   },
   {
    "duration": 4,
    "start_time": "2021-11-25T18:31:26.942Z"
   },
   {
    "duration": 41,
    "start_time": "2021-11-25T18:31:26.947Z"
   },
   {
    "duration": 5,
    "start_time": "2021-11-25T18:31:26.990Z"
   },
   {
    "duration": 4,
    "start_time": "2021-11-25T18:31:26.997Z"
   },
   {
    "duration": 4,
    "start_time": "2021-11-25T18:31:27.002Z"
   },
   {
    "duration": 6,
    "start_time": "2021-11-25T18:31:27.007Z"
   },
   {
    "duration": 6,
    "start_time": "2021-11-25T18:31:27.014Z"
   },
   {
    "duration": 5,
    "start_time": "2021-11-25T18:31:27.021Z"
   },
   {
    "duration": 6,
    "start_time": "2021-11-25T18:31:27.027Z"
   },
   {
    "duration": 9,
    "start_time": "2021-11-25T18:31:27.034Z"
   },
   {
    "duration": 7,
    "start_time": "2021-11-25T18:31:27.044Z"
   },
   {
    "duration": 4,
    "start_time": "2021-11-25T18:31:27.052Z"
   },
   {
    "duration": 2,
    "start_time": "2021-11-25T18:31:27.061Z"
   },
   {
    "duration": 4,
    "start_time": "2021-11-25T18:31:27.065Z"
   },
   {
    "duration": 4,
    "start_time": "2021-11-25T18:31:27.070Z"
   },
   {
    "duration": 3,
    "start_time": "2021-11-25T18:31:27.087Z"
   },
   {
    "duration": 5,
    "start_time": "2021-11-25T18:31:27.091Z"
   },
   {
    "duration": 5,
    "start_time": "2021-11-25T18:31:27.097Z"
   },
   {
    "duration": 4,
    "start_time": "2021-11-25T18:31:27.104Z"
   },
   {
    "duration": 5,
    "start_time": "2021-11-25T18:31:27.109Z"
   },
   {
    "duration": 8,
    "start_time": "2021-11-25T18:31:27.115Z"
   },
   {
    "duration": 4,
    "start_time": "2021-11-25T18:31:27.125Z"
   },
   {
    "duration": 5,
    "start_time": "2021-11-25T18:31:27.130Z"
   },
   {
    "duration": 4,
    "start_time": "2021-11-25T18:31:27.136Z"
   },
   {
    "duration": 4,
    "start_time": "2021-11-25T18:31:27.141Z"
   },
   {
    "duration": 5,
    "start_time": "2021-11-25T18:31:27.146Z"
   },
   {
    "duration": 249,
    "start_time": "2021-11-25T18:40:22.145Z"
   },
   {
    "duration": 6,
    "start_time": "2021-11-25T18:40:32.900Z"
   },
   {
    "duration": 9,
    "start_time": "2021-11-25T18:42:51.371Z"
   },
   {
    "duration": 9,
    "start_time": "2021-11-25T18:44:23.307Z"
   },
   {
    "duration": 11,
    "start_time": "2021-11-25T18:44:55.878Z"
   },
   {
    "duration": 16,
    "start_time": "2021-11-25T18:48:17.866Z"
   },
   {
    "duration": 12,
    "start_time": "2021-11-25T18:49:49.392Z"
   },
   {
    "duration": 392,
    "start_time": "2021-11-25T21:12:48.347Z"
   },
   {
    "duration": 786,
    "start_time": "2021-11-25T21:12:55.296Z"
   },
   {
    "duration": 10,
    "start_time": "2021-11-25T21:12:56.084Z"
   },
   {
    "duration": 21,
    "start_time": "2021-11-25T21:12:56.097Z"
   },
   {
    "duration": 15,
    "start_time": "2021-11-25T21:12:56.121Z"
   },
   {
    "duration": 11,
    "start_time": "2021-11-25T21:12:56.137Z"
   },
   {
    "duration": 7,
    "start_time": "2021-11-25T21:12:56.150Z"
   },
   {
    "duration": 6,
    "start_time": "2021-11-25T21:12:56.159Z"
   },
   {
    "duration": 40,
    "start_time": "2021-11-25T21:12:56.167Z"
   },
   {
    "duration": 7,
    "start_time": "2021-11-25T21:12:56.210Z"
   },
   {
    "duration": 16,
    "start_time": "2021-11-25T21:12:56.219Z"
   },
   {
    "duration": 4,
    "start_time": "2021-11-25T21:12:56.237Z"
   },
   {
    "duration": 10,
    "start_time": "2021-11-25T21:12:56.243Z"
   },
   {
    "duration": 10,
    "start_time": "2021-11-25T21:12:56.255Z"
   },
   {
    "duration": 11,
    "start_time": "2021-11-25T21:12:56.267Z"
   },
   {
    "duration": 32,
    "start_time": "2021-11-25T21:12:56.279Z"
   },
   {
    "duration": 13,
    "start_time": "2021-11-25T21:12:56.314Z"
   },
   {
    "duration": 5,
    "start_time": "2021-11-25T21:12:56.329Z"
   },
   {
    "duration": 8,
    "start_time": "2021-11-25T21:12:56.336Z"
   },
   {
    "duration": 5,
    "start_time": "2021-11-25T21:12:56.346Z"
   },
   {
    "duration": 10,
    "start_time": "2021-11-25T21:12:56.353Z"
   },
   {
    "duration": 41,
    "start_time": "2021-11-25T21:12:56.365Z"
   },
   {
    "duration": 12,
    "start_time": "2021-11-25T21:12:56.409Z"
   },
   {
    "duration": 5,
    "start_time": "2021-11-25T21:12:56.427Z"
   },
   {
    "duration": 10,
    "start_time": "2021-11-25T21:12:56.435Z"
   },
   {
    "duration": 7,
    "start_time": "2021-11-25T21:12:56.447Z"
   },
   {
    "duration": 13,
    "start_time": "2021-11-25T21:12:56.456Z"
   },
   {
    "duration": 15,
    "start_time": "2021-11-25T21:12:56.471Z"
   },
   {
    "duration": 7,
    "start_time": "2021-11-25T21:12:56.488Z"
   },
   {
    "duration": 2,
    "start_time": "2021-11-25T21:12:56.507Z"
   },
   {
    "duration": 10,
    "start_time": "2021-11-25T21:12:56.512Z"
   },
   {
    "duration": 26,
    "start_time": "2021-11-25T21:12:56.525Z"
   },
   {
    "duration": 306,
    "start_time": "2021-11-25T21:12:56.552Z"
   },
   {
    "duration": 4,
    "start_time": "2021-11-25T21:12:56.860Z"
   },
   {
    "duration": 20,
    "start_time": "2021-11-25T21:12:56.865Z"
   },
   {
    "duration": 30,
    "start_time": "2021-11-25T21:12:56.887Z"
   },
   {
    "duration": 15,
    "start_time": "2021-11-25T21:12:56.919Z"
   },
   {
    "duration": 3,
    "start_time": "2021-11-25T21:12:56.936Z"
   },
   {
    "duration": 6,
    "start_time": "2021-11-25T21:12:56.941Z"
   },
   {
    "duration": 9,
    "start_time": "2021-11-25T21:12:56.948Z"
   },
   {
    "duration": 10,
    "start_time": "2021-11-25T21:12:56.959Z"
   },
   {
    "duration": 16,
    "start_time": "2021-11-25T21:12:56.971Z"
   },
   {
    "duration": 25,
    "start_time": "2021-11-25T21:12:56.989Z"
   },
   {
    "duration": 4,
    "start_time": "2021-11-25T21:12:57.017Z"
   },
   {
    "duration": 26,
    "start_time": "2021-11-25T21:12:57.023Z"
   },
   {
    "duration": 7,
    "start_time": "2021-11-25T21:12:57.052Z"
   },
   {
    "duration": 8,
    "start_time": "2021-11-25T21:12:57.061Z"
   },
   {
    "duration": 9183,
    "start_time": "2021-11-25T21:12:57.071Z"
   },
   {
    "duration": 850,
    "start_time": "2021-11-25T21:13:05.408Z"
   },
   {
    "duration": 845,
    "start_time": "2021-11-25T21:13:05.414Z"
   },
   {
    "duration": 842,
    "start_time": "2021-11-25T21:13:05.418Z"
   },
   {
    "duration": 838,
    "start_time": "2021-11-25T21:13:05.424Z"
   },
   {
    "duration": 827,
    "start_time": "2021-11-25T21:13:05.436Z"
   },
   {
    "duration": 819,
    "start_time": "2021-11-25T21:13:05.446Z"
   },
   {
    "duration": 816,
    "start_time": "2021-11-25T21:13:05.450Z"
   },
   {
    "duration": 812,
    "start_time": "2021-11-25T21:13:05.456Z"
   },
   {
    "duration": 809,
    "start_time": "2021-11-25T21:13:05.460Z"
   },
   {
    "duration": 808,
    "start_time": "2021-11-25T21:13:05.463Z"
   },
   {
    "duration": 805,
    "start_time": "2021-11-25T21:13:05.467Z"
   },
   {
    "duration": 802,
    "start_time": "2021-11-25T21:13:05.472Z"
   },
   {
    "duration": 799,
    "start_time": "2021-11-25T21:13:05.476Z"
   },
   {
    "duration": 798,
    "start_time": "2021-11-25T21:13:05.479Z"
   },
   {
    "duration": 795,
    "start_time": "2021-11-25T21:13:05.483Z"
   },
   {
    "duration": 790,
    "start_time": "2021-11-25T21:13:05.489Z"
   },
   {
    "duration": 788,
    "start_time": "2021-11-25T21:13:05.493Z"
   },
   {
    "duration": 785,
    "start_time": "2021-11-25T21:13:05.497Z"
   },
   {
    "duration": 784,
    "start_time": "2021-11-25T21:13:05.500Z"
   },
   {
    "duration": 736,
    "start_time": "2021-11-25T21:13:05.549Z"
   },
   {
    "duration": 709,
    "start_time": "2021-11-25T21:13:05.578Z"
   },
   {
    "duration": 706,
    "start_time": "2021-11-25T21:13:05.582Z"
   },
   {
    "duration": 702,
    "start_time": "2021-11-25T21:13:05.587Z"
   },
   {
    "duration": 700,
    "start_time": "2021-11-25T21:13:05.591Z"
   },
   {
    "duration": 698,
    "start_time": "2021-11-25T21:13:05.594Z"
   },
   {
    "duration": 695,
    "start_time": "2021-11-25T21:13:05.598Z"
   },
   {
    "duration": 692,
    "start_time": "2021-11-25T21:13:05.603Z"
   },
   {
    "duration": 689,
    "start_time": "2021-11-25T21:13:05.607Z"
   },
   {
    "duration": 681,
    "start_time": "2021-11-25T21:13:05.617Z"
   },
   {
    "duration": 677,
    "start_time": "2021-11-25T21:13:05.622Z"
   },
   {
    "duration": 674,
    "start_time": "2021-11-25T21:13:05.626Z"
   },
   {
    "duration": 671,
    "start_time": "2021-11-25T21:13:05.630Z"
   },
   {
    "duration": 673,
    "start_time": "2021-11-25T21:13:05.633Z"
   },
   {
    "duration": 669,
    "start_time": "2021-11-25T21:13:05.638Z"
   },
   {
    "duration": 667,
    "start_time": "2021-11-25T21:13:05.642Z"
   },
   {
    "duration": 848,
    "start_time": "2021-11-25T21:22:10.545Z"
   },
   {
    "duration": 8871,
    "start_time": "2021-11-25T21:22:19.970Z"
   },
   {
    "duration": 19,
    "start_time": "2021-11-25T21:28:22.301Z"
   },
   {
    "duration": 3,
    "start_time": "2021-11-25T21:37:49.751Z"
   },
   {
    "duration": 3835,
    "start_time": "2021-11-25T21:37:57.488Z"
   },
   {
    "duration": 2,
    "start_time": "2021-11-25T21:39:36.385Z"
   },
   {
    "duration": 33,
    "start_time": "2021-11-25T22:15:44.813Z"
   },
   {
    "duration": 17,
    "start_time": "2021-11-25T22:16:21.519Z"
   },
   {
    "duration": 13,
    "start_time": "2021-11-25T22:17:33.523Z"
   },
   {
    "duration": 355,
    "start_time": "2021-11-26T14:41:36.948Z"
   },
   {
    "duration": 866,
    "start_time": "2021-11-26T14:41:53.626Z"
   },
   {
    "duration": 13,
    "start_time": "2021-11-26T14:41:54.494Z"
   },
   {
    "duration": 25,
    "start_time": "2021-11-26T14:41:54.510Z"
   },
   {
    "duration": 29,
    "start_time": "2021-11-26T14:41:54.538Z"
   },
   {
    "duration": 12,
    "start_time": "2021-11-26T14:41:54.569Z"
   },
   {
    "duration": 9,
    "start_time": "2021-11-26T14:41:54.584Z"
   },
   {
    "duration": 11,
    "start_time": "2021-11-26T14:41:54.595Z"
   },
   {
    "duration": 16,
    "start_time": "2021-11-26T14:41:54.609Z"
   },
   {
    "duration": 40,
    "start_time": "2021-11-26T14:41:54.628Z"
   },
   {
    "duration": 11,
    "start_time": "2021-11-26T14:41:54.671Z"
   },
   {
    "duration": 9,
    "start_time": "2021-11-26T14:41:54.684Z"
   },
   {
    "duration": 10,
    "start_time": "2021-11-26T14:41:54.695Z"
   },
   {
    "duration": 14,
    "start_time": "2021-11-26T14:41:54.707Z"
   },
   {
    "duration": 45,
    "start_time": "2021-11-26T14:41:54.724Z"
   },
   {
    "duration": 9,
    "start_time": "2021-11-26T14:41:54.771Z"
   },
   {
    "duration": 14,
    "start_time": "2021-11-26T14:41:54.782Z"
   },
   {
    "duration": 12,
    "start_time": "2021-11-26T14:41:54.798Z"
   },
   {
    "duration": 10,
    "start_time": "2021-11-26T14:41:54.812Z"
   },
   {
    "duration": 46,
    "start_time": "2021-11-26T14:41:54.825Z"
   },
   {
    "duration": 17,
    "start_time": "2021-11-26T14:41:54.874Z"
   },
   {
    "duration": 12,
    "start_time": "2021-11-26T14:41:54.893Z"
   },
   {
    "duration": 11,
    "start_time": "2021-11-26T14:41:54.907Z"
   },
   {
    "duration": 6,
    "start_time": "2021-11-26T14:41:54.924Z"
   },
   {
    "duration": 10,
    "start_time": "2021-11-26T14:41:54.969Z"
   },
   {
    "duration": 9,
    "start_time": "2021-11-26T14:41:54.982Z"
   },
   {
    "duration": 7,
    "start_time": "2021-11-26T14:41:54.993Z"
   },
   {
    "duration": 14,
    "start_time": "2021-11-26T14:41:55.002Z"
   },
   {
    "duration": 9,
    "start_time": "2021-11-26T14:41:55.019Z"
   },
   {
    "duration": 8,
    "start_time": "2021-11-26T14:41:55.030Z"
   },
   {
    "duration": 32,
    "start_time": "2021-11-26T14:41:55.040Z"
   },
   {
    "duration": 8,
    "start_time": "2021-11-26T14:41:55.075Z"
   },
   {
    "duration": 422,
    "start_time": "2021-11-26T14:41:55.086Z"
   },
   {
    "duration": 6,
    "start_time": "2021-11-26T14:41:55.511Z"
   },
   {
    "duration": 29,
    "start_time": "2021-11-26T14:41:55.519Z"
   },
   {
    "duration": 24,
    "start_time": "2021-11-26T14:41:55.568Z"
   },
   {
    "duration": 21,
    "start_time": "2021-11-26T14:41:55.595Z"
   },
   {
    "duration": 4,
    "start_time": "2021-11-26T14:41:55.619Z"
   },
   {
    "duration": 11,
    "start_time": "2021-11-26T14:41:55.625Z"
   },
   {
    "duration": 5,
    "start_time": "2021-11-26T14:41:55.667Z"
   },
   {
    "duration": 11,
    "start_time": "2021-11-26T14:41:55.674Z"
   },
   {
    "duration": 28,
    "start_time": "2021-11-26T14:41:55.687Z"
   },
   {
    "duration": 9,
    "start_time": "2021-11-26T14:41:55.718Z"
   },
   {
    "duration": 8,
    "start_time": "2021-11-26T14:41:55.730Z"
   },
   {
    "duration": 62,
    "start_time": "2021-11-26T14:41:55.740Z"
   },
   {
    "duration": 10,
    "start_time": "2021-11-26T14:41:55.804Z"
   },
   {
    "duration": 11,
    "start_time": "2021-11-26T14:41:55.816Z"
   },
   {
    "duration": 40,
    "start_time": "2021-11-26T14:41:55.829Z"
   },
   {
    "duration": 12,
    "start_time": "2021-11-26T14:41:55.871Z"
   },
   {
    "duration": 16,
    "start_time": "2021-11-26T14:41:55.885Z"
   },
   {
    "duration": 15,
    "start_time": "2021-11-26T14:41:55.903Z"
   },
   {
    "duration": 12,
    "start_time": "2021-11-26T14:41:55.920Z"
   },
   {
    "duration": 19,
    "start_time": "2021-11-26T14:41:55.970Z"
   },
   {
    "duration": 32,
    "start_time": "2021-11-26T14:41:55.992Z"
   },
   {
    "duration": 24,
    "start_time": "2021-11-26T14:41:56.028Z"
   },
   {
    "duration": 328,
    "start_time": "2021-11-26T14:41:56.067Z"
   },
   {
    "duration": 3,
    "start_time": "2021-11-26T14:41:56.397Z"
   },
   {
    "duration": 6,
    "start_time": "2021-11-26T14:41:56.402Z"
   },
   {
    "duration": 11,
    "start_time": "2021-11-26T14:41:56.410Z"
   },
   {
    "duration": 11,
    "start_time": "2021-11-26T14:41:56.423Z"
   },
   {
    "duration": 15,
    "start_time": "2021-11-26T14:41:56.436Z"
   },
   {
    "duration": 14,
    "start_time": "2021-11-26T14:41:56.453Z"
   },
   {
    "duration": 9,
    "start_time": "2021-11-26T14:41:56.470Z"
   },
   {
    "duration": 12,
    "start_time": "2021-11-26T14:41:56.481Z"
   },
   {
    "duration": 10,
    "start_time": "2021-11-26T14:41:56.495Z"
   },
   {
    "duration": 7,
    "start_time": "2021-11-26T14:41:56.508Z"
   },
   {
    "duration": 7,
    "start_time": "2021-11-26T14:41:56.517Z"
   },
   {
    "duration": 6,
    "start_time": "2021-11-26T14:41:56.527Z"
   },
   {
    "duration": 3,
    "start_time": "2021-11-26T14:41:56.541Z"
   },
   {
    "duration": 19,
    "start_time": "2021-11-26T14:41:56.547Z"
   },
   {
    "duration": 12,
    "start_time": "2021-11-26T14:41:56.569Z"
   },
   {
    "duration": 9,
    "start_time": "2021-11-26T14:41:56.583Z"
   },
   {
    "duration": 6,
    "start_time": "2021-11-26T14:41:56.595Z"
   },
   {
    "duration": 8,
    "start_time": "2021-11-26T14:41:56.604Z"
   },
   {
    "duration": 6,
    "start_time": "2021-11-26T14:41:56.615Z"
   },
   {
    "duration": 12,
    "start_time": "2021-11-26T14:41:56.623Z"
   },
   {
    "duration": 8,
    "start_time": "2021-11-26T14:41:56.638Z"
   },
   {
    "duration": 4,
    "start_time": "2021-11-26T14:41:56.666Z"
   },
   {
    "duration": 19,
    "start_time": "2021-11-26T14:41:56.672Z"
   },
   {
    "duration": 15,
    "start_time": "2021-11-26T14:41:56.693Z"
   },
   {
    "duration": 11,
    "start_time": "2021-11-26T14:41:56.710Z"
   },
   {
    "duration": 9,
    "start_time": "2021-11-26T14:41:56.724Z"
   },
   {
    "duration": 6,
    "start_time": "2021-11-26T14:43:06.388Z"
   },
   {
    "duration": 3,
    "start_time": "2021-11-26T14:43:28.655Z"
   },
   {
    "duration": 56,
    "start_time": "2021-11-26T14:56:26.646Z"
   },
   {
    "duration": 7,
    "start_time": "2021-11-26T14:56:57.330Z"
   },
   {
    "duration": 58,
    "start_time": "2021-11-26T14:58:25.263Z"
   },
   {
    "duration": 57,
    "start_time": "2021-11-26T14:58:35.916Z"
   },
   {
    "duration": 7,
    "start_time": "2021-11-26T14:58:43.406Z"
   },
   {
    "duration": 57,
    "start_time": "2021-11-26T15:00:52.381Z"
   },
   {
    "duration": 6,
    "start_time": "2021-11-26T15:00:57.541Z"
   },
   {
    "duration": 358,
    "start_time": "2021-11-28T04:36:58.064Z"
   },
   {
    "duration": 869,
    "start_time": "2021-11-28T04:37:04.771Z"
   },
   {
    "duration": 12,
    "start_time": "2021-11-28T04:37:05.643Z"
   },
   {
    "duration": 32,
    "start_time": "2021-11-28T04:37:05.657Z"
   },
   {
    "duration": 14,
    "start_time": "2021-11-28T04:37:05.692Z"
   },
   {
    "duration": 20,
    "start_time": "2021-11-28T04:37:05.708Z"
   },
   {
    "duration": 9,
    "start_time": "2021-11-28T04:37:05.730Z"
   },
   {
    "duration": 7,
    "start_time": "2021-11-28T04:37:05.741Z"
   },
   {
    "duration": 8,
    "start_time": "2021-11-28T04:37:05.784Z"
   },
   {
    "duration": 9,
    "start_time": "2021-11-28T04:37:05.795Z"
   },
   {
    "duration": 8,
    "start_time": "2021-11-28T04:37:05.807Z"
   },
   {
    "duration": 5,
    "start_time": "2021-11-28T04:37:05.818Z"
   },
   {
    "duration": 9,
    "start_time": "2021-11-28T04:37:05.826Z"
   },
   {
    "duration": 15,
    "start_time": "2021-11-28T04:37:05.883Z"
   },
   {
    "duration": 8,
    "start_time": "2021-11-28T04:37:05.901Z"
   },
   {
    "duration": 7,
    "start_time": "2021-11-28T04:37:05.911Z"
   },
   {
    "duration": 15,
    "start_time": "2021-11-28T04:37:05.920Z"
   },
   {
    "duration": 46,
    "start_time": "2021-11-28T04:37:05.937Z"
   },
   {
    "duration": 10,
    "start_time": "2021-11-28T04:37:05.986Z"
   },
   {
    "duration": 5,
    "start_time": "2021-11-28T04:37:05.999Z"
   },
   {
    "duration": 15,
    "start_time": "2021-11-28T04:37:06.007Z"
   },
   {
    "duration": 11,
    "start_time": "2021-11-28T04:37:06.025Z"
   },
   {
    "duration": 50,
    "start_time": "2021-11-28T04:37:06.038Z"
   },
   {
    "duration": 6,
    "start_time": "2021-11-28T04:37:06.094Z"
   },
   {
    "duration": 10,
    "start_time": "2021-11-28T04:37:06.104Z"
   },
   {
    "duration": 4,
    "start_time": "2021-11-28T04:37:06.116Z"
   },
   {
    "duration": 6,
    "start_time": "2021-11-28T04:37:06.122Z"
   },
   {
    "duration": 50,
    "start_time": "2021-11-28T04:37:06.131Z"
   },
   {
    "duration": 3,
    "start_time": "2021-11-28T04:37:06.184Z"
   },
   {
    "duration": 13,
    "start_time": "2021-11-28T04:37:06.190Z"
   },
   {
    "duration": 10,
    "start_time": "2021-11-28T04:37:06.205Z"
   },
   {
    "duration": 8,
    "start_time": "2021-11-28T04:37:06.217Z"
   },
   {
    "duration": 410,
    "start_time": "2021-11-28T04:37:06.227Z"
   },
   {
    "duration": 7,
    "start_time": "2021-11-28T04:37:06.639Z"
   },
   {
    "duration": 42,
    "start_time": "2021-11-28T04:37:06.648Z"
   },
   {
    "duration": 25,
    "start_time": "2021-11-28T04:37:06.692Z"
   },
   {
    "duration": 20,
    "start_time": "2021-11-28T04:37:06.719Z"
   },
   {
    "duration": 5,
    "start_time": "2021-11-28T04:37:06.741Z"
   },
   {
    "duration": 37,
    "start_time": "2021-11-28T04:37:06.748Z"
   },
   {
    "duration": 7,
    "start_time": "2021-11-28T04:37:06.787Z"
   },
   {
    "duration": 10,
    "start_time": "2021-11-28T04:37:06.796Z"
   },
   {
    "duration": 21,
    "start_time": "2021-11-28T04:37:06.809Z"
   },
   {
    "duration": 9,
    "start_time": "2021-11-28T04:37:06.833Z"
   },
   {
    "duration": 41,
    "start_time": "2021-11-28T04:37:06.845Z"
   },
   {
    "duration": 37,
    "start_time": "2021-11-28T04:37:06.889Z"
   },
   {
    "duration": 9,
    "start_time": "2021-11-28T04:37:06.929Z"
   },
   {
    "duration": 41,
    "start_time": "2021-11-28T04:37:06.941Z"
   },
   {
    "duration": 11,
    "start_time": "2021-11-28T04:37:06.985Z"
   },
   {
    "duration": 10,
    "start_time": "2021-11-28T04:37:06.998Z"
   },
   {
    "duration": 15,
    "start_time": "2021-11-28T04:37:07.010Z"
   },
   {
    "duration": 22,
    "start_time": "2021-11-28T04:37:07.027Z"
   },
   {
    "duration": 36,
    "start_time": "2021-11-28T04:37:07.052Z"
   },
   {
    "duration": 10,
    "start_time": "2021-11-28T04:37:07.090Z"
   },
   {
    "duration": 18,
    "start_time": "2021-11-28T04:37:07.102Z"
   },
   {
    "duration": 22,
    "start_time": "2021-11-28T04:37:07.122Z"
   },
   {
    "duration": 83,
    "start_time": "2021-11-28T04:37:07.146Z"
   },
   {
    "duration": 6,
    "start_time": "2021-11-28T04:37:07.231Z"
   },
   {
    "duration": 7,
    "start_time": "2021-11-28T04:37:07.239Z"
   },
   {
    "duration": 6,
    "start_time": "2021-11-28T04:37:07.248Z"
   },
   {
    "duration": 6,
    "start_time": "2021-11-28T04:37:07.257Z"
   },
   {
    "duration": 3,
    "start_time": "2021-11-28T04:37:07.283Z"
   },
   {
    "duration": 9,
    "start_time": "2021-11-28T04:37:07.289Z"
   },
   {
    "duration": 7,
    "start_time": "2021-11-28T04:37:07.300Z"
   },
   {
    "duration": 8,
    "start_time": "2021-11-28T04:37:07.310Z"
   },
   {
    "duration": 6,
    "start_time": "2021-11-28T04:37:07.320Z"
   },
   {
    "duration": 6,
    "start_time": "2021-11-28T04:37:07.329Z"
   },
   {
    "duration": 45,
    "start_time": "2021-11-28T04:37:07.337Z"
   },
   {
    "duration": 5,
    "start_time": "2021-11-28T04:37:07.385Z"
   },
   {
    "duration": 3,
    "start_time": "2021-11-28T04:37:07.400Z"
   },
   {
    "duration": 5,
    "start_time": "2021-11-28T04:37:07.405Z"
   },
   {
    "duration": 9,
    "start_time": "2021-11-28T04:37:07.412Z"
   },
   {
    "duration": 6,
    "start_time": "2021-11-28T04:37:07.424Z"
   },
   {
    "duration": 8,
    "start_time": "2021-11-28T04:37:07.432Z"
   },
   {
    "duration": 40,
    "start_time": "2021-11-28T04:37:07.442Z"
   },
   {
    "duration": 5,
    "start_time": "2021-11-28T04:37:07.485Z"
   },
   {
    "duration": 5,
    "start_time": "2021-11-28T04:37:07.493Z"
   },
   {
    "duration": 5,
    "start_time": "2021-11-28T04:37:07.500Z"
   },
   {
    "duration": 6,
    "start_time": "2021-11-28T04:37:07.507Z"
   },
   {
    "duration": 5,
    "start_time": "2021-11-28T04:37:07.516Z"
   },
   {
    "duration": 5,
    "start_time": "2021-11-28T04:37:07.524Z"
   },
   {
    "duration": 6,
    "start_time": "2021-11-28T04:37:07.532Z"
   },
   {
    "duration": 46,
    "start_time": "2021-11-28T04:37:07.540Z"
   },
   {
    "duration": 78,
    "start_time": "2021-11-28T04:37:20.668Z"
   },
   {
    "duration": 7,
    "start_time": "2021-11-28T04:37:23.971Z"
   },
   {
    "duration": 418,
    "start_time": "2021-11-29T11:07:30.248Z"
   },
   {
    "duration": 985,
    "start_time": "2021-11-29T11:07:41.449Z"
   },
   {
    "duration": 13,
    "start_time": "2021-11-29T11:07:42.437Z"
   },
   {
    "duration": 36,
    "start_time": "2021-11-29T11:07:42.452Z"
   },
   {
    "duration": 18,
    "start_time": "2021-11-29T11:07:42.491Z"
   },
   {
    "duration": 22,
    "start_time": "2021-11-29T11:07:42.511Z"
   },
   {
    "duration": 45,
    "start_time": "2021-11-29T11:07:42.536Z"
   },
   {
    "duration": 11,
    "start_time": "2021-11-29T11:07:42.584Z"
   },
   {
    "duration": 12,
    "start_time": "2021-11-29T11:07:42.598Z"
   },
   {
    "duration": 9,
    "start_time": "2021-11-29T11:07:42.613Z"
   },
   {
    "duration": 8,
    "start_time": "2021-11-29T11:07:42.624Z"
   },
   {
    "duration": 48,
    "start_time": "2021-11-29T11:07:42.634Z"
   },
   {
    "duration": 21,
    "start_time": "2021-11-29T11:07:42.684Z"
   },
   {
    "duration": 19,
    "start_time": "2021-11-29T11:07:42.707Z"
   },
   {
    "duration": 10,
    "start_time": "2021-11-29T11:07:42.729Z"
   },
   {
    "duration": 41,
    "start_time": "2021-11-29T11:07:42.742Z"
   },
   {
    "duration": 14,
    "start_time": "2021-11-29T11:07:42.785Z"
   },
   {
    "duration": 11,
    "start_time": "2021-11-29T11:07:42.802Z"
   },
   {
    "duration": 11,
    "start_time": "2021-11-29T11:07:42.815Z"
   },
   {
    "duration": 9,
    "start_time": "2021-11-29T11:07:42.829Z"
   },
   {
    "duration": 49,
    "start_time": "2021-11-29T11:07:42.841Z"
   },
   {
    "duration": 11,
    "start_time": "2021-11-29T11:07:42.893Z"
   },
   {
    "duration": 19,
    "start_time": "2021-11-29T11:07:42.906Z"
   },
   {
    "duration": 8,
    "start_time": "2021-11-29T11:07:42.933Z"
   },
   {
    "duration": 10,
    "start_time": "2021-11-29T11:07:42.986Z"
   },
   {
    "duration": 7,
    "start_time": "2021-11-29T11:07:42.999Z"
   },
   {
    "duration": 7,
    "start_time": "2021-11-29T11:07:43.008Z"
   },
   {
    "duration": 13,
    "start_time": "2021-11-29T11:07:43.018Z"
   },
   {
    "duration": 6,
    "start_time": "2021-11-29T11:07:43.034Z"
   },
   {
    "duration": 40,
    "start_time": "2021-11-29T11:07:43.042Z"
   },
   {
    "duration": 7,
    "start_time": "2021-11-29T11:07:43.085Z"
   },
   {
    "duration": 8,
    "start_time": "2021-11-29T11:07:43.095Z"
   },
   {
    "duration": 445,
    "start_time": "2021-11-29T11:07:43.105Z"
   },
   {
    "duration": 9,
    "start_time": "2021-11-29T11:07:43.553Z"
   },
   {
    "duration": 40,
    "start_time": "2021-11-29T11:07:43.564Z"
   },
   {
    "duration": 24,
    "start_time": "2021-11-29T11:07:43.606Z"
   },
   {
    "duration": 53,
    "start_time": "2021-11-29T11:07:43.632Z"
   },
   {
    "duration": 5,
    "start_time": "2021-11-29T11:07:43.687Z"
   },
   {
    "duration": 18,
    "start_time": "2021-11-29T11:07:43.694Z"
   },
   {
    "duration": 6,
    "start_time": "2021-11-29T11:07:43.715Z"
   },
   {
    "duration": 9,
    "start_time": "2021-11-29T11:07:43.724Z"
   },
   {
    "duration": 28,
    "start_time": "2021-11-29T11:07:43.735Z"
   },
   {
    "duration": 10,
    "start_time": "2021-11-29T11:07:43.782Z"
   },
   {
    "duration": 433,
    "start_time": "2021-11-29T11:07:43.794Z"
   },
   {
    "duration": -1368,
    "start_time": "2021-11-29T11:07:45.599Z"
   },
   {
    "duration": -1372,
    "start_time": "2021-11-29T11:07:45.604Z"
   },
   {
    "duration": -1445,
    "start_time": "2021-11-29T11:07:45.679Z"
   },
   {
    "duration": -1455,
    "start_time": "2021-11-29T11:07:45.690Z"
   },
   {
    "duration": -1458,
    "start_time": "2021-11-29T11:07:45.695Z"
   },
   {
    "duration": -1471,
    "start_time": "2021-11-29T11:07:45.709Z"
   },
   {
    "duration": -1476,
    "start_time": "2021-11-29T11:07:45.715Z"
   },
   {
    "duration": -1480,
    "start_time": "2021-11-29T11:07:45.721Z"
   },
   {
    "duration": -1482,
    "start_time": "2021-11-29T11:07:45.725Z"
   },
   {
    "duration": -1486,
    "start_time": "2021-11-29T11:07:45.731Z"
   },
   {
    "duration": -1505,
    "start_time": "2021-11-29T11:07:45.751Z"
   },
   {
    "duration": -1510,
    "start_time": "2021-11-29T11:07:45.758Z"
   },
   {
    "duration": -1516,
    "start_time": "2021-11-29T11:07:45.766Z"
   },
   {
    "duration": -1522,
    "start_time": "2021-11-29T11:07:45.774Z"
   },
   {
    "duration": -1528,
    "start_time": "2021-11-29T11:07:45.781Z"
   },
   {
    "duration": -1532,
    "start_time": "2021-11-29T11:07:45.787Z"
   },
   {
    "duration": -1534,
    "start_time": "2021-11-29T11:07:45.791Z"
   },
   {
    "duration": -1539,
    "start_time": "2021-11-29T11:07:45.798Z"
   },
   {
    "duration": -1596,
    "start_time": "2021-11-29T11:07:45.857Z"
   },
   {
    "duration": -1613,
    "start_time": "2021-11-29T11:07:45.876Z"
   },
   {
    "duration": -1617,
    "start_time": "2021-11-29T11:07:45.882Z"
   },
   {
    "duration": -1621,
    "start_time": "2021-11-29T11:07:45.888Z"
   },
   {
    "duration": -1612,
    "start_time": "2021-11-29T11:07:45.893Z"
   },
   {
    "duration": -1615,
    "start_time": "2021-11-29T11:07:45.898Z"
   },
   {
    "duration": -1619,
    "start_time": "2021-11-29T11:07:45.904Z"
   },
   {
    "duration": -1621,
    "start_time": "2021-11-29T11:07:45.908Z"
   },
   {
    "duration": -1623,
    "start_time": "2021-11-29T11:07:45.912Z"
   },
   {
    "duration": -1628,
    "start_time": "2021-11-29T11:07:45.919Z"
   },
   {
    "duration": -1633,
    "start_time": "2021-11-29T11:07:45.926Z"
   },
   {
    "duration": -1637,
    "start_time": "2021-11-29T11:07:45.932Z"
   },
   {
    "duration": -1641,
    "start_time": "2021-11-29T11:07:45.938Z"
   },
   {
    "duration": -1643,
    "start_time": "2021-11-29T11:07:45.942Z"
   },
   {
    "duration": -1645,
    "start_time": "2021-11-29T11:07:45.946Z"
   },
   {
    "duration": -1648,
    "start_time": "2021-11-29T11:07:45.951Z"
   },
   {
    "duration": -1688,
    "start_time": "2021-11-29T11:07:45.993Z"
   },
   {
    "duration": -1713,
    "start_time": "2021-11-29T11:07:46.020Z"
   },
   {
    "duration": -1714,
    "start_time": "2021-11-29T11:07:46.023Z"
   },
   {
    "duration": -1716,
    "start_time": "2021-11-29T11:07:46.027Z"
   },
   {
    "duration": 6,
    "start_time": "2021-11-29T11:08:05.895Z"
   },
   {
    "duration": 37,
    "start_time": "2021-11-29T11:08:12.209Z"
   },
   {
    "duration": 10,
    "start_time": "2021-11-29T11:09:08.639Z"
   },
   {
    "duration": 10,
    "start_time": "2021-11-29T11:09:14.183Z"
   },
   {
    "duration": 11,
    "start_time": "2021-11-29T11:11:07.896Z"
   },
   {
    "duration": 10,
    "start_time": "2021-11-29T11:11:10.289Z"
   },
   {
    "duration": 11,
    "start_time": "2021-11-29T11:11:43.177Z"
   },
   {
    "duration": 10,
    "start_time": "2021-11-29T11:11:45.424Z"
   },
   {
    "duration": 10,
    "start_time": "2021-11-29T11:12:12.177Z"
   },
   {
    "duration": 10,
    "start_time": "2021-11-29T11:12:22.206Z"
   },
   {
    "duration": 8,
    "start_time": "2021-11-29T11:12:27.749Z"
   },
   {
    "duration": 25,
    "start_time": "2021-11-29T11:12:59.135Z"
   },
   {
    "duration": 902,
    "start_time": "2021-11-29T11:23:29.935Z"
   },
   {
    "duration": 1009,
    "start_time": "2021-11-29T12:18:52.245Z"
   },
   {
    "duration": 4,
    "start_time": "2021-11-29T12:50:38.856Z"
   },
   {
    "duration": 339,
    "start_time": "2021-11-29T12:57:17.824Z"
   },
   {
    "duration": 18,
    "start_time": "2021-11-29T12:57:28.525Z"
   },
   {
    "duration": 16,
    "start_time": "2021-11-29T12:57:32.899Z"
   },
   {
    "duration": 6,
    "start_time": "2021-11-29T12:57:39.611Z"
   },
   {
    "duration": 6,
    "start_time": "2021-11-29T13:10:38.688Z"
   },
   {
    "duration": 353,
    "start_time": "2021-11-29T13:16:34.492Z"
   },
   {
    "duration": 10,
    "start_time": "2021-11-29T13:16:49.140Z"
   },
   {
    "duration": 10,
    "start_time": "2021-11-29T13:17:49.708Z"
   },
   {
    "duration": 124,
    "start_time": "2021-11-29T13:19:41.211Z"
   },
   {
    "duration": 13,
    "start_time": "2021-11-29T13:19:51.897Z"
   },
   {
    "duration": 6,
    "start_time": "2021-11-29T13:33:15.383Z"
   },
   {
    "duration": 12,
    "start_time": "2021-11-29T13:34:51.421Z"
   },
   {
    "duration": 16,
    "start_time": "2021-11-29T13:34:56.741Z"
   },
   {
    "duration": 6,
    "start_time": "2021-11-29T13:35:00.336Z"
   },
   {
    "duration": 16,
    "start_time": "2021-11-29T13:35:07.498Z"
   },
   {
    "duration": 7,
    "start_time": "2021-11-29T13:35:10.520Z"
   },
   {
    "duration": 6,
    "start_time": "2021-11-29T13:35:44.019Z"
   },
   {
    "duration": 17,
    "start_time": "2021-11-29T13:36:19.454Z"
   },
   {
    "duration": 9,
    "start_time": "2021-11-29T13:52:55.510Z"
   },
   {
    "duration": 10,
    "start_time": "2021-11-29T13:53:03.213Z"
   },
   {
    "duration": 5,
    "start_time": "2021-11-29T13:54:59.123Z"
   },
   {
    "duration": 17,
    "start_time": "2021-11-29T13:55:08.690Z"
   },
   {
    "duration": 10,
    "start_time": "2021-11-29T13:55:13.418Z"
   },
   {
    "duration": 14,
    "start_time": "2021-11-29T13:55:24.678Z"
   },
   {
    "duration": 13,
    "start_time": "2021-11-29T13:55:30.658Z"
   },
   {
    "duration": 16,
    "start_time": "2021-11-29T13:55:57.221Z"
   },
   {
    "duration": 116,
    "start_time": "2021-11-29T14:54:02.865Z"
   },
   {
    "duration": 16,
    "start_time": "2021-11-29T14:54:16.937Z"
   },
   {
    "duration": 353,
    "start_time": "2021-11-30T06:43:29.637Z"
   },
   {
    "duration": 699,
    "start_time": "2021-11-30T06:43:39.005Z"
   },
   {
    "duration": 8,
    "start_time": "2021-11-30T06:43:39.705Z"
   },
   {
    "duration": 14,
    "start_time": "2021-11-30T06:43:39.715Z"
   },
   {
    "duration": 14,
    "start_time": "2021-11-30T06:43:39.731Z"
   },
   {
    "duration": 8,
    "start_time": "2021-11-30T06:43:39.747Z"
   },
   {
    "duration": 14,
    "start_time": "2021-11-30T06:43:39.757Z"
   },
   {
    "duration": 5,
    "start_time": "2021-11-30T06:43:39.773Z"
   },
   {
    "duration": 5,
    "start_time": "2021-11-30T06:43:39.781Z"
   },
   {
    "duration": 5,
    "start_time": "2021-11-30T06:43:39.788Z"
   },
   {
    "duration": 5,
    "start_time": "2021-11-30T06:43:39.794Z"
   },
   {
    "duration": 3,
    "start_time": "2021-11-30T06:43:39.801Z"
   },
   {
    "duration": 40,
    "start_time": "2021-11-30T06:43:39.806Z"
   },
   {
    "duration": 10,
    "start_time": "2021-11-30T06:43:39.847Z"
   },
   {
    "duration": 7,
    "start_time": "2021-11-30T06:43:39.859Z"
   },
   {
    "duration": 7,
    "start_time": "2021-11-30T06:43:39.867Z"
   },
   {
    "duration": 10,
    "start_time": "2021-11-30T06:43:39.875Z"
   },
   {
    "duration": 6,
    "start_time": "2021-11-30T06:43:39.887Z"
   },
   {
    "duration": 8,
    "start_time": "2021-11-30T06:43:39.894Z"
   },
   {
    "duration": 41,
    "start_time": "2021-11-30T06:43:39.904Z"
   },
   {
    "duration": 8,
    "start_time": "2021-11-30T06:43:39.947Z"
   },
   {
    "duration": 6,
    "start_time": "2021-11-30T06:43:39.957Z"
   },
   {
    "duration": 6,
    "start_time": "2021-11-30T06:43:39.964Z"
   },
   {
    "duration": 4,
    "start_time": "2021-11-30T06:43:39.975Z"
   },
   {
    "duration": 9,
    "start_time": "2021-11-30T06:43:39.981Z"
   },
   {
    "duration": 3,
    "start_time": "2021-11-30T06:43:39.992Z"
   },
   {
    "duration": 4,
    "start_time": "2021-11-30T06:43:39.997Z"
   },
   {
    "duration": 48,
    "start_time": "2021-11-30T06:43:40.002Z"
   },
   {
    "duration": 4,
    "start_time": "2021-11-30T06:43:40.052Z"
   },
   {
    "duration": 5,
    "start_time": "2021-11-30T06:43:40.057Z"
   },
   {
    "duration": 9,
    "start_time": "2021-11-30T06:43:40.063Z"
   },
   {
    "duration": 5,
    "start_time": "2021-11-30T06:43:40.073Z"
   },
   {
    "duration": 289,
    "start_time": "2021-11-30T06:43:40.080Z"
   },
   {
    "duration": 4,
    "start_time": "2021-11-30T06:43:40.371Z"
   },
   {
    "duration": 15,
    "start_time": "2021-11-30T06:43:40.377Z"
   },
   {
    "duration": 15,
    "start_time": "2021-11-30T06:43:40.394Z"
   },
   {
    "duration": 39,
    "start_time": "2021-11-30T06:43:40.411Z"
   },
   {
    "duration": 3,
    "start_time": "2021-11-30T06:43:40.452Z"
   },
   {
    "duration": 3,
    "start_time": "2021-11-30T06:43:40.457Z"
   },
   {
    "duration": 4,
    "start_time": "2021-11-30T06:43:40.462Z"
   },
   {
    "duration": 5,
    "start_time": "2021-11-30T06:43:40.468Z"
   },
   {
    "duration": 15,
    "start_time": "2021-11-30T06:43:40.475Z"
   },
   {
    "duration": 6,
    "start_time": "2021-11-30T06:43:40.492Z"
   },
   {
    "duration": 5,
    "start_time": "2021-11-30T06:43:40.500Z"
   },
   {
    "duration": 52,
    "start_time": "2021-11-30T06:43:40.506Z"
   },
   {
    "duration": 6,
    "start_time": "2021-11-30T06:43:40.560Z"
   },
   {
    "duration": 7,
    "start_time": "2021-11-30T06:43:40.567Z"
   },
   {
    "duration": 6,
    "start_time": "2021-11-30T06:43:40.576Z"
   },
   {
    "duration": 7,
    "start_time": "2021-11-30T06:43:40.584Z"
   },
   {
    "duration": 6,
    "start_time": "2021-11-30T06:43:40.593Z"
   },
   {
    "duration": 6,
    "start_time": "2021-11-30T06:43:40.601Z"
   },
   {
    "duration": 7,
    "start_time": "2021-11-30T06:43:40.645Z"
   },
   {
    "duration": 6,
    "start_time": "2021-11-30T06:43:40.654Z"
   },
   {
    "duration": 7,
    "start_time": "2021-11-30T06:43:40.661Z"
   },
   {
    "duration": 12,
    "start_time": "2021-11-30T06:43:40.670Z"
   },
   {
    "duration": 2,
    "start_time": "2021-11-30T06:43:40.684Z"
   },
   {
    "duration": 13,
    "start_time": "2021-11-30T06:43:40.687Z"
   },
   {
    "duration": 4,
    "start_time": "2021-11-30T06:43:40.701Z"
   },
   {
    "duration": 39,
    "start_time": "2021-11-30T06:43:40.706Z"
   },
   {
    "duration": 9,
    "start_time": "2021-11-30T06:43:40.746Z"
   },
   {
    "duration": 7,
    "start_time": "2021-11-30T06:43:40.756Z"
   },
   {
    "duration": 6,
    "start_time": "2021-11-30T06:43:40.764Z"
   },
   {
    "duration": 9,
    "start_time": "2021-11-30T06:43:40.771Z"
   },
   {
    "duration": 6,
    "start_time": "2021-11-30T06:43:40.781Z"
   },
   {
    "duration": 10,
    "start_time": "2021-11-30T06:43:40.788Z"
   },
   {
    "duration": 2,
    "start_time": "2021-11-30T06:43:40.799Z"
   },
   {
    "duration": 4,
    "start_time": "2021-11-30T06:43:40.802Z"
   },
   {
    "duration": 3,
    "start_time": "2021-11-30T06:43:40.808Z"
   },
   {
    "duration": 2,
    "start_time": "2021-11-30T06:43:40.845Z"
   },
   {
    "duration": 8,
    "start_time": "2021-11-30T06:43:40.849Z"
   },
   {
    "duration": 12,
    "start_time": "2021-11-30T06:43:40.859Z"
   },
   {
    "duration": 4,
    "start_time": "2021-11-30T06:43:40.873Z"
   },
   {
    "duration": 5,
    "start_time": "2021-11-30T06:43:40.878Z"
   },
   {
    "duration": 11,
    "start_time": "2021-11-30T06:43:40.885Z"
   },
   {
    "duration": 4,
    "start_time": "2021-11-30T06:43:40.898Z"
   },
   {
    "duration": 4,
    "start_time": "2021-11-30T06:43:40.904Z"
   },
   {
    "duration": 4,
    "start_time": "2021-11-30T06:43:40.910Z"
   },
   {
    "duration": 2,
    "start_time": "2021-11-30T06:43:40.945Z"
   },
   {
    "duration": 5,
    "start_time": "2021-11-30T06:43:40.948Z"
   },
   {
    "duration": 6,
    "start_time": "2021-11-30T06:43:40.955Z"
   },
   {
    "duration": 4,
    "start_time": "2021-11-30T06:43:40.963Z"
   },
   {
    "duration": 6,
    "start_time": "2021-11-30T06:43:40.968Z"
   },
   {
    "duration": 5,
    "start_time": "2021-11-30T06:43:40.975Z"
   },
   {
    "duration": 19,
    "start_time": "2021-11-30T06:43:40.982Z"
   },
   {
    "duration": 4,
    "start_time": "2021-11-30T06:43:41.002Z"
   },
   {
    "duration": 5,
    "start_time": "2021-11-30T06:43:41.008Z"
   },
   {
    "duration": 3,
    "start_time": "2021-11-30T06:43:41.015Z"
   },
   {
    "duration": 4,
    "start_time": "2021-11-30T06:43:41.020Z"
   },
   {
    "duration": 27,
    "start_time": "2021-11-30T06:44:06.547Z"
   },
   {
    "duration": 8,
    "start_time": "2021-11-30T06:50:54.345Z"
   },
   {
    "duration": 7,
    "start_time": "2021-11-30T06:53:32.653Z"
   },
   {
    "duration": 8,
    "start_time": "2021-11-30T06:55:27.185Z"
   },
   {
    "duration": 9,
    "start_time": "2021-11-30T08:06:12.314Z"
   },
   {
    "duration": 5,
    "start_time": "2021-11-30T08:07:01.350Z"
   },
   {
    "duration": 5,
    "start_time": "2021-11-30T08:07:11.137Z"
   },
   {
    "duration": 4,
    "start_time": "2021-11-30T08:07:24.165Z"
   },
   {
    "duration": 5,
    "start_time": "2021-11-30T08:07:32.010Z"
   },
   {
    "duration": 5,
    "start_time": "2021-11-30T08:07:40.144Z"
   },
   {
    "duration": 5,
    "start_time": "2021-11-30T08:07:50.887Z"
   },
   {
    "duration": 298,
    "start_time": "2021-11-30T08:20:55.695Z"
   },
   {
    "duration": 292,
    "start_time": "2021-11-30T08:21:14.333Z"
   },
   {
    "duration": 45,
    "start_time": "2021-11-30T08:21:21.380Z"
   },
   {
    "duration": 3,
    "start_time": "2021-11-30T08:21:21.427Z"
   },
   {
    "duration": 29,
    "start_time": "2021-11-30T08:21:21.432Z"
   },
   {
    "duration": 27,
    "start_time": "2021-11-30T08:21:21.463Z"
   },
   {
    "duration": 11,
    "start_time": "2021-11-30T08:21:21.492Z"
   },
   {
    "duration": 22,
    "start_time": "2021-11-30T08:21:21.504Z"
   },
   {
    "duration": 10,
    "start_time": "2021-11-30T08:21:21.528Z"
   },
   {
    "duration": 21,
    "start_time": "2021-11-30T08:21:21.540Z"
   },
   {
    "duration": 15,
    "start_time": "2021-11-30T08:21:21.563Z"
   },
   {
    "duration": 17,
    "start_time": "2021-11-30T08:21:21.580Z"
   },
   {
    "duration": 19,
    "start_time": "2021-11-30T08:21:21.598Z"
   },
   {
    "duration": 21,
    "start_time": "2021-11-30T08:21:21.619Z"
   },
   {
    "duration": 15,
    "start_time": "2021-11-30T08:21:21.642Z"
   },
   {
    "duration": 7,
    "start_time": "2021-11-30T08:21:21.659Z"
   },
   {
    "duration": 6,
    "start_time": "2021-11-30T08:21:21.668Z"
   },
   {
    "duration": 13,
    "start_time": "2021-11-30T08:21:21.675Z"
   },
   {
    "duration": 15,
    "start_time": "2021-11-30T08:21:21.690Z"
   },
   {
    "duration": 11,
    "start_time": "2021-11-30T08:21:21.707Z"
   },
   {
    "duration": 9,
    "start_time": "2021-11-30T08:21:21.720Z"
   },
   {
    "duration": 18,
    "start_time": "2021-11-30T08:21:21.731Z"
   },
   {
    "duration": 6,
    "start_time": "2021-11-30T08:21:21.750Z"
   },
   {
    "duration": 6,
    "start_time": "2021-11-30T08:21:21.758Z"
   },
   {
    "duration": 20,
    "start_time": "2021-11-30T08:21:21.766Z"
   },
   {
    "duration": 18,
    "start_time": "2021-11-30T08:21:21.788Z"
   },
   {
    "duration": 20,
    "start_time": "2021-11-30T08:21:21.808Z"
   },
   {
    "duration": 10,
    "start_time": "2021-11-30T08:21:21.832Z"
   },
   {
    "duration": 10,
    "start_time": "2021-11-30T08:21:21.845Z"
   },
   {
    "duration": 6,
    "start_time": "2021-11-30T08:21:21.857Z"
   },
   {
    "duration": 11,
    "start_time": "2021-11-30T08:21:21.865Z"
   },
   {
    "duration": 18,
    "start_time": "2021-11-30T08:21:21.878Z"
   },
   {
    "duration": 9,
    "start_time": "2021-11-30T08:21:21.897Z"
   },
   {
    "duration": 279,
    "start_time": "2021-11-30T08:21:21.907Z"
   },
   {
    "duration": 5,
    "start_time": "2021-11-30T08:21:22.187Z"
   },
   {
    "duration": 29,
    "start_time": "2021-11-30T08:21:22.194Z"
   },
   {
    "duration": 36,
    "start_time": "2021-11-30T08:21:22.225Z"
   },
   {
    "duration": 28,
    "start_time": "2021-11-30T08:21:22.263Z"
   },
   {
    "duration": 4,
    "start_time": "2021-11-30T08:21:22.293Z"
   },
   {
    "duration": 27,
    "start_time": "2021-11-30T08:21:22.298Z"
   },
   {
    "duration": 23,
    "start_time": "2021-11-30T08:21:22.327Z"
   },
   {
    "duration": 52,
    "start_time": "2021-11-30T08:21:22.352Z"
   },
   {
    "duration": 37,
    "start_time": "2021-11-30T08:21:22.405Z"
   },
   {
    "duration": 33,
    "start_time": "2021-11-30T08:21:22.443Z"
   },
   {
    "duration": 31,
    "start_time": "2021-11-30T08:21:22.478Z"
   },
   {
    "duration": 46,
    "start_time": "2021-11-30T08:21:22.511Z"
   },
   {
    "duration": 7,
    "start_time": "2021-11-30T08:21:22.559Z"
   },
   {
    "duration": 29,
    "start_time": "2021-11-30T08:21:22.567Z"
   },
   {
    "duration": 15,
    "start_time": "2021-11-30T08:21:22.598Z"
   },
   {
    "duration": 32,
    "start_time": "2021-11-30T08:21:22.615Z"
   },
   {
    "duration": 37,
    "start_time": "2021-11-30T08:21:22.649Z"
   },
   {
    "duration": 20,
    "start_time": "2021-11-30T08:21:22.689Z"
   },
   {
    "duration": 25,
    "start_time": "2021-11-30T08:21:22.711Z"
   },
   {
    "duration": 43,
    "start_time": "2021-11-30T08:21:22.738Z"
   },
   {
    "duration": 21,
    "start_time": "2021-11-30T08:21:22.784Z"
   },
   {
    "duration": 47,
    "start_time": "2021-11-30T08:21:22.807Z"
   },
   {
    "duration": 15,
    "start_time": "2021-11-30T08:21:22.856Z"
   },
   {
    "duration": 45,
    "start_time": "2021-11-30T08:21:22.873Z"
   },
   {
    "duration": 18,
    "start_time": "2021-11-30T08:21:22.919Z"
   },
   {
    "duration": 19,
    "start_time": "2021-11-30T08:21:22.939Z"
   },
   {
    "duration": 26,
    "start_time": "2021-11-30T08:21:22.963Z"
   },
   {
    "duration": 18,
    "start_time": "2021-11-30T08:21:22.991Z"
   },
   {
    "duration": 35,
    "start_time": "2021-11-30T08:21:23.010Z"
   },
   {
    "duration": 22,
    "start_time": "2021-11-30T08:21:23.047Z"
   },
   {
    "duration": 22,
    "start_time": "2021-11-30T08:21:23.071Z"
   },
   {
    "duration": 41,
    "start_time": "2021-11-30T08:21:23.095Z"
   },
   {
    "duration": 11,
    "start_time": "2021-11-30T08:21:23.138Z"
   },
   {
    "duration": 18,
    "start_time": "2021-11-30T08:21:23.150Z"
   },
   {
    "duration": 14,
    "start_time": "2021-11-30T08:21:23.170Z"
   },
   {
    "duration": 13,
    "start_time": "2021-11-30T08:21:23.186Z"
   },
   {
    "duration": 8,
    "start_time": "2021-11-30T08:21:23.201Z"
   },
   {
    "duration": 18,
    "start_time": "2021-11-30T08:21:23.210Z"
   },
   {
    "duration": 6,
    "start_time": "2021-11-30T08:21:23.230Z"
   },
   {
    "duration": 7,
    "start_time": "2021-11-30T08:21:23.238Z"
   },
   {
    "duration": 19,
    "start_time": "2021-11-30T08:21:23.246Z"
   },
   {
    "duration": 14,
    "start_time": "2021-11-30T08:21:23.266Z"
   },
   {
    "duration": 16,
    "start_time": "2021-11-30T08:21:23.282Z"
   },
   {
    "duration": 10,
    "start_time": "2021-11-30T08:21:23.300Z"
   },
   {
    "duration": 20,
    "start_time": "2021-11-30T08:21:23.311Z"
   },
   {
    "duration": 14,
    "start_time": "2021-11-30T08:21:23.333Z"
   },
   {
    "duration": 13,
    "start_time": "2021-11-30T08:21:23.348Z"
   },
   {
    "duration": 22,
    "start_time": "2021-11-30T08:21:23.363Z"
   },
   {
    "duration": 25,
    "start_time": "2021-11-30T08:21:23.388Z"
   },
   {
    "duration": 299,
    "start_time": "2021-11-30T08:21:23.415Z"
   },
   {
    "duration": -1684,
    "start_time": "2021-11-30T08:21:25.400Z"
   },
   {
    "duration": -1690,
    "start_time": "2021-11-30T08:21:25.407Z"
   },
   {
    "duration": -1694,
    "start_time": "2021-11-30T08:21:25.412Z"
   },
   {
    "duration": -1697,
    "start_time": "2021-11-30T08:21:25.416Z"
   },
   {
    "duration": -1703,
    "start_time": "2021-11-30T08:21:25.423Z"
   },
   {
    "duration": 7,
    "start_time": "2021-11-30T08:22:08.420Z"
   },
   {
    "duration": 10,
    "start_time": "2021-11-30T08:23:46.947Z"
   },
   {
    "duration": 4,
    "start_time": "2021-11-30T08:25:08.036Z"
   },
   {
    "duration": 8,
    "start_time": "2021-11-30T08:25:10.793Z"
   },
   {
    "duration": 7,
    "start_time": "2021-11-30T08:25:17.280Z"
   },
   {
    "duration": 8,
    "start_time": "2021-11-30T08:25:45.385Z"
   },
   {
    "duration": 663,
    "start_time": "2021-11-30T12:43:18.450Z"
   },
   {
    "duration": 930,
    "start_time": "2021-11-30T12:43:28.050Z"
   },
   {
    "duration": 12,
    "start_time": "2021-11-30T12:43:28.983Z"
   },
   {
    "duration": 28,
    "start_time": "2021-11-30T12:43:28.999Z"
   },
   {
    "duration": 16,
    "start_time": "2021-11-30T12:43:29.029Z"
   },
   {
    "duration": 40,
    "start_time": "2021-11-30T12:43:29.048Z"
   },
   {
    "duration": 10,
    "start_time": "2021-11-30T12:43:29.091Z"
   },
   {
    "duration": 8,
    "start_time": "2021-11-30T12:43:29.103Z"
   },
   {
    "duration": 8,
    "start_time": "2021-11-30T12:43:29.114Z"
   },
   {
    "duration": 55,
    "start_time": "2021-11-30T12:43:29.126Z"
   },
   {
    "duration": 9,
    "start_time": "2021-11-30T12:43:29.185Z"
   },
   {
    "duration": 5,
    "start_time": "2021-11-30T12:43:29.197Z"
   },
   {
    "duration": 11,
    "start_time": "2021-11-30T12:43:29.205Z"
   },
   {
    "duration": 17,
    "start_time": "2021-11-30T12:43:29.219Z"
   },
   {
    "duration": 44,
    "start_time": "2021-11-30T12:43:29.239Z"
   },
   {
    "duration": 12,
    "start_time": "2021-11-30T12:43:29.286Z"
   },
   {
    "duration": 16,
    "start_time": "2021-11-30T12:43:29.301Z"
   },
   {
    "duration": 10,
    "start_time": "2021-11-30T12:43:29.319Z"
   },
   {
    "duration": 10,
    "start_time": "2021-11-30T12:43:29.332Z"
   },
   {
    "duration": 7,
    "start_time": "2021-11-30T12:43:29.383Z"
   },
   {
    "duration": 18,
    "start_time": "2021-11-30T12:43:29.393Z"
   },
   {
    "duration": 10,
    "start_time": "2021-11-30T12:43:29.414Z"
   },
   {
    "duration": 10,
    "start_time": "2021-11-30T12:43:29.426Z"
   },
   {
    "duration": 50,
    "start_time": "2021-11-30T12:43:29.439Z"
   },
   {
    "duration": 22,
    "start_time": "2021-11-30T12:43:29.493Z"
   },
   {
    "duration": 4,
    "start_time": "2021-11-30T12:43:29.518Z"
   },
   {
    "duration": 6,
    "start_time": "2021-11-30T12:43:29.525Z"
   },
   {
    "duration": 42,
    "start_time": "2021-11-30T12:43:29.542Z"
   },
   {
    "duration": 4,
    "start_time": "2021-11-30T12:43:29.589Z"
   },
   {
    "duration": 11,
    "start_time": "2021-11-30T12:43:29.596Z"
   },
   {
    "duration": 10,
    "start_time": "2021-11-30T12:43:29.610Z"
   },
   {
    "duration": 8,
    "start_time": "2021-11-30T12:43:29.622Z"
   },
   {
    "duration": 693,
    "start_time": "2021-11-30T12:43:29.633Z"
   },
   {
    "duration": 8,
    "start_time": "2021-11-30T12:43:30.329Z"
   },
   {
    "duration": 52,
    "start_time": "2021-11-30T12:43:30.339Z"
   },
   {
    "duration": 25,
    "start_time": "2021-11-30T12:43:30.394Z"
   },
   {
    "duration": 23,
    "start_time": "2021-11-30T12:43:30.421Z"
   },
   {
    "duration": 7,
    "start_time": "2021-11-30T12:43:30.447Z"
   },
   {
    "duration": 3,
    "start_time": "2021-11-30T12:43:30.483Z"
   },
   {
    "duration": 37,
    "start_time": "2021-11-30T12:43:30.488Z"
   },
   {
    "duration": 25,
    "start_time": "2021-11-30T12:43:30.528Z"
   },
   {
    "duration": 40,
    "start_time": "2021-11-30T12:43:30.556Z"
   },
   {
    "duration": 12,
    "start_time": "2021-11-30T12:43:30.599Z"
   },
   {
    "duration": 21,
    "start_time": "2021-11-30T12:43:30.613Z"
   },
   {
    "duration": 47,
    "start_time": "2021-11-30T12:43:30.636Z"
   },
   {
    "duration": 10,
    "start_time": "2021-11-30T12:43:30.686Z"
   },
   {
    "duration": 20,
    "start_time": "2021-11-30T12:43:30.699Z"
   },
   {
    "duration": 24,
    "start_time": "2021-11-30T12:43:30.722Z"
   },
   {
    "duration": 40,
    "start_time": "2021-11-30T12:43:30.749Z"
   },
   {
    "duration": 38,
    "start_time": "2021-11-30T12:43:30.791Z"
   },
   {
    "duration": 24,
    "start_time": "2021-11-30T12:43:30.831Z"
   },
   {
    "duration": 15,
    "start_time": "2021-11-30T12:43:30.858Z"
   },
   {
    "duration": 26,
    "start_time": "2021-11-30T12:43:30.876Z"
   },
   {
    "duration": 28,
    "start_time": "2021-11-30T12:43:30.905Z"
   },
   {
    "duration": 51,
    "start_time": "2021-11-30T12:43:30.935Z"
   },
   {
    "duration": 39,
    "start_time": "2021-11-30T12:43:30.988Z"
   },
   {
    "duration": 61,
    "start_time": "2021-11-30T12:43:31.030Z"
   },
   {
    "duration": 15,
    "start_time": "2021-11-30T12:43:31.094Z"
   },
   {
    "duration": 17,
    "start_time": "2021-11-30T12:43:31.112Z"
   },
   {
    "duration": 20,
    "start_time": "2021-11-30T12:43:31.131Z"
   },
   {
    "duration": 16,
    "start_time": "2021-11-30T12:43:31.154Z"
   },
   {
    "duration": 17,
    "start_time": "2021-11-30T12:43:31.172Z"
   },
   {
    "duration": 27,
    "start_time": "2021-11-30T12:43:31.192Z"
   },
   {
    "duration": 14,
    "start_time": "2021-11-30T12:43:31.222Z"
   },
   {
    "duration": 37,
    "start_time": "2021-11-30T12:43:31.239Z"
   },
   {
    "duration": 3,
    "start_time": "2021-11-30T12:43:31.279Z"
   },
   {
    "duration": 17,
    "start_time": "2021-11-30T12:43:31.284Z"
   },
   {
    "duration": 24,
    "start_time": "2021-11-30T12:43:31.304Z"
   },
   {
    "duration": 20,
    "start_time": "2021-11-30T12:43:31.330Z"
   },
   {
    "duration": 29,
    "start_time": "2021-11-30T12:43:31.352Z"
   },
   {
    "duration": 28,
    "start_time": "2021-11-30T12:43:31.384Z"
   },
   {
    "duration": 7,
    "start_time": "2021-11-30T12:43:31.415Z"
   },
   {
    "duration": 15,
    "start_time": "2021-11-30T12:43:31.425Z"
   },
   {
    "duration": 26,
    "start_time": "2021-11-30T12:43:31.443Z"
   },
   {
    "duration": 3,
    "start_time": "2021-11-30T12:43:31.484Z"
   },
   {
    "duration": 13,
    "start_time": "2021-11-30T12:43:31.490Z"
   },
   {
    "duration": 23,
    "start_time": "2021-11-30T12:43:31.507Z"
   },
   {
    "duration": 16,
    "start_time": "2021-11-30T12:43:31.533Z"
   },
   {
    "duration": 21,
    "start_time": "2021-11-30T12:43:31.552Z"
   },
   {
    "duration": 28,
    "start_time": "2021-11-30T12:43:31.575Z"
   },
   {
    "duration": 21,
    "start_time": "2021-11-30T12:43:31.606Z"
   },
   {
    "duration": 22,
    "start_time": "2021-11-30T12:43:31.635Z"
   },
   {
    "duration": 18,
    "start_time": "2021-11-30T12:43:31.660Z"
   },
   {
    "duration": 16,
    "start_time": "2021-11-30T12:43:31.681Z"
   },
   {
    "duration": 16,
    "start_time": "2021-11-30T12:43:31.699Z"
   },
   {
    "duration": 16,
    "start_time": "2021-11-30T12:43:31.717Z"
   },
   {
    "duration": 24,
    "start_time": "2021-11-30T12:43:31.735Z"
   },
   {
    "duration": 21,
    "start_time": "2021-11-30T12:43:31.762Z"
   },
   {
    "duration": 12,
    "start_time": "2021-11-30T12:43:31.786Z"
   },
   {
    "duration": 388,
    "start_time": "2021-11-30T23:05:08.429Z"
   },
   {
    "duration": 695,
    "start_time": "2021-11-30T23:05:13.344Z"
   },
   {
    "duration": 8,
    "start_time": "2021-11-30T23:05:14.041Z"
   },
   {
    "duration": 33,
    "start_time": "2021-11-30T23:05:14.051Z"
   },
   {
    "duration": 21,
    "start_time": "2021-11-30T23:05:14.087Z"
   },
   {
    "duration": 33,
    "start_time": "2021-11-30T23:05:14.110Z"
   },
   {
    "duration": 15,
    "start_time": "2021-11-30T23:05:14.145Z"
   },
   {
    "duration": 24,
    "start_time": "2021-11-30T23:05:14.162Z"
   },
   {
    "duration": 33,
    "start_time": "2021-11-30T23:05:14.189Z"
   },
   {
    "duration": 21,
    "start_time": "2021-11-30T23:05:14.224Z"
   },
   {
    "duration": 15,
    "start_time": "2021-11-30T23:05:14.247Z"
   },
   {
    "duration": 22,
    "start_time": "2021-11-30T23:05:14.264Z"
   },
   {
    "duration": 22,
    "start_time": "2021-11-30T23:05:14.288Z"
   },
   {
    "duration": 21,
    "start_time": "2021-11-30T23:05:14.312Z"
   },
   {
    "duration": 24,
    "start_time": "2021-11-30T23:05:14.335Z"
   },
   {
    "duration": 26,
    "start_time": "2021-11-30T23:05:14.361Z"
   },
   {
    "duration": 25,
    "start_time": "2021-11-30T23:05:14.389Z"
   },
   {
    "duration": 20,
    "start_time": "2021-11-30T23:05:14.416Z"
   },
   {
    "duration": 23,
    "start_time": "2021-11-30T23:05:14.438Z"
   },
   {
    "duration": 41,
    "start_time": "2021-11-30T23:05:14.463Z"
   },
   {
    "duration": 26,
    "start_time": "2021-11-30T23:05:14.505Z"
   },
   {
    "duration": 20,
    "start_time": "2021-11-30T23:05:14.532Z"
   },
   {
    "duration": 24,
    "start_time": "2021-11-30T23:05:14.554Z"
   },
   {
    "duration": 20,
    "start_time": "2021-11-30T23:05:14.582Z"
   },
   {
    "duration": 23,
    "start_time": "2021-11-30T23:05:14.604Z"
   },
   {
    "duration": 27,
    "start_time": "2021-11-30T23:05:14.629Z"
   },
   {
    "duration": 21,
    "start_time": "2021-11-30T23:05:14.658Z"
   },
   {
    "duration": 32,
    "start_time": "2021-11-30T23:05:14.681Z"
   },
   {
    "duration": 22,
    "start_time": "2021-11-30T23:05:14.714Z"
   },
   {
    "duration": 27,
    "start_time": "2021-11-30T23:05:14.738Z"
   },
   {
    "duration": 24,
    "start_time": "2021-11-30T23:05:14.767Z"
   },
   {
    "duration": 13,
    "start_time": "2021-11-30T23:05:14.793Z"
   },
   {
    "duration": 293,
    "start_time": "2021-11-30T23:05:14.808Z"
   },
   {
    "duration": 5,
    "start_time": "2021-11-30T23:05:15.103Z"
   },
   {
    "duration": 25,
    "start_time": "2021-11-30T23:05:15.109Z"
   },
   {
    "duration": 29,
    "start_time": "2021-11-30T23:05:15.135Z"
   },
   {
    "duration": 21,
    "start_time": "2021-11-30T23:05:15.166Z"
   },
   {
    "duration": 3,
    "start_time": "2021-11-30T23:05:15.189Z"
   },
   {
    "duration": 26,
    "start_time": "2021-11-30T23:05:15.193Z"
   },
   {
    "duration": 13,
    "start_time": "2021-11-30T23:05:15.220Z"
   },
   {
    "duration": 30,
    "start_time": "2021-11-30T23:05:15.234Z"
   },
   {
    "duration": 35,
    "start_time": "2021-11-30T23:05:15.265Z"
   },
   {
    "duration": 28,
    "start_time": "2021-11-30T23:05:15.302Z"
   },
   {
    "duration": 26,
    "start_time": "2021-11-30T23:05:15.331Z"
   },
   {
    "duration": 37,
    "start_time": "2021-11-30T23:05:15.359Z"
   },
   {
    "duration": 6,
    "start_time": "2021-11-30T23:05:15.398Z"
   },
   {
    "duration": 32,
    "start_time": "2021-11-30T23:05:15.406Z"
   },
   {
    "duration": 36,
    "start_time": "2021-11-30T23:05:15.439Z"
   },
   {
    "duration": 21,
    "start_time": "2021-11-30T23:05:15.476Z"
   },
   {
    "duration": 19,
    "start_time": "2021-11-30T23:05:15.499Z"
   },
   {
    "duration": 11,
    "start_time": "2021-11-30T23:05:15.520Z"
   },
   {
    "duration": 29,
    "start_time": "2021-11-30T23:05:15.532Z"
   },
   {
    "duration": 26,
    "start_time": "2021-11-30T23:05:15.563Z"
   },
   {
    "duration": 19,
    "start_time": "2021-11-30T23:05:15.591Z"
   },
   {
    "duration": 36,
    "start_time": "2021-11-30T23:05:15.612Z"
   },
   {
    "duration": 15,
    "start_time": "2021-11-30T23:05:15.649Z"
   },
   {
    "duration": 27,
    "start_time": "2021-11-30T23:05:15.666Z"
   },
   {
    "duration": 22,
    "start_time": "2021-11-30T23:05:15.695Z"
   },
   {
    "duration": 24,
    "start_time": "2021-11-30T23:05:15.719Z"
   },
   {
    "duration": 15,
    "start_time": "2021-11-30T23:05:15.744Z"
   },
   {
    "duration": 12,
    "start_time": "2021-11-30T23:05:15.761Z"
   },
   {
    "duration": 16,
    "start_time": "2021-11-30T23:05:15.774Z"
   },
   {
    "duration": 29,
    "start_time": "2021-11-30T23:05:15.791Z"
   },
   {
    "duration": 16,
    "start_time": "2021-11-30T23:05:15.822Z"
   },
   {
    "duration": 25,
    "start_time": "2021-11-30T23:05:15.840Z"
   },
   {
    "duration": 11,
    "start_time": "2021-11-30T23:05:15.867Z"
   },
   {
    "duration": 22,
    "start_time": "2021-11-30T23:05:15.880Z"
   },
   {
    "duration": 34,
    "start_time": "2021-11-30T23:05:15.904Z"
   },
   {
    "duration": 23,
    "start_time": "2021-11-30T23:05:15.944Z"
   },
   {
    "duration": 38,
    "start_time": "2021-11-30T23:05:15.969Z"
   },
   {
    "duration": 26,
    "start_time": "2021-11-30T23:05:16.009Z"
   },
   {
    "duration": 16,
    "start_time": "2021-11-30T23:05:16.037Z"
   },
   {
    "duration": 33,
    "start_time": "2021-11-30T23:05:16.055Z"
   },
   {
    "duration": 21,
    "start_time": "2021-11-30T23:05:16.091Z"
   },
   {
    "duration": 27,
    "start_time": "2021-11-30T23:05:16.114Z"
   },
   {
    "duration": 18,
    "start_time": "2021-11-30T23:05:16.143Z"
   },
   {
    "duration": 17,
    "start_time": "2021-11-30T23:05:16.163Z"
   },
   {
    "duration": 19,
    "start_time": "2021-11-30T23:05:16.182Z"
   },
   {
    "duration": 25,
    "start_time": "2021-11-30T23:05:16.203Z"
   },
   {
    "duration": 43,
    "start_time": "2021-11-30T23:05:16.229Z"
   },
   {
    "duration": 23,
    "start_time": "2021-11-30T23:05:16.274Z"
   },
   {
    "duration": 28,
    "start_time": "2021-11-30T23:05:16.299Z"
   },
   {
    "duration": 14,
    "start_time": "2021-11-30T23:05:16.329Z"
   },
   {
    "duration": 33,
    "start_time": "2021-11-30T23:05:16.345Z"
   },
   {
    "duration": 17,
    "start_time": "2021-11-30T23:05:16.379Z"
   },
   {
    "duration": 26,
    "start_time": "2021-11-30T23:05:16.398Z"
   },
   {
    "duration": 19,
    "start_time": "2021-11-30T23:05:16.426Z"
   },
   {
    "duration": 18,
    "start_time": "2021-11-30T23:05:16.447Z"
   },
   {
    "duration": 25,
    "start_time": "2021-11-30T23:05:16.466Z"
   },
   {
    "duration": 744,
    "start_time": "2021-12-01T08:02:14.115Z"
   },
   {
    "duration": 8,
    "start_time": "2021-12-01T08:02:14.860Z"
   },
   {
    "duration": 21,
    "start_time": "2021-12-01T08:02:14.870Z"
   },
   {
    "duration": 10,
    "start_time": "2021-12-01T08:02:14.892Z"
   },
   {
    "duration": 13,
    "start_time": "2021-12-01T08:02:14.904Z"
   },
   {
    "duration": 13,
    "start_time": "2021-12-01T08:02:14.919Z"
   },
   {
    "duration": 7,
    "start_time": "2021-12-01T08:02:14.933Z"
   },
   {
    "duration": 9,
    "start_time": "2021-12-01T08:02:14.942Z"
   },
   {
    "duration": 6,
    "start_time": "2021-12-01T08:02:14.952Z"
   },
   {
    "duration": 7,
    "start_time": "2021-12-01T08:02:14.959Z"
   },
   {
    "duration": 20,
    "start_time": "2021-12-01T08:02:14.968Z"
   },
   {
    "duration": 9,
    "start_time": "2021-12-01T08:02:14.990Z"
   },
   {
    "duration": 15,
    "start_time": "2021-12-01T08:02:15.001Z"
   },
   {
    "duration": 23,
    "start_time": "2021-12-01T08:02:15.018Z"
   },
   {
    "duration": 13,
    "start_time": "2021-12-01T08:02:15.043Z"
   },
   {
    "duration": 13,
    "start_time": "2021-12-01T08:02:15.058Z"
   },
   {
    "duration": 7,
    "start_time": "2021-12-01T08:02:15.073Z"
   },
   {
    "duration": 16,
    "start_time": "2021-12-01T08:02:15.082Z"
   },
   {
    "duration": 12,
    "start_time": "2021-12-01T08:02:15.099Z"
   },
   {
    "duration": 14,
    "start_time": "2021-12-01T08:02:15.113Z"
   },
   {
    "duration": 17,
    "start_time": "2021-12-01T08:02:15.129Z"
   },
   {
    "duration": 6,
    "start_time": "2021-12-01T08:02:15.147Z"
   },
   {
    "duration": 7,
    "start_time": "2021-12-01T08:02:15.157Z"
   },
   {
    "duration": 7,
    "start_time": "2021-12-01T08:02:15.166Z"
   },
   {
    "duration": 9,
    "start_time": "2021-12-01T08:02:15.174Z"
   },
   {
    "duration": 6,
    "start_time": "2021-12-01T08:02:15.184Z"
   },
   {
    "duration": 12,
    "start_time": "2021-12-01T08:02:15.192Z"
   },
   {
    "duration": 11,
    "start_time": "2021-12-01T08:02:15.206Z"
   },
   {
    "duration": 44,
    "start_time": "2021-12-01T08:02:15.218Z"
   },
   {
    "duration": 8,
    "start_time": "2021-12-01T08:02:15.264Z"
   },
   {
    "duration": 6,
    "start_time": "2021-12-01T08:02:15.274Z"
   },
   {
    "duration": 259,
    "start_time": "2021-12-01T08:02:15.281Z"
   },
   {
    "duration": 4,
    "start_time": "2021-12-01T08:02:15.542Z"
   },
   {
    "duration": 16,
    "start_time": "2021-12-01T08:02:15.548Z"
   },
   {
    "duration": 26,
    "start_time": "2021-12-01T08:02:15.566Z"
   },
   {
    "duration": 13,
    "start_time": "2021-12-01T08:02:15.593Z"
   },
   {
    "duration": 3,
    "start_time": "2021-12-01T08:02:15.608Z"
   },
   {
    "duration": 22,
    "start_time": "2021-12-01T08:02:15.613Z"
   },
   {
    "duration": 20,
    "start_time": "2021-12-01T08:02:15.636Z"
   },
   {
    "duration": 17,
    "start_time": "2021-12-01T08:02:15.657Z"
   },
   {
    "duration": 15,
    "start_time": "2021-12-01T08:02:15.676Z"
   },
   {
    "duration": 8,
    "start_time": "2021-12-01T08:02:15.693Z"
   },
   {
    "duration": 4,
    "start_time": "2021-12-01T08:02:15.703Z"
   },
   {
    "duration": 24,
    "start_time": "2021-12-01T08:02:15.709Z"
   },
   {
    "duration": 7,
    "start_time": "2021-12-01T08:02:15.734Z"
   },
   {
    "duration": 5,
    "start_time": "2021-12-01T08:02:15.742Z"
   },
   {
    "duration": 7,
    "start_time": "2021-12-01T08:02:15.749Z"
   },
   {
    "duration": 34,
    "start_time": "2021-12-01T08:02:15.757Z"
   },
   {
    "duration": 5,
    "start_time": "2021-12-01T08:02:15.793Z"
   },
   {
    "duration": 9,
    "start_time": "2021-12-01T08:02:15.800Z"
   },
   {
    "duration": 7,
    "start_time": "2021-12-01T08:02:15.810Z"
   },
   {
    "duration": 9,
    "start_time": "2021-12-01T08:02:15.818Z"
   },
   {
    "duration": 9,
    "start_time": "2021-12-01T08:02:15.828Z"
   },
   {
    "duration": 13,
    "start_time": "2021-12-01T08:02:15.839Z"
   },
   {
    "duration": 1,
    "start_time": "2021-12-01T08:02:15.853Z"
   },
   {
    "duration": 33,
    "start_time": "2021-12-01T08:02:15.856Z"
   },
   {
    "duration": 3,
    "start_time": "2021-12-01T08:02:15.891Z"
   },
   {
    "duration": 6,
    "start_time": "2021-12-01T08:02:15.896Z"
   },
   {
    "duration": 7,
    "start_time": "2021-12-01T08:02:15.904Z"
   },
   {
    "duration": 12,
    "start_time": "2021-12-01T08:02:15.912Z"
   },
   {
    "duration": 10,
    "start_time": "2021-12-01T08:02:15.925Z"
   },
   {
    "duration": 9,
    "start_time": "2021-12-01T08:02:15.937Z"
   },
   {
    "duration": 8,
    "start_time": "2021-12-01T08:02:15.947Z"
   },
   {
    "duration": 13,
    "start_time": "2021-12-01T08:02:15.957Z"
   },
   {
    "duration": 5,
    "start_time": "2021-12-01T08:02:15.971Z"
   },
   {
    "duration": 15,
    "start_time": "2021-12-01T08:02:15.978Z"
   },
   {
    "duration": 7,
    "start_time": "2021-12-01T08:02:15.994Z"
   },
   {
    "duration": 3,
    "start_time": "2021-12-01T08:02:16.006Z"
   },
   {
    "duration": 5,
    "start_time": "2021-12-01T08:02:16.011Z"
   },
   {
    "duration": 18,
    "start_time": "2021-12-01T08:02:16.018Z"
   },
   {
    "duration": 4,
    "start_time": "2021-12-01T08:02:16.037Z"
   },
   {
    "duration": 6,
    "start_time": "2021-12-01T08:02:16.043Z"
   },
   {
    "duration": 14,
    "start_time": "2021-12-01T08:02:16.051Z"
   },
   {
    "duration": 2,
    "start_time": "2021-12-01T08:02:16.066Z"
   },
   {
    "duration": 6,
    "start_time": "2021-12-01T08:02:16.070Z"
   },
   {
    "duration": 2,
    "start_time": "2021-12-01T08:02:16.088Z"
   },
   {
    "duration": 7,
    "start_time": "2021-12-01T08:02:16.091Z"
   },
   {
    "duration": 7,
    "start_time": "2021-12-01T08:02:16.099Z"
   },
   {
    "duration": 6,
    "start_time": "2021-12-01T08:02:16.107Z"
   },
   {
    "duration": 7,
    "start_time": "2021-12-01T08:02:16.114Z"
   },
   {
    "duration": 12,
    "start_time": "2021-12-01T08:02:16.122Z"
   },
   {
    "duration": 6,
    "start_time": "2021-12-01T08:02:16.135Z"
   },
   {
    "duration": 6,
    "start_time": "2021-12-01T08:02:16.143Z"
   },
   {
    "duration": 7,
    "start_time": "2021-12-01T08:02:16.150Z"
   },
   {
    "duration": 31,
    "start_time": "2021-12-01T08:02:16.159Z"
   },
   {
    "duration": 34,
    "start_time": "2021-12-01T08:02:16.192Z"
   },
   {
    "duration": 7,
    "start_time": "2021-12-01T08:02:16.228Z"
   },
   {
    "duration": 8,
    "start_time": "2021-12-01T08:02:16.236Z"
   },
   {
    "duration": 14,
    "start_time": "2021-12-01T08:02:16.245Z"
   },
   {
    "duration": 39,
    "start_time": "2021-12-01T08:02:49.864Z"
   },
   {
    "duration": 40,
    "start_time": "2021-12-01T08:06:43.795Z"
   },
   {
    "duration": 919,
    "start_time": "2021-12-01T23:15:57.939Z"
   },
   {
    "duration": 13,
    "start_time": "2021-12-01T23:15:58.860Z"
   },
   {
    "duration": 25,
    "start_time": "2021-12-01T23:15:58.876Z"
   },
   {
    "duration": 15,
    "start_time": "2021-12-01T23:15:58.904Z"
   },
   {
    "duration": 13,
    "start_time": "2021-12-01T23:15:58.922Z"
   },
   {
    "duration": 10,
    "start_time": "2021-12-01T23:15:58.968Z"
   },
   {
    "duration": 7,
    "start_time": "2021-12-01T23:15:58.980Z"
   },
   {
    "duration": 8,
    "start_time": "2021-12-01T23:15:58.992Z"
   },
   {
    "duration": 9,
    "start_time": "2021-12-01T23:15:59.003Z"
   },
   {
    "duration": 53,
    "start_time": "2021-12-01T23:15:59.014Z"
   },
   {
    "duration": 4,
    "start_time": "2021-12-01T23:15:59.070Z"
   },
   {
    "duration": 10,
    "start_time": "2021-12-01T23:15:59.077Z"
   },
   {
    "duration": 15,
    "start_time": "2021-12-01T23:15:59.089Z"
   },
   {
    "duration": 11,
    "start_time": "2021-12-01T23:15:59.106Z"
   },
   {
    "duration": 8,
    "start_time": "2021-12-01T23:15:59.120Z"
   },
   {
    "duration": 13,
    "start_time": "2021-12-01T23:15:59.168Z"
   },
   {
    "duration": 14,
    "start_time": "2021-12-01T23:15:59.184Z"
   },
   {
    "duration": 10,
    "start_time": "2021-12-01T23:15:59.200Z"
   },
   {
    "duration": 9,
    "start_time": "2021-12-01T23:15:59.212Z"
   },
   {
    "duration": 45,
    "start_time": "2021-12-01T23:15:59.223Z"
   },
   {
    "duration": 10,
    "start_time": "2021-12-01T23:15:59.271Z"
   },
   {
    "duration": 7,
    "start_time": "2021-12-01T23:15:59.284Z"
   },
   {
    "duration": 9,
    "start_time": "2021-12-01T23:15:59.298Z"
   },
   {
    "duration": 9,
    "start_time": "2021-12-01T23:15:59.311Z"
   },
   {
    "duration": 45,
    "start_time": "2021-12-01T23:15:59.322Z"
   },
   {
    "duration": 2,
    "start_time": "2021-12-01T23:15:59.370Z"
   },
   {
    "duration": 17,
    "start_time": "2021-12-01T23:15:59.375Z"
   },
   {
    "duration": 5,
    "start_time": "2021-12-01T23:15:59.394Z"
   },
   {
    "duration": 6,
    "start_time": "2021-12-01T23:15:59.401Z"
   },
   {
    "duration": 9,
    "start_time": "2021-12-01T23:15:59.410Z"
   },
   {
    "duration": 7,
    "start_time": "2021-12-01T23:15:59.421Z"
   },
   {
    "duration": 393,
    "start_time": "2021-12-01T23:15:59.468Z"
   },
   {
    "duration": 7,
    "start_time": "2021-12-01T23:15:59.863Z"
   },
   {
    "duration": 27,
    "start_time": "2021-12-01T23:15:59.872Z"
   },
   {
    "duration": 24,
    "start_time": "2021-12-01T23:15:59.901Z"
   },
   {
    "duration": 52,
    "start_time": "2021-12-01T23:15:59.927Z"
   },
   {
    "duration": 4,
    "start_time": "2021-12-01T23:15:59.981Z"
   },
   {
    "duration": 6,
    "start_time": "2021-12-01T23:15:59.988Z"
   },
   {
    "duration": 10,
    "start_time": "2021-12-01T23:15:59.996Z"
   },
   {
    "duration": 14,
    "start_time": "2021-12-01T23:16:00.008Z"
   },
   {
    "duration": 47,
    "start_time": "2021-12-01T23:16:00.024Z"
   },
   {
    "duration": 14,
    "start_time": "2021-12-01T23:16:00.073Z"
   },
   {
    "duration": 7,
    "start_time": "2021-12-01T23:16:00.090Z"
   },
   {
    "duration": 44,
    "start_time": "2021-12-01T23:16:00.099Z"
   },
   {
    "duration": 13,
    "start_time": "2021-12-01T23:16:00.167Z"
   },
   {
    "duration": 18,
    "start_time": "2021-12-01T23:16:00.183Z"
   },
   {
    "duration": 12,
    "start_time": "2021-12-01T23:16:00.204Z"
   },
   {
    "duration": 52,
    "start_time": "2021-12-01T23:16:00.219Z"
   },
   {
    "duration": 12,
    "start_time": "2021-12-01T23:16:00.274Z"
   },
   {
    "duration": 39,
    "start_time": "2021-12-01T23:16:00.289Z"
   },
   {
    "duration": 13,
    "start_time": "2021-12-01T23:16:00.331Z"
   },
   {
    "duration": 23,
    "start_time": "2021-12-01T23:16:00.347Z"
   },
   {
    "duration": 22,
    "start_time": "2021-12-01T23:16:00.372Z"
   },
   {
    "duration": 27,
    "start_time": "2021-12-01T23:16:00.396Z"
   },
   {
    "duration": 47,
    "start_time": "2021-12-01T23:16:00.426Z"
   },
   {
    "duration": 4,
    "start_time": "2021-12-01T23:16:00.476Z"
   },
   {
    "duration": 50,
    "start_time": "2021-12-01T23:16:00.482Z"
   },
   {
    "duration": 5,
    "start_time": "2021-12-01T23:16:00.534Z"
   },
   {
    "duration": 10,
    "start_time": "2021-12-01T23:16:00.542Z"
   },
   {
    "duration": 18,
    "start_time": "2021-12-01T23:16:00.554Z"
   },
   {
    "duration": 17,
    "start_time": "2021-12-01T23:16:00.574Z"
   },
   {
    "duration": 13,
    "start_time": "2021-12-01T23:16:00.593Z"
   },
   {
    "duration": 19,
    "start_time": "2021-12-01T23:16:00.609Z"
   },
   {
    "duration": 20,
    "start_time": "2021-12-01T23:16:00.631Z"
   },
   {
    "duration": 25,
    "start_time": "2021-12-01T23:16:00.654Z"
   },
   {
    "duration": 27,
    "start_time": "2021-12-01T23:16:00.681Z"
   },
   {
    "duration": 25,
    "start_time": "2021-12-01T23:16:00.710Z"
   },
   {
    "duration": 28,
    "start_time": "2021-12-01T23:16:00.743Z"
   },
   {
    "duration": 41,
    "start_time": "2021-12-01T23:16:00.774Z"
   },
   {
    "duration": 32,
    "start_time": "2021-12-01T23:16:00.818Z"
   },
   {
    "duration": 39,
    "start_time": "2021-12-01T23:16:00.852Z"
   },
   {
    "duration": 40,
    "start_time": "2021-12-01T23:16:00.893Z"
   },
   {
    "duration": 28,
    "start_time": "2021-12-01T23:16:00.935Z"
   },
   {
    "duration": 36,
    "start_time": "2021-12-01T23:16:00.966Z"
   },
   {
    "duration": 17,
    "start_time": "2021-12-01T23:16:01.004Z"
   },
   {
    "duration": 17,
    "start_time": "2021-12-01T23:16:01.023Z"
   },
   {
    "duration": 17,
    "start_time": "2021-12-01T23:16:01.042Z"
   },
   {
    "duration": 22,
    "start_time": "2021-12-01T23:16:01.061Z"
   },
   {
    "duration": 27,
    "start_time": "2021-12-01T23:16:01.086Z"
   },
   {
    "duration": 21,
    "start_time": "2021-12-01T23:16:01.115Z"
   },
   {
    "duration": 21,
    "start_time": "2021-12-01T23:16:01.138Z"
   },
   {
    "duration": 31,
    "start_time": "2021-12-01T23:16:01.162Z"
   },
   {
    "duration": 18,
    "start_time": "2021-12-01T23:16:01.195Z"
   },
   {
    "duration": 25,
    "start_time": "2021-12-01T23:16:01.215Z"
   },
   {
    "duration": 15,
    "start_time": "2021-12-01T23:16:01.242Z"
   },
   {
    "duration": 27,
    "start_time": "2021-12-01T23:16:01.259Z"
   },
   {
    "duration": 92,
    "start_time": "2021-12-01T23:16:01.289Z"
   },
   {
    "duration": 85,
    "start_time": "2021-12-01T23:16:01.383Z"
   },
   {
    "duration": 17,
    "start_time": "2021-12-01T23:16:01.471Z"
   },
   {
    "duration": 14,
    "start_time": "2021-12-01T23:16:01.490Z"
   },
   {
    "duration": 17,
    "start_time": "2021-12-01T23:16:01.506Z"
   },
   {
    "duration": 277,
    "start_time": "2021-12-06T06:42:47.896Z"
   },
   {
    "duration": 717,
    "start_time": "2021-12-06T06:42:53.347Z"
   },
   {
    "duration": 8,
    "start_time": "2021-12-06T06:42:54.066Z"
   },
   {
    "duration": 21,
    "start_time": "2021-12-06T06:42:54.076Z"
   },
   {
    "duration": 11,
    "start_time": "2021-12-06T06:42:54.099Z"
   },
   {
    "duration": 13,
    "start_time": "2021-12-06T06:42:54.112Z"
   },
   {
    "duration": 8,
    "start_time": "2021-12-06T06:42:54.128Z"
   },
   {
    "duration": 28,
    "start_time": "2021-12-06T06:42:54.138Z"
   },
   {
    "duration": 7,
    "start_time": "2021-12-06T06:42:54.170Z"
   },
   {
    "duration": 7,
    "start_time": "2021-12-06T06:42:54.179Z"
   },
   {
    "duration": 7,
    "start_time": "2021-12-06T06:42:54.188Z"
   },
   {
    "duration": 3,
    "start_time": "2021-12-06T06:42:54.197Z"
   },
   {
    "duration": 9,
    "start_time": "2021-12-06T06:42:54.202Z"
   },
   {
    "duration": 52,
    "start_time": "2021-12-06T06:42:54.213Z"
   },
   {
    "duration": 10,
    "start_time": "2021-12-06T06:42:54.267Z"
   },
   {
    "duration": 12,
    "start_time": "2021-12-06T06:42:54.279Z"
   },
   {
    "duration": 12,
    "start_time": "2021-12-06T06:42:54.293Z"
   },
   {
    "duration": 6,
    "start_time": "2021-12-06T06:42:54.307Z"
   },
   {
    "duration": 13,
    "start_time": "2021-12-06T06:42:54.315Z"
   },
   {
    "duration": 7,
    "start_time": "2021-12-06T06:42:54.329Z"
   },
   {
    "duration": 28,
    "start_time": "2021-12-06T06:42:54.338Z"
   },
   {
    "duration": 8,
    "start_time": "2021-12-06T06:42:54.368Z"
   },
   {
    "duration": 9,
    "start_time": "2021-12-06T06:42:54.377Z"
   },
   {
    "duration": 8,
    "start_time": "2021-12-06T06:42:54.390Z"
   },
   {
    "duration": 11,
    "start_time": "2021-12-06T06:42:54.400Z"
   },
   {
    "duration": 8,
    "start_time": "2021-12-06T06:42:54.413Z"
   },
   {
    "duration": 8,
    "start_time": "2021-12-06T06:42:54.423Z"
   },
   {
    "duration": 12,
    "start_time": "2021-12-06T06:42:54.433Z"
   },
   {
    "duration": 2,
    "start_time": "2021-12-06T06:42:54.464Z"
   },
   {
    "duration": 7,
    "start_time": "2021-12-06T06:42:54.468Z"
   },
   {
    "duration": 11,
    "start_time": "2021-12-06T06:42:54.476Z"
   },
   {
    "duration": 10,
    "start_time": "2021-12-06T06:42:54.489Z"
   },
   {
    "duration": 283,
    "start_time": "2021-12-06T06:42:54.501Z"
   },
   {
    "duration": 5,
    "start_time": "2021-12-06T06:42:54.785Z"
   },
   {
    "duration": 20,
    "start_time": "2021-12-06T06:42:54.792Z"
   },
   {
    "duration": 17,
    "start_time": "2021-12-06T06:42:54.814Z"
   },
   {
    "duration": 36,
    "start_time": "2021-12-06T06:42:54.833Z"
   },
   {
    "duration": 4,
    "start_time": "2021-12-06T06:42:54.871Z"
   },
   {
    "duration": 5,
    "start_time": "2021-12-06T06:42:54.877Z"
   },
   {
    "duration": 4,
    "start_time": "2021-12-06T06:42:54.883Z"
   },
   {
    "duration": 6,
    "start_time": "2021-12-06T06:42:54.889Z"
   },
   {
    "duration": 16,
    "start_time": "2021-12-06T06:42:54.897Z"
   },
   {
    "duration": 11,
    "start_time": "2021-12-06T06:42:54.915Z"
   },
   {
    "duration": 37,
    "start_time": "2021-12-06T06:42:54.927Z"
   },
   {
    "duration": 30,
    "start_time": "2021-12-06T06:42:54.966Z"
   },
   {
    "duration": 7,
    "start_time": "2021-12-06T06:42:54.997Z"
   },
   {
    "duration": 11,
    "start_time": "2021-12-06T06:42:55.006Z"
   },
   {
    "duration": 11,
    "start_time": "2021-12-06T06:42:55.018Z"
   },
   {
    "duration": 11,
    "start_time": "2021-12-06T06:42:55.031Z"
   },
   {
    "duration": 26,
    "start_time": "2021-12-06T06:42:55.043Z"
   },
   {
    "duration": 8,
    "start_time": "2021-12-06T06:42:55.071Z"
   },
   {
    "duration": 8,
    "start_time": "2021-12-06T06:42:55.080Z"
   },
   {
    "duration": 15,
    "start_time": "2021-12-06T06:42:55.089Z"
   },
   {
    "duration": 9,
    "start_time": "2021-12-06T06:42:55.106Z"
   },
   {
    "duration": 15,
    "start_time": "2021-12-06T06:42:55.117Z"
   },
   {
    "duration": 48,
    "start_time": "2021-12-06T06:42:55.134Z"
   },
   {
    "duration": 2,
    "start_time": "2021-12-06T06:42:55.183Z"
   },
   {
    "duration": 22,
    "start_time": "2021-12-06T06:42:55.187Z"
   },
   {
    "duration": 5,
    "start_time": "2021-12-06T06:42:55.211Z"
   },
   {
    "duration": 9,
    "start_time": "2021-12-06T06:42:55.217Z"
   },
   {
    "duration": 11,
    "start_time": "2021-12-06T06:42:55.228Z"
   },
   {
    "duration": 11,
    "start_time": "2021-12-06T06:42:55.241Z"
   },
   {
    "duration": 11,
    "start_time": "2021-12-06T06:42:55.253Z"
   },
   {
    "duration": 11,
    "start_time": "2021-12-06T06:42:55.265Z"
   },
   {
    "duration": 7,
    "start_time": "2021-12-06T06:42:55.278Z"
   },
   {
    "duration": 13,
    "start_time": "2021-12-06T06:42:55.286Z"
   },
   {
    "duration": 3,
    "start_time": "2021-12-06T06:42:55.300Z"
   },
   {
    "duration": 9,
    "start_time": "2021-12-06T06:42:55.304Z"
   },
   {
    "duration": 4,
    "start_time": "2021-12-06T06:42:55.319Z"
   },
   {
    "duration": 8,
    "start_time": "2021-12-06T06:42:55.325Z"
   },
   {
    "duration": 28,
    "start_time": "2021-12-06T06:42:55.335Z"
   },
   {
    "duration": 19,
    "start_time": "2021-12-06T06:42:55.365Z"
   },
   {
    "duration": 4,
    "start_time": "2021-12-06T06:42:55.386Z"
   },
   {
    "duration": 10,
    "start_time": "2021-12-06T06:42:55.392Z"
   },
   {
    "duration": 18,
    "start_time": "2021-12-06T06:42:55.404Z"
   },
   {
    "duration": 2,
    "start_time": "2021-12-06T06:42:55.424Z"
   },
   {
    "duration": 7,
    "start_time": "2021-12-06T06:42:55.427Z"
   },
   {
    "duration": 10,
    "start_time": "2021-12-06T06:42:55.435Z"
   },
   {
    "duration": 16,
    "start_time": "2021-12-06T06:42:55.447Z"
   },
   {
    "duration": 5,
    "start_time": "2021-12-06T06:42:55.465Z"
   },
   {
    "duration": 6,
    "start_time": "2021-12-06T06:42:55.471Z"
   },
   {
    "duration": 9,
    "start_time": "2021-12-06T06:42:55.479Z"
   },
   {
    "duration": 19,
    "start_time": "2021-12-06T06:42:55.489Z"
   },
   {
    "duration": 13,
    "start_time": "2021-12-06T06:42:55.510Z"
   },
   {
    "duration": 10,
    "start_time": "2021-12-06T06:42:55.525Z"
   },
   {
    "duration": 10,
    "start_time": "2021-12-06T06:42:55.536Z"
   },
   {
    "duration": 18,
    "start_time": "2021-12-06T06:42:55.548Z"
   },
   {
    "duration": 52,
    "start_time": "2021-12-06T06:42:55.568Z"
   },
   {
    "duration": 64,
    "start_time": "2021-12-06T06:42:55.622Z"
   },
   {
    "duration": 10,
    "start_time": "2021-12-06T06:42:55.687Z"
   },
   {
    "duration": 11,
    "start_time": "2021-12-06T06:42:55.700Z"
   },
   {
    "duration": 13,
    "start_time": "2021-12-06T06:42:55.713Z"
   },
   {
    "duration": 10,
    "start_time": "2021-12-06T06:44:43.405Z"
   },
   {
    "duration": 3,
    "start_time": "2021-12-06T06:45:01.608Z"
   },
   {
    "duration": 384,
    "start_time": "2021-12-06T11:52:53.442Z"
   },
   {
    "duration": 1264,
    "start_time": "2021-12-06T11:52:59.834Z"
   },
   {
    "duration": 8,
    "start_time": "2021-12-06T11:53:01.100Z"
   },
   {
    "duration": 19,
    "start_time": "2021-12-06T11:53:01.111Z"
   },
   {
    "duration": 15,
    "start_time": "2021-12-06T11:53:01.133Z"
   },
   {
    "duration": 21,
    "start_time": "2021-12-06T11:53:01.150Z"
   },
   {
    "duration": 9,
    "start_time": "2021-12-06T11:53:01.174Z"
   },
   {
    "duration": 26,
    "start_time": "2021-12-06T11:53:01.185Z"
   },
   {
    "duration": 13,
    "start_time": "2021-12-06T11:53:01.214Z"
   },
   {
    "duration": 11,
    "start_time": "2021-12-06T11:53:01.229Z"
   },
   {
    "duration": 19,
    "start_time": "2021-12-06T11:53:01.242Z"
   },
   {
    "duration": 18,
    "start_time": "2021-12-06T11:53:01.263Z"
   },
   {
    "duration": 15,
    "start_time": "2021-12-06T11:53:01.283Z"
   },
   {
    "duration": 17,
    "start_time": "2021-12-06T11:53:01.300Z"
   },
   {
    "duration": 18,
    "start_time": "2021-12-06T11:53:01.319Z"
   },
   {
    "duration": 24,
    "start_time": "2021-12-06T11:53:01.339Z"
   },
   {
    "duration": 25,
    "start_time": "2021-12-06T11:53:01.365Z"
   },
   {
    "duration": 10,
    "start_time": "2021-12-06T11:53:01.392Z"
   },
   {
    "duration": 10,
    "start_time": "2021-12-06T11:53:01.404Z"
   },
   {
    "duration": 13,
    "start_time": "2021-12-06T11:53:01.416Z"
   },
   {
    "duration": 19,
    "start_time": "2021-12-06T11:53:01.431Z"
   },
   {
    "duration": 15,
    "start_time": "2021-12-06T11:53:01.452Z"
   },
   {
    "duration": 12,
    "start_time": "2021-12-06T11:53:01.469Z"
   },
   {
    "duration": 11,
    "start_time": "2021-12-06T11:53:01.485Z"
   },
   {
    "duration": 8,
    "start_time": "2021-12-06T11:53:01.499Z"
   },
   {
    "duration": 9,
    "start_time": "2021-12-06T11:53:01.508Z"
   },
   {
    "duration": 6,
    "start_time": "2021-12-06T11:53:01.519Z"
   },
   {
    "duration": 10,
    "start_time": "2021-12-06T11:53:01.526Z"
   },
   {
    "duration": 5,
    "start_time": "2021-12-06T11:53:01.538Z"
   },
   {
    "duration": 6,
    "start_time": "2021-12-06T11:53:01.545Z"
   },
   {
    "duration": 10,
    "start_time": "2021-12-06T11:53:01.552Z"
   },
   {
    "duration": 7,
    "start_time": "2021-12-06T11:53:01.564Z"
   },
   {
    "duration": 292,
    "start_time": "2021-12-06T11:53:01.572Z"
   },
   {
    "duration": 5,
    "start_time": "2021-12-06T11:53:01.866Z"
   },
   {
    "duration": 18,
    "start_time": "2021-12-06T11:53:01.872Z"
   },
   {
    "duration": 28,
    "start_time": "2021-12-06T11:53:01.892Z"
   },
   {
    "duration": 15,
    "start_time": "2021-12-06T11:53:01.922Z"
   },
   {
    "duration": 3,
    "start_time": "2021-12-06T11:53:01.939Z"
   },
   {
    "duration": 3,
    "start_time": "2021-12-06T11:53:01.944Z"
   },
   {
    "duration": 5,
    "start_time": "2021-12-06T11:53:01.948Z"
   },
   {
    "duration": 6,
    "start_time": "2021-12-06T11:53:01.955Z"
   },
   {
    "duration": 44,
    "start_time": "2021-12-06T11:53:01.963Z"
   },
   {
    "duration": 7,
    "start_time": "2021-12-06T11:53:02.009Z"
   },
   {
    "duration": 6,
    "start_time": "2021-12-06T11:53:02.018Z"
   },
   {
    "duration": 31,
    "start_time": "2021-12-06T11:53:02.025Z"
   },
   {
    "duration": 7,
    "start_time": "2021-12-06T11:53:02.058Z"
   },
   {
    "duration": 7,
    "start_time": "2021-12-06T11:53:02.067Z"
   },
   {
    "duration": 37,
    "start_time": "2021-12-06T11:53:02.076Z"
   },
   {
    "duration": 19,
    "start_time": "2021-12-06T11:53:02.115Z"
   },
   {
    "duration": 7,
    "start_time": "2021-12-06T11:53:02.135Z"
   },
   {
    "duration": 6,
    "start_time": "2021-12-06T11:53:02.144Z"
   },
   {
    "duration": 7,
    "start_time": "2021-12-06T11:53:02.152Z"
   },
   {
    "duration": 11,
    "start_time": "2021-12-06T11:53:02.160Z"
   },
   {
    "duration": 35,
    "start_time": "2021-12-06T11:53:02.173Z"
   },
   {
    "duration": 14,
    "start_time": "2021-12-06T11:53:02.209Z"
   },
   {
    "duration": 2,
    "start_time": "2021-12-06T11:53:02.225Z"
   },
   {
    "duration": 49,
    "start_time": "2021-12-06T11:53:02.229Z"
   },
   {
    "duration": 2,
    "start_time": "2021-12-06T11:53:02.280Z"
   },
   {
    "duration": 24,
    "start_time": "2021-12-06T11:53:02.284Z"
   },
   {
    "duration": 3,
    "start_time": "2021-12-06T11:53:02.310Z"
   },
   {
    "duration": 7,
    "start_time": "2021-12-06T11:53:02.315Z"
   },
   {
    "duration": 10,
    "start_time": "2021-12-06T11:53:02.324Z"
   },
   {
    "duration": 9,
    "start_time": "2021-12-06T11:53:02.335Z"
   },
   {
    "duration": 8,
    "start_time": "2021-12-06T11:53:02.346Z"
   },
   {
    "duration": 10,
    "start_time": "2021-12-06T11:53:02.356Z"
   },
   {
    "duration": 14,
    "start_time": "2021-12-06T11:53:02.368Z"
   },
   {
    "duration": 23,
    "start_time": "2021-12-06T11:53:02.384Z"
   },
   {
    "duration": 14,
    "start_time": "2021-12-06T11:53:02.409Z"
   },
   {
    "duration": 4,
    "start_time": "2021-12-06T11:53:02.428Z"
   },
   {
    "duration": 4,
    "start_time": "2021-12-06T11:53:02.435Z"
   },
   {
    "duration": 7,
    "start_time": "2021-12-06T11:53:02.441Z"
   },
   {
    "duration": 17,
    "start_time": "2021-12-06T11:53:02.450Z"
   },
   {
    "duration": 8,
    "start_time": "2021-12-06T11:53:02.468Z"
   },
   {
    "duration": 7,
    "start_time": "2021-12-06T11:53:02.478Z"
   },
   {
    "duration": 29,
    "start_time": "2021-12-06T11:53:02.487Z"
   },
   {
    "duration": 3,
    "start_time": "2021-12-06T11:53:02.518Z"
   },
   {
    "duration": 14,
    "start_time": "2021-12-06T11:53:02.523Z"
   },
   {
    "duration": 5,
    "start_time": "2021-12-06T11:53:02.539Z"
   },
   {
    "duration": 5,
    "start_time": "2021-12-06T11:53:02.545Z"
   },
   {
    "duration": 9,
    "start_time": "2021-12-06T11:53:02.552Z"
   },
   {
    "duration": 4,
    "start_time": "2021-12-06T11:53:02.563Z"
   },
   {
    "duration": 6,
    "start_time": "2021-12-06T11:53:02.569Z"
   },
   {
    "duration": 37,
    "start_time": "2021-12-06T11:53:02.577Z"
   },
   {
    "duration": 10,
    "start_time": "2021-12-06T11:53:02.616Z"
   },
   {
    "duration": 11,
    "start_time": "2021-12-06T11:53:02.627Z"
   },
   {
    "duration": 9,
    "start_time": "2021-12-06T11:53:02.639Z"
   },
   {
    "duration": 7,
    "start_time": "2021-12-06T11:53:02.649Z"
   },
   {
    "duration": 77,
    "start_time": "2021-12-06T11:53:02.658Z"
   },
   {
    "duration": 49,
    "start_time": "2021-12-06T11:53:02.737Z"
   },
   {
    "duration": 22,
    "start_time": "2021-12-06T11:53:02.787Z"
   },
   {
    "duration": 7,
    "start_time": "2021-12-06T11:53:02.811Z"
   },
   {
    "duration": 9,
    "start_time": "2021-12-06T11:53:02.819Z"
   },
   {
    "duration": 578,
    "start_time": "2021-12-06T17:58:05.354Z"
   },
   {
    "duration": 7,
    "start_time": "2021-12-06T17:58:05.934Z"
   },
   {
    "duration": 22,
    "start_time": "2021-12-06T17:58:05.943Z"
   },
   {
    "duration": 10,
    "start_time": "2021-12-06T17:58:05.967Z"
   },
   {
    "duration": 8,
    "start_time": "2021-12-06T17:58:05.979Z"
   },
   {
    "duration": 7,
    "start_time": "2021-12-06T17:58:05.989Z"
   },
   {
    "duration": 7,
    "start_time": "2021-12-06T17:58:05.998Z"
   },
   {
    "duration": 7,
    "start_time": "2021-12-06T17:58:06.008Z"
   },
   {
    "duration": 11,
    "start_time": "2021-12-06T17:58:06.017Z"
   },
   {
    "duration": 14,
    "start_time": "2021-12-06T17:58:06.029Z"
   },
   {
    "duration": 5,
    "start_time": "2021-12-06T17:58:06.045Z"
   },
   {
    "duration": 9,
    "start_time": "2021-12-06T17:58:06.052Z"
   },
   {
    "duration": 12,
    "start_time": "2021-12-06T17:58:06.062Z"
   },
   {
    "duration": 20,
    "start_time": "2021-12-06T17:58:06.076Z"
   },
   {
    "duration": 7,
    "start_time": "2021-12-06T17:58:06.097Z"
   },
   {
    "duration": 12,
    "start_time": "2021-12-06T17:58:06.106Z"
   },
   {
    "duration": 12,
    "start_time": "2021-12-06T17:58:06.120Z"
   },
   {
    "duration": 12,
    "start_time": "2021-12-06T17:58:06.133Z"
   },
   {
    "duration": 7,
    "start_time": "2021-12-06T17:58:06.146Z"
   },
   {
    "duration": 16,
    "start_time": "2021-12-06T17:58:06.154Z"
   },
   {
    "duration": 19,
    "start_time": "2021-12-06T17:58:06.172Z"
   },
   {
    "duration": 7,
    "start_time": "2021-12-06T17:58:06.193Z"
   },
   {
    "duration": 5,
    "start_time": "2021-12-06T17:58:06.203Z"
   },
   {
    "duration": 11,
    "start_time": "2021-12-06T17:58:06.210Z"
   },
   {
    "duration": 5,
    "start_time": "2021-12-06T17:58:06.222Z"
   },
   {
    "duration": 12,
    "start_time": "2021-12-06T17:58:06.229Z"
   },
   {
    "duration": 10,
    "start_time": "2021-12-06T17:58:06.243Z"
   },
   {
    "duration": 7,
    "start_time": "2021-12-06T17:58:06.255Z"
   },
   {
    "duration": 7,
    "start_time": "2021-12-06T17:58:06.263Z"
   },
   {
    "duration": 20,
    "start_time": "2021-12-06T17:58:06.272Z"
   },
   {
    "duration": 5,
    "start_time": "2021-12-06T17:58:06.293Z"
   },
   {
    "duration": 277,
    "start_time": "2021-12-06T17:58:06.300Z"
   },
   {
    "duration": 4,
    "start_time": "2021-12-06T17:58:06.579Z"
   },
   {
    "duration": 13,
    "start_time": "2021-12-06T17:58:06.591Z"
   },
   {
    "duration": 14,
    "start_time": "2021-12-06T17:58:06.606Z"
   },
   {
    "duration": 13,
    "start_time": "2021-12-06T17:58:06.622Z"
   },
   {
    "duration": 4,
    "start_time": "2021-12-06T17:58:06.636Z"
   },
   {
    "duration": 5,
    "start_time": "2021-12-06T17:58:06.641Z"
   },
   {
    "duration": 5,
    "start_time": "2021-12-06T17:58:06.647Z"
   },
   {
    "duration": 39,
    "start_time": "2021-12-06T17:58:06.654Z"
   },
   {
    "duration": 23,
    "start_time": "2021-12-06T17:58:06.694Z"
   },
   {
    "duration": 11,
    "start_time": "2021-12-06T17:58:06.719Z"
   },
   {
    "duration": 6,
    "start_time": "2021-12-06T17:58:06.731Z"
   },
   {
    "duration": 27,
    "start_time": "2021-12-06T17:58:06.738Z"
   },
   {
    "duration": 5,
    "start_time": "2021-12-06T17:58:06.767Z"
   },
   {
    "duration": 21,
    "start_time": "2021-12-06T17:58:06.774Z"
   },
   {
    "duration": 7,
    "start_time": "2021-12-06T17:58:06.797Z"
   },
   {
    "duration": 8,
    "start_time": "2021-12-06T17:58:06.806Z"
   },
   {
    "duration": 8,
    "start_time": "2021-12-06T17:58:06.815Z"
   },
   {
    "duration": 9,
    "start_time": "2021-12-06T17:58:06.825Z"
   },
   {
    "duration": 6,
    "start_time": "2021-12-06T17:58:06.836Z"
   },
   {
    "duration": 7,
    "start_time": "2021-12-06T17:58:06.844Z"
   },
   {
    "duration": 45,
    "start_time": "2021-12-06T17:58:06.852Z"
   },
   {
    "duration": 7,
    "start_time": "2021-12-06T17:58:06.899Z"
   },
   {
    "duration": 13,
    "start_time": "2021-12-06T17:58:06.907Z"
   },
   {
    "duration": 2,
    "start_time": "2021-12-06T17:58:06.922Z"
   },
   {
    "duration": 33,
    "start_time": "2021-12-06T17:58:06.925Z"
   },
   {
    "duration": 2,
    "start_time": "2021-12-06T17:58:06.960Z"
   },
   {
    "duration": 31,
    "start_time": "2021-12-06T17:58:06.963Z"
   },
   {
    "duration": 8,
    "start_time": "2021-12-06T17:58:06.995Z"
   },
   {
    "duration": 8,
    "start_time": "2021-12-06T17:58:07.004Z"
   },
   {
    "duration": 5,
    "start_time": "2021-12-06T17:58:07.014Z"
   },
   {
    "duration": 12,
    "start_time": "2021-12-06T17:58:07.020Z"
   },
   {
    "duration": 8,
    "start_time": "2021-12-06T17:58:07.034Z"
   },
   {
    "duration": 26,
    "start_time": "2021-12-06T17:58:07.043Z"
   },
   {
    "duration": 10,
    "start_time": "2021-12-06T17:58:07.071Z"
   },
   {
    "duration": 2,
    "start_time": "2021-12-06T17:58:07.082Z"
   },
   {
    "duration": 2,
    "start_time": "2021-12-06T17:58:07.095Z"
   },
   {
    "duration": 5,
    "start_time": "2021-12-06T17:58:07.099Z"
   },
   {
    "duration": 5,
    "start_time": "2021-12-06T17:58:07.106Z"
   },
   {
    "duration": 5,
    "start_time": "2021-12-06T17:58:07.112Z"
   },
   {
    "duration": 19,
    "start_time": "2021-12-06T17:58:07.119Z"
   },
   {
    "duration": 5,
    "start_time": "2021-12-06T17:58:07.139Z"
   },
   {
    "duration": 6,
    "start_time": "2021-12-06T17:58:07.146Z"
   },
   {
    "duration": 12,
    "start_time": "2021-12-06T17:58:07.153Z"
   },
   {
    "duration": 2,
    "start_time": "2021-12-06T17:58:07.191Z"
   },
   {
    "duration": 6,
    "start_time": "2021-12-06T17:58:07.194Z"
   },
   {
    "duration": 8,
    "start_time": "2021-12-06T17:58:07.201Z"
   },
   {
    "duration": 6,
    "start_time": "2021-12-06T17:58:07.210Z"
   },
   {
    "duration": 9,
    "start_time": "2021-12-06T17:58:07.217Z"
   },
   {
    "duration": 4,
    "start_time": "2021-12-06T17:58:07.228Z"
   },
   {
    "duration": 6,
    "start_time": "2021-12-06T17:58:07.233Z"
   },
   {
    "duration": 13,
    "start_time": "2021-12-06T17:58:07.241Z"
   },
   {
    "duration": 9,
    "start_time": "2021-12-06T17:58:07.256Z"
   },
   {
    "duration": 27,
    "start_time": "2021-12-06T17:58:07.267Z"
   },
   {
    "duration": 8,
    "start_time": "2021-12-06T17:58:07.296Z"
   },
   {
    "duration": 6,
    "start_time": "2021-12-06T17:58:07.306Z"
   },
   {
    "duration": 44,
    "start_time": "2021-12-06T17:58:07.314Z"
   },
   {
    "duration": 75,
    "start_time": "2021-12-06T17:58:07.360Z"
   },
   {
    "duration": 8,
    "start_time": "2021-12-06T17:58:07.437Z"
   },
   {
    "duration": 6,
    "start_time": "2021-12-06T17:58:07.447Z"
   },
   {
    "duration": 8,
    "start_time": "2021-12-06T17:58:07.454Z"
   },
   {
    "duration": 12,
    "start_time": "2021-12-06T18:00:28.545Z"
   },
   {
    "duration": 11,
    "start_time": "2021-12-06T18:21:26.559Z"
   },
   {
    "duration": 13,
    "start_time": "2021-12-06T18:22:05.642Z"
   },
   {
    "duration": 15,
    "start_time": "2021-12-06T18:22:16.730Z"
   },
   {
    "duration": 11,
    "start_time": "2021-12-06T18:23:48.714Z"
   },
   {
    "duration": 13,
    "start_time": "2021-12-06T18:30:40.952Z"
   },
   {
    "duration": 12,
    "start_time": "2021-12-06T18:31:05.313Z"
   },
   {
    "duration": 18,
    "start_time": "2021-12-06T18:31:51.633Z"
   },
   {
    "duration": 12,
    "start_time": "2021-12-06T18:35:18.494Z"
   },
   {
    "duration": 268,
    "start_time": "2021-12-06T22:32:17.133Z"
   },
   {
    "duration": 701,
    "start_time": "2021-12-06T22:32:23.066Z"
   },
   {
    "duration": 8,
    "start_time": "2021-12-06T22:32:23.769Z"
   },
   {
    "duration": 21,
    "start_time": "2021-12-06T22:32:23.779Z"
   },
   {
    "duration": 11,
    "start_time": "2021-12-06T22:32:23.803Z"
   },
   {
    "duration": 10,
    "start_time": "2021-12-06T22:32:23.816Z"
   },
   {
    "duration": 37,
    "start_time": "2021-12-06T22:32:23.828Z"
   },
   {
    "duration": 5,
    "start_time": "2021-12-06T22:32:23.867Z"
   },
   {
    "duration": 19,
    "start_time": "2021-12-06T22:32:23.875Z"
   },
   {
    "duration": 8,
    "start_time": "2021-12-06T22:32:23.896Z"
   },
   {
    "duration": 14,
    "start_time": "2021-12-06T22:32:23.906Z"
   },
   {
    "duration": 4,
    "start_time": "2021-12-06T22:32:23.922Z"
   },
   {
    "duration": 12,
    "start_time": "2021-12-06T22:32:23.928Z"
   },
   {
    "duration": 24,
    "start_time": "2021-12-06T22:32:23.942Z"
   },
   {
    "duration": 10,
    "start_time": "2021-12-06T22:32:23.968Z"
   },
   {
    "duration": 9,
    "start_time": "2021-12-06T22:32:23.980Z"
   },
   {
    "duration": 20,
    "start_time": "2021-12-06T22:32:23.991Z"
   },
   {
    "duration": 9,
    "start_time": "2021-12-06T22:32:24.013Z"
   },
   {
    "duration": 22,
    "start_time": "2021-12-06T22:32:24.024Z"
   },
   {
    "duration": 8,
    "start_time": "2021-12-06T22:32:24.047Z"
   },
   {
    "duration": 13,
    "start_time": "2021-12-06T22:32:24.057Z"
   },
   {
    "duration": 9,
    "start_time": "2021-12-06T22:32:24.072Z"
   },
   {
    "duration": 10,
    "start_time": "2021-12-06T22:32:24.083Z"
   },
   {
    "duration": 6,
    "start_time": "2021-12-06T22:32:24.096Z"
   },
   {
    "duration": 15,
    "start_time": "2021-12-06T22:32:24.105Z"
   },
   {
    "duration": 7,
    "start_time": "2021-12-06T22:32:24.121Z"
   },
   {
    "duration": 9,
    "start_time": "2021-12-06T22:32:24.130Z"
   },
   {
    "duration": 24,
    "start_time": "2021-12-06T22:32:24.140Z"
   },
   {
    "duration": 7,
    "start_time": "2021-12-06T22:32:24.166Z"
   },
   {
    "duration": 10,
    "start_time": "2021-12-06T22:32:24.174Z"
   },
   {
    "duration": 9,
    "start_time": "2021-12-06T22:32:24.186Z"
   },
   {
    "duration": 11,
    "start_time": "2021-12-06T22:32:24.197Z"
   },
   {
    "duration": 296,
    "start_time": "2021-12-06T22:32:24.210Z"
   },
   {
    "duration": 5,
    "start_time": "2021-12-06T22:32:24.509Z"
   },
   {
    "duration": 18,
    "start_time": "2021-12-06T22:32:24.515Z"
   },
   {
    "duration": 39,
    "start_time": "2021-12-06T22:32:24.535Z"
   },
   {
    "duration": 16,
    "start_time": "2021-12-06T22:32:24.576Z"
   },
   {
    "duration": 4,
    "start_time": "2021-12-06T22:32:24.593Z"
   },
   {
    "duration": 6,
    "start_time": "2021-12-06T22:32:24.598Z"
   },
   {
    "duration": 6,
    "start_time": "2021-12-06T22:32:24.606Z"
   },
   {
    "duration": 9,
    "start_time": "2021-12-06T22:32:24.614Z"
   },
   {
    "duration": 38,
    "start_time": "2021-12-06T22:32:24.625Z"
   },
   {
    "duration": 8,
    "start_time": "2021-12-06T22:32:24.665Z"
   },
   {
    "duration": 7,
    "start_time": "2021-12-06T22:32:24.675Z"
   },
   {
    "duration": 35,
    "start_time": "2021-12-06T22:32:24.683Z"
   },
   {
    "duration": 7,
    "start_time": "2021-12-06T22:32:24.719Z"
   },
   {
    "duration": 9,
    "start_time": "2021-12-06T22:32:24.728Z"
   },
   {
    "duration": 29,
    "start_time": "2021-12-06T22:32:24.739Z"
   },
   {
    "duration": 8,
    "start_time": "2021-12-06T22:32:24.770Z"
   },
   {
    "duration": 11,
    "start_time": "2021-12-06T22:32:24.780Z"
   },
   {
    "duration": 8,
    "start_time": "2021-12-06T22:32:24.793Z"
   },
   {
    "duration": 11,
    "start_time": "2021-12-06T22:32:24.802Z"
   },
   {
    "duration": 9,
    "start_time": "2021-12-06T22:32:24.815Z"
   },
   {
    "duration": 39,
    "start_time": "2021-12-06T22:32:24.825Z"
   },
   {
    "duration": 7,
    "start_time": "2021-12-06T22:32:24.865Z"
   },
   {
    "duration": 32,
    "start_time": "2021-12-06T22:32:24.873Z"
   },
   {
    "duration": 13,
    "start_time": "2021-12-06T22:32:24.907Z"
   },
   {
    "duration": 17,
    "start_time": "2021-12-06T22:32:24.921Z"
   },
   {
    "duration": 9,
    "start_time": "2021-12-06T22:32:24.940Z"
   },
   {
    "duration": 16,
    "start_time": "2021-12-06T22:32:24.951Z"
   },
   {
    "duration": 10,
    "start_time": "2021-12-06T22:32:24.968Z"
   },
   {
    "duration": 8,
    "start_time": "2021-12-06T22:32:24.979Z"
   },
   {
    "duration": 10,
    "start_time": "2021-12-06T22:32:24.988Z"
   },
   {
    "duration": 9,
    "start_time": "2021-12-06T22:32:24.999Z"
   },
   {
    "duration": 14,
    "start_time": "2021-12-06T22:32:25.009Z"
   },
   {
    "duration": 7,
    "start_time": "2021-12-06T22:32:25.025Z"
   },
   {
    "duration": 11,
    "start_time": "2021-12-06T22:32:25.034Z"
   },
   {
    "duration": 2,
    "start_time": "2021-12-06T22:32:25.064Z"
   },
   {
    "duration": 46,
    "start_time": "2021-12-06T22:32:25.071Z"
   },
   {
    "duration": 11,
    "start_time": "2021-12-06T22:32:25.119Z"
   },
   {
    "duration": 14,
    "start_time": "2021-12-06T22:32:25.132Z"
   },
   {
    "duration": 11,
    "start_time": "2021-12-06T22:32:25.148Z"
   },
   {
    "duration": 16,
    "start_time": "2021-12-06T22:32:25.161Z"
   },
   {
    "duration": 17,
    "start_time": "2021-12-06T22:32:25.179Z"
   },
   {
    "duration": 10,
    "start_time": "2021-12-06T22:32:25.197Z"
   },
   {
    "duration": 18,
    "start_time": "2021-12-06T22:32:25.209Z"
   },
   {
    "duration": 10,
    "start_time": "2021-12-06T22:32:25.229Z"
   },
   {
    "duration": 10,
    "start_time": "2021-12-06T22:32:25.241Z"
   },
   {
    "duration": 10,
    "start_time": "2021-12-06T22:32:25.253Z"
   },
   {
    "duration": 11,
    "start_time": "2021-12-06T22:32:25.264Z"
   },
   {
    "duration": 16,
    "start_time": "2021-12-06T22:32:25.277Z"
   },
   {
    "duration": 7,
    "start_time": "2021-12-06T22:32:25.295Z"
   },
   {
    "duration": 7,
    "start_time": "2021-12-06T22:32:25.304Z"
   },
   {
    "duration": 26,
    "start_time": "2021-12-06T22:32:25.313Z"
   },
   {
    "duration": 12,
    "start_time": "2021-12-06T22:32:25.341Z"
   },
   {
    "duration": 10,
    "start_time": "2021-12-06T22:32:25.355Z"
   },
   {
    "duration": 10,
    "start_time": "2021-12-06T22:32:25.367Z"
   },
   {
    "duration": 13,
    "start_time": "2021-12-06T22:32:25.379Z"
   },
   {
    "duration": 61,
    "start_time": "2021-12-06T22:32:25.394Z"
   },
   {
    "duration": 50,
    "start_time": "2021-12-06T22:32:25.457Z"
   },
   {
    "duration": 9,
    "start_time": "2021-12-06T22:32:25.509Z"
   },
   {
    "duration": 8,
    "start_time": "2021-12-06T22:32:25.520Z"
   },
   {
    "duration": 35,
    "start_time": "2021-12-06T22:32:25.530Z"
   },
   {
    "duration": 8,
    "start_time": "2021-12-06T22:37:05.812Z"
   },
   {
    "duration": 8,
    "start_time": "2021-12-06T22:37:11.823Z"
   },
   {
    "duration": 656,
    "start_time": "2021-12-06T23:26:36.280Z"
   },
   {
    "duration": 62,
    "start_time": "2021-12-06T23:34:15.587Z"
   },
   {
    "duration": 639,
    "start_time": "2021-12-06T23:34:44.805Z"
   },
   {
    "duration": 658,
    "start_time": "2021-12-06T23:39:06.543Z"
   },
   {
    "duration": 10,
    "start_time": "2021-12-06T23:40:55.561Z"
   },
   {
    "duration": 16,
    "start_time": "2021-12-06T23:41:14.885Z"
   },
   {
    "duration": 11,
    "start_time": "2021-12-06T23:51:33.671Z"
   },
   {
    "duration": 9,
    "start_time": "2021-12-07T00:06:29.089Z"
   },
   {
    "duration": 8,
    "start_time": "2021-12-07T00:08:17.146Z"
   },
   {
    "duration": 7,
    "start_time": "2021-12-07T00:21:35.220Z"
   },
   {
    "duration": 6,
    "start_time": "2021-12-07T00:27:09.234Z"
   },
   {
    "duration": 7,
    "start_time": "2021-12-07T00:36:23.453Z"
   },
   {
    "duration": 6,
    "start_time": "2021-12-07T00:41:33.671Z"
   },
   {
    "duration": 6,
    "start_time": "2021-12-07T00:44:38.457Z"
   },
   {
    "duration": 8,
    "start_time": "2021-12-07T00:45:18.616Z"
   },
   {
    "duration": 7,
    "start_time": "2021-12-07T00:45:35.142Z"
   },
   {
    "duration": 6,
    "start_time": "2021-12-07T00:46:22.060Z"
   },
   {
    "duration": 6,
    "start_time": "2021-12-07T00:46:35.020Z"
   },
   {
    "duration": 6,
    "start_time": "2021-12-07T00:59:00.285Z"
   },
   {
    "duration": 11,
    "start_time": "2021-12-07T01:01:19.615Z"
   },
   {
    "duration": 6,
    "start_time": "2021-12-07T01:01:30.389Z"
   },
   {
    "duration": 8,
    "start_time": "2021-12-07T01:03:25.486Z"
   },
   {
    "duration": 6,
    "start_time": "2021-12-07T01:13:04.747Z"
   },
   {
    "duration": 11,
    "start_time": "2021-12-07T01:13:12.468Z"
   },
   {
    "duration": 6,
    "start_time": "2021-12-07T01:13:16.165Z"
   },
   {
    "duration": 292,
    "start_time": "2021-12-07T07:46:56.206Z"
   },
   {
    "duration": 577,
    "start_time": "2021-12-07T07:47:02.423Z"
   },
   {
    "duration": 8,
    "start_time": "2021-12-07T07:47:03.001Z"
   },
   {
    "duration": 23,
    "start_time": "2021-12-07T07:47:03.010Z"
   },
   {
    "duration": 16,
    "start_time": "2021-12-07T07:47:03.035Z"
   },
   {
    "duration": 15,
    "start_time": "2021-12-07T07:47:03.053Z"
   },
   {
    "duration": 13,
    "start_time": "2021-12-07T07:47:03.069Z"
   },
   {
    "duration": 8,
    "start_time": "2021-12-07T07:47:03.083Z"
   },
   {
    "duration": 17,
    "start_time": "2021-12-07T07:47:03.093Z"
   },
   {
    "duration": 6,
    "start_time": "2021-12-07T07:47:03.112Z"
   },
   {
    "duration": 7,
    "start_time": "2021-12-07T07:47:03.119Z"
   },
   {
    "duration": 7,
    "start_time": "2021-12-07T07:47:03.128Z"
   },
   {
    "duration": 9,
    "start_time": "2021-12-07T07:47:03.137Z"
   },
   {
    "duration": 7,
    "start_time": "2021-12-07T07:47:03.148Z"
   },
   {
    "duration": 6,
    "start_time": "2021-12-07T07:47:03.157Z"
   },
   {
    "duration": 7,
    "start_time": "2021-12-07T07:47:03.165Z"
   },
   {
    "duration": 16,
    "start_time": "2021-12-07T07:47:03.174Z"
   },
   {
    "duration": 7,
    "start_time": "2021-12-07T07:47:03.192Z"
   },
   {
    "duration": 4,
    "start_time": "2021-12-07T07:47:03.200Z"
   },
   {
    "duration": 7,
    "start_time": "2021-12-07T07:47:03.206Z"
   },
   {
    "duration": 5,
    "start_time": "2021-12-07T07:47:03.215Z"
   },
   {
    "duration": 5,
    "start_time": "2021-12-07T07:47:03.221Z"
   },
   {
    "duration": 5,
    "start_time": "2021-12-07T07:47:03.228Z"
   },
   {
    "duration": 6,
    "start_time": "2021-12-07T07:47:03.236Z"
   },
   {
    "duration": 3,
    "start_time": "2021-12-07T07:47:03.244Z"
   },
   {
    "duration": 4,
    "start_time": "2021-12-07T07:47:03.249Z"
   },
   {
    "duration": 6,
    "start_time": "2021-12-07T07:47:03.288Z"
   },
   {
    "duration": 22,
    "start_time": "2021-12-07T07:47:03.295Z"
   },
   {
    "duration": 5,
    "start_time": "2021-12-07T07:47:03.318Z"
   },
   {
    "duration": 7,
    "start_time": "2021-12-07T07:47:03.324Z"
   },
   {
    "duration": 11,
    "start_time": "2021-12-07T07:47:03.332Z"
   },
   {
    "duration": 239,
    "start_time": "2021-12-07T07:47:03.344Z"
   },
   {
    "duration": 4,
    "start_time": "2021-12-07T07:47:03.585Z"
   },
   {
    "duration": 19,
    "start_time": "2021-12-07T07:47:03.590Z"
   },
   {
    "duration": 14,
    "start_time": "2021-12-07T07:47:03.610Z"
   },
   {
    "duration": 12,
    "start_time": "2021-12-07T07:47:03.625Z"
   },
   {
    "duration": 2,
    "start_time": "2021-12-07T07:47:03.639Z"
   },
   {
    "duration": 5,
    "start_time": "2021-12-07T07:47:03.643Z"
   },
   {
    "duration": 5,
    "start_time": "2021-12-07T07:47:03.649Z"
   },
   {
    "duration": 6,
    "start_time": "2021-12-07T07:47:03.655Z"
   },
   {
    "duration": 10,
    "start_time": "2021-12-07T07:47:03.688Z"
   },
   {
    "duration": 8,
    "start_time": "2021-12-07T07:47:03.700Z"
   },
   {
    "duration": 6,
    "start_time": "2021-12-07T07:47:03.709Z"
   },
   {
    "duration": 24,
    "start_time": "2021-12-07T07:47:03.716Z"
   },
   {
    "duration": 8,
    "start_time": "2021-12-07T07:47:03.741Z"
   },
   {
    "duration": 8,
    "start_time": "2021-12-07T07:47:03.750Z"
   },
   {
    "duration": 6,
    "start_time": "2021-12-07T07:47:03.787Z"
   },
   {
    "duration": 8,
    "start_time": "2021-12-07T07:47:03.794Z"
   },
   {
    "duration": 7,
    "start_time": "2021-12-07T07:47:03.803Z"
   },
   {
    "duration": 6,
    "start_time": "2021-12-07T07:47:03.812Z"
   },
   {
    "duration": 6,
    "start_time": "2021-12-07T07:47:03.820Z"
   },
   {
    "duration": 6,
    "start_time": "2021-12-07T07:47:03.827Z"
   },
   {
    "duration": 6,
    "start_time": "2021-12-07T07:47:03.834Z"
   },
   {
    "duration": 48,
    "start_time": "2021-12-07T07:47:03.841Z"
   },
   {
    "duration": 10,
    "start_time": "2021-12-07T07:47:03.891Z"
   },
   {
    "duration": 10,
    "start_time": "2021-12-07T07:47:03.903Z"
   },
   {
    "duration": 10,
    "start_time": "2021-12-07T07:47:03.914Z"
   },
   {
    "duration": 7,
    "start_time": "2021-12-07T07:47:03.925Z"
   },
   {
    "duration": 4,
    "start_time": "2021-12-07T07:47:03.933Z"
   },
   {
    "duration": 4,
    "start_time": "2021-12-07T07:47:03.938Z"
   },
   {
    "duration": 5,
    "start_time": "2021-12-07T07:47:03.943Z"
   },
   {
    "duration": 38,
    "start_time": "2021-12-07T07:47:03.949Z"
   },
   {
    "duration": 7,
    "start_time": "2021-12-07T07:47:03.989Z"
   },
   {
    "duration": 7,
    "start_time": "2021-12-07T07:47:03.998Z"
   },
   {
    "duration": 6,
    "start_time": "2021-12-07T07:47:04.007Z"
   },
   {
    "duration": 15,
    "start_time": "2021-12-07T07:47:04.015Z"
   },
   {
    "duration": 3,
    "start_time": "2021-12-07T07:47:04.031Z"
   },
   {
    "duration": 5,
    "start_time": "2021-12-07T07:47:04.035Z"
   },
   {
    "duration": 2,
    "start_time": "2021-12-07T07:47:04.045Z"
   },
   {
    "duration": 39,
    "start_time": "2021-12-07T07:47:04.049Z"
   },
   {
    "duration": 5,
    "start_time": "2021-12-07T07:47:04.089Z"
   },
   {
    "duration": 13,
    "start_time": "2021-12-07T07:47:04.095Z"
   },
   {
    "duration": 5,
    "start_time": "2021-12-07T07:47:04.109Z"
   },
   {
    "duration": 5,
    "start_time": "2021-12-07T07:47:04.115Z"
   },
   {
    "duration": 11,
    "start_time": "2021-12-07T07:47:04.121Z"
   },
   {
    "duration": 2,
    "start_time": "2021-12-07T07:47:04.134Z"
   },
   {
    "duration": 3,
    "start_time": "2021-12-07T07:47:04.138Z"
   },
   {
    "duration": 4,
    "start_time": "2021-12-07T07:47:04.143Z"
   },
   {
    "duration": 5,
    "start_time": "2021-12-07T07:47:04.148Z"
   },
   {
    "duration": 4,
    "start_time": "2021-12-07T07:47:04.187Z"
   },
   {
    "duration": 7,
    "start_time": "2021-12-07T07:47:04.193Z"
   },
   {
    "duration": 9,
    "start_time": "2021-12-07T07:47:04.201Z"
   },
   {
    "duration": 16,
    "start_time": "2021-12-07T07:47:04.211Z"
   },
   {
    "duration": 7,
    "start_time": "2021-12-07T07:47:04.229Z"
   },
   {
    "duration": 5,
    "start_time": "2021-12-07T07:47:04.238Z"
   },
   {
    "duration": 11,
    "start_time": "2021-12-07T07:47:04.244Z"
   },
   {
    "duration": 6,
    "start_time": "2021-12-07T07:47:04.256Z"
   },
   {
    "duration": 56,
    "start_time": "2021-12-07T07:47:04.264Z"
   },
   {
    "duration": 38,
    "start_time": "2021-12-07T07:47:04.321Z"
   },
   {
    "duration": 7,
    "start_time": "2021-12-07T07:47:04.361Z"
   },
   {
    "duration": 22,
    "start_time": "2021-12-07T07:47:04.369Z"
   },
   {
    "duration": 7,
    "start_time": "2021-12-07T07:47:04.393Z"
   },
   {
    "duration": 4,
    "start_time": "2021-12-07T08:09:29.933Z"
   },
   {
    "duration": 4,
    "start_time": "2021-12-07T08:11:37.592Z"
   },
   {
    "duration": 5,
    "start_time": "2021-12-07T08:11:41.102Z"
   },
   {
    "duration": 5,
    "start_time": "2021-12-07T08:31:01.143Z"
   },
   {
    "duration": 4,
    "start_time": "2021-12-07T08:31:58.588Z"
   },
   {
    "duration": 7,
    "start_time": "2021-12-07T08:46:27.954Z"
   },
   {
    "duration": 7,
    "start_time": "2021-12-07T08:53:04.962Z"
   },
   {
    "duration": 5,
    "start_time": "2021-12-07T08:59:09.729Z"
   },
   {
    "duration": 599,
    "start_time": "2021-12-07T09:00:56.999Z"
   },
   {
    "duration": 7,
    "start_time": "2021-12-07T09:01:02.773Z"
   },
   {
    "duration": 14,
    "start_time": "2021-12-07T09:01:04.721Z"
   },
   {
    "duration": 10,
    "start_time": "2021-12-07T09:01:13.096Z"
   },
   {
    "duration": 9,
    "start_time": "2021-12-07T09:01:24.266Z"
   },
   {
    "duration": 7,
    "start_time": "2021-12-07T09:01:30.609Z"
   },
   {
    "duration": 7,
    "start_time": "2021-12-07T09:01:35.652Z"
   },
   {
    "duration": 5,
    "start_time": "2021-12-07T09:01:42.503Z"
   },
   {
    "duration": 5,
    "start_time": "2021-12-07T09:01:47.953Z"
   },
   {
    "duration": 6,
    "start_time": "2021-12-07T09:01:57.082Z"
   },
   {
    "duration": 5,
    "start_time": "2021-12-07T09:02:34.051Z"
   },
   {
    "duration": 10,
    "start_time": "2021-12-07T09:02:37.343Z"
   },
   {
    "duration": 5,
    "start_time": "2021-12-07T09:02:40.187Z"
   },
   {
    "duration": 6,
    "start_time": "2021-12-07T09:02:52.238Z"
   },
   {
    "duration": 8,
    "start_time": "2021-12-07T09:02:58.248Z"
   },
   {
    "duration": 5,
    "start_time": "2021-12-07T09:03:00.850Z"
   },
   {
    "duration": 6,
    "start_time": "2021-12-07T09:03:11.675Z"
   },
   {
    "duration": 4,
    "start_time": "2021-12-07T09:03:25.278Z"
   },
   {
    "duration": 4,
    "start_time": "2021-12-07T09:04:26.926Z"
   },
   {
    "duration": 5,
    "start_time": "2021-12-07T09:04:31.793Z"
   },
   {
    "duration": 6,
    "start_time": "2021-12-07T09:04:40.082Z"
   },
   {
    "duration": 6,
    "start_time": "2021-12-07T09:04:47.981Z"
   },
   {
    "duration": 4,
    "start_time": "2021-12-07T09:04:50.424Z"
   },
   {
    "duration": 7,
    "start_time": "2021-12-07T09:05:04.802Z"
   },
   {
    "duration": 6,
    "start_time": "2021-12-07T09:05:12.939Z"
   },
   {
    "duration": 5,
    "start_time": "2021-12-07T09:05:26.777Z"
   },
   {
    "duration": 5,
    "start_time": "2021-12-07T09:05:33.837Z"
   },
   {
    "duration": 262,
    "start_time": "2021-12-07T09:11:09.543Z"
   },
   {
    "duration": 4,
    "start_time": "2021-12-07T09:11:12.029Z"
   },
   {
    "duration": 16,
    "start_time": "2021-12-07T09:24:14.986Z"
   },
   {
    "duration": 15,
    "start_time": "2021-12-07T09:26:49.614Z"
   },
   {
    "duration": 15,
    "start_time": "2021-12-07T09:26:54.711Z"
   },
   {
    "duration": 3,
    "start_time": "2021-12-07T09:30:21.875Z"
   },
   {
    "duration": 4,
    "start_time": "2021-12-07T10:02:43.929Z"
   },
   {
    "duration": 6,
    "start_time": "2021-12-07T10:02:53.265Z"
   },
   {
    "duration": 10,
    "start_time": "2021-12-07T10:03:19.307Z"
   },
   {
    "duration": 7,
    "start_time": "2021-12-07T10:03:30.054Z"
   },
   {
    "duration": 409,
    "start_time": "2021-12-07T22:25:10.416Z"
   },
   {
    "duration": 878,
    "start_time": "2021-12-07T22:25:20.647Z"
   },
   {
    "duration": 14,
    "start_time": "2021-12-07T22:25:21.528Z"
   },
   {
    "duration": 25,
    "start_time": "2021-12-07T22:25:21.546Z"
   },
   {
    "duration": 44,
    "start_time": "2021-12-07T22:25:21.575Z"
   },
   {
    "duration": 14,
    "start_time": "2021-12-07T22:25:21.623Z"
   },
   {
    "duration": 13,
    "start_time": "2021-12-07T22:25:21.639Z"
   },
   {
    "duration": 8,
    "start_time": "2021-12-07T22:25:21.655Z"
   },
   {
    "duration": 52,
    "start_time": "2021-12-07T22:25:21.669Z"
   },
   {
    "duration": 8,
    "start_time": "2021-12-07T22:25:21.724Z"
   },
   {
    "duration": 9,
    "start_time": "2021-12-07T22:25:21.735Z"
   },
   {
    "duration": 8,
    "start_time": "2021-12-07T22:25:21.747Z"
   },
   {
    "duration": 13,
    "start_time": "2021-12-07T22:25:21.757Z"
   },
   {
    "duration": 49,
    "start_time": "2021-12-07T22:25:21.773Z"
   },
   {
    "duration": 19,
    "start_time": "2021-12-07T22:25:21.824Z"
   },
   {
    "duration": 14,
    "start_time": "2021-12-07T22:25:21.845Z"
   },
   {
    "duration": 7,
    "start_time": "2021-12-07T22:25:21.861Z"
   },
   {
    "duration": 47,
    "start_time": "2021-12-07T22:25:21.871Z"
   },
   {
    "duration": 5,
    "start_time": "2021-12-07T22:25:21.920Z"
   },
   {
    "duration": 12,
    "start_time": "2021-12-07T22:25:21.927Z"
   },
   {
    "duration": 9,
    "start_time": "2021-12-07T22:25:21.942Z"
   },
   {
    "duration": 10,
    "start_time": "2021-12-07T22:25:21.953Z"
   },
   {
    "duration": 65,
    "start_time": "2021-12-07T22:25:21.966Z"
   },
   {
    "duration": 7,
    "start_time": "2021-12-07T22:25:22.037Z"
   },
   {
    "duration": 11,
    "start_time": "2021-12-07T22:25:22.048Z"
   },
   {
    "duration": 11,
    "start_time": "2021-12-07T22:25:22.062Z"
   },
   {
    "duration": 7,
    "start_time": "2021-12-07T22:25:22.077Z"
   },
   {
    "duration": 9,
    "start_time": "2021-12-07T22:25:22.119Z"
   },
   {
    "duration": 504,
    "start_time": "2021-12-07T22:25:22.131Z"
   },
   {
    "duration": 6,
    "start_time": "2021-12-07T22:25:22.637Z"
   },
   {
    "duration": 21,
    "start_time": "2021-12-07T22:25:22.646Z"
   },
   {
    "duration": 58,
    "start_time": "2021-12-07T22:25:22.669Z"
   },
   {
    "duration": 23,
    "start_time": "2021-12-07T22:25:22.729Z"
   },
   {
    "duration": 5,
    "start_time": "2021-12-07T22:25:22.754Z"
   },
   {
    "duration": 5,
    "start_time": "2021-12-07T22:25:22.761Z"
   },
   {
    "duration": 9,
    "start_time": "2021-12-07T22:25:22.768Z"
   },
   {
    "duration": 60,
    "start_time": "2021-12-07T22:25:22.779Z"
   },
   {
    "duration": 10,
    "start_time": "2021-12-07T22:25:22.842Z"
   },
   {
    "duration": 5,
    "start_time": "2021-12-07T22:25:22.855Z"
   },
   {
    "duration": 47,
    "start_time": "2021-12-07T22:27:45.592Z"
   },
   {
    "duration": 10,
    "start_time": "2021-12-07T22:31:41.018Z"
   },
   {
    "duration": 10,
    "start_time": "2021-12-07T22:38:56.681Z"
   },
   {
    "duration": 9,
    "start_time": "2021-12-07T22:42:11.514Z"
   },
   {
    "duration": 10,
    "start_time": "2021-12-07T22:51:37.616Z"
   },
   {
    "duration": 10,
    "start_time": "2021-12-07T22:52:22.176Z"
   },
   {
    "duration": 10,
    "start_time": "2021-12-07T22:53:17.263Z"
   },
   {
    "duration": 9,
    "start_time": "2021-12-07T23:00:31.378Z"
   },
   {
    "duration": 10,
    "start_time": "2021-12-07T23:06:28.937Z"
   },
   {
    "duration": 10,
    "start_time": "2021-12-07T23:06:47.511Z"
   },
   {
    "duration": 9,
    "start_time": "2021-12-07T23:20:37.125Z"
   },
   {
    "duration": 13,
    "start_time": "2021-12-07T23:23:16.685Z"
   },
   {
    "duration": 7,
    "start_time": "2021-12-07T23:41:39.256Z"
   },
   {
    "duration": 6,
    "start_time": "2021-12-07T23:42:07.896Z"
   },
   {
    "duration": 10,
    "start_time": "2021-12-07T23:42:35.904Z"
   },
   {
    "duration": 17,
    "start_time": "2021-12-07T23:44:33.394Z"
   },
   {
    "duration": 16,
    "start_time": "2021-12-07T23:57:28.066Z"
   },
   {
    "duration": 13,
    "start_time": "2021-12-07T23:59:24.084Z"
   },
   {
    "duration": 6,
    "start_time": "2021-12-07T23:59:26.841Z"
   },
   {
    "duration": 11,
    "start_time": "2021-12-08T00:01:24.907Z"
   },
   {
    "duration": 10,
    "start_time": "2021-12-08T00:01:45.345Z"
   },
   {
    "duration": 6,
    "start_time": "2021-12-08T00:16:46.734Z"
   },
   {
    "duration": 10,
    "start_time": "2021-12-08T00:28:32.803Z"
   },
   {
    "duration": 9,
    "start_time": "2021-12-08T00:28:42.398Z"
   },
   {
    "duration": 10,
    "start_time": "2021-12-08T00:40:18.577Z"
   },
   {
    "duration": 10,
    "start_time": "2021-12-08T00:41:51.021Z"
   },
   {
    "duration": 19,
    "start_time": "2021-12-08T00:52:18.902Z"
   },
   {
    "duration": 15,
    "start_time": "2021-12-08T00:52:53.938Z"
   },
   {
    "duration": 390,
    "start_time": "2021-12-08T07:17:38.410Z"
   },
   {
    "duration": 1043,
    "start_time": "2021-12-08T07:17:44.128Z"
   },
   {
    "duration": 9,
    "start_time": "2021-12-08T07:17:45.172Z"
   },
   {
    "duration": 16,
    "start_time": "2021-12-08T07:17:45.183Z"
   },
   {
    "duration": 11,
    "start_time": "2021-12-08T07:17:45.201Z"
   },
   {
    "duration": 9,
    "start_time": "2021-12-08T07:17:45.214Z"
   },
   {
    "duration": 7,
    "start_time": "2021-12-08T07:17:45.225Z"
   },
   {
    "duration": 9,
    "start_time": "2021-12-08T07:17:45.233Z"
   },
   {
    "duration": 6,
    "start_time": "2021-12-08T07:17:45.245Z"
   },
   {
    "duration": 7,
    "start_time": "2021-12-08T07:17:45.253Z"
   },
   {
    "duration": 49,
    "start_time": "2021-12-08T07:17:45.262Z"
   },
   {
    "duration": 7,
    "start_time": "2021-12-08T07:17:45.313Z"
   },
   {
    "duration": 11,
    "start_time": "2021-12-08T07:17:45.322Z"
   },
   {
    "duration": 6,
    "start_time": "2021-12-08T07:17:45.334Z"
   },
   {
    "duration": 6,
    "start_time": "2021-12-08T07:17:45.342Z"
   },
   {
    "duration": 10,
    "start_time": "2021-12-08T07:17:45.350Z"
   },
   {
    "duration": 50,
    "start_time": "2021-12-08T07:17:45.362Z"
   },
   {
    "duration": 9,
    "start_time": "2021-12-08T07:17:45.414Z"
   },
   {
    "duration": 4,
    "start_time": "2021-12-08T07:17:45.425Z"
   },
   {
    "duration": 6,
    "start_time": "2021-12-08T07:17:45.430Z"
   },
   {
    "duration": 7,
    "start_time": "2021-12-08T07:17:45.437Z"
   },
   {
    "duration": 8,
    "start_time": "2021-12-08T07:17:45.445Z"
   },
   {
    "duration": 6,
    "start_time": "2021-12-08T07:17:45.454Z"
   },
   {
    "duration": 44,
    "start_time": "2021-12-08T07:17:45.464Z"
   },
   {
    "duration": 7,
    "start_time": "2021-12-08T07:17:45.510Z"
   },
   {
    "duration": 12,
    "start_time": "2021-12-08T07:17:45.519Z"
   },
   {
    "duration": 7,
    "start_time": "2021-12-08T07:17:45.532Z"
   },
   {
    "duration": 6,
    "start_time": "2021-12-08T07:17:45.540Z"
   },
   {
    "duration": 295,
    "start_time": "2021-12-08T07:17:45.547Z"
   },
   {
    "duration": 5,
    "start_time": "2021-12-08T07:17:45.843Z"
   },
   {
    "duration": 18,
    "start_time": "2021-12-08T07:17:45.849Z"
   },
   {
    "duration": 15,
    "start_time": "2021-12-08T07:17:45.869Z"
   },
   {
    "duration": 32,
    "start_time": "2021-12-08T07:17:45.886Z"
   },
   {
    "duration": 3,
    "start_time": "2021-12-08T07:17:45.920Z"
   },
   {
    "duration": 6,
    "start_time": "2021-12-08T07:17:45.925Z"
   },
   {
    "duration": 8,
    "start_time": "2021-12-08T07:17:45.932Z"
   },
   {
    "duration": 16,
    "start_time": "2021-12-08T07:17:45.941Z"
   },
   {
    "duration": 7,
    "start_time": "2021-12-08T07:17:45.959Z"
   },
   {
    "duration": 6,
    "start_time": "2021-12-08T07:17:45.968Z"
   },
   {
    "duration": 52,
    "start_time": "2021-12-08T07:17:45.976Z"
   },
   {
    "duration": 7,
    "start_time": "2021-12-08T07:17:46.029Z"
   },
   {
    "duration": 7,
    "start_time": "2021-12-08T07:17:46.038Z"
   },
   {
    "duration": 9,
    "start_time": "2021-12-08T07:17:46.047Z"
   },
   {
    "duration": 9,
    "start_time": "2021-12-08T07:17:46.058Z"
   },
   {
    "duration": 41,
    "start_time": "2021-12-08T07:17:46.069Z"
   },
   {
    "duration": 7,
    "start_time": "2021-12-08T07:17:46.112Z"
   },
   {
    "duration": 9,
    "start_time": "2021-12-08T07:17:46.121Z"
   },
   {
    "duration": 8,
    "start_time": "2021-12-08T07:17:46.131Z"
   },
   {
    "duration": 7,
    "start_time": "2021-12-08T07:17:46.141Z"
   },
   {
    "duration": 11,
    "start_time": "2021-12-08T07:17:46.150Z"
   },
   {
    "duration": 49,
    "start_time": "2021-12-08T07:17:46.163Z"
   },
   {
    "duration": 13,
    "start_time": "2021-12-08T07:17:46.214Z"
   },
   {
    "duration": 9,
    "start_time": "2021-12-08T07:17:46.229Z"
   },
   {
    "duration": 4,
    "start_time": "2021-12-08T07:17:46.240Z"
   },
   {
    "duration": 8,
    "start_time": "2021-12-08T07:17:46.246Z"
   },
   {
    "duration": 3,
    "start_time": "2021-12-08T07:17:46.256Z"
   },
   {
    "duration": 51,
    "start_time": "2021-12-08T07:17:46.261Z"
   },
   {
    "duration": 7,
    "start_time": "2021-12-08T07:17:46.313Z"
   },
   {
    "duration": 6,
    "start_time": "2021-12-08T07:17:46.321Z"
   },
   {
    "duration": 6,
    "start_time": "2021-12-08T07:17:46.329Z"
   },
   {
    "duration": 9,
    "start_time": "2021-12-08T07:17:46.337Z"
   },
   {
    "duration": 12,
    "start_time": "2021-12-08T07:17:53.675Z"
   },
   {
    "duration": 13,
    "start_time": "2021-12-08T07:19:49.231Z"
   },
   {
    "duration": 662,
    "start_time": "2021-12-08T07:21:40.783Z"
   },
   {
    "duration": 11,
    "start_time": "2021-12-08T07:21:55.452Z"
   },
   {
    "duration": 14,
    "start_time": "2021-12-08T07:22:42.616Z"
   },
   {
    "duration": 9,
    "start_time": "2021-12-08T07:32:13.040Z"
   },
   {
    "duration": 8,
    "start_time": "2021-12-08T07:38:16.777Z"
   },
   {
    "duration": 5,
    "start_time": "2021-12-08T07:38:47.542Z"
   },
   {
    "duration": 645,
    "start_time": "2021-12-08T07:39:23.835Z"
   },
   {
    "duration": 8,
    "start_time": "2021-12-08T07:39:30.118Z"
   },
   {
    "duration": 15,
    "start_time": "2021-12-08T07:39:33.055Z"
   },
   {
    "duration": 10,
    "start_time": "2021-12-08T07:39:48.524Z"
   },
   {
    "duration": 10,
    "start_time": "2021-12-08T07:39:56.192Z"
   },
   {
    "duration": 8,
    "start_time": "2021-12-08T07:40:11.556Z"
   },
   {
    "duration": 6,
    "start_time": "2021-12-08T07:40:24.559Z"
   },
   {
    "duration": 6,
    "start_time": "2021-12-08T07:40:27.254Z"
   },
   {
    "duration": 6,
    "start_time": "2021-12-08T07:40:37.332Z"
   },
   {
    "duration": 7,
    "start_time": "2021-12-08T07:40:43.431Z"
   },
   {
    "duration": 5,
    "start_time": "2021-12-08T07:40:58.374Z"
   },
   {
    "duration": 11,
    "start_time": "2021-12-08T07:41:03.035Z"
   },
   {
    "duration": 5,
    "start_time": "2021-12-08T07:41:05.099Z"
   },
   {
    "duration": 6,
    "start_time": "2021-12-08T07:41:07.118Z"
   },
   {
    "duration": 9,
    "start_time": "2021-12-08T07:41:14.107Z"
   },
   {
    "duration": 6,
    "start_time": "2021-12-08T07:41:16.214Z"
   },
   {
    "duration": 8,
    "start_time": "2021-12-08T07:41:21.806Z"
   },
   {
    "duration": 5,
    "start_time": "2021-12-08T07:41:33.987Z"
   },
   {
    "duration": 5,
    "start_time": "2021-12-08T07:41:36.429Z"
   },
   {
    "duration": 6,
    "start_time": "2021-12-08T07:41:43.846Z"
   },
   {
    "duration": 8,
    "start_time": "2021-12-08T07:42:02.463Z"
   },
   {
    "duration": 8,
    "start_time": "2021-12-08T07:42:07.894Z"
   },
   {
    "duration": 6,
    "start_time": "2021-12-08T07:42:10.004Z"
   },
   {
    "duration": 7,
    "start_time": "2021-12-08T07:42:15.508Z"
   },
   {
    "duration": 7,
    "start_time": "2021-12-08T07:42:21.772Z"
   },
   {
    "duration": 5,
    "start_time": "2021-12-08T07:42:28.026Z"
   },
   {
    "duration": 6,
    "start_time": "2021-12-08T07:42:35.273Z"
   },
   {
    "duration": 279,
    "start_time": "2021-12-08T07:42:52.856Z"
   },
   {
    "duration": 6,
    "start_time": "2021-12-08T07:42:55.707Z"
   },
   {
    "duration": 15,
    "start_time": "2021-12-08T07:43:02.423Z"
   },
   {
    "duration": 19,
    "start_time": "2021-12-08T07:43:04.395Z"
   },
   {
    "duration": 21,
    "start_time": "2021-12-08T07:43:06.057Z"
   },
   {
    "duration": 4,
    "start_time": "2021-12-08T07:43:10.983Z"
   },
   {
    "duration": 3,
    "start_time": "2021-12-08T07:43:26.624Z"
   },
   {
    "duration": 4,
    "start_time": "2021-12-08T07:43:34.874Z"
   },
   {
    "duration": 11,
    "start_time": "2021-12-08T07:43:39.849Z"
   },
   {
    "duration": 7,
    "start_time": "2021-12-08T07:43:42.114Z"
   },
   {
    "duration": 4,
    "start_time": "2021-12-08T07:44:05.389Z"
   },
   {
    "duration": 25,
    "start_time": "2021-12-08T07:44:08.799Z"
   },
   {
    "duration": 7,
    "start_time": "2021-12-08T07:44:27.120Z"
   },
   {
    "duration": 7,
    "start_time": "2021-12-08T07:44:39.773Z"
   },
   {
    "duration": 7,
    "start_time": "2021-12-08T07:45:27.408Z"
   },
   {
    "duration": 8,
    "start_time": "2021-12-08T07:45:37.172Z"
   },
   {
    "duration": 8,
    "start_time": "2021-12-08T07:45:41.588Z"
   },
   {
    "duration": 8,
    "start_time": "2021-12-08T07:46:07.481Z"
   },
   {
    "duration": 7,
    "start_time": "2021-12-08T07:46:12.618Z"
   },
   {
    "duration": 8,
    "start_time": "2021-12-08T07:46:15.120Z"
   },
   {
    "duration": 8,
    "start_time": "2021-12-08T07:50:23.570Z"
   },
   {
    "duration": 10,
    "start_time": "2021-12-08T07:50:32.182Z"
   },
   {
    "duration": 13,
    "start_time": "2021-12-08T07:50:47.158Z"
   },
   {
    "duration": 13,
    "start_time": "2021-12-08T07:51:16.175Z"
   },
   {
    "duration": 9,
    "start_time": "2021-12-08T07:51:21.033Z"
   },
   {
    "duration": 4,
    "start_time": "2021-12-08T07:51:24.066Z"
   },
   {
    "duration": 9,
    "start_time": "2021-12-08T07:51:41.214Z"
   },
   {
    "duration": 4,
    "start_time": "2021-12-08T07:51:50.453Z"
   },
   {
    "duration": 7,
    "start_time": "2021-12-08T07:51:57.282Z"
   },
   {
    "duration": 7,
    "start_time": "2021-12-08T07:51:59.902Z"
   },
   {
    "duration": 7,
    "start_time": "2021-12-08T07:52:08.177Z"
   },
   {
    "duration": 8,
    "start_time": "2021-12-08T07:52:12.477Z"
   },
   {
    "duration": 11,
    "start_time": "2021-12-08T07:52:19.609Z"
   },
   {
    "duration": 12,
    "start_time": "2021-12-08T07:52:26.698Z"
   },
   {
    "duration": 14,
    "start_time": "2021-12-08T07:52:30.522Z"
   },
   {
    "duration": 9,
    "start_time": "2021-12-08T07:52:40.791Z"
   },
   {
    "duration": 7,
    "start_time": "2021-12-08T07:52:43.731Z"
   },
   {
    "duration": 4,
    "start_time": "2021-12-08T07:52:48.909Z"
   },
   {
    "duration": 12,
    "start_time": "2021-12-08T07:53:29.410Z"
   },
   {
    "duration": 5,
    "start_time": "2021-12-08T08:31:52.062Z"
   },
   {
    "duration": 8,
    "start_time": "2021-12-08T08:36:16.577Z"
   },
   {
    "duration": 9,
    "start_time": "2021-12-08T08:36:30.753Z"
   },
   {
    "duration": 3,
    "start_time": "2021-12-08T09:39:18.477Z"
   },
   {
    "duration": 11,
    "start_time": "2021-12-08T09:39:39.744Z"
   },
   {
    "duration": 8,
    "start_time": "2021-12-08T09:41:52.660Z"
   },
   {
    "duration": 5,
    "start_time": "2021-12-08T09:45:04.998Z"
   },
   {
    "duration": 10,
    "start_time": "2021-12-08T09:45:09.245Z"
   },
   {
    "duration": 8,
    "start_time": "2021-12-08T09:45:16.409Z"
   },
   {
    "duration": 5,
    "start_time": "2021-12-08T10:02:04.820Z"
   },
   {
    "duration": 9,
    "start_time": "2021-12-08T10:08:36.838Z"
   },
   {
    "duration": 413,
    "start_time": "2021-12-08T10:26:24.813Z"
   },
   {
    "duration": 6,
    "start_time": "2021-12-08T10:26:46.472Z"
   },
   {
    "duration": 7,
    "start_time": "2021-12-08T10:34:59.402Z"
   },
   {
    "duration": 7,
    "start_time": "2021-12-08T10:36:45.806Z"
   },
   {
    "duration": 338,
    "start_time": "2021-12-08T19:59:31.439Z"
   },
   {
    "duration": 719,
    "start_time": "2021-12-08T19:59:39.384Z"
   },
   {
    "duration": 8,
    "start_time": "2021-12-08T19:59:40.105Z"
   },
   {
    "duration": 20,
    "start_time": "2021-12-08T19:59:40.114Z"
   },
   {
    "duration": 14,
    "start_time": "2021-12-08T19:59:40.135Z"
   },
   {
    "duration": 10,
    "start_time": "2021-12-08T19:59:40.150Z"
   },
   {
    "duration": 7,
    "start_time": "2021-12-08T19:59:40.162Z"
   },
   {
    "duration": 6,
    "start_time": "2021-12-08T19:59:40.170Z"
   },
   {
    "duration": 6,
    "start_time": "2021-12-08T19:59:40.179Z"
   },
   {
    "duration": 8,
    "start_time": "2021-12-08T19:59:40.187Z"
   },
   {
    "duration": 12,
    "start_time": "2021-12-08T19:59:40.197Z"
   },
   {
    "duration": 8,
    "start_time": "2021-12-08T19:59:40.210Z"
   },
   {
    "duration": 10,
    "start_time": "2021-12-08T19:59:40.245Z"
   },
   {
    "duration": 16,
    "start_time": "2021-12-08T19:59:40.257Z"
   },
   {
    "duration": 7,
    "start_time": "2021-12-08T19:59:40.275Z"
   },
   {
    "duration": 9,
    "start_time": "2021-12-08T19:59:40.284Z"
   },
   {
    "duration": 7,
    "start_time": "2021-12-08T19:59:40.295Z"
   },
   {
    "duration": 45,
    "start_time": "2021-12-08T19:59:40.303Z"
   },
   {
    "duration": 5,
    "start_time": "2021-12-08T19:59:40.350Z"
   },
   {
    "duration": 6,
    "start_time": "2021-12-08T19:59:40.356Z"
   },
   {
    "duration": 7,
    "start_time": "2021-12-08T19:59:40.364Z"
   },
   {
    "duration": 7,
    "start_time": "2021-12-08T19:59:40.373Z"
   },
   {
    "duration": 6,
    "start_time": "2021-12-08T19:59:40.382Z"
   },
   {
    "duration": 4,
    "start_time": "2021-12-08T19:59:40.393Z"
   },
   {
    "duration": 48,
    "start_time": "2021-12-08T19:59:40.400Z"
   },
   {
    "duration": 12,
    "start_time": "2021-12-08T19:59:40.450Z"
   },
   {
    "duration": 7,
    "start_time": "2021-12-08T19:59:40.464Z"
   },
   {
    "duration": 6,
    "start_time": "2021-12-08T19:59:40.472Z"
   },
   {
    "duration": 296,
    "start_time": "2021-12-08T19:59:40.480Z"
   },
   {
    "duration": 5,
    "start_time": "2021-12-08T19:59:40.778Z"
   },
   {
    "duration": 16,
    "start_time": "2021-12-08T19:59:40.784Z"
   },
   {
    "duration": 16,
    "start_time": "2021-12-08T19:59:40.801Z"
   },
   {
    "duration": 36,
    "start_time": "2021-12-08T19:59:40.818Z"
   },
   {
    "duration": 3,
    "start_time": "2021-12-08T19:59:40.855Z"
   },
   {
    "duration": 5,
    "start_time": "2021-12-08T19:59:40.860Z"
   },
   {
    "duration": 8,
    "start_time": "2021-12-08T19:59:40.867Z"
   },
   {
    "duration": 15,
    "start_time": "2021-12-08T19:59:40.876Z"
   },
   {
    "duration": 9,
    "start_time": "2021-12-08T19:59:40.893Z"
   },
   {
    "duration": 4,
    "start_time": "2021-12-08T19:59:40.903Z"
   },
   {
    "duration": 54,
    "start_time": "2021-12-08T19:59:40.909Z"
   },
   {
    "duration": 8,
    "start_time": "2021-12-08T19:59:40.965Z"
   },
   {
    "duration": 18,
    "start_time": "2021-12-08T19:59:40.975Z"
   },
   {
    "duration": 23,
    "start_time": "2021-12-08T19:59:40.995Z"
   },
   {
    "duration": 24,
    "start_time": "2021-12-08T19:59:41.020Z"
   },
   {
    "duration": 20,
    "start_time": "2021-12-08T19:59:41.046Z"
   },
   {
    "duration": 26,
    "start_time": "2021-12-08T19:59:41.068Z"
   },
   {
    "duration": 20,
    "start_time": "2021-12-08T19:59:41.096Z"
   },
   {
    "duration": 32,
    "start_time": "2021-12-08T19:59:41.118Z"
   },
   {
    "duration": 31,
    "start_time": "2021-12-08T19:59:41.152Z"
   },
   {
    "duration": 24,
    "start_time": "2021-12-08T19:59:41.185Z"
   },
   {
    "duration": 24,
    "start_time": "2021-12-08T19:59:41.210Z"
   },
   {
    "duration": 28,
    "start_time": "2021-12-08T19:59:41.236Z"
   },
   {
    "duration": 18,
    "start_time": "2021-12-08T19:59:41.265Z"
   },
   {
    "duration": 29,
    "start_time": "2021-12-08T19:59:41.285Z"
   },
   {
    "duration": 16,
    "start_time": "2021-12-08T19:59:41.316Z"
   },
   {
    "duration": 11,
    "start_time": "2021-12-08T19:59:41.334Z"
   },
   {
    "duration": 31,
    "start_time": "2021-12-08T19:59:41.346Z"
   },
   {
    "duration": 24,
    "start_time": "2021-12-08T19:59:41.379Z"
   },
   {
    "duration": 10,
    "start_time": "2021-12-08T19:59:41.405Z"
   },
   {
    "duration": 7,
    "start_time": "2021-12-08T19:59:41.417Z"
   },
   {
    "duration": 9,
    "start_time": "2021-12-08T19:59:41.426Z"
   },
   {
    "duration": 11,
    "start_time": "2021-12-08T19:59:41.437Z"
   },
   {
    "duration": 12,
    "start_time": "2021-12-08T19:59:41.450Z"
   },
   {
    "duration": 8,
    "start_time": "2021-12-08T19:59:41.464Z"
   },
   {
    "duration": 13,
    "start_time": "2021-12-08T19:59:41.474Z"
   },
   {
    "duration": 4,
    "start_time": "2021-12-08T19:59:41.489Z"
   },
   {
    "duration": 12,
    "start_time": "2021-12-08T19:59:41.495Z"
   },
   {
    "duration": 41,
    "start_time": "2021-12-08T19:59:41.508Z"
   },
   {
    "duration": 2,
    "start_time": "2021-12-08T19:59:41.554Z"
   },
   {
    "duration": 15,
    "start_time": "2021-12-08T19:59:41.558Z"
   },
   {
    "duration": 11,
    "start_time": "2021-12-08T19:59:41.574Z"
   },
   {
    "duration": 5,
    "start_time": "2021-12-08T19:59:41.586Z"
   },
   {
    "duration": 11,
    "start_time": "2021-12-08T19:59:41.593Z"
   },
   {
    "duration": 5,
    "start_time": "2021-12-08T19:59:41.605Z"
   },
   {
    "duration": 33,
    "start_time": "2021-12-08T19:59:41.612Z"
   },
   {
    "duration": 11,
    "start_time": "2021-12-08T19:59:41.647Z"
   },
   {
    "duration": 55,
    "start_time": "2021-12-08T19:59:46.504Z"
   },
   {
    "duration": 46,
    "start_time": "2021-12-08T20:08:49.241Z"
   },
   {
    "duration": 7,
    "start_time": "2021-12-08T20:56:18.812Z"
   },
   {
    "duration": 297,
    "start_time": "2021-12-08T21:14:02.908Z"
   },
   {
    "duration": 16,
    "start_time": "2021-12-08T21:17:05.301Z"
   },
   {
    "duration": 13,
    "start_time": "2021-12-08T21:26:48.544Z"
   },
   {
    "duration": 14,
    "start_time": "2021-12-08T21:33:08.558Z"
   },
   {
    "duration": 7,
    "start_time": "2021-12-08T21:36:37.434Z"
   },
   {
    "duration": 9,
    "start_time": "2021-12-08T21:37:22.377Z"
   },
   {
    "duration": 14,
    "start_time": "2021-12-08T22:11:37.655Z"
   },
   {
    "duration": 12,
    "start_time": "2021-12-08T22:11:44.635Z"
   },
   {
    "duration": 15,
    "start_time": "2021-12-08T22:12:06.571Z"
   },
   {
    "duration": 11,
    "start_time": "2021-12-08T22:56:14.107Z"
   },
   {
    "duration": 270,
    "start_time": "2021-12-09T16:49:55.387Z"
   },
   {
    "duration": 713,
    "start_time": "2021-12-09T16:50:06.354Z"
   },
   {
    "duration": 7,
    "start_time": "2021-12-09T16:50:07.068Z"
   },
   {
    "duration": 16,
    "start_time": "2021-12-09T16:50:07.077Z"
   },
   {
    "duration": 9,
    "start_time": "2021-12-09T16:50:07.095Z"
   },
   {
    "duration": 8,
    "start_time": "2021-12-09T16:50:07.105Z"
   },
   {
    "duration": 6,
    "start_time": "2021-12-09T16:50:07.115Z"
   },
   {
    "duration": 5,
    "start_time": "2021-12-09T16:50:07.123Z"
   },
   {
    "duration": 5,
    "start_time": "2021-12-09T16:50:07.129Z"
   },
   {
    "duration": 7,
    "start_time": "2021-12-09T16:50:07.136Z"
   },
   {
    "duration": 6,
    "start_time": "2021-12-09T16:50:07.144Z"
   },
   {
    "duration": 37,
    "start_time": "2021-12-09T16:50:07.151Z"
   },
   {
    "duration": 8,
    "start_time": "2021-12-09T16:50:07.190Z"
   },
   {
    "duration": 9,
    "start_time": "2021-12-09T16:50:07.200Z"
   },
   {
    "duration": 18,
    "start_time": "2021-12-09T16:50:07.211Z"
   },
   {
    "duration": 12,
    "start_time": "2021-12-09T16:50:07.230Z"
   },
   {
    "duration": 19,
    "start_time": "2021-12-09T16:50:07.244Z"
   },
   {
    "duration": 13,
    "start_time": "2021-12-09T16:50:07.264Z"
   },
   {
    "duration": 15,
    "start_time": "2021-12-09T16:50:07.279Z"
   },
   {
    "duration": 16,
    "start_time": "2021-12-09T16:50:07.296Z"
   },
   {
    "duration": 17,
    "start_time": "2021-12-09T16:50:07.313Z"
   },
   {
    "duration": 10,
    "start_time": "2021-12-09T16:50:11.375Z"
   },
   {
    "duration": 11,
    "start_time": "2021-12-09T16:55:02.226Z"
   },
   {
    "duration": 7,
    "start_time": "2021-12-09T17:10:32.988Z"
   },
   {
    "duration": 12,
    "start_time": "2021-12-09T17:15:15.800Z"
   },
   {
    "duration": 9,
    "start_time": "2021-12-09T17:20:01.527Z"
   },
   {
    "duration": 9,
    "start_time": "2021-12-09T17:23:41.107Z"
   },
   {
    "duration": 8,
    "start_time": "2021-12-09T17:25:29.879Z"
   },
   {
    "duration": 9,
    "start_time": "2021-12-09T17:26:13.708Z"
   },
   {
    "duration": 9,
    "start_time": "2021-12-09T17:28:14.141Z"
   },
   {
    "duration": 369,
    "start_time": "2021-12-09T22:46:47.516Z"
   },
   {
    "duration": 704,
    "start_time": "2021-12-09T22:46:54.380Z"
   },
   {
    "duration": 9,
    "start_time": "2021-12-09T22:46:55.086Z"
   },
   {
    "duration": 16,
    "start_time": "2021-12-09T22:46:55.097Z"
   },
   {
    "duration": 11,
    "start_time": "2021-12-09T22:46:55.114Z"
   },
   {
    "duration": 8,
    "start_time": "2021-12-09T22:46:55.127Z"
   },
   {
    "duration": 7,
    "start_time": "2021-12-09T22:46:55.137Z"
   },
   {
    "duration": 5,
    "start_time": "2021-12-09T22:46:55.145Z"
   },
   {
    "duration": 6,
    "start_time": "2021-12-09T22:46:55.152Z"
   },
   {
    "duration": 5,
    "start_time": "2021-12-09T22:46:55.161Z"
   },
   {
    "duration": 44,
    "start_time": "2021-12-09T22:46:55.167Z"
   },
   {
    "duration": 6,
    "start_time": "2021-12-09T22:46:55.212Z"
   },
   {
    "duration": 10,
    "start_time": "2021-12-09T22:46:55.220Z"
   },
   {
    "duration": 8,
    "start_time": "2021-12-09T22:46:55.232Z"
   },
   {
    "duration": 5,
    "start_time": "2021-12-09T22:46:55.241Z"
   },
   {
    "duration": 9,
    "start_time": "2021-12-09T22:46:55.248Z"
   },
   {
    "duration": 6,
    "start_time": "2021-12-09T22:46:55.258Z"
   },
   {
    "duration": 44,
    "start_time": "2021-12-09T22:46:55.265Z"
   },
   {
    "duration": 4,
    "start_time": "2021-12-09T22:46:55.311Z"
   },
   {
    "duration": 7,
    "start_time": "2021-12-09T22:46:55.317Z"
   },
   {
    "duration": 5,
    "start_time": "2021-12-09T22:46:55.326Z"
   },
   {
    "duration": 9,
    "start_time": "2021-12-09T22:46:58.240Z"
   },
   {
    "duration": 4,
    "start_time": "2021-12-09T22:50:47.435Z"
   },
   {
    "duration": 28488,
    "start_time": "2021-12-09T23:06:01.553Z"
   },
   {
    "duration": 3,
    "start_time": "2021-12-09T23:11:15.147Z"
   },
   {
    "duration": 628,
    "start_time": "2021-12-10T05:39:55.768Z"
   },
   {
    "duration": 8,
    "start_time": "2021-12-10T05:39:56.398Z"
   },
   {
    "duration": 17,
    "start_time": "2021-12-10T05:39:56.408Z"
   },
   {
    "duration": 12,
    "start_time": "2021-12-10T05:39:56.427Z"
   },
   {
    "duration": 10,
    "start_time": "2021-12-10T05:39:56.441Z"
   },
   {
    "duration": 6,
    "start_time": "2021-12-10T05:39:56.452Z"
   },
   {
    "duration": 34,
    "start_time": "2021-12-10T05:39:56.460Z"
   },
   {
    "duration": 6,
    "start_time": "2021-12-10T05:39:56.495Z"
   },
   {
    "duration": 8,
    "start_time": "2021-12-10T05:39:56.503Z"
   },
   {
    "duration": 6,
    "start_time": "2021-12-10T05:39:56.513Z"
   },
   {
    "duration": 9,
    "start_time": "2021-12-10T05:39:56.520Z"
   },
   {
    "duration": 9,
    "start_time": "2021-12-10T05:39:56.531Z"
   },
   {
    "duration": 12,
    "start_time": "2021-12-10T05:39:56.542Z"
   },
   {
    "duration": 38,
    "start_time": "2021-12-10T05:39:56.556Z"
   },
   {
    "duration": 9,
    "start_time": "2021-12-10T05:39:56.595Z"
   },
   {
    "duration": 4,
    "start_time": "2021-12-10T05:39:56.606Z"
   },
   {
    "duration": 9,
    "start_time": "2021-12-10T05:39:56.612Z"
   },
   {
    "duration": 5221,
    "start_time": "2021-12-10T05:39:59.955Z"
   },
   {
    "duration": 189,
    "start_time": "2021-12-10T05:40:31.174Z"
   },
   {
    "duration": 179,
    "start_time": "2021-12-10T05:40:48.672Z"
   },
   {
    "duration": 189,
    "start_time": "2021-12-10T05:43:32.014Z"
   },
   {
    "duration": 2939,
    "start_time": "2021-12-10T05:44:53.375Z"
   },
   {
    "duration": 169,
    "start_time": "2021-12-10T05:46:22.881Z"
   },
   {
    "duration": 181,
    "start_time": "2021-12-10T05:46:53.997Z"
   },
   {
    "duration": 267,
    "start_time": "2021-12-10T05:47:07.539Z"
   },
   {
    "duration": 419,
    "start_time": "2021-12-10T05:53:52.154Z"
   },
   {
    "duration": 182,
    "start_time": "2021-12-10T05:55:09.704Z"
   },
   {
    "duration": 62,
    "start_time": "2021-12-10T05:56:22.208Z"
   },
   {
    "duration": 175,
    "start_time": "2021-12-10T05:56:32.269Z"
   },
   {
    "duration": 5,
    "start_time": "2021-12-10T06:12:13.164Z"
   },
   {
    "duration": 11,
    "start_time": "2021-12-10T06:16:57.820Z"
   },
   {
    "duration": 13,
    "start_time": "2021-12-10T06:19:39.967Z"
   },
   {
    "duration": 181,
    "start_time": "2021-12-10T06:35:20.163Z"
   },
   {
    "duration": 5060,
    "start_time": "2021-12-10T06:35:53.646Z"
   },
   {
    "duration": 5052,
    "start_time": "2021-12-10T06:41:33.743Z"
   },
   {
    "duration": 179,
    "start_time": "2021-12-10T06:52:33.148Z"
   },
   {
    "duration": 50,
    "start_time": "2021-12-10T06:52:42.003Z"
   },
   {
    "duration": 3,
    "start_time": "2021-12-10T06:52:42.055Z"
   },
   {
    "duration": 21,
    "start_time": "2021-12-10T06:52:42.060Z"
   },
   {
    "duration": 20,
    "start_time": "2021-12-10T06:52:42.083Z"
   },
   {
    "duration": 15,
    "start_time": "2021-12-10T06:52:42.105Z"
   },
   {
    "duration": 13,
    "start_time": "2021-12-10T06:52:42.122Z"
   },
   {
    "duration": 10,
    "start_time": "2021-12-10T06:52:42.137Z"
   },
   {
    "duration": 8,
    "start_time": "2021-12-10T06:52:42.149Z"
   },
   {
    "duration": 10,
    "start_time": "2021-12-10T06:52:42.159Z"
   },
   {
    "duration": 13,
    "start_time": "2021-12-10T06:52:42.171Z"
   },
   {
    "duration": 16,
    "start_time": "2021-12-10T06:52:42.186Z"
   },
   {
    "duration": 22,
    "start_time": "2021-12-10T06:52:42.204Z"
   },
   {
    "duration": 9,
    "start_time": "2021-12-10T06:52:42.228Z"
   },
   {
    "duration": 12,
    "start_time": "2021-12-10T06:52:42.239Z"
   },
   {
    "duration": 17,
    "start_time": "2021-12-10T06:52:42.252Z"
   },
   {
    "duration": 7,
    "start_time": "2021-12-10T06:52:42.271Z"
   },
   {
    "duration": 14,
    "start_time": "2021-12-10T06:52:42.279Z"
   },
   {
    "duration": 15,
    "start_time": "2021-12-10T06:52:42.294Z"
   },
   {
    "duration": 12,
    "start_time": "2021-12-10T06:52:42.311Z"
   },
   {
    "duration": 18,
    "start_time": "2021-12-10T06:52:42.324Z"
   },
   {
    "duration": 22,
    "start_time": "2021-12-10T06:52:42.343Z"
   },
   {
    "duration": 11,
    "start_time": "2021-12-10T06:52:42.368Z"
   },
   {
    "duration": 210,
    "start_time": "2021-12-10T06:52:44.978Z"
   },
   {
    "duration": 9,
    "start_time": "2021-12-10T06:53:04.965Z"
   },
   {
    "duration": 803,
    "start_time": "2021-12-10T06:53:43.955Z"
   },
   {
    "duration": 742,
    "start_time": "2021-12-10T06:54:46.024Z"
   },
   {
    "duration": 710,
    "start_time": "2021-12-10T06:57:37.346Z"
   },
   {
    "duration": 82,
    "start_time": "2021-12-10T06:58:29.735Z"
   },
   {
    "duration": 743,
    "start_time": "2021-12-10T07:04:13.292Z"
   },
   {
    "duration": 702,
    "start_time": "2021-12-10T07:07:43.127Z"
   },
   {
    "duration": 601,
    "start_time": "2021-12-10T12:05:57.521Z"
   },
   {
    "duration": 7,
    "start_time": "2021-12-10T12:05:58.124Z"
   },
   {
    "duration": 29,
    "start_time": "2021-12-10T12:05:58.133Z"
   },
   {
    "duration": 13,
    "start_time": "2021-12-10T12:05:58.163Z"
   },
   {
    "duration": 9,
    "start_time": "2021-12-10T12:05:58.178Z"
   },
   {
    "duration": 10,
    "start_time": "2021-12-10T12:05:58.190Z"
   },
   {
    "duration": 7,
    "start_time": "2021-12-10T12:05:58.202Z"
   },
   {
    "duration": 7,
    "start_time": "2021-12-10T12:05:58.211Z"
   },
   {
    "duration": 5,
    "start_time": "2021-12-10T12:05:58.220Z"
   },
   {
    "duration": 7,
    "start_time": "2021-12-10T12:05:58.226Z"
   },
   {
    "duration": 6,
    "start_time": "2021-12-10T12:05:58.234Z"
   },
   {
    "duration": 9,
    "start_time": "2021-12-10T12:05:58.241Z"
   },
   {
    "duration": 42,
    "start_time": "2021-12-10T12:05:58.252Z"
   },
   {
    "duration": 8,
    "start_time": "2021-12-10T12:05:58.296Z"
   },
   {
    "duration": 9,
    "start_time": "2021-12-10T12:05:58.305Z"
   },
   {
    "duration": 5,
    "start_time": "2021-12-10T12:05:58.316Z"
   },
   {
    "duration": 8,
    "start_time": "2021-12-10T12:05:58.322Z"
   },
   {
    "duration": 4,
    "start_time": "2021-12-10T12:05:58.332Z"
   },
   {
    "duration": 9,
    "start_time": "2021-12-10T12:05:58.337Z"
   },
   {
    "duration": 44,
    "start_time": "2021-12-10T12:05:58.348Z"
   },
   {
    "duration": 11,
    "start_time": "2021-12-10T12:05:58.394Z"
   },
   {
    "duration": 3,
    "start_time": "2021-12-10T12:05:58.407Z"
   },
   {
    "duration": 320,
    "start_time": "2021-12-10T12:06:02.305Z"
   },
   {
    "duration": 8,
    "start_time": "2021-12-10T12:06:14.278Z"
   },
   {
    "duration": 12,
    "start_time": "2021-12-10T12:08:57.519Z"
   },
   {
    "duration": 279,
    "start_time": "2021-12-10T12:10:25.075Z"
   },
   {
    "duration": 1046,
    "start_time": "2021-12-10T12:13:36.756Z"
   },
   {
    "duration": 968,
    "start_time": "2021-12-10T12:15:09.102Z"
   },
   {
    "duration": 956,
    "start_time": "2021-12-10T12:21:29.893Z"
   },
   {
    "duration": 1037,
    "start_time": "2021-12-10T13:05:35.054Z"
   },
   {
    "duration": 606,
    "start_time": "2021-12-10T13:06:15.120Z"
   },
   {
    "duration": 7,
    "start_time": "2021-12-10T13:06:19.812Z"
   },
   {
    "duration": 14,
    "start_time": "2021-12-10T13:06:23.505Z"
   },
   {
    "duration": 12,
    "start_time": "2021-12-10T13:06:34.581Z"
   },
   {
    "duration": 9,
    "start_time": "2021-12-10T13:06:43.273Z"
   },
   {
    "duration": 17,
    "start_time": "2021-12-10T13:06:46.084Z"
   },
   {
    "duration": 5,
    "start_time": "2021-12-10T13:07:04.749Z"
   },
   {
    "duration": 6,
    "start_time": "2021-12-10T13:07:09.528Z"
   },
   {
    "duration": 6,
    "start_time": "2021-12-10T13:07:12.117Z"
   },
   {
    "duration": 6,
    "start_time": "2021-12-10T13:07:19.040Z"
   },
   {
    "duration": 7,
    "start_time": "2021-12-10T13:07:22.994Z"
   },
   {
    "duration": 10,
    "start_time": "2021-12-10T13:07:29.214Z"
   },
   {
    "duration": 7,
    "start_time": "2021-12-10T13:07:31.790Z"
   },
   {
    "duration": 6,
    "start_time": "2021-12-10T13:07:35.042Z"
   },
   {
    "duration": 9,
    "start_time": "2021-12-10T13:07:37.775Z"
   },
   {
    "duration": 6,
    "start_time": "2021-12-10T13:07:41.276Z"
   },
   {
    "duration": 7,
    "start_time": "2021-12-10T13:07:44.770Z"
   },
   {
    "duration": 4,
    "start_time": "2021-12-10T13:07:47.312Z"
   },
   {
    "duration": 6,
    "start_time": "2021-12-10T13:07:49.077Z"
   },
   {
    "duration": 19,
    "start_time": "2021-12-10T13:07:53.580Z"
   },
   {
    "duration": 4,
    "start_time": "2021-12-10T13:08:14.434Z"
   },
   {
    "duration": 8,
    "start_time": "2021-12-10T13:08:19.163Z"
   },
   {
    "duration": 332,
    "start_time": "2021-12-10T13:10:08.492Z"
   },
   {
    "duration": 1439,
    "start_time": "2021-12-10T13:10:44.919Z"
   },
   {
    "duration": 2,
    "start_time": "2021-12-10T13:11:19.086Z"
   },
   {
    "duration": 955,
    "start_time": "2021-12-10T13:11:47.031Z"
   },
   {
    "duration": 1061,
    "start_time": "2021-12-10T13:12:21.186Z"
   },
   {
    "duration": 630,
    "start_time": "2021-12-10T13:15:15.473Z"
   },
   {
    "duration": 8,
    "start_time": "2021-12-10T13:15:16.105Z"
   },
   {
    "duration": 16,
    "start_time": "2021-12-10T13:15:16.114Z"
   },
   {
    "duration": 9,
    "start_time": "2021-12-10T13:15:16.132Z"
   },
   {
    "duration": 8,
    "start_time": "2021-12-10T13:15:16.142Z"
   },
   {
    "duration": 5,
    "start_time": "2021-12-10T13:15:16.152Z"
   },
   {
    "duration": 38,
    "start_time": "2021-12-10T13:15:16.159Z"
   },
   {
    "duration": 6,
    "start_time": "2021-12-10T13:15:16.199Z"
   },
   {
    "duration": 6,
    "start_time": "2021-12-10T13:15:16.208Z"
   },
   {
    "duration": 6,
    "start_time": "2021-12-10T13:15:16.216Z"
   },
   {
    "duration": 6,
    "start_time": "2021-12-10T13:15:16.223Z"
   },
   {
    "duration": 8,
    "start_time": "2021-12-10T13:15:16.231Z"
   },
   {
    "duration": 6,
    "start_time": "2021-12-10T13:15:16.240Z"
   },
   {
    "duration": 42,
    "start_time": "2021-12-10T13:15:16.247Z"
   },
   {
    "duration": 12,
    "start_time": "2021-12-10T13:15:16.291Z"
   },
   {
    "duration": 4,
    "start_time": "2021-12-10T13:15:16.305Z"
   },
   {
    "duration": 8,
    "start_time": "2021-12-10T13:15:16.311Z"
   },
   {
    "duration": 3,
    "start_time": "2021-12-10T13:15:16.320Z"
   },
   {
    "duration": 5,
    "start_time": "2021-12-10T13:15:16.325Z"
   },
   {
    "duration": 6,
    "start_time": "2021-12-10T13:15:16.331Z"
   },
   {
    "duration": 8,
    "start_time": "2021-12-10T13:15:16.339Z"
   },
   {
    "duration": 3,
    "start_time": "2021-12-10T13:15:16.348Z"
   },
   {
    "duration": 328,
    "start_time": "2021-12-10T13:15:16.388Z"
   },
   {
    "duration": 631,
    "start_time": "2021-12-10T13:16:40.174Z"
   },
   {
    "duration": 7,
    "start_time": "2021-12-10T13:16:43.012Z"
   },
   {
    "duration": 35,
    "start_time": "2021-12-10T13:16:45.804Z"
   },
   {
    "duration": 15,
    "start_time": "2021-12-10T13:16:47.892Z"
   },
   {
    "duration": 8,
    "start_time": "2021-12-10T13:16:49.666Z"
   },
   {
    "duration": 6,
    "start_time": "2021-12-10T13:16:52.622Z"
   },
   {
    "duration": 6,
    "start_time": "2021-12-10T13:16:54.572Z"
   },
   {
    "duration": 6,
    "start_time": "2021-12-10T13:16:56.312Z"
   },
   {
    "duration": 6,
    "start_time": "2021-12-10T13:16:59.481Z"
   },
   {
    "duration": 6,
    "start_time": "2021-12-10T13:17:01.857Z"
   },
   {
    "duration": 5,
    "start_time": "2021-12-10T13:17:20.506Z"
   },
   {
    "duration": 9,
    "start_time": "2021-12-10T13:17:22.056Z"
   },
   {
    "duration": 7,
    "start_time": "2021-12-10T13:17:25.298Z"
   },
   {
    "duration": 6,
    "start_time": "2021-12-10T13:17:27.031Z"
   },
   {
    "duration": 9,
    "start_time": "2021-12-10T13:17:29.863Z"
   },
   {
    "duration": 6,
    "start_time": "2021-12-10T13:17:36.299Z"
   },
   {
    "duration": 7,
    "start_time": "2021-12-10T13:17:38.031Z"
   },
   {
    "duration": 4,
    "start_time": "2021-12-10T13:17:44.512Z"
   },
   {
    "duration": 4,
    "start_time": "2021-12-10T13:17:53.113Z"
   },
   {
    "duration": 6,
    "start_time": "2021-12-10T13:17:59.317Z"
   },
   {
    "duration": 9,
    "start_time": "2021-12-10T13:18:03.672Z"
   },
   {
    "duration": 5,
    "start_time": "2021-12-10T13:18:09.886Z"
   },
   {
    "duration": 498,
    "start_time": "2021-12-10T13:18:11.935Z"
   },
   {
    "duration": 931,
    "start_time": "2021-12-10T13:20:08.088Z"
   },
   {
    "duration": 586,
    "start_time": "2021-12-10T13:24:18.427Z"
   },
   {
    "duration": 9,
    "start_time": "2021-12-10T13:24:21.746Z"
   },
   {
    "duration": 16,
    "start_time": "2021-12-10T13:24:24.570Z"
   },
   {
    "duration": 11,
    "start_time": "2021-12-10T13:24:26.516Z"
   },
   {
    "duration": 9,
    "start_time": "2021-12-10T13:24:28.505Z"
   },
   {
    "duration": 6,
    "start_time": "2021-12-10T13:24:30.253Z"
   },
   {
    "duration": 11,
    "start_time": "2021-12-10T13:24:31.884Z"
   },
   {
    "duration": 5,
    "start_time": "2021-12-10T13:24:33.502Z"
   },
   {
    "duration": 5,
    "start_time": "2021-12-10T13:24:35.312Z"
   },
   {
    "duration": 5,
    "start_time": "2021-12-10T13:24:37.108Z"
   },
   {
    "duration": 5,
    "start_time": "2021-12-10T13:24:40.366Z"
   },
   {
    "duration": 9,
    "start_time": "2021-12-10T13:24:41.829Z"
   },
   {
    "duration": 6,
    "start_time": "2021-12-10T13:24:46.454Z"
   },
   {
    "duration": 12,
    "start_time": "2021-12-10T13:24:47.937Z"
   },
   {
    "duration": 9,
    "start_time": "2021-12-10T13:24:49.841Z"
   },
   {
    "duration": 7,
    "start_time": "2021-12-10T13:24:51.929Z"
   },
   {
    "duration": 7,
    "start_time": "2021-12-10T13:24:54.829Z"
   },
   {
    "duration": 4,
    "start_time": "2021-12-10T13:24:56.772Z"
   },
   {
    "duration": 10,
    "start_time": "2021-12-10T13:24:58.393Z"
   },
   {
    "duration": 8,
    "start_time": "2021-12-10T13:24:59.948Z"
   },
   {
    "duration": 5,
    "start_time": "2021-12-10T13:25:08.018Z"
   },
   {
    "duration": 4,
    "start_time": "2021-12-10T13:27:50.774Z"
   },
   {
    "duration": 343,
    "start_time": "2021-12-10T13:31:23.105Z"
   },
   {
    "duration": 940,
    "start_time": "2021-12-10T13:32:02.959Z"
   },
   {
    "duration": 603,
    "start_time": "2021-12-10T13:34:54.830Z"
   },
   {
    "duration": 7,
    "start_time": "2021-12-10T13:34:55.435Z"
   },
   {
    "duration": 14,
    "start_time": "2021-12-10T13:34:55.444Z"
   },
   {
    "duration": 10,
    "start_time": "2021-12-10T13:34:55.459Z"
   },
   {
    "duration": 8,
    "start_time": "2021-12-10T13:34:55.470Z"
   },
   {
    "duration": 8,
    "start_time": "2021-12-10T13:34:55.488Z"
   },
   {
    "duration": 7,
    "start_time": "2021-12-10T13:34:55.498Z"
   },
   {
    "duration": 4,
    "start_time": "2021-12-10T13:34:55.508Z"
   },
   {
    "duration": 6,
    "start_time": "2021-12-10T13:34:55.514Z"
   },
   {
    "duration": 5,
    "start_time": "2021-12-10T13:34:55.521Z"
   },
   {
    "duration": 6,
    "start_time": "2021-12-10T13:34:55.528Z"
   },
   {
    "duration": 11,
    "start_time": "2021-12-10T13:34:55.535Z"
   },
   {
    "duration": 42,
    "start_time": "2021-12-10T13:34:55.547Z"
   },
   {
    "duration": 7,
    "start_time": "2021-12-10T13:34:55.591Z"
   },
   {
    "duration": 9,
    "start_time": "2021-12-10T13:34:55.600Z"
   },
   {
    "duration": 5,
    "start_time": "2021-12-10T13:34:55.611Z"
   },
   {
    "duration": 8,
    "start_time": "2021-12-10T13:34:55.617Z"
   },
   {
    "duration": 4,
    "start_time": "2021-12-10T13:34:55.626Z"
   },
   {
    "duration": 8,
    "start_time": "2021-12-10T13:34:55.631Z"
   },
   {
    "duration": 12,
    "start_time": "2021-12-10T13:34:55.640Z"
   },
   {
    "duration": 42,
    "start_time": "2021-12-10T13:34:55.653Z"
   },
   {
    "duration": 7,
    "start_time": "2021-12-10T13:34:55.697Z"
   },
   {
    "duration": 4,
    "start_time": "2021-12-10T13:34:59.651Z"
   },
   {
    "duration": 415,
    "start_time": "2021-12-10T13:35:03.332Z"
   },
   {
    "duration": 284,
    "start_time": "2021-12-10T13:39:00.795Z"
   },
   {
    "duration": 593,
    "start_time": "2021-12-10T13:40:36.929Z"
   },
   {
    "duration": 8,
    "start_time": "2021-12-10T13:40:37.524Z"
   },
   {
    "duration": 15,
    "start_time": "2021-12-10T13:40:37.534Z"
   },
   {
    "duration": 9,
    "start_time": "2021-12-10T13:40:37.551Z"
   },
   {
    "duration": 8,
    "start_time": "2021-12-10T13:40:37.561Z"
   },
   {
    "duration": 9,
    "start_time": "2021-12-10T13:40:37.587Z"
   },
   {
    "duration": 8,
    "start_time": "2021-12-10T13:40:37.598Z"
   },
   {
    "duration": 6,
    "start_time": "2021-12-10T13:40:37.608Z"
   },
   {
    "duration": 6,
    "start_time": "2021-12-10T13:40:37.615Z"
   },
   {
    "duration": 24,
    "start_time": "2021-12-10T13:40:37.622Z"
   },
   {
    "duration": 9,
    "start_time": "2021-12-10T13:40:37.647Z"
   },
   {
    "duration": 25,
    "start_time": "2021-12-10T13:40:37.657Z"
   },
   {
    "duration": 9,
    "start_time": "2021-12-10T13:40:37.684Z"
   },
   {
    "duration": 11,
    "start_time": "2021-12-10T13:40:37.695Z"
   },
   {
    "duration": 13,
    "start_time": "2021-12-10T13:40:37.707Z"
   },
   {
    "duration": 5,
    "start_time": "2021-12-10T13:40:37.722Z"
   },
   {
    "duration": 15,
    "start_time": "2021-12-10T13:40:37.728Z"
   },
   {
    "duration": 11,
    "start_time": "2021-12-10T13:40:37.745Z"
   },
   {
    "duration": 15,
    "start_time": "2021-12-10T13:40:37.757Z"
   },
   {
    "duration": 21,
    "start_time": "2021-12-10T13:40:37.774Z"
   },
   {
    "duration": 10,
    "start_time": "2021-12-10T13:40:37.798Z"
   },
   {
    "duration": 17,
    "start_time": "2021-12-10T13:40:37.810Z"
   },
   {
    "duration": 12,
    "start_time": "2021-12-10T13:40:37.830Z"
   },
   {
    "duration": 741,
    "start_time": "2021-12-10T13:40:52.699Z"
   },
   {
    "duration": 563,
    "start_time": "2021-12-10T14:13:19.433Z"
   },
   {
    "duration": 7,
    "start_time": "2021-12-10T14:13:19.998Z"
   },
   {
    "duration": 17,
    "start_time": "2021-12-10T14:13:20.007Z"
   },
   {
    "duration": 18,
    "start_time": "2021-12-10T14:13:20.026Z"
   },
   {
    "duration": 8,
    "start_time": "2021-12-10T14:13:20.045Z"
   },
   {
    "duration": 8,
    "start_time": "2021-12-10T14:13:20.055Z"
   },
   {
    "duration": 7,
    "start_time": "2021-12-10T14:13:20.065Z"
   },
   {
    "duration": 18,
    "start_time": "2021-12-10T14:13:20.074Z"
   },
   {
    "duration": 6,
    "start_time": "2021-12-10T14:13:20.093Z"
   },
   {
    "duration": 6,
    "start_time": "2021-12-10T14:13:20.100Z"
   },
   {
    "duration": 5,
    "start_time": "2021-12-10T14:13:20.108Z"
   },
   {
    "duration": 11,
    "start_time": "2021-12-10T14:13:20.114Z"
   },
   {
    "duration": 6,
    "start_time": "2021-12-10T14:13:20.126Z"
   },
   {
    "duration": 4,
    "start_time": "2021-12-10T14:13:20.134Z"
   },
   {
    "duration": 11,
    "start_time": "2021-12-10T14:13:20.140Z"
   },
   {
    "duration": 36,
    "start_time": "2021-12-10T14:13:20.152Z"
   },
   {
    "duration": 7,
    "start_time": "2021-12-10T14:13:20.190Z"
   },
   {
    "duration": 5,
    "start_time": "2021-12-10T14:13:20.198Z"
   },
   {
    "duration": 9,
    "start_time": "2021-12-10T14:13:20.204Z"
   },
   {
    "duration": 7,
    "start_time": "2021-12-10T14:13:20.215Z"
   },
   {
    "duration": 11,
    "start_time": "2021-12-10T14:13:20.223Z"
   },
   {
    "duration": 4,
    "start_time": "2021-12-10T14:13:20.236Z"
   },
   {
    "duration": 4,
    "start_time": "2021-12-10T14:13:20.243Z"
   },
   {
    "duration": 7,
    "start_time": "2021-12-10T14:13:32.537Z"
   },
   {
    "duration": 308,
    "start_time": "2021-12-10T14:13:41.621Z"
   },
   {
    "duration": 572,
    "start_time": "2021-12-10T14:37:05.246Z"
   },
   {
    "duration": 7,
    "start_time": "2021-12-10T14:37:05.820Z"
   },
   {
    "duration": 15,
    "start_time": "2021-12-10T14:37:05.829Z"
   },
   {
    "duration": 11,
    "start_time": "2021-12-10T14:37:05.845Z"
   },
   {
    "duration": 7,
    "start_time": "2021-12-10T14:37:05.858Z"
   },
   {
    "duration": 6,
    "start_time": "2021-12-10T14:37:05.866Z"
   },
   {
    "duration": 4,
    "start_time": "2021-12-10T14:37:05.888Z"
   },
   {
    "duration": 7,
    "start_time": "2021-12-10T14:37:05.894Z"
   },
   {
    "duration": 5,
    "start_time": "2021-12-10T14:37:05.903Z"
   },
   {
    "duration": 6,
    "start_time": "2021-12-10T14:37:05.910Z"
   },
   {
    "duration": 9,
    "start_time": "2021-12-10T14:37:05.918Z"
   },
   {
    "duration": 11,
    "start_time": "2021-12-10T14:37:05.928Z"
   },
   {
    "duration": 7,
    "start_time": "2021-12-10T14:37:05.941Z"
   },
   {
    "duration": 5,
    "start_time": "2021-12-10T14:37:05.949Z"
   },
   {
    "duration": 34,
    "start_time": "2021-12-10T14:37:05.956Z"
   },
   {
    "duration": 5,
    "start_time": "2021-12-10T14:37:05.992Z"
   },
   {
    "duration": 10,
    "start_time": "2021-12-10T14:37:05.998Z"
   },
   {
    "duration": 12,
    "start_time": "2021-12-10T14:37:06.009Z"
   },
   {
    "duration": 7,
    "start_time": "2021-12-10T14:37:06.023Z"
   },
   {
    "duration": 10,
    "start_time": "2021-12-10T14:37:06.032Z"
   },
   {
    "duration": 14,
    "start_time": "2021-12-10T14:37:06.044Z"
   },
   {
    "duration": 7,
    "start_time": "2021-12-10T14:37:06.059Z"
   },
   {
    "duration": 7,
    "start_time": "2021-12-10T14:37:06.068Z"
   },
   {
    "duration": 996,
    "start_time": "2021-12-10T14:39:18.818Z"
   },
   {
    "duration": 560,
    "start_time": "2021-12-10T15:04:35.823Z"
   },
   {
    "duration": 7,
    "start_time": "2021-12-10T15:04:36.385Z"
   },
   {
    "duration": 15,
    "start_time": "2021-12-10T15:04:36.394Z"
   },
   {
    "duration": 13,
    "start_time": "2021-12-10T15:04:36.410Z"
   },
   {
    "duration": 8,
    "start_time": "2021-12-10T15:04:36.425Z"
   },
   {
    "duration": 6,
    "start_time": "2021-12-10T15:04:36.434Z"
   },
   {
    "duration": 5,
    "start_time": "2021-12-10T15:04:36.441Z"
   },
   {
    "duration": 5,
    "start_time": "2021-12-10T15:04:36.448Z"
   },
   {
    "duration": 36,
    "start_time": "2021-12-10T15:04:36.456Z"
   },
   {
    "duration": 10,
    "start_time": "2021-12-10T15:04:36.493Z"
   },
   {
    "duration": 6,
    "start_time": "2021-12-10T15:04:36.505Z"
   },
   {
    "duration": 10,
    "start_time": "2021-12-10T15:04:36.513Z"
   },
   {
    "duration": 8,
    "start_time": "2021-12-10T15:04:36.524Z"
   },
   {
    "duration": 7,
    "start_time": "2021-12-10T15:04:36.533Z"
   },
   {
    "duration": 10,
    "start_time": "2021-12-10T15:04:36.541Z"
   },
   {
    "duration": 5,
    "start_time": "2021-12-10T15:04:36.552Z"
   },
   {
    "duration": 31,
    "start_time": "2021-12-10T15:04:36.558Z"
   },
   {
    "duration": 4,
    "start_time": "2021-12-10T15:04:36.591Z"
   },
   {
    "duration": 4,
    "start_time": "2021-12-10T15:04:36.597Z"
   },
   {
    "duration": 6,
    "start_time": "2021-12-10T15:04:36.603Z"
   },
   {
    "duration": 9,
    "start_time": "2021-12-10T15:04:36.610Z"
   },
   {
    "duration": 4,
    "start_time": "2021-12-10T15:04:36.620Z"
   },
   {
    "duration": 5,
    "start_time": "2021-12-10T15:04:36.626Z"
   },
   {
    "duration": 301,
    "start_time": "2021-12-10T15:05:06.448Z"
   },
   {
    "duration": 643,
    "start_time": "2021-12-10T15:08:40.862Z"
   },
   {
    "duration": 10,
    "start_time": "2021-12-10T15:08:41.507Z"
   },
   {
    "duration": 19,
    "start_time": "2021-12-10T15:08:41.519Z"
   },
   {
    "duration": 12,
    "start_time": "2021-12-10T15:08:41.540Z"
   },
   {
    "duration": 33,
    "start_time": "2021-12-10T15:08:41.554Z"
   },
   {
    "duration": 8,
    "start_time": "2021-12-10T15:08:41.589Z"
   },
   {
    "duration": 7,
    "start_time": "2021-12-10T15:08:41.599Z"
   },
   {
    "duration": 6,
    "start_time": "2021-12-10T15:08:41.609Z"
   },
   {
    "duration": 7,
    "start_time": "2021-12-10T15:08:41.616Z"
   },
   {
    "duration": 7,
    "start_time": "2021-12-10T15:08:41.624Z"
   },
   {
    "duration": 7,
    "start_time": "2021-12-10T15:08:41.632Z"
   },
   {
    "duration": 47,
    "start_time": "2021-12-10T15:08:41.641Z"
   },
   {
    "duration": 6,
    "start_time": "2021-12-10T15:08:41.689Z"
   },
   {
    "duration": 6,
    "start_time": "2021-12-10T15:08:41.697Z"
   },
   {
    "duration": 10,
    "start_time": "2021-12-10T15:08:41.704Z"
   },
   {
    "duration": 5,
    "start_time": "2021-12-10T15:08:41.716Z"
   },
   {
    "duration": 7,
    "start_time": "2021-12-10T15:08:41.723Z"
   },
   {
    "duration": 4,
    "start_time": "2021-12-10T15:08:41.732Z"
   },
   {
    "duration": 50,
    "start_time": "2021-12-10T15:08:41.738Z"
   },
   {
    "duration": 7,
    "start_time": "2021-12-10T15:08:41.790Z"
   },
   {
    "duration": 10,
    "start_time": "2021-12-10T15:08:41.799Z"
   },
   {
    "duration": 6,
    "start_time": "2021-12-10T15:08:41.810Z"
   },
   {
    "duration": 3,
    "start_time": "2021-12-10T15:08:41.820Z"
   },
   {
    "duration": 11,
    "start_time": "2021-12-10T15:09:09.446Z"
   },
   {
    "duration": 12,
    "start_time": "2021-12-10T15:16:04.973Z"
   },
   {
    "duration": 751,
    "start_time": "2021-12-10T15:58:37.741Z"
   },
   {
    "duration": 10,
    "start_time": "2021-12-10T15:58:38.494Z"
   },
   {
    "duration": 21,
    "start_time": "2021-12-10T15:58:38.506Z"
   },
   {
    "duration": 15,
    "start_time": "2021-12-10T15:58:38.529Z"
   },
   {
    "duration": 13,
    "start_time": "2021-12-10T15:58:38.546Z"
   },
   {
    "duration": 32,
    "start_time": "2021-12-10T15:58:38.561Z"
   },
   {
    "duration": 7,
    "start_time": "2021-12-10T15:58:38.596Z"
   },
   {
    "duration": 7,
    "start_time": "2021-12-10T15:58:38.605Z"
   },
   {
    "duration": 5,
    "start_time": "2021-12-10T15:58:38.615Z"
   },
   {
    "duration": 8,
    "start_time": "2021-12-10T15:58:38.622Z"
   },
   {
    "duration": 8,
    "start_time": "2021-12-10T15:58:38.632Z"
   },
   {
    "duration": 10,
    "start_time": "2021-12-10T15:58:38.642Z"
   },
   {
    "duration": 5,
    "start_time": "2021-12-10T15:58:38.688Z"
   },
   {
    "duration": 8,
    "start_time": "2021-12-10T15:58:38.694Z"
   },
   {
    "duration": 12,
    "start_time": "2021-12-10T15:58:38.704Z"
   },
   {
    "duration": 7,
    "start_time": "2021-12-10T15:58:38.717Z"
   },
   {
    "duration": 7,
    "start_time": "2021-12-10T15:58:38.725Z"
   },
   {
    "duration": 5,
    "start_time": "2021-12-10T15:58:38.734Z"
   },
   {
    "duration": 6,
    "start_time": "2021-12-10T15:58:38.741Z"
   },
   {
    "duration": 45,
    "start_time": "2021-12-10T15:58:38.749Z"
   },
   {
    "duration": 11,
    "start_time": "2021-12-10T15:58:38.796Z"
   },
   {
    "duration": 5,
    "start_time": "2021-12-10T15:58:38.809Z"
   },
   {
    "duration": 5,
    "start_time": "2021-12-10T15:58:38.816Z"
   },
   {
    "duration": 7,
    "start_time": "2021-12-10T15:59:39.878Z"
   },
   {
    "duration": 10,
    "start_time": "2021-12-10T15:59:47.460Z"
   },
   {
    "duration": 5,
    "start_time": "2021-12-10T16:00:37.997Z"
   },
   {
    "duration": 6,
    "start_time": "2021-12-10T16:03:45.067Z"
   },
   {
    "duration": 6,
    "start_time": "2021-12-10T16:12:02.875Z"
   },
   {
    "duration": 5,
    "start_time": "2021-12-10T16:12:11.253Z"
   },
   {
    "duration": 5,
    "start_time": "2021-12-10T16:12:15.940Z"
   },
   {
    "duration": 7,
    "start_time": "2021-12-10T16:13:21.976Z"
   },
   {
    "duration": 6,
    "start_time": "2021-12-10T16:13:29.237Z"
   },
   {
    "duration": 373,
    "start_time": "2021-12-10T18:55:57.313Z"
   },
   {
    "duration": 701,
    "start_time": "2021-12-10T18:56:10.284Z"
   },
   {
    "duration": 8,
    "start_time": "2021-12-10T18:56:10.987Z"
   },
   {
    "duration": 16,
    "start_time": "2021-12-10T18:56:10.998Z"
   },
   {
    "duration": 16,
    "start_time": "2021-12-10T18:56:11.016Z"
   },
   {
    "duration": 10,
    "start_time": "2021-12-10T18:56:11.034Z"
   },
   {
    "duration": 9,
    "start_time": "2021-12-10T18:56:11.046Z"
   },
   {
    "duration": 8,
    "start_time": "2021-12-10T18:56:11.057Z"
   },
   {
    "duration": 41,
    "start_time": "2021-12-10T18:56:11.069Z"
   },
   {
    "duration": 6,
    "start_time": "2021-12-10T18:56:11.113Z"
   },
   {
    "duration": 6,
    "start_time": "2021-12-10T18:56:11.121Z"
   },
   {
    "duration": 7,
    "start_time": "2021-12-10T18:56:11.129Z"
   },
   {
    "duration": 12,
    "start_time": "2021-12-10T18:56:11.138Z"
   },
   {
    "duration": 8,
    "start_time": "2021-12-10T18:56:11.152Z"
   },
   {
    "duration": 48,
    "start_time": "2021-12-10T18:56:11.163Z"
   },
   {
    "duration": 11,
    "start_time": "2021-12-10T18:56:11.214Z"
   },
   {
    "duration": 6,
    "start_time": "2021-12-10T18:56:11.227Z"
   },
   {
    "duration": 11,
    "start_time": "2021-12-10T18:56:11.236Z"
   },
   {
    "duration": 5,
    "start_time": "2021-12-10T18:56:11.249Z"
   },
   {
    "duration": 8,
    "start_time": "2021-12-10T18:56:11.256Z"
   },
   {
    "duration": 7,
    "start_time": "2021-12-10T18:56:11.266Z"
   },
   {
    "duration": 11,
    "start_time": "2021-12-10T18:56:11.307Z"
   },
   {
    "duration": 6,
    "start_time": "2021-12-10T18:56:11.319Z"
   },
   {
    "duration": 4,
    "start_time": "2021-12-10T18:56:11.328Z"
   },
   {
    "duration": 7,
    "start_time": "2021-12-10T18:56:11.334Z"
   },
   {
    "duration": 5,
    "start_time": "2021-12-10T18:56:11.342Z"
   },
   {
    "duration": 6,
    "start_time": "2021-12-10T18:56:11.349Z"
   },
   {
    "duration": 4,
    "start_time": "2021-12-10T18:56:11.357Z"
   },
   {
    "duration": 46,
    "start_time": "2021-12-10T18:56:11.362Z"
   },
   {
    "duration": 9,
    "start_time": "2021-12-10T18:56:11.409Z"
   },
   {
    "duration": 5,
    "start_time": "2021-12-10T18:56:40.301Z"
   },
   {
    "duration": 6,
    "start_time": "2021-12-10T18:56:52.161Z"
   },
   {
    "duration": 294,
    "start_time": "2021-12-10T18:57:03.152Z"
   },
   {
    "duration": 5,
    "start_time": "2021-12-10T18:57:06.065Z"
   },
   {
    "duration": 15,
    "start_time": "2021-12-10T18:57:18.286Z"
   },
   {
    "duration": 17,
    "start_time": "2021-12-10T18:57:22.104Z"
   },
   {
    "duration": 4,
    "start_time": "2021-12-10T18:57:24.089Z"
   },
   {
    "duration": 15,
    "start_time": "2021-12-10T18:57:27.206Z"
   },
   {
    "duration": 3,
    "start_time": "2021-12-10T18:57:32.056Z"
   },
   {
    "duration": 4,
    "start_time": "2021-12-10T19:02:07.601Z"
   },
   {
    "duration": 4,
    "start_time": "2021-12-10T19:02:08.958Z"
   },
   {
    "duration": 11,
    "start_time": "2021-12-10T19:02:10.124Z"
   },
   {
    "duration": 7,
    "start_time": "2021-12-10T19:02:11.524Z"
   },
   {
    "duration": 4,
    "start_time": "2021-12-10T19:02:19.868Z"
   },
   {
    "duration": 23,
    "start_time": "2021-12-10T19:02:24.618Z"
   },
   {
    "duration": 7,
    "start_time": "2021-12-10T19:02:37.722Z"
   },
   {
    "duration": 7,
    "start_time": "2021-12-10T19:02:44.032Z"
   },
   {
    "duration": 6,
    "start_time": "2021-12-10T19:02:49.406Z"
   },
   {
    "duration": 8,
    "start_time": "2021-12-10T19:03:01.850Z"
   },
   {
    "duration": 8,
    "start_time": "2021-12-10T19:03:05.166Z"
   },
   {
    "duration": 7,
    "start_time": "2021-12-10T19:03:09.654Z"
   },
   {
    "duration": 8,
    "start_time": "2021-12-10T19:03:17.264Z"
   },
   {
    "duration": 8,
    "start_time": "2021-12-10T19:03:22.285Z"
   },
   {
    "duration": 9,
    "start_time": "2021-12-10T19:03:24.986Z"
   },
   {
    "duration": 10,
    "start_time": "2021-12-10T19:03:41.193Z"
   },
   {
    "duration": 12,
    "start_time": "2021-12-10T19:04:20.659Z"
   },
   {
    "duration": 12,
    "start_time": "2021-12-10T19:04:27.559Z"
   },
   {
    "duration": 8,
    "start_time": "2021-12-10T19:04:29.646Z"
   },
   {
    "duration": 5,
    "start_time": "2021-12-10T19:04:37.150Z"
   },
   {
    "duration": 7,
    "start_time": "2021-12-10T19:04:48.013Z"
   },
   {
    "duration": 5,
    "start_time": "2021-12-10T19:05:07.077Z"
   },
   {
    "duration": 7,
    "start_time": "2021-12-10T19:05:12.536Z"
   },
   {
    "duration": 7,
    "start_time": "2021-12-10T19:05:54.571Z"
   },
   {
    "duration": 8,
    "start_time": "2021-12-10T19:06:54.510Z"
   },
   {
    "duration": 7,
    "start_time": "2021-12-10T19:08:04.222Z"
   },
   {
    "duration": 11,
    "start_time": "2021-12-10T19:16:31.479Z"
   },
   {
    "duration": 13,
    "start_time": "2021-12-10T19:25:30.757Z"
   },
   {
    "duration": 11,
    "start_time": "2021-12-10T19:30:56.465Z"
   },
   {
    "duration": 9,
    "start_time": "2021-12-10T19:33:28.308Z"
   },
   {
    "duration": 7,
    "start_time": "2021-12-10T19:37:21.123Z"
   },
   {
    "duration": 5,
    "start_time": "2021-12-10T19:37:39.693Z"
   },
   {
    "duration": 12,
    "start_time": "2021-12-10T19:37:47.670Z"
   },
   {
    "duration": 6,
    "start_time": "2021-12-10T19:45:12.645Z"
   },
   {
    "duration": 10,
    "start_time": "2021-12-10T19:59:31.765Z"
   },
   {
    "duration": 9,
    "start_time": "2021-12-10T20:00:01.198Z"
   },
   {
    "duration": 9,
    "start_time": "2021-12-10T20:00:48.619Z"
   },
   {
    "duration": 9,
    "start_time": "2021-12-10T20:01:01.739Z"
   },
   {
    "duration": 27501,
    "start_time": "2021-12-10T20:05:31.597Z"
   },
   {
    "duration": 43,
    "start_time": "2021-12-10T21:28:16.227Z"
   },
   {
    "duration": 4,
    "start_time": "2021-12-10T21:28:16.281Z"
   },
   {
    "duration": 17,
    "start_time": "2021-12-10T21:28:16.287Z"
   },
   {
    "duration": 11,
    "start_time": "2021-12-10T21:28:16.306Z"
   },
   {
    "duration": 9,
    "start_time": "2021-12-10T21:28:16.318Z"
   },
   {
    "duration": 6,
    "start_time": "2021-12-10T21:28:16.329Z"
   },
   {
    "duration": 7,
    "start_time": "2021-12-10T21:28:16.336Z"
   },
   {
    "duration": 6,
    "start_time": "2021-12-10T21:28:16.344Z"
   },
   {
    "duration": 6,
    "start_time": "2021-12-10T21:28:16.351Z"
   },
   {
    "duration": 49,
    "start_time": "2021-12-10T21:28:16.360Z"
   },
   {
    "duration": 5,
    "start_time": "2021-12-10T21:28:16.411Z"
   },
   {
    "duration": 11,
    "start_time": "2021-12-10T21:28:16.418Z"
   },
   {
    "duration": 7,
    "start_time": "2021-12-10T21:28:16.430Z"
   },
   {
    "duration": 6,
    "start_time": "2021-12-10T21:28:16.439Z"
   },
   {
    "duration": 8,
    "start_time": "2021-12-10T21:28:16.447Z"
   },
   {
    "duration": 5,
    "start_time": "2021-12-10T21:28:16.457Z"
   },
   {
    "duration": 7,
    "start_time": "2021-12-10T21:28:16.507Z"
   },
   {
    "duration": 4,
    "start_time": "2021-12-10T21:28:16.515Z"
   },
   {
    "duration": 5,
    "start_time": "2021-12-10T21:28:16.521Z"
   },
   {
    "duration": 7,
    "start_time": "2021-12-10T21:28:16.528Z"
   },
   {
    "duration": 10,
    "start_time": "2021-12-10T21:28:16.537Z"
   },
   {
    "duration": 8,
    "start_time": "2021-12-10T21:28:16.548Z"
   },
   {
    "duration": 50,
    "start_time": "2021-12-10T21:28:16.558Z"
   },
   {
    "duration": 7,
    "start_time": "2021-12-10T21:28:16.609Z"
   },
   {
    "duration": 9,
    "start_time": "2021-12-10T21:28:16.618Z"
   },
   {
    "duration": 9,
    "start_time": "2021-12-10T21:28:16.629Z"
   },
   {
    "duration": 5,
    "start_time": "2021-12-10T21:28:16.640Z"
   },
   {
    "duration": 7,
    "start_time": "2021-12-10T21:28:16.650Z"
   },
   {
    "duration": 9,
    "start_time": "2021-12-10T21:28:16.659Z"
   },
   {
    "duration": 38,
    "start_time": "2021-12-10T21:28:16.670Z"
   },
   {
    "duration": 7,
    "start_time": "2021-12-10T21:28:16.709Z"
   },
   {
    "duration": 280,
    "start_time": "2021-12-10T21:28:16.717Z"
   },
   {
    "duration": 9,
    "start_time": "2021-12-10T21:28:16.999Z"
   },
   {
    "duration": 14,
    "start_time": "2021-12-10T21:28:17.010Z"
   },
   {
    "duration": 15,
    "start_time": "2021-12-10T21:28:17.026Z"
   },
   {
    "duration": 14,
    "start_time": "2021-12-10T21:28:17.043Z"
   },
   {
    "duration": 4,
    "start_time": "2021-12-10T21:28:17.058Z"
   },
   {
    "duration": 4,
    "start_time": "2021-12-10T21:28:17.063Z"
   },
   {
    "duration": 40,
    "start_time": "2021-12-10T21:28:17.069Z"
   },
   {
    "duration": 14,
    "start_time": "2021-12-10T21:28:17.110Z"
   },
   {
    "duration": 8,
    "start_time": "2021-12-10T21:28:17.126Z"
   },
   {
    "duration": 3,
    "start_time": "2021-12-10T21:28:17.136Z"
   },
   {
    "duration": 24,
    "start_time": "2021-12-10T21:28:17.141Z"
   },
   {
    "duration": 6,
    "start_time": "2021-12-10T21:28:17.167Z"
   },
   {
    "duration": 36,
    "start_time": "2021-12-10T21:28:17.175Z"
   },
   {
    "duration": 6,
    "start_time": "2021-12-10T21:28:17.213Z"
   },
   {
    "duration": 6,
    "start_time": "2021-12-10T21:28:17.221Z"
   },
   {
    "duration": 7,
    "start_time": "2021-12-10T21:28:17.229Z"
   },
   {
    "duration": 7,
    "start_time": "2021-12-10T21:28:17.238Z"
   },
   {
    "duration": 7,
    "start_time": "2021-12-10T21:28:17.246Z"
   },
   {
    "duration": 6,
    "start_time": "2021-12-10T21:28:17.255Z"
   },
   {
    "duration": 47,
    "start_time": "2021-12-10T21:28:17.263Z"
   },
   {
    "duration": 9,
    "start_time": "2021-12-10T21:28:17.312Z"
   },
   {
    "duration": 10,
    "start_time": "2021-12-10T21:28:17.323Z"
   },
   {
    "duration": 11,
    "start_time": "2021-12-10T21:28:17.335Z"
   },
   {
    "duration": 8,
    "start_time": "2021-12-10T21:28:17.347Z"
   },
   {
    "duration": 4,
    "start_time": "2021-12-10T21:28:17.356Z"
   },
   {
    "duration": 45,
    "start_time": "2021-12-10T21:28:17.362Z"
   },
   {
    "duration": 5,
    "start_time": "2021-12-10T21:28:17.409Z"
   },
   {
    "duration": 8,
    "start_time": "2021-12-10T21:28:17.416Z"
   },
   {
    "duration": 8,
    "start_time": "2021-12-10T21:28:17.426Z"
   },
   {
    "duration": 8,
    "start_time": "2021-12-10T21:28:17.435Z"
   },
   {
    "duration": 8,
    "start_time": "2021-12-10T21:28:17.445Z"
   },
   {
    "duration": 56,
    "start_time": "2021-12-10T21:28:17.455Z"
   },
   {
    "duration": 13,
    "start_time": "2021-12-10T21:28:17.513Z"
   },
   {
    "duration": 12,
    "start_time": "2021-12-10T21:28:17.528Z"
   },
   {
    "duration": 9,
    "start_time": "2021-12-10T21:28:17.542Z"
   },
   {
    "duration": 7,
    "start_time": "2021-12-10T21:28:17.553Z"
   },
   {
    "duration": 45,
    "start_time": "2021-12-10T21:28:17.562Z"
   },
   {
    "duration": 12,
    "start_time": "2021-12-10T21:28:17.609Z"
   },
   {
    "duration": 7804,
    "start_time": "2021-12-10T21:28:17.625Z"
   },
   {
    "duration": 9,
    "start_time": "2021-12-10T21:28:59.562Z"
   },
   {
    "duration": 9,
    "start_time": "2021-12-10T21:29:50.021Z"
   },
   {
    "duration": 705,
    "start_time": "2021-12-10T23:37:25.212Z"
   },
   {
    "duration": 7,
    "start_time": "2021-12-10T23:37:25.919Z"
   },
   {
    "duration": 16,
    "start_time": "2021-12-10T23:37:25.928Z"
   },
   {
    "duration": 13,
    "start_time": "2021-12-10T23:37:25.945Z"
   },
   {
    "duration": 9,
    "start_time": "2021-12-10T23:37:25.960Z"
   },
   {
    "duration": 6,
    "start_time": "2021-12-10T23:37:25.971Z"
   },
   {
    "duration": 6,
    "start_time": "2021-12-10T23:37:25.979Z"
   },
   {
    "duration": 6,
    "start_time": "2021-12-10T23:37:25.987Z"
   },
   {
    "duration": 6,
    "start_time": "2021-12-10T23:37:25.995Z"
   },
   {
    "duration": 42,
    "start_time": "2021-12-10T23:37:26.003Z"
   },
   {
    "duration": 5,
    "start_time": "2021-12-10T23:37:26.049Z"
   },
   {
    "duration": 10,
    "start_time": "2021-12-10T23:37:26.056Z"
   },
   {
    "duration": 18,
    "start_time": "2021-12-10T23:37:26.067Z"
   },
   {
    "duration": 6,
    "start_time": "2021-12-10T23:37:26.086Z"
   },
   {
    "duration": 13,
    "start_time": "2021-12-10T23:37:26.094Z"
   },
   {
    "duration": 5,
    "start_time": "2021-12-10T23:37:26.108Z"
   },
   {
    "duration": 30,
    "start_time": "2021-12-10T23:37:26.115Z"
   },
   {
    "duration": 4,
    "start_time": "2021-12-10T23:37:26.147Z"
   },
   {
    "duration": 10,
    "start_time": "2021-12-10T23:37:26.153Z"
   },
   {
    "duration": 20,
    "start_time": "2021-12-10T23:37:26.165Z"
   },
   {
    "duration": 20,
    "start_time": "2021-12-10T23:37:26.187Z"
   },
   {
    "duration": 7,
    "start_time": "2021-12-10T23:37:26.209Z"
   },
   {
    "duration": 28,
    "start_time": "2021-12-10T23:37:26.220Z"
   },
   {
    "duration": 8,
    "start_time": "2021-12-10T23:37:26.251Z"
   },
   {
    "duration": 6,
    "start_time": "2021-12-10T23:37:26.260Z"
   },
   {
    "duration": 12,
    "start_time": "2021-12-10T23:37:26.267Z"
   },
   {
    "duration": 5,
    "start_time": "2021-12-10T23:37:26.280Z"
   },
   {
    "duration": 16,
    "start_time": "2021-12-10T23:37:26.286Z"
   },
   {
    "duration": 10,
    "start_time": "2021-12-10T23:37:26.303Z"
   },
   {
    "duration": 7,
    "start_time": "2021-12-10T23:37:26.314Z"
   },
   {
    "duration": 5,
    "start_time": "2021-12-10T23:37:26.345Z"
   },
   {
    "duration": 269,
    "start_time": "2021-12-10T23:37:26.352Z"
   },
   {
    "duration": 5,
    "start_time": "2021-12-10T23:37:26.622Z"
   },
   {
    "duration": 28,
    "start_time": "2021-12-10T23:37:26.628Z"
   },
   {
    "duration": 15,
    "start_time": "2021-12-10T23:37:26.657Z"
   },
   {
    "duration": 14,
    "start_time": "2021-12-10T23:37:26.674Z"
   },
   {
    "duration": 3,
    "start_time": "2021-12-10T23:37:26.689Z"
   },
   {
    "duration": 7,
    "start_time": "2021-12-10T23:37:26.693Z"
   },
   {
    "duration": 9,
    "start_time": "2021-12-10T23:37:26.701Z"
   },
   {
    "duration": 34,
    "start_time": "2021-12-10T23:37:26.711Z"
   },
   {
    "duration": 13,
    "start_time": "2021-12-10T23:37:26.747Z"
   },
   {
    "duration": 5,
    "start_time": "2021-12-10T23:37:26.762Z"
   },
   {
    "duration": 28,
    "start_time": "2021-12-10T23:37:26.768Z"
   },
   {
    "duration": 6,
    "start_time": "2021-12-10T23:37:26.798Z"
   },
   {
    "duration": 7,
    "start_time": "2021-12-10T23:37:26.806Z"
   },
   {
    "duration": 32,
    "start_time": "2021-12-10T23:37:26.814Z"
   },
   {
    "duration": 8,
    "start_time": "2021-12-10T23:37:26.847Z"
   },
   {
    "duration": 10,
    "start_time": "2021-12-10T23:37:26.856Z"
   },
   {
    "duration": 7,
    "start_time": "2021-12-10T23:37:26.868Z"
   },
   {
    "duration": 7,
    "start_time": "2021-12-10T23:37:26.877Z"
   },
   {
    "duration": 7,
    "start_time": "2021-12-10T23:37:26.885Z"
   },
   {
    "duration": 7,
    "start_time": "2021-12-10T23:37:26.893Z"
   },
   {
    "duration": 46,
    "start_time": "2021-12-10T23:37:26.901Z"
   },
   {
    "duration": 12,
    "start_time": "2021-12-10T23:37:26.949Z"
   },
   {
    "duration": 11,
    "start_time": "2021-12-10T23:37:26.962Z"
   },
   {
    "duration": 7,
    "start_time": "2021-12-10T23:37:26.975Z"
   },
   {
    "duration": 4,
    "start_time": "2021-12-10T23:37:26.984Z"
   },
   {
    "duration": 10,
    "start_time": "2021-12-10T23:37:26.989Z"
   },
   {
    "duration": 44,
    "start_time": "2021-12-10T23:37:27.000Z"
   },
   {
    "duration": 7,
    "start_time": "2021-12-10T23:37:27.046Z"
   },
   {
    "duration": 7,
    "start_time": "2021-12-10T23:37:27.055Z"
   },
   {
    "duration": 7,
    "start_time": "2021-12-10T23:37:27.063Z"
   },
   {
    "duration": 7,
    "start_time": "2021-12-10T23:37:27.071Z"
   },
   {
    "duration": 12,
    "start_time": "2021-12-10T23:37:27.079Z"
   },
   {
    "duration": 11,
    "start_time": "2021-12-10T23:37:27.093Z"
   },
   {
    "duration": 46,
    "start_time": "2021-12-10T23:37:27.106Z"
   },
   {
    "duration": 8,
    "start_time": "2021-12-10T23:37:27.154Z"
   },
   {
    "duration": 6,
    "start_time": "2021-12-10T23:37:27.166Z"
   },
   {
    "duration": 4,
    "start_time": "2021-12-10T23:37:27.174Z"
   },
   {
    "duration": 12,
    "start_time": "2021-12-10T23:37:27.180Z"
   },
   {
    "duration": 7261,
    "start_time": "2021-12-10T23:37:27.194Z"
   },
   {
    "duration": 10,
    "start_time": "2021-12-10T23:37:46.076Z"
   },
   {
    "duration": 9,
    "start_time": "2021-12-10T23:38:06.494Z"
   },
   {
    "duration": 316,
    "start_time": "2021-12-10T23:38:28.927Z"
   },
   {
    "duration": 5136,
    "start_time": "2021-12-10T23:47:46.021Z"
   },
   {
    "duration": 7773,
    "start_time": "2021-12-10T23:51:52.206Z"
   },
   {
    "duration": 7949,
    "start_time": "2021-12-10T23:53:40.015Z"
   },
   {
    "duration": 654,
    "start_time": "2021-12-11T15:57:00.922Z"
   },
   {
    "duration": 7,
    "start_time": "2021-12-11T15:57:01.578Z"
   },
   {
    "duration": 25,
    "start_time": "2021-12-11T15:57:01.587Z"
   },
   {
    "duration": 23,
    "start_time": "2021-12-11T15:57:01.614Z"
   },
   {
    "duration": 14,
    "start_time": "2021-12-11T15:57:01.638Z"
   },
   {
    "duration": 7,
    "start_time": "2021-12-11T15:57:01.654Z"
   },
   {
    "duration": 6,
    "start_time": "2021-12-11T15:57:01.663Z"
   },
   {
    "duration": 16,
    "start_time": "2021-12-11T15:57:01.672Z"
   },
   {
    "duration": 80,
    "start_time": "2021-12-11T15:57:01.690Z"
   },
   {
    "duration": 27,
    "start_time": "2021-12-11T15:57:01.772Z"
   },
   {
    "duration": 13,
    "start_time": "2021-12-11T15:57:01.801Z"
   },
   {
    "duration": 19,
    "start_time": "2021-12-11T15:57:01.816Z"
   },
   {
    "duration": 16,
    "start_time": "2021-12-11T15:57:01.836Z"
   },
   {
    "duration": 10,
    "start_time": "2021-12-11T15:57:01.853Z"
   },
   {
    "duration": 15,
    "start_time": "2021-12-11T15:57:01.864Z"
   },
   {
    "duration": 6,
    "start_time": "2021-12-11T15:57:01.880Z"
   },
   {
    "duration": 10,
    "start_time": "2021-12-11T15:57:01.888Z"
   },
   {
    "duration": 13,
    "start_time": "2021-12-11T15:57:01.900Z"
   },
   {
    "duration": 20,
    "start_time": "2021-12-11T15:57:01.914Z"
   },
   {
    "duration": 28,
    "start_time": "2021-12-11T15:57:01.936Z"
   },
   {
    "duration": 16,
    "start_time": "2021-12-11T15:57:01.965Z"
   },
   {
    "duration": 12,
    "start_time": "2021-12-11T15:57:01.982Z"
   },
   {
    "duration": 6,
    "start_time": "2021-12-11T15:57:01.997Z"
   },
   {
    "duration": 14,
    "start_time": "2021-12-11T15:57:02.005Z"
   },
   {
    "duration": 17,
    "start_time": "2021-12-11T15:57:02.021Z"
   },
   {
    "duration": 12,
    "start_time": "2021-12-11T15:57:02.039Z"
   },
   {
    "duration": 9,
    "start_time": "2021-12-11T15:57:02.053Z"
   },
   {
    "duration": 10,
    "start_time": "2021-12-11T15:57:02.063Z"
   },
   {
    "duration": 9,
    "start_time": "2021-12-11T15:57:02.074Z"
   },
   {
    "duration": 6,
    "start_time": "2021-12-11T15:57:02.084Z"
   },
   {
    "duration": 7,
    "start_time": "2021-12-11T15:57:02.092Z"
   },
   {
    "duration": 258,
    "start_time": "2021-12-11T15:57:02.100Z"
   },
   {
    "duration": 5,
    "start_time": "2021-12-11T15:57:02.359Z"
   },
   {
    "duration": 28,
    "start_time": "2021-12-11T15:57:02.365Z"
   },
   {
    "duration": 15,
    "start_time": "2021-12-11T15:57:02.394Z"
   },
   {
    "duration": 14,
    "start_time": "2021-12-11T15:57:02.410Z"
   },
   {
    "duration": 3,
    "start_time": "2021-12-11T15:57:02.426Z"
   },
   {
    "duration": 6,
    "start_time": "2021-12-11T15:57:02.431Z"
   },
   {
    "duration": 5,
    "start_time": "2021-12-11T15:57:02.439Z"
   },
   {
    "duration": 16,
    "start_time": "2021-12-11T15:57:02.446Z"
   },
   {
    "duration": 26,
    "start_time": "2021-12-11T15:57:02.464Z"
   },
   {
    "duration": 4,
    "start_time": "2021-12-11T15:57:02.491Z"
   },
   {
    "duration": 40,
    "start_time": "2021-12-11T15:57:02.496Z"
   },
   {
    "duration": 7,
    "start_time": "2021-12-11T15:57:02.538Z"
   },
   {
    "duration": 9,
    "start_time": "2021-12-11T15:57:02.547Z"
   },
   {
    "duration": 33,
    "start_time": "2021-12-11T15:57:02.557Z"
   },
   {
    "duration": 6,
    "start_time": "2021-12-11T15:57:02.591Z"
   },
   {
    "duration": 6,
    "start_time": "2021-12-11T15:57:02.599Z"
   },
   {
    "duration": 7,
    "start_time": "2021-12-11T15:57:02.606Z"
   },
   {
    "duration": 6,
    "start_time": "2021-12-11T15:57:02.615Z"
   },
   {
    "duration": 10,
    "start_time": "2021-12-11T15:57:02.622Z"
   },
   {
    "duration": 11,
    "start_time": "2021-12-11T15:57:02.633Z"
   },
   {
    "duration": 9,
    "start_time": "2021-12-11T15:57:02.645Z"
   },
   {
    "duration": 40,
    "start_time": "2021-12-11T15:57:02.656Z"
   },
   {
    "duration": 10,
    "start_time": "2021-12-11T15:57:02.697Z"
   },
   {
    "duration": 25,
    "start_time": "2021-12-11T15:57:02.709Z"
   },
   {
    "duration": 4,
    "start_time": "2021-12-11T15:57:02.736Z"
   },
   {
    "duration": 9,
    "start_time": "2021-12-11T15:57:02.741Z"
   },
   {
    "duration": 4,
    "start_time": "2021-12-11T15:57:02.751Z"
   },
   {
    "duration": 13,
    "start_time": "2021-12-11T15:57:02.756Z"
   },
   {
    "duration": 18,
    "start_time": "2021-12-11T15:57:02.770Z"
   },
   {
    "duration": 5,
    "start_time": "2021-12-11T15:57:02.790Z"
   },
   {
    "duration": 6,
    "start_time": "2021-12-11T15:57:02.797Z"
   },
   {
    "duration": 14,
    "start_time": "2021-12-11T15:57:02.804Z"
   },
   {
    "duration": 12,
    "start_time": "2021-12-11T15:57:02.819Z"
   },
   {
    "duration": 9,
    "start_time": "2021-12-11T15:57:02.832Z"
   },
   {
    "duration": 7,
    "start_time": "2021-12-11T15:57:02.842Z"
   },
   {
    "duration": 8,
    "start_time": "2021-12-11T15:57:02.887Z"
   },
   {
    "duration": 9,
    "start_time": "2021-12-11T15:57:02.897Z"
   },
   {
    "duration": 17,
    "start_time": "2021-12-11T15:57:02.908Z"
   },
   {
    "duration": 9,
    "start_time": "2021-12-11T15:57:25.771Z"
   },
   {
    "duration": 306,
    "start_time": "2021-12-11T20:58:30.653Z"
   },
   {
    "duration": 656,
    "start_time": "2021-12-11T20:58:47.542Z"
   },
   {
    "duration": 8,
    "start_time": "2021-12-11T20:58:48.199Z"
   },
   {
    "duration": 39,
    "start_time": "2021-12-11T20:58:48.209Z"
   },
   {
    "duration": 15,
    "start_time": "2021-12-11T20:58:48.250Z"
   },
   {
    "duration": 34,
    "start_time": "2021-12-11T20:58:48.267Z"
   },
   {
    "duration": 15,
    "start_time": "2021-12-11T20:58:48.303Z"
   },
   {
    "duration": 20,
    "start_time": "2021-12-11T20:58:48.320Z"
   },
   {
    "duration": 5,
    "start_time": "2021-12-11T20:58:48.342Z"
   },
   {
    "duration": 6,
    "start_time": "2021-12-11T20:58:48.349Z"
   },
   {
    "duration": 7,
    "start_time": "2021-12-11T20:58:48.356Z"
   },
   {
    "duration": 5,
    "start_time": "2021-12-11T20:58:48.365Z"
   },
   {
    "duration": 9,
    "start_time": "2021-12-11T20:58:48.371Z"
   },
   {
    "duration": 4,
    "start_time": "2021-12-11T20:58:48.382Z"
   },
   {
    "duration": 6,
    "start_time": "2021-12-11T20:58:48.387Z"
   },
   {
    "duration": 9,
    "start_time": "2021-12-11T20:58:48.395Z"
   },
   {
    "duration": 42,
    "start_time": "2021-12-11T20:58:48.406Z"
   },
   {
    "duration": 5,
    "start_time": "2021-12-11T20:58:48.450Z"
   },
   {
    "duration": 3,
    "start_time": "2021-12-11T20:58:48.457Z"
   },
   {
    "duration": 6,
    "start_time": "2021-12-11T20:58:48.461Z"
   },
   {
    "duration": 8,
    "start_time": "2021-12-11T20:58:48.469Z"
   },
   {
    "duration": 8,
    "start_time": "2021-12-11T20:58:48.479Z"
   },
   {
    "duration": 4,
    "start_time": "2021-12-11T20:58:48.489Z"
   },
   {
    "duration": 4,
    "start_time": "2021-12-11T20:58:48.497Z"
   },
   {
    "duration": 43,
    "start_time": "2021-12-11T20:58:48.503Z"
   },
   {
    "duration": 7,
    "start_time": "2021-12-11T20:58:48.548Z"
   },
   {
    "duration": 11,
    "start_time": "2021-12-11T20:58:48.557Z"
   },
   {
    "duration": 4,
    "start_time": "2021-12-11T20:58:48.570Z"
   },
   {
    "duration": 8,
    "start_time": "2021-12-11T20:58:48.576Z"
   },
   {
    "duration": 7,
    "start_time": "2021-12-11T20:58:48.585Z"
   },
   {
    "duration": 5,
    "start_time": "2021-12-11T20:58:48.594Z"
   },
   {
    "duration": 5,
    "start_time": "2021-12-11T20:58:48.600Z"
   },
   {
    "duration": 298,
    "start_time": "2021-12-11T20:58:48.606Z"
   },
   {
    "duration": 4,
    "start_time": "2021-12-11T20:58:48.906Z"
   },
   {
    "duration": 25,
    "start_time": "2021-12-11T20:58:48.912Z"
   },
   {
    "duration": 15,
    "start_time": "2021-12-11T20:58:48.939Z"
   },
   {
    "duration": 13,
    "start_time": "2021-12-11T20:58:48.956Z"
   },
   {
    "duration": 3,
    "start_time": "2021-12-11T20:58:48.971Z"
   },
   {
    "duration": 4,
    "start_time": "2021-12-11T20:58:48.975Z"
   },
   {
    "duration": 6,
    "start_time": "2021-12-11T20:58:48.981Z"
   },
   {
    "duration": 13,
    "start_time": "2021-12-11T20:58:48.988Z"
   },
   {
    "duration": 7,
    "start_time": "2021-12-11T20:58:49.003Z"
   },
   {
    "duration": 34,
    "start_time": "2021-12-11T20:58:49.011Z"
   },
   {
    "duration": 25,
    "start_time": "2021-12-11T20:58:49.046Z"
   },
   {
    "duration": 6,
    "start_time": "2021-12-11T20:58:49.073Z"
   },
   {
    "duration": 8,
    "start_time": "2021-12-11T20:58:49.080Z"
   },
   {
    "duration": 7,
    "start_time": "2021-12-11T20:58:49.089Z"
   },
   {
    "duration": 11,
    "start_time": "2021-12-11T20:58:49.098Z"
   },
   {
    "duration": 35,
    "start_time": "2021-12-11T20:58:49.111Z"
   },
   {
    "duration": 6,
    "start_time": "2021-12-11T20:58:49.148Z"
   },
   {
    "duration": 6,
    "start_time": "2021-12-11T20:58:49.156Z"
   },
   {
    "duration": 6,
    "start_time": "2021-12-11T20:58:49.163Z"
   },
   {
    "duration": 10,
    "start_time": "2021-12-11T20:58:49.170Z"
   },
   {
    "duration": 10,
    "start_time": "2021-12-11T20:58:49.181Z"
   },
   {
    "duration": 10,
    "start_time": "2021-12-11T20:58:49.193Z"
   },
   {
    "duration": 43,
    "start_time": "2021-12-11T20:58:49.205Z"
   },
   {
    "duration": 8,
    "start_time": "2021-12-11T20:58:49.249Z"
   },
   {
    "duration": 4,
    "start_time": "2021-12-11T20:58:49.258Z"
   },
   {
    "duration": 7,
    "start_time": "2021-12-11T20:58:49.263Z"
   },
   {
    "duration": 3,
    "start_time": "2021-12-11T20:58:49.272Z"
   },
   {
    "duration": 7,
    "start_time": "2021-12-11T20:58:49.276Z"
   },
   {
    "duration": 6,
    "start_time": "2021-12-11T20:58:49.284Z"
   },
   {
    "duration": 6,
    "start_time": "2021-12-11T20:58:49.291Z"
   },
   {
    "duration": 48,
    "start_time": "2021-12-11T20:58:49.298Z"
   },
   {
    "duration": 12,
    "start_time": "2021-12-11T20:58:49.348Z"
   },
   {
    "duration": 13,
    "start_time": "2021-12-11T20:58:49.362Z"
   },
   {
    "duration": 11,
    "start_time": "2021-12-11T20:58:49.376Z"
   },
   {
    "duration": 8,
    "start_time": "2021-12-11T20:58:49.389Z"
   },
   {
    "duration": 43,
    "start_time": "2021-12-11T20:58:49.402Z"
   },
   {
    "duration": 5,
    "start_time": "2021-12-11T20:58:49.447Z"
   },
   {
    "duration": 15,
    "start_time": "2021-12-11T20:58:49.453Z"
   },
   {
    "duration": 12,
    "start_time": "2021-12-11T20:59:41.945Z"
   },
   {
    "duration": 12,
    "start_time": "2021-12-11T21:06:11.479Z"
   },
   {
    "duration": 635,
    "start_time": "2021-12-11T21:06:44.262Z"
   },
   {
    "duration": 8,
    "start_time": "2021-12-11T21:06:44.899Z"
   },
   {
    "duration": 17,
    "start_time": "2021-12-11T21:06:44.910Z"
   },
   {
    "duration": 13,
    "start_time": "2021-12-11T21:06:44.929Z"
   },
   {
    "duration": 9,
    "start_time": "2021-12-11T21:06:44.944Z"
   },
   {
    "duration": 7,
    "start_time": "2021-12-11T21:06:44.955Z"
   },
   {
    "duration": 6,
    "start_time": "2021-12-11T21:06:44.963Z"
   },
   {
    "duration": 5,
    "start_time": "2021-12-11T21:06:44.972Z"
   },
   {
    "duration": 6,
    "start_time": "2021-12-11T21:06:44.980Z"
   },
   {
    "duration": 6,
    "start_time": "2021-12-11T21:06:44.988Z"
   },
   {
    "duration": 6,
    "start_time": "2021-12-11T21:06:44.996Z"
   },
   {
    "duration": 10,
    "start_time": "2021-12-11T21:06:45.045Z"
   },
   {
    "duration": 12,
    "start_time": "2021-12-11T21:06:45.056Z"
   },
   {
    "duration": 9,
    "start_time": "2021-12-11T21:06:45.070Z"
   },
   {
    "duration": 9,
    "start_time": "2021-12-11T21:06:45.081Z"
   },
   {
    "duration": 5,
    "start_time": "2021-12-11T21:06:45.092Z"
   },
   {
    "duration": 7,
    "start_time": "2021-12-11T21:06:45.098Z"
   },
   {
    "duration": 3,
    "start_time": "2021-12-11T21:06:45.107Z"
   },
   {
    "duration": 35,
    "start_time": "2021-12-11T21:06:45.112Z"
   },
   {
    "duration": 9,
    "start_time": "2021-12-11T21:06:45.149Z"
   },
   {
    "duration": 9,
    "start_time": "2021-12-11T21:06:45.160Z"
   },
   {
    "duration": 7,
    "start_time": "2021-12-11T21:06:45.171Z"
   },
   {
    "duration": 4,
    "start_time": "2021-12-11T21:06:45.182Z"
   },
   {
    "duration": 9,
    "start_time": "2021-12-11T21:06:45.188Z"
   },
   {
    "duration": 46,
    "start_time": "2021-12-11T21:06:45.199Z"
   },
   {
    "duration": 10,
    "start_time": "2021-12-11T21:06:51.070Z"
   },
   {
    "duration": 6,
    "start_time": "2021-12-11T21:07:18.652Z"
   },
   {
    "duration": 5,
    "start_time": "2021-12-11T21:07:31.149Z"
   },
   {
    "duration": 11,
    "start_time": "2021-12-11T21:08:06.226Z"
   },
   {
    "duration": 13,
    "start_time": "2021-12-11T21:13:08.413Z"
   },
   {
    "duration": 8,
    "start_time": "2021-12-11T21:15:10.578Z"
   },
   {
    "duration": 7,
    "start_time": "2021-12-11T21:15:19.010Z"
   },
   {
    "duration": 5,
    "start_time": "2021-12-11T21:15:40.868Z"
   },
   {
    "duration": 5,
    "start_time": "2021-12-11T21:15:48.554Z"
   },
   {
    "duration": 276,
    "start_time": "2021-12-11T21:15:53.246Z"
   },
   {
    "duration": 4,
    "start_time": "2021-12-11T21:15:55.302Z"
   },
   {
    "duration": 14,
    "start_time": "2021-12-11T21:15:59.036Z"
   },
   {
    "duration": 16,
    "start_time": "2021-12-11T21:16:01.398Z"
   },
   {
    "duration": 14,
    "start_time": "2021-12-11T21:16:02.407Z"
   },
   {
    "duration": 4,
    "start_time": "2021-12-11T21:16:03.717Z"
   },
   {
    "duration": 4,
    "start_time": "2021-12-11T21:20:12.046Z"
   },
   {
    "duration": 5,
    "start_time": "2021-12-11T21:20:16.371Z"
   },
   {
    "duration": 10,
    "start_time": "2021-12-11T21:20:21.574Z"
   },
   {
    "duration": 8,
    "start_time": "2021-12-11T21:20:25.110Z"
   },
   {
    "duration": 3,
    "start_time": "2021-12-11T21:20:31.288Z"
   },
   {
    "duration": 25,
    "start_time": "2021-12-11T21:20:36.048Z"
   },
   {
    "duration": 7,
    "start_time": "2021-12-11T21:20:42.119Z"
   },
   {
    "duration": 8,
    "start_time": "2021-12-11T21:20:48.297Z"
   },
   {
    "duration": 6,
    "start_time": "2021-12-11T21:20:54.405Z"
   },
   {
    "duration": 7,
    "start_time": "2021-12-11T21:20:58.217Z"
   },
   {
    "duration": 9,
    "start_time": "2021-12-11T21:21:05.414Z"
   },
   {
    "duration": 8,
    "start_time": "2021-12-11T21:21:13.123Z"
   },
   {
    "duration": 8,
    "start_time": "2021-12-11T21:21:15.464Z"
   },
   {
    "duration": 8,
    "start_time": "2021-12-11T21:21:19.889Z"
   },
   {
    "duration": 7,
    "start_time": "2021-12-11T21:21:32.157Z"
   },
   {
    "duration": 9,
    "start_time": "2021-12-11T21:21:38.112Z"
   },
   {
    "duration": 14,
    "start_time": "2021-12-11T21:21:57.479Z"
   },
   {
    "duration": 13,
    "start_time": "2021-12-11T21:22:04.271Z"
   },
   {
    "duration": 9,
    "start_time": "2021-12-11T21:22:11.155Z"
   },
   {
    "duration": 5,
    "start_time": "2021-12-11T21:22:15.432Z"
   },
   {
    "duration": 7,
    "start_time": "2021-12-11T21:22:18.127Z"
   },
   {
    "duration": 4,
    "start_time": "2021-12-11T21:22:23.485Z"
   },
   {
    "duration": 8,
    "start_time": "2021-12-11T21:23:12.108Z"
   },
   {
    "duration": 8,
    "start_time": "2021-12-11T21:23:15.584Z"
   },
   {
    "duration": 7,
    "start_time": "2021-12-11T21:23:20.425Z"
   },
   {
    "duration": 7,
    "start_time": "2021-12-11T21:23:23.928Z"
   },
   {
    "duration": 10,
    "start_time": "2021-12-11T21:26:11.792Z"
   },
   {
    "duration": 12,
    "start_time": "2021-12-11T21:26:24.350Z"
   },
   {
    "duration": 10,
    "start_time": "2021-12-11T21:26:37.456Z"
   },
   {
    "duration": 8,
    "start_time": "2021-12-11T21:26:40.526Z"
   },
   {
    "duration": 7,
    "start_time": "2021-12-11T21:26:43.798Z"
   },
   {
    "duration": 4,
    "start_time": "2021-12-11T21:26:52.236Z"
   },
   {
    "duration": 11,
    "start_time": "2021-12-11T21:27:05.310Z"
   },
   {
    "duration": 12,
    "start_time": "2021-12-11T21:27:33.554Z"
   },
   {
    "duration": 12,
    "start_time": "2021-12-11T21:28:19.258Z"
   },
   {
    "duration": 4,
    "start_time": "2021-12-11T21:28:35.900Z"
   },
   {
    "duration": 10,
    "start_time": "2021-12-11T21:28:37.544Z"
   },
   {
    "duration": 8,
    "start_time": "2021-12-11T21:28:38.585Z"
   },
   {
    "duration": 4,
    "start_time": "2021-12-11T21:28:47.773Z"
   },
   {
    "duration": 9,
    "start_time": "2021-12-11T21:28:55.614Z"
   },
   {
    "duration": 5,
    "start_time": "2021-12-11T21:29:02.520Z"
   },
   {
    "duration": 8,
    "start_time": "2021-12-11T21:29:19.504Z"
   },
   {
    "duration": 7,
    "start_time": "2021-12-11T21:29:23.969Z"
   },
   {
    "duration": 41,
    "start_time": "2021-12-11T21:29:28.161Z"
   },
   {
    "duration": 45,
    "start_time": "2021-12-11T21:30:10.654Z"
   },
   {
    "duration": 8,
    "start_time": "2021-12-11T21:31:49.714Z"
   },
   {
    "duration": 16,
    "start_time": "2021-12-11T21:33:02.765Z"
   },
   {
    "duration": 14,
    "start_time": "2021-12-11T21:35:56.742Z"
   },
   {
    "duration": 14,
    "start_time": "2021-12-11T21:36:04.725Z"
   },
   {
    "duration": 639,
    "start_time": "2021-12-11T21:44:56.869Z"
   },
   {
    "duration": 7,
    "start_time": "2021-12-11T21:44:57.510Z"
   },
   {
    "duration": 16,
    "start_time": "2021-12-11T21:44:57.519Z"
   },
   {
    "duration": 16,
    "start_time": "2021-12-11T21:44:57.537Z"
   },
   {
    "duration": 8,
    "start_time": "2021-12-11T21:44:57.554Z"
   },
   {
    "duration": 5,
    "start_time": "2021-12-11T21:44:57.564Z"
   },
   {
    "duration": 5,
    "start_time": "2021-12-11T21:44:57.571Z"
   },
   {
    "duration": 4,
    "start_time": "2021-12-11T21:44:57.578Z"
   },
   {
    "duration": 6,
    "start_time": "2021-12-11T21:44:57.584Z"
   },
   {
    "duration": 6,
    "start_time": "2021-12-11T21:44:57.591Z"
   },
   {
    "duration": 46,
    "start_time": "2021-12-11T21:44:57.599Z"
   },
   {
    "duration": 9,
    "start_time": "2021-12-11T21:44:57.647Z"
   },
   {
    "duration": 9,
    "start_time": "2021-12-11T21:44:57.657Z"
   },
   {
    "duration": 6,
    "start_time": "2021-12-11T21:44:57.667Z"
   },
   {
    "duration": 10,
    "start_time": "2021-12-11T21:44:57.674Z"
   },
   {
    "duration": 6,
    "start_time": "2021-12-11T21:44:57.685Z"
   },
   {
    "duration": 9,
    "start_time": "2021-12-11T21:44:57.692Z"
   },
   {
    "duration": 4,
    "start_time": "2021-12-11T21:44:57.702Z"
   },
   {
    "duration": 4,
    "start_time": "2021-12-11T21:44:57.708Z"
   },
   {
    "duration": 8,
    "start_time": "2021-12-11T21:44:57.745Z"
   },
   {
    "duration": 9,
    "start_time": "2021-12-11T21:44:57.755Z"
   },
   {
    "duration": 5,
    "start_time": "2021-12-11T21:44:57.765Z"
   },
   {
    "duration": 4,
    "start_time": "2021-12-11T21:44:57.773Z"
   },
   {
    "duration": 6,
    "start_time": "2021-12-11T21:44:57.779Z"
   },
   {
    "duration": 5,
    "start_time": "2021-12-11T21:44:57.787Z"
   },
   {
    "duration": 7,
    "start_time": "2021-12-11T21:44:57.793Z"
   },
   {
    "duration": 4,
    "start_time": "2021-12-11T21:44:57.801Z"
   },
   {
    "duration": 10,
    "start_time": "2021-12-11T21:44:57.845Z"
   },
   {
    "duration": 11,
    "start_time": "2021-12-11T21:44:57.856Z"
   },
   {
    "duration": 6,
    "start_time": "2021-12-11T21:44:57.868Z"
   },
   {
    "duration": 8,
    "start_time": "2021-12-11T21:44:57.876Z"
   },
   {
    "duration": 5,
    "start_time": "2021-12-11T21:44:57.885Z"
   },
   {
    "duration": 5,
    "start_time": "2021-12-11T21:44:57.891Z"
   },
   {
    "duration": 298,
    "start_time": "2021-12-11T21:44:57.897Z"
   },
   {
    "duration": 4,
    "start_time": "2021-12-11T21:44:58.197Z"
   },
   {
    "duration": 17,
    "start_time": "2021-12-11T21:44:58.203Z"
   },
   {
    "duration": 32,
    "start_time": "2021-12-11T21:44:58.221Z"
   },
   {
    "duration": 13,
    "start_time": "2021-12-11T21:44:58.255Z"
   },
   {
    "duration": 3,
    "start_time": "2021-12-11T21:44:58.270Z"
   },
   {
    "duration": 5,
    "start_time": "2021-12-11T21:44:58.275Z"
   },
   {
    "duration": 9,
    "start_time": "2021-12-11T21:44:58.281Z"
   },
   {
    "duration": 17,
    "start_time": "2021-12-11T21:44:58.291Z"
   },
   {
    "duration": 11,
    "start_time": "2021-12-11T21:44:58.310Z"
   },
   {
    "duration": 5,
    "start_time": "2021-12-11T21:44:58.322Z"
   },
   {
    "duration": 29,
    "start_time": "2021-12-11T21:44:58.345Z"
   },
   {
    "duration": 6,
    "start_time": "2021-12-11T21:44:58.376Z"
   },
   {
    "duration": 8,
    "start_time": "2021-12-11T21:44:58.384Z"
   },
   {
    "duration": 6,
    "start_time": "2021-12-11T21:44:58.394Z"
   },
   {
    "duration": 6,
    "start_time": "2021-12-11T21:44:58.401Z"
   },
   {
    "duration": 37,
    "start_time": "2021-12-11T21:44:58.408Z"
   },
   {
    "duration": 6,
    "start_time": "2021-12-11T21:44:58.447Z"
   },
   {
    "duration": 6,
    "start_time": "2021-12-11T21:44:58.455Z"
   },
   {
    "duration": 7,
    "start_time": "2021-12-11T21:44:58.462Z"
   },
   {
    "duration": 6,
    "start_time": "2021-12-11T21:44:58.471Z"
   },
   {
    "duration": 10,
    "start_time": "2021-12-11T21:44:58.479Z"
   },
   {
    "duration": 54,
    "start_time": "2021-12-11T21:44:58.491Z"
   },
   {
    "duration": 12,
    "start_time": "2021-12-11T21:44:58.546Z"
   },
   {
    "duration": 9,
    "start_time": "2021-12-11T21:44:58.559Z"
   },
   {
    "duration": 6,
    "start_time": "2021-12-11T21:44:58.569Z"
   },
   {
    "duration": 9,
    "start_time": "2021-12-11T21:44:58.576Z"
   },
   {
    "duration": 4,
    "start_time": "2021-12-11T21:44:58.586Z"
   },
   {
    "duration": 8,
    "start_time": "2021-12-11T21:44:58.592Z"
   },
   {
    "duration": 48,
    "start_time": "2021-12-11T21:44:58.602Z"
   },
   {
    "duration": 8,
    "start_time": "2021-12-11T21:44:58.652Z"
   },
   {
    "duration": 8,
    "start_time": "2021-12-11T21:44:58.661Z"
   },
   {
    "duration": 11,
    "start_time": "2021-12-11T21:44:58.671Z"
   },
   {
    "duration": 14,
    "start_time": "2021-12-11T21:44:58.684Z"
   },
   {
    "duration": 51,
    "start_time": "2021-12-11T21:44:58.703Z"
   },
   {
    "duration": 6,
    "start_time": "2021-12-11T21:44:58.756Z"
   },
   {
    "duration": 6,
    "start_time": "2021-12-11T21:44:58.764Z"
   },
   {
    "duration": 5,
    "start_time": "2021-12-11T21:44:58.771Z"
   },
   {
    "duration": 11,
    "start_time": "2021-12-11T21:44:58.778Z"
   },
   {
    "duration": 12,
    "start_time": "2021-12-11T21:44:58.791Z"
   },
   {
    "duration": 46,
    "start_time": "2021-12-11T21:44:58.805Z"
   },
   {
    "duration": 3,
    "start_time": "2021-12-11T21:44:58.853Z"
   },
   {
    "duration": 11,
    "start_time": "2021-12-11T21:44:58.858Z"
   },
   {
    "duration": 10,
    "start_time": "2021-12-11T21:44:58.871Z"
   },
   {
    "duration": 5,
    "start_time": "2021-12-11T21:44:58.883Z"
   },
   {
    "duration": 16,
    "start_time": "2021-12-11T21:44:58.889Z"
   },
   {
    "duration": 39,
    "start_time": "2021-12-11T21:44:58.907Z"
   },
   {
    "duration": 7,
    "start_time": "2021-12-11T21:44:58.949Z"
   },
   {
    "duration": 8,
    "start_time": "2021-12-11T21:44:58.958Z"
   },
   {
    "duration": 47,
    "start_time": "2021-12-11T21:44:58.968Z"
   },
   {
    "duration": 74,
    "start_time": "2021-12-11T21:44:59.017Z"
   },
   {
    "duration": 7,
    "start_time": "2021-12-11T21:44:59.093Z"
   },
   {
    "duration": 15,
    "start_time": "2021-12-11T21:44:59.102Z"
   },
   {
    "duration": 31,
    "start_time": "2021-12-11T21:44:59.118Z"
   },
   {
    "duration": 15,
    "start_time": "2021-12-11T22:10:50.323Z"
   },
   {
    "duration": 16,
    "start_time": "2021-12-11T22:12:25.745Z"
   },
   {
    "duration": 27,
    "start_time": "2021-12-11T22:15:05.051Z"
   },
   {
    "duration": 677,
    "start_time": "2021-12-11T22:16:21.416Z"
   },
   {
    "duration": 8,
    "start_time": "2021-12-11T22:16:22.095Z"
   },
   {
    "duration": 20,
    "start_time": "2021-12-11T22:16:22.105Z"
   },
   {
    "duration": 20,
    "start_time": "2021-12-11T22:16:22.127Z"
   },
   {
    "duration": 12,
    "start_time": "2021-12-11T22:16:22.149Z"
   },
   {
    "duration": 7,
    "start_time": "2021-12-11T22:16:22.164Z"
   },
   {
    "duration": 7,
    "start_time": "2021-12-11T22:16:22.173Z"
   },
   {
    "duration": 12,
    "start_time": "2021-12-11T22:16:22.182Z"
   },
   {
    "duration": 7,
    "start_time": "2021-12-11T22:16:22.198Z"
   },
   {
    "duration": 40,
    "start_time": "2021-12-11T22:16:22.208Z"
   },
   {
    "duration": 8,
    "start_time": "2021-12-11T22:16:22.250Z"
   },
   {
    "duration": 12,
    "start_time": "2021-12-11T22:16:22.260Z"
   },
   {
    "duration": 7,
    "start_time": "2021-12-11T22:16:22.274Z"
   },
   {
    "duration": 5,
    "start_time": "2021-12-11T22:16:22.283Z"
   },
   {
    "duration": 11,
    "start_time": "2021-12-11T22:16:22.290Z"
   },
   {
    "duration": 48,
    "start_time": "2021-12-11T22:16:22.302Z"
   },
   {
    "duration": 10,
    "start_time": "2021-12-11T22:16:22.351Z"
   },
   {
    "duration": 4,
    "start_time": "2021-12-11T22:16:22.363Z"
   },
   {
    "duration": 7,
    "start_time": "2021-12-11T22:16:22.369Z"
   },
   {
    "duration": 7,
    "start_time": "2021-12-11T22:16:22.378Z"
   },
   {
    "duration": 11,
    "start_time": "2021-12-11T22:16:22.388Z"
   },
   {
    "duration": 5,
    "start_time": "2021-12-11T22:16:22.401Z"
   },
   {
    "duration": 5,
    "start_time": "2021-12-11T22:16:22.444Z"
   },
   {
    "duration": 8,
    "start_time": "2021-12-11T22:16:22.451Z"
   },
   {
    "duration": 6,
    "start_time": "2021-12-11T22:16:22.461Z"
   },
   {
    "duration": 7,
    "start_time": "2021-12-11T22:16:22.468Z"
   },
   {
    "duration": 4,
    "start_time": "2021-12-11T22:16:22.480Z"
   },
   {
    "duration": 12,
    "start_time": "2021-12-11T22:16:22.487Z"
   },
   {
    "duration": 53,
    "start_time": "2021-12-11T22:16:22.502Z"
   },
   {
    "duration": 7,
    "start_time": "2021-12-11T22:16:22.557Z"
   },
   {
    "duration": 9,
    "start_time": "2021-12-11T22:16:22.565Z"
   },
   {
    "duration": 6,
    "start_time": "2021-12-11T22:16:22.575Z"
   },
   {
    "duration": 4,
    "start_time": "2021-12-11T22:16:22.583Z"
   },
   {
    "duration": 304,
    "start_time": "2021-12-11T22:16:22.589Z"
   },
   {
    "duration": 5,
    "start_time": "2021-12-11T22:16:22.895Z"
   },
   {
    "duration": 33,
    "start_time": "2021-12-11T22:16:22.901Z"
   },
   {
    "duration": 20,
    "start_time": "2021-12-11T22:16:22.936Z"
   },
   {
    "duration": 14,
    "start_time": "2021-12-11T22:16:22.958Z"
   },
   {
    "duration": 6,
    "start_time": "2021-12-11T22:16:22.974Z"
   },
   {
    "duration": 27,
    "start_time": "2021-12-11T22:16:22.981Z"
   },
   {
    "duration": 28,
    "start_time": "2021-12-11T22:16:23.010Z"
   },
   {
    "duration": 32,
    "start_time": "2021-12-11T22:16:23.040Z"
   },
   {
    "duration": 16,
    "start_time": "2021-12-11T22:16:23.074Z"
   },
   {
    "duration": 21,
    "start_time": "2021-12-11T22:16:23.092Z"
   },
   {
    "duration": 24,
    "start_time": "2021-12-11T22:16:39.104Z"
   },
   {
    "duration": 7,
    "start_time": "2021-12-11T22:17:25.527Z"
   },
   {
    "duration": 7,
    "start_time": "2021-12-11T22:18:02.188Z"
   },
   {
    "duration": 8,
    "start_time": "2021-12-11T22:18:14.129Z"
   },
   {
    "duration": 8,
    "start_time": "2021-12-11T22:18:31.824Z"
   },
   {
    "duration": 8,
    "start_time": "2021-12-11T22:18:37.480Z"
   },
   {
    "duration": 7,
    "start_time": "2021-12-11T22:18:58.570Z"
   },
   {
    "duration": 7,
    "start_time": "2021-12-11T22:19:17.054Z"
   },
   {
    "duration": 9,
    "start_time": "2021-12-11T22:19:31.545Z"
   },
   {
    "duration": 9,
    "start_time": "2021-12-11T22:19:54.852Z"
   },
   {
    "duration": 10,
    "start_time": "2021-12-11T22:20:02.250Z"
   },
   {
    "duration": 14,
    "start_time": "2021-12-11T22:20:12.806Z"
   },
   {
    "duration": 13,
    "start_time": "2021-12-11T22:20:18.545Z"
   },
   {
    "duration": 10,
    "start_time": "2021-12-11T22:20:21.184Z"
   },
   {
    "duration": 5,
    "start_time": "2021-12-11T22:20:23.441Z"
   },
   {
    "duration": 8,
    "start_time": "2021-12-11T22:20:25.839Z"
   },
   {
    "duration": 5,
    "start_time": "2021-12-11T22:20:33.054Z"
   },
   {
    "duration": 8,
    "start_time": "2021-12-11T22:20:39.077Z"
   },
   {
    "duration": 9,
    "start_time": "2021-12-11T22:20:52.630Z"
   },
   {
    "duration": 8,
    "start_time": "2021-12-11T22:21:13.049Z"
   },
   {
    "duration": 8,
    "start_time": "2021-12-11T22:21:24.659Z"
   },
   {
    "duration": 11,
    "start_time": "2021-12-11T22:21:33.709Z"
   },
   {
    "duration": 13,
    "start_time": "2021-12-11T22:21:41.426Z"
   },
   {
    "duration": 11,
    "start_time": "2021-12-11T22:21:53.875Z"
   },
   {
    "duration": 10,
    "start_time": "2021-12-11T22:21:56.328Z"
   },
   {
    "duration": 8,
    "start_time": "2021-12-11T22:22:07.889Z"
   },
   {
    "duration": 5,
    "start_time": "2021-12-11T22:22:35.335Z"
   },
   {
    "duration": 13,
    "start_time": "2021-12-11T22:22:38.997Z"
   },
   {
    "duration": 15,
    "start_time": "2021-12-11T22:35:30.125Z"
   },
   {
    "duration": 9,
    "start_time": "2021-12-11T22:36:33.300Z"
   },
   {
    "duration": 3,
    "start_time": "2021-12-11T22:36:49.326Z"
   },
   {
    "duration": 10,
    "start_time": "2021-12-11T22:36:51.627Z"
   },
   {
    "duration": 8,
    "start_time": "2021-12-11T22:36:53.238Z"
   },
   {
    "duration": 5,
    "start_time": "2021-12-11T22:37:05.438Z"
   },
   {
    "duration": 9,
    "start_time": "2021-12-11T22:37:08.878Z"
   },
   {
    "duration": 6,
    "start_time": "2021-12-11T22:39:16.960Z"
   },
   {
    "duration": 8,
    "start_time": "2021-12-11T22:39:40.794Z"
   },
   {
    "duration": 7,
    "start_time": "2021-12-11T22:39:54.969Z"
   },
   {
    "duration": 45,
    "start_time": "2021-12-11T22:42:44.933Z"
   },
   {
    "duration": 43,
    "start_time": "2021-12-11T22:43:32.736Z"
   },
   {
    "duration": 7,
    "start_time": "2021-12-11T22:43:41.315Z"
   },
   {
    "duration": 17,
    "start_time": "2021-12-11T22:44:21.921Z"
   },
   {
    "duration": 14,
    "start_time": "2021-12-11T22:47:22.926Z"
   },
   {
    "duration": 17,
    "start_time": "2021-12-11T22:47:33.274Z"
   },
   {
    "duration": 7,
    "start_time": "2021-12-11T22:49:25.060Z"
   }
  ],
  "kernelspec": {
   "display_name": "Python 3 (ipykernel)",
   "language": "python",
   "name": "python3"
  },
  "language_info": {
   "codemirror_mode": {
    "name": "ipython",
    "version": 3
   },
   "file_extension": ".py",
   "mimetype": "text/x-python",
   "name": "python",
   "nbconvert_exporter": "python",
   "pygments_lexer": "ipython3",
   "version": "3.9.5"
  },
  "toc": {
   "base_numbering": 1,
   "nav_menu": {},
   "number_sections": true,
   "sideBar": true,
   "skip_h1_title": true,
   "title_cell": "Table of Contents",
   "title_sidebar": "Contents",
   "toc_cell": false,
   "toc_position": {},
   "toc_section_display": true,
   "toc_window_display": false
  }
 },
 "nbformat": 4,
 "nbformat_minor": 2
}
