{
 "cells": [
  {
   "cell_type": "markdown",
   "metadata": {},
   "source": [
    "# Chicago taxi rides "
   ]
  },
  {
   "cell_type": "markdown",
   "metadata": {},
   "source": [
    "Our company, Zuber, is a new ride-sharing company that's launching in Chicago. Our task is to find patterns in the available information. We want to understand taxi passenger preferences and the impact of external factors on rides.\n",
    "We will analyze data from taxi companies (competitors) and test a hypothesis about the impact of weather on rides.\n",
    "\n",
    "**Project goal**:\n",
    "\n",
    "To understand taxi passenger preferences and patterns and the impact of weather on rides duration. "
   ]
  },
  {
   "cell_type": "markdown",
   "metadata": {},
   "source": [
    "## Initialization and loading data on companies and neighborhoods "
   ]
  },
  {
   "cell_type": "code",
   "execution_count": 1,
   "metadata": {},
   "outputs": [],
   "source": [
    "# Loading all the libraries:\n",
    "from scipy import stats as st\n",
    "import numpy as np\n",
    "import pandas as pd\n",
    "import matplotlib.pyplot as plt\n",
    "import math\n",
    "import warnings\n",
    "warnings.filterwarnings(\"ignore\")\n",
    "pd.options.display.float_format = '{:.2f}'.format\n",
    "import seaborn as sns "
   ]
  },
  {
   "cell_type": "code",
   "execution_count": 2,
   "metadata": {},
   "outputs": [],
   "source": [
    "# Load the data files into DataFrames\n",
    "companies = pd.read_csv('/datasets/project_sql_result_01.csv')\n",
    "neighborhoods = pd.read_csv('/datasets/project_sql_result_04.csv')"
   ]
  },
  {
   "cell_type": "markdown",
   "metadata": {},
   "source": [
    "## Preprocessing and studying data"
   ]
  },
  {
   "cell_type": "markdown",
   "metadata": {},
   "source": [
    "### Companies"
   ]
  },
  {
   "cell_type": "code",
   "execution_count": 3,
   "metadata": {
    "scrolled": true
   },
   "outputs": [
    {
     "data": {
      "text/html": [
       "<div>\n",
       "<style scoped>\n",
       "    .dataframe tbody tr th:only-of-type {\n",
       "        vertical-align: middle;\n",
       "    }\n",
       "\n",
       "    .dataframe tbody tr th {\n",
       "        vertical-align: top;\n",
       "    }\n",
       "\n",
       "    .dataframe thead th {\n",
       "        text-align: right;\n",
       "    }\n",
       "</style>\n",
       "<table border=\"1\" class=\"dataframe\">\n",
       "  <thead>\n",
       "    <tr style=\"text-align: right;\">\n",
       "      <th></th>\n",
       "      <th>company_name</th>\n",
       "      <th>trips_amount</th>\n",
       "    </tr>\n",
       "  </thead>\n",
       "  <tbody>\n",
       "    <tr>\n",
       "      <td>0</td>\n",
       "      <td>Flash Cab</td>\n",
       "      <td>19558</td>\n",
       "    </tr>\n",
       "    <tr>\n",
       "      <td>1</td>\n",
       "      <td>Taxi Affiliation Services</td>\n",
       "      <td>11422</td>\n",
       "    </tr>\n",
       "    <tr>\n",
       "      <td>2</td>\n",
       "      <td>Medallion Leasing</td>\n",
       "      <td>10367</td>\n",
       "    </tr>\n",
       "    <tr>\n",
       "      <td>3</td>\n",
       "      <td>Yellow Cab</td>\n",
       "      <td>9888</td>\n",
       "    </tr>\n",
       "    <tr>\n",
       "      <td>4</td>\n",
       "      <td>Taxi Affiliation Service Yellow</td>\n",
       "      <td>9299</td>\n",
       "    </tr>\n",
       "    <tr>\n",
       "      <td>5</td>\n",
       "      <td>Chicago Carriage Cab Corp</td>\n",
       "      <td>9181</td>\n",
       "    </tr>\n",
       "    <tr>\n",
       "      <td>6</td>\n",
       "      <td>City Service</td>\n",
       "      <td>8448</td>\n",
       "    </tr>\n",
       "    <tr>\n",
       "      <td>7</td>\n",
       "      <td>Sun Taxi</td>\n",
       "      <td>7701</td>\n",
       "    </tr>\n",
       "    <tr>\n",
       "      <td>8</td>\n",
       "      <td>Star North Management LLC</td>\n",
       "      <td>7455</td>\n",
       "    </tr>\n",
       "    <tr>\n",
       "      <td>9</td>\n",
       "      <td>Blue Ribbon Taxi Association Inc.</td>\n",
       "      <td>5953</td>\n",
       "    </tr>\n",
       "    <tr>\n",
       "      <td>10</td>\n",
       "      <td>Choice Taxi Association</td>\n",
       "      <td>5015</td>\n",
       "    </tr>\n",
       "    <tr>\n",
       "      <td>11</td>\n",
       "      <td>Globe Taxi</td>\n",
       "      <td>4383</td>\n",
       "    </tr>\n",
       "    <tr>\n",
       "      <td>12</td>\n",
       "      <td>Dispatch Taxi Affiliation</td>\n",
       "      <td>3355</td>\n",
       "    </tr>\n",
       "    <tr>\n",
       "      <td>13</td>\n",
       "      <td>Nova Taxi Affiliation Llc</td>\n",
       "      <td>3175</td>\n",
       "    </tr>\n",
       "    <tr>\n",
       "      <td>14</td>\n",
       "      <td>Patriot Taxi Dba Peace Taxi Association</td>\n",
       "      <td>2235</td>\n",
       "    </tr>\n",
       "  </tbody>\n",
       "</table>\n",
       "</div>"
      ],
      "text/plain": [
       "                               company_name  trips_amount\n",
       "0                                 Flash Cab         19558\n",
       "1                 Taxi Affiliation Services         11422\n",
       "2                         Medallion Leasing         10367\n",
       "3                                Yellow Cab          9888\n",
       "4           Taxi Affiliation Service Yellow          9299\n",
       "5                 Chicago Carriage Cab Corp          9181\n",
       "6                              City Service          8448\n",
       "7                                  Sun Taxi          7701\n",
       "8                 Star North Management LLC          7455\n",
       "9         Blue Ribbon Taxi Association Inc.          5953\n",
       "10                  Choice Taxi Association          5015\n",
       "11                               Globe Taxi          4383\n",
       "12                Dispatch Taxi Affiliation          3355\n",
       "13                Nova Taxi Affiliation Llc          3175\n",
       "14  Patriot Taxi Dba Peace Taxi Association          2235"
      ]
     },
     "execution_count": 3,
     "metadata": {},
     "output_type": "execute_result"
    }
   ],
   "source": [
    "# view a sample of 15 top companies (with amount of trips on Nov 15-16, 2017): \n",
    "companies.head(15)"
   ]
  },
  {
   "cell_type": "markdown",
   "metadata": {},
   "source": [
    "It is noteworthy that between indices 13 and 14 there is a drop of more than 900 (almost 30% of the value of row 13). We will return to this point below.   "
   ]
  },
  {
   "cell_type": "code",
   "execution_count": 4,
   "metadata": {
    "scrolled": false
   },
   "outputs": [
    {
     "name": "stdout",
     "output_type": "stream",
     "text": [
      "<class 'pandas.core.frame.DataFrame'>\n",
      "RangeIndex: 64 entries, 0 to 63\n",
      "Data columns (total 2 columns):\n",
      "company_name    64 non-null object\n",
      "trips_amount    64 non-null int64\n",
      "dtypes: int64(1), object(1)\n",
      "memory usage: 1.1+ KB\n"
     ]
    }
   ],
   "source": [
    "# general info of the companies data:\n",
    "companies.info()"
   ]
  },
  {
   "cell_type": "code",
   "execution_count": 5,
   "metadata": {
    "scrolled": true
   },
   "outputs": [
    {
     "data": {
      "text/plain": [
       "count      64.00\n",
       "mean     2145.48\n",
       "std      3812.31\n",
       "min         2.00\n",
       "25%        20.75\n",
       "50%       178.50\n",
       "75%      2106.50\n",
       "max     19558.00\n",
       "Name: trips_amount, dtype: float64"
      ]
     },
     "execution_count": 5,
     "metadata": {},
     "output_type": "execute_result"
    }
   ],
   "source": [
    "# general stats of the amount of trips per company:\n",
    "companies['trips_amount'].describe()"
   ]
  },
  {
   "cell_type": "code",
   "execution_count": 6,
   "metadata": {},
   "outputs": [
    {
     "data": {
      "text/plain": [
       "0"
      ]
     },
     "execution_count": 6,
     "metadata": {},
     "output_type": "execute_result"
    }
   ],
   "source": [
    "# checking for explicit duplicates: \n",
    "companies.duplicated().sum()"
   ]
  },
  {
   "cell_type": "markdown",
   "metadata": {},
   "source": [
    "We have 64 entries (no missing values and no explicit duplicates), each with taxi company_name, and it's number of rides on November 15-16, 2017. Datatypes are ok (str for company name, int for number of rides). The number of rides per company varies between 2 and 19,558, and according to the large difference between the median (178.5) and the mean (~2145.5) - the distribution is strongly right-skewed (the mean is even higher than the 3rd quartile (2106.5)).    "
   ]
  },
  {
   "cell_type": "markdown",
   "metadata": {},
   "source": [
    "### Neighborhoods"
   ]
  },
  {
   "cell_type": "code",
   "execution_count": 7,
   "metadata": {
    "scrolled": false
   },
   "outputs": [
    {
     "data": {
      "text/html": [
       "<div>\n",
       "<style scoped>\n",
       "    .dataframe tbody tr th:only-of-type {\n",
       "        vertical-align: middle;\n",
       "    }\n",
       "\n",
       "    .dataframe tbody tr th {\n",
       "        vertical-align: top;\n",
       "    }\n",
       "\n",
       "    .dataframe thead th {\n",
       "        text-align: right;\n",
       "    }\n",
       "</style>\n",
       "<table border=\"1\" class=\"dataframe\">\n",
       "  <thead>\n",
       "    <tr style=\"text-align: right;\">\n",
       "      <th></th>\n",
       "      <th>dropoff_location_name</th>\n",
       "      <th>average_trips</th>\n",
       "    </tr>\n",
       "  </thead>\n",
       "  <tbody>\n",
       "    <tr>\n",
       "      <td>0</td>\n",
       "      <td>Loop</td>\n",
       "      <td>10727.47</td>\n",
       "    </tr>\n",
       "    <tr>\n",
       "      <td>1</td>\n",
       "      <td>River North</td>\n",
       "      <td>9523.67</td>\n",
       "    </tr>\n",
       "    <tr>\n",
       "      <td>2</td>\n",
       "      <td>Streeterville</td>\n",
       "      <td>6664.67</td>\n",
       "    </tr>\n",
       "    <tr>\n",
       "      <td>3</td>\n",
       "      <td>West Loop</td>\n",
       "      <td>5163.67</td>\n",
       "    </tr>\n",
       "    <tr>\n",
       "      <td>4</td>\n",
       "      <td>O'Hare</td>\n",
       "      <td>2546.90</td>\n",
       "    </tr>\n",
       "    <tr>\n",
       "      <td>5</td>\n",
       "      <td>Lake View</td>\n",
       "      <td>2420.97</td>\n",
       "    </tr>\n",
       "    <tr>\n",
       "      <td>6</td>\n",
       "      <td>Grant Park</td>\n",
       "      <td>2068.53</td>\n",
       "    </tr>\n",
       "    <tr>\n",
       "      <td>7</td>\n",
       "      <td>Museum Campus</td>\n",
       "      <td>1510.00</td>\n",
       "    </tr>\n",
       "    <tr>\n",
       "      <td>8</td>\n",
       "      <td>Gold Coast</td>\n",
       "      <td>1364.23</td>\n",
       "    </tr>\n",
       "    <tr>\n",
       "      <td>9</td>\n",
       "      <td>Sheffield &amp; DePaul</td>\n",
       "      <td>1259.77</td>\n",
       "    </tr>\n",
       "    <tr>\n",
       "      <td>10</td>\n",
       "      <td>Lincoln Park</td>\n",
       "      <td>1246.53</td>\n",
       "    </tr>\n",
       "    <tr>\n",
       "      <td>11</td>\n",
       "      <td>East Village</td>\n",
       "      <td>1212.07</td>\n",
       "    </tr>\n",
       "    <tr>\n",
       "      <td>12</td>\n",
       "      <td>Little Italy, UIC</td>\n",
       "      <td>863.70</td>\n",
       "    </tr>\n",
       "    <tr>\n",
       "      <td>13</td>\n",
       "      <td>Uptown</td>\n",
       "      <td>849.67</td>\n",
       "    </tr>\n",
       "    <tr>\n",
       "      <td>14</td>\n",
       "      <td>Near South Side</td>\n",
       "      <td>839.83</td>\n",
       "    </tr>\n",
       "  </tbody>\n",
       "</table>\n",
       "</div>"
      ],
      "text/plain": [
       "   dropoff_location_name  average_trips\n",
       "0                   Loop       10727.47\n",
       "1            River North        9523.67\n",
       "2          Streeterville        6664.67\n",
       "3              West Loop        5163.67\n",
       "4                 O'Hare        2546.90\n",
       "5              Lake View        2420.97\n",
       "6             Grant Park        2068.53\n",
       "7          Museum Campus        1510.00\n",
       "8             Gold Coast        1364.23\n",
       "9     Sheffield & DePaul        1259.77\n",
       "10          Lincoln Park        1246.53\n",
       "11          East Village        1212.07\n",
       "12     Little Italy, UIC         863.70\n",
       "13                Uptown         849.67\n",
       "14       Near South Side         839.83"
      ]
     },
     "execution_count": 7,
     "metadata": {},
     "output_type": "execute_result"
    }
   ],
   "source": [
    "# view a sample of top 15 dropoff neighborhoods (and the average number of rides\n",
    "# that ended in each neighborhood in November 2017.)\n",
    "neighborhoods.head(15)"
   ]
  },
  {
   "cell_type": "markdown",
   "metadata": {},
   "source": [
    "It is noteworrthy that indices 9-11 are similar in their average_trips values, then a drop of more than 300 (~25% of the value of row 11), and indices 12-14 are again similar in their average_trips values. We will return to this point below.   "
   ]
  },
  {
   "cell_type": "code",
   "execution_count": 8,
   "metadata": {
    "scrolled": true
   },
   "outputs": [
    {
     "name": "stdout",
     "output_type": "stream",
     "text": [
      "<class 'pandas.core.frame.DataFrame'>\n",
      "RangeIndex: 94 entries, 0 to 93\n",
      "Data columns (total 2 columns):\n",
      "dropoff_location_name    94 non-null object\n",
      "average_trips            94 non-null float64\n",
      "dtypes: float64(1), object(1)\n",
      "memory usage: 1.6+ KB\n"
     ]
    }
   ],
   "source": [
    "# general info of the neighborhoods data: \n",
    "neighborhoods.info()"
   ]
  },
  {
   "cell_type": "code",
   "execution_count": 9,
   "metadata": {
    "scrolled": true
   },
   "outputs": [
    {
     "data": {
      "text/plain": [
       "count      94.00\n",
       "mean      599.95\n",
       "std      1714.59\n",
       "min         1.80\n",
       "25%        14.27\n",
       "50%        52.02\n",
       "75%       298.86\n",
       "max     10727.47\n",
       "Name: average_trips, dtype: float64"
      ]
     },
     "execution_count": 9,
     "metadata": {},
     "output_type": "execute_result"
    }
   ],
   "source": [
    "# general stats of the average number of rides that ended in each neighborhood\n",
    "neighborhoods['average_trips'].describe() "
   ]
  },
  {
   "cell_type": "code",
   "execution_count": 10,
   "metadata": {},
   "outputs": [
    {
     "data": {
      "text/plain": [
       "0"
      ]
     },
     "execution_count": 10,
     "metadata": {},
     "output_type": "execute_result"
    }
   ],
   "source": [
    "# checking for explicit duplicates: \n",
    "neighborhoods.duplicated().sum()"
   ]
  },
  {
   "cell_type": "markdown",
   "metadata": {},
   "source": [
    "We have 94 entries (no missing values and no explicit duplicates), each with neighborhood name of dropoff location, and it's average number of rides on November 2017. Datatypes are ok (str for neighborhood name, float for average number of rides). The average number of rides per neighborhood varies between 1.8 and 10,727.47, and according to the large difference between the median (52.02) and the mean (almost 600) - the distribution is strongly right-skewed (the mean is double the 3rd quartile (~299)).    "
   ]
  },
  {
   "cell_type": "markdown",
   "metadata": {},
   "source": [
    "##  Top 10 neighborhoods in terms of drop-offs"
   ]
  },
  {
   "cell_type": "code",
   "execution_count": 11,
   "metadata": {
    "scrolled": false
   },
   "outputs": [
    {
     "data": {
      "image/png": "[encoded data removed]",
      "text/plain": [
       "<Figure size 864x576 with 1 Axes>"
      ]
     },
     "metadata": {
      "needs_background": "light"
     },
     "output_type": "display_data"
    }
   ],
   "source": [
    "# bar plot of average rides that ended in each neighborhood:\n",
    "neighborhoods.plot(kind='bar', grid=True, figsize=(12, 8))\n",
    "plt.title('Average number of rides that ended in each neighborhood in November 2017.')\n",
    "plt.ylabel('Average number of rides')\n",
    "plt.xlabel('Neighborhood index')\n",
    "plt.legend(['rides'])\n",
    "plt.show;"
   ]
  },
  {
   "cell_type": "markdown",
   "metadata": {},
   "source": [
    "The graph shows how the big majority of average number of rides is dropped off in just a few neighborhoods, while many neighborhoods are far less popular as drop off locaion. \n",
    "\n",
    "Only 4 neighborhoods are the destiny of more than 4000 rides in average, then only additional are 3 are above 2000, then only additonal 5 are above 1000. As also noticed in the sample above - between row 11 and 12 there is a drop from more than 1200 to less than 900. We will therefore choose 1200 rides on average as our line, under which we will group together all \"less-destined\" neighborhoods as \"Other\".     "
   ]
  },
  {
   "cell_type": "code",
   "execution_count": 16,
   "metadata": {},
   "outputs": [
    {
     "data": {
      "text/html": [
       "<div>\n",
       "<style scoped>\n",
       "    .dataframe tbody tr th:only-of-type {\n",
       "        vertical-align: middle;\n",
       "    }\n",
       "\n",
       "    .dataframe tbody tr th {\n",
       "        vertical-align: top;\n",
       "    }\n",
       "\n",
       "    .dataframe thead th {\n",
       "        text-align: right;\n",
       "    }\n",
       "</style>\n",
       "<table border=\"1\" class=\"dataframe\">\n",
       "  <thead>\n",
       "    <tr style=\"text-align: right;\">\n",
       "      <th></th>\n",
       "      <th>average_trips</th>\n",
       "    </tr>\n",
       "    <tr>\n",
       "      <th>dropoff_location_name</th>\n",
       "      <th></th>\n",
       "    </tr>\n",
       "  </thead>\n",
       "  <tbody>\n",
       "    <tr>\n",
       "      <td>Loop</td>\n",
       "      <td>10727.47</td>\n",
       "    </tr>\n",
       "    <tr>\n",
       "      <td>River North</td>\n",
       "      <td>9523.67</td>\n",
       "    </tr>\n",
       "    <tr>\n",
       "      <td>Streeterville</td>\n",
       "      <td>6664.67</td>\n",
       "    </tr>\n",
       "    <tr>\n",
       "      <td>West Loop</td>\n",
       "      <td>5163.67</td>\n",
       "    </tr>\n",
       "    <tr>\n",
       "      <td>O'Hare</td>\n",
       "      <td>2546.90</td>\n",
       "    </tr>\n",
       "    <tr>\n",
       "      <td>Lake View</td>\n",
       "      <td>2420.97</td>\n",
       "    </tr>\n",
       "    <tr>\n",
       "      <td>Grant Park</td>\n",
       "      <td>2068.53</td>\n",
       "    </tr>\n",
       "    <tr>\n",
       "      <td>Museum Campus</td>\n",
       "      <td>1510.00</td>\n",
       "    </tr>\n",
       "    <tr>\n",
       "      <td>Gold Coast</td>\n",
       "      <td>1364.23</td>\n",
       "    </tr>\n",
       "    <tr>\n",
       "      <td>Sheffield &amp; DePaul</td>\n",
       "      <td>1259.77</td>\n",
       "    </tr>\n",
       "    <tr>\n",
       "      <td>Lincoln Park</td>\n",
       "      <td>1246.53</td>\n",
       "    </tr>\n",
       "    <tr>\n",
       "      <td>East Village</td>\n",
       "      <td>1212.07</td>\n",
       "    </tr>\n",
       "    <tr>\n",
       "      <td>Other</td>\n",
       "      <td>10687.18</td>\n",
       "    </tr>\n",
       "  </tbody>\n",
       "</table>\n",
       "</div>"
      ],
      "text/plain": [
       "                       average_trips\n",
       "dropoff_location_name               \n",
       "Loop                        10727.47\n",
       "River North                  9523.67\n",
       "Streeterville                6664.67\n",
       "West Loop                    5163.67\n",
       "O'Hare                       2546.90\n",
       "Lake View                    2420.97\n",
       "Grant Park                   2068.53\n",
       "Museum Campus                1510.00\n",
       "Gold Coast                   1364.23\n",
       "Sheffield & DePaul           1259.77\n",
       "Lincoln Park                 1246.53\n",
       "East Village                 1212.07\n",
       "Other                       10687.18"
      ]
     },
     "execution_count": 16,
     "metadata": {},
     "output_type": "execute_result"
    }
   ],
   "source": [
    "# grouping together all the rows under 1200 average_trips as \"Other\":  \n",
    "indices = neighborhoods[neighborhoods.average_trips < 1200].index\n",
    "sum_av_of_trips = neighborhoods.loc[indices].average_trips.sum()\n",
    "neighborhoods.drop(indices,axis=0,inplace=True)\n",
    "\n",
    "temp_df = pd.DataFrame([['Other',sum_av_of_trips]],columns=neighborhoods.columns)\n",
    "neighborhoods = pd.concat([neighborhoods,temp_df]).set_index('dropoff_location_name')\n",
    "neighborhoods"
   ]
  },
  {
   "cell_type": "markdown",
   "metadata": {},
   "source": [
    "Let's look now at the 'top destiny neighborhoods' shares of average number of rides: "
   ]
  },
  {
   "cell_type": "code",
   "execution_count": 17,
   "metadata": {
    "scrolled": false
   },
   "outputs": [
    {
     "data": {
      "image/png": "[encoded data removed]",
      "text/plain": [
       "<Figure size 1080x864 with 1 Axes>"
      ]
     },
     "metadata": {},
     "output_type": "display_data"
    }
   ],
   "source": [
    "# pie plot of neighborhoods market share of average number of rides (drop-offs): \n",
    "neighborhoods.plot(kind='pie', y='average_trips', autopct='%1.1f%%', figsize=(15, 12))\n",
    "plt.title('Neighborhoods market share of average number of rides (dropp-offs) in November 2017')\n",
    "plt.legend(loc = 'lower right')\n",
    "plt.show() "
   ]
  },
  {
   "cell_type": "markdown",
   "metadata": {},
   "source": [
    "4 neighborhoods (Loop, River North, Streeterville and West Loop) make together almost 57% of all rides drop-offs. The fifth (O'Hare) is the destiny of only 4.5% of the rides. \n",
    "\n",
    "**The top 10 neighborhoods in terms of drop-offs**\n",
    "\n",
    "1. Loop --------------------19.0% of average number of rides (drop-offs)    \n",
    "2. River North -----------16.9%\n",
    "3. Streeterville -----------11.8%\n",
    "4. West Loop --------------9.2%\n",
    "5. O'Hare ------------------ 4.5%\n",
    "6. Lake View ---------------4.3%\n",
    "7. Grant Park ---------------3.7%\n",
    "8. Museum Campus -------2.7%\n",
    "9. Gold Coast ---------------2.4%\n",
    "10. Sheffield & DePaul ------2.2%\n",
    "\n",
    "and the next 2 are also close enogh to number 10:\n",
    "\n",
    "11. Lincoln Park ------------2.2%\n",
    "12. East Village ------------2.1%\n",
    "13. Other (all the rest)----19.0%\n",
    "\n"
   ]
  },
  {
   "cell_type": "markdown",
   "metadata": {},
   "source": [
    "## Taxi companies and number of rides"
   ]
  },
  {
   "cell_type": "code",
   "execution_count": 18,
   "metadata": {
    "scrolled": false
   },
   "outputs": [
    {
     "data": {
      "image/png": "[encoded data removed]",
      "text/plain": [
       "<Figure size 864x576 with 1 Axes>"
      ]
     },
     "metadata": {
      "needs_background": "light"
     },
     "output_type": "display_data"
    }
   ],
   "source": [
    "# bar plot of number of rides of each taxi company on November 15-16, 2017: \n",
    "companies.plot(kind='bar', grid=True, figsize=(12, 8))\n",
    "plt.title('Number of rides for each taxi company on November 15-16, 2017')\n",
    "plt.ylabel('Number of rides')\n",
    "plt.xlabel('Company index')\n",
    "plt.legend(['Rides'])\n",
    "plt.show;"
   ]
  },
  {
   "cell_type": "markdown",
   "metadata": {},
   "source": [
    "The graph shows how the big majority of rides are done by about 10 companies, while many companies make a relatively small amount of rides. \n",
    "\n",
    "One company (Flash cab) leads way ahead of all the rest (almost 20K rides in these two days), followed by 'Taxi Affiliation Services' with only around 11K rides, and the following 7 companies are above 7500 rides. Only 5 additional companies have more than 3000 rides, and as also noticed in the sample above - between row 13 and 14 there is a drop of around 30%. We will therefore choose 3000 rides as our line, under which we will group together all companies as \"Other\".  "
   ]
  },
  {
   "cell_type": "code",
   "execution_count": 19,
   "metadata": {
    "scrolled": true
   },
   "outputs": [
    {
     "data": {
      "text/html": [
       "<div>\n",
       "<style scoped>\n",
       "    .dataframe tbody tr th:only-of-type {\n",
       "        vertical-align: middle;\n",
       "    }\n",
       "\n",
       "    .dataframe tbody tr th {\n",
       "        vertical-align: top;\n",
       "    }\n",
       "\n",
       "    .dataframe thead th {\n",
       "        text-align: right;\n",
       "    }\n",
       "</style>\n",
       "<table border=\"1\" class=\"dataframe\">\n",
       "  <thead>\n",
       "    <tr style=\"text-align: right;\">\n",
       "      <th></th>\n",
       "      <th>trips_amount</th>\n",
       "    </tr>\n",
       "    <tr>\n",
       "      <th>company_name</th>\n",
       "      <th></th>\n",
       "    </tr>\n",
       "  </thead>\n",
       "  <tbody>\n",
       "    <tr>\n",
       "      <td>Flash Cab</td>\n",
       "      <td>19558</td>\n",
       "    </tr>\n",
       "    <tr>\n",
       "      <td>Taxi Affiliation Services</td>\n",
       "      <td>11422</td>\n",
       "    </tr>\n",
       "    <tr>\n",
       "      <td>Medallion Leasing</td>\n",
       "      <td>10367</td>\n",
       "    </tr>\n",
       "    <tr>\n",
       "      <td>Yellow Cab</td>\n",
       "      <td>9888</td>\n",
       "    </tr>\n",
       "    <tr>\n",
       "      <td>Taxi Affiliation Service Yellow</td>\n",
       "      <td>9299</td>\n",
       "    </tr>\n",
       "    <tr>\n",
       "      <td>Chicago Carriage Cab Corp</td>\n",
       "      <td>9181</td>\n",
       "    </tr>\n",
       "    <tr>\n",
       "      <td>City Service</td>\n",
       "      <td>8448</td>\n",
       "    </tr>\n",
       "    <tr>\n",
       "      <td>Sun Taxi</td>\n",
       "      <td>7701</td>\n",
       "    </tr>\n",
       "    <tr>\n",
       "      <td>Star North Management LLC</td>\n",
       "      <td>7455</td>\n",
       "    </tr>\n",
       "    <tr>\n",
       "      <td>Blue Ribbon Taxi Association Inc.</td>\n",
       "      <td>5953</td>\n",
       "    </tr>\n",
       "    <tr>\n",
       "      <td>Choice Taxi Association</td>\n",
       "      <td>5015</td>\n",
       "    </tr>\n",
       "    <tr>\n",
       "      <td>Globe Taxi</td>\n",
       "      <td>4383</td>\n",
       "    </tr>\n",
       "    <tr>\n",
       "      <td>Dispatch Taxi Affiliation</td>\n",
       "      <td>3355</td>\n",
       "    </tr>\n",
       "    <tr>\n",
       "      <td>Nova Taxi Affiliation Llc</td>\n",
       "      <td>3175</td>\n",
       "    </tr>\n",
       "    <tr>\n",
       "      <td>Other</td>\n",
       "      <td>22111</td>\n",
       "    </tr>\n",
       "  </tbody>\n",
       "</table>\n",
       "</div>"
      ],
      "text/plain": [
       "                                   trips_amount\n",
       "company_name                                   \n",
       "Flash Cab                                 19558\n",
       "Taxi Affiliation Services                 11422\n",
       "Medallion Leasing                         10367\n",
       "Yellow Cab                                 9888\n",
       "Taxi Affiliation Service Yellow            9299\n",
       "Chicago Carriage Cab Corp                  9181\n",
       "City Service                               8448\n",
       "Sun Taxi                                   7701\n",
       "Star North Management LLC                  7455\n",
       "Blue Ribbon Taxi Association Inc.          5953\n",
       "Choice Taxi Association                    5015\n",
       "Globe Taxi                                 4383\n",
       "Dispatch Taxi Affiliation                  3355\n",
       "Nova Taxi Affiliation Llc                  3175\n",
       "Other                                     22111"
      ]
     },
     "execution_count": 19,
     "metadata": {},
     "output_type": "execute_result"
    }
   ],
   "source": [
    "# grouping together all companies with less than 3000 rides as \"Other\": \n",
    "indices = companies[companies.trips_amount < 3000].index\n",
    "sum_of_trips = companies.loc[indices].trips_amount.sum()\n",
    "companies.drop(indices,axis=0,inplace=True)\n",
    "\n",
    "temp_df = pd.DataFrame([['Other',sum_of_trips]],columns=companies.columns)\n",
    "companies = pd.concat([companies,temp_df]).set_index('company_name')\n",
    "companies"
   ]
  },
  {
   "cell_type": "markdown",
   "metadata": {},
   "source": [
    "Let's look now at companies' share of rides:"
   ]
  },
  {
   "cell_type": "code",
   "execution_count": 20,
   "metadata": {},
   "outputs": [
    {
     "data": {
      "image/png": "[encoded data removed]",
      "text/plain": [
       "<Figure size 1080x864 with 1 Axes>"
      ]
     },
     "metadata": {},
     "output_type": "display_data"
    }
   ],
   "source": [
    "# pie plot of companies' share of rides on November 15-17, 2017: \n",
    "companies.plot(kind='pie', y='trips_amount', autopct='%1.1f%%', figsize=(15, 12))\n",
    "plt.ylabel('Company index')\n",
    "plt.title('Companies market share of taxi rides on November 15-16, 2017')\n",
    "plt.legend(loc = 'lower right')\n",
    "plt.show()  "
   ]
  },
  {
   "cell_type": "markdown",
   "metadata": {},
   "source": [
    "The market leader (Flash cab) has 14.2% of the rides, while the next one (Taxi Affiliation Services) has only 8.3%, and the following companies have similar (and gradually dropping) market shares of the rides. As the pie shows - 6 leading companies hold half of the market, and with 5 more (11 all together) they hold about 3/4 of all rides. "
   ]
  },
  {
   "cell_type": "markdown",
   "metadata": {},
   "source": [
    "## Testing hypothesis"
   ]
  },
  {
   "cell_type": "markdown",
   "metadata": {},
   "source": [
    "### The average duration of rides from the Loop to O'Hare International Airport changes on rainy Saturdays"
   ]
  },
  {
   "cell_type": "markdown",
   "metadata": {},
   "source": [
    "First we will load the Saturday rides / weather conditions data: "
   ]
  },
  {
   "cell_type": "code",
   "execution_count": 21,
   "metadata": {},
   "outputs": [
    {
     "data": {
      "text/html": [
       "<div>\n",
       "<style scoped>\n",
       "    .dataframe tbody tr th:only-of-type {\n",
       "        vertical-align: middle;\n",
       "    }\n",
       "\n",
       "    .dataframe tbody tr th {\n",
       "        vertical-align: top;\n",
       "    }\n",
       "\n",
       "    .dataframe thead th {\n",
       "        text-align: right;\n",
       "    }\n",
       "</style>\n",
       "<table border=\"1\" class=\"dataframe\">\n",
       "  <thead>\n",
       "    <tr style=\"text-align: right;\">\n",
       "      <th></th>\n",
       "      <th>start_ts</th>\n",
       "      <th>weather_conditions</th>\n",
       "      <th>duration_seconds</th>\n",
       "    </tr>\n",
       "  </thead>\n",
       "  <tbody>\n",
       "    <tr>\n",
       "      <td>0</td>\n",
       "      <td>2017-11-25 16:00:00</td>\n",
       "      <td>Good</td>\n",
       "      <td>2410.00</td>\n",
       "    </tr>\n",
       "    <tr>\n",
       "      <td>1</td>\n",
       "      <td>2017-11-25 14:00:00</td>\n",
       "      <td>Good</td>\n",
       "      <td>1920.00</td>\n",
       "    </tr>\n",
       "    <tr>\n",
       "      <td>2</td>\n",
       "      <td>2017-11-25 12:00:00</td>\n",
       "      <td>Good</td>\n",
       "      <td>1543.00</td>\n",
       "    </tr>\n",
       "    <tr>\n",
       "      <td>3</td>\n",
       "      <td>2017-11-04 10:00:00</td>\n",
       "      <td>Good</td>\n",
       "      <td>2512.00</td>\n",
       "    </tr>\n",
       "    <tr>\n",
       "      <td>4</td>\n",
       "      <td>2017-11-11 07:00:00</td>\n",
       "      <td>Good</td>\n",
       "      <td>1440.00</td>\n",
       "    </tr>\n",
       "  </tbody>\n",
       "</table>\n",
       "</div>"
      ],
      "text/plain": [
       "              start_ts weather_conditions  duration_seconds\n",
       "0  2017-11-25 16:00:00               Good           2410.00\n",
       "1  2017-11-25 14:00:00               Good           1920.00\n",
       "2  2017-11-25 12:00:00               Good           1543.00\n",
       "3  2017-11-04 10:00:00               Good           2512.00\n",
       "4  2017-11-11 07:00:00               Good           1440.00"
      ]
     },
     "execution_count": 21,
     "metadata": {},
     "output_type": "execute_result"
    }
   ],
   "source": [
    "# Load the data file into a DataFrame, and look at a sample:\n",
    "sat_rides = pd.read_csv('/datasets/project_sql_result_07.csv')\n",
    "sat_rides.head()"
   ]
  },
  {
   "cell_type": "code",
   "execution_count": 22,
   "metadata": {},
   "outputs": [
    {
     "name": "stdout",
     "output_type": "stream",
     "text": [
      "<class 'pandas.core.frame.DataFrame'>\n",
      "RangeIndex: 1068 entries, 0 to 1067\n",
      "Data columns (total 3 columns):\n",
      "start_ts              1068 non-null object\n",
      "weather_conditions    1068 non-null object\n",
      "duration_seconds      1068 non-null float64\n",
      "dtypes: float64(1), object(2)\n",
      "memory usage: 25.2+ KB\n"
     ]
    }
   ],
   "source": [
    "# general info of this table:\n",
    "sat_rides.info()"
   ]
  },
  {
   "cell_type": "markdown",
   "metadata": {},
   "source": [
    "No missing values. For our purposes the datatypes are ok, because for the hypothesis we don't need 'start_ts' column (so we don't need now to change it into 'datetime').\n",
    "\n",
    "We will use a test for hypothesis on the equality of two independant population means.\n",
    "\n",
    "Our null hypothesis to test will be:\n",
    "\n",
    "**The average duration of rides from the Loop to O'Hare International Airport on rainy and good-weather Saturdays are equal**\n",
    "\n",
    "The alternative hypothesis is:\n",
    "\n",
    "The average duration of rides from the Loop to O'Hare International Airport on rainy and good-weather Saturdays are not equal\n",
    "\n",
    "first we will check th mean and variance of the rides duration between the two weather conditions:\n",
    "\n"
   ]
  },
  {
   "cell_type": "code",
   "execution_count": 23,
   "metadata": {},
   "outputs": [
    {
     "data": {
      "text/html": [
       "<div>\n",
       "<style scoped>\n",
       "    .dataframe tbody tr th:only-of-type {\n",
       "        vertical-align: middle;\n",
       "    }\n",
       "\n",
       "    .dataframe tbody tr th {\n",
       "        vertical-align: top;\n",
       "    }\n",
       "\n",
       "    .dataframe thead tr th {\n",
       "        text-align: left;\n",
       "    }\n",
       "\n",
       "    .dataframe thead tr:last-of-type th {\n",
       "        text-align: right;\n",
       "    }\n",
       "</style>\n",
       "<table border=\"1\" class=\"dataframe\">\n",
       "  <thead>\n",
       "    <tr>\n",
       "      <th></th>\n",
       "      <th>mean</th>\n",
       "      <th>var</th>\n",
       "    </tr>\n",
       "    <tr>\n",
       "      <th></th>\n",
       "      <th>duration_seconds</th>\n",
       "      <th>duration_seconds</th>\n",
       "    </tr>\n",
       "    <tr>\n",
       "      <th>weather_conditions</th>\n",
       "      <th></th>\n",
       "      <th></th>\n",
       "    </tr>\n",
       "  </thead>\n",
       "  <tbody>\n",
       "    <tr>\n",
       "      <td>Bad</td>\n",
       "      <td>2427.21</td>\n",
       "      <td>520294.09</td>\n",
       "    </tr>\n",
       "    <tr>\n",
       "      <td>Good</td>\n",
       "      <td>1999.68</td>\n",
       "      <td>576382.01</td>\n",
       "    </tr>\n",
       "  </tbody>\n",
       "</table>\n",
       "</div>"
      ],
      "text/plain": [
       "                               mean              var\n",
       "                   duration_seconds duration_seconds\n",
       "weather_conditions                                  \n",
       "Bad                         2427.21        520294.09\n",
       "Good                        1999.68        576382.01"
      ]
     },
     "execution_count": 23,
     "metadata": {},
     "output_type": "execute_result"
    }
   ],
   "source": [
    "# Compare the mean and the variance of the rides duration between the two weather conditions:\n",
    "sat_rides_stats = sat_rides.pivot_table(\n",
    "    index='weather_conditions', values='duration_seconds', aggfunc=['mean', 'var'])\n",
    "sat_rides_stats"
   ]
  },
  {
   "cell_type": "markdown",
   "metadata": {},
   "source": [
    "The average Saturday ride in bad (rain or storm) weather (2427.21 sec) is ~21% longer than in good weather (1999.68 sec). \n",
    "The question is wether this difference can be random - and for this we will run the statistical test. Since the variance is close enough - we will keep 'equal_var' in the statistical test on it's default True value. We will set significance level on 0.05, as common, since there is no special reason to set a different level. "
   ]
  },
  {
   "cell_type": "code",
   "execution_count": 24,
   "metadata": {},
   "outputs": [
    {
     "name": "stdout",
     "output_type": "stream",
     "text": [
      "p-value:  6.517970327099473e-12\n",
      "We reject the null hypothesis\n"
     ]
    }
   ],
   "source": [
    "# Test the hypothesis about mean equality:\n",
    "good = sat_rides.query('weather_conditions == \"Good\"')['duration_seconds'] \n",
    "bad = sat_rides.query('weather_conditions == \"Bad\"')['duration_seconds']\n",
    "\n",
    "alpha = 0.05\n",
    "\n",
    "results = st.ttest_ind(\n",
    "    good,\n",
    "    bad)\n",
    "print('p-value: ', results.pvalue)\n",
    "\n",
    "if (results.pvalue < alpha):\n",
    "    print(\n",
    "        \"We reject the null hypothesis\"\n",
    "    )\n",
    "else:\n",
    "    print(\n",
    "        \"We can't reject the null hypothesis\"\n",
    "    )"
   ]
  },
  {
   "cell_type": "markdown",
   "metadata": {},
   "source": [
    "We can see that the p-value is very small, and smaller than our set significance level alpha, which means that our statistical test shows that the probabillity that the difference between the means is random - is very low, therefore **we reject the hypothsis that the means are equal**."
   ]
  },
  {
   "cell_type": "markdown",
   "metadata": {},
   "source": [
    "## General conclusion"
   ]
  },
  {
   "cell_type": "markdown",
   "metadata": {},
   "source": [
    "1. **Project goal**: To understand taxi passenger preferences and patterns and the impact of weather on rides duration. \n",
    "\n",
    "2. **Data**: 3 tables of sorted data, that were created earlier using SQL, were analysed:\n",
    "    - Companies: the number of rides for each taxi company on November 15-16, 2017 (64 entries).\n",
    "\n",
    "    - Neighborhoods: the average number of rides that ended in each neighborhood in November 2017 (94 entries). \n",
    "\n",
    "    - Saturday_rides: rides durations from the Loop to O'Hare International Airport on November 2017 Saturdays, and the weather conditions for each ride day \n",
    "\n",
    "\n",
    "3. **The top 10 neighborhoods in terms of drop-offs**\n",
    "\n",
    "        1. Loop --------------------19.0% of average number of rides (drop-offs)    \n",
    "        2. River North -----------16.9%\n",
    "        3. Streeterville -----------11.8%\n",
    "        4. West Loop --------------9.2%\n",
    "        5. O'Hare ------------------ 4.5%\n",
    "        6. Lake View ---------------4.3%\n",
    "        7. Grant Park ---------------3.7%\n",
    "        8. Museum Campus -------2.7%\n",
    "        9. Gold Coast ---------------2.4%\n",
    "        10. Sheffield & DePaul ------2.2%\n",
    "\n",
    "and the next 2 are also close enogh to number 10:\n",
    "\n",
    "    11. Lincoln Park ------------2.2%\n",
    "    12. East Village ------------2.1%\n",
    "    13. Other (all the rest)----19.0%\n",
    "\n",
    "Only 4 neighborhoods (Loop, River North, Streeterville and West Loop) make together almost 57% of all rides drop-offs. The fifth (O'Hare) is the destiny of only 4.5% of the rides. The big majority of all 64 neighborhoods are each the destiny of a very small share of rides \n",
    "\n",
    "4. **Taxi companies and number of rides**: \n",
    "The big majority of rides are done by about 10 companies, while many companies make a relatively small amount of rides. One company (Flash cab) leads way ahead of all the rest (almost 20K rides in these two days, 14.2% of the rides), followed by 'Taxi Affiliation Services' with only around 11K rides (8.3%), and the following companies have similar (and gradually dropping) market shares of the rides. \n",
    "The 6 leading companies hold together half of the market, and with 5 more (11 all together) they hold about 3/4 of all rides.\n",
    "\n",
    "5. **Testing hypothesis: The average duration of rides from the Loop to O'Hare International Airport changes on rainy Saturdays**:\n",
    "The average Saturday ride in bad (rain or storm) weather (2427.21 sec) is ~21% longer than in good weather (1999.68 sec). We checked if this difference could be random. \n",
    "We used a test for hypothesis on the equality of two independant population means.\n",
    "\n",
    "Our null hypothesis to test was:\n",
    "\n",
    "The average duration of rides from the Loop to O'Hare International Airport on rainy and good-weather Saturdays are equal.\n",
    "\n",
    "our statistical test shows that the probabillity that the difference between the means is random - is very low, therefore **we reject the hypothsis that the means are equal**.\n",
    "\n",
    "\n",
    "\n"
   ]
  }
 ],
 "metadata": {
  "ExecuteTimeLog": [
   {
    "duration": 1398,
    "start_time": "2022-02-26T18:36:42.356Z"
   },
   {
    "duration": 100,
    "start_time": "2022-02-26T18:36:45.309Z"
   },
   {
    "duration": 15,
    "start_time": "2022-02-26T18:36:48.313Z"
   },
   {
    "duration": 8,
    "start_time": "2022-02-26T18:37:06.380Z"
   },
   {
    "duration": 11,
    "start_time": "2022-02-26T18:47:55.577Z"
   },
   {
    "duration": 9,
    "start_time": "2022-02-26T18:48:08.543Z"
   },
   {
    "duration": 9,
    "start_time": "2022-02-26T18:48:19.159Z"
   },
   {
    "duration": 4,
    "start_time": "2022-02-26T18:49:03.635Z"
   },
   {
    "duration": 46,
    "start_time": "2022-02-26T18:49:06.409Z"
   },
   {
    "duration": 9,
    "start_time": "2022-02-26T18:49:11.851Z"
   },
   {
    "duration": 8,
    "start_time": "2022-02-26T18:49:17.443Z"
   },
   {
    "duration": 9,
    "start_time": "2022-02-26T18:49:22.523Z"
   },
   {
    "duration": 8,
    "start_time": "2022-02-26T18:49:42.321Z"
   },
   {
    "duration": 1788,
    "start_time": "2022-02-26T19:01:44.750Z"
   },
   {
    "duration": 838,
    "start_time": "2022-02-26T19:06:47.048Z"
   },
   {
    "duration": 1781,
    "start_time": "2022-02-26T19:07:19.097Z"
   },
   {
    "duration": 11,
    "start_time": "2022-02-26T19:08:58.096Z"
   },
   {
    "duration": 432,
    "start_time": "2022-02-26T19:10:01.033Z"
   },
   {
    "duration": 291,
    "start_time": "2022-02-26T19:10:32.004Z"
   },
   {
    "duration": 201,
    "start_time": "2022-02-26T19:11:11.650Z"
   },
   {
    "duration": 285,
    "start_time": "2022-02-26T19:13:23.954Z"
   },
   {
    "duration": 1725,
    "start_time": "2022-02-26T19:15:25.011Z"
   },
   {
    "duration": 10,
    "start_time": "2022-02-26T19:17:33.126Z"
   },
   {
    "duration": 11,
    "start_time": "2022-02-26T19:17:40.825Z"
   },
   {
    "duration": 9,
    "start_time": "2022-02-26T19:20:46.649Z"
   },
   {
    "duration": 1308,
    "start_time": "2022-02-26T19:22:18.254Z"
   },
   {
    "duration": 1032,
    "start_time": "2022-02-27T04:40:46.970Z"
   },
   {
    "duration": 103,
    "start_time": "2022-02-27T04:40:48.004Z"
   },
   {
    "duration": 9,
    "start_time": "2022-02-27T04:40:48.108Z"
   },
   {
    "duration": 8,
    "start_time": "2022-02-27T04:40:48.118Z"
   },
   {
    "duration": 8,
    "start_time": "2022-02-27T04:40:48.128Z"
   },
   {
    "duration": 6,
    "start_time": "2022-02-27T04:40:48.137Z"
   },
   {
    "duration": 7,
    "start_time": "2022-02-27T04:40:48.144Z"
   },
   {
    "duration": 135,
    "start_time": "2022-02-27T04:40:48.153Z"
   },
   {
    "duration": 973,
    "start_time": "2022-02-27T04:40:48.290Z"
   },
   {
    "duration": 365,
    "start_time": "2022-02-27T04:40:54.429Z"
   },
   {
    "duration": 270,
    "start_time": "2022-02-27T04:41:41.397Z"
   },
   {
    "duration": 1129,
    "start_time": "2022-02-27T04:41:58.749Z"
   },
   {
    "duration": 1338,
    "start_time": "2022-02-27T04:42:54.523Z"
   },
   {
    "duration": 1095,
    "start_time": "2022-02-27T04:45:33.829Z"
   },
   {
    "duration": 1110,
    "start_time": "2022-02-27T04:51:05.755Z"
   },
   {
    "duration": 726,
    "start_time": "2022-02-27T04:52:28.465Z"
   },
   {
    "duration": 86,
    "start_time": "2022-02-27T04:52:58.534Z"
   },
   {
    "duration": 1104,
    "start_time": "2022-02-27T04:53:21.900Z"
   },
   {
    "duration": 1224,
    "start_time": "2022-02-27T04:53:55.442Z"
   },
   {
    "duration": 1316,
    "start_time": "2022-02-27T06:33:09.749Z"
   },
   {
    "duration": 1872,
    "start_time": "2022-02-27T06:35:50.437Z"
   },
   {
    "duration": 906,
    "start_time": "2022-02-27T06:36:04.718Z"
   },
   {
    "duration": 1390,
    "start_time": "2022-02-27T07:12:01.015Z"
   },
   {
    "duration": 9,
    "start_time": "2022-02-27T07:18:51.148Z"
   },
   {
    "duration": 8,
    "start_time": "2022-02-27T07:19:14.782Z"
   },
   {
    "duration": 5,
    "start_time": "2022-02-27T07:29:55.060Z"
   },
   {
    "duration": 3,
    "start_time": "2022-02-27T07:30:10.835Z"
   },
   {
    "duration": 42,
    "start_time": "2022-02-27T07:30:10.840Z"
   },
   {
    "duration": 7,
    "start_time": "2022-02-27T07:30:10.884Z"
   },
   {
    "duration": 5,
    "start_time": "2022-02-27T07:30:10.893Z"
   },
   {
    "duration": 7,
    "start_time": "2022-02-27T07:30:10.900Z"
   },
   {
    "duration": 7,
    "start_time": "2022-02-27T07:30:10.909Z"
   },
   {
    "duration": 83,
    "start_time": "2022-02-27T07:30:10.917Z"
   },
   {
    "duration": 118,
    "start_time": "2022-02-27T07:30:11.005Z"
   },
   {
    "duration": 950,
    "start_time": "2022-02-27T07:30:11.125Z"
   },
   {
    "duration": 4,
    "start_time": "2022-02-27T07:30:15.511Z"
   },
   {
    "duration": 1531,
    "start_time": "2022-02-27T10:31:44.002Z"
   },
   {
    "duration": 54,
    "start_time": "2022-02-27T10:31:45.535Z"
   },
   {
    "duration": 13,
    "start_time": "2022-02-27T10:31:45.593Z"
   },
   {
    "duration": 22,
    "start_time": "2022-02-27T10:31:45.609Z"
   },
   {
    "duration": 22,
    "start_time": "2022-02-27T10:31:45.634Z"
   },
   {
    "duration": 20,
    "start_time": "2022-02-27T10:31:45.658Z"
   },
   {
    "duration": 29,
    "start_time": "2022-02-27T10:31:45.680Z"
   },
   {
    "duration": 239,
    "start_time": "2022-02-27T10:31:45.712Z"
   },
   {
    "duration": 1869,
    "start_time": "2022-02-27T10:31:45.954Z"
   },
   {
    "duration": 7,
    "start_time": "2022-02-27T10:31:52.914Z"
   },
   {
    "duration": 7,
    "start_time": "2022-02-27T10:32:14.154Z"
   },
   {
    "duration": 383,
    "start_time": "2022-02-27T11:46:24.818Z"
   },
   {
    "duration": 226,
    "start_time": "2022-02-27T11:46:48.669Z"
   },
   {
    "duration": 6198,
    "start_time": "2022-02-27T11:53:27.388Z"
   },
   {
    "duration": 264,
    "start_time": "2022-02-27T11:58:29.461Z"
   },
   {
    "duration": 253,
    "start_time": "2022-02-27T12:04:16.402Z"
   },
   {
    "duration": 228,
    "start_time": "2022-02-27T12:05:59.035Z"
   },
   {
    "duration": 247,
    "start_time": "2022-02-27T18:10:30.069Z"
   },
   {
    "duration": 1157,
    "start_time": "2022-02-27T18:10:41.053Z"
   },
   {
    "duration": 36,
    "start_time": "2022-02-27T18:10:42.212Z"
   },
   {
    "duration": 11,
    "start_time": "2022-02-27T18:10:42.251Z"
   },
   {
    "duration": 8,
    "start_time": "2022-02-27T18:10:42.264Z"
   },
   {
    "duration": 14,
    "start_time": "2022-02-27T18:10:42.274Z"
   },
   {
    "duration": 17,
    "start_time": "2022-02-27T18:10:42.290Z"
   },
   {
    "duration": 9,
    "start_time": "2022-02-27T18:10:42.309Z"
   },
   {
    "duration": 142,
    "start_time": "2022-02-27T18:10:42.321Z"
   },
   {
    "duration": 1102,
    "start_time": "2022-02-27T18:10:42.465Z"
   },
   {
    "duration": 5,
    "start_time": "2022-02-27T18:10:43.569Z"
   },
   {
    "duration": 14,
    "start_time": "2022-02-27T18:10:48.065Z"
   },
   {
    "duration": 14,
    "start_time": "2022-02-27T18:11:21.659Z"
   },
   {
    "duration": 1136,
    "start_time": "2022-02-27T18:11:43.259Z"
   },
   {
    "duration": 17,
    "start_time": "2022-02-27T18:11:44.396Z"
   },
   {
    "duration": 15,
    "start_time": "2022-02-27T18:11:44.416Z"
   },
   {
    "duration": 8,
    "start_time": "2022-02-27T18:11:44.433Z"
   },
   {
    "duration": 12,
    "start_time": "2022-02-27T18:11:44.443Z"
   },
   {
    "duration": 8,
    "start_time": "2022-02-27T18:11:44.457Z"
   },
   {
    "duration": 11,
    "start_time": "2022-02-27T18:11:44.466Z"
   },
   {
    "duration": 144,
    "start_time": "2022-02-27T18:11:44.479Z"
   },
   {
    "duration": 1139,
    "start_time": "2022-02-27T18:11:44.626Z"
   },
   {
    "duration": 5,
    "start_time": "2022-02-27T18:11:45.766Z"
   },
   {
    "duration": 13,
    "start_time": "2022-02-27T18:11:50.891Z"
   },
   {
    "duration": 1054,
    "start_time": "2022-02-27T18:46:43.298Z"
   },
   {
    "duration": 18,
    "start_time": "2022-02-27T18:46:44.354Z"
   },
   {
    "duration": 11,
    "start_time": "2022-02-27T18:46:44.374Z"
   },
   {
    "duration": 8,
    "start_time": "2022-02-27T18:46:44.387Z"
   },
   {
    "duration": 8,
    "start_time": "2022-02-27T18:46:44.397Z"
   },
   {
    "duration": 6,
    "start_time": "2022-02-27T18:46:44.407Z"
   },
   {
    "duration": 9,
    "start_time": "2022-02-27T18:46:44.415Z"
   },
   {
    "duration": 154,
    "start_time": "2022-02-27T18:46:44.426Z"
   },
   {
    "duration": 1142,
    "start_time": "2022-02-27T18:46:44.582Z"
   },
   {
    "duration": 4,
    "start_time": "2022-02-27T18:46:45.726Z"
   },
   {
    "duration": 12,
    "start_time": "2022-02-27T18:46:50.262Z"
   },
   {
    "duration": 332,
    "start_time": "2022-02-27T18:50:06.605Z"
   },
   {
    "duration": 328,
    "start_time": "2022-02-27T18:51:11.751Z"
   },
   {
    "duration": 887,
    "start_time": "2022-02-27T19:13:14.027Z"
   },
   {
    "duration": 7,
    "start_time": "2022-02-27T19:13:57.952Z"
   },
   {
    "duration": 1009,
    "start_time": "2022-02-27T19:18:56.733Z"
   },
   {
    "duration": 318,
    "start_time": "2022-02-27T19:20:22.619Z"
   },
   {
    "duration": 13,
    "start_time": "2022-02-27T19:26:39.076Z"
   },
   {
    "duration": 337,
    "start_time": "2022-02-27T19:27:11.841Z"
   },
   {
    "duration": 299,
    "start_time": "2022-02-27T19:29:41.912Z"
   },
   {
    "duration": 610,
    "start_time": "2022-02-27T19:29:57.011Z"
   },
   {
    "duration": 335,
    "start_time": "2022-02-27T19:30:13.259Z"
   },
   {
    "duration": 1445,
    "start_time": "2022-02-28T06:54:50.382Z"
   },
   {
    "duration": 46,
    "start_time": "2022-02-28T06:54:51.830Z"
   },
   {
    "duration": 14,
    "start_time": "2022-02-28T06:54:51.879Z"
   },
   {
    "duration": 10,
    "start_time": "2022-02-28T06:54:51.896Z"
   },
   {
    "duration": 12,
    "start_time": "2022-02-28T06:54:51.909Z"
   },
   {
    "duration": 10,
    "start_time": "2022-02-28T06:54:51.924Z"
   },
   {
    "duration": 50,
    "start_time": "2022-02-28T06:54:51.937Z"
   },
   {
    "duration": 241,
    "start_time": "2022-02-28T06:54:51.990Z"
   },
   {
    "duration": 1900,
    "start_time": "2022-02-28T06:54:52.234Z"
   },
   {
    "duration": 16,
    "start_time": "2022-02-28T06:55:18.178Z"
   },
   {
    "duration": 584,
    "start_time": "2022-02-28T06:56:27.470Z"
   },
   {
    "duration": 5,
    "start_time": "2022-02-28T07:04:18.889Z"
   },
   {
    "duration": 22,
    "start_time": "2022-02-28T07:04:18.897Z"
   },
   {
    "duration": 9,
    "start_time": "2022-02-28T07:04:18.922Z"
   },
   {
    "duration": 8,
    "start_time": "2022-02-28T07:04:18.934Z"
   },
   {
    "duration": 10,
    "start_time": "2022-02-28T07:04:18.944Z"
   },
   {
    "duration": 36,
    "start_time": "2022-02-28T07:04:18.956Z"
   },
   {
    "duration": 17,
    "start_time": "2022-02-28T07:04:18.994Z"
   },
   {
    "duration": 236,
    "start_time": "2022-02-28T07:04:19.014Z"
   },
   {
    "duration": 1764,
    "start_time": "2022-02-28T07:04:19.252Z"
   },
   {
    "duration": 16,
    "start_time": "2022-02-28T07:04:21.018Z"
   },
   {
    "duration": 580,
    "start_time": "2022-02-28T07:04:21.036Z"
   },
   {
    "duration": 10,
    "start_time": "2022-02-28T07:04:21.618Z"
   },
   {
    "duration": 1430,
    "start_time": "2022-02-28T07:04:21.630Z"
   },
   {
    "duration": 547,
    "start_time": "2022-02-28T07:08:02.611Z"
   },
   {
    "duration": 940,
    "start_time": "2022-02-28T07:24:46.715Z"
   },
   {
    "duration": 559,
    "start_time": "2022-02-28T07:24:59.356Z"
   },
   {
    "duration": 602,
    "start_time": "2022-02-28T07:25:19.689Z"
   },
   {
    "duration": 676,
    "start_time": "2022-02-28T07:25:42.691Z"
   },
   {
    "duration": 657,
    "start_time": "2022-02-28T07:28:44.819Z"
   },
   {
    "duration": 377,
    "start_time": "2022-02-28T07:30:19.622Z"
   },
   {
    "duration": 721,
    "start_time": "2022-02-28T07:30:41.408Z"
   },
   {
    "duration": 582,
    "start_time": "2022-02-28T07:30:58.552Z"
   },
   {
    "duration": 565,
    "start_time": "2022-02-28T07:33:10.591Z"
   },
   {
    "duration": 18,
    "start_time": "2022-02-28T07:34:34.159Z"
   },
   {
    "duration": 650,
    "start_time": "2022-02-28T07:36:20.694Z"
   },
   {
    "duration": 646,
    "start_time": "2022-02-28T07:36:38.366Z"
   },
   {
    "duration": 636,
    "start_time": "2022-02-28T07:36:55.241Z"
   },
   {
    "duration": 41,
    "start_time": "2022-02-28T07:57:08.979Z"
   },
   {
    "duration": 8,
    "start_time": "2022-02-28T07:57:41.746Z"
   },
   {
    "duration": 33,
    "start_time": "2022-02-28T08:18:10.568Z"
   },
   {
    "duration": 14,
    "start_time": "2022-02-28T08:27:59.010Z"
   },
   {
    "duration": 1059,
    "start_time": "2022-02-28T12:18:21.255Z"
   },
   {
    "duration": 59,
    "start_time": "2022-02-28T12:18:22.316Z"
   },
   {
    "duration": 11,
    "start_time": "2022-02-28T12:18:22.377Z"
   },
   {
    "duration": 6,
    "start_time": "2022-02-28T12:18:22.389Z"
   },
   {
    "duration": 10,
    "start_time": "2022-02-28T12:18:22.396Z"
   },
   {
    "duration": 5,
    "start_time": "2022-02-28T12:18:26.534Z"
   },
   {
    "duration": 8,
    "start_time": "2022-02-28T12:36:00.733Z"
   },
   {
    "duration": 8,
    "start_time": "2022-02-28T12:36:48.029Z"
   },
   {
    "duration": 6,
    "start_time": "2022-02-28T13:43:05.906Z"
   },
   {
    "duration": 12,
    "start_time": "2022-02-28T15:29:58.593Z"
   },
   {
    "duration": 398,
    "start_time": "2022-02-28T15:31:25.840Z"
   },
   {
    "duration": 1437,
    "start_time": "2022-02-28T17:29:41.344Z"
   },
   {
    "duration": 21,
    "start_time": "2022-02-28T17:29:42.784Z"
   },
   {
    "duration": 20,
    "start_time": "2022-02-28T17:29:42.808Z"
   },
   {
    "duration": 15,
    "start_time": "2022-02-28T17:29:42.831Z"
   },
   {
    "duration": 20,
    "start_time": "2022-02-28T17:29:42.849Z"
   },
   {
    "duration": 16,
    "start_time": "2022-02-28T17:29:42.872Z"
   },
   {
    "duration": 22,
    "start_time": "2022-02-28T17:29:42.890Z"
   },
   {
    "duration": 12,
    "start_time": "2022-02-28T17:29:42.914Z"
   },
   {
    "duration": 11,
    "start_time": "2022-02-28T17:29:42.930Z"
   },
   {
    "duration": 8,
    "start_time": "2022-02-28T17:29:42.944Z"
   },
   {
    "duration": 2899,
    "start_time": "2022-02-28T17:29:42.988Z"
   },
   {
    "duration": 25,
    "start_time": "2022-02-28T17:29:45.890Z"
   },
   {
    "duration": 830,
    "start_time": "2022-02-28T17:29:45.918Z"
   },
   {
    "duration": 2111,
    "start_time": "2022-02-28T17:29:46.751Z"
   },
   {
    "duration": 28,
    "start_time": "2022-02-28T17:29:48.864Z"
   },
   {
    "duration": 738,
    "start_time": "2022-02-28T17:29:48.895Z"
   },
   {
    "duration": 23,
    "start_time": "2022-02-28T17:29:49.635Z"
   },
   {
    "duration": 8,
    "start_time": "2022-02-28T17:29:49.660Z"
   },
   {
    "duration": 42,
    "start_time": "2022-02-28T17:29:49.670Z"
   },
   {
    "duration": 18,
    "start_time": "2022-02-28T17:29:49.714Z"
   },
   {
    "duration": 1508,
    "start_time": "2022-02-28T17:30:06.663Z"
   },
   {
    "duration": 47,
    "start_time": "2022-02-28T17:30:08.174Z"
   },
   {
    "duration": 21,
    "start_time": "2022-02-28T17:31:37.728Z"
   },
   {
    "duration": 9,
    "start_time": "2022-02-28T17:32:13.564Z"
   },
   {
    "duration": 11,
    "start_time": "2022-02-28T17:32:19.256Z"
   },
   {
    "duration": 7,
    "start_time": "2022-02-28T17:32:21.575Z"
   },
   {
    "duration": 9,
    "start_time": "2022-02-28T18:04:56.675Z"
   },
   {
    "duration": 7,
    "start_time": "2022-02-28T18:04:57.960Z"
   },
   {
    "duration": 10,
    "start_time": "2022-02-28T18:04:59.237Z"
   },
   {
    "duration": 7,
    "start_time": "2022-02-28T18:05:00.627Z"
   },
   {
    "duration": 2789,
    "start_time": "2022-02-28T18:11:34.132Z"
   },
   {
    "duration": 9,
    "start_time": "2022-02-28T18:15:38.055Z"
   },
   {
    "duration": 444,
    "start_time": "2022-02-28T18:15:58.999Z"
   },
   {
    "duration": 11,
    "start_time": "2022-02-28T18:16:18.244Z"
   },
   {
    "duration": 11,
    "start_time": "2022-02-28T18:16:34.706Z"
   },
   {
    "duration": 20,
    "start_time": "2022-02-28T18:17:22.821Z"
   },
   {
    "duration": 583,
    "start_time": "2022-02-28T18:17:44.388Z"
   },
   {
    "duration": 1694,
    "start_time": "2022-02-28T18:20:57.362Z"
   },
   {
    "duration": 19,
    "start_time": "2022-02-28T18:21:16.494Z"
   },
   {
    "duration": 723,
    "start_time": "2022-02-28T18:21:21.421Z"
   },
   {
    "duration": 23,
    "start_time": "2022-02-28T18:27:05.671Z"
   },
   {
    "duration": 9,
    "start_time": "2022-02-28T18:27:06.155Z"
   },
   {
    "duration": 30,
    "start_time": "2022-02-28T18:28:26.255Z"
   },
   {
    "duration": 16,
    "start_time": "2022-02-28T18:31:37.001Z"
   }
  ],
  "kernelspec": {
   "display_name": "Python 3 (ipykernel)",
   "language": "python",
   "name": "python3"
  },
  "language_info": {
   "codemirror_mode": {
    "name": "ipython",
    "version": 3
   },
   "file_extension": ".py",
   "mimetype": "text/x-python",
   "name": "python",
   "nbconvert_exporter": "python",
   "pygments_lexer": "ipython3",
   "version": "3.9.5"
  },
  "toc": {
   "base_numbering": 1,
   "nav_menu": {},
   "number_sections": true,
   "sideBar": true,
   "skip_h1_title": true,
   "title_cell": "Table of Contents",
   "title_sidebar": "Contents",
   "toc_cell": false,
   "toc_position": {},
   "toc_section_display": true,
   "toc_window_display": true
  }
 },
 "nbformat": 4,
 "nbformat_minor": 2
}
