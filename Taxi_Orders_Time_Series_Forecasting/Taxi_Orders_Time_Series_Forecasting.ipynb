{
 "cells": [
  {
   "cell_type": "markdown",
   "metadata": {},
   "source": [
    "# Taxi Orders Prediction\n",
    "\n",
    "Sweet Lift Taxi company has collected historical data on taxi orders at airports. To attract more drivers during peak hours, we need to predict the amount of taxi orders for the next hour. Build a model for such a prediction.\n",
    "\n",
    "The RMSE metric on the test set should not be more than 48.\n",
    "\n",
    "**Executive Summary**\n",
    "\n",
    "Goal achieved, the chosen model's RMSE metric on the test set is 34.83  \n",
    "\n",
    "\n",
    "## Project instructions\n",
    "\n",
    "1. Download the data and resample it by one hour.\n",
    "2. Analyze the data.\n",
    "3. Train different models with different hyperparameters. The test sample should be 10% of the initial dataset. \n",
    "4. Test the data using the test sample and provide a conclusion.\n",
    "\n",
    "## Data description\n",
    "\n",
    "The data is stored in file `taxi.csv`. The number of orders is in the '*num_orders*' column."
   ]
  },
  {
   "cell_type": "markdown",
   "metadata": {},
   "source": [
    "## Preparation"
   ]
  },
  {
   "cell_type": "code",
   "execution_count": 1,
   "metadata": {},
   "outputs": [],
   "source": [
    "# Import libraries\n",
    "import numpy as np\n",
    "import pandas as pd\n",
    "import matplotlib.pyplot as plt\n",
    "\n",
    "import seaborn as sns\n",
    "\n",
    "import sklearn.linear_model\n",
    "import sklearn.metrics\n",
    "import sklearn.neighbors\n",
    "import sklearn.preprocessing\n",
    "\n",
    "from sklearn.model_selection import train_test_split\n",
    "from sklearn.linear_model import LinearRegression\n",
    "from sklearn.ensemble import RandomForestRegressor\n",
    "\n",
    "from IPython.display import display\n",
    "\n",
    "from sklearn.metrics import mean_squared_error\n",
    "import warnings\n",
    "warnings.filterwarnings(\"ignore\")"
   ]
  },
  {
   "cell_type": "code",
   "execution_count": 2,
   "metadata": {},
   "outputs": [],
   "source": [
    "# load the data into a df\n",
    "df = pd.read_csv('/datasets/taxi.csv')"
   ]
  },
  {
   "cell_type": "code",
   "execution_count": 3,
   "metadata": {
    "scrolled": false
   },
   "outputs": [
    {
     "data": {
      "text/html": [
       "<div>\n",
       "<style scoped>\n",
       "    .dataframe tbody tr th:only-of-type {\n",
       "        vertical-align: middle;\n",
       "    }\n",
       "\n",
       "    .dataframe tbody tr th {\n",
       "        vertical-align: top;\n",
       "    }\n",
       "\n",
       "    .dataframe thead th {\n",
       "        text-align: right;\n",
       "    }\n",
       "</style>\n",
       "<table border=\"1\" class=\"dataframe\">\n",
       "  <thead>\n",
       "    <tr style=\"text-align: right;\">\n",
       "      <th></th>\n",
       "      <th>datetime</th>\n",
       "      <th>num_orders</th>\n",
       "    </tr>\n",
       "  </thead>\n",
       "  <tbody>\n",
       "    <tr>\n",
       "      <th>0</th>\n",
       "      <td>2018-03-01 00:00:00</td>\n",
       "      <td>9</td>\n",
       "    </tr>\n",
       "    <tr>\n",
       "      <th>1</th>\n",
       "      <td>2018-03-01 00:10:00</td>\n",
       "      <td>14</td>\n",
       "    </tr>\n",
       "    <tr>\n",
       "      <th>2</th>\n",
       "      <td>2018-03-01 00:20:00</td>\n",
       "      <td>28</td>\n",
       "    </tr>\n",
       "    <tr>\n",
       "      <th>3</th>\n",
       "      <td>2018-03-01 00:30:00</td>\n",
       "      <td>20</td>\n",
       "    </tr>\n",
       "    <tr>\n",
       "      <th>4</th>\n",
       "      <td>2018-03-01 00:40:00</td>\n",
       "      <td>32</td>\n",
       "    </tr>\n",
       "    <tr>\n",
       "      <th>...</th>\n",
       "      <td>...</td>\n",
       "      <td>...</td>\n",
       "    </tr>\n",
       "    <tr>\n",
       "      <th>26491</th>\n",
       "      <td>2018-08-31 23:10:00</td>\n",
       "      <td>32</td>\n",
       "    </tr>\n",
       "    <tr>\n",
       "      <th>26492</th>\n",
       "      <td>2018-08-31 23:20:00</td>\n",
       "      <td>24</td>\n",
       "    </tr>\n",
       "    <tr>\n",
       "      <th>26493</th>\n",
       "      <td>2018-08-31 23:30:00</td>\n",
       "      <td>27</td>\n",
       "    </tr>\n",
       "    <tr>\n",
       "      <th>26494</th>\n",
       "      <td>2018-08-31 23:40:00</td>\n",
       "      <td>39</td>\n",
       "    </tr>\n",
       "    <tr>\n",
       "      <th>26495</th>\n",
       "      <td>2018-08-31 23:50:00</td>\n",
       "      <td>53</td>\n",
       "    </tr>\n",
       "  </tbody>\n",
       "</table>\n",
       "<p>26496 rows × 2 columns</p>\n",
       "</div>"
      ],
      "text/plain": [
       "                  datetime  num_orders\n",
       "0      2018-03-01 00:00:00           9\n",
       "1      2018-03-01 00:10:00          14\n",
       "2      2018-03-01 00:20:00          28\n",
       "3      2018-03-01 00:30:00          20\n",
       "4      2018-03-01 00:40:00          32\n",
       "...                    ...         ...\n",
       "26491  2018-08-31 23:10:00          32\n",
       "26492  2018-08-31 23:20:00          24\n",
       "26493  2018-08-31 23:30:00          27\n",
       "26494  2018-08-31 23:40:00          39\n",
       "26495  2018-08-31 23:50:00          53\n",
       "\n",
       "[26496 rows x 2 columns]"
      ]
     },
     "execution_count": 3,
     "metadata": {},
     "output_type": "execute_result"
    }
   ],
   "source": [
    "# Looking at the beginning and end of the data\n",
    "df"
   ]
  },
  {
   "cell_type": "code",
   "execution_count": 4,
   "metadata": {
    "scrolled": false
   },
   "outputs": [
    {
     "name": "stdout",
     "output_type": "stream",
     "text": [
      "<class 'pandas.core.frame.DataFrame'>\n",
      "RangeIndex: 26496 entries, 0 to 26495\n",
      "Data columns (total 2 columns):\n",
      " #   Column      Non-Null Count  Dtype \n",
      "---  ------      --------------  ----- \n",
      " 0   datetime    26496 non-null  object\n",
      " 1   num_orders  26496 non-null  int64 \n",
      "dtypes: int64(1), object(1)\n",
      "memory usage: 414.1+ KB\n"
     ]
    }
   ],
   "source": [
    "# Lookig at the general info of the data\n",
    "df.info()"
   ]
  },
  {
   "cell_type": "code",
   "execution_count": 5,
   "metadata": {
    "scrolled": false
   },
   "outputs": [
    {
     "data": {
      "text/html": [
       "<div>\n",
       "<style scoped>\n",
       "    .dataframe tbody tr th:only-of-type {\n",
       "        vertical-align: middle;\n",
       "    }\n",
       "\n",
       "    .dataframe tbody tr th {\n",
       "        vertical-align: top;\n",
       "    }\n",
       "\n",
       "    .dataframe thead th {\n",
       "        text-align: right;\n",
       "    }\n",
       "</style>\n",
       "<table border=\"1\" class=\"dataframe\">\n",
       "  <thead>\n",
       "    <tr style=\"text-align: right;\">\n",
       "      <th></th>\n",
       "      <th>num_orders</th>\n",
       "    </tr>\n",
       "    <tr>\n",
       "      <th>datetime</th>\n",
       "      <th></th>\n",
       "    </tr>\n",
       "  </thead>\n",
       "  <tbody>\n",
       "    <tr>\n",
       "      <th>2018-03-01 00:00:00</th>\n",
       "      <td>9</td>\n",
       "    </tr>\n",
       "    <tr>\n",
       "      <th>2018-03-01 00:10:00</th>\n",
       "      <td>14</td>\n",
       "    </tr>\n",
       "    <tr>\n",
       "      <th>2018-03-01 00:20:00</th>\n",
       "      <td>28</td>\n",
       "    </tr>\n",
       "    <tr>\n",
       "      <th>2018-03-01 00:30:00</th>\n",
       "      <td>20</td>\n",
       "    </tr>\n",
       "    <tr>\n",
       "      <th>2018-03-01 00:40:00</th>\n",
       "      <td>32</td>\n",
       "    </tr>\n",
       "    <tr>\n",
       "      <th>...</th>\n",
       "      <td>...</td>\n",
       "    </tr>\n",
       "    <tr>\n",
       "      <th>2018-08-31 23:10:00</th>\n",
       "      <td>32</td>\n",
       "    </tr>\n",
       "    <tr>\n",
       "      <th>2018-08-31 23:20:00</th>\n",
       "      <td>24</td>\n",
       "    </tr>\n",
       "    <tr>\n",
       "      <th>2018-08-31 23:30:00</th>\n",
       "      <td>27</td>\n",
       "    </tr>\n",
       "    <tr>\n",
       "      <th>2018-08-31 23:40:00</th>\n",
       "      <td>39</td>\n",
       "    </tr>\n",
       "    <tr>\n",
       "      <th>2018-08-31 23:50:00</th>\n",
       "      <td>53</td>\n",
       "    </tr>\n",
       "  </tbody>\n",
       "</table>\n",
       "<p>26496 rows × 1 columns</p>\n",
       "</div>"
      ],
      "text/plain": [
       "                     num_orders\n",
       "datetime                       \n",
       "2018-03-01 00:00:00           9\n",
       "2018-03-01 00:10:00          14\n",
       "2018-03-01 00:20:00          28\n",
       "2018-03-01 00:30:00          20\n",
       "2018-03-01 00:40:00          32\n",
       "...                         ...\n",
       "2018-08-31 23:10:00          32\n",
       "2018-08-31 23:20:00          24\n",
       "2018-08-31 23:30:00          27\n",
       "2018-08-31 23:40:00          39\n",
       "2018-08-31 23:50:00          53\n",
       "\n",
       "[26496 rows x 1 columns]"
      ]
     },
     "execution_count": 5,
     "metadata": {},
     "output_type": "execute_result"
    }
   ],
   "source": [
    "# Reload the data into a df, now turning the datetime into the index and into Datetime data type\n",
    "df = pd.read_csv('/datasets/taxi.csv', index_col=[0], parse_dates=[0])\n",
    "df"
   ]
  },
  {
   "cell_type": "code",
   "execution_count": 6,
   "metadata": {},
   "outputs": [
    {
     "data": {
      "text/plain": [
       "True"
      ]
     },
     "execution_count": 6,
     "metadata": {},
     "output_type": "execute_result"
    }
   ],
   "source": [
    "# Check it is sorted:\n",
    "df.index.is_monotonic"
   ]
  },
  {
   "cell_type": "code",
   "execution_count": 7,
   "metadata": {
    "scrolled": false
   },
   "outputs": [
    {
     "data": {
      "text/html": [
       "<div>\n",
       "<style scoped>\n",
       "    .dataframe tbody tr th:only-of-type {\n",
       "        vertical-align: middle;\n",
       "    }\n",
       "\n",
       "    .dataframe tbody tr th {\n",
       "        vertical-align: top;\n",
       "    }\n",
       "\n",
       "    .dataframe thead th {\n",
       "        text-align: right;\n",
       "    }\n",
       "</style>\n",
       "<table border=\"1\" class=\"dataframe\">\n",
       "  <thead>\n",
       "    <tr style=\"text-align: right;\">\n",
       "      <th></th>\n",
       "      <th>num_orders</th>\n",
       "    </tr>\n",
       "    <tr>\n",
       "      <th>datetime</th>\n",
       "      <th></th>\n",
       "    </tr>\n",
       "  </thead>\n",
       "  <tbody>\n",
       "    <tr>\n",
       "      <th>2018-03-01 00:00:00</th>\n",
       "      <td>124</td>\n",
       "    </tr>\n",
       "    <tr>\n",
       "      <th>2018-03-01 01:00:00</th>\n",
       "      <td>85</td>\n",
       "    </tr>\n",
       "    <tr>\n",
       "      <th>2018-03-01 02:00:00</th>\n",
       "      <td>71</td>\n",
       "    </tr>\n",
       "    <tr>\n",
       "      <th>2018-03-01 03:00:00</th>\n",
       "      <td>66</td>\n",
       "    </tr>\n",
       "    <tr>\n",
       "      <th>2018-03-01 04:00:00</th>\n",
       "      <td>43</td>\n",
       "    </tr>\n",
       "    <tr>\n",
       "      <th>...</th>\n",
       "      <td>...</td>\n",
       "    </tr>\n",
       "    <tr>\n",
       "      <th>2018-08-31 19:00:00</th>\n",
       "      <td>136</td>\n",
       "    </tr>\n",
       "    <tr>\n",
       "      <th>2018-08-31 20:00:00</th>\n",
       "      <td>154</td>\n",
       "    </tr>\n",
       "    <tr>\n",
       "      <th>2018-08-31 21:00:00</th>\n",
       "      <td>159</td>\n",
       "    </tr>\n",
       "    <tr>\n",
       "      <th>2018-08-31 22:00:00</th>\n",
       "      <td>223</td>\n",
       "    </tr>\n",
       "    <tr>\n",
       "      <th>2018-08-31 23:00:00</th>\n",
       "      <td>205</td>\n",
       "    </tr>\n",
       "  </tbody>\n",
       "</table>\n",
       "<p>4416 rows × 1 columns</p>\n",
       "</div>"
      ],
      "text/plain": [
       "                     num_orders\n",
       "datetime                       \n",
       "2018-03-01 00:00:00         124\n",
       "2018-03-01 01:00:00          85\n",
       "2018-03-01 02:00:00          71\n",
       "2018-03-01 03:00:00          66\n",
       "2018-03-01 04:00:00          43\n",
       "...                         ...\n",
       "2018-08-31 19:00:00         136\n",
       "2018-08-31 20:00:00         154\n",
       "2018-08-31 21:00:00         159\n",
       "2018-08-31 22:00:00         223\n",
       "2018-08-31 23:00:00         205\n",
       "\n",
       "[4416 rows x 1 columns]"
      ]
     },
     "execution_count": 7,
     "metadata": {},
     "output_type": "execute_result"
    }
   ],
   "source": [
    "# Resample by one hour\n",
    "df = df.resample('1H').sum()\n",
    "df"
   ]
  },
  {
   "cell_type": "markdown",
   "metadata": {},
   "source": [
    "We have now the data per hour, with the datetime as index, with full sorted data from the begining of March 2018 untill the end of August."
   ]
  },
  {
   "cell_type": "markdown",
   "metadata": {},
   "source": [
    "## Analysis"
   ]
  },
  {
   "cell_type": "code",
   "execution_count": 8,
   "metadata": {
    "scrolled": true
   },
   "outputs": [
    {
     "data": {
      "text/html": [
       "<div>\n",
       "<style scoped>\n",
       "    .dataframe tbody tr th:only-of-type {\n",
       "        vertical-align: middle;\n",
       "    }\n",
       "\n",
       "    .dataframe tbody tr th {\n",
       "        vertical-align: top;\n",
       "    }\n",
       "\n",
       "    .dataframe thead th {\n",
       "        text-align: right;\n",
       "    }\n",
       "</style>\n",
       "<table border=\"1\" class=\"dataframe\">\n",
       "  <thead>\n",
       "    <tr style=\"text-align: right;\">\n",
       "      <th></th>\n",
       "      <th>num_orders</th>\n",
       "    </tr>\n",
       "  </thead>\n",
       "  <tbody>\n",
       "    <tr>\n",
       "      <th>count</th>\n",
       "      <td>4416.000000</td>\n",
       "    </tr>\n",
       "    <tr>\n",
       "      <th>mean</th>\n",
       "      <td>84.422781</td>\n",
       "    </tr>\n",
       "    <tr>\n",
       "      <th>std</th>\n",
       "      <td>45.023853</td>\n",
       "    </tr>\n",
       "    <tr>\n",
       "      <th>min</th>\n",
       "      <td>0.000000</td>\n",
       "    </tr>\n",
       "    <tr>\n",
       "      <th>25%</th>\n",
       "      <td>54.000000</td>\n",
       "    </tr>\n",
       "    <tr>\n",
       "      <th>50%</th>\n",
       "      <td>78.000000</td>\n",
       "    </tr>\n",
       "    <tr>\n",
       "      <th>75%</th>\n",
       "      <td>107.000000</td>\n",
       "    </tr>\n",
       "    <tr>\n",
       "      <th>max</th>\n",
       "      <td>462.000000</td>\n",
       "    </tr>\n",
       "  </tbody>\n",
       "</table>\n",
       "</div>"
      ],
      "text/plain": [
       "        num_orders\n",
       "count  4416.000000\n",
       "mean     84.422781\n",
       "std      45.023853\n",
       "min       0.000000\n",
       "25%      54.000000\n",
       "50%      78.000000\n",
       "75%     107.000000\n",
       "max     462.000000"
      ]
     },
     "execution_count": 8,
     "metadata": {},
     "output_type": "execute_result"
    }
   ],
   "source": [
    "# General statistics of the num_orders\n",
    "df.describe()"
   ]
  },
  {
   "cell_type": "markdown",
   "metadata": {},
   "source": [
    "No negative values, no impossible values (462 looks very high, but not impossible). "
   ]
  },
  {
   "cell_type": "code",
   "execution_count": 10,
   "metadata": {
    "scrolled": false
   },
   "outputs": [
    {
     "data": {
      "image/png": "[encoded data removed]",
      "text/plain": [
       "<Figure size 1152x576 with 1 Axes>"
      ]
     },
     "metadata": {
      "needs_background": "light"
     },
     "output_type": "display_data"
    }
   ],
   "source": [
    "# Plotting the orders-per-hour along the time\n",
    "plt.figure(figsize=(16,8))\n",
    "plt.title('Taxi Orders per Hour')\n",
    "plt.xlabel('Time')\n",
    "plt.ylabel('Taxi Orders')\n",
    "plt.grid(True)\n",
    "plt.plot(df);"
   ]
  },
  {
   "cell_type": "markdown",
   "metadata": {},
   "source": [
    "We can see a general mild positive trend, especially in the second half of the time-span. Along the whole period we can see fluctuation that increase with time. Extreme peaks (above 200 untill July or above 300 in August) are rare. "
   ]
  },
  {
   "cell_type": "code",
   "execution_count": 12,
   "metadata": {
    "scrolled": false
   },
   "outputs": [
    {
     "data": {
      "image/png": "[encoded data removed]",
      "text/plain": [
       "<Figure size 432x288 with 1 Axes>"
      ]
     },
     "metadata": {
      "needs_background": "light"
     },
     "output_type": "display_data"
    }
   ],
   "source": [
    "# Plotting Autocorelation \n",
    "from statsmodels.graphics.tsaplots import plot_acf\n",
    "plot_acf(df.values)\n",
    "plt.title('Correlation of num_orders with former hours')\n",
    "plt.xlabel('Hours before')\n",
    "plt.ylabel('Correlation')\n",
    "plt.grid(True)\n",
    "plt.show()"
   ]
  },
  {
   "cell_type": "markdown",
   "metadata": {},
   "source": [
    "We can clearly see that the 2 highest correlated values come form 1 hour earlier and especially from 24 hours (full day) earlier (almost o.75 correlation), and lower for 23 and 25 hours earlier. All the rest show correlation under 0.5. "
   ]
  },
  {
   "cell_type": "code",
   "execution_count": 13,
   "metadata": {
    "scrolled": false
   },
   "outputs": [
    {
     "data": {
      "image/png": "[encoded data removed]",
      "text/plain": [
       "<Figure size 432x576 with 2 Axes>"
      ]
     },
     "metadata": {
      "needs_background": "light"
     },
     "output_type": "display_data"
    }
   ],
   "source": [
    "# Plotting trend and seasonality\n",
    "from statsmodels.tsa.seasonal import seasonal_decompose\n",
    "\n",
    "decomposed = seasonal_decompose(df) \n",
    "\n",
    "plt.figure(figsize=(6, 8))\n",
    "plt.subplot(211)\n",
    "decomposed.trend.plot(ax=plt.gca())\n",
    "plt.grid(True)\n",
    "plt.title('Trend')\n",
    "plt.subplot(212)\n",
    "decomposed.seasonal.plot(ax=plt.gca()) \n",
    "plt.title('Seasonality')\n",
    "plt.tight_layout()"
   ]
  },
  {
   "cell_type": "markdown",
   "metadata": {},
   "source": [
    "The positive **trend** is very clear - and following it we will focus for prediction on data relatively close to the predicted hour. The **seasonality** is much too dense when looking at the whole 6 months, so we will try to see it on 1 month. We will choose the last month.   "
   ]
  },
  {
   "cell_type": "code",
   "execution_count": 14,
   "metadata": {
    "scrolled": false
   },
   "outputs": [
    {
     "data": {
      "image/png": "[encoded data removed]",
      "text/plain": [
       "<Figure size 432x576 with 1 Axes>"
      ]
     },
     "metadata": {
      "needs_background": "light"
     },
     "output_type": "display_data"
    }
   ],
   "source": [
    "# Plotting seasonality of the last month\n",
    "decomposed = seasonal_decompose(df['2018-08-01':'2018-08-31']) \n",
    "\n",
    "plt.figure(figsize=(6, 8))\n",
    "decomposed.seasonal.plot(ax=plt.gca()) \n",
    "plt.title('Seasonality')\n",
    "plt.tight_layout()"
   ]
  },
  {
   "cell_type": "markdown",
   "metadata": {},
   "source": [
    "The seasonality clearly supports our earlier correlation conclusion about 1 Day seasonality. This will influence our model bulding. "
   ]
  },
  {
   "cell_type": "markdown",
   "metadata": {},
   "source": [
    "## Training\n",
    "\n",
    "### Preparing for training"
   ]
  },
  {
   "cell_type": "markdown",
   "metadata": {},
   "source": [
    "Following the above analysis and other considerations, we will add to our data the following features:\n",
    "\n",
    "1. Month (because of the general positive trend)\n",
    "2. Day of week (because it might influence peaks, for example weekends)\n",
    "3. Hour (following the correlation and seasonality analysis)\n",
    "4. Number of orders 1 hour earlier (following the correlation analysis)\n",
    "5. Number of orders 24 hours earlier - for the whole earlier week (to catch optional weekly correlations)\n",
    "\n",
    "We will not use rolling mean, since both the positive trend and the 24H seasonality seem to make such a mean less predictive."
   ]
  },
  {
   "cell_type": "code",
   "execution_count": 15,
   "metadata": {},
   "outputs": [],
   "source": [
    "# Features creation\n",
    "df['month'] = df.index.month\n",
    "df['dayofweek'] = df.index.dayofweek\n",
    "df['hour'] = df.index.hour\n",
    "\n",
    "df['1_hour_earlier'] = df['num_orders'].shift(1)\n",
    "for lag in range(1, 8):\n",
    "    df['{}_days_earlier'.format(lag)] = df['num_orders'].shift(lag*24)"
   ]
  },
  {
   "cell_type": "code",
   "execution_count": 16,
   "metadata": {
    "scrolled": false
   },
   "outputs": [
    {
     "data": {
      "text/html": [
       "<div>\n",
       "<style scoped>\n",
       "    .dataframe tbody tr th:only-of-type {\n",
       "        vertical-align: middle;\n",
       "    }\n",
       "\n",
       "    .dataframe tbody tr th {\n",
       "        vertical-align: top;\n",
       "    }\n",
       "\n",
       "    .dataframe thead th {\n",
       "        text-align: right;\n",
       "    }\n",
       "</style>\n",
       "<table border=\"1\" class=\"dataframe\">\n",
       "  <thead>\n",
       "    <tr style=\"text-align: right;\">\n",
       "      <th></th>\n",
       "      <th>num_orders</th>\n",
       "      <th>month</th>\n",
       "      <th>dayofweek</th>\n",
       "      <th>hour</th>\n",
       "      <th>1_hour_earlier</th>\n",
       "      <th>1_days_earlier</th>\n",
       "      <th>2_days_earlier</th>\n",
       "      <th>3_days_earlier</th>\n",
       "      <th>4_days_earlier</th>\n",
       "      <th>5_days_earlier</th>\n",
       "      <th>6_days_earlier</th>\n",
       "      <th>7_days_earlier</th>\n",
       "    </tr>\n",
       "    <tr>\n",
       "      <th>datetime</th>\n",
       "      <th></th>\n",
       "      <th></th>\n",
       "      <th></th>\n",
       "      <th></th>\n",
       "      <th></th>\n",
       "      <th></th>\n",
       "      <th></th>\n",
       "      <th></th>\n",
       "      <th></th>\n",
       "      <th></th>\n",
       "      <th></th>\n",
       "      <th></th>\n",
       "    </tr>\n",
       "  </thead>\n",
       "  <tbody>\n",
       "    <tr>\n",
       "      <th>2018-03-08 00:00:00</th>\n",
       "      <td>143</td>\n",
       "      <td>3</td>\n",
       "      <td>3</td>\n",
       "      <td>0</td>\n",
       "      <td>94.0</td>\n",
       "      <td>100.0</td>\n",
       "      <td>42.0</td>\n",
       "      <td>86.0</td>\n",
       "      <td>75.0</td>\n",
       "      <td>163.0</td>\n",
       "      <td>90.0</td>\n",
       "      <td>124.0</td>\n",
       "    </tr>\n",
       "    <tr>\n",
       "      <th>2018-03-08 01:00:00</th>\n",
       "      <td>78</td>\n",
       "      <td>3</td>\n",
       "      <td>3</td>\n",
       "      <td>1</td>\n",
       "      <td>143.0</td>\n",
       "      <td>121.0</td>\n",
       "      <td>75.0</td>\n",
       "      <td>176.0</td>\n",
       "      <td>60.0</td>\n",
       "      <td>108.0</td>\n",
       "      <td>120.0</td>\n",
       "      <td>85.0</td>\n",
       "    </tr>\n",
       "    <tr>\n",
       "      <th>2018-03-08 02:00:00</th>\n",
       "      <td>65</td>\n",
       "      <td>3</td>\n",
       "      <td>3</td>\n",
       "      <td>2</td>\n",
       "      <td>78.0</td>\n",
       "      <td>24.0</td>\n",
       "      <td>36.0</td>\n",
       "      <td>32.0</td>\n",
       "      <td>26.0</td>\n",
       "      <td>25.0</td>\n",
       "      <td>75.0</td>\n",
       "      <td>71.0</td>\n",
       "    </tr>\n",
       "    <tr>\n",
       "      <th>2018-03-08 03:00:00</th>\n",
       "      <td>68</td>\n",
       "      <td>3</td>\n",
       "      <td>3</td>\n",
       "      <td>3</td>\n",
       "      <td>65.0</td>\n",
       "      <td>66.0</td>\n",
       "      <td>49.0</td>\n",
       "      <td>51.0</td>\n",
       "      <td>42.0</td>\n",
       "      <td>64.0</td>\n",
       "      <td>64.0</td>\n",
       "      <td>66.0</td>\n",
       "    </tr>\n",
       "    <tr>\n",
       "      <th>2018-03-08 04:00:00</th>\n",
       "      <td>60</td>\n",
       "      <td>3</td>\n",
       "      <td>3</td>\n",
       "      <td>4</td>\n",
       "      <td>68.0</td>\n",
       "      <td>73.0</td>\n",
       "      <td>30.0</td>\n",
       "      <td>34.0</td>\n",
       "      <td>27.0</td>\n",
       "      <td>44.0</td>\n",
       "      <td>20.0</td>\n",
       "      <td>43.0</td>\n",
       "    </tr>\n",
       "    <tr>\n",
       "      <th>...</th>\n",
       "      <td>...</td>\n",
       "      <td>...</td>\n",
       "      <td>...</td>\n",
       "      <td>...</td>\n",
       "      <td>...</td>\n",
       "      <td>...</td>\n",
       "      <td>...</td>\n",
       "      <td>...</td>\n",
       "      <td>...</td>\n",
       "      <td>...</td>\n",
       "      <td>...</td>\n",
       "      <td>...</td>\n",
       "    </tr>\n",
       "    <tr>\n",
       "      <th>2018-08-31 19:00:00</th>\n",
       "      <td>136</td>\n",
       "      <td>8</td>\n",
       "      <td>4</td>\n",
       "      <td>19</td>\n",
       "      <td>207.0</td>\n",
       "      <td>72.0</td>\n",
       "      <td>169.0</td>\n",
       "      <td>111.0</td>\n",
       "      <td>152.0</td>\n",
       "      <td>126.0</td>\n",
       "      <td>123.0</td>\n",
       "      <td>113.0</td>\n",
       "    </tr>\n",
       "    <tr>\n",
       "      <th>2018-08-31 20:00:00</th>\n",
       "      <td>154</td>\n",
       "      <td>8</td>\n",
       "      <td>4</td>\n",
       "      <td>20</td>\n",
       "      <td>136.0</td>\n",
       "      <td>142.0</td>\n",
       "      <td>191.0</td>\n",
       "      <td>94.0</td>\n",
       "      <td>96.0</td>\n",
       "      <td>122.0</td>\n",
       "      <td>105.0</td>\n",
       "      <td>179.0</td>\n",
       "    </tr>\n",
       "    <tr>\n",
       "      <th>2018-08-31 21:00:00</th>\n",
       "      <td>159</td>\n",
       "      <td>8</td>\n",
       "      <td>4</td>\n",
       "      <td>21</td>\n",
       "      <td>154.0</td>\n",
       "      <td>198.0</td>\n",
       "      <td>170.0</td>\n",
       "      <td>189.0</td>\n",
       "      <td>152.0</td>\n",
       "      <td>107.0</td>\n",
       "      <td>162.0</td>\n",
       "      <td>166.0</td>\n",
       "    </tr>\n",
       "    <tr>\n",
       "      <th>2018-08-31 22:00:00</th>\n",
       "      <td>223</td>\n",
       "      <td>8</td>\n",
       "      <td>4</td>\n",
       "      <td>22</td>\n",
       "      <td>159.0</td>\n",
       "      <td>158.0</td>\n",
       "      <td>177.0</td>\n",
       "      <td>160.0</td>\n",
       "      <td>173.0</td>\n",
       "      <td>145.0</td>\n",
       "      <td>155.0</td>\n",
       "      <td>242.0</td>\n",
       "    </tr>\n",
       "    <tr>\n",
       "      <th>2018-08-31 23:00:00</th>\n",
       "      <td>205</td>\n",
       "      <td>8</td>\n",
       "      <td>4</td>\n",
       "      <td>23</td>\n",
       "      <td>223.0</td>\n",
       "      <td>246.0</td>\n",
       "      <td>265.0</td>\n",
       "      <td>179.0</td>\n",
       "      <td>157.0</td>\n",
       "      <td>238.0</td>\n",
       "      <td>174.0</td>\n",
       "      <td>173.0</td>\n",
       "    </tr>\n",
       "  </tbody>\n",
       "</table>\n",
       "<p>4248 rows × 12 columns</p>\n",
       "</div>"
      ],
      "text/plain": [
       "                     num_orders  month  dayofweek  hour  1_hour_earlier  \\\n",
       "datetime                                                                  \n",
       "2018-03-08 00:00:00         143      3          3     0            94.0   \n",
       "2018-03-08 01:00:00          78      3          3     1           143.0   \n",
       "2018-03-08 02:00:00          65      3          3     2            78.0   \n",
       "2018-03-08 03:00:00          68      3          3     3            65.0   \n",
       "2018-03-08 04:00:00          60      3          3     4            68.0   \n",
       "...                         ...    ...        ...   ...             ...   \n",
       "2018-08-31 19:00:00         136      8          4    19           207.0   \n",
       "2018-08-31 20:00:00         154      8          4    20           136.0   \n",
       "2018-08-31 21:00:00         159      8          4    21           154.0   \n",
       "2018-08-31 22:00:00         223      8          4    22           159.0   \n",
       "2018-08-31 23:00:00         205      8          4    23           223.0   \n",
       "\n",
       "                     1_days_earlier  2_days_earlier  3_days_earlier  \\\n",
       "datetime                                                              \n",
       "2018-03-08 00:00:00           100.0            42.0            86.0   \n",
       "2018-03-08 01:00:00           121.0            75.0           176.0   \n",
       "2018-03-08 02:00:00            24.0            36.0            32.0   \n",
       "2018-03-08 03:00:00            66.0            49.0            51.0   \n",
       "2018-03-08 04:00:00            73.0            30.0            34.0   \n",
       "...                             ...             ...             ...   \n",
       "2018-08-31 19:00:00            72.0           169.0           111.0   \n",
       "2018-08-31 20:00:00           142.0           191.0            94.0   \n",
       "2018-08-31 21:00:00           198.0           170.0           189.0   \n",
       "2018-08-31 22:00:00           158.0           177.0           160.0   \n",
       "2018-08-31 23:00:00           246.0           265.0           179.0   \n",
       "\n",
       "                     4_days_earlier  5_days_earlier  6_days_earlier  \\\n",
       "datetime                                                              \n",
       "2018-03-08 00:00:00            75.0           163.0            90.0   \n",
       "2018-03-08 01:00:00            60.0           108.0           120.0   \n",
       "2018-03-08 02:00:00            26.0            25.0            75.0   \n",
       "2018-03-08 03:00:00            42.0            64.0            64.0   \n",
       "2018-03-08 04:00:00            27.0            44.0            20.0   \n",
       "...                             ...             ...             ...   \n",
       "2018-08-31 19:00:00           152.0           126.0           123.0   \n",
       "2018-08-31 20:00:00            96.0           122.0           105.0   \n",
       "2018-08-31 21:00:00           152.0           107.0           162.0   \n",
       "2018-08-31 22:00:00           173.0           145.0           155.0   \n",
       "2018-08-31 23:00:00           157.0           238.0           174.0   \n",
       "\n",
       "                     7_days_earlier  \n",
       "datetime                             \n",
       "2018-03-08 00:00:00           124.0  \n",
       "2018-03-08 01:00:00            85.0  \n",
       "2018-03-08 02:00:00            71.0  \n",
       "2018-03-08 03:00:00            66.0  \n",
       "2018-03-08 04:00:00            43.0  \n",
       "...                             ...  \n",
       "2018-08-31 19:00:00           113.0  \n",
       "2018-08-31 20:00:00           179.0  \n",
       "2018-08-31 21:00:00           166.0  \n",
       "2018-08-31 22:00:00           242.0  \n",
       "2018-08-31 23:00:00           173.0  \n",
       "\n",
       "[4248 rows x 12 columns]"
      ]
     },
     "execution_count": 16,
     "metadata": {},
     "output_type": "execute_result"
    }
   ],
   "source": [
    "# Dropping the entries with missing values  \n",
    "df.dropna(inplace=True)\n",
    "df"
   ]
  },
  {
   "cell_type": "markdown",
   "metadata": {},
   "source": [
    "All seem ok for now. We will move to splitting our data into train, validation and test sets."
   ]
  },
  {
   "cell_type": "code",
   "execution_count": 17,
   "metadata": {},
   "outputs": [],
   "source": [
    "# Split the data into 3 sets, according to the chronological order\n",
    "train_valid, test = train_test_split(df, shuffle=False, test_size=0.1)\n",
    "train, valid = train_test_split(train_valid, shuffle=False, test_size=0.1)"
   ]
  },
  {
   "cell_type": "markdown",
   "metadata": {},
   "source": [
    "Now we will - only on our train set - check to what extent our features have correlation with the number of orders (our target). "
   ]
  },
  {
   "cell_type": "code",
   "execution_count": 18,
   "metadata": {
    "scrolled": true
   },
   "outputs": [
    {
     "data": {
      "text/html": [
       "<div>\n",
       "<style scoped>\n",
       "    .dataframe tbody tr th:only-of-type {\n",
       "        vertical-align: middle;\n",
       "    }\n",
       "\n",
       "    .dataframe tbody tr th {\n",
       "        vertical-align: top;\n",
       "    }\n",
       "\n",
       "    .dataframe thead th {\n",
       "        text-align: right;\n",
       "    }\n",
       "</style>\n",
       "<table border=\"1\" class=\"dataframe\">\n",
       "  <thead>\n",
       "    <tr style=\"text-align: right;\">\n",
       "      <th></th>\n",
       "      <th>num_orders</th>\n",
       "      <th>month</th>\n",
       "      <th>dayofweek</th>\n",
       "      <th>hour</th>\n",
       "      <th>1_hour_earlier</th>\n",
       "      <th>1_days_earlier</th>\n",
       "      <th>2_days_earlier</th>\n",
       "      <th>3_days_earlier</th>\n",
       "      <th>4_days_earlier</th>\n",
       "      <th>5_days_earlier</th>\n",
       "      <th>6_days_earlier</th>\n",
       "      <th>7_days_earlier</th>\n",
       "    </tr>\n",
       "  </thead>\n",
       "  <tbody>\n",
       "    <tr>\n",
       "      <th>num_orders</th>\n",
       "      <td>1.000000</td>\n",
       "      <td>0.383553</td>\n",
       "      <td>0.005852</td>\n",
       "      <td>0.032304</td>\n",
       "      <td>0.533101</td>\n",
       "      <td>0.638808</td>\n",
       "      <td>0.679300</td>\n",
       "      <td>0.654643</td>\n",
       "      <td>0.653825</td>\n",
       "      <td>0.673014</td>\n",
       "      <td>0.608814</td>\n",
       "      <td>0.763716</td>\n",
       "    </tr>\n",
       "    <tr>\n",
       "      <th>month</th>\n",
       "      <td>0.383553</td>\n",
       "      <td>1.000000</td>\n",
       "      <td>-0.003178</td>\n",
       "      <td>-0.003805</td>\n",
       "      <td>0.384608</td>\n",
       "      <td>0.381263</td>\n",
       "      <td>0.379685</td>\n",
       "      <td>0.377450</td>\n",
       "      <td>0.380473</td>\n",
       "      <td>0.375583</td>\n",
       "      <td>0.371806</td>\n",
       "      <td>0.371558</td>\n",
       "    </tr>\n",
       "    <tr>\n",
       "      <th>dayofweek</th>\n",
       "      <td>0.005852</td>\n",
       "      <td>-0.003178</td>\n",
       "      <td>1.000000</td>\n",
       "      <td>-0.004011</td>\n",
       "      <td>-0.001012</td>\n",
       "      <td>0.055933</td>\n",
       "      <td>0.036006</td>\n",
       "      <td>-0.040053</td>\n",
       "      <td>-0.059153</td>\n",
       "      <td>-0.044067</td>\n",
       "      <td>0.061103</td>\n",
       "      <td>0.007155</td>\n",
       "    </tr>\n",
       "    <tr>\n",
       "      <th>hour</th>\n",
       "      <td>0.032304</td>\n",
       "      <td>-0.003805</td>\n",
       "      <td>-0.004011</td>\n",
       "      <td>1.000000</td>\n",
       "      <td>-0.064477</td>\n",
       "      <td>0.034459</td>\n",
       "      <td>0.037178</td>\n",
       "      <td>0.039049</td>\n",
       "      <td>0.041654</td>\n",
       "      <td>0.041407</td>\n",
       "      <td>0.044786</td>\n",
       "      <td>0.047410</td>\n",
       "    </tr>\n",
       "    <tr>\n",
       "      <th>1_hour_earlier</th>\n",
       "      <td>0.533101</td>\n",
       "      <td>0.384608</td>\n",
       "      <td>-0.001012</td>\n",
       "      <td>-0.064477</td>\n",
       "      <td>1.000000</td>\n",
       "      <td>0.444613</td>\n",
       "      <td>0.478075</td>\n",
       "      <td>0.454418</td>\n",
       "      <td>0.452795</td>\n",
       "      <td>0.469273</td>\n",
       "      <td>0.426815</td>\n",
       "      <td>0.506199</td>\n",
       "    </tr>\n",
       "    <tr>\n",
       "      <th>1_days_earlier</th>\n",
       "      <td>0.638808</td>\n",
       "      <td>0.381263</td>\n",
       "      <td>0.055933</td>\n",
       "      <td>0.034459</td>\n",
       "      <td>0.444613</td>\n",
       "      <td>1.000000</td>\n",
       "      <td>0.637060</td>\n",
       "      <td>0.678410</td>\n",
       "      <td>0.653279</td>\n",
       "      <td>0.652591</td>\n",
       "      <td>0.673309</td>\n",
       "      <td>0.607728</td>\n",
       "    </tr>\n",
       "    <tr>\n",
       "      <th>2_days_earlier</th>\n",
       "      <td>0.679300</td>\n",
       "      <td>0.379685</td>\n",
       "      <td>0.036006</td>\n",
       "      <td>0.037178</td>\n",
       "      <td>0.478075</td>\n",
       "      <td>0.637060</td>\n",
       "      <td>1.000000</td>\n",
       "      <td>0.635862</td>\n",
       "      <td>0.679992</td>\n",
       "      <td>0.654973</td>\n",
       "      <td>0.651166</td>\n",
       "      <td>0.672461</td>\n",
       "    </tr>\n",
       "    <tr>\n",
       "      <th>3_days_earlier</th>\n",
       "      <td>0.654643</td>\n",
       "      <td>0.377450</td>\n",
       "      <td>-0.040053</td>\n",
       "      <td>0.039049</td>\n",
       "      <td>0.454418</td>\n",
       "      <td>0.678410</td>\n",
       "      <td>0.635862</td>\n",
       "      <td>1.000000</td>\n",
       "      <td>0.634504</td>\n",
       "      <td>0.679240</td>\n",
       "      <td>0.654016</td>\n",
       "      <td>0.649253</td>\n",
       "    </tr>\n",
       "    <tr>\n",
       "      <th>4_days_earlier</th>\n",
       "      <td>0.653825</td>\n",
       "      <td>0.380473</td>\n",
       "      <td>-0.059153</td>\n",
       "      <td>0.041654</td>\n",
       "      <td>0.452795</td>\n",
       "      <td>0.653279</td>\n",
       "      <td>0.679992</td>\n",
       "      <td>0.634504</td>\n",
       "      <td>1.000000</td>\n",
       "      <td>0.633223</td>\n",
       "      <td>0.679280</td>\n",
       "      <td>0.652859</td>\n",
       "    </tr>\n",
       "    <tr>\n",
       "      <th>5_days_earlier</th>\n",
       "      <td>0.673014</td>\n",
       "      <td>0.375583</td>\n",
       "      <td>-0.044067</td>\n",
       "      <td>0.041407</td>\n",
       "      <td>0.469273</td>\n",
       "      <td>0.652591</td>\n",
       "      <td>0.654973</td>\n",
       "      <td>0.679240</td>\n",
       "      <td>0.633223</td>\n",
       "      <td>1.000000</td>\n",
       "      <td>0.632499</td>\n",
       "      <td>0.679707</td>\n",
       "    </tr>\n",
       "    <tr>\n",
       "      <th>6_days_earlier</th>\n",
       "      <td>0.608814</td>\n",
       "      <td>0.371806</td>\n",
       "      <td>0.061103</td>\n",
       "      <td>0.044786</td>\n",
       "      <td>0.426815</td>\n",
       "      <td>0.673309</td>\n",
       "      <td>0.651166</td>\n",
       "      <td>0.654016</td>\n",
       "      <td>0.679280</td>\n",
       "      <td>0.632499</td>\n",
       "      <td>1.000000</td>\n",
       "      <td>0.633158</td>\n",
       "    </tr>\n",
       "    <tr>\n",
       "      <th>7_days_earlier</th>\n",
       "      <td>0.763716</td>\n",
       "      <td>0.371558</td>\n",
       "      <td>0.007155</td>\n",
       "      <td>0.047410</td>\n",
       "      <td>0.506199</td>\n",
       "      <td>0.607728</td>\n",
       "      <td>0.672461</td>\n",
       "      <td>0.649253</td>\n",
       "      <td>0.652859</td>\n",
       "      <td>0.679707</td>\n",
       "      <td>0.633158</td>\n",
       "      <td>1.000000</td>\n",
       "    </tr>\n",
       "  </tbody>\n",
       "</table>\n",
       "</div>"
      ],
      "text/plain": [
       "                num_orders     month  dayofweek      hour  1_hour_earlier  \\\n",
       "num_orders        1.000000  0.383553   0.005852  0.032304        0.533101   \n",
       "month             0.383553  1.000000  -0.003178 -0.003805        0.384608   \n",
       "dayofweek         0.005852 -0.003178   1.000000 -0.004011       -0.001012   \n",
       "hour              0.032304 -0.003805  -0.004011  1.000000       -0.064477   \n",
       "1_hour_earlier    0.533101  0.384608  -0.001012 -0.064477        1.000000   \n",
       "1_days_earlier    0.638808  0.381263   0.055933  0.034459        0.444613   \n",
       "2_days_earlier    0.679300  0.379685   0.036006  0.037178        0.478075   \n",
       "3_days_earlier    0.654643  0.377450  -0.040053  0.039049        0.454418   \n",
       "4_days_earlier    0.653825  0.380473  -0.059153  0.041654        0.452795   \n",
       "5_days_earlier    0.673014  0.375583  -0.044067  0.041407        0.469273   \n",
       "6_days_earlier    0.608814  0.371806   0.061103  0.044786        0.426815   \n",
       "7_days_earlier    0.763716  0.371558   0.007155  0.047410        0.506199   \n",
       "\n",
       "                1_days_earlier  2_days_earlier  3_days_earlier  \\\n",
       "num_orders            0.638808        0.679300        0.654643   \n",
       "month                 0.381263        0.379685        0.377450   \n",
       "dayofweek             0.055933        0.036006       -0.040053   \n",
       "hour                  0.034459        0.037178        0.039049   \n",
       "1_hour_earlier        0.444613        0.478075        0.454418   \n",
       "1_days_earlier        1.000000        0.637060        0.678410   \n",
       "2_days_earlier        0.637060        1.000000        0.635862   \n",
       "3_days_earlier        0.678410        0.635862        1.000000   \n",
       "4_days_earlier        0.653279        0.679992        0.634504   \n",
       "5_days_earlier        0.652591        0.654973        0.679240   \n",
       "6_days_earlier        0.673309        0.651166        0.654016   \n",
       "7_days_earlier        0.607728        0.672461        0.649253   \n",
       "\n",
       "                4_days_earlier  5_days_earlier  6_days_earlier  7_days_earlier  \n",
       "num_orders            0.653825        0.673014        0.608814        0.763716  \n",
       "month                 0.380473        0.375583        0.371806        0.371558  \n",
       "dayofweek            -0.059153       -0.044067        0.061103        0.007155  \n",
       "hour                  0.041654        0.041407        0.044786        0.047410  \n",
       "1_hour_earlier        0.452795        0.469273        0.426815        0.506199  \n",
       "1_days_earlier        0.653279        0.652591        0.673309        0.607728  \n",
       "2_days_earlier        0.679992        0.654973        0.651166        0.672461  \n",
       "3_days_earlier        0.634504        0.679240        0.654016        0.649253  \n",
       "4_days_earlier        1.000000        0.633223        0.679280        0.652859  \n",
       "5_days_earlier        0.633223        1.000000        0.632499        0.679707  \n",
       "6_days_earlier        0.679280        0.632499        1.000000        0.633158  \n",
       "7_days_earlier        0.652859        0.679707        0.633158        1.000000  "
      ]
     },
     "execution_count": 18,
     "metadata": {},
     "output_type": "execute_result"
    }
   ],
   "source": [
    "# Checking correlation in the train set\n",
    "train.corr()"
   ]
  },
  {
   "cell_type": "markdown",
   "metadata": {},
   "source": [
    "Since it is reasonable that forecasting of orders based on past data doesn't necessarily involve non-linear relations - we will use the correlation results from above to improve our features selection and impprovement: we will drop the features that yield correlation lower than 0.5, and duplicate a few times the 1 column that yield the highest correlation (much higher than all the rest) - as could have been expected, the exact same hour of the day, 7 days (a full week) before the current day.   "
   ]
  },
  {
   "cell_type": "code",
   "execution_count": 19,
   "metadata": {
    "scrolled": false
   },
   "outputs": [
    {
     "data": {
      "text/html": [
       "<div>\n",
       "<style scoped>\n",
       "    .dataframe tbody tr th:only-of-type {\n",
       "        vertical-align: middle;\n",
       "    }\n",
       "\n",
       "    .dataframe tbody tr th {\n",
       "        vertical-align: top;\n",
       "    }\n",
       "\n",
       "    .dataframe thead th {\n",
       "        text-align: right;\n",
       "    }\n",
       "</style>\n",
       "<table border=\"1\" class=\"dataframe\">\n",
       "  <thead>\n",
       "    <tr style=\"text-align: right;\">\n",
       "      <th></th>\n",
       "      <th>num_orders</th>\n",
       "      <th>1_hour_earlier</th>\n",
       "      <th>1_days_earlier</th>\n",
       "      <th>2_days_earlier</th>\n",
       "      <th>3_days_earlier</th>\n",
       "      <th>4_days_earlier</th>\n",
       "      <th>5_days_earlier</th>\n",
       "      <th>6_days_earlier</th>\n",
       "      <th>7_days_earlier</th>\n",
       "      <th>7_days_earlier*</th>\n",
       "      <th>7_days_earlier**</th>\n",
       "      <th>7_days_earlier***</th>\n",
       "    </tr>\n",
       "  </thead>\n",
       "  <tbody>\n",
       "    <tr>\n",
       "      <th>num_orders</th>\n",
       "      <td>1.000000</td>\n",
       "      <td>0.533101</td>\n",
       "      <td>0.638808</td>\n",
       "      <td>0.679300</td>\n",
       "      <td>0.654643</td>\n",
       "      <td>0.653825</td>\n",
       "      <td>0.673014</td>\n",
       "      <td>0.608814</td>\n",
       "      <td>0.763716</td>\n",
       "      <td>0.763716</td>\n",
       "      <td>0.763716</td>\n",
       "      <td>0.763716</td>\n",
       "    </tr>\n",
       "    <tr>\n",
       "      <th>1_hour_earlier</th>\n",
       "      <td>0.533101</td>\n",
       "      <td>1.000000</td>\n",
       "      <td>0.444613</td>\n",
       "      <td>0.478075</td>\n",
       "      <td>0.454418</td>\n",
       "      <td>0.452795</td>\n",
       "      <td>0.469273</td>\n",
       "      <td>0.426815</td>\n",
       "      <td>0.506199</td>\n",
       "      <td>0.506199</td>\n",
       "      <td>0.506199</td>\n",
       "      <td>0.506199</td>\n",
       "    </tr>\n",
       "    <tr>\n",
       "      <th>1_days_earlier</th>\n",
       "      <td>0.638808</td>\n",
       "      <td>0.444613</td>\n",
       "      <td>1.000000</td>\n",
       "      <td>0.637060</td>\n",
       "      <td>0.678410</td>\n",
       "      <td>0.653279</td>\n",
       "      <td>0.652591</td>\n",
       "      <td>0.673309</td>\n",
       "      <td>0.607728</td>\n",
       "      <td>0.607728</td>\n",
       "      <td>0.607728</td>\n",
       "      <td>0.607728</td>\n",
       "    </tr>\n",
       "    <tr>\n",
       "      <th>2_days_earlier</th>\n",
       "      <td>0.679300</td>\n",
       "      <td>0.478075</td>\n",
       "      <td>0.637060</td>\n",
       "      <td>1.000000</td>\n",
       "      <td>0.635862</td>\n",
       "      <td>0.679992</td>\n",
       "      <td>0.654973</td>\n",
       "      <td>0.651166</td>\n",
       "      <td>0.672461</td>\n",
       "      <td>0.672461</td>\n",
       "      <td>0.672461</td>\n",
       "      <td>0.672461</td>\n",
       "    </tr>\n",
       "    <tr>\n",
       "      <th>3_days_earlier</th>\n",
       "      <td>0.654643</td>\n",
       "      <td>0.454418</td>\n",
       "      <td>0.678410</td>\n",
       "      <td>0.635862</td>\n",
       "      <td>1.000000</td>\n",
       "      <td>0.634504</td>\n",
       "      <td>0.679240</td>\n",
       "      <td>0.654016</td>\n",
       "      <td>0.649253</td>\n",
       "      <td>0.649253</td>\n",
       "      <td>0.649253</td>\n",
       "      <td>0.649253</td>\n",
       "    </tr>\n",
       "    <tr>\n",
       "      <th>4_days_earlier</th>\n",
       "      <td>0.653825</td>\n",
       "      <td>0.452795</td>\n",
       "      <td>0.653279</td>\n",
       "      <td>0.679992</td>\n",
       "      <td>0.634504</td>\n",
       "      <td>1.000000</td>\n",
       "      <td>0.633223</td>\n",
       "      <td>0.679280</td>\n",
       "      <td>0.652859</td>\n",
       "      <td>0.652859</td>\n",
       "      <td>0.652859</td>\n",
       "      <td>0.652859</td>\n",
       "    </tr>\n",
       "    <tr>\n",
       "      <th>5_days_earlier</th>\n",
       "      <td>0.673014</td>\n",
       "      <td>0.469273</td>\n",
       "      <td>0.652591</td>\n",
       "      <td>0.654973</td>\n",
       "      <td>0.679240</td>\n",
       "      <td>0.633223</td>\n",
       "      <td>1.000000</td>\n",
       "      <td>0.632499</td>\n",
       "      <td>0.679707</td>\n",
       "      <td>0.679707</td>\n",
       "      <td>0.679707</td>\n",
       "      <td>0.679707</td>\n",
       "    </tr>\n",
       "    <tr>\n",
       "      <th>6_days_earlier</th>\n",
       "      <td>0.608814</td>\n",
       "      <td>0.426815</td>\n",
       "      <td>0.673309</td>\n",
       "      <td>0.651166</td>\n",
       "      <td>0.654016</td>\n",
       "      <td>0.679280</td>\n",
       "      <td>0.632499</td>\n",
       "      <td>1.000000</td>\n",
       "      <td>0.633158</td>\n",
       "      <td>0.633158</td>\n",
       "      <td>0.633158</td>\n",
       "      <td>0.633158</td>\n",
       "    </tr>\n",
       "    <tr>\n",
       "      <th>7_days_earlier</th>\n",
       "      <td>0.763716</td>\n",
       "      <td>0.506199</td>\n",
       "      <td>0.607728</td>\n",
       "      <td>0.672461</td>\n",
       "      <td>0.649253</td>\n",
       "      <td>0.652859</td>\n",
       "      <td>0.679707</td>\n",
       "      <td>0.633158</td>\n",
       "      <td>1.000000</td>\n",
       "      <td>1.000000</td>\n",
       "      <td>1.000000</td>\n",
       "      <td>1.000000</td>\n",
       "    </tr>\n",
       "    <tr>\n",
       "      <th>7_days_earlier*</th>\n",
       "      <td>0.763716</td>\n",
       "      <td>0.506199</td>\n",
       "      <td>0.607728</td>\n",
       "      <td>0.672461</td>\n",
       "      <td>0.649253</td>\n",
       "      <td>0.652859</td>\n",
       "      <td>0.679707</td>\n",
       "      <td>0.633158</td>\n",
       "      <td>1.000000</td>\n",
       "      <td>1.000000</td>\n",
       "      <td>1.000000</td>\n",
       "      <td>1.000000</td>\n",
       "    </tr>\n",
       "    <tr>\n",
       "      <th>7_days_earlier**</th>\n",
       "      <td>0.763716</td>\n",
       "      <td>0.506199</td>\n",
       "      <td>0.607728</td>\n",
       "      <td>0.672461</td>\n",
       "      <td>0.649253</td>\n",
       "      <td>0.652859</td>\n",
       "      <td>0.679707</td>\n",
       "      <td>0.633158</td>\n",
       "      <td>1.000000</td>\n",
       "      <td>1.000000</td>\n",
       "      <td>1.000000</td>\n",
       "      <td>1.000000</td>\n",
       "    </tr>\n",
       "    <tr>\n",
       "      <th>7_days_earlier***</th>\n",
       "      <td>0.763716</td>\n",
       "      <td>0.506199</td>\n",
       "      <td>0.607728</td>\n",
       "      <td>0.672461</td>\n",
       "      <td>0.649253</td>\n",
       "      <td>0.652859</td>\n",
       "      <td>0.679707</td>\n",
       "      <td>0.633158</td>\n",
       "      <td>1.000000</td>\n",
       "      <td>1.000000</td>\n",
       "      <td>1.000000</td>\n",
       "      <td>1.000000</td>\n",
       "    </tr>\n",
       "  </tbody>\n",
       "</table>\n",
       "</div>"
      ],
      "text/plain": [
       "                   num_orders  1_hour_earlier  1_days_earlier  2_days_earlier  \\\n",
       "num_orders           1.000000        0.533101        0.638808        0.679300   \n",
       "1_hour_earlier       0.533101        1.000000        0.444613        0.478075   \n",
       "1_days_earlier       0.638808        0.444613        1.000000        0.637060   \n",
       "2_days_earlier       0.679300        0.478075        0.637060        1.000000   \n",
       "3_days_earlier       0.654643        0.454418        0.678410        0.635862   \n",
       "4_days_earlier       0.653825        0.452795        0.653279        0.679992   \n",
       "5_days_earlier       0.673014        0.469273        0.652591        0.654973   \n",
       "6_days_earlier       0.608814        0.426815        0.673309        0.651166   \n",
       "7_days_earlier       0.763716        0.506199        0.607728        0.672461   \n",
       "7_days_earlier*      0.763716        0.506199        0.607728        0.672461   \n",
       "7_days_earlier**     0.763716        0.506199        0.607728        0.672461   \n",
       "7_days_earlier***    0.763716        0.506199        0.607728        0.672461   \n",
       "\n",
       "                   3_days_earlier  4_days_earlier  5_days_earlier  \\\n",
       "num_orders               0.654643        0.653825        0.673014   \n",
       "1_hour_earlier           0.454418        0.452795        0.469273   \n",
       "1_days_earlier           0.678410        0.653279        0.652591   \n",
       "2_days_earlier           0.635862        0.679992        0.654973   \n",
       "3_days_earlier           1.000000        0.634504        0.679240   \n",
       "4_days_earlier           0.634504        1.000000        0.633223   \n",
       "5_days_earlier           0.679240        0.633223        1.000000   \n",
       "6_days_earlier           0.654016        0.679280        0.632499   \n",
       "7_days_earlier           0.649253        0.652859        0.679707   \n",
       "7_days_earlier*          0.649253        0.652859        0.679707   \n",
       "7_days_earlier**         0.649253        0.652859        0.679707   \n",
       "7_days_earlier***        0.649253        0.652859        0.679707   \n",
       "\n",
       "                   6_days_earlier  7_days_earlier  7_days_earlier*  \\\n",
       "num_orders               0.608814        0.763716         0.763716   \n",
       "1_hour_earlier           0.426815        0.506199         0.506199   \n",
       "1_days_earlier           0.673309        0.607728         0.607728   \n",
       "2_days_earlier           0.651166        0.672461         0.672461   \n",
       "3_days_earlier           0.654016        0.649253         0.649253   \n",
       "4_days_earlier           0.679280        0.652859         0.652859   \n",
       "5_days_earlier           0.632499        0.679707         0.679707   \n",
       "6_days_earlier           1.000000        0.633158         0.633158   \n",
       "7_days_earlier           0.633158        1.000000         1.000000   \n",
       "7_days_earlier*          0.633158        1.000000         1.000000   \n",
       "7_days_earlier**         0.633158        1.000000         1.000000   \n",
       "7_days_earlier***        0.633158        1.000000         1.000000   \n",
       "\n",
       "                   7_days_earlier**  7_days_earlier***  \n",
       "num_orders                 0.763716           0.763716  \n",
       "1_hour_earlier             0.506199           0.506199  \n",
       "1_days_earlier             0.607728           0.607728  \n",
       "2_days_earlier             0.672461           0.672461  \n",
       "3_days_earlier             0.649253           0.649253  \n",
       "4_days_earlier             0.652859           0.652859  \n",
       "5_days_earlier             0.679707           0.679707  \n",
       "6_days_earlier             0.633158           0.633158  \n",
       "7_days_earlier             1.000000           1.000000  \n",
       "7_days_earlier*            1.000000           1.000000  \n",
       "7_days_earlier**           1.000000           1.000000  \n",
       "7_days_earlier***          1.000000           1.000000  "
      ]
     },
     "execution_count": 19,
     "metadata": {},
     "output_type": "execute_result"
    }
   ],
   "source": [
    "# Features selection and duplication\n",
    "def features_improvement(data):\n",
    "    data = data.drop(['month', 'dayofweek', 'hour'], axis=1)\n",
    "    data['7_days_earlier*'] = data['7_days_earlier']\n",
    "    data['7_days_earlier**'] = data['7_days_earlier']\n",
    "    data['7_days_earlier***'] = data['7_days_earlier']\n",
    "    return data \n",
    "\n",
    "train = features_improvement(train) \n",
    "train.corr()"
   ]
  },
  {
   "cell_type": "markdown",
   "metadata": {},
   "source": [
    "As we can see now in the first column, we have now only features with significant (>0.5) correlation with our target, and with the highest correlated features duplicated a few times. We will see below if this will enable us to recieve RMSE lower than the needed threshold. \n",
    "\n",
    "Now we will define features and target for each dataset, create a function for calculating RMSE, improve the features of the validation set (just like we did for the train set), and define our function for training and evaluating (on the validation set) each model."
   ]
  },
  {
   "cell_type": "code",
   "execution_count": 20,
   "metadata": {},
   "outputs": [],
   "source": [
    "X_train = train.drop(['num_orders'], axis=1)\n",
    "y_train = train['num_orders']\n",
    "X_valid = valid.drop(['num_orders'], axis=1)\n",
    "y_valid = valid['num_orders']\n",
    "X_test = test.drop(['num_orders'], axis=1)\n",
    "y_test = test['num_orders']"
   ]
  },
  {
   "cell_type": "code",
   "execution_count": 21,
   "metadata": {},
   "outputs": [],
   "source": [
    "# Function to calculate RMSE\n",
    "def rmse(true, pred):\n",
    "    return mean_squared_error(true, pred)**0.5"
   ]
  },
  {
   "cell_type": "code",
   "execution_count": 22,
   "metadata": {},
   "outputs": [],
   "source": [
    "# Feature selection and duplication for the validation set\n",
    "X_valid = features_improvement(X_valid) "
   ]
  },
  {
   "cell_type": "code",
   "execution_count": 23,
   "metadata": {},
   "outputs": [],
   "source": [
    "# Function for training, predicting and evaluating each model on the (train and) validation set\n",
    "def train_model(model):\n",
    "    model.fit(X_train, y_train)\n",
    "\n",
    "    pred_train = model.predict(X_train)\n",
    "    pred_valid = model.predict(X_valid)\n",
    "\n",
    "    print(model)\n",
    "    print(\"RMSE train:\", rmse(y_train, pred_train))\n",
    "    print(\"RMSE valid:\", rmse(y_valid, pred_valid))"
   ]
  },
  {
   "cell_type": "markdown",
   "metadata": {},
   "source": [
    "### Linear regression\n",
    "\n",
    "Since linear regression is not very good for hyperparameter tuning, we will use it in it's default form. For the next models we will tune hyperparameters. "
   ]
  },
  {
   "cell_type": "code",
   "execution_count": 24,
   "metadata": {
    "scrolled": false
   },
   "outputs": [
    {
     "name": "stdout",
     "output_type": "stream",
     "text": [
      "LinearRegression()\n",
      "RMSE train: 20.506365237819214\n",
      "RMSE valid: 29.591375221064983\n"
     ]
    }
   ],
   "source": [
    "model = LinearRegression()\n",
    "train_model(model)"
   ]
  },
  {
   "cell_type": "markdown",
   "metadata": {},
   "source": [
    "It is only on the validation set for now - but the RMSE is promissing relative to the threshold. "
   ]
  },
  {
   "cell_type": "markdown",
   "metadata": {},
   "source": [
    "### Random forest regressor "
   ]
  },
  {
   "cell_type": "code",
   "execution_count": 25,
   "metadata": {
    "scrolled": true
   },
   "outputs": [
    {
     "name": "stdout",
     "output_type": "stream",
     "text": [
      "RandomForestRegressor(n_estimators=10)\n",
      "RMSE train: 9.187899809367575\n",
      "RMSE valid: 31.293822328486705\n",
      "\n",
      "RandomForestRegressor(n_estimators=40)\n",
      "RMSE train: 8.099904647909911\n",
      "RMSE valid: 30.737075230634446\n",
      "\n",
      "RandomForestRegressor(n_estimators=70)\n",
      "RMSE train: 7.948171883132363\n",
      "RMSE valid: 30.93500821574914\n",
      "\n",
      "RandomForestRegressor()\n",
      "RMSE train: 7.864651696555896\n",
      "RMSE valid: 30.554926726446027\n",
      "\n",
      "RandomForestRegressor(n_estimators=150)\n",
      "RMSE train: 7.813484081277193\n",
      "RMSE valid: 30.642268710683663\n",
      "\n"
     ]
    }
   ],
   "source": [
    "n_estimators_list = [10, 40, 70, 100, 150]\n",
    "for n in n_estimators_list:\n",
    "    model = RandomForestRegressor(n_estimators=n)\n",
    "    train_model(model)\n",
    "    print()"
   ]
  },
  {
   "cell_type": "markdown",
   "metadata": {},
   "source": [
    "The default value of 100 estimators yielded the best RMSE on the validation set (although with very small differences from other values). It is close (and a little higher) than the one we got with LR. "
   ]
  },
  {
   "cell_type": "markdown",
   "metadata": {},
   "source": [
    "### LightGBM regressor"
   ]
  },
  {
   "cell_type": "code",
   "execution_count": 26,
   "metadata": {
    "scrolled": false
   },
   "outputs": [
    {
     "name": "stdout",
     "output_type": "stream",
     "text": [
      "LGBMRegressor(max_depth=0, n_estimators=10, num_leaves=30)\n",
      "RMSE train: 22.11195988097977\n",
      "RMSE valid: 36.6722687266457\n",
      "\n",
      "LGBMRegressor(max_depth=0, n_estimators=50, num_leaves=30)\n",
      "RMSE train: 15.938093036858664\n",
      "RMSE valid: 30.169386276386312\n",
      "\n",
      "LGBMRegressor(max_depth=0, n_estimators=80, num_leaves=30)\n",
      "RMSE train: 14.59005443265779\n",
      "RMSE valid: 30.179121175155885\n",
      "\n",
      "LGBMRegressor(max_depth=5, n_estimators=10, num_leaves=30)\n",
      "RMSE train: 22.29103810101097\n",
      "RMSE valid: 36.947466215669365\n",
      "\n",
      "LGBMRegressor(max_depth=5, n_estimators=50, num_leaves=30)\n",
      "RMSE train: 17.44913638673031\n",
      "RMSE valid: 30.143767397220913\n",
      "\n",
      "LGBMRegressor(max_depth=5, n_estimators=80, num_leaves=30)\n",
      "RMSE train: 16.75920406535887\n",
      "RMSE valid: 30.057843238312977\n",
      "\n",
      "LGBMRegressor(max_depth=8, n_estimators=10, num_leaves=30)\n",
      "RMSE train: 22.113263970928084\n",
      "RMSE valid: 36.677668409086635\n",
      "\n",
      "LGBMRegressor(max_depth=8, n_estimators=50, num_leaves=30)\n",
      "RMSE train: 16.252545032370598\n",
      "RMSE valid: 30.39422343178216\n",
      "\n",
      "LGBMRegressor(max_depth=8, n_estimators=80, num_leaves=30)\n",
      "RMSE train: 15.41884798568435\n",
      "RMSE valid: 30.338299255584737\n",
      "\n",
      "LGBMRegressor(max_depth=0, n_estimators=10, num_leaves=50)\n",
      "RMSE train: 21.47006089475885\n",
      "RMSE valid: 36.55395180946771\n",
      "\n",
      "LGBMRegressor(max_depth=0, n_estimators=50, num_leaves=50)\n",
      "RMSE train: 14.088436361187057\n",
      "RMSE valid: 30.60112476871958\n",
      "\n",
      "LGBMRegressor(max_depth=0, n_estimators=80, num_leaves=50)\n",
      "RMSE train: 12.293509234644352\n",
      "RMSE valid: 30.987527035253216\n",
      "\n",
      "LGBMRegressor(max_depth=5, n_estimators=10, num_leaves=50)\n",
      "RMSE train: 22.30384706758185\n",
      "RMSE valid: 37.02101971355077\n",
      "\n",
      "LGBMRegressor(max_depth=5, n_estimators=50, num_leaves=50)\n",
      "RMSE train: 17.38714592963012\n",
      "RMSE valid: 30.05787919340464\n",
      "\n",
      "LGBMRegressor(max_depth=5, n_estimators=80, num_leaves=50)\n",
      "RMSE train: 16.73928671877553\n",
      "RMSE valid: 30.127600148062726\n",
      "\n",
      "LGBMRegressor(max_depth=8, n_estimators=10, num_leaves=50)\n",
      "RMSE train: 21.536129248273998\n",
      "RMSE valid: 36.52150784318413\n",
      "\n",
      "LGBMRegressor(max_depth=8, n_estimators=50, num_leaves=50)\n",
      "RMSE train: 15.338619273793643\n",
      "RMSE valid: 30.693731742412695\n",
      "\n",
      "LGBMRegressor(max_depth=8, n_estimators=80, num_leaves=50)\n",
      "RMSE train: 14.427559504510677\n",
      "RMSE valid: 30.8499506850381\n",
      "\n",
      "LGBMRegressor(max_depth=0, n_estimators=10, num_leaves=100)\n",
      "RMSE train: 20.702870597434476\n",
      "RMSE valid: 36.46510972363735\n",
      "\n",
      "LGBMRegressor(max_depth=0, n_estimators=50, num_leaves=100)\n",
      "RMSE train: 11.150435729915865\n",
      "RMSE valid: 30.716289131174566\n",
      "\n",
      "LGBMRegressor(max_depth=0, n_estimators=80, num_leaves=100)\n",
      "RMSE train: 8.657125869260799\n",
      "RMSE valid: 31.00692645286957\n",
      "\n",
      "LGBMRegressor(max_depth=5, n_estimators=10, num_leaves=100)\n",
      "RMSE train: 22.30384706758185\n",
      "RMSE valid: 37.02101971355077\n",
      "\n",
      "LGBMRegressor(max_depth=5, n_estimators=50, num_leaves=100)\n",
      "RMSE train: 17.38714592963012\n",
      "RMSE valid: 30.05787919340464\n",
      "\n",
      "LGBMRegressor(max_depth=5, n_estimators=80, num_leaves=100)\n",
      "RMSE train: 16.73928671877553\n",
      "RMSE valid: 30.127600148062726\n",
      "\n",
      "LGBMRegressor(max_depth=8, n_estimators=10, num_leaves=100)\n",
      "RMSE train: 20.978219104127003\n",
      "RMSE valid: 36.6978566721395\n",
      "\n",
      "LGBMRegressor(max_depth=8, n_estimators=50, num_leaves=100)\n",
      "RMSE train: 14.551107322332458\n",
      "RMSE valid: 30.831008459281044\n",
      "\n",
      "LGBMRegressor(max_depth=8, n_estimators=80, num_leaves=100)\n",
      "RMSE train: 13.815100709397033\n",
      "RMSE valid: 30.792969685290565\n",
      "\n"
     ]
    }
   ],
   "source": [
    "import lightgbm as lgbm\n",
    "# print('On validation set:')\n",
    "num_leaves_list = [30, 50, 100]\n",
    "max_depth_list = [0, 5, 8]\n",
    "n_estimators_list = [10, 50, 80]\n",
    "for n in num_leaves_list:\n",
    "    for m in max_depth_list:\n",
    "        for e in n_estimators_list:\n",
    "            model = lgbm.LGBMRegressor(num_leaves=n, max_depth=m, n_estimators=e)\n",
    "            train_model(model)\n",
    "            print()"
   ]
  },
  {
   "cell_type": "markdown",
   "metadata": {},
   "source": [
    "The best RMSE on the validation set here was between the LR and the RFR, and a few hyperparameters combinations were very close in results. We will choose the one that got the lowest RMSE on validation set: LGBMRegressor(max_depth=5, n_estimators=80, num_leaves=30). "
   ]
  },
  {
   "cell_type": "markdown",
   "metadata": {},
   "source": [
    "## Testing"
   ]
  },
  {
   "cell_type": "markdown",
   "metadata": {},
   "source": [
    "Since we have a clear threshold of RMSE (not more than 48) - we don't need a dummy model as a baseline.\n",
    "\n",
    "Before testing each best (of it's kind, after hyperparameters tuning) model on the test set - we will train each one more time on the whole train+valid sets, so we will first prepare the train_valid set (and also apply the feature selection and duplicaion on the test set).  "
   ]
  },
  {
   "cell_type": "code",
   "execution_count": 27,
   "metadata": {},
   "outputs": [],
   "source": [
    "# Preparing train_valid set, and feature selection and duplication for it and for the test set\n",
    "X_train_valid = train_valid.drop(['num_orders'], axis=1)\n",
    "y_train_valid = train_valid['num_orders']\n",
    "\n",
    "X_train_valid = features_improvement(X_train_valid)\n",
    "X_test = features_improvement(X_test) "
   ]
  },
  {
   "cell_type": "code",
   "execution_count": 28,
   "metadata": {},
   "outputs": [],
   "source": [
    "# Function for last training (on train+valid) and testing each model on the (train_valid and) test set\n",
    "def train_test_model(model):\n",
    "    model.fit(X_train_valid, y_train_valid)\n",
    "\n",
    "    pred_train_valid = model.predict(X_train_valid)\n",
    "    pred_test = model.predict(X_test)\n",
    "\n",
    "    print(model)\n",
    "    print(\"RMSE train_valid:\", rmse(y_train_valid, pred_train_valid))\n",
    "    print(\"RMSE test:\", rmse(y_test, pred_test))"
   ]
  },
  {
   "cell_type": "markdown",
   "metadata": {},
   "source": [
    "### Linear regression"
   ]
  },
  {
   "cell_type": "code",
   "execution_count": 29,
   "metadata": {},
   "outputs": [
    {
     "name": "stdout",
     "output_type": "stream",
     "text": [
      "LinearRegression()\n",
      "RMSE train_valid: 21.58162382952192\n",
      "RMSE test: 34.83113499621637\n"
     ]
    }
   ],
   "source": [
    "model = LinearRegression()\n",
    "train_test_model(model)"
   ]
  },
  {
   "cell_type": "markdown",
   "metadata": {},
   "source": [
    "### Random forest regressor"
   ]
  },
  {
   "cell_type": "code",
   "execution_count": 30,
   "metadata": {},
   "outputs": [
    {
     "name": "stdout",
     "output_type": "stream",
     "text": [
      "RandomForestRegressor()\n",
      "RMSE train_valid: 8.461127005703435\n",
      "RMSE test: 41.52294506726159\n"
     ]
    }
   ],
   "source": [
    "model = RandomForestRegressor()\n",
    "train_test_model(model)"
   ]
  },
  {
   "cell_type": "markdown",
   "metadata": {},
   "source": [
    "### LightGBM regressor"
   ]
  },
  {
   "cell_type": "code",
   "execution_count": 31,
   "metadata": {},
   "outputs": [
    {
     "name": "stdout",
     "output_type": "stream",
     "text": [
      "LGBMRegressor(max_depth=5, n_estimators=80, num_leaves=30)\n",
      "RMSE train_valid: 18.182449979270647\n",
      "RMSE test: 39.46758845404724\n"
     ]
    }
   ],
   "source": [
    "model = lgbm.LGBMRegressor(max_depth=5, n_estimators=80, num_leaves=30) \n",
    "train_test_model(model)"
   ]
  },
  {
   "cell_type": "markdown",
   "metadata": {},
   "source": [
    "## Conclusion\n",
    "\n",
    "Our chosen model is the linear regression, that yielded RMSE of 34.83, less than 3/4 of the needed threshold of 48.   "
   ]
  }
 ],
 "metadata": {
  "ExecuteTimeLog": [
   {
    "duration": 1629,
    "start_time": "2022-05-23T14:33:12.202Z"
   },
   {
    "duration": 152,
    "start_time": "2022-05-23T14:33:16.290Z"
   },
   {
    "duration": 15,
    "start_time": "2022-05-23T14:33:18.761Z"
   },
   {
    "duration": 12,
    "start_time": "2022-05-23T14:35:00.352Z"
   },
   {
    "duration": 62,
    "start_time": "2022-05-23T14:43:08.070Z"
   },
   {
    "duration": 4,
    "start_time": "2022-05-23T14:44:19.695Z"
   },
   {
    "duration": 15,
    "start_time": "2022-05-23T14:46:55.544Z"
   },
   {
    "duration": 9,
    "start_time": "2022-05-23T14:47:34.144Z"
   },
   {
    "duration": 5,
    "start_time": "2022-05-23T14:49:39.520Z"
   },
   {
    "duration": 136,
    "start_time": "2022-05-23T14:49:47.842Z"
   },
   {
    "duration": 13,
    "start_time": "2022-05-23T14:51:39.059Z"
   },
   {
    "duration": 9,
    "start_time": "2022-05-23T15:04:28.824Z"
   },
   {
    "duration": 1192,
    "start_time": "2022-05-23T15:05:35.092Z"
   },
   {
    "duration": 49,
    "start_time": "2022-05-23T15:05:36.287Z"
   },
   {
    "duration": 18,
    "start_time": "2022-05-23T15:05:36.338Z"
   },
   {
    "duration": 40,
    "start_time": "2022-05-23T15:05:36.357Z"
   },
   {
    "duration": 58,
    "start_time": "2022-05-23T15:05:36.399Z"
   },
   {
    "duration": 5,
    "start_time": "2022-05-23T15:05:36.459Z"
   },
   {
    "duration": 14,
    "start_time": "2022-05-23T15:11:15.563Z"
   },
   {
    "duration": 1208,
    "start_time": "2022-05-23T17:49:29.746Z"
   },
   {
    "duration": 583,
    "start_time": "2022-05-23T17:53:47.989Z"
   },
   {
    "duration": 379,
    "start_time": "2022-05-23T17:57:50.748Z"
   },
   {
    "duration": 428,
    "start_time": "2022-05-23T18:15:59.569Z"
   },
   {
    "duration": 397,
    "start_time": "2022-05-23T18:18:04.090Z"
   },
   {
    "duration": 653,
    "start_time": "2022-05-23T18:18:26.720Z"
   },
   {
    "duration": 69,
    "start_time": "2022-05-24T03:06:05.306Z"
   },
   {
    "duration": 2311,
    "start_time": "2022-05-24T03:06:10.703Z"
   },
   {
    "duration": 136,
    "start_time": "2022-05-24T03:06:13.016Z"
   },
   {
    "duration": 12,
    "start_time": "2022-05-24T03:06:13.154Z"
   },
   {
    "duration": 16,
    "start_time": "2022-05-24T03:06:13.168Z"
   },
   {
    "duration": 35,
    "start_time": "2022-05-24T03:06:13.185Z"
   },
   {
    "duration": 4,
    "start_time": "2022-05-24T03:06:13.222Z"
   },
   {
    "duration": 48,
    "start_time": "2022-05-24T03:06:13.228Z"
   },
   {
    "duration": 232,
    "start_time": "2022-05-24T03:06:23.940Z"
   },
   {
    "duration": 696,
    "start_time": "2022-05-24T03:18:34.546Z"
   },
   {
    "duration": 247,
    "start_time": "2022-05-24T03:20:14.774Z"
   },
   {
    "duration": 308,
    "start_time": "2022-05-24T03:20:45.215Z"
   },
   {
    "duration": 233,
    "start_time": "2022-05-24T03:21:04.920Z"
   },
   {
    "duration": 1131,
    "start_time": "2022-05-24T04:00:20.948Z"
   },
   {
    "duration": 746,
    "start_time": "2022-05-24T04:47:23.815Z"
   },
   {
    "duration": 12,
    "start_time": "2022-05-24T04:51:09.932Z"
   },
   {
    "duration": 551,
    "start_time": "2022-05-24T05:02:18.225Z"
   },
   {
    "duration": 304,
    "start_time": "2022-05-24T05:09:31.900Z"
   },
   {
    "duration": 236,
    "start_time": "2022-05-24T05:09:51.536Z"
   },
   {
    "duration": 260,
    "start_time": "2022-05-24T05:10:06.524Z"
   },
   {
    "duration": 4,
    "start_time": "2022-05-24T05:17:30.526Z"
   },
   {
    "duration": 50,
    "start_time": "2022-05-24T05:17:30.532Z"
   },
   {
    "duration": 10,
    "start_time": "2022-05-24T05:17:30.583Z"
   },
   {
    "duration": 22,
    "start_time": "2022-05-24T05:17:30.594Z"
   },
   {
    "duration": 47,
    "start_time": "2022-05-24T05:17:30.618Z"
   },
   {
    "duration": 3,
    "start_time": "2022-05-24T05:17:30.667Z"
   },
   {
    "duration": 28,
    "start_time": "2022-05-24T05:17:30.672Z"
   },
   {
    "duration": 10,
    "start_time": "2022-05-24T05:17:30.701Z"
   },
   {
    "duration": 214,
    "start_time": "2022-05-24T05:17:30.713Z"
   },
   {
    "duration": 532,
    "start_time": "2022-05-24T05:17:30.929Z"
   },
   {
    "duration": 232,
    "start_time": "2022-05-24T05:17:31.463Z"
   },
   {
    "duration": 550,
    "start_time": "2022-05-24T05:17:53.903Z"
   },
   {
    "duration": 17,
    "start_time": "2022-05-24T07:29:10.478Z"
   },
   {
    "duration": 42,
    "start_time": "2022-05-24T07:29:10.498Z"
   },
   {
    "duration": 9,
    "start_time": "2022-05-24T07:29:10.542Z"
   },
   {
    "duration": 17,
    "start_time": "2022-05-24T07:29:10.554Z"
   },
   {
    "duration": 34,
    "start_time": "2022-05-24T07:29:10.572Z"
   },
   {
    "duration": 20,
    "start_time": "2022-05-24T07:29:10.608Z"
   },
   {
    "duration": 16,
    "start_time": "2022-05-24T07:29:10.630Z"
   },
   {
    "duration": 11,
    "start_time": "2022-05-24T07:29:10.649Z"
   },
   {
    "duration": 224,
    "start_time": "2022-05-24T07:29:10.661Z"
   },
   {
    "duration": 695,
    "start_time": "2022-05-24T07:29:10.887Z"
   },
   {
    "duration": 248,
    "start_time": "2022-05-24T07:29:11.584Z"
   },
   {
    "duration": 13,
    "start_time": "2022-05-24T07:29:37.970Z"
   },
   {
    "duration": 23,
    "start_time": "2022-05-24T07:30:47.332Z"
   },
   {
    "duration": 8,
    "start_time": "2022-05-24T07:34:00.785Z"
   },
   {
    "duration": 21,
    "start_time": "2022-05-24T07:34:07.691Z"
   },
   {
    "duration": 8,
    "start_time": "2022-05-24T07:37:26.274Z"
   },
   {
    "duration": 6,
    "start_time": "2022-05-24T07:37:28.902Z"
   },
   {
    "duration": 3,
    "start_time": "2022-05-24T07:37:32.382Z"
   },
   {
    "duration": 17,
    "start_time": "2022-05-24T07:37:39.368Z"
   },
   {
    "duration": 79,
    "start_time": "2022-05-24T07:37:51.049Z"
   },
   {
    "duration": 46,
    "start_time": "2022-05-24T07:38:04.035Z"
   },
   {
    "duration": 28,
    "start_time": "2022-05-24T07:38:10.936Z"
   },
   {
    "duration": 61,
    "start_time": "2022-05-24T07:38:17.067Z"
   },
   {
    "duration": 104,
    "start_time": "2022-05-24T07:38:25.371Z"
   },
   {
    "duration": 176,
    "start_time": "2022-05-24T07:39:35.548Z"
   },
   {
    "duration": 80,
    "start_time": "2022-05-24T07:39:55.795Z"
   },
   {
    "duration": 5,
    "start_time": "2022-05-24T07:48:24.585Z"
   },
   {
    "duration": 203,
    "start_time": "2022-05-24T07:48:32.527Z"
   },
   {
    "duration": 87,
    "start_time": "2022-05-24T07:48:51.186Z"
   },
   {
    "duration": 18,
    "start_time": "2022-05-24T07:52:58.741Z"
   },
   {
    "duration": 17,
    "start_time": "2022-05-24T07:56:34.419Z"
   },
   {
    "duration": 24,
    "start_time": "2022-05-24T08:29:55.158Z"
   },
   {
    "duration": 9,
    "start_time": "2022-05-24T08:30:27.822Z"
   },
   {
    "duration": 1309,
    "start_time": "2022-05-24T08:58:27.433Z"
   },
   {
    "duration": 43,
    "start_time": "2022-05-24T08:58:28.744Z"
   },
   {
    "duration": 16,
    "start_time": "2022-05-24T08:58:28.788Z"
   },
   {
    "duration": 16,
    "start_time": "2022-05-24T08:58:28.807Z"
   },
   {
    "duration": 41,
    "start_time": "2022-05-24T08:58:28.826Z"
   },
   {
    "duration": 4,
    "start_time": "2022-05-24T08:58:28.869Z"
   },
   {
    "duration": 20,
    "start_time": "2022-05-24T08:58:28.875Z"
   },
   {
    "duration": 37,
    "start_time": "2022-05-24T08:58:28.897Z"
   },
   {
    "duration": 330,
    "start_time": "2022-05-24T08:58:28.936Z"
   },
   {
    "duration": 632,
    "start_time": "2022-05-24T08:58:29.269Z"
   },
   {
    "duration": 295,
    "start_time": "2022-05-24T08:58:29.903Z"
   },
   {
    "duration": 27,
    "start_time": "2022-05-24T08:58:30.200Z"
   },
   {
    "duration": 35,
    "start_time": "2022-05-24T08:58:30.229Z"
   },
   {
    "duration": 6,
    "start_time": "2022-05-24T08:58:30.266Z"
   },
   {
    "duration": 53,
    "start_time": "2022-05-24T08:58:30.274Z"
   },
   {
    "duration": 143,
    "start_time": "2022-05-24T09:01:49.028Z"
   },
   {
    "duration": 26,
    "start_time": "2022-05-24T09:02:12.690Z"
   },
   {
    "duration": 15,
    "start_time": "2022-05-24T09:02:32.501Z"
   },
   {
    "duration": 1320,
    "start_time": "2022-05-24T09:03:04.615Z"
   },
   {
    "duration": 43,
    "start_time": "2022-05-24T09:03:05.936Z"
   },
   {
    "duration": 12,
    "start_time": "2022-05-24T09:03:05.981Z"
   },
   {
    "duration": 21,
    "start_time": "2022-05-24T09:03:05.995Z"
   },
   {
    "duration": 41,
    "start_time": "2022-05-24T09:03:06.017Z"
   },
   {
    "duration": 3,
    "start_time": "2022-05-24T09:03:06.060Z"
   },
   {
    "duration": 19,
    "start_time": "2022-05-24T09:03:06.065Z"
   },
   {
    "duration": 12,
    "start_time": "2022-05-24T09:03:06.085Z"
   },
   {
    "duration": 394,
    "start_time": "2022-05-24T09:03:06.098Z"
   },
   {
    "duration": 569,
    "start_time": "2022-05-24T09:03:06.495Z"
   },
   {
    "duration": 237,
    "start_time": "2022-05-24T09:03:07.066Z"
   },
   {
    "duration": 35,
    "start_time": "2022-05-24T09:03:07.305Z"
   },
   {
    "duration": 24,
    "start_time": "2022-05-24T09:03:07.341Z"
   },
   {
    "duration": 5,
    "start_time": "2022-05-24T09:03:07.367Z"
   },
   {
    "duration": 21,
    "start_time": "2022-05-24T09:03:07.374Z"
   },
   {
    "duration": 43,
    "start_time": "2022-05-24T09:03:07.396Z"
   },
   {
    "duration": 1333,
    "start_time": "2022-05-24T09:13:33.867Z"
   },
   {
    "duration": 42,
    "start_time": "2022-05-24T09:13:35.202Z"
   },
   {
    "duration": 14,
    "start_time": "2022-05-24T09:13:35.246Z"
   },
   {
    "duration": 11,
    "start_time": "2022-05-24T09:13:35.262Z"
   },
   {
    "duration": 32,
    "start_time": "2022-05-24T09:13:35.275Z"
   },
   {
    "duration": 22,
    "start_time": "2022-05-24T09:13:35.308Z"
   },
   {
    "duration": 31,
    "start_time": "2022-05-24T09:13:35.333Z"
   },
   {
    "duration": 19,
    "start_time": "2022-05-24T09:13:35.366Z"
   },
   {
    "duration": 316,
    "start_time": "2022-05-24T09:13:35.387Z"
   },
   {
    "duration": 565,
    "start_time": "2022-05-24T09:13:35.704Z"
   },
   {
    "duration": 331,
    "start_time": "2022-05-24T09:13:36.271Z"
   },
   {
    "duration": 26,
    "start_time": "2022-05-24T09:13:36.603Z"
   },
   {
    "duration": 23,
    "start_time": "2022-05-24T09:13:36.630Z"
   },
   {
    "duration": 5,
    "start_time": "2022-05-24T09:13:36.656Z"
   },
   {
    "duration": 20,
    "start_time": "2022-05-24T09:13:36.662Z"
   },
   {
    "duration": 46,
    "start_time": "2022-05-24T09:13:36.683Z"
   },
   {
    "duration": 6,
    "start_time": "2022-05-24T09:13:36.731Z"
   },
   {
    "duration": 42,
    "start_time": "2022-05-24T09:13:36.738Z"
   },
   {
    "duration": 147,
    "start_time": "2022-05-24T09:13:36.782Z"
   },
   {
    "duration": 126,
    "start_time": "2022-05-24T09:13:36.935Z"
   },
   {
    "duration": 17,
    "start_time": "2022-05-24T09:13:37.063Z"
   },
   {
    "duration": 5,
    "start_time": "2022-05-24T09:13:37.082Z"
   },
   {
    "duration": 146,
    "start_time": "2022-05-24T09:13:37.088Z"
   },
   {
    "duration": 240,
    "start_time": "2022-05-24T09:13:37.236Z"
   },
   {
    "duration": 1296,
    "start_time": "2022-05-24T09:14:08.323Z"
   },
   {
    "duration": 42,
    "start_time": "2022-05-24T09:14:09.620Z"
   },
   {
    "duration": 12,
    "start_time": "2022-05-24T09:14:09.664Z"
   },
   {
    "duration": 15,
    "start_time": "2022-05-24T09:14:09.678Z"
   },
   {
    "duration": 39,
    "start_time": "2022-05-24T09:14:09.695Z"
   },
   {
    "duration": 5,
    "start_time": "2022-05-24T09:14:09.735Z"
   },
   {
    "duration": 16,
    "start_time": "2022-05-24T09:14:09.741Z"
   },
   {
    "duration": 11,
    "start_time": "2022-05-24T09:14:09.759Z"
   },
   {
    "duration": 342,
    "start_time": "2022-05-24T09:14:09.771Z"
   },
   {
    "duration": 582,
    "start_time": "2022-05-24T09:14:10.115Z"
   },
   {
    "duration": 316,
    "start_time": "2022-05-24T09:14:10.699Z"
   },
   {
    "duration": 18,
    "start_time": "2022-05-24T09:14:11.018Z"
   },
   {
    "duration": 26,
    "start_time": "2022-05-24T09:14:11.039Z"
   },
   {
    "duration": 6,
    "start_time": "2022-05-24T09:14:11.067Z"
   },
   {
    "duration": 22,
    "start_time": "2022-05-24T09:14:11.074Z"
   },
   {
    "duration": 47,
    "start_time": "2022-05-24T09:14:11.098Z"
   },
   {
    "duration": 21,
    "start_time": "2022-05-24T09:16:19.154Z"
   },
   {
    "duration": 24,
    "start_time": "2022-05-24T09:17:24.815Z"
   },
   {
    "duration": 6,
    "start_time": "2022-05-24T09:19:50.198Z"
   },
   {
    "duration": 3,
    "start_time": "2022-05-24T09:19:57.120Z"
   },
   {
    "duration": 6,
    "start_time": "2022-05-24T09:22:38.244Z"
   },
   {
    "duration": 18,
    "start_time": "2022-05-24T09:22:54.065Z"
   },
   {
    "duration": 79,
    "start_time": "2022-05-24T09:23:07.955Z"
   },
   {
    "duration": 22,
    "start_time": "2022-05-24T09:23:58.367Z"
   },
   {
    "duration": 175,
    "start_time": "2022-05-24T09:27:34.351Z"
   },
   {
    "duration": 903,
    "start_time": "2022-05-24T09:27:43.279Z"
   },
   {
    "duration": 11,
    "start_time": "2022-05-24T09:27:57.681Z"
   },
   {
    "duration": 1745,
    "start_time": "2022-05-24T09:31:21.507Z"
   },
   {
    "duration": 162,
    "start_time": "2022-05-24T09:31:37.414Z"
   },
   {
    "duration": 732,
    "start_time": "2022-05-24T09:32:52.960Z"
   },
   {
    "duration": 453,
    "start_time": "2022-05-24T09:33:03.862Z"
   },
   {
    "duration": 1272,
    "start_time": "2022-05-24T09:33:11.480Z"
   },
   {
    "duration": 988,
    "start_time": "2022-05-24T09:33:28.505Z"
   },
   {
    "duration": 78,
    "start_time": "2022-05-24T09:35:09.908Z"
   },
   {
    "duration": 9,
    "start_time": "2022-05-24T09:56:42.808Z"
   },
   {
    "duration": 3,
    "start_time": "2022-05-24T09:56:52.195Z"
   },
   {
    "duration": 15,
    "start_time": "2022-05-24T09:56:55.212Z"
   },
   {
    "duration": 2252,
    "start_time": "2022-05-24T09:59:13.496Z"
   },
   {
    "duration": 4129,
    "start_time": "2022-05-24T09:59:44.399Z"
   },
   {
    "duration": 6372,
    "start_time": "2022-05-24T10:00:41.575Z"
   },
   {
    "duration": 17831,
    "start_time": "2022-05-24T10:03:36.604Z"
   },
   {
    "duration": 366,
    "start_time": "2022-05-24T10:19:32.768Z"
   },
   {
    "duration": 368,
    "start_time": "2022-05-24T10:19:52.036Z"
   },
   {
    "duration": 1306,
    "start_time": "2022-05-24T10:22:51.333Z"
   },
   {
    "duration": 43,
    "start_time": "2022-05-24T10:23:00.206Z"
   },
   {
    "duration": 14,
    "start_time": "2022-05-24T10:23:02.186Z"
   },
   {
    "duration": 12,
    "start_time": "2022-05-24T10:23:10.459Z"
   },
   {
    "duration": 55,
    "start_time": "2022-05-24T10:23:18.411Z"
   },
   {
    "duration": 4,
    "start_time": "2022-05-24T10:23:28.981Z"
   },
   {
    "duration": 15,
    "start_time": "2022-05-24T10:23:31.011Z"
   },
   {
    "duration": 12,
    "start_time": "2022-05-24T10:23:40.021Z"
   },
   {
    "duration": 436,
    "start_time": "2022-05-24T10:23:47.983Z"
   },
   {
    "duration": 226,
    "start_time": "2022-05-24T10:24:22.728Z"
   },
   {
    "duration": 325,
    "start_time": "2022-05-24T10:38:44.380Z"
   },
   {
    "duration": 249,
    "start_time": "2022-05-24T10:41:34.354Z"
   },
   {
    "duration": 1002,
    "start_time": "2022-05-24T10:46:46.552Z"
   },
   {
    "duration": 392,
    "start_time": "2022-05-24T11:05:14.057Z"
   },
   {
    "duration": 12,
    "start_time": "2022-05-24T12:34:51.252Z"
   },
   {
    "duration": 28,
    "start_time": "2022-05-24T12:35:37.926Z"
   },
   {
    "duration": 8,
    "start_time": "2022-05-24T12:37:42.425Z"
   },
   {
    "duration": 21,
    "start_time": "2022-05-24T12:39:21.586Z"
   },
   {
    "duration": 122,
    "start_time": "2022-05-24T12:48:26.862Z"
   },
   {
    "duration": 6,
    "start_time": "2022-05-24T13:00:17.410Z"
   },
   {
    "duration": 3,
    "start_time": "2022-05-24T13:00:37.720Z"
   },
   {
    "duration": 8,
    "start_time": "2022-05-24T13:05:11.092Z"
   },
   {
    "duration": 4,
    "start_time": "2022-05-24T13:05:59.551Z"
   },
   {
    "duration": 26,
    "start_time": "2022-05-24T13:06:36.209Z"
   },
   {
    "duration": 6836,
    "start_time": "2022-05-24T13:10:59.928Z"
   },
   {
    "duration": 19199,
    "start_time": "2022-05-24T13:15:43.038Z"
   },
   {
    "duration": 16,
    "start_time": "2022-05-24T13:30:44.937Z"
   },
   {
    "duration": 4,
    "start_time": "2022-05-24T13:37:09.445Z"
   },
   {
    "duration": 62,
    "start_time": "2022-05-24T13:46:06.866Z"
   },
   {
    "duration": 2029,
    "start_time": "2022-05-24T13:46:49.532Z"
   },
   {
    "duration": 45626,
    "start_time": "2022-05-24T13:47:23.506Z"
   }
  ],
  "kernelspec": {
   "display_name": "Python 3 (ipykernel)",
   "language": "python",
   "name": "python3"
  },
  "language_info": {
   "codemirror_mode": {
    "name": "ipython",
    "version": 3
   },
   "file_extension": ".py",
   "mimetype": "text/x-python",
   "name": "python",
   "nbconvert_exporter": "python",
   "pygments_lexer": "ipython3",
   "version": "3.9.5"
  },
  "toc": {
   "base_numbering": 1,
   "nav_menu": {},
   "number_sections": true,
   "sideBar": true,
   "skip_h1_title": true,
   "title_cell": "Table of Contents",
   "title_sidebar": "Contents",
   "toc_cell": false,
   "toc_position": {},
   "toc_section_display": true,
   "toc_window_display": false
  }
 },
 "nbformat": 4,
 "nbformat_minor": 2
}
